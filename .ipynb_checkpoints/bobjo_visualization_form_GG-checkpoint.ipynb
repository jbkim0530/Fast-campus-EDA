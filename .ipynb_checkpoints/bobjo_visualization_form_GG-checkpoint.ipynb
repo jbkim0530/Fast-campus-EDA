{
 "cells": [
  {
   "cell_type": "code",
   "execution_count": 11,
   "id": "1478fe0d",
   "metadata": {
    "ExecuteTime": {
     "end_time": "2022-06-30T05:09:53.150505Z",
     "start_time": "2022-06-30T05:09:53.138628Z"
    }
   },
   "outputs": [],
   "source": [
    "import numpy as np\n",
    "import pandas as pd\n",
    "import matplotlib.pyplot as plt\n",
    "import seaborn as sns"
   ]
  },
  {
   "cell_type": "code",
   "execution_count": 12,
   "id": "12d8fbcc",
   "metadata": {
    "ExecuteTime": {
     "end_time": "2022-06-30T05:09:54.637414Z",
     "start_time": "2022-06-30T05:09:54.240388Z"
    }
   },
   "outputs": [
    {
     "data": {
      "text/html": [
       "<div>\n",
       "<style scoped>\n",
       "    .dataframe tbody tr th:only-of-type {\n",
       "        vertical-align: middle;\n",
       "    }\n",
       "\n",
       "    .dataframe tbody tr th {\n",
       "        vertical-align: top;\n",
       "    }\n",
       "\n",
       "    .dataframe thead th {\n",
       "        text-align: right;\n",
       "    }\n",
       "</style>\n",
       "<table border=\"1\" class=\"dataframe\">\n",
       "  <thead>\n",
       "    <tr style=\"text-align: right;\">\n",
       "      <th></th>\n",
       "      <th>Unnamed: 0</th>\n",
       "      <th>id</th>\n",
       "      <th>customer_id</th>\n",
       "      <th>course_id</th>\n",
       "      <th>type</th>\n",
       "      <th>state</th>\n",
       "      <th>course_title</th>\n",
       "      <th>category_title</th>\n",
       "      <th>format</th>\n",
       "      <th>completed_at</th>\n",
       "      <th>transaction_amount</th>\n",
       "      <th>coupon_title</th>\n",
       "      <th>coupon_discount_amount</th>\n",
       "      <th>sale_price</th>\n",
       "      <th>pg</th>\n",
       "      <th>method</th>\n",
       "      <th>subcategory_title</th>\n",
       "      <th>marketing_start_at</th>\n",
       "    </tr>\n",
       "  </thead>\n",
       "  <tbody>\n",
       "    <tr>\n",
       "      <th>0</th>\n",
       "      <td>0</td>\n",
       "      <td>970634</td>\n",
       "      <td>504760</td>\n",
       "      <td>201435</td>\n",
       "      <td>ORDER</td>\n",
       "      <td>CANCELLED</td>\n",
       "      <td>올인원 패키지 : 알고리즘 기술면접 완전 정복</td>\n",
       "      <td>프로그래밍</td>\n",
       "      <td>올인원</td>\n",
       "      <td>2021-03-28 15:00:11</td>\n",
       "      <td>90500</td>\n",
       "      <td>미적용</td>\n",
       "      <td>0</td>\n",
       "      <td>110500</td>\n",
       "      <td>COMM</td>\n",
       "      <td>VBANK</td>\n",
       "      <td>개발자 커리어</td>\n",
       "      <td>2018-11-11 00:00:00</td>\n",
       "    </tr>\n",
       "    <tr>\n",
       "      <th>1</th>\n",
       "      <td>1</td>\n",
       "      <td>970650</td>\n",
       "      <td>432862</td>\n",
       "      <td>203178</td>\n",
       "      <td>ORDER</td>\n",
       "      <td>CANCELLED</td>\n",
       "      <td>초격차 패키지 : 한번에 끝내는 영상 촬영과 편집</td>\n",
       "      <td>영상/3D</td>\n",
       "      <td>올인원</td>\n",
       "      <td>2021-03-28 15:16:53</td>\n",
       "      <td>96000</td>\n",
       "      <td>미적용</td>\n",
       "      <td>0</td>\n",
       "      <td>116000</td>\n",
       "      <td>COMM</td>\n",
       "      <td>CARD</td>\n",
       "      <td>영상 편집</td>\n",
       "      <td>2020-12-02 00:00:00</td>\n",
       "    </tr>\n",
       "    <tr>\n",
       "      <th>2</th>\n",
       "      <td>2</td>\n",
       "      <td>970657</td>\n",
       "      <td>72297</td>\n",
       "      <td>204246</td>\n",
       "      <td>PAYMENT</td>\n",
       "      <td>COMPLETED</td>\n",
       "      <td>시크릿코드 : 프론트엔드 실무 완성편</td>\n",
       "      <td>프로그래밍</td>\n",
       "      <td>스쿨 온라인</td>\n",
       "      <td>2021-03-28 15:21:43</td>\n",
       "      <td>171810</td>\n",
       "      <td>[10% 할인] 시크릿코드 실무 완성편</td>\n",
       "      <td>19090</td>\n",
       "      <td>190900</td>\n",
       "      <td>COMM</td>\n",
       "      <td>CARD</td>\n",
       "      <td>프로그래밍</td>\n",
       "      <td>2021-03-04 00:00:00</td>\n",
       "    </tr>\n",
       "    <tr>\n",
       "      <th>3</th>\n",
       "      <td>3</td>\n",
       "      <td>970656</td>\n",
       "      <td>72297</td>\n",
       "      <td>204246</td>\n",
       "      <td>ORDER</td>\n",
       "      <td>CANCELLED</td>\n",
       "      <td>시크릿코드 : 프론트엔드 실무 완성편</td>\n",
       "      <td>프로그래밍</td>\n",
       "      <td>스쿨 온라인</td>\n",
       "      <td>2021-03-28 15:21:43</td>\n",
       "      <td>171810</td>\n",
       "      <td>미적용</td>\n",
       "      <td>0</td>\n",
       "      <td>190900</td>\n",
       "      <td>COMM</td>\n",
       "      <td>CARD</td>\n",
       "      <td>프로그래밍</td>\n",
       "      <td>2021-03-04 00:00:00</td>\n",
       "    </tr>\n",
       "    <tr>\n",
       "      <th>4</th>\n",
       "      <td>4</td>\n",
       "      <td>970658</td>\n",
       "      <td>478028</td>\n",
       "      <td>201797</td>\n",
       "      <td>PAYMENT</td>\n",
       "      <td>COMPLETED</td>\n",
       "      <td>올인원 패키지 : 직장인 필수 스킬 3종 세트 MAX</td>\n",
       "      <td>업무 생산성</td>\n",
       "      <td>올인원</td>\n",
       "      <td>2021-03-28 15:21:54</td>\n",
       "      <td>97500</td>\n",
       "      <td>[웰컴쿠폰] 올인원 패키지 2만원 할인 쿠폰</td>\n",
       "      <td>20000</td>\n",
       "      <td>117500</td>\n",
       "      <td>COMM</td>\n",
       "      <td>CARD</td>\n",
       "      <td>PPT/보고서</td>\n",
       "      <td>2019-11-14 00:00:00</td>\n",
       "    </tr>\n",
       "    <tr>\n",
       "      <th>...</th>\n",
       "      <td>...</td>\n",
       "      <td>...</td>\n",
       "      <td>...</td>\n",
       "      <td>...</td>\n",
       "      <td>...</td>\n",
       "      <td>...</td>\n",
       "      <td>...</td>\n",
       "      <td>...</td>\n",
       "      <td>...</td>\n",
       "      <td>...</td>\n",
       "      <td>...</td>\n",
       "      <td>...</td>\n",
       "      <td>...</td>\n",
       "      <td>...</td>\n",
       "      <td>...</td>\n",
       "      <td>...</td>\n",
       "      <td>...</td>\n",
       "      <td>...</td>\n",
       "    </tr>\n",
       "    <tr>\n",
       "      <th>101097</th>\n",
       "      <td>101813</td>\n",
       "      <td>1364995</td>\n",
       "      <td>640697</td>\n",
       "      <td>205365</td>\n",
       "      <td>PAYMENT</td>\n",
       "      <td>CANCELLED</td>\n",
       "      <td>초격차 패키지 : 한 번에 끝내는 유튜브 크리에이터 되기</td>\n",
       "      <td>영상/3D</td>\n",
       "      <td>올인원</td>\n",
       "      <td>2021-09-25 14:10:42</td>\n",
       "      <td>96000</td>\n",
       "      <td>[WELCOME] 온라인 강의 2만원 할인쿠폰</td>\n",
       "      <td>20000</td>\n",
       "      <td>116000</td>\n",
       "      <td>INICIS</td>\n",
       "      <td>TRANS</td>\n",
       "      <td>영상 편집</td>\n",
       "      <td>2021-06-15 00:00:00</td>\n",
       "    </tr>\n",
       "    <tr>\n",
       "      <th>101098</th>\n",
       "      <td>101814</td>\n",
       "      <td>1364998</td>\n",
       "      <td>670896</td>\n",
       "      <td>204159</td>\n",
       "      <td>PAYMENT</td>\n",
       "      <td>CANCELLED</td>\n",
       "      <td>부동산 디벨로퍼 아카데미 : 인허가</td>\n",
       "      <td>부동산/금융</td>\n",
       "      <td>올인원</td>\n",
       "      <td>2021-09-25 14:16:33</td>\n",
       "      <td>189000</td>\n",
       "      <td>미적용</td>\n",
       "      <td>0</td>\n",
       "      <td>189000</td>\n",
       "      <td>INICIS</td>\n",
       "      <td>CARD</td>\n",
       "      <td>부동산 개발</td>\n",
       "      <td>2021-02-10 00:00:00</td>\n",
       "    </tr>\n",
       "    <tr>\n",
       "      <th>101099</th>\n",
       "      <td>101815</td>\n",
       "      <td>1364996</td>\n",
       "      <td>640697</td>\n",
       "      <td>205365</td>\n",
       "      <td>PAYMENT</td>\n",
       "      <td>COMPLETED</td>\n",
       "      <td>초격차 패키지 : 한 번에 끝내는 유튜브 크리에이터 되기</td>\n",
       "      <td>영상/3D</td>\n",
       "      <td>올인원</td>\n",
       "      <td>2021-09-25 14:17:41</td>\n",
       "      <td>96000</td>\n",
       "      <td>[WELCOME] 온라인 강의 2만원 할인쿠폰</td>\n",
       "      <td>20000</td>\n",
       "      <td>116000</td>\n",
       "      <td>INICIS</td>\n",
       "      <td>VBANK</td>\n",
       "      <td>영상 편집</td>\n",
       "      <td>2021-06-15 00:00:00</td>\n",
       "    </tr>\n",
       "    <tr>\n",
       "      <th>101100</th>\n",
       "      <td>101816</td>\n",
       "      <td>1365005</td>\n",
       "      <td>670896</td>\n",
       "      <td>204159</td>\n",
       "      <td>PAYMENT</td>\n",
       "      <td>CANCELLED</td>\n",
       "      <td>부동산 디벨로퍼 아카데미 : 인허가</td>\n",
       "      <td>부동산/금융</td>\n",
       "      <td>올인원</td>\n",
       "      <td>2021-09-25 14:19:56</td>\n",
       "      <td>189000</td>\n",
       "      <td>미적용</td>\n",
       "      <td>0</td>\n",
       "      <td>189000</td>\n",
       "      <td>INICIS</td>\n",
       "      <td>CARD</td>\n",
       "      <td>부동산 개발</td>\n",
       "      <td>2021-02-10 00:00:00</td>\n",
       "    </tr>\n",
       "    <tr>\n",
       "      <th>101101</th>\n",
       "      <td>101817</td>\n",
       "      <td>1365007</td>\n",
       "      <td>610626</td>\n",
       "      <td>206720</td>\n",
       "      <td>PAYMENT</td>\n",
       "      <td>COMPLETED</td>\n",
       "      <td>용호수의 돈 버는 실전 영상 제작</td>\n",
       "      <td>영상/3D</td>\n",
       "      <td>올인원</td>\n",
       "      <td>2021-09-25 14:25:47</td>\n",
       "      <td>139000</td>\n",
       "      <td>[WELCOME] 온라인 강의 3만원 할인쿠폰</td>\n",
       "      <td>30000</td>\n",
       "      <td>169000</td>\n",
       "      <td>NAVER</td>\n",
       "      <td>POINT</td>\n",
       "      <td>영상 편집</td>\n",
       "      <td>2021-08-17 00:00:00</td>\n",
       "    </tr>\n",
       "  </tbody>\n",
       "</table>\n",
       "<p>101102 rows × 18 columns</p>\n",
       "</div>"
      ],
      "text/plain": [
       "        Unnamed: 0       id  customer_id  course_id     type      state  \\\n",
       "0                0   970634       504760     201435    ORDER  CANCELLED   \n",
       "1                1   970650       432862     203178    ORDER  CANCELLED   \n",
       "2                2   970657        72297     204246  PAYMENT  COMPLETED   \n",
       "3                3   970656        72297     204246    ORDER  CANCELLED   \n",
       "4                4   970658       478028     201797  PAYMENT  COMPLETED   \n",
       "...            ...      ...          ...        ...      ...        ...   \n",
       "101097      101813  1364995       640697     205365  PAYMENT  CANCELLED   \n",
       "101098      101814  1364998       670896     204159  PAYMENT  CANCELLED   \n",
       "101099      101815  1364996       640697     205365  PAYMENT  COMPLETED   \n",
       "101100      101816  1365005       670896     204159  PAYMENT  CANCELLED   \n",
       "101101      101817  1365007       610626     206720  PAYMENT  COMPLETED   \n",
       "\n",
       "                           course_title category_title  format  \\\n",
       "0             올인원 패키지 : 알고리즘 기술면접 완전 정복          프로그래밍     올인원   \n",
       "1           초격차 패키지 : 한번에 끝내는 영상 촬영과 편집          영상/3D     올인원   \n",
       "2                  시크릿코드 : 프론트엔드 실무 완성편          프로그래밍  스쿨 온라인   \n",
       "3                  시크릿코드 : 프론트엔드 실무 완성편          프로그래밍  스쿨 온라인   \n",
       "4         올인원 패키지 : 직장인 필수 스킬 3종 세트 MAX         업무 생산성     올인원   \n",
       "...                                 ...            ...     ...   \n",
       "101097  초격차 패키지 : 한 번에 끝내는 유튜브 크리에이터 되기          영상/3D     올인원   \n",
       "101098              부동산 디벨로퍼 아카데미 : 인허가         부동산/금융     올인원   \n",
       "101099  초격차 패키지 : 한 번에 끝내는 유튜브 크리에이터 되기          영상/3D     올인원   \n",
       "101100              부동산 디벨로퍼 아카데미 : 인허가         부동산/금융     올인원   \n",
       "101101               용호수의 돈 버는 실전 영상 제작          영상/3D     올인원   \n",
       "\n",
       "               completed_at  transaction_amount               coupon_title  \\\n",
       "0       2021-03-28 15:00:11               90500                        미적용   \n",
       "1       2021-03-28 15:16:53               96000                        미적용   \n",
       "2       2021-03-28 15:21:43              171810      [10% 할인] 시크릿코드 실무 완성편   \n",
       "3       2021-03-28 15:21:43              171810                        미적용   \n",
       "4       2021-03-28 15:21:54               97500   [웰컴쿠폰] 올인원 패키지 2만원 할인 쿠폰   \n",
       "...                     ...                 ...                        ...   \n",
       "101097  2021-09-25 14:10:42               96000  [WELCOME] 온라인 강의 2만원 할인쿠폰   \n",
       "101098  2021-09-25 14:16:33              189000                        미적용   \n",
       "101099  2021-09-25 14:17:41               96000  [WELCOME] 온라인 강의 2만원 할인쿠폰   \n",
       "101100  2021-09-25 14:19:56              189000                        미적용   \n",
       "101101  2021-09-25 14:25:47              139000  [WELCOME] 온라인 강의 3만원 할인쿠폰   \n",
       "\n",
       "        coupon_discount_amount  sale_price      pg method subcategory_title  \\\n",
       "0                            0      110500    COMM  VBANK           개발자 커리어   \n",
       "1                            0      116000    COMM   CARD             영상 편집   \n",
       "2                        19090      190900    COMM   CARD             프로그래밍   \n",
       "3                            0      190900    COMM   CARD             프로그래밍   \n",
       "4                        20000      117500    COMM   CARD           PPT/보고서   \n",
       "...                        ...         ...     ...    ...               ...   \n",
       "101097                   20000      116000  INICIS  TRANS             영상 편집   \n",
       "101098                       0      189000  INICIS   CARD            부동산 개발   \n",
       "101099                   20000      116000  INICIS  VBANK             영상 편집   \n",
       "101100                       0      189000  INICIS   CARD            부동산 개발   \n",
       "101101                   30000      169000   NAVER  POINT             영상 편집   \n",
       "\n",
       "         marketing_start_at  \n",
       "0       2018-11-11 00:00:00  \n",
       "1       2020-12-02 00:00:00  \n",
       "2       2021-03-04 00:00:00  \n",
       "3       2021-03-04 00:00:00  \n",
       "4       2019-11-14 00:00:00  \n",
       "...                     ...  \n",
       "101097  2021-06-15 00:00:00  \n",
       "101098  2021-02-10 00:00:00  \n",
       "101099  2021-06-15 00:00:00  \n",
       "101100  2021-02-10 00:00:00  \n",
       "101101  2021-08-17 00:00:00  \n",
       "\n",
       "[101102 rows x 18 columns]"
      ]
     },
     "execution_count": 12,
     "metadata": {},
     "output_type": "execute_result"
    }
   ],
   "source": [
    "df = pd.read_csv('./2022-06-29_last_bab.csv')\n",
    "df"
   ]
  },
  {
   "cell_type": "code",
   "execution_count": 13,
   "id": "118867e5",
   "metadata": {
    "ExecuteTime": {
     "end_time": "2022-06-30T05:09:59.070859Z",
     "start_time": "2022-06-30T05:09:58.895001Z"
    },
    "scrolled": true
   },
   "outputs": [
    {
     "name": "stdout",
     "output_type": "stream",
     "text": [
      "<class 'pandas.core.frame.DataFrame'>\n",
      "RangeIndex: 101102 entries, 0 to 101101\n",
      "Data columns (total 18 columns):\n",
      " #   Column                  Non-Null Count   Dtype \n",
      "---  ------                  --------------   ----- \n",
      " 0   Unnamed: 0              101102 non-null  int64 \n",
      " 1   id                      101102 non-null  int64 \n",
      " 2   customer_id             101102 non-null  int64 \n",
      " 3   course_id               101102 non-null  int64 \n",
      " 4   type                    101102 non-null  object\n",
      " 5   state                   101102 non-null  object\n",
      " 6   course_title            101102 non-null  object\n",
      " 7   category_title          101102 non-null  object\n",
      " 8   format                  101102 non-null  object\n",
      " 9   completed_at            101102 non-null  object\n",
      " 10  transaction_amount      101102 non-null  int64 \n",
      " 11  coupon_title            101102 non-null  object\n",
      " 12  coupon_discount_amount  101102 non-null  int64 \n",
      " 13  sale_price              101102 non-null  int64 \n",
      " 14  pg                      101102 non-null  object\n",
      " 15  method                  101102 non-null  object\n",
      " 16  subcategory_title       101102 non-null  object\n",
      " 17  marketing_start_at      101102 non-null  object\n",
      "dtypes: int64(7), object(11)\n",
      "memory usage: 13.9+ MB\n"
     ]
    }
   ],
   "source": [
    "df.info()"
   ]
  },
  {
   "cell_type": "code",
   "execution_count": 33,
   "id": "e6c693e6",
   "metadata": {
    "ExecuteTime": {
     "end_time": "2022-06-30T05:19:24.471324Z",
     "start_time": "2022-06-30T05:19:24.443446Z"
    }
   },
   "outputs": [],
   "source": [
    "df = df.drop(columns='Unnamed: 0')"
   ]
  },
  {
   "cell_type": "code",
   "execution_count": 15,
   "id": "79d43f60",
   "metadata": {
    "ExecuteTime": {
     "end_time": "2022-06-30T05:10:01.630365Z",
     "start_time": "2022-06-30T05:10:01.523415Z"
    }
   },
   "outputs": [
    {
     "data": {
      "text/html": [
       "<div>\n",
       "<style scoped>\n",
       "    .dataframe tbody tr th:only-of-type {\n",
       "        vertical-align: middle;\n",
       "    }\n",
       "\n",
       "    .dataframe tbody tr th {\n",
       "        vertical-align: top;\n",
       "    }\n",
       "\n",
       "    .dataframe thead th {\n",
       "        text-align: right;\n",
       "    }\n",
       "</style>\n",
       "<table border=\"1\" class=\"dataframe\">\n",
       "  <thead>\n",
       "    <tr style=\"text-align: right;\">\n",
       "      <th></th>\n",
       "      <th>id</th>\n",
       "      <th>customer_id</th>\n",
       "      <th>course_id</th>\n",
       "      <th>type</th>\n",
       "      <th>state</th>\n",
       "      <th>course_title</th>\n",
       "      <th>category_title</th>\n",
       "      <th>format</th>\n",
       "      <th>completed_at</th>\n",
       "      <th>transaction_amount</th>\n",
       "      <th>coupon_title</th>\n",
       "      <th>coupon_discount_amount</th>\n",
       "      <th>sale_price</th>\n",
       "      <th>pg</th>\n",
       "      <th>method</th>\n",
       "      <th>subcategory_title</th>\n",
       "      <th>marketing_start_at</th>\n",
       "    </tr>\n",
       "  </thead>\n",
       "  <tbody>\n",
       "    <tr>\n",
       "      <th>0</th>\n",
       "      <td>970634</td>\n",
       "      <td>504760</td>\n",
       "      <td>201435</td>\n",
       "      <td>ORDER</td>\n",
       "      <td>CANCELLED</td>\n",
       "      <td>올인원 패키지 : 알고리즘 기술면접 완전 정복</td>\n",
       "      <td>프로그래밍</td>\n",
       "      <td>올인원</td>\n",
       "      <td>2021-03-28 15:00:11</td>\n",
       "      <td>90500</td>\n",
       "      <td>미적용</td>\n",
       "      <td>0</td>\n",
       "      <td>110500</td>\n",
       "      <td>COMM</td>\n",
       "      <td>VBANK</td>\n",
       "      <td>개발자 커리어</td>\n",
       "      <td>2018-11-11 00:00:00</td>\n",
       "    </tr>\n",
       "    <tr>\n",
       "      <th>1</th>\n",
       "      <td>970650</td>\n",
       "      <td>432862</td>\n",
       "      <td>203178</td>\n",
       "      <td>ORDER</td>\n",
       "      <td>CANCELLED</td>\n",
       "      <td>초격차 패키지 : 한번에 끝내는 영상 촬영과 편집</td>\n",
       "      <td>영상/3D</td>\n",
       "      <td>올인원</td>\n",
       "      <td>2021-03-28 15:16:53</td>\n",
       "      <td>96000</td>\n",
       "      <td>미적용</td>\n",
       "      <td>0</td>\n",
       "      <td>116000</td>\n",
       "      <td>COMM</td>\n",
       "      <td>CARD</td>\n",
       "      <td>영상 편집</td>\n",
       "      <td>2020-12-02 00:00:00</td>\n",
       "    </tr>\n",
       "    <tr>\n",
       "      <th>2</th>\n",
       "      <td>970657</td>\n",
       "      <td>72297</td>\n",
       "      <td>204246</td>\n",
       "      <td>PAYMENT</td>\n",
       "      <td>COMPLETED</td>\n",
       "      <td>시크릿코드 : 프론트엔드 실무 완성편</td>\n",
       "      <td>프로그래밍</td>\n",
       "      <td>스쿨 온라인</td>\n",
       "      <td>2021-03-28 15:21:43</td>\n",
       "      <td>171810</td>\n",
       "      <td>[10% 할인] 시크릿코드 실무 완성편</td>\n",
       "      <td>19090</td>\n",
       "      <td>190900</td>\n",
       "      <td>COMM</td>\n",
       "      <td>CARD</td>\n",
       "      <td>프로그래밍</td>\n",
       "      <td>2021-03-04 00:00:00</td>\n",
       "    </tr>\n",
       "    <tr>\n",
       "      <th>3</th>\n",
       "      <td>970656</td>\n",
       "      <td>72297</td>\n",
       "      <td>204246</td>\n",
       "      <td>ORDER</td>\n",
       "      <td>CANCELLED</td>\n",
       "      <td>시크릿코드 : 프론트엔드 실무 완성편</td>\n",
       "      <td>프로그래밍</td>\n",
       "      <td>스쿨 온라인</td>\n",
       "      <td>2021-03-28 15:21:43</td>\n",
       "      <td>171810</td>\n",
       "      <td>미적용</td>\n",
       "      <td>0</td>\n",
       "      <td>190900</td>\n",
       "      <td>COMM</td>\n",
       "      <td>CARD</td>\n",
       "      <td>프로그래밍</td>\n",
       "      <td>2021-03-04 00:00:00</td>\n",
       "    </tr>\n",
       "    <tr>\n",
       "      <th>4</th>\n",
       "      <td>970658</td>\n",
       "      <td>478028</td>\n",
       "      <td>201797</td>\n",
       "      <td>PAYMENT</td>\n",
       "      <td>COMPLETED</td>\n",
       "      <td>올인원 패키지 : 직장인 필수 스킬 3종 세트 MAX</td>\n",
       "      <td>업무 생산성</td>\n",
       "      <td>올인원</td>\n",
       "      <td>2021-03-28 15:21:54</td>\n",
       "      <td>97500</td>\n",
       "      <td>[웰컴쿠폰] 올인원 패키지 2만원 할인 쿠폰</td>\n",
       "      <td>20000</td>\n",
       "      <td>117500</td>\n",
       "      <td>COMM</td>\n",
       "      <td>CARD</td>\n",
       "      <td>PPT/보고서</td>\n",
       "      <td>2019-11-14 00:00:00</td>\n",
       "    </tr>\n",
       "    <tr>\n",
       "      <th>...</th>\n",
       "      <td>...</td>\n",
       "      <td>...</td>\n",
       "      <td>...</td>\n",
       "      <td>...</td>\n",
       "      <td>...</td>\n",
       "      <td>...</td>\n",
       "      <td>...</td>\n",
       "      <td>...</td>\n",
       "      <td>...</td>\n",
       "      <td>...</td>\n",
       "      <td>...</td>\n",
       "      <td>...</td>\n",
       "      <td>...</td>\n",
       "      <td>...</td>\n",
       "      <td>...</td>\n",
       "      <td>...</td>\n",
       "      <td>...</td>\n",
       "    </tr>\n",
       "    <tr>\n",
       "      <th>101097</th>\n",
       "      <td>1364995</td>\n",
       "      <td>640697</td>\n",
       "      <td>205365</td>\n",
       "      <td>PAYMENT</td>\n",
       "      <td>CANCELLED</td>\n",
       "      <td>초격차 패키지 : 한 번에 끝내는 유튜브 크리에이터 되기</td>\n",
       "      <td>영상/3D</td>\n",
       "      <td>올인원</td>\n",
       "      <td>2021-09-25 14:10:42</td>\n",
       "      <td>96000</td>\n",
       "      <td>[WELCOME] 온라인 강의 2만원 할인쿠폰</td>\n",
       "      <td>20000</td>\n",
       "      <td>116000</td>\n",
       "      <td>INICIS</td>\n",
       "      <td>TRANS</td>\n",
       "      <td>영상 편집</td>\n",
       "      <td>2021-06-15 00:00:00</td>\n",
       "    </tr>\n",
       "    <tr>\n",
       "      <th>101098</th>\n",
       "      <td>1364998</td>\n",
       "      <td>670896</td>\n",
       "      <td>204159</td>\n",
       "      <td>PAYMENT</td>\n",
       "      <td>CANCELLED</td>\n",
       "      <td>부동산 디벨로퍼 아카데미 : 인허가</td>\n",
       "      <td>부동산/금융</td>\n",
       "      <td>올인원</td>\n",
       "      <td>2021-09-25 14:16:33</td>\n",
       "      <td>189000</td>\n",
       "      <td>미적용</td>\n",
       "      <td>0</td>\n",
       "      <td>189000</td>\n",
       "      <td>INICIS</td>\n",
       "      <td>CARD</td>\n",
       "      <td>부동산 개발</td>\n",
       "      <td>2021-02-10 00:00:00</td>\n",
       "    </tr>\n",
       "    <tr>\n",
       "      <th>101099</th>\n",
       "      <td>1364996</td>\n",
       "      <td>640697</td>\n",
       "      <td>205365</td>\n",
       "      <td>PAYMENT</td>\n",
       "      <td>COMPLETED</td>\n",
       "      <td>초격차 패키지 : 한 번에 끝내는 유튜브 크리에이터 되기</td>\n",
       "      <td>영상/3D</td>\n",
       "      <td>올인원</td>\n",
       "      <td>2021-09-25 14:17:41</td>\n",
       "      <td>96000</td>\n",
       "      <td>[WELCOME] 온라인 강의 2만원 할인쿠폰</td>\n",
       "      <td>20000</td>\n",
       "      <td>116000</td>\n",
       "      <td>INICIS</td>\n",
       "      <td>VBANK</td>\n",
       "      <td>영상 편집</td>\n",
       "      <td>2021-06-15 00:00:00</td>\n",
       "    </tr>\n",
       "    <tr>\n",
       "      <th>101100</th>\n",
       "      <td>1365005</td>\n",
       "      <td>670896</td>\n",
       "      <td>204159</td>\n",
       "      <td>PAYMENT</td>\n",
       "      <td>CANCELLED</td>\n",
       "      <td>부동산 디벨로퍼 아카데미 : 인허가</td>\n",
       "      <td>부동산/금융</td>\n",
       "      <td>올인원</td>\n",
       "      <td>2021-09-25 14:19:56</td>\n",
       "      <td>189000</td>\n",
       "      <td>미적용</td>\n",
       "      <td>0</td>\n",
       "      <td>189000</td>\n",
       "      <td>INICIS</td>\n",
       "      <td>CARD</td>\n",
       "      <td>부동산 개발</td>\n",
       "      <td>2021-02-10 00:00:00</td>\n",
       "    </tr>\n",
       "    <tr>\n",
       "      <th>101101</th>\n",
       "      <td>1365007</td>\n",
       "      <td>610626</td>\n",
       "      <td>206720</td>\n",
       "      <td>PAYMENT</td>\n",
       "      <td>COMPLETED</td>\n",
       "      <td>용호수의 돈 버는 실전 영상 제작</td>\n",
       "      <td>영상/3D</td>\n",
       "      <td>올인원</td>\n",
       "      <td>2021-09-25 14:25:47</td>\n",
       "      <td>139000</td>\n",
       "      <td>[WELCOME] 온라인 강의 3만원 할인쿠폰</td>\n",
       "      <td>30000</td>\n",
       "      <td>169000</td>\n",
       "      <td>NAVER</td>\n",
       "      <td>POINT</td>\n",
       "      <td>영상 편집</td>\n",
       "      <td>2021-08-17 00:00:00</td>\n",
       "    </tr>\n",
       "  </tbody>\n",
       "</table>\n",
       "<p>101102 rows × 17 columns</p>\n",
       "</div>"
      ],
      "text/plain": [
       "             id  customer_id  course_id     type      state  \\\n",
       "0        970634       504760     201435    ORDER  CANCELLED   \n",
       "1        970650       432862     203178    ORDER  CANCELLED   \n",
       "2        970657        72297     204246  PAYMENT  COMPLETED   \n",
       "3        970656        72297     204246    ORDER  CANCELLED   \n",
       "4        970658       478028     201797  PAYMENT  COMPLETED   \n",
       "...         ...          ...        ...      ...        ...   \n",
       "101097  1364995       640697     205365  PAYMENT  CANCELLED   \n",
       "101098  1364998       670896     204159  PAYMENT  CANCELLED   \n",
       "101099  1364996       640697     205365  PAYMENT  COMPLETED   \n",
       "101100  1365005       670896     204159  PAYMENT  CANCELLED   \n",
       "101101  1365007       610626     206720  PAYMENT  COMPLETED   \n",
       "\n",
       "                           course_title category_title  format  \\\n",
       "0             올인원 패키지 : 알고리즘 기술면접 완전 정복          프로그래밍     올인원   \n",
       "1           초격차 패키지 : 한번에 끝내는 영상 촬영과 편집          영상/3D     올인원   \n",
       "2                  시크릿코드 : 프론트엔드 실무 완성편          프로그래밍  스쿨 온라인   \n",
       "3                  시크릿코드 : 프론트엔드 실무 완성편          프로그래밍  스쿨 온라인   \n",
       "4         올인원 패키지 : 직장인 필수 스킬 3종 세트 MAX         업무 생산성     올인원   \n",
       "...                                 ...            ...     ...   \n",
       "101097  초격차 패키지 : 한 번에 끝내는 유튜브 크리에이터 되기          영상/3D     올인원   \n",
       "101098              부동산 디벨로퍼 아카데미 : 인허가         부동산/금융     올인원   \n",
       "101099  초격차 패키지 : 한 번에 끝내는 유튜브 크리에이터 되기          영상/3D     올인원   \n",
       "101100              부동산 디벨로퍼 아카데미 : 인허가         부동산/금융     올인원   \n",
       "101101               용호수의 돈 버는 실전 영상 제작          영상/3D     올인원   \n",
       "\n",
       "              completed_at  transaction_amount               coupon_title  \\\n",
       "0      2021-03-28 15:00:11               90500                        미적용   \n",
       "1      2021-03-28 15:16:53               96000                        미적용   \n",
       "2      2021-03-28 15:21:43              171810      [10% 할인] 시크릿코드 실무 완성편   \n",
       "3      2021-03-28 15:21:43              171810                        미적용   \n",
       "4      2021-03-28 15:21:54               97500   [웰컴쿠폰] 올인원 패키지 2만원 할인 쿠폰   \n",
       "...                    ...                 ...                        ...   \n",
       "101097 2021-09-25 14:10:42               96000  [WELCOME] 온라인 강의 2만원 할인쿠폰   \n",
       "101098 2021-09-25 14:16:33              189000                        미적용   \n",
       "101099 2021-09-25 14:17:41               96000  [WELCOME] 온라인 강의 2만원 할인쿠폰   \n",
       "101100 2021-09-25 14:19:56              189000                        미적용   \n",
       "101101 2021-09-25 14:25:47              139000  [WELCOME] 온라인 강의 3만원 할인쿠폰   \n",
       "\n",
       "        coupon_discount_amount  sale_price      pg method subcategory_title  \\\n",
       "0                            0      110500    COMM  VBANK           개발자 커리어   \n",
       "1                            0      116000    COMM   CARD             영상 편집   \n",
       "2                        19090      190900    COMM   CARD             프로그래밍   \n",
       "3                            0      190900    COMM   CARD             프로그래밍   \n",
       "4                        20000      117500    COMM   CARD           PPT/보고서   \n",
       "...                        ...         ...     ...    ...               ...   \n",
       "101097                   20000      116000  INICIS  TRANS             영상 편집   \n",
       "101098                       0      189000  INICIS   CARD            부동산 개발   \n",
       "101099                   20000      116000  INICIS  VBANK             영상 편집   \n",
       "101100                       0      189000  INICIS   CARD            부동산 개발   \n",
       "101101                   30000      169000   NAVER  POINT             영상 편집   \n",
       "\n",
       "         marketing_start_at  \n",
       "0       2018-11-11 00:00:00  \n",
       "1       2020-12-02 00:00:00  \n",
       "2       2021-03-04 00:00:00  \n",
       "3       2021-03-04 00:00:00  \n",
       "4       2019-11-14 00:00:00  \n",
       "...                     ...  \n",
       "101097  2021-06-15 00:00:00  \n",
       "101098  2021-02-10 00:00:00  \n",
       "101099  2021-06-15 00:00:00  \n",
       "101100  2021-02-10 00:00:00  \n",
       "101101  2021-08-17 00:00:00  \n",
       "\n",
       "[101102 rows x 17 columns]"
      ]
     },
     "execution_count": 15,
     "metadata": {},
     "output_type": "execute_result"
    }
   ],
   "source": [
    "df.completed_at = pd.to_datetime(df.completed_at, )\n",
    "df  # dtype -> datetime으로 바꾸기 "
   ]
  },
  {
   "cell_type": "code",
   "execution_count": 16,
   "id": "39261625",
   "metadata": {
    "ExecuteTime": {
     "end_time": "2022-06-30T05:10:06.317102Z",
     "start_time": "2022-06-30T05:10:06.259604Z"
    }
   },
   "outputs": [
    {
     "data": {
      "text/html": [
       "<div>\n",
       "<style scoped>\n",
       "    .dataframe tbody tr th:only-of-type {\n",
       "        vertical-align: middle;\n",
       "    }\n",
       "\n",
       "    .dataframe tbody tr th {\n",
       "        vertical-align: top;\n",
       "    }\n",
       "\n",
       "    .dataframe thead th {\n",
       "        text-align: right;\n",
       "    }\n",
       "</style>\n",
       "<table border=\"1\" class=\"dataframe\">\n",
       "  <thead>\n",
       "    <tr style=\"text-align: right;\">\n",
       "      <th></th>\n",
       "      <th>id</th>\n",
       "      <th>customer_id</th>\n",
       "      <th>course_id</th>\n",
       "      <th>type</th>\n",
       "      <th>state</th>\n",
       "      <th>course_title</th>\n",
       "      <th>category_title</th>\n",
       "      <th>format</th>\n",
       "      <th>completed_at</th>\n",
       "      <th>transaction_amount</th>\n",
       "      <th>coupon_title</th>\n",
       "      <th>coupon_discount_amount</th>\n",
       "      <th>sale_price</th>\n",
       "      <th>pg</th>\n",
       "      <th>method</th>\n",
       "      <th>subcategory_title</th>\n",
       "      <th>marketing_start_at</th>\n",
       "    </tr>\n",
       "  </thead>\n",
       "  <tbody>\n",
       "    <tr>\n",
       "      <th>0</th>\n",
       "      <td>970634</td>\n",
       "      <td>504760</td>\n",
       "      <td>201435</td>\n",
       "      <td>ORDER</td>\n",
       "      <td>CANCELLED</td>\n",
       "      <td>올인원 패키지 : 알고리즘 기술면접 완전 정복</td>\n",
       "      <td>프로그래밍</td>\n",
       "      <td>올인원</td>\n",
       "      <td>2021-03-28 15:00:11</td>\n",
       "      <td>90500</td>\n",
       "      <td>미적용</td>\n",
       "      <td>0</td>\n",
       "      <td>110500</td>\n",
       "      <td>COMM</td>\n",
       "      <td>VBANK</td>\n",
       "      <td>개발자 커리어</td>\n",
       "      <td>2018-11-11</td>\n",
       "    </tr>\n",
       "    <tr>\n",
       "      <th>1</th>\n",
       "      <td>970650</td>\n",
       "      <td>432862</td>\n",
       "      <td>203178</td>\n",
       "      <td>ORDER</td>\n",
       "      <td>CANCELLED</td>\n",
       "      <td>초격차 패키지 : 한번에 끝내는 영상 촬영과 편집</td>\n",
       "      <td>영상/3D</td>\n",
       "      <td>올인원</td>\n",
       "      <td>2021-03-28 15:16:53</td>\n",
       "      <td>96000</td>\n",
       "      <td>미적용</td>\n",
       "      <td>0</td>\n",
       "      <td>116000</td>\n",
       "      <td>COMM</td>\n",
       "      <td>CARD</td>\n",
       "      <td>영상 편집</td>\n",
       "      <td>2020-12-02</td>\n",
       "    </tr>\n",
       "    <tr>\n",
       "      <th>2</th>\n",
       "      <td>970657</td>\n",
       "      <td>72297</td>\n",
       "      <td>204246</td>\n",
       "      <td>PAYMENT</td>\n",
       "      <td>COMPLETED</td>\n",
       "      <td>시크릿코드 : 프론트엔드 실무 완성편</td>\n",
       "      <td>프로그래밍</td>\n",
       "      <td>스쿨 온라인</td>\n",
       "      <td>2021-03-28 15:21:43</td>\n",
       "      <td>171810</td>\n",
       "      <td>[10% 할인] 시크릿코드 실무 완성편</td>\n",
       "      <td>19090</td>\n",
       "      <td>190900</td>\n",
       "      <td>COMM</td>\n",
       "      <td>CARD</td>\n",
       "      <td>프로그래밍</td>\n",
       "      <td>2021-03-04</td>\n",
       "    </tr>\n",
       "    <tr>\n",
       "      <th>3</th>\n",
       "      <td>970656</td>\n",
       "      <td>72297</td>\n",
       "      <td>204246</td>\n",
       "      <td>ORDER</td>\n",
       "      <td>CANCELLED</td>\n",
       "      <td>시크릿코드 : 프론트엔드 실무 완성편</td>\n",
       "      <td>프로그래밍</td>\n",
       "      <td>스쿨 온라인</td>\n",
       "      <td>2021-03-28 15:21:43</td>\n",
       "      <td>171810</td>\n",
       "      <td>미적용</td>\n",
       "      <td>0</td>\n",
       "      <td>190900</td>\n",
       "      <td>COMM</td>\n",
       "      <td>CARD</td>\n",
       "      <td>프로그래밍</td>\n",
       "      <td>2021-03-04</td>\n",
       "    </tr>\n",
       "    <tr>\n",
       "      <th>4</th>\n",
       "      <td>970658</td>\n",
       "      <td>478028</td>\n",
       "      <td>201797</td>\n",
       "      <td>PAYMENT</td>\n",
       "      <td>COMPLETED</td>\n",
       "      <td>올인원 패키지 : 직장인 필수 스킬 3종 세트 MAX</td>\n",
       "      <td>업무 생산성</td>\n",
       "      <td>올인원</td>\n",
       "      <td>2021-03-28 15:21:54</td>\n",
       "      <td>97500</td>\n",
       "      <td>[웰컴쿠폰] 올인원 패키지 2만원 할인 쿠폰</td>\n",
       "      <td>20000</td>\n",
       "      <td>117500</td>\n",
       "      <td>COMM</td>\n",
       "      <td>CARD</td>\n",
       "      <td>PPT/보고서</td>\n",
       "      <td>2019-11-14</td>\n",
       "    </tr>\n",
       "    <tr>\n",
       "      <th>...</th>\n",
       "      <td>...</td>\n",
       "      <td>...</td>\n",
       "      <td>...</td>\n",
       "      <td>...</td>\n",
       "      <td>...</td>\n",
       "      <td>...</td>\n",
       "      <td>...</td>\n",
       "      <td>...</td>\n",
       "      <td>...</td>\n",
       "      <td>...</td>\n",
       "      <td>...</td>\n",
       "      <td>...</td>\n",
       "      <td>...</td>\n",
       "      <td>...</td>\n",
       "      <td>...</td>\n",
       "      <td>...</td>\n",
       "      <td>...</td>\n",
       "    </tr>\n",
       "    <tr>\n",
       "      <th>101097</th>\n",
       "      <td>1364995</td>\n",
       "      <td>640697</td>\n",
       "      <td>205365</td>\n",
       "      <td>PAYMENT</td>\n",
       "      <td>CANCELLED</td>\n",
       "      <td>초격차 패키지 : 한 번에 끝내는 유튜브 크리에이터 되기</td>\n",
       "      <td>영상/3D</td>\n",
       "      <td>올인원</td>\n",
       "      <td>2021-09-25 14:10:42</td>\n",
       "      <td>96000</td>\n",
       "      <td>[WELCOME] 온라인 강의 2만원 할인쿠폰</td>\n",
       "      <td>20000</td>\n",
       "      <td>116000</td>\n",
       "      <td>INICIS</td>\n",
       "      <td>TRANS</td>\n",
       "      <td>영상 편집</td>\n",
       "      <td>2021-06-15</td>\n",
       "    </tr>\n",
       "    <tr>\n",
       "      <th>101098</th>\n",
       "      <td>1364998</td>\n",
       "      <td>670896</td>\n",
       "      <td>204159</td>\n",
       "      <td>PAYMENT</td>\n",
       "      <td>CANCELLED</td>\n",
       "      <td>부동산 디벨로퍼 아카데미 : 인허가</td>\n",
       "      <td>부동산/금융</td>\n",
       "      <td>올인원</td>\n",
       "      <td>2021-09-25 14:16:33</td>\n",
       "      <td>189000</td>\n",
       "      <td>미적용</td>\n",
       "      <td>0</td>\n",
       "      <td>189000</td>\n",
       "      <td>INICIS</td>\n",
       "      <td>CARD</td>\n",
       "      <td>부동산 개발</td>\n",
       "      <td>2021-02-10</td>\n",
       "    </tr>\n",
       "    <tr>\n",
       "      <th>101099</th>\n",
       "      <td>1364996</td>\n",
       "      <td>640697</td>\n",
       "      <td>205365</td>\n",
       "      <td>PAYMENT</td>\n",
       "      <td>COMPLETED</td>\n",
       "      <td>초격차 패키지 : 한 번에 끝내는 유튜브 크리에이터 되기</td>\n",
       "      <td>영상/3D</td>\n",
       "      <td>올인원</td>\n",
       "      <td>2021-09-25 14:17:41</td>\n",
       "      <td>96000</td>\n",
       "      <td>[WELCOME] 온라인 강의 2만원 할인쿠폰</td>\n",
       "      <td>20000</td>\n",
       "      <td>116000</td>\n",
       "      <td>INICIS</td>\n",
       "      <td>VBANK</td>\n",
       "      <td>영상 편집</td>\n",
       "      <td>2021-06-15</td>\n",
       "    </tr>\n",
       "    <tr>\n",
       "      <th>101100</th>\n",
       "      <td>1365005</td>\n",
       "      <td>670896</td>\n",
       "      <td>204159</td>\n",
       "      <td>PAYMENT</td>\n",
       "      <td>CANCELLED</td>\n",
       "      <td>부동산 디벨로퍼 아카데미 : 인허가</td>\n",
       "      <td>부동산/금융</td>\n",
       "      <td>올인원</td>\n",
       "      <td>2021-09-25 14:19:56</td>\n",
       "      <td>189000</td>\n",
       "      <td>미적용</td>\n",
       "      <td>0</td>\n",
       "      <td>189000</td>\n",
       "      <td>INICIS</td>\n",
       "      <td>CARD</td>\n",
       "      <td>부동산 개발</td>\n",
       "      <td>2021-02-10</td>\n",
       "    </tr>\n",
       "    <tr>\n",
       "      <th>101101</th>\n",
       "      <td>1365007</td>\n",
       "      <td>610626</td>\n",
       "      <td>206720</td>\n",
       "      <td>PAYMENT</td>\n",
       "      <td>COMPLETED</td>\n",
       "      <td>용호수의 돈 버는 실전 영상 제작</td>\n",
       "      <td>영상/3D</td>\n",
       "      <td>올인원</td>\n",
       "      <td>2021-09-25 14:25:47</td>\n",
       "      <td>139000</td>\n",
       "      <td>[WELCOME] 온라인 강의 3만원 할인쿠폰</td>\n",
       "      <td>30000</td>\n",
       "      <td>169000</td>\n",
       "      <td>NAVER</td>\n",
       "      <td>POINT</td>\n",
       "      <td>영상 편집</td>\n",
       "      <td>2021-08-17</td>\n",
       "    </tr>\n",
       "  </tbody>\n",
       "</table>\n",
       "<p>101102 rows × 17 columns</p>\n",
       "</div>"
      ],
      "text/plain": [
       "             id  customer_id  course_id     type      state  \\\n",
       "0        970634       504760     201435    ORDER  CANCELLED   \n",
       "1        970650       432862     203178    ORDER  CANCELLED   \n",
       "2        970657        72297     204246  PAYMENT  COMPLETED   \n",
       "3        970656        72297     204246    ORDER  CANCELLED   \n",
       "4        970658       478028     201797  PAYMENT  COMPLETED   \n",
       "...         ...          ...        ...      ...        ...   \n",
       "101097  1364995       640697     205365  PAYMENT  CANCELLED   \n",
       "101098  1364998       670896     204159  PAYMENT  CANCELLED   \n",
       "101099  1364996       640697     205365  PAYMENT  COMPLETED   \n",
       "101100  1365005       670896     204159  PAYMENT  CANCELLED   \n",
       "101101  1365007       610626     206720  PAYMENT  COMPLETED   \n",
       "\n",
       "                           course_title category_title  format  \\\n",
       "0             올인원 패키지 : 알고리즘 기술면접 완전 정복          프로그래밍     올인원   \n",
       "1           초격차 패키지 : 한번에 끝내는 영상 촬영과 편집          영상/3D     올인원   \n",
       "2                  시크릿코드 : 프론트엔드 실무 완성편          프로그래밍  스쿨 온라인   \n",
       "3                  시크릿코드 : 프론트엔드 실무 완성편          프로그래밍  스쿨 온라인   \n",
       "4         올인원 패키지 : 직장인 필수 스킬 3종 세트 MAX         업무 생산성     올인원   \n",
       "...                                 ...            ...     ...   \n",
       "101097  초격차 패키지 : 한 번에 끝내는 유튜브 크리에이터 되기          영상/3D     올인원   \n",
       "101098              부동산 디벨로퍼 아카데미 : 인허가         부동산/금융     올인원   \n",
       "101099  초격차 패키지 : 한 번에 끝내는 유튜브 크리에이터 되기          영상/3D     올인원   \n",
       "101100              부동산 디벨로퍼 아카데미 : 인허가         부동산/금융     올인원   \n",
       "101101               용호수의 돈 버는 실전 영상 제작          영상/3D     올인원   \n",
       "\n",
       "              completed_at  transaction_amount               coupon_title  \\\n",
       "0      2021-03-28 15:00:11               90500                        미적용   \n",
       "1      2021-03-28 15:16:53               96000                        미적용   \n",
       "2      2021-03-28 15:21:43              171810      [10% 할인] 시크릿코드 실무 완성편   \n",
       "3      2021-03-28 15:21:43              171810                        미적용   \n",
       "4      2021-03-28 15:21:54               97500   [웰컴쿠폰] 올인원 패키지 2만원 할인 쿠폰   \n",
       "...                    ...                 ...                        ...   \n",
       "101097 2021-09-25 14:10:42               96000  [WELCOME] 온라인 강의 2만원 할인쿠폰   \n",
       "101098 2021-09-25 14:16:33              189000                        미적용   \n",
       "101099 2021-09-25 14:17:41               96000  [WELCOME] 온라인 강의 2만원 할인쿠폰   \n",
       "101100 2021-09-25 14:19:56              189000                        미적용   \n",
       "101101 2021-09-25 14:25:47              139000  [WELCOME] 온라인 강의 3만원 할인쿠폰   \n",
       "\n",
       "        coupon_discount_amount  sale_price      pg method subcategory_title  \\\n",
       "0                            0      110500    COMM  VBANK           개발자 커리어   \n",
       "1                            0      116000    COMM   CARD             영상 편집   \n",
       "2                        19090      190900    COMM   CARD             프로그래밍   \n",
       "3                            0      190900    COMM   CARD             프로그래밍   \n",
       "4                        20000      117500    COMM   CARD           PPT/보고서   \n",
       "...                        ...         ...     ...    ...               ...   \n",
       "101097                   20000      116000  INICIS  TRANS             영상 편집   \n",
       "101098                       0      189000  INICIS   CARD            부동산 개발   \n",
       "101099                   20000      116000  INICIS  VBANK             영상 편집   \n",
       "101100                       0      189000  INICIS   CARD            부동산 개발   \n",
       "101101                   30000      169000   NAVER  POINT             영상 편집   \n",
       "\n",
       "       marketing_start_at  \n",
       "0              2018-11-11  \n",
       "1              2020-12-02  \n",
       "2              2021-03-04  \n",
       "3              2021-03-04  \n",
       "4              2019-11-14  \n",
       "...                   ...  \n",
       "101097         2021-06-15  \n",
       "101098         2021-02-10  \n",
       "101099         2021-06-15  \n",
       "101100         2021-02-10  \n",
       "101101         2021-08-17  \n",
       "\n",
       "[101102 rows x 17 columns]"
      ]
     },
     "execution_count": 16,
     "metadata": {},
     "output_type": "execute_result"
    }
   ],
   "source": [
    "df.marketing_start_at = pd.to_datetime(df.marketing_start_at, )\n",
    "df  # dtype -> datetime으로 바꾸기 "
   ]
  },
  {
   "cell_type": "code",
   "execution_count": 26,
   "id": "96df917a",
   "metadata": {
    "ExecuteTime": {
     "end_time": "2022-06-30T05:15:23.312571Z",
     "start_time": "2022-06-30T05:15:23.282087Z"
    }
   },
   "outputs": [
    {
     "data": {
      "text/plain": [
       "101102"
      ]
     },
     "execution_count": 26,
     "metadata": {},
     "output_type": "execute_result"
    }
   ],
   "source": [
    "course_all = df['course_title'].value_counts().sum()\n",
    "course_all"
   ]
  },
  {
   "cell_type": "code",
   "execution_count": 23,
   "id": "6b51f170",
   "metadata": {
    "ExecuteTime": {
     "end_time": "2022-06-30T05:13:53.544646Z",
     "start_time": "2022-06-30T05:13:53.507990Z"
    }
   },
   "outputs": [
    {
     "data": {
      "text/plain": [
       "610"
      ]
     },
     "execution_count": 23,
     "metadata": {},
     "output_type": "execute_result"
    }
   ],
   "source": [
    "course_uni = len(df['course_title'].unique())   # 전체 강의 수\n",
    "course_uni"
   ]
  },
  {
   "cell_type": "code",
   "execution_count": 20,
   "id": "7b204d9b",
   "metadata": {
    "ExecuteTime": {
     "end_time": "2022-06-30T05:10:19.561168Z",
     "start_time": "2022-06-30T05:10:19.532019Z"
    }
   },
   "outputs": [
    {
     "data": {
      "text/plain": [
       "초격차 패키지 : 한 번에 끝내는 프론트엔드 개발                            3252\n",
       "초격차 패키지 : 한번에 끝내는 Java/Spring 웹 개발 마스터                 2745\n",
       "초격차 패키지 : 한번에 끝내는 영상 촬영과 편집                            2526\n",
       "The RED : 김영하 작가의 내 안의 숨은 이야기를 찾아 쓰는 법                 2124\n",
       "올인원 패키지 : star741의 캐주얼 일러스트 드로잉                        1633\n",
       "                                                       ... \n",
       "프로모션 : 데이터 활용 능력을 바꿔 줄 데이터 분석 iPad 패키지 (7월 현물 프리패스)       1\n",
       "올인원 패키지 : 데이터기반 마케팅                                       1\n",
       "엑셀 온라인 완주반 3기                                             1\n",
       "스프링 아카데미아 강의 9 - 직접 적용해보는 TDD와 Spring Boot                1\n",
       "올인원 패키지 : Unity를 활용한 영화 애니메이션 제작                          1\n",
       "Name: course_title, Length: 610, dtype: int64"
      ]
     },
     "execution_count": 20,
     "metadata": {},
     "output_type": "execute_result"
    }
   ],
   "source": [
    "course_len = df['course_title'].value_counts()\n",
    "course_len"
   ]
  },
  {
   "cell_type": "code",
   "execution_count": 47,
   "id": "b8085f17",
   "metadata": {
    "ExecuteTime": {
     "end_time": "2022-06-30T05:31:50.132909Z",
     "start_time": "2022-06-30T05:31:50.115086Z"
    }
   },
   "outputs": [
    {
     "data": {
      "text/plain": [
       "초격차 패키지 : 한 번에 끝내는 프론트엔드 개발                            3.2\n",
       "초격차 패키지 : 한번에 끝내는 Java/Spring 웹 개발 마스터                 2.7\n",
       "초격차 패키지 : 한번에 끝내는 영상 촬영과 편집                            2.5\n",
       "The RED : 김영하 작가의 내 안의 숨은 이야기를 찾아 쓰는 법                 2.1\n",
       "올인원 패키지 : star741의 캐주얼 일러스트 드로잉                        1.6\n",
       "                                                      ... \n",
       "프로모션 : 데이터 활용 능력을 바꿔 줄 데이터 분석 iPad 패키지 (7월 현물 프리패스)    0.0\n",
       "올인원 패키지 : 데이터기반 마케팅                                    0.0\n",
       "엑셀 온라인 완주반 3기                                          0.0\n",
       "스프링 아카데미아 강의 9 - 직접 적용해보는 TDD와 Spring Boot             0.0\n",
       "올인원 패키지 : Unity를 활용한 영화 애니메이션 제작                       0.0\n",
       "Name: course_title, Length: 610, dtype: float64"
      ]
     },
     "execution_count": 47,
     "metadata": {},
     "output_type": "execute_result"
    }
   ],
   "source": [
    "course_ = round((course_len / course_all)*100,1)\n",
    "course_"
   ]
  },
  {
   "cell_type": "code",
   "execution_count": 77,
   "id": "f4f542e8",
   "metadata": {
    "ExecuteTime": {
     "end_time": "2022-06-30T05:52:12.516964Z",
     "start_time": "2022-06-30T05:52:12.497655Z"
    }
   },
   "outputs": [
    {
     "data": {
      "text/plain": [
       "초격차 패키지 : 한 번에 끝내는 프론트엔드 개발                                           3.2\n",
       "초격차 패키지 : 한번에 끝내는 Java/Spring 웹 개발 마스터                                2.7\n",
       "초격차 패키지 : 한번에 끝내는 영상 촬영과 편집                                           2.5\n",
       "The RED : 김영하 작가의 내 안의 숨은 이야기를 찾아 쓰는 법                                2.1\n",
       "올인원 패키지 : star741의 캐주얼 일러스트 드로잉                                       1.6\n",
       "초격차 패키지 : 한번에 끝내는 디자인 툴                                               1.6\n",
       "초격차 패키지 : 30개 프로젝트로 배우는 Android 앱 개발 with Kotlin                      1.4\n",
       "올인원 패키지 : 김민태의 프론트엔드 아카데미 : 제 1강 JavaScript & TypeScript Essential    1.4\n",
       "초격차 패키지 : 한 번에 끝내는 엑셀 실무                                              1.4\n",
       "초격차 패키지 : 한 번에 끝내는 node.js 웹 프로그래밍                                    1.4\n",
       "초격차 패키지 : 한번에 끝내는 UX/UI 디자인                                           1.3\n",
       "올인원 패키지 : 완전정복 시각디자인 기초                                               1.3\n",
       "초격차 패키지 : 한번에 끝내는 모션그래픽                                               1.3\n",
       "초격차 패키지 : 한 번에 끝내는 데이터 분석 툴                                           1.2\n",
       "초격차 패키지 : 한번에 끝내는 PPT 제작/디자인                                          1.2\n",
       "올인원 패키지 : GA4 탑재, 구글 애널리틱스 끝장내기                                       1.2\n",
       "나의 칼퇴치트키 엑셀유치원                                                        1.2\n",
       "입만 열면 인정받는 스피치 10분컷                                                   1.2\n",
       "올인원 패키지 : 디지털 마케팅 MAX 2020                                            1.1\n",
       "초격차 패키지 : 일잘러 필수 스킬 모음.zip                                            1.1\n",
       "올인원 패키지 : 컴퓨터 공학 전공 필수                                                1.1\n",
       "올인원 패키지 : 아카데미 : 편집하는여자의 영상편집 마스터클래스 - 제 1강 프리미어프로 베이직                1.1\n",
       "올인원 패키지 : 알고리즘 기술면접 완전 정복                                             1.1\n",
       "초격차 패키지 : 한 번에 끝내는 코딩테스트 369 Java편                                    1.0\n",
       "초격차 패키지 : 한 번에 끝내는 파이썬 웹 개발                                           1.0\n",
       "올인원 패키지 : 직장인을 위한 파이썬 데이터분석                                           0.9\n",
       "올인원 패키지 : 디자이너 몰래 듣는 압축 포토샵                                           0.8\n",
       "연습문제 패키지 : 퀴즈처럼 풀면서 배우는 파이썬 딥러닝 300제+                                 0.8\n",
       "올인원 패키지 : Android 앱 개발                                                0.8\n",
       "올인원 패키지 : 박세익 전무에게 배우는 주식 시장 분석 & 포트폴리오 운용 전략                         0.8\n",
       "올인원 패키지 : 100억을 움직이는 단 10장의 PPT                                       0.8\n",
       "합격 패스 : 정보처리기사 필기&실기                                                  0.8\n",
       "초격차 패키지 : 한 번에 끝내는 데이터 분석                                             0.8\n",
       "바이블 : 파이썬 기초부터 시작하는 딥러닝 영상인식                                          0.8\n",
       "Name: course_title, dtype: float64"
      ]
     },
     "execution_count": 77,
     "metadata": {},
     "output_type": "execute_result"
    }
   ],
   "source": [
    "course_2=course_[course_>=course_.quantile(0.95)]\n",
    "course_2"
   ]
  },
  {
   "cell_type": "code",
   "execution_count": 57,
   "id": "3f48276a",
   "metadata": {
    "ExecuteTime": {
     "end_time": "2022-06-30T05:33:57.367988Z",
     "start_time": "2022-06-30T05:33:57.238896Z"
    }
   },
   "outputs": [
    {
     "name": "stderr",
     "output_type": "stream",
     "text": [
      "C:\\Users\\user\\anaconda3\\lib\\site-packages\\IPython\\core\\pylabtools.py:151: UserWarning: Glyph 52488 (\\N{HANGUL SYLLABLE CO}) missing from current font.\n",
      "  fig.canvas.print_figure(bytes_io, **kw)\n",
      "C:\\Users\\user\\anaconda3\\lib\\site-packages\\IPython\\core\\pylabtools.py:151: UserWarning: Glyph 44201 (\\N{HANGUL SYLLABLE GYEOG}) missing from current font.\n",
      "  fig.canvas.print_figure(bytes_io, **kw)\n",
      "C:\\Users\\user\\anaconda3\\lib\\site-packages\\IPython\\core\\pylabtools.py:151: UserWarning: Glyph 52264 (\\N{HANGUL SYLLABLE CA}) missing from current font.\n",
      "  fig.canvas.print_figure(bytes_io, **kw)\n",
      "C:\\Users\\user\\anaconda3\\lib\\site-packages\\IPython\\core\\pylabtools.py:151: UserWarning: Glyph 54056 (\\N{HANGUL SYLLABLE PAE}) missing from current font.\n",
      "  fig.canvas.print_figure(bytes_io, **kw)\n",
      "C:\\Users\\user\\anaconda3\\lib\\site-packages\\IPython\\core\\pylabtools.py:151: UserWarning: Glyph 53412 (\\N{HANGUL SYLLABLE KI}) missing from current font.\n",
      "  fig.canvas.print_figure(bytes_io, **kw)\n",
      "C:\\Users\\user\\anaconda3\\lib\\site-packages\\IPython\\core\\pylabtools.py:151: UserWarning: Glyph 51648 (\\N{HANGUL SYLLABLE JI}) missing from current font.\n",
      "  fig.canvas.print_figure(bytes_io, **kw)\n",
      "C:\\Users\\user\\anaconda3\\lib\\site-packages\\IPython\\core\\pylabtools.py:151: UserWarning: Glyph 54620 (\\N{HANGUL SYLLABLE HAN}) missing from current font.\n",
      "  fig.canvas.print_figure(bytes_io, **kw)\n",
      "C:\\Users\\user\\anaconda3\\lib\\site-packages\\IPython\\core\\pylabtools.py:151: UserWarning: Glyph 48264 (\\N{HANGUL SYLLABLE BEON}) missing from current font.\n",
      "  fig.canvas.print_figure(bytes_io, **kw)\n",
      "C:\\Users\\user\\anaconda3\\lib\\site-packages\\IPython\\core\\pylabtools.py:151: UserWarning: Glyph 50640 (\\N{HANGUL SYLLABLE E}) missing from current font.\n",
      "  fig.canvas.print_figure(bytes_io, **kw)\n",
      "C:\\Users\\user\\anaconda3\\lib\\site-packages\\IPython\\core\\pylabtools.py:151: UserWarning: Glyph 45149 (\\N{HANGUL SYLLABLE GGEUT}) missing from current font.\n",
      "  fig.canvas.print_figure(bytes_io, **kw)\n",
      "C:\\Users\\user\\anaconda3\\lib\\site-packages\\IPython\\core\\pylabtools.py:151: UserWarning: Glyph 45236 (\\N{HANGUL SYLLABLE NAE}) missing from current font.\n",
      "  fig.canvas.print_figure(bytes_io, **kw)\n",
      "C:\\Users\\user\\anaconda3\\lib\\site-packages\\IPython\\core\\pylabtools.py:151: UserWarning: Glyph 45716 (\\N{HANGUL SYLLABLE NEUN}) missing from current font.\n",
      "  fig.canvas.print_figure(bytes_io, **kw)\n",
      "C:\\Users\\user\\anaconda3\\lib\\site-packages\\IPython\\core\\pylabtools.py:151: UserWarning: Glyph 54532 (\\N{HANGUL SYLLABLE PEU}) missing from current font.\n",
      "  fig.canvas.print_figure(bytes_io, **kw)\n",
      "C:\\Users\\user\\anaconda3\\lib\\site-packages\\IPython\\core\\pylabtools.py:151: UserWarning: Glyph 47200 (\\N{HANGUL SYLLABLE RON}) missing from current font.\n",
      "  fig.canvas.print_figure(bytes_io, **kw)\n",
      "C:\\Users\\user\\anaconda3\\lib\\site-packages\\IPython\\core\\pylabtools.py:151: UserWarning: Glyph 53944 (\\N{HANGUL SYLLABLE TEU}) missing from current font.\n",
      "  fig.canvas.print_figure(bytes_io, **kw)\n",
      "C:\\Users\\user\\anaconda3\\lib\\site-packages\\IPython\\core\\pylabtools.py:151: UserWarning: Glyph 50644 (\\N{HANGUL SYLLABLE EN}) missing from current font.\n",
      "  fig.canvas.print_figure(bytes_io, **kw)\n",
      "C:\\Users\\user\\anaconda3\\lib\\site-packages\\IPython\\core\\pylabtools.py:151: UserWarning: Glyph 46300 (\\N{HANGUL SYLLABLE DEU}) missing from current font.\n",
      "  fig.canvas.print_figure(bytes_io, **kw)\n",
      "C:\\Users\\user\\anaconda3\\lib\\site-packages\\IPython\\core\\pylabtools.py:151: UserWarning: Glyph 44060 (\\N{HANGUL SYLLABLE GAE}) missing from current font.\n",
      "  fig.canvas.print_figure(bytes_io, **kw)\n",
      "C:\\Users\\user\\anaconda3\\lib\\site-packages\\IPython\\core\\pylabtools.py:151: UserWarning: Glyph 48156 (\\N{HANGUL SYLLABLE BAL}) missing from current font.\n",
      "  fig.canvas.print_figure(bytes_io, **kw)\n",
      "C:\\Users\\user\\anaconda3\\lib\\site-packages\\IPython\\core\\pylabtools.py:151: UserWarning: Glyph 46356 (\\N{HANGUL SYLLABLE DI}) missing from current font.\n",
      "  fig.canvas.print_figure(bytes_io, **kw)\n",
      "C:\\Users\\user\\anaconda3\\lib\\site-packages\\IPython\\core\\pylabtools.py:151: UserWarning: Glyph 51088 (\\N{HANGUL SYLLABLE JA}) missing from current font.\n",
      "  fig.canvas.print_figure(bytes_io, **kw)\n",
      "C:\\Users\\user\\anaconda3\\lib\\site-packages\\IPython\\core\\pylabtools.py:151: UserWarning: Glyph 51064 (\\N{HANGUL SYLLABLE IN}) missing from current font.\n",
      "  fig.canvas.print_figure(bytes_io, **kw)\n",
      "C:\\Users\\user\\anaconda3\\lib\\site-packages\\IPython\\core\\pylabtools.py:151: UserWarning: Glyph 53812 (\\N{HANGUL SYLLABLE TUL}) missing from current font.\n",
      "  fig.canvas.print_figure(bytes_io, **kw)\n",
      "C:\\Users\\user\\anaconda3\\lib\\site-packages\\IPython\\core\\pylabtools.py:151: UserWarning: Glyph 50732 (\\N{HANGUL SYLLABLE OL}) missing from current font.\n",
      "  fig.canvas.print_figure(bytes_io, **kw)\n",
      "C:\\Users\\user\\anaconda3\\lib\\site-packages\\IPython\\core\\pylabtools.py:151: UserWarning: Glyph 50896 (\\N{HANGUL SYLLABLE WEON}) missing from current font.\n",
      "  fig.canvas.print_figure(bytes_io, **kw)\n",
      "C:\\Users\\user\\anaconda3\\lib\\site-packages\\IPython\\core\\pylabtools.py:151: UserWarning: Glyph 47196 (\\N{HANGUL SYLLABLE RO}) missing from current font.\n",
      "  fig.canvas.print_figure(bytes_io, **kw)\n",
      "C:\\Users\\user\\anaconda3\\lib\\site-packages\\IPython\\core\\pylabtools.py:151: UserWarning: Glyph 51229 (\\N{HANGUL SYLLABLE JEG}) missing from current font.\n",
      "  fig.canvas.print_figure(bytes_io, **kw)\n",
      "C:\\Users\\user\\anaconda3\\lib\\site-packages\\IPython\\core\\pylabtools.py:151: UserWarning: Glyph 50752 (\\N{HANGUL SYLLABLE WA}) missing from current font.\n",
      "  fig.canvas.print_figure(bytes_io, **kw)\n",
      "C:\\Users\\user\\anaconda3\\lib\\site-packages\\IPython\\core\\pylabtools.py:151: UserWarning: Glyph 54632 (\\N{HANGUL SYLLABLE HAM}) missing from current font.\n",
      "  fig.canvas.print_figure(bytes_io, **kw)\n",
      "C:\\Users\\user\\anaconda3\\lib\\site-packages\\IPython\\core\\pylabtools.py:151: UserWarning: Glyph 44760 (\\N{HANGUL SYLLABLE GGE}) missing from current font.\n",
      "  fig.canvas.print_figure(bytes_io, **kw)\n",
      "C:\\Users\\user\\anaconda3\\lib\\site-packages\\IPython\\core\\pylabtools.py:151: UserWarning: Glyph 48176 (\\N{HANGUL SYLLABLE BAE}) missing from current font.\n",
      "  fig.canvas.print_figure(bytes_io, **kw)\n",
      "C:\\Users\\user\\anaconda3\\lib\\site-packages\\IPython\\core\\pylabtools.py:151: UserWarning: Glyph 50864 (\\N{HANGUL SYLLABLE U}) missing from current font.\n",
      "  fig.canvas.print_figure(bytes_io, **kw)\n",
      "C:\\Users\\user\\anaconda3\\lib\\site-packages\\IPython\\core\\pylabtools.py:151: UserWarning: Glyph 45936 (\\N{HANGUL SYLLABLE DE}) missing from current font.\n",
      "  fig.canvas.print_figure(bytes_io, **kw)\n",
      "C:\\Users\\user\\anaconda3\\lib\\site-packages\\IPython\\core\\pylabtools.py:151: UserWarning: Glyph 51060 (\\N{HANGUL SYLLABLE I}) missing from current font.\n",
      "  fig.canvas.print_figure(bytes_io, **kw)\n",
      "C:\\Users\\user\\anaconda3\\lib\\site-packages\\IPython\\core\\pylabtools.py:151: UserWarning: Glyph 53552 (\\N{HANGUL SYLLABLE TEO}) missing from current font.\n",
      "  fig.canvas.print_figure(bytes_io, **kw)\n",
      "C:\\Users\\user\\anaconda3\\lib\\site-packages\\IPython\\core\\pylabtools.py:151: UserWarning: Glyph 48516 (\\N{HANGUL SYLLABLE BUN}) missing from current font.\n",
      "  fig.canvas.print_figure(bytes_io, **kw)\n",
      "C:\\Users\\user\\anaconda3\\lib\\site-packages\\IPython\\core\\pylabtools.py:151: UserWarning: Glyph 49437 (\\N{HANGUL SYLLABLE SEOG}) missing from current font.\n",
      "  fig.canvas.print_figure(bytes_io, **kw)\n",
      "C:\\Users\\user\\anaconda3\\lib\\site-packages\\IPython\\core\\pylabtools.py:151: UserWarning: Glyph 48177 (\\N{HANGUL SYLLABLE BAEG}) missing from current font.\n",
      "  fig.canvas.print_figure(bytes_io, **kw)\n",
      "C:\\Users\\user\\anaconda3\\lib\\site-packages\\IPython\\core\\pylabtools.py:151: UserWarning: Glyph 49468 (\\N{HANGUL SYLLABLE SEN}) missing from current font.\n",
      "  fig.canvas.print_figure(bytes_io, **kw)\n",
      "C:\\Users\\user\\anaconda3\\lib\\site-packages\\IPython\\core\\pylabtools.py:151: UserWarning: Glyph 49500 (\\N{HANGUL SYLLABLE SYEOL}) missing from current font.\n",
      "  fig.canvas.print_figure(bytes_io, **kw)\n",
      "C:\\Users\\user\\anaconda3\\lib\\site-packages\\IPython\\core\\pylabtools.py:151: UserWarning: Glyph 45824 (\\N{HANGUL SYLLABLE DAE}) missing from current font.\n",
      "  fig.canvas.print_figure(bytes_io, **kw)\n",
      "C:\\Users\\user\\anaconda3\\lib\\site-packages\\IPython\\core\\pylabtools.py:151: UserWarning: Glyph 50857 (\\N{HANGUL SYLLABLE YONG}) missing from current font.\n",
      "  fig.canvas.print_figure(bytes_io, **kw)\n",
      "C:\\Users\\user\\anaconda3\\lib\\site-packages\\IPython\\core\\pylabtools.py:151: UserWarning: Glyph 47049 (\\N{HANGUL SYLLABLE RYANG}) missing from current font.\n",
      "  fig.canvas.print_figure(bytes_io, **kw)\n",
      "C:\\Users\\user\\anaconda3\\lib\\site-packages\\IPython\\core\\pylabtools.py:151: UserWarning: Glyph 49436 (\\N{HANGUL SYLLABLE SEO}) missing from current font.\n",
      "  fig.canvas.print_figure(bytes_io, **kw)\n",
      "C:\\Users\\user\\anaconda3\\lib\\site-packages\\IPython\\core\\pylabtools.py:151: UserWarning: Glyph 48708 (\\N{HANGUL SYLLABLE BI}) missing from current font.\n",
      "  fig.canvas.print_figure(bytes_io, **kw)\n",
      "C:\\Users\\user\\anaconda3\\lib\\site-packages\\IPython\\core\\pylabtools.py:151: UserWarning: Glyph 49828 (\\N{HANGUL SYLLABLE SEU}) missing from current font.\n",
      "  fig.canvas.print_figure(bytes_io, **kw)\n",
      "C:\\Users\\user\\anaconda3\\lib\\site-packages\\IPython\\core\\pylabtools.py:151: UserWarning: Glyph 47484 (\\N{HANGUL SYLLABLE REUL}) missing from current font.\n",
      "  fig.canvas.print_figure(bytes_io, **kw)\n",
      "C:\\Users\\user\\anaconda3\\lib\\site-packages\\IPython\\core\\pylabtools.py:151: UserWarning: Glyph 50948 (\\N{HANGUL SYLLABLE WI}) missing from current font.\n",
      "  fig.canvas.print_figure(bytes_io, **kw)\n",
      "C:\\Users\\user\\anaconda3\\lib\\site-packages\\IPython\\core\\pylabtools.py:151: UserWarning: Glyph 50500 (\\N{HANGUL SYLLABLE A}) missing from current font.\n",
      "  fig.canvas.print_figure(bytes_io, **kw)\n",
      "C:\\Users\\user\\anaconda3\\lib\\site-packages\\IPython\\core\\pylabtools.py:151: UserWarning: Glyph 53581 (\\N{HANGUL SYLLABLE TEG}) missing from current font.\n",
      "  fig.canvas.print_figure(bytes_io, **kw)\n",
      "C:\\Users\\user\\anaconda3\\lib\\site-packages\\IPython\\core\\pylabtools.py:151: UserWarning: Glyph 52376 (\\N{HANGUL SYLLABLE CEO}) missing from current font.\n",
      "  fig.canvas.print_figure(bytes_io, **kw)\n",
      "C:\\Users\\user\\anaconda3\\lib\\site-packages\\IPython\\core\\pylabtools.py:151: UserWarning: Glyph 44053 (\\N{HANGUL SYLLABLE GANG}) missing from current font.\n",
      "  fig.canvas.print_figure(bytes_io, **kw)\n",
      "C:\\Users\\user\\anaconda3\\lib\\site-packages\\IPython\\core\\pylabtools.py:151: UserWarning: Glyph 47749 (\\N{HANGUL SYLLABLE MYEONG}) missing from current font.\n",
      "  fig.canvas.print_figure(bytes_io, **kw)\n",
      "C:\\Users\\user\\anaconda3\\lib\\site-packages\\IPython\\core\\pylabtools.py:151: UserWarning: Glyph 47588 (\\N{HANGUL SYLLABLE MAE}) missing from current font.\n",
      "  fig.canvas.print_figure(bytes_io, **kw)\n",
      "C:\\Users\\user\\anaconda3\\lib\\site-packages\\IPython\\core\\pylabtools.py:151: UserWarning: Glyph 51452 (\\N{HANGUL SYLLABLE JU}) missing from current font.\n",
      "  fig.canvas.print_figure(bytes_io, **kw)\n",
      "C:\\Users\\user\\anaconda3\\lib\\site-packages\\IPython\\core\\pylabtools.py:151: UserWarning: Glyph 51228 (\\N{HANGUL SYLLABLE JE}) missing from current font.\n",
      "  fig.canvas.print_figure(bytes_io, **kw)\n",
      "C:\\Users\\user\\anaconda3\\lib\\site-packages\\IPython\\core\\pylabtools.py:151: UserWarning: Glyph 51613 (\\N{HANGUL SYLLABLE JEUNG}) missing from current font.\n",
      "  fig.canvas.print_figure(bytes_io, **kw)\n",
      "C:\\Users\\user\\anaconda3\\lib\\site-packages\\IPython\\core\\pylabtools.py:151: UserWarning: Glyph 50756 (\\N{HANGUL SYLLABLE WAN}) missing from current font.\n",
      "  fig.canvas.print_figure(bytes_io, **kw)\n",
      "C:\\Users\\user\\anaconda3\\lib\\site-packages\\IPython\\core\\pylabtools.py:151: UserWarning: Glyph 49457 (\\N{HANGUL SYLLABLE SEONG}) missing from current font.\n",
      "  fig.canvas.print_figure(bytes_io, **kw)\n",
      "C:\\Users\\user\\anaconda3\\lib\\site-packages\\IPython\\core\\pylabtools.py:151: UserWarning: Glyph 50728 (\\N{HANGUL SYLLABLE ON}) missing from current font.\n",
      "  fig.canvas.print_figure(bytes_io, **kw)\n",
      "C:\\Users\\user\\anaconda3\\lib\\site-packages\\IPython\\core\\pylabtools.py:151: UserWarning: Glyph 46972 (\\N{HANGUL SYLLABLE RA}) missing from current font.\n",
      "  fig.canvas.print_figure(bytes_io, **kw)\n",
      "C:\\Users\\user\\anaconda3\\lib\\site-packages\\IPython\\core\\pylabtools.py:151: UserWarning: Glyph 48152 (\\N{HANGUL SYLLABLE BAN}) missing from current font.\n",
      "  fig.canvas.print_figure(bytes_io, **kw)\n",
      "C:\\Users\\user\\anaconda3\\lib\\site-packages\\IPython\\core\\pylabtools.py:151: UserWarning: Glyph 47784 (\\N{HANGUL SYLLABLE MO}) missing from current font.\n",
      "  fig.canvas.print_figure(bytes_io, **kw)\n",
      "C:\\Users\\user\\anaconda3\\lib\\site-packages\\IPython\\core\\pylabtools.py:151: UserWarning: Glyph 49496 (\\N{HANGUL SYLLABLE SYEON}) missing from current font.\n",
      "  fig.canvas.print_figure(bytes_io, **kw)\n",
      "C:\\Users\\user\\anaconda3\\lib\\site-packages\\IPython\\core\\pylabtools.py:151: UserWarning: Glyph 50892 (\\N{HANGUL SYLLABLE WEO}) missing from current font.\n",
      "  fig.canvas.print_figure(bytes_io, **kw)\n",
      "C:\\Users\\user\\anaconda3\\lib\\site-packages\\IPython\\core\\pylabtools.py:151: UserWarning: Glyph 48184 (\\N{HANGUL SYLLABLE BAEL}) missing from current font.\n",
      "  fig.canvas.print_figure(bytes_io, **kw)\n",
      "C:\\Users\\user\\anaconda3\\lib\\site-packages\\IPython\\core\\pylabtools.py:151: UserWarning: Glyph 51012 (\\N{HANGUL SYLLABLE EUL}) missing from current font.\n",
      "  fig.canvas.print_figure(bytes_io, **kw)\n",
      "C:\\Users\\user\\anaconda3\\lib\\site-packages\\IPython\\core\\pylabtools.py:151: UserWarning: Glyph 54616 (\\N{HANGUL SYLLABLE HA}) missing from current font.\n",
      "  fig.canvas.print_figure(bytes_io, **kw)\n",
      "C:\\Users\\user\\anaconda3\\lib\\site-packages\\IPython\\core\\pylabtools.py:151: UserWarning: Glyph 51649 (\\N{HANGUL SYLLABLE JIG}) missing from current font.\n",
      "  fig.canvas.print_figure(bytes_io, **kw)\n",
      "C:\\Users\\user\\anaconda3\\lib\\site-packages\\IPython\\core\\pylabtools.py:151: UserWarning: Glyph 51109 (\\N{HANGUL SYLLABLE JANG}) missing from current font.\n",
      "  fig.canvas.print_figure(bytes_io, **kw)\n",
      "C:\\Users\\user\\anaconda3\\lib\\site-packages\\IPython\\core\\pylabtools.py:151: UserWarning: Glyph 54596 (\\N{HANGUL SYLLABLE PIL}) missing from current font.\n",
      "  fig.canvas.print_figure(bytes_io, **kw)\n",
      "C:\\Users\\user\\anaconda3\\lib\\site-packages\\IPython\\core\\pylabtools.py:151: UserWarning: Glyph 49688 (\\N{HANGUL SYLLABLE SU}) missing from current font.\n",
      "  fig.canvas.print_figure(bytes_io, **kw)\n",
      "C:\\Users\\user\\anaconda3\\lib\\site-packages\\IPython\\core\\pylabtools.py:151: UserWarning: Glyph 53420 (\\N{HANGUL SYLLABLE KIL}) missing from current font.\n",
      "  fig.canvas.print_figure(bytes_io, **kw)\n",
      "C:\\Users\\user\\anaconda3\\lib\\site-packages\\IPython\\core\\pylabtools.py:151: UserWarning: Glyph 47924 (\\N{HANGUL SYLLABLE MU}) missing from current font.\n",
      "  fig.canvas.print_figure(bytes_io, **kw)\n",
      "C:\\Users\\user\\anaconda3\\lib\\site-packages\\IPython\\core\\pylabtools.py:151: UserWarning: Glyph 50900 (\\N{HANGUL SYLLABLE WEOL}) missing from current font.\n",
      "  fig.canvas.print_figure(bytes_io, **kw)\n",
      "C:\\Users\\user\\anaconda3\\lib\\site-packages\\IPython\\core\\pylabtools.py:151: UserWarning: Glyph 47532 (\\N{HANGUL SYLLABLE RI}) missing from current font.\n",
      "  fig.canvas.print_figure(bytes_io, **kw)\n"
     ]
    },
    {
     "data": {
      "image/png": "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\n",
      "text/plain": [
       "<Figure size 432x288 with 1 Axes>"
      ]
     },
     "metadata": {
      "needs_background": "light"
     },
     "output_type": "display_data"
    }
   ],
   "source": [
    "course_2.plot()\n",
    "plt.show()"
   ]
  },
  {
   "cell_type": "code",
   "execution_count": null,
   "id": "f61a25c9",
   "metadata": {},
   "outputs": [],
   "source": []
  },
  {
   "cell_type": "code",
   "execution_count": null,
   "id": "f3fde503",
   "metadata": {},
   "outputs": [],
   "source": []
  },
  {
   "cell_type": "code",
   "execution_count": 38,
   "id": "feb08327",
   "metadata": {
    "ExecuteTime": {
     "end_time": "2022-06-30T05:21:03.679662Z",
     "start_time": "2022-06-30T05:21:03.527742Z"
    }
   },
   "outputs": [
    {
     "name": "stderr",
     "output_type": "stream",
     "text": [
      "C:\\Users\\user\\anaconda3\\lib\\site-packages\\IPython\\core\\pylabtools.py:151: UserWarning: Glyph 52488 (\\N{HANGUL SYLLABLE CO}) missing from current font.\n",
      "  fig.canvas.print_figure(bytes_io, **kw)\n",
      "C:\\Users\\user\\anaconda3\\lib\\site-packages\\IPython\\core\\pylabtools.py:151: UserWarning: Glyph 44201 (\\N{HANGUL SYLLABLE GYEOG}) missing from current font.\n",
      "  fig.canvas.print_figure(bytes_io, **kw)\n",
      "C:\\Users\\user\\anaconda3\\lib\\site-packages\\IPython\\core\\pylabtools.py:151: UserWarning: Glyph 52264 (\\N{HANGUL SYLLABLE CA}) missing from current font.\n",
      "  fig.canvas.print_figure(bytes_io, **kw)\n",
      "C:\\Users\\user\\anaconda3\\lib\\site-packages\\IPython\\core\\pylabtools.py:151: UserWarning: Glyph 54056 (\\N{HANGUL SYLLABLE PAE}) missing from current font.\n",
      "  fig.canvas.print_figure(bytes_io, **kw)\n",
      "C:\\Users\\user\\anaconda3\\lib\\site-packages\\IPython\\core\\pylabtools.py:151: UserWarning: Glyph 53412 (\\N{HANGUL SYLLABLE KI}) missing from current font.\n",
      "  fig.canvas.print_figure(bytes_io, **kw)\n",
      "C:\\Users\\user\\anaconda3\\lib\\site-packages\\IPython\\core\\pylabtools.py:151: UserWarning: Glyph 51648 (\\N{HANGUL SYLLABLE JI}) missing from current font.\n",
      "  fig.canvas.print_figure(bytes_io, **kw)\n",
      "C:\\Users\\user\\anaconda3\\lib\\site-packages\\IPython\\core\\pylabtools.py:151: UserWarning: Glyph 54620 (\\N{HANGUL SYLLABLE HAN}) missing from current font.\n",
      "  fig.canvas.print_figure(bytes_io, **kw)\n",
      "C:\\Users\\user\\anaconda3\\lib\\site-packages\\IPython\\core\\pylabtools.py:151: UserWarning: Glyph 48264 (\\N{HANGUL SYLLABLE BEON}) missing from current font.\n",
      "  fig.canvas.print_figure(bytes_io, **kw)\n",
      "C:\\Users\\user\\anaconda3\\lib\\site-packages\\IPython\\core\\pylabtools.py:151: UserWarning: Glyph 50640 (\\N{HANGUL SYLLABLE E}) missing from current font.\n",
      "  fig.canvas.print_figure(bytes_io, **kw)\n",
      "C:\\Users\\user\\anaconda3\\lib\\site-packages\\IPython\\core\\pylabtools.py:151: UserWarning: Glyph 45149 (\\N{HANGUL SYLLABLE GGEUT}) missing from current font.\n",
      "  fig.canvas.print_figure(bytes_io, **kw)\n",
      "C:\\Users\\user\\anaconda3\\lib\\site-packages\\IPython\\core\\pylabtools.py:151: UserWarning: Glyph 45236 (\\N{HANGUL SYLLABLE NAE}) missing from current font.\n",
      "  fig.canvas.print_figure(bytes_io, **kw)\n",
      "C:\\Users\\user\\anaconda3\\lib\\site-packages\\IPython\\core\\pylabtools.py:151: UserWarning: Glyph 45716 (\\N{HANGUL SYLLABLE NEUN}) missing from current font.\n",
      "  fig.canvas.print_figure(bytes_io, **kw)\n",
      "C:\\Users\\user\\anaconda3\\lib\\site-packages\\IPython\\core\\pylabtools.py:151: UserWarning: Glyph 54532 (\\N{HANGUL SYLLABLE PEU}) missing from current font.\n",
      "  fig.canvas.print_figure(bytes_io, **kw)\n",
      "C:\\Users\\user\\anaconda3\\lib\\site-packages\\IPython\\core\\pylabtools.py:151: UserWarning: Glyph 47200 (\\N{HANGUL SYLLABLE RON}) missing from current font.\n",
      "  fig.canvas.print_figure(bytes_io, **kw)\n",
      "C:\\Users\\user\\anaconda3\\lib\\site-packages\\IPython\\core\\pylabtools.py:151: UserWarning: Glyph 53944 (\\N{HANGUL SYLLABLE TEU}) missing from current font.\n",
      "  fig.canvas.print_figure(bytes_io, **kw)\n",
      "C:\\Users\\user\\anaconda3\\lib\\site-packages\\IPython\\core\\pylabtools.py:151: UserWarning: Glyph 50644 (\\N{HANGUL SYLLABLE EN}) missing from current font.\n",
      "  fig.canvas.print_figure(bytes_io, **kw)\n",
      "C:\\Users\\user\\anaconda3\\lib\\site-packages\\IPython\\core\\pylabtools.py:151: UserWarning: Glyph 46300 (\\N{HANGUL SYLLABLE DEU}) missing from current font.\n",
      "  fig.canvas.print_figure(bytes_io, **kw)\n",
      "C:\\Users\\user\\anaconda3\\lib\\site-packages\\IPython\\core\\pylabtools.py:151: UserWarning: Glyph 44060 (\\N{HANGUL SYLLABLE GAE}) missing from current font.\n",
      "  fig.canvas.print_figure(bytes_io, **kw)\n",
      "C:\\Users\\user\\anaconda3\\lib\\site-packages\\IPython\\core\\pylabtools.py:151: UserWarning: Glyph 48156 (\\N{HANGUL SYLLABLE BAL}) missing from current font.\n",
      "  fig.canvas.print_figure(bytes_io, **kw)\n",
      "C:\\Users\\user\\anaconda3\\lib\\site-packages\\IPython\\core\\pylabtools.py:151: UserWarning: Glyph 50732 (\\N{HANGUL SYLLABLE OL}) missing from current font.\n",
      "  fig.canvas.print_figure(bytes_io, **kw)\n",
      "C:\\Users\\user\\anaconda3\\lib\\site-packages\\IPython\\core\\pylabtools.py:151: UserWarning: Glyph 51064 (\\N{HANGUL SYLLABLE IN}) missing from current font.\n",
      "  fig.canvas.print_figure(bytes_io, **kw)\n",
      "C:\\Users\\user\\anaconda3\\lib\\site-packages\\IPython\\core\\pylabtools.py:151: UserWarning: Glyph 50896 (\\N{HANGUL SYLLABLE WEON}) missing from current font.\n",
      "  fig.canvas.print_figure(bytes_io, **kw)\n",
      "C:\\Users\\user\\anaconda3\\lib\\site-packages\\IPython\\core\\pylabtools.py:151: UserWarning: Glyph 47196 (\\N{HANGUL SYLLABLE RO}) missing from current font.\n",
      "  fig.canvas.print_figure(bytes_io, **kw)\n",
      "C:\\Users\\user\\anaconda3\\lib\\site-packages\\IPython\\core\\pylabtools.py:151: UserWarning: Glyph 51229 (\\N{HANGUL SYLLABLE JEG}) missing from current font.\n",
      "  fig.canvas.print_figure(bytes_io, **kw)\n",
      "C:\\Users\\user\\anaconda3\\lib\\site-packages\\IPython\\core\\pylabtools.py:151: UserWarning: Glyph 50752 (\\N{HANGUL SYLLABLE WA}) missing from current font.\n",
      "  fig.canvas.print_figure(bytes_io, **kw)\n",
      "C:\\Users\\user\\anaconda3\\lib\\site-packages\\IPython\\core\\pylabtools.py:151: UserWarning: Glyph 54632 (\\N{HANGUL SYLLABLE HAM}) missing from current font.\n",
      "  fig.canvas.print_figure(bytes_io, **kw)\n",
      "C:\\Users\\user\\anaconda3\\lib\\site-packages\\IPython\\core\\pylabtools.py:151: UserWarning: Glyph 44760 (\\N{HANGUL SYLLABLE GGE}) missing from current font.\n",
      "  fig.canvas.print_figure(bytes_io, **kw)\n",
      "C:\\Users\\user\\anaconda3\\lib\\site-packages\\IPython\\core\\pylabtools.py:151: UserWarning: Glyph 48176 (\\N{HANGUL SYLLABLE BAE}) missing from current font.\n",
      "  fig.canvas.print_figure(bytes_io, **kw)\n",
      "C:\\Users\\user\\anaconda3\\lib\\site-packages\\IPython\\core\\pylabtools.py:151: UserWarning: Glyph 50864 (\\N{HANGUL SYLLABLE U}) missing from current font.\n",
      "  fig.canvas.print_figure(bytes_io, **kw)\n",
      "C:\\Users\\user\\anaconda3\\lib\\site-packages\\IPython\\core\\pylabtools.py:151: UserWarning: Glyph 45936 (\\N{HANGUL SYLLABLE DE}) missing from current font.\n",
      "  fig.canvas.print_figure(bytes_io, **kw)\n",
      "C:\\Users\\user\\anaconda3\\lib\\site-packages\\IPython\\core\\pylabtools.py:151: UserWarning: Glyph 51060 (\\N{HANGUL SYLLABLE I}) missing from current font.\n",
      "  fig.canvas.print_figure(bytes_io, **kw)\n",
      "C:\\Users\\user\\anaconda3\\lib\\site-packages\\IPython\\core\\pylabtools.py:151: UserWarning: Glyph 53552 (\\N{HANGUL SYLLABLE TEO}) missing from current font.\n",
      "  fig.canvas.print_figure(bytes_io, **kw)\n",
      "C:\\Users\\user\\anaconda3\\lib\\site-packages\\IPython\\core\\pylabtools.py:151: UserWarning: Glyph 48516 (\\N{HANGUL SYLLABLE BUN}) missing from current font.\n",
      "  fig.canvas.print_figure(bytes_io, **kw)\n",
      "C:\\Users\\user\\anaconda3\\lib\\site-packages\\IPython\\core\\pylabtools.py:151: UserWarning: Glyph 49437 (\\N{HANGUL SYLLABLE SEOG}) missing from current font.\n",
      "  fig.canvas.print_figure(bytes_io, **kw)\n",
      "C:\\Users\\user\\anaconda3\\lib\\site-packages\\IPython\\core\\pylabtools.py:151: UserWarning: Glyph 47588 (\\N{HANGUL SYLLABLE MAE}) missing from current font.\n",
      "  fig.canvas.print_figure(bytes_io, **kw)\n",
      "C:\\Users\\user\\anaconda3\\lib\\site-packages\\IPython\\core\\pylabtools.py:151: UserWarning: Glyph 51452 (\\N{HANGUL SYLLABLE JU}) missing from current font.\n",
      "  fig.canvas.print_figure(bytes_io, **kw)\n",
      "C:\\Users\\user\\anaconda3\\lib\\site-packages\\IPython\\core\\pylabtools.py:151: UserWarning: Glyph 51228 (\\N{HANGUL SYLLABLE JE}) missing from current font.\n",
      "  fig.canvas.print_figure(bytes_io, **kw)\n",
      "C:\\Users\\user\\anaconda3\\lib\\site-packages\\IPython\\core\\pylabtools.py:151: UserWarning: Glyph 51088 (\\N{HANGUL SYLLABLE JA}) missing from current font.\n",
      "  fig.canvas.print_figure(bytes_io, **kw)\n",
      "C:\\Users\\user\\anaconda3\\lib\\site-packages\\IPython\\core\\pylabtools.py:151: UserWarning: Glyph 51613 (\\N{HANGUL SYLLABLE JEUNG}) missing from current font.\n",
      "  fig.canvas.print_figure(bytes_io, **kw)\n",
      "C:\\Users\\user\\anaconda3\\lib\\site-packages\\IPython\\core\\pylabtools.py:151: UserWarning: Glyph 50756 (\\N{HANGUL SYLLABLE WAN}) missing from current font.\n",
      "  fig.canvas.print_figure(bytes_io, **kw)\n",
      "C:\\Users\\user\\anaconda3\\lib\\site-packages\\IPython\\core\\pylabtools.py:151: UserWarning: Glyph 49457 (\\N{HANGUL SYLLABLE SEONG}) missing from current font.\n",
      "  fig.canvas.print_figure(bytes_io, **kw)\n",
      "C:\\Users\\user\\anaconda3\\lib\\site-packages\\IPython\\core\\pylabtools.py:151: UserWarning: Glyph 50728 (\\N{HANGUL SYLLABLE ON}) missing from current font.\n",
      "  fig.canvas.print_figure(bytes_io, **kw)\n",
      "C:\\Users\\user\\anaconda3\\lib\\site-packages\\IPython\\core\\pylabtools.py:151: UserWarning: Glyph 46972 (\\N{HANGUL SYLLABLE RA}) missing from current font.\n",
      "  fig.canvas.print_figure(bytes_io, **kw)\n",
      "C:\\Users\\user\\anaconda3\\lib\\site-packages\\IPython\\core\\pylabtools.py:151: UserWarning: Glyph 48152 (\\N{HANGUL SYLLABLE BAN}) missing from current font.\n",
      "  fig.canvas.print_figure(bytes_io, **kw)\n",
      "C:\\Users\\user\\anaconda3\\lib\\site-packages\\IPython\\core\\pylabtools.py:151: UserWarning: Glyph 47784 (\\N{HANGUL SYLLABLE MO}) missing from current font.\n",
      "  fig.canvas.print_figure(bytes_io, **kw)\n",
      "C:\\Users\\user\\anaconda3\\lib\\site-packages\\IPython\\core\\pylabtools.py:151: UserWarning: Glyph 49496 (\\N{HANGUL SYLLABLE SYEON}) missing from current font.\n",
      "  fig.canvas.print_figure(bytes_io, **kw)\n",
      "C:\\Users\\user\\anaconda3\\lib\\site-packages\\IPython\\core\\pylabtools.py:151: UserWarning: Glyph 49912 (\\N{HANGUL SYLLABLE SSA}) missing from current font.\n",
      "  fig.canvas.print_figure(bytes_io, **kw)\n",
      "C:\\Users\\user\\anaconda3\\lib\\site-packages\\IPython\\core\\pylabtools.py:151: UserWarning: Glyph 53364 (\\N{HANGUL SYLLABLE KEUL}) missing from current font.\n",
      "  fig.canvas.print_figure(bytes_io, **kw)\n",
      "C:\\Users\\user\\anaconda3\\lib\\site-packages\\IPython\\core\\pylabtools.py:151: UserWarning: Glyph 47484 (\\N{HANGUL SYLLABLE REUL}) missing from current font.\n",
      "  fig.canvas.print_figure(bytes_io, **kw)\n",
      "C:\\Users\\user\\anaconda3\\lib\\site-packages\\IPython\\core\\pylabtools.py:151: UserWarning: Glyph 50948 (\\N{HANGUL SYLLABLE WI}) missing from current font.\n",
      "  fig.canvas.print_figure(bytes_io, **kw)\n",
      "C:\\Users\\user\\anaconda3\\lib\\site-packages\\IPython\\core\\pylabtools.py:151: UserWarning: Glyph 46373 (\\N{HANGUL SYLLABLE DIB}) missing from current font.\n",
      "  fig.canvas.print_figure(bytes_io, **kw)\n",
      "C:\\Users\\user\\anaconda3\\lib\\site-packages\\IPython\\core\\pylabtools.py:151: UserWarning: Glyph 47084 (\\N{HANGUL SYLLABLE REO}) missing from current font.\n",
      "  fig.canvas.print_figure(bytes_io, **kw)\n",
      "C:\\Users\\user\\anaconda3\\lib\\site-packages\\IPython\\core\\pylabtools.py:151: UserWarning: Glyph 45789 (\\N{HANGUL SYLLABLE NING}) missing from current font.\n",
      "  fig.canvas.print_figure(bytes_io, **kw)\n",
      "C:\\Users\\user\\anaconda3\\lib\\site-packages\\IPython\\core\\pylabtools.py:151: UserWarning: Glyph 50900 (\\N{HANGUL SYLLABLE WEOL}) missing from current font.\n",
      "  fig.canvas.print_figure(bytes_io, **kw)\n",
      "C:\\Users\\user\\anaconda3\\lib\\site-packages\\IPython\\core\\pylabtools.py:151: UserWarning: Glyph 47532 (\\N{HANGUL SYLLABLE RI}) missing from current font.\n",
      "  fig.canvas.print_figure(bytes_io, **kw)\n",
      "C:\\Users\\user\\anaconda3\\lib\\site-packages\\IPython\\core\\pylabtools.py:151: UserWarning: Glyph 49828 (\\N{HANGUL SYLLABLE SEU}) missing from current font.\n",
      "  fig.canvas.print_figure(bytes_io, **kw)\n",
      "C:\\Users\\user\\anaconda3\\lib\\site-packages\\IPython\\core\\pylabtools.py:151: UserWarning: Glyph 50672 (\\N{HANGUL SYLLABLE YEON}) missing from current font.\n",
      "  fig.canvas.print_figure(bytes_io, **kw)\n",
      "C:\\Users\\user\\anaconda3\\lib\\site-packages\\IPython\\core\\pylabtools.py:151: UserWarning: Glyph 48393 (\\N{HANGUL SYLLABLE BONG}) missing from current font.\n",
      "  fig.canvas.print_figure(bytes_io, **kw)\n",
      "C:\\Users\\user\\anaconda3\\lib\\site-packages\\IPython\\core\\pylabtools.py:151: UserWarning: Glyph 50526 (\\N{HANGUL SYLLABLE AP}) missing from current font.\n",
      "  fig.canvas.print_figure(bytes_io, **kw)\n",
      "C:\\Users\\user\\anaconda3\\lib\\site-packages\\IPython\\core\\pylabtools.py:151: UserWarning: Glyph 44032 (\\N{HANGUL SYLLABLE GA}) missing from current font.\n",
      "  fig.canvas.print_figure(bytes_io, **kw)\n",
      "C:\\Users\\user\\anaconda3\\lib\\site-packages\\IPython\\core\\pylabtools.py:151: UserWarning: Glyph 48148 (\\N{HANGUL SYLLABLE BA}) missing from current font.\n",
      "  fig.canvas.print_figure(bytes_io, **kw)\n",
      "C:\\Users\\user\\anaconda3\\lib\\site-packages\\IPython\\core\\pylabtools.py:151: UserWarning: Glyph 45068 (\\N{HANGUL SYLLABLE GGWI}) missing from current font.\n",
      "  fig.canvas.print_figure(bytes_io, **kw)\n",
      "C:\\Users\\user\\anaconda3\\lib\\site-packages\\IPython\\core\\pylabtools.py:151: UserWarning: Glyph 50545 (\\N{HANGUL SYLLABLE AEB}) missing from current font.\n",
      "  fig.canvas.print_figure(bytes_io, **kw)\n",
      "C:\\Users\\user\\anaconda3\\lib\\site-packages\\IPython\\core\\pylabtools.py:151: UserWarning: Glyph 54788 (\\N{HANGUL SYLLABLE HYEON}) missing from current font.\n",
      "  fig.canvas.print_figure(bytes_io, **kw)\n",
      "C:\\Users\\user\\anaconda3\\lib\\site-packages\\IPython\\core\\pylabtools.py:151: UserWarning: Glyph 47932 (\\N{HANGUL SYLLABLE MUL}) missing from current font.\n",
      "  fig.canvas.print_figure(bytes_io, **kw)\n",
      "C:\\Users\\user\\anaconda3\\lib\\site-packages\\IPython\\core\\pylabtools.py:151: UserWarning: Glyph 51068 (\\N{HANGUL SYLLABLE IL}) missing from current font.\n",
      "  fig.canvas.print_figure(bytes_io, **kw)\n",
      "C:\\Users\\user\\anaconda3\\lib\\site-packages\\IPython\\core\\pylabtools.py:151: UserWarning: Glyph 49688 (\\N{HANGUL SYLLABLE SU}) missing from current font.\n",
      "  fig.canvas.print_figure(bytes_io, **kw)\n",
      "C:\\Users\\user\\anaconda3\\lib\\site-packages\\IPython\\core\\pylabtools.py:151: UserWarning: Glyph 44053 (\\N{HANGUL SYLLABLE GANG}) missing from current font.\n",
      "  fig.canvas.print_figure(bytes_io, **kw)\n",
      "C:\\Users\\user\\anaconda3\\lib\\site-packages\\IPython\\core\\pylabtools.py:151: UserWarning: Glyph 45733 (\\N{HANGUL SYLLABLE NEUNG}) missing from current font.\n",
      "  fig.canvas.print_figure(bytes_io, **kw)\n",
      "C:\\Users\\user\\anaconda3\\lib\\site-packages\\IPython\\core\\pylabtools.py:151: UserWarning: Glyph 53457 (\\N{HANGUL SYLLABLE TAB}) missing from current font.\n",
      "  fig.canvas.print_figure(bytes_io, **kw)\n",
      "C:\\Users\\user\\anaconda3\\lib\\site-packages\\IPython\\core\\pylabtools.py:151: UserWarning: Glyph 51116 (\\N{HANGUL SYLLABLE JAE}) missing from current font.\n",
      "  fig.canvas.print_figure(bytes_io, **kw)\n",
      "C:\\Users\\user\\anaconda3\\lib\\site-packages\\IPython\\core\\pylabtools.py:151: UserWarning: Glyph 44396 (\\N{HANGUL SYLLABLE GU}) missing from current font.\n",
      "  fig.canvas.print_figure(bytes_io, **kw)\n",
      "C:\\Users\\user\\anaconda3\\lib\\site-packages\\IPython\\core\\pylabtools.py:151: UserWarning: Glyph 44544 (\\N{HANGUL SYLLABLE GEUL}) missing from current font.\n",
      "  fig.canvas.print_figure(bytes_io, **kw)\n",
      "C:\\Users\\user\\anaconda3\\lib\\site-packages\\IPython\\core\\pylabtools.py:151: UserWarning: Glyph 50528 (\\N{HANGUL SYLLABLE AE}) missing from current font.\n",
      "  fig.canvas.print_figure(bytes_io, **kw)\n",
      "C:\\Users\\user\\anaconda3\\lib\\site-packages\\IPython\\core\\pylabtools.py:151: UserWarning: Glyph 45328 (\\N{HANGUL SYLLABLE NEOL}) missing from current font.\n",
      "  fig.canvas.print_figure(bytes_io, **kw)\n",
      "C:\\Users\\user\\anaconda3\\lib\\site-packages\\IPython\\core\\pylabtools.py:151: UserWarning: Glyph 54001 (\\N{HANGUL SYLLABLE TIG}) missing from current font.\n",
      "  fig.canvas.print_figure(bytes_io, **kw)\n",
      "C:\\Users\\user\\anaconda3\\lib\\site-packages\\IPython\\core\\pylabtools.py:151: UserWarning: Glyph 51109 (\\N{HANGUL SYLLABLE JANG}) missing from current font.\n",
      "  fig.canvas.print_figure(bytes_io, **kw)\n",
      "C:\\Users\\user\\anaconda3\\lib\\site-packages\\IPython\\core\\pylabtools.py:151: UserWarning: Glyph 44592 (\\N{HANGUL SYLLABLE GI}) missing from current font.\n",
      "  fig.canvas.print_figure(bytes_io, **kw)\n",
      "C:\\Users\\user\\anaconda3\\lib\\site-packages\\IPython\\core\\pylabtools.py:151: UserWarning: Glyph 53080 (\\N{HANGUL SYLLABLE KON}) missing from current font.\n",
      "  fig.canvas.print_figure(bytes_io, **kw)\n",
      "C:\\Users\\user\\anaconda3\\lib\\site-packages\\IPython\\core\\pylabtools.py:151: UserWarning: Glyph 53584 (\\N{HANGUL SYLLABLE TEN}) missing from current font.\n",
      "  fig.canvas.print_figure(bytes_io, **kw)\n",
      "C:\\Users\\user\\anaconda3\\lib\\site-packages\\IPython\\core\\pylabtools.py:151: UserWarning: Glyph 52768 (\\N{HANGUL SYLLABLE CEU}) missing from current font.\n",
      "  fig.canvas.print_figure(bytes_io, **kw)\n",
      "C:\\Users\\user\\anaconda3\\lib\\site-packages\\IPython\\core\\pylabtools.py:151: UserWarning: Glyph 47560 (\\N{HANGUL SYLLABLE MA}) missing from current font.\n",
      "  fig.canvas.print_figure(bytes_io, **kw)\n",
      "C:\\Users\\user\\anaconda3\\lib\\site-packages\\IPython\\core\\pylabtools.py:151: UserWarning: Glyph 52992 (\\N{HANGUL SYLLABLE KE}) missing from current font.\n",
      "  fig.canvas.print_figure(bytes_io, **kw)\n",
      "C:\\Users\\user\\anaconda3\\lib\\site-packages\\IPython\\core\\pylabtools.py:151: UserWarning: Glyph 54021 (\\N{HANGUL SYLLABLE TING}) missing from current font.\n",
      "  fig.canvas.print_figure(bytes_io, **kw)\n"
     ]
    },
    {
     "data": {
      "image/png": "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\n",
      "text/plain": [
       "<Figure size 432x288 with 1 Axes>"
      ]
     },
     "metadata": {
      "needs_background": "light"
     },
     "output_type": "display_data"
    }
   ],
   "source": [
    "course_.plot()\n",
    "plt.show()"
   ]
  },
  {
   "cell_type": "code",
   "execution_count": 34,
   "id": "61883a6a",
   "metadata": {
    "ExecuteTime": {
     "end_time": "2022-06-30T05:19:39.901336Z",
     "start_time": "2022-06-30T05:19:39.780137Z"
    }
   },
   "outputs": [
    {
     "name": "stdout",
     "output_type": "stream",
     "text": [
      "<class 'pandas.core.frame.DataFrame'>\n",
      "RangeIndex: 101102 entries, 0 to 101101\n",
      "Data columns (total 17 columns):\n",
      " #   Column                  Non-Null Count   Dtype         \n",
      "---  ------                  --------------   -----         \n",
      " 0   id                      101102 non-null  int64         \n",
      " 1   customer_id             101102 non-null  int64         \n",
      " 2   course_id               101102 non-null  int64         \n",
      " 3   type                    101102 non-null  object        \n",
      " 4   state                   101102 non-null  object        \n",
      " 5   course_title            101102 non-null  object        \n",
      " 6   category_title          101102 non-null  object        \n",
      " 7   format                  101102 non-null  object        \n",
      " 8   completed_at            101102 non-null  datetime64[ns]\n",
      " 9   transaction_amount      101102 non-null  int64         \n",
      " 10  coupon_title            101102 non-null  object        \n",
      " 11  coupon_discount_amount  101102 non-null  int64         \n",
      " 12  sale_price              101102 non-null  int64         \n",
      " 13  pg                      101102 non-null  object        \n",
      " 14  method                  101102 non-null  object        \n",
      " 15  subcategory_title       101102 non-null  object        \n",
      " 16  marketing_start_at      101102 non-null  datetime64[ns]\n",
      "dtypes: datetime64[ns](2), int64(6), object(9)\n",
      "memory usage: 13.1+ MB\n"
     ]
    }
   ],
   "source": [
    "df.info()"
   ]
  },
  {
   "cell_type": "code",
   "execution_count": 17,
   "id": "130149df",
   "metadata": {
    "ExecuteTime": {
     "end_time": "2022-06-30T05:10:13.649415Z",
     "start_time": "2022-06-30T05:10:13.637710Z"
    }
   },
   "outputs": [],
   "source": [
    "co_s = df['course_title']"
   ]
  },
  {
   "cell_type": "code",
   "execution_count": 18,
   "id": "1e81eac6",
   "metadata": {
    "ExecuteTime": {
     "end_time": "2022-06-30T05:10:14.574452Z",
     "start_time": "2022-06-30T05:10:14.365746Z"
    }
   },
   "outputs": [
    {
     "ename": "TypeError",
     "evalue": "unsupported operand type(s) for -: 'str' and 'str'",
     "output_type": "error",
     "traceback": [
      "\u001b[1;31m---------------------------------------------------------------------------\u001b[0m",
      "\u001b[1;31mTypeError\u001b[0m                                 Traceback (most recent call last)",
      "Input \u001b[1;32mIn [18]\u001b[0m, in \u001b[0;36m<cell line: 1>\u001b[1;34m()\u001b[0m\n\u001b[1;32m----> 1\u001b[0m co_ss\u001b[38;5;241m=\u001b[39mco_s[co_s\u001b[38;5;241m>\u001b[39m\u001b[38;5;241m=\u001b[39m\u001b[43mco_s\u001b[49m\u001b[38;5;241;43m.\u001b[39;49m\u001b[43mquantile\u001b[49m\u001b[43m(\u001b[49m\u001b[38;5;241;43m0.95\u001b[39;49m\u001b[43m)\u001b[49m]\n",
      "File \u001b[1;32m~\\anaconda3\\lib\\site-packages\\pandas\\core\\series.py:2497\u001b[0m, in \u001b[0;36mSeries.quantile\u001b[1;34m(self, q, interpolation)\u001b[0m\n\u001b[0;32m   2493\u001b[0m \u001b[38;5;66;03m# We dispatch to DataFrame so that core.internals only has to worry\u001b[39;00m\n\u001b[0;32m   2494\u001b[0m \u001b[38;5;66;03m#  about 2D cases.\u001b[39;00m\n\u001b[0;32m   2495\u001b[0m df \u001b[38;5;241m=\u001b[39m \u001b[38;5;28mself\u001b[39m\u001b[38;5;241m.\u001b[39mto_frame()\n\u001b[1;32m-> 2497\u001b[0m result \u001b[38;5;241m=\u001b[39m \u001b[43mdf\u001b[49m\u001b[38;5;241;43m.\u001b[39;49m\u001b[43mquantile\u001b[49m\u001b[43m(\u001b[49m\u001b[43mq\u001b[49m\u001b[38;5;241;43m=\u001b[39;49m\u001b[43mq\u001b[49m\u001b[43m,\u001b[49m\u001b[43m \u001b[49m\u001b[43minterpolation\u001b[49m\u001b[38;5;241;43m=\u001b[39;49m\u001b[43minterpolation\u001b[49m\u001b[43m,\u001b[49m\u001b[43m \u001b[49m\u001b[43mnumeric_only\u001b[49m\u001b[38;5;241;43m=\u001b[39;49m\u001b[38;5;28;43;01mFalse\u001b[39;49;00m\u001b[43m)\u001b[49m\n\u001b[0;32m   2498\u001b[0m \u001b[38;5;28;01mif\u001b[39;00m result\u001b[38;5;241m.\u001b[39mndim \u001b[38;5;241m==\u001b[39m \u001b[38;5;241m2\u001b[39m:\n\u001b[0;32m   2499\u001b[0m     result \u001b[38;5;241m=\u001b[39m result\u001b[38;5;241m.\u001b[39miloc[:, \u001b[38;5;241m0\u001b[39m]\n",
      "File \u001b[1;32m~\\anaconda3\\lib\\site-packages\\pandas\\core\\frame.py:10484\u001b[0m, in \u001b[0;36mDataFrame.quantile\u001b[1;34m(self, q, axis, numeric_only, interpolation)\u001b[0m\n\u001b[0;32m  10480\u001b[0m validate_percentile(q)\n\u001b[0;32m  10482\u001b[0m \u001b[38;5;28;01mif\u001b[39;00m \u001b[38;5;129;01mnot\u001b[39;00m is_list_like(q):\n\u001b[0;32m  10483\u001b[0m     \u001b[38;5;66;03m# BlockManager.quantile expects listlike, so we wrap and unwrap here\u001b[39;00m\n\u001b[1;32m> 10484\u001b[0m     res \u001b[38;5;241m=\u001b[39m \u001b[38;5;28;43mself\u001b[39;49m\u001b[38;5;241;43m.\u001b[39;49m\u001b[43mquantile\u001b[49m\u001b[43m(\u001b[49m\n\u001b[0;32m  10485\u001b[0m \u001b[43m        \u001b[49m\u001b[43m[\u001b[49m\u001b[43mq\u001b[49m\u001b[43m]\u001b[49m\u001b[43m,\u001b[49m\u001b[43m \u001b[49m\u001b[43maxis\u001b[49m\u001b[38;5;241;43m=\u001b[39;49m\u001b[43maxis\u001b[49m\u001b[43m,\u001b[49m\u001b[43m \u001b[49m\u001b[43mnumeric_only\u001b[49m\u001b[38;5;241;43m=\u001b[39;49m\u001b[43mnumeric_only\u001b[49m\u001b[43m,\u001b[49m\u001b[43m \u001b[49m\u001b[43minterpolation\u001b[49m\u001b[38;5;241;43m=\u001b[39;49m\u001b[43minterpolation\u001b[49m\n\u001b[0;32m  10486\u001b[0m \u001b[43m    \u001b[49m\u001b[43m)\u001b[49m\n\u001b[0;32m  10487\u001b[0m     \u001b[38;5;28;01mreturn\u001b[39;00m res\u001b[38;5;241m.\u001b[39miloc[\u001b[38;5;241m0\u001b[39m]\n\u001b[0;32m  10489\u001b[0m q \u001b[38;5;241m=\u001b[39m Index(q, dtype\u001b[38;5;241m=\u001b[39mnp\u001b[38;5;241m.\u001b[39mfloat64)\n",
      "File \u001b[1;32m~\\anaconda3\\lib\\site-packages\\pandas\\core\\frame.py:10503\u001b[0m, in \u001b[0;36mDataFrame.quantile\u001b[1;34m(self, q, axis, numeric_only, interpolation)\u001b[0m\n\u001b[0;32m  10500\u001b[0m         \u001b[38;5;28;01mreturn\u001b[39;00m \u001b[38;5;28mself\u001b[39m\u001b[38;5;241m.\u001b[39m_constructor([], index\u001b[38;5;241m=\u001b[39mq, columns\u001b[38;5;241m=\u001b[39mcols)\n\u001b[0;32m  10501\u001b[0m     \u001b[38;5;28;01mreturn\u001b[39;00m \u001b[38;5;28mself\u001b[39m\u001b[38;5;241m.\u001b[39m_constructor_sliced([], index\u001b[38;5;241m=\u001b[39mcols, name\u001b[38;5;241m=\u001b[39mq, dtype\u001b[38;5;241m=\u001b[39mnp\u001b[38;5;241m.\u001b[39mfloat64)\n\u001b[1;32m> 10503\u001b[0m res \u001b[38;5;241m=\u001b[39m \u001b[43mdata\u001b[49m\u001b[38;5;241;43m.\u001b[39;49m\u001b[43m_mgr\u001b[49m\u001b[38;5;241;43m.\u001b[39;49m\u001b[43mquantile\u001b[49m\u001b[43m(\u001b[49m\u001b[43mqs\u001b[49m\u001b[38;5;241;43m=\u001b[39;49m\u001b[43mq\u001b[49m\u001b[43m,\u001b[49m\u001b[43m \u001b[49m\u001b[43maxis\u001b[49m\u001b[38;5;241;43m=\u001b[39;49m\u001b[38;5;241;43m1\u001b[39;49m\u001b[43m,\u001b[49m\u001b[43m \u001b[49m\u001b[43minterpolation\u001b[49m\u001b[38;5;241;43m=\u001b[39;49m\u001b[43minterpolation\u001b[49m\u001b[43m)\u001b[49m\n\u001b[0;32m  10505\u001b[0m result \u001b[38;5;241m=\u001b[39m \u001b[38;5;28mself\u001b[39m\u001b[38;5;241m.\u001b[39m_constructor(res)\n\u001b[0;32m  10506\u001b[0m \u001b[38;5;28;01mreturn\u001b[39;00m result\n",
      "File \u001b[1;32m~\\anaconda3\\lib\\site-packages\\pandas\\core\\internals\\managers.py:1451\u001b[0m, in \u001b[0;36mBlockManager.quantile\u001b[1;34m(self, qs, axis, interpolation)\u001b[0m\n\u001b[0;32m   1448\u001b[0m new_axes \u001b[38;5;241m=\u001b[39m \u001b[38;5;28mlist\u001b[39m(\u001b[38;5;28mself\u001b[39m\u001b[38;5;241m.\u001b[39maxes)\n\u001b[0;32m   1449\u001b[0m new_axes[\u001b[38;5;241m1\u001b[39m] \u001b[38;5;241m=\u001b[39m Float64Index(qs)\n\u001b[1;32m-> 1451\u001b[0m blocks \u001b[38;5;241m=\u001b[39m [\n\u001b[0;32m   1452\u001b[0m     blk\u001b[38;5;241m.\u001b[39mquantile(axis\u001b[38;5;241m=\u001b[39maxis, qs\u001b[38;5;241m=\u001b[39mqs, interpolation\u001b[38;5;241m=\u001b[39minterpolation)\n\u001b[0;32m   1453\u001b[0m     \u001b[38;5;28;01mfor\u001b[39;00m blk \u001b[38;5;129;01min\u001b[39;00m \u001b[38;5;28mself\u001b[39m\u001b[38;5;241m.\u001b[39mblocks\n\u001b[0;32m   1454\u001b[0m ]\n\u001b[0;32m   1456\u001b[0m \u001b[38;5;28;01mreturn\u001b[39;00m \u001b[38;5;28mtype\u001b[39m(\u001b[38;5;28mself\u001b[39m)(blocks, new_axes)\n",
      "File \u001b[1;32m~\\anaconda3\\lib\\site-packages\\pandas\\core\\internals\\managers.py:1452\u001b[0m, in \u001b[0;36m<listcomp>\u001b[1;34m(.0)\u001b[0m\n\u001b[0;32m   1448\u001b[0m new_axes \u001b[38;5;241m=\u001b[39m \u001b[38;5;28mlist\u001b[39m(\u001b[38;5;28mself\u001b[39m\u001b[38;5;241m.\u001b[39maxes)\n\u001b[0;32m   1449\u001b[0m new_axes[\u001b[38;5;241m1\u001b[39m] \u001b[38;5;241m=\u001b[39m Float64Index(qs)\n\u001b[0;32m   1451\u001b[0m blocks \u001b[38;5;241m=\u001b[39m [\n\u001b[1;32m-> 1452\u001b[0m     \u001b[43mblk\u001b[49m\u001b[38;5;241;43m.\u001b[39;49m\u001b[43mquantile\u001b[49m\u001b[43m(\u001b[49m\u001b[43maxis\u001b[49m\u001b[38;5;241;43m=\u001b[39;49m\u001b[43maxis\u001b[49m\u001b[43m,\u001b[49m\u001b[43m \u001b[49m\u001b[43mqs\u001b[49m\u001b[38;5;241;43m=\u001b[39;49m\u001b[43mqs\u001b[49m\u001b[43m,\u001b[49m\u001b[43m \u001b[49m\u001b[43minterpolation\u001b[49m\u001b[38;5;241;43m=\u001b[39;49m\u001b[43minterpolation\u001b[49m\u001b[43m)\u001b[49m\n\u001b[0;32m   1453\u001b[0m     \u001b[38;5;28;01mfor\u001b[39;00m blk \u001b[38;5;129;01min\u001b[39;00m \u001b[38;5;28mself\u001b[39m\u001b[38;5;241m.\u001b[39mblocks\n\u001b[0;32m   1454\u001b[0m ]\n\u001b[0;32m   1456\u001b[0m \u001b[38;5;28;01mreturn\u001b[39;00m \u001b[38;5;28mtype\u001b[39m(\u001b[38;5;28mself\u001b[39m)(blocks, new_axes)\n",
      "File \u001b[1;32m~\\anaconda3\\lib\\site-packages\\pandas\\core\\internals\\blocks.py:1343\u001b[0m, in \u001b[0;36mBlock.quantile\u001b[1;34m(self, qs, interpolation, axis)\u001b[0m\n\u001b[0;32m   1340\u001b[0m \u001b[38;5;28;01massert\u001b[39;00m axis \u001b[38;5;241m==\u001b[39m \u001b[38;5;241m1\u001b[39m  \u001b[38;5;66;03m# only ever called this way\u001b[39;00m\n\u001b[0;32m   1341\u001b[0m \u001b[38;5;28;01massert\u001b[39;00m is_list_like(qs)  \u001b[38;5;66;03m# caller is responsible for this\u001b[39;00m\n\u001b[1;32m-> 1343\u001b[0m result \u001b[38;5;241m=\u001b[39m \u001b[43mquantile_compat\u001b[49m\u001b[43m(\u001b[49m\u001b[38;5;28;43mself\u001b[39;49m\u001b[38;5;241;43m.\u001b[39;49m\u001b[43mvalues\u001b[49m\u001b[43m,\u001b[49m\u001b[43m \u001b[49m\u001b[43mnp\u001b[49m\u001b[38;5;241;43m.\u001b[39;49m\u001b[43masarray\u001b[49m\u001b[43m(\u001b[49m\u001b[43mqs\u001b[49m\u001b[38;5;241;43m.\u001b[39;49m\u001b[43m_values\u001b[49m\u001b[43m)\u001b[49m\u001b[43m,\u001b[49m\u001b[43m \u001b[49m\u001b[43minterpolation\u001b[49m\u001b[43m)\u001b[49m\n\u001b[0;32m   1344\u001b[0m \u001b[38;5;66;03m# ensure_block_shape needed for cases where we start with EA and result\u001b[39;00m\n\u001b[0;32m   1345\u001b[0m \u001b[38;5;66;03m#  is ndarray, e.g. IntegerArray, SparseArray\u001b[39;00m\n\u001b[0;32m   1346\u001b[0m result \u001b[38;5;241m=\u001b[39m ensure_block_shape(result, ndim\u001b[38;5;241m=\u001b[39m\u001b[38;5;241m2\u001b[39m)\n",
      "File \u001b[1;32m~\\anaconda3\\lib\\site-packages\\pandas\\core\\array_algos\\quantile.py:38\u001b[0m, in \u001b[0;36mquantile_compat\u001b[1;34m(values, qs, interpolation)\u001b[0m\n\u001b[0;32m     36\u001b[0m     fill_value \u001b[38;5;241m=\u001b[39m na_value_for_dtype(values\u001b[38;5;241m.\u001b[39mdtype, compat\u001b[38;5;241m=\u001b[39m\u001b[38;5;28;01mFalse\u001b[39;00m)\n\u001b[0;32m     37\u001b[0m     mask \u001b[38;5;241m=\u001b[39m isna(values)\n\u001b[1;32m---> 38\u001b[0m     \u001b[38;5;28;01mreturn\u001b[39;00m \u001b[43mquantile_with_mask\u001b[49m\u001b[43m(\u001b[49m\u001b[43mvalues\u001b[49m\u001b[43m,\u001b[49m\u001b[43m \u001b[49m\u001b[43mmask\u001b[49m\u001b[43m,\u001b[49m\u001b[43m \u001b[49m\u001b[43mfill_value\u001b[49m\u001b[43m,\u001b[49m\u001b[43m \u001b[49m\u001b[43mqs\u001b[49m\u001b[43m,\u001b[49m\u001b[43m \u001b[49m\u001b[43minterpolation\u001b[49m\u001b[43m)\u001b[49m\n\u001b[0;32m     39\u001b[0m \u001b[38;5;28;01melse\u001b[39;00m:\n\u001b[0;32m     40\u001b[0m     \u001b[38;5;28;01mreturn\u001b[39;00m values\u001b[38;5;241m.\u001b[39m_quantile(qs, interpolation)\n",
      "File \u001b[1;32m~\\anaconda3\\lib\\site-packages\\pandas\\core\\array_algos\\quantile.py:88\u001b[0m, in \u001b[0;36mquantile_with_mask\u001b[1;34m(values, mask, fill_value, qs, interpolation)\u001b[0m\n\u001b[0;32m     86\u001b[0m     result \u001b[38;5;241m=\u001b[39m np\u001b[38;5;241m.\u001b[39mrepeat(flat, \u001b[38;5;28mlen\u001b[39m(values))\u001b[38;5;241m.\u001b[39mreshape(\u001b[38;5;28mlen\u001b[39m(values), \u001b[38;5;28mlen\u001b[39m(qs))\n\u001b[0;32m     87\u001b[0m \u001b[38;5;28;01melse\u001b[39;00m:\n\u001b[1;32m---> 88\u001b[0m     result \u001b[38;5;241m=\u001b[39m \u001b[43m_nanpercentile\u001b[49m\u001b[43m(\u001b[49m\n\u001b[0;32m     89\u001b[0m \u001b[43m        \u001b[49m\u001b[43mvalues\u001b[49m\u001b[43m,\u001b[49m\n\u001b[0;32m     90\u001b[0m \u001b[43m        \u001b[49m\u001b[43mqs\u001b[49m\u001b[43m \u001b[49m\u001b[38;5;241;43m*\u001b[39;49m\u001b[43m \u001b[49m\u001b[38;5;241;43m100.0\u001b[39;49m\u001b[43m,\u001b[49m\n\u001b[0;32m     91\u001b[0m \u001b[43m        \u001b[49m\u001b[43mna_value\u001b[49m\u001b[38;5;241;43m=\u001b[39;49m\u001b[43mfill_value\u001b[49m\u001b[43m,\u001b[49m\n\u001b[0;32m     92\u001b[0m \u001b[43m        \u001b[49m\u001b[43mmask\u001b[49m\u001b[38;5;241;43m=\u001b[39;49m\u001b[43mmask\u001b[49m\u001b[43m,\u001b[49m\n\u001b[0;32m     93\u001b[0m \u001b[43m        \u001b[49m\u001b[43minterpolation\u001b[49m\u001b[38;5;241;43m=\u001b[39;49m\u001b[43minterpolation\u001b[49m\u001b[43m,\u001b[49m\n\u001b[0;32m     94\u001b[0m \u001b[43m    \u001b[49m\u001b[43m)\u001b[49m\n\u001b[0;32m     96\u001b[0m     result \u001b[38;5;241m=\u001b[39m np\u001b[38;5;241m.\u001b[39marray(result, copy\u001b[38;5;241m=\u001b[39m\u001b[38;5;28;01mFalse\u001b[39;00m)\n\u001b[0;32m     97\u001b[0m     result \u001b[38;5;241m=\u001b[39m result\u001b[38;5;241m.\u001b[39mT\n",
      "File \u001b[1;32m~\\anaconda3\\lib\\site-packages\\pandas\\core\\array_algos\\quantile.py:186\u001b[0m, in \u001b[0;36m_nanpercentile\u001b[1;34m(values, qs, na_value, mask, interpolation)\u001b[0m\n\u001b[0;32m    184\u001b[0m     \u001b[38;5;28;01mreturn\u001b[39;00m result\n\u001b[0;32m    185\u001b[0m \u001b[38;5;28;01melse\u001b[39;00m:\n\u001b[1;32m--> 186\u001b[0m     \u001b[38;5;28;01mreturn\u001b[39;00m np\u001b[38;5;241m.\u001b[39mpercentile(\n\u001b[0;32m    187\u001b[0m         values, qs, axis\u001b[38;5;241m=\u001b[39m\u001b[38;5;241m1\u001b[39m, \u001b[38;5;241m*\u001b[39m\u001b[38;5;241m*\u001b[39m{np_percentile_argname: interpolation}\n\u001b[0;32m    188\u001b[0m     )\n",
      "File \u001b[1;32m<__array_function__ internals>:5\u001b[0m, in \u001b[0;36mpercentile\u001b[1;34m(*args, **kwargs)\u001b[0m\n",
      "File \u001b[1;32m~\\anaconda3\\lib\\site-packages\\numpy\\lib\\function_base.py:3867\u001b[0m, in \u001b[0;36mpercentile\u001b[1;34m(a, q, axis, out, overwrite_input, interpolation, keepdims)\u001b[0m\n\u001b[0;32m   3865\u001b[0m \u001b[38;5;28;01mif\u001b[39;00m \u001b[38;5;129;01mnot\u001b[39;00m _quantile_is_valid(q):\n\u001b[0;32m   3866\u001b[0m     \u001b[38;5;28;01mraise\u001b[39;00m \u001b[38;5;167;01mValueError\u001b[39;00m(\u001b[38;5;124m\"\u001b[39m\u001b[38;5;124mPercentiles must be in the range [0, 100]\u001b[39m\u001b[38;5;124m\"\u001b[39m)\n\u001b[1;32m-> 3867\u001b[0m \u001b[38;5;28;01mreturn\u001b[39;00m \u001b[43m_quantile_unchecked\u001b[49m\u001b[43m(\u001b[49m\n\u001b[0;32m   3868\u001b[0m \u001b[43m    \u001b[49m\u001b[43ma\u001b[49m\u001b[43m,\u001b[49m\u001b[43m \u001b[49m\u001b[43mq\u001b[49m\u001b[43m,\u001b[49m\u001b[43m \u001b[49m\u001b[43maxis\u001b[49m\u001b[43m,\u001b[49m\u001b[43m \u001b[49m\u001b[43mout\u001b[49m\u001b[43m,\u001b[49m\u001b[43m \u001b[49m\u001b[43moverwrite_input\u001b[49m\u001b[43m,\u001b[49m\u001b[43m \u001b[49m\u001b[43minterpolation\u001b[49m\u001b[43m,\u001b[49m\u001b[43m \u001b[49m\u001b[43mkeepdims\u001b[49m\u001b[43m)\u001b[49m\n",
      "File \u001b[1;32m~\\anaconda3\\lib\\site-packages\\numpy\\lib\\function_base.py:3986\u001b[0m, in \u001b[0;36m_quantile_unchecked\u001b[1;34m(a, q, axis, out, overwrite_input, interpolation, keepdims)\u001b[0m\n\u001b[0;32m   3983\u001b[0m \u001b[38;5;28;01mdef\u001b[39;00m \u001b[38;5;21m_quantile_unchecked\u001b[39m(a, q, axis\u001b[38;5;241m=\u001b[39m\u001b[38;5;28;01mNone\u001b[39;00m, out\u001b[38;5;241m=\u001b[39m\u001b[38;5;28;01mNone\u001b[39;00m, overwrite_input\u001b[38;5;241m=\u001b[39m\u001b[38;5;28;01mFalse\u001b[39;00m,\n\u001b[0;32m   3984\u001b[0m                         interpolation\u001b[38;5;241m=\u001b[39m\u001b[38;5;124m'\u001b[39m\u001b[38;5;124mlinear\u001b[39m\u001b[38;5;124m'\u001b[39m, keepdims\u001b[38;5;241m=\u001b[39m\u001b[38;5;28;01mFalse\u001b[39;00m):\n\u001b[0;32m   3985\u001b[0m     \u001b[38;5;124;03m\"\"\"Assumes that q is in [0, 1], and is an ndarray\"\"\"\u001b[39;00m\n\u001b[1;32m-> 3986\u001b[0m     r, k \u001b[38;5;241m=\u001b[39m \u001b[43m_ureduce\u001b[49m\u001b[43m(\u001b[49m\u001b[43ma\u001b[49m\u001b[43m,\u001b[49m\u001b[43m \u001b[49m\u001b[43mfunc\u001b[49m\u001b[38;5;241;43m=\u001b[39;49m\u001b[43m_quantile_ureduce_func\u001b[49m\u001b[43m,\u001b[49m\u001b[43m \u001b[49m\u001b[43mq\u001b[49m\u001b[38;5;241;43m=\u001b[39;49m\u001b[43mq\u001b[49m\u001b[43m,\u001b[49m\u001b[43m \u001b[49m\u001b[43maxis\u001b[49m\u001b[38;5;241;43m=\u001b[39;49m\u001b[43maxis\u001b[49m\u001b[43m,\u001b[49m\u001b[43m \u001b[49m\u001b[43mout\u001b[49m\u001b[38;5;241;43m=\u001b[39;49m\u001b[43mout\u001b[49m\u001b[43m,\u001b[49m\n\u001b[0;32m   3987\u001b[0m \u001b[43m                    \u001b[49m\u001b[43moverwrite_input\u001b[49m\u001b[38;5;241;43m=\u001b[39;49m\u001b[43moverwrite_input\u001b[49m\u001b[43m,\u001b[49m\n\u001b[0;32m   3988\u001b[0m \u001b[43m                    \u001b[49m\u001b[43minterpolation\u001b[49m\u001b[38;5;241;43m=\u001b[39;49m\u001b[43minterpolation\u001b[49m\u001b[43m)\u001b[49m\n\u001b[0;32m   3989\u001b[0m     \u001b[38;5;28;01mif\u001b[39;00m keepdims:\n\u001b[0;32m   3990\u001b[0m         \u001b[38;5;28;01mreturn\u001b[39;00m r\u001b[38;5;241m.\u001b[39mreshape(q\u001b[38;5;241m.\u001b[39mshape \u001b[38;5;241m+\u001b[39m k)\n",
      "File \u001b[1;32m~\\anaconda3\\lib\\site-packages\\numpy\\lib\\function_base.py:3564\u001b[0m, in \u001b[0;36m_ureduce\u001b[1;34m(a, func, **kwargs)\u001b[0m\n\u001b[0;32m   3561\u001b[0m \u001b[38;5;28;01melse\u001b[39;00m:\n\u001b[0;32m   3562\u001b[0m     keepdim \u001b[38;5;241m=\u001b[39m (\u001b[38;5;241m1\u001b[39m,) \u001b[38;5;241m*\u001b[39m a\u001b[38;5;241m.\u001b[39mndim\n\u001b[1;32m-> 3564\u001b[0m r \u001b[38;5;241m=\u001b[39m func(a, \u001b[38;5;241m*\u001b[39m\u001b[38;5;241m*\u001b[39mkwargs)\n\u001b[0;32m   3565\u001b[0m \u001b[38;5;28;01mreturn\u001b[39;00m r, keepdim\n",
      "File \u001b[1;32m~\\anaconda3\\lib\\site-packages\\numpy\\lib\\function_base.py:4112\u001b[0m, in \u001b[0;36m_quantile_ureduce_func\u001b[1;34m(***failed resolving arguments***)\u001b[0m\n\u001b[0;32m   4109\u001b[0m     x_below \u001b[38;5;241m=\u001b[39m take(ap, indices_below, axis\u001b[38;5;241m=\u001b[39m\u001b[38;5;241m0\u001b[39m)\n\u001b[0;32m   4110\u001b[0m     x_above \u001b[38;5;241m=\u001b[39m take(ap, indices_above, axis\u001b[38;5;241m=\u001b[39m\u001b[38;5;241m0\u001b[39m)\n\u001b[1;32m-> 4112\u001b[0m     r \u001b[38;5;241m=\u001b[39m \u001b[43m_lerp\u001b[49m\u001b[43m(\u001b[49m\u001b[43mx_below\u001b[49m\u001b[43m,\u001b[49m\u001b[43m \u001b[49m\u001b[43mx_above\u001b[49m\u001b[43m,\u001b[49m\u001b[43m \u001b[49m\u001b[43mweights_above\u001b[49m\u001b[43m,\u001b[49m\u001b[43m \u001b[49m\u001b[43mout\u001b[49m\u001b[38;5;241;43m=\u001b[39;49m\u001b[43mout\u001b[49m\u001b[43m)\u001b[49m\n\u001b[0;32m   4114\u001b[0m \u001b[38;5;66;03m# if any slice contained a nan, then all results on that slice are also nan\u001b[39;00m\n\u001b[0;32m   4115\u001b[0m \u001b[38;5;28;01mif\u001b[39;00m np\u001b[38;5;241m.\u001b[39many(n):\n",
      "File \u001b[1;32m~\\anaconda3\\lib\\site-packages\\numpy\\lib\\function_base.py:4009\u001b[0m, in \u001b[0;36m_lerp\u001b[1;34m(a, b, t, out)\u001b[0m\n\u001b[0;32m   4007\u001b[0m \u001b[38;5;28;01mdef\u001b[39;00m \u001b[38;5;21m_lerp\u001b[39m(a, b, t, out\u001b[38;5;241m=\u001b[39m\u001b[38;5;28;01mNone\u001b[39;00m):\n\u001b[0;32m   4008\u001b[0m     \u001b[38;5;124;03m\"\"\" Linearly interpolate from a to b by a factor of t \"\"\"\u001b[39;00m\n\u001b[1;32m-> 4009\u001b[0m     diff_b_a \u001b[38;5;241m=\u001b[39m \u001b[43msubtract\u001b[49m\u001b[43m(\u001b[49m\u001b[43mb\u001b[49m\u001b[43m,\u001b[49m\u001b[43m \u001b[49m\u001b[43ma\u001b[49m\u001b[43m)\u001b[49m\n\u001b[0;32m   4010\u001b[0m     \u001b[38;5;66;03m# asanyarray is a stop-gap until gh-13105\u001b[39;00m\n\u001b[0;32m   4011\u001b[0m     lerp_interpolation \u001b[38;5;241m=\u001b[39m asanyarray(add(a, diff_b_a\u001b[38;5;241m*\u001b[39mt, out\u001b[38;5;241m=\u001b[39mout))\n",
      "\u001b[1;31mTypeError\u001b[0m: unsupported operand type(s) for -: 'str' and 'str'"
     ]
    }
   ],
   "source": [
    "co_ss=course_all[co_s>=co_s.quantile(0.95)]"
   ]
  },
  {
   "cell_type": "code",
   "execution_count": 18,
   "id": "94811b56",
   "metadata": {
    "ExecuteTime": {
     "end_time": "2022-06-30T04:29:05.965170Z",
     "start_time": "2022-06-30T04:29:05.829014Z"
    }
   },
   "outputs": [
    {
     "name": "stderr",
     "output_type": "stream",
     "text": [
      "C:\\Users\\user\\anaconda3\\lib\\site-packages\\IPython\\core\\pylabtools.py:151: UserWarning: Glyph 52488 (\\N{HANGUL SYLLABLE CO}) missing from current font.\n",
      "  fig.canvas.print_figure(bytes_io, **kw)\n",
      "C:\\Users\\user\\anaconda3\\lib\\site-packages\\IPython\\core\\pylabtools.py:151: UserWarning: Glyph 44201 (\\N{HANGUL SYLLABLE GYEOG}) missing from current font.\n",
      "  fig.canvas.print_figure(bytes_io, **kw)\n",
      "C:\\Users\\user\\anaconda3\\lib\\site-packages\\IPython\\core\\pylabtools.py:151: UserWarning: Glyph 52264 (\\N{HANGUL SYLLABLE CA}) missing from current font.\n",
      "  fig.canvas.print_figure(bytes_io, **kw)\n",
      "C:\\Users\\user\\anaconda3\\lib\\site-packages\\IPython\\core\\pylabtools.py:151: UserWarning: Glyph 54056 (\\N{HANGUL SYLLABLE PAE}) missing from current font.\n",
      "  fig.canvas.print_figure(bytes_io, **kw)\n",
      "C:\\Users\\user\\anaconda3\\lib\\site-packages\\IPython\\core\\pylabtools.py:151: UserWarning: Glyph 53412 (\\N{HANGUL SYLLABLE KI}) missing from current font.\n",
      "  fig.canvas.print_figure(bytes_io, **kw)\n",
      "C:\\Users\\user\\anaconda3\\lib\\site-packages\\IPython\\core\\pylabtools.py:151: UserWarning: Glyph 51648 (\\N{HANGUL SYLLABLE JI}) missing from current font.\n",
      "  fig.canvas.print_figure(bytes_io, **kw)\n",
      "C:\\Users\\user\\anaconda3\\lib\\site-packages\\IPython\\core\\pylabtools.py:151: UserWarning: Glyph 54620 (\\N{HANGUL SYLLABLE HAN}) missing from current font.\n",
      "  fig.canvas.print_figure(bytes_io, **kw)\n",
      "C:\\Users\\user\\anaconda3\\lib\\site-packages\\IPython\\core\\pylabtools.py:151: UserWarning: Glyph 48264 (\\N{HANGUL SYLLABLE BEON}) missing from current font.\n",
      "  fig.canvas.print_figure(bytes_io, **kw)\n",
      "C:\\Users\\user\\anaconda3\\lib\\site-packages\\IPython\\core\\pylabtools.py:151: UserWarning: Glyph 50640 (\\N{HANGUL SYLLABLE E}) missing from current font.\n",
      "  fig.canvas.print_figure(bytes_io, **kw)\n",
      "C:\\Users\\user\\anaconda3\\lib\\site-packages\\IPython\\core\\pylabtools.py:151: UserWarning: Glyph 45149 (\\N{HANGUL SYLLABLE GGEUT}) missing from current font.\n",
      "  fig.canvas.print_figure(bytes_io, **kw)\n",
      "C:\\Users\\user\\anaconda3\\lib\\site-packages\\IPython\\core\\pylabtools.py:151: UserWarning: Glyph 45236 (\\N{HANGUL SYLLABLE NAE}) missing from current font.\n",
      "  fig.canvas.print_figure(bytes_io, **kw)\n",
      "C:\\Users\\user\\anaconda3\\lib\\site-packages\\IPython\\core\\pylabtools.py:151: UserWarning: Glyph 45716 (\\N{HANGUL SYLLABLE NEUN}) missing from current font.\n",
      "  fig.canvas.print_figure(bytes_io, **kw)\n",
      "C:\\Users\\user\\anaconda3\\lib\\site-packages\\IPython\\core\\pylabtools.py:151: UserWarning: Glyph 54532 (\\N{HANGUL SYLLABLE PEU}) missing from current font.\n",
      "  fig.canvas.print_figure(bytes_io, **kw)\n",
      "C:\\Users\\user\\anaconda3\\lib\\site-packages\\IPython\\core\\pylabtools.py:151: UserWarning: Glyph 47200 (\\N{HANGUL SYLLABLE RON}) missing from current font.\n",
      "  fig.canvas.print_figure(bytes_io, **kw)\n",
      "C:\\Users\\user\\anaconda3\\lib\\site-packages\\IPython\\core\\pylabtools.py:151: UserWarning: Glyph 53944 (\\N{HANGUL SYLLABLE TEU}) missing from current font.\n",
      "  fig.canvas.print_figure(bytes_io, **kw)\n",
      "C:\\Users\\user\\anaconda3\\lib\\site-packages\\IPython\\core\\pylabtools.py:151: UserWarning: Glyph 50644 (\\N{HANGUL SYLLABLE EN}) missing from current font.\n",
      "  fig.canvas.print_figure(bytes_io, **kw)\n",
      "C:\\Users\\user\\anaconda3\\lib\\site-packages\\IPython\\core\\pylabtools.py:151: UserWarning: Glyph 46300 (\\N{HANGUL SYLLABLE DEU}) missing from current font.\n",
      "  fig.canvas.print_figure(bytes_io, **kw)\n",
      "C:\\Users\\user\\anaconda3\\lib\\site-packages\\IPython\\core\\pylabtools.py:151: UserWarning: Glyph 44060 (\\N{HANGUL SYLLABLE GAE}) missing from current font.\n",
      "  fig.canvas.print_figure(bytes_io, **kw)\n",
      "C:\\Users\\user\\anaconda3\\lib\\site-packages\\IPython\\core\\pylabtools.py:151: UserWarning: Glyph 48156 (\\N{HANGUL SYLLABLE BAL}) missing from current font.\n",
      "  fig.canvas.print_figure(bytes_io, **kw)\n",
      "C:\\Users\\user\\anaconda3\\lib\\site-packages\\IPython\\core\\pylabtools.py:151: UserWarning: Glyph 50732 (\\N{HANGUL SYLLABLE OL}) missing from current font.\n",
      "  fig.canvas.print_figure(bytes_io, **kw)\n",
      "C:\\Users\\user\\anaconda3\\lib\\site-packages\\IPython\\core\\pylabtools.py:151: UserWarning: Glyph 51064 (\\N{HANGUL SYLLABLE IN}) missing from current font.\n",
      "  fig.canvas.print_figure(bytes_io, **kw)\n",
      "C:\\Users\\user\\anaconda3\\lib\\site-packages\\IPython\\core\\pylabtools.py:151: UserWarning: Glyph 50896 (\\N{HANGUL SYLLABLE WEON}) missing from current font.\n",
      "  fig.canvas.print_figure(bytes_io, **kw)\n",
      "C:\\Users\\user\\anaconda3\\lib\\site-packages\\IPython\\core\\pylabtools.py:151: UserWarning: Glyph 47196 (\\N{HANGUL SYLLABLE RO}) missing from current font.\n",
      "  fig.canvas.print_figure(bytes_io, **kw)\n",
      "C:\\Users\\user\\anaconda3\\lib\\site-packages\\IPython\\core\\pylabtools.py:151: UserWarning: Glyph 51229 (\\N{HANGUL SYLLABLE JEG}) missing from current font.\n",
      "  fig.canvas.print_figure(bytes_io, **kw)\n",
      "C:\\Users\\user\\anaconda3\\lib\\site-packages\\IPython\\core\\pylabtools.py:151: UserWarning: Glyph 50752 (\\N{HANGUL SYLLABLE WA}) missing from current font.\n",
      "  fig.canvas.print_figure(bytes_io, **kw)\n",
      "C:\\Users\\user\\anaconda3\\lib\\site-packages\\IPython\\core\\pylabtools.py:151: UserWarning: Glyph 54632 (\\N{HANGUL SYLLABLE HAM}) missing from current font.\n",
      "  fig.canvas.print_figure(bytes_io, **kw)\n",
      "C:\\Users\\user\\anaconda3\\lib\\site-packages\\IPython\\core\\pylabtools.py:151: UserWarning: Glyph 44760 (\\N{HANGUL SYLLABLE GGE}) missing from current font.\n",
      "  fig.canvas.print_figure(bytes_io, **kw)\n",
      "C:\\Users\\user\\anaconda3\\lib\\site-packages\\IPython\\core\\pylabtools.py:151: UserWarning: Glyph 48176 (\\N{HANGUL SYLLABLE BAE}) missing from current font.\n",
      "  fig.canvas.print_figure(bytes_io, **kw)\n",
      "C:\\Users\\user\\anaconda3\\lib\\site-packages\\IPython\\core\\pylabtools.py:151: UserWarning: Glyph 50864 (\\N{HANGUL SYLLABLE U}) missing from current font.\n",
      "  fig.canvas.print_figure(bytes_io, **kw)\n",
      "C:\\Users\\user\\anaconda3\\lib\\site-packages\\IPython\\core\\pylabtools.py:151: UserWarning: Glyph 45936 (\\N{HANGUL SYLLABLE DE}) missing from current font.\n",
      "  fig.canvas.print_figure(bytes_io, **kw)\n",
      "C:\\Users\\user\\anaconda3\\lib\\site-packages\\IPython\\core\\pylabtools.py:151: UserWarning: Glyph 51060 (\\N{HANGUL SYLLABLE I}) missing from current font.\n",
      "  fig.canvas.print_figure(bytes_io, **kw)\n",
      "C:\\Users\\user\\anaconda3\\lib\\site-packages\\IPython\\core\\pylabtools.py:151: UserWarning: Glyph 53552 (\\N{HANGUL SYLLABLE TEO}) missing from current font.\n",
      "  fig.canvas.print_figure(bytes_io, **kw)\n",
      "C:\\Users\\user\\anaconda3\\lib\\site-packages\\IPython\\core\\pylabtools.py:151: UserWarning: Glyph 48516 (\\N{HANGUL SYLLABLE BUN}) missing from current font.\n",
      "  fig.canvas.print_figure(bytes_io, **kw)\n",
      "C:\\Users\\user\\anaconda3\\lib\\site-packages\\IPython\\core\\pylabtools.py:151: UserWarning: Glyph 49437 (\\N{HANGUL SYLLABLE SEOG}) missing from current font.\n",
      "  fig.canvas.print_figure(bytes_io, **kw)\n",
      "C:\\Users\\user\\anaconda3\\lib\\site-packages\\IPython\\core\\pylabtools.py:151: UserWarning: Glyph 47588 (\\N{HANGUL SYLLABLE MAE}) missing from current font.\n",
      "  fig.canvas.print_figure(bytes_io, **kw)\n",
      "C:\\Users\\user\\anaconda3\\lib\\site-packages\\IPython\\core\\pylabtools.py:151: UserWarning: Glyph 51452 (\\N{HANGUL SYLLABLE JU}) missing from current font.\n",
      "  fig.canvas.print_figure(bytes_io, **kw)\n",
      "C:\\Users\\user\\anaconda3\\lib\\site-packages\\IPython\\core\\pylabtools.py:151: UserWarning: Glyph 51228 (\\N{HANGUL SYLLABLE JE}) missing from current font.\n",
      "  fig.canvas.print_figure(bytes_io, **kw)\n",
      "C:\\Users\\user\\anaconda3\\lib\\site-packages\\IPython\\core\\pylabtools.py:151: UserWarning: Glyph 51088 (\\N{HANGUL SYLLABLE JA}) missing from current font.\n",
      "  fig.canvas.print_figure(bytes_io, **kw)\n",
      "C:\\Users\\user\\anaconda3\\lib\\site-packages\\IPython\\core\\pylabtools.py:151: UserWarning: Glyph 51613 (\\N{HANGUL SYLLABLE JEUNG}) missing from current font.\n",
      "  fig.canvas.print_figure(bytes_io, **kw)\n",
      "C:\\Users\\user\\anaconda3\\lib\\site-packages\\IPython\\core\\pylabtools.py:151: UserWarning: Glyph 50756 (\\N{HANGUL SYLLABLE WAN}) missing from current font.\n",
      "  fig.canvas.print_figure(bytes_io, **kw)\n",
      "C:\\Users\\user\\anaconda3\\lib\\site-packages\\IPython\\core\\pylabtools.py:151: UserWarning: Glyph 49457 (\\N{HANGUL SYLLABLE SEONG}) missing from current font.\n",
      "  fig.canvas.print_figure(bytes_io, **kw)\n",
      "C:\\Users\\user\\anaconda3\\lib\\site-packages\\IPython\\core\\pylabtools.py:151: UserWarning: Glyph 50728 (\\N{HANGUL SYLLABLE ON}) missing from current font.\n",
      "  fig.canvas.print_figure(bytes_io, **kw)\n",
      "C:\\Users\\user\\anaconda3\\lib\\site-packages\\IPython\\core\\pylabtools.py:151: UserWarning: Glyph 46972 (\\N{HANGUL SYLLABLE RA}) missing from current font.\n",
      "  fig.canvas.print_figure(bytes_io, **kw)\n",
      "C:\\Users\\user\\anaconda3\\lib\\site-packages\\IPython\\core\\pylabtools.py:151: UserWarning: Glyph 48152 (\\N{HANGUL SYLLABLE BAN}) missing from current font.\n",
      "  fig.canvas.print_figure(bytes_io, **kw)\n",
      "C:\\Users\\user\\anaconda3\\lib\\site-packages\\IPython\\core\\pylabtools.py:151: UserWarning: Glyph 47784 (\\N{HANGUL SYLLABLE MO}) missing from current font.\n",
      "  fig.canvas.print_figure(bytes_io, **kw)\n",
      "C:\\Users\\user\\anaconda3\\lib\\site-packages\\IPython\\core\\pylabtools.py:151: UserWarning: Glyph 49496 (\\N{HANGUL SYLLABLE SYEON}) missing from current font.\n",
      "  fig.canvas.print_figure(bytes_io, **kw)\n",
      "C:\\Users\\user\\anaconda3\\lib\\site-packages\\IPython\\core\\pylabtools.py:151: UserWarning: Glyph 49912 (\\N{HANGUL SYLLABLE SSA}) missing from current font.\n",
      "  fig.canvas.print_figure(bytes_io, **kw)\n",
      "C:\\Users\\user\\anaconda3\\lib\\site-packages\\IPython\\core\\pylabtools.py:151: UserWarning: Glyph 53364 (\\N{HANGUL SYLLABLE KEUL}) missing from current font.\n",
      "  fig.canvas.print_figure(bytes_io, **kw)\n",
      "C:\\Users\\user\\anaconda3\\lib\\site-packages\\IPython\\core\\pylabtools.py:151: UserWarning: Glyph 47484 (\\N{HANGUL SYLLABLE REUL}) missing from current font.\n",
      "  fig.canvas.print_figure(bytes_io, **kw)\n",
      "C:\\Users\\user\\anaconda3\\lib\\site-packages\\IPython\\core\\pylabtools.py:151: UserWarning: Glyph 50948 (\\N{HANGUL SYLLABLE WI}) missing from current font.\n",
      "  fig.canvas.print_figure(bytes_io, **kw)\n",
      "C:\\Users\\user\\anaconda3\\lib\\site-packages\\IPython\\core\\pylabtools.py:151: UserWarning: Glyph 46373 (\\N{HANGUL SYLLABLE DIB}) missing from current font.\n",
      "  fig.canvas.print_figure(bytes_io, **kw)\n",
      "C:\\Users\\user\\anaconda3\\lib\\site-packages\\IPython\\core\\pylabtools.py:151: UserWarning: Glyph 47084 (\\N{HANGUL SYLLABLE REO}) missing from current font.\n",
      "  fig.canvas.print_figure(bytes_io, **kw)\n",
      "C:\\Users\\user\\anaconda3\\lib\\site-packages\\IPython\\core\\pylabtools.py:151: UserWarning: Glyph 45789 (\\N{HANGUL SYLLABLE NING}) missing from current font.\n",
      "  fig.canvas.print_figure(bytes_io, **kw)\n",
      "C:\\Users\\user\\anaconda3\\lib\\site-packages\\IPython\\core\\pylabtools.py:151: UserWarning: Glyph 50900 (\\N{HANGUL SYLLABLE WEOL}) missing from current font.\n",
      "  fig.canvas.print_figure(bytes_io, **kw)\n",
      "C:\\Users\\user\\anaconda3\\lib\\site-packages\\IPython\\core\\pylabtools.py:151: UserWarning: Glyph 47532 (\\N{HANGUL SYLLABLE RI}) missing from current font.\n",
      "  fig.canvas.print_figure(bytes_io, **kw)\n",
      "C:\\Users\\user\\anaconda3\\lib\\site-packages\\IPython\\core\\pylabtools.py:151: UserWarning: Glyph 49828 (\\N{HANGUL SYLLABLE SEU}) missing from current font.\n",
      "  fig.canvas.print_figure(bytes_io, **kw)\n",
      "C:\\Users\\user\\anaconda3\\lib\\site-packages\\IPython\\core\\pylabtools.py:151: UserWarning: Glyph 50672 (\\N{HANGUL SYLLABLE YEON}) missing from current font.\n",
      "  fig.canvas.print_figure(bytes_io, **kw)\n",
      "C:\\Users\\user\\anaconda3\\lib\\site-packages\\IPython\\core\\pylabtools.py:151: UserWarning: Glyph 48393 (\\N{HANGUL SYLLABLE BONG}) missing from current font.\n",
      "  fig.canvas.print_figure(bytes_io, **kw)\n",
      "C:\\Users\\user\\anaconda3\\lib\\site-packages\\IPython\\core\\pylabtools.py:151: UserWarning: Glyph 50526 (\\N{HANGUL SYLLABLE AP}) missing from current font.\n",
      "  fig.canvas.print_figure(bytes_io, **kw)\n",
      "C:\\Users\\user\\anaconda3\\lib\\site-packages\\IPython\\core\\pylabtools.py:151: UserWarning: Glyph 44032 (\\N{HANGUL SYLLABLE GA}) missing from current font.\n",
      "  fig.canvas.print_figure(bytes_io, **kw)\n",
      "C:\\Users\\user\\anaconda3\\lib\\site-packages\\IPython\\core\\pylabtools.py:151: UserWarning: Glyph 48148 (\\N{HANGUL SYLLABLE BA}) missing from current font.\n",
      "  fig.canvas.print_figure(bytes_io, **kw)\n",
      "C:\\Users\\user\\anaconda3\\lib\\site-packages\\IPython\\core\\pylabtools.py:151: UserWarning: Glyph 45068 (\\N{HANGUL SYLLABLE GGWI}) missing from current font.\n",
      "  fig.canvas.print_figure(bytes_io, **kw)\n",
      "C:\\Users\\user\\anaconda3\\lib\\site-packages\\IPython\\core\\pylabtools.py:151: UserWarning: Glyph 50545 (\\N{HANGUL SYLLABLE AEB}) missing from current font.\n",
      "  fig.canvas.print_figure(bytes_io, **kw)\n",
      "C:\\Users\\user\\anaconda3\\lib\\site-packages\\IPython\\core\\pylabtools.py:151: UserWarning: Glyph 54788 (\\N{HANGUL SYLLABLE HYEON}) missing from current font.\n",
      "  fig.canvas.print_figure(bytes_io, **kw)\n",
      "C:\\Users\\user\\anaconda3\\lib\\site-packages\\IPython\\core\\pylabtools.py:151: UserWarning: Glyph 47932 (\\N{HANGUL SYLLABLE MUL}) missing from current font.\n",
      "  fig.canvas.print_figure(bytes_io, **kw)\n",
      "C:\\Users\\user\\anaconda3\\lib\\site-packages\\IPython\\core\\pylabtools.py:151: UserWarning: Glyph 51068 (\\N{HANGUL SYLLABLE IL}) missing from current font.\n",
      "  fig.canvas.print_figure(bytes_io, **kw)\n",
      "C:\\Users\\user\\anaconda3\\lib\\site-packages\\IPython\\core\\pylabtools.py:151: UserWarning: Glyph 49688 (\\N{HANGUL SYLLABLE SU}) missing from current font.\n",
      "  fig.canvas.print_figure(bytes_io, **kw)\n",
      "C:\\Users\\user\\anaconda3\\lib\\site-packages\\IPython\\core\\pylabtools.py:151: UserWarning: Glyph 44053 (\\N{HANGUL SYLLABLE GANG}) missing from current font.\n",
      "  fig.canvas.print_figure(bytes_io, **kw)\n",
      "C:\\Users\\user\\anaconda3\\lib\\site-packages\\IPython\\core\\pylabtools.py:151: UserWarning: Glyph 45733 (\\N{HANGUL SYLLABLE NEUNG}) missing from current font.\n",
      "  fig.canvas.print_figure(bytes_io, **kw)\n",
      "C:\\Users\\user\\anaconda3\\lib\\site-packages\\IPython\\core\\pylabtools.py:151: UserWarning: Glyph 53457 (\\N{HANGUL SYLLABLE TAB}) missing from current font.\n",
      "  fig.canvas.print_figure(bytes_io, **kw)\n",
      "C:\\Users\\user\\anaconda3\\lib\\site-packages\\IPython\\core\\pylabtools.py:151: UserWarning: Glyph 51116 (\\N{HANGUL SYLLABLE JAE}) missing from current font.\n",
      "  fig.canvas.print_figure(bytes_io, **kw)\n",
      "C:\\Users\\user\\anaconda3\\lib\\site-packages\\IPython\\core\\pylabtools.py:151: UserWarning: Glyph 44396 (\\N{HANGUL SYLLABLE GU}) missing from current font.\n",
      "  fig.canvas.print_figure(bytes_io, **kw)\n",
      "C:\\Users\\user\\anaconda3\\lib\\site-packages\\IPython\\core\\pylabtools.py:151: UserWarning: Glyph 44544 (\\N{HANGUL SYLLABLE GEUL}) missing from current font.\n",
      "  fig.canvas.print_figure(bytes_io, **kw)\n",
      "C:\\Users\\user\\anaconda3\\lib\\site-packages\\IPython\\core\\pylabtools.py:151: UserWarning: Glyph 50528 (\\N{HANGUL SYLLABLE AE}) missing from current font.\n",
      "  fig.canvas.print_figure(bytes_io, **kw)\n",
      "C:\\Users\\user\\anaconda3\\lib\\site-packages\\IPython\\core\\pylabtools.py:151: UserWarning: Glyph 45328 (\\N{HANGUL SYLLABLE NEOL}) missing from current font.\n",
      "  fig.canvas.print_figure(bytes_io, **kw)\n",
      "C:\\Users\\user\\anaconda3\\lib\\site-packages\\IPython\\core\\pylabtools.py:151: UserWarning: Glyph 54001 (\\N{HANGUL SYLLABLE TIG}) missing from current font.\n",
      "  fig.canvas.print_figure(bytes_io, **kw)\n",
      "C:\\Users\\user\\anaconda3\\lib\\site-packages\\IPython\\core\\pylabtools.py:151: UserWarning: Glyph 51109 (\\N{HANGUL SYLLABLE JANG}) missing from current font.\n",
      "  fig.canvas.print_figure(bytes_io, **kw)\n",
      "C:\\Users\\user\\anaconda3\\lib\\site-packages\\IPython\\core\\pylabtools.py:151: UserWarning: Glyph 44592 (\\N{HANGUL SYLLABLE GI}) missing from current font.\n",
      "  fig.canvas.print_figure(bytes_io, **kw)\n",
      "C:\\Users\\user\\anaconda3\\lib\\site-packages\\IPython\\core\\pylabtools.py:151: UserWarning: Glyph 53080 (\\N{HANGUL SYLLABLE KON}) missing from current font.\n",
      "  fig.canvas.print_figure(bytes_io, **kw)\n",
      "C:\\Users\\user\\anaconda3\\lib\\site-packages\\IPython\\core\\pylabtools.py:151: UserWarning: Glyph 53584 (\\N{HANGUL SYLLABLE TEN}) missing from current font.\n",
      "  fig.canvas.print_figure(bytes_io, **kw)\n",
      "C:\\Users\\user\\anaconda3\\lib\\site-packages\\IPython\\core\\pylabtools.py:151: UserWarning: Glyph 52768 (\\N{HANGUL SYLLABLE CEU}) missing from current font.\n",
      "  fig.canvas.print_figure(bytes_io, **kw)\n",
      "C:\\Users\\user\\anaconda3\\lib\\site-packages\\IPython\\core\\pylabtools.py:151: UserWarning: Glyph 47560 (\\N{HANGUL SYLLABLE MA}) missing from current font.\n",
      "  fig.canvas.print_figure(bytes_io, **kw)\n",
      "C:\\Users\\user\\anaconda3\\lib\\site-packages\\IPython\\core\\pylabtools.py:151: UserWarning: Glyph 52992 (\\N{HANGUL SYLLABLE KE}) missing from current font.\n",
      "  fig.canvas.print_figure(bytes_io, **kw)\n",
      "C:\\Users\\user\\anaconda3\\lib\\site-packages\\IPython\\core\\pylabtools.py:151: UserWarning: Glyph 54021 (\\N{HANGUL SYLLABLE TING}) missing from current font.\n",
      "  fig.canvas.print_figure(bytes_io, **kw)\n"
     ]
    },
    {
     "data": {
      "image/png": "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\n",
      "text/plain": [
       "<Figure size 432x288 with 1 Axes>"
      ]
     },
     "metadata": {
      "needs_background": "light"
     },
     "output_type": "display_data"
    }
   ],
   "source": [
    "coure_plt.plot()\n",
    "plt.show()"
   ]
  },
  {
   "cell_type": "code",
   "execution_count": 63,
   "id": "da232aa3",
   "metadata": {
    "ExecuteTime": {
     "end_time": "2022-06-30T05:45:00.923241Z",
     "start_time": "2022-06-30T05:45:00.880331Z"
    }
   },
   "outputs": [
    {
     "data": {
      "text/html": [
       "<div>\n",
       "<style scoped>\n",
       "    .dataframe tbody tr th:only-of-type {\n",
       "        vertical-align: middle;\n",
       "    }\n",
       "\n",
       "    .dataframe tbody tr th {\n",
       "        vertical-align: top;\n",
       "    }\n",
       "\n",
       "    .dataframe thead th {\n",
       "        text-align: right;\n",
       "    }\n",
       "</style>\n",
       "<table border=\"1\" class=\"dataframe\">\n",
       "  <thead>\n",
       "    <tr style=\"text-align: right;\">\n",
       "      <th></th>\n",
       "      <th>id</th>\n",
       "      <th>customer_id</th>\n",
       "      <th>course_id</th>\n",
       "      <th>transaction_amount</th>\n",
       "      <th>coupon_discount_amount</th>\n",
       "      <th>sale_price</th>\n",
       "    </tr>\n",
       "  </thead>\n",
       "  <tbody>\n",
       "    <tr>\n",
       "      <th>count</th>\n",
       "      <td>1.011020e+05</td>\n",
       "      <td>101102.000000</td>\n",
       "      <td>101102.000000</td>\n",
       "      <td>1.011020e+05</td>\n",
       "      <td>101102.000000</td>\n",
       "      <td>1.011020e+05</td>\n",
       "    </tr>\n",
       "    <tr>\n",
       "      <th>mean</th>\n",
       "      <td>1.145511e+06</td>\n",
       "      <td>415909.561997</td>\n",
       "      <td>208729.604815</td>\n",
       "      <td>1.286851e+05</td>\n",
       "      <td>14423.185199</td>\n",
       "      <td>1.592345e+05</td>\n",
       "    </tr>\n",
       "    <tr>\n",
       "      <th>std</th>\n",
       "      <td>1.125048e+05</td>\n",
       "      <td>206627.373238</td>\n",
       "      <td>21281.637839</td>\n",
       "      <td>1.299967e+05</td>\n",
       "      <td>35684.365000</td>\n",
       "      <td>1.147219e+05</td>\n",
       "    </tr>\n",
       "    <tr>\n",
       "      <th>min</th>\n",
       "      <td>5.679930e+05</td>\n",
       "      <td>16.000000</td>\n",
       "      <td>2516.000000</td>\n",
       "      <td>-1.800000e+06</td>\n",
       "      <td>0.000000</td>\n",
       "      <td>0.000000e+00</td>\n",
       "    </tr>\n",
       "    <tr>\n",
       "      <th>25%</th>\n",
       "      <td>1.047142e+06</td>\n",
       "      <td>228975.000000</td>\n",
       "      <td>203146.000000</td>\n",
       "      <td>8.900000e+04</td>\n",
       "      <td>0.000000</td>\n",
       "      <td>1.100000e+05</td>\n",
       "    </tr>\n",
       "    <tr>\n",
       "      <th>50%</th>\n",
       "      <td>1.133842e+06</td>\n",
       "      <td>500265.500000</td>\n",
       "      <td>203787.000000</td>\n",
       "      <td>1.190000e+05</td>\n",
       "      <td>0.000000</td>\n",
       "      <td>1.340000e+05</td>\n",
       "    </tr>\n",
       "    <tr>\n",
       "      <th>75%</th>\n",
       "      <td>1.238848e+06</td>\n",
       "      <td>565941.000000</td>\n",
       "      <td>204870.000000</td>\n",
       "      <td>1.584000e+05</td>\n",
       "      <td>10000.000000</td>\n",
       "      <td>1.710000e+05</td>\n",
       "    </tr>\n",
       "    <tr>\n",
       "      <th>max</th>\n",
       "      <td>1.381657e+06</td>\n",
       "      <td>670896.000000</td>\n",
       "      <td>300000.000000</td>\n",
       "      <td>1.800000e+06</td>\n",
       "      <td>674000.000000</td>\n",
       "      <td>1.800000e+06</td>\n",
       "    </tr>\n",
       "  </tbody>\n",
       "</table>\n",
       "</div>"
      ],
      "text/plain": [
       "                 id    customer_id      course_id  transaction_amount  \\\n",
       "count  1.011020e+05  101102.000000  101102.000000        1.011020e+05   \n",
       "mean   1.145511e+06  415909.561997  208729.604815        1.286851e+05   \n",
       "std    1.125048e+05  206627.373238   21281.637839        1.299967e+05   \n",
       "min    5.679930e+05      16.000000    2516.000000       -1.800000e+06   \n",
       "25%    1.047142e+06  228975.000000  203146.000000        8.900000e+04   \n",
       "50%    1.133842e+06  500265.500000  203787.000000        1.190000e+05   \n",
       "75%    1.238848e+06  565941.000000  204870.000000        1.584000e+05   \n",
       "max    1.381657e+06  670896.000000  300000.000000        1.800000e+06   \n",
       "\n",
       "       coupon_discount_amount    sale_price  \n",
       "count           101102.000000  1.011020e+05  \n",
       "mean             14423.185199  1.592345e+05  \n",
       "std              35684.365000  1.147219e+05  \n",
       "min                  0.000000  0.000000e+00  \n",
       "25%                  0.000000  1.100000e+05  \n",
       "50%                  0.000000  1.340000e+05  \n",
       "75%              10000.000000  1.710000e+05  \n",
       "max             674000.000000  1.800000e+06  "
      ]
     },
     "execution_count": 63,
     "metadata": {},
     "output_type": "execute_result"
    }
   ],
   "source": [
    "df.describe()"
   ]
  },
  {
   "cell_type": "code",
   "execution_count": 79,
   "id": "3be470b0",
   "metadata": {
    "ExecuteTime": {
     "end_time": "2022-06-30T05:53:56.999784Z",
     "start_time": "2022-06-30T05:53:56.951084Z"
    }
   },
   "outputs": [
    {
     "data": {
      "text/plain": [
       "course_title\n",
       "초격차 패키지 : 한 번에 끝내는 프론트엔드 개발               328586545\n",
       "The RED : 김영하 작가의 내 안의 숨은 이야기를 찾아 쓰는 법    300216241\n",
       "초격차 패키지 : 한번에 끝내는 영상 촬영과 편집               251637735\n",
       "초격차 패키지 : 한번에 끝내는 Java/Spring 웹 개발 마스터    243806841\n",
       "초격차 패키지 : 한번에 끝내는 디자인 툴                   215915064\n",
       "                                            ...    \n",
       "프로모션 :개강 전 필수 마스터 코딩 한끝세트 (3월 프리패스)         -299000\n",
       "브런치로 책 출판 온라인 완주반 3기                        -360000\n",
       "매주)브런치로 책 출판 온라인 완주반                        -520000\n",
       "디지털 마케팅 온라인 완주반 3기                          -575000\n",
       "코딩+알고리즘 온라인 완주반 5기                          -810000\n",
       "Name: transaction_amount, Length: 610, dtype: int64"
      ]
     },
     "execution_count": 79,
     "metadata": {},
     "output_type": "execute_result"
    }
   ],
   "source": [
    "course_tran = df.groupby('course_title').sum()['transaction_amount'].sort_values(ascending=False)\n",
    "course_tran"
   ]
  },
  {
   "cell_type": "code",
   "execution_count": 68,
   "id": "3e909a9b",
   "metadata": {
    "ExecuteTime": {
     "end_time": "2022-06-30T05:47:51.271314Z",
     "start_time": "2022-06-30T05:47:51.116284Z"
    }
   },
   "outputs": [
    {
     "name": "stderr",
     "output_type": "stream",
     "text": [
      "C:\\Users\\user\\anaconda3\\lib\\site-packages\\IPython\\core\\pylabtools.py:151: UserWarning: Glyph 52488 (\\N{HANGUL SYLLABLE CO}) missing from current font.\n",
      "  fig.canvas.print_figure(bytes_io, **kw)\n",
      "C:\\Users\\user\\anaconda3\\lib\\site-packages\\IPython\\core\\pylabtools.py:151: UserWarning: Glyph 44201 (\\N{HANGUL SYLLABLE GYEOG}) missing from current font.\n",
      "  fig.canvas.print_figure(bytes_io, **kw)\n",
      "C:\\Users\\user\\anaconda3\\lib\\site-packages\\IPython\\core\\pylabtools.py:151: UserWarning: Glyph 52264 (\\N{HANGUL SYLLABLE CA}) missing from current font.\n",
      "  fig.canvas.print_figure(bytes_io, **kw)\n",
      "C:\\Users\\user\\anaconda3\\lib\\site-packages\\IPython\\core\\pylabtools.py:151: UserWarning: Glyph 54056 (\\N{HANGUL SYLLABLE PAE}) missing from current font.\n",
      "  fig.canvas.print_figure(bytes_io, **kw)\n",
      "C:\\Users\\user\\anaconda3\\lib\\site-packages\\IPython\\core\\pylabtools.py:151: UserWarning: Glyph 53412 (\\N{HANGUL SYLLABLE KI}) missing from current font.\n",
      "  fig.canvas.print_figure(bytes_io, **kw)\n",
      "C:\\Users\\user\\anaconda3\\lib\\site-packages\\IPython\\core\\pylabtools.py:151: UserWarning: Glyph 51648 (\\N{HANGUL SYLLABLE JI}) missing from current font.\n",
      "  fig.canvas.print_figure(bytes_io, **kw)\n",
      "C:\\Users\\user\\anaconda3\\lib\\site-packages\\IPython\\core\\pylabtools.py:151: UserWarning: Glyph 54620 (\\N{HANGUL SYLLABLE HAN}) missing from current font.\n",
      "  fig.canvas.print_figure(bytes_io, **kw)\n",
      "C:\\Users\\user\\anaconda3\\lib\\site-packages\\IPython\\core\\pylabtools.py:151: UserWarning: Glyph 48264 (\\N{HANGUL SYLLABLE BEON}) missing from current font.\n",
      "  fig.canvas.print_figure(bytes_io, **kw)\n",
      "C:\\Users\\user\\anaconda3\\lib\\site-packages\\IPython\\core\\pylabtools.py:151: UserWarning: Glyph 50640 (\\N{HANGUL SYLLABLE E}) missing from current font.\n",
      "  fig.canvas.print_figure(bytes_io, **kw)\n",
      "C:\\Users\\user\\anaconda3\\lib\\site-packages\\IPython\\core\\pylabtools.py:151: UserWarning: Glyph 45149 (\\N{HANGUL SYLLABLE GGEUT}) missing from current font.\n",
      "  fig.canvas.print_figure(bytes_io, **kw)\n",
      "C:\\Users\\user\\anaconda3\\lib\\site-packages\\IPython\\core\\pylabtools.py:151: UserWarning: Glyph 45236 (\\N{HANGUL SYLLABLE NAE}) missing from current font.\n",
      "  fig.canvas.print_figure(bytes_io, **kw)\n",
      "C:\\Users\\user\\anaconda3\\lib\\site-packages\\IPython\\core\\pylabtools.py:151: UserWarning: Glyph 45716 (\\N{HANGUL SYLLABLE NEUN}) missing from current font.\n",
      "  fig.canvas.print_figure(bytes_io, **kw)\n",
      "C:\\Users\\user\\anaconda3\\lib\\site-packages\\IPython\\core\\pylabtools.py:151: UserWarning: Glyph 54532 (\\N{HANGUL SYLLABLE PEU}) missing from current font.\n",
      "  fig.canvas.print_figure(bytes_io, **kw)\n",
      "C:\\Users\\user\\anaconda3\\lib\\site-packages\\IPython\\core\\pylabtools.py:151: UserWarning: Glyph 47200 (\\N{HANGUL SYLLABLE RON}) missing from current font.\n",
      "  fig.canvas.print_figure(bytes_io, **kw)\n",
      "C:\\Users\\user\\anaconda3\\lib\\site-packages\\IPython\\core\\pylabtools.py:151: UserWarning: Glyph 53944 (\\N{HANGUL SYLLABLE TEU}) missing from current font.\n",
      "  fig.canvas.print_figure(bytes_io, **kw)\n",
      "C:\\Users\\user\\anaconda3\\lib\\site-packages\\IPython\\core\\pylabtools.py:151: UserWarning: Glyph 50644 (\\N{HANGUL SYLLABLE EN}) missing from current font.\n",
      "  fig.canvas.print_figure(bytes_io, **kw)\n",
      "C:\\Users\\user\\anaconda3\\lib\\site-packages\\IPython\\core\\pylabtools.py:151: UserWarning: Glyph 46300 (\\N{HANGUL SYLLABLE DEU}) missing from current font.\n",
      "  fig.canvas.print_figure(bytes_io, **kw)\n",
      "C:\\Users\\user\\anaconda3\\lib\\site-packages\\IPython\\core\\pylabtools.py:151: UserWarning: Glyph 44060 (\\N{HANGUL SYLLABLE GAE}) missing from current font.\n",
      "  fig.canvas.print_figure(bytes_io, **kw)\n",
      "C:\\Users\\user\\anaconda3\\lib\\site-packages\\IPython\\core\\pylabtools.py:151: UserWarning: Glyph 48156 (\\N{HANGUL SYLLABLE BAL}) missing from current font.\n",
      "  fig.canvas.print_figure(bytes_io, **kw)\n",
      "C:\\Users\\user\\anaconda3\\lib\\site-packages\\IPython\\core\\pylabtools.py:151: UserWarning: Glyph 47196 (\\N{HANGUL SYLLABLE RO}) missing from current font.\n",
      "  fig.canvas.print_figure(bytes_io, **kw)\n",
      "C:\\Users\\user\\anaconda3\\lib\\site-packages\\IPython\\core\\pylabtools.py:151: UserWarning: Glyph 47784 (\\N{HANGUL SYLLABLE MO}) missing from current font.\n",
      "  fig.canvas.print_figure(bytes_io, **kw)\n",
      "C:\\Users\\user\\anaconda3\\lib\\site-packages\\IPython\\core\\pylabtools.py:151: UserWarning: Glyph 49496 (\\N{HANGUL SYLLABLE SYEON}) missing from current font.\n",
      "  fig.canvas.print_figure(bytes_io, **kw)\n",
      "C:\\Users\\user\\anaconda3\\lib\\site-packages\\IPython\\core\\pylabtools.py:151: UserWarning: Glyph 52964 (\\N{HANGUL SYLLABLE KEO}) missing from current font.\n",
      "  fig.canvas.print_figure(bytes_io, **kw)\n",
      "C:\\Users\\user\\anaconda3\\lib\\site-packages\\IPython\\core\\pylabtools.py:151: UserWarning: Glyph 47532 (\\N{HANGUL SYLLABLE RI}) missing from current font.\n",
      "  fig.canvas.print_figure(bytes_io, **kw)\n",
      "C:\\Users\\user\\anaconda3\\lib\\site-packages\\IPython\\core\\pylabtools.py:151: UserWarning: Glyph 50612 (\\N{HANGUL SYLLABLE EO}) missing from current font.\n",
      "  fig.canvas.print_figure(bytes_io, **kw)\n",
      "C:\\Users\\user\\anaconda3\\lib\\site-packages\\IPython\\core\\pylabtools.py:151: UserWarning: Glyph 53020 (\\N{HANGUL SYLLABLE KYEO}) missing from current font.\n",
      "  fig.canvas.print_figure(bytes_io, **kw)\n",
      "C:\\Users\\user\\anaconda3\\lib\\site-packages\\IPython\\core\\pylabtools.py:151: UserWarning: Glyph 51460 (\\N{HANGUL SYLLABLE JUL}) missing from current font.\n",
      "  fig.canvas.print_figure(bytes_io, **kw)\n",
      "C:\\Users\\user\\anaconda3\\lib\\site-packages\\IPython\\core\\pylabtools.py:151: UserWarning: Glyph 46356 (\\N{HANGUL SYLLABLE DI}) missing from current font.\n",
      "  fig.canvas.print_figure(bytes_io, **kw)\n",
      "C:\\Users\\user\\anaconda3\\lib\\site-packages\\IPython\\core\\pylabtools.py:151: UserWarning: Glyph 51088 (\\N{HANGUL SYLLABLE JA}) missing from current font.\n",
      "  fig.canvas.print_figure(bytes_io, **kw)\n",
      "C:\\Users\\user\\anaconda3\\lib\\site-packages\\IPython\\core\\pylabtools.py:151: UserWarning: Glyph 51064 (\\N{HANGUL SYLLABLE IN}) missing from current font.\n",
      "  fig.canvas.print_figure(bytes_io, **kw)\n",
      "C:\\Users\\user\\anaconda3\\lib\\site-packages\\IPython\\core\\pylabtools.py:151: UserWarning: Glyph 47924 (\\N{HANGUL SYLLABLE MU}) missing from current font.\n",
      "  fig.canvas.print_figure(bytes_io, **kw)\n",
      "C:\\Users\\user\\anaconda3\\lib\\site-packages\\IPython\\core\\pylabtools.py:151: UserWarning: Glyph 51228 (\\N{HANGUL SYLLABLE JE}) missing from current font.\n",
      "  fig.canvas.print_figure(bytes_io, **kw)\n",
      "C:\\Users\\user\\anaconda3\\lib\\site-packages\\IPython\\core\\pylabtools.py:151: UserWarning: Glyph 49828 (\\N{HANGUL SYLLABLE SEU}) missing from current font.\n",
      "  fig.canvas.print_figure(bytes_io, **kw)\n",
      "C:\\Users\\user\\anaconda3\\lib\\site-packages\\IPython\\core\\pylabtools.py:151: UserWarning: Glyph 50900 (\\N{HANGUL SYLLABLE WEOL}) missing from current font.\n",
      "  fig.canvas.print_figure(bytes_io, **kw)\n",
      "C:\\Users\\user\\anaconda3\\lib\\site-packages\\IPython\\core\\pylabtools.py:151: UserWarning: Glyph 50732 (\\N{HANGUL SYLLABLE OL}) missing from current font.\n",
      "  fig.canvas.print_figure(bytes_io, **kw)\n",
      "C:\\Users\\user\\anaconda3\\lib\\site-packages\\IPython\\core\\pylabtools.py:151: UserWarning: Glyph 50896 (\\N{HANGUL SYLLABLE WEON}) missing from current font.\n",
      "  fig.canvas.print_figure(bytes_io, **kw)\n",
      "C:\\Users\\user\\anaconda3\\lib\\site-packages\\IPython\\core\\pylabtools.py:151: UserWarning: Glyph 49688 (\\N{HANGUL SYLLABLE SU}) missing from current font.\n",
      "  fig.canvas.print_figure(bytes_io, **kw)\n",
      "C:\\Users\\user\\anaconda3\\lib\\site-packages\\IPython\\core\\pylabtools.py:151: UserWarning: Glyph 54617 (\\N{HANGUL SYLLABLE HAG}) missing from current font.\n",
      "  fig.canvas.print_figure(bytes_io, **kw)\n",
      "C:\\Users\\user\\anaconda3\\lib\\site-packages\\IPython\\core\\pylabtools.py:151: UserWarning: Glyph 51201 (\\N{HANGUL SYLLABLE JEOG}) missing from current font.\n",
      "  fig.canvas.print_figure(bytes_io, **kw)\n",
      "C:\\Users\\user\\anaconda3\\lib\\site-packages\\IPython\\core\\pylabtools.py:151: UserWarning: Glyph 51004 (\\N{HANGUL SYLLABLE EU}) missing from current font.\n",
      "  fig.canvas.print_figure(bytes_io, **kw)\n",
      "C:\\Users\\user\\anaconda3\\lib\\site-packages\\IPython\\core\\pylabtools.py:151: UserWarning: Glyph 51217 (\\N{HANGUL SYLLABLE JEOB}) missing from current font.\n",
      "  fig.canvas.print_figure(bytes_io, **kw)\n",
      "C:\\Users\\user\\anaconda3\\lib\\site-packages\\IPython\\core\\pylabtools.py:151: UserWarning: Glyph 44540 (\\N{HANGUL SYLLABLE GEUN}) missing from current font.\n",
      "  fig.canvas.print_figure(bytes_io, **kw)\n",
      "C:\\Users\\user\\anaconda3\\lib\\site-packages\\IPython\\core\\pylabtools.py:151: UserWarning: Glyph 54616 (\\N{HANGUL SYLLABLE HA}) missing from current font.\n",
      "  fig.canvas.print_figure(bytes_io, **kw)\n",
      "C:\\Users\\user\\anaconda3\\lib\\site-packages\\IPython\\core\\pylabtools.py:151: UserWarning: Glyph 46373 (\\N{HANGUL SYLLABLE DIB}) missing from current font.\n",
      "  fig.canvas.print_figure(bytes_io, **kw)\n",
      "C:\\Users\\user\\anaconda3\\lib\\site-packages\\IPython\\core\\pylabtools.py:151: UserWarning: Glyph 47084 (\\N{HANGUL SYLLABLE REO}) missing from current font.\n",
      "  fig.canvas.print_figure(bytes_io, **kw)\n",
      "C:\\Users\\user\\anaconda3\\lib\\site-packages\\IPython\\core\\pylabtools.py:151: UserWarning: Glyph 45789 (\\N{HANGUL SYLLABLE NING}) missing from current font.\n",
      "  fig.canvas.print_figure(bytes_io, **kw)\n",
      "C:\\Users\\user\\anaconda3\\lib\\site-packages\\IPython\\core\\pylabtools.py:151: UserWarning: Glyph 44552 (\\N{HANGUL SYLLABLE GEUM}) missing from current font.\n",
      "  fig.canvas.print_figure(bytes_io, **kw)\n",
      "C:\\Users\\user\\anaconda3\\lib\\site-packages\\IPython\\core\\pylabtools.py:151: UserWarning: Glyph 51008 (\\N{HANGUL SYLLABLE EUN}) missing from current font.\n",
      "  fig.canvas.print_figure(bytes_io, **kw)\n",
      "C:\\Users\\user\\anaconda3\\lib\\site-packages\\IPython\\core\\pylabtools.py:151: UserWarning: Glyph 47560 (\\N{HANGUL SYLLABLE MA}) missing from current font.\n",
      "  fig.canvas.print_figure(bytes_io, **kw)\n",
      "C:\\Users\\user\\anaconda3\\lib\\site-packages\\IPython\\core\\pylabtools.py:151: UserWarning: Glyph 53580 (\\N{HANGUL SYLLABLE TE}) missing from current font.\n",
      "  fig.canvas.print_figure(bytes_io, **kw)\n",
      "C:\\Users\\user\\anaconda3\\lib\\site-packages\\IPython\\core\\pylabtools.py:151: UserWarning: Glyph 53356 (\\N{HANGUL SYLLABLE KEU}) missing from current font.\n",
      "  fig.canvas.print_figure(bytes_io, **kw)\n",
      "C:\\Users\\user\\anaconda3\\lib\\site-packages\\IPython\\core\\pylabtools.py:151: UserWarning: Glyph 44032 (\\N{HANGUL SYLLABLE GA}) missing from current font.\n",
      "  fig.canvas.print_figure(bytes_io, **kw)\n",
      "C:\\Users\\user\\anaconda3\\lib\\site-packages\\IPython\\core\\pylabtools.py:151: UserWarning: Glyph 45824 (\\N{HANGUL SYLLABLE DAE}) missing from current font.\n",
      "  fig.canvas.print_figure(bytes_io, **kw)\n",
      "C:\\Users\\user\\anaconda3\\lib\\site-packages\\IPython\\core\\pylabtools.py:151: UserWarning: Glyph 49464 (\\N{HANGUL SYLLABLE SE}) missing from current font.\n",
      "  fig.canvas.print_figure(bytes_io, **kw)\n",
      "C:\\Users\\user\\anaconda3\\lib\\site-packages\\IPython\\core\\pylabtools.py:151: UserWarning: Glyph 47588 (\\N{HANGUL SYLLABLE MAE}) missing from current font.\n",
      "  fig.canvas.print_figure(bytes_io, **kw)\n",
      "C:\\Users\\user\\anaconda3\\lib\\site-packages\\IPython\\core\\pylabtools.py:151: UserWarning: Glyph 52636 (\\N{HANGUL SYLLABLE CUL}) missing from current font.\n",
      "  fig.canvas.print_figure(bytes_io, **kw)\n",
      "C:\\Users\\user\\anaconda3\\lib\\site-packages\\IPython\\core\\pylabtools.py:151: UserWarning: Glyph 51012 (\\N{HANGUL SYLLABLE EUL}) missing from current font.\n",
      "  fig.canvas.print_figure(bytes_io, **kw)\n",
      "C:\\Users\\user\\anaconda3\\lib\\site-packages\\IPython\\core\\pylabtools.py:151: UserWarning: Glyph 51068 (\\N{HANGUL SYLLABLE IL}) missing from current font.\n",
      "  fig.canvas.print_figure(bytes_io, **kw)\n",
      "C:\\Users\\user\\anaconda3\\lib\\site-packages\\IPython\\core\\pylabtools.py:151: UserWarning: Glyph 52992 (\\N{HANGUL SYLLABLE KE}) missing from current font.\n",
      "  fig.canvas.print_figure(bytes_io, **kw)\n",
      "C:\\Users\\user\\anaconda3\\lib\\site-packages\\IPython\\core\\pylabtools.py:151: UserWarning: Glyph 54021 (\\N{HANGUL SYLLABLE TING}) missing from current font.\n",
      "  fig.canvas.print_figure(bytes_io, **kw)\n",
      "C:\\Users\\user\\anaconda3\\lib\\site-packages\\IPython\\core\\pylabtools.py:151: UserWarning: Glyph 50997 (\\N{HANGUL SYLLABLE YUNG}) missing from current font.\n",
      "  fig.canvas.print_figure(bytes_io, **kw)\n",
      "C:\\Users\\user\\anaconda3\\lib\\site-packages\\IPython\\core\\pylabtools.py:151: UserWarning: Glyph 44428 (\\N{HANGUL SYLLABLE GWEON}) missing from current font.\n",
      "  fig.canvas.print_figure(bytes_io, **kw)\n",
      "C:\\Users\\user\\anaconda3\\lib\\site-packages\\IPython\\core\\pylabtools.py:151: UserWarning: Glyph 54645 (\\N{HANGUL SYLLABLE HAEG}) missing from current font.\n",
      "  fig.canvas.print_figure(bytes_io, **kw)\n",
      "C:\\Users\\user\\anaconda3\\lib\\site-packages\\IPython\\core\\pylabtools.py:151: UserWarning: Glyph 49900 (\\N{HANGUL SYLLABLE SIM}) missing from current font.\n",
      "  fig.canvas.print_figure(bytes_io, **kw)\n",
      "C:\\Users\\user\\anaconda3\\lib\\site-packages\\IPython\\core\\pylabtools.py:151: UserWarning: Glyph 50669 (\\N{HANGUL SYLLABLE YEOG}) missing from current font.\n",
      "  fig.canvas.print_figure(bytes_io, **kw)\n",
      "C:\\Users\\user\\anaconda3\\lib\\site-packages\\IPython\\core\\pylabtools.py:151: UserWarning: Glyph 47049 (\\N{HANGUL SYLLABLE RYANG}) missing from current font.\n",
      "  fig.canvas.print_figure(bytes_io, **kw)\n",
      "C:\\Users\\user\\anaconda3\\lib\\site-packages\\IPython\\core\\pylabtools.py:151: UserWarning: Glyph 53804 (\\N{HANGUL SYLLABLE TU}) missing from current font.\n",
      "  fig.canvas.print_figure(bytes_io, **kw)\n",
      "C:\\Users\\user\\anaconda3\\lib\\site-packages\\IPython\\core\\pylabtools.py:151: UserWarning: Glyph 49892 (\\N{HANGUL SYLLABLE SIL}) missing from current font.\n",
      "  fig.canvas.print_figure(bytes_io, **kw)\n",
      "C:\\Users\\user\\anaconda3\\lib\\site-packages\\IPython\\core\\pylabtools.py:151: UserWarning: Glyph 44053 (\\N{HANGUL SYLLABLE GANG}) missing from current font.\n",
      "  fig.canvas.print_figure(bytes_io, **kw)\n",
      "C:\\Users\\user\\anaconda3\\lib\\site-packages\\IPython\\core\\pylabtools.py:151: UserWarning: Glyph 45733 (\\N{HANGUL SYLLABLE NEUNG}) missing from current font.\n",
      "  fig.canvas.print_figure(bytes_io, **kw)\n",
      "C:\\Users\\user\\anaconda3\\lib\\site-packages\\IPython\\core\\pylabtools.py:151: UserWarning: Glyph 51089 (\\N{HANGUL SYLLABLE JAG}) missing from current font.\n",
      "  fig.canvas.print_figure(bytes_io, **kw)\n",
      "C:\\Users\\user\\anaconda3\\lib\\site-packages\\IPython\\core\\pylabtools.py:151: UserWarning: Glyph 48148 (\\N{HANGUL SYLLABLE BA}) missing from current font.\n",
      "  fig.canvas.print_figure(bytes_io, **kw)\n",
      "C:\\Users\\user\\anaconda3\\lib\\site-packages\\IPython\\core\\pylabtools.py:151: UserWarning: Glyph 50545 (\\N{HANGUL SYLLABLE AEB}) missing from current font.\n",
      "  fig.canvas.print_figure(bytes_io, **kw)\n"
     ]
    },
    {
     "data": {
      "image/png": "iVBORw0KGgoAAAANSUhEUgAAAbcAAAESCAYAAAB+Rpu2AAAAOXRFWHRTb2Z0d2FyZQBNYXRwbG90bGliIHZlcnNpb24zLjUuMSwgaHR0cHM6Ly9tYXRwbG90bGliLm9yZy/YYfK9AAAACXBIWXMAAAsTAAALEwEAmpwYAAAt0klEQVR4nO3deZxddX3/8dfnLnNnn2yTZMhCwr6vkaW4IFYL1BZ/VVv40fqTVinWVtufta3aHy6ttRXrhgqCUkRR21ItFBGkKAKVAAlLIIQ1EJgkkMk+k9nu8vn98f3ezM0wk2QmM3PPzLyfj8c85t7vOffc7z333PM+3+/ZzN0RERGZSlLVroCIiMhYU7iJiMiUo3ATEZEpR+EmIiJTjsJNRESmHIWbiIhMOdM63MzsOjPbZGZP7Me4i83sF2b2iJmtMrPzJ6KOIiIyctM63IDrgXP3c9y/Bf7N3U8GLgS+MV6VEhGRAzOtw83d7wG2VpaZ2aFmdruZrTSze83sqPLoQHN83AJsmMCqiojICGSqXYEEuga4zN2fNbPTCS20c4BPAT8zsz8DGoBfr14VRURkbxRuFcysEfg14N/NrFyci/8vAq539382szOB75rZce5eqkJVRURkLxRue0oB2939pCGG/RFx/5y7329mtcAcYNPEVU9ERPbHtN7nNpi77wReMLN3A1hwYhz8EvCWWH40UAt0VKWiIiKyVzad7wpgZj8Azia0wF4FPgn8HLgKaAOywA/d/TNmdgxwLdBIOLjkr9z9Z9Wot4iI7N20DjcREZma1C0pIiJTzrQ9oGTOnDm+ZMmSaldDRGTSWLly5WZ3b612PfbHtA23JUuWsGLFimpXQ0Rk0jCzddWuw/5St6SIiEw5CjcREZlyFG4iIjLlKNxERGTKUbiJiMiUo3ATEZEpR+EmIiJTjsJtBNyd7y5fxyMvbat2VUREZC8UbiNgZnzqltXctUZ3uRERSTKF2wjVpFP0F3V/UhGRJFO4jVAum6IvX6x2NUREZC8UbiOklpuISPIp3EYotNwUbiIiSaZwG6GadIo+tdxERBJN4TZCuUxaLTcRkYRTuI1QTSZFX0EHlIiIJJnCbYRymRT9BbXcRESSTOE2QqHlpnATEUkyhdsI5TJptdxERBJO4TZCOe1zExFJPIXbCOUyOolbRCTpFG4jVJPRSdwiIkmX6HAzs1oze9DMHjOz1Wb26SHGMTP7qpk9Z2arzOyU8ayTWm4iIsmXqXYF9qEPOMfdu8wsC9xnZj919+UV45wHHB7/Tgeuiv/HhVpuIiLJl+iWmwdd8Wk2/vmg0S4AbojjLgdmmFnbeNUpl0mr5SYiknCJDjcAM0ub2aPAJuBOd39g0CgLgJcrnrfHsqGmdamZrTCzFR0dHaOqT00mRbHkFBRwIiKJlfhwc/eiu58ELAROM7PjBo1iQ71smGld4+7L3H1Za2vrqOqTToW3K5SGfAsREUmAxIdbmbtvB+4Gzh00qB1YVPF8IbBhvOqRTYdwKyrcREQSK9HhZmatZjYjPq4Dfh14atBotwDviUdNngHscPeN41WndCrMskJR4SYiklRJP1qyDfiOmaUJQfxv7n6rmV0G4O5XA7cB5wPPAd3AJeNZoczubkntcxMRSapEh5u7rwJOHqL86orHDnxwouqUUbekiEjiJbpbMonKLbe8wk1EJLEUbiOUifvcitrnJiKSWAq3ESp3S+a1z01EJLEUbiNUPs9N+9xERJJL4TZCGZ0KICKSeAq3EdKpACIiyadwG6HyPjddfktEJLkUbiOkbkkRkeRTuI1QWt2SIiKJp3AbIV04WUQk+RRuI7S75aZuSRGRxFK4jdDufW5quYmIJJbCbYQGLpysfW4iIkmlcBuh3RdOVrekiEhiKdxGKJOOF05Wt6SISGIp3EZooOWmbkkRkaRSuI2QLpwsIpJ8CrcR0uW3RESST+E2QgOX31K3pIhIUincRkgtNxGR5FO4jdDALW8UbiIiSZXocDOzRWb2CzNbY2arzezDQ4xztpntMLNH49/l41knHVAiIpJ8mWpXYB8KwEfc/WEzawJWmtmd7v7koPHudfe3T0SFsrrljYhI4iW65ebuG9394fi4E1gDLKhmnVIpI50yegvFalZDRET2ItHhVsnMlgAnAw8MMfhMM3vMzH5qZsfuZRqXmtkKM1vR0dEx6rq0Nubo6Owb9etFRGR8TYpwM7NG4D+AP3f3nYMGPwwc7O4nAlcC/zncdNz9Gndf5u7LWltbR12feS21vLqzd9SvFxGR8ZX4cDOzLCHYbnT3Hw0e7u473b0rPr4NyJrZnPGs0/zmHBt3KNxERJIq0eFmZgZ8G1jj7l8cZpz5cTzM7DTCZ9oynvWa31zLqwo3EZHESvrRkmcBfwA8bmaPxrKPA4sB3P1q4F3AB8ysAPQAF7r7uB7KOLsxR2dfgf5CiZpMorcPRESmpUSHm7vfB9g+xvka8LWJqVFQmw2B1l9UuImIJJHWzKNQE+/p1pfX6QAiIkmkcBuFXDYNhJabiIgkj8JtFHKZcstN4SYikkQKt1Eo72dTy01EJJkUbqOQy4RuSbXcRESSSeE2Cru7JXV9SRGRRFK4jcLubsmCWm4iIkmkcBuFgZabwk1EJIkUbqOwe5+buiVFRBJJ4TYKNWq5iYgkmsJtFNQtKSKSbAq3UchlFW4iIkmmcBuFXDpefkvhJiKSSAq3URhouemAEhGRJFK4jUL5rgC9ukKJiEgiKdxGIZUyWuqybN3VV+2qiIjIEBRuo7RwZh3t23qqXQ0RERmCwm2UFG4iIsmlcBulRTPrad/WTank1a6KiIgMonAbpaPamunNl3j61c5qV0VERAZRuI3SmYfOBmD52i1VromIiAyW6HAzs0Vm9gszW2Nmq83sw0OMY2b2VTN7zsxWmdkpE1G3BTPqqM2m2LBd+91ERJImU+0K7EMB+Ii7P2xmTcBKM7vT3Z+sGOc84PD4dzpwVfw/7ppqs3T2FibirUREZAQS3XJz943u/nB83AmsARYMGu0C4AYPlgMzzKxtIurXlMvQ2adwExFJmkSHWyUzWwKcDDwwaNAC4OWK5+28NgDHRVNthi613EREEmdShJuZNQL/Afy5u+8cPHiIlwx5fL6ZXWpmK8xsRUdHxwHXK3RL5g94OiIiMrYSH25mliUE243u/qMhRmkHFlU8XwhsGGpa7n6Nuy9z92Wtra0HXLfGXIYudUuKiCROosPNzAz4NrDG3b84zGi3AO+JR02eAexw940TUb+m2owOKBERSaCkHy15FvAHwONm9mgs+ziwGMDdrwZuA84HngO6gUsmqnKN2ucmIpJIiQ43d7+PofepVY7jwAcnpkZ7aq7N0tVfoDdfpDabrkYVRERkCInulky6kxbPwB3u11VKREQSReF2AM48ZDbZtPHA2q3VroqIiFRQuB2A2myaRTPreWnrrmpXRUREKijcDtCiWfW8tLW72tUQEZEKCrcDdPDsetZt6SYc1yIiIkmgcDtAi2fV09lbYEePrlQiIpIUCrcDtHhWPQDrtqhrUkQkKRRuB2jx7BBu2u8mIpIcCrcDtGimwk1EJGkUbgeoIZchl0mxU/vcREQSQ+E2Bupr0nT3F6tdDRERiRRuY6C+JqNwExFJEIXbGAgtN90dQEQkKRRuY0DdkiIiyaJwGwN1NWl6FG4iIomhcBsDDTUZuvPqlhQRSQqF2xioq0nT3aeWm4hIUijcxoD2uYmIJIvCbQyEUwHULSkikhQKtzFQV5OmJ6+Wm4hIUijcxkBjLkO+6PQq4EREEiHx4WZm15nZJjN7YpjhZ5vZDjN7NP5dPtF1bK7NANDZq65JEZEkSHy4AdcD5+5jnHvd/aT495kJqNMemuuyAOzs1cWTRUSSIPHh5u73AFurXY+9KYeb7sYtIpIMiQ+3/XSmmT1mZj81s2Mn+s2ba2PLTeEmIpIImWpXYAw8DBzs7l1mdj7wn8DhQ41oZpcClwIsXrx4zCrQUhdm407tcxMRSYRJ33Jz953u3hUf3wZkzWzOMONe4+7L3H1Za2vrmNVB3ZIiIsky6cPNzOabmcXHpxE+05aJrIO6JUVEkiXx3ZJm9gPgbGCOmbUDnwSyAO5+NfAu4ANmVgB6gAvd3SeyjrXZNE21GTbu6JnItxURkWEkPtzc/aJ9DP8a8LUJqs6wDm1tZG3HrmpXQ0REmALdkklxaGsjz23qqnY1REQEhduYOWxuI5s6+3Qit4hIAijcxsihrQ0A6poUEUkAhdsYOWxuIwDPvNJZ5ZqIiIjCbYwsnlVPU22GK3/xLKXShB6sKSIigyjcxkgmneKSX1vCy1t7tN9NRKTKFG5jaGnc77ZlV3+VayIiMr0p3MbQrIYcANsUbiIiVaVwG0OzG2oAtdxERKpN4TaGZsZwU8tNRKS6FG5jqNxye+jFbVWuiYjI9KZwG0O12TRvO2Ye//FwO0+s31Ht6oiITFsKtzH2T+88gcZchj/6zkP05ovVro6IyLSkcBtjMxtquOJdJ/Dqzj7ufnpTtasjIjItKdzGwVuPmUcuk2KF9r2JiFSFwm0cZNIp2lpqeWVnb7WrIiIyLSncxsm85lpeVbiJiFSFwm2ctLXUsnGHwk1EpBoUbuNkXkstm3b26Q4BIiJVoHAbJ23NtfQXS2zt1tVKREQmmsJtnMxvqQXgFXVNiohMuMSHm5ldZ2abzOyJYYabmX3VzJ4zs1VmdspE13Eo85pDuOmgEhGRiZf4cAOuB87dy/DzgMPj36XAVRNQp31qa6kD0EElIiJVkPhwc/d7gK17GeUC4AYPlgMzzKxtYmo3vNamHPU1ab63fB3PbeqqdnVERKaVxIfbflgAvFzxvD2WVVU6ZXzp905i/fYefuvK+xRwIiITaCqEmw1RNuTx92Z2qZmtMLMVHR0d41wt+I1j5/Ozv3gjKYNv3/fCuL+fiIgEUyHc2oFFFc8XAhuGGtHdr3H3Ze6+rLW1dUIq19ZSx1mHzeGeZzpw1zlvIiITYSqE2y3Ae+JRk2cAO9x9Y7UrVeltx85n/fYefv6U7hIgIjIREh9uZvYD4H7gSDNrN7M/MrPLzOyyOMptwFrgOeBa4E+qVNVhvf2ENtpaavnwDx9lZ2++2tUREZnyMtWuwL64+0X7GO7AByeoOqNSm03zlQtP5ne/eT/fvX8df/zGQ8ikE79dISIyaWkNO0Fet2Qmpy+dxRV3PM05//xLteBERMaRwm2CmBn/csnr+If/dTwvbe3mOh09KSIybhRuE6i+JsP/Pn0xZx/Zyo0PvERvvljtKomITEkKtyq47E2H0tHZx3lfuVe3xBERGQcKtyo445DZ/M7JC3hh8y7Wbe2udnVERKYchVuVXHLWUgBWrttW5ZqIiEw9CrcqOXxeI021GT79X6vp1JGTIiJjSuFWJbXZNF+96GQ6ewvctLK92tUREZlSFG5V9OYj53J0WzO3rkrU1cJERCY9hVuVnXfcfFau28Ym3bFbRGTMKNyq7Lzj5gPhljhFnRYgIjImFG5Vdvi8Jt56zDy+ec9a/vD6hygUS9WukojIpKdwS4BvXHwKHzvvKH75TAd//5M1asGJiBygxN8VYDrIplP88ZsO5fmOLq7/1Yu01GX5i7ceUe1qiYhMWmq5Jcg//s4JLDt4Jjc+sI7NXX3Vro6IyKSlcEuQVMr4xG8ezc6eAp+//alqV0dEZNJSt2TCnLx4Ju9etpDvP/gS6VSKv/qNI5nZUFPtaomITCoKtwT66/OOor9Q4t9WvMyjL2/nqotPYcmchmpXS0Rk0lC3ZAI112a54t0n8pkLjmXNxp2c/YW7+epdz1a7WiIik4bCLcEuPv1g7vnomznrsNl88c5nuPzmJ8jrPDgRkX1SuCXc4tn1fOeS07j0jYdww/3reOdVv2JtR1e1qyUikmiJDzczO9fMnjaz58zsb4YYfraZ7TCzR+Pf5dWo53jKpFN8/PyjufKik1nVvoMv/be6KEVE9ibRB5SYWRr4OvBWoB14yMxucfcnB416r7u/fcIrOMF+68SD+NXzm/nxI+t5vH0Hxy9sqXaVREQSKektt9OA59x9rbv3Az8ELqhynarqQ285nDmNOS7+1nKeWL+j2tUREUmkpIfbAuDliuftsWywM83sMTP7qZkdOzFVq462ljquv+R1dPcXeedVv6J9W3e1qyQikjhJDzcbomzwVYUfBg529xOBK4H/HHZiZpea2QozW9HR0TF2tZxgh81t4t8uO5NCybnga//D/c9vqXaVREQSJenh1g4sqni+ENhQOYK773T3rvj4NiBrZnOGmpi7X+Puy9x9WWtr63jVeUKcsngmP3j/GXT3F/ninU9XuzoiIomS9HB7CDjczJaaWQ1wIXBL5QhmNt/MLD4+jfCZpkVT5rSls/jI247goRe3ce09a6tdHRGRxEj00ZLuXjCzPwXuANLAde6+2swui8OvBt4FfMDMCkAPcKG7T5sbov3+GQdz08p2PnvbGjr7Crz5yFZOXjyz2tUSEakqm0Y5sIdly5b5ihUrql2NMdGbL/K737yfVe07MIPP/PaxnLRoJke3NZFJJ71xLiKThZmtdPdl1a7H/kh0y032T202zc0fPIv2bT1c9r2V/L+bVwNwwsIW3v+GQzht6SzmNddWuZYiIhNHLbcpplAs8dQrnTyxfgdX3PE0W3b1AzCroYZzjprLO05awOsPH/J4GxGRvZpMLTeF2xSWL5Z4amMn9zzbwVOvdHLnk6/Qmy9xyuIZnH98G8ctaOHYg5ppzGWIx+SIiAxrMoWbuiWnsGw6xfELW3Zfpqs3X+Squ5/n1lUb+PufrNk9XmtTjj875zDefsJBzNKNUUVkClDLbRpydzZ19rF6ww6efqWL2x7fyOPrd9CYy/DOUxbw7mWLOPagZrXmRGQPk6nlpnATCsUSj7y8nS/d+QwPvbiVfNHJpIw5jTmOamviwtct4m3HzCeVUtiJTGcKt0lA4Ta0V3f28pNVG+no6uPVnb388ukOtuzqZ25Tjve9YSnnH9/Gghl1atWJTEMKt0lA4bZ/CsUSt67ayHfuf5FHXtoOQGMuw0Ezajl+wQw+8ZtHaz+dyDQxmcJNB5TIXmXSKd5x8gIuOOkgnt3UxT3PdNC+rYf2bd3c8th6Xt7azcVnLOaYtmaWzmnQSeMikggKN9kvZsYR85o4Yl7T7rIfPPgSn7x5NQ++uBWAXCbFEfOaOLqtiaVzGlk0q47Fs+o5pLWRxpwWNRGZOFrjyKhddNpi3nnKQp7v6GLNxp3xr5OfP7WJzV3tu8drymW45PVLef8bltJUm61ijUVkulC4yQGpyaQ4uq2Zo9ua9yjv6ivw8tZuXty8i+89sI4rf/4sP318IxecdBBnHjqbw+Y20VKnoBOR8aEDSmRC3P30Jj7zX0+ydvOu3WXzm2s5fF4jh89t4oh5jRy3oIXD5jaSy6R0NKZIAumAEpFBzj5yLmcfOZdXdvSyesMOnnm1i2df7eSZTZ18/8F19OZLu8dNp4yFM+s4ceEM2mbUMreplnnNOZYdPIv5LboAtIjsm8JNJtT8llrmt9TylqPn7S4rlZz2bT08+OJWXt3ZS1dfgbUdXaxct42OJ/roLw4E35zGGuY21bJoVh0nLJzB3KYcC2bUsWBmHfNbasll0tX4WCKSMAo3qbpUylg8u57Fs+tfM8zd2dGTp31bD/c9t5l1W7rp6OzlqVc6uWP1q68Zv7UpR2tjjtmNNcxrruWwuY3Mbcoxq6GGg2bUMauhhhl1WZ2yIDLFKdwk0cyMGfU1zKiv4bgFLXsM6+kvsqmzl/Xbe1i/rYcN23vZsL2HzV19bN7Vz1OvdHDTyvYhp9tSl2VWQw0z68v/a5jVUMPsxhraWuo4aEYdrY05ZjRkadJdE0QmHYWbTFp1NWkOnt3AwbMbhh1nZ2+erV39bO7qY+OOXrZ197N1Vz/bdvWztTvPtl39bNjey+oNO9myq5/+Quk108imjZa6GmY1ZJndkGNOU47ZDTW0NuWY01jDopn1zGup5eBZ9WoRiiSEwk2mtObaLM21WZbMGT4Ay9ydzr4CG2MLcMvuEOxnewzFLV39PN6+nc1d/XT1FfZ4fSZlNOQyzGqo4fC5jcyoz5JNp8imUzTXZVkyu54Z9Vla6mqY15yjuS5LfTatQBQZBwo3kcjMQhjOz3Lk/KZ9jt+bL7K5q4/nO3axaWcvazfvoqe/yKs7e3l2Uxe7+grkiyX6CyW6+gqUhjnrpiaTor4mTX02TV1NmoZchrr4uDaTJpdN0VybpT4Xntdm0zTm0rTUh/2HM+qzzKirUReqSAWFm8go1WbTLJxZz8KZrz0QZrDefJEN23vY0ZNne3eeV3f20tlboLu/SHe+QE9/kV19RXrysay/yJau0E3aWyiysyfPrv7ikN2mlWbWZzm6rZklcxqoy6bJZVLUVvxvqs3Q2pTbXTa/uZbWppwCUaacxIebmZ0LfAVIA99y938cNNzi8POBbuC97v7whFdUZC9qs2kOaW084OmUSk5voUhXX4GdMSi3defZ3t3P9u48j6/fwbotu7jjiVfozRfpK5QoDNdkjMzCXdtz6RQ1mfBXlw0txLqa9KDHYXgmlSKbNrLpFJl0itpsanersjY78PpcNoRqTTpFJm1kUinqatLMrM9Sk06RTpmCVcZFosPNzNLA14G3Au3AQ2Z2i7s/WTHaecDh8e904Kr4X2TKSaWM+poM9TUZ5jbt3wnthWKJ3kKJvnyR7T15tu7qpy9foidfZOOOHjZ39tFfdPoLJfLFEr35Ir2FEj39RXrzRbr7C2zZ1U9vvkhPfzF0tRZLFIpOvrjv8NwXM0iZkTYjlYK0GdkYoJmUkY5/mZSRiv9zmRQz6mtoqs2EQI7BPKO+hlwmhGaYnpG2cGGAVCzLpkPA5jKp3dMrj18ZwLWZNNlM+b1Tu+uQToVppHXz3kRLdLgBpwHPuftaADP7IXABUBluFwA3eLiO2HIzm2Fmbe6+ceKrK5I8mXSKxnSKxlyG2Y05Dm0d2+m7O32FGIr58L8nXxx4XiiSjy3IfLFEd3+R7d158sUSxZJT8vBXLBH/h/HyRadUcgpxnEKp/LxET77Etu5+Xt7aTX8xhHJfocSOnjwTdUXBbNrIZUJLNRf3jdakUyGoU4OCNQZnXXZgn2o5JDMpI7P7/0BwZlJ7Pi6PE14XAjeTNmrSqbgxYLsPYCq3qrOxxZxNh/262Wl08FLSw20B8HLF83Ze2yobapwFgMJNZAKYWeyOrP7VYYox/EolKMagrAzIcnD25kv0FYoUS77HX6FieE++SLEUQrlQDMPKz/MFp69Q3D2d8v/+Qmn3+xQ9dCOHx05vvsS2XXl29Yd9rOW6FOL7FoqlYQ86GgtmMLcpx2lLZ/OV3zuJ1BRveSY93Iaa+4O//v0ZJ4xodilwKcDixYsPrGYikjihC7P6ITtapZKTL5Vi8IXAK4duOQx3DyuF1m2+oou43OItlMJRuuWw7i+U6Owt8NLWbvoKxSkfbJD8cGsHFlU8XwhsGMU4ALj7NcA1EO4KMHbVFBE5cKmUkZvE4ZwkSe+AfQg43MyWmlkNcCFwy6BxbgHeY8EZwA7tbxMRmd4S3XJz94KZ/SlwB+FUgOvcfbWZXRaHXw3cRjgN4DnCqQCXVKu+IiKSDIkONwB3v40QYJVlV1c8duCDE10vERFJrqR3S4qIiIyYwk1ERKYchZuIiEw5CjcREZlyFG4iIjLlmE/UhdgSxsw6gHWjfPkcYPMYVqda9DmSRZ8jWfQ5Xutgdx/jq5OOj2kbbgfCzFa4+7Jq1+NA6XMkiz5HsuhzTG7qlhQRkSlH4SYiIlOOwm10rql2BcaIPkey6HMkiz7HJKZ9biIiMuWo5SYiIlOOwk1ERKYchVuCmdkSM3tiUNmnzOwv4+NbzOwPKoZda2YfrXh+kZl9ovI1FcO2mtnTZrbKzApmdvAI6nVjfO0TZnadmWVH/ymrz8y+bGZvHFR2pZl1jXA6r5nPY8nMjjez68dweneb2ZgdIm5mt5vZghGM/ykzW29mj8Zl6bcrhv2FmfWaWUtFWX1c9h6P499nZo1x2CfMbHVcnh81s9OHec/d33W8B+RnzewZM1tjZh8a4ed9h5ldHh8fbGZ3xfe/28wWjmRaQ0x7zL5rM6sxs3vMLPF3gRlLe93nZmafAs4ACrEoAyyPj88ADgFmxOfbGQjL0qDytRWveydwUJymxeGdQM0Q5b8E/gf4Q2BnRdU2uvv7K+q5FniyYvgx7n5IHLaccALjWUA/UA88CMwHfhP4IbAkvidx+FogC8waovzD7n53nPbNwMlALo6TI5wYXiScODm4/EvAnxHuHN4U55cBW4G++BnXAUcAM+N8WRDLt8VpLSDct25bfI9GoKtiepvj/9XAUfG9s4ADvbEc4A3AlljeCmx297kV8/Rh4IT4tBj/7wRejuXlskysz13AG4F8LJ8B9AD3xefz4jjvq3gtsa7fBj5CWG7K0sC1wMVxOsTPmCMsG02xLB/LUoRlp/wD7hmmvCt+5tr4uEiY10/F+fQc0AKcGN9jObAUmE34jojTTVd81jzhe0zF9ylWPC/Gv7qK8cvjleIwj89T8XExTp/4vFzeH6ebB14iLMO5imH9wAvA0fG1a2LdGaJ8C+E3/AnCd/IqA44DKjeqWgl3uC8ysEzXAM/E8kdiHc8ENsb6HUJYLiAso7k47LGK6R4GfMvdv2BmRxN+6xtjXc+K82c78BbgJ/E9coTf+hzg/wAvAqcAXyQsY08SvscUcKi7H1KxfsgCpwHbYvmmOM8eLX9ud19iZr3Ajop6ziT8Jt/LwPpwGWH98FKs55L4uPxZ08ArsXwX4fu3OA+fifPoo7HeRzHwfacIv+1fAb8R52F5/dsPrCSsc+oI33u5/Nvx8WvW1+7+KTP7JPB7hOUhH8d5DJhLWM+cOKj8VKCd8D2mGfgutwDnuPuL5ZkT14OVtw+fB3y0vJ6M41wLtMWnM4BDgY8Rvue2itc2E+7beT0HaH9abhe6+9vd/e2EO2HvLge+T/jSj4iPb4p/g8srX3cV8BZ3n1cxPD9M+a74mg+V6xDrsYs93TJoeOXdupfHsu/Eaf8/4I8IK04IK68fuvu8iuFfJ/wYhiqv9ALwo4px3gtcSQiYocqJn/UI4JvuniP8cJcDPwWuinX9PuHHcwvhR7Ysln2fcOTTI/HxycA9hNB6Drghvl95a7wROAn4AvDpinKADYSNgHnx9Tle63rg72M95zHwo3m/u+di+d9WjH9BxWe+Dniq4jv5bBznjvI4cbzyRs/z5WnG6T4Vy/+rYtxrCOH6ZuAbhBXVNcDzwM/i5/sq8IO9lP8NYeX+izidvyWsGK4irEgviJ/zmjhfPkbYAPpWnI9fIHyfq4Ab43z5AmF5eilO++r4Gd4N3EpYmd1V8dk+SFgh3gWcFsveDzxNWD5+QVhh/1/gcsLK93ngK8C9wM8Jy0uRsII9nvBb/lfCBuF64Nk4/7qBjvg53hv//jXWu4GBeyEW4+eYR1iZU1H+6TjdHwGnE5bvbRXjzInTLG8oWJwXL8Tv7do4D/570O+0B/hLM7sVuCLWpxn4PGHl/TRhxfftOGw5YSMTwkr5n2O92mKdbonTPZy4IRKnPTuWnxLnRbl8FnA2cEycZimW26Bl9P6Kz3phnNbtwAOEAChvxOwgLDPfjPVMEZappwhB9yXCeqUcBJ8DFseyeRXLTDvw+jh/NgMPEdYFz8ZygIcHlV8C/O+Kem5kz/XufxK+2x+7ezPhd9DJwHpwcPnlhJtA30r4zba4ewvhd0Sch0vMbDVh+SubE6f5L2Z2a/kPqPze7yIsax8irP/K5gE3AB+qfK2ZPWRmZ5vZzUOVM4xJ1S1pZt8arhvFzD5T2a0xjfyK8CN9nj0vJ1Zu0f0ToUW8NxlC63FEYnfkhQy0aPbH8Qn7ns5iz1b/nxJWGOUuyY8SVqTj7WH2bNGWPVLxeHkc5xDCCvkZd+9z9xcIK9F5cbxvETYmPkb4LAVe67OErfCvx8cvVJSvrVgRvTDEa6+N0y2H3nJCSPwrofX1tTjO8iFeO9gD8X3+joFent8mBPjrY93/irBs/zsh5GYTQuov4nv8jNAb8n/M7BvAyvJGbvy/Nr5XB6GHoFwOoTXTQAice2J5ZattOAcx0Aq9ifD9/Yqw0XFEnN6thJbWx2J52VUMfD+rhpn+44R5u3bQBv3jcVoXDir/KbEhEcuPB86rmN4TDPR2QNgoPmyI9x2ufDjXUtG4YOA7/8mgDZlXKl7zFsKGweZBry1vAG8e9Npy+QvDlA9pUoWbu7/P3VcMM+xyd79lqGGT2HB9xpXl5RXaUga6UCEE3lbgrwlb8kNOx8x+n/BDfAnAzGab2aOErpL/BVwWn9/La+/c/g3CDzrP/ns8Yd9TGwOtkCxhy/nKiuFXAJsmulLD+EPCirwl/lXuE+wibNBUyzIGQmQk3hSXry8QNiwAfgt42N1LhB6J82P5k4QQvILQrfwQMNPduwjdaHcRAux8M3vvEO/VEIeXGaGl9QPCSvqte6nn8YTQrZxW5fUabyR07b2LELT9DP/73V897NllNxLl3iAA3L3c/V3eP/5bhKAcbLjyMWFmcwjrixHtzx6NSRVu01AP4UdcqYWB/m8I+w2fImzZVrZqy+EGYQu9sqsJworwVMI+l17iD9Hdt7j7SXGaPyZ0sZ1E2Ee3uwUQ+/BbgY+P6pMlR3nfHIQV1mGEFeqfx/IbRzCtZ+LfeJhJmP8/Y2QbE3tzE6Hr70A1E7rBhmp57ssv3f0kd38DIazqCfup/sTMXiS0gipDpd/df0Touv0ecZ9iXHm3u/sn47B3DvFeBfb8PeWB/4iPf0zoUhvO4+y5u2PwtHYQuvJuIrR+YGQ9GkNJM7C/eSykgLfEjYmzgMqDn84dpnysvY2wDI87hVuy9RO2cH4tPq8jdP+8FJ9fTAiw7YSt2bPMrJXQ/WAMhNE9hBVEQ3w+hxCGV8XykW5hvpGws/uiUbw2adYQtrQBtrv7fHdfAnyZsHK6uEr1qjSL8N1dTFjZbySsTCtbauVu6GpYQuhCGwtzCfP+M/F7+BYDB86cSvgNQFh3HQPsNLMjzezwimm0MvQdP7ayZ5fbduCc+PhN7LkfcV+2MnCwDoT5X+45OYPwHR2oGYTl84CZ2WzC+uT2uDHxDnd/uWKU4crH2nmE/ZXjblKF2zTd5/ZjwhGWlxGODvsy4UfYAHyAga2gzYR+7M8T9lWUf6j/RDiy7WuEfRbLCPsL8oQf5L8TVhjHjaBO7yF0h95P6K4cSXdY0va5/YQ9W7yDjWSf28GEAwTG0qnx/Te6ezfhIJgnCSu9I8wsZ2ZLCS27V4efzJB+nVDnA7WEsQ23wVv2dxAC62Dgz8zscULQryC0shuB7wB/YGarCPvkPjXEtF8gbByWbSK08H6fcHDHf4+gnusZOJoYwpGo3yVs8DUy+ttpVVrA6Fs5Z7DnPrc3M4r96mPJzIwwzx6diPebVOE2Dfe5QdhHcBFwdfy7OZbvIoRY5db6/e5+CWErtLwg/7W7r3D3bxL2Xawg7MR+Vzwa7CTCAQp7nE8X/Y+7f2qI8ve5+6EV3ZUjaTEkap+bu99LCPu6IQa/j5Htc1vHQKt6pD5HaJXVEFrG74jlHyB0Ty0ws8cI+wTXEILsWULQ3U44AGOkrej/5sBXwmnChlb7KF77CKELsdKDhIOjKv19nP6PgM+7+/HAd939rwDcfaW7/1osOwG41d2Hun/ZBkIQl7uhi+7+m8D33P1M9n7Ps8H73ArA3Qx09z9ECMkfEPZ1HWiPhhEC/c5Rvn6PfW6EIyk3HGCdDtSpwCPuE3PNx32d5/YnwLkMnH+UYqBJeS5hS6q8VbuJgWa5DypfV/G69xK2br1i+HpCV9ng8psJRxv9MaFJXbbK3S+vqOd97LlgznH318dhP4r1Pi3WLxOnmSNs/X2NcEh9uf88Q1h5FAjdDoPLP+LuD8VpX03YEiyfaJomrHA6CT+iweWfj5/lZMLWXXnn7kZCWHUTFsClhJZReUt8X49nx/nXF6dhhB8esX7lebrXcnfffeiwmd1O2NqrXEBeJqx4hiq/i3AASnlZaY7zoXz0VANhGfgQYQVe1kM4Yu/v2HNjyxmYX+X3Kp9DtJ2Brtd+Bs5nKzJwTl/3MOU742sa4nsXY302xOluie+1lLAz/0nCct7GwD6UWsJ32h+n30dYXrrj587E4eUDFvoJXUzlfVLl5XAzA8sI8TW74vTLy0a+orw/Pi4RWiE1hPO8IBzMQKzL3Fifct1nEYKkfMj7hjjeI4TD7P+BsIGzMb5vmoGwOj6+x1wGzv3MxfqsieX1hOWijbAxliG0ZOrj/O6t+CyVR6buAh5y9y8DmNlBhN6HNXFaz8fP+qdDlbv775jZl939z+Pry+uB4wn7yOa4++vNbD0hfI6Pn6vJ3U8ZVF45fg9hWSiri/PuHQysD0+Mn6+GsP6aGz/b0jiPdsW6LCUsZ+VxC/G9thP2V3+OsIFY+VvsjPU6ioH1T3Ocl/fFeTt7UPm/xM9Wrt/xhHNabyd07V7o7jdUrA/LWhhYD+53ubtvMLMlcZ4cReg6Jr7vBuBBd/9I+UXxfOPmOF/WV8yLRxloAbfF+bDJ3StP6H9HnF/vKH/XleVecT5dJV04WWSCmdkiwlGm5YN3xnLaF7DvjcHXEQKt8nzRVxgIuj3K3f2yitceRDjIpvJw+XIAvaY8BtAVhA2ff3b3q0Y7rb29x6B5MOTG7kjL2Q/70QDYr3J3/0bFNIf8DhlmQ3+48srvfDyMZlkY9PqrGQhFCBucHyech7zf5eXGxmvqp3ATEZGpZlLtcxMREdkfCjcREZlyFG4iIjLlKNxEJiEze2/coV9+/i0zOyY+/vigcat1crdI1eiAEpEJZGbpeKmoA53O3cBfDnXep5l1uXvjcM9FpgO13ET2wczeE29C+ZiZfXfQjSnvMrPFcbzrzexdFa/riv/PNrNfmNn3gcfNrMHMfhKn94SZ/V4c71Qz+6WZrTSzO8xsyIvmxvdYBtxo4cacdRZvPGpm/wjUxfLXXBfTzD4abxWyysw+PfZzSyQZFG4ie2FmxxIuLn2Ou58IfJhwYusN8WoYN1Jxj6u9OA34hLsfQzjPaYO7n+juxwG3x9sHXUm4csyphPvhDXlLD3e/iXClmYvj9QB7Kob9DdATy/e4LqaZvY1wr7PTCPf5O9UG3YFcZKqYVrcdFxmFc4CbypdzcvetZnYmUD4h9buEK6nsy4PxvmsQrlDxBTP7J8Klou41s+MI1/e8M1yCjzRjc/HdSm+Lf+V7xDUSwu6eYV8hMkkp3ET2ztj3dQLLwwvE3pB4kdjKy4ztvuqHuz9jZqcSrvX5OTP7GeEC2avjNQ7HiwGfi9cZFZnS1C0psnd3Ab8bbxmCmc0iXDqrfB3OiwnX+4NwDcZT4+MLGLg+5B7iUY7d7v49wk06TyHcV601tgoxs2zsEh1OJ3veWblSPnZzDnYH8Idm1hjfY4GZTcRdxkUmnFpuInvh7qvN7LPAL82sSOjS+xBwnZl9lHCh4Evi6NcCN5vZg4RQ3DXUNAkXl73CzEqEiwl/wN3744EiXzWzFsJv88uEi98O5Xrg6niR38GtvWuAVWb2cOV+N3f/mZkdDdwfuz67CFeyT8qdxkXGjE4FEBGRKUfdkiIiMuWoW1Ikwczs68BZg4q/4u7/Uo36iEwW6pYUEZEpR92SIiIy5SjcRERkylG4iYjIlKNwExGRKef/Aywxd6+7pr+8AAAAAElFTkSuQmCC\n",
      "text/plain": [
       "<Figure size 432x288 with 1 Axes>"
      ]
     },
     "metadata": {
      "needs_background": "light"
     },
     "output_type": "display_data"
    }
   ],
   "source": [
    "course_tran.plot()\n",
    "plt.show()"
   ]
  },
  {
   "cell_type": "code",
   "execution_count": 82,
   "id": "5089328b",
   "metadata": {
    "ExecuteTime": {
     "end_time": "2022-06-30T05:55:06.214506Z",
     "start_time": "2022-06-30T05:55:06.202310Z"
    }
   },
   "outputs": [
    {
     "data": {
      "text/plain": [
       "course_title\n",
       "초격차 패키지 : 한 번에 끝내는 프론트엔드 개발                                           328586545\n",
       "The RED : 김영하 작가의 내 안의 숨은 이야기를 찾아 쓰는 법                                300216241\n",
       "초격차 패키지 : 한번에 끝내는 영상 촬영과 편집                                           251637735\n",
       "초격차 패키지 : 한번에 끝내는 Java/Spring 웹 개발 마스터                                243806841\n",
       "초격차 패키지 : 한번에 끝내는 디자인 툴                                               215915064\n",
       "올인원 패키지 : star741의 캐주얼 일러스트 드로잉                                       209287315\n",
       "올인원 패키지 : 박세익 전무에게 배우는 주식 시장 분석 & 포트폴리오 운용 전략                         206005423\n",
       "올인원 패키지 : 완전정복 시각디자인 기초                                               191337757\n",
       "매주)데이터 사이언스 온라인 완주반                                                   188558386\n",
       "초격차 패키지 : 한번에 끝내는 UX/UI 디자인                                           182138968\n",
       "매주)디지털 마케팅 온라인 완주반                                                    176158369\n",
       "초격차 패키지 : 한번에 끝내는 모션그래픽                                               157132684\n",
       "초격차 패키지 : 30개 프로젝트로 배우는 Android 앱 개발 with Kotlin                      144012245\n",
       "올인원 패키지 : 김민태의 프론트엔드 아카데미 : 제 1강 JavaScript & TypeScript Essential    138627311\n",
       "나의 칼퇴치트키 엑셀유치원                                                        133452167\n",
       "올인원 패키지 : 디지털 마케팅 MAX 2020                                            132879498\n",
       "올인원 패키지 : 권오상의 금융 아카데미 - 권오상의 재무제표 분석 심화 (수강시간 제한)                    122545990\n",
       "초격차 패키지 : 한 번에 끝내는 엑셀 실무                                              121970739\n",
       "올인원 패키지 : 컴퓨터 공학 전공 필수                                                120150618\n",
       "올인원 패키지 : 권오상의 금융 아카데미 - 권오상의 재무제표 분석 기초 (수강시간 제한)                    119653500\n",
       "초격차 패키지 : 일잘러 필수 스킬 모음.zip                                            117260234\n",
       "올인원 패키지 : GA4 탑재, 구글 애널리틱스 끝장내기                                       109494300\n",
       "초격차 패키지 : 한번에 끝내는 PPT 제작/디자인                                          101710880\n",
       "매주)엑셀+데이터분석 온라인 완주반                                                   100846000\n",
       "초격차 패키지 : 한번에 끝내는 3D 디자인 툴                                            100399248\n",
       "올인원 패키지 : 15명의 전문 애널리스트에게 배우는 산업&매크로 분석과 투자 전략                         99868029\n",
       "초격차 패키지 : 한 번에 끝내는 파이썬 웹 개발                                            98715504\n",
       "초격차 패키지 : 한 번에 끝내는 데이터 분석 툴                                            95739225\n",
       "올인원 패키지 : 알고리즘 기술면접 완전 정복                                              93750899\n",
       "올인원 패키지 : 아카데미 : 편집하는여자의 영상편집 마스터클래스 - 제 1강 프리미어프로 베이직                 93218755\n",
       "올인원 패키지 : 100억을 움직이는 단 10장의 PPT                                        90867350\n",
       "Name: transaction_amount, dtype: int64"
      ]
     },
     "execution_count": 82,
     "metadata": {},
     "output_type": "execute_result"
    }
   ],
   "source": [
    "course_tr_up=course_tran[course_tran>=course_tran.quantile(0.95)]\n",
    "course_tr_up"
   ]
  },
  {
   "cell_type": "code",
   "execution_count": 83,
   "id": "a0798b51",
   "metadata": {
    "ExecuteTime": {
     "end_time": "2022-06-30T05:55:10.884201Z",
     "start_time": "2022-06-30T05:55:10.749585Z"
    }
   },
   "outputs": [
    {
     "name": "stderr",
     "output_type": "stream",
     "text": [
      "C:\\Users\\user\\anaconda3\\lib\\site-packages\\IPython\\core\\pylabtools.py:151: UserWarning: Glyph 52488 (\\N{HANGUL SYLLABLE CO}) missing from current font.\n",
      "  fig.canvas.print_figure(bytes_io, **kw)\n",
      "C:\\Users\\user\\anaconda3\\lib\\site-packages\\IPython\\core\\pylabtools.py:151: UserWarning: Glyph 44201 (\\N{HANGUL SYLLABLE GYEOG}) missing from current font.\n",
      "  fig.canvas.print_figure(bytes_io, **kw)\n",
      "C:\\Users\\user\\anaconda3\\lib\\site-packages\\IPython\\core\\pylabtools.py:151: UserWarning: Glyph 52264 (\\N{HANGUL SYLLABLE CA}) missing from current font.\n",
      "  fig.canvas.print_figure(bytes_io, **kw)\n",
      "C:\\Users\\user\\anaconda3\\lib\\site-packages\\IPython\\core\\pylabtools.py:151: UserWarning: Glyph 54056 (\\N{HANGUL SYLLABLE PAE}) missing from current font.\n",
      "  fig.canvas.print_figure(bytes_io, **kw)\n",
      "C:\\Users\\user\\anaconda3\\lib\\site-packages\\IPython\\core\\pylabtools.py:151: UserWarning: Glyph 53412 (\\N{HANGUL SYLLABLE KI}) missing from current font.\n",
      "  fig.canvas.print_figure(bytes_io, **kw)\n",
      "C:\\Users\\user\\anaconda3\\lib\\site-packages\\IPython\\core\\pylabtools.py:151: UserWarning: Glyph 51648 (\\N{HANGUL SYLLABLE JI}) missing from current font.\n",
      "  fig.canvas.print_figure(bytes_io, **kw)\n",
      "C:\\Users\\user\\anaconda3\\lib\\site-packages\\IPython\\core\\pylabtools.py:151: UserWarning: Glyph 54620 (\\N{HANGUL SYLLABLE HAN}) missing from current font.\n",
      "  fig.canvas.print_figure(bytes_io, **kw)\n",
      "C:\\Users\\user\\anaconda3\\lib\\site-packages\\IPython\\core\\pylabtools.py:151: UserWarning: Glyph 48264 (\\N{HANGUL SYLLABLE BEON}) missing from current font.\n",
      "  fig.canvas.print_figure(bytes_io, **kw)\n",
      "C:\\Users\\user\\anaconda3\\lib\\site-packages\\IPython\\core\\pylabtools.py:151: UserWarning: Glyph 50640 (\\N{HANGUL SYLLABLE E}) missing from current font.\n",
      "  fig.canvas.print_figure(bytes_io, **kw)\n",
      "C:\\Users\\user\\anaconda3\\lib\\site-packages\\IPython\\core\\pylabtools.py:151: UserWarning: Glyph 45149 (\\N{HANGUL SYLLABLE GGEUT}) missing from current font.\n",
      "  fig.canvas.print_figure(bytes_io, **kw)\n",
      "C:\\Users\\user\\anaconda3\\lib\\site-packages\\IPython\\core\\pylabtools.py:151: UserWarning: Glyph 45236 (\\N{HANGUL SYLLABLE NAE}) missing from current font.\n",
      "  fig.canvas.print_figure(bytes_io, **kw)\n",
      "C:\\Users\\user\\anaconda3\\lib\\site-packages\\IPython\\core\\pylabtools.py:151: UserWarning: Glyph 45716 (\\N{HANGUL SYLLABLE NEUN}) missing from current font.\n",
      "  fig.canvas.print_figure(bytes_io, **kw)\n",
      "C:\\Users\\user\\anaconda3\\lib\\site-packages\\IPython\\core\\pylabtools.py:151: UserWarning: Glyph 54532 (\\N{HANGUL SYLLABLE PEU}) missing from current font.\n",
      "  fig.canvas.print_figure(bytes_io, **kw)\n",
      "C:\\Users\\user\\anaconda3\\lib\\site-packages\\IPython\\core\\pylabtools.py:151: UserWarning: Glyph 47200 (\\N{HANGUL SYLLABLE RON}) missing from current font.\n",
      "  fig.canvas.print_figure(bytes_io, **kw)\n",
      "C:\\Users\\user\\anaconda3\\lib\\site-packages\\IPython\\core\\pylabtools.py:151: UserWarning: Glyph 53944 (\\N{HANGUL SYLLABLE TEU}) missing from current font.\n",
      "  fig.canvas.print_figure(bytes_io, **kw)\n",
      "C:\\Users\\user\\anaconda3\\lib\\site-packages\\IPython\\core\\pylabtools.py:151: UserWarning: Glyph 50644 (\\N{HANGUL SYLLABLE EN}) missing from current font.\n",
      "  fig.canvas.print_figure(bytes_io, **kw)\n",
      "C:\\Users\\user\\anaconda3\\lib\\site-packages\\IPython\\core\\pylabtools.py:151: UserWarning: Glyph 46300 (\\N{HANGUL SYLLABLE DEU}) missing from current font.\n",
      "  fig.canvas.print_figure(bytes_io, **kw)\n",
      "C:\\Users\\user\\anaconda3\\lib\\site-packages\\IPython\\core\\pylabtools.py:151: UserWarning: Glyph 44060 (\\N{HANGUL SYLLABLE GAE}) missing from current font.\n",
      "  fig.canvas.print_figure(bytes_io, **kw)\n",
      "C:\\Users\\user\\anaconda3\\lib\\site-packages\\IPython\\core\\pylabtools.py:151: UserWarning: Glyph 48156 (\\N{HANGUL SYLLABLE BAL}) missing from current font.\n",
      "  fig.canvas.print_figure(bytes_io, **kw)\n",
      "C:\\Users\\user\\anaconda3\\lib\\site-packages\\IPython\\core\\pylabtools.py:151: UserWarning: Glyph 50732 (\\N{HANGUL SYLLABLE OL}) missing from current font.\n",
      "  fig.canvas.print_figure(bytes_io, **kw)\n",
      "C:\\Users\\user\\anaconda3\\lib\\site-packages\\IPython\\core\\pylabtools.py:151: UserWarning: Glyph 51064 (\\N{HANGUL SYLLABLE IN}) missing from current font.\n",
      "  fig.canvas.print_figure(bytes_io, **kw)\n",
      "C:\\Users\\user\\anaconda3\\lib\\site-packages\\IPython\\core\\pylabtools.py:151: UserWarning: Glyph 50896 (\\N{HANGUL SYLLABLE WEON}) missing from current font.\n",
      "  fig.canvas.print_figure(bytes_io, **kw)\n",
      "C:\\Users\\user\\anaconda3\\lib\\site-packages\\IPython\\core\\pylabtools.py:151: UserWarning: Glyph 51032 (\\N{HANGUL SYLLABLE YI}) missing from current font.\n",
      "  fig.canvas.print_figure(bytes_io, **kw)\n",
      "C:\\Users\\user\\anaconda3\\lib\\site-packages\\IPython\\core\\pylabtools.py:151: UserWarning: Glyph 52880 (\\N{HANGUL SYLLABLE KAE}) missing from current font.\n",
      "  fig.canvas.print_figure(bytes_io, **kw)\n",
      "C:\\Users\\user\\anaconda3\\lib\\site-packages\\IPython\\core\\pylabtools.py:151: UserWarning: Glyph 51452 (\\N{HANGUL SYLLABLE JU}) missing from current font.\n",
      "  fig.canvas.print_figure(bytes_io, **kw)\n",
      "C:\\Users\\user\\anaconda3\\lib\\site-packages\\IPython\\core\\pylabtools.py:151: UserWarning: Glyph 50620 (\\N{HANGUL SYLLABLE EOL}) missing from current font.\n",
      "  fig.canvas.print_figure(bytes_io, **kw)\n",
      "C:\\Users\\user\\anaconda3\\lib\\site-packages\\IPython\\core\\pylabtools.py:151: UserWarning: Glyph 51068 (\\N{HANGUL SYLLABLE IL}) missing from current font.\n",
      "  fig.canvas.print_figure(bytes_io, **kw)\n",
      "C:\\Users\\user\\anaconda3\\lib\\site-packages\\IPython\\core\\pylabtools.py:151: UserWarning: Glyph 47084 (\\N{HANGUL SYLLABLE REO}) missing from current font.\n",
      "  fig.canvas.print_figure(bytes_io, **kw)\n",
      "C:\\Users\\user\\anaconda3\\lib\\site-packages\\IPython\\core\\pylabtools.py:151: UserWarning: Glyph 49828 (\\N{HANGUL SYLLABLE SEU}) missing from current font.\n",
      "  fig.canvas.print_figure(bytes_io, **kw)\n",
      "C:\\Users\\user\\anaconda3\\lib\\site-packages\\IPython\\core\\pylabtools.py:151: UserWarning: Glyph 47196 (\\N{HANGUL SYLLABLE RO}) missing from current font.\n",
      "  fig.canvas.print_figure(bytes_io, **kw)\n",
      "C:\\Users\\user\\anaconda3\\lib\\site-packages\\IPython\\core\\pylabtools.py:151: UserWarning: Glyph 51081 (\\N{HANGUL SYLLABLE ING}) missing from current font.\n",
      "  fig.canvas.print_figure(bytes_io, **kw)\n",
      "C:\\Users\\user\\anaconda3\\lib\\site-packages\\IPython\\core\\pylabtools.py:151: UserWarning: Glyph 47588 (\\N{HANGUL SYLLABLE MAE}) missing from current font.\n",
      "  fig.canvas.print_figure(bytes_io, **kw)\n",
      "C:\\Users\\user\\anaconda3\\lib\\site-packages\\IPython\\core\\pylabtools.py:151: UserWarning: Glyph 46356 (\\N{HANGUL SYLLABLE DI}) missing from current font.\n",
      "  fig.canvas.print_figure(bytes_io, **kw)\n",
      "C:\\Users\\user\\anaconda3\\lib\\site-packages\\IPython\\core\\pylabtools.py:151: UserWarning: Glyph 53560 (\\N{HANGUL SYLLABLE TEOL}) missing from current font.\n",
      "  fig.canvas.print_figure(bytes_io, **kw)\n",
      "C:\\Users\\user\\anaconda3\\lib\\site-packages\\IPython\\core\\pylabtools.py:151: UserWarning: Glyph 47560 (\\N{HANGUL SYLLABLE MA}) missing from current font.\n",
      "  fig.canvas.print_figure(bytes_io, **kw)\n",
      "C:\\Users\\user\\anaconda3\\lib\\site-packages\\IPython\\core\\pylabtools.py:151: UserWarning: Glyph 52992 (\\N{HANGUL SYLLABLE KE}) missing from current font.\n",
      "  fig.canvas.print_figure(bytes_io, **kw)\n",
      "C:\\Users\\user\\anaconda3\\lib\\site-packages\\IPython\\core\\pylabtools.py:151: UserWarning: Glyph 54021 (\\N{HANGUL SYLLABLE TING}) missing from current font.\n",
      "  fig.canvas.print_figure(bytes_io, **kw)\n",
      "C:\\Users\\user\\anaconda3\\lib\\site-packages\\IPython\\core\\pylabtools.py:151: UserWarning: Glyph 50728 (\\N{HANGUL SYLLABLE ON}) missing from current font.\n",
      "  fig.canvas.print_figure(bytes_io, **kw)\n",
      "C:\\Users\\user\\anaconda3\\lib\\site-packages\\IPython\\core\\pylabtools.py:151: UserWarning: Glyph 46972 (\\N{HANGUL SYLLABLE RA}) missing from current font.\n",
      "  fig.canvas.print_figure(bytes_io, **kw)\n",
      "C:\\Users\\user\\anaconda3\\lib\\site-packages\\IPython\\core\\pylabtools.py:151: UserWarning: Glyph 50756 (\\N{HANGUL SYLLABLE WAN}) missing from current font.\n",
      "  fig.canvas.print_figure(bytes_io, **kw)\n",
      "C:\\Users\\user\\anaconda3\\lib\\site-packages\\IPython\\core\\pylabtools.py:151: UserWarning: Glyph 48152 (\\N{HANGUL SYLLABLE BAN}) missing from current font.\n",
      "  fig.canvas.print_figure(bytes_io, **kw)\n",
      "C:\\Users\\user\\anaconda3\\lib\\site-packages\\IPython\\core\\pylabtools.py:151: UserWarning: Glyph 51096 (\\N{HANGUL SYLLABLE JAL}) missing from current font.\n",
      "  fig.canvas.print_figure(bytes_io, **kw)\n",
      "C:\\Users\\user\\anaconda3\\lib\\site-packages\\IPython\\core\\pylabtools.py:151: UserWarning: Glyph 54596 (\\N{HANGUL SYLLABLE PIL}) missing from current font.\n",
      "  fig.canvas.print_figure(bytes_io, **kw)\n",
      "C:\\Users\\user\\anaconda3\\lib\\site-packages\\IPython\\core\\pylabtools.py:151: UserWarning: Glyph 49688 (\\N{HANGUL SYLLABLE SU}) missing from current font.\n",
      "  fig.canvas.print_figure(bytes_io, **kw)\n",
      "C:\\Users\\user\\anaconda3\\lib\\site-packages\\IPython\\core\\pylabtools.py:151: UserWarning: Glyph 53420 (\\N{HANGUL SYLLABLE KIL}) missing from current font.\n",
      "  fig.canvas.print_figure(bytes_io, **kw)\n",
      "C:\\Users\\user\\anaconda3\\lib\\site-packages\\IPython\\core\\pylabtools.py:151: UserWarning: Glyph 47784 (\\N{HANGUL SYLLABLE MO}) missing from current font.\n",
      "  fig.canvas.print_figure(bytes_io, **kw)\n",
      "C:\\Users\\user\\anaconda3\\lib\\site-packages\\IPython\\core\\pylabtools.py:151: UserWarning: Glyph 51020 (\\N{HANGUL SYLLABLE EUM}) missing from current font.\n",
      "  fig.canvas.print_figure(bytes_io, **kw)\n",
      "C:\\Users\\user\\anaconda3\\lib\\site-packages\\IPython\\core\\pylabtools.py:151: UserWarning: Glyph 47749 (\\N{HANGUL SYLLABLE MYEONG}) missing from current font.\n",
      "  fig.canvas.print_figure(bytes_io, **kw)\n",
      "C:\\Users\\user\\anaconda3\\lib\\site-packages\\IPython\\core\\pylabtools.py:151: UserWarning: Glyph 51204 (\\N{HANGUL SYLLABLE JEON}) missing from current font.\n",
      "  fig.canvas.print_figure(bytes_io, **kw)\n",
      "C:\\Users\\user\\anaconda3\\lib\\site-packages\\IPython\\core\\pylabtools.py:151: UserWarning: Glyph 47928 (\\N{HANGUL SYLLABLE MUN}) missing from current font.\n",
      "  fig.canvas.print_figure(bytes_io, **kw)\n",
      "C:\\Users\\user\\anaconda3\\lib\\site-packages\\IPython\\core\\pylabtools.py:151: UserWarning: Glyph 50528 (\\N{HANGUL SYLLABLE AE}) missing from current font.\n",
      "  fig.canvas.print_figure(bytes_io, **kw)\n",
      "C:\\Users\\user\\anaconda3\\lib\\site-packages\\IPython\\core\\pylabtools.py:151: UserWarning: Glyph 45328 (\\N{HANGUL SYLLABLE NEOL}) missing from current font.\n",
      "  fig.canvas.print_figure(bytes_io, **kw)\n",
      "C:\\Users\\user\\anaconda3\\lib\\site-packages\\IPython\\core\\pylabtools.py:151: UserWarning: Glyph 47532 (\\N{HANGUL SYLLABLE RI}) missing from current font.\n",
      "  fig.canvas.print_figure(bytes_io, **kw)\n",
      "C:\\Users\\user\\anaconda3\\lib\\site-packages\\IPython\\core\\pylabtools.py:151: UserWarning: Glyph 44172 (\\N{HANGUL SYLLABLE GE}) missing from current font.\n",
      "  fig.canvas.print_figure(bytes_io, **kw)\n",
      "C:\\Users\\user\\anaconda3\\lib\\site-packages\\IPython\\core\\pylabtools.py:151: UserWarning: Glyph 48176 (\\N{HANGUL SYLLABLE BAE}) missing from current font.\n",
      "  fig.canvas.print_figure(bytes_io, **kw)\n",
      "C:\\Users\\user\\anaconda3\\lib\\site-packages\\IPython\\core\\pylabtools.py:151: UserWarning: Glyph 50864 (\\N{HANGUL SYLLABLE U}) missing from current font.\n",
      "  fig.canvas.print_figure(bytes_io, **kw)\n",
      "C:\\Users\\user\\anaconda3\\lib\\site-packages\\IPython\\core\\pylabtools.py:151: UserWarning: Glyph 49328 (\\N{HANGUL SYLLABLE SAN}) missing from current font.\n",
      "  fig.canvas.print_figure(bytes_io, **kw)\n",
      "C:\\Users\\user\\anaconda3\\lib\\site-packages\\IPython\\core\\pylabtools.py:151: UserWarning: Glyph 50629 (\\N{HANGUL SYLLABLE EOB}) missing from current font.\n",
      "  fig.canvas.print_figure(bytes_io, **kw)\n",
      "C:\\Users\\user\\anaconda3\\lib\\site-packages\\IPython\\core\\pylabtools.py:151: UserWarning: Glyph 53356 (\\N{HANGUL SYLLABLE KEU}) missing from current font.\n",
      "  fig.canvas.print_figure(bytes_io, **kw)\n",
      "C:\\Users\\user\\anaconda3\\lib\\site-packages\\IPython\\core\\pylabtools.py:151: UserWarning: Glyph 48516 (\\N{HANGUL SYLLABLE BUN}) missing from current font.\n",
      "  fig.canvas.print_figure(bytes_io, **kw)\n",
      "C:\\Users\\user\\anaconda3\\lib\\site-packages\\IPython\\core\\pylabtools.py:151: UserWarning: Glyph 49437 (\\N{HANGUL SYLLABLE SEOG}) missing from current font.\n",
      "  fig.canvas.print_figure(bytes_io, **kw)\n",
      "C:\\Users\\user\\anaconda3\\lib\\site-packages\\IPython\\core\\pylabtools.py:151: UserWarning: Glyph 44284 (\\N{HANGUL SYLLABLE GWA}) missing from current font.\n",
      "  fig.canvas.print_figure(bytes_io, **kw)\n",
      "C:\\Users\\user\\anaconda3\\lib\\site-packages\\IPython\\core\\pylabtools.py:151: UserWarning: Glyph 53804 (\\N{HANGUL SYLLABLE TU}) missing from current font.\n",
      "  fig.canvas.print_figure(bytes_io, **kw)\n",
      "C:\\Users\\user\\anaconda3\\lib\\site-packages\\IPython\\core\\pylabtools.py:151: UserWarning: Glyph 51088 (\\N{HANGUL SYLLABLE JA}) missing from current font.\n",
      "  fig.canvas.print_figure(bytes_io, **kw)\n",
      "C:\\Users\\user\\anaconda3\\lib\\site-packages\\IPython\\core\\pylabtools.py:151: UserWarning: Glyph 47029 (\\N{HANGUL SYLLABLE RYAG}) missing from current font.\n",
      "  fig.canvas.print_figure(bytes_io, **kw)\n",
      "C:\\Users\\user\\anaconda3\\lib\\site-packages\\IPython\\core\\pylabtools.py:151: UserWarning: Glyph 50613 (\\N{HANGUL SYLLABLE EOG}) missing from current font.\n",
      "  fig.canvas.print_figure(bytes_io, **kw)\n",
      "C:\\Users\\user\\anaconda3\\lib\\site-packages\\IPython\\core\\pylabtools.py:151: UserWarning: Glyph 51012 (\\N{HANGUL SYLLABLE EUL}) missing from current font.\n",
      "  fig.canvas.print_figure(bytes_io, **kw)\n",
      "C:\\Users\\user\\anaconda3\\lib\\site-packages\\IPython\\core\\pylabtools.py:151: UserWarning: Glyph 50880 (\\N{HANGUL SYLLABLE UM}) missing from current font.\n",
      "  fig.canvas.print_figure(bytes_io, **kw)\n",
      "C:\\Users\\user\\anaconda3\\lib\\site-packages\\IPython\\core\\pylabtools.py:151: UserWarning: Glyph 51649 (\\N{HANGUL SYLLABLE JIG}) missing from current font.\n",
      "  fig.canvas.print_figure(bytes_io, **kw)\n",
      "C:\\Users\\user\\anaconda3\\lib\\site-packages\\IPython\\core\\pylabtools.py:151: UserWarning: Glyph 51060 (\\N{HANGUL SYLLABLE I}) missing from current font.\n",
      "  fig.canvas.print_figure(bytes_io, **kw)\n",
      "C:\\Users\\user\\anaconda3\\lib\\site-packages\\IPython\\core\\pylabtools.py:151: UserWarning: Glyph 45800 (\\N{HANGUL SYLLABLE DAN}) missing from current font.\n",
      "  fig.canvas.print_figure(bytes_io, **kw)\n",
      "C:\\Users\\user\\anaconda3\\lib\\site-packages\\IPython\\core\\pylabtools.py:151: UserWarning: Glyph 51109 (\\N{HANGUL SYLLABLE JANG}) missing from current font.\n",
      "  fig.canvas.print_figure(bytes_io, **kw)\n"
     ]
    },
    {
     "data": {
      "image/png": "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\n",
      "text/plain": [
       "<Figure size 432x288 with 1 Axes>"
      ]
     },
     "metadata": {
      "needs_background": "light"
     },
     "output_type": "display_data"
    }
   ],
   "source": [
    "course_tr_up.plot()\n",
    "plt.show()"
   ]
  },
  {
   "cell_type": "code",
   "execution_count": null,
   "id": "35ec6464",
   "metadata": {},
   "outputs": [],
   "source": []
  },
  {
   "cell_type": "code",
   "execution_count": 84,
   "id": "7eb18019",
   "metadata": {
    "ExecuteTime": {
     "end_time": "2022-06-30T05:55:16.292520Z",
     "start_time": "2022-06-30T05:55:16.157389Z"
    }
   },
   "outputs": [
    {
     "data": {
      "text/plain": [
       "course_title\n",
       "초격차 패키지 : 한 번에 끝내는 프론트엔드 개발                             3252\n",
       "초격차 패키지 : 한번에 끝내는 Java/Spring 웹 개발 마스터                  2745\n",
       "초격차 패키지 : 한번에 끝내는 영상 촬영과 편집                             2526\n",
       "The RED : 김영하 작가의 내 안의 숨은 이야기를 찾아 쓰는 법                  2124\n",
       "올인원 패키지 : star741의 캐주얼 일러스트 드로잉                         1633\n",
       "                                                        ... \n",
       "올인원 패키지 : 데이터기반 마케팅                                        1\n",
       "프로모션 : 개발자를 위한 코딩 만능 백과사전 평생 PASS (8월 프리패스)                1\n",
       "데이터분석 프로젝트+자격증 온라인 완주반 2기                                  1\n",
       "Java 웹 개발자 취업 온라인 완주반 1기                                   1\n",
       "초격차 패키지: 30개 프로젝트로 배우는 Android 앱 개발 with Kotlin 특별할인       1\n",
       "Name: transaction_amount, Length: 610, dtype: int64"
      ]
     },
     "execution_count": 84,
     "metadata": {},
     "output_type": "execute_result"
    }
   ],
   "source": [
    "course_count = df.groupby('course_title').count()['transaction_amount'].sort_values(ascending=False)\n",
    "course_count"
   ]
  },
  {
   "cell_type": "code",
   "execution_count": 85,
   "id": "30f07446",
   "metadata": {
    "ExecuteTime": {
     "end_time": "2022-06-30T05:55:31.480015Z",
     "start_time": "2022-06-30T05:55:31.465115Z"
    }
   },
   "outputs": [
    {
     "data": {
      "text/plain": [
       "course_title\n",
       "초격차 패키지 : 한 번에 끝내는 프론트엔드 개발                                           3252\n",
       "초격차 패키지 : 한번에 끝내는 Java/Spring 웹 개발 마스터                                2745\n",
       "초격차 패키지 : 한번에 끝내는 영상 촬영과 편집                                           2526\n",
       "The RED : 김영하 작가의 내 안의 숨은 이야기를 찾아 쓰는 법                                2124\n",
       "올인원 패키지 : star741의 캐주얼 일러스트 드로잉                                       1633\n",
       "초격차 패키지 : 한번에 끝내는 디자인 툴                                               1588\n",
       "초격차 패키지 : 30개 프로젝트로 배우는 Android 앱 개발 with Kotlin                      1439\n",
       "올인원 패키지 : 김민태의 프론트엔드 아카데미 : 제 1강 JavaScript & TypeScript Essential    1425\n",
       "초격차 패키지 : 한 번에 끝내는 엑셀 실무                                              1405\n",
       "초격차 패키지 : 한 번에 끝내는 node.js 웹 프로그래밍                                    1370\n",
       "초격차 패키지 : 한번에 끝내는 UX/UI 디자인                                           1350\n",
       "올인원 패키지 : 완전정복 시각디자인 기초                                               1340\n",
       "초격차 패키지 : 한번에 끝내는 모션그래픽                                               1265\n",
       "초격차 패키지 : 한 번에 끝내는 데이터 분석 툴                                           1260\n",
       "초격차 패키지 : 한번에 끝내는 PPT 제작/디자인                                          1230\n",
       "올인원 패키지 : GA4 탑재, 구글 애널리틱스 끝장내기                                       1202\n",
       "나의 칼퇴치트키 엑셀유치원                                                        1192\n",
       "입만 열면 인정받는 스피치 10분컷                                                   1173\n",
       "올인원 패키지 : 디지털 마케팅 MAX 2020                                            1160\n",
       "초격차 패키지 : 일잘러 필수 스킬 모음.zip                                            1160\n",
       "올인원 패키지 : 컴퓨터 공학 전공 필수                                                1112\n",
       "올인원 패키지 : 아카데미 : 편집하는여자의 영상편집 마스터클래스 - 제 1강 프리미어프로 베이직                1104\n",
       "올인원 패키지 : 알고리즘 기술면접 완전 정복                                             1085\n",
       "초격차 패키지 : 한 번에 끝내는 코딩테스트 369 Java편                                    1027\n",
       "초격차 패키지 : 한 번에 끝내는 파이썬 웹 개발                                            990\n",
       "올인원 패키지 : 직장인을 위한 파이썬 데이터분석                                            888\n",
       "올인원 패키지 : 디자이너 몰래 듣는 압축 포토샵                                            819\n",
       "연습문제 패키지 : 퀴즈처럼 풀면서 배우는 파이썬 딥러닝 300제+                                  816\n",
       "올인원 패키지 : Android 앱 개발                                                 806\n",
       "올인원 패키지 : 박세익 전무에게 배우는 주식 시장 분석 & 포트폴리오 운용 전략                          801\n",
       "올인원 패키지 : 100억을 움직이는 단 10장의 PPT                                        801\n",
       "Name: transaction_amount, dtype: int64"
      ]
     },
     "execution_count": 85,
     "metadata": {},
     "output_type": "execute_result"
    }
   ],
   "source": [
    "course_co_up=course_count[course_count>=course_count.quantile(0.95)]\n",
    "course_co_up"
   ]
  },
  {
   "cell_type": "code",
   "execution_count": 86,
   "id": "5f09c7ae",
   "metadata": {
    "ExecuteTime": {
     "end_time": "2022-06-30T05:55:42.849622Z",
     "start_time": "2022-06-30T05:55:42.717945Z"
    }
   },
   "outputs": [
    {
     "name": "stderr",
     "output_type": "stream",
     "text": [
      "C:\\Users\\user\\anaconda3\\lib\\site-packages\\IPython\\core\\pylabtools.py:151: UserWarning: Glyph 52488 (\\N{HANGUL SYLLABLE CO}) missing from current font.\n",
      "  fig.canvas.print_figure(bytes_io, **kw)\n",
      "C:\\Users\\user\\anaconda3\\lib\\site-packages\\IPython\\core\\pylabtools.py:151: UserWarning: Glyph 44201 (\\N{HANGUL SYLLABLE GYEOG}) missing from current font.\n",
      "  fig.canvas.print_figure(bytes_io, **kw)\n",
      "C:\\Users\\user\\anaconda3\\lib\\site-packages\\IPython\\core\\pylabtools.py:151: UserWarning: Glyph 52264 (\\N{HANGUL SYLLABLE CA}) missing from current font.\n",
      "  fig.canvas.print_figure(bytes_io, **kw)\n",
      "C:\\Users\\user\\anaconda3\\lib\\site-packages\\IPython\\core\\pylabtools.py:151: UserWarning: Glyph 54056 (\\N{HANGUL SYLLABLE PAE}) missing from current font.\n",
      "  fig.canvas.print_figure(bytes_io, **kw)\n",
      "C:\\Users\\user\\anaconda3\\lib\\site-packages\\IPython\\core\\pylabtools.py:151: UserWarning: Glyph 53412 (\\N{HANGUL SYLLABLE KI}) missing from current font.\n",
      "  fig.canvas.print_figure(bytes_io, **kw)\n",
      "C:\\Users\\user\\anaconda3\\lib\\site-packages\\IPython\\core\\pylabtools.py:151: UserWarning: Glyph 51648 (\\N{HANGUL SYLLABLE JI}) missing from current font.\n",
      "  fig.canvas.print_figure(bytes_io, **kw)\n",
      "C:\\Users\\user\\anaconda3\\lib\\site-packages\\IPython\\core\\pylabtools.py:151: UserWarning: Glyph 54620 (\\N{HANGUL SYLLABLE HAN}) missing from current font.\n",
      "  fig.canvas.print_figure(bytes_io, **kw)\n",
      "C:\\Users\\user\\anaconda3\\lib\\site-packages\\IPython\\core\\pylabtools.py:151: UserWarning: Glyph 48264 (\\N{HANGUL SYLLABLE BEON}) missing from current font.\n",
      "  fig.canvas.print_figure(bytes_io, **kw)\n",
      "C:\\Users\\user\\anaconda3\\lib\\site-packages\\IPython\\core\\pylabtools.py:151: UserWarning: Glyph 50640 (\\N{HANGUL SYLLABLE E}) missing from current font.\n",
      "  fig.canvas.print_figure(bytes_io, **kw)\n",
      "C:\\Users\\user\\anaconda3\\lib\\site-packages\\IPython\\core\\pylabtools.py:151: UserWarning: Glyph 45149 (\\N{HANGUL SYLLABLE GGEUT}) missing from current font.\n",
      "  fig.canvas.print_figure(bytes_io, **kw)\n",
      "C:\\Users\\user\\anaconda3\\lib\\site-packages\\IPython\\core\\pylabtools.py:151: UserWarning: Glyph 45236 (\\N{HANGUL SYLLABLE NAE}) missing from current font.\n",
      "  fig.canvas.print_figure(bytes_io, **kw)\n",
      "C:\\Users\\user\\anaconda3\\lib\\site-packages\\IPython\\core\\pylabtools.py:151: UserWarning: Glyph 45716 (\\N{HANGUL SYLLABLE NEUN}) missing from current font.\n",
      "  fig.canvas.print_figure(bytes_io, **kw)\n",
      "C:\\Users\\user\\anaconda3\\lib\\site-packages\\IPython\\core\\pylabtools.py:151: UserWarning: Glyph 54532 (\\N{HANGUL SYLLABLE PEU}) missing from current font.\n",
      "  fig.canvas.print_figure(bytes_io, **kw)\n",
      "C:\\Users\\user\\anaconda3\\lib\\site-packages\\IPython\\core\\pylabtools.py:151: UserWarning: Glyph 47200 (\\N{HANGUL SYLLABLE RON}) missing from current font.\n",
      "  fig.canvas.print_figure(bytes_io, **kw)\n",
      "C:\\Users\\user\\anaconda3\\lib\\site-packages\\IPython\\core\\pylabtools.py:151: UserWarning: Glyph 53944 (\\N{HANGUL SYLLABLE TEU}) missing from current font.\n",
      "  fig.canvas.print_figure(bytes_io, **kw)\n",
      "C:\\Users\\user\\anaconda3\\lib\\site-packages\\IPython\\core\\pylabtools.py:151: UserWarning: Glyph 50644 (\\N{HANGUL SYLLABLE EN}) missing from current font.\n",
      "  fig.canvas.print_figure(bytes_io, **kw)\n",
      "C:\\Users\\user\\anaconda3\\lib\\site-packages\\IPython\\core\\pylabtools.py:151: UserWarning: Glyph 46300 (\\N{HANGUL SYLLABLE DEU}) missing from current font.\n",
      "  fig.canvas.print_figure(bytes_io, **kw)\n",
      "C:\\Users\\user\\anaconda3\\lib\\site-packages\\IPython\\core\\pylabtools.py:151: UserWarning: Glyph 44060 (\\N{HANGUL SYLLABLE GAE}) missing from current font.\n",
      "  fig.canvas.print_figure(bytes_io, **kw)\n",
      "C:\\Users\\user\\anaconda3\\lib\\site-packages\\IPython\\core\\pylabtools.py:151: UserWarning: Glyph 48156 (\\N{HANGUL SYLLABLE BAL}) missing from current font.\n",
      "  fig.canvas.print_figure(bytes_io, **kw)\n",
      "C:\\Users\\user\\anaconda3\\lib\\site-packages\\IPython\\core\\pylabtools.py:151: UserWarning: Glyph 46356 (\\N{HANGUL SYLLABLE DI}) missing from current font.\n",
      "  fig.canvas.print_figure(bytes_io, **kw)\n",
      "C:\\Users\\user\\anaconda3\\lib\\site-packages\\IPython\\core\\pylabtools.py:151: UserWarning: Glyph 51088 (\\N{HANGUL SYLLABLE JA}) missing from current font.\n",
      "  fig.canvas.print_figure(bytes_io, **kw)\n",
      "C:\\Users\\user\\anaconda3\\lib\\site-packages\\IPython\\core\\pylabtools.py:151: UserWarning: Glyph 51064 (\\N{HANGUL SYLLABLE IN}) missing from current font.\n",
      "  fig.canvas.print_figure(bytes_io, **kw)\n",
      "C:\\Users\\user\\anaconda3\\lib\\site-packages\\IPython\\core\\pylabtools.py:151: UserWarning: Glyph 53812 (\\N{HANGUL SYLLABLE TUL}) missing from current font.\n",
      "  fig.canvas.print_figure(bytes_io, **kw)\n",
      "C:\\Users\\user\\anaconda3\\lib\\site-packages\\IPython\\core\\pylabtools.py:151: UserWarning: Glyph 50732 (\\N{HANGUL SYLLABLE OL}) missing from current font.\n",
      "  fig.canvas.print_figure(bytes_io, **kw)\n",
      "C:\\Users\\user\\anaconda3\\lib\\site-packages\\IPython\\core\\pylabtools.py:151: UserWarning: Glyph 50896 (\\N{HANGUL SYLLABLE WEON}) missing from current font.\n",
      "  fig.canvas.print_figure(bytes_io, **kw)\n",
      "C:\\Users\\user\\anaconda3\\lib\\site-packages\\IPython\\core\\pylabtools.py:151: UserWarning: Glyph 53457 (\\N{HANGUL SYLLABLE TAB}) missing from current font.\n",
      "  fig.canvas.print_figure(bytes_io, **kw)\n",
      "C:\\Users\\user\\anaconda3\\lib\\site-packages\\IPython\\core\\pylabtools.py:151: UserWarning: Glyph 51116 (\\N{HANGUL SYLLABLE JAE}) missing from current font.\n",
      "  fig.canvas.print_figure(bytes_io, **kw)\n",
      "C:\\Users\\user\\anaconda3\\lib\\site-packages\\IPython\\core\\pylabtools.py:151: UserWarning: Glyph 44396 (\\N{HANGUL SYLLABLE GU}) missing from current font.\n",
      "  fig.canvas.print_figure(bytes_io, **kw)\n",
      "C:\\Users\\user\\anaconda3\\lib\\site-packages\\IPython\\core\\pylabtools.py:151: UserWarning: Glyph 44544 (\\N{HANGUL SYLLABLE GEUL}) missing from current font.\n",
      "  fig.canvas.print_figure(bytes_io, **kw)\n",
      "C:\\Users\\user\\anaconda3\\lib\\site-packages\\IPython\\core\\pylabtools.py:151: UserWarning: Glyph 50528 (\\N{HANGUL SYLLABLE AE}) missing from current font.\n",
      "  fig.canvas.print_figure(bytes_io, **kw)\n",
      "C:\\Users\\user\\anaconda3\\lib\\site-packages\\IPython\\core\\pylabtools.py:151: UserWarning: Glyph 45328 (\\N{HANGUL SYLLABLE NEOL}) missing from current font.\n",
      "  fig.canvas.print_figure(bytes_io, **kw)\n",
      "C:\\Users\\user\\anaconda3\\lib\\site-packages\\IPython\\core\\pylabtools.py:151: UserWarning: Glyph 47532 (\\N{HANGUL SYLLABLE RI}) missing from current font.\n",
      "  fig.canvas.print_figure(bytes_io, **kw)\n",
      "C:\\Users\\user\\anaconda3\\lib\\site-packages\\IPython\\core\\pylabtools.py:151: UserWarning: Glyph 54001 (\\N{HANGUL SYLLABLE TIG}) missing from current font.\n",
      "  fig.canvas.print_figure(bytes_io, **kw)\n",
      "C:\\Users\\user\\anaconda3\\lib\\site-packages\\IPython\\core\\pylabtools.py:151: UserWarning: Glyph 49828 (\\N{HANGUL SYLLABLE SEU}) missing from current font.\n",
      "  fig.canvas.print_figure(bytes_io, **kw)\n",
      "C:\\Users\\user\\anaconda3\\lib\\site-packages\\IPython\\core\\pylabtools.py:151: UserWarning: Glyph 51109 (\\N{HANGUL SYLLABLE JANG}) missing from current font.\n",
      "  fig.canvas.print_figure(bytes_io, **kw)\n",
      "C:\\Users\\user\\anaconda3\\lib\\site-packages\\IPython\\core\\pylabtools.py:151: UserWarning: Glyph 44592 (\\N{HANGUL SYLLABLE GI}) missing from current font.\n",
      "  fig.canvas.print_figure(bytes_io, **kw)\n",
      "C:\\Users\\user\\anaconda3\\lib\\site-packages\\IPython\\core\\pylabtools.py:151: UserWarning: Glyph 52980 (\\N{HANGUL SYLLABLE KEOM}) missing from current font.\n",
      "  fig.canvas.print_figure(bytes_io, **kw)\n",
      "C:\\Users\\user\\anaconda3\\lib\\site-packages\\IPython\\core\\pylabtools.py:151: UserWarning: Glyph 54504 (\\N{HANGUL SYLLABLE PYU}) missing from current font.\n",
      "  fig.canvas.print_figure(bytes_io, **kw)\n",
      "C:\\Users\\user\\anaconda3\\lib\\site-packages\\IPython\\core\\pylabtools.py:151: UserWarning: Glyph 53552 (\\N{HANGUL SYLLABLE TEO}) missing from current font.\n",
      "  fig.canvas.print_figure(bytes_io, **kw)\n",
      "C:\\Users\\user\\anaconda3\\lib\\site-packages\\IPython\\core\\pylabtools.py:151: UserWarning: Glyph 44277 (\\N{HANGUL SYLLABLE GONG}) missing from current font.\n",
      "  fig.canvas.print_figure(bytes_io, **kw)\n",
      "C:\\Users\\user\\anaconda3\\lib\\site-packages\\IPython\\core\\pylabtools.py:151: UserWarning: Glyph 54617 (\\N{HANGUL SYLLABLE HAG}) missing from current font.\n",
      "  fig.canvas.print_figure(bytes_io, **kw)\n",
      "C:\\Users\\user\\anaconda3\\lib\\site-packages\\IPython\\core\\pylabtools.py:151: UserWarning: Glyph 51204 (\\N{HANGUL SYLLABLE JEON}) missing from current font.\n",
      "  fig.canvas.print_figure(bytes_io, **kw)\n",
      "C:\\Users\\user\\anaconda3\\lib\\site-packages\\IPython\\core\\pylabtools.py:151: UserWarning: Glyph 54596 (\\N{HANGUL SYLLABLE PIL}) missing from current font.\n",
      "  fig.canvas.print_figure(bytes_io, **kw)\n",
      "C:\\Users\\user\\anaconda3\\lib\\site-packages\\IPython\\core\\pylabtools.py:151: UserWarning: Glyph 49688 (\\N{HANGUL SYLLABLE SU}) missing from current font.\n",
      "  fig.canvas.print_figure(bytes_io, **kw)\n",
      "C:\\Users\\user\\anaconda3\\lib\\site-packages\\IPython\\core\\pylabtools.py:151: UserWarning: Glyph 51649 (\\N{HANGUL SYLLABLE JIG}) missing from current font.\n",
      "  fig.canvas.print_figure(bytes_io, **kw)\n",
      "C:\\Users\\user\\anaconda3\\lib\\site-packages\\IPython\\core\\pylabtools.py:151: UserWarning: Glyph 51012 (\\N{HANGUL SYLLABLE EUL}) missing from current font.\n",
      "  fig.canvas.print_figure(bytes_io, **kw)\n",
      "C:\\Users\\user\\anaconda3\\lib\\site-packages\\IPython\\core\\pylabtools.py:151: UserWarning: Glyph 50948 (\\N{HANGUL SYLLABLE WI}) missing from current font.\n",
      "  fig.canvas.print_figure(bytes_io, **kw)\n",
      "C:\\Users\\user\\anaconda3\\lib\\site-packages\\IPython\\core\\pylabtools.py:151: UserWarning: Glyph 54028 (\\N{HANGUL SYLLABLE PA}) missing from current font.\n",
      "  fig.canvas.print_figure(bytes_io, **kw)\n",
      "C:\\Users\\user\\anaconda3\\lib\\site-packages\\IPython\\core\\pylabtools.py:151: UserWarning: Glyph 51060 (\\N{HANGUL SYLLABLE I}) missing from current font.\n",
      "  fig.canvas.print_figure(bytes_io, **kw)\n",
      "C:\\Users\\user\\anaconda3\\lib\\site-packages\\IPython\\core\\pylabtools.py:151: UserWarning: Glyph 50028 (\\N{HANGUL SYLLABLE SSEON}) missing from current font.\n",
      "  fig.canvas.print_figure(bytes_io, **kw)\n",
      "C:\\Users\\user\\anaconda3\\lib\\site-packages\\IPython\\core\\pylabtools.py:151: UserWarning: Glyph 45936 (\\N{HANGUL SYLLABLE DE}) missing from current font.\n",
      "  fig.canvas.print_figure(bytes_io, **kw)\n",
      "C:\\Users\\user\\anaconda3\\lib\\site-packages\\IPython\\core\\pylabtools.py:151: UserWarning: Glyph 48516 (\\N{HANGUL SYLLABLE BUN}) missing from current font.\n",
      "  fig.canvas.print_figure(bytes_io, **kw)\n",
      "C:\\Users\\user\\anaconda3\\lib\\site-packages\\IPython\\core\\pylabtools.py:151: UserWarning: Glyph 49437 (\\N{HANGUL SYLLABLE SEOG}) missing from current font.\n",
      "  fig.canvas.print_figure(bytes_io, **kw)\n",
      "C:\\Users\\user\\anaconda3\\lib\\site-packages\\IPython\\core\\pylabtools.py:151: UserWarning: Glyph 50613 (\\N{HANGUL SYLLABLE EOG}) missing from current font.\n",
      "  fig.canvas.print_figure(bytes_io, **kw)\n",
      "C:\\Users\\user\\anaconda3\\lib\\site-packages\\IPython\\core\\pylabtools.py:151: UserWarning: Glyph 50880 (\\N{HANGUL SYLLABLE UM}) missing from current font.\n",
      "  fig.canvas.print_figure(bytes_io, **kw)\n",
      "C:\\Users\\user\\anaconda3\\lib\\site-packages\\IPython\\core\\pylabtools.py:151: UserWarning: Glyph 45800 (\\N{HANGUL SYLLABLE DAN}) missing from current font.\n",
      "  fig.canvas.print_figure(bytes_io, **kw)\n",
      "C:\\Users\\user\\anaconda3\\lib\\site-packages\\IPython\\core\\pylabtools.py:151: UserWarning: Glyph 51032 (\\N{HANGUL SYLLABLE YI}) missing from current font.\n",
      "  fig.canvas.print_figure(bytes_io, **kw)\n"
     ]
    },
    {
     "data": {
      "image/png": "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\n",
      "text/plain": [
       "<Figure size 432x288 with 1 Axes>"
      ]
     },
     "metadata": {
      "needs_background": "light"
     },
     "output_type": "display_data"
    }
   ],
   "source": [
    "course_co_up.plot()\n",
    "plt.show()"
   ]
  },
  {
   "cell_type": "code",
   "execution_count": null,
   "id": "ce0d3958",
   "metadata": {},
   "outputs": [],
   "source": []
  },
  {
   "cell_type": "code",
   "execution_count": null,
   "id": "9d164cfe",
   "metadata": {},
   "outputs": [],
   "source": [
    "course_ = df.groupby('course_title').sum()['transaction_amount'].sort_values(ascending=False)\n",
    "course_tran"
   ]
  },
  {
   "cell_type": "code",
   "execution_count": null,
   "id": "72169f2b",
   "metadata": {},
   "outputs": [],
   "source": []
  },
  {
   "cell_type": "code",
   "execution_count": null,
   "id": "c8f15d8b",
   "metadata": {},
   "outputs": [],
   "source": []
  },
  {
   "cell_type": "code",
   "execution_count": null,
   "id": "b4fb01a5",
   "metadata": {},
   "outputs": [],
   "source": []
  },
  {
   "cell_type": "code",
   "execution_count": null,
   "id": "2f7560b9",
   "metadata": {},
   "outputs": [],
   "source": []
  },
  {
   "cell_type": "code",
   "execution_count": null,
   "id": "d5ee6bcb",
   "metadata": {},
   "outputs": [],
   "source": []
  },
  {
   "cell_type": "code",
   "execution_count": null,
   "id": "7380c2cf",
   "metadata": {},
   "outputs": [],
   "source": []
  },
  {
   "cell_type": "code",
   "execution_count": 5,
   "id": "db99507e",
   "metadata": {
    "ExecuteTime": {
     "end_time": "2022-06-30T04:16:21.112437Z",
     "start_time": "2022-06-30T04:16:21.089284Z"
    }
   },
   "outputs": [
    {
     "data": {
      "text/plain": [
       "14"
      ]
     },
     "execution_count": 5,
     "metadata": {},
     "output_type": "execute_result"
    }
   ],
   "source": [
    "len(df['category_title'].unique())   # 전체 강의 수"
   ]
  },
  {
   "cell_type": "code",
   "execution_count": null,
   "id": "74c4b80d",
   "metadata": {},
   "outputs": [],
   "source": []
  },
  {
   "cell_type": "code",
   "execution_count": null,
   "id": "c54e1426",
   "metadata": {},
   "outputs": [],
   "source": []
  },
  {
   "cell_type": "code",
   "execution_count": 87,
   "id": "90ac4195",
   "metadata": {
    "ExecuteTime": {
     "end_time": "2022-06-30T05:59:09.779374Z",
     "start_time": "2022-06-30T05:59:09.750973Z"
    }
   },
   "outputs": [
    {
     "data": {
      "text/plain": [
       "array(['프로그래밍', '영상/3D', '업무 생산성', '크리에이티브', '부동산/금융', '데이터사이언스', '디자인',\n",
       "       '마케팅', '투자/재테크', '데이터 사이언스', '비즈니스', '지식콘텐츠', '일러스트', '파이낸스'],\n",
       "      dtype=object)"
      ]
     },
     "execution_count": 87,
     "metadata": {},
     "output_type": "execute_result"
    }
   ],
   "source": [
    "df['category_title'].unique()"
   ]
  },
  {
   "cell_type": "code",
   "execution_count": 88,
   "id": "ef9e46ae",
   "metadata": {
    "ExecuteTime": {
     "end_time": "2022-06-30T06:00:05.776501Z",
     "start_time": "2022-06-30T06:00:05.739535Z"
    }
   },
   "outputs": [
    {
     "data": {
      "text/plain": [
       "category_title\n",
       "프로그래밍       3695745129\n",
       "데이터사이언스     2099712977\n",
       "디자인         1472059828\n",
       "마케팅         1327429094\n",
       "업무 생산성      1187425595\n",
       "영상/3D       1103291580\n",
       "부동산/금융       938631409\n",
       "크리에이티브       674620860\n",
       "투자/재테크       479323745\n",
       "지식콘텐츠         12776000\n",
       "비즈니스           9386220\n",
       "파이낸스           6600000\n",
       "데이터 사이언스       3106000\n",
       "일러스트            208000\n",
       "Name: transaction_amount, dtype: int64"
      ]
     },
     "execution_count": 88,
     "metadata": {},
     "output_type": "execute_result"
    }
   ],
   "source": [
    "cate_tran = df.groupby('category_title').sum()['transaction_amount'].sort_values(ascending=False)\n",
    "cate_tran"
   ]
  },
  {
   "cell_type": "code",
   "execution_count": 92,
   "id": "721083da",
   "metadata": {
    "ExecuteTime": {
     "end_time": "2022-06-30T06:03:18.380203Z",
     "start_time": "2022-06-30T06:03:18.199666Z"
    }
   },
   "outputs": [
    {
     "ename": "TypeError",
     "evalue": "hist() missing 1 required positional argument: 'x'",
     "output_type": "error",
     "traceback": [
      "\u001b[1;31m---------------------------------------------------------------------------\u001b[0m",
      "\u001b[1;31mTypeError\u001b[0m                                 Traceback (most recent call last)",
      "Input \u001b[1;32mIn [92]\u001b[0m, in \u001b[0;36m<cell line: 1>\u001b[1;34m()\u001b[0m\n\u001b[1;32m----> 1\u001b[0m \u001b[43mcate_tran\u001b[49m\u001b[38;5;241;43m.\u001b[39;49m\u001b[43mplot\u001b[49m\u001b[43m(\u001b[49m\u001b[43m)\u001b[49m\u001b[38;5;241;43m.\u001b[39;49m\u001b[43mhist\u001b[49m\u001b[43m(\u001b[49m\u001b[43m)\u001b[49m\n\u001b[0;32m      2\u001b[0m plt\u001b[38;5;241m.\u001b[39mshow()\n",
      "File \u001b[1;32m~\\anaconda3\\lib\\site-packages\\matplotlib\\__init__.py:1412\u001b[0m, in \u001b[0;36m_preprocess_data.<locals>.inner\u001b[1;34m(ax, data, *args, **kwargs)\u001b[0m\n\u001b[0;32m   1409\u001b[0m \u001b[38;5;129m@functools\u001b[39m\u001b[38;5;241m.\u001b[39mwraps(func)\n\u001b[0;32m   1410\u001b[0m \u001b[38;5;28;01mdef\u001b[39;00m \u001b[38;5;21minner\u001b[39m(ax, \u001b[38;5;241m*\u001b[39margs, data\u001b[38;5;241m=\u001b[39m\u001b[38;5;28;01mNone\u001b[39;00m, \u001b[38;5;241m*\u001b[39m\u001b[38;5;241m*\u001b[39mkwargs):\n\u001b[0;32m   1411\u001b[0m     \u001b[38;5;28;01mif\u001b[39;00m data \u001b[38;5;129;01mis\u001b[39;00m \u001b[38;5;28;01mNone\u001b[39;00m:\n\u001b[1;32m-> 1412\u001b[0m         \u001b[38;5;28;01mreturn\u001b[39;00m func(ax, \u001b[38;5;241m*\u001b[39m\u001b[38;5;28mmap\u001b[39m(sanitize_sequence, args), \u001b[38;5;241m*\u001b[39m\u001b[38;5;241m*\u001b[39mkwargs)\n\u001b[0;32m   1414\u001b[0m     bound \u001b[38;5;241m=\u001b[39m new_sig\u001b[38;5;241m.\u001b[39mbind(ax, \u001b[38;5;241m*\u001b[39margs, \u001b[38;5;241m*\u001b[39m\u001b[38;5;241m*\u001b[39mkwargs)\n\u001b[0;32m   1415\u001b[0m     auto_label \u001b[38;5;241m=\u001b[39m (bound\u001b[38;5;241m.\u001b[39marguments\u001b[38;5;241m.\u001b[39mget(label_namer)\n\u001b[0;32m   1416\u001b[0m                   \u001b[38;5;129;01mor\u001b[39;00m bound\u001b[38;5;241m.\u001b[39mkwargs\u001b[38;5;241m.\u001b[39mget(label_namer))\n",
      "\u001b[1;31mTypeError\u001b[0m: hist() missing 1 required positional argument: 'x'"
     ]
    },
    {
     "name": "stderr",
     "output_type": "stream",
     "text": [
      "C:\\Users\\user\\anaconda3\\lib\\site-packages\\IPython\\core\\pylabtools.py:151: UserWarning: Glyph 54532 (\\N{HANGUL SYLLABLE PEU}) missing from current font.\n",
      "  fig.canvas.print_figure(bytes_io, **kw)\n",
      "C:\\Users\\user\\anaconda3\\lib\\site-packages\\IPython\\core\\pylabtools.py:151: UserWarning: Glyph 47196 (\\N{HANGUL SYLLABLE RO}) missing from current font.\n",
      "  fig.canvas.print_figure(bytes_io, **kw)\n",
      "C:\\Users\\user\\anaconda3\\lib\\site-packages\\IPython\\core\\pylabtools.py:151: UserWarning: Glyph 44536 (\\N{HANGUL SYLLABLE GEU}) missing from current font.\n",
      "  fig.canvas.print_figure(bytes_io, **kw)\n",
      "C:\\Users\\user\\anaconda3\\lib\\site-packages\\IPython\\core\\pylabtools.py:151: UserWarning: Glyph 47000 (\\N{HANGUL SYLLABLE RAE}) missing from current font.\n",
      "  fig.canvas.print_figure(bytes_io, **kw)\n",
      "C:\\Users\\user\\anaconda3\\lib\\site-packages\\IPython\\core\\pylabtools.py:151: UserWarning: Glyph 48141 (\\N{HANGUL SYLLABLE MING}) missing from current font.\n",
      "  fig.canvas.print_figure(bytes_io, **kw)\n",
      "C:\\Users\\user\\anaconda3\\lib\\site-packages\\IPython\\core\\pylabtools.py:151: UserWarning: Glyph 46356 (\\N{HANGUL SYLLABLE DI}) missing from current font.\n",
      "  fig.canvas.print_figure(bytes_io, **kw)\n",
      "C:\\Users\\user\\anaconda3\\lib\\site-packages\\IPython\\core\\pylabtools.py:151: UserWarning: Glyph 51088 (\\N{HANGUL SYLLABLE JA}) missing from current font.\n",
      "  fig.canvas.print_figure(bytes_io, **kw)\n",
      "C:\\Users\\user\\anaconda3\\lib\\site-packages\\IPython\\core\\pylabtools.py:151: UserWarning: Glyph 51064 (\\N{HANGUL SYLLABLE IN}) missing from current font.\n",
      "  fig.canvas.print_figure(bytes_io, **kw)\n",
      "C:\\Users\\user\\anaconda3\\lib\\site-packages\\IPython\\core\\pylabtools.py:151: UserWarning: Glyph 50629 (\\N{HANGUL SYLLABLE EOB}) missing from current font.\n",
      "  fig.canvas.print_figure(bytes_io, **kw)\n",
      "C:\\Users\\user\\anaconda3\\lib\\site-packages\\IPython\\core\\pylabtools.py:151: UserWarning: Glyph 47924 (\\N{HANGUL SYLLABLE MU}) missing from current font.\n",
      "  fig.canvas.print_figure(bytes_io, **kw)\n",
      "C:\\Users\\user\\anaconda3\\lib\\site-packages\\IPython\\core\\pylabtools.py:151: UserWarning: Glyph 49373 (\\N{HANGUL SYLLABLE SAENG}) missing from current font.\n",
      "  fig.canvas.print_figure(bytes_io, **kw)\n",
      "C:\\Users\\user\\anaconda3\\lib\\site-packages\\IPython\\core\\pylabtools.py:151: UserWarning: Glyph 49328 (\\N{HANGUL SYLLABLE SAN}) missing from current font.\n",
      "  fig.canvas.print_figure(bytes_io, **kw)\n",
      "C:\\Users\\user\\anaconda3\\lib\\site-packages\\IPython\\core\\pylabtools.py:151: UserWarning: Glyph 49457 (\\N{HANGUL SYLLABLE SEONG}) missing from current font.\n",
      "  fig.canvas.print_figure(bytes_io, **kw)\n",
      "C:\\Users\\user\\anaconda3\\lib\\site-packages\\IPython\\core\\pylabtools.py:151: UserWarning: Glyph 48512 (\\N{HANGUL SYLLABLE BU}) missing from current font.\n",
      "  fig.canvas.print_figure(bytes_io, **kw)\n",
      "C:\\Users\\user\\anaconda3\\lib\\site-packages\\IPython\\core\\pylabtools.py:151: UserWarning: Glyph 46041 (\\N{HANGUL SYLLABLE DONG}) missing from current font.\n",
      "  fig.canvas.print_figure(bytes_io, **kw)\n",
      "C:\\Users\\user\\anaconda3\\lib\\site-packages\\IPython\\core\\pylabtools.py:151: UserWarning: Glyph 44552 (\\N{HANGUL SYLLABLE GEUM}) missing from current font.\n",
      "  fig.canvas.print_figure(bytes_io, **kw)\n",
      "C:\\Users\\user\\anaconda3\\lib\\site-packages\\IPython\\core\\pylabtools.py:151: UserWarning: Glyph 50997 (\\N{HANGUL SYLLABLE YUNG}) missing from current font.\n",
      "  fig.canvas.print_figure(bytes_io, **kw)\n",
      "C:\\Users\\user\\anaconda3\\lib\\site-packages\\IPython\\core\\pylabtools.py:151: UserWarning: Glyph 53804 (\\N{HANGUL SYLLABLE TU}) missing from current font.\n",
      "  fig.canvas.print_figure(bytes_io, **kw)\n",
      "C:\\Users\\user\\anaconda3\\lib\\site-packages\\IPython\\core\\pylabtools.py:151: UserWarning: Glyph 51116 (\\N{HANGUL SYLLABLE JAE}) missing from current font.\n",
      "  fig.canvas.print_figure(bytes_io, **kw)\n",
      "C:\\Users\\user\\anaconda3\\lib\\site-packages\\IPython\\core\\pylabtools.py:151: UserWarning: Glyph 53580 (\\N{HANGUL SYLLABLE TE}) missing from current font.\n",
      "  fig.canvas.print_figure(bytes_io, **kw)\n",
      "C:\\Users\\user\\anaconda3\\lib\\site-packages\\IPython\\core\\pylabtools.py:151: UserWarning: Glyph 53356 (\\N{HANGUL SYLLABLE KEU}) missing from current font.\n",
      "  fig.canvas.print_figure(bytes_io, **kw)\n",
      "C:\\Users\\user\\anaconda3\\lib\\site-packages\\IPython\\core\\pylabtools.py:151: UserWarning: Glyph 48708 (\\N{HANGUL SYLLABLE BI}) missing from current font.\n",
      "  fig.canvas.print_figure(bytes_io, **kw)\n",
      "C:\\Users\\user\\anaconda3\\lib\\site-packages\\IPython\\core\\pylabtools.py:151: UserWarning: Glyph 51592 (\\N{HANGUL SYLLABLE JEU}) missing from current font.\n",
      "  fig.canvas.print_figure(bytes_io, **kw)\n",
      "C:\\Users\\user\\anaconda3\\lib\\site-packages\\IPython\\core\\pylabtools.py:151: UserWarning: Glyph 45768 (\\N{HANGUL SYLLABLE NI}) missing from current font.\n",
      "  fig.canvas.print_figure(bytes_io, **kw)\n",
      "C:\\Users\\user\\anaconda3\\lib\\site-packages\\IPython\\core\\pylabtools.py:151: UserWarning: Glyph 49828 (\\N{HANGUL SYLLABLE SEU}) missing from current font.\n",
      "  fig.canvas.print_figure(bytes_io, **kw)\n",
      "C:\\Users\\user\\anaconda3\\lib\\site-packages\\IPython\\core\\pylabtools.py:151: UserWarning: Glyph 45936 (\\N{HANGUL SYLLABLE DE}) missing from current font.\n",
      "  fig.canvas.print_figure(bytes_io, **kw)\n",
      "C:\\Users\\user\\anaconda3\\lib\\site-packages\\IPython\\core\\pylabtools.py:151: UserWarning: Glyph 51060 (\\N{HANGUL SYLLABLE I}) missing from current font.\n",
      "  fig.canvas.print_figure(bytes_io, **kw)\n",
      "C:\\Users\\user\\anaconda3\\lib\\site-packages\\IPython\\core\\pylabtools.py:151: UserWarning: Glyph 53552 (\\N{HANGUL SYLLABLE TEO}) missing from current font.\n",
      "  fig.canvas.print_figure(bytes_io, **kw)\n",
      "C:\\Users\\user\\anaconda3\\lib\\site-packages\\IPython\\core\\pylabtools.py:151: UserWarning: Glyph 49324 (\\N{HANGUL SYLLABLE SA}) missing from current font.\n",
      "  fig.canvas.print_figure(bytes_io, **kw)\n",
      "C:\\Users\\user\\anaconda3\\lib\\site-packages\\IPython\\core\\pylabtools.py:151: UserWarning: Glyph 50616 (\\N{HANGUL SYLLABLE EON}) missing from current font.\n",
      "  fig.canvas.print_figure(bytes_io, **kw)\n"
     ]
    },
    {
     "data": {
      "image/png": "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\n",
      "text/plain": [
       "<Figure size 432x288 with 1 Axes>"
      ]
     },
     "metadata": {
      "needs_background": "light"
     },
     "output_type": "display_data"
    }
   ],
   "source": [
    "cate_tran.plot().hist()\n",
    "plt.show()"
   ]
  },
  {
   "cell_type": "code",
   "execution_count": 94,
   "id": "18f80bcd",
   "metadata": {
    "ExecuteTime": {
     "end_time": "2022-06-30T06:15:16.578800Z",
     "start_time": "2022-06-30T06:07:24.332748Z"
    }
   },
   "outputs": [
    {
     "ename": "KeyboardInterrupt",
     "evalue": "",
     "output_type": "error",
     "traceback": [
      "\u001b[1;31m---------------------------------------------------------------------------\u001b[0m",
      "\u001b[1;31mKeyboardInterrupt\u001b[0m                         Traceback (most recent call last)",
      "Input \u001b[1;32mIn [94]\u001b[0m, in \u001b[0;36m<cell line: 1>\u001b[1;34m()\u001b[0m\n\u001b[1;32m----> 1\u001b[0m \u001b[43msns\u001b[49m\u001b[38;5;241;43m.\u001b[39;49m\u001b[43mboxplot\u001b[49m\u001b[43m(\u001b[49m\u001b[43mdata\u001b[49m\u001b[38;5;241;43m=\u001b[39;49m\u001b[43mdf\u001b[49m\u001b[43m,\u001b[49m\u001b[43m \u001b[49m\u001b[43mx\u001b[49m\u001b[38;5;241;43m=\u001b[39;49m\u001b[38;5;124;43m\"\u001b[39;49m\u001b[38;5;124;43mcompleted_at\u001b[39;49m\u001b[38;5;124;43m\"\u001b[39;49m\u001b[43m,\u001b[49m\u001b[43m \u001b[49m\u001b[43my\u001b[49m\u001b[38;5;241;43m=\u001b[39;49m\u001b[38;5;124;43m\"\u001b[39;49m\u001b[38;5;124;43mtransaction_amount\u001b[39;49m\u001b[38;5;124;43m\"\u001b[39;49m\u001b[43m,\u001b[49m\u001b[43m \u001b[49m\u001b[43mhue\u001b[49m\u001b[38;5;241;43m=\u001b[39;49m\u001b[38;5;124;43m\"\u001b[39;49m\u001b[38;5;124;43mcategory_title\u001b[39;49m\u001b[38;5;124;43m\"\u001b[39;49m\u001b[43m)\u001b[49m\n",
      "File \u001b[1;32m~\\anaconda3\\lib\\site-packages\\seaborn\\_decorators.py:46\u001b[0m, in \u001b[0;36m_deprecate_positional_args.<locals>.inner_f\u001b[1;34m(*args, **kwargs)\u001b[0m\n\u001b[0;32m     36\u001b[0m     warnings\u001b[38;5;241m.\u001b[39mwarn(\n\u001b[0;32m     37\u001b[0m         \u001b[38;5;124m\"\u001b[39m\u001b[38;5;124mPass the following variable\u001b[39m\u001b[38;5;132;01m{}\u001b[39;00m\u001b[38;5;124m as \u001b[39m\u001b[38;5;132;01m{}\u001b[39;00m\u001b[38;5;124mkeyword arg\u001b[39m\u001b[38;5;132;01m{}\u001b[39;00m\u001b[38;5;124m: \u001b[39m\u001b[38;5;132;01m{}\u001b[39;00m\u001b[38;5;124m. \u001b[39m\u001b[38;5;124m\"\u001b[39m\n\u001b[0;32m     38\u001b[0m         \u001b[38;5;124m\"\u001b[39m\u001b[38;5;124mFrom version 0.12, the only valid positional argument \u001b[39m\u001b[38;5;124m\"\u001b[39m\n\u001b[1;32m   (...)\u001b[0m\n\u001b[0;32m     43\u001b[0m         \u001b[38;5;167;01mFutureWarning\u001b[39;00m\n\u001b[0;32m     44\u001b[0m     )\n\u001b[0;32m     45\u001b[0m kwargs\u001b[38;5;241m.\u001b[39mupdate({k: arg \u001b[38;5;28;01mfor\u001b[39;00m k, arg \u001b[38;5;129;01min\u001b[39;00m \u001b[38;5;28mzip\u001b[39m(sig\u001b[38;5;241m.\u001b[39mparameters, args)})\n\u001b[1;32m---> 46\u001b[0m \u001b[38;5;28;01mreturn\u001b[39;00m f(\u001b[38;5;241m*\u001b[39m\u001b[38;5;241m*\u001b[39mkwargs)\n",
      "File \u001b[1;32m~\\anaconda3\\lib\\site-packages\\seaborn\\categorical.py:2251\u001b[0m, in \u001b[0;36mboxplot\u001b[1;34m(x, y, hue, data, order, hue_order, orient, color, palette, saturation, width, dodge, fliersize, linewidth, whis, ax, **kwargs)\u001b[0m\n\u001b[0;32m   2248\u001b[0m     ax \u001b[38;5;241m=\u001b[39m plt\u001b[38;5;241m.\u001b[39mgca()\n\u001b[0;32m   2249\u001b[0m kwargs\u001b[38;5;241m.\u001b[39mupdate(\u001b[38;5;28mdict\u001b[39m(whis\u001b[38;5;241m=\u001b[39mwhis))\n\u001b[1;32m-> 2251\u001b[0m \u001b[43mplotter\u001b[49m\u001b[38;5;241;43m.\u001b[39;49m\u001b[43mplot\u001b[49m\u001b[43m(\u001b[49m\u001b[43max\u001b[49m\u001b[43m,\u001b[49m\u001b[43m \u001b[49m\u001b[43mkwargs\u001b[49m\u001b[43m)\u001b[49m\n\u001b[0;32m   2252\u001b[0m \u001b[38;5;28;01mreturn\u001b[39;00m ax\n",
      "File \u001b[1;32m~\\anaconda3\\lib\\site-packages\\seaborn\\categorical.py:509\u001b[0m, in \u001b[0;36m_BoxPlotter.plot\u001b[1;34m(self, ax, boxplot_kws)\u001b[0m\n\u001b[0;32m    507\u001b[0m \u001b[38;5;28;01mdef\u001b[39;00m \u001b[38;5;21mplot\u001b[39m(\u001b[38;5;28mself\u001b[39m, ax, boxplot_kws):\n\u001b[0;32m    508\u001b[0m     \u001b[38;5;124;03m\"\"\"Make the plot.\"\"\"\u001b[39;00m\n\u001b[1;32m--> 509\u001b[0m     \u001b[38;5;28;43mself\u001b[39;49m\u001b[38;5;241;43m.\u001b[39;49m\u001b[43mdraw_boxplot\u001b[49m\u001b[43m(\u001b[49m\u001b[43max\u001b[49m\u001b[43m,\u001b[49m\u001b[43m \u001b[49m\u001b[43mboxplot_kws\u001b[49m\u001b[43m)\u001b[49m\n\u001b[0;32m    510\u001b[0m     \u001b[38;5;28mself\u001b[39m\u001b[38;5;241m.\u001b[39mannotate_axes(ax)\n\u001b[0;32m    511\u001b[0m     \u001b[38;5;28;01mif\u001b[39;00m \u001b[38;5;28mself\u001b[39m\u001b[38;5;241m.\u001b[39morient \u001b[38;5;241m==\u001b[39m \u001b[38;5;124m\"\u001b[39m\u001b[38;5;124mh\u001b[39m\u001b[38;5;124m\"\u001b[39m:\n",
      "File \u001b[1;32m~\\anaconda3\\lib\\site-packages\\seaborn\\categorical.py:470\u001b[0m, in \u001b[0;36m_BoxPlotter.draw_boxplot\u001b[1;34m(self, ax, kws)\u001b[0m\n\u001b[0;32m    467\u001b[0m     \u001b[38;5;28;01mcontinue\u001b[39;00m\n\u001b[0;32m    469\u001b[0m center \u001b[38;5;241m=\u001b[39m i \u001b[38;5;241m+\u001b[39m offsets[j]\n\u001b[1;32m--> 470\u001b[0m artist_dict \u001b[38;5;241m=\u001b[39m ax\u001b[38;5;241m.\u001b[39mboxplot(box_data,\n\u001b[0;32m    471\u001b[0m                          vert\u001b[38;5;241m=\u001b[39mvert,\n\u001b[0;32m    472\u001b[0m                          patch_artist\u001b[38;5;241m=\u001b[39m\u001b[38;5;28;01mTrue\u001b[39;00m,\n\u001b[0;32m    473\u001b[0m                          positions\u001b[38;5;241m=\u001b[39m[center],\n\u001b[0;32m    474\u001b[0m                          widths\u001b[38;5;241m=\u001b[39m\u001b[38;5;28mself\u001b[39m\u001b[38;5;241m.\u001b[39mnested_width,\n\u001b[0;32m    475\u001b[0m                          \u001b[38;5;241m*\u001b[39m\u001b[38;5;241m*\u001b[39mkws)\n\u001b[0;32m    476\u001b[0m \u001b[38;5;28mself\u001b[39m\u001b[38;5;241m.\u001b[39mrestyle_boxplot(artist_dict, \u001b[38;5;28mself\u001b[39m\u001b[38;5;241m.\u001b[39mcolors[j], props)\n",
      "File \u001b[1;32m~\\anaconda3\\lib\\site-packages\\matplotlib\\__init__.py:1412\u001b[0m, in \u001b[0;36m_preprocess_data.<locals>.inner\u001b[1;34m(ax, data, *args, **kwargs)\u001b[0m\n\u001b[0;32m   1409\u001b[0m \u001b[38;5;129m@functools\u001b[39m\u001b[38;5;241m.\u001b[39mwraps(func)\n\u001b[0;32m   1410\u001b[0m \u001b[38;5;28;01mdef\u001b[39;00m \u001b[38;5;21minner\u001b[39m(ax, \u001b[38;5;241m*\u001b[39margs, data\u001b[38;5;241m=\u001b[39m\u001b[38;5;28;01mNone\u001b[39;00m, \u001b[38;5;241m*\u001b[39m\u001b[38;5;241m*\u001b[39mkwargs):\n\u001b[0;32m   1411\u001b[0m     \u001b[38;5;28;01mif\u001b[39;00m data \u001b[38;5;129;01mis\u001b[39;00m \u001b[38;5;28;01mNone\u001b[39;00m:\n\u001b[1;32m-> 1412\u001b[0m         \u001b[38;5;28;01mreturn\u001b[39;00m func(ax, \u001b[38;5;241m*\u001b[39m\u001b[38;5;28mmap\u001b[39m(sanitize_sequence, args), \u001b[38;5;241m*\u001b[39m\u001b[38;5;241m*\u001b[39mkwargs)\n\u001b[0;32m   1414\u001b[0m     bound \u001b[38;5;241m=\u001b[39m new_sig\u001b[38;5;241m.\u001b[39mbind(ax, \u001b[38;5;241m*\u001b[39margs, \u001b[38;5;241m*\u001b[39m\u001b[38;5;241m*\u001b[39mkwargs)\n\u001b[0;32m   1415\u001b[0m     auto_label \u001b[38;5;241m=\u001b[39m (bound\u001b[38;5;241m.\u001b[39marguments\u001b[38;5;241m.\u001b[39mget(label_namer)\n\u001b[0;32m   1416\u001b[0m                   \u001b[38;5;129;01mor\u001b[39;00m bound\u001b[38;5;241m.\u001b[39mkwargs\u001b[38;5;241m.\u001b[39mget(label_namer))\n",
      "File \u001b[1;32m~\\anaconda3\\lib\\site-packages\\matplotlib\\axes\\_axes.py:3807\u001b[0m, in \u001b[0;36mAxes.boxplot\u001b[1;34m(self, x, notch, sym, vert, whis, positions, widths, patch_artist, bootstrap, usermedians, conf_intervals, meanline, showmeans, showcaps, showbox, showfliers, boxprops, labels, flierprops, medianprops, meanprops, capprops, whiskerprops, manage_ticks, autorange, zorder)\u001b[0m\n\u001b[0;32m   3804\u001b[0m                     \u001b[38;5;28;01mif\u001b[39;00m ci[\u001b[38;5;241m1\u001b[39m] \u001b[38;5;129;01mis\u001b[39;00m \u001b[38;5;129;01mnot\u001b[39;00m \u001b[38;5;28;01mNone\u001b[39;00m:\n\u001b[0;32m   3805\u001b[0m                         stats[\u001b[38;5;124m'\u001b[39m\u001b[38;5;124mcihi\u001b[39m\u001b[38;5;124m'\u001b[39m] \u001b[38;5;241m=\u001b[39m ci[\u001b[38;5;241m1\u001b[39m]\n\u001b[1;32m-> 3807\u001b[0m artists \u001b[38;5;241m=\u001b[39m \u001b[38;5;28;43mself\u001b[39;49m\u001b[38;5;241;43m.\u001b[39;49m\u001b[43mbxp\u001b[49m\u001b[43m(\u001b[49m\u001b[43mbxpstats\u001b[49m\u001b[43m,\u001b[49m\u001b[43m \u001b[49m\u001b[43mpositions\u001b[49m\u001b[38;5;241;43m=\u001b[39;49m\u001b[43mpositions\u001b[49m\u001b[43m,\u001b[49m\u001b[43m \u001b[49m\u001b[43mwidths\u001b[49m\u001b[38;5;241;43m=\u001b[39;49m\u001b[43mwidths\u001b[49m\u001b[43m,\u001b[49m\n\u001b[0;32m   3808\u001b[0m \u001b[43m                   \u001b[49m\u001b[43mvert\u001b[49m\u001b[38;5;241;43m=\u001b[39;49m\u001b[43mvert\u001b[49m\u001b[43m,\u001b[49m\u001b[43m \u001b[49m\u001b[43mpatch_artist\u001b[49m\u001b[38;5;241;43m=\u001b[39;49m\u001b[43mpatch_artist\u001b[49m\u001b[43m,\u001b[49m\n\u001b[0;32m   3809\u001b[0m \u001b[43m                   \u001b[49m\u001b[43mshownotches\u001b[49m\u001b[38;5;241;43m=\u001b[39;49m\u001b[43mnotch\u001b[49m\u001b[43m,\u001b[49m\u001b[43m \u001b[49m\u001b[43mshowmeans\u001b[49m\u001b[38;5;241;43m=\u001b[39;49m\u001b[43mshowmeans\u001b[49m\u001b[43m,\u001b[49m\n\u001b[0;32m   3810\u001b[0m \u001b[43m                   \u001b[49m\u001b[43mshowcaps\u001b[49m\u001b[38;5;241;43m=\u001b[39;49m\u001b[43mshowcaps\u001b[49m\u001b[43m,\u001b[49m\u001b[43m \u001b[49m\u001b[43mshowbox\u001b[49m\u001b[38;5;241;43m=\u001b[39;49m\u001b[43mshowbox\u001b[49m\u001b[43m,\u001b[49m\n\u001b[0;32m   3811\u001b[0m \u001b[43m                   \u001b[49m\u001b[43mboxprops\u001b[49m\u001b[38;5;241;43m=\u001b[39;49m\u001b[43mboxprops\u001b[49m\u001b[43m,\u001b[49m\u001b[43m \u001b[49m\u001b[43mflierprops\u001b[49m\u001b[38;5;241;43m=\u001b[39;49m\u001b[43mflierprops\u001b[49m\u001b[43m,\u001b[49m\n\u001b[0;32m   3812\u001b[0m \u001b[43m                   \u001b[49m\u001b[43mmedianprops\u001b[49m\u001b[38;5;241;43m=\u001b[39;49m\u001b[43mmedianprops\u001b[49m\u001b[43m,\u001b[49m\u001b[43m \u001b[49m\u001b[43mmeanprops\u001b[49m\u001b[38;5;241;43m=\u001b[39;49m\u001b[43mmeanprops\u001b[49m\u001b[43m,\u001b[49m\n\u001b[0;32m   3813\u001b[0m \u001b[43m                   \u001b[49m\u001b[43mmeanline\u001b[49m\u001b[38;5;241;43m=\u001b[39;49m\u001b[43mmeanline\u001b[49m\u001b[43m,\u001b[49m\u001b[43m \u001b[49m\u001b[43mshowfliers\u001b[49m\u001b[38;5;241;43m=\u001b[39;49m\u001b[43mshowfliers\u001b[49m\u001b[43m,\u001b[49m\n\u001b[0;32m   3814\u001b[0m \u001b[43m                   \u001b[49m\u001b[43mcapprops\u001b[49m\u001b[38;5;241;43m=\u001b[39;49m\u001b[43mcapprops\u001b[49m\u001b[43m,\u001b[49m\u001b[43m \u001b[49m\u001b[43mwhiskerprops\u001b[49m\u001b[38;5;241;43m=\u001b[39;49m\u001b[43mwhiskerprops\u001b[49m\u001b[43m,\u001b[49m\n\u001b[0;32m   3815\u001b[0m \u001b[43m                   \u001b[49m\u001b[43mmanage_ticks\u001b[49m\u001b[38;5;241;43m=\u001b[39;49m\u001b[43mmanage_ticks\u001b[49m\u001b[43m,\u001b[49m\u001b[43m \u001b[49m\u001b[43mzorder\u001b[49m\u001b[38;5;241;43m=\u001b[39;49m\u001b[43mzorder\u001b[49m\u001b[43m)\u001b[49m\n\u001b[0;32m   3816\u001b[0m \u001b[38;5;28;01mreturn\u001b[39;00m artists\n",
      "File \u001b[1;32m~\\anaconda3\\lib\\site-packages\\matplotlib\\axes\\_axes.py:4040\u001b[0m, in \u001b[0;36mAxes.bxp\u001b[1;34m(self, bxpstats, positions, widths, vert, patch_artist, shownotches, showmeans, showcaps, showbox, showfliers, boxprops, whiskerprops, flierprops, medianprops, capprops, meanprops, meanline, manage_ticks, zorder)\u001b[0m\n\u001b[0;32m   4038\u001b[0m     caps\u001b[38;5;241m.\u001b[39mappend(do_plot(cap_x, cap_hi, \u001b[38;5;241m*\u001b[39m\u001b[38;5;241m*\u001b[39mcap_kw))\n\u001b[0;32m   4039\u001b[0m \u001b[38;5;66;03m# draw the medians\u001b[39;00m\n\u001b[1;32m-> 4040\u001b[0m medians\u001b[38;5;241m.\u001b[39mappend(do_plot(med_x, med_y, \u001b[38;5;241m*\u001b[39m\u001b[38;5;241m*\u001b[39mmedian_kw))\n\u001b[0;32m   4041\u001b[0m \u001b[38;5;66;03m# maybe draw the means\u001b[39;00m\n\u001b[0;32m   4042\u001b[0m \u001b[38;5;28;01mif\u001b[39;00m showmeans:\n",
      "File \u001b[1;32m~\\anaconda3\\lib\\site-packages\\matplotlib\\axes\\_axes.py:3961\u001b[0m, in \u001b[0;36mAxes.bxp.<locals>.do_plot\u001b[1;34m(xs, ys, **kwargs)\u001b[0m\n\u001b[0;32m   3960\u001b[0m \u001b[38;5;28;01mdef\u001b[39;00m \u001b[38;5;21mdo_plot\u001b[39m(xs, ys, \u001b[38;5;241m*\u001b[39m\u001b[38;5;241m*\u001b[39mkwargs):\n\u001b[1;32m-> 3961\u001b[0m     \u001b[38;5;28;01mreturn\u001b[39;00m \u001b[38;5;28mself\u001b[39m\u001b[38;5;241m.\u001b[39mplot(\u001b[38;5;241m*\u001b[39m[xs, ys][maybe_swap], \u001b[38;5;241m*\u001b[39m\u001b[38;5;241m*\u001b[39mkwargs)[\u001b[38;5;241m0\u001b[39m]\n",
      "File \u001b[1;32m~\\anaconda3\\lib\\site-packages\\matplotlib\\axes\\_axes.py:1632\u001b[0m, in \u001b[0;36mAxes.plot\u001b[1;34m(self, scalex, scaley, data, *args, **kwargs)\u001b[0m\n\u001b[0;32m   1390\u001b[0m \u001b[38;5;124;03m\"\"\"\u001b[39;00m\n\u001b[0;32m   1391\u001b[0m \u001b[38;5;124;03mPlot y versus x as lines and/or markers.\u001b[39;00m\n\u001b[0;32m   1392\u001b[0m \n\u001b[1;32m   (...)\u001b[0m\n\u001b[0;32m   1629\u001b[0m \u001b[38;5;124;03m(``'green'``) or hex strings (``'#008000'``).\u001b[39;00m\n\u001b[0;32m   1630\u001b[0m \u001b[38;5;124;03m\"\"\"\u001b[39;00m\n\u001b[0;32m   1631\u001b[0m kwargs \u001b[38;5;241m=\u001b[39m cbook\u001b[38;5;241m.\u001b[39mnormalize_kwargs(kwargs, mlines\u001b[38;5;241m.\u001b[39mLine2D)\n\u001b[1;32m-> 1632\u001b[0m lines \u001b[38;5;241m=\u001b[39m [\u001b[38;5;241m*\u001b[39m\u001b[38;5;28mself\u001b[39m\u001b[38;5;241m.\u001b[39m_get_lines(\u001b[38;5;241m*\u001b[39margs, data\u001b[38;5;241m=\u001b[39mdata, \u001b[38;5;241m*\u001b[39m\u001b[38;5;241m*\u001b[39mkwargs)]\n\u001b[0;32m   1633\u001b[0m \u001b[38;5;28;01mfor\u001b[39;00m line \u001b[38;5;129;01min\u001b[39;00m lines:\n\u001b[0;32m   1634\u001b[0m     \u001b[38;5;28mself\u001b[39m\u001b[38;5;241m.\u001b[39madd_line(line)\n",
      "File \u001b[1;32m~\\anaconda3\\lib\\site-packages\\matplotlib\\axes\\_base.py:312\u001b[0m, in \u001b[0;36m_process_plot_var_args.__call__\u001b[1;34m(self, data, *args, **kwargs)\u001b[0m\n\u001b[0;32m    310\u001b[0m     this \u001b[38;5;241m+\u001b[39m\u001b[38;5;241m=\u001b[39m args[\u001b[38;5;241m0\u001b[39m],\n\u001b[0;32m    311\u001b[0m     args \u001b[38;5;241m=\u001b[39m args[\u001b[38;5;241m1\u001b[39m:]\n\u001b[1;32m--> 312\u001b[0m \u001b[38;5;28;01myield from\u001b[39;00m \u001b[38;5;28;43mself\u001b[39;49m\u001b[38;5;241;43m.\u001b[39;49m\u001b[43m_plot_args\u001b[49m\u001b[43m(\u001b[49m\u001b[43mthis\u001b[49m\u001b[43m,\u001b[49m\u001b[43m \u001b[49m\u001b[43mkwargs\u001b[49m\u001b[43m)\u001b[49m\n",
      "File \u001b[1;32m~\\anaconda3\\lib\\site-packages\\matplotlib\\axes\\_base.py:538\u001b[0m, in \u001b[0;36m_process_plot_var_args._plot_args\u001b[1;34m(self, tup, kwargs, return_kwargs)\u001b[0m\n\u001b[0;32m    536\u001b[0m     \u001b[38;5;28;01mreturn\u001b[39;00m \u001b[38;5;28mlist\u001b[39m(result)\n\u001b[0;32m    537\u001b[0m \u001b[38;5;28;01melse\u001b[39;00m:\n\u001b[1;32m--> 538\u001b[0m     \u001b[38;5;28;01mreturn\u001b[39;00m [l[\u001b[38;5;241m0\u001b[39m] \u001b[38;5;28;01mfor\u001b[39;00m l \u001b[38;5;129;01min\u001b[39;00m result]\n",
      "File \u001b[1;32m~\\anaconda3\\lib\\site-packages\\matplotlib\\axes\\_base.py:538\u001b[0m, in \u001b[0;36m<listcomp>\u001b[1;34m(.0)\u001b[0m\n\u001b[0;32m    536\u001b[0m     \u001b[38;5;28;01mreturn\u001b[39;00m \u001b[38;5;28mlist\u001b[39m(result)\n\u001b[0;32m    537\u001b[0m \u001b[38;5;28;01melse\u001b[39;00m:\n\u001b[1;32m--> 538\u001b[0m     \u001b[38;5;28;01mreturn\u001b[39;00m [l[\u001b[38;5;241m0\u001b[39m] \u001b[38;5;28;01mfor\u001b[39;00m l \u001b[38;5;129;01min\u001b[39;00m result]\n",
      "File \u001b[1;32m~\\anaconda3\\lib\\site-packages\\matplotlib\\axes\\_base.py:531\u001b[0m, in \u001b[0;36m<genexpr>\u001b[1;34m(.0)\u001b[0m\n\u001b[0;32m    528\u001b[0m \u001b[38;5;28;01melse\u001b[39;00m:\n\u001b[0;32m    529\u001b[0m     labels \u001b[38;5;241m=\u001b[39m [label] \u001b[38;5;241m*\u001b[39m n_datasets\n\u001b[1;32m--> 531\u001b[0m result \u001b[38;5;241m=\u001b[39m (\u001b[43mmake_artist\u001b[49m\u001b[43m(\u001b[49m\u001b[43mx\u001b[49m\u001b[43m[\u001b[49m\u001b[43m:\u001b[49m\u001b[43m,\u001b[49m\u001b[43m \u001b[49m\u001b[43mj\u001b[49m\u001b[43m \u001b[49m\u001b[38;5;241;43m%\u001b[39;49m\u001b[43m \u001b[49m\u001b[43mncx\u001b[49m\u001b[43m]\u001b[49m\u001b[43m,\u001b[49m\u001b[43m \u001b[49m\u001b[43my\u001b[49m\u001b[43m[\u001b[49m\u001b[43m:\u001b[49m\u001b[43m,\u001b[49m\u001b[43m \u001b[49m\u001b[43mj\u001b[49m\u001b[43m \u001b[49m\u001b[38;5;241;43m%\u001b[39;49m\u001b[43m \u001b[49m\u001b[43mncy\u001b[49m\u001b[43m]\u001b[49m\u001b[43m,\u001b[49m\u001b[43m \u001b[49m\u001b[43mkw\u001b[49m\u001b[43m,\u001b[49m\n\u001b[0;32m    532\u001b[0m \u001b[43m                      \u001b[49m\u001b[43m{\u001b[49m\u001b[38;5;241;43m*\u001b[39;49m\u001b[38;5;241;43m*\u001b[39;49m\u001b[43mkwargs\u001b[49m\u001b[43m,\u001b[49m\u001b[43m \u001b[49m\u001b[38;5;124;43m'\u001b[39;49m\u001b[38;5;124;43mlabel\u001b[39;49m\u001b[38;5;124;43m'\u001b[39;49m\u001b[43m:\u001b[49m\u001b[43m \u001b[49m\u001b[43mlabel\u001b[49m\u001b[43m}\u001b[49m\u001b[43m)\u001b[49m\n\u001b[0;32m    533\u001b[0m           \u001b[38;5;28;01mfor\u001b[39;00m j, label \u001b[38;5;129;01min\u001b[39;00m \u001b[38;5;28menumerate\u001b[39m(labels))\n\u001b[0;32m    535\u001b[0m \u001b[38;5;28;01mif\u001b[39;00m return_kwargs:\n\u001b[0;32m    536\u001b[0m     \u001b[38;5;28;01mreturn\u001b[39;00m \u001b[38;5;28mlist\u001b[39m(result)\n",
      "File \u001b[1;32m~\\anaconda3\\lib\\site-packages\\matplotlib\\axes\\_base.py:351\u001b[0m, in \u001b[0;36m_process_plot_var_args._makeline\u001b[1;34m(self, x, y, kw, kwargs)\u001b[0m\n\u001b[0;32m    349\u001b[0m default_dict \u001b[38;5;241m=\u001b[39m \u001b[38;5;28mself\u001b[39m\u001b[38;5;241m.\u001b[39m_getdefaults(\u001b[38;5;28mset\u001b[39m(), kw)\n\u001b[0;32m    350\u001b[0m \u001b[38;5;28mself\u001b[39m\u001b[38;5;241m.\u001b[39m_setdefaults(default_dict, kw)\n\u001b[1;32m--> 351\u001b[0m seg \u001b[38;5;241m=\u001b[39m mlines\u001b[38;5;241m.\u001b[39mLine2D(x, y, \u001b[38;5;241m*\u001b[39m\u001b[38;5;241m*\u001b[39mkw)\n\u001b[0;32m    352\u001b[0m \u001b[38;5;28;01mreturn\u001b[39;00m seg, kw\n",
      "File \u001b[1;32m~\\anaconda3\\lib\\site-packages\\matplotlib\\lines.py:393\u001b[0m, in \u001b[0;36mLine2D.__init__\u001b[1;34m(self, xdata, ydata, linewidth, linestyle, color, marker, markersize, markeredgewidth, markeredgecolor, markerfacecolor, markerfacecoloralt, fillstyle, antialiased, dash_capstyle, solid_capstyle, dash_joinstyle, solid_joinstyle, pickradius, drawstyle, markevery, **kwargs)\u001b[0m\n\u001b[0;32m    389\u001b[0m \u001b[38;5;28mself\u001b[39m\u001b[38;5;241m.\u001b[39mset_markeredgewidth(markeredgewidth)\n\u001b[0;32m    391\u001b[0m \u001b[38;5;66;03m# update kwargs before updating data to give the caller a\u001b[39;00m\n\u001b[0;32m    392\u001b[0m \u001b[38;5;66;03m# chance to init axes (and hence unit support)\u001b[39;00m\n\u001b[1;32m--> 393\u001b[0m \u001b[38;5;28;43mself\u001b[39;49m\u001b[38;5;241;43m.\u001b[39;49m\u001b[43mupdate\u001b[49m\u001b[43m(\u001b[49m\u001b[43mkwargs\u001b[49m\u001b[43m)\u001b[49m\n\u001b[0;32m    394\u001b[0m \u001b[38;5;28mself\u001b[39m\u001b[38;5;241m.\u001b[39mpickradius \u001b[38;5;241m=\u001b[39m pickradius\n\u001b[0;32m    395\u001b[0m \u001b[38;5;28mself\u001b[39m\u001b[38;5;241m.\u001b[39mind_offset \u001b[38;5;241m=\u001b[39m \u001b[38;5;241m0\u001b[39m\n",
      "File \u001b[1;32m~\\anaconda3\\lib\\site-packages\\matplotlib\\artist.py:1055\u001b[0m, in \u001b[0;36mArtist.update\u001b[1;34m(self, props)\u001b[0m\n\u001b[0;32m   1047\u001b[0m \u001b[38;5;124;03m\"\"\"\u001b[39;00m\n\u001b[0;32m   1048\u001b[0m \u001b[38;5;124;03mUpdate this artist's properties from the dict *props*.\u001b[39;00m\n\u001b[0;32m   1049\u001b[0m \n\u001b[1;32m   (...)\u001b[0m\n\u001b[0;32m   1052\u001b[0m \u001b[38;5;124;03mprops : dict\u001b[39;00m\n\u001b[0;32m   1053\u001b[0m \u001b[38;5;124;03m\"\"\"\u001b[39;00m\n\u001b[0;32m   1054\u001b[0m ret \u001b[38;5;241m=\u001b[39m []\n\u001b[1;32m-> 1055\u001b[0m \u001b[38;5;28;01mwith\u001b[39;00m \u001b[43mcbook\u001b[49m\u001b[38;5;241;43m.\u001b[39;49m\u001b[43m_setattr_cm\u001b[49m\u001b[43m(\u001b[49m\u001b[38;5;28;43mself\u001b[39;49m\u001b[43m,\u001b[49m\u001b[43m \u001b[49m\u001b[43meventson\u001b[49m\u001b[38;5;241;43m=\u001b[39;49m\u001b[38;5;28;43;01mFalse\u001b[39;49;00m\u001b[43m)\u001b[49m:\n\u001b[0;32m   1056\u001b[0m     \u001b[38;5;28;01mfor\u001b[39;00m k, v \u001b[38;5;129;01min\u001b[39;00m props\u001b[38;5;241m.\u001b[39mitems():\n\u001b[0;32m   1057\u001b[0m         \u001b[38;5;66;03m# Allow attributes we want to be able to update through\u001b[39;00m\n\u001b[0;32m   1058\u001b[0m         \u001b[38;5;66;03m# art.update, art.set, setp.\u001b[39;00m\n\u001b[0;32m   1059\u001b[0m         \u001b[38;5;28;01mif\u001b[39;00m k \u001b[38;5;241m==\u001b[39m \u001b[38;5;124m\"\u001b[39m\u001b[38;5;124maxes\u001b[39m\u001b[38;5;124m\"\u001b[39m:\n",
      "File \u001b[1;32m~\\anaconda3\\lib\\contextlib.py:263\u001b[0m, in \u001b[0;36mcontextmanager.<locals>.helper\u001b[1;34m(*args, **kwds)\u001b[0m\n\u001b[0;32m    261\u001b[0m \u001b[38;5;129m@wraps\u001b[39m(func)\n\u001b[0;32m    262\u001b[0m \u001b[38;5;28;01mdef\u001b[39;00m \u001b[38;5;21mhelper\u001b[39m(\u001b[38;5;241m*\u001b[39margs, \u001b[38;5;241m*\u001b[39m\u001b[38;5;241m*\u001b[39mkwds):\n\u001b[1;32m--> 263\u001b[0m     \u001b[38;5;28;01mreturn\u001b[39;00m \u001b[43m_GeneratorContextManager\u001b[49m\u001b[43m(\u001b[49m\u001b[43mfunc\u001b[49m\u001b[43m,\u001b[49m\u001b[43m \u001b[49m\u001b[43margs\u001b[49m\u001b[43m,\u001b[49m\u001b[43m \u001b[49m\u001b[43mkwds\u001b[49m\u001b[43m)\u001b[49m\n",
      "File \u001b[1;32m~\\anaconda3\\lib\\contextlib.py:87\u001b[0m, in \u001b[0;36m_GeneratorContextManagerBase.__init__\u001b[1;34m(self, func, args, kwds)\u001b[0m\n\u001b[0;32m     86\u001b[0m \u001b[38;5;28;01mdef\u001b[39;00m \u001b[38;5;21m__init__\u001b[39m(\u001b[38;5;28mself\u001b[39m, func, args, kwds):\n\u001b[1;32m---> 87\u001b[0m     \u001b[38;5;28mself\u001b[39m\u001b[38;5;241m.\u001b[39mgen \u001b[38;5;241m=\u001b[39m func(\u001b[38;5;241m*\u001b[39margs, \u001b[38;5;241m*\u001b[39m\u001b[38;5;241m*\u001b[39mkwds)\n\u001b[0;32m     88\u001b[0m     \u001b[38;5;28mself\u001b[39m\u001b[38;5;241m.\u001b[39mfunc, \u001b[38;5;28mself\u001b[39m\u001b[38;5;241m.\u001b[39margs, \u001b[38;5;28mself\u001b[39m\u001b[38;5;241m.\u001b[39mkwds \u001b[38;5;241m=\u001b[39m func, args, kwds\n\u001b[0;32m     89\u001b[0m     \u001b[38;5;66;03m# Issue 19330: ensure context manager instances have good docstrings\u001b[39;00m\n",
      "\u001b[1;31mKeyboardInterrupt\u001b[0m: "
     ]
    },
    {
     "name": "stdout",
     "output_type": "stream",
     "text": [
      "Error in callback <function flush_figures at 0x000001F4025DC040> (for post_execute):\n"
     ]
    },
    {
     "ename": "KeyboardInterrupt",
     "evalue": "",
     "output_type": "error",
     "traceback": [
      "\u001b[1;31m---------------------------------------------------------------------------\u001b[0m",
      "\u001b[1;31mKeyboardInterrupt\u001b[0m                         Traceback (most recent call last)",
      "File \u001b[1;32m~\\anaconda3\\lib\\site-packages\\matplotlib_inline\\backend_inline.py:121\u001b[0m, in \u001b[0;36mflush_figures\u001b[1;34m()\u001b[0m\n\u001b[0;32m    118\u001b[0m \u001b[38;5;28;01mif\u001b[39;00m InlineBackend\u001b[38;5;241m.\u001b[39minstance()\u001b[38;5;241m.\u001b[39mclose_figures:\n\u001b[0;32m    119\u001b[0m     \u001b[38;5;66;03m# ignore the tracking, just draw and close all figures\u001b[39;00m\n\u001b[0;32m    120\u001b[0m     \u001b[38;5;28;01mtry\u001b[39;00m:\n\u001b[1;32m--> 121\u001b[0m         \u001b[38;5;28;01mreturn\u001b[39;00m \u001b[43mshow\u001b[49m\u001b[43m(\u001b[49m\u001b[38;5;28;43;01mTrue\u001b[39;49;00m\u001b[43m)\u001b[49m\n\u001b[0;32m    122\u001b[0m     \u001b[38;5;28;01mexcept\u001b[39;00m \u001b[38;5;167;01mException\u001b[39;00m \u001b[38;5;28;01mas\u001b[39;00m e:\n\u001b[0;32m    123\u001b[0m         \u001b[38;5;66;03m# safely show traceback if in IPython, else raise\u001b[39;00m\n\u001b[0;32m    124\u001b[0m         ip \u001b[38;5;241m=\u001b[39m get_ipython()\n",
      "File \u001b[1;32m~\\anaconda3\\lib\\site-packages\\matplotlib_inline\\backend_inline.py:43\u001b[0m, in \u001b[0;36mshow\u001b[1;34m(close, block)\u001b[0m\n\u001b[0;32m     39\u001b[0m \u001b[38;5;28;01mtry\u001b[39;00m:\n\u001b[0;32m     40\u001b[0m     \u001b[38;5;28;01mfor\u001b[39;00m figure_manager \u001b[38;5;129;01min\u001b[39;00m Gcf\u001b[38;5;241m.\u001b[39mget_all_fig_managers():\n\u001b[0;32m     41\u001b[0m         display(\n\u001b[0;32m     42\u001b[0m             figure_manager\u001b[38;5;241m.\u001b[39mcanvas\u001b[38;5;241m.\u001b[39mfigure,\n\u001b[1;32m---> 43\u001b[0m             metadata\u001b[38;5;241m=\u001b[39m\u001b[43m_fetch_figure_metadata\u001b[49m\u001b[43m(\u001b[49m\u001b[43mfigure_manager\u001b[49m\u001b[38;5;241;43m.\u001b[39;49m\u001b[43mcanvas\u001b[49m\u001b[38;5;241;43m.\u001b[39;49m\u001b[43mfigure\u001b[49m\u001b[43m)\u001b[49m\n\u001b[0;32m     44\u001b[0m         )\n\u001b[0;32m     45\u001b[0m \u001b[38;5;28;01mfinally\u001b[39;00m:\n\u001b[0;32m     46\u001b[0m     show\u001b[38;5;241m.\u001b[39m_to_draw \u001b[38;5;241m=\u001b[39m []\n",
      "File \u001b[1;32m~\\anaconda3\\lib\\site-packages\\matplotlib_inline\\backend_inline.py:231\u001b[0m, in \u001b[0;36m_fetch_figure_metadata\u001b[1;34m(fig)\u001b[0m\n\u001b[0;32m    228\u001b[0m \u001b[38;5;66;03m# determine if a background is needed for legibility\u001b[39;00m\n\u001b[0;32m    229\u001b[0m \u001b[38;5;28;01mif\u001b[39;00m _is_transparent(fig\u001b[38;5;241m.\u001b[39mget_facecolor()):\n\u001b[0;32m    230\u001b[0m     \u001b[38;5;66;03m# the background is transparent\u001b[39;00m\n\u001b[1;32m--> 231\u001b[0m     ticksLight \u001b[38;5;241m=\u001b[39m _is_light([label\u001b[38;5;241m.\u001b[39mget_color()\n\u001b[0;32m    232\u001b[0m                             \u001b[38;5;28;01mfor\u001b[39;00m axes \u001b[38;5;129;01min\u001b[39;00m fig\u001b[38;5;241m.\u001b[39maxes\n\u001b[0;32m    233\u001b[0m                             \u001b[38;5;28;01mfor\u001b[39;00m axis \u001b[38;5;129;01min\u001b[39;00m (axes\u001b[38;5;241m.\u001b[39mxaxis, axes\u001b[38;5;241m.\u001b[39myaxis)\n\u001b[0;32m    234\u001b[0m                             \u001b[38;5;28;01mfor\u001b[39;00m label \u001b[38;5;129;01min\u001b[39;00m axis\u001b[38;5;241m.\u001b[39mget_ticklabels()])\n\u001b[0;32m    235\u001b[0m     \u001b[38;5;28;01mif\u001b[39;00m ticksLight\u001b[38;5;241m.\u001b[39msize \u001b[38;5;129;01mand\u001b[39;00m (ticksLight \u001b[38;5;241m==\u001b[39m ticksLight[\u001b[38;5;241m0\u001b[39m])\u001b[38;5;241m.\u001b[39mall():\n\u001b[0;32m    236\u001b[0m         \u001b[38;5;66;03m# there are one or more tick labels, all with the same lightness\u001b[39;00m\n\u001b[0;32m    237\u001b[0m         \u001b[38;5;28;01mreturn\u001b[39;00m {\u001b[38;5;124m'\u001b[39m\u001b[38;5;124mneeds_background\u001b[39m\u001b[38;5;124m'\u001b[39m: \u001b[38;5;124m'\u001b[39m\u001b[38;5;124mdark\u001b[39m\u001b[38;5;124m'\u001b[39m \u001b[38;5;28;01mif\u001b[39;00m ticksLight[\u001b[38;5;241m0\u001b[39m] \u001b[38;5;28;01melse\u001b[39;00m \u001b[38;5;124m'\u001b[39m\u001b[38;5;124mlight\u001b[39m\u001b[38;5;124m'\u001b[39m}\n",
      "File \u001b[1;32m~\\anaconda3\\lib\\site-packages\\matplotlib_inline\\backend_inline.py:234\u001b[0m, in \u001b[0;36m<listcomp>\u001b[1;34m(.0)\u001b[0m\n\u001b[0;32m    228\u001b[0m \u001b[38;5;66;03m# determine if a background is needed for legibility\u001b[39;00m\n\u001b[0;32m    229\u001b[0m \u001b[38;5;28;01mif\u001b[39;00m _is_transparent(fig\u001b[38;5;241m.\u001b[39mget_facecolor()):\n\u001b[0;32m    230\u001b[0m     \u001b[38;5;66;03m# the background is transparent\u001b[39;00m\n\u001b[0;32m    231\u001b[0m     ticksLight \u001b[38;5;241m=\u001b[39m _is_light([label\u001b[38;5;241m.\u001b[39mget_color()\n\u001b[0;32m    232\u001b[0m                             \u001b[38;5;28;01mfor\u001b[39;00m axes \u001b[38;5;129;01min\u001b[39;00m fig\u001b[38;5;241m.\u001b[39maxes\n\u001b[0;32m    233\u001b[0m                             \u001b[38;5;28;01mfor\u001b[39;00m axis \u001b[38;5;129;01min\u001b[39;00m (axes\u001b[38;5;241m.\u001b[39mxaxis, axes\u001b[38;5;241m.\u001b[39myaxis)\n\u001b[1;32m--> 234\u001b[0m                             \u001b[38;5;28;01mfor\u001b[39;00m label \u001b[38;5;129;01min\u001b[39;00m \u001b[43maxis\u001b[49m\u001b[38;5;241;43m.\u001b[39;49m\u001b[43mget_ticklabels\u001b[49m\u001b[43m(\u001b[49m\u001b[43m)\u001b[49m])\n\u001b[0;32m    235\u001b[0m     \u001b[38;5;28;01mif\u001b[39;00m ticksLight\u001b[38;5;241m.\u001b[39msize \u001b[38;5;129;01mand\u001b[39;00m (ticksLight \u001b[38;5;241m==\u001b[39m ticksLight[\u001b[38;5;241m0\u001b[39m])\u001b[38;5;241m.\u001b[39mall():\n\u001b[0;32m    236\u001b[0m         \u001b[38;5;66;03m# there are one or more tick labels, all with the same lightness\u001b[39;00m\n\u001b[0;32m    237\u001b[0m         \u001b[38;5;28;01mreturn\u001b[39;00m {\u001b[38;5;124m'\u001b[39m\u001b[38;5;124mneeds_background\u001b[39m\u001b[38;5;124m'\u001b[39m: \u001b[38;5;124m'\u001b[39m\u001b[38;5;124mdark\u001b[39m\u001b[38;5;124m'\u001b[39m \u001b[38;5;28;01mif\u001b[39;00m ticksLight[\u001b[38;5;241m0\u001b[39m] \u001b[38;5;28;01melse\u001b[39;00m \u001b[38;5;124m'\u001b[39m\u001b[38;5;124mlight\u001b[39m\u001b[38;5;124m'\u001b[39m}\n",
      "File \u001b[1;32m~\\anaconda3\\lib\\site-packages\\matplotlib\\axis.py:1249\u001b[0m, in \u001b[0;36mAxis.get_ticklabels\u001b[1;34m(self, minor, which)\u001b[0m\n\u001b[0;32m   1247\u001b[0m \u001b[38;5;28;01mif\u001b[39;00m minor:\n\u001b[0;32m   1248\u001b[0m     \u001b[38;5;28;01mreturn\u001b[39;00m \u001b[38;5;28mself\u001b[39m\u001b[38;5;241m.\u001b[39mget_minorticklabels()\n\u001b[1;32m-> 1249\u001b[0m \u001b[38;5;28;01mreturn\u001b[39;00m \u001b[38;5;28;43mself\u001b[39;49m\u001b[38;5;241;43m.\u001b[39;49m\u001b[43mget_majorticklabels\u001b[49m\u001b[43m(\u001b[49m\u001b[43m)\u001b[49m\n",
      "File \u001b[1;32m~\\anaconda3\\lib\\site-packages\\matplotlib\\axis.py:1201\u001b[0m, in \u001b[0;36mAxis.get_majorticklabels\u001b[1;34m(self)\u001b[0m\n\u001b[0;32m   1199\u001b[0m \u001b[38;5;28;01mdef\u001b[39;00m \u001b[38;5;21mget_majorticklabels\u001b[39m(\u001b[38;5;28mself\u001b[39m):\n\u001b[0;32m   1200\u001b[0m     \u001b[38;5;124;03m\"\"\"Return this Axis' major tick labels, as a list of `~.text.Text`.\"\"\"\u001b[39;00m\n\u001b[1;32m-> 1201\u001b[0m     ticks \u001b[38;5;241m=\u001b[39m \u001b[38;5;28;43mself\u001b[39;49m\u001b[38;5;241;43m.\u001b[39;49m\u001b[43mget_major_ticks\u001b[49m\u001b[43m(\u001b[49m\u001b[43m)\u001b[49m\n\u001b[0;32m   1202\u001b[0m     labels1 \u001b[38;5;241m=\u001b[39m [tick\u001b[38;5;241m.\u001b[39mlabel1 \u001b[38;5;28;01mfor\u001b[39;00m tick \u001b[38;5;129;01min\u001b[39;00m ticks \u001b[38;5;28;01mif\u001b[39;00m tick\u001b[38;5;241m.\u001b[39mlabel1\u001b[38;5;241m.\u001b[39mget_visible()]\n\u001b[0;32m   1203\u001b[0m     labels2 \u001b[38;5;241m=\u001b[39m [tick\u001b[38;5;241m.\u001b[39mlabel2 \u001b[38;5;28;01mfor\u001b[39;00m tick \u001b[38;5;129;01min\u001b[39;00m ticks \u001b[38;5;28;01mif\u001b[39;00m tick\u001b[38;5;241m.\u001b[39mlabel2\u001b[38;5;241m.\u001b[39mget_visible()]\n",
      "File \u001b[1;32m~\\anaconda3\\lib\\site-packages\\matplotlib\\axis.py:1375\u001b[0m, in \u001b[0;36mAxis.get_major_ticks\u001b[1;34m(self, numticks)\u001b[0m\n\u001b[0;32m   1371\u001b[0m     numticks \u001b[38;5;241m=\u001b[39m \u001b[38;5;28mlen\u001b[39m(\u001b[38;5;28mself\u001b[39m\u001b[38;5;241m.\u001b[39mget_majorticklocs())\n\u001b[0;32m   1373\u001b[0m \u001b[38;5;28;01mwhile\u001b[39;00m \u001b[38;5;28mlen\u001b[39m(\u001b[38;5;28mself\u001b[39m\u001b[38;5;241m.\u001b[39mmajorTicks) \u001b[38;5;241m<\u001b[39m numticks:\n\u001b[0;32m   1374\u001b[0m     \u001b[38;5;66;03m# Update the new tick label properties from the old.\u001b[39;00m\n\u001b[1;32m-> 1375\u001b[0m     tick \u001b[38;5;241m=\u001b[39m \u001b[38;5;28;43mself\u001b[39;49m\u001b[38;5;241;43m.\u001b[39;49m\u001b[43m_get_tick\u001b[49m\u001b[43m(\u001b[49m\u001b[43mmajor\u001b[49m\u001b[38;5;241;43m=\u001b[39;49m\u001b[38;5;28;43;01mTrue\u001b[39;49;00m\u001b[43m)\u001b[49m\n\u001b[0;32m   1376\u001b[0m     \u001b[38;5;28mself\u001b[39m\u001b[38;5;241m.\u001b[39mmajorTicks\u001b[38;5;241m.\u001b[39mappend(tick)\n\u001b[0;32m   1377\u001b[0m     \u001b[38;5;28mself\u001b[39m\u001b[38;5;241m.\u001b[39m_copy_tick_props(\u001b[38;5;28mself\u001b[39m\u001b[38;5;241m.\u001b[39mmajorTicks[\u001b[38;5;241m0\u001b[39m], tick)\n",
      "File \u001b[1;32m~\\anaconda3\\lib\\site-packages\\matplotlib\\axis.py:2057\u001b[0m, in \u001b[0;36mXAxis._get_tick\u001b[1;34m(self, major)\u001b[0m\n\u001b[0;32m   2055\u001b[0m \u001b[38;5;28;01melse\u001b[39;00m:\n\u001b[0;32m   2056\u001b[0m     tick_kw \u001b[38;5;241m=\u001b[39m \u001b[38;5;28mself\u001b[39m\u001b[38;5;241m.\u001b[39m_minor_tick_kw\n\u001b[1;32m-> 2057\u001b[0m \u001b[38;5;28;01mreturn\u001b[39;00m XTick(\u001b[38;5;28mself\u001b[39m\u001b[38;5;241m.\u001b[39maxes, \u001b[38;5;241m0\u001b[39m, major\u001b[38;5;241m=\u001b[39mmajor, \u001b[38;5;241m*\u001b[39m\u001b[38;5;241m*\u001b[39mtick_kw)\n",
      "File \u001b[1;32m~\\anaconda3\\lib\\site-packages\\matplotlib\\axis.py:415\u001b[0m, in \u001b[0;36mXTick.__init__\u001b[1;34m(self, *args, **kwargs)\u001b[0m\n\u001b[0;32m    414\u001b[0m \u001b[38;5;28;01mdef\u001b[39;00m \u001b[38;5;21m__init__\u001b[39m(\u001b[38;5;28mself\u001b[39m, \u001b[38;5;241m*\u001b[39margs, \u001b[38;5;241m*\u001b[39m\u001b[38;5;241m*\u001b[39mkwargs):\n\u001b[1;32m--> 415\u001b[0m     \u001b[38;5;28msuper\u001b[39m()\u001b[38;5;241m.\u001b[39m\u001b[38;5;21m__init__\u001b[39m(\u001b[38;5;241m*\u001b[39margs, \u001b[38;5;241m*\u001b[39m\u001b[38;5;241m*\u001b[39mkwargs)\n\u001b[0;32m    416\u001b[0m     \u001b[38;5;66;03m# x in data coords, y in axes coords\u001b[39;00m\n\u001b[0;32m    417\u001b[0m     ax \u001b[38;5;241m=\u001b[39m \u001b[38;5;28mself\u001b[39m\u001b[38;5;241m.\u001b[39maxes\n",
      "File \u001b[1;32m~\\anaconda3\\lib\\site-packages\\matplotlib\\axis.py:166\u001b[0m, in \u001b[0;36mTick.__init__\u001b[1;34m(self, axes, loc, size, width, color, tickdir, pad, labelsize, labelcolor, zorder, gridOn, tick1On, tick2On, label1On, label2On, major, labelrotation, grid_color, grid_linestyle, grid_linewidth, grid_alpha, **kw)\u001b[0m\n\u001b[0;32m    155\u001b[0m \u001b[38;5;28mself\u001b[39m\u001b[38;5;241m.\u001b[39mtick2line \u001b[38;5;241m=\u001b[39m mlines\u001b[38;5;241m.\u001b[39mLine2D(\n\u001b[0;32m    156\u001b[0m     [], [],\n\u001b[0;32m    157\u001b[0m     color\u001b[38;5;241m=\u001b[39mcolor, linestyle\u001b[38;5;241m=\u001b[39m\u001b[38;5;124m\"\u001b[39m\u001b[38;5;124mnone\u001b[39m\u001b[38;5;124m\"\u001b[39m, zorder\u001b[38;5;241m=\u001b[39mzorder, visible\u001b[38;5;241m=\u001b[39mtick2On,\n\u001b[0;32m    158\u001b[0m     markeredgecolor\u001b[38;5;241m=\u001b[39mcolor, markersize\u001b[38;5;241m=\u001b[39msize, markeredgewidth\u001b[38;5;241m=\u001b[39mwidth,\n\u001b[0;32m    159\u001b[0m )\n\u001b[0;32m    160\u001b[0m \u001b[38;5;28mself\u001b[39m\u001b[38;5;241m.\u001b[39mgridline \u001b[38;5;241m=\u001b[39m mlines\u001b[38;5;241m.\u001b[39mLine2D(\n\u001b[0;32m    161\u001b[0m     [], [],\n\u001b[0;32m    162\u001b[0m     color\u001b[38;5;241m=\u001b[39mgrid_color, alpha\u001b[38;5;241m=\u001b[39mgrid_alpha, visible\u001b[38;5;241m=\u001b[39mgridOn,\n\u001b[0;32m    163\u001b[0m     linestyle\u001b[38;5;241m=\u001b[39mgrid_linestyle, linewidth\u001b[38;5;241m=\u001b[39mgrid_linewidth, marker\u001b[38;5;241m=\u001b[39m\u001b[38;5;124m\"\u001b[39m\u001b[38;5;124m\"\u001b[39m,\n\u001b[0;32m    164\u001b[0m     \u001b[38;5;241m*\u001b[39m\u001b[38;5;241m*\u001b[39mgrid_kw,\n\u001b[0;32m    165\u001b[0m )\n\u001b[1;32m--> 166\u001b[0m \u001b[38;5;28;43mself\u001b[39;49m\u001b[38;5;241;43m.\u001b[39;49m\u001b[43mgridline\u001b[49m\u001b[38;5;241;43m.\u001b[39;49m\u001b[43mget_path\u001b[49m\u001b[43m(\u001b[49m\u001b[43m)\u001b[49m\u001b[38;5;241m.\u001b[39m_interpolation_steps \u001b[38;5;241m=\u001b[39m \\\n\u001b[0;32m    167\u001b[0m     GRIDLINE_INTERPOLATION_STEPS\n\u001b[0;32m    168\u001b[0m \u001b[38;5;28mself\u001b[39m\u001b[38;5;241m.\u001b[39mlabel1 \u001b[38;5;241m=\u001b[39m mtext\u001b[38;5;241m.\u001b[39mText(\n\u001b[0;32m    169\u001b[0m     np\u001b[38;5;241m.\u001b[39mnan, np\u001b[38;5;241m.\u001b[39mnan,\n\u001b[0;32m    170\u001b[0m     fontsize\u001b[38;5;241m=\u001b[39mlabelsize, color\u001b[38;5;241m=\u001b[39mlabelcolor, visible\u001b[38;5;241m=\u001b[39mlabel1On,\n\u001b[0;32m    171\u001b[0m     rotation\u001b[38;5;241m=\u001b[39m\u001b[38;5;28mself\u001b[39m\u001b[38;5;241m.\u001b[39m_labelrotation[\u001b[38;5;241m1\u001b[39m])\n\u001b[0;32m    172\u001b[0m \u001b[38;5;28mself\u001b[39m\u001b[38;5;241m.\u001b[39mlabel2 \u001b[38;5;241m=\u001b[39m mtext\u001b[38;5;241m.\u001b[39mText(\n\u001b[0;32m    173\u001b[0m     np\u001b[38;5;241m.\u001b[39mnan, np\u001b[38;5;241m.\u001b[39mnan,\n\u001b[0;32m    174\u001b[0m     fontsize\u001b[38;5;241m=\u001b[39mlabelsize, color\u001b[38;5;241m=\u001b[39mlabelcolor, visible\u001b[38;5;241m=\u001b[39mlabel2On,\n\u001b[0;32m    175\u001b[0m     rotation\u001b[38;5;241m=\u001b[39m\u001b[38;5;28mself\u001b[39m\u001b[38;5;241m.\u001b[39m_labelrotation[\u001b[38;5;241m1\u001b[39m])\n",
      "File \u001b[1;32m~\\anaconda3\\lib\\site-packages\\matplotlib\\lines.py:999\u001b[0m, in \u001b[0;36mLine2D.get_path\u001b[1;34m(self)\u001b[0m\n\u001b[0;32m    997\u001b[0m \u001b[38;5;124;03m\"\"\"Return the `~matplotlib.path.Path` associated with this line.\"\"\"\u001b[39;00m\n\u001b[0;32m    998\u001b[0m \u001b[38;5;28;01mif\u001b[39;00m \u001b[38;5;28mself\u001b[39m\u001b[38;5;241m.\u001b[39m_invalidy \u001b[38;5;129;01mor\u001b[39;00m \u001b[38;5;28mself\u001b[39m\u001b[38;5;241m.\u001b[39m_invalidx:\n\u001b[1;32m--> 999\u001b[0m     \u001b[38;5;28;43mself\u001b[39;49m\u001b[38;5;241;43m.\u001b[39;49m\u001b[43mrecache\u001b[49m\u001b[43m(\u001b[49m\u001b[43m)\u001b[49m\n\u001b[0;32m   1000\u001b[0m \u001b[38;5;28;01mreturn\u001b[39;00m \u001b[38;5;28mself\u001b[39m\u001b[38;5;241m.\u001b[39m_path\n",
      "File \u001b[1;32m~\\anaconda3\\lib\\site-packages\\matplotlib\\lines.py:661\u001b[0m, in \u001b[0;36mLine2D.recache\u001b[1;34m(self, always)\u001b[0m\n\u001b[0;32m    658\u001b[0m \u001b[38;5;28;01melse\u001b[39;00m:\n\u001b[0;32m    659\u001b[0m     y \u001b[38;5;241m=\u001b[39m \u001b[38;5;28mself\u001b[39m\u001b[38;5;241m.\u001b[39m_y\n\u001b[1;32m--> 661\u001b[0m \u001b[38;5;28mself\u001b[39m\u001b[38;5;241m.\u001b[39m_xy \u001b[38;5;241m=\u001b[39m \u001b[43mnp\u001b[49m\u001b[38;5;241;43m.\u001b[39;49m\u001b[43mcolumn_stack\u001b[49m\u001b[43m(\u001b[49m\u001b[43mnp\u001b[49m\u001b[38;5;241;43m.\u001b[39;49m\u001b[43mbroadcast_arrays\u001b[49m\u001b[43m(\u001b[49m\u001b[43mx\u001b[49m\u001b[43m,\u001b[49m\u001b[43m \u001b[49m\u001b[43my\u001b[49m\u001b[43m)\u001b[49m\u001b[43m)\u001b[49m\u001b[38;5;241;43m.\u001b[39;49m\u001b[43mastype\u001b[49m\u001b[43m(\u001b[49m\u001b[38;5;28;43mfloat\u001b[39;49m\u001b[43m)\u001b[49m\n\u001b[0;32m    662\u001b[0m \u001b[38;5;28mself\u001b[39m\u001b[38;5;241m.\u001b[39m_x, \u001b[38;5;28mself\u001b[39m\u001b[38;5;241m.\u001b[39m_y \u001b[38;5;241m=\u001b[39m \u001b[38;5;28mself\u001b[39m\u001b[38;5;241m.\u001b[39m_xy\u001b[38;5;241m.\u001b[39mT  \u001b[38;5;66;03m# views\u001b[39;00m\n\u001b[0;32m    664\u001b[0m \u001b[38;5;28mself\u001b[39m\u001b[38;5;241m.\u001b[39m_subslice \u001b[38;5;241m=\u001b[39m \u001b[38;5;28;01mFalse\u001b[39;00m\n",
      "\u001b[1;31mKeyboardInterrupt\u001b[0m: "
     ]
    }
   ],
   "source": [
    "sns.boxplot(data=df, x=\"completed_at\", y=\"transaction_amount\", hue=\"category_title\")"
   ]
  },
  {
   "cell_type": "code",
   "execution_count": null,
   "id": "d0f5611e",
   "metadata": {},
   "outputs": [],
   "source": []
  },
  {
   "cell_type": "code",
   "execution_count": 7,
   "id": "436a405b",
   "metadata": {
    "ExecuteTime": {
     "end_time": "2022-06-28T14:31:39.694198Z",
     "start_time": "2022-06-28T14:31:39.478429Z"
    },
    "scrolled": false
   },
   "outputs": [
    {
     "name": "stdout",
     "output_type": "stream",
     "text": [
      "<class 'pandas.core.frame.DataFrame'>\n",
      "RangeIndex: 105384 entries, 0 to 105383\n",
      "Data columns (total 17 columns):\n",
      " #   Column                  Non-Null Count   Dtype \n",
      "---  ------                  --------------   ----- \n",
      " 0   id                      105384 non-null  object\n",
      " 1   customer_id             105384 non-null  object\n",
      " 2   course_id               105384 non-null  object\n",
      " 3   type                    105384 non-null  object\n",
      " 4   state                   105384 non-null  object\n",
      " 5   course_title            105384 non-null  object\n",
      " 6   category_title          105377 non-null  object\n",
      " 7   format                  105384 non-null  object\n",
      " 8   completed_at            105384 non-null  object\n",
      " 9   transaction_amount      105384 non-null  object\n",
      " 10  coupon_title            105384 non-null  object\n",
      " 11  coupon_discount_amount  105384 non-null  object\n",
      " 12  sale_price              104824 non-null  object\n",
      " 13  pg                      105384 non-null  object\n",
      " 14  method                  105384 non-null  object\n",
      " 15  subcategory_title       86206 non-null   object\n",
      " 16  marketing_start_at      88052 non-null   object\n",
      "dtypes: object(17)\n",
      "memory usage: 13.7+ MB\n"
     ]
    }
   ],
   "source": [
    "df.info()"
   ]
  },
  {
   "cell_type": "code",
   "execution_count": null,
   "id": "cb5cf1bb",
   "metadata": {},
   "outputs": [],
   "source": []
  },
  {
   "cell_type": "code",
   "execution_count": null,
   "id": "f5d24858",
   "metadata": {},
   "outputs": [],
   "source": [
    "cate_tran = df.groupby('category_title').sum()['transaction_amount'].sort_values(ascending=False)\n",
    "cate_tran"
   ]
  },
  {
   "cell_type": "code",
   "execution_count": null,
   "id": "db936ec2",
   "metadata": {},
   "outputs": [],
   "source": []
  },
  {
   "cell_type": "code",
   "execution_count": null,
   "id": "f3543bfd",
   "metadata": {},
   "outputs": [],
   "source": []
  },
  {
   "cell_type": "code",
   "execution_count": 125,
   "id": "ffaa54a0",
   "metadata": {
    "ExecuteTime": {
     "end_time": "2022-06-30T06:45:23.681161Z",
     "start_time": "2022-06-30T06:45:22.873545Z"
    }
   },
   "outputs": [
    {
     "ename": "KeyError",
     "evalue": "'completed_at'",
     "output_type": "error",
     "traceback": [
      "\u001b[1;31m---------------------------------------------------------------------------\u001b[0m",
      "\u001b[1;31mKeyError\u001b[0m                                  Traceback (most recent call last)",
      "File \u001b[1;32m~\\anaconda3\\lib\\site-packages\\pandas\\core\\indexes\\base.py:3621\u001b[0m, in \u001b[0;36mIndex.get_loc\u001b[1;34m(self, key, method, tolerance)\u001b[0m\n\u001b[0;32m   3620\u001b[0m \u001b[38;5;28;01mtry\u001b[39;00m:\n\u001b[1;32m-> 3621\u001b[0m     \u001b[38;5;28;01mreturn\u001b[39;00m \u001b[38;5;28;43mself\u001b[39;49m\u001b[38;5;241;43m.\u001b[39;49m\u001b[43m_engine\u001b[49m\u001b[38;5;241;43m.\u001b[39;49m\u001b[43mget_loc\u001b[49m\u001b[43m(\u001b[49m\u001b[43mcasted_key\u001b[49m\u001b[43m)\u001b[49m\n\u001b[0;32m   3622\u001b[0m \u001b[38;5;28;01mexcept\u001b[39;00m \u001b[38;5;167;01mKeyError\u001b[39;00m \u001b[38;5;28;01mas\u001b[39;00m err:\n",
      "File \u001b[1;32m~\\anaconda3\\lib\\site-packages\\pandas\\_libs\\index.pyx:136\u001b[0m, in \u001b[0;36mpandas._libs.index.IndexEngine.get_loc\u001b[1;34m()\u001b[0m\n",
      "File \u001b[1;32m~\\anaconda3\\lib\\site-packages\\pandas\\_libs\\index.pyx:163\u001b[0m, in \u001b[0;36mpandas._libs.index.IndexEngine.get_loc\u001b[1;34m()\u001b[0m\n",
      "File \u001b[1;32mpandas\\_libs\\hashtable_class_helper.pxi:5198\u001b[0m, in \u001b[0;36mpandas._libs.hashtable.PyObjectHashTable.get_item\u001b[1;34m()\u001b[0m\n",
      "File \u001b[1;32mpandas\\_libs\\hashtable_class_helper.pxi:5206\u001b[0m, in \u001b[0;36mpandas._libs.hashtable.PyObjectHashTable.get_item\u001b[1;34m()\u001b[0m\n",
      "\u001b[1;31mKeyError\u001b[0m: 'completed_at'",
      "\nThe above exception was the direct cause of the following exception:\n",
      "\u001b[1;31mKeyError\u001b[0m                                  Traceback (most recent call last)",
      "Input \u001b[1;32mIn [125]\u001b[0m, in \u001b[0;36m<cell line: 1>\u001b[1;34m()\u001b[0m\n\u001b[1;32m----> 1\u001b[0m course_d6 \u001b[38;5;241m=\u001b[39m \u001b[43mdf\u001b[49m\u001b[38;5;241;43m.\u001b[39;49m\u001b[43mgroupby\u001b[49m\u001b[43m(\u001b[49m\u001b[38;5;124;43m'\u001b[39;49m\u001b[38;5;124;43mcourse_title\u001b[39;49m\u001b[38;5;124;43m'\u001b[39;49m\u001b[43m)\u001b[49m\u001b[38;5;241;43m.\u001b[39;49m\u001b[43msum\u001b[49m\u001b[43m(\u001b[49m\u001b[43m)\u001b[49m\u001b[43m[\u001b[49m\u001b[38;5;124;43m'\u001b[39;49m\u001b[38;5;124;43mcompleted_at\u001b[39;49m\u001b[38;5;124;43m'\u001b[39;49m\u001b[43m]\u001b[49m\u001b[38;5;241m.\u001b[39msort_values(ascending\u001b[38;5;241m=\u001b[39m\u001b[38;5;28;01mFalse\u001b[39;00m)\n\u001b[0;32m      2\u001b[0m course_d6\n",
      "File \u001b[1;32m~\\anaconda3\\lib\\site-packages\\pandas\\core\\frame.py:3505\u001b[0m, in \u001b[0;36mDataFrame.__getitem__\u001b[1;34m(self, key)\u001b[0m\n\u001b[0;32m   3503\u001b[0m \u001b[38;5;28;01mif\u001b[39;00m \u001b[38;5;28mself\u001b[39m\u001b[38;5;241m.\u001b[39mcolumns\u001b[38;5;241m.\u001b[39mnlevels \u001b[38;5;241m>\u001b[39m \u001b[38;5;241m1\u001b[39m:\n\u001b[0;32m   3504\u001b[0m     \u001b[38;5;28;01mreturn\u001b[39;00m \u001b[38;5;28mself\u001b[39m\u001b[38;5;241m.\u001b[39m_getitem_multilevel(key)\n\u001b[1;32m-> 3505\u001b[0m indexer \u001b[38;5;241m=\u001b[39m \u001b[38;5;28;43mself\u001b[39;49m\u001b[38;5;241;43m.\u001b[39;49m\u001b[43mcolumns\u001b[49m\u001b[38;5;241;43m.\u001b[39;49m\u001b[43mget_loc\u001b[49m\u001b[43m(\u001b[49m\u001b[43mkey\u001b[49m\u001b[43m)\u001b[49m\n\u001b[0;32m   3506\u001b[0m \u001b[38;5;28;01mif\u001b[39;00m is_integer(indexer):\n\u001b[0;32m   3507\u001b[0m     indexer \u001b[38;5;241m=\u001b[39m [indexer]\n",
      "File \u001b[1;32m~\\anaconda3\\lib\\site-packages\\pandas\\core\\indexes\\base.py:3623\u001b[0m, in \u001b[0;36mIndex.get_loc\u001b[1;34m(self, key, method, tolerance)\u001b[0m\n\u001b[0;32m   3621\u001b[0m     \u001b[38;5;28;01mreturn\u001b[39;00m \u001b[38;5;28mself\u001b[39m\u001b[38;5;241m.\u001b[39m_engine\u001b[38;5;241m.\u001b[39mget_loc(casted_key)\n\u001b[0;32m   3622\u001b[0m \u001b[38;5;28;01mexcept\u001b[39;00m \u001b[38;5;167;01mKeyError\u001b[39;00m \u001b[38;5;28;01mas\u001b[39;00m err:\n\u001b[1;32m-> 3623\u001b[0m     \u001b[38;5;28;01mraise\u001b[39;00m \u001b[38;5;167;01mKeyError\u001b[39;00m(key) \u001b[38;5;28;01mfrom\u001b[39;00m \u001b[38;5;21;01merr\u001b[39;00m\n\u001b[0;32m   3624\u001b[0m \u001b[38;5;28;01mexcept\u001b[39;00m \u001b[38;5;167;01mTypeError\u001b[39;00m:\n\u001b[0;32m   3625\u001b[0m     \u001b[38;5;66;03m# If we have a listlike key, _check_indexing_error will raise\u001b[39;00m\n\u001b[0;32m   3626\u001b[0m     \u001b[38;5;66;03m#  InvalidIndexError. Otherwise we fall through and re-raise\u001b[39;00m\n\u001b[0;32m   3627\u001b[0m     \u001b[38;5;66;03m#  the TypeError.\u001b[39;00m\n\u001b[0;32m   3628\u001b[0m     \u001b[38;5;28mself\u001b[39m\u001b[38;5;241m.\u001b[39m_check_indexing_error(key)\n",
      "\u001b[1;31mKeyError\u001b[0m: 'completed_at'"
     ]
    }
   ],
   "source": [
    "course_d6 = df.groupby('course_title').sum()['completed_at'].sort_values(ascending=False)\n",
    "course_d6"
   ]
  },
  {
   "cell_type": "code",
   "execution_count": 138,
   "id": "f38bfbc3",
   "metadata": {
    "ExecuteTime": {
     "end_time": "2022-06-30T07:04:43.700599Z",
     "start_time": "2022-06-30T07:04:43.675695Z"
    }
   },
   "outputs": [
    {
     "data": {
      "text/plain": [
       "completed_ym\n",
       "2021-03     495300619\n",
       "2021-04    2343754242\n",
       "2021-05    2349920332\n",
       "2021-06    2495833865\n",
       "2021-07    2344206739\n",
       "2021-08    1714571488\n",
       "2021-09    1266729152\n",
       "Name: transaction_amount, dtype: int64"
      ]
     },
     "execution_count": 138,
     "metadata": {},
     "output_type": "execute_result"
    }
   ],
   "source": [
    "df.groupby('completed_ym')['transaction_amount'].sum()"
   ]
  },
  {
   "cell_type": "code",
   "execution_count": null,
   "id": "b9881ad3",
   "metadata": {},
   "outputs": [],
   "source": []
  },
  {
   "cell_type": "markdown",
   "id": "7ceecaec",
   "metadata": {},
   "source": [
    "## 시간대별 매출 분석"
   ]
  },
  {
   "cell_type": "markdown",
   "id": "dfff1905",
   "metadata": {},
   "source": [
    "###  일별 매출"
   ]
  },
  {
   "cell_type": "code",
   "execution_count": 160,
   "id": "0495885b",
   "metadata": {
    "ExecuteTime": {
     "end_time": "2022-06-30T07:29:13.622089Z",
     "start_time": "2022-06-30T07:29:12.942036Z"
    }
   },
   "outputs": [
    {
     "data": {
      "text/html": [
       "<div>\n",
       "<style scoped>\n",
       "    .dataframe tbody tr th:only-of-type {\n",
       "        vertical-align: middle;\n",
       "    }\n",
       "\n",
       "    .dataframe tbody tr th {\n",
       "        vertical-align: top;\n",
       "    }\n",
       "\n",
       "    .dataframe thead th {\n",
       "        text-align: right;\n",
       "    }\n",
       "</style>\n",
       "<table border=\"1\" class=\"dataframe\">\n",
       "  <thead>\n",
       "    <tr style=\"text-align: right;\">\n",
       "      <th></th>\n",
       "      <th>id</th>\n",
       "      <th>customer_id</th>\n",
       "      <th>course_id</th>\n",
       "      <th>type</th>\n",
       "      <th>state</th>\n",
       "      <th>course_title</th>\n",
       "      <th>category_title</th>\n",
       "      <th>format</th>\n",
       "      <th>completed_at</th>\n",
       "      <th>transaction_amount</th>\n",
       "      <th>coupon_title</th>\n",
       "      <th>coupon_discount_amount</th>\n",
       "      <th>sale_price</th>\n",
       "      <th>pg</th>\n",
       "      <th>method</th>\n",
       "      <th>subcategory_title</th>\n",
       "      <th>marketing_start_at</th>\n",
       "      <th>completed_ym</th>\n",
       "      <th>completed_ymd</th>\n",
       "    </tr>\n",
       "  </thead>\n",
       "  <tbody>\n",
       "    <tr>\n",
       "      <th>0</th>\n",
       "      <td>970634</td>\n",
       "      <td>504760</td>\n",
       "      <td>201435</td>\n",
       "      <td>ORDER</td>\n",
       "      <td>CANCELLED</td>\n",
       "      <td>올인원 패키지 : 알고리즘 기술면접 완전 정복</td>\n",
       "      <td>프로그래밍</td>\n",
       "      <td>올인원</td>\n",
       "      <td>2021-03-28 15:00:11</td>\n",
       "      <td>90500</td>\n",
       "      <td>미적용</td>\n",
       "      <td>0</td>\n",
       "      <td>110500</td>\n",
       "      <td>COMM</td>\n",
       "      <td>VBANK</td>\n",
       "      <td>개발자 커리어</td>\n",
       "      <td>2018-11-11</td>\n",
       "      <td>2021-03</td>\n",
       "      <td>2021-03-28</td>\n",
       "    </tr>\n",
       "    <tr>\n",
       "      <th>1</th>\n",
       "      <td>970650</td>\n",
       "      <td>432862</td>\n",
       "      <td>203178</td>\n",
       "      <td>ORDER</td>\n",
       "      <td>CANCELLED</td>\n",
       "      <td>초격차 패키지 : 한번에 끝내는 영상 촬영과 편집</td>\n",
       "      <td>영상/3D</td>\n",
       "      <td>올인원</td>\n",
       "      <td>2021-03-28 15:16:53</td>\n",
       "      <td>96000</td>\n",
       "      <td>미적용</td>\n",
       "      <td>0</td>\n",
       "      <td>116000</td>\n",
       "      <td>COMM</td>\n",
       "      <td>CARD</td>\n",
       "      <td>영상 편집</td>\n",
       "      <td>2020-12-02</td>\n",
       "      <td>2021-03</td>\n",
       "      <td>2021-03-28</td>\n",
       "    </tr>\n",
       "    <tr>\n",
       "      <th>2</th>\n",
       "      <td>970657</td>\n",
       "      <td>72297</td>\n",
       "      <td>204246</td>\n",
       "      <td>PAYMENT</td>\n",
       "      <td>COMPLETED</td>\n",
       "      <td>시크릿코드 : 프론트엔드 실무 완성편</td>\n",
       "      <td>프로그래밍</td>\n",
       "      <td>스쿨 온라인</td>\n",
       "      <td>2021-03-28 15:21:43</td>\n",
       "      <td>171810</td>\n",
       "      <td>[10% 할인] 시크릿코드 실무 완성편</td>\n",
       "      <td>19090</td>\n",
       "      <td>190900</td>\n",
       "      <td>COMM</td>\n",
       "      <td>CARD</td>\n",
       "      <td>프로그래밍</td>\n",
       "      <td>2021-03-04</td>\n",
       "      <td>2021-03</td>\n",
       "      <td>2021-03-28</td>\n",
       "    </tr>\n",
       "    <tr>\n",
       "      <th>3</th>\n",
       "      <td>970656</td>\n",
       "      <td>72297</td>\n",
       "      <td>204246</td>\n",
       "      <td>ORDER</td>\n",
       "      <td>CANCELLED</td>\n",
       "      <td>시크릿코드 : 프론트엔드 실무 완성편</td>\n",
       "      <td>프로그래밍</td>\n",
       "      <td>스쿨 온라인</td>\n",
       "      <td>2021-03-28 15:21:43</td>\n",
       "      <td>171810</td>\n",
       "      <td>미적용</td>\n",
       "      <td>0</td>\n",
       "      <td>190900</td>\n",
       "      <td>COMM</td>\n",
       "      <td>CARD</td>\n",
       "      <td>프로그래밍</td>\n",
       "      <td>2021-03-04</td>\n",
       "      <td>2021-03</td>\n",
       "      <td>2021-03-28</td>\n",
       "    </tr>\n",
       "    <tr>\n",
       "      <th>4</th>\n",
       "      <td>970658</td>\n",
       "      <td>478028</td>\n",
       "      <td>201797</td>\n",
       "      <td>PAYMENT</td>\n",
       "      <td>COMPLETED</td>\n",
       "      <td>올인원 패키지 : 직장인 필수 스킬 3종 세트 MAX</td>\n",
       "      <td>업무 생산성</td>\n",
       "      <td>올인원</td>\n",
       "      <td>2021-03-28 15:21:54</td>\n",
       "      <td>97500</td>\n",
       "      <td>[웰컴쿠폰] 올인원 패키지 2만원 할인 쿠폰</td>\n",
       "      <td>20000</td>\n",
       "      <td>117500</td>\n",
       "      <td>COMM</td>\n",
       "      <td>CARD</td>\n",
       "      <td>PPT/보고서</td>\n",
       "      <td>2019-11-14</td>\n",
       "      <td>2021-03</td>\n",
       "      <td>2021-03-28</td>\n",
       "    </tr>\n",
       "  </tbody>\n",
       "</table>\n",
       "</div>"
      ],
      "text/plain": [
       "       id  customer_id  course_id     type      state  \\\n",
       "0  970634       504760     201435    ORDER  CANCELLED   \n",
       "1  970650       432862     203178    ORDER  CANCELLED   \n",
       "2  970657        72297     204246  PAYMENT  COMPLETED   \n",
       "3  970656        72297     204246    ORDER  CANCELLED   \n",
       "4  970658       478028     201797  PAYMENT  COMPLETED   \n",
       "\n",
       "                    course_title category_title  format        completed_at  \\\n",
       "0      올인원 패키지 : 알고리즘 기술면접 완전 정복          프로그래밍     올인원 2021-03-28 15:00:11   \n",
       "1    초격차 패키지 : 한번에 끝내는 영상 촬영과 편집          영상/3D     올인원 2021-03-28 15:16:53   \n",
       "2           시크릿코드 : 프론트엔드 실무 완성편          프로그래밍  스쿨 온라인 2021-03-28 15:21:43   \n",
       "3           시크릿코드 : 프론트엔드 실무 완성편          프로그래밍  스쿨 온라인 2021-03-28 15:21:43   \n",
       "4  올인원 패키지 : 직장인 필수 스킬 3종 세트 MAX         업무 생산성     올인원 2021-03-28 15:21:54   \n",
       "\n",
       "   transaction_amount              coupon_title  coupon_discount_amount  \\\n",
       "0               90500                       미적용                       0   \n",
       "1               96000                       미적용                       0   \n",
       "2              171810     [10% 할인] 시크릿코드 실무 완성편                   19090   \n",
       "3              171810                       미적용                       0   \n",
       "4               97500  [웰컴쿠폰] 올인원 패키지 2만원 할인 쿠폰                   20000   \n",
       "\n",
       "   sale_price    pg method subcategory_title marketing_start_at completed_ym  \\\n",
       "0      110500  COMM  VBANK           개발자 커리어         2018-11-11      2021-03   \n",
       "1      116000  COMM   CARD             영상 편집         2020-12-02      2021-03   \n",
       "2      190900  COMM   CARD             프로그래밍         2021-03-04      2021-03   \n",
       "3      190900  COMM   CARD             프로그래밍         2021-03-04      2021-03   \n",
       "4      117500  COMM   CARD           PPT/보고서         2019-11-14      2021-03   \n",
       "\n",
       "  completed_ymd  \n",
       "0    2021-03-28  \n",
       "1    2021-03-28  \n",
       "2    2021-03-28  \n",
       "3    2021-03-28  \n",
       "4    2021-03-28  "
      ]
     },
     "execution_count": 160,
     "metadata": {},
     "output_type": "execute_result"
    }
   ],
   "source": [
    "df['completed_ymd'] = df['completed_at'].dt.strftime(\"%Y-%m-%d\")\n",
    "df.head()"
   ]
  },
  {
   "cell_type": "code",
   "execution_count": 175,
   "id": "c872e81f",
   "metadata": {
    "ExecuteTime": {
     "end_time": "2022-06-30T07:38:29.556088Z",
     "start_time": "2022-06-30T07:38:29.529501Z"
    }
   },
   "outputs": [
    {
     "data": {
      "text/plain": [
       "completed_ymd\n",
       "2021-03-28     98943065\n",
       "2021-03-29     95293443\n",
       "2021-03-30    102292094\n",
       "2021-03-31    198772017\n",
       "2021-04-01     60372515\n",
       "                ...    \n",
       "2021-09-21     53585300\n",
       "2021-09-22    105103700\n",
       "2021-09-23     44482002\n",
       "2021-09-24     57287834\n",
       "2021-09-25     19306200\n",
       "Name: transaction_amount, Length: 182, dtype: int64"
      ]
     },
     "execution_count": 175,
     "metadata": {},
     "output_type": "execute_result"
    }
   ],
   "source": [
    "group_d_tran = df.groupby('completed_ymd')['transaction_amount'].sum()\n",
    "group_d_tran "
   ]
  },
  {
   "cell_type": "code",
   "execution_count": 176,
   "id": "1bc44401",
   "metadata": {
    "ExecuteTime": {
     "end_time": "2022-06-30T07:38:33.084534Z",
     "start_time": "2022-06-30T07:38:32.963696Z"
    }
   },
   "outputs": [
    {
     "data": {
      "image/png": "iVBORw0KGgoAAAANSUhEUgAAAXgAAAESCAYAAAD38s6aAAAAOXRFWHRTb2Z0d2FyZQBNYXRwbG90bGliIHZlcnNpb24zLjUuMSwgaHR0cHM6Ly9tYXRwbG90bGliLm9yZy/YYfK9AAAACXBIWXMAAAsTAAALEwEAmpwYAABU4ElEQVR4nO2dd5gcV5X231PVaXKWZqQZRcuWlROWZRtb9to4w4KNsQkGs6yXuDYfcYFlgYVdwrIk72LMgoWNsQnGAeOco6yck5U1Gkkzo8nd0/l+f9y61dU93dPVM90zU835PY8e9XRXV99Kb51677nnkhACDMMwTPGhjXcDGIZhmMLAAs8wDFOksMAzDMMUKSzwDMMwRQoLPMMwTJHCAs8wDFOkjKvAE9GviaidiHbYWHYaEb1ARJuJaBsRXTUWbWQYhnEq4x3BrwFwhc1lvwbgD0KIpQBuBPC/hWoUwzBMMTCuAi+EeBlAl/U9IppNRE8S0UYieoWI5qrFAVQar6sAtI1hUxmGYRyHa7wbkIa7AHxcCPEWEa2EjNQvAfANAE8T0WcAlAG4dPyayDAMM/GZUAJPROUAzgPwRyJSb3uN/28CsEYI8UMiWgXgXiJaIISIj0NTGYZhJjwTSuAhLaMeIcSSNJ/9Awy/XgjxBhH5ANQDaB+75jEMwziH8e5kTUII0QfgEBG9FwBIstj4+CiAvzPePxuAD0DHuDSUYRjGAdB4VpMkovsBrIaMxE8B+DcAzwP4OYAmAG4ADwghvkVE8wD8EkA5ZIfrF4UQT49HuxmGYZzAuAo8wzAMUzgmlEXDMAzD5I9x62Str68XM2bMGK+fZxiGcSQbN27sFEI02Fl23AR+xowZ2LBhw3j9PMMwjCMhoiN2l2WLhmEYpkhhgWcYhilSWOAZhmGKFBZ4hmGYIiWrwBORj4jWEdFWItpJRN9Ms8xqIuoloi3Gv68XprkMwzCMXexk0YQAXCKEGCAiN4BXiegJIcTalOVeEUJck/8mMgzDMCMhq8ALOdR1wPjTbfzj4a8MwzATHFsePBHpRLQFsnLjM0KIN9MstsqwcZ4govkZ1nMrEW0gog0dHVwnjHEO8bjAC3vbwaU9GCdhS+CFEDGjhG8zgHOIaEHKIpsATBdCLAbwMwAPZ1jPXUKIFUKIFQ0NtgZiMcyEYMORbtxy93psa+0d76YwjG1yyqIRQvQAeBEp86gKIfqEEAPG68cBuImoPk9tZJhxxx+OAgAGI7FxbgnD2MdOFk0DEVUbr0sgp8rbk7JMIxlTMBHROcZ6T+e9tQwzTsTj0pqJs0XDOAg7WTRNAH5DRDqkcP9BCPEYEX0cAIQQdwK4HsAniCgKYBDAjYLNSqaIiCqB5wkiGQdhJ4tmG4Clad6/0/L6DgB35LdpDDNxiHEEzzgQHsnKMDZQAh9jgWccBAs8w9hACTw7j4yTYIFnGBvE2INnHAgLPMPYgC0axomwwDOMDaJs0TAOhAWeYWygIvcYWzSMg2CBZxgbxAxl5zRJxkmwwDOMDWKGrrPAM06CBZ5hbBCLcwTPOA8WeIaxgepkZQ+ecRIs8AxjAy42xjgRFniGsUGi2BgLPOMcWOAZxgaJCH6cG8IwOcACzzA2iPJIVsaBsMAzjA2UsPNIVsZJsMAzjA1iMZVFwwLPOAcWeIaxQZQ9eMaBsMAzjA1UeiRn0TBOggWeYWwQ5Tx4xoGwwDOMDeKcRcM4EBZ4hrFBoh78ODeEYXIgq8ATkY+I1hHRViLaSUTfTLMMEdFPiWg/EW0jomWFaS7DjA8xHsnKOBCXjWVCAC4RQgwQkRvAq0T0hBBirWWZKwHMMf6tBPBz43+GKQp4yj7GiWSN4IVkwPjTbfxLPcvfBeAeY9m1AKqJqCm/TWWY8SPGaZKMA7HlwRORTkRbALQDeEYI8WbKIlMBHLP83Wq8l7qeW4loAxFt6OjoGGGTGWbsYYuGcSK2BF4IERNCLAHQDOAcIlqQsgil+1qa9dwlhFghhFjR0NCQc2MZZrzgNEnGieSURSOE6AHwIoArUj5qBdBi+bsZQNtoGsYwEwkl7OzBM07CThZNAxFVG69LAFwKYE/KYo8CuNnIpjkXQK8Q4kS+G8sw4wWnSTJOxE4WTROA3xCRDnlD+IMQ4jEi+jgACCHuBPA4gKsA7AcQAHBLgdrLMOOCmpOVi40xTiKrwAshtgFYmub9Oy2vBYBP5bdpDDNxiLEHzzgQHsnKMDbgLBrGibDAM4wNOA+ecSIs8AxjAx7JyjgRFniGsUEii4YFnnEOLPAMYwMzgmePhnEQLPAMYwP24BknwgLPMDaI8ZR9jANhgWcYG3AePONEWOAZxgaJLJpxbgjD5AALPMPYgCN4xomwwDOMDThNknEiLPAMY4M4p0kyDoQFnmFsEOU0ScaBsMAzjA3iXGyMcSAs8AxjA56yj3EiLPAMYwNOk2ScCAs8w9hAjWTlLBrGSbDAM0wWhBBcbIxxJCzwDJMFq6azB884CRZ4hslC1JhwGwAsLxlmwsMCzzBZsIo6R/CMk8gq8ETUQkQvENFuItpJRLelWWY1EfUS0Rbj39cL01yGGXusETxP2cc4CZeNZaIAPieE2EREFQA2EtEzQohdKcu9IoS4Jv9NZJjxxdqxyn2sjJPIGsELIU4IITYZr/sB7AYwtdANY5iJQpLAs8IzDiInD56IZgBYCuDNNB+vIqKtRPQEEc3P8P1biWgDEW3o6OjIvbUMMw4kR/As8IxzsC3wRFQO4EEAtwsh+lI+3gRguhBiMYCfAXg43TqEEHcJIVYIIVY0NDSMsMkMM7ZYfXfOg2echC2BJyI3pLjfJ4T4c+rnQog+IcSA8fpxAG4iqs9rSxlmnIha6hNwAM84CTtZNATgVwB2CyH+O8MyjcZyIKJzjPWezmdDGWa8sEbtnEXDOAk7WTTnA/gQgO1EtMV47ysApgGAEOJOANcD+AQRRQEMArhRcNEOpkiwijp78IyTyCrwQohXAVCWZe4AcEe+GsUwEwkVwesasUXDOAoeycowWVAC79E17mRlHAULPFNQjnUFcLBjYLybMSqUqLt1YouGcRQs8ExB+ffHduHLD24f72aMCjOCd2k80IlxFCzwTEEZCEXhD0fHuxmjImpG8BqXKpigxOMCq3/wAh7a3DreTZlQsMAzBSUSizvet45ZBJ7TJCcmkXgch08HcKgzMN5NmVCwwDMFJRITZgTsVKwePGf/TkzUYDS20JJhgWcKStFF8A7flmJFCbzTg4l8wwLPFJRoTDheFJUt43GxBz9RiRg1+znLKRkWeKagFEcEL8XDrXMWzUTFjOBjfHyssMAzBSUSjyfNiORElGhwHvzEJRKT51jM4edavmGBZwpKMVg0StQ5i2biorx3Pj7JsMAzBSUSizu+4ytqKVXg8E0pWqJmBM8HyIqdapIMM2IiMeF439qaReP0bSlWIoaNxgKfDAs8U1CUN+pkTIF3aezBT1BUP4/TnxbzDQs8U1CiMZGl2PTEJ7nYGCCEgDG/DTNBiPBAp7SwB88UDCEEwkWRJpnw4AGetm8iojx4juCTYYFnCoYSxlhcOHqIv7XYGMCZGhMRdYzYQkuGBZ4pGBHLoBMnR/Fxy0hW69/MxEH19fBAp2RY4JmCEbEMOnHyo3NioBNbNBOVKGfRpIUFnikYkWhC4J0c9ZoRvC47VllEJh4qi4bts2RY4JmCYY3aHR3Bp3jwTr5ZFSucB5+erAJPRC1E9AIR7SainUR0W5pliIh+SkT7iWgbES0rTHMZJxG2RPAxB3uj1jx4AOByJxMPM4JngU/CTh58FMDnhBCbiKgCwEYiekYIscuyzJUA5hj/VgL4ufE/8zdMsUTwSjRcmrRoOIKfeES4HnxaskbwQogTQohNxut+ALsBTE1Z7F0A7hGStQCqiagp761lHIV1FKuTIyuzFo2L0yQnKjyjU3py8uCJaAaApQDeTPloKoBjlr9bMfQmACK6lYg2ENGGjo6OHJuamYFQFN99Yk+SJcCMP1aBd3LJ4HhcQNcIGnEEP1HhUgXpsS3wRFQO4EEAtwsh+lI/TvOVIXtaCHGXEGKFEGJFQ0NDbi0dhjcPnsadLx3AjrbevK2TGT3WPHgH6zuicQGdLALv4G0pVriTNT22BJ6I3JDifp8Q4s9pFmkF0GL5uxlA2+ibZ49QlAc5TESixRLBCxnBG0k0HMFPQGLcyZoWO1k0BOBXAHYLIf47w2KPArjZyKY5F0CvEOJEHts5LKFoDECyoDDjT7hYPPiYFHhVYMzJ21KscASfHjtZNOcD+BCA7US0xXjvKwCmAYAQ4k4AjwO4CsB+AAEAt+S9pcOgvPdwEQj8pqPdqCpxY3ZD+Xg3ZdRYn6ic7I3G4nEZwRsCzwH8xMMcycoHJ4msAi+EeBVZCr4KWUnqU/lqVK4Uk0XzpT9tw7wplfjJjUvHuymjpliyaGJCwKURNC3xNzOx4Dz49BTFSFYVwTvZ51UEwjEMhmPj3Yy8ECmaCF5A4yyaCQ1bNOkpCoFXEXykCCL4UDRWFLMgAck3XCdfeLG4EcGbWTTO3ZZihedkTU9RCXwxRPChqPMnqVYUi0UTjQtoRNDNkazj3CBmCOqaKQYNyCdFIfDKoolEnX/lhaLxoongky0a525TLC7g0gmGvjv6ZlWsRMwIfpwbMsEoCoFXaZIRB4sIYExxF40XhdUEFE8EH0sd6MQe/IQjUQ/e2RqQb4pC4MNFkkUTNmelKY6TtHjSJLlUwUQnwlk0aSkKgU90sjpbGMNF1FkMJB8PJ3dMKoFnD37iwjM6pacoBD6RJunsg1ssNypFMaVJypGs8m+O4CcePKNTeopC4IulVEGx3KgURePBGwOdzAjewdtSrHAefHqKQuATpQqcfXCLLYJPLjbm3GMzdKDTODeIGQLnwaenOAS+SDoni6WzWGG94To5uyEaSx7oxCIy8VABRFzwE5aVohD4UKQ4rA0z3dPhNypFUgTv4JtWTKgsGvm3YJ93wpFkB/LxMSkKgVcRvNOFMVxkFk1SFo2DLzozTdJQeBaQiUc06WmRj4+iKATejOAdHCUC1pILzt4ORaSIJt3WNY09+AmM9VxjgU9QFAJvevAO9nmBIozgo/HERNUOvujkSFaYFg17vBOPKFs0aSkKgQ9FpHcddngtmoQHL4rC543GBXyGwDv56SpqRPCJgU7O3ZZiJcmicfC5lm+KQuCLJYJXFg3g7IhXEY7F4XPrAJy9PfG4gK6Bs2gmMNY6VBzBJygKgS+WGZ2sAl8M5QqiFoF3sgcfjcfhYg9+QsOdrOkpKoF3uncdtgq8w59GAHmTKjEE3sm2RlzAyKJRfzt3W4qVYhlUl28cL/CqxC7g/ANrjeCd/jQCyBuuz10MHnzypNss8BOPSFzAo8tzjTvBEzhe4MMxq63h7Kg3KYJ3+LYAchu8Lh1Ezh7JGo/DKDbGHvxEJRqLw6s69Pn4mGQVeCL6NRG1E9GODJ+vJqJeItpi/Pt6/puZmWISRZVFAzh/WwBjiL8uI18nX3TReBy6Zco+DuAnHtGYgLcIOvTzjZ0Ifg2AK7Is84oQYonx71ujb5Z9isnWCBfRtgDyJuXWZXqhky+6WFxAL8Ip+/ae7C+abYnEExF8sWxTPsgq8EKIlwF0jUFbRkRyx6SzD2zSzcrBloYiEhNw6wSX5uwIPhZPLjZWDB78yd4grvjJy3hm16nxbkpeiMaE2d/DAp8gXx78KiLaSkRPENH8TAsR0a1EtIGINnR0dOTlh5OjXmeLonVbnD5oC5A3qWKI4KNxAY0StWiKQeA7B0IQAugdDI93U0aNEEIOqmOLZgj5EPhNAKYLIRYD+BmAhzMtKIS4SwixQgixoqGhIQ8/XVwWjdWDL5YI3qVrcOmaYy86IQRCUfn4rxdRHvxAKArA+XMoAIlO1UQnq/OvnXwxaoEXQvQJIQaM148DcBNR/ahbZhMV9Za4dcd3TIaLbKCT9OBl56RTLZrewQjC0TgaKryJWjRFEMH7DYF3+lMvkAjsfEUw5iLfjFrgiaiRjPwxIjrHWOfp0a7XLirqLfO6HD84KFREGUGAIfCajHydmibZ3h8CAEyu9CUsGoferKyoCL4ozjPj3PIWQd2jfOPKtgAR3Q9gNYB6ImoF8G8A3AAghLgTwPUAPkFEUQCDAG4UY1gpS0W9ZV49KQJ2IsWWRRONCbhdzo7gT/UFARgCX0QWjT+UKGzndFIjeK5FkyCrwAshbsry+R0A7shbi3JERb1lHhf8odB4NSMvhKJxaCQFxOlPI4AchObSNLh053aynupTEby3qNIklUXj9KAISNhMnCY5FMePZA1ZIvh8dK74Q1EMhmPZFywA4WgcZV55z40UxYUn4HE5O4tGRfCTKnxFlUWjLJpi6JBU6dGcRTMUxwu8KlVQ5nXlxdb45H2b8NWHto96PSMhFI2h3BD4sbA01rx2CFuO9RRs/ZFYHC5N5sE79aJr7wui0udCiUcvqjz4hAfv/G1RETwL/FAcL/Bqso8yryupLs1IOdE7iBO9wVGvZySEonGUeuRJOhadX99/ai8e3NhakHWr3GSXrkHXNAd78CFMrvQBQFGlSRaVRTMkTbIIDlCecLzAmxG8R89LylcwEkcwOn4WjRnBFziyEkJgMBJDMFKYbVWRoUcn6Jpzo6pT/UFT4KmIPPhiyqJR14qqRVMMWU75wvECrybcLvO6EBdDD+7L+zrwn4/vtr2+wUjMXOdYE7J68AW+8ELROIQAggWK4JS36/QIvr0vhEmVXgCwFBtz5rZY8ReRwEdSOlmdeq4VAscLfCKCN4QxpdPo6V0nce/aI7bXF4zEcorgj3UF8hYFJwl8gU9S1ZFcsAjeKLXg1jXDg3eekMTjAu2WCD4xZd94tio/qDTJsUjHPdYVwJJvPY2DHQMFWX80pZO1GPpI8oXjBd4awQNDT9jBcDxpAFE2gjlE8JFYHFf8+GU8sO6o7fUPRygaQ5nhwRd6hOFgpMACbwi6GsnqRFujOxBGJCYwuUJG8MU0kjVRqqDwd6vDp/3oCURw+LS/IOtPTZMshjEk+cLxAh+OxaBrZB7c1EfOYCSGWFzYehSVy4mkmjDDEQjH4A/H0DmQn4JN4TG0aAIjiOBbuwO27QnV/kQE77yLLpEDrzx4AlFxCLw/PHYWjXpaLFSHboQHOmXE+QJvFIJy6zK8Sk37UpGqnSg+aEa19k7EYB6jYFXUqtwU+MKepLlua1vPIC78/gt4dX+nreVVFOXSnDuS9VS/kQNvePCAzKQpCoEfwzTJXK7BkaD6e7hc8FAcL/ChaBwel6xYCAwduKGih5ANEU6ciPYE21x3Hk5cdaFlsprscP+6o/jFSwdsLZurRdM5EEJcJKLabKhHfycPdGq3DHJSaERj7sG/sLcd7f35Td0dyyyaxDVYIIFXWTQuzoNPxfECryJ4l2GQpgpjYAQRfCQmbJ0k+fSx1U2lxK1Do5FdeH/Z2oY/bzpua1mzkzXnm5m95RMRvDw2TvRF1c3MGsFr2thm0URjcXzsNxtw7xv2EwXsrFM9uY2FwCs7MFSg34rEOILPhOMFXkXwbj2DB59DlG0VajtCZtoceYjglT/pdcunkZHUogmEY2ZkZmdZIAc7ymif3eUTHrxzO1lP9QVRU+o2I0NARfBjty3+kOxD6ujPX50lv6UUx5haNAXq0E8MdNKT/maKQODD0Tg8ekLgUw9uLlG2VbzsCFk+T1x1A/LoGtwjjHgD4ajZeZaNXPsPco3gkztZtXHv+Np8tDvnJ63TA2HUlXuT3pMefD5bNjz9oYhsiz9/My/5LUHAmHayjlEEzwOdEjhe4EPRGLwuHS6jkzW1p34knaxqvXaXz3cE73ZpI0qT9IdiSRfvcORqL6n9YT+CT+TBFyKCP9UXRO9gxNayPYEwrvv563h4sz37StEdCKO21JP03lhn0ah89dMDeYzgkwS+8NsSGGMPniP4BEUg8MqiMTz41Ah+BJ2sgM0IPqxsi3xG8DpcmjaiqdQGIzFEYsJWOpraL7b7G3LYj0AiN9llzuiU34v7o2vW47tP7LG1bE8ggrgAugK5RcE9gQiqS91J7+na2GbRDBgRfJfNCD4eF/jTxtZhAwRl443VLGjquipUBJ+aRVMMWU75wvECn+hkVYMcEieRqrcC2I3grRZNLlk3eYzgjZvVyCL4aNL/w5F8M7P/tGJ3W9VIXDOCz3OkeKoviA6bmSVK0HItA90VCKO2LDmC18Y4TXJARfA2BX7zsW58/o9b8cbBzJOqqaeCmlL3GFk0cv8XKoJPzYN3Yod+oXC8wCfSJIfmwVujUzvCNJhk0Yy1By/XobYl18fMWFyYbbbT0WoVO3s3s9yeVlQ9e7cuywXn+7G5Pxg1H/2zoZazuzwgg4OeQBjVKRaNpo1tmuRAUB7L/mDU1pNZX1Dd5DNvqzo/aso8YzLvQK7px7migiGP0Q833v09EwnHC3xioNPQPPiRRqm2l89jPZfkCF7L+XE2YOlctdPRmrRvchoEZtOiMUsV5N+Dj8Rk+Qm/TcFWTzS5CLw/LO2umhSLRqOxTZNUFg0g+wSyEQhlF1O1P2pKPSOyAnMlUOCRrCp4cJkZW0VQLChPOF7gVSerKfCWE9YapdqJyEM5RvC52hbD/rby4F0a3FrunaxW8ZoIFk3Y7GQ1JvzIoyj6TcvFXofyQI7LA0C3YYnUpLFoxjJNcsASiZ+2URIjYMMOUQFAVal7TGZ0yud1ko7UDn3uZE3geIEPxwyLxhjoZI18ky2XXDtZ7S+fz05WlRGUq49oFfiBYR7PFblbNDlG8DFrBK9l9eD/uOEYvv7IDlvrHsgxIh9JBK+i5ZpUiyYPaZLBSMy2XaEsGgA47c+eSROwMYDNtGhK3WNi0RQ8glcd+hrJNFYWeBPHC3wokmLRZIrgbXTwWDtZc/Hg7aYODofVgx+JRWON2m1F8EkCn/+nlYiZRaNB17Knrr2wtx2Pbm2ztW7lL9sVbDOCz+FG3B2Q1sgQi0YbfZbGP9+/GV/44zZby1otGjuZNH47EXwoCl0jlHvdYzPQKccxFLmiOvR1rTD9PaNh36n+JPt0rMkq8ET0ayJqJ6K04RVJfkpE+4loGxEty38zM2NG8GaaZKYIPrdO1lxsi2A0NmpfdmgWzWgi+PxbNLl2sqqbhtdlRPBZLrrewQh6ByO27A8lenYvnFxvCEBmiyYfxcYOn/bbLp07EIrBY1RKtWXRhLI/aflDsiy1RyeEY/GC9ykUPE0yFodbJxARdH3iRPCRWBzvvONV3Lc2P+XER4KdCH4NgCuG+fxKAHOMf7cC+Pnom2Ufs5NVU6UK0kfwuXay2sqbN9YvxOgHjIQsAu/StJy90aROVpsCr+Z/zelmZvNpRd1kyr0uI6oa/nt9g1EIAfTZGLw0EEq0xc4NQe2bfFk0o/Xg+4NR24O0BkJRNFX5oGuUWwQ/TEAzEIqi3Osyn3oL3adQ8IFOcWHOtqXTxIngB4JRBCNxdNqw1gpFVoEXQrwMoGuYRd4F4B4hWQugmoia8tXA4djZ1otAOIaW2lK4XarY2Mgj+GAkbg6WyDniH+HjZzASw3f+ugvHugMAEh58rtkNVvGyI2SD4ZgpXrlZNPZ9b1WnXw4OGj77RAlejx2Bt/jSdmyXhGefQydrIAIioKok1aIhpG7GoU6/bXsJkDcx2wIfjKDS50ZNqdtWLrydmbr8oSjKvC64XUODokJQ6Ag+EoubAd5YD0QbDvO8s9EnVijy4cFPBXDM8ner8d4QiOhWItpARBs6OjpG9GP7TvXjH+/ZgIFQFPevOwqvS8M7F08xBzpFRtHJGozEUF3iMV9nYzDHgVHpWH+4C7985RD+75VDAKQH79FHl0Vj16KpKZPiVYgIPhCWNgARmR3gw0WKfUEpeHZSAa1PKHZEeySdrD2BMKpK3GZkqNBo6Hbct/YIPvv7LbYi4WhMpnf2DUZsWQn+UAxlXh21ZR502YgE/TY7WcssEXwhZ3WKxRMjqwtZqkBZtPoEqlzaH8z9vMs3+RB4SvNe2j0shLhLCLFCCLGioaFhRD/WORDCc7tP4fN/2IqHN7fh6oVNqC71pJ3wI5hjmmQwEkOFzwWiEdSusXHyDoSi+NZfdpliBgCHO6UXq8TBHOiUcwQvTyYi+52sZgSfQ4aR3U5WZQMAgJ6hjIQiHhemNdNjQ+D7LdtnZ3SqsnRyGcna5Q8PsWeA9CNZVd+BnXox6uYbF8CAjZtTfyiKcq8bdWVemx589k5WdWw85jVTOIHPNcgaCdF43JwPYiJVLh3Jk2O+yYfAtwJosfzdDMD+82qOnDe7Hp97x1l4cudJDISieP/KaQCQdsIPtWNLPbotAR6MxFDi0eFz6bl79jZO3vWHuvDr1w7hr9tOmO8d6gygxK3j7XPqUe51yUyAEZQLVh2JtaUe2xF8dU4WjYrC7Fs0avISnYaP4P3hqJl62O3Pbl0kZwxlb4/fcqHZ7VBMV4cGSC/wKlKzMxlK32Ci7b0Be9ta4XOhttyTkwc/3OC1gaAUeFeazLN8YxW3Qk7Z59YSEfxEGcmqkgHsDsgrBPkQ+EcB3Gxk05wLoFcIcSLbl0bDJy6ajasXNeFtM2qwfHoNAJg2QFInqyFK1SVu2xaNz6XD69bsefDhmPnkYEckO4wI76W9CXvqyGk/pteV4s4PLsefPrEKgBxynWtUNRiOggioK/fkEMHbt2hynSBkIBRFqRJ4bfgI3upH52rRDEZsWDThRNRs9wmkO5A+glf9CVZUSd9Tfdlr41if3uz48NJO0VFX5rHlwSc6NDMfp+5ABDVl7oxzKOQTdd6UuPXCTdkXS47gJ0onq2nR2KzwWghc2RYgovsBrAZQT0StAP4NgBsAhBB3AngcwFUA9gMIALilUI1VaBrhf96/DPG4ABnRYdo8eOMkryxx26zvHkdVidt2BD8YiaGqxIPOgZCtG4h6xH5tf6fsGNI1HDrtx5mTKlDmdWFuYyUAjGgGJH84hlK3jnKvK2tUq4qwVZe4pR1lY1vV9qn6Pqne9JD2hKIo98osnWwevDWq7bER1faPMIIHpOCoolTD0e0Pm8fDSjoPXl3IJ3MUeFsZQ0Fp0fjcGnoHI+Z5kwm1rZkieGuNHRWcFNKDV9dgdak7qXM8n0TiCQ/epU2cNEn1JD2eEXxWgRdC3JTlcwHgU3lrUQ5oFpHRNYJGyRZNMBJDiVuHz63bEuBQJAZfhRc+mxF80LA5OgdCtm4gyqPtD0Wx+WgPlk2rxrGuAN4xrzFpOZeu5ZzZEAjLiLnM6zIFJxNq20o8Lnhdmq1MlOSyDzGUeoY/dQLhGOqNyTL0DPPlKkYTwdvpwPKHYtBIRvCBSAw1Wb9hRLnpLJo0WRpqf7fbEXjLzcwq9ukIRWMIx+Ko8LlQ6XMZ7QonzRGbSrYsmoFQFNG4rLHjGYMIXh2fqhK3rT6EkRC1ZNFoEyhN0l8kHvyEwZUyAjQQjkpPPQfBLvHo8NqN4HO0OU77ZflZl0Z4aV87TvQGEYkJzKgrTVrOrVPOF10gLPPayzyurBZNwHxs1lDi1rPenIQQCEbjZqepnZuZtZNVRfCZuhWsQmc3TbLMyOG3ZdGEoqgtkzcbO/VogpGYkWVkr5O1P6gsmuwefH8GiyYcjQ85burppMyjo8EQ9X0nB4Zdv4oWM53vPeYIXY9pa0SihRNElehQXeou2KCqQUt6s2sCDXQasFHZs9AUlcCnTnU3GI6jxC0F225eu88lbwh2RM/aUWln/Z0DIbTUlmLZtBq8uLcDh4wMmhn1ZcnbMYI0SX9IRtVl3uwCryJ2efPLfjNTtozqdLTzNJTUyWp68MNH8JMqvLayaAZCUUyq9Bm/k92O8oejmFQhBd5OxG8VwVRkrZPk98xOVhv16fssT1dqu9t6BnHZj17CLXevT1pWCUS5z42LzmzApAovfvzsvmFFMlFsLP12qo7aGmvmWQELjqn9rdKPC+HDd/lDZt3+iTTQSVmJuRS5yzdFJfCuFGEMRmLwuTV4XZotn1kNdJI3hOGXD8fiiAvZgat+KxudA2E0lHtw+YJG7Gzrw2PbZLLRzBSBd+lk1tewy2AkilKPjnKvnjWLRj3G+wz7Klu5YNWxWm0+rWS/SP2hGEoNDz5bFo3yomfUldnKohkIRdFQoSLy4ff7YCSGuIC5vB2BT4jgUIsmdcq+cDRuitbJXjsWjdw+XSP0DkbQ0R/CTb9ciyOnA1h3uAtHTwfMZROjgXWUeHTcfumZ2HCkG8/ubk+77nA0blp7mYTUHKFbZrFoClhwzOrBD9eu0dA1EDaf0CZUmqTqZI3Exu2poqgE3p0ijHI4vgtemz34g5EYfB6ZRZNNxNTn6jHergdfV+bFe1c0o9zrwh83tqLErZvRpbkdmsyi2XuyP2vEppARvI4yrwuB8PC1cdTNqNTw4LPdnIJDorAsN79oHOFYHOWGT+/KkgffNyhHjTbXlNiK4P0Wgc8m2EokE8tnj6ZUG1In+wCGjpRUlotGQHu/HYtGWldVJW70DkbwyJbjOHI6gJ/cuAQA8PiORAJaQuClON6wohmz6stwx/NvpV23ddsyHVP1dFJd6hmTkayDpkUj92W+UyWFEDjtD6Ou3IjgJ5LAG8dPiJGPdB8tRSXwrpQ66oFw1LBoskfwcWPEnc9lz9JRF5Aayp5N9OJxgS7jRKz0uXHDihYIAUyvKzUzgRRuXYMQwJ83teLHz76V1DGXiUA4ijLDoolaZndKv2widc2ORaNuXlU2I3hlEaVaNBkj+GAUFV4Xass8ZhXH4RgIxVDpc8Pr0rIKtrJwVIevnQj+T5taoWuE6Sl9I8DQcsHKnpleV4YufzjredAXjKDS6DTtHYziaFcAlT4X3rVkKhY1V+Hx7QmBV/ux3KdulBounTcZe072p72BK//dM8xNWz2d1JZ6LKnFhbRo5DbkYu/ltv4YQtF4wqKZgAIPjJ8PX1QC73alePCRuIzIXdk7WROZJUanbBbRGwzbsy02He3Gnze1oi8YQTQuUGcIzS3nz4BG0pZIRUW8rT2DAICOgeyP/qqTVXVspvPh97f345IfvmiOni3xaMa2Dr9vzMdsm3aUyjtP7WTNlPrZOxhBVakbNWUeDEZiWdc/EIqgwudCqUfPKtj+IRH88Ms/s+sU/rzpOD61ejamVJcM+ZxS0iSVwM9uKAcAdGSJ4vsGI6gscZsR/NGuAFpq5Y3kqoVN2Nbai2Nd0qbpt1g0iuaaEoSi8bS/o7ze2lLPMJ2sYRDJ1OExyYO3jEUB8h/BmzcsQ+BdmjZhBjpZs9nGK5OmuAReS86iCYZjKHFrRpqkPRHzuTRbEXxC9IavXfMff92Nrzy03Xx8rzceJVtqS/GD6xfj46tnD90OQ+CPd0uBt/PoHwhLz7vMFPih7XnzUBcOdvjx3J5TAIAStws+t541TVJtW43NDmUz+8OM4Ief7b5vUBbUUjfL4QYARWNxBCNxlHlcKPW4chb44Tz7aCyOrz28HXMbK/DpS+akXUbXKCl6VhbNGZOkwGfLpOkPypGplRaBn2YI/NULZY2+z9y/GTvbehOdrN5EX0BLjVxWFadL3lZjNHOZB8FIepuuOxAxa+x4xsSikdtQWVIYD14N/qozBF7L40Cnt07147gRZI2EgVDUDG44gs8DqTVcTA/epWV9NFQiJjses/vSShRLvbp8JE6z/va+IDYe7UYwEsemI90AElYBAFy3vBlLWqqHbochiK2GwGeLCgEjD97jMqO9dB2tx7rk+tYdksVB7ZZlSO0oyx5hK4vG6GQ1zrLhRrJWlbjNm2W6XPhoLI7fvXkUXcZn5WYEn8WiMT5vsGHRbDnWg1N9IXzmkjmm+KWiUfJQeJUVkxD44Z+2+ozqkFUlbvQGwmjtHjQFvqW2FD+5cQmOdQXw7v95HTvaegEk9qNcRj5VqGOZblvryj2Ii/T7u8syQndsIviYaZMChYjg5bWRiODzlyb5mfs34z/+unvE3x8IWpIBbKTzFoLiEviUOuqDETlq0evSzVS/TOSaOhi0+tiu9DbHUztPmqVlX93fCQBmZ9BwqM6vTmNgVDaBj8UFgpG42ckKpJ94W0V9yucuUTczmze/KrsWzRAPXtUdT39x91lK4gLp69E8u7sdX3loO/60sRWAtC3sWDQDpgcv9/twKWsv7+uArhEumFOfcRktJU1yaARvQ+ANi+ZY9yDC0TiaaxNe/7uWTMVj/3wB4kLgQWNbyyyDyppVBN81NIJXZWkTZaCH7pueQNjcz2MxklVZh16XvEnlPYIfUBG8FNJ8DnTq6A+hrXd0EbxKoOAIPg/IAULJE36UuGVWDDC0g2d/+4CZ2qYuBq/Lnmdv3hDcupGlM/QAPrnzJKbVlkIj4PUDpwEkR/AZtyOlDEA2gVdRrLItgEwRfLIolLhl+l32jKHkTIjsFk2iPYBND77Eba4/XSbNS/tk/Z43jP1Y7nWjxKNnTZO0dlSWuIe/Iby0rwNLWqqH1IC3oqWkSar9PK22FG6dbFs0VSVuM+CYVpvcmdtUVYJLz56MkDG4zDpi2+fW0VDhTW/RKA9+mMyubn9kzCN4n1s3n4gK5sGX5zeCF0Kgx0hjHQnxuDH+whivwR58HnDriQheDUQq8Wjm42FqlH3LmnV49/++hpO9QfNiUBF8NC7SDjbqDUTwuzePpkT8Q9Mqu/xhrD3YhWsXN2FmvcywIEo/eCYVV0qtkWwnmVnQKUsn67GuQJJ42R21q7bNzITI2skqPy+3m0UzGEVlicusT5+aSSOEwMuGwK8/LO2lMq8xajflwglGYrjtgc040CFHfKr9IAeB6QhkaPvpgRC2He/FRWcOX8Z6aJqkXH+Fz4WmqhJsOtKdUWCEEOgPRk2LRpEq8ABwk1El1WrPKFpqStJaNOo8SPSVpI/gq1MEvpDVJAfNCD59kDVauvxheFyaObJZtzF7mB36Q1HE4gKdA6GcRt9uOdaDa3/2KjoGQhACmFzJEXzecOlkDrtWloxKBQSSI89jXQEc6xrEid4gblmz3qwTIztZM8/q9Ns3j+ArD23H5qM9xvLSx7aeuAOhKD513ybEhcA1i6bg7CZZtKq21JO1SBeQeHQGZNZGtk5WJahlXt0UhFSB7w9G0B2I4PL5kwHIC8Gtk+yAtplFU2NzsIo/xYM3I/g0wheOxo2ibW5TmB5YfxSX/+hl84njUKcfx3sGUV2aKBpX4XOljeA3HenGI1va8MKedqMtieH+w0X8r+7vhBDIKvCpU/b1ByMocetw6xr+8cJZWHe4C2teP4wNh7vwhCXlEZB2RSwuzAgekMd3SvXQ2jJvP6MeU6tLzJuklZba0gwRvNHJWp45gu9KY9EUuhZNqScRwReik7WuzGOmGucrTVKVcg5G4rbKbyte2NOO7cd7zUBkcgVH8HnDbamjnoiwXWmjB9XR+OUr52L3iT6sef2wsXzihpAust1gHLiNRqepz6MNGRj1sd+sx7rDXfjRDUtwdlOlKfB2/He1HYqZ9WVZI3hrlKoEYWdbH9p6Bs1tVhHf2+c0oMIr7Qoigs8tM4/SXRR7Tvbh3jcOWzx4e7NdDWTKg08TCak6NJUlbviMapjbWnux91Q/ntp5EgDM6P2W82aa3yvzpk+T3HysB0Cig9ofjsLn1uDSNZS6XRkvtOd2t6Om1I0FU6uG3bbUKfuU5QIAH1w5DZeePQnfemwXrr/zDXzivk04aDxJvHWq3+w8Vh48ADRV+kx/OvV3fvDeRfjC5XOHfNZSU4oTvcEhT5iqLG1thgg+GIkhGImbg/PGYkanRD9Y4SyaWkvNIFee6sFbq5p25lAkbb9xvLcflx3kk1QEP04VJYtK4K1ldq11qNUFZBXhNw+dRlWJG7e+fRbmNVWaHrn1ZEyNNuJxgQ2GsO80MhxkJ2vC5ugcCGHtwS7c9ndz8PdL5cyFcxsrANjz39V2KBZMqTLryFuRQ+Tlb5oZPYZF01DhxT1vHMF5330eZ33tSdxy9zoz4pteV4oFU6tQYjzSJp5uhp6A//n4HvzrIztNn7PC54JG6SND64VrnY8VsAh8GitApUQqwbvr5uX4y6cvwKyGMrNj+uW3OjGjrhRXL0pM9Vvulf0NqRbNFlPg5fZai56VZOiU7fKH8eTOk7h28ZSsT1gaJd+orAJPRPjedYvwriVT8NWrzoZGwIObWrH+cBcu+9HL+MVLBwEAlT63mTbYksaeUZw3ux5XLGgc8n5LbQlicYETKaUR/OEYPLpmPjmlHqfUicTdY1BszLRohjnPRsPpFIHXNEp7nuVKz2BC1DttzNSlONAuBX6HIfC5DLArBFnLBTsJl2WijEQEr2WM4N82oxaaRrhmcRN2negDYFguGSL4fe39pueqOnNVPRf1e3tP9gMAlk1LFKWda0bw9gReXXilHh0z68vw6Na2IXXAb1mzDttbe3HDihYz6iz1yFl6Xv7CxdjZ1os9J/vx+oFOPL79pCkk02pL8eHzpmOP0U6fsW/khZg4HU72BvHKWzJy3tkm943XpcYUJPZLlz+ML/5pK57f044L5jTg8+84UxYaM+ZjBYaf8EMJfKVPCt55s2UGy9vPqMcfNrTiRO8gXt3fifefMw2z6stQ7nWZol1qWC4723rxxPaT+Nw7zrQIvBHBh6LmdmXKuvnjhmMIR+P44LnTsx4bPaWaZF8wggpfwk+vK/fiJzcuBQC8fqATD248jvWHZFCgMoCsFs1wAp+JFksmjfX7smS0xZJMOX9Ta+ykK7E9Wo51BfClB7fhZzctRV2515wlTdW9KUSa5EzLiONCRPB2O1qjsTgOGoMIt7dKga8sccvzbpwm/SiqCN6tJ1KkkiJ4d3JEfqoviMOnAzh3Vi2AxAATwLBcDNFLjYDWH5YXqvJp3TrBrWtJ9VyUcJ5lRO0AMKXKh6nVJZhVP3TUavrtkL8/udJnPuJZo4itx3rw2v7TaK4pxZrXD+NLD24DIAUMkJHqihm1+OC50/GVq84GAPx+/TFUGDVQrljQhNsvPVNur7qZpVx4D20+bg7J33G8Fz63Zlg6iaybbn8YV//0Fby8rxPvXd6CHcd78a8P74A/HEvyjl1mmmQagQ8oiyY51jj/jHoMRmL4wh+3IRyN40OrpkPTCAumypulsmiicYFfvXoId7ywH3/c0IqO/hBK3DqOdw/KSpKWqpapAt8XjCAQjuJ3647inBm1OHNyBbJBQ9IkExF8Ktcvb8HJviDWHe7C3MaKpAlolMCn62DNhhL1VB/eH4qhLMmSTD6m1jo0CndKie3R8pdtbXj9wGlsbe0BoDLZXEOuwXxhLTQGGBF8Hjx4ayaX3Qhepb0SJcZHJJ402aIZNdYyu2pggc9i0ajOxDcN//2cmVLgp9eVYaERBfuSOmXlQXlwYyt+8dIBvHnwNCZXenH5/EZzWfW/Evh9J/tRV+YxBzgAUhQev+3t+NTFZ9jaDlWqYFKF15zcwRpF3P3aIZR7Xfj9P52L+z62MiniT6W5phTLplUjZORbp9a9Sfe0IoTAnzYew5KWaugaod0QTQBJN7O7XzuEE71B3H/rSnzv+kW4btlU7DnZj77BiCmqwNBywfG4MNextbUHRImh/opzZ9dB1wiv7u/ExWc1mJ+vmlWPyZVeuHXNjMxfeUtaOf/+2C4AwN+dPQn9oSj6BqNGtK9ufC4MhqNo6xnEF/64Fcu+9Qzmff0pHDkdwAfOnTb8QTG3BUOKjWUS+L87exKqStyYWl2CX968Asr9kRk3Ply3rNk8l3KhqcoHXSMc6kwWeFVRNNMTqLJorJaGR9dysmh++PRe/L/fb8n4+avGsWjrkfZRXzCCcm8igs+nwAcjMfjDsaS+LVfeBF7eDInsR/D7DXvGOnix3Gtkb41TJ2txWTRaYiakTUd6AMhaL6ojTwn2piPdKHHrmNeUmJLtpnOmof25fSi1RPzBSBz9wQi+/sgO8w589aImzJ8iv2eKnmVCkT2n+tNGgsPlVqeishsmV/rMG4U6yVq7A3hs2wncvGoGKnxurJxVh/v/8Vw8tPm4OQgmlWsXT8Gmoz1oqRlaW8VnbmuyfXWgw4/vXbcQfS9FcLDTn3QzC0Xlflnz+mFcPn8ylk+XN8q5jZUIRePY2daXdIOzTtkXjsbxoV+9iUA4hkc/fT5eeasTi5qrh1RurPS5sbi5CpuO9uCjFyQ6Vz958Wx8+DxppagbWkd/CI2VPpzsC8Kja7hs3mQ8tu0EjnUHsL/djwuNgUulRh78p3+3CTvb+vCBldPQUOFFOCZwleUpbjhSs2gGQlFUeNMfW59bxy8+tBzlXhdaaktxwZwGvLyvA5U+N1y6hh/esNjWb6bi0jUsaanGS/s68OUrE52wskRz5gi+26xzn2iv25Xb/L8v7u3A4dN+CCGGBAuD4Rg2GE+5J3uD6AtG0B+MYkp1ybCZaSMltQ4NkL+BTj2DESPzymU7glcCf+nZk80sO1kzKfs0moWiqAS+vtyDjv4Q2vuCeGTrcSxqrsKM+jLTF1fWws62XsybUpmUb/7+ldNw49taoGlkGXUXw0Obj8MfjuFjF8zEPWuP4NKzJ+GsxgpolBrBxxGPC7x1qh83rGgZ1XYkLBqvKZTHugK47YHNeGL7SWhE+Mh5M8zlFzZXYWFz5uyPqxc24d8f2zVkYhHVdiDZjvqfFw+grsyDdy6eimd2teNgp39IBH/v2iPoC0bx6YsTNVvmNskb2/GeQcyoT9xsrHnw//H4bvMJ6sV9HdhyrAefTFOPBwA+sHI6mqpKcMEZiZGlbl0zbwYllieWb7xzHm7//RbMbaw06+u/eagLnQMhLDUmZi/x6DjtD6O9P4SvXDUXt16Y/neHQ9MIPYMRnP/d5/G+t7UMa9EAwLmz6szXn7hoNtwaJQnSSLlyQSO+/dfdxqTtcntlRdHkCP7pnSeha4SLz5qEtQdPgyhRFRQwEhNy8OCPnPajPxiVcxuklLled7jLtHvaegfNWkrNNfLJ0aNnLxmSC+kEPp8RfHWpBxU+V04R/KQKr+kGANZsL47gR837V07DL185iK8+vAM7jvfha1dL/9nayRqPC+xq68N1y5uHfF+NGLRGtfe8cQSLmqvwtWvm4YtXzIVbJxARZjeUQzMiGFWO+Fh3AIFwzMyaGSnKs55c6TOH2N/xwn50DoTxkfNm4KZzpmFamlK2mZhU6cNvP7YScyYNbddUo2Li5qPdWD69BluP9eDlfR344hVnocSj44xJ5Xh29ykzC0LV1v/zpuNYNasu6cZyxqRyMw/ZOrxeCfyL+zrw120n8P6V0/Dw5uP42kM7EIsLvH1O+tzz65Y3pz1OCutI2YvOnIQfv28Jqko85pPMX7bKCVWWTasGICP+WFyASD7VjIRKnxvhaBx9wQjufu0QAuFYUifrcKyaXYdVs+uyL2iDy+dLgX9ix0l8/CJ5o/KHYphS7U4S+K8+vAMd/SHMaijDwQ4/Prl6dlJaplvXELZp0fQEwqa3fKBjYIjAv/pWBzy6hjMmleNET9Ds6J5qPDl6XVpeO1lTC40BgK7nKQ9+MIyqEjfqyj3oSJMm2R+MoNzrSnqK2d8xgDMmlZsBhs+tGVaijv5gFJuPdqOjP4R3jMCWGylF5cFPryvDtYun4Jldp5IuYmsHz5GuAPzhmGmzpENdAPevO4b97QP4kJFd4XFp5gH9wMpp5mO9si32pulgHQm1ZR5oBMyeVA6vS0d1qRudA2H8/ZIp+MY7549o/efNrh9yQQLAnMkVWDatGve9eRTxuMDPnn8LlT6Xuc2qxkqJsQ99Lg09gTAOdAyYfRgKr0vH7AZ5cid3ssp99tSOk6gpdeMb187HlQuacLxnEGUeHUsNAc4VZdHMn1KJEo+OKxY0YdXsOtSUulHi1rHlWA9K3DrOMiwztfzbZtSiqWqoXWWHT148G8989kL89KalpuUxXARfKFpqS7FwahWe2HHSfE8VnFMBjT8cQ+dACHMbK9DWM4gvXnEWvnD5WUnr8eRg0Ry2zDZ1sMM/5PNX3urE8uk1mNlQhpN9QRw3OoGbDYH32CgBkgsqsrZmp+k0vMALIfDdJ/aYpS8y0R2IoLrUjYZyLzpTIvh9p/qx/NvP4vzvPo87nn8LQggIIXCgfQBzJpVjSnUJPLpmVgEt88jxF99/ci++ZfQTjRW2BJ6IriCivUS0n4i+nObz1UTUS0RbjH9fz39T7fHJ1bIjc9WsOkw26kAkOlljZv76/CmZLQ2VR/zSvg6smF6TNtr7yPkzcdul0p7wuXSEY3HsPiEF3k42xnA0Vvnw6pcuwWojW2dShRcVPhe+evW8Ua03EzevmoFDnX7c/vsteHZ3Oz6+erYZlSrBVnaI161j94l+CAHMS3OTnNuYyHJRWNMkr1jQCI9Lw3tXyMh81ez6pPTPXFBtWja9Jul9IjJFZVFzlWnFqU7Zdy0ZWfQOyAh+zuQKXDinAY3G+TUeAg8AVyxoxNZjPfj2Y7vwrw/vQGv3IMp9CYFv7Q5ACHl8d37zCnxy9RlpJpexP8H7kdMJUVcDuBQd/SHsOdmPC+bUY0qVD209gzjWPQifWzMj7HxH8LtP9MHr0pL6lrKlSf527RHc+dIB3PnigWHX3WNU3ayv8KJjIITewQie33MKQgj8+2O74HNpaK4txX89vQ+HOv040RvEQChqPsVOqys1O/dLvTKC39bag26//UFT+SDrmUlEOoD/AXAZgFYA64noUSFE6q3oFSHENQVoY06c1ViBH1y/yBw9CiQsF9UB6NIIcyaXZ1oFmqpK8N83LMbM+jIsaakeclGkop4QXtrXjhl1pUniNlKsk038y1Vnw6traSPwfHDlwkb8+2MePLq1DRef1YCPW7zp2UYE7zNukj5XIq3O2kmtOLupEo9ubUvaB8pyAoBrFklxXTmzFjesaMY7F08dcbsbjWySdOUFmmtK8Fb7QJL4n91UiTMmlSelxY4UXSO8Z9lU/O+LB2xbNPnmhhUteP1AJ+5ZewQA8M4lU/DxC2fDpWtwaYQjRsTdWOXNOIDLpdmP4NX6ZtaX4WCnH93+MNa8fhifWD0brx+Q2TNvn1OP9Ye7EYrGseN4r+m/A/mP4Le39mJ+Sl+aGmkcj4ukIm2AtJW+8/hueHQNG450JaXQAjJ9+iN3r8dPb1xiTkLTUO5FOBrH5/6wFc/uPoWFU6uw/Xgvvn7NPLxtRi2uveNV7D3Zb2qA0p2lLdVmiZEyjytpUFo4Gs9Yjjrf2FGicwDsF0IcBAAiegDAuwCM7bNGDrw3pZPTmqK1s60PcyZXpB0ebuU9yzJ7v6mowUKbjvbgi1eclWXp3Ln4rEl5X6cVr0vHZy45A49sbcOP37c06cKo9LnRWOkzLwTl71Z4XWaUbEV1tFpnIdKNrKD6cg9WGrYOEeH7148si0TRVFWCTV+7LKnTUKF8+KWWlLVVs+vw7P+7aFS/aeUD507HGwdPD2v3FZKGCi/u+9i5CEVjiMZEklj53LopyCrVNh0yi8aeZ33kdACTK72Y11SJnW29WPP6YfzkubfQXFOCNw91obrUjflTqszO1S3HepI6mb0uHeEsnazpsnPSEYsL7GjrHZLQYGZsCQENyev55csH4dI0fPs9C3D777fgjQOncem8yebnj207gd0n+vDs7nbZyVriRn2FfPp4dvcprJheg23HezG7oQwfWjUdsbiARsDuk/3mU9OZhn36nXcvNNebmr7cEwibVSYLjZ3byFQAxyx/txrvpbKKiLYS0RNEND8vrcsTKqIJRmLYebw37xekEr2qErfpXTuNj5w/Ew998vy0YvmTG5fgM5dI60udyGc3Vaa9EOc3VUIjJA0+cWkEImkppFbKHC3p2gsAsxrK4NIIS6fVpP08H0ytLsFDnzx/RKNR84nXpQ95avS5NbOWeWNVZjHx5GDRHO2SGTuzGspwrHsQD26SI3N/t+4oXn2rE+fProeukfl7oWg8KQiwphOno6M/hOXffhZP7zw55LPXD3Tiaw9vN9t6sGMAgXAsKWMFSCRKpPPh953qx4KplbhyYSNKPfoQH/6ZXSfN34rGBapL3WapAa9Lw88/uBzPf+4i3H/ruXDrclT3jPoy7DnRh90n+tBcU2KOyPa4NDNKt44QB4ZWSy0kdiL4dLfT1L23CcB0IcQAEV0F4GEAQ+Y8I6JbAdwKANOm2RtYki+8Lg17T/bjtD+MBXkWePV4dsv5M8btcb2QrLREYepmls5/B2TGziOfuiDJAvO5ddz1oRVYMb1wYpvKTedMy9ix/LeA16VDCOmx1w5Totqt59bJuvrMBsxqKEMsLtDaPYjFzVVmzreaKMVqL1rHZnj04T34dYe60OUP47tP7sElcyeZwcCrb3XiH36zHqFoHO9cPBXnzKzFNqMUwKKU9OBMlUuFEDjQ4cfVi5rgdelYNasOL7+VEPieQNgcqa4KEVaXesx+vA+snJ72XDq7sRLbj/fC49LM/qdUVJ+eKrORbr6DQmEnnGoFYH0OagbQZl1ACNEnhBgwXj8OwE1EQ6bFEULcJYRYIYRY0dAwfFnWfON163huTzvKvS5clGfLY8X0Wrxz8ZSkaofFiorg0/nvioXNVeaNQHHZvMlmFcOxwOfWR53N5GRU0DGpwjfEi7bi0jWEbVg0gXAUHf0hzKgvw6x6lVml4473LzMtUDVeob7cawrtcBF8at38LcekwB7s8OORLW2IxwXufu0QPvqb9ZheVwqixIQv24/3otSjY1bKCGg9Q1mMLn8YvYMRs1zIRWc14MjpAPadkokRL+xtRywucPXCJrON1SVuzJlUjh9cvwifvSz9HL1zGytwtCuAgx0DOLsp/fmmIni1f8Yygrcj8OsBzCGimUTkAXAjgEetCxBRIxnP60R0jrHe0/lu7Gio9LlQX+7FA7eea+ap5ouW2lL89KalGe2CYkIJ99nDCDwz/qg+JlXLKBMendJObJOK8vOn1ZZilpFZdfn8yWipLcW7lkzBvKZK06rSNTIj36kWgbcOdHp650ks+/YzZiloQHr2S6dVY/6USnzj0Z04/3vP45t/2YW3n1GPB25dhbMbK7H2oJSVra09WDClakjnsZpKIVXgVREwlTRw+fxGVPhcuP2BLRgIRfHY1hOYVOFNKjhXXSrrzL93RUvGJ3NVSDAuMl8TKoK/ZK4MLMcygs9q0QghokT0aQBPAdAB/FoIsZOIPm58fieA6wF8goiiAAYB3ChymQZlDPjFh1agptQ9Zp0bxcrUmhLUlLqHzUJixh+VOdaY5Xy3a9EcNgRyel0pKnxu3PH+pWbF1P94z8IhgtpY5cPxnsHkCN6lIxyN48W97fj07zYjHIvjP5/YgwvOqEdMCGxr7cUHVk7H1Ysaccfz+1Fd6sEFZ9TjPcumgoiwanYd7l17BD2BMHa19aWt/qnr6SN4VcZ3tvH0MbnSh5/euBQf/c16rPzOs/CHY/inC2dhYXMViAAhEjOYDYd1UGOmAY4XndmAz156Ji5f0IgvPrhtwnnwynZ5POW9Oy2v7wBwR36bll/+lh/X88n7VrTg2sVThlgwzMRCpbVOtiXwUgz9oSg+ed8mfHL17KR+F0BOel7hdZljPFS6q1pH6unQVOWD16WhwTIIyePS0OWP4LYHtuCMSeV439ta8G+P7jTnLg5F41gyrRrLp9fi7lvOGdLWVbPq8KtXD+HWezYiFI3jqoVDR4TqlL6T9WCnHx6XlvREcfHcSfj6NfPw2LYT+NgFM3H5/EZomhylvr99wJbAN9fIWbei8bhZMiKV6lIPbrt0DoQQ8BgDBceKoipVwBQeTaO008gxEwvlwdsReNXxef+6o3hpXweOdQfw1O0X4kRPEHEhMLnShyd3nMDVi5ps39hvWNEyJNPK69LMwl33/+O5OKuxAveuPYL/emqvWZLCmtaayjmzaqGRrHnzvhUtZpE7K8r7X3e4C8FIDO9d3gwiwsGOAcysKxti6dxy/kzccn5y39mi5irsbx+wVSCQiDB/SiWicZF1shgiQk2p26zqORbwlcowRUgigh/eg5dzKMQRjsbxq1cPobHSh4MdfnzuD1vxzK5T8Lo13HrhLPjDMbx7qf2xIRee2YALUwagqbTBaxdPMbOwvnHtfHx0zXr84Km9qC/3pB1boaj0ubGwuRqtXQH8y1VDpzIEEmmSX35wGwLhGDYe7sa3370ABzr8tmtE3bxqBpqrS7KOlVH86H1LhqQVZqKm1DPxLBqGYZyFNycPXuDRrW040RvE3be8DXe/dhiPbm3DgqmVOHI6gO8/uRdTqnzmILWRUu5zQdcIn700kZFywZx6rLnlbbj13o1YOasu6yCnn7xviZGjnj4jS0XwgXAMVy5oxO83HENXIIyjXYG0lk46lrRUJ9V0z4Y1LTQb1aVutmgYhhkdZgQ/zCAnwBB4I3qf21iB1Wc2YG5jBR7Z0oYPr5qBV97qwK33bsR7ljUPm25ph49dMAuXnT15SGrjeWfU4+UvXmzOgzAc6UpeW1E2yfLpNfjfDyzDmtcP45t/kYPuUyeVGQ+qSzw4kFLHp5CwwDNMEeKz68G7CP2hKHaf6MO33jUfRISmqhKzBPE75jfimc9emFVY7dBQ4c048CwfNfKBxMQ6n730TBARbjl/JoKROL7/1J4ho17Hg5oyN7qPsEXDMMwomFZXhhl1pVk7xN3GwCC3Trh2Ufoqm3NGWR11LLngjHq88PnVSWNdPrF6Nm5eNT0vRQBHS3WpBz2BsO2aO6Nl/LeYYZi889HzZ+DDq7LXRVKlmi+ZO2lMRxoXCk2jtAMZJ4K4A3K6xGhcyKkex6CsSVFN+MEwjISIbBV2c7tkFHldDtVTmZGjOod7xiiThgWeYf6GWTmzDlcvbMLqApekZiQ1hsCPVS78xHhuYRhmXFg+vQbLx7DK5986Ncbo2LHKhecInmEYZoxIWDRjE8GzwDMMw4wRqr4Ne/AMwzBFRnWJsmg4gmcYhikqXLqG88+oM6cCLPjvjcmvMAzDMACA+z527pj9FkfwDMMwRQoLPMMwTJHCAs8wDFOksMAzDMMUKSzwDMMwRQoLPMMwTJHCAs8wDFOksMAzDMMUKSSE3fnA8/zDRB0Ajozw6/UAOvPYnELB7cw/TmkrtzO/cDsTTBdCNNhZcNwEfjQQ0QYhxIrxbkc2uJ35xylt5XbmF27nyGCLhmEYpkhhgWcYhilSnCrwd413A2zC7cw/TmkrtzO/cDtHgCM9eIZhGCY7To3gGYZhmCywwDMMwxQrQohR/wPQAuAFALsB7ARwm/F+LYBnALxl/F9jvH8ZgI0Athv/X2JZ13cAHAMwkOU3lxvf3w/gp0jYTR833t8C4FUA8zK086TxbxuAlwC8YmnnT4ztOAqgvRDttHx+PQABYEWO7XwDwDqjnQeNf4XYnx8B0GHszy0APpahnYeM34ka31HHfYPleOwHEIcc/5D3/QngBgC7jH3yuxzb+QyAZwH0AFiLwp2fP7Lsy30AejK0cxeATcb3NyD5/FwI4GnI83MQwJ5xbGeb8W+Lsd9eH+P9Oc1oy2bIa+SqEVzvMSTOz54CtXM6gOeM338RQHOG719oHPcogOtTPvsegB3Gv/fZ0uZchHyYjWoCsMx4XWGcEPMAfB/Al433vwzge8brpQCmGK8XADhuWde5xvqy7ch1AFYBIABPALjSeL/Sssw7ATyZoZ1XGQd4HuTFstV4/38BtALQjYO1AcDqfLfTsq9ehrwAVuTYzv8CcJfx+h0ATgGoLsD+/AiAO2wc9/kADgN4BMDDGY77RQC6AZQWoJ1zIC9yFURMGkE7HwBwrXFMCnJ+pizzGQC/ztDOz0KKzTwAj1qO+5chhf0yyOvojELszxzaOQWJ6/1BAHvHcn9Cdmp+wng9D8DhHK+jLwMIj4Eu/RHAh43XlwC4N8P3ZwBYBOAeWAQewNWQNyMXgDJIXaocri1C5Eng0zTyEeME3AugybKz96ZZlgCcBuBNeT/jjjTWtcfy900AfpFmuZsAPGGjnYcBrDPeuwZAEEAJ5IWzAcDZhWgngB8bv/ciLAJvs51J+xPAVkiRy2s7MYzAZ2jnUwCOpzvuAG4FcF8hjjtkMPGx0bYT8mb+2Bidn68DuCzDOp6CFEZ1HZ022nIhgMAYX0cZ25lyfrYBeH4s9yeAXwD4kvF6FYDXR3AdxQu9PyGfKpst6+7Lco6uQbLAfwHA1yx//wrADdnO9bx78EQ0A/JO+CaAyUKIEwBg/D8pzVeuA7BZCBHK4WemQkbZilbjPdWGTxHRAciL/p9ttLMJMkqCEOIxY5ETxr+nhBC7891OIloKoMXye2kZpp3m/iSicwB4ABzIdzsNriOibUT0JyJqydLOTgDVGY77jQDuV+vMczvPBHAmEb1GRGuJ6IpRtNNKIfYniGg6gJkAns+wjhkAZsO4jiCj+TpI29NFRH8mos1E9AMi0serncb+fDuk0DYC+CdgTPfnNwB8kIhaATwO+bSRqZ2ZriMiog3GefP3BWrnVmOdAPBuABVEVJfDurcCuJKISomoHsDFkBbUsORV4ImoHPIx7XYhRJ+N5edD+kr/lOtPpXlPmC+E+B8hxGwAXwLwteHaCWnj6AB+YHx2hvF3M+TBuYSIbs5nO4lIg/Q4Pzfsl4dpp2WZJgD3ArgF8kkj3/vzLwBmCCEWQXqqv8nSzkiGbWmC9I6fKtBxd0E+wayGjJz+j4iqc21nyvIFOT8NbgTwJyFELM3vlkN6y99IuY4E5Ha6AXwewNsAzALwlXFs54OQT06zIPsDhlxvluULsT9vArBGCNEMacPca1xf6dp5O9JfR71Clhd4P4AfG8FBvtv5eQAXEdFmSKvyOKTPbgshxNOQN7DXIYOkN+x832X3B7JBRG7InXifEOLPxtuniKhJCHHCuMDbLcs3A3gIwM1CiANZ1q1DdnoA8s77c0gBVjRDPh6m8oCxLIjoO5A+FiD96vsA9EF2nhyGjIxOALgZ8oAPGN97DcAPAfx9HttZAenxvUhEgIx8HiWid0Le3bO209ifnQD+CnlRtUJGWXndn0KI05b3fwl54qfdn0KIPxvb0JPmuN8AebwnozDHvRXAWiFEBMAhItoLYI4RkeXSTvXbhT4/bwTwKcs6UvfnEcjONPV3PYAuSBEdFEIcNL73EoBvAbh6nNppvd5bIc/fD4/h/vwHAFcAgBDiDSLyAagnottS24nM19Ep4/sHiWgdgF8DeG+er6M2AO8xvlcO4DohRK91fwohlgz3e0KI7xjtBxH9DrJPYXiyeTh2/kHeue4B8OOU93+A5E6s7xuvq2E8sgyzzmydGeshOz5UZ8ZVxvtzLMtcC2BDunZCPq4dgIz6rO38HeQJ4IK8qPoB/Ge+25myzItI7mS1086vQorA7QXen02WZd4NKaIZjzukd/hI6nGH7Ei+poDtvALAb4zX9ZAZD3UjaOdqAE8Wqp3GZ2cZ51hqRpX1uH8KwJ3G+38BsM14/S+QwtlgHPcuAL8cx3Zar7c/A2gdy/1pvP6I8fpsSEGlNO3MdB19E8APjdezAIRgZAHmuZ31ADTj9XcAfCvLetYg2YPXkTifF0He/F3DrUMIkTeBvwDyUWQbEqlVV0F6hs9B3mmeA1BrLP81AH7LsltgZD0YJ0UrZDpdK+RjarrfXGFs5AEAd1gOqkpx3AKZIjU/Qzv7IR/TD0CmNXVY2rkGMrWq3Vgm7+1MWeZFJAu8nXbutLTtBGSq194C7M//NH5rq7E/52Zo514AYcgO6i4AA5b9uRjykfRfC3jcCcB/Q6YXbgdw4wja+YaxfyNGOw4U4rhD+sbfzXIdbYX03dsg0+Zes7TzPcYyJ422bh3HdnZAPlUcgEw9XDuW+xMyK+Y1yz54R47X0QbIc2arsT9DKMz5eb3xe/sA/B9SOm8t33+bsX4/ZCfvTuN9n9HOXcY+XmJHm7lUAcMwTJHCI1kZhmGKFBZ4hmGYIoUFnmEYpkhhgWcYhilSWOAZhmGKFBZ4hmGYIoUFnil6iGgNEV2fZZmPENGUHNc7g4h2ZF9y9BDRaiIatm4Rw6TCAs8wko9Alr5lmKKBBZ4ZN4joZqNK5VYiupeIphPRc8Z7zxHRNGO5NUT0cyJ6gYgOEtFFRPRrItpNRGss6xsgoh8S0Sbj+w1pfnM5Eb1ERBuJ6CkiajKi+xUA7iOiLURUkm45y/e3EtEbsNRoybB9rxDREsvfrxHRIiL6BhH9hoieJqLDRPQeIvo+EW0noieNuk4goiuIaA8RvQqjjgnD5AILPDMuGJUFvwo5a85iALdBDu2+R8jKlfdBzoijqIGcKOGzkLVZfgQ5ecdCi4iWAdgkhFgGOWvPv6X8phvAzyBrfCyHLCr1HSHEnyCHrH9AyIJP0XTLGau5G8A/CyFW2djM/4N8MgARnQk5PH2b8dlsyCJT7wLwWwAvCCEWQg77v9oomvVLyHpKb4csSMcwOcECz4wXl0CWoe0EACFEF+SEDb8zPr8XspaI4i9C1tXYDuCUEGK7ECIOWSdnhrFMHMDvjde/Tfk+IItnLQDwDBFtgayJ1IyhpF2OiKoga8i/ZGnjcPwRwDXGjeWjkDWOFE8IWflyO2QhqSeN97cb2zMXwCEhxFvGdv82y28xzBDyVi6YYXKEMLT2eCrWz9XEC3HLa/V3pvM4df0EWbwpW/Sddjmjvrzt4k1CiAARPQMZpd8AaQMpQsYycSKKiERRKOv2cKEoZlRwBM+MF88BuIGMWW2IqBZyMoMbjc8/ADlpei5okFX7ADl5Q+r39wJoIKJVxm+6DasIkNUGK4ZbTgjRA6CXiNSTwQdstOn/IK2m9cZTil32AJhJRLONv2/K4bsMA4AjeGacEELsNCY7eImIYpATZv8zgF8T0Rcgy7nekuNq/QDmE9FGAL0A3pfym2GjQ/Wnht3igqwVvhPSPrmTiAYhraJMy91itDEAOW9qtu3cSER9kN69bYQQQSK6FcBfiagT8ma1IJd1MAyXC2aKBiIaEEKUj3c7rBi59S9C1tGPj3NzmL8x2KJhmAJBci7fNwF8lcWdGQ84gmeYUUJEl8OYq9bCISHEu8ejPQyjYIFnGIYpUtiiYRiGKVJY4BmGYYoUFniGYZgihQWeYRimSPn/EyDXPGfFQaQAAAAASUVORK5CYII=\n",
      "text/plain": [
       "<Figure size 432x288 with 1 Axes>"
      ]
     },
     "metadata": {
      "needs_background": "light"
     },
     "output_type": "display_data"
    }
   ],
   "source": [
    "group_d_tran.plot()\n",
    "plt.show()"
   ]
  },
  {
   "cell_type": "markdown",
   "id": "d897f83e",
   "metadata": {},
   "source": [
    "### 월별 매출"
   ]
  },
  {
   "cell_type": "code",
   "execution_count": 177,
   "id": "e441bc66",
   "metadata": {
    "ExecuteTime": {
     "end_time": "2022-06-30T07:38:45.050027Z",
     "start_time": "2022-06-30T07:38:45.019363Z"
    }
   },
   "outputs": [
    {
     "data": {
      "text/plain": [
       "completed_ym\n",
       "2021-03     495300619\n",
       "2021-04    2343754242\n",
       "2021-05    2349920332\n",
       "2021-06    2495833865\n",
       "2021-07    2344206739\n",
       "2021-08    1714571488\n",
       "2021-09    1266729152\n",
       "Name: transaction_amount, dtype: int64"
      ]
     },
     "execution_count": 177,
     "metadata": {},
     "output_type": "execute_result"
    }
   ],
   "source": [
    "group_m_tran = df.groupby('completed_ym')['transaction_amount'].sum()\n",
    "group_m_tran "
   ]
  },
  {
   "cell_type": "code",
   "execution_count": 178,
   "id": "01556bcf",
   "metadata": {
    "ExecuteTime": {
     "end_time": "2022-06-30T07:38:54.167257Z",
     "start_time": "2022-06-30T07:38:54.052464Z"
    }
   },
   "outputs": [
    {
     "data": {
      "image/png": "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\n",
      "text/plain": [
       "<Figure size 432x288 with 1 Axes>"
      ]
     },
     "metadata": {
      "needs_background": "light"
     },
     "output_type": "display_data"
    }
   ],
   "source": [
    "group_m_tran.plot()\n",
    "plt.show()"
   ]
  },
  {
   "cell_type": "markdown",
   "id": "712a9c7e",
   "metadata": {},
   "source": [
    "### 총 매출"
   ]
  },
  {
   "cell_type": "code",
   "execution_count": 179,
   "id": "6efd90d1",
   "metadata": {
    "ExecuteTime": {
     "end_time": "2022-06-30T07:40:04.108130Z",
     "start_time": "2022-06-30T07:40:04.086157Z"
    }
   },
   "outputs": [
    {
     "data": {
      "text/plain": [
       "13010316437"
      ]
     },
     "execution_count": 179,
     "metadata": {},
     "output_type": "execute_result"
    }
   ],
   "source": [
    "df['transaction_amount'].sum()"
   ]
  },
  {
   "cell_type": "code",
   "execution_count": null,
   "id": "ea3e40d0",
   "metadata": {},
   "outputs": [],
   "source": []
  },
  {
   "cell_type": "code",
   "execution_count": null,
   "id": "14482502",
   "metadata": {},
   "outputs": [],
   "source": []
  },
  {
   "cell_type": "code",
   "execution_count": null,
   "id": "18ae077b",
   "metadata": {},
   "outputs": [],
   "source": []
  },
  {
   "cell_type": "code",
   "execution_count": null,
   "id": "8bcb6c52",
   "metadata": {},
   "outputs": [],
   "source": []
  },
  {
   "cell_type": "code",
   "execution_count": null,
   "id": "5c09b0d5",
   "metadata": {},
   "outputs": [],
   "source": []
  },
  {
   "cell_type": "code",
   "execution_count": null,
   "id": "c3fd09a5",
   "metadata": {},
   "outputs": [],
   "source": []
  },
  {
   "cell_type": "code",
   "execution_count": null,
   "id": "77c1b614",
   "metadata": {},
   "outputs": [],
   "source": []
  },
  {
   "cell_type": "code",
   "execution_count": null,
   "id": "c80ed3f5",
   "metadata": {},
   "outputs": [],
   "source": []
  },
  {
   "cell_type": "code",
   "execution_count": null,
   "id": "7b250478",
   "metadata": {},
   "outputs": [],
   "source": []
  },
  {
   "cell_type": "markdown",
   "id": "dfaff9de",
   "metadata": {},
   "source": [
    "## course_title 매출 상,하위 10위"
   ]
  },
  {
   "cell_type": "code",
   "execution_count": 128,
   "id": "ee9d2f97",
   "metadata": {
    "ExecuteTime": {
     "end_time": "2022-06-30T07:00:44.481519Z",
     "start_time": "2022-06-30T07:00:43.830172Z"
    },
    "scrolled": true
   },
   "outputs": [
    {
     "data": {
      "text/html": [
       "<div>\n",
       "<style scoped>\n",
       "    .dataframe tbody tr th:only-of-type {\n",
       "        vertical-align: middle;\n",
       "    }\n",
       "\n",
       "    .dataframe tbody tr th {\n",
       "        vertical-align: top;\n",
       "    }\n",
       "\n",
       "    .dataframe thead th {\n",
       "        text-align: right;\n",
       "    }\n",
       "</style>\n",
       "<table border=\"1\" class=\"dataframe\">\n",
       "  <thead>\n",
       "    <tr style=\"text-align: right;\">\n",
       "      <th></th>\n",
       "      <th>id</th>\n",
       "      <th>customer_id</th>\n",
       "      <th>course_id</th>\n",
       "      <th>type</th>\n",
       "      <th>state</th>\n",
       "      <th>course_title</th>\n",
       "      <th>category_title</th>\n",
       "      <th>format</th>\n",
       "      <th>completed_at</th>\n",
       "      <th>transaction_amount</th>\n",
       "      <th>coupon_title</th>\n",
       "      <th>coupon_discount_amount</th>\n",
       "      <th>sale_price</th>\n",
       "      <th>pg</th>\n",
       "      <th>method</th>\n",
       "      <th>subcategory_title</th>\n",
       "      <th>marketing_start_at</th>\n",
       "      <th>completed_ym</th>\n",
       "    </tr>\n",
       "  </thead>\n",
       "  <tbody>\n",
       "    <tr>\n",
       "      <th>0</th>\n",
       "      <td>970634</td>\n",
       "      <td>504760</td>\n",
       "      <td>201435</td>\n",
       "      <td>ORDER</td>\n",
       "      <td>CANCELLED</td>\n",
       "      <td>올인원 패키지 : 알고리즘 기술면접 완전 정복</td>\n",
       "      <td>프로그래밍</td>\n",
       "      <td>올인원</td>\n",
       "      <td>2021-03-28 15:00:11</td>\n",
       "      <td>90500</td>\n",
       "      <td>미적용</td>\n",
       "      <td>0</td>\n",
       "      <td>110500</td>\n",
       "      <td>COMM</td>\n",
       "      <td>VBANK</td>\n",
       "      <td>개발자 커리어</td>\n",
       "      <td>2018-11-11</td>\n",
       "      <td>2021-03</td>\n",
       "    </tr>\n",
       "    <tr>\n",
       "      <th>1</th>\n",
       "      <td>970650</td>\n",
       "      <td>432862</td>\n",
       "      <td>203178</td>\n",
       "      <td>ORDER</td>\n",
       "      <td>CANCELLED</td>\n",
       "      <td>초격차 패키지 : 한번에 끝내는 영상 촬영과 편집</td>\n",
       "      <td>영상/3D</td>\n",
       "      <td>올인원</td>\n",
       "      <td>2021-03-28 15:16:53</td>\n",
       "      <td>96000</td>\n",
       "      <td>미적용</td>\n",
       "      <td>0</td>\n",
       "      <td>116000</td>\n",
       "      <td>COMM</td>\n",
       "      <td>CARD</td>\n",
       "      <td>영상 편집</td>\n",
       "      <td>2020-12-02</td>\n",
       "      <td>2021-03</td>\n",
       "    </tr>\n",
       "    <tr>\n",
       "      <th>2</th>\n",
       "      <td>970657</td>\n",
       "      <td>72297</td>\n",
       "      <td>204246</td>\n",
       "      <td>PAYMENT</td>\n",
       "      <td>COMPLETED</td>\n",
       "      <td>시크릿코드 : 프론트엔드 실무 완성편</td>\n",
       "      <td>프로그래밍</td>\n",
       "      <td>스쿨 온라인</td>\n",
       "      <td>2021-03-28 15:21:43</td>\n",
       "      <td>171810</td>\n",
       "      <td>[10% 할인] 시크릿코드 실무 완성편</td>\n",
       "      <td>19090</td>\n",
       "      <td>190900</td>\n",
       "      <td>COMM</td>\n",
       "      <td>CARD</td>\n",
       "      <td>프로그래밍</td>\n",
       "      <td>2021-03-04</td>\n",
       "      <td>2021-03</td>\n",
       "    </tr>\n",
       "    <tr>\n",
       "      <th>3</th>\n",
       "      <td>970656</td>\n",
       "      <td>72297</td>\n",
       "      <td>204246</td>\n",
       "      <td>ORDER</td>\n",
       "      <td>CANCELLED</td>\n",
       "      <td>시크릿코드 : 프론트엔드 실무 완성편</td>\n",
       "      <td>프로그래밍</td>\n",
       "      <td>스쿨 온라인</td>\n",
       "      <td>2021-03-28 15:21:43</td>\n",
       "      <td>171810</td>\n",
       "      <td>미적용</td>\n",
       "      <td>0</td>\n",
       "      <td>190900</td>\n",
       "      <td>COMM</td>\n",
       "      <td>CARD</td>\n",
       "      <td>프로그래밍</td>\n",
       "      <td>2021-03-04</td>\n",
       "      <td>2021-03</td>\n",
       "    </tr>\n",
       "    <tr>\n",
       "      <th>4</th>\n",
       "      <td>970658</td>\n",
       "      <td>478028</td>\n",
       "      <td>201797</td>\n",
       "      <td>PAYMENT</td>\n",
       "      <td>COMPLETED</td>\n",
       "      <td>올인원 패키지 : 직장인 필수 스킬 3종 세트 MAX</td>\n",
       "      <td>업무 생산성</td>\n",
       "      <td>올인원</td>\n",
       "      <td>2021-03-28 15:21:54</td>\n",
       "      <td>97500</td>\n",
       "      <td>[웰컴쿠폰] 올인원 패키지 2만원 할인 쿠폰</td>\n",
       "      <td>20000</td>\n",
       "      <td>117500</td>\n",
       "      <td>COMM</td>\n",
       "      <td>CARD</td>\n",
       "      <td>PPT/보고서</td>\n",
       "      <td>2019-11-14</td>\n",
       "      <td>2021-03</td>\n",
       "    </tr>\n",
       "  </tbody>\n",
       "</table>\n",
       "</div>"
      ],
      "text/plain": [
       "       id  customer_id  course_id     type      state  \\\n",
       "0  970634       504760     201435    ORDER  CANCELLED   \n",
       "1  970650       432862     203178    ORDER  CANCELLED   \n",
       "2  970657        72297     204246  PAYMENT  COMPLETED   \n",
       "3  970656        72297     204246    ORDER  CANCELLED   \n",
       "4  970658       478028     201797  PAYMENT  COMPLETED   \n",
       "\n",
       "                    course_title category_title  format        completed_at  \\\n",
       "0      올인원 패키지 : 알고리즘 기술면접 완전 정복          프로그래밍     올인원 2021-03-28 15:00:11   \n",
       "1    초격차 패키지 : 한번에 끝내는 영상 촬영과 편집          영상/3D     올인원 2021-03-28 15:16:53   \n",
       "2           시크릿코드 : 프론트엔드 실무 완성편          프로그래밍  스쿨 온라인 2021-03-28 15:21:43   \n",
       "3           시크릿코드 : 프론트엔드 실무 완성편          프로그래밍  스쿨 온라인 2021-03-28 15:21:43   \n",
       "4  올인원 패키지 : 직장인 필수 스킬 3종 세트 MAX         업무 생산성     올인원 2021-03-28 15:21:54   \n",
       "\n",
       "   transaction_amount              coupon_title  coupon_discount_amount  \\\n",
       "0               90500                       미적용                       0   \n",
       "1               96000                       미적용                       0   \n",
       "2              171810     [10% 할인] 시크릿코드 실무 완성편                   19090   \n",
       "3              171810                       미적용                       0   \n",
       "4               97500  [웰컴쿠폰] 올인원 패키지 2만원 할인 쿠폰                   20000   \n",
       "\n",
       "   sale_price    pg method subcategory_title marketing_start_at completed_ym  \n",
       "0      110500  COMM  VBANK           개발자 커리어         2018-11-11      2021-03  \n",
       "1      116000  COMM   CARD             영상 편집         2020-12-02      2021-03  \n",
       "2      190900  COMM   CARD             프로그래밍         2021-03-04      2021-03  \n",
       "3      190900  COMM   CARD             프로그래밍         2021-03-04      2021-03  \n",
       "4      117500  COMM   CARD           PPT/보고서         2019-11-14      2021-03  "
      ]
     },
     "execution_count": 128,
     "metadata": {},
     "output_type": "execute_result"
    }
   ],
   "source": [
    "df['completed_ym'] = df['completed_at'].dt.strftime(\"%Y-%m\")\n",
    "df.head()"
   ]
  },
  {
   "cell_type": "code",
   "execution_count": 100,
   "id": "79c0c4f8",
   "metadata": {
    "ExecuteTime": {
     "end_time": "2022-06-30T06:18:06.562430Z",
     "start_time": "2022-06-30T06:18:06.513334Z"
    },
    "scrolled": false
   },
   "outputs": [
    {
     "data": {
      "text/plain": [
       "course_title\n",
       "초격차 패키지 : 한 번에 끝내는 프론트엔드 개발                      328586545\n",
       "The RED : 김영하 작가의 내 안의 숨은 이야기를 찾아 쓰는 법           300216241\n",
       "초격차 패키지 : 한번에 끝내는 영상 촬영과 편집                      251637735\n",
       "초격차 패키지 : 한번에 끝내는 Java/Spring 웹 개발 마스터           243806841\n",
       "초격차 패키지 : 한번에 끝내는 디자인 툴                          215915064\n",
       "올인원 패키지 : star741의 캐주얼 일러스트 드로잉                  209287315\n",
       "올인원 패키지 : 박세익 전무에게 배우는 주식 시장 분석 & 포트폴리오 운용 전략    206005423\n",
       "올인원 패키지 : 완전정복 시각디자인 기초                          191337757\n",
       "매주)데이터 사이언스 온라인 완주반                              188558386\n",
       "초격차 패키지 : 한번에 끝내는 UX/UI 디자인                      182138968\n",
       "Name: transaction_amount, dtype: int64"
      ]
     },
     "execution_count": 100,
     "metadata": {},
     "output_type": "execute_result"
    }
   ],
   "source": [
    "tran_course_up10 = df.groupby('course_title').sum()['transaction_amount'].sort_values(ascending=False)[:10]\n",
    "tran_course_up10   # 강의 상위 10"
   ]
  },
  {
   "cell_type": "code",
   "execution_count": 124,
   "id": "6791fc41",
   "metadata": {
    "ExecuteTime": {
     "end_time": "2022-06-30T06:43:09.832239Z",
     "start_time": "2022-06-30T06:43:09.783414Z"
    },
    "scrolled": true
   },
   "outputs": [
    {
     "data": {
      "text/plain": [
       "course_title\n",
       "코딩+알고리즘 온라인 완주반 5기                    -810000\n",
       "디지털 마케팅 온라인 완주반 3기                    -575000\n",
       "매주)브런치로 책 출판 온라인 완주반                  -520000\n",
       "브런치로 책 출판 온라인 완주반 3기                  -360000\n",
       "프로모션 :개강 전 필수 마스터 코딩 한끝세트 (3월 프리패스)   -299000\n",
       "Java 웹 개발자 취업 온라인 완주반 1기              -254500\n",
       "SQL 100제 + 자격증 완성 온라인 완주반 4기          -225000\n",
       "제품 디자인 포트폴리오 온라인 완주반 2기               -179666\n",
       "퍼포먼스 마케터 되기 온라인 완주반 2기                -147000\n",
       "올인원 패키지 : 모바일 앱 개발                    -109200\n",
       "Name: transaction_amount, dtype: int64"
      ]
     },
     "execution_count": 124,
     "metadata": {},
     "output_type": "execute_result"
    }
   ],
   "source": [
    "tran_course_down10 = df.groupby('course_title').sum()['transaction_amount'].sort_values()[:10]\n",
    "tran_course_down10   # 강의 하위 10"
   ]
  },
  {
   "cell_type": "code",
   "execution_count": 170,
   "id": "e8a2dd77",
   "metadata": {
    "ExecuteTime": {
     "end_time": "2022-06-30T07:35:01.442669Z",
     "start_time": "2022-06-30T07:35:01.359601Z"
    },
    "scrolled": true
   },
   "outputs": [
    {
     "name": "stderr",
     "output_type": "stream",
     "text": [
      "C:\\Users\\user\\AppData\\Local\\Temp\\ipykernel_5952\\2561556299.py:1: FutureWarning: Indexing with multiple keys (implicitly converted to a tuple of keys) will be deprecated, use a list instead.\n",
      "  group_date_course = df.groupby('completed_ym')['course_title','transaction_amount'].value_counts()\n"
     ]
    },
    {
     "data": {
      "text/plain": [
       "completed_ym  course_title                            transaction_amount\n",
       "2021-03       THE RED : 광고인 박웅현과 크리에이티브                59000                134\n",
       "              초격차 패키지 : 한번에 끝내는 PPT 제작/디자인             89000                123\n",
       "              초격차 패키지 : 한 번에 끝내는 프론트엔드 개발              91000                 98\n",
       "              초격차 패키지 : 한번에 끝내는 Java/Spring 웹 개발 마스터   0                     94\n",
       "              초격차 패키지 : 한번에 끝내는 영상 촬영과 편집              96000                 84\n",
       "                                                                           ... \n",
       "2021-09       올인원 패키지 : 리마의 로맨스판타지 웹소설 일러스트           -179000                 1\n",
       "                                                      -184000                 1\n",
       "              올인원 패키지 : 리더를 위한 HR/인재경영                 123000                 1\n",
       "              올인원 패키지 : 리눅스 실전 정복                      11500                  1\n",
       "                                                       8000                   1\n",
       "Length: 10801, dtype: int64"
      ]
     },
     "execution_count": 170,
     "metadata": {},
     "output_type": "execute_result"
    }
   ],
   "source": [
    "group_date_course = df.groupby('completed_ym')['course_title','transaction_amount'].value_counts()\n",
    "group_date_course   # 개월수에 따라 "
   ]
  },
  {
   "cell_type": "code",
   "execution_count": 166,
   "id": "c9a1d950",
   "metadata": {
    "ExecuteTime": {
     "end_time": "2022-06-30T07:34:02.532212Z",
     "start_time": "2022-06-30T07:34:02.375853Z"
<<<<<<< HEAD
    }
=======
    },
    "scrolled": true
>>>>>>> upstream/main
   },
   "outputs": [
    {
     "ename": "TypeError",
     "evalue": "barh() missing 2 required positional arguments: 'y' and 'width'",
     "output_type": "error",
     "traceback": [
      "\u001b[1;31m---------------------------------------------------------------------------\u001b[0m",
      "\u001b[1;31mTypeError\u001b[0m                                 Traceback (most recent call last)",
      "Input \u001b[1;32mIn [166]\u001b[0m, in \u001b[0;36m<cell line: 1>\u001b[1;34m()\u001b[0m\n\u001b[1;32m----> 1\u001b[0m \u001b[43mgroup_date_cate\u001b[49m\u001b[38;5;241;43m.\u001b[39;49m\u001b[43mplot\u001b[49m\u001b[43m(\u001b[49m\u001b[43m)\u001b[49m\u001b[38;5;241;43m.\u001b[39;49m\u001b[43mbarh\u001b[49m\u001b[43m(\u001b[49m\u001b[43m)\u001b[49m\n\u001b[0;32m      2\u001b[0m plt\u001b[38;5;241m.\u001b[39mshow()\n",
      "\u001b[1;31mTypeError\u001b[0m: barh() missing 2 required positional arguments: 'y' and 'width'"
     ]
    },
    {
     "name": "stderr",
     "output_type": "stream",
     "text": [
      "C:\\Users\\user\\anaconda3\\lib\\site-packages\\IPython\\core\\pylabtools.py:151: UserWarning: Glyph 54532 (\\N{HANGUL SYLLABLE PEU}) missing from current font.\n",
      "  fig.canvas.print_figure(bytes_io, **kw)\n",
      "C:\\Users\\user\\anaconda3\\lib\\site-packages\\IPython\\core\\pylabtools.py:151: UserWarning: Glyph 47196 (\\N{HANGUL SYLLABLE RO}) missing from current font.\n",
      "  fig.canvas.print_figure(bytes_io, **kw)\n",
      "C:\\Users\\user\\anaconda3\\lib\\site-packages\\IPython\\core\\pylabtools.py:151: UserWarning: Glyph 44536 (\\N{HANGUL SYLLABLE GEU}) missing from current font.\n",
      "  fig.canvas.print_figure(bytes_io, **kw)\n",
      "C:\\Users\\user\\anaconda3\\lib\\site-packages\\IPython\\core\\pylabtools.py:151: UserWarning: Glyph 47000 (\\N{HANGUL SYLLABLE RAE}) missing from current font.\n",
      "  fig.canvas.print_figure(bytes_io, **kw)\n",
      "C:\\Users\\user\\anaconda3\\lib\\site-packages\\IPython\\core\\pylabtools.py:151: UserWarning: Glyph 48141 (\\N{HANGUL SYLLABLE MING}) missing from current font.\n",
      "  fig.canvas.print_figure(bytes_io, **kw)\n",
      "C:\\Users\\user\\anaconda3\\lib\\site-packages\\IPython\\core\\pylabtools.py:151: UserWarning: Glyph 45936 (\\N{HANGUL SYLLABLE DE}) missing from current font.\n",
      "  fig.canvas.print_figure(bytes_io, **kw)\n",
      "C:\\Users\\user\\anaconda3\\lib\\site-packages\\IPython\\core\\pylabtools.py:151: UserWarning: Glyph 51060 (\\N{HANGUL SYLLABLE I}) missing from current font.\n",
      "  fig.canvas.print_figure(bytes_io, **kw)\n",
      "C:\\Users\\user\\anaconda3\\lib\\site-packages\\IPython\\core\\pylabtools.py:151: UserWarning: Glyph 53552 (\\N{HANGUL SYLLABLE TEO}) missing from current font.\n",
      "  fig.canvas.print_figure(bytes_io, **kw)\n",
      "C:\\Users\\user\\anaconda3\\lib\\site-packages\\IPython\\core\\pylabtools.py:151: UserWarning: Glyph 49324 (\\N{HANGUL SYLLABLE SA}) missing from current font.\n",
      "  fig.canvas.print_figure(bytes_io, **kw)\n",
      "C:\\Users\\user\\anaconda3\\lib\\site-packages\\IPython\\core\\pylabtools.py:151: UserWarning: Glyph 50616 (\\N{HANGUL SYLLABLE EON}) missing from current font.\n",
      "  fig.canvas.print_figure(bytes_io, **kw)\n",
      "C:\\Users\\user\\anaconda3\\lib\\site-packages\\IPython\\core\\pylabtools.py:151: UserWarning: Glyph 49828 (\\N{HANGUL SYLLABLE SEU}) missing from current font.\n",
      "  fig.canvas.print_figure(bytes_io, **kw)\n",
      "C:\\Users\\user\\anaconda3\\lib\\site-packages\\IPython\\core\\pylabtools.py:151: UserWarning: Glyph 50629 (\\N{HANGUL SYLLABLE EOB}) missing from current font.\n",
      "  fig.canvas.print_figure(bytes_io, **kw)\n",
      "C:\\Users\\user\\anaconda3\\lib\\site-packages\\IPython\\core\\pylabtools.py:151: UserWarning: Glyph 47924 (\\N{HANGUL SYLLABLE MU}) missing from current font.\n",
      "  fig.canvas.print_figure(bytes_io, **kw)\n",
      "C:\\Users\\user\\anaconda3\\lib\\site-packages\\IPython\\core\\pylabtools.py:151: UserWarning: Glyph 49373 (\\N{HANGUL SYLLABLE SAENG}) missing from current font.\n",
      "  fig.canvas.print_figure(bytes_io, **kw)\n",
      "C:\\Users\\user\\anaconda3\\lib\\site-packages\\IPython\\core\\pylabtools.py:151: UserWarning: Glyph 49328 (\\N{HANGUL SYLLABLE SAN}) missing from current font.\n",
      "  fig.canvas.print_figure(bytes_io, **kw)\n",
      "C:\\Users\\user\\anaconda3\\lib\\site-packages\\IPython\\core\\pylabtools.py:151: UserWarning: Glyph 49457 (\\N{HANGUL SYLLABLE SEONG}) missing from current font.\n",
      "  fig.canvas.print_figure(bytes_io, **kw)\n",
      "C:\\Users\\user\\anaconda3\\lib\\site-packages\\IPython\\core\\pylabtools.py:151: UserWarning: Glyph 53356 (\\N{HANGUL SYLLABLE KEU}) missing from current font.\n",
      "  fig.canvas.print_figure(bytes_io, **kw)\n",
      "C:\\Users\\user\\anaconda3\\lib\\site-packages\\IPython\\core\\pylabtools.py:151: UserWarning: Glyph 47532 (\\N{HANGUL SYLLABLE RI}) missing from current font.\n",
      "  fig.canvas.print_figure(bytes_io, **kw)\n",
      "C:\\Users\\user\\anaconda3\\lib\\site-packages\\IPython\\core\\pylabtools.py:151: UserWarning: Glyph 50640 (\\N{HANGUL SYLLABLE E}) missing from current font.\n",
      "  fig.canvas.print_figure(bytes_io, **kw)\n",
      "C:\\Users\\user\\anaconda3\\lib\\site-packages\\IPython\\core\\pylabtools.py:151: UserWarning: Glyph 54000 (\\N{HANGUL SYLLABLE TI}) missing from current font.\n",
      "  fig.canvas.print_figure(bytes_io, **kw)\n",
      "C:\\Users\\user\\anaconda3\\lib\\site-packages\\IPython\\core\\pylabtools.py:151: UserWarning: Glyph 48652 (\\N{HANGUL SYLLABLE BEU}) missing from current font.\n",
      "  fig.canvas.print_figure(bytes_io, **kw)\n",
      "C:\\Users\\user\\anaconda3\\lib\\site-packages\\IPython\\core\\pylabtools.py:151: UserWarning: Glyph 48512 (\\N{HANGUL SYLLABLE BU}) missing from current font.\n",
      "  fig.canvas.print_figure(bytes_io, **kw)\n",
      "C:\\Users\\user\\anaconda3\\lib\\site-packages\\IPython\\core\\pylabtools.py:151: UserWarning: Glyph 46041 (\\N{HANGUL SYLLABLE DONG}) missing from current font.\n",
      "  fig.canvas.print_figure(bytes_io, **kw)\n",
      "C:\\Users\\user\\anaconda3\\lib\\site-packages\\IPython\\core\\pylabtools.py:151: UserWarning: Glyph 44552 (\\N{HANGUL SYLLABLE GEUM}) missing from current font.\n",
      "  fig.canvas.print_figure(bytes_io, **kw)\n",
      "C:\\Users\\user\\anaconda3\\lib\\site-packages\\IPython\\core\\pylabtools.py:151: UserWarning: Glyph 50997 (\\N{HANGUL SYLLABLE YUNG}) missing from current font.\n",
      "  fig.canvas.print_figure(bytes_io, **kw)\n",
      "C:\\Users\\user\\anaconda3\\lib\\site-packages\\IPython\\core\\pylabtools.py:151: UserWarning: Glyph 47560 (\\N{HANGUL SYLLABLE MA}) missing from current font.\n",
      "  fig.canvas.print_figure(bytes_io, **kw)\n",
      "C:\\Users\\user\\anaconda3\\lib\\site-packages\\IPython\\core\\pylabtools.py:151: UserWarning: Glyph 52992 (\\N{HANGUL SYLLABLE KE}) missing from current font.\n",
      "  fig.canvas.print_figure(bytes_io, **kw)\n",
      "C:\\Users\\user\\anaconda3\\lib\\site-packages\\IPython\\core\\pylabtools.py:151: UserWarning: Glyph 54021 (\\N{HANGUL SYLLABLE TING}) missing from current font.\n",
      "  fig.canvas.print_figure(bytes_io, **kw)\n",
      "C:\\Users\\user\\anaconda3\\lib\\site-packages\\IPython\\core\\pylabtools.py:151: UserWarning: Glyph 53804 (\\N{HANGUL SYLLABLE TU}) missing from current font.\n",
      "  fig.canvas.print_figure(bytes_io, **kw)\n",
      "C:\\Users\\user\\anaconda3\\lib\\site-packages\\IPython\\core\\pylabtools.py:151: UserWarning: Glyph 51088 (\\N{HANGUL SYLLABLE JA}) missing from current font.\n",
      "  fig.canvas.print_figure(bytes_io, **kw)\n",
      "C:\\Users\\user\\anaconda3\\lib\\site-packages\\IPython\\core\\pylabtools.py:151: UserWarning: Glyph 51116 (\\N{HANGUL SYLLABLE JAE}) missing from current font.\n",
      "  fig.canvas.print_figure(bytes_io, **kw)\n",
      "C:\\Users\\user\\anaconda3\\lib\\site-packages\\IPython\\core\\pylabtools.py:151: UserWarning: Glyph 53580 (\\N{HANGUL SYLLABLE TE}) missing from current font.\n",
      "  fig.canvas.print_figure(bytes_io, **kw)\n"
     ]
    },
    {
     "data": {
      "image/png": "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\n",
      "text/plain": [
       "<Figure size 432x288 with 1 Axes>"
      ]
     },
     "metadata": {
      "needs_background": "light"
     },
     "output_type": "display_data"
    }
   ],
   "source": [
    "group_date_cate.plot().barh()\n",
    "plt.show()   # 그래프"
   ]
  },
  {
   "cell_type": "markdown",
   "id": "526ab1e2",
   "metadata": {},
   "source": [
    "## category_title 매출 상,하위 10위"
   ]
  },
  {
   "cell_type": "code",
   "execution_count": 98,
   "id": "c79f1ea1",
   "metadata": {
    "ExecuteTime": {
     "end_time": "2022-06-30T06:17:27.327023Z",
     "start_time": "2022-06-30T06:17:27.267182Z"
    },
    "scrolled": true
   },
   "outputs": [
    {
     "data": {
      "text/plain": [
       "category_title\n",
       "프로그래밍      3695745129\n",
       "데이터사이언스    2099712977\n",
       "디자인        1472059828\n",
       "마케팅        1327429094\n",
       "업무 생산성     1187425595\n",
       "영상/3D      1103291580\n",
       "부동산/금융      938631409\n",
       "크리에이티브      674620860\n",
       "투자/재테크      479323745\n",
       "지식콘텐츠        12776000\n",
       "Name: transaction_amount, dtype: int64"
      ]
     },
     "execution_count": 98,
     "metadata": {},
     "output_type": "execute_result"
    }
   ],
   "source": [
    "tran_cate_up10 = df.groupby('category_title').sum()['transaction_amount'].sort_values(ascending=False)[:10]\n",
    "tran_cate_up10  # 카테고리 상위 10"
   ]
  },
  {
   "cell_type": "code",
   "execution_count": 123,
   "id": "adb9654e",
   "metadata": {
    "ExecuteTime": {
     "end_time": "2022-06-30T06:41:59.679715Z",
     "start_time": "2022-06-30T06:41:59.641759Z"
    },
    "scrolled": true
   },
   "outputs": [
    {
     "data": {
      "text/plain": [
       "category_title\n",
       "일러스트            208000\n",
       "데이터 사이언스       3106000\n",
       "파이낸스           6600000\n",
       "비즈니스           9386220\n",
       "지식콘텐츠         12776000\n",
       "투자/재테크       479323745\n",
       "크리에이티브       674620860\n",
       "부동산/금융       938631409\n",
       "영상/3D       1103291580\n",
       "업무 생산성      1187425595\n",
       "Name: transaction_amount, dtype: int64"
      ]
     },
     "execution_count": 123,
     "metadata": {},
     "output_type": "execute_result"
    }
   ],
   "source": [
    "tran_cate_down10 = df.groupby('category_title').sum()['transaction_amount'].sort_values()[:10]\n",
    "tran_cate_down10   # 카테고리 하위 10"
   ]
  },
  {
   "cell_type": "code",
   "execution_count": 167,
   "id": "4fab6d97",
   "metadata": {
    "ExecuteTime": {
     "end_time": "2022-06-30T07:34:15.676883Z",
     "start_time": "2022-06-30T07:34:15.595518Z"
    },
    "scrolled": true
   },
   "outputs": [
    {
     "name": "stderr",
     "output_type": "stream",
     "text": [
      "C:\\Users\\user\\AppData\\Local\\Temp\\ipykernel_5952\\369863235.py:1: FutureWarning: Indexing with multiple keys (implicitly converted to a tuple of keys) will be deprecated, use a list instead.\n",
      "  group_date_cate = df.groupby('completed_ym')['category_title','transaction_amount'].value_counts()\n"
     ]
    },
    {
     "data": {
      "text/plain": [
       "completed_ym  category_title  transaction_amount\n",
       "2021-03       프로그래밍            0                    199\n",
       "              업무 생산성           89000                137\n",
       "              마케팅              59000                134\n",
       "              프로그래밍            90500                108\n",
       "              업무 생산성           99000                103\n",
       "                                                   ... \n",
       "2021-09       부동산/금융           7000                   1\n",
       "                               6000                   1\n",
       "                               500                    1\n",
       "                              -10000                  1\n",
       "                              -74000                  1\n",
       "Length: 7964, dtype: int64"
      ]
     },
     "execution_count": 167,
     "metadata": {},
     "output_type": "execute_result"
    }
   ],
   "source": [
    "group_date_cate = df.groupby('completed_ym')['category_title','transaction_amount'].value_counts()\n",
    "group_date_cate   # 개월수에 따라 "
   ]
  },
  {
   "cell_type": "code",
   "execution_count": 165,
   "id": "a0204d63",
   "metadata": {
    "ExecuteTime": {
     "end_time": "2022-06-30T07:33:26.581504Z",
     "start_time": "2022-06-30T07:33:26.420443Z"
    }
   },
   "outputs": [
    {
     "ename": "TypeError",
     "evalue": "barh() missing 2 required positional arguments: 'y' and 'width'",
     "output_type": "error",
     "traceback": [
      "\u001b[1;31m---------------------------------------------------------------------------\u001b[0m",
      "\u001b[1;31mTypeError\u001b[0m                                 Traceback (most recent call last)",
      "Input \u001b[1;32mIn [165]\u001b[0m, in \u001b[0;36m<cell line: 1>\u001b[1;34m()\u001b[0m\n\u001b[1;32m----> 1\u001b[0m \u001b[43mgroup_date_cate\u001b[49m\u001b[38;5;241;43m.\u001b[39;49m\u001b[43mplot\u001b[49m\u001b[43m(\u001b[49m\u001b[43m)\u001b[49m\u001b[38;5;241;43m.\u001b[39;49m\u001b[43mbarh\u001b[49m\u001b[43m(\u001b[49m\u001b[43m)\u001b[49m\n\u001b[0;32m      2\u001b[0m plt\u001b[38;5;241m.\u001b[39mshow()\n",
      "\u001b[1;31mTypeError\u001b[0m: barh() missing 2 required positional arguments: 'y' and 'width'"
     ]
    },
    {
     "name": "stderr",
     "output_type": "stream",
     "text": [
      "C:\\Users\\user\\anaconda3\\lib\\site-packages\\IPython\\core\\pylabtools.py:151: UserWarning: Glyph 54532 (\\N{HANGUL SYLLABLE PEU}) missing from current font.\n",
      "  fig.canvas.print_figure(bytes_io, **kw)\n",
      "C:\\Users\\user\\anaconda3\\lib\\site-packages\\IPython\\core\\pylabtools.py:151: UserWarning: Glyph 47196 (\\N{HANGUL SYLLABLE RO}) missing from current font.\n",
      "  fig.canvas.print_figure(bytes_io, **kw)\n",
      "C:\\Users\\user\\anaconda3\\lib\\site-packages\\IPython\\core\\pylabtools.py:151: UserWarning: Glyph 44536 (\\N{HANGUL SYLLABLE GEU}) missing from current font.\n",
      "  fig.canvas.print_figure(bytes_io, **kw)\n",
      "C:\\Users\\user\\anaconda3\\lib\\site-packages\\IPython\\core\\pylabtools.py:151: UserWarning: Glyph 47000 (\\N{HANGUL SYLLABLE RAE}) missing from current font.\n",
      "  fig.canvas.print_figure(bytes_io, **kw)\n",
      "C:\\Users\\user\\anaconda3\\lib\\site-packages\\IPython\\core\\pylabtools.py:151: UserWarning: Glyph 48141 (\\N{HANGUL SYLLABLE MING}) missing from current font.\n",
      "  fig.canvas.print_figure(bytes_io, **kw)\n",
      "C:\\Users\\user\\anaconda3\\lib\\site-packages\\IPython\\core\\pylabtools.py:151: UserWarning: Glyph 45936 (\\N{HANGUL SYLLABLE DE}) missing from current font.\n",
      "  fig.canvas.print_figure(bytes_io, **kw)\n",
      "C:\\Users\\user\\anaconda3\\lib\\site-packages\\IPython\\core\\pylabtools.py:151: UserWarning: Glyph 51060 (\\N{HANGUL SYLLABLE I}) missing from current font.\n",
      "  fig.canvas.print_figure(bytes_io, **kw)\n",
      "C:\\Users\\user\\anaconda3\\lib\\site-packages\\IPython\\core\\pylabtools.py:151: UserWarning: Glyph 53552 (\\N{HANGUL SYLLABLE TEO}) missing from current font.\n",
      "  fig.canvas.print_figure(bytes_io, **kw)\n",
      "C:\\Users\\user\\anaconda3\\lib\\site-packages\\IPython\\core\\pylabtools.py:151: UserWarning: Glyph 49324 (\\N{HANGUL SYLLABLE SA}) missing from current font.\n",
      "  fig.canvas.print_figure(bytes_io, **kw)\n",
      "C:\\Users\\user\\anaconda3\\lib\\site-packages\\IPython\\core\\pylabtools.py:151: UserWarning: Glyph 50616 (\\N{HANGUL SYLLABLE EON}) missing from current font.\n",
      "  fig.canvas.print_figure(bytes_io, **kw)\n",
      "C:\\Users\\user\\anaconda3\\lib\\site-packages\\IPython\\core\\pylabtools.py:151: UserWarning: Glyph 49828 (\\N{HANGUL SYLLABLE SEU}) missing from current font.\n",
      "  fig.canvas.print_figure(bytes_io, **kw)\n",
      "C:\\Users\\user\\anaconda3\\lib\\site-packages\\IPython\\core\\pylabtools.py:151: UserWarning: Glyph 50629 (\\N{HANGUL SYLLABLE EOB}) missing from current font.\n",
      "  fig.canvas.print_figure(bytes_io, **kw)\n",
      "C:\\Users\\user\\anaconda3\\lib\\site-packages\\IPython\\core\\pylabtools.py:151: UserWarning: Glyph 47924 (\\N{HANGUL SYLLABLE MU}) missing from current font.\n",
      "  fig.canvas.print_figure(bytes_io, **kw)\n",
      "C:\\Users\\user\\anaconda3\\lib\\site-packages\\IPython\\core\\pylabtools.py:151: UserWarning: Glyph 49373 (\\N{HANGUL SYLLABLE SAENG}) missing from current font.\n",
      "  fig.canvas.print_figure(bytes_io, **kw)\n",
      "C:\\Users\\user\\anaconda3\\lib\\site-packages\\IPython\\core\\pylabtools.py:151: UserWarning: Glyph 49328 (\\N{HANGUL SYLLABLE SAN}) missing from current font.\n",
      "  fig.canvas.print_figure(bytes_io, **kw)\n",
      "C:\\Users\\user\\anaconda3\\lib\\site-packages\\IPython\\core\\pylabtools.py:151: UserWarning: Glyph 49457 (\\N{HANGUL SYLLABLE SEONG}) missing from current font.\n",
      "  fig.canvas.print_figure(bytes_io, **kw)\n",
      "C:\\Users\\user\\anaconda3\\lib\\site-packages\\IPython\\core\\pylabtools.py:151: UserWarning: Glyph 53356 (\\N{HANGUL SYLLABLE KEU}) missing from current font.\n",
      "  fig.canvas.print_figure(bytes_io, **kw)\n",
      "C:\\Users\\user\\anaconda3\\lib\\site-packages\\IPython\\core\\pylabtools.py:151: UserWarning: Glyph 47532 (\\N{HANGUL SYLLABLE RI}) missing from current font.\n",
      "  fig.canvas.print_figure(bytes_io, **kw)\n",
      "C:\\Users\\user\\anaconda3\\lib\\site-packages\\IPython\\core\\pylabtools.py:151: UserWarning: Glyph 50640 (\\N{HANGUL SYLLABLE E}) missing from current font.\n",
      "  fig.canvas.print_figure(bytes_io, **kw)\n",
      "C:\\Users\\user\\anaconda3\\lib\\site-packages\\IPython\\core\\pylabtools.py:151: UserWarning: Glyph 54000 (\\N{HANGUL SYLLABLE TI}) missing from current font.\n",
      "  fig.canvas.print_figure(bytes_io, **kw)\n",
      "C:\\Users\\user\\anaconda3\\lib\\site-packages\\IPython\\core\\pylabtools.py:151: UserWarning: Glyph 48652 (\\N{HANGUL SYLLABLE BEU}) missing from current font.\n",
      "  fig.canvas.print_figure(bytes_io, **kw)\n",
      "C:\\Users\\user\\anaconda3\\lib\\site-packages\\IPython\\core\\pylabtools.py:151: UserWarning: Glyph 48512 (\\N{HANGUL SYLLABLE BU}) missing from current font.\n",
      "  fig.canvas.print_figure(bytes_io, **kw)\n",
      "C:\\Users\\user\\anaconda3\\lib\\site-packages\\IPython\\core\\pylabtools.py:151: UserWarning: Glyph 46041 (\\N{HANGUL SYLLABLE DONG}) missing from current font.\n",
      "  fig.canvas.print_figure(bytes_io, **kw)\n",
      "C:\\Users\\user\\anaconda3\\lib\\site-packages\\IPython\\core\\pylabtools.py:151: UserWarning: Glyph 44552 (\\N{HANGUL SYLLABLE GEUM}) missing from current font.\n",
      "  fig.canvas.print_figure(bytes_io, **kw)\n",
      "C:\\Users\\user\\anaconda3\\lib\\site-packages\\IPython\\core\\pylabtools.py:151: UserWarning: Glyph 50997 (\\N{HANGUL SYLLABLE YUNG}) missing from current font.\n",
      "  fig.canvas.print_figure(bytes_io, **kw)\n",
      "C:\\Users\\user\\anaconda3\\lib\\site-packages\\IPython\\core\\pylabtools.py:151: UserWarning: Glyph 47560 (\\N{HANGUL SYLLABLE MA}) missing from current font.\n",
      "  fig.canvas.print_figure(bytes_io, **kw)\n",
      "C:\\Users\\user\\anaconda3\\lib\\site-packages\\IPython\\core\\pylabtools.py:151: UserWarning: Glyph 52992 (\\N{HANGUL SYLLABLE KE}) missing from current font.\n",
      "  fig.canvas.print_figure(bytes_io, **kw)\n",
      "C:\\Users\\user\\anaconda3\\lib\\site-packages\\IPython\\core\\pylabtools.py:151: UserWarning: Glyph 54021 (\\N{HANGUL SYLLABLE TING}) missing from current font.\n",
      "  fig.canvas.print_figure(bytes_io, **kw)\n",
      "C:\\Users\\user\\anaconda3\\lib\\site-packages\\IPython\\core\\pylabtools.py:151: UserWarning: Glyph 53804 (\\N{HANGUL SYLLABLE TU}) missing from current font.\n",
      "  fig.canvas.print_figure(bytes_io, **kw)\n",
      "C:\\Users\\user\\anaconda3\\lib\\site-packages\\IPython\\core\\pylabtools.py:151: UserWarning: Glyph 51088 (\\N{HANGUL SYLLABLE JA}) missing from current font.\n",
      "  fig.canvas.print_figure(bytes_io, **kw)\n",
      "C:\\Users\\user\\anaconda3\\lib\\site-packages\\IPython\\core\\pylabtools.py:151: UserWarning: Glyph 51116 (\\N{HANGUL SYLLABLE JAE}) missing from current font.\n",
      "  fig.canvas.print_figure(bytes_io, **kw)\n",
      "C:\\Users\\user\\anaconda3\\lib\\site-packages\\IPython\\core\\pylabtools.py:151: UserWarning: Glyph 53580 (\\N{HANGUL SYLLABLE TE}) missing from current font.\n",
      "  fig.canvas.print_figure(bytes_io, **kw)\n"
     ]
    },
    {
     "data": {
      "image/png": "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\n",
      "text/plain": [
       "<Figure size 432x288 with 1 Axes>"
      ]
     },
     "metadata": {
      "needs_background": "light"
     },
     "output_type": "display_data"
    }
   ],
   "source": [
    "group_date_cate.plot().barh()\n",
    "plt.show()   # 그래프"
   ]
  },
  {
   "cell_type": "markdown",
   "id": "feb06fd0",
   "metadata": {},
   "source": [
    "## course title 패키지 / 패키지x "
   ]
  },
  {
   "cell_type": "code",
   "execution_count": 118,
   "id": "aa4db2d7",
   "metadata": {
    "ExecuteTime": {
     "end_time": "2022-06-30T06:31:44.793059Z",
     "start_time": "2022-06-30T06:31:44.591973Z"
    }
   },
   "outputs": [
    {
     "data": {
      "text/plain": [
       "76945"
      ]
     },
     "execution_count": 118,
     "metadata": {},
     "output_type": "execute_result"
    }
   ],
   "source": [
    "grouped_p = df[df['course_title'].str.contains('패키지')].value_counts().sum()\n",
    "grouped_p   # 패키지만 모은것 "
   ]
  },
  {
   "cell_type": "code",
   "execution_count": 119,
   "id": "788db42c",
   "metadata": {
    "ExecuteTime": {
     "end_time": "2022-06-30T06:31:46.916138Z",
     "start_time": "2022-06-30T06:31:46.893772Z"
    }
   },
   "outputs": [
    {
     "data": {
      "text/plain": [
       "101102"
      ]
     },
     "execution_count": 119,
     "metadata": {},
     "output_type": "execute_result"
    }
   ],
   "source": [
    "course_all = df['course_title'].value_counts().sum()\n",
    "course_all   # 전체 팔린 수 "
   ]
  },
  {
   "cell_type": "code",
   "execution_count": 122,
   "id": "77915c82",
   "metadata": {
    "ExecuteTime": {
     "end_time": "2022-06-30T06:35:50.651954Z",
     "start_time": "2022-06-30T06:35:50.641031Z"
    }
   },
   "outputs": [
    {
     "data": {
      "text/plain": [
       "24157"
      ]
     },
     "execution_count": 122,
     "metadata": {},
     "output_type": "execute_result"
    }
   ],
   "source": [
    "grouped_n = course_all - grouped_p\n",
    "grouped_n  # 패키지 아닌것"
   ]
  },
  {
   "cell_type": "markdown",
   "id": "b42eaa0d",
   "metadata": {},
   "source": [
    "## cancelled 가장 많은 강좌"
   ]
  },
  {
   "cell_type": "code",
   "execution_count": 205,
   "id": "3ea8bffc",
   "metadata": {
    "ExecuteTime": {
     "end_time": "2022-06-30T07:50:14.143186Z",
     "start_time": "2022-06-30T07:50:14.110886Z"
    }
   },
   "outputs": [
    {
     "data": {
      "text/plain": [
       "256"
      ]
     },
     "execution_count": 205,
     "metadata": {},
     "output_type": "execute_result"
    }
   ],
   "source": [
    "df[(df['type'] == 'PAYMENT') & (df['state'] == 'CANCELLED')]['course_title'].value_counts().max()"
   ]
  },
  {
   "cell_type": "code",
   "execution_count": 206,
   "id": "f689d9e2",
   "metadata": {
    "ExecuteTime": {
     "end_time": "2022-06-30T07:50:23.124462Z",
     "start_time": "2022-06-30T07:50:23.083084Z"
    }
   },
   "outputs": [
    {
     "data": {
      "text/plain": [
       "23.418367346938776"
      ]
     },
     "execution_count": 206,
     "metadata": {},
     "output_type": "execute_result"
    }
   ],
   "source": [
    "df[(df['type'] == 'PAYMENT') & (df['state'] == 'CANCELLED')]['course_title'].value_counts().mean()"
   ]
  },
  {
   "cell_type": "code",
   "execution_count": 207,
   "id": "167314ec",
   "metadata": {
    "ExecuteTime": {
     "end_time": "2022-06-30T07:50:30.459358Z",
     "start_time": "2022-06-30T07:50:30.424684Z"
    }
   },
   "outputs": [
    {
     "data": {
      "text/plain": [
       "1"
      ]
     },
     "execution_count": 207,
     "metadata": {},
     "output_type": "execute_result"
    }
   ],
   "source": [
    "df[(df['type'] == 'PAYMENT') & (df['state'] == 'CANCELLED')]['course_title'].value_counts().min()"
   ]
  },
  {
   "cell_type": "code",
   "execution_count": 202,
   "id": "39faea3e",
   "metadata": {
    "ExecuteTime": {
     "end_time": "2022-06-30T07:49:45.800215Z",
     "start_time": "2022-06-30T07:49:45.765768Z"
    }
   },
   "outputs": [
    {
     "data": {
      "text/plain": [
       "나의 칼퇴치트키 엑셀유치원                                   256\n",
       "올인원 패키지 : star741의 캐주얼 일러스트 드로잉                  217\n",
       "초격차 패키지 : 한 번에 끝내는 프론트엔드 개발                      193\n",
       "올인원 패키지 : 박세익 전무에게 배우는 주식 시장 분석 & 포트폴리오 운용 전략    184\n",
       "용호수의 돈 버는 실전 영상 제작                               165\n",
       "올인원 패키지 : 박담 작가와 함께 남자 캐릭터 드로잉                   155\n",
       "The RED : 김영하 작가의 내 안의 숨은 이야기를 찾아 쓰는 법           131\n",
       "초격차 패키지 : 한번에 끝내는 영상 촬영과 편집                      114\n",
       "초격차 패키지 : 한번에 끝내는 Java/Spring 웹 개발 마스터           114\n",
       "초격차 패키지 : 일잘러 필수 스킬 모음.zip                       106\n",
       "초격차 패키지 : 한 번에 끝내는 코딩테스트 369 Java편               105\n",
       "초격차 패키지 : 한 번에 끝내는 컴퓨터 공학 전공필수 & 인공지능 심화         104\n",
       "초격차 패키지 : 한 번에 끝내는 AWS 인프라 구축과 DevOps 운영         102\n",
       "초격차 패키지 : 한번에 끝내는 UX/UI 디자인                      101\n",
       "초격차 패키지 : 세상의 모든 감성 아이패드 드로잉                      96\n",
       "초격차 패키지 : 한번에 끝내는 디자인 툴                           96\n",
       "초격차 패키지 : 한 번에 끝내는 React의 모든 것                    91\n",
       "초격차 패키지 : 한 번에 끝내는 파이썬 웹 개발                       86\n",
       "초격차 패키지 : 30개 프로젝트로 배우는 iOS 앱 개발 with Swift       85\n",
       "초격차 패키지 : 한 번에 끝내는 딥러닝/인공지능                       82\n",
       "Name: course_title, dtype: int64"
      ]
     },
     "execution_count": 202,
     "metadata": {},
     "output_type": "execute_result"
    }
   ],
   "source": [
    "# 취소 상위 20\n",
    "df[(df['type'] == 'PAYMENT') & (df['state'] == 'CANCELLED')]['course_title'].value_counts().sort_values(ascending=False)[:20]"
   ]
  },
  {
   "cell_type": "code",
   "execution_count": 201,
   "id": "c5267268",
   "metadata": {
    "ExecuteTime": {
     "end_time": "2022-06-30T07:48:52.680481Z",
     "start_time": "2022-06-30T07:48:52.591852Z"
    }
   },
   "outputs": [
    {
     "data": {
      "text/plain": [
       "올인원 패키지 : 동영상 마케팅 2020                                           1\n",
       "프로모션 : 취준생 필수! 이력서 꽉채우는 평생 PASS (8월 프리패스)                        1\n",
       "프로모션 : 국내외 TOP tier 전문가와 함께하는 데이터 사이언스 프로젝트 평생 PASS (8월 프리패스)    1\n",
       "프로모션 : 풀스택 마케팅 맥북 air 패스(9월 현물 프리패스)                             1\n",
       "프로모션 : 주니어들을 위한 직장인 스킬 UP 평생 PASS (8월 프리패스)                      1\n",
       "프로모션 : 데이터 활용 능력을 바꿔 줄 데이터 분석 평생 PASS (8월 프리패스)                  1\n",
       "프로모션 : MZ세대를 잡아라! SNS 마케팅 트렌드 평생 PASS (8월 프리패스)                  1\n",
       "프로모션 : 콘텐츠 디자이너를 위한 커리어 백과사전 평생 PASS (8월 프리패스)                   1\n",
       "프로모션 : 부동산 재테크 맥북 air 패스 (9월 현물 프리패스)                            1\n",
       "프로모션 : 직장인 필수 스킬 맥북 pro 패스(9월 현물 프리패스)                           1\n",
       "프로모션 : 취업까지 순식간! 개발 취준생을 위한 합격 평생 PASS (8월 프리패스)                 1\n",
       "부동산 디벨로퍼 아카데미 : 상업용/숙박용 부동산 개발 The Real                          1\n",
       "REC.ON : 틱톡(TikTok)                                              1\n",
       "프로모션 : MBA부터 HR까지 직장인 스킬 벼락치기 패키지 (9월 프리패스)                      1\n",
       "프로모션 : 자연어 처리 마스터 무한패스 (9월 프리패스)                                 1\n",
       "프로모션 : 영상인식 마스터 무한패스 (9월 프리패스)                                   1\n",
       "프로모션 : 워라밸을 꿈꾸는 직장인을 위한 무한패스 (9월 프리패스)                           1\n",
       "프로모션 : 워라밸을 완성하는 직장인 필수스킬 벼락치기 패키지 (9월 프리패스)                     1\n",
       "프로모션 : 칼퇴기원! 실전압축 직장인 엑셀 평생 PASS (8월 프리패스)                       1\n",
       "프로모션 : 고급 데이터 분석의 A to Z 데이터 분석 바이블 벼락치기 패키지  (9월 프리패스)          1\n",
       "Name: course_title, dtype: int64"
      ]
     },
     "execution_count": 201,
     "metadata": {},
     "output_type": "execute_result"
    }
   ],
   "source": [
    "# 취소 하위 20\n",
    "df[(df['type'] == 'PAYMENT') & (df['state'] == 'CANCELLED')]['course_title'].value_counts().sort_values()[:20]"
   ]
  },
  {
   "cell_type": "code",
   "execution_count": 218,
   "id": "799931a8",
   "metadata": {
    "ExecuteTime": {
     "end_time": "2022-06-30T07:53:36.663846Z",
     "start_time": "2022-06-30T07:53:36.626897Z"
    },
    "scrolled": true
   },
   "outputs": [
    {
     "data": {
      "text/plain": [
       "초격차 패키지 : 한 번에 끝내는 프론트엔드 개발                                           121\n",
       "초격차 패키지 : 한번에 끝내는 Java/Spring 웹 개발 마스터                                105\n",
       "초격차 패키지 : 한 번에 끝내는 node.js 웹 프로그래밍                                     68\n",
       "올인원 패키지 : star741의 캐주얼 일러스트 드로잉                                        65\n",
       "초격차 패키지 : 한번에 끝내는 디자인 툴                                                64\n",
       "초격차 패키지 : 30개 프로젝트로 배우는 Android 앱 개발 with Kotlin                       63\n",
       "초격차 패키지 : 한번에 끝내는 영상 촬영과 편집                                            60\n",
       "The RED : 김영하 작가의 내 안의 숨은 이야기를 찾아 쓰는 법                                 57\n",
       "올인원 패키지 : 아카데미 : 편집하는여자의 영상편집 마스터클래스 - 제 1강 프리미어프로 베이직                 55\n",
       "올인원 패키지 : 김민태의 프론트엔드 아카데미 : 제 1강 JavaScript & TypeScript Essential     53\n",
       "초격차 패키지 : 한번에 끝내는 모션그래픽                                                50\n",
       "초격차 패키지 : 한번에 끝내는 UX/UI 디자인                                            50\n",
       "초격차 패키지 : 한번에 끝내는 PPT 제작/디자인                                           50\n",
       "올인원 패키지 : 박세익 전무에게 배우는 주식 시장 분석 & 포트폴리오 운용 전략                          47\n",
       "초격차 패키지 : 한 번에 끝내는 파이썬 웹 개발                                            46\n",
       "올인원 패키지 : 완전정복 시각디자인 기초                                                46\n",
       "초격차 패키지 : 일잘러 필수 스킬 모음.zip                                             43\n",
       "초격차 패키지 : 세상의 모든 감성 아이패드 드로잉                                           43\n",
       "매주)디지털 마케팅 온라인 완주반                                                     43\n",
       "초격차 패키지 : 한 번에 끝내는 코딩테스트 369 Java편                                     38\n",
       "Name: course_title, dtype: int64"
      ]
     },
     "execution_count": 218,
     "metadata": {},
     "output_type": "execute_result"
    }
   ],
   "source": [
    "# 환불 강좌 상위 20\n",
    "df[(df['type'] == 'REFUND') & (df['state'] == 'COMPLETED')]['course_title'].value_counts().sort_values(ascending=False)[:20]"
   ]
  },
  {
   "cell_type": "code",
   "execution_count": 219,
   "id": "fc987aac",
   "metadata": {
    "ExecuteTime": {
     "end_time": "2022-06-30T07:54:26.310064Z",
     "start_time": "2022-06-30T07:54:26.284024Z"
    },
    "scrolled": true
   },
   "outputs": [
    {
     "data": {
      "text/plain": [
       "프로모션 : 콘텐츠 마케터 맥북 air 패스(9월 현물 프리패스)                         1\n",
       "프로모션 : 전략적 브랜딩을 위한 마케팅 벼락치기 패키지 (9월 프리패스)                    1\n",
       "프로모션 : 커리어를 UP! UX/UI 디자인 벼락치기 패키지 (9월 프리패스)                 1\n",
       "프로모션 : 매출을 드라이브 하는 마케팅 백과사전 패키지 (9월 프리패스)                    1\n",
       "The RED : 프론트엔드 개발자 김태곤                                      1\n",
       "프로모션 : 매출을 드라이브 하는 마케팅 백과사전 평생 PASS (8월 프리패스)                1\n",
       "올인원 패키지 : TypeScript & Angular 실전                            1\n",
       "올인원 패키지 : 파이썬을 활용한 시계열 데이터 분석 A-Z                            1\n",
       "프로모션 : 지금은 마테크가 대세! 매출을 일으키는 마케팅 평생 PASS (8월 프리패스)           1\n",
       "The RED : 최고제품책임자(CPO) 윤희경                                   1\n",
       "시크릿코드 : SpringBoot/JPA (1)                                   1\n",
       "올인원 패키지 : 동영상 마케팅 2020                                       1\n",
       "The RED : 데이터 사이언티스트 하용호                                     1\n",
       "[120일 수강 가능] 올인원 패키지 : 모두를 위한 SQL/DB                         1\n",
       "프로모션 : MBA부터 HR까지 직장인 스킬업 무제한 99패스 (5월 프리패스)                 1\n",
       "프로모션 : 영알못도 완성하는 영상편집 무제한 99패스 (5월 프리패스)                     1\n",
       "[한정판매] 자연어 A-Z 끝장 패키지(~4월)                                   1\n",
       "[120일 수강 가능] 올인원 패키지 : 직장인을 위한 파이썬 데이터분석                     1\n",
       "프로모션 : 코딩 LEVEL UP 웹 개발 풀스텍 무제한 99패스 (5월 프리패스)               1\n",
       "프로모션 : 풀스택 마케터를 위한 마케팅 프리패스 (5월 삼성 패키지 현물 :  삼성 갤럭시 북 프로)    1\n",
       "Name: course_title, dtype: int64"
      ]
     },
     "execution_count": 219,
     "metadata": {},
     "output_type": "execute_result"
    }
   ],
   "source": [
    "# 환불 강좌 하위 20\n",
    "df[(df['type'] == 'REFUND') & (df['state'] == 'COMPLETED')]['course_title'].value_counts().sort_values()[:20]"
   ]
  },
  {
   "cell_type": "code",
   "execution_count": 216,
   "id": "65153d17",
   "metadata": {
    "ExecuteTime": {
     "end_time": "2022-06-30T07:53:06.842941Z",
     "start_time": "2022-06-30T07:53:06.802949Z"
    }
   },
   "outputs": [
    {
     "data": {
      "text/html": [
       "<div>\n",
       "<style scoped>\n",
       "    .dataframe tbody tr th:only-of-type {\n",
       "        vertical-align: middle;\n",
       "    }\n",
       "\n",
       "    .dataframe tbody tr th {\n",
       "        vertical-align: top;\n",
       "    }\n",
       "\n",
       "    .dataframe thead th {\n",
       "        text-align: right;\n",
       "    }\n",
       "</style>\n",
       "<table border=\"1\" class=\"dataframe\">\n",
       "  <thead>\n",
       "    <tr style=\"text-align: right;\">\n",
       "      <th></th>\n",
       "      <th>id</th>\n",
       "      <th>customer_id</th>\n",
       "      <th>course_id</th>\n",
       "      <th>type</th>\n",
       "      <th>state</th>\n",
       "      <th>course_title</th>\n",
       "      <th>category_title</th>\n",
       "      <th>format</th>\n",
       "      <th>completed_at</th>\n",
       "      <th>transaction_amount</th>\n",
       "      <th>coupon_title</th>\n",
       "      <th>coupon_discount_amount</th>\n",
       "      <th>sale_price</th>\n",
       "      <th>pg</th>\n",
       "      <th>method</th>\n",
       "      <th>subcategory_title</th>\n",
       "      <th>marketing_start_at</th>\n",
       "      <th>completed_ym</th>\n",
       "      <th>completed_ymd</th>\n",
       "    </tr>\n",
       "  </thead>\n",
       "  <tbody>\n",
       "  </tbody>\n",
       "</table>\n",
       "</div>"
      ],
      "text/plain": [
       "Empty DataFrame\n",
       "Columns: [id, customer_id, course_id, type, state, course_title, category_title, format, completed_at, transaction_amount, coupon_title, coupon_discount_amount, sale_price, pg, method, subcategory_title, marketing_start_at, completed_ym, completed_ymd]\n",
       "Index: []"
      ]
     },
     "execution_count": 216,
     "metadata": {},
     "output_type": "execute_result"
    }
   ],
   "source": [
    "df[(df['type'] == 'REFUND') & (df['state'] == 'COMPLETED') & (df['transaction_amount'] > 0)]"
   ]
  },
  {
   "cell_type": "code",
   "execution_count": null,
   "id": "ec5eb012",
   "metadata": {},
   "outputs": [],
   "source": []
  },
  {
   "cell_type": "markdown",
   "id": "478fdc91",
   "metadata": {},
   "source": [
    "## PG사 목록"
   ]
  },
  {
   "cell_type": "code",
   "execution_count": 220,
   "id": "c463b2cc",
   "metadata": {
    "ExecuteTime": {
     "end_time": "2022-06-30T07:55:40.000038Z",
     "start_time": "2022-06-30T07:55:39.967578Z"
    }
   },
   "outputs": [
    {
     "data": {
      "text/plain": [
       "INICIS    58812\n",
       "KAKAO     17138\n",
       "COMM      12243\n",
       "NAVER      7979\n",
       "PAYCO      4609\n",
       "CHAI        321\n",
       "Name: pg, dtype: int64"
      ]
     },
     "execution_count": 220,
     "metadata": {},
     "output_type": "execute_result"
    }
   ],
   "source": [
    "df['pg'].value_counts()"
   ]
  },
  {
   "cell_type": "code",
   "execution_count": 224,
   "id": "69b77529",
   "metadata": {
    "ExecuteTime": {
     "end_time": "2022-06-30T07:57:37.815645Z",
     "start_time": "2022-06-30T07:57:37.663915Z"
    }
   },
   "outputs": [
    {
     "name": "stdout",
     "output_type": "stream",
     "text": [
      "<class 'pandas.core.frame.DataFrame'>\n",
      "RangeIndex: 101102 entries, 0 to 101101\n",
      "Data columns (total 19 columns):\n",
      " #   Column                  Non-Null Count   Dtype         \n",
      "---  ------                  --------------   -----         \n",
      " 0   id                      101102 non-null  int64         \n",
      " 1   customer_id             101102 non-null  int64         \n",
      " 2   course_id               101102 non-null  int64         \n",
      " 3   type                    101102 non-null  object        \n",
      " 4   state                   101102 non-null  object        \n",
      " 5   course_title            101102 non-null  object        \n",
      " 6   category_title          101102 non-null  object        \n",
      " 7   format                  101102 non-null  object        \n",
      " 8   completed_at            101102 non-null  datetime64[ns]\n",
      " 9   transaction_amount      101102 non-null  int64         \n",
      " 10  coupon_title            101102 non-null  object        \n",
      " 11  coupon_discount_amount  101102 non-null  int64         \n",
      " 12  sale_price              101102 non-null  int64         \n",
      " 13  pg                      101102 non-null  object        \n",
      " 14  method                  101102 non-null  object        \n",
      " 15  subcategory_title       101102 non-null  object        \n",
      " 16  marketing_start_at      101102 non-null  datetime64[ns]\n",
      " 17  completed_ym            101102 non-null  object        \n",
      " 18  completed_ymd           101102 non-null  object        \n",
      "dtypes: datetime64[ns](2), int64(6), object(11)\n",
      "memory usage: 14.7+ MB\n"
     ]
    }
   ],
   "source": [
    "df.info()"
   ]
  },
  {
   "cell_type": "markdown",
   "id": "22632db7",
   "metadata": {},
   "source": [
    "## VIP 그룹 분석"
   ]
  },
  {
   "cell_type": "code",
   "execution_count": 241,
   "id": "a8323c14",
   "metadata": {
    "ExecuteTime": {
     "end_time": "2022-06-30T08:01:55.029446Z",
     "start_time": "2022-06-30T08:01:55.010146Z"
    }
   },
   "outputs": [
    {
     "data": {
      "text/plain": [
       "7515345"
      ]
     },
     "execution_count": 241,
     "metadata": {},
     "output_type": "execute_result"
    }
   ],
   "source": [
    "df[df['customer_id'] == 40783]['transaction_amount'].sum()"
   ]
  },
  {
   "cell_type": "code",
   "execution_count": 244,
   "id": "85995858",
   "metadata": {
    "ExecuteTime": {
     "end_time": "2022-06-30T08:03:20.076125Z",
     "start_time": "2022-06-30T08:03:20.014257Z"
    }
   },
   "outputs": [
    {
     "data": {
      "text/plain": [
       "customer_id\n",
       "98685     9537750\n",
       "40783     7515345\n",
       "633181    7350000\n",
       "50769     7303870\n",
       "459232    7200000\n",
       "161395    7200000\n",
       "536717    6450000\n",
       "538965    5847300\n",
       "496508    5685400\n",
       "507600    5580000\n",
       "591699    5580000\n",
       "668293    5400000\n",
       "417924    5365100\n",
       "593940    5160000\n",
       "6526      5050850\n",
       "20784     5044600\n",
       "23171     4856200\n",
       "524089    4586200\n",
       "502821    4576850\n",
       "15407     4503200\n",
       "156653    4455200\n",
       "72501     4351650\n",
       "56837     4249225\n",
       "119702    4076500\n",
       "598545    4028000\n",
       "456812    4008300\n",
       "617785    3990000\n",
       "472817    3915000\n",
       "484098    3910000\n",
       "520295    3878800\n",
       "592929    3870000\n",
       "598315    3870000\n",
       "598459    3870000\n",
       "592835    3870000\n",
       "170851    3870000\n",
       "594601    3870000\n",
       "65665     3854700\n",
       "548085    3817200\n",
       "382725    3720000\n",
       "534149    3691000\n",
       "545804    3689000\n",
       "152893    3600000\n",
       "667514    3600000\n",
       "653384    3600000\n",
       "475055    3600000\n",
       "668028    3600000\n",
       "667135    3600000\n",
       "43265     3600000\n",
       "463647    3468200\n",
       "631       3444700\n",
       "Name: transaction_amount, dtype: int64"
      ]
     },
     "execution_count": 244,
     "metadata": {},
     "output_type": "execute_result"
    }
   ],
   "source": [
    "VIP = df.groupby('customer_id').sum()['transaction_amount'].sort_values(ascending=False)[:50]\n",
    "VIP"
   ]
  },
  {
   "cell_type": "code",
   "execution_count": 245,
   "id": "6b3fcb43",
   "metadata": {
    "ExecuteTime": {
     "end_time": "2022-06-30T08:03:49.032905Z",
     "start_time": "2022-06-30T08:03:49.000236Z"
    }
   },
   "outputs": [
    {
     "data": {
      "text/plain": [
       "98685     78\n",
       "50769     62\n",
       "40783     59\n",
       "23171     48\n",
       "496508    47\n",
       "20784     47\n",
       "6526      38\n",
       "55928     38\n",
       "502821    37\n",
       "65665     36\n",
       "417924    35\n",
       "494420    29\n",
       "390054    29\n",
       "72501     29\n",
       "98499     28\n",
       "13443     28\n",
       "270542    27\n",
       "30629     27\n",
       "430994    26\n",
       "171104    26\n",
       "56608     26\n",
       "19593     26\n",
       "530876    26\n",
       "11576     25\n",
       "499543    25\n",
       "177386    25\n",
       "147116    25\n",
       "69151     24\n",
       "273223    24\n",
       "14845     23\n",
       "624778    23\n",
       "479816    23\n",
       "156653    23\n",
       "631       23\n",
       "537615    23\n",
       "56837     23\n",
       "571694    22\n",
       "99032     22\n",
       "427728    22\n",
       "87007     22\n",
       "47846     22\n",
       "472817    21\n",
       "272087    21\n",
       "83327     21\n",
       "524089    21\n",
       "512712    21\n",
       "20648     21\n",
       "572190    21\n",
       "515059    20\n",
       "275720    20\n",
       "Name: customer_id, dtype: int64"
      ]
     },
     "execution_count": 245,
     "metadata": {},
     "output_type": "execute_result"
    }
   ],
   "source": [
    "df['customer_id'].value_counts()[:50]"
   ]
  },
  {
   "cell_type": "code",
   "execution_count": null,
   "id": "36ff078b",
   "metadata": {},
   "outputs": [],
   "source": []
  },
  {
   "cell_type": "code",
   "execution_count": null,
   "id": "c4625c45",
   "metadata": {},
   "outputs": [],
   "source": []
  },
  {
   "cell_type": "code",
   "execution_count": null,
   "id": "36496093",
   "metadata": {},
   "outputs": [],
   "source": []
  },
  {
   "cell_type": "code",
   "execution_count": null,
   "id": "d8aa01b6",
   "metadata": {},
   "outputs": [],
   "source": []
  },
  {
   "cell_type": "code",
   "execution_count": null,
   "id": "5eac12dd",
   "metadata": {},
   "outputs": [],
   "source": []
  },
  {
   "cell_type": "code",
   "execution_count": null,
   "id": "f92d8cc1",
   "metadata": {},
   "outputs": [],
   "source": []
  },
  {
   "cell_type": "code",
   "execution_count": 161,
   "id": "ff8e8d5a",
   "metadata": {
    "ExecuteTime": {
     "end_time": "2022-06-30T07:30:55.029711Z",
     "start_time": "2022-06-30T07:30:54.632852Z"
    }
   },
   "outputs": [
    {
     "ename": "AttributeError",
     "evalue": "Can only use .dt accessor with datetimelike values",
     "output_type": "error",
     "traceback": [
      "\u001b[1;31m---------------------------------------------------------------------------\u001b[0m",
      "\u001b[1;31mAttributeError\u001b[0m                            Traceback (most recent call last)",
      "Input \u001b[1;32mIn [161]\u001b[0m, in \u001b[0;36m<cell line: 1>\u001b[1;34m()\u001b[0m\n\u001b[1;32m----> 1\u001b[0m \u001b[43mdf\u001b[49m\u001b[38;5;241;43m.\u001b[39;49m\u001b[43mquery\u001b[49m\u001b[43m(\u001b[49m\u001b[38;5;124;43m'\u001b[39;49m\u001b[38;5;124;43mcompleted_ymd.dt.dayofweek == 0\u001b[39;49m\u001b[38;5;124;43m'\u001b[39;49m\u001b[43m)\u001b[49m\n",
      "File \u001b[1;32m~\\anaconda3\\lib\\site-packages\\pandas\\core\\frame.py:4111\u001b[0m, in \u001b[0;36mDataFrame.query\u001b[1;34m(self, expr, inplace, **kwargs)\u001b[0m\n\u001b[0;32m   4109\u001b[0m kwargs[\u001b[38;5;124m\"\u001b[39m\u001b[38;5;124mlevel\u001b[39m\u001b[38;5;124m\"\u001b[39m] \u001b[38;5;241m=\u001b[39m kwargs\u001b[38;5;241m.\u001b[39mpop(\u001b[38;5;124m\"\u001b[39m\u001b[38;5;124mlevel\u001b[39m\u001b[38;5;124m\"\u001b[39m, \u001b[38;5;241m0\u001b[39m) \u001b[38;5;241m+\u001b[39m \u001b[38;5;241m1\u001b[39m\n\u001b[0;32m   4110\u001b[0m kwargs[\u001b[38;5;124m\"\u001b[39m\u001b[38;5;124mtarget\u001b[39m\u001b[38;5;124m\"\u001b[39m] \u001b[38;5;241m=\u001b[39m \u001b[38;5;28;01mNone\u001b[39;00m\n\u001b[1;32m-> 4111\u001b[0m res \u001b[38;5;241m=\u001b[39m \u001b[38;5;28mself\u001b[39m\u001b[38;5;241m.\u001b[39meval(expr, \u001b[38;5;241m*\u001b[39m\u001b[38;5;241m*\u001b[39mkwargs)\n\u001b[0;32m   4113\u001b[0m \u001b[38;5;28;01mtry\u001b[39;00m:\n\u001b[0;32m   4114\u001b[0m     result \u001b[38;5;241m=\u001b[39m \u001b[38;5;28mself\u001b[39m\u001b[38;5;241m.\u001b[39mloc[res]\n",
      "File \u001b[1;32m~\\anaconda3\\lib\\site-packages\\pandas\\core\\frame.py:4240\u001b[0m, in \u001b[0;36mDataFrame.eval\u001b[1;34m(self, expr, inplace, **kwargs)\u001b[0m\n\u001b[0;32m   4237\u001b[0m     kwargs[\u001b[38;5;124m\"\u001b[39m\u001b[38;5;124mtarget\u001b[39m\u001b[38;5;124m\"\u001b[39m] \u001b[38;5;241m=\u001b[39m \u001b[38;5;28mself\u001b[39m\n\u001b[0;32m   4238\u001b[0m kwargs[\u001b[38;5;124m\"\u001b[39m\u001b[38;5;124mresolvers\u001b[39m\u001b[38;5;124m\"\u001b[39m] \u001b[38;5;241m=\u001b[39m \u001b[38;5;28mtuple\u001b[39m(kwargs\u001b[38;5;241m.\u001b[39mget(\u001b[38;5;124m\"\u001b[39m\u001b[38;5;124mresolvers\u001b[39m\u001b[38;5;124m\"\u001b[39m, ())) \u001b[38;5;241m+\u001b[39m resolvers\n\u001b[1;32m-> 4240\u001b[0m \u001b[38;5;28;01mreturn\u001b[39;00m _eval(expr, inplace\u001b[38;5;241m=\u001b[39minplace, \u001b[38;5;241m*\u001b[39m\u001b[38;5;241m*\u001b[39mkwargs)\n",
      "File \u001b[1;32m~\\anaconda3\\lib\\site-packages\\pandas\\core\\computation\\eval.py:350\u001b[0m, in \u001b[0;36meval\u001b[1;34m(expr, parser, engine, truediv, local_dict, global_dict, resolvers, level, target, inplace)\u001b[0m\n\u001b[0;32m    341\u001b[0m \u001b[38;5;66;03m# get our (possibly passed-in) scope\u001b[39;00m\n\u001b[0;32m    342\u001b[0m env \u001b[38;5;241m=\u001b[39m ensure_scope(\n\u001b[0;32m    343\u001b[0m     level \u001b[38;5;241m+\u001b[39m \u001b[38;5;241m1\u001b[39m,\n\u001b[0;32m    344\u001b[0m     global_dict\u001b[38;5;241m=\u001b[39mglobal_dict,\n\u001b[1;32m   (...)\u001b[0m\n\u001b[0;32m    347\u001b[0m     target\u001b[38;5;241m=\u001b[39mtarget,\n\u001b[0;32m    348\u001b[0m )\n\u001b[1;32m--> 350\u001b[0m parsed_expr \u001b[38;5;241m=\u001b[39m \u001b[43mExpr\u001b[49m\u001b[43m(\u001b[49m\u001b[43mexpr\u001b[49m\u001b[43m,\u001b[49m\u001b[43m \u001b[49m\u001b[43mengine\u001b[49m\u001b[38;5;241;43m=\u001b[39;49m\u001b[43mengine\u001b[49m\u001b[43m,\u001b[49m\u001b[43m \u001b[49m\u001b[43mparser\u001b[49m\u001b[38;5;241;43m=\u001b[39;49m\u001b[43mparser\u001b[49m\u001b[43m,\u001b[49m\u001b[43m \u001b[49m\u001b[43menv\u001b[49m\u001b[38;5;241;43m=\u001b[39;49m\u001b[43menv\u001b[49m\u001b[43m)\u001b[49m\n\u001b[0;32m    352\u001b[0m \u001b[38;5;66;03m# construct the engine and evaluate the parsed expression\u001b[39;00m\n\u001b[0;32m    353\u001b[0m eng \u001b[38;5;241m=\u001b[39m ENGINES[engine]\n",
      "File \u001b[1;32m~\\anaconda3\\lib\\site-packages\\pandas\\core\\computation\\expr.py:811\u001b[0m, in \u001b[0;36mExpr.__init__\u001b[1;34m(self, expr, engine, parser, env, level)\u001b[0m\n\u001b[0;32m    809\u001b[0m \u001b[38;5;28mself\u001b[39m\u001b[38;5;241m.\u001b[39mparser \u001b[38;5;241m=\u001b[39m parser\n\u001b[0;32m    810\u001b[0m \u001b[38;5;28mself\u001b[39m\u001b[38;5;241m.\u001b[39m_visitor \u001b[38;5;241m=\u001b[39m PARSERS[parser](\u001b[38;5;28mself\u001b[39m\u001b[38;5;241m.\u001b[39menv, \u001b[38;5;28mself\u001b[39m\u001b[38;5;241m.\u001b[39mengine, \u001b[38;5;28mself\u001b[39m\u001b[38;5;241m.\u001b[39mparser)\n\u001b[1;32m--> 811\u001b[0m \u001b[38;5;28mself\u001b[39m\u001b[38;5;241m.\u001b[39mterms \u001b[38;5;241m=\u001b[39m \u001b[38;5;28;43mself\u001b[39;49m\u001b[38;5;241;43m.\u001b[39;49m\u001b[43mparse\u001b[49m\u001b[43m(\u001b[49m\u001b[43m)\u001b[49m\n",
      "File \u001b[1;32m~\\anaconda3\\lib\\site-packages\\pandas\\core\\computation\\expr.py:830\u001b[0m, in \u001b[0;36mExpr.parse\u001b[1;34m(self)\u001b[0m\n\u001b[0;32m    826\u001b[0m \u001b[38;5;28;01mdef\u001b[39;00m \u001b[38;5;21mparse\u001b[39m(\u001b[38;5;28mself\u001b[39m):\n\u001b[0;32m    827\u001b[0m     \u001b[38;5;124;03m\"\"\"\u001b[39;00m\n\u001b[0;32m    828\u001b[0m \u001b[38;5;124;03m    Parse an expression.\u001b[39;00m\n\u001b[0;32m    829\u001b[0m \u001b[38;5;124;03m    \"\"\"\u001b[39;00m\n\u001b[1;32m--> 830\u001b[0m     \u001b[38;5;28;01mreturn\u001b[39;00m \u001b[38;5;28;43mself\u001b[39;49m\u001b[38;5;241;43m.\u001b[39;49m\u001b[43m_visitor\u001b[49m\u001b[38;5;241;43m.\u001b[39;49m\u001b[43mvisit\u001b[49m\u001b[43m(\u001b[49m\u001b[38;5;28;43mself\u001b[39;49m\u001b[38;5;241;43m.\u001b[39;49m\u001b[43mexpr\u001b[49m\u001b[43m)\u001b[49m\n",
      "File \u001b[1;32m~\\anaconda3\\lib\\site-packages\\pandas\\core\\computation\\expr.py:415\u001b[0m, in \u001b[0;36mBaseExprVisitor.visit\u001b[1;34m(self, node, **kwargs)\u001b[0m\n\u001b[0;32m    413\u001b[0m method \u001b[38;5;241m=\u001b[39m \u001b[38;5;124m\"\u001b[39m\u001b[38;5;124mvisit_\u001b[39m\u001b[38;5;124m\"\u001b[39m \u001b[38;5;241m+\u001b[39m \u001b[38;5;28mtype\u001b[39m(node)\u001b[38;5;241m.\u001b[39m\u001b[38;5;18m__name__\u001b[39m\n\u001b[0;32m    414\u001b[0m visitor \u001b[38;5;241m=\u001b[39m \u001b[38;5;28mgetattr\u001b[39m(\u001b[38;5;28mself\u001b[39m, method)\n\u001b[1;32m--> 415\u001b[0m \u001b[38;5;28;01mreturn\u001b[39;00m visitor(node, \u001b[38;5;241m*\u001b[39m\u001b[38;5;241m*\u001b[39mkwargs)\n",
      "File \u001b[1;32m~\\anaconda3\\lib\\site-packages\\pandas\\core\\computation\\expr.py:421\u001b[0m, in \u001b[0;36mBaseExprVisitor.visit_Module\u001b[1;34m(self, node, **kwargs)\u001b[0m\n\u001b[0;32m    419\u001b[0m     \u001b[38;5;28;01mraise\u001b[39;00m \u001b[38;5;167;01mSyntaxError\u001b[39;00m(\u001b[38;5;124m\"\u001b[39m\u001b[38;5;124monly a single expression is allowed\u001b[39m\u001b[38;5;124m\"\u001b[39m)\n\u001b[0;32m    420\u001b[0m expr \u001b[38;5;241m=\u001b[39m node\u001b[38;5;241m.\u001b[39mbody[\u001b[38;5;241m0\u001b[39m]\n\u001b[1;32m--> 421\u001b[0m \u001b[38;5;28;01mreturn\u001b[39;00m \u001b[38;5;28mself\u001b[39m\u001b[38;5;241m.\u001b[39mvisit(expr, \u001b[38;5;241m*\u001b[39m\u001b[38;5;241m*\u001b[39mkwargs)\n",
      "File \u001b[1;32m~\\anaconda3\\lib\\site-packages\\pandas\\core\\computation\\expr.py:415\u001b[0m, in \u001b[0;36mBaseExprVisitor.visit\u001b[1;34m(self, node, **kwargs)\u001b[0m\n\u001b[0;32m    413\u001b[0m method \u001b[38;5;241m=\u001b[39m \u001b[38;5;124m\"\u001b[39m\u001b[38;5;124mvisit_\u001b[39m\u001b[38;5;124m\"\u001b[39m \u001b[38;5;241m+\u001b[39m \u001b[38;5;28mtype\u001b[39m(node)\u001b[38;5;241m.\u001b[39m\u001b[38;5;18m__name__\u001b[39m\n\u001b[0;32m    414\u001b[0m visitor \u001b[38;5;241m=\u001b[39m \u001b[38;5;28mgetattr\u001b[39m(\u001b[38;5;28mself\u001b[39m, method)\n\u001b[1;32m--> 415\u001b[0m \u001b[38;5;28;01mreturn\u001b[39;00m visitor(node, \u001b[38;5;241m*\u001b[39m\u001b[38;5;241m*\u001b[39mkwargs)\n",
      "File \u001b[1;32m~\\anaconda3\\lib\\site-packages\\pandas\\core\\computation\\expr.py:424\u001b[0m, in \u001b[0;36mBaseExprVisitor.visit_Expr\u001b[1;34m(self, node, **kwargs)\u001b[0m\n\u001b[0;32m    423\u001b[0m \u001b[38;5;28;01mdef\u001b[39;00m \u001b[38;5;21mvisit_Expr\u001b[39m(\u001b[38;5;28mself\u001b[39m, node, \u001b[38;5;241m*\u001b[39m\u001b[38;5;241m*\u001b[39mkwargs):\n\u001b[1;32m--> 424\u001b[0m     \u001b[38;5;28;01mreturn\u001b[39;00m \u001b[38;5;28mself\u001b[39m\u001b[38;5;241m.\u001b[39mvisit(node\u001b[38;5;241m.\u001b[39mvalue, \u001b[38;5;241m*\u001b[39m\u001b[38;5;241m*\u001b[39mkwargs)\n",
      "File \u001b[1;32m~\\anaconda3\\lib\\site-packages\\pandas\\core\\computation\\expr.py:415\u001b[0m, in \u001b[0;36mBaseExprVisitor.visit\u001b[1;34m(self, node, **kwargs)\u001b[0m\n\u001b[0;32m    413\u001b[0m method \u001b[38;5;241m=\u001b[39m \u001b[38;5;124m\"\u001b[39m\u001b[38;5;124mvisit_\u001b[39m\u001b[38;5;124m\"\u001b[39m \u001b[38;5;241m+\u001b[39m \u001b[38;5;28mtype\u001b[39m(node)\u001b[38;5;241m.\u001b[39m\u001b[38;5;18m__name__\u001b[39m\n\u001b[0;32m    414\u001b[0m visitor \u001b[38;5;241m=\u001b[39m \u001b[38;5;28mgetattr\u001b[39m(\u001b[38;5;28mself\u001b[39m, method)\n\u001b[1;32m--> 415\u001b[0m \u001b[38;5;28;01mreturn\u001b[39;00m visitor(node, \u001b[38;5;241m*\u001b[39m\u001b[38;5;241m*\u001b[39mkwargs)\n",
      "File \u001b[1;32m~\\anaconda3\\lib\\site-packages\\pandas\\core\\computation\\expr.py:723\u001b[0m, in \u001b[0;36mBaseExprVisitor.visit_Compare\u001b[1;34m(self, node, **kwargs)\u001b[0m\n\u001b[0;32m    721\u001b[0m     op \u001b[38;5;241m=\u001b[39m \u001b[38;5;28mself\u001b[39m\u001b[38;5;241m.\u001b[39mtranslate_In(ops[\u001b[38;5;241m0\u001b[39m])\n\u001b[0;32m    722\u001b[0m     binop \u001b[38;5;241m=\u001b[39m ast\u001b[38;5;241m.\u001b[39mBinOp(op\u001b[38;5;241m=\u001b[39mop, left\u001b[38;5;241m=\u001b[39mnode\u001b[38;5;241m.\u001b[39mleft, right\u001b[38;5;241m=\u001b[39mcomps[\u001b[38;5;241m0\u001b[39m])\n\u001b[1;32m--> 723\u001b[0m     \u001b[38;5;28;01mreturn\u001b[39;00m \u001b[38;5;28;43mself\u001b[39;49m\u001b[38;5;241;43m.\u001b[39;49m\u001b[43mvisit\u001b[49m\u001b[43m(\u001b[49m\u001b[43mbinop\u001b[49m\u001b[43m)\u001b[49m\n\u001b[0;32m    725\u001b[0m \u001b[38;5;66;03m# recursive case: we have a chained comparison, a CMP b CMP c, etc.\u001b[39;00m\n\u001b[0;32m    726\u001b[0m left \u001b[38;5;241m=\u001b[39m node\u001b[38;5;241m.\u001b[39mleft\n",
      "File \u001b[1;32m~\\anaconda3\\lib\\site-packages\\pandas\\core\\computation\\expr.py:415\u001b[0m, in \u001b[0;36mBaseExprVisitor.visit\u001b[1;34m(self, node, **kwargs)\u001b[0m\n\u001b[0;32m    413\u001b[0m method \u001b[38;5;241m=\u001b[39m \u001b[38;5;124m\"\u001b[39m\u001b[38;5;124mvisit_\u001b[39m\u001b[38;5;124m\"\u001b[39m \u001b[38;5;241m+\u001b[39m \u001b[38;5;28mtype\u001b[39m(node)\u001b[38;5;241m.\u001b[39m\u001b[38;5;18m__name__\u001b[39m\n\u001b[0;32m    414\u001b[0m visitor \u001b[38;5;241m=\u001b[39m \u001b[38;5;28mgetattr\u001b[39m(\u001b[38;5;28mself\u001b[39m, method)\n\u001b[1;32m--> 415\u001b[0m \u001b[38;5;28;01mreturn\u001b[39;00m visitor(node, \u001b[38;5;241m*\u001b[39m\u001b[38;5;241m*\u001b[39mkwargs)\n",
      "File \u001b[1;32m~\\anaconda3\\lib\\site-packages\\pandas\\core\\computation\\expr.py:536\u001b[0m, in \u001b[0;36mBaseExprVisitor.visit_BinOp\u001b[1;34m(self, node, **kwargs)\u001b[0m\n\u001b[0;32m    535\u001b[0m \u001b[38;5;28;01mdef\u001b[39;00m \u001b[38;5;21mvisit_BinOp\u001b[39m(\u001b[38;5;28mself\u001b[39m, node, \u001b[38;5;241m*\u001b[39m\u001b[38;5;241m*\u001b[39mkwargs):\n\u001b[1;32m--> 536\u001b[0m     op, op_class, left, right \u001b[38;5;241m=\u001b[39m \u001b[38;5;28;43mself\u001b[39;49m\u001b[38;5;241;43m.\u001b[39;49m\u001b[43m_maybe_transform_eq_ne\u001b[49m\u001b[43m(\u001b[49m\u001b[43mnode\u001b[49m\u001b[43m)\u001b[49m\n\u001b[0;32m    537\u001b[0m     left, right \u001b[38;5;241m=\u001b[39m \u001b[38;5;28mself\u001b[39m\u001b[38;5;241m.\u001b[39m_maybe_downcast_constants(left, right)\n\u001b[0;32m    538\u001b[0m     \u001b[38;5;28;01mreturn\u001b[39;00m \u001b[38;5;28mself\u001b[39m\u001b[38;5;241m.\u001b[39m_maybe_evaluate_binop(op, op_class, left, right)\n",
      "File \u001b[1;32m~\\anaconda3\\lib\\site-packages\\pandas\\core\\computation\\expr.py:456\u001b[0m, in \u001b[0;36mBaseExprVisitor._maybe_transform_eq_ne\u001b[1;34m(self, node, left, right)\u001b[0m\n\u001b[0;32m    454\u001b[0m \u001b[38;5;28;01mdef\u001b[39;00m \u001b[38;5;21m_maybe_transform_eq_ne\u001b[39m(\u001b[38;5;28mself\u001b[39m, node, left\u001b[38;5;241m=\u001b[39m\u001b[38;5;28;01mNone\u001b[39;00m, right\u001b[38;5;241m=\u001b[39m\u001b[38;5;28;01mNone\u001b[39;00m):\n\u001b[0;32m    455\u001b[0m     \u001b[38;5;28;01mif\u001b[39;00m left \u001b[38;5;129;01mis\u001b[39;00m \u001b[38;5;28;01mNone\u001b[39;00m:\n\u001b[1;32m--> 456\u001b[0m         left \u001b[38;5;241m=\u001b[39m \u001b[38;5;28;43mself\u001b[39;49m\u001b[38;5;241;43m.\u001b[39;49m\u001b[43mvisit\u001b[49m\u001b[43m(\u001b[49m\u001b[43mnode\u001b[49m\u001b[38;5;241;43m.\u001b[39;49m\u001b[43mleft\u001b[49m\u001b[43m,\u001b[49m\u001b[43m \u001b[49m\u001b[43mside\u001b[49m\u001b[38;5;241;43m=\u001b[39;49m\u001b[38;5;124;43m\"\u001b[39;49m\u001b[38;5;124;43mleft\u001b[39;49m\u001b[38;5;124;43m\"\u001b[39;49m\u001b[43m)\u001b[49m\n\u001b[0;32m    457\u001b[0m     \u001b[38;5;28;01mif\u001b[39;00m right \u001b[38;5;129;01mis\u001b[39;00m \u001b[38;5;28;01mNone\u001b[39;00m:\n\u001b[0;32m    458\u001b[0m         right \u001b[38;5;241m=\u001b[39m \u001b[38;5;28mself\u001b[39m\u001b[38;5;241m.\u001b[39mvisit(node\u001b[38;5;241m.\u001b[39mright, side\u001b[38;5;241m=\u001b[39m\u001b[38;5;124m\"\u001b[39m\u001b[38;5;124mright\u001b[39m\u001b[38;5;124m\"\u001b[39m)\n",
      "File \u001b[1;32m~\\anaconda3\\lib\\site-packages\\pandas\\core\\computation\\expr.py:415\u001b[0m, in \u001b[0;36mBaseExprVisitor.visit\u001b[1;34m(self, node, **kwargs)\u001b[0m\n\u001b[0;32m    413\u001b[0m method \u001b[38;5;241m=\u001b[39m \u001b[38;5;124m\"\u001b[39m\u001b[38;5;124mvisit_\u001b[39m\u001b[38;5;124m\"\u001b[39m \u001b[38;5;241m+\u001b[39m \u001b[38;5;28mtype\u001b[39m(node)\u001b[38;5;241m.\u001b[39m\u001b[38;5;18m__name__\u001b[39m\n\u001b[0;32m    414\u001b[0m visitor \u001b[38;5;241m=\u001b[39m \u001b[38;5;28mgetattr\u001b[39m(\u001b[38;5;28mself\u001b[39m, method)\n\u001b[1;32m--> 415\u001b[0m \u001b[38;5;28;01mreturn\u001b[39;00m visitor(node, \u001b[38;5;241m*\u001b[39m\u001b[38;5;241m*\u001b[39mkwargs)\n",
      "File \u001b[1;32m~\\anaconda3\\lib\\site-packages\\pandas\\core\\computation\\expr.py:645\u001b[0m, in \u001b[0;36mBaseExprVisitor.visit_Attribute\u001b[1;34m(self, node, **kwargs)\u001b[0m\n\u001b[0;32m    642\u001b[0m ctx \u001b[38;5;241m=\u001b[39m node\u001b[38;5;241m.\u001b[39mctx\n\u001b[0;32m    643\u001b[0m \u001b[38;5;28;01mif\u001b[39;00m \u001b[38;5;28misinstance\u001b[39m(ctx, ast\u001b[38;5;241m.\u001b[39mLoad):\n\u001b[0;32m    644\u001b[0m     \u001b[38;5;66;03m# resolve the value\u001b[39;00m\n\u001b[1;32m--> 645\u001b[0m     resolved \u001b[38;5;241m=\u001b[39m \u001b[38;5;28;43mself\u001b[39;49m\u001b[38;5;241;43m.\u001b[39;49m\u001b[43mvisit\u001b[49m\u001b[43m(\u001b[49m\u001b[43mvalue\u001b[49m\u001b[43m)\u001b[49m\u001b[38;5;241m.\u001b[39mvalue\n\u001b[0;32m    646\u001b[0m     \u001b[38;5;28;01mtry\u001b[39;00m:\n\u001b[0;32m    647\u001b[0m         v \u001b[38;5;241m=\u001b[39m \u001b[38;5;28mgetattr\u001b[39m(resolved, attr)\n",
      "File \u001b[1;32m~\\anaconda3\\lib\\site-packages\\pandas\\core\\computation\\expr.py:415\u001b[0m, in \u001b[0;36mBaseExprVisitor.visit\u001b[1;34m(self, node, **kwargs)\u001b[0m\n\u001b[0;32m    413\u001b[0m method \u001b[38;5;241m=\u001b[39m \u001b[38;5;124m\"\u001b[39m\u001b[38;5;124mvisit_\u001b[39m\u001b[38;5;124m\"\u001b[39m \u001b[38;5;241m+\u001b[39m \u001b[38;5;28mtype\u001b[39m(node)\u001b[38;5;241m.\u001b[39m\u001b[38;5;18m__name__\u001b[39m\n\u001b[0;32m    414\u001b[0m visitor \u001b[38;5;241m=\u001b[39m \u001b[38;5;28mgetattr\u001b[39m(\u001b[38;5;28mself\u001b[39m, method)\n\u001b[1;32m--> 415\u001b[0m \u001b[38;5;28;01mreturn\u001b[39;00m visitor(node, \u001b[38;5;241m*\u001b[39m\u001b[38;5;241m*\u001b[39mkwargs)\n",
      "File \u001b[1;32m~\\anaconda3\\lib\\site-packages\\pandas\\core\\computation\\expr.py:647\u001b[0m, in \u001b[0;36mBaseExprVisitor.visit_Attribute\u001b[1;34m(self, node, **kwargs)\u001b[0m\n\u001b[0;32m    645\u001b[0m resolved \u001b[38;5;241m=\u001b[39m \u001b[38;5;28mself\u001b[39m\u001b[38;5;241m.\u001b[39mvisit(value)\u001b[38;5;241m.\u001b[39mvalue\n\u001b[0;32m    646\u001b[0m \u001b[38;5;28;01mtry\u001b[39;00m:\n\u001b[1;32m--> 647\u001b[0m     v \u001b[38;5;241m=\u001b[39m \u001b[38;5;28;43mgetattr\u001b[39;49m\u001b[43m(\u001b[49m\u001b[43mresolved\u001b[49m\u001b[43m,\u001b[49m\u001b[43m \u001b[49m\u001b[43mattr\u001b[49m\u001b[43m)\u001b[49m\n\u001b[0;32m    648\u001b[0m     name \u001b[38;5;241m=\u001b[39m \u001b[38;5;28mself\u001b[39m\u001b[38;5;241m.\u001b[39menv\u001b[38;5;241m.\u001b[39madd_tmp(v)\n\u001b[0;32m    649\u001b[0m     \u001b[38;5;28;01mreturn\u001b[39;00m \u001b[38;5;28mself\u001b[39m\u001b[38;5;241m.\u001b[39mterm_type(name, \u001b[38;5;28mself\u001b[39m\u001b[38;5;241m.\u001b[39menv)\n",
      "File \u001b[1;32m~\\anaconda3\\lib\\site-packages\\pandas\\core\\generic.py:5575\u001b[0m, in \u001b[0;36mNDFrame.__getattr__\u001b[1;34m(self, name)\u001b[0m\n\u001b[0;32m   5568\u001b[0m \u001b[38;5;28;01mif\u001b[39;00m (\n\u001b[0;32m   5569\u001b[0m     name \u001b[38;5;129;01mnot\u001b[39;00m \u001b[38;5;129;01min\u001b[39;00m \u001b[38;5;28mself\u001b[39m\u001b[38;5;241m.\u001b[39m_internal_names_set\n\u001b[0;32m   5570\u001b[0m     \u001b[38;5;129;01mand\u001b[39;00m name \u001b[38;5;129;01mnot\u001b[39;00m \u001b[38;5;129;01min\u001b[39;00m \u001b[38;5;28mself\u001b[39m\u001b[38;5;241m.\u001b[39m_metadata\n\u001b[0;32m   5571\u001b[0m     \u001b[38;5;129;01mand\u001b[39;00m name \u001b[38;5;129;01mnot\u001b[39;00m \u001b[38;5;129;01min\u001b[39;00m \u001b[38;5;28mself\u001b[39m\u001b[38;5;241m.\u001b[39m_accessors\n\u001b[0;32m   5572\u001b[0m     \u001b[38;5;129;01mand\u001b[39;00m \u001b[38;5;28mself\u001b[39m\u001b[38;5;241m.\u001b[39m_info_axis\u001b[38;5;241m.\u001b[39m_can_hold_identifiers_and_holds_name(name)\n\u001b[0;32m   5573\u001b[0m ):\n\u001b[0;32m   5574\u001b[0m     \u001b[38;5;28;01mreturn\u001b[39;00m \u001b[38;5;28mself\u001b[39m[name]\n\u001b[1;32m-> 5575\u001b[0m \u001b[38;5;28;01mreturn\u001b[39;00m \u001b[38;5;28;43mobject\u001b[39;49m\u001b[38;5;241;43m.\u001b[39;49m\u001b[38;5;21;43m__getattribute__\u001b[39;49m\u001b[43m(\u001b[49m\u001b[38;5;28;43mself\u001b[39;49m\u001b[43m,\u001b[49m\u001b[43m \u001b[49m\u001b[43mname\u001b[49m\u001b[43m)\u001b[49m\n",
      "File \u001b[1;32m~\\anaconda3\\lib\\site-packages\\pandas\\core\\accessor.py:182\u001b[0m, in \u001b[0;36mCachedAccessor.__get__\u001b[1;34m(self, obj, cls)\u001b[0m\n\u001b[0;32m    179\u001b[0m \u001b[38;5;28;01mif\u001b[39;00m obj \u001b[38;5;129;01mis\u001b[39;00m \u001b[38;5;28;01mNone\u001b[39;00m:\n\u001b[0;32m    180\u001b[0m     \u001b[38;5;66;03m# we're accessing the attribute of the class, i.e., Dataset.geo\u001b[39;00m\n\u001b[0;32m    181\u001b[0m     \u001b[38;5;28;01mreturn\u001b[39;00m \u001b[38;5;28mself\u001b[39m\u001b[38;5;241m.\u001b[39m_accessor\n\u001b[1;32m--> 182\u001b[0m accessor_obj \u001b[38;5;241m=\u001b[39m \u001b[38;5;28;43mself\u001b[39;49m\u001b[38;5;241;43m.\u001b[39;49m\u001b[43m_accessor\u001b[49m\u001b[43m(\u001b[49m\u001b[43mobj\u001b[49m\u001b[43m)\u001b[49m\n\u001b[0;32m    183\u001b[0m \u001b[38;5;66;03m# Replace the property with the accessor object. Inspired by:\u001b[39;00m\n\u001b[0;32m    184\u001b[0m \u001b[38;5;66;03m# https://www.pydanny.com/cached-property.html\u001b[39;00m\n\u001b[0;32m    185\u001b[0m \u001b[38;5;66;03m# We need to use object.__setattr__ because we overwrite __setattr__ on\u001b[39;00m\n\u001b[0;32m    186\u001b[0m \u001b[38;5;66;03m# NDFrame\u001b[39;00m\n\u001b[0;32m    187\u001b[0m \u001b[38;5;28mobject\u001b[39m\u001b[38;5;241m.\u001b[39m\u001b[38;5;21m__setattr__\u001b[39m(obj, \u001b[38;5;28mself\u001b[39m\u001b[38;5;241m.\u001b[39m_name, accessor_obj)\n",
      "File \u001b[1;32m~\\anaconda3\\lib\\site-packages\\pandas\\core\\indexes\\accessors.py:509\u001b[0m, in \u001b[0;36mCombinedDatetimelikeProperties.__new__\u001b[1;34m(cls, data)\u001b[0m\n\u001b[0;32m    506\u001b[0m \u001b[38;5;28;01melif\u001b[39;00m is_period_dtype(data\u001b[38;5;241m.\u001b[39mdtype):\n\u001b[0;32m    507\u001b[0m     \u001b[38;5;28;01mreturn\u001b[39;00m PeriodProperties(data, orig)\n\u001b[1;32m--> 509\u001b[0m \u001b[38;5;28;01mraise\u001b[39;00m \u001b[38;5;167;01mAttributeError\u001b[39;00m(\u001b[38;5;124m\"\u001b[39m\u001b[38;5;124mCan only use .dt accessor with datetimelike values\u001b[39m\u001b[38;5;124m\"\u001b[39m)\n",
      "\u001b[1;31mAttributeError\u001b[0m: Can only use .dt accessor with datetimelike values"
     ]
    }
   ],
   "source": [
    "df.query('completed_ymd.dt.dayofweek == 0')"
   ]
  },
  {
   "cell_type": "code",
   "execution_count": 159,
   "id": "9409cc92",
   "metadata": {
    "ExecuteTime": {
     "end_time": "2022-06-30T07:27:38.562072Z",
     "start_time": "2022-06-30T07:27:38.527256Z"
    },
    "scrolled": true
   },
   "outputs": [
    {
     "data": {
      "text/html": [
       "<div>\n",
       "<style scoped>\n",
       "    .dataframe tbody tr th:only-of-type {\n",
       "        vertical-align: middle;\n",
       "    }\n",
       "\n",
       "    .dataframe tbody tr th {\n",
       "        vertical-align: top;\n",
       "    }\n",
       "\n",
       "    .dataframe thead th {\n",
       "        text-align: right;\n",
       "    }\n",
       "</style>\n",
       "<table border=\"1\" class=\"dataframe\">\n",
       "  <thead>\n",
       "    <tr style=\"text-align: right;\">\n",
       "      <th></th>\n",
       "      <th>id</th>\n",
       "      <th>customer_id</th>\n",
       "      <th>course_id</th>\n",
       "      <th>type</th>\n",
       "      <th>state</th>\n",
       "      <th>course_title</th>\n",
       "      <th>category_title</th>\n",
       "      <th>format</th>\n",
       "      <th>completed_at</th>\n",
       "      <th>transaction_amount</th>\n",
       "      <th>coupon_title</th>\n",
       "      <th>coupon_discount_amount</th>\n",
       "      <th>sale_price</th>\n",
       "      <th>pg</th>\n",
       "      <th>method</th>\n",
       "      <th>subcategory_title</th>\n",
       "      <th>marketing_start_at</th>\n",
       "      <th>completed_ym</th>\n",
       "      <th>completed_ymd</th>\n",
       "    </tr>\n",
       "  </thead>\n",
       "  <tbody>\n",
       "    <tr>\n",
       "      <th>0</th>\n",
       "      <td>970634</td>\n",
       "      <td>504760</td>\n",
       "      <td>201435</td>\n",
       "      <td>ORDER</td>\n",
       "      <td>CANCELLED</td>\n",
       "      <td>올인원 패키지 : 알고리즘 기술면접 완전 정복</td>\n",
       "      <td>프로그래밍</td>\n",
       "      <td>올인원</td>\n",
       "      <td>2021-03-28 15:00:11</td>\n",
       "      <td>90500</td>\n",
       "      <td>미적용</td>\n",
       "      <td>0</td>\n",
       "      <td>110500</td>\n",
       "      <td>COMM</td>\n",
       "      <td>VBANK</td>\n",
       "      <td>개발자 커리어</td>\n",
       "      <td>2018-11-11</td>\n",
       "      <td>2021-03</td>\n",
       "      <td>2021-03-28 15:00:11</td>\n",
       "    </tr>\n",
       "    <tr>\n",
       "      <th>1</th>\n",
       "      <td>970650</td>\n",
       "      <td>432862</td>\n",
       "      <td>203178</td>\n",
       "      <td>ORDER</td>\n",
       "      <td>CANCELLED</td>\n",
       "      <td>초격차 패키지 : 한번에 끝내는 영상 촬영과 편집</td>\n",
       "      <td>영상/3D</td>\n",
       "      <td>올인원</td>\n",
       "      <td>2021-03-28 15:16:53</td>\n",
       "      <td>96000</td>\n",
       "      <td>미적용</td>\n",
       "      <td>0</td>\n",
       "      <td>116000</td>\n",
       "      <td>COMM</td>\n",
       "      <td>CARD</td>\n",
       "      <td>영상 편집</td>\n",
       "      <td>2020-12-02</td>\n",
       "      <td>2021-03</td>\n",
       "      <td>2021-03-28 15:16:53</td>\n",
       "    </tr>\n",
       "    <tr>\n",
       "      <th>2</th>\n",
       "      <td>970657</td>\n",
       "      <td>72297</td>\n",
       "      <td>204246</td>\n",
       "      <td>PAYMENT</td>\n",
       "      <td>COMPLETED</td>\n",
       "      <td>시크릿코드 : 프론트엔드 실무 완성편</td>\n",
       "      <td>프로그래밍</td>\n",
       "      <td>스쿨 온라인</td>\n",
       "      <td>2021-03-28 15:21:43</td>\n",
       "      <td>171810</td>\n",
       "      <td>[10% 할인] 시크릿코드 실무 완성편</td>\n",
       "      <td>19090</td>\n",
       "      <td>190900</td>\n",
       "      <td>COMM</td>\n",
       "      <td>CARD</td>\n",
       "      <td>프로그래밍</td>\n",
       "      <td>2021-03-04</td>\n",
       "      <td>2021-03</td>\n",
       "      <td>2021-03-28 15:21:43</td>\n",
       "    </tr>\n",
       "    <tr>\n",
       "      <th>3</th>\n",
       "      <td>970656</td>\n",
       "      <td>72297</td>\n",
       "      <td>204246</td>\n",
       "      <td>ORDER</td>\n",
       "      <td>CANCELLED</td>\n",
       "      <td>시크릿코드 : 프론트엔드 실무 완성편</td>\n",
       "      <td>프로그래밍</td>\n",
       "      <td>스쿨 온라인</td>\n",
       "      <td>2021-03-28 15:21:43</td>\n",
       "      <td>171810</td>\n",
       "      <td>미적용</td>\n",
       "      <td>0</td>\n",
       "      <td>190900</td>\n",
       "      <td>COMM</td>\n",
       "      <td>CARD</td>\n",
       "      <td>프로그래밍</td>\n",
       "      <td>2021-03-04</td>\n",
       "      <td>2021-03</td>\n",
       "      <td>2021-03-28 15:21:43</td>\n",
       "    </tr>\n",
       "    <tr>\n",
       "      <th>4</th>\n",
       "      <td>970658</td>\n",
       "      <td>478028</td>\n",
       "      <td>201797</td>\n",
       "      <td>PAYMENT</td>\n",
       "      <td>COMPLETED</td>\n",
       "      <td>올인원 패키지 : 직장인 필수 스킬 3종 세트 MAX</td>\n",
       "      <td>업무 생산성</td>\n",
       "      <td>올인원</td>\n",
       "      <td>2021-03-28 15:21:54</td>\n",
       "      <td>97500</td>\n",
       "      <td>[웰컴쿠폰] 올인원 패키지 2만원 할인 쿠폰</td>\n",
       "      <td>20000</td>\n",
       "      <td>117500</td>\n",
       "      <td>COMM</td>\n",
       "      <td>CARD</td>\n",
       "      <td>PPT/보고서</td>\n",
       "      <td>2019-11-14</td>\n",
       "      <td>2021-03</td>\n",
       "      <td>2021-03-28 15:21:54</td>\n",
       "    </tr>\n",
       "  </tbody>\n",
       "</table>\n",
       "</div>"
      ],
      "text/plain": [
       "       id  customer_id  course_id     type      state  \\\n",
       "0  970634       504760     201435    ORDER  CANCELLED   \n",
       "1  970650       432862     203178    ORDER  CANCELLED   \n",
       "2  970657        72297     204246  PAYMENT  COMPLETED   \n",
       "3  970656        72297     204246    ORDER  CANCELLED   \n",
       "4  970658       478028     201797  PAYMENT  COMPLETED   \n",
       "\n",
       "                    course_title category_title  format        completed_at  \\\n",
       "0      올인원 패키지 : 알고리즘 기술면접 완전 정복          프로그래밍     올인원 2021-03-28 15:00:11   \n",
       "1    초격차 패키지 : 한번에 끝내는 영상 촬영과 편집          영상/3D     올인원 2021-03-28 15:16:53   \n",
       "2           시크릿코드 : 프론트엔드 실무 완성편          프로그래밍  스쿨 온라인 2021-03-28 15:21:43   \n",
       "3           시크릿코드 : 프론트엔드 실무 완성편          프로그래밍  스쿨 온라인 2021-03-28 15:21:43   \n",
       "4  올인원 패키지 : 직장인 필수 스킬 3종 세트 MAX         업무 생산성     올인원 2021-03-28 15:21:54   \n",
       "\n",
       "   transaction_amount              coupon_title  coupon_discount_amount  \\\n",
       "0               90500                       미적용                       0   \n",
       "1               96000                       미적용                       0   \n",
       "2              171810     [10% 할인] 시크릿코드 실무 완성편                   19090   \n",
       "3              171810                       미적용                       0   \n",
       "4               97500  [웰컴쿠폰] 올인원 패키지 2만원 할인 쿠폰                   20000   \n",
       "\n",
       "   sale_price    pg method subcategory_title marketing_start_at completed_ym  \\\n",
       "0      110500  COMM  VBANK           개발자 커리어         2018-11-11      2021-03   \n",
       "1      116000  COMM   CARD             영상 편집         2020-12-02      2021-03   \n",
       "2      190900  COMM   CARD             프로그래밍         2021-03-04      2021-03   \n",
       "3      190900  COMM   CARD             프로그래밍         2021-03-04      2021-03   \n",
       "4      117500  COMM   CARD           PPT/보고서         2019-11-14      2021-03   \n",
       "\n",
       "        completed_ymd  \n",
       "0 2021-03-28 15:00:11  \n",
       "1 2021-03-28 15:16:53  \n",
       "2 2021-03-28 15:21:43  \n",
       "3 2021-03-28 15:21:43  \n",
       "4 2021-03-28 15:21:54  "
      ]
     },
     "execution_count": 159,
     "metadata": {},
     "output_type": "execute_result"
    }
   ],
   "source": [
    "df['completed_ymd'] = pd.to_datetime(df['completed_at'],format='%Y-%m-%d')\n",
    "df.head()"
   ]
  },
  {
   "cell_type": "code",
   "execution_count": null,
   "id": "4765bae5",
   "metadata": {},
   "outputs": [],
   "source": [
    "df['completed_ym'] = df['completed_at'].dt.strftime(\"%Y-%m\")\n",
    "df.head()"
   ]
  }
 ],
 "metadata": {
  "kernelspec": {
<<<<<<< HEAD
   "display_name": "Python 3 (ipykernel)",
=======
   "display_name": "Python 3",
>>>>>>> upstream/main
   "language": "python",
   "name": "python3"
  },
  "language_info": {
   "codemirror_mode": {
    "name": "ipython",
    "version": 3
   },
   "file_extension": ".py",
   "mimetype": "text/x-python",
   "name": "python",
   "nbconvert_exporter": "python",
   "pygments_lexer": "ipython3",
<<<<<<< HEAD
   "version": "3.9.12"
=======
   "version": "3.8.8"
>>>>>>> upstream/main
  },
  "toc": {
   "base_numbering": 1,
   "nav_menu": {},
   "number_sections": true,
   "sideBar": true,
   "skip_h1_title": false,
   "title_cell": "Table of Contents",
   "title_sidebar": "Contents",
   "toc_cell": false,
   "toc_position": {},
   "toc_section_display": true,
<<<<<<< HEAD
   "toc_window_display": false
=======
   "toc_window_display": true
>>>>>>> upstream/main
  },
  "varInspector": {
   "cols": {
    "lenName": 16,
    "lenType": 16,
    "lenVar": 40
   },
   "kernels_config": {
    "python": {
     "delete_cmd_postfix": "",
     "delete_cmd_prefix": "del ",
     "library": "var_list.py",
     "varRefreshCmd": "print(var_dic_list())"
    },
    "r": {
     "delete_cmd_postfix": ") ",
     "delete_cmd_prefix": "rm(",
     "library": "var_list.r",
     "varRefreshCmd": "cat(var_dic_list()) "
    }
   },
   "types_to_exclude": [
    "module",
    "function",
    "builtin_function_or_method",
    "instance",
    "_Feature"
   ],
   "window_display": false
  }
 },
 "nbformat": 4,
 "nbformat_minor": 5
}

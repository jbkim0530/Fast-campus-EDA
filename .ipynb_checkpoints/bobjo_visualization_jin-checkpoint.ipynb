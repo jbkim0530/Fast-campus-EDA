{
 "cells": [
  {
   "cell_type": "code",
   "execution_count": 40,
   "id": "34d8d9cc",
   "metadata": {
    "ExecuteTime": {
     "end_time": "2022-06-30T06:12:53.422881Z",
     "start_time": "2022-06-30T06:12:53.404245Z"
    }
   },
   "outputs": [],
   "source": [
    "import numpy as np\n",
    "import pandas as pd\n",
    "import matplotlib.pyplot as plt\n",
    "import seaborn as sns\n",
<<<<<<< HEAD
    "I \n",
=======
    "\n",
>>>>>>> upstream/main
    "from matplotlib import font_manager, rc\n",
    "\n",
    "plt.rcParams['font.family'] = 'NanumGothic'\n"
   ]
  },
  {
   "cell_type": "code",
   "execution_count": 2,
   "id": "3c04fb41",
   "metadata": {
    "ExecuteTime": {
     "end_time": "2022-06-30T05:55:18.759492Z",
     "start_time": "2022-06-30T05:55:18.259525Z"
    }
   },
   "outputs": [],
   "source": [
    "# 파일 불러오기\n",
    "df = pd.read_csv('./2022-06-29_last_bab.csv')\n"
   ]
  },
  {
   "cell_type": "code",
   "execution_count": 3,
   "id": "e7960104",
   "metadata": {
    "ExecuteTime": {
     "end_time": "2022-06-30T05:55:50.333363Z",
     "start_time": "2022-06-30T05:55:18.811574Z"
    }
   },
   "outputs": [],
   "source": [
    "df.to_excel('./2022-06-30_last_bab.xlsx')"
   ]
  },
  {
   "cell_type": "markdown",
   "id": "1395fd0a",
   "metadata": {},
   "source": [
    "# OVER VIEW"
   ]
  },
  {
   "cell_type": "code",
   "execution_count": 4,
   "id": "b3a13882",
   "metadata": {
    "ExecuteTime": {
     "end_time": "2022-06-30T05:55:50.395336Z",
     "start_time": "2022-06-30T05:55:50.367298Z"
    }
   },
   "outputs": [
    {
     "data": {
      "text/html": [
       "<div>\n",
       "<style scoped>\n",
       "    .dataframe tbody tr th:only-of-type {\n",
       "        vertical-align: middle;\n",
       "    }\n",
       "\n",
       "    .dataframe tbody tr th {\n",
       "        vertical-align: top;\n",
       "    }\n",
       "\n",
       "    .dataframe thead th {\n",
       "        text-align: right;\n",
       "    }\n",
       "</style>\n",
       "<table border=\"1\" class=\"dataframe\">\n",
       "  <thead>\n",
       "    <tr style=\"text-align: right;\">\n",
       "      <th></th>\n",
       "      <th>Unnamed: 0</th>\n",
       "      <th>id</th>\n",
       "      <th>customer_id</th>\n",
       "      <th>course_id</th>\n",
       "      <th>type</th>\n",
       "      <th>state</th>\n",
       "      <th>course_title</th>\n",
       "      <th>category_title</th>\n",
       "      <th>format</th>\n",
       "      <th>completed_at</th>\n",
       "      <th>transaction_amount</th>\n",
       "      <th>coupon_title</th>\n",
       "      <th>coupon_discount_amount</th>\n",
       "      <th>sale_price</th>\n",
       "      <th>pg</th>\n",
       "      <th>method</th>\n",
       "      <th>subcategory_title</th>\n",
       "      <th>marketing_start_at</th>\n",
       "    </tr>\n",
       "  </thead>\n",
       "  <tbody>\n",
       "    <tr>\n",
       "      <th>0</th>\n",
       "      <td>0</td>\n",
       "      <td>970634</td>\n",
       "      <td>504760</td>\n",
       "      <td>201435</td>\n",
       "      <td>ORDER</td>\n",
       "      <td>CANCELLED</td>\n",
       "      <td>올인원 패키지 : 알고리즘 기술면접 완전 정복</td>\n",
       "      <td>프로그래밍</td>\n",
       "      <td>올인원</td>\n",
       "      <td>2021-03-28 15:00:11</td>\n",
       "      <td>90500</td>\n",
       "      <td>미적용</td>\n",
       "      <td>0</td>\n",
       "      <td>110500</td>\n",
       "      <td>COMM</td>\n",
       "      <td>VBANK</td>\n",
       "      <td>개발자 커리어</td>\n",
       "      <td>2018-11-11 00:00:00</td>\n",
       "    </tr>\n",
       "    <tr>\n",
       "      <th>1</th>\n",
       "      <td>1</td>\n",
       "      <td>970650</td>\n",
       "      <td>432862</td>\n",
       "      <td>203178</td>\n",
       "      <td>ORDER</td>\n",
       "      <td>CANCELLED</td>\n",
       "      <td>초격차 패키지 : 한번에 끝내는 영상 촬영과 편집</td>\n",
       "      <td>영상/3D</td>\n",
       "      <td>올인원</td>\n",
       "      <td>2021-03-28 15:16:53</td>\n",
       "      <td>96000</td>\n",
       "      <td>미적용</td>\n",
       "      <td>0</td>\n",
       "      <td>116000</td>\n",
       "      <td>COMM</td>\n",
       "      <td>CARD</td>\n",
       "      <td>영상 편집</td>\n",
       "      <td>2020-12-02 00:00:00</td>\n",
       "    </tr>\n",
       "    <tr>\n",
       "      <th>2</th>\n",
       "      <td>2</td>\n",
       "      <td>970657</td>\n",
       "      <td>72297</td>\n",
       "      <td>204246</td>\n",
       "      <td>PAYMENT</td>\n",
       "      <td>COMPLETED</td>\n",
       "      <td>시크릿코드 : 프론트엔드 실무 완성편</td>\n",
       "      <td>프로그래밍</td>\n",
       "      <td>스쿨 온라인</td>\n",
       "      <td>2021-03-28 15:21:43</td>\n",
       "      <td>171810</td>\n",
       "      <td>[10% 할인] 시크릿코드 실무 완성편</td>\n",
       "      <td>19090</td>\n",
       "      <td>190900</td>\n",
       "      <td>COMM</td>\n",
       "      <td>CARD</td>\n",
       "      <td>프로그래밍</td>\n",
       "      <td>2021-03-04 00:00:00</td>\n",
       "    </tr>\n",
       "    <tr>\n",
       "      <th>3</th>\n",
       "      <td>3</td>\n",
       "      <td>970656</td>\n",
       "      <td>72297</td>\n",
       "      <td>204246</td>\n",
       "      <td>ORDER</td>\n",
       "      <td>CANCELLED</td>\n",
       "      <td>시크릿코드 : 프론트엔드 실무 완성편</td>\n",
       "      <td>프로그래밍</td>\n",
       "      <td>스쿨 온라인</td>\n",
       "      <td>2021-03-28 15:21:43</td>\n",
       "      <td>171810</td>\n",
       "      <td>미적용</td>\n",
       "      <td>0</td>\n",
       "      <td>190900</td>\n",
       "      <td>COMM</td>\n",
       "      <td>CARD</td>\n",
       "      <td>프로그래밍</td>\n",
       "      <td>2021-03-04 00:00:00</td>\n",
       "    </tr>\n",
       "    <tr>\n",
       "      <th>4</th>\n",
       "      <td>4</td>\n",
       "      <td>970658</td>\n",
       "      <td>478028</td>\n",
       "      <td>201797</td>\n",
       "      <td>PAYMENT</td>\n",
       "      <td>COMPLETED</td>\n",
       "      <td>올인원 패키지 : 직장인 필수 스킬 3종 세트 MAX</td>\n",
       "      <td>업무 생산성</td>\n",
       "      <td>올인원</td>\n",
       "      <td>2021-03-28 15:21:54</td>\n",
       "      <td>97500</td>\n",
       "      <td>[웰컴쿠폰] 올인원 패키지 2만원 할인 쿠폰</td>\n",
       "      <td>20000</td>\n",
       "      <td>117500</td>\n",
       "      <td>COMM</td>\n",
       "      <td>CARD</td>\n",
       "      <td>PPT/보고서</td>\n",
       "      <td>2019-11-14 00:00:00</td>\n",
       "    </tr>\n",
       "  </tbody>\n",
       "</table>\n",
       "</div>"
      ],
      "text/plain": [
       "   Unnamed: 0      id  customer_id  course_id     type      state  \\\n",
       "0           0  970634       504760     201435    ORDER  CANCELLED   \n",
       "1           1  970650       432862     203178    ORDER  CANCELLED   \n",
       "2           2  970657        72297     204246  PAYMENT  COMPLETED   \n",
       "3           3  970656        72297     204246    ORDER  CANCELLED   \n",
       "4           4  970658       478028     201797  PAYMENT  COMPLETED   \n",
       "\n",
       "                    course_title category_title  format         completed_at  \\\n",
       "0      올인원 패키지 : 알고리즘 기술면접 완전 정복          프로그래밍     올인원  2021-03-28 15:00:11   \n",
       "1    초격차 패키지 : 한번에 끝내는 영상 촬영과 편집          영상/3D     올인원  2021-03-28 15:16:53   \n",
       "2           시크릿코드 : 프론트엔드 실무 완성편          프로그래밍  스쿨 온라인  2021-03-28 15:21:43   \n",
       "3           시크릿코드 : 프론트엔드 실무 완성편          프로그래밍  스쿨 온라인  2021-03-28 15:21:43   \n",
       "4  올인원 패키지 : 직장인 필수 스킬 3종 세트 MAX         업무 생산성     올인원  2021-03-28 15:21:54   \n",
       "\n",
       "   transaction_amount              coupon_title  coupon_discount_amount  \\\n",
       "0               90500                       미적용                       0   \n",
       "1               96000                       미적용                       0   \n",
       "2              171810     [10% 할인] 시크릿코드 실무 완성편                   19090   \n",
       "3              171810                       미적용                       0   \n",
       "4               97500  [웰컴쿠폰] 올인원 패키지 2만원 할인 쿠폰                   20000   \n",
       "\n",
       "   sale_price    pg method subcategory_title   marketing_start_at  \n",
       "0      110500  COMM  VBANK           개발자 커리어  2018-11-11 00:00:00  \n",
       "1      116000  COMM   CARD             영상 편집  2020-12-02 00:00:00  \n",
       "2      190900  COMM   CARD             프로그래밍  2021-03-04 00:00:00  \n",
       "3      190900  COMM   CARD             프로그래밍  2021-03-04 00:00:00  \n",
       "4      117500  COMM   CARD           PPT/보고서  2019-11-14 00:00:00  "
      ]
     },
     "execution_count": 4,
     "metadata": {},
     "output_type": "execute_result"
    }
   ],
   "source": [
    "df.head()"
   ]
  },
  {
   "cell_type": "code",
   "execution_count": 5,
   "id": "2605988a",
   "metadata": {
    "ExecuteTime": {
     "end_time": "2022-06-30T05:55:50.615427Z",
     "start_time": "2022-06-30T05:55:50.442792Z"
    },
    "scrolled": true
   },
   "outputs": [
    {
     "name": "stdout",
     "output_type": "stream",
     "text": [
      "<class 'pandas.core.frame.DataFrame'>\n",
      "RangeIndex: 101102 entries, 0 to 101101\n",
      "Data columns (total 18 columns):\n",
      " #   Column                  Non-Null Count   Dtype \n",
      "---  ------                  --------------   ----- \n",
      " 0   Unnamed: 0              101102 non-null  int64 \n",
      " 1   id                      101102 non-null  int64 \n",
      " 2   customer_id             101102 non-null  int64 \n",
      " 3   course_id               101102 non-null  int64 \n",
      " 4   type                    101102 non-null  object\n",
      " 5   state                   101102 non-null  object\n",
      " 6   course_title            101102 non-null  object\n",
      " 7   category_title          101102 non-null  object\n",
      " 8   format                  101102 non-null  object\n",
      " 9   completed_at            101102 non-null  object\n",
      " 10  transaction_amount      101102 non-null  int64 \n",
      " 11  coupon_title            101102 non-null  object\n",
      " 12  coupon_discount_amount  101102 non-null  int64 \n",
      " 13  sale_price              101102 non-null  int64 \n",
      " 14  pg                      101102 non-null  object\n",
      " 15  method                  101102 non-null  object\n",
      " 16  subcategory_title       101102 non-null  object\n",
      " 17  marketing_start_at      101102 non-null  object\n",
      "dtypes: int64(7), object(11)\n",
      "memory usage: 13.9+ MB\n"
     ]
    }
   ],
   "source": [
    "# overview\n",
    "df.info()"
   ]
  },
  {
   "cell_type": "markdown",
   "id": "ac14dc40",
   "metadata": {},
   "source": [
    "> 101102 row , 13.94mb, no Nan data"
   ]
  },
  {
   "cell_type": "code",
   "execution_count": 6,
   "id": "85075d80",
   "metadata": {
    "ExecuteTime": {
     "end_time": "2022-06-30T05:55:50.709005Z",
     "start_time": "2022-06-30T05:55:50.665093Z"
    }
   },
   "outputs": [
    {
     "data": {
      "text/html": [
       "<div>\n",
       "<style scoped>\n",
       "    .dataframe tbody tr th:only-of-type {\n",
       "        vertical-align: middle;\n",
       "    }\n",
       "\n",
       "    .dataframe tbody tr th {\n",
       "        vertical-align: top;\n",
       "    }\n",
       "\n",
       "    .dataframe thead th {\n",
       "        text-align: right;\n",
       "    }\n",
       "</style>\n",
       "<table border=\"1\" class=\"dataframe\">\n",
       "  <thead>\n",
       "    <tr style=\"text-align: right;\">\n",
       "      <th></th>\n",
       "      <th>Unnamed: 0</th>\n",
       "      <th>id</th>\n",
       "      <th>customer_id</th>\n",
       "      <th>course_id</th>\n",
       "      <th>transaction_amount</th>\n",
       "      <th>coupon_discount_amount</th>\n",
       "      <th>sale_price</th>\n",
       "    </tr>\n",
       "  </thead>\n",
       "  <tbody>\n",
       "    <tr>\n",
       "      <th>count</th>\n",
       "      <td>101102.000000</td>\n",
       "      <td>1.011020e+05</td>\n",
       "      <td>101102.000000</td>\n",
       "      <td>101102.000000</td>\n",
       "      <td>1.011020e+05</td>\n",
       "      <td>101102.000000</td>\n",
       "      <td>1.011020e+05</td>\n",
       "    </tr>\n",
       "    <tr>\n",
       "      <th>mean</th>\n",
       "      <td>50886.347708</td>\n",
       "      <td>1.145511e+06</td>\n",
       "      <td>415909.561997</td>\n",
       "      <td>208729.604815</td>\n",
       "      <td>1.286851e+05</td>\n",
       "      <td>14423.185199</td>\n",
       "      <td>1.592345e+05</td>\n",
       "    </tr>\n",
       "    <tr>\n",
       "      <th>std</th>\n",
       "      <td>29393.569867</td>\n",
       "      <td>1.125048e+05</td>\n",
       "      <td>206627.373238</td>\n",
       "      <td>21281.637839</td>\n",
       "      <td>1.299967e+05</td>\n",
       "      <td>35684.365000</td>\n",
       "      <td>1.147219e+05</td>\n",
       "    </tr>\n",
       "    <tr>\n",
       "      <th>min</th>\n",
       "      <td>0.000000</td>\n",
       "      <td>5.679930e+05</td>\n",
       "      <td>16.000000</td>\n",
       "      <td>2516.000000</td>\n",
       "      <td>-1.800000e+06</td>\n",
       "      <td>0.000000</td>\n",
       "      <td>0.000000e+00</td>\n",
       "    </tr>\n",
       "    <tr>\n",
       "      <th>25%</th>\n",
       "      <td>25411.250000</td>\n",
       "      <td>1.047142e+06</td>\n",
       "      <td>228975.000000</td>\n",
       "      <td>203146.000000</td>\n",
       "      <td>8.900000e+04</td>\n",
       "      <td>0.000000</td>\n",
       "      <td>1.100000e+05</td>\n",
       "    </tr>\n",
       "    <tr>\n",
       "      <th>50%</th>\n",
       "      <td>50899.500000</td>\n",
       "      <td>1.133842e+06</td>\n",
       "      <td>500265.500000</td>\n",
       "      <td>203787.000000</td>\n",
       "      <td>1.190000e+05</td>\n",
       "      <td>0.000000</td>\n",
       "      <td>1.340000e+05</td>\n",
       "    </tr>\n",
       "    <tr>\n",
       "      <th>75%</th>\n",
       "      <td>76337.750000</td>\n",
       "      <td>1.238848e+06</td>\n",
       "      <td>565941.000000</td>\n",
       "      <td>204870.000000</td>\n",
       "      <td>1.584000e+05</td>\n",
       "      <td>10000.000000</td>\n",
       "      <td>1.710000e+05</td>\n",
       "    </tr>\n",
       "    <tr>\n",
       "      <th>max</th>\n",
       "      <td>101817.000000</td>\n",
       "      <td>1.381657e+06</td>\n",
       "      <td>670896.000000</td>\n",
       "      <td>300000.000000</td>\n",
       "      <td>1.800000e+06</td>\n",
       "      <td>674000.000000</td>\n",
       "      <td>1.800000e+06</td>\n",
       "    </tr>\n",
       "  </tbody>\n",
       "</table>\n",
       "</div>"
      ],
      "text/plain": [
       "          Unnamed: 0            id    customer_id      course_id  \\\n",
       "count  101102.000000  1.011020e+05  101102.000000  101102.000000   \n",
       "mean    50886.347708  1.145511e+06  415909.561997  208729.604815   \n",
       "std     29393.569867  1.125048e+05  206627.373238   21281.637839   \n",
       "min         0.000000  5.679930e+05      16.000000    2516.000000   \n",
       "25%     25411.250000  1.047142e+06  228975.000000  203146.000000   \n",
       "50%     50899.500000  1.133842e+06  500265.500000  203787.000000   \n",
       "75%     76337.750000  1.238848e+06  565941.000000  204870.000000   \n",
       "max    101817.000000  1.381657e+06  670896.000000  300000.000000   \n",
       "\n",
       "       transaction_amount  coupon_discount_amount    sale_price  \n",
       "count        1.011020e+05           101102.000000  1.011020e+05  \n",
       "mean         1.286851e+05            14423.185199  1.592345e+05  \n",
       "std          1.299967e+05            35684.365000  1.147219e+05  \n",
       "min         -1.800000e+06                0.000000  0.000000e+00  \n",
       "25%          8.900000e+04                0.000000  1.100000e+05  \n",
       "50%          1.190000e+05                0.000000  1.340000e+05  \n",
       "75%          1.584000e+05            10000.000000  1.710000e+05  \n",
       "max          1.800000e+06           674000.000000  1.800000e+06  "
      ]
     },
     "execution_count": 6,
     "metadata": {},
     "output_type": "execute_result"
    }
   ],
   "source": [
    "# overview\n",
    "df.describe()"
   ]
  },
  {
   "cell_type": "markdown",
   "id": "6f1f6f24",
   "metadata": {},
   "source": [
    "# 매출 분석"
   ]
  },
  {
   "cell_type": "markdown",
   "id": "067228e5",
   "metadata": {},
   "source": [
    "## 매출 정의"
   ]
  },
  {
   "cell_type": "markdown",
   "id": "f35aafa3",
   "metadata": {},
   "source": [
    "> 매출은 'type' 컬럼의 값이 'PAYMENT' 또는 'REFUND' 이면서 'state' 컬럼의 값이 'COMPLETED' 인 값들의 합으로 정의"
   ]
  },
  {
   "cell_type": "markdown",
   "id": "ec54f1a2",
   "metadata": {},
   "source": [
    "### 총 매출 구하기"
   ]
  },
  {
   "cell_type": "code",
   "execution_count": 7,
   "id": "14db4dd6",
   "metadata": {
    "ExecuteTime": {
     "end_time": "2022-06-30T05:55:50.821095Z",
     "start_time": "2022-06-30T05:55:50.741888Z"
    }
   },
   "outputs": [],
   "source": [
    "# completed_at 컬럼 타입을 datetime으로 변경\n",
    "df['completed_at'] = pd.to_datetime(df['completed_at'])"
   ]
  },
  {
   "cell_type": "code",
   "execution_count": 8,
   "id": "bdb724c8",
   "metadata": {
    "ExecuteTime": {
     "end_time": "2022-06-30T05:55:50.892241Z",
     "start_time": "2022-06-30T05:55:50.863125Z"
    },
    "scrolled": false
   },
   "outputs": [
    {
     "data": {
      "text/html": [
       "<div>\n",
       "<style scoped>\n",
       "    .dataframe tbody tr th:only-of-type {\n",
       "        vertical-align: middle;\n",
       "    }\n",
       "\n",
       "    .dataframe tbody tr th {\n",
       "        vertical-align: top;\n",
       "    }\n",
       "\n",
       "    .dataframe thead th {\n",
       "        text-align: right;\n",
       "    }\n",
       "</style>\n",
       "<table border=\"1\" class=\"dataframe\">\n",
       "  <thead>\n",
       "    <tr style=\"text-align: right;\">\n",
       "      <th></th>\n",
       "      <th>Unnamed: 0</th>\n",
       "      <th>id</th>\n",
       "      <th>customer_id</th>\n",
       "      <th>course_id</th>\n",
       "      <th>type</th>\n",
       "      <th>state</th>\n",
       "      <th>course_title</th>\n",
       "      <th>category_title</th>\n",
       "      <th>format</th>\n",
       "      <th>transaction_amount</th>\n",
       "      <th>coupon_title</th>\n",
       "      <th>coupon_discount_amount</th>\n",
       "      <th>sale_price</th>\n",
       "      <th>pg</th>\n",
       "      <th>method</th>\n",
       "      <th>subcategory_title</th>\n",
       "      <th>marketing_start_at</th>\n",
       "    </tr>\n",
       "    <tr>\n",
       "      <th>completed_at</th>\n",
       "      <th></th>\n",
       "      <th></th>\n",
       "      <th></th>\n",
       "      <th></th>\n",
       "      <th></th>\n",
       "      <th></th>\n",
       "      <th></th>\n",
       "      <th></th>\n",
       "      <th></th>\n",
       "      <th></th>\n",
       "      <th></th>\n",
       "      <th></th>\n",
       "      <th></th>\n",
       "      <th></th>\n",
       "      <th></th>\n",
       "      <th></th>\n",
       "      <th></th>\n",
       "    </tr>\n",
       "  </thead>\n",
       "  <tbody>\n",
       "    <tr>\n",
       "      <th>2021-03-28 15:00:11</th>\n",
       "      <td>0</td>\n",
       "      <td>970634</td>\n",
       "      <td>504760</td>\n",
       "      <td>201435</td>\n",
       "      <td>ORDER</td>\n",
       "      <td>CANCELLED</td>\n",
       "      <td>올인원 패키지 : 알고리즘 기술면접 완전 정복</td>\n",
       "      <td>프로그래밍</td>\n",
       "      <td>올인원</td>\n",
       "      <td>90500</td>\n",
       "      <td>미적용</td>\n",
       "      <td>0</td>\n",
       "      <td>110500</td>\n",
       "      <td>COMM</td>\n",
       "      <td>VBANK</td>\n",
       "      <td>개발자 커리어</td>\n",
       "      <td>2018-11-11 00:00:00</td>\n",
       "    </tr>\n",
       "    <tr>\n",
       "      <th>2021-03-28 15:16:53</th>\n",
       "      <td>1</td>\n",
       "      <td>970650</td>\n",
       "      <td>432862</td>\n",
       "      <td>203178</td>\n",
       "      <td>ORDER</td>\n",
       "      <td>CANCELLED</td>\n",
       "      <td>초격차 패키지 : 한번에 끝내는 영상 촬영과 편집</td>\n",
       "      <td>영상/3D</td>\n",
       "      <td>올인원</td>\n",
       "      <td>96000</td>\n",
       "      <td>미적용</td>\n",
       "      <td>0</td>\n",
       "      <td>116000</td>\n",
       "      <td>COMM</td>\n",
       "      <td>CARD</td>\n",
       "      <td>영상 편집</td>\n",
       "      <td>2020-12-02 00:00:00</td>\n",
       "    </tr>\n",
       "    <tr>\n",
       "      <th>2021-03-28 15:21:43</th>\n",
       "      <td>2</td>\n",
       "      <td>970657</td>\n",
       "      <td>72297</td>\n",
       "      <td>204246</td>\n",
       "      <td>PAYMENT</td>\n",
       "      <td>COMPLETED</td>\n",
       "      <td>시크릿코드 : 프론트엔드 실무 완성편</td>\n",
       "      <td>프로그래밍</td>\n",
       "      <td>스쿨 온라인</td>\n",
       "      <td>171810</td>\n",
       "      <td>[10% 할인] 시크릿코드 실무 완성편</td>\n",
       "      <td>19090</td>\n",
       "      <td>190900</td>\n",
       "      <td>COMM</td>\n",
       "      <td>CARD</td>\n",
       "      <td>프로그래밍</td>\n",
       "      <td>2021-03-04 00:00:00</td>\n",
       "    </tr>\n",
       "    <tr>\n",
       "      <th>2021-03-28 15:21:43</th>\n",
       "      <td>3</td>\n",
       "      <td>970656</td>\n",
       "      <td>72297</td>\n",
       "      <td>204246</td>\n",
       "      <td>ORDER</td>\n",
       "      <td>CANCELLED</td>\n",
       "      <td>시크릿코드 : 프론트엔드 실무 완성편</td>\n",
       "      <td>프로그래밍</td>\n",
       "      <td>스쿨 온라인</td>\n",
       "      <td>171810</td>\n",
       "      <td>미적용</td>\n",
       "      <td>0</td>\n",
       "      <td>190900</td>\n",
       "      <td>COMM</td>\n",
       "      <td>CARD</td>\n",
       "      <td>프로그래밍</td>\n",
       "      <td>2021-03-04 00:00:00</td>\n",
       "    </tr>\n",
       "    <tr>\n",
       "      <th>2021-03-28 15:21:54</th>\n",
       "      <td>4</td>\n",
       "      <td>970658</td>\n",
       "      <td>478028</td>\n",
       "      <td>201797</td>\n",
       "      <td>PAYMENT</td>\n",
       "      <td>COMPLETED</td>\n",
       "      <td>올인원 패키지 : 직장인 필수 스킬 3종 세트 MAX</td>\n",
       "      <td>업무 생산성</td>\n",
       "      <td>올인원</td>\n",
       "      <td>97500</td>\n",
       "      <td>[웰컴쿠폰] 올인원 패키지 2만원 할인 쿠폰</td>\n",
       "      <td>20000</td>\n",
       "      <td>117500</td>\n",
       "      <td>COMM</td>\n",
       "      <td>CARD</td>\n",
       "      <td>PPT/보고서</td>\n",
       "      <td>2019-11-14 00:00:00</td>\n",
       "    </tr>\n",
       "  </tbody>\n",
       "</table>\n",
       "</div>"
      ],
      "text/plain": [
       "                     Unnamed: 0      id  customer_id  course_id     type  \\\n",
       "completed_at                                                               \n",
       "2021-03-28 15:00:11           0  970634       504760     201435    ORDER   \n",
       "2021-03-28 15:16:53           1  970650       432862     203178    ORDER   \n",
       "2021-03-28 15:21:43           2  970657        72297     204246  PAYMENT   \n",
       "2021-03-28 15:21:43           3  970656        72297     204246    ORDER   \n",
       "2021-03-28 15:21:54           4  970658       478028     201797  PAYMENT   \n",
       "\n",
       "                         state                   course_title category_title  \\\n",
       "completed_at                                                                   \n",
       "2021-03-28 15:00:11  CANCELLED      올인원 패키지 : 알고리즘 기술면접 완전 정복          프로그래밍   \n",
       "2021-03-28 15:16:53  CANCELLED    초격차 패키지 : 한번에 끝내는 영상 촬영과 편집          영상/3D   \n",
       "2021-03-28 15:21:43  COMPLETED           시크릿코드 : 프론트엔드 실무 완성편          프로그래밍   \n",
       "2021-03-28 15:21:43  CANCELLED           시크릿코드 : 프론트엔드 실무 완성편          프로그래밍   \n",
       "2021-03-28 15:21:54  COMPLETED  올인원 패키지 : 직장인 필수 스킬 3종 세트 MAX         업무 생산성   \n",
       "\n",
       "                     format  transaction_amount              coupon_title  \\\n",
       "completed_at                                                                \n",
       "2021-03-28 15:00:11     올인원               90500                       미적용   \n",
       "2021-03-28 15:16:53     올인원               96000                       미적용   \n",
       "2021-03-28 15:21:43  스쿨 온라인              171810     [10% 할인] 시크릿코드 실무 완성편   \n",
       "2021-03-28 15:21:43  스쿨 온라인              171810                       미적용   \n",
       "2021-03-28 15:21:54     올인원               97500  [웰컴쿠폰] 올인원 패키지 2만원 할인 쿠폰   \n",
       "\n",
       "                     coupon_discount_amount  sale_price    pg method  \\\n",
       "completed_at                                                           \n",
       "2021-03-28 15:00:11                       0      110500  COMM  VBANK   \n",
       "2021-03-28 15:16:53                       0      116000  COMM   CARD   \n",
       "2021-03-28 15:21:43                   19090      190900  COMM   CARD   \n",
       "2021-03-28 15:21:43                       0      190900  COMM   CARD   \n",
       "2021-03-28 15:21:54                   20000      117500  COMM   CARD   \n",
       "\n",
       "                    subcategory_title   marketing_start_at  \n",
       "completed_at                                                \n",
       "2021-03-28 15:00:11           개발자 커리어  2018-11-11 00:00:00  \n",
       "2021-03-28 15:16:53             영상 편집  2020-12-02 00:00:00  \n",
       "2021-03-28 15:21:43             프로그래밍  2021-03-04 00:00:00  \n",
       "2021-03-28 15:21:43             프로그래밍  2021-03-04 00:00:00  \n",
       "2021-03-28 15:21:54           PPT/보고서  2019-11-14 00:00:00  "
      ]
     },
     "execution_count": 8,
     "metadata": {},
     "output_type": "execute_result"
    }
   ],
   "source": [
    "# completed_at 을 인덱스로 설정\n",
    "df.set_index('completed_at').head()"
   ]
  },
  {
   "cell_type": "code",
   "execution_count": 9,
   "id": "a5703abb",
   "metadata": {
    "ExecuteTime": {
     "end_time": "2022-06-30T05:55:50.986170Z",
     "start_time": "2022-06-30T05:55:50.941286Z"
    }
   },
   "outputs": [
    {
     "data": {
      "text/plain": [
       "0         False\n",
       "1         False\n",
       "2         False\n",
       "3         False\n",
       "4         False\n",
       "          ...  \n",
       "101097    False\n",
       "101098    False\n",
       "101099    False\n",
       "101100    False\n",
       "101101    False\n",
       "Length: 101102, dtype: bool"
      ]
     },
     "execution_count": 9,
     "metadata": {},
     "output_type": "execute_result"
    }
   ],
   "source": [
    "(df.type == 'PAYMENT') & (df.type == 'REFUND') & (df.state == 'COMPLETED')"
   ]
  },
  {
   "cell_type": "code",
   "execution_count": 10,
   "id": "d1723f7c",
   "metadata": {
    "ExecuteTime": {
     "end_time": "2022-06-30T05:55:51.174439Z",
     "start_time": "2022-06-30T05:55:51.036870Z"
    }
   },
   "outputs": [],
   "source": [
    "# 매출 계산에 필요한 값 가져오기\n",
    "rev = df[df['type'].str.contains('PAYMENT','REFUND') & df['state'].str.contains('COMPLETED')]"
   ]
  },
  {
   "cell_type": "code",
   "execution_count": 11,
   "id": "77d00ee3",
   "metadata": {
    "ExecuteTime": {
     "end_time": "2022-06-30T05:55:51.283379Z",
     "start_time": "2022-06-30T05:55:51.254023Z"
    }
   },
   "outputs": [
    {
     "data": {
      "text/plain": [
       "6571636960"
      ]
     },
     "execution_count": 11,
     "metadata": {},
     "output_type": "execute_result"
    }
   ],
   "source": [
    "# 총 매출 구하기\n",
    "rev.transaction_amount.sum()"
   ]
  },
  {
   "cell_type": "code",
   "execution_count": 12,
   "id": "944f2c5e",
   "metadata": {
    "ExecuteTime": {
     "end_time": "2022-06-30T05:55:51.377373Z",
     "start_time": "2022-06-30T05:55:51.354090Z"
    }
   },
   "outputs": [
    {
     "data": {
      "text/plain": [
       "Timestamp('2021-03-28 15:21:43')"
      ]
     },
     "execution_count": 12,
     "metadata": {},
     "output_type": "execute_result"
    }
   ],
   "source": [
    "# 결제가 일어난 첫번쨰 시간\n",
    "rev.completed_at.min()"
   ]
  },
  {
   "cell_type": "code",
   "execution_count": 13,
   "id": "c06fe634",
   "metadata": {
    "ExecuteTime": {
     "end_time": "2022-06-30T05:55:51.455841Z",
     "start_time": "2022-06-30T05:55:51.440848Z"
    }
   },
   "outputs": [
    {
     "data": {
      "text/plain": [
       "Timestamp('2021-09-25 14:25:47')"
      ]
     },
     "execution_count": 13,
     "metadata": {},
     "output_type": "execute_result"
    }
   ],
   "source": [
    "# 결제가 일어난 마지막 시간\n",
    "rev.completed_at.max()"
   ]
  },
  {
   "cell_type": "markdown",
   "id": "d321ae4f",
   "metadata": {},
   "source": [
    "> 2021-03-28 ~ 2021-09-25 까지 Fast Campus B2C 매출은 6,571,636,960원 입니다."
   ]
  },
  {
   "cell_type": "markdown",
   "id": "0ec61f26",
   "metadata": {
    "ExecuteTime": {
     "end_time": "2022-06-30T04:59:37.322149Z",
     "start_time": "2022-06-30T04:59:37.313162Z"
    }
   },
   "source": [
    "### 시간대별 매출"
   ]
  },
  {
   "cell_type": "code",
   "execution_count": 14,
   "id": "947c2529",
   "metadata": {
    "ExecuteTime": {
     "end_time": "2022-06-30T05:55:51.550589Z",
     "start_time": "2022-06-30T05:55:51.521635Z"
<<<<<<< HEAD
    }
=======
    },
    "scrolled": true
>>>>>>> upstream/main
   },
   "outputs": [
    {
     "data": {
      "text/html": [
       "<div>\n",
       "<style scoped>\n",
       "    .dataframe tbody tr th:only-of-type {\n",
       "        vertical-align: middle;\n",
       "    }\n",
       "\n",
       "    .dataframe tbody tr th {\n",
       "        vertical-align: top;\n",
       "    }\n",
       "\n",
       "    .dataframe thead th {\n",
       "        text-align: right;\n",
       "    }\n",
       "</style>\n",
       "<table border=\"1\" class=\"dataframe\">\n",
       "  <thead>\n",
       "    <tr style=\"text-align: right;\">\n",
       "      <th></th>\n",
       "      <th>transaction_amount</th>\n",
       "    </tr>\n",
       "    <tr>\n",
       "      <th>completed_at</th>\n",
       "      <th></th>\n",
       "    </tr>\n",
       "  </thead>\n",
       "  <tbody>\n",
       "    <tr>\n",
       "      <th>0</th>\n",
       "      <td>233549455</td>\n",
       "    </tr>\n",
       "    <tr>\n",
       "      <th>1</th>\n",
       "      <td>136075550</td>\n",
       "    </tr>\n",
       "    <tr>\n",
       "      <th>2</th>\n",
       "      <td>95817755</td>\n",
       "    </tr>\n",
       "    <tr>\n",
       "      <th>3</th>\n",
       "      <td>52194135</td>\n",
       "    </tr>\n",
       "    <tr>\n",
       "      <th>4</th>\n",
       "      <td>33338600</td>\n",
       "    </tr>\n",
       "    <tr>\n",
       "      <th>5</th>\n",
       "      <td>36766265</td>\n",
       "    </tr>\n",
       "    <tr>\n",
       "      <th>6</th>\n",
       "      <td>55248680</td>\n",
       "    </tr>\n",
       "    <tr>\n",
       "      <th>7</th>\n",
       "      <td>94951875</td>\n",
       "    </tr>\n",
       "    <tr>\n",
       "      <th>8</th>\n",
       "      <td>155896900</td>\n",
       "    </tr>\n",
       "    <tr>\n",
       "      <th>9</th>\n",
       "      <td>230619555</td>\n",
       "    </tr>\n",
       "    <tr>\n",
       "      <th>10</th>\n",
       "      <td>321207790</td>\n",
       "    </tr>\n",
       "    <tr>\n",
       "      <th>11</th>\n",
       "      <td>323602465</td>\n",
       "    </tr>\n",
       "    <tr>\n",
       "      <th>12</th>\n",
       "      <td>282290930</td>\n",
       "    </tr>\n",
       "    <tr>\n",
       "      <th>13</th>\n",
       "      <td>349395425</td>\n",
       "    </tr>\n",
       "    <tr>\n",
       "      <th>14</th>\n",
       "      <td>369314420</td>\n",
       "    </tr>\n",
       "    <tr>\n",
       "      <th>15</th>\n",
       "      <td>381026945</td>\n",
       "    </tr>\n",
       "    <tr>\n",
       "      <th>16</th>\n",
       "      <td>413741890</td>\n",
       "    </tr>\n",
       "    <tr>\n",
       "      <th>17</th>\n",
       "      <td>381943945</td>\n",
       "    </tr>\n",
       "    <tr>\n",
       "      <th>18</th>\n",
       "      <td>377615830</td>\n",
       "    </tr>\n",
       "    <tr>\n",
       "      <th>19</th>\n",
       "      <td>342201490</td>\n",
       "    </tr>\n",
       "    <tr>\n",
       "      <th>20</th>\n",
       "      <td>380470975</td>\n",
       "    </tr>\n",
       "    <tr>\n",
       "      <th>21</th>\n",
       "      <td>441263400</td>\n",
       "    </tr>\n",
       "    <tr>\n",
       "      <th>22</th>\n",
       "      <td>511370370</td>\n",
       "    </tr>\n",
       "    <tr>\n",
       "      <th>23</th>\n",
       "      <td>571732315</td>\n",
       "    </tr>\n",
       "  </tbody>\n",
       "</table>\n",
       "</div>"
      ],
      "text/plain": [
       "              transaction_amount\n",
       "completed_at                    \n",
       "0                      233549455\n",
       "1                      136075550\n",
       "2                       95817755\n",
       "3                       52194135\n",
       "4                       33338600\n",
       "5                       36766265\n",
       "6                       55248680\n",
       "7                       94951875\n",
       "8                      155896900\n",
       "9                      230619555\n",
       "10                     321207790\n",
       "11                     323602465\n",
       "12                     282290930\n",
       "13                     349395425\n",
       "14                     369314420\n",
       "15                     381026945\n",
       "16                     413741890\n",
       "17                     381943945\n",
       "18                     377615830\n",
       "19                     342201490\n",
       "20                     380470975\n",
       "21                     441263400\n",
       "22                     511370370\n",
       "23                     571732315"
      ]
     },
     "execution_count": 14,
     "metadata": {},
     "output_type": "execute_result"
    }
   ],
   "source": [
    "# lambda 함수를 이용해 시간만 뽑아서 그룹핑\n",
    "rev_by_hour = rev.set_index('completed_at').groupby(lambda date: date.hour).sum()[['transaction_amount']]\n",
    "rev_by_hour"
   ]
  },
  {
   "cell_type": "markdown",
   "id": "4cd530bc",
   "metadata": {},
   "source": [
    "### 시간대별 매출 Line Graph"
   ]
  },
  {
   "cell_type": "code",
   "execution_count": 147,
   "id": "fa6747ae",
   "metadata": {
    "ExecuteTime": {
     "end_time": "2022-06-30T07:46:06.773545Z",
     "start_time": "2022-06-30T07:46:06.597720Z"
    },
    "scrolled": false
   },
   "outputs": [
    {
     "data": {
      "image/png": "iVBORw0KGgoAAAANSUhEUgAAA6gAAAJPCAYAAABxd/mmAAAAOXRFWHRTb2Z0d2FyZQBNYXRwbG90bGliIHZlcnNpb24zLjUuMSwgaHR0cHM6Ly9tYXRwbG90bGliLm9yZy/YYfK9AAAACXBIWXMAAAsTAAALEwEAmpwYAAB0UElEQVR4nO3deXxU5aH/8e+ZmcxMZrKxJICIbCIICiggi5C4su9qq7Wi7fVSe1ttbdUqeu2vvdWrlhbtbe29vW1v1WrVuhBANhUBFVBBJILgwqaCJIGQZWYy+/n9gaIIYoBMnpnJ5/16+TI5mXnmm3mAk2/OOc+xbNu2BQAAAACAYQ7TAQAAAAAAkCioAAAAAIA0QUEFAAAAAKQFCioAAAAAIC1QUAEAAAAAaYGCCgAAAABICxRUAAAAAEBacJkO0Brt3x9UMmn29rPt2uVp376A0Qz4HPORXpiP9MOcpBfmI/0wJ+mF+Ug/zMnnTL8XDoelNm38X/l1CqoByaRtvKB+lgPpg/lIL8xH+mFO0gvzkX6Yk/TCfKQf5uRz6fxecIovAAAAACAtUFABAAAAAGmBggoAAAAASAsUVAAAAABAWqCgAgAAAADSAgUVAAAAAJAWKKgAAAAAgLRAQQUAAAAApAUKKgAAAAAgLVBQAQAAAABpgYIKAAAAAEgLFFQAAAAAQFqgoAIAAAAA0gIFFQAAAACQFiioAAAAAIC0QEEFAAAAAKQFCioAAAAAIC1QUAEAAAAAaYGCCgAAAABICxRUAAAAAEBaoKACAAAAANICBRUAAAAAkBYoqAAAAACAtEBBBQAAAIAs56irVNGTd0rVH5mOclQUVAAAAADIZrat/JWPyFm7R/LmmU5zVBRUAAAAAMhi7q1vyP1hhUJDL5Hy25iOc1QUVAAAAADIUla0UXmvPKpY+1PUeOZFpuN8LQoqAAAAAGQp3+vPyBGsVaDsO5LDaTrO16KgAgAAAEAWclbvVG7FUoX7na94x56m4zQJBRUAAAAAso2dVP6Kv8n25is47DLTaZqMggoAAAAAWcb7zgrlVG5V4NwrZHv9puM0GQUVAAAAALKIFaqXf/WTinY+XZHTRpiOc0woqAAAAACQRfJW/UNWLKxA6QzJskzHOSYUVAAAAADIEjm7tsj77qsKnTVeibadTcc5ZhRUAAAAAMgGibjyVvxNifz2Cg2abDrNcaGgAgAAAEAWyH1rkVz7dx84tTfHYzrOcaGgAgAAAECGc9RXy7+2XJEegxTtNtB0nONGQQUAAACATGbbynv5EUmWAiO/bTrNCaGgAgAAAEAGc29/U54dbyl4znQl89uZjnNCKKgAAAAAkKmiYeW9/Iji7bqosf/FptOcMAoqAAAAAGQo/9q5cgZq1FB2teR0mY5zwiioAAAAAJCBnPs+Vu6GJWo8vUzxTqeZjtMsKKgAAAAAkGnspPJX/E22O1fBEd8wnabZUFABAAAAIMN4N7+snE/eU2DE5bK9+abjNBsKKgAAAABkECvcIP/qJxTrdJoifUaajtOsKKgAAAAAkEH8q56UFW1UQ9k1kpVdlS67vhsAAAAAyGKuT95T7uYVahwwRol2J5uO0+woqAAAAACQCRJx5a94SIm8tgoOnmo6TUpQUAEAAAAgA+RWPC/Xvo8UGHWV5PaajpMSFFQAAAAASHOOhn3yv/6MIt3OUrTHINNxUoaCCgAAAABpLu+Vv0uyFRj1bdNRUoqCCgAAAABpzL3jLXm2rVNw8BQlC4pNx0kpCioAAAAApKtYRHkrH1a8TWc1DhxnOk3KUVABAAAAIE351s2Ts2GvAmVXS06X6TgpR0EFAAAAgDTkrNkl3/qFCvcZqVjnPqbjtAgKKgAAAACkG9tW3sqHZed4FRhxuek0LYaCCgAAAABpxvPeKrl3bVZw+Ddk5xaYjtNiKKgAAAAAkEascFB5rz6mWIeeCvctMx2nRVFQAQAAACCN+Nf8U1Y4oIayaySrdVW21vXdAgAAAEAac1VulXfTS2rsP1qJ4q6m47Q4CioAAAAApINkQnnL/6akv0ihc6abTmMEBRUAAAAA0kDu2y8oZ+9OBUZeKdudazqOERRUAAAAADDMEdwv32tPK3pKf0V7DjEdxxgKKgAAAAAY5n/lUVnJhBpKr5Isy3QcYyioAAAAAGBQzodvy/vB6woNnqxkYQfTcYyioAIAAACAKfGo8lc8pHhRJ4XOGm86jXEUVAAAAAAwxLdugZz1VQqUXS05c0zHMY6CCgAAAAAGOGs/ke/NBQr3Gq7YyX1Nx0kLFFQAAAAAaGm2rbwVD8t2uRU49wrTadIGBRUAAAAAWpjng9fk/niTgsMule0vMh0nbVBQAQAAAKAFWZGQ/K88qlhJd4X7XWA6TlqhoAIAAABAC/K99rQcjfUKlF0jOahkX8S7AQAAAAAtxFW1XbkbX1D4jAsVL+luOk7aoaACAAAAQEtIJpW34m9K5hYoOPRS02nSEgUVAAAAAFqAd9My5VRtV/Dcb8n2+EzHSUsUVAAAAABIMStYK/+apxQ9uZ8ivYaZjpO2KKgAAAAAkGJ5qx6XFY8qUDZDsizTcdIWBRUAAAAAUijn43fkfW+VQmdPVKKok+k4aY2CCgAAAACpYieV98qjShSUKDRoouk0aY+CCgAAAAAp4nl/jVz7PlJw2KWSy206TtqjoAIAAABAKiTi8r/2jGLtT1Hk1HNMp8kIFFQAAAAASAHv5hVy1lcpNOwyyaJ6NQXvEgAAAAA0t1hEvjfKFe3UW9FT+ptOkzEoqAAAAADQzHLffl7OUK2Cwy/jtjLHgIIKAAAAAM3ICgfle3OBIt0GKt7pNNNxMgoFFQAAAACakW/9QlmRRgWHXmo6SsZJaUG96qqrNGHCBE2ZMkVTpkzRhg0btGrVKk2aNEmjR4/WnDlzDj528+bNmj59usaMGaPbb79d8Xj8sPHq6+s1c+ZMjRs3TldeeaWqq6slSdFoVDfffLPGjRunadOmaevWrZIk27Z17733auzYsRo/frzWrVt3xJzz58/X+PHjNXr0aD366KMHt59IVgAAAACtjyNYq9yKJYr0GqZE+1NMx8k4KSuotm1rx44dKi8vP/hf7969NWvWLD344INauHChNm7cqBUrVkiSbr75Zt15551asmSJbNvWk08+ediY999/vwYPHqxFixbpsssu01133SVJeuSRR5Sbm6tFixZp1qxZuu222yRJS5Ys0datW7Vw4UL94Q9/0G233XZYmaysrNScOXP02GOPae7cuXriiSf0wQcfKBwOn1BWAAAAAK2Pb225lEwoOHS66SgZKWUFddu2bZKk7373u5o8ebL+/ve/q6KiQl27dlWXLl3kcrk0adIkLV68WLt27VI4HNbAgQMlSdOnT9fixYsPG3P58uWaNGmSJGnixIlauXKlYrGYli9frsmTJ0uShgwZopqaGu3evVsrVqzQ+PHj5XA41L17d3Xq1Enr168/ZMxVq1Zp2LBhKioqks/n05gxY7R48eITzgoAAACgdXHUVcn7znKF+5YpWdjBdJyM5ErVwPX19Ro+fLj+/d//XbFYTDNmzNC1116r4uLig48pKSlRZWWlqqqqDtleXFysysrKw8b84uNcLpfy8vJUU1NzxOfv2bNHVVVVKikpOWz7V435WaaKioojbj+WrEfTrl3eMT0+VYqL801HwBcwH+mF+Ug/zEl6YT7SD3OSXpiP9NMic/LyXySHU7ljrlRufvr+GUjnP58pK6hnnXWWzjrrrIOfX3rppfrd736nQYMGHdxm27Ysy1IymZT1haWXP9v+dWzblsPhOOzxn20/0rgOx6EHjb/qtY91+7HYty+gZNI+puc0t+LifFVXNxjNgM8xH+mF+Ug/zEl6YT7SD3OSXpiP9NMSc+Lc95HaVKxU49njFQznSOH0/DNg+s+nw2Ed9YBdyk7xXbt2rVavXn3wc9u21blz54MLG0lSdXW1SkpK1LFjx0O2792795Ajn58pKSnR3r17JUnxeFzBYFBFRUXq0KGDqqqqDnt+x44dj7j9i7782l+V6VizAgAAAGg9/Gueku3JVeisiaajZLSUFdSGhgbdd999ikQiCgQCevbZZ/WTn/xE27dv186dO5VIJLRgwQKVlpaqc+fO8ng8B1fZLS8vV2lp6WFjlpWVae7cuZKkhQsXavDgwcrJyVFZWZnKy8slHSjGHo9HJ510kkpLSzV//nwlEgnt3LlTO3bs0JlnnnnImCNGjNDq1atVU1OjxsZGLV26VKWlpRowYMAJZQUAAADQOrg+eV+eHesVOmuCbK/fdJyMlrJTfM8//3xt2LBBU6dOVTKZ1Le+9S2dddZZuueee3T99dcrEomorKxMY8eOlSTNnj1bd9xxhwKBgPr166cZM2ZIkh544AGVlJToiiuu0I9+9CPdeuutmjBhgvLz8zV79mxJB25nc+edd2rChAlyu9267777JEljx45VRUXFwQWU7rrrLnm9XlVWVmrmzJkqLy9Xhw4ddOONN2rGjBmKxWK69NJL1b9/f0k65qwAAAAAWhnbln/Nk0rmFqqx/2jTaTKeZdu22Yshv8amTZv01ltv6corr2zWcWfNmqW77767WcdsKq5BxZcxH+mF+Ug/zEl6YT7SD3OSXpiP9JPKOcnZWaGiBbPVUDpD4TMvSslrNCfTfz6NXYPaXKqrqzVxYvOexx0KhXT++ec365gAAAAAWhk7Kf+afypRUKxw3/NMp8kKKTvFt7mcd955zT6mz+fTxRdf3OzjAgAAAGg9PB+8rpy9O1V/0fckZ9pXq4yQ9kdQAQAAACDtJOLyvfa04u26KNJruOk0WYOCCgAAAADHyLvlZbnqKhUceqnkoFY1F95JAAAAADgW8ah8b8xVrOOpinYbaDpNVqGgAgAAAMAxyH37BTmD+xUc/g3JskzHySoUVAAAAABoIisSkm/dfEVP6a/YSX1Mx8k6FFQAAAAAaKLctxbKEQkqOOxS01GyEgUVAAAAAJrACtXJ99YShU8dqnhxN9NxshIFFQAAAACawLduvpSIKTT0EtNRshYFFQAAAAC+hqO+WrkbX1T49FIlijqajpO1KKgAAAAA8DX8bzwrWQ6Fhkw1HSWrUVABAAAA4Cic+z6W591X1XjmRUrmtTUdJ6tRUAEAAADgKPyvPS07x6vQoImmo2Q9CioAAAAAfAXXnq3ybF+nxrPGy/bmm46T9SioAAAAAHAkti3/mieVzC1QqP8Y02laBQoqAAAAABxBzseb5N61WaFBkyW313ScVoGCCgAAAABfZtvyr/mnEvnt1XjG+abTtBoUVAAAAAD4Eve2tcqp2q7gOdMkZ47pOK0GBRUAAAAAviiZkH/NU4q36azIaeeaTtOqUFABAAAA4Au8W16Rq/YTBYddIjmoTC2JdxsAAAAAPhOPyvfGs4qV9FC0+yDTaVodCioAAAAAfCp34zI5AzUKDv+GZFmm47Q6FFQAAAAAkGRFG+VbN1/Rk/spdnJf03FaJQoqAAAAAEjKfWuxHOEGBYddZjpKq0VBBQAAANDqWY31yn1rkSI9hyjeoYfpOK0WBRUAAABAq+dbN19WPKLgOdNNR2nVKKgAAAAAWjVHwz7lblymcJ9RSrTtbDpOq0ZBBQAAANCq+d6YK9m2QkOmmo7S6lFQAQAAALRazv275d2yUo1nXqhkfnvTcVo9CioAAACAVsv/2tOyXR6FBk0yHQWioAIAAABopVxV2+TZ+oYaB46VnVtgOg5EQQUAAADQSvnXPKWkN0+NA8eZjoJPUVABAAAAtDo5H78j90cbFRo0WbY713QcfIqCCgAAAKB1sW351/xTiby2ajzjAtNp8AUUVAAAAACtinv7m8qp3KrQkGmSy206Dr6AggoAAACg9Ugm5V/zlOJFnRTuM9J0GnwJBRUAAABAq+F5b5Vc+3cpOPQSyeE0HQdfQkEFAAAA0DokYvK//oxixd0U7TnEdBocAQUVAAAAQKvg3fSSnA17FRz+DcmyTMfBEVBQAQAAAGS/aFj+tfMU7Xy6Yif3M50GX4GCCgAAACDr+SqWyNFYr+Cwyzh6msYoqAAAAACyW6heuesXKtL9bMU7nmo6DY6CggoAAAAgu73yrKxoWMGhl5pOgq9BQQUAAACQtRyBGun1hYr0HqFEu5NNx8HXoKACAAAAyFq+N8qlZFLBc6abjoImoKACAAAAyErOml3ybl4hDR6jZEGx6ThoAgoqAAAAgOxj28pb8ZBsd65UdpnpNGgiCioAAACArON5b5Xcu7coOPwbkr/QdBw0EQUVAAAAQFaxIkHlvfoPxTr0VLhvmek4OAYUVAAAAABZxb/mKVnhBgXKrpYsKk8mYbYAAAAAZA1X1TZ5Ny5T45kXK17czXQcHCMKKgAAAIDskEwqb8VDSvoKFOK2MhmJggoAAAAgK3jfeUk5VdsVPPdbsj0+03FwHCioAAAAADKeFaqTf/U/Fe3cV5Few0zHwXGioAIAAADIeHmrHpcVjyhQNkOyLNNxcJwoqAAAAAAyWs6uLfK++6pCZ01Qos1JpuPgBFBQAQAAAGSuRFx5Kx5SIr+9QoMmmU6DE0RBBQAAAJCxcjcskWv/LgVKr5JyPKbj4ARRUAEAAABkJEfDPvnfeFaR7mcr2u0s03HQDCioAAAAADJS3iuPSpICI79tOAmaCwUVAAAAQMZx79ggz7a1Cg6eomRBe9Nx0EwoqAAAAAAySzyqvJcfUbxNJzUOHGc6DZoRBRUAAABARvGtWyBnfZUCpVdLTpfpOGhGFFQAAAAAGcNZu0e+NxcofNoIxU7uazoOmhkFFQAAAEBmsG3lrXxYtitHgRGXm06DFKCgAgAAAMgIng9el/ujjQoOvVS2v8h0HKQABRUAAABA2rOijfK/8qhi7bsqfMaFpuMgRSioAAAAANKe7/Vn5AjVKVB2jeSgxmQrZhYAAABAWnPu/VC5Fc8r3O88xTv2NB0HKURBBQAAwIlJxOUI1JhOgWxlJ5W/4iHZHr+Cwy4znQYpRkEFAADAcbNC9Sp65ldq+8hP5dn8suk4yELezS8rZ8/7Coy4XLY3z3QcpBgFFQAAAMfFWbtHbZ7+pVw1Hyte3E0Fy/5XvjVPSXbSdDRkCSvcIP/qJxTrdJoifc41HQctwGU6AAAAADKPa88HKnzut5Is1U65VfHibspb+ZD86+bJWV+lhguulVxu0zGR4fyr/ykrElJD2dWSxbG11oCCCgAAgGPi3rZOBUsfVNLfRnWTblKiqKMkKXDed5Uo7Ki81U/I2bBPdeN/JDu3wHBaZCrXng+U+85yhQaOU6JdF9Nx0EL4NQQAAACazPv2CypY/DvF23XR/kvuPFhOJUmWpcazJ6huzA/lqt6hNk/9Us79n5gLi8yVTChvxd+U8LdRcMg002nQgiioAAAA+Hp2Uv7VTyh/5cOKdh2o2qm3yfYd+eho9NRzVDt1lqxYWEVP/1I5uza3cFhkuty3X1TO3g8VGPVtye01HQctiIIKAACAo0vElP/8/8j35nNq7HeB6sfdIOV4jvqUeMee2n/pz5X0Fapw3n3ybGGFXzSNI1gr32tPKXpKf0V7DDYdBy2MggoAAICvZEWCKpw/W973Vysw7DIFyq6WHM4mPTdZUKzaS/5dsZN6q+DF/5Xvtacl205xYmQ6/6uPyUom1DDqKsmyTMdBC6OgAgAA4IgcDftU9MxdyvnkPdVf9D01Dpp0zIXB9vhVN/EmNZ5eJv/acuU//0cpHk1RYmS6nI82yvv+GoXOnqhkUQfTcWAAq/gCAADgMM59H6lw/mxZsbDqJt6kWJd+JzCYS4Hzv6tEYYny1vxTzsA+1Y37sezc/OYLjMyXiClv5cNKFJQodPYE02lgSMqPoN5777269dZbJUmrVq3SpEmTNHr0aM2ZM+fgYzZv3qzp06drzJgxuv322xWPxw8bp76+XjNnztS4ceN05ZVXqrq6WpIUjUZ18803a9y4cZo2bZq2bt0qSbJtW/fee6/Gjh2r8ePHa926dUfMN3/+fI0fP16jR4/Wo48+enD7iWQFAADIZDkfv6OiZ34lSaqddvuJldPPWJYaB006sMJv1Q61eeoXrPCLQ/jWL5Krdo8aSmdwD91WLKUFdfXq1Xr22WclSeFwWLNmzdKDDz6ohQsXauPGjVqxYoUk6eabb9add96pJUuWyLZtPfnkk4eNdf/992vw4MFatGiRLrvsMt11112SpEceeUS5ublatGiRZs2apdtuu02StGTJEm3dulULFy7UH/7wB912222HlcnKykrNmTNHjz32mObOnasnnnhCH3zwwQlnBQAAyFSed1epcP6vlcxrq9pL7lSi/SnNOv6BFX5vlRVr/HSF3y3NOj4yk6O+Wr615Yr0HKJY1/6m48CglBXU2tpazZkzR9ddd50kqaKiQl27dlWXLl3kcrk0adIkLV68WLt27VI4HNbAgQMlSdOnT9fixYsPG2/58uWaNGmSJGnixIlauXKlYrGYli9frsmTJ0uShgwZopqaGu3evVsrVqzQ+PHj5XA41L17d3Xq1Enr168/ZMxVq1Zp2LBhKioqks/n05gxY7R48eITzgoAAJBxbFu56+ar4IX/VqzTaaqdfoeS+e1S8lLxjr20/5KfK+krUOG8e+XZ8kpKXgcZwraVt/JhyXIoMPJK02lgWMquQb3zzjt144036pNPDpy6UVVVpeLi4oNfLykpUWVl5WHbi4uLVVlZedh4X3ycy+VSXl6eampqjvj8PXv2qKqqSiUlJYdt/6oxP8tUUVFxwlm/Trt2ecf8nFQoLua6j3TCfKQX5iP9MCfphflIPyc0J8mEtPDP0trF0hmj5J56vdq7cpov3JEU50sz75OevE8FL/5JitdK512eNau28nfkGGx5Tdq5QRp9jdp175qyl2FOPpfO70VKCuo///lPderUScOHD9czzzwjSUomk7K+8A+ObduyLOsrt38d27blcDgOe/xn2480rsNx6AHjY810vFm/bN++gJJJs0usFxfnq7q6wWgGfI75SC/MR/phTtIL85F+TmhOYhEVLH1Qnh3rFTp7goLDLpP2hyWFmzXjVxpzo/KW/59yVzyp8O6P1HDhtZIzxeU4xfg7cgxiEbVd8L+y256s/T1KpRS9b8zJ50y/Fw6HddQDdikpqAsXLlR1dbWmTJmiuro6hUIh7dq1S07n5/fMqq6uVklJiTp27HhwwSNJ2rt37yFHPj9TUlKivXv3qmPHjorH4woGgyoqKlKHDh1UVVWlU0455ZDnd+zYUVVVVUcdt2PHjlq7du3XZjrWrAAAAJnAaqxX4XNz5KrcpobSGQqfeVHLh3C6FLjgWiWKOn5hhd8fscJvK+FfWy5nYJ/2T7tdcnKDEaToGtT/+7//04IFC1ReXq4bbrhBF1xwgf785z9r+/bt2rlzpxKJhBYsWKDS0lJ17txZHo/n4Cq75eXlKi0tPWzMsrIyzZ07V9KBAjx48GDl5OSorKxM5eXlkqS1a9fK4/HopJNOUmlpqebPn69EIqGdO3dqx44dOvPMMw8Zc8SIEVq9erVqamrU2NiopUuXqrS0VAMGDDihrAAAAOnOUVupoqf/Q669H6p+3A1myulnPl3ht370v8lVtV1FT/9SzlpW+M12zppdyn1rkcJ9Ril+Um/TcZAmWuzXFB6PR/fcc4+uv/56RSIRlZWVaezYsZKk2bNn64477lAgEFC/fv00Y8YMSdIDDzygkpISXXHFFfrRj36kW2+9VRMmTFB+fr5mz54tSbrqqqt05513asKECXK73brvvvskSWPHjlVFRcXBBZTuuusueb1eVVZWaubMmSovL1eHDh104403asaMGYrFYrr00kvVv/+BVcOONSsAAECmcO3ZqsLnfivJVu3UWxXv2Mt0JElSpNcwJfLaqXDh/Sp66peqH/8jxU7qYzoWUuHThZHsHK8CI75pOg3SiGXbttmLIY9i06ZNeuutt3Tllc27mtesWbN09913N+uYx4JrUPFlzEd6YT7SD3OSXpiP9HMsc+Le/qYKlj6opK9IdZN+qkRRpxSnO3aOuioVPvcbOeuq1HDBtYr0Ptd0pGPC35Gv53l3lQpe+G81lF2j8BkXpPz1mJPPmX4vvu4a1JTeB/VEVVdXa+LEic06ZigU0vnnn9+sYwIAAGQC78ZlKlj0gOJtT9b+S+5My3IqScnCEtVOv1OxTqep4IX/ke/1Z6T0PaaCY2RFgsp79R+KlfRQuN95puMgzaR1QT3vvPNUWFjYrGP6fD5dfPHFzTomAABAWrNt+Vf/U/kr/qZo1wGqnXqbbF+B6VRHZXv9qpt0s8J9Rsn/xlzlv/A/UiJmOhaagf+1p2WF6xU47xrJSus6AgNYKgsAACCbJeLKX/Zned9bpca+5ytQNkNyOL/+eenA6VLDBdcqUdhB/teekqNhn+rH3yDbywq/mcpVtV3ejS+q8YyLFC/uZjoO0hC/sgAAAMhSViSkwgWz5X1vlYJDLz1wxCpTyulnLEuhwZNVP/rflFO1TUVP/VLO2j2mU+F4JJPKW/GQbG+BQkMvMZ0GaYqCCgAAkIUcgRoVPXuXcna/q/oLZyo0eLJkWaZjHbdIr2GqnfIzOSIhFT31C+Xsftd0JBwj7zvLlVO1TYGRV8j2+EzHQZqioAIAAGQZ576PVfT0L+Wor1bdxJ8q0mek6UjNIt7pNO2/9E4lcwtUWH6vPO++ajoSmsgK1cu/5klFO5+uSK/hpuMgjVFQAQAAskjOrs0qeuZXkm2rdvodinU5w3SkZpUs7KDaS/5dsY6nfrrC77Os8JsB8lY/LisWUaB0RkYfyUfqUVABAACyhOe91Sqc92sl/W1Ue8m/K9H+FNORUsL25qlu8i0K9z5X/jeeZYXfNJeze4u8W15R48DxSrTtbDoO0hyr+AIAAGQ621bum88pb/UTip7UR/XjfiTb6zedKrWcLjVcOFOJoo7yv/a0HIF9qh/HCr9pJxFX3oqHlMhvr+DgyabTIANQUAEAADJZMikt+rPyXl+ocK9harjwXyVnjulULcOyFBo8RYmCEuW/+L8qeuqXahwwRsn8dkrktVMyv51st49TSg3KrVgqV80u1Y3/sZTjMR0HGYCCCgAAkIniUbk/fFu5G1+UPtqo0FkTFBx+mWS1viu4IqcNVyKvrQoX/175Kx8+5GvJHO8hhTWZ106J/Hafb/O3kZz8SJwKjoZ98r/+rCLdzlK0+9mm4yBD8LcRAAAgQ1jhoNw735Jn2zq5P6yQFY8q6fFJ42cq2D07Vuo9XvGTemvfNQ/I0VgnR0ONHIF9cjbsO+T/OVXb5Qg3HPI8W5aS/iIl89oeKK6fFdhPC20iv51sTx5HYY9VNKyC5x+UZCsw6tum0yCDUFABAADSmCO4X+5t6+TZ/qZydm2WlUwo4W+j8OmlinQ/W7GT+qi4YxupuuHrB8t2DoeS/jYHjoqq55EfE4vIGTi0wDoa9skZ2CdX9U45t6+X9aUFl2yX+7DyevD/ee2UzGsjudyp//4yRTyqwoVz5NrzgepH/0DJgmLTiZBBKKgAAABpxln7yYFSum2dciq3SpLiRZ3UOHCcIj0GKV7SvVWeytsscjxKtOmkRJtOOuK6v7Ytq7FBzsBeOQI1B0rspwXW0bBP7n0fyRmqO+xpydzCg6cOq2c/6dTzWuccJWIqXPSAcnZtUcNF31P01HNMJ0KGoaACAACYZttyVW+Xe9ub8mxbJ9f+XZKkWEl3BYdeqkiPQdyeo6VYlmxfgeK+Aqmkx5Efk4gdKK+BmkPKqzOwT859H0lb31D+hx+o4fx/kRzOls1vUiKugsW/l/vDt9Vw/r8o0nuE6UTIQBRUAAAAE5IJ5ex+99PTd9fJGaiRbTkUO6m3Gs44X9Hugw4cjUP6ceYoWdhBycIOh3/NtlX8ziJ5lz8uxaJquPi61rEIUzKhguf/KM+O9Woou1rhvmWmEyFDtYK/LQAAAGkiHpX7o40HFjnasV6OcEC2M0fRLmcoeM4linYfyH08M51lSed9U4GopbxV/5CViKp+zA+z+xrVZFL5L/xJnq1vKHDutxQ+40LTiZDBKKgAAAApZEWCcu/YIM/2dXLvrJAVjyjp8SnadaAiPQYpekp/7g+ZhRrPGic7x6P8FX9T4XO/Vd34G7Nznu2k8pb/Vd73Vysw7DI1DhxrOhEyHAUVAACgmTmCtXJv/3SRo89W3vUVKdznXEV6DFbspD6t47TPVi58xgWyXW7lL/tfFc2/T3UTfirb4zMdq/nYtvJWPqzczSsVHDJVjYMmmU6ELMC/jAAAAM3AWbvn05V3136+8m5hBzUOGHtg5d0OPVrnqq6tXKTPSNkutwqe/6MK592rukk3Zcdp3LYt/6uPKXfjMoXOnqDQkGmmEyFLUFABAACOh23LtXen3NvWHlh5t+bTlXeLuyk49BJFun+68q5lGQ4K06KnnqN6V44KFv9eRc/+p2on3yLbX2Q61vGzbfnX/FO+DUsU6j9awWHf4M85mg0FFQAA4Bjl7H5X/tVPKmfP+7ItS7GT+igw8nxFepytZH570/GQhqLdzlLdhJ+ocOEcFc29W3WTf5axqzT71pbL9+YCNfY7X8GRV1JO0awoqAAAAE3k3Pex/GuelGfHW0r426ihdIYipw6VnZsFp2wi5WJd+ql28i0qXPAbFT17l2qn/OzIt6pJY7lvPif/688o3GeUAmVXU07R7CioAAAAX8PRsFf+15+VZ8srst25B1Yr7T86O1dlRUrFO52muim3qnDefSp69m7VTb7lwKngGSB3w1LlrX5C4V7D1HD+v3BNNVKCggoAAPAVrHCDfOsWKPftFyRJjQPHKjRokmxvnuFkyGTxku6qnXa7isrvVdHcu1U76RYliruajnVU3o3LlPfK3xXpMVgNF86UHJRTpAYFFQAA4MtiEeVWLJXvzQWyYmGFe49U6JxpXF+KZpNod7Jqp9+uwvJ7VFT+n6qbeLPiHXuajnVEni0vK3/F3xTpOkD1o/+NWyQhpfjTBQAA8JlkQt7NK+V7/Vk5Q7WKdDtLwWGXKdHuZNPJkIUSRR1VO+0OFZXfo8J596p+wk8U69zHdKxDeN5brfxlf1a0yxmqH3s95RQpx58wAAAA25Z721r51zwlV+0ninXspfoxP1D8pN6mkyHLJQvaf3ok9V4VLpitunE3KHZKf9OxJEnurW8o/4X/UaxTb9WN+5HkcpuOhFaAggoAAFq1nF2b5V/1hHKqtineprPqxv9Y0W5nsTopWkzS30a102apcN59KnzuftWP+YGiPQYZzeTesV4FSx9UvENP1U34CQuCocVQUAEAQKvk3Puh/KuflOfDCiXy2qr+gmsV6T2SxV9ghJ1boLopt6lwwWwVLP4vNVz0PUVOG24kS86Hb6tg0X8p3v4U1U38qeT2GsmB1omCCgAAWhVHfbX8rz0tz3urZXt8Coy4XI1nXsTpizDO9vpVN/kWFTw3R/nP/7eseFThvmUtmiFn12YVLnpAiTYnqW7SzbI9vhZ9fYCCCgAAWgWrsV6+tfOUu3GZZFlqPHu8QmdNlO31m44GHGS7c1U38acqXPxfyn/pL7JiETUOGN0ir+365H0VLvitEvnFqp1yC7dTghEUVAAAkN1iEfk2LFbum8/JikcUPr1UoSHTlMxrazoZcGQ5HtWN/5EKlj6ovFf+LsUjahw0KaUv6arapsIFs5XwF6luys9k5xak9PWAr0JBBQAA2SkRl3fzCvlfnytHY50iPQYpOPRSJdp2Np0M+HrOHNWP+aHyX/xf5a35p6xYWKGhl6Zk8S7n3g9VOO/Xsr15qpt6m5L+omZ/DaCpKKgAACC72LY8H7wu32tPyVVXqehJvRUcf4PiHXuZTgYcG4dTDRfOlO1yy79uvqxYRMGRVzZrSXXW7FJR+b2yczyqnXIrZxbAOAoqAADIGjkfbZJ/zZPKqdqueLsuqpvwU0W79ueWMchcDocC531HtsstX8VSWfGoAmXXNMtq087aT1RYfo9sh1N1U25VsqD4xPMCJ4iCCgAAMp6reof8q5+U+6ONSuS1U/2FMxU5bQS3jEF2sCwFR14pO8dz4EhqPKqGC/9VcjiPe0hHXZUK594jy06qduosJYo6NmNg4PhRUAEAQMZy1FXJ/9pT8r6/RklvngLnfkuNZ1zALWOQfSxLoWGXSS6P/K89JSseUf3of5OcOcc8lKNhr4rK75EVj6p26m1cl420QkEFAAAZxwrVy7e2XLmblkkOp4KDJqvxrPHcsxFZLzR4suwcj/JeeVSFCx9Q3bgbjukXMo7gfhWW3ysrElLdlJ8p0f6UFKYFjh0FFQAAZBQrElKbJ+6Qo7Fe4b7nKTRkKquOolVpHDDmQEl96f9UuOA3qh//Y9nu3K99nhWqV2H5PXKE6lQ3+RbFS7q3QFrg2HBhBgAAyCi+N+fLGapV7bTbFTjvGsopWqVw3/PUcPH3lLP7XRXOu09WOHjUx1vhBhXNu1fOhn2qn/gTxTue2kJJgWNDQQUAABnD0bBXuRuWKtz7XMU7cdsYtG6R00aofuz1clXvVGH5f8pqrD/i46xIUIXzfi1n7R7Vjf+xYif1aeGkQNNRUAEAQMbwr3lKkhQceonhJEB6iPYYpLoJP5Zr/ycqevZuOYL7D/m6FW1U4fzZcu37SPVjb1CsyxmGkgJNQ0EFAAAZwVW9Q973VqlxwBgl89ubjgOkjdgp/VU36WY5AjUqeuYuOer3fvqFiAoW/Fauqu2qH/NDRbsNMBsUaAIKKgAASH+2Lf+r/1DSm6/Q2RNNpwHSTqxzH9VNvkVWJKCiZ38l576PVLhwjnL2vKeGi69TtMcg0xGBJqGgAgCAtOfeuUHuXZsVHDKFW8kAXyHe8VTVTrlNVjymNo/foZyPN6vhwpmK9BpmOhrQZBRUAACQ3pIJ+Vc9oXhhB4X7XWA6DZDWEsVdVTttluIl3dVwwb8o0vtc05GAY8J9UAEAQFrzbl4p1/5dqht7veTkRxfg6yTadlbtZf/PdAzguHAEFQAApK9oWP7XnlGsUy9Feww2nQYAkGIUVAAAkLZ8by2Uo7FOgRFXSJZlOg4AIMUoqAAAIC05gvvlW79Q4Z7nKN7xVNNxAAAtgIIKAADSku/1Z6RkQsHhl5mOAgBoIRRUAACQdpz7PpZ380o1nnmRkoUdTMcBALQQCioAAEg7/lWPy87JVWjwZNNRAAAtiIIKAADSSs5HG+X5sEKhwZNle/NNxwEAtCAKKgAASB92Uv5VjyuR316NZ15kOg0AoIVRUAEAQNrwvLtKOXs/VHDYpZLLbToOAKCFUVABAEB6iEflf+0pxUq6K9JrmOk0AAADKKgAACAt5G5YImegRsERV0gWP6IAQGvEv/4AAMA4q7FevnXzFel2lmKd+5iOAwAwhIIKAACM878xV1Y8quCIb5qOAgAwiIIKAACMctZ+Iu+mlxTue54SbU4yHQcAYJCrKQ8KBoOaPXu2tm3bpgceeEC//e1v9bOf/Ux+vz/V+QAAyF52Ula0UVYkJEckKCsSkhUJyhEJff5xNCQrHDzwcSysxtPLFDl9lOnkzcq/+knZzhwFz5lmOgoAwLAmFdRf/epXKikp0b59++TxeBQIBHTnnXfqN7/5TarzAQCQ3hIxWeFPi2QkKEc4JCsa/LR0Hth2WAGNfra9UZbsrxzatizZbp9sj19Jj09WPKL8ZX+WXG5Feg1twW8ydXJ2vyvPtnUKDr1Etq/QdBwAgGFNKqibN2/Wf/7nf2rFihXKzc3V7NmzNXHixFRnAwAgLTjqquRfO1dWY8PhpTMRO+pzbZdbSY9ftscn2+NTMq+NEu7OX9jm/9LHvoMf2zleybI+HyweVdG8+5T/wv8omZuv2Ml9U/ydp5hty7/qcSX8bRQaMNZ0GgBAGmhSQXU4Dr1UNZFIHLYNAIBs5Vs3T573ViversuBkunv/GmR9Mt2+5T0fvp/j//ANs9nH+dKzpzmC+Jyq278jSp69lcqWPSAaqfdrkT7U5pv/Bbm+eB15VRuVf0F10o5HtNxAABpoEkFdciQIfr1r3+tcDisl19+WY8++qiGDs2OU4sAADgaKxyU9/01CvcZpcD53zUdR7bXr7qJN6no6V+qcP5s1V5yp5IF7U3HOnaJmPxrnlS8XRdFeo80nQYAkCaadBj0pptuks/nU35+vubMmaPevXvrlltuSXU2AACM8777qqx4VOEzLjAd5aBkfjvVTbpZViKqwvm/lhVuMB3pmOW+/aKc9dUKjLhc4qwsAMCnmnQENScnRz/4wQ/0gx/8INV5AABIH7Yt76ZlinXoqXhxN9NpDpFod7Lqx9+ownn3qXDBb1U75daMOU3WCgflW1uuaJczFDvlTNNxAABppEkF9brrrjvi9v/+7/9u1jAAAKSTnN1b5Nq/W/UX/KvpKEcUO6m36i++TgWLf6+CpQ+qftwNksNpOtbX8q2bJysSOnD0FACAL2hSQR0zZszBj2OxmJYsWaIzzjgjZaEAAEgH3o0vKunxp/UtXaI9hyhQNkP5Kx5S3oq/KXDedw9d+TfNOOqrlVvxvMJ9Rmb0Ak8AgNRoUkGdNm3aYZ9fddVVKQkEAEA6sEJ18mxbp8YzL5JcbtNxjip8xoVyBPfLv3aekv42Cp0z3XSkr+Rf80/J4VBo6CWmowAA0lCTCuqX2batqqqq5s4CAEDayH1nhaxkQuF+6bM40tGEzrlEjmCt/G/MVdJXlFaLOn3GVblN3vfXKDhospJ5bU3HAQCkoeO6BvW9997TOeeck5JAAAAYl0zKu+klRTv3VaJNJ9NpmsayFDjvO3KE6pS38iElfYWK9hhkOtXnbFv+Vf9QMrdAjWdPMJ0GAJCmjvkaVMuydMUVV2jkSO5ZBgDITu4PN8gZ2KfAuVeYjnJsHE7Vj/mhisrvUcHSB1U75WeKdzrNdCpJknv7m3LvflcNZVfLdueajgMASFNNvgY1Go2qsbFRtm1LkhoaGlRUVJTKbAAAGOHduEwJX5Gi3c82HeXY5XhUN+EnKnrmP1T43BzVTr9DibadzWZKxOVf/aTiRZ0UPr3MbBYAQFpr0p2xH3/8cQ0ePFjDhg3T8OHDD/4fAIBs46ivlntnhcJ9yyTncS3VYJydm6+6STfLdrpUOP/XcgRqjObxbl4hV+0nCo74Zsa+pwCAltGkgvrnP/9Z//jHP7R582Zt3rxZW7Zs0ebNm1OdDQCAFpe7ablkSeG+55mOckKSBcWqm3iTrEhIhfNny4oEjeSwoo3yv/6Moif1VrTbWUYyAAAyR5MKavv27dWvX79UZwEAwKxEXN7NKxTtOlDJ/Ham05ywRHFX1Y//sZy1n6hg4f1SPNriGXLffE6OxgYFR1yR1vdnBQCkhyYV1JEjR+qxxx5TZWWlamtrD/4HAEA28WxbK0djvRrPuNB0lGYTO7mvGi76nty731XBC/8jJZMt9tqOQI18by1SuNcwxTv0aLHXBQBkriZdCPKnP/1J0WhUv/zlLw9usyyL03wBAFnFu3GZEgXFip1yhukozSrSa5gCoVrlvfKY8l75uwKjrmqRo5n+156WbFvBYZel/LUAANmhSQW1oqIi1TkAADDKWbNL7t1bFBj+Dclq0glGGaVxwFg5Avvle2uREv42ahw0KaWv59z7oTxbXlHjwLFKFhSn9LUAANmjSXvgZDKpv/zlL7r11lsVCAT0P//zP0okEqnOBgBAi/Fuekm2w6Xw6aWmo6RMcMQ3FT5thPLW/FOezS+n9LXyVj0u2+NTaNDklL4OACC7NOkI6n333aeamhq9/fbbsm1bL7/8sqqrq3XHHXekOh8AAKkXi8i75RVFeg6RnVtgOk3qWA41XHCtHI31yn/pL7J9BYp2HdDsL5PzYYXcH21U4Nxvyfb6m318AED2atIR1NWrV+uee+6Rx+NRfn6+/vrXv+rVV19NdTYAAFqE9/01ckRDCp9xgekoqed0qX7s9Yq3P0UFi/9LrsqtzTt+Mqm8VU8oUVCixjOzZ7EpAEDLaFJBdblccjg+f6jb7ZbLxY22AQDZwbvxRcXbdlas02mmo7QI252ruok/VdJXpMIFv5Wzdk+zje3d8rJc+z46sDCSM6fZxgUAtA5NKqinnXaaHn30USUSCW3btk133nmn+vTpk+psAACknKtqm3Kqdxy4tUwruk+n7StU3aSbJEsqnP9rWcHaEx80FpHv9WcU69BTkVPPOfHxAACtTpMK6u23365NmzZp3759+ta3vqVQKKRZs2alOhsAACnn3bhMtsujSO9zTUdpcYmijqqb8FM5QnUqXPAbWdHGExrP99YiOYP7FTj3ilZV9gEAzadJ5+lWVVXp7rvvTnUWAABalBUOyvv+GoVPGyHbnWs6jhHxDj1UN/YGFS6co4JFv1PdxJ9KzmO/jMcK1Sl3/UJFegxSvJWcKg0AaH5NOoJ6zTXX6Morr1R5ebmi0WiqMwEA0CK8774qKx5tHYsjHUWsa381nP8vcn+8Sfkv/q9kJ495DP/rz8pKxBQc/o0UJAQAtBZNKqjLly/XzJkz9dJLL+mCCy7QL3/5S23ZsiXV2QAASB3blnfTMsU69FS8uJvpNMZF+oxUYNhl8r6/Wv5VTxzTc501u+R9Z7nC/c5XoqhTihICAFqDJhVUh8OhsrIy3X///XrooYe0ceNGTZs2LdXZAABImZzdW+Tav1uN/Vr30dMvajx7okJnXizfW4uU+9aiJj/Pv/pJ2TkeBYdMTV04AECr0KSLTOLxuJYtW6ZnnnlGFRUVGj9+vP7jP/4j1dkAAEgZ78YXlfT4Fek11HSU9GFZCo68Us5QrfJe/YeSviJFTht+1Kfk7Nosz471Cgy7THZuQQsFBQBkqyYV1JEjR6pXr1669NJL9bvf/U5utzvVuQAASBkrVCfPtnVqPPMiycU+7RAOh+ov+p4KGxuU/+KflMwtUKxLvyM/1k7K/+o/lMhrq8YBY1o2JwAgKzWpoD7++OPq1q1biqMAANAyct9ZISuZUJjTe4/M5Vb9+B+p6Nm7VbDoAdVNm3XE63Q9769RTvUO1V/0PYo+AKBZNOkaVL/fr5kzZ2rMmDHau3ev/uVf/kVVVVWpzgYAQPNLJuXd9JKinfsq0YYFfb6K7fGrbuJPZXv8Kpz/Gznqqw99QDwq/+p/Kta+69eeBgwAQFM1qaD+4he/0EUXXSSPx6PCwkL16dNHd9xxR6qzAQDQ7NwfbpAzsE+NrfzWMk2RzGurukk3Scm4CufdJ6ux/uDXciuelzOwT8ERl0tWk36cAADgazVpj7Jr1y594xvfkMPhUE5Ojm6++WZ98sknqc4GAECz825cpoSvSNHuZ5uOkhESbTurbsJP5AzUqHDBb6VYRArVy7duviJdB3z19akAAByHJhVUy7KUTH5+0+5AIHDI5wAAZAJHfbXcOysU7lsmOZu0DAMkxTv1Uv2YH8hVvV0FS34vvfS4rFijgsO/aToaACDLNKmgjh49WjfddJMaGhr0+OOP6+qrr9a4ceNSnQ0AgGaVu2m5ZEnhvueZjpJxot3PVqDsGnl2bpDeWKTw6aVKtDvZdCwAQJZp0q+Pr7vuOs2dO1fJZFKrVq3SN7/5TX3jG99IdTYAAJpPIi7v5hWKdh2oZH4702kyUrjf+XI0Nsi/ZYVC51xiOg4AIAs1+fymqVOnaurUqQc/f/XVV3XuueemIhMAAM3Os22tHI31ajzjQtNRMlpo8GT5x35Lyb0B01EAAFnoqKf4bty4UZdffrmuu+461dTUSJJ2796tH/7wh/r+97/fIgEBAGgO3o3LlCgoVuyUM0xHyXyWZToBACBLHbWg/uIXv9Do0aN18skn649//KNeeOEFTZ48WY2NjSovL2+pjAAAnBBnzS65d29RY7/zuSUKAABp7Kin+DY0NOi73/2uEomExowZo0WLFukXv/iFJkyY0FL5AAA4Yd5NL8l2uBQ+vdR0FAAAcBRHLai5ubmSJKfTqUgkoj/96U/q27dviwQDAKBZxCLybnlFkZ5DZOcWmE4DAACO4qjnOdm2ffDjNm3aUE4BABnH+/4aOaIhhc+4wHQUAADwNY56BDWZTKquru5gUf3ix5JUVFSU0nAAAJwo78YXFW/bWbFOp5mOAgAAvsZRC+p7772nYcOGHSylQ4cOPfg1y7K0efPm1KYDAOAEuKq2Kad6hxpKZ7DyLAAAGeCoBXXLli0tlQMAgGbn3bhMtsujSG/u2w0AQCZgrX0AQFaywkF531+j8GnDZbtzTccBAABNQEEFAGQl77uvyopHWRwJAIAMQkEFAGQf25Z30zLFOvRUvLib6TQAAKCJKKgAgKyTs3uLXPt3q5GjpwAAZBQKKgAg63g3vqikx6/IqUO//sEAACBtUFABAFnFCtXJs22dwn1GSi636TgAAOAYUFABAFkl950VspIJhftxei8AAJmGggoAyB7JpLybXlK0c18l2nQynQYAABwjCioAIGu4P9wgZ2AfiyMBAJChKKgAgKzh3bhMCV+Rot3PNh0FAAAcBwoqACArOOqr5d5ZoXDfMsnpMh0HAAAcBwoqACAr5G5aLllSuO95pqMAAIDjREEFAGS+RFzezSsU7TpQyfx2ptMAAIDjREEFAGQ8z7a1cjTWq/GMC01HAQAAJ4CCCgDIeN6Ny5QoKFbslDNMRwEAACeAggoAyGjOml1y796ixn7nSxa7NQAAMhl7cgBARvNuekm2w6Xw6aWmowAAgBNEQQUAZK5YRN4tryjSc4js3ALTaQAAwAmioAIAMpb3/TVyREMKn3GB6SgAAKAZUFABABnLu/FFxdt2VqzTaaajAACAZkBBBQBkJFfVNuVU7zhwaxnLMh0HAAA0AwoqACAjeTcuk+3yKNL7XNNRAABAM6GgAgAyjhUOyvv+GoVPGy7bnWs6DgAAaCYUVABAxvG++6qseJTFkQAAyDIUVABAZrFteTctU6xDT8WLu5lOAwAAmhEFFQCQUXJ2b5Fr/241cvQUAICsQ0EFAGQU78YXlfT4FTl1qOkoAACgmVFQAQAZwwrVybNtncJ9Rkout+k4AACgmVFQAQAZI/edFbKSCYX7cXovAADZiIIKAMgMyaS8m15StHNfJdp0Mp0GAACkAAUVAJAR3B9ukDOwj8WRAADIYhRUAEBG8G5cpoSvSNHuZ5uOAgAAUoSCCgBIf/ur5N5ZoXDfMsnpMp0GAACkCAW1tbGTcm9fLyXippMAQNOtWypZUrjveaaTAACAFOLX0K2M1RhQ4cI5UrJe6llmOg4AfL1EXFr/gqJdByqZ3850GgAAkEIcQW1lbF+BYsXdpLeWmY4CAE3i2bZWCtap8YwLTUcBAAApRkFthcKnl0p7tstVvcN0FAD4Wt6NL0pFHRQ75QzTUQAAQIpRUFuhSK9hkjNHns0vm44CAEfl2v2u3LvflYaOlyx2WQAAZDv29q2Q7c2T+gyV971VUiJmOg4AfCX/G3OVzC2QBo0xHQUAALQACmprddYFckSCB1b0BYA05Prkfbk/3qTQWeMlt8d0HAAA0AIoqK1Vj/5K5LWVd/NK00kA4Ij8bzyrZG4+iyMBANCKUFBbK4dT4d4j5f7obTkCNabTAMAhXHs+kPujjQoNHC/lcPQUAIDWgoLaioX7jJJl2/K8+6rpKABwCN8bc5X0cvQUAIDWhoLaiiWLOijaqfeB03xt23QcAJAkuSq3yvNhhUIDx0pur+k4AACgBVFQW7nw6aVy1VXKted901EAQNKnR089foXPvMh0FAAA0MIoqK1cpOcQ2S4PiyUBSAuuqm3y7NygxoHjZLtzTccBAAAtjILa2rm9Cp96jjwfvC7FIqbTAGjlfG+UK+nxq7H/xaajAAAAAyioUPj0UjliYXm2vm46CoBWzFW9Q54d69U4cCxHTwEAaKUoqFC802mKF3aQd/PLpqMAaMUOXHvqU+OZHD0FAKC1oqBCsixF+oySe/cWOeoqTacB0Ao5q3fKs/1NNQ4YK9vjMx0HAAAYQkGFJCncZ6Rsy5J3C0dRAbQ8/9q5Srp9XHsKAEArR0GFJCmZ11axLmfKu+UVKZk0HQdAK+Lc+6E829apccBo2R6/6TgAAMAgCioOCvcZJWegRjkfbzIdBUAr4l9brqQ7V439x5iOAgAADKOg4qBIj7OV9Pg5zRdAi3Hu+0ierW+osf9o2V6OngIA0NpRUPE5Z44ipw2XZ9s6WeGg6TQAWgHfG+VK5njVOICjpwAAgIKKLwmfXiorEZPn/dWmowDIcs59H3/h6Gme6TgAACANUFBxiHj7roq3O4XTfAGknG9tuewcjxoHcvQUAAAcQEHFoSxL4dNHKadqu5z7PjKdBkCWctbskueD1xU+82LZ3nzTcQAAQJqgoOIw4dNGyHY45d280nQUAFnKt7ZccrkVGjjWdBQAAJBGKKg4jJ2br2j3s+V9b5WUiJuOAyDLOPfvluf919TY/yLZuRw9BQAAn6Og4ojCfUbJ0dgg984NpqMAyDK+tfMkV45CA8eZjgIAANIMBRVHFD3lTCV8RZzmC6BZOWs/kef91Wo88yLZuQWm4wAAgDST0oL6+9//XhMmTNCECRN03333SZJWrVqlSZMmafTo0ZozZ87Bx27evFnTp0/XmDFjdPvttyseP/zU0vr6es2cOVPjxo3TlVdeqerqaklSNBrVzTffrHHjxmnatGnaunWrJMm2bd17770aO3asxo8fr3Xr1h0x5/z58zV+/HiNHj1ajz766MHtJ5I14zmcivQ5V+6dG2QFa02nAZAlfGvnSc4chQaONx0FAACkoZQV1FWrVumVV17Rs88+q7lz52rTpk1asGCBZs2apQcffFALFy7Uxo0btWLFCknSzTffrDvvvFNLliyRbdt68sknDxvz/vvv1+DBg7Vo0SJddtlluuuuuyRJjzzyiHJzc7Vo0SLNmjVLt912myRpyZIl2rp1qxYuXKg//OEPuu222w4rk5WVlZozZ44ee+wxzZ07V0888YQ++OADhcPhE8qaDcJ9SmXZyQPXogLACXLW7pHnvVVqPONC2T6OngIAgMOlrKAWFxfr1ltvldvtVk5Ojnr27KkdO3aoa9eu6tKli1wulyZNmqTFixdr165dCofDGjhwoCRp+vTpWrx48WFjLl++XJMmTZIkTZw4UStXrlQsFtPy5cs1efJkSdKQIUNUU1Oj3bt3a8WKFRo/frwcDoe6d++uTp06af369YeMuWrVKg0bNkxFRUXy+XwaM2aMFi9erIqKihPKmg0SbTop1vHUA6f52rbpOAAynG/dp0dPz+LoKQAAODJXqgbu1avXwY937NihRYsW6dvf/raKi4sPbi8pKVFlZaWqqqoO2V5cXKzKysrDxvzi41wul/Ly8lRTU3PE5+/Zs0dVVVUqKSk5bPtXjflZpoqKiiNuP5asR9OuXd4xPT5VioubsHrmkNHS/AdVHN0jnXxa6kO1Yk2aD7QY5qOZ1XwivbtKGjpB7buefFxDMCfphflIP8xJemE+0g9z8rl0fi9SVlA/8/777+t73/uebrnlFjmdTu3YsePg12zblmVZSiaTsizrsO1fx7ZtORyOwx7/2fYjjetwHHrQ+Kte+1i3H4t9+wJKJs0ekSwuzld1dcPXPs7qOEDtXG6FVy9W4LxOLZCsdWrqfKBlMB/NL+/Ff8jrcGpfn4tlH8d7y5ykF+Yj/TAn6YX5SD/MyedMvxcOh3XUA3YpXSRp3bp1uuaaa/TTn/5U06ZNU8eOHQ8ubCRJ1dXVKikpOWz73r17Dzny+ZmSkhLt3btXkhSPxxUMBlVUVKQOHTqoqqrqsOd37NjxiNu/qKmZjjVrtrDduYr0HCLP+2ukWMR0HAAZyFFXJe+7r6qx3/my/UWm4wAAgDSWsoL6ySef6Ac/+IFmz56tCRMmSJIGDBig7du3a+fOnUokElqwYIFKS0vVuXNneTyeg6vslpeXq7S09LAxy8rKNHfuXEnSwoULNXjwYOXk5KisrEzl5eWSpLVr18rj8eikk05SaWmp5s+fr0QioZ07d2rHjh0688wzDxlzxIgRWr16tWpqatTY2KilS5eqtLT0hLNmk3CfUXJEG+XZduRVkAHgaHzr5ksOpxrPnmA6CgAASHMpO8X3L3/5iyKRiO65556D2y6//HLdc889uv766xWJRFRWVqaxY8dKkmbPnq077rhDgUBA/fr104wZMyRJDzzwgEpKSnTFFVfoRz/6kW699VZNmDBB+fn5mj17tiTpqquu0p133qkJEybI7XYfvKXN2LFjVVFRcXABpbvuukter1eVlZWaOXOmysvL1aFDB914442aMWOGYrGYLr30UvXv31+Sjjlrtop17qNEQbG8W1Yq0nuE6TgAMoijvlred19RY78LlPS3MR0HAACkOcu203t51k2bNumtt97SlVde2azjzpo1S3fffXezjtlUmXQN6md8b8yV//VntO+q3yhZUPz1T8AxMX0tAA7FfDSfvJf+Ku+WV1Rz1Wwl89oe9zjMSXphPtIPc5JemI/0w5x8zvR7YfQa1OZQXV2tiRMnNuuYoVBI559/frOOme3CvUfKliXvlldMRwGQIRz1e+Xd8rLC/c47oXIKAABaj7QvqOedd54KCwubdUyfz6eLL764WcfMdsmC9oqd3FfeLS9LdtJ0HAAZwPfmfEmWQmc37y8ZAQBA9kr7gor0ET59lJwNe5Wza4vpKADSnKNhr7ybVyrct5SjpwAAoMkoqGiySI/BSrp98m5eaToKgDTne/M5SeLoKQAAOCYUVDSdy61Ir2HybFsrKxIynQZAmnIEauR9Z4XCfUqVzG9vOg4AAMggFFQck/Dpo2TFo/J88JrpKADSlO/NBZJshQZx9BQAABwbCiqOSbykh+JtOnOaL4AjcgT3f3r0dCS3pAIAAMeMgopjY1kKn16qnMqtctbsMp0GQJrJffM5yU4qNGiy6SgAACADUVBxzMK9R8i2HAduOQMAn3IEa5W76SWFe5/L0VMAAHBcKKg4ZravUNGuA+R591UpmTAdB0CayF3/nJRMcPQUAAAcNwoqjkv49FI5Q3Vyf1hhOgqANGAFa5W7cZkivc9VsrDEdBwAAJChKKg4LtGuA5TMLWCxJACSJN/6hVIyoSBHTwEAwAmgoOL4OF0KnzZC7h1vyWqsN50GgEFWqE65m5YpctpwJYs6mI4DAAAyGAUVxy18eqmsZELe91aZjgLAIN/6hVIiptDgKaajAACADEdBxXFLtDtZsZIe8m5+WbJt03EAGGCF6pW78UVFeg1Xoqij6TgAACDDUVBxQsKnj5Jr30dyVe8wHQWAAb63FnH0FAAANBsKKk5IpNcw2c4c7okKtEJWY4Ny335BkVOHKdGmk+k4AAAgC1BQcUJsj1+RHoPkeW+1FI+ajgOgBfneWiTFowoNZuVeAADQPCioOGHh00vliATl2f6m6SgAWogVbpD37RcU6TVUibadTccBAABZgoKKExbr3FeJvHac5gu0IrlvLZYVi3DtKQAAaFYUVJw4h0PhPiOV8+FGORr2mU4DIMWscEC5Fc8rcuoQjp4CAIBmRUFFswj3GSVLtrzvvmo6CoAUy92wWI5YWKHBU01HAQAAWYaCimaRLCxRtPPp8mzhnqhANrPCwQNHT3sOUaLdyabjAACALENBRbMJ9xklV12lcj55z3QUACmSu2GJHNFGBYdMNR0FAABkIQoqmk2k5xAlc7zybl5pOgqAFLAiQeVWLFWkx2Al2nUxHQcAAGQhCiqaT45HkVOHyvPB61I0bDoNgGaWu2GpHNEQR08BAEDKUFDRrMKnl8qKR+TZ+rrpKACakRUJKbdiiSLdBynR/hTTcQAAQJaioKJZxTueqnhRJ+Vymi+QVXIrlsoRCSk0hPueAgCA1KGgonlZ1oF7on7ynpy1e0ynAdAMrGijcjcsUaTbWYoXdzMdBwAAZDEKKppdpM9I2ZZ14JYzADJebsXzckSCCnHtKQAASDEKKppd0t9G0VP6y7vlFSmZNB0HwAmwoo3KfWuRIt0GKl7S3XQcAACQ5SioSIlwn1FyBvcr56ONpqMAOAHet1/g6CkAAGgxFFSkRLT7WUp68+TdwmJJQMaKhuV7a5EiXQcoXtLDdBoAANAKUFCRGs4chU8bIc+2N2WFA6bTADgOvvXPyREOKDR4qukoAACglaCgImXCfUbJSsbleW+16SgAjpGzdo98bz6n8GkjFO/Y03QcAADQSlBQkTKJ4q6Kte8qL6v5ApnFtpW38mHZrhwFRlxuOg0AAGhFKKhIqfDpo5RTvUPOvR+ajgKgidxb35D7o40KDr1Utr/IdBwAANCKUFCRUpHThst2uOTdzGJJQCawoo3Ke+VRxdp3VfiMC03HAQAArQwFFSlle/MV6X62vO+tkhJx03EAfA3fG3PlCNYqUHaN5GAXAQAAWhY/fSDlIqePkiMckHvHetNRAByFc99Hyt2wROG+57EwEgAAMIKCipSLdjlTCX8bTvMF0pltK3/FQ7I9fgWHX2o6DQAAaKUoqEg9h0OR3iPl/rBCjuB+02kAHIHn3VeU88l7Cg7/hmxvvuk4AACglaKgokWETx8py7blefdV01EAfIkVDihv1eOKdeyl8OmjTMcBAACtGAUVLSJR1EmxTr3k3fyyZNum4wD4Av+ap2SFg2oou1qy2C0AAABz+EkELSbcp1Su2k/kqvzAdBQAn3JVbpN300tq7H+xEu1PMR0HAAC0chRUtJjIqefIdrlZLAlIF8mk8lb8TUlfoULnTDedBgAAgIKKlmO7cxU59Rx53n9NikVMxwFaPe+mZcqp3qHgyG/JdueajgMAAEBBRcsKn14qRywsz7a1pqMArZoVqpN/zVOKntxPkVOHmo4DAAAgiYKKFhbr1FuJghJO8wUMy1v1uKx4RIHSGZJlmY4DAAAgiYKKlmZZCp8+Su5dm+WoqzKdBmiVcnZvkffdVxU6a4ISbTqZjgMAAHAQBRUtLtx7pGxZ8m552XQUoPVJxJW34iEl8tsrNGiS6TQAAACHoKCixSXz2ynatb98by2Saw+3nAFaUm7FUrlqdikw6iopx2M6DgAAwCEoqDCi4YJrlfC3UeGC38i572PTcYBWwRGokf/1ZxXpdpai3c8yHQcAAOAwFFQYYfsKVTf5FtnOHBXO/7Uc9dWmIwFZL++VRyXZCoz6tukoAAAAR0RBhTHJgmLVTb5ZVjyiwnn3yQrVm44EZK2cnRXybH1DoUGTlSwoNh0HAADgiCioMCrRrovqJvxUzuB+Fc7/taxoo+lIQPaJR5W/8mHFizopdNY402kAAAC+EgUVxsU79VL92OvlqvlYBQvvl+JR05GArOJbv1DO+qoD9zx15piOAwAA8JUoqEgL0a4D1HDhv8q9a7MKlv5RSiZMRwKygqOuUr518xXuNUyxLv1MxwEAADgqCirSRuS0EWoY9W15tq9T3vL/k2zbdCQgs9m28lY+ItvhVPDcK0ynAQAA+Fou0wGALwr3Hy1HY0D+tXNle/MVHPFN05GAjOXevk6eDysUGPktJf1tTMcBAAD4WhRUpJ3QOdPkCDfIt/45Jb15ajx7gulIQOaJhpX38t8Vb9dFjWdebDoNAABAk1BQkX4sS4HSq2RFgspb/YRsb57CfctMpwIyin9tuZyBGu0f/QPJ4TQdBwAAoEkoqEhPlkMNF86UIxJU3vK/KunNU7THINOpgIzgrNml3A2L1Xh6qeKdepmOAwAA0GQskoT05XSpbuwNipf0UMHSB5Xz8TumEwHpz7aVt+Ih2TleBYdzDTcAAMgsFFSktxyP6ib+VInCEhUsvF+u6h2mEwFpzfPeKrl3b1Fw+Ddk5+abjgMAAHBMKKhIe7Y3T3WTbpbtzVPh/F/LWfuJ6UhAWrIiQeW9+rhiHXpy3TYAAMhIFFRkhGReW9VNvlmSVFh+nxyBGsOJgPTjf+1pWeF6Bcquliz+eQcAAJmHn2CQMRJFnVQ36WZZkaAK5/1aVrjBdCQgbbiqtsu78UU1nnGR4sXdTMcBAAA4LhRUZJR4cTfVT7hRzvoqFS74rRQNm44EmGcnDyyM5C1QaOglptMAAAAcNwoqMk6s8+mqH/1vclVtU+Hi30mJuOlIgFHed1Yop2qbAudeIdvjMx0HAADguFFQkZGiPQap4fx/kfujjcp/4X+kZNJ0JMAIq7Fe/tVPKtr5dEVOG246DgAAwAlxmQ4AHK/I6aUKNDYob/UTsr1+BUqvlizLdCygRflXPSErFlagdAZ//gEAQMajoCKjNZ49QY5wQL71zynpLVBo6HTTkYAW4/rkPeVueVmhsyco0baz6TgAAAAnjIKKjBcc/g1Z4YD8a+fK9uapccBo05GA1EsmlL/iISXy2io4eKrpNAAAAM2CgorMZ1kKnHeNHJGA8l75u5LePEV6jzCdCkip3Irn5dr3kerG3SDleEzHAQAAaBYskoTs4HCq/uLvK9r5dOUv+1+5d2wwnQhIGUegRr7Xn1Gk6wBFuw8yHQcAAKDZUFCRPVxu1Y//seLtuqhgyX/J9cl7phMBKeF/9R+ykgkFRn2bhZEAAEBWoaAiq9juXNVNvEmJvLYqfO63cu77yHQkoFnlfLRR3g9eU2jQJCULO5iOAwAA0KwoqMg6tq9AdZNuke3yqHDer+WoqzIdCWgeiZjyVj6seGEHhc4abzoNAABAs6OgIislC9qrbvItshIxFc27T1aw1nQk4IT51i+Sq3aPAqVXSS636TgAAADNjoKKrJVo21l1E2+SI1SnovmzZUWCpiMBx81RXy3f2nJFeg5R7JT+puMAAACkREoLaiAQ0MSJE/Xxxx9LklatWqVJkyZp9OjRmjNnzsHHbd68WdOnT9eYMWN0++23Kx6PHzZWfX29Zs6cqXHjxunKK69UdXW1JCkajermm2/WuHHjNG3aNG3dulWSZNu27r33Xo0dO1bjx4/XunXrjphx/vz5Gj9+vEaPHq1HH3304PYTyYr0Ee/YU3XjbpBz/y4VPHe/FI+ajgQcl7yX/y5ZDgVGXmk6CgAAQMqkrKBu2LBBV1xxhXbs2CFJCofDmjVrlh588EEtXLhQGzdu1IoVKyRJN998s+68804tWbJEtm3rySefPGy8+++/X4MHD9aiRYt02WWX6a677pIkPfLII8rNzdWiRYs0a9Ys3XbbbZKkJUuWaOvWrVq4cKH+8Ic/6LbbbjusTFZWVmrOnDl67LHHNHfuXD3xxBP64IMPTjgr0kvslDPVcNH3lPPJeypY8gcpwS8VkFnc29+UZ8d6Bc+ZpmReW9NxAAAAUiZlBfXJJ5/Uz3/+c5WUlEiSKioq1LVrV3Xp0kUul0uTJk3S4sWLtWvXLoXDYQ0cOFCSNH36dC1evPiw8ZYvX65JkyZJkiZOnKiVK1cqFotp+fLlmjx5siRpyJAhqqmp0e7du7VixQqNHz9eDodD3bt3V6dOnbR+/fpDxly1apWGDRumoqIi+Xw+jRkzRosXLz7hrEg/kV7DFCibIc+O9cp/6S+SnTQdCWiaWER5L/9d8bad1dh/tOk0AAAAKeVK1cCfHeH8TFVVlYqLiw9+XlJSosrKysO2FxcXq7Ky8rDxvvg4l8ulvLw81dTUHPH5e/bsUVVV1cFy/MXtX5epoqLihLN+nXbt8o75OalQXJxvOkLLOn+q5IjK+9I/5G3TVhrznbS6h2Srm480lzbz8WK51LBX+s5dKu7YxnQao9JmTiCJ+UhHzEl6YT7SD3PyuXR+L1JWUL8smUzK+kIZsG1blmV95favY9u2HA7HYY//bPuRxnU4Dj1gfKyZjjfrl+3bF1AyaR/z85pTcXG+qqsbjGYw4vSx8u/bJ9+a+QrIq8ZBk0wnktSK5yNNpct8OPfvVptX5yrS+1w1+LpIaZDJlHSZExzAfKQf5iS9MB/phzn5nOn3wuGwjnrArsVW8e3YsePBhY0kqbq6WiUlJYdt37t37yFHPj9TUlKivXv3SpLi8biCwaCKiorUoUMHVVVVHfb8jh07HnH78WQ61qxIY5al4MhvKXzaCOWt+ae8m14ynQg4MttW3oqHZed4FBhxuek0AAAALaLFCuqAAQO0fft27dy5U4lEQgsWLFBpaak6d+4sj8dzcJXd8vJylZaWHvb8srIyzZ07V5K0cOFCDR48WDk5OSorK1N5ebkkae3atfJ4PDrppJNUWlqq+fPnK5FIaOfOndqxY4fOPPPMQ8YcMWKEVq9erZqaGjU2Nmrp0qUqLS094axIc5ZDDRdcq0jXAcpb/je5tx15hWfAJM8Hr8m96x0Fh10m21doOg4AAECLaLFTfD0ej+655x5df/31ikQiKisr09ixYyVJs2fP1h133KFAIKB+/fppxowZkqQHHnhAJSUluuKKK/SjH/1It956qyZMmKD8/HzNnj1bknTVVVfpzjvv1IQJE+R2u3XfffdJksaOHauKioqDCyjddddd8nq9qqys1MyZM1VeXq4OHTroxhtv1IwZMxSLxXTppZeqf/8D9xc81qzIME6X6sf8UEVz/1MFz/9RtdPvULy4m+lUgCTJue9j5a14SLGS7gr3Pd90HAAAgBZj2bZt9mLIo9i0aZPeeustXXll8973b9asWbr77rubdcxjwTWo6cMK1qrNU/9Psm3VXvpzY7fwYD7Si8n5cNRVqeiZX0mSaqffoWQhlxFI/B1JN8xH+mFO0gvzkX6Yk8+Zfi/S5hrU41FdXa2JEyc265ihUEjnn88RCRxg+4tUN+EnsqKNKnhujhQNm46EVswR3K+ieffKSsRUN/kWyikAAGh10rqgnnfeeSosbN5rr3w+ny6++OJmHROZLdH+FDWM/oFc+z5UwQv/LSW5RypanhUOqHDer2U1Nqhu0k1KtDvZdCQAAIAWl9YFFWgp0W4DFBh5pTzb35R/9ROm46C1iYZVuOA3ctZVqn78jxXv0NN0IgAAACNabJEkIN2F+4+Wq3aPfG8tUqKoo8L9OBUcLSAeVeGi++Wq2q76sdcrdnJf04kAAACM4Qgq8AWBkVcqekp/5a18WDkfbTQdB9kumVDB0j/K/fE7arjgWkV7DDKdCAAAwCgKKvBFDqfqx/xAiaJOKlj8ezlrdplOhGxlJ5X/0l/k2b5ODaO+rUifkaYTAQAAGEdBBb7EdueqbsJPJKdLhc/NkdVYbzoSso1ty//KY/JueUXBc6Yr3H+06UQAAABpgYIKHEGyoL3qxt8oR3C/Chc9ICVipiMhi/jemCtfxVKFBoxRaPAU03EAAADSBgUV+Arxjj3VcOFM5XzyvvKX/UWybdORkAVyNyyR/41nFe4zSsFzr5Asy3QkAACAtMEqvsBRRHoNVbCuUv7XnlKiqKNCQ6aajoQM5tnysvJeeVSRHoPUcP53JYvfEQIAAHwRBRX4GqFBk+Ss/UT+159RorCDIqcNNx0JGci9bZ3yl/1F0ZP7qv7i70sOp+lIAAAAaYdf3wNfx7LUcP53Fe3UW/nL/izXJ++bToQMk/PRJhUs+YPiJd1VN+7HksttOhIAAEBaoqACTeHMUf34G5TIa6vCRffLUV9tOhEyhGvPVhUuvF+Joo6qm/hTye01HQkAACBtUVCBJrK9+aqf8BMpmVDhgt/KioRMR0Kac+77WIULZivpK1Td5Ftke/NMRwIAAEhrFFTgGCTadFL92BvkrNujgiW/l5IJ05GQphx1VSqcd59sZ45qp/xMSX+R6UgAAABpj4IKHKPYyX0VKLtG7o82Km/lI9x+BodxBPeraN69shIx1U2+RcmCYtORAAAAMgKr+ALHIdy3TM7aPfKtf06JNh3VOGCs6UhIE1a4QYXz7pPV2KC6KT9Tot3JpiMBAABkDAoqcJyCwy+Ts65S/lf+oURBB0W7n2U6Egyzoo0qnP8bOeuqVDfxp4p36Gk6EgAAQEbhFF/geFkO1V/0PcWLu6pg6YNyVu80nQgmxaMqWPiAXNU7VD/63xQ7ua/pRAAAABmHggqciByP6ifcqKTXr8KFc+QI7jedCCYkEypY+ke5d72jhguuVbTHINOJAAAAMhIFFThBSX8b1U34iRzhoAqemyPFIqYjoSXZSeW/9Bd5tq9Tw6hvK9JnpOlEAAAAGYuCCjSDRPtTVD/m3+Tau1MFL/y3ZCdNR0JLsG35X3lM3i2vKHjOdIX7jzadCAAAIKNRUIFmEu12loLnXiHPtnXyr/6n6ThoAb435spXsVShAWMUGjzFdBwAAICMxyq+QDNq7D/m89vPFHVUuG+Z6UhIkdwNS+R/41mF+4xS8NwrJMsyHQkAACDjUVCB5mRZCoy6Ss66KuWt+JsSBcWs5pqFPFteVt4rjyrSY5Aazv+uZHEyCgAAQHPgpyqguTmcqh/zQyUKO6pg8e/k3P+J6URoRu5t65S/7C+KntxX9Rd/X3I4TUcCAADIGhRUIAVsj091E38iOZwqXPAbWY0NpiOhGeR8tEkFS/6geEl31Y37seRym44EAACQVSioQIokC4pVN/7HcgT3q2DR76REzHQknADXnq0qXHi/EkUdVTfxp5LbazoSAABA1qGgAikU79hLDRf+q9yfvKv8l/4q2bbpSDgOzn0fq3DBbCV9haqbfItsb57pSAAAAFmJRZKAFIv0GqZg7R75X39GiaJOCg2ebDoSjoGjrkqF8+6T7cxR7ZSfKekvMh0JAAAga1FQgRYQGjxFzto98r/2lBKFHRTpNdR0JDSBI7hfRfPulZWIqXba7UoWFJuOBAAAkNU4xRdoCZalhgv+RbFOpyn/xT/JtecD04nwNaxwgwrn3SersUF1k25Sot3JpiMBAABkPQoq0FKcOaob9yMl/W1UuPB+OeqrTSfCV4k0qnD+b+Ssq1L9+B8r3qGn6UQAAACtAgUVaEF2bv6B288k4ip87reyIiHTkfAlVrRRevw/5areofrR/6bYyX1NRwIAAGg1KKhAC0u0OUn1Y6+Xs3aPCpb+QUomTEeCJCsSku+NuWr78I3S9o1quOBaRXsMMh0LAACgVWGRJMCAWJd+CpTOUP7y/1Pey3+XLvmB6UitlhUJKbdiqXI3LJYjElKk21nyjL5SkZwS09EAAABaHQoqYEi43/ly1u6R761FUtu20uljJJfbdKxWw4oElVvx/OfFtPvZCg2ZqnhxNxUX50vVDaYjAgAAtDoUVMCg4PBvyhGslXflP9V27fMKDZqkcL/zJGeO6WhZy4oElbthqXI3LJEjGlKk+yCFhkxRvLib6WgAAACtHgUVMMnhUMPo78t77ngllvxd+S8/It/65xQaNFnh00slJ39FmwvFFAAAIP3x0y+QDrqdobpps5Tz8Tvyv/608lf8Tb43Fyg0eIrCvc+lqJ6AA8V0iXI3LD1QTHsMUnDwVCWKu5qOBgAAgC/hp14gXViWYl36qfbkvsr58G35X39G+S/9Rb518xUcMlWR04ZLDqfplBnDCn9aTCuWyBFtVKTHYAWHTFWi/SmmowEAAOArUFCBdGNZinXtr9pTzpR751vyvfaMCl78k+Lr5ik0ZKoipw6THNwh6qtQTAEAADIXBRVIV5alaLezFO06UO7t6+R//VkVPP/fiq+dr+A50xTtOViyKKqfscKBT4vp0gPFtOcQBQdPoZgCAABkEAoqkO4sS9EegxXtfrbcW9fK//ozKlzye8XbdTlQVLsPkizLdEpjDhTTxQeuMY2FKaYAAAAZjIIKZArLoeip5yjaY7A8H6yR7425Klz0O8Xad1Vo6HRFuw5sVUX1iMV0yFQl2nUxHQ0AAADHiYIKZBqHQ5HTRihy6lB53lst/xtzVfjcHMVKeih4znTFTjkzq4uqFW5Q7lufnsobCyvc8xyFhkyhmAIAAGQBCiqQqRxORfqMVKTXMHnffVW+teUqWjBbsY69DhTVk/tmVVE9UEwXK7fieVmxiCI9h1BMAQAAsgwFFch0TpfCfcsU7n2uvJtXyrdunorm3avoSb0VOucSxTr3MZ3whBxWTE8dotDgqUq0O9l0NAAAADQzCiqQLZwuhc+4QOE+I+V9Z4V86+araO7dip7cV8FzLlG8Uy/TCY+J1dgg31uL5X37s2J6jkKDp1BMAQAAshgFFcg2LrfC/S9WuG+Zcjctk2/dArV55j8UPeVMBYdMV7xjT9MJj+pAMV2k3IrnpXiUYgoAANCKUFCBbOVyq3HAWDX2PV+5b78g3/rn1ObpXyjSdYBC50xXvKS7mVy2LSsSkCNYJ0djvRyhWjlCdXKE6uUI7pdn27oDxbTX0APFtG1nMzkBAADQ4iioQLbL8ajx7AkKn3GBvG+/IN/6hWrzz58r0n2QgudMa577hdq2rGijHI11B8pmsE7WZx9/+b/GelnJxOFDOFxK+goV6X62QoMnU0wBAABaIQoq0ErY7lw1Dpqk8BkXKrdiqXLfWqy2T6z79P6h0458Cm0s8oVi+Xn5dByhfFqJ2OGvaTmUzC1Q0leopK9QiXZdDn785f9sty+rVh0GAADAsaOgAq2M7fEpNGSqGs+8WLkbFit3wxK12bpW0W4DJafrQNn8rHjGwoc/X5bs3DwlfUVK5hYo1qnDV5dOb55kOVr+mwQAAEBGSmlBfeCBB7RkyRJZlqVLL71U3/nOd7Rq1Sr953/+pyKRiMaNG6cbb7xRkrR582bdfvvtCgaDGjx4sH7xi1/I5To0Xn19vW666SZ99NFHatu2re6//34VFxcrGo3q9ttv18aNG+X1ejV79mz17NlTtm3rvvvu00svvSSHw6H/+I//0KBBgw7LOX/+fP3xj39UPB7X1VdfrSuvvFKSTigrkO5sr1+hoZeoccBo+dYvkufdV2W7vUr6ipQo7nZo0Tz4cZGSufmSw2k6PgAAALJQyg5tvP7661qzZo3mzZunp59+Wo888oi2bNmiWbNm6cEHH9TChQu1ceNGrVixQpJ08803684779SSJUtk27aefPLJw8a8//77NXjwYC1atEiXXXaZ7rrrLknSI488otzcXC1atEizZs3SbbfdJklasmSJtm7dqoULF+oPf/iDbrvtNsXj8UPGrKys1Jw5c/TYY49p7ty5euKJJ/TBBx8oHA6fUFYgU9jefAWHf0M11zyg/d+6V3VTb1PDmB8oOOrbahw0SZHTSxXtOkDx4m5K+osopwAAAEiZlBXUc845Rw8//LBcLpf27dunRCKh+vp6de3aVV26dJHL5dKkSZO0ePFi7dq1S+FwWAMHDpQkTZ8+XYsXLz5szOXLl2vSpEmSpIkTJ2rlypWKxWJavny5Jk+eLEkaMmSIampqtHv3bq1YsULjx4+Xw+FQ9+7d1alTJ61fv/6QMVetWqVhw4apqKhIPp9PY8aM0eLFi1VRUXFCWQEAAAAAxyal56Xm5OTod7/7nf76179q7NixqqqqUnFx8cGvl5SUqLKy8rDtxcXFqqysPGy8Lz7O5XIpLy9PNTU1R3z+nj17VFVVpZKSksO2f9WYn2WqqKg44axH065d3jE9PlWKi/NNR8AXMB/phflIP8xJemE+0g9zkl6Yj/TDnHwund+LlF84ecMNN+hf//Vfdd1112nHjh2yvrBKp23bsixLyWTyiNu/jm3bcjgchz3+s+1HGtfhOPSg8Ve99rFuPxb79gWUTNrH9JzmVlycr+rqBqMZ8DnmI70wH+mHOUkvzEf6YU7SC/ORfpiTz5l+LxwO66gH7FJ2iu/WrVu1efNmSVJubq5Gjx6t1157TdXV1QcfU11drZKSEnXs2PGQ7Xv37j3kyOdnSkpKtHfvXklSPB5XMBhUUVGROnTooKqqqsOe37FjxyNu/6Ivv/ZXZTrWrAAAAACAY5Oygvrxxx/rjjvuUDQaVTQa1YsvvqjLL79c27dv186dO5VIJLRgwQKVlpaqc+fO8ng8WrdunSSpvLxcpaWlh41ZVlamuXPnSpIWLlyowYMHKycnR2VlZSovL5ckrV27Vh6PRyeddJJKS0s1f/58JRIJ7dy5Uzt27NCZZ555yJgjRozQ6tWrVVNTo8bGRi1dulSlpaUaMGDACWUFAAAAAByblJ3iW1ZWpoqKCk2dOlVOp1OjR4/WhAkT1LZtW11//fWKRCIqKyvT2LFjJUmzZ8/WHXfcoUAgoH79+mnGjBmSDtyqpqSkRFdccYV+9KMf6dZbb9WECROUn5+v2bNnS5Kuuuoq3XnnnZowYYLcbrfuu+8+SdLYsWNVUVFxcAGlu+66S16vV5WVlZo5c6bKy8vVoUMH3XjjjZoxY4ZisZguvfRS9e/fX5J0zz33HFNWAAAAAMDxs2zbNnsx5NfYtGmT3nrrrYP3Jm0us2bN0t13392sYzYV16Diy5iP9MJ8pB/mJL0wH+mHOUkvzEf6YU4+Z/q9MHYNanOprq7WxIkTm3XMUCik888/v1nHBAAAAACcmJSv4nuizjvvvGYf0+fz6eKLL272cQEAAAAAxy/tj6ACAAAAAFoHCioAAAAAIC1QUAEAAAAAaYGCCgAAAABICxRUAAAAAEBaoKACAAAAANICBRUAAAAAkBYoqAAAAACAtEBBBQAAAACkBQoqAAAAACAtUFABAAAAAGmBggoAAAAASAsUVAAAAABAWqCgAgAAAADSAgUVAAAAAJAWKKgAAAAAgLRAQT1O8+fP1/jx4zV69Gg9+uijpuMAAAAAQMZzmQ6QiSorKzVnzhw988wzcrvduvzyyzV06FCdeuqppqMBAAAAQMaioB6HVatWadiwYSoqKpIkjRkzRosXL9YPf/jDJj3f4bBSmK7p0iUHDmA+0gvzkX6Yk/TCfKQf5iS9MB/phzn5nMn34utem4J6HKqqqlRcXHzw85KSElVUVDT5+W3a+FMR65i1a5dnOgK+gPlIL8xH+mFO0gvzkX6Yk/TCfKQf5uRz6fxecA3qcUgmk7Ksz5u/bduHfA4AAAAAOHYU1OPQsWNHVVdXH/y8urpaJSUlBhMBAAAAQOajoB6HESNGaPXq1aqpqVFjY6OWLl2q0tJS07EAAAAAIKNxDepx6NChg2688UbNmDFDsVhMl156qfr37286FgAAAABkNMu2bdt0CAAAAAAAOMUXAAAAAJAWKKgAAAAAgLRAQQUAAAAApAUKKgAAAAAgLVBQofvvv1//9V//dfDzrVu36sorr9SUKVP0zW9+U5s3bzaYLrs98MADGj9+vCZMmKD/+7//Mx0HkpYtW6bp06dr3Lhx+tWvfmU6Tqv3pz/9SWPGjNGkSZP0xz/+0XQcfAX2I+awH0k/7EfSC/sRKRAIaOLEifr4448Pbrvlllv0zDPPGEz11SiorVhDQ4NmzZp12A7tjjvu0L/+67+qvLxcP/7xj/Wzn/3MUMLs9vrrr2vNmjWaN2+enn76aT3yyCPatm2b6Vit2kcffaSf//znevDBBzVv3jy98847WrFihelYrdaqVas0f/58Pf3005o7d642bNigpUuXmo6FL2A/Yhb7kfTDfiS9sB+RNmzYoCuuuEI7duyQJFVWVuq6667TkiVLzAY7Cu6DmuHi8bj+3//7f3r//fe1d+9e9e7dWz/96U/1k5/8RD169NAHH3ygvn376qyzztKzzz6ruro6/eEPf1DPnj314osvqlu3bvrOd75zyJiXXXaZRo0aJUnq3bu3PvnkExPfWtY755xz9PDDD8vlcqmyslKJREI+n890rFbt+eef1/jx49WxY0dJ0pw5c+TxeAynar3eeecdjRw5Unl5eZKkUaNG6YUXXtDo0aMNJ8sur732mh588EG5XC59/PHH6t+/v77//e/rxhtvZD+S5tiPpB/2I+mF/Yj05JNP6uc//7luueUWSdL8+fN14YUXqqioyGywo+AIaoZbv369cnJy9MQTT+j5559XQ0ODVqxYoXfffffgb6/ffPNN7dq1S0888YQmTpyoJ554QpI0depUzZw5U06n85Axp0+ffnDb7373O1100UUt/n21Fjk5Ofrd736nCRMmaPjw4erQoYPpSK3azp07lUgkdN1112nKlCl67LHHVFhYaDpWq9WvXz+98sorqq2tVSQS0bJly7R3717TsbLS+vXrdfvtt2vx4sWKRCLsRzII+5H0wn4kvbAfke666y4NHjz44OfXXnutLrvsMoOJvh4FNcMNGTJE3/rWt/Too4/qrrvu0o4dOxQKhdS+fXv17dtXDodDHTt21PDhwyVJJ510kurr6792XNu2de+992rDhg2aNWtWqr+NVu2GG27Q6tWr9cknn+jJJ580HadVSyQSWr16te6++2498cQTqqio0LPPPms6Vqs1fPhwTZ8+XVdddZWuvfZaDRo0SDk5OaZjZaUhQ4aoR48esixLU6ZM0Zo1a9iPZBD2I+mD/Uh6YT+SmSioGe7FF1/UTTfdJK/Xq+nTp2vIkCE66aST5Ha7D3ncl3+7fTTxeFw33XST3n77bT388MPKz89v7tjQgUVEPls4JDc3V6NHj9a7775rOFXr1r59ew0fPlxt27aV1+vVRRddpIqKCtOxWq1AIKDRo0dr/vz5euSRR+R2u9WlSxfTsbLSF/cRtm3L6XSyH8kA7EfSD/uR9MJ+JDNRUDPc6tWrNW7cOF1yySUqKCjQa6+9pkQicUJj3nvvvQoEAvrrX//KDxUp9PHHH+uOO+5QNBpVNBrViy++qEGDBpmO1aqdf/75euWVV1RfX69EIqGXX35Z/fr1Mx2r1fr444/1b//2b4rH42poaNBTTz2lcePGmY6VldatW6fKykolk0nNnTtXpaWlJzQe+5GWwX4k/bAfSS/sRzITiyRluMsuu0w33XSTnnvuOeXk5Ojss8/Wa6+9dtzj1dTU6NFHH9XJJ598yPnp5eXlzREXX1BWVqaKigpNnTpVTqdTo0eP1oQJE0zHatUGDBiga6+9Vt/61rcUi8V07rnn6pJLLjEdq9Xq06ePRo8ercmTJyuRSOiaa67hh+8UKSkp0S233KLKykqde+65GjFihP70pz8d11jsR1oO+5H0w34kvbAfyUyWbdu26RAAAMCM1157Tb///e/1yCOPmI4CAACn+AIAAAAA0gNHUAEAAAAAaYEjqAAAAACAtEBBBQAAAACkBQoqAAAAACAtUFABAMhAvXv3Vk1NzSHbnnnmGX3ve98zlAgAgBNHQQUAAAAApAWX6QAAAKD5NTQ06Be/+IW2bNkiy7I0atQo/eQnP5HL5VLv3r21evVqtW3bVpIOfv7+++/rrrvuks/nUzAY1GOPPabbb79dO3fulMPhUL9+/fTLX/5SDge/3wYApAYFFQCADHX11VcfUhbr6urUu3dvSdKvfvUrFRUVaf78+YrFYvr+97+vv/71r5o5c+ZRx3z//ff1wgsvqHPnzpo7d66CwaDKy8uVSCT085//XB999JG6du2a0u8LANB6UVABAMhQDz300MGjoNKBa1CXLFkiSVq5cqX+8Y9/yLIsud1uXX755XrooYe+tqB26tRJnTt3liQNGjRIc+bM0VVXXaURI0bo6quvppwCAFKKc3QAAMhCyWRSlmUd8nk8Hj/scdFo9JDPfT7fwY+7dOmi559/XjNnzlQgENB3vvMdLVu2LHWhAQCtHgUVAIAsNHLkSP3973+XbduKRqN68sknNWLECElS27Zt9fbbb0uSFixY8JVjPPbYY7rttts0cuRI3XzzzRo5cqTeeeedFskPAGidKKgAAGShO+64QzU1NZo0aZImTZqk7t2767rrrjv4tV/+8peaNm2atm7dquLi4iOOMXXqVCUSCY0fP17Tp09XQ0ODrrrqqpb8NgAArYxl27ZtOgQAAAAAABxBBQAAAACkBQoqAAAAACAtUFABAAAAAGmBggoAAAAASAsUVAAAAABAWqCgAgAAAADSAgUVAAAAAJAWKKgAAAAAgLTw/wGXPNdx51uXIQAAAABJRU5ErkJggg==\n",
      "text/plain": [
       "<Figure size 1080x720 with 1 Axes>"
      ]
     },
     "metadata": {},
     "output_type": "display_data"
    }
   ],
   "source": [
    "# 시각화\n",
    "\n",
    "plt.figure(figsize=(15,10))\n",
    "sns.set_theme(style=\"darkgrid\")\n",
    "\n",
    "sns.lineplot(x='completed_at', y='transaction_amount',\n",
    "             data=rev_by_hour,\n",
    "             color = 'coral'\n",
    "            )\n",
    "plt.xlabel('Hours')\n",
    "plt.ylabel('Revenue')\n",
    "plt.yticks([0, 100000000, 200000000, 30000000, 400000000 ,500000000], [0, '100,000,000', '200,000,000', '300,000,000', '400,000,000' ,'500,000,000'])\n",
    "plt.xticks([0, 3, 6, 9, 12, 15, 18, 21 ,23], ['am12', '3', '6', '9', 'pm12', '3', '6', '9', '11'])\n",
    "plt.xlim([-1, 24])      # X축의 범위: [xmin, xmax]\n",
    "plt.ylim([0, 601732315])     # Y축의 범위: [ymin, ymax]\n",
    "plt.show()"
   ]
  },
  {
   "cell_type": "markdown",
   "id": "d8f3f3f0",
   "metadata": {},
   "source": [
    ">  저녁시간대 부터 자정까지 매출비중이 높은것을 알 수 있음."
   ]
  },
  {
   "cell_type": "markdown",
   "id": "bd696f1f",
   "metadata": {
    "ExecuteTime": {
     "end_time": "2022-06-30T06:53:34.853522Z",
     "start_time": "2022-06-30T06:53:34.834570Z"
    }
   },
   "source": [
    "### 시간대별 매출 Pie Graph"
   ]
  },
  {
   "cell_type": "code",
   "execution_count": 142,
   "id": "17e712f3",
   "metadata": {
    "ExecuteTime": {
     "end_time": "2022-06-30T07:44:03.181328Z",
     "start_time": "2022-06-30T07:44:02.938690Z"
    },
    "scrolled": false
   },
   "outputs": [
    {
     "data": {
      "image/png": "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\n",
      "text/plain": [
       "<Figure size 1080x1080 with 1 Axes>"
      ]
     },
     "metadata": {},
     "output_type": "display_data"
    }
   ],
   "source": [
    "labels = [i for i in range(0,24)]\n",
    "wedgeprops={'width': 0.7, 'edgecolor': 'w', 'linewidth': 5}\n",
    "colors = sns.color_palette(\"Set2\")\n",
    "explode = [0.10, 0, 0, 0, 0, 0, 0, 0, 0, 0, 0, 0, 0, \n",
    "           0, 0, 0, 0, 0.10, 0.10, 0.10, 0.10, 0.10, 0.10, 0.10]\n",
    "\n",
    "plt.figure(figsize=(15,15))\n",
    "plt.pie(rev_by_hour.transaction_amount,\n",
    "        labels = labels,\n",
    "        counterclock=False,\n",
    "        explode = explode,\n",
    "        wedgeprops=wedgeprops,\n",
    "        colors = colors\n",
    "       \n",
    "       \n",
    "       )\n",
    "plt.show()"
   ]
  },
  {
   "cell_type": "markdown",
   "id": "c628218a",
   "metadata": {},
   "source": [
    "> 파이 차트를 살펴보면 오후 5시부터 자정까지 7시강동안의 매출이 전체매출의 50% 이상을 차지하는것을 알 수 있음."
   ]
  },
  {
   "cell_type": "markdown",
   "id": "ddcfbb6c",
   "metadata": {},
   "source": [
    "\n",
    "### 요일별 매출 그래프\n"
   ]
  },
  {
   "cell_type": "code",
   "execution_count": 106,
   "id": "cd9dc2e8",
   "metadata": {
    "ExecuteTime": {
     "end_time": "2022-06-30T07:00:42.710909Z",
     "start_time": "2022-06-30T07:00:42.660546Z"
    }
   },
   "outputs": [
    {
     "data": {
      "text/html": [
       "<div>\n",
       "<style scoped>\n",
       "    .dataframe tbody tr th:only-of-type {\n",
       "        vertical-align: middle;\n",
       "    }\n",
       "\n",
       "    .dataframe tbody tr th {\n",
       "        vertical-align: top;\n",
       "    }\n",
       "\n",
       "    .dataframe thead th {\n",
       "        text-align: right;\n",
       "    }\n",
       "</style>\n",
       "<table border=\"1\" class=\"dataframe\">\n",
       "  <thead>\n",
       "    <tr style=\"text-align: right;\">\n",
       "      <th></th>\n",
       "      <th>transaction_amount</th>\n",
       "    </tr>\n",
       "    <tr>\n",
       "      <th>completed_at</th>\n",
       "      <th></th>\n",
       "    </tr>\n",
       "  </thead>\n",
       "  <tbody>\n",
       "    <tr>\n",
       "      <th>0</th>\n",
       "      <td>987559800</td>\n",
       "    </tr>\n",
       "    <tr>\n",
       "      <th>1</th>\n",
       "      <td>971240810</td>\n",
       "    </tr>\n",
       "    <tr>\n",
       "      <th>2</th>\n",
       "      <td>988390705</td>\n",
       "    </tr>\n",
       "    <tr>\n",
       "      <th>3</th>\n",
       "      <td>827488595</td>\n",
       "    </tr>\n",
       "    <tr>\n",
       "      <th>4</th>\n",
       "      <td>909830890</td>\n",
       "    </tr>\n",
       "    <tr>\n",
       "      <th>5</th>\n",
       "      <td>737461545</td>\n",
       "    </tr>\n",
       "    <tr>\n",
       "      <th>6</th>\n",
       "      <td>1149664615</td>\n",
       "    </tr>\n",
       "  </tbody>\n",
       "</table>\n",
       "</div>"
      ],
      "text/plain": [
       "              transaction_amount\n",
       "completed_at                    \n",
       "0                      987559800\n",
       "1                      971240810\n",
       "2                      988390705\n",
       "3                      827488595\n",
       "4                      909830890\n",
       "5                      737461545\n",
       "6                     1149664615"
      ]
     },
     "execution_count": 106,
     "metadata": {},
     "output_type": "execute_result"
    }
   ],
   "source": [
    "# lambda 함수를 이용해 요일만 뽑아서 그룹핑\n",
    "rev_by_dow = rev.set_index('completed_at').groupby(lambda dow: dow.dayofweek).sum()[['transaction_amount']]\n",
    "rev_by_dow"
   ]
  },
  {
   "cell_type": "code",
   "execution_count": 151,
   "id": "48264269",
   "metadata": {
    "ExecuteTime": {
     "end_time": "2022-06-30T07:47:09.601298Z",
     "start_time": "2022-06-30T07:47:09.441080Z"
    },
    "scrolled": false
   },
   "outputs": [
    {
     "data": {
      "image/png": "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\n",
      "text/plain": [
       "<Figure size 1080x720 with 1 Axes>"
      ]
     },
     "metadata": {},
     "output_type": "display_data"
    }
   ],
   "source": [
    "# 시각화\n",
    "\n",
    "plt.figure(figsize=(15,10))\n",
    "sns.set_theme(style=\"darkgrid\")\n",
    "\n",
    "sns.lineplot(x='completed_at', y='transaction_amount',\n",
    "             data=rev_by_dow,\n",
    "             color = 'purple'\n",
    "            )\n",
    "plt.xlabel('Day of Week')\n",
    "plt.ylabel('Revenue')\n",
    "plt.yticks([0, 100000000, 600000000, 800000000, 1000000000 ,1200000000], \n",
    "           ['0','100,000,000', '600,000,000', '800,000,000', '1000,000,000' ,'1,200,000,000'])\n",
    "plt.xticks([i for i in range(0,7)], \n",
    "           ['Mon', 'Tue', 'Wed', 'Thu', 'Fri', 'Sat', 'Sun'])\n",
    "# plt.xlim([-1, 24])      # X축의 범위: [xmin, xmax]\n",
    "# plt.ylim([0, 1200000000])     # Y축의 범위: [ymin, ymax]\n",
    "plt.show()"
   ]
  },
  {
   "cell_type": "markdown",
   "id": "8347415c",
   "metadata": {},
   "source": [
    "> 요일별 매출을 분석해보면 일요일 매출이 가장높고 토요일 매출이 가장낮지만 요일별 편차가 크지 않은것을 알 수 있음."
   ]
  },
  {
   "cell_type": "markdown",
   "id": "74934c28",
   "metadata": {},
   "source": [
    "### 요일별 매출 Pie Graph"
   ]
  },
  {
   "cell_type": "code",
   "execution_count": 140,
   "id": "7e73c1d7",
   "metadata": {
    "ExecuteTime": {
     "end_time": "2022-06-30T07:43:30.731624Z",
     "start_time": "2022-06-30T07:43:30.585659Z"
    }
   },
   "outputs": [
    {
     "data": {
      "image/png": "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\n",
      "text/plain": [
       "<Figure size 1080x1080 with 1 Axes>"
      ]
     },
     "metadata": {},
     "output_type": "display_data"
    }
   ],
   "source": [
    "labels = ['Mon', 'Tue', 'Wed', 'Thu', 'Fri', 'Sat', 'Sun']\n",
    "wedgeprops={'width': 0.7, 'edgecolor': 'w', 'linewidth': 5}\n",
    "explode = [0, 0, 0, 0, 0, 0, 0.10]\n",
    "colors = sns.color_palette(\"Set2\")\n",
    "\n",
    "plt.figure(figsize=(15,15))\n",
    "plt.pie(rev_by_dow.transaction_amount,\n",
    "        labels = labels,\n",
    "        counterclock=False,\n",
    "        explode = explode,\n",
    "        wedgeprops=wedgeprops,\n",
    "        colors = colors\n",
    "\n",
    "       \n",
    "       \n",
    "       )\n",
    "plt.show()"
   ]
  },
  {
   "cell_type": "markdown",
   "id": "dfcba5f5",
   "metadata": {},
   "source": [
    "> 파이 차트를 이용해 요일별 편차 정도를 좀 더 직관적으로 확인할 수 있음"
   ]
  },
  {
   "cell_type": "markdown",
   "id": "e34b2c8e",
   "metadata": {},
   "source": [
    "### 일별 매출 그래프"
   ]
  },
  {
   "cell_type": "code",
   "execution_count": 154,
   "id": "c7fb96a3",
   "metadata": {
    "ExecuteTime": {
     "end_time": "2022-06-30T07:54:55.710190Z",
     "start_time": "2022-06-30T07:54:55.631401Z"
    }
   },
   "outputs": [
    {
     "ename": "TypeError",
     "evalue": "You have to supply one of 'by' and 'level'",
     "output_type": "error",
     "traceback": [
      "\u001b[1;31m---------------------------------------------------------------------------\u001b[0m",
      "\u001b[1;31mTypeError\u001b[0m                                 Traceback (most recent call last)",
      "Input \u001b[1;32mIn [154]\u001b[0m, in \u001b[0;36m<cell line: 2>\u001b[1;34m()\u001b[0m\n\u001b[0;32m      1\u001b[0m \u001b[38;5;66;03m# lambda 함수를 이용해 일만 뽑아서 그룹핑\u001b[39;00m\n\u001b[1;32m----> 2\u001b[0m rev_by_day \u001b[38;5;241m=\u001b[39m \u001b[43mrev\u001b[49m\u001b[38;5;241;43m.\u001b[39;49m\u001b[43mset_index\u001b[49m\u001b[43m(\u001b[49m\u001b[38;5;124;43m'\u001b[39;49m\u001b[38;5;124;43mcompleted_at\u001b[39;49m\u001b[38;5;124;43m'\u001b[39;49m\u001b[43m)\u001b[49m\u001b[38;5;241;43m.\u001b[39;49m\u001b[43mgroupby\u001b[49m\u001b[43m(\u001b[49m\u001b[43m)\u001b[49m[[\u001b[38;5;124m'\u001b[39m\u001b[38;5;124mtransaction_amount\u001b[39m\u001b[38;5;124m'\u001b[39m]]\n\u001b[0;32m      3\u001b[0m rev_by_day\n",
      "File \u001b[1;32m~\\anaconda3\\envs\\datascience\\lib\\site-packages\\pandas\\core\\frame.py:7706\u001b[0m, in \u001b[0;36mDataFrame.groupby\u001b[1;34m(self, by, axis, level, as_index, sort, group_keys, squeeze, observed, dropna)\u001b[0m\n\u001b[0;32m   7703\u001b[0m     squeeze \u001b[38;5;241m=\u001b[39m \u001b[38;5;28;01mFalse\u001b[39;00m\n\u001b[0;32m   7705\u001b[0m \u001b[38;5;28;01mif\u001b[39;00m level \u001b[38;5;129;01mis\u001b[39;00m \u001b[38;5;28;01mNone\u001b[39;00m \u001b[38;5;129;01mand\u001b[39;00m by \u001b[38;5;129;01mis\u001b[39;00m \u001b[38;5;28;01mNone\u001b[39;00m:\n\u001b[1;32m-> 7706\u001b[0m     \u001b[38;5;28;01mraise\u001b[39;00m \u001b[38;5;167;01mTypeError\u001b[39;00m(\u001b[38;5;124m\"\u001b[39m\u001b[38;5;124mYou have to supply one of \u001b[39m\u001b[38;5;124m'\u001b[39m\u001b[38;5;124mby\u001b[39m\u001b[38;5;124m'\u001b[39m\u001b[38;5;124m and \u001b[39m\u001b[38;5;124m'\u001b[39m\u001b[38;5;124mlevel\u001b[39m\u001b[38;5;124m'\u001b[39m\u001b[38;5;124m\"\u001b[39m)\n\u001b[0;32m   7707\u001b[0m axis \u001b[38;5;241m=\u001b[39m \u001b[38;5;28mself\u001b[39m\u001b[38;5;241m.\u001b[39m_get_axis_number(axis)\n\u001b[0;32m   7709\u001b[0m \u001b[38;5;66;03m# https://github.com/python/mypy/issues/7642\u001b[39;00m\n\u001b[0;32m   7710\u001b[0m \u001b[38;5;66;03m# error: Argument \"squeeze\" to \"DataFrameGroupBy\" has incompatible type\u001b[39;00m\n\u001b[0;32m   7711\u001b[0m \u001b[38;5;66;03m# \"Union[bool, NoDefault]\"; expected \"bool\"\u001b[39;00m\n",
      "\u001b[1;31mTypeError\u001b[0m: You have to supply one of 'by' and 'level'"
     ]
    }
   ],
   "source": [
    "# lambda 함수를 이용해 일만 뽑아서 그룹핑\n",
    "rev_by_day = rev.set_index('completed_at').groupby(lambda day: day.).sum()[['transaction_amount']]\n",
    "rev_by_day"
   ]
  },
  {
   "cell_type": "code",
   "execution_count": null,
   "id": "8168dce2",
   "metadata": {},
   "outputs": [],
   "source": [
    "pd.datetime"
   ]
  },
  {
   "cell_type": "code",
   "execution_count": null,
   "id": "000bcea1",
   "metadata": {},
   "outputs": [],
   "source": []
  },
  {
   "cell_type": "markdown",
   "id": "0878ef47",
   "metadata": {},
   "source": [
    "### 주별 매출 그래프"
   ]
  },
  {
   "cell_type": "markdown",
   "id": "fb76f940",
   "metadata": {},
   "source": [
    "### 월별 매출 그래프"
   ]
  },
  {
   "cell_type": "markdown",
   "id": "85fa3670",
   "metadata": {},
   "source": [
    "### 분기별 매출 그래프"
   ]
  },
  {
   "cell_type": "markdown",
   "id": "dce17e5f",
   "metadata": {},
   "source": [
    "### 6개월(반기) 총매출 그래프"
   ]
  },
  {
   "cell_type": "markdown",
   "id": "447760be",
   "metadata": {},
   "source": [
    "# 강의 분석"
   ]
  },
  {
   "cell_type": "markdown",
   "id": "5fd1259e",
   "metadata": {},
   "source": [
    "## 전체 강의 수"
   ]
  },
  {
   "cell_type": "markdown",
   "id": "91a43677",
   "metadata": {},
   "source": [
    "## 전체 카테고리 수"
   ]
  },
  {
   "cell_type": "markdown",
   "id": "56c7194e",
   "metadata": {},
   "source": [
    "## 가장많은(적은) 매출을 올린 강의 및 탑 10강의 매출추이"
   ]
  },
  {
   "cell_type": "markdown",
   "id": "41220109",
   "metadata": {},
   "source": [
    "### 매출 상위 1~10위 까지의  강의  목록 "
   ]
  },
  {
   "cell_type": "markdown",
   "id": "143ad8ce",
   "metadata": {},
   "source": [
    "### 매출 상위 1~10위 강의 매출 추이 그래프(6개월간)"
   ]
  },
  {
   "cell_type": "markdown",
   "id": "37400734",
   "metadata": {},
   "source": [
    "### 매출 하위 1~10위 강의목록"
   ]
  },
  {
   "cell_type": "markdown",
   "id": "5dbb8c28",
   "metadata": {},
   "source": [
    "### 매출 하위 1~10위 강의 매출 추이 그래프(6개월간)"
   ]
  },
  {
   "cell_type": "markdown",
   "id": "802928f7",
   "metadata": {},
   "source": [
    "## 가장많은(적은) 매출을 올린 카테고리 탑 10카테고리 매출추이"
   ]
  },
  {
   "cell_type": "markdown",
   "id": "b73e5c5a",
   "metadata": {},
   "source": [
    "### 매출 상위 1~10위 까지의  카테고리  목록"
   ]
  },
  {
   "cell_type": "markdown",
   "id": "99a4fb24",
   "metadata": {},
   "source": [
    "### 매출 상위 1~10위 카테고리 매출 추이 그래프(6개월간)"
   ]
  },
  {
   "cell_type": "markdown",
   "id": "b9a006b2",
   "metadata": {},
   "source": [
    "### 매출 하위 1~10위 카테고리목록"
   ]
  },
  {
   "cell_type": "markdown",
   "id": "13ede8b0",
   "metadata": {},
   "source": [
    "### 매출 하위 1~10위 카테고리 매출 추이 그래프(6개월간)"
   ]
  },
  {
   "cell_type": "markdown",
   "id": "4d84c831",
   "metadata": {},
   "source": [
    "# 수강 신청 행동 패턴 분석"
   ]
  },
  {
   "cell_type": "markdown",
   "id": "db7bb03d",
   "metadata": {},
   "source": [
    "## cancelled 가장 많은 강좌(구매가 많은게 환불이 많은가? 주의)"
   ]
  },
  {
   "cell_type": "markdown",
   "id": "8f06412d",
   "metadata": {},
   "source": [
    "### 취소가 많은  1~20위 까지의  강의  목록(cancelled)"
   ]
  },
  {
   "cell_type": "markdown",
   "id": "f2fa8966",
   "metadata": {},
   "source": [
    "### 취소가 가장 적은 1~20위 강의 목록"
   ]
  },
  {
   "cell_type": "markdown",
   "id": "4c0d021f",
   "metadata": {},
   "source": [
    "### 환불이 많은  1~20위 까지의  강의  목록(refund)"
   ]
  },
  {
   "cell_type": "markdown",
   "id": "a7bc00ac",
   "metadata": {},
   "source": [
    "### 환불률이 가장 적은 1~20위 강의 목록"
   ]
  },
  {
   "cell_type": "markdown",
   "id": "7f33435e",
   "metadata": {},
   "source": [
    "### 구매률과 환불률의 상관관계"
   ]
  },
  {
   "cell_type": "markdown",
   "id": "dbf16318",
   "metadata": {},
   "source": [
    "# PG사 목록"
   ]
  },
  {
   "cell_type": "markdown",
   "id": "0b463f27",
   "metadata": {},
   "source": [
    "## 기존 PG사 vs 신규 pg사 점유율 현황"
   ]
  },
  {
   "cell_type": "markdown",
   "id": "5f6cf687",
   "metadata": {},
   "source": [
    "### 기존 PG사 vs 신규 pg사 기간별 점유율 변동 변화추이"
   ]
  },
  {
   "cell_type": "markdown",
   "id": "397fc765",
   "metadata": {},
   "source": [
    "# VIP그룹 분석"
   ]
  },
  {
   "cell_type": "markdown",
   "id": "bbcce57b",
   "metadata": {},
   "source": [
    "## VIP 그룹 정의"
   ]
  },
  {
   "cell_type": "markdown",
   "id": "2969f67b",
   "metadata": {},
   "source": [
    "## 일반 고객 평균 결제 횟수 vs VIP 고객 평균 결제 횟수"
   ]
  },
  {
   "cell_type": "markdown",
   "id": "02dd3f3c",
   "metadata": {},
   "source": [
    "## VIP 그룹 특징"
   ]
  },
  {
   "cell_type": "markdown",
   "id": "cada2ef7",
   "metadata": {},
   "source": [
    "# 쿠폰 사용 분석"
   ]
  },
  {
   "cell_type": "markdown",
   "id": "08611340",
   "metadata": {},
   "source": [
    "## 전체구매건 중 쿠폰사용한 구매비율"
   ]
  },
  {
   "cell_type": "markdown",
   "id": "7111e7d5",
   "metadata": {},
   "source": [
    "## 매출에 대한 쿠폰의 중요도 분석"
   ]
  },
  {
   "cell_type": "markdown",
   "id": "677f1548",
   "metadata": {},
   "source": [
    "# 패키지 강의 vs 단품 강의"
   ]
  },
  {
   "cell_type": "markdown",
   "id": "d7c66b55",
   "metadata": {},
   "source": [
    "# 레드는 과연 성공했는가?"
   ]
  },
  {
   "cell_type": "code",
   "execution_count": null,
   "id": "9fd2e22a",
   "metadata": {},
   "outputs": [],
   "source": []
  },
  {
   "cell_type": "code",
   "execution_count": null,
   "id": "2322dd95",
   "metadata": {},
   "outputs": [],
   "source": []
  },
  {
   "cell_type": "code",
   "execution_count": null,
   "id": "f2f272af",
   "metadata": {},
   "outputs": [],
   "source": []
  },
  {
   "cell_type": "code",
   "execution_count": null,
   "id": "9cc18912",
   "metadata": {},
   "outputs": [],
   "source": []
  },
  {
   "cell_type": "code",
   "execution_count": null,
   "id": "d9dfd20b",
   "metadata": {},
   "outputs": [],
   "source": []
  }
 ],
 "metadata": {
  "kernelspec": {
<<<<<<< HEAD
   "display_name": "Python 3 (ipykernel)",
=======
   "display_name": "Python 3",
>>>>>>> upstream/main
   "language": "python",
   "name": "python3"
  },
  "language_info": {
   "codemirror_mode": {
    "name": "ipython",
    "version": 3
   },
   "file_extension": ".py",
   "mimetype": "text/x-python",
   "name": "python",
   "nbconvert_exporter": "python",
   "pygments_lexer": "ipython3",
<<<<<<< HEAD
   "version": "3.9.12"
=======
   "version": "3.8.8"
>>>>>>> upstream/main
  },
  "toc": {
   "base_numbering": 1,
   "nav_menu": {},
   "number_sections": true,
   "sideBar": true,
   "skip_h1_title": false,
   "title_cell": "Table of Contents",
   "title_sidebar": "Contents",
   "toc_cell": false,
   "toc_position": {},
   "toc_section_display": true,
<<<<<<< HEAD
   "toc_window_display": false
=======
   "toc_window_display": true
>>>>>>> upstream/main
  },
  "varInspector": {
   "cols": {
    "lenName": 16,
    "lenType": 16,
    "lenVar": 40
   },
   "kernels_config": {
    "python": {
     "delete_cmd_postfix": "",
     "delete_cmd_prefix": "del ",
     "library": "var_list.py",
     "varRefreshCmd": "print(var_dic_list())"
    },
    "r": {
     "delete_cmd_postfix": ") ",
     "delete_cmd_prefix": "rm(",
     "library": "var_list.r",
     "varRefreshCmd": "cat(var_dic_list()) "
    }
   },
   "types_to_exclude": [
    "module",
    "function",
    "builtin_function_or_method",
    "instance",
    "_Feature"
   ],
   "window_display": false
  }
 },
 "nbformat": 4,
 "nbformat_minor": 5
}

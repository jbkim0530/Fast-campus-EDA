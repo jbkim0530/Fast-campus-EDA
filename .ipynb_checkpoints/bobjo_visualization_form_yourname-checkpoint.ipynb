{
 "cells": [
  {
   "cell_type": "markdown",
   "id": "881f8b95",
   "metadata": {},
   "source": [
    "데이터 시각화 양식\n",
    "\n",
    "양식의 순서는 지키되 참고만 하고 자유롭게 더하거나 빼서 분석하세요."
   ]
  },
  {
   "cell_type": "code",
   "execution_count": null,
   "id": "34d8d9cc",
   "metadata": {},
   "outputs": [],
   "source": [
    "import numpy as np\n",
    "import pandas as pd\n",
    "import matplotlib.pyplot as plt\n",
    "import seaborn as sns"
   ]
  },
  {
   "cell_type": "markdown",
   "id": "6f1f6f24",
   "metadata": {},
   "source": [
    "# 매출 분석"
   ]
  },
  {
   "cell_type": "markdown",
   "id": "067228e5",
   "metadata": {},
   "source": [
    "## 시간대, 요일, 일, 주, 월, 분기, 총 매출(반기), 6개월간 추이"
   ]
  },
  {
   "cell_type": "markdown",
   "id": "ec54f1a2",
   "metadata": {},
   "source": [
    "### 시간대별 매출 그래프"
   ]
  },
  {
   "cell_type": "markdown",
   "id": "76df6b3b",
   "metadata": {},
   "source": [
    "### 요일별 매출 그래프"
   ]
  },
  {
   "cell_type": "markdown",
   "id": "e34b2c8e",
   "metadata": {},
   "source": [
    "### 일별 매출 그래프"
   ]
  },
  {
   "cell_type": "markdown",
   "id": "0878ef47",
   "metadata": {},
   "source": [
    "### 주별 매출 그래프"
   ]
  },
  {
   "cell_type": "markdown",
   "id": "fb76f940",
   "metadata": {},
   "source": [
    "### 월별 매출 그래프"
   ]
  },
  {
   "cell_type": "markdown",
   "id": "85fa3670",
   "metadata": {},
   "source": [
    "### 분기별 매출 그래프"
   ]
  },
  {
   "cell_type": "markdown",
   "id": "dce17e5f",
   "metadata": {},
   "source": [
    "### 6개월(반기) 총매출 그래프"
   ]
  },
  {
   "cell_type": "markdown",
   "id": "447760be",
   "metadata": {},
   "source": [
    "# 강의 분석"
   ]
  },
  {
   "cell_type": "markdown",
   "id": "5fd1259e",
   "metadata": {},
   "source": [
    "## 전체 강의 수"
   ]
  },
  {
   "cell_type": "markdown",
   "id": "91a43677",
   "metadata": {},
   "source": [
    "## 전체 카테고리 수"
   ]
  },
  {
   "cell_type": "markdown",
   "id": "56c7194e",
   "metadata": {},
   "source": [
    "## 가장많은(적은) 매출을 올린 강의 및 탑 10강의 매출추이"
   ]
  },
  {
   "cell_type": "markdown",
   "id": "41220109",
   "metadata": {},
   "source": [
    "### 매출 상위 1~10위 까지의  강의  목록 "
   ]
  },
  {
   "cell_type": "markdown",
   "id": "143ad8ce",
   "metadata": {},
   "source": [
    "### 매출 상위 1~10위 강의 매출 추이 그래프(6개월간)"
   ]
  },
  {
   "cell_type": "markdown",
   "id": "37400734",
   "metadata": {},
   "source": [
    "### 매출 하위 1~10위 강의목록"
   ]
  },
  {
   "cell_type": "markdown",
   "id": "5dbb8c28",
   "metadata": {},
   "source": [
    "### 매출 하위 1~10위 강의 매출 추이 그래프(6개월간)"
   ]
  },
  {
   "cell_type": "markdown",
   "id": "802928f7",
   "metadata": {},
   "source": [
    "## 가장많은(적은) 매출을 올린 카테고리 탑 10카테고리 매출추이"
   ]
  },
  {
   "cell_type": "markdown",
   "id": "b73e5c5a",
   "metadata": {},
   "source": [
    "### 매출 상위 1~10위 까지의  카테고리  목록"
   ]
  },
  {
   "cell_type": "markdown",
   "id": "99a4fb24",
   "metadata": {},
   "source": [
    "### 매출 상위 1~10위 카테고리 매출 추이 그래프(6개월간)"
   ]
  },
  {
   "cell_type": "markdown",
   "id": "b9a006b2",
   "metadata": {},
   "source": [
    "### 매출 하위 1~10위 카테고리목록"
   ]
  },
  {
   "cell_type": "markdown",
   "id": "13ede8b0",
   "metadata": {},
   "source": [
    "### 매출 하위 1~10위 카테고리 매출 추이 그래프(6개월간)"
   ]
  },
  {
   "cell_type": "markdown",
   "id": "4d84c831",
   "metadata": {},
   "source": [
    "# 수강 신청 행동 패턴 분석"
   ]
  },
  {
   "cell_type": "markdown",
   "id": "db7bb03d",
   "metadata": {},
   "source": [
    "## cancelled 가장 많은 강좌(구매가 많은게 환불이 많은가? 주의)"
   ]
  },
  {
   "cell_type": "markdown",
   "id": "8f06412d",
   "metadata": {},
   "source": [
    "### 취소가 많은  1~20위 까지의  강의  목록(cancelled)"
   ]
  },
  {
   "cell_type": "markdown",
   "id": "f2fa8966",
   "metadata": {},
   "source": [
    "### 취소가 가장 적은 1~20위 강의 목록"
   ]
  },
  {
   "cell_type": "markdown",
   "id": "4c0d021f",
   "metadata": {},
   "source": [
    "### 환불이 많은  1~20위 까지의  강의  목록(refund)"
   ]
  },
  {
   "cell_type": "markdown",
   "id": "a7bc00ac",
   "metadata": {},
   "source": [
    "### 환불률이 가장 적은 1~20위 강의 목록"
   ]
  },
  {
   "cell_type": "markdown",
   "id": "7f33435e",
   "metadata": {},
   "source": [
    "### 구매률과 환불률의 상관관계"
   ]
  },
  {
   "cell_type": "markdown",
   "id": "dbf16318",
   "metadata": {},
   "source": [
    "# PG사 목록"
   ]
  },
  {
   "cell_type": "markdown",
   "id": "0b463f27",
   "metadata": {},
   "source": [
    "## 기존 PG사 vs 신규 pg사 점유율 현황"
   ]
  },
  {
   "cell_type": "markdown",
   "id": "5f6cf687",
   "metadata": {},
   "source": [
    "### 기존 PG사 vs 신규 pg사 기간별 점유율 변동 변화추이"
   ]
  },
  {
   "cell_type": "markdown",
   "id": "397fc765",
   "metadata": {},
   "source": [
    "# VIP그룹 분석"
   ]
  },
  {
   "cell_type": "markdown",
   "id": "bbcce57b",
   "metadata": {},
   "source": [
    "## VIP 그룹 정의"
   ]
  },
  {
   "cell_type": "markdown",
   "id": "2969f67b",
   "metadata": {},
   "source": [
    "## 일반 고객 평균 결제 횟수 vs VIP 고객 평균 결제 횟수"
   ]
  },
  {
   "cell_type": "markdown",
   "id": "02dd3f3c",
   "metadata": {},
   "source": [
    "## VIP 그룹 특징"
   ]
  },
  {
   "cell_type": "markdown",
   "id": "cada2ef7",
   "metadata": {},
   "source": [
    "# 쿠폰 사용 분석"
   ]
  },
  {
   "cell_type": "markdown",
   "id": "08611340",
   "metadata": {},
   "source": [
    "## 전체구매건 중 쿠폰사용한 구매비율"
   ]
  },
  {
   "cell_type": "markdown",
   "id": "7111e7d5",
   "metadata": {},
   "source": [
    "## 매출에 대한 쿠폰의 중요도 분석"
   ]
  },
  {
   "cell_type": "markdown",
   "id": "677f1548",
   "metadata": {},
   "source": [
    "# 패키지 강의 vs 단품 강의"
   ]
  },
  {
   "cell_type": "markdown",
   "id": "d7c66b55",
   "metadata": {},
   "source": [
    "# 레드는 과연 성공했는가?"
   ]
  },
  {
   "cell_type": "code",
   "execution_count": null,
   "id": "9fd2e22a",
   "metadata": {},
   "outputs": [],
   "source": []
  },
  {
   "cell_type": "code",
   "execution_count": null,
   "id": "2322dd95",
   "metadata": {},
   "outputs": [],
   "source": []
  },
  {
   "cell_type": "code",
   "execution_count": null,
   "id": "f2f272af",
   "metadata": {},
   "outputs": [],
   "source": []
  },
  {
   "cell_type": "code",
   "execution_count": null,
   "id": "9cc18912",
   "metadata": {},
   "outputs": [],
   "source": []
  },
  {
   "cell_type": "code",
   "execution_count": null,
   "id": "d9dfd20b",
   "metadata": {},
   "outputs": [],
   "source": []
  }
 ],
 "metadata": {
  "kernelspec": {
   "display_name": "Python 3 (ipykernel)",
   "language": "python",
   "name": "python3"
  },
  "language_info": {
   "codemirror_mode": {
    "name": "ipython",
    "version": 3
   },
   "file_extension": ".py",
   "mimetype": "text/x-python",
   "name": "python",
   "nbconvert_exporter": "python",
   "pygments_lexer": "ipython3",
   "version": "3.9.12"
  },
  "toc": {
   "base_numbering": 1,
   "nav_menu": {},
   "number_sections": true,
   "sideBar": true,
   "skip_h1_title": false,
   "title_cell": "Table of Contents",
   "title_sidebar": "Contents",
   "toc_cell": false,
   "toc_position": {},
   "toc_section_display": true,
   "toc_window_display": false
  },
  "varInspector": {
   "cols": {
    "lenName": 16,
    "lenType": 16,
    "lenVar": 40
   },
   "kernels_config": {
    "python": {
     "delete_cmd_postfix": "",
     "delete_cmd_prefix": "del ",
     "library": "var_list.py",
     "varRefreshCmd": "print(var_dic_list())"
    },
    "r": {
     "delete_cmd_postfix": ") ",
     "delete_cmd_prefix": "rm(",
     "library": "var_list.r",
     "varRefreshCmd": "cat(var_dic_list()) "
    }
   },
   "types_to_exclude": [
    "module",
    "function",
    "builtin_function_or_method",
    "instance",
    "_Feature"
   ],
   "window_display": false
  }
 },
 "nbformat": 4,
 "nbformat_minor": 5
}

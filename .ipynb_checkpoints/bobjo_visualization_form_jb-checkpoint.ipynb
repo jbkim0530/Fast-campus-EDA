{
 "cells": [
  {
   "cell_type": "markdown",
   "id": "881f8b95",
   "metadata": {},
   "source": [
    "데이터 시각화 양식\n",
    "\n",
    "양식의 순서는 지키되 참고만 하고 자유롭게 더하거나 빼서 분석하세요."
   ]
  },
  {
   "cell_type": "code",
<<<<<<< HEAD
=======
<<<<<<< HEAD
<<<<<<< HEAD
<<<<<<< HEAD
>>>>>>> upstream/main
   "execution_count": 1,
   "id": "34d8d9cc",
   "metadata": {
    "ExecuteTime": {
     "end_time": "2022-06-30T08:07:31.843765Z",
     "start_time": "2022-06-30T08:07:28.315756Z"
<<<<<<< HEAD
=======
=======
   "execution_count": 35,
   "id": "34d8d9cc",
   "metadata": {
    "ExecuteTime": {
     "end_time": "2022-06-30T10:18:22.650257Z",
     "start_time": "2022-06-30T10:18:22.642108Z"
>>>>>>> toast
=======
   "execution_count": 1,
   "id": "34d8d9cc",
   "metadata": {
    "ExecuteTime": {
     "end_time": "2022-07-01T02:09:47.475736Z",
     "start_time": "2022-07-01T02:09:44.058482Z"
>>>>>>> toast
=======
   "execution_count": 15,
   "id": "34d8d9cc",
   "metadata": {
    "ExecuteTime": {
     "end_time": "2022-07-01T10:28:26.345183Z",
     "start_time": "2022-07-01T10:28:26.330244Z"
>>>>>>> toast
>>>>>>> upstream/main
    }
   },
   "outputs": [],
   "source": [
    "import numpy as np\n",
    "import pandas as pd\n",
    "import matplotlib.pyplot as plt\n",
    "import seaborn as sns\n",
    "\n",
    "import time\n",
    "import json\n",
    "import urllib\n",
    "import requests\n",
    "from bs4 import BeautifulSoup\n",
    "import random\n",
    "import time\n",
    "import warnings\n",
    "warnings.filterwarnings(action='ignore')"
   ]
  },
  {
   "cell_type": "code",
<<<<<<< HEAD
=======
<<<<<<< HEAD
<<<<<<< HEAD
<<<<<<< HEAD
>>>>>>> upstream/main
   "execution_count": 2,
   "id": "0d975706",
   "metadata": {
    "ExecuteTime": {
     "end_time": "2022-06-30T08:07:44.362598Z",
     "start_time": "2022-06-30T08:07:34.458781Z"
<<<<<<< HEAD
=======
=======
   "execution_count": 36,
   "id": "0d975706",
   "metadata": {
    "ExecuteTime": {
     "end_time": "2022-06-30T10:18:32.113648Z",
     "start_time": "2022-06-30T10:18:26.196669Z"
>>>>>>> toast
=======
   "execution_count": 2,
   "id": "0d975706",
   "metadata": {
    "ExecuteTime": {
     "end_time": "2022-07-01T02:09:59.497266Z",
     "start_time": "2022-07-01T02:09:49.350178Z"
>>>>>>> toast
=======
   "execution_count": 16,
   "id": "0d975706",
   "metadata": {
    "ExecuteTime": {
     "end_time": "2022-07-01T10:28:34.214442Z",
     "start_time": "2022-07-01T10:28:31.504737Z"
>>>>>>> toast
>>>>>>> upstream/main
    },
    "scrolled": true
   },
   "outputs": [
    {
     "name": "stdout",
     "output_type": "stream",
     "text": [
      "Requirement already satisfied: matplotlib in c:\\users\\beom\\anaconda3\\envs\\datascience\\lib\\site-packages (3.3.4)\n",
<<<<<<< HEAD
=======
<<<<<<< HEAD
<<<<<<< HEAD
<<<<<<< HEAD
>>>>>>> upstream/main
      "Requirement already satisfied: pyparsing!=2.0.4,!=2.1.2,!=2.1.6,>=2.0.3 in c:\\users\\beom\\anaconda3\\envs\\datascience\\lib\\site-packages (from matplotlib) (2.4.7)\n",
      "Requirement already satisfied: kiwisolver>=1.0.1 in c:\\users\\beom\\anaconda3\\envs\\datascience\\lib\\site-packages (from matplotlib) (1.3.1)\n",
      "Requirement already satisfied: python-dateutil>=2.1 in c:\\users\\beom\\anaconda3\\envs\\datascience\\lib\\site-packages (from matplotlib) (2.8.1)\n",
      "Requirement already satisfied: cycler>=0.10 in c:\\users\\beom\\anaconda3\\envs\\datascience\\lib\\site-packages (from matplotlib) (0.10.0)\n",
      "Requirement already satisfied: numpy>=1.15 in c:\\users\\beom\\anaconda3\\envs\\datascience\\lib\\site-packages (from matplotlib) (1.20.1)\n",
      "Requirement already satisfied: pillow>=6.2.0 in c:\\users\\beom\\anaconda3\\envs\\datascience\\lib\\site-packages (from matplotlib) (8.2.0)\n",
<<<<<<< HEAD
=======
=======
      "Requirement already satisfied: numpy>=1.15 in c:\\users\\beom\\anaconda3\\envs\\datascience\\lib\\site-packages (from matplotlib) (1.20.1)\n",
=======
>>>>>>> toast
      "Requirement already satisfied: cycler>=0.10 in c:\\users\\beom\\anaconda3\\envs\\datascience\\lib\\site-packages (from matplotlib) (0.10.0)\n",
      "Requirement already satisfied: pillow>=6.2.0 in c:\\users\\beom\\anaconda3\\envs\\datascience\\lib\\site-packages (from matplotlib) (8.2.0)\n",
=======
>>>>>>> toast
      "Requirement already satisfied: python-dateutil>=2.1 in c:\\users\\beom\\anaconda3\\envs\\datascience\\lib\\site-packages (from matplotlib) (2.8.1)\n",
      "Requirement already satisfied: kiwisolver>=1.0.1 in c:\\users\\beom\\anaconda3\\envs\\datascience\\lib\\site-packages (from matplotlib) (1.3.1)\n",
      "Requirement already satisfied: pillow>=6.2.0 in c:\\users\\beom\\anaconda3\\envs\\datascience\\lib\\site-packages (from matplotlib) (8.2.0)\n",
      "Requirement already satisfied: cycler>=0.10 in c:\\users\\beom\\anaconda3\\envs\\datascience\\lib\\site-packages (from matplotlib) (0.10.0)\n",
      "Requirement already satisfied: numpy>=1.15 in c:\\users\\beom\\anaconda3\\envs\\datascience\\lib\\site-packages (from matplotlib) (1.20.1)\n",
      "Requirement already satisfied: pyparsing!=2.0.4,!=2.1.2,!=2.1.6,>=2.0.3 in c:\\users\\beom\\anaconda3\\envs\\datascience\\lib\\site-packages (from matplotlib) (2.4.7)\n",
>>>>>>> toast
>>>>>>> upstream/main
      "Requirement already satisfied: six in c:\\users\\beom\\anaconda3\\envs\\datascience\\lib\\site-packages (from cycler>=0.10->matplotlib) (1.15.0)\n"
     ]
    }
   ],
   "source": [
    "!pip install matplotlib\n",
    "%matplotlib inline \n",
<<<<<<< HEAD
    "%matplotlib notebook \n",
=======
    "# %matplotlib notebook \n",
>>>>>>> upstream/main
    "\n",
    "from numpy import sin, cos\n",
    "\n",
    "from cycler import cycler\n",
    "import matplotlib as mpl\n",
    "\n",
    "mpl.rcParams['axes.unicode_minus'] = False\n",
    "import platform\n",
    "\n",
    "import matplotlib.font_manager as fm\n",
    "fm.findSystemFonts(fontpaths=None, fontext='ttf')\n",
    "plt.rc('font', family='NanumBarunGothic')\n",
    "\n",
    "from glob import glob\n",
    "\n",
    "import scipy.integrate as integrate\n",
    "import matplotlib.animation as animation\n",
    "from collections import deque\n",
    "\n",
    "# # seaborn 예제 파일 불러오기\n",
    "# penguins = sns.load_dataset('penguins')"
   ]
  },
  {
   "cell_type": "code",
<<<<<<< HEAD
=======
<<<<<<< HEAD
>>>>>>> upstream/main
   "execution_count": 19,
   "id": "3c43ea50",
   "metadata": {
    "ExecuteTime": {
     "end_time": "2022-06-30T08:13:43.946225Z",
     "start_time": "2022-06-30T08:13:43.465112Z"
<<<<<<< HEAD
=======
=======
   "execution_count": null,
   "id": "f396ba11",
   "metadata": {
    "ExecuteTime": {
     "end_time": "2022-06-30T10:27:51.984875Z",
     "start_time": "2022-06-30T10:27:51.962875Z"
    }
   },
   "outputs": [],
   "source": [
    "# del df\n",
    "\n",
    "# df.completed_at = pd.to_datetime(df.completed_at, )\n",
    "# df.marketing_start_at = pd.to_datetime(df.marketing_start_at, )\n",
    "\n"
   ]
  },
  {
   "cell_type": "code",
   "execution_count": 83,
   "id": "3c43ea50",
   "metadata": {
    "ExecuteTime": {
<<<<<<< HEAD
<<<<<<< HEAD
<<<<<<< HEAD
     "end_time": "2022-06-30T10:38:21.739459Z",
     "start_time": "2022-06-30T10:38:21.362117Z"
>>>>>>> toast
=======
     "end_time": "2022-06-30T11:46:19.452763Z",
     "start_time": "2022-06-30T11:46:19.096704Z"
>>>>>>> toast
=======
     "end_time": "2022-07-01T02:10:07.749058Z",
     "start_time": "2022-07-01T02:10:07.121459Z"
>>>>>>> toast
=======
     "end_time": "2022-07-01T11:20:12.776787Z",
     "start_time": "2022-07-01T11:20:12.428937Z"
>>>>>>> toast
>>>>>>> upstream/main
    },
    "scrolled": true
   },
   "outputs": [
    {
     "data": {
      "text/html": [
       "<div>\n",
       "<style scoped>\n",
       "    .dataframe tbody tr th:only-of-type {\n",
       "        vertical-align: middle;\n",
       "    }\n",
       "\n",
       "    .dataframe tbody tr th {\n",
       "        vertical-align: top;\n",
       "    }\n",
       "\n",
       "    .dataframe thead th {\n",
       "        text-align: right;\n",
       "    }\n",
       "</style>\n",
       "<table border=\"1\" class=\"dataframe\">\n",
       "  <thead>\n",
       "    <tr style=\"text-align: right;\">\n",
       "      <th></th>\n",
<<<<<<< HEAD
       "      <th>Unnamed: 0</th>\n",
=======
<<<<<<< HEAD
       "      <th>Unnamed: 0</th>\n",
=======
>>>>>>> toast
>>>>>>> upstream/main
       "      <th>id</th>\n",
       "      <th>customer_id</th>\n",
       "      <th>course_id</th>\n",
       "      <th>type</th>\n",
       "      <th>state</th>\n",
       "      <th>course_title</th>\n",
       "      <th>category_title</th>\n",
       "      <th>format</th>\n",
       "      <th>completed_at</th>\n",
       "      <th>transaction_amount</th>\n",
       "      <th>coupon_title</th>\n",
       "      <th>coupon_discount_amount</th>\n",
       "      <th>sale_price</th>\n",
       "      <th>pg</th>\n",
       "      <th>method</th>\n",
       "      <th>subcategory_title</th>\n",
       "      <th>marketing_start_at</th>\n",
       "    </tr>\n",
       "  </thead>\n",
       "  <tbody>\n",
       "    <tr>\n",
       "      <th>0</th>\n",
<<<<<<< HEAD
       "      <td>0</td>\n",
=======
<<<<<<< HEAD
       "      <td>0</td>\n",
=======
>>>>>>> toast
>>>>>>> upstream/main
       "      <td>970634</td>\n",
       "      <td>504760</td>\n",
       "      <td>201435</td>\n",
       "      <td>ORDER</td>\n",
       "      <td>CANCELLED</td>\n",
       "      <td>올인원 패키지 : 알고리즘 기술면접 완전 정복</td>\n",
       "      <td>프로그래밍</td>\n",
       "      <td>올인원</td>\n",
       "      <td>2021-03-28 15:00:11</td>\n",
       "      <td>90500</td>\n",
       "      <td>미적용</td>\n",
       "      <td>0</td>\n",
       "      <td>110500</td>\n",
       "      <td>COMM</td>\n",
       "      <td>VBANK</td>\n",
       "      <td>개발자 커리어</td>\n",
       "      <td>2018-11-11 00:00:00</td>\n",
       "    </tr>\n",
       "    <tr>\n",
       "      <th>1</th>\n",
<<<<<<< HEAD
       "      <td>1</td>\n",
=======
<<<<<<< HEAD
       "      <td>1</td>\n",
=======
>>>>>>> toast
>>>>>>> upstream/main
       "      <td>970650</td>\n",
       "      <td>432862</td>\n",
       "      <td>203178</td>\n",
       "      <td>ORDER</td>\n",
       "      <td>CANCELLED</td>\n",
       "      <td>초격차 패키지 : 한번에 끝내는 영상 촬영과 편집</td>\n",
       "      <td>영상/3D</td>\n",
       "      <td>올인원</td>\n",
       "      <td>2021-03-28 15:16:53</td>\n",
       "      <td>96000</td>\n",
       "      <td>미적용</td>\n",
       "      <td>0</td>\n",
       "      <td>116000</td>\n",
       "      <td>COMM</td>\n",
       "      <td>CARD</td>\n",
       "      <td>영상 편집</td>\n",
       "      <td>2020-12-02 00:00:00</td>\n",
       "    </tr>\n",
       "    <tr>\n",
       "      <th>2</th>\n",
<<<<<<< HEAD
       "      <td>2</td>\n",
=======
<<<<<<< HEAD
       "      <td>2</td>\n",
=======
>>>>>>> toast
>>>>>>> upstream/main
       "      <td>970657</td>\n",
       "      <td>72297</td>\n",
       "      <td>204246</td>\n",
       "      <td>PAYMENT</td>\n",
       "      <td>COMPLETED</td>\n",
       "      <td>시크릿코드 : 프론트엔드 실무 완성편</td>\n",
       "      <td>프로그래밍</td>\n",
       "      <td>스쿨 온라인</td>\n",
       "      <td>2021-03-28 15:21:43</td>\n",
       "      <td>171810</td>\n",
       "      <td>[10% 할인] 시크릿코드 실무 완성편</td>\n",
       "      <td>19090</td>\n",
       "      <td>190900</td>\n",
       "      <td>COMM</td>\n",
       "      <td>CARD</td>\n",
       "      <td>프로그래밍</td>\n",
       "      <td>2021-03-04 00:00:00</td>\n",
       "    </tr>\n",
       "    <tr>\n",
       "      <th>3</th>\n",
<<<<<<< HEAD
       "      <td>3</td>\n",
=======
<<<<<<< HEAD
       "      <td>3</td>\n",
=======
>>>>>>> toast
>>>>>>> upstream/main
       "      <td>970656</td>\n",
       "      <td>72297</td>\n",
       "      <td>204246</td>\n",
       "      <td>ORDER</td>\n",
       "      <td>CANCELLED</td>\n",
       "      <td>시크릿코드 : 프론트엔드 실무 완성편</td>\n",
       "      <td>프로그래밍</td>\n",
       "      <td>스쿨 온라인</td>\n",
       "      <td>2021-03-28 15:21:43</td>\n",
       "      <td>171810</td>\n",
       "      <td>미적용</td>\n",
       "      <td>0</td>\n",
       "      <td>190900</td>\n",
       "      <td>COMM</td>\n",
       "      <td>CARD</td>\n",
       "      <td>프로그래밍</td>\n",
       "      <td>2021-03-04 00:00:00</td>\n",
       "    </tr>\n",
       "    <tr>\n",
       "      <th>4</th>\n",
<<<<<<< HEAD
       "      <td>4</td>\n",
=======
<<<<<<< HEAD
       "      <td>4</td>\n",
=======
>>>>>>> toast
>>>>>>> upstream/main
       "      <td>970658</td>\n",
       "      <td>478028</td>\n",
       "      <td>201797</td>\n",
       "      <td>PAYMENT</td>\n",
       "      <td>COMPLETED</td>\n",
       "      <td>올인원 패키지 : 직장인 필수 스킬 3종 세트 MAX</td>\n",
       "      <td>업무 생산성</td>\n",
       "      <td>올인원</td>\n",
       "      <td>2021-03-28 15:21:54</td>\n",
       "      <td>97500</td>\n",
       "      <td>[웰컴쿠폰] 올인원 패키지 2만원 할인 쿠폰</td>\n",
       "      <td>20000</td>\n",
       "      <td>117500</td>\n",
       "      <td>COMM</td>\n",
       "      <td>CARD</td>\n",
       "      <td>PPT/보고서</td>\n",
       "      <td>2019-11-14 00:00:00</td>\n",
       "    </tr>\n",
<<<<<<< HEAD
=======
<<<<<<< HEAD
>>>>>>> upstream/main
       "    <tr>\n",
       "      <th>...</th>\n",
       "      <td>...</td>\n",
       "      <td>...</td>\n",
       "      <td>...</td>\n",
       "      <td>...</td>\n",
       "      <td>...</td>\n",
       "      <td>...</td>\n",
       "      <td>...</td>\n",
       "      <td>...</td>\n",
       "      <td>...</td>\n",
       "      <td>...</td>\n",
       "      <td>...</td>\n",
       "      <td>...</td>\n",
       "      <td>...</td>\n",
       "      <td>...</td>\n",
       "      <td>...</td>\n",
       "      <td>...</td>\n",
       "      <td>...</td>\n",
<<<<<<< HEAD
=======
<<<<<<< HEAD
>>>>>>> upstream/main
       "      <td>...</td>\n",
       "    </tr>\n",
       "    <tr>\n",
       "      <th>101097</th>\n",
       "      <td>101813</td>\n",
<<<<<<< HEAD
=======
=======
       "    </tr>\n",
       "    <tr>\n",
       "      <th>101097</th>\n",
>>>>>>> toast
>>>>>>> upstream/main
       "      <td>1364995</td>\n",
       "      <td>640697</td>\n",
       "      <td>205365</td>\n",
       "      <td>PAYMENT</td>\n",
       "      <td>CANCELLED</td>\n",
       "      <td>초격차 패키지 : 한 번에 끝내는 유튜브 크리에이터 되기</td>\n",
       "      <td>영상/3D</td>\n",
       "      <td>올인원</td>\n",
       "      <td>2021-09-25 14:10:42</td>\n",
       "      <td>96000</td>\n",
       "      <td>[WELCOME] 온라인 강의 2만원 할인쿠폰</td>\n",
       "      <td>20000</td>\n",
       "      <td>116000</td>\n",
       "      <td>INICIS</td>\n",
       "      <td>TRANS</td>\n",
       "      <td>영상 편집</td>\n",
       "      <td>2021-06-15 00:00:00</td>\n",
       "    </tr>\n",
       "    <tr>\n",
       "      <th>101098</th>\n",
<<<<<<< HEAD
       "      <td>101814</td>\n",
=======
<<<<<<< HEAD
       "      <td>101814</td>\n",
=======
>>>>>>> toast
>>>>>>> upstream/main
       "      <td>1364998</td>\n",
       "      <td>670896</td>\n",
       "      <td>204159</td>\n",
       "      <td>PAYMENT</td>\n",
       "      <td>CANCELLED</td>\n",
       "      <td>부동산 디벨로퍼 아카데미 : 인허가</td>\n",
       "      <td>부동산/금융</td>\n",
       "      <td>올인원</td>\n",
       "      <td>2021-09-25 14:16:33</td>\n",
       "      <td>189000</td>\n",
       "      <td>미적용</td>\n",
       "      <td>0</td>\n",
       "      <td>189000</td>\n",
       "      <td>INICIS</td>\n",
       "      <td>CARD</td>\n",
       "      <td>부동산 개발</td>\n",
       "      <td>2021-02-10 00:00:00</td>\n",
       "    </tr>\n",
       "    <tr>\n",
       "      <th>101099</th>\n",
<<<<<<< HEAD
       "      <td>101815</td>\n",
=======
<<<<<<< HEAD
       "      <td>101815</td>\n",
=======
>>>>>>> toast
>>>>>>> upstream/main
       "      <td>1364996</td>\n",
       "      <td>640697</td>\n",
       "      <td>205365</td>\n",
       "      <td>PAYMENT</td>\n",
       "      <td>COMPLETED</td>\n",
       "      <td>초격차 패키지 : 한 번에 끝내는 유튜브 크리에이터 되기</td>\n",
       "      <td>영상/3D</td>\n",
       "      <td>올인원</td>\n",
       "      <td>2021-09-25 14:17:41</td>\n",
       "      <td>96000</td>\n",
       "      <td>[WELCOME] 온라인 강의 2만원 할인쿠폰</td>\n",
       "      <td>20000</td>\n",
       "      <td>116000</td>\n",
       "      <td>INICIS</td>\n",
       "      <td>VBANK</td>\n",
       "      <td>영상 편집</td>\n",
       "      <td>2021-06-15 00:00:00</td>\n",
       "    </tr>\n",
       "    <tr>\n",
       "      <th>101100</th>\n",
<<<<<<< HEAD
       "      <td>101816</td>\n",
=======
<<<<<<< HEAD
       "      <td>101816</td>\n",
=======
>>>>>>> toast
>>>>>>> upstream/main
       "      <td>1365005</td>\n",
       "      <td>670896</td>\n",
       "      <td>204159</td>\n",
       "      <td>PAYMENT</td>\n",
       "      <td>CANCELLED</td>\n",
       "      <td>부동산 디벨로퍼 아카데미 : 인허가</td>\n",
       "      <td>부동산/금융</td>\n",
       "      <td>올인원</td>\n",
       "      <td>2021-09-25 14:19:56</td>\n",
       "      <td>189000</td>\n",
       "      <td>미적용</td>\n",
       "      <td>0</td>\n",
       "      <td>189000</td>\n",
       "      <td>INICIS</td>\n",
       "      <td>CARD</td>\n",
       "      <td>부동산 개발</td>\n",
       "      <td>2021-02-10 00:00:00</td>\n",
       "    </tr>\n",
       "    <tr>\n",
       "      <th>101101</th>\n",
<<<<<<< HEAD
       "      <td>101817</td>\n",
=======
<<<<<<< HEAD
       "      <td>101817</td>\n",
=======
>>>>>>> toast
>>>>>>> upstream/main
       "      <td>1365007</td>\n",
       "      <td>610626</td>\n",
       "      <td>206720</td>\n",
       "      <td>PAYMENT</td>\n",
       "      <td>COMPLETED</td>\n",
       "      <td>용호수의 돈 버는 실전 영상 제작</td>\n",
       "      <td>영상/3D</td>\n",
       "      <td>올인원</td>\n",
       "      <td>2021-09-25 14:25:47</td>\n",
       "      <td>139000</td>\n",
       "      <td>[WELCOME] 온라인 강의 3만원 할인쿠폰</td>\n",
       "      <td>30000</td>\n",
       "      <td>169000</td>\n",
       "      <td>NAVER</td>\n",
       "      <td>POINT</td>\n",
       "      <td>영상 편집</td>\n",
       "      <td>2021-08-17 00:00:00</td>\n",
       "    </tr>\n",
       "  </tbody>\n",
       "</table>\n",
<<<<<<< HEAD
=======
<<<<<<< HEAD
>>>>>>> upstream/main
       "<p>101102 rows × 18 columns</p>\n",
       "</div>"
      ],
      "text/plain": [
       "        Unnamed: 0       id  customer_id  course_id     type      state  \\\n",
       "0                0   970634       504760     201435    ORDER  CANCELLED   \n",
       "1                1   970650       432862     203178    ORDER  CANCELLED   \n",
       "2                2   970657        72297     204246  PAYMENT  COMPLETED   \n",
       "3                3   970656        72297     204246    ORDER  CANCELLED   \n",
       "4                4   970658       478028     201797  PAYMENT  COMPLETED   \n",
       "...            ...      ...          ...        ...      ...        ...   \n",
       "101097      101813  1364995       640697     205365  PAYMENT  CANCELLED   \n",
       "101098      101814  1364998       670896     204159  PAYMENT  CANCELLED   \n",
       "101099      101815  1364996       640697     205365  PAYMENT  COMPLETED   \n",
       "101100      101816  1365005       670896     204159  PAYMENT  CANCELLED   \n",
       "101101      101817  1365007       610626     206720  PAYMENT  COMPLETED   \n",
<<<<<<< HEAD
       "\n",
       "                           course_title category_title  format  \\\n",
       "0             올인원 패키지 : 알고리즘 기술면접 완전 정복          프로그래밍     올인원   \n",
       "1           초격차 패키지 : 한번에 끝내는 영상 촬영과 편집          영상/3D     올인원   \n",
       "2                  시크릿코드 : 프론트엔드 실무 완성편          프로그래밍  스쿨 온라인   \n",
       "3                  시크릿코드 : 프론트엔드 실무 완성편          프로그래밍  스쿨 온라인   \n",
       "4         올인원 패키지 : 직장인 필수 스킬 3종 세트 MAX         업무 생산성     올인원   \n",
       "...                                 ...            ...     ...   \n",
       "101097  초격차 패키지 : 한 번에 끝내는 유튜브 크리에이터 되기          영상/3D     올인원   \n",
       "101098              부동산 디벨로퍼 아카데미 : 인허가         부동산/금융     올인원   \n",
       "101099  초격차 패키지 : 한 번에 끝내는 유튜브 크리에이터 되기          영상/3D     올인원   \n",
       "101100              부동산 디벨로퍼 아카데미 : 인허가         부동산/금융     올인원   \n",
       "101101               용호수의 돈 버는 실전 영상 제작          영상/3D     올인원   \n",
       "\n",
       "               completed_at  transaction_amount               coupon_title  \\\n",
       "0       2021-03-28 15:00:11               90500                        미적용   \n",
       "1       2021-03-28 15:16:53               96000                        미적용   \n",
       "2       2021-03-28 15:21:43              171810      [10% 할인] 시크릿코드 실무 완성편   \n",
       "3       2021-03-28 15:21:43              171810                        미적용   \n",
       "4       2021-03-28 15:21:54               97500   [웰컴쿠폰] 올인원 패키지 2만원 할인 쿠폰   \n",
       "...                     ...                 ...                        ...   \n",
       "101097  2021-09-25 14:10:42               96000  [WELCOME] 온라인 강의 2만원 할인쿠폰   \n",
       "101098  2021-09-25 14:16:33              189000                        미적용   \n",
       "101099  2021-09-25 14:17:41               96000  [WELCOME] 온라인 강의 2만원 할인쿠폰   \n",
       "101100  2021-09-25 14:19:56              189000                        미적용   \n",
       "101101  2021-09-25 14:25:47              139000  [WELCOME] 온라인 강의 3만원 할인쿠폰   \n",
       "\n",
=======
=======
       "<p>101102 rows × 17 columns</p>\n",
       "</div>"
      ],
      "text/plain": [
       "             id  customer_id  course_id     type      state  \\\n",
       "0        970634       504760     201435    ORDER  CANCELLED   \n",
       "1        970650       432862     203178    ORDER  CANCELLED   \n",
       "2        970657        72297     204246  PAYMENT  COMPLETED   \n",
       "3        970656        72297     204246    ORDER  CANCELLED   \n",
       "4        970658       478028     201797  PAYMENT  COMPLETED   \n",
       "...         ...          ...        ...      ...        ...   \n",
       "101097  1364995       640697     205365  PAYMENT  CANCELLED   \n",
       "101098  1364998       670896     204159  PAYMENT  CANCELLED   \n",
       "101099  1364996       640697     205365  PAYMENT  COMPLETED   \n",
       "101100  1365005       670896     204159  PAYMENT  CANCELLED   \n",
       "101101  1365007       610626     206720  PAYMENT  COMPLETED   \n",
>>>>>>> toast
=======
       "  </tbody>\n",
       "</table>\n",
       "</div>"
      ],
      "text/plain": [
       "       id  customer_id  course_id     type      state  \\\n",
       "0  970634       504760     201435    ORDER  CANCELLED   \n",
       "1  970650       432862     203178    ORDER  CANCELLED   \n",
       "2  970657        72297     204246  PAYMENT  COMPLETED   \n",
       "3  970656        72297     204246    ORDER  CANCELLED   \n",
       "4  970658       478028     201797  PAYMENT  COMPLETED   \n",
>>>>>>> toast
       "\n",
       "                    course_title category_title  format         completed_at  \\\n",
       "0      올인원 패키지 : 알고리즘 기술면접 완전 정복          프로그래밍     올인원  2021-03-28 15:00:11   \n",
       "1    초격차 패키지 : 한번에 끝내는 영상 촬영과 편집          영상/3D     올인원  2021-03-28 15:16:53   \n",
       "2           시크릿코드 : 프론트엔드 실무 완성편          프로그래밍  스쿨 온라인  2021-03-28 15:21:43   \n",
       "3           시크릿코드 : 프론트엔드 실무 완성편          프로그래밍  스쿨 온라인  2021-03-28 15:21:43   \n",
       "4  올인원 패키지 : 직장인 필수 스킬 3종 세트 MAX         업무 생산성     올인원  2021-03-28 15:21:54   \n",
       "\n",
       "   transaction_amount              coupon_title  coupon_discount_amount  \\\n",
       "0               90500                       미적용                       0   \n",
       "1               96000                       미적용                       0   \n",
       "2              171810     [10% 할인] 시크릿코드 실무 완성편                   19090   \n",
       "3              171810                       미적용                       0   \n",
       "4               97500  [웰컴쿠폰] 올인원 패키지 2만원 할인 쿠폰                   20000   \n",
       "\n",
<<<<<<< HEAD
>>>>>>> upstream/main
       "        coupon_discount_amount  sale_price      pg method subcategory_title  \\\n",
       "0                            0      110500    COMM  VBANK           개발자 커리어   \n",
       "1                            0      116000    COMM   CARD             영상 편집   \n",
       "2                        19090      190900    COMM   CARD             프로그래밍   \n",
       "3                            0      190900    COMM   CARD             프로그래밍   \n",
       "4                        20000      117500    COMM   CARD           PPT/보고서   \n",
       "...                        ...         ...     ...    ...               ...   \n",
       "101097                   20000      116000  INICIS  TRANS             영상 편집   \n",
       "101098                       0      189000  INICIS   CARD            부동산 개발   \n",
       "101099                   20000      116000  INICIS  VBANK             영상 편집   \n",
       "101100                       0      189000  INICIS   CARD            부동산 개발   \n",
       "101101                   30000      169000   NAVER  POINT             영상 편집   \n",
       "\n",
       "         marketing_start_at  \n",
       "0       2018-11-11 00:00:00  \n",
       "1       2020-12-02 00:00:00  \n",
       "2       2021-03-04 00:00:00  \n",
       "3       2021-03-04 00:00:00  \n",
       "4       2019-11-14 00:00:00  \n",
       "...                     ...  \n",
       "101097  2021-06-15 00:00:00  \n",
       "101098  2021-02-10 00:00:00  \n",
       "101099  2021-06-15 00:00:00  \n",
       "101100  2021-02-10 00:00:00  \n",
       "101101  2021-08-17 00:00:00  \n",
       "\n",
<<<<<<< HEAD
=======
<<<<<<< HEAD
>>>>>>> upstream/main
       "[101102 rows x 18 columns]"
      ]
     },
     "execution_count": 19,
<<<<<<< HEAD
=======
=======
       "[101102 rows x 17 columns]"
      ]
     },
     "execution_count": 80,
>>>>>>> toast
=======
       "   sale_price    pg method subcategory_title   marketing_start_at  \n",
       "0      110500  COMM  VBANK           개발자 커리어  2018-11-11 00:00:00  \n",
       "1      116000  COMM   CARD             영상 편집  2020-12-02 00:00:00  \n",
       "2      190900  COMM   CARD             프로그래밍  2021-03-04 00:00:00  \n",
       "3      190900  COMM   CARD             프로그래밍  2021-03-04 00:00:00  \n",
       "4      117500  COMM   CARD           PPT/보고서  2019-11-14 00:00:00  "
      ]
     },
<<<<<<< HEAD
<<<<<<< HEAD
     "execution_count": 105,
>>>>>>> toast
=======
     "execution_count": 3,
>>>>>>> toast
=======
     "execution_count": 83,
>>>>>>> toast
>>>>>>> upstream/main
     "metadata": {},
     "output_type": "execute_result"
    }
   ],
   "source": [
    "sns.set_theme(style='whitegrid') \n",
<<<<<<< HEAD
    "df = pd.read_csv('./data/facam_fn.csv')\n",
    "df"
=======
<<<<<<< HEAD
    "df = pd.read_csv('./data/facam_fn.csv')\n",
=======
    "df = pd.read_csv('./data/facam_vi.csv')\n",
<<<<<<< HEAD
>>>>>>> toast
    "df"
=======
    "df.head()"
>>>>>>> toast
>>>>>>> upstream/main
   ]
  },
  {
   "cell_type": "code",
<<<<<<< HEAD
=======
<<<<<<< HEAD
<<<<<<< HEAD
<<<<<<< HEAD
<<<<<<< HEAD
>>>>>>> upstream/main
   "execution_count": 20,
   "id": "baf22569",
   "metadata": {
    "ExecuteTime": {
     "end_time": "2022-06-30T08:13:45.065113Z",
     "start_time": "2022-06-30T08:13:45.026976Z"
    }
   },
   "outputs": [],
   "source": [
    "df = df.drop(columns='Unnamed: 0')"
   ]
  },
  {
   "cell_type": "code",
   "execution_count": 21,
   "id": "32bc051e",
   "metadata": {
    "ExecuteTime": {
     "end_time": "2022-06-30T08:13:45.968080Z",
     "start_time": "2022-06-30T08:13:45.874960Z"
    },
    "scrolled": true
   },
<<<<<<< HEAD
=======
=======
   "execution_count": 81,
=======
   "execution_count": 106,
>>>>>>> toast
=======
   "execution_count": 4,
>>>>>>> toast
=======
   "execution_count": 84,
>>>>>>> toast
   "id": "baf22569",
   "metadata": {
    "ExecuteTime": {
     "end_time": "2022-07-01T11:20:20.478370Z",
     "start_time": "2022-07-01T11:20:20.347145Z"
    },
    "scrolled": true
   },
>>>>>>> toast
>>>>>>> upstream/main
   "outputs": [
    {
     "name": "stdout",
     "output_type": "stream",
     "text": [
      "<class 'pandas.core.frame.DataFrame'>\n",
      "RangeIndex: 101102 entries, 0 to 101101\n",
      "Data columns (total 17 columns):\n",
<<<<<<< HEAD
=======
<<<<<<< HEAD
>>>>>>> upstream/main
      " #   Column                  Non-Null Count   Dtype \n",
      "---  ------                  --------------   ----- \n",
      " 0   id                      101102 non-null  int64 \n",
      " 1   customer_id             101102 non-null  int64 \n",
      " 2   course_id               101102 non-null  int64 \n",
      " 3   type                    101102 non-null  object\n",
      " 4   state                   101102 non-null  object\n",
      " 5   course_title            101102 non-null  object\n",
      " 6   category_title          101102 non-null  object\n",
      " 7   format                  101102 non-null  object\n",
      " 8   completed_at            101102 non-null  object\n",
      " 9   transaction_amount      101102 non-null  int64 \n",
      " 10  coupon_title            101102 non-null  object\n",
      " 11  coupon_discount_amount  101102 non-null  int64 \n",
      " 12  sale_price              101102 non-null  int64 \n",
      " 13  pg                      101102 non-null  object\n",
      " 14  method                  101102 non-null  object\n",
      " 15  subcategory_title       101102 non-null  object\n",
      " 16  marketing_start_at      101102 non-null  object\n",
      "dtypes: int64(6), object(11)\n",
<<<<<<< HEAD
=======
=======
      " #   Column                  Non-Null Count   Dtype         \n",
      "---  ------                  --------------   -----         \n",
      " 0   id                      101102 non-null  int64         \n",
      " 1   customer_id             101102 non-null  int64         \n",
      " 2   course_id               101102 non-null  int64         \n",
      " 3   type                    101102 non-null  object        \n",
      " 4   state                   101102 non-null  object        \n",
      " 5   course_title            101102 non-null  object        \n",
      " 6   category_title          101102 non-null  object        \n",
      " 7   format                  101102 non-null  object        \n",
      " 8   completed_at            101102 non-null  datetime64[ns]\n",
      " 9   transaction_amount      101102 non-null  int64         \n",
      " 10  coupon_title            101102 non-null  object        \n",
      " 11  coupon_discount_amount  101102 non-null  int64         \n",
      " 12  sale_price              101102 non-null  int64         \n",
      " 13  pg                      101102 non-null  object        \n",
      " 14  method                  101102 non-null  object        \n",
      " 15  subcategory_title       101102 non-null  object        \n",
      " 16  marketing_start_at      101102 non-null  datetime64[ns]\n",
      "dtypes: datetime64[ns](2), int64(6), object(9)\n",
>>>>>>> toast
>>>>>>> upstream/main
      "memory usage: 13.1+ MB\n"
     ]
    }
   ],
   "source": [
<<<<<<< HEAD
=======
<<<<<<< HEAD
>>>>>>> upstream/main
    "df.info()"
   ]
  },
  {
   "cell_type": "code",
   "execution_count": 23,
   "id": "a91343bb",
   "metadata": {
    "ExecuteTime": {
     "end_time": "2022-06-30T08:13:57.560889Z",
     "start_time": "2022-06-30T08:13:57.408460Z"
    }
   },
   "outputs": [],
   "source": [
    "df.completed_at = pd.to_datetime(df.completed_at, )\n",
    "df.marketing_start_at = pd.to_datetime(df.marketing_start_at, )"
   ]
  },
  {
   "cell_type": "code",
   "execution_count": 24,
   "id": "7513cec0",
   "metadata": {
    "ExecuteTime": {
     "end_time": "2022-06-30T08:13:58.558312Z",
     "start_time": "2022-06-30T08:13:58.481486Z"
    },
    "scrolled": true
   },
   "outputs": [
    {
     "name": "stdout",
     "output_type": "stream",
     "text": [
      "<class 'pandas.core.frame.DataFrame'>\n",
      "RangeIndex: 101102 entries, 0 to 101101\n",
      "Data columns (total 17 columns):\n",
      " #   Column                  Non-Null Count   Dtype         \n",
      "---  ------                  --------------   -----         \n",
      " 0   id                      101102 non-null  int64         \n",
      " 1   customer_id             101102 non-null  int64         \n",
      " 2   course_id               101102 non-null  int64         \n",
      " 3   type                    101102 non-null  object        \n",
      " 4   state                   101102 non-null  object        \n",
      " 5   course_title            101102 non-null  object        \n",
      " 6   category_title          101102 non-null  object        \n",
      " 7   format                  101102 non-null  object        \n",
      " 8   completed_at            101102 non-null  datetime64[ns]\n",
      " 9   transaction_amount      101102 non-null  int64         \n",
      " 10  coupon_title            101102 non-null  object        \n",
      " 11  coupon_discount_amount  101102 non-null  int64         \n",
      " 12  sale_price              101102 non-null  int64         \n",
      " 13  pg                      101102 non-null  object        \n",
      " 14  method                  101102 non-null  object        \n",
      " 15  subcategory_title       101102 non-null  object        \n",
      " 16  marketing_start_at      101102 non-null  datetime64[ns]\n",
      "dtypes: datetime64[ns](2), int64(6), object(9)\n",
      "memory usage: 13.1+ MB\n"
     ]
    }
   ],
   "source": [
<<<<<<< HEAD
=======
=======
    "df.completed_at = pd.to_datetime(df.completed_at, )\n",
    "df.marketing_start_at = pd.to_datetime(df.marketing_start_at, )\n",
>>>>>>> toast
>>>>>>> upstream/main
    "df.info()"
   ]
  },
  {
   "cell_type": "code",
<<<<<<< HEAD
=======
<<<<<<< HEAD
>>>>>>> upstream/main
   "execution_count": 25,
   "id": "d061da52",
   "metadata": {
    "ExecuteTime": {
     "end_time": "2022-06-30T08:14:17.823912Z",
     "start_time": "2022-06-30T08:14:16.821288Z"
    }
   },
   "outputs": [],
   "source": [
    "df.to_csv('./data/test.csv')"
   ]
  },
  {
   "cell_type": "code",
   "execution_count": 26,
   "id": "a85dac35",
   "metadata": {
    "ExecuteTime": {
     "end_time": "2022-06-30T08:14:24.035510Z",
     "start_time": "2022-06-30T08:14:23.547644Z"
    }
   },
   "outputs": [],
   "source": [
    "df1 = pd.read_csv('./data/test.csv')"
   ]
  },
  {
   "cell_type": "code",
   "execution_count": 27,
   "id": "53dfebd4",
   "metadata": {
    "ExecuteTime": {
     "end_time": "2022-06-30T08:14:24.938316Z",
     "start_time": "2022-06-30T08:14:24.906422Z"
    }
   },
   "outputs": [],
   "source": [
    "df1 = df1.drop(columns='Unnamed: 0')"
   ]
  },
  {
   "cell_type": "code",
   "execution_count": 28,
   "id": "38bc47a0",
   "metadata": {
    "ExecuteTime": {
     "end_time": "2022-06-30T08:14:26.001505Z",
     "start_time": "2022-06-30T08:14:25.880195Z"
    }
   },
   "outputs": [],
   "source": [
    "df1.completed_at = pd.to_datetime(df1.completed_at, )"
   ]
  },
  {
   "cell_type": "code",
   "execution_count": 29,
   "id": "6e18c5d4",
   "metadata": {
    "ExecuteTime": {
     "end_time": "2022-06-30T08:14:26.715407Z",
     "start_time": "2022-06-30T08:14:26.672838Z"
    }
   },
   "outputs": [],
   "source": [
    "df1.marketing_start_at = pd.to_datetime(df1.marketing_start_at, )"
   ]
  },
  {
   "cell_type": "code",
   "execution_count": 31,
   "id": "93e39b65",
   "metadata": {
    "ExecuteTime": {
     "end_time": "2022-06-30T08:14:49.301528Z",
     "start_time": "2022-06-30T08:14:49.230301Z"
    }
   },
   "outputs": [
    {
     "name": "stdout",
     "output_type": "stream",
     "text": [
      "<class 'pandas.core.frame.DataFrame'>\n",
      "RangeIndex: 101102 entries, 0 to 101101\n",
      "Data columns (total 17 columns):\n",
      " #   Column                  Non-Null Count   Dtype         \n",
      "---  ------                  --------------   -----         \n",
      " 0   id                      101102 non-null  int64         \n",
      " 1   customer_id             101102 non-null  int64         \n",
      " 2   course_id               101102 non-null  int64         \n",
      " 3   type                    101102 non-null  object        \n",
      " 4   state                   101102 non-null  object        \n",
      " 5   course_title            101102 non-null  object        \n",
      " 6   category_title          101102 non-null  object        \n",
      " 7   format                  101102 non-null  object        \n",
      " 8   completed_at            101102 non-null  datetime64[ns]\n",
      " 9   transaction_amount      101102 non-null  int64         \n",
      " 10  coupon_title            101102 non-null  object        \n",
      " 11  coupon_discount_amount  101102 non-null  int64         \n",
      " 12  sale_price              101102 non-null  int64         \n",
      " 13  pg                      101102 non-null  object        \n",
      " 14  method                  101102 non-null  object        \n",
      " 15  subcategory_title       101102 non-null  object        \n",
      " 16  marketing_start_at      101102 non-null  datetime64[ns]\n",
      "dtypes: datetime64[ns](2), int64(6), object(9)\n",
      "memory usage: 13.1+ MB\n"
     ]
    }
   ],
   "source": [
    "df1.info()"
   ]
  },
  {
<<<<<<< HEAD
=======
<<<<<<< HEAD
>>>>>>> upstream/main
   "cell_type": "code",
   "execution_count": 32,
   "id": "671867ed",
   "metadata": {
    "ExecuteTime": {
     "end_time": "2022-06-30T08:15:11.002597Z",
     "start_time": "2022-06-30T08:15:09.988366Z"
    }
   },
   "outputs": [],
   "source": [
    "df1.to_csv('./data/test1.csv', index=False)"
   ]
  },
  {
   "cell_type": "code",
   "execution_count": 33,
   "id": "cd93dadb",
   "metadata": {
    "ExecuteTime": {
     "end_time": "2022-06-30T08:15:41.359830Z",
     "start_time": "2022-06-30T08:15:40.838855Z"
    }
   },
   "outputs": [
    {
     "name": "stdout",
     "output_type": "stream",
     "text": [
      "<class 'pandas.core.frame.DataFrame'>\n",
      "RangeIndex: 101102 entries, 0 to 101101\n",
      "Data columns (total 17 columns):\n",
      " #   Column                  Non-Null Count   Dtype \n",
      "---  ------                  --------------   ----- \n",
      " 0   id                      101102 non-null  int64 \n",
      " 1   customer_id             101102 non-null  int64 \n",
      " 2   course_id               101102 non-null  int64 \n",
      " 3   type                    101102 non-null  object\n",
      " 4   state                   101102 non-null  object\n",
      " 5   course_title            101102 non-null  object\n",
      " 6   category_title          101102 non-null  object\n",
      " 7   format                  101102 non-null  object\n",
      " 8   completed_at            101102 non-null  object\n",
      " 9   transaction_amount      101102 non-null  int64 \n",
      " 10  coupon_title            101102 non-null  object\n",
      " 11  coupon_discount_amount  101102 non-null  int64 \n",
      " 12  sale_price              101102 non-null  int64 \n",
      " 13  pg                      101102 non-null  object\n",
      " 14  method                  101102 non-null  object\n",
      " 15  subcategory_title       101102 non-null  object\n",
      " 16  marketing_start_at      101102 non-null  object\n",
      "dtypes: int64(6), object(11)\n",
      "memory usage: 13.1+ MB\n"
     ]
    }
   ],
   "source": [
    "df = pd.read_csv('./data/test1.csv')\n",
    "df.info()"
   ]
<<<<<<< HEAD
  },
  {
   "cell_type": "markdown",
   "id": "6f1f6f24",
   "metadata": {},
   "source": [
    "# 매출 분석"
   ]
  },
  {
   "cell_type": "markdown",
   "id": "067228e5",
   "metadata": {},
   "source": [
    "## 시간대, 요일, 일, 주, 월, 분기, 총 매출(반기), 6개월간 추이"
   ]
  },
  {
   "cell_type": "markdown",
   "id": "ec54f1a2",
   "metadata": {},
   "source": [
    "### 시간대별 매출 그래프"
   ]
  },
  {
   "cell_type": "markdown",
   "id": "76df6b3b",
   "metadata": {},
   "source": [
    "### 요일별 매출 그래프"
=======
=======
   "execution_count": null,
   "id": "748c54f3",
=======
   "cell_type": "markdown",
   "id": "13f703b1",
>>>>>>> toast
   "metadata": {},
   "source": [
    "> 17 columns, 101102 index, 1718734 rows, notnull data"
   ]
  },
  {
   "cell_type": "code",
   "execution_count": 85,
   "id": "49fa3602",
<<<<<<< HEAD
   "metadata": {},
   "outputs": [],
   "source": []
>>>>>>> toast
=======
   "metadata": {
    "ExecuteTime": {
     "end_time": "2022-07-01T11:20:23.207310Z",
     "start_time": "2022-07-01T11:20:23.154573Z"
    }
   },
   "outputs": [
    {
     "data": {
      "text/html": [
       "<div>\n",
       "<style scoped>\n",
       "    .dataframe tbody tr th:only-of-type {\n",
       "        vertical-align: middle;\n",
       "    }\n",
       "\n",
       "    .dataframe tbody tr th {\n",
       "        vertical-align: top;\n",
       "    }\n",
       "\n",
       "    .dataframe thead th {\n",
       "        text-align: right;\n",
       "    }\n",
       "</style>\n",
       "<table border=\"1\" class=\"dataframe\">\n",
       "  <thead>\n",
       "    <tr style=\"text-align: right;\">\n",
       "      <th></th>\n",
       "      <th>id</th>\n",
       "      <th>customer_id</th>\n",
       "      <th>course_id</th>\n",
       "      <th>transaction_amount</th>\n",
       "      <th>coupon_discount_amount</th>\n",
       "      <th>sale_price</th>\n",
       "    </tr>\n",
       "  </thead>\n",
       "  <tbody>\n",
       "    <tr>\n",
       "      <th>count</th>\n",
       "      <td>1.011020e+05</td>\n",
       "      <td>101102.000000</td>\n",
       "      <td>101102.000000</td>\n",
       "      <td>1.011020e+05</td>\n",
       "      <td>101102.000000</td>\n",
       "      <td>1.011020e+05</td>\n",
       "    </tr>\n",
       "    <tr>\n",
       "      <th>mean</th>\n",
       "      <td>1.145511e+06</td>\n",
       "      <td>415909.561997</td>\n",
       "      <td>208729.604815</td>\n",
       "      <td>1.286851e+05</td>\n",
       "      <td>14423.185199</td>\n",
       "      <td>1.592345e+05</td>\n",
       "    </tr>\n",
       "    <tr>\n",
       "      <th>std</th>\n",
       "      <td>1.125048e+05</td>\n",
       "      <td>206627.373238</td>\n",
       "      <td>21281.637839</td>\n",
       "      <td>1.299967e+05</td>\n",
       "      <td>35684.365000</td>\n",
       "      <td>1.147219e+05</td>\n",
       "    </tr>\n",
       "    <tr>\n",
       "      <th>min</th>\n",
       "      <td>5.679930e+05</td>\n",
       "      <td>16.000000</td>\n",
       "      <td>2516.000000</td>\n",
       "      <td>-1.800000e+06</td>\n",
       "      <td>0.000000</td>\n",
       "      <td>0.000000e+00</td>\n",
       "    </tr>\n",
       "    <tr>\n",
       "      <th>25%</th>\n",
       "      <td>1.047142e+06</td>\n",
       "      <td>228975.000000</td>\n",
       "      <td>203146.000000</td>\n",
       "      <td>8.900000e+04</td>\n",
       "      <td>0.000000</td>\n",
       "      <td>1.100000e+05</td>\n",
       "    </tr>\n",
       "    <tr>\n",
       "      <th>50%</th>\n",
       "      <td>1.133842e+06</td>\n",
       "      <td>500265.500000</td>\n",
       "      <td>203787.000000</td>\n",
       "      <td>1.190000e+05</td>\n",
       "      <td>0.000000</td>\n",
       "      <td>1.340000e+05</td>\n",
       "    </tr>\n",
       "    <tr>\n",
       "      <th>75%</th>\n",
       "      <td>1.238848e+06</td>\n",
       "      <td>565941.000000</td>\n",
       "      <td>204870.000000</td>\n",
       "      <td>1.584000e+05</td>\n",
       "      <td>10000.000000</td>\n",
       "      <td>1.710000e+05</td>\n",
       "    </tr>\n",
       "    <tr>\n",
       "      <th>max</th>\n",
       "      <td>1.381657e+06</td>\n",
       "      <td>670896.000000</td>\n",
       "      <td>300000.000000</td>\n",
       "      <td>1.800000e+06</td>\n",
       "      <td>674000.000000</td>\n",
       "      <td>1.800000e+06</td>\n",
       "    </tr>\n",
       "  </tbody>\n",
       "</table>\n",
       "</div>"
      ],
      "text/plain": [
       "                 id    customer_id      course_id  transaction_amount  \\\n",
       "count  1.011020e+05  101102.000000  101102.000000        1.011020e+05   \n",
       "mean   1.145511e+06  415909.561997  208729.604815        1.286851e+05   \n",
       "std    1.125048e+05  206627.373238   21281.637839        1.299967e+05   \n",
       "min    5.679930e+05      16.000000    2516.000000       -1.800000e+06   \n",
       "25%    1.047142e+06  228975.000000  203146.000000        8.900000e+04   \n",
       "50%    1.133842e+06  500265.500000  203787.000000        1.190000e+05   \n",
       "75%    1.238848e+06  565941.000000  204870.000000        1.584000e+05   \n",
       "max    1.381657e+06  670896.000000  300000.000000        1.800000e+06   \n",
       "\n",
       "       coupon_discount_amount    sale_price  \n",
       "count           101102.000000  1.011020e+05  \n",
       "mean             14423.185199  1.592345e+05  \n",
       "std              35684.365000  1.147219e+05  \n",
       "min                  0.000000  0.000000e+00  \n",
       "25%                  0.000000  1.100000e+05  \n",
       "50%                  0.000000  1.340000e+05  \n",
       "75%              10000.000000  1.710000e+05  \n",
       "max             674000.000000  1.800000e+06  "
      ]
     },
     "execution_count": 85,
     "metadata": {},
     "output_type": "execute_result"
    }
   ],
   "source": [
    "df.describe()"
   ]
>>>>>>> toast
  },
  {
   "cell_type": "markdown",
   "id": "6f1f6f24",
   "metadata": {},
   "source": [
    "# 매출 분석"
>>>>>>> upstream/main
   ]
  },
  {
   "cell_type": "markdown",
<<<<<<< HEAD
   "id": "e34b2c8e",
   "metadata": {},
   "source": [
    "### 일별 매출 그래프"
=======
   "id": "fee23943",
   "metadata": {},
   "source": [
    "## preprocessing refer\n",
    "> 'type' column 의 'PAYMENT'(결제완료) 와 'REFUND'(환불)이 'state' column 에서 'COMPLETED' 인 값들의 합   \n",
    "\n",
    "> 'completed_at' clone column 'completed_c' 을 추가. 'completed_c' dtype 으로 변경 후 연/월/일/시간으로 나눔\n",
    "\n",
    "> df 에서 결제 승인이 처음 시작된 일시와 종료 일시 확인(마케팅시간도참고)"
>>>>>>> upstream/main
   ]
  },
  {
   "cell_type": "markdown",
<<<<<<< HEAD
   "id": "0878ef47",
   "metadata": {},
   "source": [
    "### 주별 매출 그래프"
   ]
  },
  {
   "cell_type": "markdown",
   "id": "fb76f940",
   "metadata": {},
   "source": [
    "### 월별 매출 그래프"
   ]
  },
  {
   "cell_type": "markdown",
   "id": "85fa3670",
   "metadata": {},
   "source": [
    "### 분기별 매출 그래프"
=======
   "id": "7438af1d",
   "metadata": {},
   "source": [
    "## df의 총 매출"
   ]
  },
  {
   "cell_type": "code",
   "execution_count": 86,
   "id": "a27b89e3",
   "metadata": {
    "ExecuteTime": {
     "end_time": "2022-07-01T11:20:26.211185Z",
     "start_time": "2022-07-01T11:20:26.198152Z"
    },
    "scrolled": false
   },
   "outputs": [
    {
     "data": {
      "text/html": [
       "<div>\n",
       "<style scoped>\n",
       "    .dataframe tbody tr th:only-of-type {\n",
       "        vertical-align: middle;\n",
       "    }\n",
       "\n",
       "    .dataframe tbody tr th {\n",
       "        vertical-align: top;\n",
       "    }\n",
       "\n",
       "    .dataframe thead th {\n",
       "        text-align: right;\n",
       "    }\n",
       "</style>\n",
       "<table border=\"1\" class=\"dataframe\">\n",
       "  <thead>\n",
       "    <tr style=\"text-align: right;\">\n",
       "      <th></th>\n",
       "      <th>type</th>\n",
       "      <th>state</th>\n",
       "      <th>transaction_amount</th>\n",
       "    </tr>\n",
       "  </thead>\n",
       "  <tbody>\n",
       "    <tr>\n",
       "      <th>0</th>\n",
       "      <td>ORDER</td>\n",
       "      <td>CANCELLED</td>\n",
       "      <td>90500</td>\n",
       "    </tr>\n",
       "    <tr>\n",
       "      <th>1</th>\n",
       "      <td>ORDER</td>\n",
       "      <td>CANCELLED</td>\n",
       "      <td>96000</td>\n",
       "    </tr>\n",
       "    <tr>\n",
       "      <th>2</th>\n",
       "      <td>PAYMENT</td>\n",
       "      <td>COMPLETED</td>\n",
       "      <td>171810</td>\n",
       "    </tr>\n",
       "    <tr>\n",
       "      <th>3</th>\n",
       "      <td>ORDER</td>\n",
       "      <td>CANCELLED</td>\n",
       "      <td>171810</td>\n",
       "    </tr>\n",
       "    <tr>\n",
       "      <th>4</th>\n",
       "      <td>PAYMENT</td>\n",
       "      <td>COMPLETED</td>\n",
       "      <td>97500</td>\n",
       "    </tr>\n",
       "  </tbody>\n",
       "</table>\n",
       "</div>"
      ],
      "text/plain": [
       "      type      state  transaction_amount\n",
       "0    ORDER  CANCELLED               90500\n",
       "1    ORDER  CANCELLED               96000\n",
       "2  PAYMENT  COMPLETED              171810\n",
       "3    ORDER  CANCELLED              171810\n",
       "4  PAYMENT  COMPLETED               97500"
      ]
     },
     "execution_count": 86,
     "metadata": {},
     "output_type": "execute_result"
    }
   ],
   "source": [
    "# 'type'(구매상태), 'state'(진행상황), 'transaction_amount' column 추출\n",
    "s = df.loc[:, ['type', 'state', 'transaction_amount']]\n",
    "s.head()"
   ]
  },
  {
   "cell_type": "code",
   "execution_count": 87,
   "id": "f000334a",
   "metadata": {
    "ExecuteTime": {
     "end_time": "2022-07-01T11:20:27.811050Z",
     "start_time": "2022-07-01T11:20:27.772945Z"
    },
    "scrolled": true
   },
   "outputs": [
    {
     "data": {
      "text/html": [
       "<div>\n",
       "<style scoped>\n",
       "    .dataframe tbody tr th:only-of-type {\n",
       "        vertical-align: middle;\n",
       "    }\n",
       "\n",
       "    .dataframe tbody tr th {\n",
       "        vertical-align: top;\n",
       "    }\n",
       "\n",
       "    .dataframe thead th {\n",
       "        text-align: right;\n",
       "    }\n",
       "</style>\n",
       "<table border=\"1\" class=\"dataframe\">\n",
       "  <thead>\n",
       "    <tr style=\"text-align: right;\">\n",
       "      <th></th>\n",
       "      <th>type</th>\n",
       "      <th>state</th>\n",
       "      <th>transaction_amount</th>\n",
       "    </tr>\n",
       "  </thead>\n",
       "  <tbody>\n",
       "    <tr>\n",
       "      <th>0</th>\n",
       "      <td>PAYMENT</td>\n",
       "      <td>COMPLETED</td>\n",
       "      <td>171810</td>\n",
       "    </tr>\n",
       "    <tr>\n",
       "      <th>1</th>\n",
       "      <td>PAYMENT</td>\n",
       "      <td>COMPLETED</td>\n",
       "      <td>97500</td>\n",
       "    </tr>\n",
       "    <tr>\n",
       "      <th>2</th>\n",
       "      <td>PAYMENT</td>\n",
       "      <td>COMPLETED</td>\n",
       "      <td>96000</td>\n",
       "    </tr>\n",
       "    <tr>\n",
       "      <th>3</th>\n",
       "      <td>PAYMENT</td>\n",
       "      <td>COMPLETED</td>\n",
       "      <td>263000</td>\n",
       "    </tr>\n",
       "    <tr>\n",
       "      <th>4</th>\n",
       "      <td>PAYMENT</td>\n",
       "      <td>COMPLETED</td>\n",
       "      <td>91000</td>\n",
       "    </tr>\n",
       "    <tr>\n",
       "      <th>...</th>\n",
       "      <td>...</td>\n",
       "      <td>...</td>\n",
       "      <td>...</td>\n",
       "    </tr>\n",
       "    <tr>\n",
       "      <th>53035</th>\n",
       "      <td>PAYMENT</td>\n",
       "      <td>COMPLETED</td>\n",
       "      <td>212000</td>\n",
       "    </tr>\n",
       "    <tr>\n",
       "      <th>53036</th>\n",
       "      <td>PAYMENT</td>\n",
       "      <td>COMPLETED</td>\n",
       "      <td>149000</td>\n",
       "    </tr>\n",
       "    <tr>\n",
       "      <th>53037</th>\n",
       "      <td>PAYMENT</td>\n",
       "      <td>COMPLETED</td>\n",
       "      <td>159000</td>\n",
       "    </tr>\n",
       "    <tr>\n",
       "      <th>53038</th>\n",
       "      <td>PAYMENT</td>\n",
       "      <td>COMPLETED</td>\n",
       "      <td>96000</td>\n",
       "    </tr>\n",
       "    <tr>\n",
       "      <th>53039</th>\n",
       "      <td>PAYMENT</td>\n",
       "      <td>COMPLETED</td>\n",
       "      <td>139000</td>\n",
       "    </tr>\n",
       "  </tbody>\n",
       "</table>\n",
       "<p>53040 rows × 3 columns</p>\n",
       "</div>"
      ],
      "text/plain": [
       "          type      state  transaction_amount\n",
       "0      PAYMENT  COMPLETED              171810\n",
       "1      PAYMENT  COMPLETED               97500\n",
       "2      PAYMENT  COMPLETED               96000\n",
       "3      PAYMENT  COMPLETED              263000\n",
       "4      PAYMENT  COMPLETED               91000\n",
       "...        ...        ...                 ...\n",
       "53035  PAYMENT  COMPLETED              212000\n",
       "53036  PAYMENT  COMPLETED              149000\n",
       "53037  PAYMENT  COMPLETED              159000\n",
       "53038  PAYMENT  COMPLETED               96000\n",
       "53039  PAYMENT  COMPLETED              139000\n",
       "\n",
       "[53040 rows x 3 columns]"
      ]
     },
     "execution_count": 87,
     "metadata": {},
     "output_type": "execute_result"
    }
   ],
   "source": [
    "# 'type' column 의 'PAYMENT', 'REFUND' 와 'state' column 의 'COMPLEATED' 추출 \n",
    "sales = s[(s['type'] == 'PAYMENT') + (s['type'] == 'REFUND') & (s['state'] == 'COMPLETED')]\n",
    "sales.index = range(len(sales))\n",
    "sales"
   ]
  },
  {
   "cell_type": "code",
   "execution_count": 88,
   "id": "d725dc01",
   "metadata": {
    "ExecuteTime": {
     "end_time": "2022-07-01T11:20:30.426341Z",
     "start_time": "2022-07-01T11:20:30.404715Z"
    }
   },
   "outputs": [
    {
     "name": "stdout",
     "output_type": "stream",
     "text": [
      "결제완료 49415 건 중 환불 3625 건,\n",
      "총 매출액 : 5972719534 원\n"
     ]
    }
   ],
   "source": [
    "# 'transaction_amount' column 총합으로 총 매출 및 (추가할것)취소율 확인 'type' column 'REFUND' / 'PAYMENT' * 100\n",
    "# len(s['type'] == 'REFUND') / len(s['type'] == 'PAYMENT') *100\n",
    "sale = sales['transaction_amount'].sum() \n",
    "pay = len(sales[sales['type'] == 'PAYMENT']) \n",
    "re = len(sales[sales['type'] == 'REFUND'])\n",
    "print(f'결제완료 {pay} 건 중 환불 {re} 건,\\n총 매출액 : {sale} 원') \n",
    "# print(\"환불율' : %.3f%%\" % (len(sales[sales['type'] == 'PAYMENT'])  / len(sales[sales['type'] == 'REFUND']) * 100))"
   ]
  },
  {
   "cell_type": "code",
   "execution_count": 105,
   "id": "268adbe4",
   "metadata": {
    "ExecuteTime": {
     "end_time": "2022-07-01T11:29:52.402824Z",
     "start_time": "2022-07-01T11:29:52.389105Z"
    }
   },
   "outputs": [
    {
     "name": "stdout",
     "output_type": "stream",
     "text": [
      "180 days 23:25:36\n"
     ]
    }
   ],
   "source": [
    "# # 빼기할 수 있는 방법\n",
    "# df.iloc[-1]['completed_at']\n",
    "# df.iloc[0]['completed_at']\n",
    "# s_period = df.iloc[-1]['completed_at'] - df.iloc[0]['completed_at']\n",
    "# print(s_period)"
   ]
  },
  {
   "cell_type": "markdown",
   "id": "4005a84c",
   "metadata": {},
   "source": [
    "취소 환불이 +, - 로 잘 되어있다는 가정하에\n",
    "> 총 매출 약 60억원"
   ]
  },
  {
   "cell_type": "code",
   "execution_count": null,
   "id": "b5524d9d",
   "metadata": {},
   "outputs": [],
   "source": []
  },
  {
   "cell_type": "markdown",
   "id": "067228e5",
   "metadata": {},
   "source": [
    "## 시간대, 요일, 일, 주, 월, 분기, 총 매출(반기), 6개월간 추이"
   ]
  },
  {
   "cell_type": "code",
   "execution_count": 89,
   "id": "b56f2ab6",
   "metadata": {
    "ExecuteTime": {
     "end_time": "2022-07-01T11:20:37.489815Z",
     "start_time": "2022-07-01T11:20:37.407837Z"
    },
    "scrolled": false
   },
   "outputs": [
    {
     "data": {
      "text/html": [
       "<div>\n",
       "<style scoped>\n",
       "    .dataframe tbody tr th:only-of-type {\n",
       "        vertical-align: middle;\n",
       "    }\n",
       "\n",
       "    .dataframe tbody tr th {\n",
       "        vertical-align: top;\n",
       "    }\n",
       "\n",
       "    .dataframe thead th {\n",
       "        text-align: right;\n",
       "    }\n",
       "</style>\n",
       "<table border=\"1\" class=\"dataframe\">\n",
       "  <thead>\n",
       "    <tr style=\"text-align: right;\">\n",
       "      <th></th>\n",
       "      <th>Year</th>\n",
       "      <th>Month</th>\n",
       "      <th>Day</th>\n",
       "      <th>Hour</th>\n",
       "      <th>Day of week</th>\n",
       "      <th>Week</th>\n",
       "    </tr>\n",
       "  </thead>\n",
       "  <tbody>\n",
       "    <tr>\n",
       "      <th>0</th>\n",
       "      <td>2021</td>\n",
       "      <td>3</td>\n",
       "      <td>28</td>\n",
       "      <td>15</td>\n",
       "      <td>Sunday</td>\n",
       "      <td>12</td>\n",
       "    </tr>\n",
       "    <tr>\n",
       "      <th>1</th>\n",
       "      <td>2021</td>\n",
       "      <td>3</td>\n",
       "      <td>28</td>\n",
       "      <td>15</td>\n",
       "      <td>Sunday</td>\n",
       "      <td>12</td>\n",
       "    </tr>\n",
       "    <tr>\n",
       "      <th>2</th>\n",
       "      <td>2021</td>\n",
       "      <td>3</td>\n",
       "      <td>28</td>\n",
       "      <td>15</td>\n",
       "      <td>Sunday</td>\n",
       "      <td>12</td>\n",
       "    </tr>\n",
       "    <tr>\n",
       "      <th>3</th>\n",
       "      <td>2021</td>\n",
       "      <td>3</td>\n",
       "      <td>28</td>\n",
       "      <td>15</td>\n",
       "      <td>Sunday</td>\n",
       "      <td>12</td>\n",
       "    </tr>\n",
       "    <tr>\n",
       "      <th>4</th>\n",
       "      <td>2021</td>\n",
       "      <td>3</td>\n",
       "      <td>28</td>\n",
       "      <td>15</td>\n",
       "      <td>Sunday</td>\n",
       "      <td>12</td>\n",
       "    </tr>\n",
       "    <tr>\n",
       "      <th>...</th>\n",
       "      <td>...</td>\n",
       "      <td>...</td>\n",
       "      <td>...</td>\n",
       "      <td>...</td>\n",
       "      <td>...</td>\n",
       "      <td>...</td>\n",
       "    </tr>\n",
       "    <tr>\n",
       "      <th>101097</th>\n",
       "      <td>2021</td>\n",
       "      <td>9</td>\n",
       "      <td>25</td>\n",
       "      <td>14</td>\n",
       "      <td>Saturday</td>\n",
       "      <td>38</td>\n",
       "    </tr>\n",
       "    <tr>\n",
       "      <th>101098</th>\n",
       "      <td>2021</td>\n",
       "      <td>9</td>\n",
       "      <td>25</td>\n",
       "      <td>14</td>\n",
       "      <td>Saturday</td>\n",
       "      <td>38</td>\n",
       "    </tr>\n",
       "    <tr>\n",
       "      <th>101099</th>\n",
       "      <td>2021</td>\n",
       "      <td>9</td>\n",
       "      <td>25</td>\n",
       "      <td>14</td>\n",
       "      <td>Saturday</td>\n",
       "      <td>38</td>\n",
       "    </tr>\n",
       "    <tr>\n",
       "      <th>101100</th>\n",
       "      <td>2021</td>\n",
       "      <td>9</td>\n",
       "      <td>25</td>\n",
       "      <td>14</td>\n",
       "      <td>Saturday</td>\n",
       "      <td>38</td>\n",
       "    </tr>\n",
       "    <tr>\n",
       "      <th>101101</th>\n",
       "      <td>2021</td>\n",
       "      <td>9</td>\n",
       "      <td>25</td>\n",
       "      <td>14</td>\n",
       "      <td>Saturday</td>\n",
       "      <td>38</td>\n",
       "    </tr>\n",
       "  </tbody>\n",
       "</table>\n",
       "<p>101102 rows × 6 columns</p>\n",
       "</div>"
      ],
      "text/plain": [
       "        Year  Month  Day  Hour Day of week  Week\n",
       "0       2021      3   28    15      Sunday    12\n",
       "1       2021      3   28    15      Sunday    12\n",
       "2       2021      3   28    15      Sunday    12\n",
       "3       2021      3   28    15      Sunday    12\n",
       "4       2021      3   28    15      Sunday    12\n",
       "...      ...    ...  ...   ...         ...   ...\n",
       "101097  2021      9   25    14    Saturday    38\n",
       "101098  2021      9   25    14    Saturday    38\n",
       "101099  2021      9   25    14    Saturday    38\n",
       "101100  2021      9   25    14    Saturday    38\n",
       "101101  2021      9   25    14    Saturday    38\n",
       "\n",
       "[101102 rows x 6 columns]"
      ]
     },
     "execution_count": 89,
     "metadata": {},
     "output_type": "execute_result"
    }
   ],
   "source": [
    "# 'completed_at' column, 연, 월, 일 나누기\n",
    "df['Year'] = df['completed_at'].dt.year\n",
    "df['Month'] = df['completed_at'].dt.month\n",
    "df['Day'] = df['completed_at'].dt.day\n",
    "df['Hour'] = df['completed_at'].dt.hour\n",
    "df['Day of week'] = df['completed_at'].dt.day_name()\n",
    "df['Week'] = df['completed_at'].dt.week\n",
    "df[df.columns[-6:]]"
   ]
  },
  {
   "cell_type": "code",
   "execution_count": 77,
   "id": "8c14e77e",
   "metadata": {
    "ExecuteTime": {
     "end_time": "2022-07-01T11:12:12.114246Z",
     "start_time": "2022-07-01T11:12:12.091770Z"
    }
   },
   "outputs": [],
   "source": [
    "# 결제 및 환불로 기준점\n",
    "type_a = df['type'][df['type'] != 'ORDER']"
   ]
  },
  {
   "cell_type": "markdown",
   "id": "ec54f1a2",
   "metadata": {},
   "source": [
    "### 시간대별 매출 그래프"
   ]
  },
  {
   "cell_type": "code",
   "execution_count": 78,
   "id": "141f03bf",
   "metadata": {
    "ExecuteTime": {
     "end_time": "2022-07-01T11:12:14.434436Z",
     "start_time": "2022-07-01T11:12:13.824544Z"
    }
   },
   "outputs": [
    {
     "data": {
      "text/plain": [
       "<seaborn.axisgrid.FacetGrid at 0x1f28ca73a90>"
      ]
     },
     "execution_count": 78,
     "metadata": {},
     "output_type": "execute_result"
    },
    {
     "data": {
      "image/png": "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\n",
      "text/plain": [
       "<Figure size 451.225x360 with 1 Axes>"
      ]
     },
     "metadata": {},
     "output_type": "display_data"
    }
   ],
   "source": [
    "sns.displot(data = df, x = 'Hour', y = 'transaction_amount', hue = type_a)"
   ]
  },
  {
   "cell_type": "markdown",
   "id": "76df6b3b",
   "metadata": {},
   "source": [
    "### 요일별 매출 그래프"
   ]
  },
  {
   "cell_type": "code",
   "execution_count": 115,
   "id": "31c8029e",
   "metadata": {
    "ExecuteTime": {
     "end_time": "2022-07-01T11:34:42.488257Z",
     "start_time": "2022-07-01T11:34:41.925857Z"
    }
   },
   "outputs": [
    {
     "data": {
      "text/plain": [
       "<seaborn.axisgrid.FacetGrid at 0x1f297e62700>"
      ]
     },
     "execution_count": 115,
     "metadata": {},
     "output_type": "execute_result"
    },
    {
     "data": {
      "image/png": "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\n",
      "text/plain": [
       "<Figure size 451.225x360 with 1 Axes>"
      ]
     },
     "metadata": {},
     "output_type": "display_data"
    }
   ],
   "source": [
    "sns.displot(data = df, x = 'Day of week', y = 'transaction_amount', hue = type_a)"
   ]
  },
  {
   "cell_type": "markdown",
   "id": "e34b2c8e",
   "metadata": {},
   "source": [
    "### 일별 매출 그래프"
   ]
  },
  {
   "cell_type": "code",
   "execution_count": 80,
   "id": "3836fd0c",
   "metadata": {
    "ExecuteTime": {
     "end_time": "2022-07-01T11:12:21.732421Z",
     "start_time": "2022-07-01T11:12:21.053420Z"
    }
   },
   "outputs": [
    {
     "data": {
      "text/plain": [
       "<AxesSubplot:xlabel='Day', ylabel='transaction_amount'>"
      ]
     },
     "execution_count": 80,
     "metadata": {},
     "output_type": "execute_result"
    },
    {
     "data": {
      "image/png": "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\n",
      "text/plain": [
       "<Figure size 432x288 with 1 Axes>"
      ]
     },
     "metadata": {},
     "output_type": "display_data"
    }
   ],
   "source": [
    "sns.histplot(data = df, x = 'Day', y = 'transaction_amount', hue = type_a)"
   ]
  },
  {
   "cell_type": "markdown",
   "id": "0878ef47",
   "metadata": {},
   "source": [
    "### 주별 매출 그래프 , 수정필요(코드도)"
   ]
  },
  {
   "cell_type": "code",
   "execution_count": 81,
   "id": "68929a6c",
   "metadata": {
    "ExecuteTime": {
     "end_time": "2022-07-01T11:12:51.565776Z",
     "start_time": "2022-07-01T11:12:50.881182Z"
    }
   },
   "outputs": [
    {
     "data": {
      "text/plain": [
       "<AxesSubplot:xlabel='Week', ylabel='transaction_amount'>"
      ]
     },
     "execution_count": 81,
     "metadata": {},
     "output_type": "execute_result"
    },
    {
     "data": {
      "image/png": "iVBORw0KGgoAAAANSUhEUgAAAYcAAAEUCAYAAADA7PqTAAAAOXRFWHRTb2Z0d2FyZQBNYXRwbG90bGliIHZlcnNpb24zLjMuNCwgaHR0cHM6Ly9tYXRwbG90bGliLm9yZy8QVMy6AAAACXBIWXMAAAsTAAALEwEAmpwYAAA2TElEQVR4nO3de1wU5f4H8M9yx3t2uJSaaZaW4C0N0ROmppiAkHY6mImXfnrsaKb18xoebyVEpXkpK3+9sn5ZRqaQR/OKWalZWgfjHI56NFS0ACVQAWFh5/eHPzfW3Z0Z9tnZ2V0+79fL10t2dmaeZ2fm+T7zXGYMkiRJICIiqsdH7wQQEZH7YXAgIiIrDA5ERGSFwYGIiKwwOBARkRUGByIisuJ1weHq1auIj49HYWGh7PdOnz6NsWPHYsSIEXjqqadQXl7uohQSEbk/rwoOubm5GD16NAoKCmS/J0kSnn76aUyaNAmff/457r33XrzzzjuuSSQRkQfw0zsBzpSZmYmFCxdi9uzZ5s+ysrLw/vvvw2QyoWvXrli4cCFOnjyJJk2aICYmBgAwZcoUXL58Wa9kExG5HYM3zpAeNGgQPvjgA1RVVWHhwoV47733EBgYiNdeew3BwcG48847sWXLFoSEhCA/Px8dO3bEggUL0KpVK72TTkTkFryqWelmhw8fxpkzZ/D4448jMTERe/fuxenTp1FbW4vvvvsOo0ePxpYtW9CuXTukp6frnVwiIrfhVc1KN6urq8MjjzyC1NRUAEBFRQXq6urwz3/+E+3bt0dkZCQAID4+HtOnT9czqUREbsWr7xyioqKwe/duXLp0CZIkYdGiRXj//ffRs2dPlJaW4t///jcAICcnB127dtU5tURE7sOr7xy6dOmCadOmYdy4cTCZTLj33nsxefJkBAYG4o033kBqaiqqqqoQHh6OjIwMvZNLROQ2vLJDmoiIxHh1sxIRETnGK5qVTCYTKioq4O/vD4PBoHdyiIg8giRJMBqNaNq0KXx8LO8VvCI4VFRU4MSJE3ong4jII91zzz1o3ry5xWdeERz8/f0BXM9gQECAzqkRk5eXh4iICL2T4RKNJa+NJZ9A48mrt+SzpqYGJ06cMJeh9XlFcLjRlBQQEIDAwECdUyPOG/KgVmPJa2PJJ9B48upN+bTVHM8OaSIissLgQEREVryiWYmIPJPJZEJhYSEqKir0TkqD+Pn5IT8/X+9kqNa0aVO0bdvWakSSHAYHItLNxYsXYTAY0Llz5wYVXHqrqKhA06ZN9U6GKiaTCefPn8fFixcRGhqqej3PORpE5HXKysoQFhbmUYHB0/j4+CAsLKzBb7vkESEi3dTV1dkcRknO5e/vj9ra2gatw2YlItIVn2ogr/RyteJ3WreQH1bryG/MOwciIgATJ05EaWmp3smw0rpFoOI/LTA4EBEBOHDggN5JcCsMDkTU6M2bNw8A8OCDD6Jz584wmUwAgKqqKkRHR6O0tBSDBg3Ca6+9hpEjR2LEiBH46KOPzOvn5OTgT3/6E5KSkpCcnIwff/xRl3w4E4MDETV6aWlpAICvv/4aXbp0wddffw0A2LZtG6Kjo9G6dWsAQHl5OT777DOsW7cOq1atwvHjx1FQUIAVK1bgnXfeQVZWFpYuXYpnnnkGlZWVuuXHGdghTURUz5gxY5CZmYkBAwbgk08+wezZs83LnnjiCRgMBoSFheHBBx/EgQMHEBgYiOLiYowfP978PYPBgLNnz6JLly465MA5GByIiOpJSEjA8uXL8e2336KyshJ9+vQxL/Pz+73INJlM8PHxgclkQnR0NF5//XXzsl9++aVBE87cEZuViIgA+Pr6ora2FsHBwRgxYgTmz5+P5ORki+9kZWUBuF74HzhwADExMYiOjsaBAwdw6tQpAMD+/fsxYsQIXLt2zdVZcCreORARARg2bBjGjh2L1atXY+TIkcjMzERSUpLFdwoLCzFy5EhUVlYiNTUVHTt2BAAsWbIEzz33HCRJgp+fH9auXesxj9ewh8GBiAjA8uXLAVx/dea6deuQmJho9Xa0p556CpGRkVbPVnrkkUfwyCOPuDS9WmNwICKqZ/DgwQgNDcWbb76pd1J0xeBARFRPTk5Ogz73VuyQJiIiKwwORERkxaXB4erVq4iPj0dhYaHVsjVr1mDgwIFITExEYmIiNmzY4MqkERFRPS7rc8jNzUVqaioKCgpsLs/Ly8Py5cvRs2dPVyWJiIjscNmdQ2ZmJhYuXGh31mBeXh7efvttJCQkYMmSJaiuVn6GORERacMgSZLkyh0OGjQIH3zwAdq2bWv+rKKiAjNmzMDcuXPRvn17zJ07F23atMHMmTNVbbO6uhp5eXlaJZmINOLn54dOnTqZ//5Lxlcov1rj9P20bBaAt2fHKH7vwoULSEpKQseOHWEwGGA0GhESEoJFixYhLCwM//3f/42zZ88iMzMTAJCeno5Lly7hlVdeMW/j0KFDWLZsGTZu3IgZM2bg+PHj2LNnDwICAszfSU5ORvPmzbFu3Tq89dZb+Oyzz3DrrbdapOX1119HYWEhpk6dio8++gh33XWXeVmvXr3www8/4Pnnn8f58+dRWVmJS5cuoV27dgCA6dOno1+/fhbb+89//mP3bXAREREIDLR8L4RbDGVt2rQp1q1bZ/574sSJmD9/vurgcIOtDHqao0eP4v7779c7GS7RWPLaWPIJNDyv+fn5FpPJtAgMN7arZsZycHAwwsLCsHXrVvNn6enpWLNmDVJTU3HixAmEhIQgNzcX/fr1w9y5c5GQkIBvv/0WgwcPRmVlJdLT05GWlobQ0FD4+vqiWbNm+PHHHzFo0CAAwOnTp3Hx4kW0atUKTZs2RUBAAEaPHo1nnnnGKj0XL14EACxevBiZmZnw9fU1L2vatCneeustAMDhw4exZs0a/O///q/dvAUEBKB79+4Wn8lVrN1itNKFCxewadMm8983pqATEektKioKJ0+exNatW9GnTx8MHTrUXF41bdoUL774IpYuXYrKykqsWrUKgwYNQlRUlHn9oUOHYufOnea/t2/fjtjYWNX779mzJ1q2bGlRgXYFtwgOQUFBeOWVV3Du3DlIkoQNGzZgyJAheieLiBo5o9GInTt3okePHti8ebP5MRl79+5FWVkZAKBfv3744x//iHnz5uHAgQN47rnnLLYRExOD7777DkajEQDw5ZdfYuDAgRbf2bhxo3mkZmJiIqZOnWqx/MUXX8T69etx8uRJ7TJ7E12r55MmTcL06dMRGRmJJUuW4Omnn4bRaESvXr0wYcIEPZNGRI1UcXExEhMTAQA1NTXo1q0bkpOTsWvXLvTr1w/+/v7o3LkzsrKyzO9wmDt3Lh566CG88cYbCAoKstheQEAA7r//fhw8eBC33XYb2rVrZ/Wd5ORkm81KN9x+++2YOXMm5s6da+7v0JrLg0P9Kej1b5NiY2MbdKtFnmn3oXP1/gq96W9gSHQ71yaI6CahoaHIzs62+OzFF19ETU2NuYy6evUqNm7caA4OzZo1Q4sWLdCmTRub2xw2bBh27tyJsLAwDB8+vEHpqa01ofxKDYYNfxTbtn2B1Wuu9zOUX9Gmf+YGNuyTS9Uv/BtTRy15rpqaGmzduhXr1683d+gWFRVh+PDhOHz4sEX/gj0xMTFIS0tDq1atMGXKFPzjH/9QvX8/Px+0bH59pFN6+jKMHDkSAMyfaYXBgYjcRqvmgSi74vw5Tq2aOz6KMScnB23atLEY6dOsWTP86U9/wsaNG1UFh4CAAPTq1QsAbI6o3LhxI/bs2WPx2Zw5cyxGJwHXm5eee+45LFiwwJGsNIjL5zlo4cZwLA5l9SyNJa+NJZ+AY0NZ7733Xg1TpI2b3+fgCWz91nJlp1uMViIiIvfC4EBERFbY50DkpXYeOKf4ndj+tkeH7TmkvO7DHFnm1RgciLyUvYJfDRb8xGYlIiKywuBARERW2KxERG7jzOtPoa6izOnb9W3aCu1nvKv4vcLCQgwbNsz8eGyTyYSKigokJSVh5MiR5mUmkwk+Ptfr1o8//jjGjBmDQYMGISgoCP7+/ubtTZs2DS1atLB6YmphYSFSUlKQk5ODzZs34+WXX8a2bdvwhz/8weby9PR03HbbbZAkCTU1NYiPj8fTTz9tNQ/CmRgciMhtaBEYGrrdmx+fUVRUhNjYWMTFxZmX2Zvn8M4771i8qwa4/jhtJRUVFVi4cCHeeOMNm8sHDRqE9PR0AEBlZSX++te/YvXq1ZgxY4bqfDUUm5WIiGSUlJRAkiT89ttvmu0jNjYWZ86csXiPhD1NmjTBc889h48//hhazmHmnQMRUT03nspaXV2N3377DZGRkVizZg3Cw8PNy+o3K2VkZKBz584AgMmTJ5ublTp06IDXX39d1T79/f2RlpaGKVOmIDo6WvH7d999N8rKylBaWmr1BjlnYXAgIqrnRtORyWRCeno6Tp06hf79++PChQsONSvdCCL1SZIEg8Fg8VlkZCRGjRqFhQsXYt68ebJpvLGulo8LYrMSEZENPj4+mD17NoqKivDuu8qd2fa0aNECly9ftvistLQULVu2tPrutGnTcObMGfz973+X3ebx48cRHh6OZs2aOZwuJQwORER2+Pn5Yfbs2XjzzTfN73NuqE6dOqG8vBy5ubkAro+A+vTTT202HwUEBCAtLc38bmhbrly5gpUrV2LMmDEOpUctNisREcmIiYlBz549sXLlSpt9Dn369EFqaqrd9X19ffH6669j2bJluHbtGq5du4a+ffti2rRpNr8fGRmJcePGWXRO5+TkIDExEQaDAXV1dRg6dCgmTZrk3IzehI/sdjN8vLP3aSz5BMQf2a33PAe1GsMju11653D16lUkJyfjrbfesuq0yc/PxwsvvICKigr07t0bixcvhp8fb2yIGhNnFuAkxmV9Drm5uRg9ejQKCgpsLp81axb+9re/YefOnZAkyWUv0SYiImsuq5pnZmZi4cKFmD17ttWy8+fP49q1a+jRowcAYOTIkVi1ahWeeOIJVyWPyOvwsdskwmXB4aWXXrK7rLi4GCEhIea/Q0JCUFRU5IpkEXktTyn4bY35J+dypGvZLRr1TSaTxcnh6MmSl5fnzGTp5ujRo3onQTOlNaH1/grF7nq1WzVH/JaAYof2+5vFfp27bTX0OKZFlcp5Dmvi/Dw3JK8+Pj64cOECWrZs6XEBoqKiQu8kqCJJEsrLy3Ht2rUGHRu3CA7h4eEoKSkx/33x4kWEhiqf2DfjaCXP4lhetawNa7Nt9z6mzs1zQ/NqNBpRWFiIc+eUm8DcSU1NDQICAvROhmpBQUGIiIiweGIs8PtoJVvcIji0adMGgYGB5hMrOzsbMTExeieLiDTm7++PDh066J2MBjt69Ci6d++udzI0pesM6UmTJuGnn34CALz66qtIS0vDsGHDUFlZiZSUFD2TRkTUqKm6c/iv//ov/M///I/FZ48//rhDw01zcnLM/1+3bp35/126dMGmTZsavD0iInI+2eAwffp0/Pzzzzh37hwSEhLMn9fW1npUextRY7TzoHI7fmw/zxjRRK4nGxxmz56N8+fPY8GCBViwYIH5c19fX3Tq1EnzxBGR49y14N95QEXQ6u9+ad9tMW8k9Ka/gSEeMnRYLdng0LZtW7Rt2xY7duyw+UxyIqKGcseCX436hb97j0BzDlV9Djk5OVi2bBnKy8shSZJ5HsIPP/ygdfqIiEgHqoLDK6+8grlz5+K+++7zuIkqRETUcKqCQ4sWLTB06FCt00JERG5CVUdC9+7dsX//fq3TQkREbkLVncP+/fvx4Ycfwt/fH/7+/uxzICLycqqCw/r16zVOBlHjdPNwSFvkhkgqre9twyvJdVQFh7KyMpuft2nTxplpISIiN6EqODzzzDPm/xuNRpSUlCAiIoKPuyASJFqz550BaUX1PIf6Dh8+jK1bt2qSIHJ/Sm8Yk3vJzJ6bZpmqeVuZ2m0TkfM49MjuqKgopKenOzstjY7tgtGywLRXGDa0UL2Z+gLcuR5uZLNMiTyVquDwz3/+0/x/SZKQl5eHa9euaZYoUqZlDdpTa+dqOnflsImG6HcN7nMwGAxo3bo1Fi1apFWaXE6kmUREXcNf62q2S+GJm0oT2eUKQm98mqfovH6tzhGOViJ35VCfg7eRu7B3Hzrn8AWotJ6PwXpdtU0tQzUsnH0USlID5AtLpd/zd9ZPtlQiV9h5YkHIDmnPodRf5ql33PaoCg6VlZXIyMjAV199hdraWvTv3x8vvPACmjVrpnX6XEKrNnY1tVXrfTunz0HppkSuUFGTbne8ENisRFpqbP1lqoJDWloa6urq8MYbb6Curg4fffQRli5dipdfflnr9LmEOxZ0ogxQDhAiHL1zUAo8Wh0L0WYlLX9LInekKjjk5ubi888/N//94osvIi4urkE72rp1K9auXYva2lqMGzcOY8aMsVi+Zs0afPbZZ2jRogWA668hvfk7ehBpE1ZToDjarKRUiO45dE64QBTZv5r1bs6rSBOe0jJRfBYxNTaqgkNdXR1MJpP5hT8mkwm+vr6qd1JUVIQVK1Zg8+bNCAgIQHJyMqKioizeJpeXl4fly5ejZ8+eDcyCONHmCD0opVkSqOqqCTx69Tk4SrTjl0hL7jiwQFVwiI6OxowZMzB69GgAwMcff4yoqCjVOzl48CD69u2LVq1aAQBiY2OxY8cOTJs2zfydvLw8vP322zh//jz69OmDOXPmIDAwsAFZcZzcD6/lmH/A1klhWWA6elIodSo3LE2WtKpFiwQ0QPtjRaQVd6yYqAoOc+fOxZtvvonly5ejrq4ODz74IP7617+q3klxcTFCQkLMf4eGhuLYsWPmvysqKnDvvfdi1qxZaN++vXl/M2fObEBWtCHSBq5lU4TSySRSUCqlW6QM1/JVi0rpEjke3tgvRSTHIEmi9TVla9euRXV1NWbMmAEAyMzMRF5eHpYsWWLz+//6178wf/58ZGVlqdp+dXU18vLynJRaS7/VhCp+55aAYpufl6pYt7WddUUppdtemrWm5veUo1e6ibxZRESEVUuNqjuH7du3Y9WqVSgvL7f4/NChQ6p2HB4ejiNHjpj/LikpQWjo74XEhQsXcPDgQTz22GMArs/C9vNr+JM9bGVQlJq2anu1XzXDTZUCiKNzKOTWvc7xmrDznq3UcHJ3GloO79Uzz47etajZr1ZDpQHHz12REW16PVZG5PdQInIclchVrFW/Qzo1NRV33HGHQwno168fVq9ejdLSUgQHB2PXrl1YunSpeXlQUBBeeeUVREVFoW3bttiwYQOGDBni0L4cIffjizRFqDlhHN2+Y3MofifSTCKyrp5DQkXadUXyfEtAsS5j4vU4xmqaCrVsX3fVY2Wc3ST6emaB3WUR7dQP/nEmVcGhTZs2GDx4sMM7CQsLw8yZM5GSkgKj0YjHHnsM3bp1w6RJkzB9+nRERkZiyZIlePrpp2E0GtGrVy9MmDDB4f01lFY1EUcuArUnnZY1FSXuOLKCiJxLVXBISkrCyy+/jJiYGIvmnj59+qjeUUJCAhISEiw+W7dunfn/sbGxiI2NVb09Z5Ir7Ewmx7erJrCYrEr5UIvnJtl7TIaaniK55y/JPX5Dy+Glch3SejW/qKHX87fIM4g2/XSVuTvQ625bVXA4fPgwvvrqK3zzzTcWnzeGdzr8/9QOh6g5qI4OOVVazzroqKflaCXR9znIkQtqnvpIEPIM14zabVuvCZiqgsO//vUvfPXVVy6bd+BqejaDaFUrUHoqqxwth4QSeaP4GLEyxB2vKVXB4Q9/+ANqa2u9NjjI1V7V1MDtNdFoWQNXWlekOUx033pt2x0vMCJn0OOuVlVwCAsLQ2JiIvr164eAgADz56mpqZolzF24aw1caV1fkeYwhYSLzL5ujA+wK62x/5gQNUE8tr/jAyYcHb7r+HDT35sK7RVoSttWqpDJvUtEyyfzyjWJig4QkcuzwaDPIBBVweGOO+5weBhrY6bmwhcpxLUiEhD1JHeB6pkluX37+mhbK9RyqLSjvjku30Df/x5/DffuOKUCXIRchcytO6TrPwPphsrKSqcnxh2JHHM1ndmOHnilDrAggetLy4JBr0JaEty3yAUqN89B6SGGgHzwkHuboLFWVfJsulwln+MWwY7/mv0UCv86gSbR2jr55SLPg5C9o5EAP4GKnjtWElUFhz179mDVqlWorKyEJEkwmUwoKyvDjz/+qHX6XEKuoNWykBUpcEqvyl9BrZo6fvGeuyS/7Xa3anMmi9aQ5HIsOWH7jiqqDMX2r20HAKXfGgAelln2n1/sl4b33O745KmmgdqFcV+FTfsIzPnyU1hXJDgo/SK1AkHNHZtbVQWHjIwMzJgxAx9//DEmTZqEPXv2oGnTplqnzWVEAoAIkcvv9lu0q2ooFf7ueCIrEX35kcixCpC5yjqGiR3HzjIBQOg4KWRYZNtGhdq9lv1lIuTuHPz1mcSsKVXBITg4GMOHD0d+fj4CAwOxaNEixMXFYc6cOVqnT3dKJ7Kom5sM3OH1g+46Gklk2yLzPkTX17KtWjMK+RX5PZRq9yKuXpNPWJC/4z+4UgAQuXNwx9NAVXAIDAxETU0N7rjjDuTn5yMqKgoGtz2rnUvLGoEEx9/nUK3QniySbj37HDQLHoIbFjnd5dYVrelqFRBFJn8qUfNTOpp0pb4QkZ9brn9HdOh4ZY39jRt0Ch2qgsOgQYMwefJkvPzyy/jzn/+Mo0eP4pZbbtE6bV7PAMfvHOSaKtyZlncOSqOCRIh0ksoV0krt7yK03LYIpXPgWo3j21aqNIkMw5br4Bc9v/xlDpaWd1pyVBUxU6ZMwYgRIxAWFoY333wT33//PeLj4wEA3333HR544AFNE6k1rQosNfMcrEeqWI6f9rZHOrhpeaVIaCSKTKblaqNqKBWkwQHyyx0lcleiNKJIpDBUuhMzCBxHk9zGTdqd2VpOaJWjuv55++23AwDuu+8+3HfffebP09LSsGXLFuenzE1UCzwzRemgity6K52KIoWO0roiQyTl+nA0rd2LjkMXWFfu96yqFosOcr+Zr4/jdzxK571S274cpcJfpDBUuqPWqiJYKxjljbX213freQ5yXPAiOc3JlRsizTdKhZ2Wv5xIk4LSrbfIbyIXEEW7seRqsyLNCYB2lQTRy8dfo+bFQIURfIECHbtKdw5yBaWSGoGKixK5YxUUIHaCya0vOpjCUcKnVmPpmHaEp476UTyiGgYeEVoOHhAZ7ixXU24mMJkMEOsLkaN0d1gl04GqpFLhbkmuc1aJ0vwfP4Fak9zEwBYOb/U6ueOo1wQ5D+3WdC65U1HkIriqMMtUpPalVChcE0i30pA8pYtbjkgNXEmVTPt7kGDbu8iQZrljVW0UC/Mix0JOcbn8SSBSm20WJH/ei9TClUYriQSHJjLpkutQVkMuAOhV/2ZwgHxFWKT9U+mgihz0KwqBR6QWrXTbXydQUMo1GYjWkOR+E9Hmhl/LHD8Ryq7aT1e5wnFUEizYnGGP4kxjgW1XKzQb+QhcGMr9YY6nXC4gajmPRq8na7DPAfKni5aT4ESaBJooPN5ApEaqOOJDozH/or+1XIEW4CdWiN7aXGDylMxVdmszsXSJtM/LUWou9hcosfwU2hZFCtqmCnclIh3Hcv0wWg439dg7h6ioKGekQ1dyv71Sx5wcX4WLQKSmrLSu2CMI5C8gpTsLOXI1eNE7B7mmI9F5ISLBRS6Qi9atAmSaJkX6d5oFOb6uEqXjbBI4v5QKUn+B4yjbDCx4HGWblcQ27TBVl8zp06exbt06lJWVWRQcb731FubNm6dqR1u3bsXatWtRW1uLcePGYcyYMRbL8/Pz8cILL6CiogK9e/fG4sWLLd5XrReRQkGpNqFVDRxQDkxyghXuSkTa728RrCnLkWsTFq1fi8xzkGviE02X3GEWCQ5aPnhP7v0UALDzgOPvZHjkj9rNC6r/HombJ6vuEEgzoN9ESTmqSt+5c+eiW7du6NOnj0Ojk4qKirBixQps3rwZAQEBSE5ORlRUFDp16mT+zqxZs/Diiy+iR48emD9/PjIzM/HEE080eF+OkJtots3O0zTV0PIJkXpNjAG0u83V8hrQalSP3mQfzQFtf1Nb140zng3mvHeU26bFxNIKgXkfgHIAcNs3wVVVVQm99e3gwYPo27cvWrVqBQCIjY3Fjh07zO+JOH/+PK5du4YePXoAAEaOHIlVq1a5LDjInVAitS+lVQ0Gxy8EpcAjMspqx7Fq2eVNAuSr0UOi7S87+Yv9Uvqe28Talcor7edZtM9BZHilHNHCW6vC37HZ/YAz3gQnMtJODbnrXa4Qln0TnOd3vVpRFRzat2+P4uJihIaGOrST4uJihISEmP8ODQ3FsWPH7C4PCQlBUVGRQ/tytp41R1R8y/YJpdSxpuX5JDKLeVg37d4VfrdMABD9PfobjtpfqKod237BIDJUMaJK/hzKDert8Lbl7oi6Vzt+7ioVdqKP/ZDTV5I5jgAA+2+lVEpX92tKv4n9c0D2OKqq19hPt9I5suug/JbtvcdehKrgYDKZEB8fj65duyIw8PeC46233lK1E5PJZNEcJUmSxd9Ky9XKy8tr8DoAcItMG/r5AOXXo54/avtk7nbtrEPpqe/o0WKbn0dWKWxb4cgePVpid1lk1RmFVMkfG3tpvr5tsd9EbttthLZ8vUnEnp418ukWSZdSgSW37e7Vor+nG567itu1f5y6q0j3+Zb2r2l71zKg7fmltO1bA+2fA9e3Lb/cEaqCw5AhQzBkyBCHdxIeHo4jR36/AEpKSizuQsLDw1FS8nthdfHiRYfuUiIiIiyClzP8mqP83KjwQY/aWVfhRFUxLMNe+63ith3c7v8vlV1X6TeR27aW6dZz23LrHj0qdxyVzy+RdNk7N83L7e9VPlF21O9zsLdtvc+BNuX2vyP3e7nr+SWiurrabqVaVXB49NFHcf78eXz33Xeora3FAw88gPbt26tOQL9+/bB69WqUlpYiODgYu3btwtKlS83L27Rpg8DAQPOJlZ2djZiYGNXb91gi70NUxbF7fzUFFqnXpvyscMHiKKVjqRQ8GrrdNvi9oHN022RNq+MoR1Vw+PrrrzFr1izcf//9qKurQ0ZGBtLS0vDww3Jvt/1dWFgYZs6ciZSUFBiNRjz22GPo1q0bJk2ahOnTpyMyMhKvvvoqUlNTcfXqVXTt2hUpKSlCGXMejXuaJC2H0fC5V+7B83orWUEgVcFh5cqV+PDDD81DT0+ePIlZs2apDg4AkJCQgISEBIvP1q1bZ/5/ly5dsGnTJtXbcxmRMaOaFvxqxpNotW2RTWv4m8htW+RB/sLkjoXoby23PisH5DhVwcFoNFrMSbj77rtRJ/KAHY8icIFpWX4rPmNAy0kUGs7eEyE76F8wKIlUEmSf2a1nBUKGUn4bZdzRMhC7X5BXFRyCgoLw008/ITIyEgDw008/ITg4WNOEuQ2tJzo4StOX/Co9MVDLWrjAb6LlCx00ezOTnnc0MpR+Li3vqIUqEFrWyDSsfLhhtFUVHGbNmoUpU6aYO6F//vlnrFy5UtOEuQ+R4OCmF74SxXSLNIVoeBHIBgAdLz6539MAfae726NUQGtZORGi5XGWOe899VqXoSo49O7dG9u2bUNubi5MJhN69OiBW265Reu0kdtyv1rOdfLpctvRM0IFrU7HQqQwVLwzcNf+Mrng4K7XhONkg0N2djYSExPx3nvvWXxeUFAAAJgwYYJmCSNyNj2GA3ouLQs7hW2LPJZVids+58LD+hzOnLk+U/bEiRMuSQypp1SQeepQRG8soM+3vENoEpw8jQo7TfsFFPj4CgQIDd+wJXu35K5Bx3GywWH69OkAgMGDB1sNW83KytIsUe5E68Lq5u2rfaqlyMxtZ3B02/XXuzmvv+Zs0bZ2X6fh2+dlaDsJTqtH5Orchq75BFFnc9dHKDpONjjk5OSgtrYWGRkZkCTJ/C6H2tparF69GklJSa5Io1e7uTCsP8MUcN+atFwhLv8Igt/XuzmvohT366v/+0FscddjrMRWup3xyG5yD7JXS35+Pr799ltcunQJH3zwwe8r+flh/PjxWqfNLehdQ3dX7phnLe86tMyvSLrVBuKGUtNsaWv7fHyG95ANDlOnTsXUqVOxYcMG85vb6urqIEmSW7yljbThquYoW81K7kqkAJfrc9CSHs2Kau4cGDQ8g6oS/q677sKIESPw+eef4/Tp0xg/fjzWrFmDnj17ap0+sqfOKL/c1w+/5my2uzh80Ei7y0QLab2alZToNVpJuc9BvjNT9ljt/cz+iio6X+1t29FzQM2dg5bnFzmPquBw40F7wPVHZ7zzzjtYvHgxMjMzNU2cW3DXxxtoyl3T5ZnkRyvZD+Duj+eJN1P9bKWuXbua/+7atStqamo0S5Q7CR88SsOtC4xQ8PV3XjJuIldTBdy7+UcrWtVWlX5rxfVlzk+x46Rnwa/tvnnnoY6q4BAcHIyvvvrK/I6FQ4cOoUmTJpomzF14coe0s5/V74xteyqRJinRoaxadTrL71PPCoLBKUOlnU2uv8yZ23YXqoLDCy+8gKlTp8LPzw8GgwEGgwGrV6/WOm3kxhwdykqupd0dDzukvZ2q4NC9e3d8+eWXOHHiBHx9fdGhQwcEBMi8eJlUc3QSnBoswD2Duw6xpcZNVXCoqanB/v37UVFRAQDIy8vD2bNnMXPmTE0T5w60vvg8dRKcJ+JvqR6bFhtG9Pdyx+d+qQoOM2fOxLlz51BSUoL77rsPubm5eOCBB7ROW6Og5Z1DY6N08bnjBUjeQfTcccdzV1VwyM/Px65du7Bo0SJMmDABJpMJixYtUr0TSZKQkZGBffv2wcfHB0uXLrVZAI4dOxalpaXmCXZLlixB9+7dVe/H3ej5bCOtRxR5WkGq5cWrRK9JcCI87fh6M72OhargEBoaCj8/P9x55504ceIEHnnkEVy5ckX1Tnbu3IlTp05h+/btOHPmDP7yl79g+/btFrOsJUlCQUEB9u3b51azr0VuFx0poJ3VrOSu7dhajvjgnQF5KtH5LqJDom1RVQo3adIEW7duRZcuXZCZmYmOHTuisrJS9U7279+P4cOHw8fHBx06dMBtt92GH3/8EX369DF/5/Tp0wCAiRMnoqysDI8//jiefPLJBmbH+Ty1QBEpKD21vdkdb80BfYeyuuNx0pLnnrvOL9xFqQoOf/vb35CZmYlZs2Zh06ZNGDt2bIM6o4uLixEaGmr+OyQkBL/++qvFdy5fvozo6GgsWLAARqMRKSkp6NChA/r37696P+Qc7njxiNIzT1o2K3njsRLB38N5DJLUsFcj1dTUoKSkBG3atFG9zoQJEzB58mRER0cDAJ5//nkMGjQIcXFxdtdZv349Lly4gPnz5ytuv7q6Gnl5earT0xBtypVrfOdb3uHwuo5uW0sieSYizxMREYHAwECLz1TdOezevRvffvstZs6ciREjRuDKlSuYNm0axo0bZ3edlStXIicnBwBw5coVFBcXm5ddvHjR4k4CAI4cOQKj0WgOII48+dVWBsUp1/jCHVxXzS2wHh2ZappAHE1XY3zoWmMagdZY8uot+ZSrWKsqfd9++2289NJL2LVrF3r06IElS5YgJSVFNjg8++yzePbZZwEAX3zxBT777DPEx8ejsLAQBQUFiIyMtPj+lStXsGrVKmzcuBFGoxFbtmzB4sWL1eZRM1p3SGv5JriG7Leh3HGCnZbt72zbp8ZGVXCQJAmdO3fGunXrEBMTg2bNmqEhrVHDhg3DsWPHMGLECADASy+9hKCgIBQVFWHy5MnIzs7GwIEDkZubi6SkJJhMJjzxxBMe/0hwTx3K6qnvc3DH16ISeSpVwcHHxwfbt2/HN998gzlz5mD//v0wNOBF3QaDAXPmzMGcOXMsPg8LC0N2drb57xkzZmDGjBmqt+sKWtY2bfGEGdLOGgnl7Pc5uHNwIfI0qoLDnDlzsGbNGsycORMhISFYu3YtXnjhBa3T5hY8dWicCC0n0Gk5z6Eh+24oNitRY6MqOPTu3Rvr1683/71x40at0uN2XD2ZzFkFptaFlRbbFw3ELKCJnEdVcPjxxx+xfPlylJeXW/Q1bN26VbOEkTw1MyodnVjjqYVsY2xW4h0NaUX1JLiRI0fivvvua1BfQ2OnZZOUO86oFKX1w8u02rae3DVd5PlUBQc/Pz9MmDBB67R4HU+9cL2xIHXHNBG5M1XB4e6778bx48fRuXNnrdNDjVhj7PwncleqgsO5c+cwatQo3H777RYzkNnn4J30KoBZ8BO5D9Uv+yEiosZDVXB44IEHUFZWhqqqKkiShLq6Opw967zJS0RE5F5UBYeVK1finXfeAQD4+vrCaDSiU6dObFYiIvJSPmq+lJ2djX379iE2Nha7du1CWloaOnXqpHXaiIhIJ6qCQ+vWrREaGoqOHTvi3//+N5KSknDixAmt00ZERDpRFRz8/Pxw9uxZdOzYEUeOHEFtbS2qq6u1ThsREelEVXCYMmUKFixYgIceegi7d+/GQw89hL59+2qdNiIi0omqDuna2lq8//77AICsrCycOXOGE+KIiLyYquCwYsUKPPzwwwCA4OBgdOnSRdNEERFpQct3kXjbJE5VweGee+7B2rVr0bt3bzRp0sT8edeuXTVLGBGJcfUrbsm7qAoOO3fuRG5uLj799FPzZ1VVVTh06JBmCSMiMa5+F4kncNZv4uoXVelBNjiUlZUBADp16oQPPvgAkiTBYDDAaDTiySefdEX6iIhIB7LB4fnnn8eBAwdgMBgQHR1t/tzX1xexsbEN3tnx48fx3HPPYdu2bTaXb926FWvXrkVtbS3GjRuHMWPGNHgfREQkTjY4vPvuuwCAefPmIS0tTWhHWVlZeO211+Dv729zeVFREVasWIHNmzcjICAAycnJiIqK4kxsIiIdqOpzEA0MV65cwd69e7F8+XLMmTPH5ncOHjyIvn37olWrVgCA2NhY7NixA9OmTRPaNxHADtaG4u9FqoKDqObNm2P16tUoLCy0+53i4mKEhISY/w4NDcWxY8catJ+8vDyH0+hOjh49qncSXMZleW15h+JXzmuYFo87pgK/l8fl1UHenk+XBAc1TCaTxfupb3R+N0RERITFy4g8UWMYBXFDY8mrJ+bT0TsHT8yrI7wln9XV1XYr1ZoFh5UrVyInJwcAMH36dAwePFj2++Hh4Thy5Ij575KSEoSGhmqVPCKSwSYjUvVsJUc8++yzyM7ORnZ2tmJgAIB+/frh0KFDKC0tRVVVFXbt2oWYmBitkkdERDI0Cw5qFBUVITExEQAQFhaGmTNnIiUlBUlJSYiPj0e3bt30TB4RUaPl0j6Htm3bmpuagOsBITs72/x3QkICEhISXJkkIiKyQdc7ByIick8MDkREZIXBgYiIrDA4EBGRFQYHIiKywuBARERWGByIiMgKgwMREVlhcCAiIisMDkREZMVtHtlNRM7FF/aQCAYHIi/Fgp9EsFmJiIisMDgQEZEVBgciIrLC4EBERFbYIU1ug6NriKzpdV0wOJDbYMFPZE2v68KlzUrHjx9HXFyc3eVjx45FXFwcEhMTkZiYiNzcXBemjoiIbnDZnUNWVhZee+01+Pv721wuSRIKCgqwb98++PnxhoaISE8uuXO4cuUK9u7di+XLl9v9zunTpwEAEydOxIgRI/Dhhx+6ImlERGSDS6rozZs3x+rVq1FYWGj3O5cvX0Z0dDQWLFgAo9GIlJQUdOjQAf3793dFEomIqB6DJEmSq3ZWWFiIlJQU5OTkKH53/fr1uHDhAubPn6/43erqauTl5TkjiUREjU5ERAQCAwMtPtPszmHlypXmIDB9+nQMHjxY9vtHjhyB0WhEdHQ0gOt9EA3te7CVQU9z9OhR3H///XonwyUaS14bSz6BxpNXb8mnXMVasz6HZ599FtnZ2cjOzlYMDMD1fomMjAxUV1fj6tWr2LJlC4YMGaJV8oiISIauM6SLioqQmJgIABg4cCAGDBiApKQkjBo1CqNGjULPnj31TB4RUaPl0jGjbdu2tehvCAsLQ3Z2tvnvGTNmYMaMGa5MEhER2cBnKxERkRUGByIissLgQEREVhgciIjICoMDERFZYXAgIiIrDA5ERGSFwYGIiKwwOBARkRUGByIissLgQEREVvg+TiIiN/brns8UvxP+8Cin75fBgYjIjWlR8KvBZiUiIrLC4EBERFYYHIiIyAqDAxERWWFwICIiKwwORERkhcGBiIiseMU8B0mSAAA1NTU6p8Q5qqur9U6CyzSWvDaWfAKNJ6/ekM8bZeaNMrQ+g2TrUw9z5coVnDhxQu9kEBF5pHvuuQfNmze3+MwrgoPJZEJFRQX8/f1hMBj0Tg4RkUeQJAlGoxFNmzaFj49lL4NXBAciInIudkgTEZEVBgciIrLC4EBERFYYHIiIyAqDAxERWWFwICIiKwwORERkhcFBZ1evXkV8fDwKCwsBAPPmzcPQoUORmJiIxMRE7N69W+cUOseaNWsQFxeHuLg4ZGRkAAAOHjyIhIQEDB06FCtWrNA5hc5hK5/eekxXrlyJ4cOHIy4uDu+99x4A7zymgO28eutxNZNIN//4xz+k+Ph4qWvXrtK5c+ckSZKk+Ph4qaioSOeUOdeBAwekP//5z1J1dbVUU1MjpaSkSFu3bpUGDBggnT17VjIajdLEiROlL7/8Uu+kCrGVz127dnnlMT18+LCUnJwsGY1GqaqqSho4cKCUn5/vdcdUkmzn9dSpU155XOvjnYOOMjMzsXDhQoSGhgIAqqqqcOHCBcyfPx8JCQlYtWoVTCaTzqkUFxISgrlz5yIgIAD+/v646667UFBQgPbt26Ndu3bw8/NDQkICduzYoXdShdjK54ULF7zymD7wwAP44IMP4Ofnh0uXLqGurg6XL1/2umMK2M5rUFCQVx7X+hgcdPTSSy+hd+/e5r8vXryIvn37YtmyZcjMzMSRI0ewadMmHVPoHHfffTd69OgBACgoKMAXX3wBg8GAkJAQ83dCQ0NRVFSkUwqdw1Y+H3zwQa88pgDg7++PVatWIS4uDtHR0SguLva6Y3rDzXmtra312uN6A4ODG2nXrh3eeOMNhIaGIjg4GGPHjsX+/fv1TpbTnDx5EhMnTsTs2bPRrl07i4ckSpLkNQ9NrJ/Pjh07evUxnT59Og4dOoRffvkFBQUFXntMAcu8Hjp0yKuPK8Dg4FaOHz+OnTt3mv+WJAl+fl7xyg0cPXoU48ePx/PPP49HH30U4eHhKCkpMS8vKSkxN695spvz6a3H9NSpU8jPzwcABAcHY+jQoTh8+LBXHlNbed2+fbtXHtf6GBzciCRJWLZsGcrLy2E0GvHJJ59gyJAheidL2C+//IKpU6fi1VdfRVxcHACge/fu+Pnnn3HmzBnU1dXh73//O2JiYnROqRhb+fTWY1pYWIjU1FTU1NSgpqYGe/fuRXJystcdU8B2Xvv06eOVx7U+7wp1Hq5Lly6YPHkyRo8ejdraWgwdOhTx8fF6J0vYu+++i+rqaqSnp5s/S05ORnp6Op555hlUV1djwIABGDZsmI6pFGcvn954TAcMGIBjx44hKSkJvr6+GDp0KOLi4tC6dWuvOqaA7bxOmzYNt9xyi9cd1/r4PgciIrLCZiUiIrLC4EBERFYYHIiIyAqDAxERWWFwICIiKwwORCo89dRTeP/9981///zzz+jcuTOWL19u/uzSpUuIiIjAlStXGrz9uXPn4t1333VKWomcgcGBSIWYmBgcPnzY/Pe+ffswcOBA7N271/zZt99+i169eqF58+Z6JJHIqRgciFSIiYnBkSNHzE/e3LdvHyZPnoyKigqcPXsWAHDo0CE89NBD+OGHH/DEE0/g0UcfxahRo7Bv3z7zdj799FOMHDkSSUlJGD9+PE6dOmW1r2XLlmHcuHGoqKhwTeaIbOAMaSIVOnTogBYtWuD48eO4/fbb8fPPP6NHjx6IiYlBTk4Oxo8fj0OHDmHUqFHmJqK2bduiqKgIjz/+ODp37ozCwkJkZWVhw4YNCA4OxjfffINp06bhiy++AHD9URtLlixBcXEx1q1bh4CAAJ1zTY0ZgwORSjealm699Vb069cPPj4+GDhwIDZs2ICHH34YBoMBly9fRklJCaZOnWpez2Aw4Pjx4/j+++9x5swZJCcnm5ddvnwZZWVlAID169fj0qVLyMrKYmAg3TE4EKkUExODTZs2ITAwEIMHDwYAREdHIzU11dykVFdXh7vuuguffvqpeb2ioiK0bt0ahw8fRmJiImbNmgUAMJlMKC4uRsuWLQEAffr0Qa9evTBv3jx88skn8Pf3d30mif4f+xyIVIqKikJ+fj6+++47PPjggwCAoKAgdO3aFR9++CEGDBiAHj164MyZM/j+++8BAPn5+YiNjUVRURH++Mc/Ytu2bSguLgYAfPzxxxg3bpx5+xEREXjyySfRvHlzrFmzxvUZJKqHdw5EKgUHB+POO++E0Wi0GJE0YMAAvPLKK4iKikJAQABWrVqFjIwMVFdXQ5IkZGRkoG3btmjbti0mTZqEiRMnwmAwoFmzZlizZo3FC3EMBgOWLVuGpKQkDBgwAL169dIjq0R8KisREVljsxIREVlhcCAiIisMDkREZIXBgYiIrDA4EBGRFQYHIiKywuBARERWGByIiMjK/wGYHsoIZiHksgAAAABJRU5ErkJggg==\n",
      "text/plain": [
       "<Figure size 432x288 with 1 Axes>"
      ]
     },
     "metadata": {},
     "output_type": "display_data"
    }
   ],
   "source": [
    "sns.histplot(data = df, x = 'Week', y = 'transaction_amount', hue = type_a)"
   ]
  },
  {
   "cell_type": "markdown",
   "id": "fb76f940",
   "metadata": {},
   "source": [
    "### 월별 매출 그래프"
   ]
  },
  {
   "cell_type": "code",
   "execution_count": 112,
   "id": "4036aab0",
   "metadata": {
    "ExecuteTime": {
     "end_time": "2022-07-01T11:33:08.613359Z",
     "start_time": "2022-07-01T11:33:07.561654Z"
    }
   },
   "outputs": [
    {
     "data": {
      "text/plain": [
       "<AxesSubplot:xlabel='Month', ylabel='transaction_amount'>"
      ]
     },
     "execution_count": 112,
     "metadata": {},
     "output_type": "execute_result"
    },
    {
     "data": {
      "image/png": "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\n",
      "text/plain": [
       "<Figure size 432x288 with 1 Axes>"
      ]
     },
     "metadata": {},
     "output_type": "display_data"
    }
   ],
   "source": [
    "sns.lineplot(data = df, x = 'Month', y = 'transaction_amount', hue = type_a)"
>>>>>>> upstream/main
   ]
  },
  {
   "cell_type": "markdown",
   "id": "dce17e5f",
   "metadata": {},
   "source": [
    "### 6개월(반기) 총매출 그래프"
   ]
  },
  {
<<<<<<< HEAD
=======
   "cell_type": "code",
   "execution_count": 121,
   "id": "3456218c",
   "metadata": {
    "ExecuteTime": {
     "end_time": "2022-07-01T11:41:05.521372Z",
     "start_time": "2022-07-01T11:41:05.034099Z"
    }
   },
   "outputs": [
    {
     "data": {
      "text/plain": [
       "<AxesSubplot:ylabel='transaction_amount'>"
      ]
     },
     "execution_count": 121,
     "metadata": {},
     "output_type": "execute_result"
    },
    {
     "data": {
      "image/png": "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\n",
      "text/plain": [
       "<Figure size 432x288 with 1 Axes>"
      ]
     },
     "metadata": {},
     "output_type": "display_data"
    }
   ],
   "source": [
    "sns.barplot(data = sales, y = 'transaction_amount', hue = type_a)"
   ]
  },
  {
>>>>>>> upstream/main
   "cell_type": "markdown",
   "id": "447760be",
   "metadata": {},
   "source": [
    "# 강의 분석"
   ]
  },
  {
<<<<<<< HEAD
=======
   "cell_type": "code",
   "execution_count": 122,
   "id": "6958733e",
   "metadata": {
    "ExecuteTime": {
     "end_time": "2022-07-01T11:42:09.229050Z",
     "start_time": "2022-07-01T11:42:09.180571Z"
    },
    "scrolled": true
   },
   "outputs": [
    {
     "name": "stdout",
     "output_type": "stream",
     "text": [
      "<class 'pandas.core.frame.DataFrame'>\n",
      "RangeIndex: 101102 entries, 0 to 101101\n",
      "Data columns (total 23 columns):\n",
      " #   Column                  Non-Null Count   Dtype         \n",
      "---  ------                  --------------   -----         \n",
      " 0   id                      101102 non-null  int64         \n",
      " 1   customer_id             101102 non-null  int64         \n",
      " 2   course_id               101102 non-null  int64         \n",
      " 3   type                    101102 non-null  object        \n",
      " 4   state                   101102 non-null  object        \n",
      " 5   course_title            101102 non-null  object        \n",
      " 6   category_title          101102 non-null  object        \n",
      " 7   format                  101102 non-null  object        \n",
      " 8   completed_at            101102 non-null  datetime64[ns]\n",
      " 9   transaction_amount      101102 non-null  int64         \n",
      " 10  coupon_title            101102 non-null  object        \n",
      " 11  coupon_discount_amount  101102 non-null  int64         \n",
      " 12  sale_price              101102 non-null  int64         \n",
      " 13  pg                      101102 non-null  object        \n",
      " 14  method                  101102 non-null  object        \n",
      " 15  subcategory_title       101102 non-null  object        \n",
      " 16  marketing_start_at      101102 non-null  datetime64[ns]\n",
      " 17  Year                    101102 non-null  int64         \n",
      " 18  Month                   101102 non-null  int64         \n",
      " 19  Day                     101102 non-null  int64         \n",
      " 20  Hour                    101102 non-null  int64         \n",
      " 21  Day of week             101102 non-null  object        \n",
      " 22  Week                    101102 non-null  int64         \n",
      "dtypes: datetime64[ns](2), int64(11), object(10)\n",
      "memory usage: 17.7+ MB\n"
     ]
    }
   ],
   "source": [
    "df.info()"
   ]
  },
  {
>>>>>>> upstream/main
   "cell_type": "markdown",
   "id": "5fd1259e",
   "metadata": {},
   "source": [
    "## 전체 강의 수"
   ]
  },
  {
<<<<<<< HEAD
=======
   "cell_type": "code",
   "execution_count": 134,
   "id": "d2c7c7ad",
   "metadata": {
    "ExecuteTime": {
     "end_time": "2022-07-01T11:44:00.529487Z",
     "start_time": "2022-07-01T11:44:00.493690Z"
    }
   },
   "outputs": [
    {
     "data": {
      "text/plain": [
       "610"
      ]
     },
     "execution_count": 134,
     "metadata": {},
     "output_type": "execute_result"
    }
   ],
   "source": [
    "# 판매된 강의 종 수 \n",
    "len(df.course_title.unique())"
   ]
  },
  {
>>>>>>> upstream/main
   "cell_type": "markdown",
   "id": "91a43677",
   "metadata": {},
   "source": [
    "## 전체 카테고리 수"
   ]
  },
  {
<<<<<<< HEAD
=======
   "cell_type": "code",
   "execution_count": 135,
   "id": "163386fd",
   "metadata": {
    "ExecuteTime": {
     "end_time": "2022-07-01T11:44:36.518400Z",
     "start_time": "2022-07-01T11:44:36.495898Z"
    }
   },
   "outputs": [
    {
     "data": {
      "text/plain": [
       "14"
      ]
     },
     "execution_count": 135,
     "metadata": {},
     "output_type": "execute_result"
    }
   ],
   "source": [
    "# 판매된 강의 종 수 \n",
    "len(df.category_title.unique())"
   ]
  },
  {
>>>>>>> upstream/main
   "cell_type": "markdown",
   "id": "56c7194e",
   "metadata": {},
   "source": [
    "## 가장많은(적은) 매출을 올린 강의 및 탑 10강의 매출추이"
   ]
  },
  {
<<<<<<< HEAD
=======
   "cell_type": "code",
   "execution_count": null,
   "id": "145c43d9",
   "metadata": {},
   "outputs": [],
   "source": [
    "# groub.by"
   ]
  },
  {
>>>>>>> upstream/main
   "cell_type": "markdown",
   "id": "41220109",
   "metadata": {},
   "source": [
    "### 매출 상위 1~10위 까지의  강의  목록 "
   ]
  },
  {
   "cell_type": "markdown",
   "id": "143ad8ce",
   "metadata": {},
   "source": [
    "### 매출 상위 1~10위 강의 매출 추이 그래프(6개월간)"
   ]
  },
  {
   "cell_type": "markdown",
   "id": "37400734",
   "metadata": {},
   "source": [
    "### 매출 하위 1~10위 강의목록"
   ]
  },
  {
   "cell_type": "markdown",
   "id": "5dbb8c28",
   "metadata": {},
   "source": [
    "### 매출 하위 1~10위 강의 매출 추이 그래프(6개월간)"
   ]
  },
  {
   "cell_type": "markdown",
   "id": "802928f7",
   "metadata": {},
   "source": [
    "## 가장많은(적은) 매출을 올린 카테고리 탑 10카테고리 매출추이"
   ]
  },
  {
   "cell_type": "markdown",
   "id": "b73e5c5a",
   "metadata": {},
   "source": [
    "### 매출 상위 1~10위 까지의  카테고리  목록"
   ]
  },
  {
   "cell_type": "markdown",
   "id": "99a4fb24",
   "metadata": {},
   "source": [
    "### 매출 상위 1~10위 카테고리 매출 추이 그래프(6개월간)"
   ]
  },
  {
   "cell_type": "markdown",
   "id": "b9a006b2",
   "metadata": {},
   "source": [
    "### 매출 하위 1~10위 카테고리목록"
   ]
  },
  {
   "cell_type": "markdown",
   "id": "13ede8b0",
   "metadata": {},
   "source": [
    "### 매출 하위 1~10위 카테고리 매출 추이 그래프(6개월간)"
   ]
  },
  {
   "cell_type": "markdown",
   "id": "4d84c831",
   "metadata": {},
   "source": [
    "# 수강 신청 행동 패턴 분석"
   ]
  },
  {
   "cell_type": "markdown",
   "id": "db7bb03d",
   "metadata": {},
   "source": [
    "## cancelled 가장 많은 강좌(구매가 많은게 환불이 많은가? 주의)"
   ]
  },
  {
   "cell_type": "markdown",
   "id": "8f06412d",
   "metadata": {},
   "source": [
    "### 취소가 많은  1~20위 까지의  강의  목록(cancelled)"
   ]
  },
  {
   "cell_type": "markdown",
   "id": "f2fa8966",
   "metadata": {},
   "source": [
    "### 취소가 가장 적은 1~20위 강의 목록"
   ]
  },
  {
   "cell_type": "markdown",
   "id": "4c0d021f",
   "metadata": {},
   "source": [
    "### 환불이 많은  1~20위 까지의  강의  목록(refund)"
   ]
  },
  {
   "cell_type": "markdown",
   "id": "a7bc00ac",
   "metadata": {},
   "source": [
    "### 환불률이 가장 적은 1~20위 강의 목록"
   ]
  },
  {
   "cell_type": "markdown",
   "id": "7f33435e",
   "metadata": {},
   "source": [
    "### 구매률과 환불률의 상관관계"
   ]
  },
  {
   "cell_type": "markdown",
   "id": "dbf16318",
   "metadata": {},
   "source": [
    "# PG사 목록"
   ]
  },
  {
   "cell_type": "markdown",
   "id": "0b463f27",
   "metadata": {},
   "source": [
    "## 기존 PG사 vs 신규 pg사 점유율 현황"
   ]
  },
  {
   "cell_type": "markdown",
   "id": "5f6cf687",
   "metadata": {},
   "source": [
    "### 기존 PG사 vs 신규 pg사 기간별 점유율 변동 변화추이"
   ]
  },
  {
   "cell_type": "markdown",
   "id": "397fc765",
   "metadata": {},
   "source": [
    "# VIP그룹 분석"
   ]
  },
  {
   "cell_type": "markdown",
   "id": "bbcce57b",
   "metadata": {},
   "source": [
    "## VIP 그룹 정의"
   ]
  },
  {
   "cell_type": "markdown",
   "id": "2969f67b",
   "metadata": {},
   "source": [
    "## 일반 고객 평균 결제 횟수 vs VIP 고객 평균 결제 횟수"
   ]
  },
  {
   "cell_type": "markdown",
   "id": "02dd3f3c",
   "metadata": {},
   "source": [
    "## VIP 그룹 특징"
   ]
  },
  {
   "cell_type": "markdown",
   "id": "cada2ef7",
   "metadata": {},
   "source": [
    "# 쿠폰 사용 분석"
   ]
  },
  {
   "cell_type": "markdown",
   "id": "08611340",
   "metadata": {},
   "source": [
    "## 전체구매건 중 쿠폰사용한 구매비율"
   ]
  },
  {
   "cell_type": "markdown",
   "id": "7111e7d5",
   "metadata": {},
   "source": [
    "## 매출에 대한 쿠폰의 중요도 분석"
   ]
  },
  {
   "cell_type": "markdown",
   "id": "677f1548",
   "metadata": {},
   "source": [
    "# 패키지 강의 vs 단품 강의"
   ]
  },
  {
   "cell_type": "markdown",
   "id": "d7c66b55",
   "metadata": {},
   "source": [
    "# 레드는 과연 성공했는가?"
   ]
  },
  {
   "cell_type": "code",
   "execution_count": null,
   "id": "9fd2e22a",
   "metadata": {},
   "outputs": [],
   "source": []
  },
  {
   "cell_type": "code",
   "execution_count": null,
   "id": "2322dd95",
   "metadata": {},
   "outputs": [],
   "source": []
  },
  {
   "cell_type": "code",
   "execution_count": null,
   "id": "f2f272af",
   "metadata": {},
   "outputs": [],
   "source": []
  },
  {
   "cell_type": "code",
   "execution_count": null,
   "id": "9cc18912",
   "metadata": {},
   "outputs": [],
   "source": []
  },
  {
   "cell_type": "code",
   "execution_count": null,
   "id": "d9dfd20b",
   "metadata": {},
   "outputs": [],
   "source": []
  }
 ],
 "metadata": {
  "kernelspec": {
<<<<<<< HEAD
   "display_name": "Python 3 (ipykernel)",
=======
   "display_name": "Python 3",
>>>>>>> upstream/main
   "language": "python",
   "name": "python3"
  },
  "language_info": {
   "codemirror_mode": {
    "name": "ipython",
    "version": 3
   },
   "file_extension": ".py",
   "mimetype": "text/x-python",
   "name": "python",
   "nbconvert_exporter": "python",
   "pygments_lexer": "ipython3",
<<<<<<< HEAD
   "version": "3.9.12"
=======
   "version": "3.8.8"
>>>>>>> upstream/main
  },
  "toc": {
   "base_numbering": 1,
   "nav_menu": {},
   "number_sections": true,
   "sideBar": true,
   "skip_h1_title": false,
   "title_cell": "Table of Contents",
   "title_sidebar": "Contents",
   "toc_cell": false,
   "toc_position": {},
   "toc_section_display": true,
   "toc_window_display": false
  },
  "varInspector": {
   "cols": {
    "lenName": 16,
    "lenType": 16,
    "lenVar": 40
   },
   "kernels_config": {
    "python": {
     "delete_cmd_postfix": "",
     "delete_cmd_prefix": "del ",
     "library": "var_list.py",
     "varRefreshCmd": "print(var_dic_list())"
    },
    "r": {
     "delete_cmd_postfix": ") ",
     "delete_cmd_prefix": "rm(",
     "library": "var_list.r",
     "varRefreshCmd": "cat(var_dic_list()) "
    }
   },
   "types_to_exclude": [
    "module",
    "function",
    "builtin_function_or_method",
    "instance",
    "_Feature"
   ],
   "window_display": false
  }
 },
 "nbformat": 4,
 "nbformat_minor": 5
}

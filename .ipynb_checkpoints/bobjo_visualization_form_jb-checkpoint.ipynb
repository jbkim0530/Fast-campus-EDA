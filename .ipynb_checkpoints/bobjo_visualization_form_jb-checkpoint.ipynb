{
 "cells": [
  {
   "cell_type": "markdown",
   "id": "881f8b95",
   "metadata": {},
   "source": [
    "데이터 시각화 양식\n",
    "\n",
    "양식의 순서는 지키되 참고만 하고 자유롭게 더하거나 빼서 분석하세요."
   ]
  },
  {
   "cell_type": "code",
   "execution_count": 1,
   "id": "34d8d9cc",
   "metadata": {
    "ExecuteTime": {
     "end_time": "2022-07-03T10:51:30.246642Z",
     "start_time": "2022-07-03T10:51:28.629482Z"
    }
   },
   "outputs": [],
   "source": [
    "import numpy as np\n",
    "import pandas as pd\n",
    "import matplotlib.pyplot as plt\n",
    "import seaborn as sns\n",
    "\n",
    "import time\n",
    "import json\n",
    "import urllib\n",
    "import requests\n",
    "from bs4 import BeautifulSoup\n",
    "import random\n",
    "import time\n",
    "import warnings\n",
    "warnings.filterwarnings(action='ignore')"
   ]
  },
  {
   "cell_type": "code",
   "execution_count": 2,
   "id": "0d975706",
   "metadata": {
    "ExecuteTime": {
     "end_time": "2022-07-03T10:51:34.645225Z",
     "start_time": "2022-07-03T10:51:31.595445Z"
    },
    "scrolled": true
   },
   "outputs": [
    {
     "name": "stdout",
     "output_type": "stream",
     "text": [
      "Requirement already satisfied: matplotlib in c:\\users\\beom\\anaconda3\\envs\\datascience\\lib\\site-packages (3.3.4)\n",
      "Requirement already satisfied: cycler>=0.10 in c:\\users\\beom\\anaconda3\\envs\\datascience\\lib\\site-packages (from matplotlib) (0.10.0)\n",
      "Requirement already satisfied: numpy>=1.15 in c:\\users\\beom\\anaconda3\\envs\\datascience\\lib\\site-packages (from matplotlib) (1.20.1)\n",
      "Requirement already satisfied: kiwisolver>=1.0.1 in c:\\users\\beom\\anaconda3\\envs\\datascience\\lib\\site-packages (from matplotlib) (1.3.1)\n",
      "Requirement already satisfied: pillow>=6.2.0 in c:\\users\\beom\\anaconda3\\envs\\datascience\\lib\\site-packages (from matplotlib) (8.2.0)\n",
      "Requirement already satisfied: pyparsing!=2.0.4,!=2.1.2,!=2.1.6,>=2.0.3 in c:\\users\\beom\\anaconda3\\envs\\datascience\\lib\\site-packages (from matplotlib) (2.4.7)\n",
      "Requirement already satisfied: python-dateutil>=2.1 in c:\\users\\beom\\anaconda3\\envs\\datascience\\lib\\site-packages (from matplotlib) (2.8.1)\n",
      "Requirement already satisfied: six in c:\\users\\beom\\anaconda3\\envs\\datascience\\lib\\site-packages (from cycler>=0.10->matplotlib) (1.15.0)\n"
     ]
    }
   ],
   "source": [
    "!pip install matplotlib\n",
    "%matplotlib inline \n",
    "# %matplotlib notebook \n",
    "\n",
    "from numpy import sin, cos\n",
    "\n",
    "from cycler import cycler\n",
    "import matplotlib as mpl\n",
    "\n",
    "mpl.rcParams['axes.unicode_minus'] = False\n",
    "import platform\n",
    "\n",
    "import matplotlib.font_manager as fm\n",
    "fm.findSystemFonts(fontpaths=None, fontext='ttf')\n",
    "plt.rc('font', family='NanumBarunGothic')\n",
    "\n",
    "from glob import glob\n",
    "\n",
    "import scipy.integrate as integrate\n",
    "import matplotlib.animation as animation\n",
    "from collections import deque\n",
    "\n",
    "# # seaborn 예제 파일 불러오기\n",
    "# penguins = sns.load_dataset('penguins')"
   ]
  },
  {
   "cell_type": "code",
   "execution_count": null,
   "id": "f396ba11",
   "metadata": {
    "ExecuteTime": {
     "end_time": "2022-06-30T10:27:51.984875Z",
     "start_time": "2022-06-30T10:27:51.962875Z"
    }
   },
   "outputs": [],
   "source": [
    "# del df\n",
    "\n",
    "# df.completed_at = pd.to_datetime(df.completed_at, )\n",
    "# df.marketing_start_at = pd.to_datetime(df.marketing_start_at, )\n",
    "\n"
   ]
  },
  {
   "cell_type": "code",
   "execution_count": 3,
   "id": "3c43ea50",
   "metadata": {
    "ExecuteTime": {
     "end_time": "2022-07-03T10:51:37.313728Z",
     "start_time": "2022-07-03T10:51:36.906806Z"
    },
    "scrolled": true
   },
   "outputs": [
    {
     "data": {
      "text/html": [
       "<div>\n",
       "<style scoped>\n",
       "    .dataframe tbody tr th:only-of-type {\n",
       "        vertical-align: middle;\n",
       "    }\n",
       "\n",
       "    .dataframe tbody tr th {\n",
       "        vertical-align: top;\n",
       "    }\n",
       "\n",
       "    .dataframe thead th {\n",
       "        text-align: right;\n",
       "    }\n",
       "</style>\n",
       "<table border=\"1\" class=\"dataframe\">\n",
       "  <thead>\n",
       "    <tr style=\"text-align: right;\">\n",
       "      <th></th>\n",
       "      <th>id</th>\n",
       "      <th>customer_id</th>\n",
       "      <th>course_id</th>\n",
       "      <th>type</th>\n",
       "      <th>state</th>\n",
       "      <th>course_title</th>\n",
       "      <th>category_title</th>\n",
       "      <th>format</th>\n",
       "      <th>completed_at</th>\n",
       "      <th>transaction_amount</th>\n",
       "      <th>coupon_title</th>\n",
       "      <th>coupon_discount_amount</th>\n",
       "      <th>sale_price</th>\n",
       "      <th>pg</th>\n",
       "      <th>method</th>\n",
       "      <th>subcategory_title</th>\n",
       "      <th>marketing_start_at</th>\n",
       "    </tr>\n",
       "  </thead>\n",
       "  <tbody>\n",
       "    <tr>\n",
       "      <th>0</th>\n",
       "      <td>970634</td>\n",
       "      <td>504760</td>\n",
       "      <td>201435</td>\n",
       "      <td>ORDER</td>\n",
       "      <td>CANCELLED</td>\n",
       "      <td>올인원 패키지 : 알고리즘 기술면접 완전 정복</td>\n",
       "      <td>프로그래밍</td>\n",
       "      <td>올인원</td>\n",
       "      <td>2021-03-28 15:00:11</td>\n",
       "      <td>90500</td>\n",
       "      <td>미적용</td>\n",
       "      <td>0</td>\n",
       "      <td>110500</td>\n",
       "      <td>COMM</td>\n",
       "      <td>VBANK</td>\n",
       "      <td>개발자 커리어</td>\n",
       "      <td>2018-11-11 00:00:00</td>\n",
       "    </tr>\n",
       "    <tr>\n",
       "      <th>1</th>\n",
       "      <td>970650</td>\n",
       "      <td>432862</td>\n",
       "      <td>203178</td>\n",
       "      <td>ORDER</td>\n",
       "      <td>CANCELLED</td>\n",
       "      <td>초격차 패키지 : 한번에 끝내는 영상 촬영과 편집</td>\n",
       "      <td>영상/3D</td>\n",
       "      <td>올인원</td>\n",
       "      <td>2021-03-28 15:16:53</td>\n",
       "      <td>96000</td>\n",
       "      <td>미적용</td>\n",
       "      <td>0</td>\n",
       "      <td>116000</td>\n",
       "      <td>COMM</td>\n",
       "      <td>CARD</td>\n",
       "      <td>영상 편집</td>\n",
       "      <td>2020-12-02 00:00:00</td>\n",
       "    </tr>\n",
       "    <tr>\n",
       "      <th>2</th>\n",
       "      <td>970657</td>\n",
       "      <td>72297</td>\n",
       "      <td>204246</td>\n",
       "      <td>PAYMENT</td>\n",
       "      <td>COMPLETED</td>\n",
       "      <td>시크릿코드 : 프론트엔드 실무 완성편</td>\n",
       "      <td>프로그래밍</td>\n",
       "      <td>스쿨 온라인</td>\n",
       "      <td>2021-03-28 15:21:43</td>\n",
       "      <td>171810</td>\n",
       "      <td>[10% 할인] 시크릿코드 실무 완성편</td>\n",
       "      <td>19090</td>\n",
       "      <td>190900</td>\n",
       "      <td>COMM</td>\n",
       "      <td>CARD</td>\n",
       "      <td>프로그래밍</td>\n",
       "      <td>2021-03-04 00:00:00</td>\n",
       "    </tr>\n",
       "    <tr>\n",
       "      <th>3</th>\n",
       "      <td>970656</td>\n",
       "      <td>72297</td>\n",
       "      <td>204246</td>\n",
       "      <td>ORDER</td>\n",
       "      <td>CANCELLED</td>\n",
       "      <td>시크릿코드 : 프론트엔드 실무 완성편</td>\n",
       "      <td>프로그래밍</td>\n",
       "      <td>스쿨 온라인</td>\n",
       "      <td>2021-03-28 15:21:43</td>\n",
       "      <td>171810</td>\n",
       "      <td>미적용</td>\n",
       "      <td>0</td>\n",
       "      <td>190900</td>\n",
       "      <td>COMM</td>\n",
       "      <td>CARD</td>\n",
       "      <td>프로그래밍</td>\n",
       "      <td>2021-03-04 00:00:00</td>\n",
       "    </tr>\n",
       "    <tr>\n",
       "      <th>4</th>\n",
       "      <td>970658</td>\n",
       "      <td>478028</td>\n",
       "      <td>201797</td>\n",
       "      <td>PAYMENT</td>\n",
       "      <td>COMPLETED</td>\n",
       "      <td>올인원 패키지 : 직장인 필수 스킬 3종 세트 MAX</td>\n",
       "      <td>업무 생산성</td>\n",
       "      <td>올인원</td>\n",
       "      <td>2021-03-28 15:21:54</td>\n",
       "      <td>97500</td>\n",
       "      <td>[웰컴쿠폰] 올인원 패키지 2만원 할인 쿠폰</td>\n",
       "      <td>20000</td>\n",
       "      <td>117500</td>\n",
       "      <td>COMM</td>\n",
       "      <td>CARD</td>\n",
       "      <td>PPT/보고서</td>\n",
       "      <td>2019-11-14 00:00:00</td>\n",
       "    </tr>\n",
       "  </tbody>\n",
       "</table>\n",
       "</div>"
      ],
      "text/plain": [
       "       id  customer_id  course_id     type      state  \\\n",
       "0  970634       504760     201435    ORDER  CANCELLED   \n",
       "1  970650       432862     203178    ORDER  CANCELLED   \n",
       "2  970657        72297     204246  PAYMENT  COMPLETED   \n",
       "3  970656        72297     204246    ORDER  CANCELLED   \n",
       "4  970658       478028     201797  PAYMENT  COMPLETED   \n",
       "\n",
       "                    course_title category_title  format         completed_at  \\\n",
       "0      올인원 패키지 : 알고리즘 기술면접 완전 정복          프로그래밍     올인원  2021-03-28 15:00:11   \n",
       "1    초격차 패키지 : 한번에 끝내는 영상 촬영과 편집          영상/3D     올인원  2021-03-28 15:16:53   \n",
       "2           시크릿코드 : 프론트엔드 실무 완성편          프로그래밍  스쿨 온라인  2021-03-28 15:21:43   \n",
       "3           시크릿코드 : 프론트엔드 실무 완성편          프로그래밍  스쿨 온라인  2021-03-28 15:21:43   \n",
       "4  올인원 패키지 : 직장인 필수 스킬 3종 세트 MAX         업무 생산성     올인원  2021-03-28 15:21:54   \n",
       "\n",
       "   transaction_amount              coupon_title  coupon_discount_amount  \\\n",
       "0               90500                       미적용                       0   \n",
       "1               96000                       미적용                       0   \n",
       "2              171810     [10% 할인] 시크릿코드 실무 완성편                   19090   \n",
       "3              171810                       미적용                       0   \n",
       "4               97500  [웰컴쿠폰] 올인원 패키지 2만원 할인 쿠폰                   20000   \n",
       "\n",
       "   sale_price    pg method subcategory_title   marketing_start_at  \n",
       "0      110500  COMM  VBANK           개발자 커리어  2018-11-11 00:00:00  \n",
       "1      116000  COMM   CARD             영상 편집  2020-12-02 00:00:00  \n",
       "2      190900  COMM   CARD             프로그래밍  2021-03-04 00:00:00  \n",
       "3      190900  COMM   CARD             프로그래밍  2021-03-04 00:00:00  \n",
       "4      117500  COMM   CARD           PPT/보고서  2019-11-14 00:00:00  "
      ]
     },
     "execution_count": 3,
     "metadata": {},
     "output_type": "execute_result"
    }
   ],
   "source": [
    "sns.set_theme(style='whitegrid') \n",
    "df = pd.read_csv('./data/facam_vi.csv')\n",
    "df.head()"
   ]
  },
  {
   "cell_type": "code",
   "execution_count": 4,
   "id": "baf22569",
   "metadata": {
    "ExecuteTime": {
     "end_time": "2022-07-03T10:51:40.723870Z",
     "start_time": "2022-07-03T10:51:40.584255Z"
    },
    "scrolled": true
   },
   "outputs": [
    {
     "name": "stdout",
     "output_type": "stream",
     "text": [
      "<class 'pandas.core.frame.DataFrame'>\n",
      "RangeIndex: 101102 entries, 0 to 101101\n",
      "Data columns (total 17 columns):\n",
      " #   Column                  Non-Null Count   Dtype         \n",
      "---  ------                  --------------   -----         \n",
      " 0   id                      101102 non-null  int64         \n",
      " 1   customer_id             101102 non-null  int64         \n",
      " 2   course_id               101102 non-null  int64         \n",
      " 3   type                    101102 non-null  object        \n",
      " 4   state                   101102 non-null  object        \n",
      " 5   course_title            101102 non-null  object        \n",
      " 6   category_title          101102 non-null  object        \n",
      " 7   format                  101102 non-null  object        \n",
      " 8   completed_at            101102 non-null  datetime64[ns]\n",
      " 9   transaction_amount      101102 non-null  int64         \n",
      " 10  coupon_title            101102 non-null  object        \n",
      " 11  coupon_discount_amount  101102 non-null  int64         \n",
      " 12  sale_price              101102 non-null  int64         \n",
      " 13  pg                      101102 non-null  object        \n",
      " 14  method                  101102 non-null  object        \n",
      " 15  subcategory_title       101102 non-null  object        \n",
      " 16  marketing_start_at      101102 non-null  datetime64[ns]\n",
      "dtypes: datetime64[ns](2), int64(6), object(9)\n",
      "memory usage: 13.1+ MB\n"
     ]
    }
   ],
   "source": [
    "df.completed_at = pd.to_datetime(df.completed_at, )\n",
    "df.marketing_start_at = pd.to_datetime(df.marketing_start_at, )\n",
    "df.info()"
   ]
  },
  {
   "cell_type": "markdown",
   "id": "13f703b1",
   "metadata": {},
   "source": [
    "> 17 columns, 101102 index, 1718734 rows, notnull data"
   ]
  },
  {
   "cell_type": "code",
   "execution_count": 5,
   "id": "0d43bc10",
   "metadata": {
    "ExecuteTime": {
     "end_time": "2022-07-03T10:51:56.662000Z",
     "start_time": "2022-07-03T10:51:56.635314Z"
    }
   },
   "outputs": [],
   "source": [
    "df.loc[(df.category_title == '데이터 사이언스'), 'category_title'] = '데이터사이언스'"
   ]
  },
  {
   "cell_type": "code",
   "execution_count": 33,
   "id": "394350aa",
   "metadata": {
    "ExecuteTime": {
     "end_time": "2022-07-03T11:04:00.662673Z",
     "start_time": "2022-07-03T11:04:00.586686Z"
    }
   },
   "outputs": [],
   "source": [
    "trsh = df['course_title'].str.contains('테스트용')\n",
    "df = df[~trsh]"
   ]
  },
  {
   "cell_type": "code",
   "execution_count": 58,
   "id": "03cafdea",
   "metadata": {
    "ExecuteTime": {
     "end_time": "2022-07-03T11:13:11.655832Z",
     "start_time": "2022-07-03T11:13:11.585201Z"
    }
   },
   "outputs": [],
   "source": [
    "trsh = df['course_title'].str.contains('test')\n",
    "df = df[~trsh]"
   ]
  },
  {
   "cell_type": "code",
   "execution_count": 34,
   "id": "49fa3602",
   "metadata": {
    "ExecuteTime": {
     "end_time": "2022-07-03T11:04:04.974620Z",
     "start_time": "2022-07-03T11:04:04.901755Z"
    }
   },
   "outputs": [
    {
     "data": {
      "text/html": [
       "<div>\n",
       "<style scoped>\n",
       "    .dataframe tbody tr th:only-of-type {\n",
       "        vertical-align: middle;\n",
       "    }\n",
       "\n",
       "    .dataframe tbody tr th {\n",
       "        vertical-align: top;\n",
       "    }\n",
       "\n",
       "    .dataframe thead th {\n",
       "        text-align: right;\n",
       "    }\n",
       "</style>\n",
       "<table border=\"1\" class=\"dataframe\">\n",
       "  <thead>\n",
       "    <tr style=\"text-align: right;\">\n",
       "      <th></th>\n",
       "      <th>id</th>\n",
       "      <th>customer_id</th>\n",
       "      <th>course_id</th>\n",
       "      <th>transaction_amount</th>\n",
       "      <th>coupon_discount_amount</th>\n",
       "      <th>sale_price</th>\n",
       "      <th>Year</th>\n",
       "      <th>Month</th>\n",
       "      <th>Day</th>\n",
       "      <th>Hour</th>\n",
       "      <th>Week</th>\n",
       "    </tr>\n",
       "  </thead>\n",
       "  <tbody>\n",
       "    <tr>\n",
       "      <th>count</th>\n",
       "      <td>1.010970e+05</td>\n",
       "      <td>101097.000000</td>\n",
       "      <td>101097.000000</td>\n",
       "      <td>1.010970e+05</td>\n",
       "      <td>101097.000000</td>\n",
       "      <td>1.010970e+05</td>\n",
       "      <td>101097.0</td>\n",
       "      <td>101097.000000</td>\n",
       "      <td>101097.000000</td>\n",
       "      <td>101097.000000</td>\n",
       "      <td>101097.000000</td>\n",
       "    </tr>\n",
       "    <tr>\n",
       "      <th>mean</th>\n",
       "      <td>1.145512e+06</td>\n",
       "      <td>415905.575803</td>\n",
       "      <td>208725.090814</td>\n",
       "      <td>1.286620e+05</td>\n",
       "      <td>14423.898533</td>\n",
       "      <td>1.591934e+05</td>\n",
       "      <td>2021.0</td>\n",
       "      <td>5.900897</td>\n",
       "      <td>17.652067</td>\n",
       "      <td>14.785483</td>\n",
       "      <td>23.663709</td>\n",
       "    </tr>\n",
       "    <tr>\n",
       "      <th>std</th>\n",
       "      <td>1.125076e+05</td>\n",
       "      <td>206631.705388</td>\n",
       "      <td>21272.481987</td>\n",
       "      <td>1.298393e+05</td>\n",
       "      <td>35685.103261</td>\n",
       "      <td>1.145759e+05</td>\n",
       "      <td>0.0</td>\n",
       "      <td>1.672058</td>\n",
       "      <td>9.431886</td>\n",
       "      <td>6.148865</td>\n",
       "      <td>7.179271</td>\n",
       "    </tr>\n",
       "    <tr>\n",
       "      <th>min</th>\n",
       "      <td>5.679930e+05</td>\n",
       "      <td>16.000000</td>\n",
       "      <td>2516.000000</td>\n",
       "      <td>-1.800000e+06</td>\n",
       "      <td>0.000000</td>\n",
       "      <td>0.000000e+00</td>\n",
       "      <td>2021.0</td>\n",
       "      <td>3.000000</td>\n",
       "      <td>1.000000</td>\n",
       "      <td>0.000000</td>\n",
       "      <td>12.000000</td>\n",
       "    </tr>\n",
       "    <tr>\n",
       "      <th>25%</th>\n",
       "      <td>1.047140e+06</td>\n",
       "      <td>228975.000000</td>\n",
       "      <td>203146.000000</td>\n",
       "      <td>8.900000e+04</td>\n",
       "      <td>0.000000</td>\n",
       "      <td>1.100000e+05</td>\n",
       "      <td>2021.0</td>\n",
       "      <td>5.000000</td>\n",
       "      <td>9.000000</td>\n",
       "      <td>11.000000</td>\n",
       "      <td>17.000000</td>\n",
       "    </tr>\n",
       "    <tr>\n",
       "      <th>50%</th>\n",
       "      <td>1.133843e+06</td>\n",
       "      <td>500272.000000</td>\n",
       "      <td>203787.000000</td>\n",
       "      <td>1.190000e+05</td>\n",
       "      <td>0.000000</td>\n",
       "      <td>1.340000e+05</td>\n",
       "      <td>2021.0</td>\n",
       "      <td>6.000000</td>\n",
       "      <td>18.000000</td>\n",
       "      <td>15.000000</td>\n",
       "      <td>23.000000</td>\n",
       "    </tr>\n",
       "    <tr>\n",
       "      <th>75%</th>\n",
       "      <td>1.238850e+06</td>\n",
       "      <td>565950.000000</td>\n",
       "      <td>204870.000000</td>\n",
       "      <td>1.580000e+05</td>\n",
       "      <td>10000.000000</td>\n",
       "      <td>1.710000e+05</td>\n",
       "      <td>2021.0</td>\n",
       "      <td>7.000000</td>\n",
       "      <td>27.000000</td>\n",
       "      <td>20.000000</td>\n",
       "      <td>29.000000</td>\n",
       "    </tr>\n",
       "    <tr>\n",
       "      <th>max</th>\n",
       "      <td>1.381657e+06</td>\n",
       "      <td>670896.000000</td>\n",
       "      <td>300000.000000</td>\n",
       "      <td>1.800000e+06</td>\n",
       "      <td>674000.000000</td>\n",
       "      <td>1.800000e+06</td>\n",
       "      <td>2021.0</td>\n",
       "      <td>9.000000</td>\n",
       "      <td>31.000000</td>\n",
       "      <td>23.000000</td>\n",
       "      <td>38.000000</td>\n",
       "    </tr>\n",
       "  </tbody>\n",
       "</table>\n",
       "</div>"
      ],
      "text/plain": [
       "                 id    customer_id      course_id  transaction_amount  \\\n",
       "count  1.010970e+05  101097.000000  101097.000000        1.010970e+05   \n",
       "mean   1.145512e+06  415905.575803  208725.090814        1.286620e+05   \n",
       "std    1.125076e+05  206631.705388   21272.481987        1.298393e+05   \n",
       "min    5.679930e+05      16.000000    2516.000000       -1.800000e+06   \n",
       "25%    1.047140e+06  228975.000000  203146.000000        8.900000e+04   \n",
       "50%    1.133843e+06  500272.000000  203787.000000        1.190000e+05   \n",
       "75%    1.238850e+06  565950.000000  204870.000000        1.580000e+05   \n",
       "max    1.381657e+06  670896.000000  300000.000000        1.800000e+06   \n",
       "\n",
       "       coupon_discount_amount    sale_price      Year          Month  \\\n",
       "count           101097.000000  1.010970e+05  101097.0  101097.000000   \n",
       "mean             14423.898533  1.591934e+05    2021.0       5.900897   \n",
       "std              35685.103261  1.145759e+05       0.0       1.672058   \n",
       "min                  0.000000  0.000000e+00    2021.0       3.000000   \n",
       "25%                  0.000000  1.100000e+05    2021.0       5.000000   \n",
       "50%                  0.000000  1.340000e+05    2021.0       6.000000   \n",
       "75%              10000.000000  1.710000e+05    2021.0       7.000000   \n",
       "max             674000.000000  1.800000e+06    2021.0       9.000000   \n",
       "\n",
       "                 Day           Hour           Week  \n",
       "count  101097.000000  101097.000000  101097.000000  \n",
       "mean       17.652067      14.785483      23.663709  \n",
       "std         9.431886       6.148865       7.179271  \n",
       "min         1.000000       0.000000      12.000000  \n",
       "25%         9.000000      11.000000      17.000000  \n",
       "50%        18.000000      15.000000      23.000000  \n",
       "75%        27.000000      20.000000      29.000000  \n",
       "max        31.000000      23.000000      38.000000  "
      ]
     },
     "execution_count": 34,
     "metadata": {},
     "output_type": "execute_result"
    }
   ],
   "source": [
    "df.describe()"
   ]
  },
  {
   "cell_type": "markdown",
   "id": "6f1f6f24",
   "metadata": {},
   "source": [
    "# 매출 분석"
   ]
  },
  {
   "cell_type": "markdown",
   "id": "fee23943",
   "metadata": {},
   "source": [
    "## preprocessing refer\n",
    "> 'type' column 의 'PAYMENT'(결제완료) 와 'REFUND'(환불)이 'state' column 에서 'COMPLETED' 인 값들의 합   \n",
    "\n",
    "> 'completed_at' clone column 'completed_c' 을 추가. 'completed_c' dtype 으로 변경 후 연/월/일/시간으로 나눔\n",
    "\n",
    "> df 에서 결제 승인이 처음 시작된 일시와 종료 일시 확인(마케팅시간도참고)"
   ]
  },
  {
   "cell_type": "markdown",
   "id": "7438af1d",
   "metadata": {},
   "source": [
    "## df의 총 매출"
   ]
  },
  {
   "cell_type": "code",
   "execution_count": 59,
   "id": "a27b89e3",
   "metadata": {
    "ExecuteTime": {
     "end_time": "2022-07-03T11:13:17.809311Z",
     "start_time": "2022-07-03T11:13:17.784037Z"
    },
    "scrolled": false
   },
   "outputs": [
    {
     "data": {
      "text/html": [
       "<div>\n",
       "<style scoped>\n",
       "    .dataframe tbody tr th:only-of-type {\n",
       "        vertical-align: middle;\n",
       "    }\n",
       "\n",
       "    .dataframe tbody tr th {\n",
       "        vertical-align: top;\n",
       "    }\n",
       "\n",
       "    .dataframe thead th {\n",
       "        text-align: right;\n",
       "    }\n",
       "</style>\n",
       "<table border=\"1\" class=\"dataframe\">\n",
       "  <thead>\n",
       "    <tr style=\"text-align: right;\">\n",
       "      <th></th>\n",
       "      <th>type</th>\n",
       "      <th>state</th>\n",
       "      <th>transaction_amount</th>\n",
       "    </tr>\n",
       "  </thead>\n",
       "  <tbody>\n",
       "    <tr>\n",
       "      <th>0</th>\n",
       "      <td>ORDER</td>\n",
       "      <td>CANCELLED</td>\n",
       "      <td>90500</td>\n",
       "    </tr>\n",
       "    <tr>\n",
       "      <th>1</th>\n",
       "      <td>ORDER</td>\n",
       "      <td>CANCELLED</td>\n",
       "      <td>96000</td>\n",
       "    </tr>\n",
       "    <tr>\n",
       "      <th>2</th>\n",
       "      <td>PAYMENT</td>\n",
       "      <td>COMPLETED</td>\n",
       "      <td>171810</td>\n",
       "    </tr>\n",
       "    <tr>\n",
       "      <th>3</th>\n",
       "      <td>ORDER</td>\n",
       "      <td>CANCELLED</td>\n",
       "      <td>171810</td>\n",
       "    </tr>\n",
       "    <tr>\n",
       "      <th>4</th>\n",
       "      <td>PAYMENT</td>\n",
       "      <td>COMPLETED</td>\n",
       "      <td>97500</td>\n",
       "    </tr>\n",
       "  </tbody>\n",
       "</table>\n",
       "</div>"
      ],
      "text/plain": [
       "      type      state  transaction_amount\n",
       "0    ORDER  CANCELLED               90500\n",
       "1    ORDER  CANCELLED               96000\n",
       "2  PAYMENT  COMPLETED              171810\n",
       "3    ORDER  CANCELLED              171810\n",
       "4  PAYMENT  COMPLETED               97500"
      ]
     },
     "execution_count": 59,
     "metadata": {},
     "output_type": "execute_result"
    }
   ],
   "source": [
    "# 'type'(구매상태), 'state'(진행상황), 'transaction_amount' column 추출\n",
    "s = df.loc[:, ['type', 'state', 'transaction_amount']]\n",
    "s.head()"
   ]
  },
  {
   "cell_type": "code",
   "execution_count": 60,
   "id": "f000334a",
   "metadata": {
    "ExecuteTime": {
     "end_time": "2022-07-03T11:13:20.439110Z",
     "start_time": "2022-07-03T11:13:20.393186Z"
    },
    "scrolled": true
   },
   "outputs": [
    {
     "data": {
      "text/html": [
       "<div>\n",
       "<style scoped>\n",
       "    .dataframe tbody tr th:only-of-type {\n",
       "        vertical-align: middle;\n",
       "    }\n",
       "\n",
       "    .dataframe tbody tr th {\n",
       "        vertical-align: top;\n",
       "    }\n",
       "\n",
       "    .dataframe thead th {\n",
       "        text-align: right;\n",
       "    }\n",
       "</style>\n",
       "<table border=\"1\" class=\"dataframe\">\n",
       "  <thead>\n",
       "    <tr style=\"text-align: right;\">\n",
       "      <th></th>\n",
       "      <th>type</th>\n",
       "      <th>state</th>\n",
       "      <th>transaction_amount</th>\n",
       "    </tr>\n",
       "  </thead>\n",
       "  <tbody>\n",
       "    <tr>\n",
       "      <th>0</th>\n",
       "      <td>PAYMENT</td>\n",
       "      <td>COMPLETED</td>\n",
       "      <td>171810</td>\n",
       "    </tr>\n",
       "    <tr>\n",
       "      <th>1</th>\n",
       "      <td>PAYMENT</td>\n",
       "      <td>COMPLETED</td>\n",
       "      <td>97500</td>\n",
       "    </tr>\n",
       "    <tr>\n",
       "      <th>2</th>\n",
       "      <td>PAYMENT</td>\n",
       "      <td>COMPLETED</td>\n",
       "      <td>96000</td>\n",
       "    </tr>\n",
       "    <tr>\n",
       "      <th>3</th>\n",
       "      <td>PAYMENT</td>\n",
       "      <td>COMPLETED</td>\n",
       "      <td>263000</td>\n",
       "    </tr>\n",
       "    <tr>\n",
       "      <th>4</th>\n",
       "      <td>PAYMENT</td>\n",
       "      <td>COMPLETED</td>\n",
       "      <td>91000</td>\n",
       "    </tr>\n",
       "    <tr>\n",
       "      <th>...</th>\n",
       "      <td>...</td>\n",
       "      <td>...</td>\n",
       "      <td>...</td>\n",
       "    </tr>\n",
       "    <tr>\n",
       "      <th>53030</th>\n",
       "      <td>PAYMENT</td>\n",
       "      <td>COMPLETED</td>\n",
       "      <td>212000</td>\n",
       "    </tr>\n",
       "    <tr>\n",
       "      <th>53031</th>\n",
       "      <td>PAYMENT</td>\n",
       "      <td>COMPLETED</td>\n",
       "      <td>149000</td>\n",
       "    </tr>\n",
       "    <tr>\n",
       "      <th>53032</th>\n",
       "      <td>PAYMENT</td>\n",
       "      <td>COMPLETED</td>\n",
       "      <td>159000</td>\n",
       "    </tr>\n",
       "    <tr>\n",
       "      <th>53033</th>\n",
       "      <td>PAYMENT</td>\n",
       "      <td>COMPLETED</td>\n",
       "      <td>96000</td>\n",
       "    </tr>\n",
       "    <tr>\n",
       "      <th>53034</th>\n",
       "      <td>PAYMENT</td>\n",
       "      <td>COMPLETED</td>\n",
       "      <td>139000</td>\n",
       "    </tr>\n",
       "  </tbody>\n",
       "</table>\n",
       "<p>53035 rows × 3 columns</p>\n",
       "</div>"
      ],
      "text/plain": [
       "          type      state  transaction_amount\n",
       "0      PAYMENT  COMPLETED              171810\n",
       "1      PAYMENT  COMPLETED               97500\n",
       "2      PAYMENT  COMPLETED               96000\n",
       "3      PAYMENT  COMPLETED              263000\n",
       "4      PAYMENT  COMPLETED               91000\n",
       "...        ...        ...                 ...\n",
       "53030  PAYMENT  COMPLETED              212000\n",
       "53031  PAYMENT  COMPLETED              149000\n",
       "53032  PAYMENT  COMPLETED              159000\n",
       "53033  PAYMENT  COMPLETED               96000\n",
       "53034  PAYMENT  COMPLETED              139000\n",
       "\n",
       "[53035 rows x 3 columns]"
      ]
     },
     "execution_count": 60,
     "metadata": {},
     "output_type": "execute_result"
    }
   ],
   "source": [
    "# 'type' column 의 'PAYMENT', 'REFUND' 와 'state' column 의 'COMPLEATED' 추출 \n",
    "sales = s[(s['type'] == 'PAYMENT') + (s['type'] == 'REFUND') & (s['state'] == 'COMPLETED')]\n",
    "sales.index = range(len(sales))\n",
    "sales"
   ]
  },
  {
   "cell_type": "code",
   "execution_count": 61,
   "id": "d725dc01",
   "metadata": {
    "ExecuteTime": {
     "end_time": "2022-07-03T11:13:22.921065Z",
     "start_time": "2022-07-03T11:13:22.893479Z"
    }
   },
   "outputs": [
    {
     "name": "stdout",
     "output_type": "stream",
     "text": [
      "결제완료 49412 건 중 환불 3623 건,\n",
      "총 매출액 : 5972709534 원\n"
     ]
    }
   ],
   "source": [
    "# 'transaction_amount' column 총합으로 총 매출 및 (추가할것)취소율 확인 'type' column 'REFUND' / 'PAYMENT' * 100\n",
    "# len(s['type'] == 'REFUND') / len(s['type'] == 'PAYMENT') *100\n",
    "sale = sales['transaction_amount'].sum() \n",
    "pay = len(sales[sales['type'] == 'PAYMENT']) \n",
    "re = len(sales[sales['type'] == 'REFUND'])\n",
    "print(f'결제완료 {pay} 건 중 환불 {re} 건,\\n총 매출액 : {sale} 원') \n",
    "# print(\"환불율' : %.3f%%\" % (len(sales[sales['type'] == 'PAYMENT'])  / len(sales[sales['type'] == 'REFUND']) * 100))"
   ]
  },
  {
   "cell_type": "code",
   "execution_count": 105,
   "id": "268adbe4",
   "metadata": {
    "ExecuteTime": {
     "end_time": "2022-07-01T11:29:52.402824Z",
     "start_time": "2022-07-01T11:29:52.389105Z"
    }
   },
   "outputs": [
    {
     "name": "stdout",
     "output_type": "stream",
     "text": [
      "180 days 23:25:36\n"
     ]
    }
   ],
   "source": [
    "# # 빼기할 수 있는 방법\n",
    "# df.iloc[-1]['completed_at']\n",
    "# df.iloc[0]['completed_at']\n",
    "# s_period = df.iloc[-1]['completed_at'] - df.iloc[0]['completed_at']\n",
    "# print(s_period)"
   ]
  },
  {
   "cell_type": "markdown",
   "id": "4005a84c",
   "metadata": {},
   "source": [
    "취소 환불이 +, - 로 잘 되어있다는 가정하에\n",
    "> 총 매출 약 60억원"
   ]
  },
  {
   "cell_type": "code",
   "execution_count": null,
   "id": "b5524d9d",
   "metadata": {},
   "outputs": [],
   "source": []
  },
  {
   "cell_type": "markdown",
   "id": "067228e5",
   "metadata": {},
   "source": [
    "## 시간대, 요일, 일, 주, 월, 분기, 총 매출(반기), 6개월간 추이"
   ]
  },
  {
   "cell_type": "code",
   "execution_count": 62,
   "id": "b56f2ab6",
   "metadata": {
    "ExecuteTime": {
     "end_time": "2022-07-03T11:13:26.176545Z",
     "start_time": "2022-07-03T11:13:26.105482Z"
    },
    "scrolled": false
   },
   "outputs": [
    {
     "data": {
      "text/html": [
       "<div>\n",
       "<style scoped>\n",
       "    .dataframe tbody tr th:only-of-type {\n",
       "        vertical-align: middle;\n",
       "    }\n",
       "\n",
       "    .dataframe tbody tr th {\n",
       "        vertical-align: top;\n",
       "    }\n",
       "\n",
       "    .dataframe thead th {\n",
       "        text-align: right;\n",
       "    }\n",
       "</style>\n",
       "<table border=\"1\" class=\"dataframe\">\n",
       "  <thead>\n",
       "    <tr style=\"text-align: right;\">\n",
       "      <th></th>\n",
       "      <th>Year</th>\n",
       "      <th>Month</th>\n",
       "      <th>Day</th>\n",
       "      <th>Hour</th>\n",
       "      <th>Day of week</th>\n",
       "      <th>Week</th>\n",
       "    </tr>\n",
       "  </thead>\n",
       "  <tbody>\n",
       "    <tr>\n",
       "      <th>0</th>\n",
       "      <td>2021</td>\n",
       "      <td>3</td>\n",
       "      <td>28</td>\n",
       "      <td>15</td>\n",
       "      <td>Sunday</td>\n",
       "      <td>12</td>\n",
       "    </tr>\n",
       "    <tr>\n",
       "      <th>1</th>\n",
       "      <td>2021</td>\n",
       "      <td>3</td>\n",
       "      <td>28</td>\n",
       "      <td>15</td>\n",
       "      <td>Sunday</td>\n",
       "      <td>12</td>\n",
       "    </tr>\n",
       "    <tr>\n",
       "      <th>2</th>\n",
       "      <td>2021</td>\n",
       "      <td>3</td>\n",
       "      <td>28</td>\n",
       "      <td>15</td>\n",
       "      <td>Sunday</td>\n",
       "      <td>12</td>\n",
       "    </tr>\n",
       "    <tr>\n",
       "      <th>3</th>\n",
       "      <td>2021</td>\n",
       "      <td>3</td>\n",
       "      <td>28</td>\n",
       "      <td>15</td>\n",
       "      <td>Sunday</td>\n",
       "      <td>12</td>\n",
       "    </tr>\n",
       "    <tr>\n",
       "      <th>4</th>\n",
       "      <td>2021</td>\n",
       "      <td>3</td>\n",
       "      <td>28</td>\n",
       "      <td>15</td>\n",
       "      <td>Sunday</td>\n",
       "      <td>12</td>\n",
       "    </tr>\n",
       "    <tr>\n",
       "      <th>...</th>\n",
       "      <td>...</td>\n",
       "      <td>...</td>\n",
       "      <td>...</td>\n",
       "      <td>...</td>\n",
       "      <td>...</td>\n",
       "      <td>...</td>\n",
       "    </tr>\n",
       "    <tr>\n",
       "      <th>101097</th>\n",
       "      <td>2021</td>\n",
       "      <td>9</td>\n",
       "      <td>25</td>\n",
       "      <td>14</td>\n",
       "      <td>Saturday</td>\n",
       "      <td>38</td>\n",
       "    </tr>\n",
       "    <tr>\n",
       "      <th>101098</th>\n",
       "      <td>2021</td>\n",
       "      <td>9</td>\n",
       "      <td>25</td>\n",
       "      <td>14</td>\n",
       "      <td>Saturday</td>\n",
       "      <td>38</td>\n",
       "    </tr>\n",
       "    <tr>\n",
       "      <th>101099</th>\n",
       "      <td>2021</td>\n",
       "      <td>9</td>\n",
       "      <td>25</td>\n",
       "      <td>14</td>\n",
       "      <td>Saturday</td>\n",
       "      <td>38</td>\n",
       "    </tr>\n",
       "    <tr>\n",
       "      <th>101100</th>\n",
       "      <td>2021</td>\n",
       "      <td>9</td>\n",
       "      <td>25</td>\n",
       "      <td>14</td>\n",
       "      <td>Saturday</td>\n",
       "      <td>38</td>\n",
       "    </tr>\n",
       "    <tr>\n",
       "      <th>101101</th>\n",
       "      <td>2021</td>\n",
       "      <td>9</td>\n",
       "      <td>25</td>\n",
       "      <td>14</td>\n",
       "      <td>Saturday</td>\n",
       "      <td>38</td>\n",
       "    </tr>\n",
       "  </tbody>\n",
       "</table>\n",
       "<p>101093 rows × 6 columns</p>\n",
       "</div>"
      ],
      "text/plain": [
       "        Year  Month  Day  Hour Day of week  Week\n",
       "0       2021      3   28    15      Sunday    12\n",
       "1       2021      3   28    15      Sunday    12\n",
       "2       2021      3   28    15      Sunday    12\n",
       "3       2021      3   28    15      Sunday    12\n",
       "4       2021      3   28    15      Sunday    12\n",
       "...      ...    ...  ...   ...         ...   ...\n",
       "101097  2021      9   25    14    Saturday    38\n",
       "101098  2021      9   25    14    Saturday    38\n",
       "101099  2021      9   25    14    Saturday    38\n",
       "101100  2021      9   25    14    Saturday    38\n",
       "101101  2021      9   25    14    Saturday    38\n",
       "\n",
       "[101093 rows x 6 columns]"
      ]
     },
     "execution_count": 62,
     "metadata": {},
     "output_type": "execute_result"
    }
   ],
   "source": [
    "# 'completed_at' column, 연, 월, 일 나누기\n",
    "df['Year'] = df['completed_at'].dt.year\n",
    "df['Month'] = df['completed_at'].dt.month\n",
    "df['Day'] = df['completed_at'].dt.day\n",
    "df['Hour'] = df['completed_at'].dt.hour\n",
    "df['Day of week'] = df['completed_at'].dt.day_name()\n",
    "df['Week'] = df['completed_at'].dt.week\n",
    "df[df.columns[-6:]]"
   ]
  },
  {
   "cell_type": "code",
   "execution_count": 63,
   "id": "8c14e77e",
   "metadata": {
    "ExecuteTime": {
     "end_time": "2022-07-03T11:13:28.988250Z",
     "start_time": "2022-07-03T11:13:28.976464Z"
    }
   },
   "outputs": [],
   "source": [
    "# 결제 및 환불로 기준점\n",
    "type_a = df['type'][df['type'] != 'ORDER']"
   ]
  },
  {
   "cell_type": "markdown",
   "id": "ec54f1a2",
   "metadata": {},
   "source": [
    "### 시간대별 매출 그래프"
   ]
  },
  {
   "cell_type": "code",
   "execution_count": 64,
   "id": "141f03bf",
   "metadata": {
    "ExecuteTime": {
     "end_time": "2022-07-03T11:13:31.559317Z",
     "start_time": "2022-07-03T11:13:30.949242Z"
    }
   },
   "outputs": [
    {
     "data": {
      "text/plain": [
       "<seaborn.axisgrid.FacetGrid at 0x23402ec8100>"
      ]
     },
     "execution_count": 64,
     "metadata": {},
     "output_type": "execute_result"
    },
    {
     "data": {
      "image/png": "[encoded data removed]",
      "text/plain": [
       "<Figure size 451.225x360 with 1 Axes>"
      ]
     },
     "metadata": {},
     "output_type": "display_data"
    }
   ],
   "source": [
    "sns.displot(data = df, x = 'Hour', y = 'transaction_amount', hue = type_a)"
   ]
  },
  {
   "cell_type": "markdown",
   "id": "76df6b3b",
   "metadata": {},
   "source": [
    "### 요일별 매출 그래프"
   ]
  },
  {
   "cell_type": "code",
   "execution_count": 65,
   "id": "31c8029e",
   "metadata": {
    "ExecuteTime": {
     "end_time": "2022-07-03T11:13:34.129738Z",
     "start_time": "2022-07-03T11:13:33.557602Z"
    }
   },
   "outputs": [
    {
     "data": {
      "text/plain": [
       "<seaborn.axisgrid.FacetGrid at 0x23475b6dd90>"
      ]
     },
     "execution_count": 65,
     "metadata": {},
     "output_type": "execute_result"
    },
    {
     "data": {
      "image/png": "[encoded data removed]",
      "text/plain": [
       "<Figure size 451.225x360 with 1 Axes>"
      ]
     },
     "metadata": {},
     "output_type": "display_data"
    }
   ],
   "source": [
    "sns.displot(data = df, x = 'Day of week', y = 'transaction_amount', hue = type_a)"
   ]
  },
  {
   "cell_type": "markdown",
   "id": "e34b2c8e",
   "metadata": {},
   "source": [
    "### 일별 매출 그래프"
   ]
  },
  {
   "cell_type": "code",
   "execution_count": 66,
   "id": "3836fd0c",
   "metadata": {
    "ExecuteTime": {
     "end_time": "2022-07-03T11:13:36.667267Z",
     "start_time": "2022-07-03T11:13:35.870441Z"
    }
   },
   "outputs": [
    {
     "data": {
      "text/plain": [
       "<AxesSubplot:xlabel='Day', ylabel='transaction_amount'>"
      ]
     },
     "execution_count": 66,
     "metadata": {},
     "output_type": "execute_result"
    },
    {
     "data": {
      "image/png": "[encoded data removed]",
      "text/plain": [
       "<Figure size 432x288 with 1 Axes>"
      ]
     },
     "metadata": {},
     "output_type": "display_data"
    }
   ],
   "source": [
    "sns.histplot(data = df, x = 'Day', y = 'transaction_amount', hue = type_a)"
   ]
  },
  {
   "cell_type": "markdown",
   "id": "0878ef47",
   "metadata": {},
   "source": [
    "### 주별 매출 그래프 , 수정필요(코드도)"
   ]
  },
  {
   "cell_type": "code",
   "execution_count": 67,
   "id": "68929a6c",
   "metadata": {
    "ExecuteTime": {
     "end_time": "2022-07-03T11:13:43.499947Z",
     "start_time": "2022-07-03T11:13:42.756670Z"
    }
   },
   "outputs": [
    {
     "data": {
      "text/plain": [
       "<AxesSubplot:xlabel='Week', ylabel='transaction_amount'>"
      ]
     },
     "execution_count": 67,
     "metadata": {},
     "output_type": "execute_result"
    },
    {
     "data": {
      "image/png": "[encoded data removed]",
      "text/plain": [
       "<Figure size 432x288 with 1 Axes>"
      ]
     },
     "metadata": {},
     "output_type": "display_data"
    }
   ],
   "source": [
    "sns.histplot(data = df, x = 'Week', y = 'transaction_amount', hue = type_a)"
   ]
  },
  {
   "cell_type": "markdown",
   "id": "fb76f940",
   "metadata": {},
   "source": [
    "### 월별 매출 그래프"
   ]
  },
  {
   "cell_type": "code",
   "execution_count": 68,
   "id": "4036aab0",
   "metadata": {
    "ExecuteTime": {
     "end_time": "2022-07-03T11:13:46.923962Z",
     "start_time": "2022-07-03T11:13:45.816477Z"
    }
   },
   "outputs": [
    {
     "data": {
      "text/plain": [
       "<AxesSubplot:xlabel='Month', ylabel='transaction_amount'>"
      ]
     },
     "execution_count": 68,
     "metadata": {},
     "output_type": "execute_result"
    },
    {
     "data": {
      "image/png": "[encoded data removed]",
      "text/plain": [
       "<Figure size 432x288 with 1 Axes>"
      ]
     },
     "metadata": {},
     "output_type": "display_data"
    }
   ],
   "source": [
    "sns.lineplot(data = df, x = 'Month', y = 'transaction_amount', hue = type_a)"
   ]
  },
  {
   "cell_type": "markdown",
   "id": "dce17e5f",
   "metadata": {},
   "source": [
    "### 6개월(반기) 총매출 그래프"
   ]
  },
  {
   "cell_type": "code",
   "execution_count": 69,
   "id": "3456218c",
   "metadata": {
    "ExecuteTime": {
     "end_time": "2022-07-03T11:13:51.129875Z",
     "start_time": "2022-07-03T11:13:50.599585Z"
    }
   },
   "outputs": [
    {
     "data": {
      "text/plain": [
       "<AxesSubplot:ylabel='transaction_amount'>"
      ]
     },
     "execution_count": 69,
     "metadata": {},
     "output_type": "execute_result"
    },
    {
     "data": {
      "image/png": "[encoded data removed]",
      "text/plain": [
       "<Figure size 432x288 with 1 Axes>"
      ]
     },
     "metadata": {},
     "output_type": "display_data"
    }
   ],
   "source": [
    "sns.barplot(data = sales, y = 'transaction_amount', hue = type_a)"
   ]
  },
  {
   "cell_type": "markdown",
   "id": "447760be",
   "metadata": {},
   "source": [
    "# 강의 분석"
   ]
  },
  {
   "cell_type": "code",
   "execution_count": 70,
   "id": "6958733e",
   "metadata": {
    "ExecuteTime": {
     "end_time": "2022-07-03T11:13:53.112843Z",
     "start_time": "2022-07-03T11:13:53.058049Z"
    },
    "scrolled": true
   },
   "outputs": [
    {
     "name": "stdout",
     "output_type": "stream",
     "text": [
      "<class 'pandas.core.frame.DataFrame'>\n",
      "Int64Index: 101093 entries, 0 to 101101\n",
      "Data columns (total 23 columns):\n",
      " #   Column                  Non-Null Count   Dtype         \n",
      "---  ------                  --------------   -----         \n",
      " 0   id                      101093 non-null  int64         \n",
      " 1   customer_id             101093 non-null  int64         \n",
      " 2   course_id               101093 non-null  int64         \n",
      " 3   type                    101093 non-null  object        \n",
      " 4   state                   101093 non-null  object        \n",
      " 5   course_title            101093 non-null  object        \n",
      " 6   category_title          101093 non-null  object        \n",
      " 7   format                  101093 non-null  object        \n",
      " 8   completed_at            101093 non-null  datetime64[ns]\n",
      " 9   transaction_amount      101093 non-null  int64         \n",
      " 10  coupon_title            101093 non-null  object        \n",
      " 11  coupon_discount_amount  101093 non-null  int64         \n",
      " 12  sale_price              101093 non-null  int64         \n",
      " 13  pg                      101093 non-null  object        \n",
      " 14  method                  101093 non-null  object        \n",
      " 15  subcategory_title       101093 non-null  object        \n",
      " 16  marketing_start_at      101093 non-null  datetime64[ns]\n",
      " 17  Year                    101093 non-null  int64         \n",
      " 18  Month                   101093 non-null  int64         \n",
      " 19  Day                     101093 non-null  int64         \n",
      " 20  Hour                    101093 non-null  int64         \n",
      " 21  Day of week             101093 non-null  object        \n",
      " 22  Week                    101093 non-null  int64         \n",
      "dtypes: datetime64[ns](2), int64(11), object(10)\n",
      "memory usage: 18.5+ MB\n"
     ]
    }
   ],
   "source": [
    "df.info()"
   ]
  },
  {
   "cell_type": "markdown",
   "id": "5fd1259e",
   "metadata": {},
   "source": [
    "## 전체 강의 수"
   ]
  },
  {
   "cell_type": "code",
   "execution_count": 71,
   "id": "d2c7c7ad",
   "metadata": {
    "ExecuteTime": {
     "end_time": "2022-07-03T11:13:56.419958Z",
     "start_time": "2022-07-03T11:13:56.359205Z"
    },
    "scrolled": true
   },
   "outputs": [
    {
     "data": {
      "text/plain": [
       "(608,\n",
       " array(['올인원 패키지 : 알고리즘 기술면접 완전 정복', '초격차 패키지 : 한번에 끝내는 영상 촬영과 편집',\n",
       "        '시크릿코드 : 프론트엔드 실무 완성편', '올인원 패키지 : 직장인 필수 스킬 3종 세트 MAX',\n",
       "        '프로모션 : 2021 내 커리어 지켜 줄 UX/UI 디자인 한끝세트 (3월 프리패스)',\n",
       "        '올인원 패키지 : 기업가치 평가와 M&A 전략 실무',\n",
       "        '올인원 패키지 : 권오상의 금융 아카데미 - 권오상의 재무제표 분석 기초(평생소장)',\n",
       "        '프로모션 : 코딩 LEVEL UP 웹 개발 풀스텍 한끝세트 (3월 프리패스)',\n",
       "        '초격차 패키지 : 한 번에 끝내는 프론트엔드 개발', '매주)서비스 기획서 완성 온라인 완주반 2101',\n",
       "        '프로모션 : 기초부터 시작하는 데이터분석 한끝세트 (3월 프리패스)',\n",
       "        'The RED : 현실 세상의 TDD by 이규원', '올인원 패키지 : 마디아의 UX/UI 포트폴리오',\n",
       "        '올인원 패키지 : 100억을 움직이는 단 10장의 PPT', '올인원 패키지 : 프론트엔드 (React)',\n",
       "        '연습문제 패키지 : 퀴즈처럼 풀면서 배우는 파이썬 머신러닝 300제+',\n",
       "        '초격차 패키지 : 한번에 끝내는 모션그래픽', '[한정판매] 자연어 A-Z 끝장 패키지(~3월)',\n",
       "        '올인원 패키지 : 김기현의 딥러닝을 활용한 자연어처리 입문', 'THE RED : 광고인 박웅현과 크리에이티브',\n",
       "        '데이터분석 프로젝트+자격증 온라인 완주반 3기',\n",
       "        '프로모션 :연봉 앞자리가 바뀌는 프론트엔드 한끝세트 (3월 프리패스)',\n",
       "        '올인원 패키지 : 디지털 마케팅 MAX 2020', '초격차 패키지 : 한번에 끝내는 PPT 제작/디자인',\n",
       "        '프로모션 : 매출의 판도를 바꾸는 마케팅 한끝세트 (3월 프리패스)', '프론트엔드 개발자 되기 온라인 완주반 3기',\n",
       "        '초격차 패키지 : 한 번에 끝내는 엑셀 실무', '초격차 패키지 : 한 번에 끝내는 데이터 분석 툴',\n",
       "        '올인원 패키지 : 디자이너 몰래 듣는 압축 포토샵', '올인원 패키지 : Android 앱 개발',\n",
       "        '초격차 패키지 : 한 번에 끝내는 반복 업무 자동화', '올인원 패키지 : 바다가 알려주는 감성가득 영상 제작',\n",
       "        '프로모션 :개발자를 위한 코딩 백과사전 한끝세트 (3월 프리패스)', '올인원 패키지 : 파이썬 웹 개발',\n",
       "        '올인원 패키지 : 인스타를 성장시킨 50명의 성공방정식',\n",
       "        '프로모션 : 데이터 활용 능력을 바꿔 줄 데이터 분석 한끝세트 (3월 프리패스)',\n",
       "        'The RED : 지브리 스튜디오 제작국장에게 듣는 스토리텔링 기획법', '올인원 패키지 : C++ 실력완성',\n",
       "        'Java 웹 개발자 취업 온라인 완주반 2기', '초격차 패키지 : 한번에 끝내는 UX/UI 디자인',\n",
       "        '매주)승인받는 이모티콘 만들기 온라인 완주반', '컴퓨터 공학 전공자 따라잡기 온라인 완주반 3기',\n",
       "        '올인원 패키지 : 재무/세무 회계 실무 완성',\n",
       "        '프로모션 : 시장의 흐름을 읽는 투자의 정석 한끝세트 (3월 프리패스)', '올인원 패키지 : 부동산 디벨로퍼',\n",
       "        '초격차 패키지 : 한번에 끝내는 디자인 툴', '올인원 패키지 : 애프터이펙트를 활용한 2D 모션그래픽 (2021)',\n",
       "        '올인원 패키지 : iOS 앱 개발', '올인원 패키지 : 십다 프리미어',\n",
       "        '올인원 패키지 : 완전정복 시각디자인 기초', '합격 패스 : 데이터베이스와 SQLD',\n",
       "        '프로모션 : 사수없이 고민말고! 필요할 때 꺼내보는 마케팅 백과사전 한끝세트 (3월 프리패스)',\n",
       "        '프로모션 : 2021 내 연봉을 바꿔 줄 직장인 스킬업 한끝세트 (3월 프리패스)',\n",
       "        '프로모션 : 투자의 방향성을 세우는 기업분석 한끝세트 (3월 프리패스)',\n",
       "        '올인원 패키지 : 컴퓨터 공학 전공 필수',\n",
       "        '프로모션 : 딥러닝 기초부터 인사이트까지 언제든 꺼내볼 나만의 딥러닝 백과사전 한끝세트 (3월 프리패스)',\n",
       "        '초격차 패키지 : 30개 프로젝트로 배우는 Android 앱 개발 with Kotlin',\n",
       "        '올인원 패키지 : 파이썬을 활용한 시계열 데이터 분석 A-Z', '올인원 패키지 : 머신러닝과 데이터분석 A-Z',\n",
       "        '초격차 패키지 : 한번에 끝내는 Java/Spring 웹 개발 마스터', '올인원 패키지 : 리눅스 실전 정복',\n",
       "        '올인원 패키지 : 구글 애널리틱스', '올인원 패키지 : 그로스 마케팅',\n",
       "        '올인원 패키지 : M&A 기업가치평가 및 기술가치평가 실무', '올인원 패키지 : 엑셀언니의 사무실용 엑셀뿌수기',\n",
       "        '올인원 패키지 : 6개월 치 업무를 하루 만에 끝내는 업무자동화',\n",
       "        '프로모션 : 영상 퀄리티를 바꿔 줄 영상 제작 스킬 한끝세트 (3월 프리패스)',\n",
       "        '프로모션 : 데이터 보는 눈을 바꿔 줄 데이터 마케팅 한끝세트 (3월 프리패스)',\n",
       "        '밑바닥부터 배포까지 클론코딩 온라인 완주반 1기', '프로그래밍 유치원 온라인 완주반 5기',\n",
       "        '연습문제 패키지 : 퀴즈처럼 풀면서 배우는 파이썬 딥러닝 300제+', '합격 패스 : ADsP',\n",
       "        '[한정판매] 자연어처리 끝장 패키지(~3월)', '올인원 패키지 : Financial Modeling',\n",
       "        '올인원 패키지 : 소비자 리서치와 보고서 작성', '올인원 패키지 : 소금툰과 함께 캐릭터 드로잉/굿즈/임티/컷툰',\n",
       "        '합격 패스 : 정보처리기사 필기&실기', '올인원 패키지 : 브랜딩 2020',\n",
       "        '올인원 패키지 : 대체투자 자산운용 실무', '올인원 패키지 : 데이터 기반 마케팅 21',\n",
       "        '매주)데이터 사이언스 온라인 완주반', '프로모션 : 사무실에서 꺼내보는 직장인 필수 한끝세트 (3월 프리패스)',\n",
       "        '올인원 패키지 : 부동산 투자', '매주)엑셀+데이터분석 온라인 완주반', '올인원 패키지 : 엑셀 실무 마스터',\n",
       "        'The RED : 프론트엔드 개발자 김태곤', '올인원 패키지 : 유니티 포트폴리오 완성',\n",
       "        '프로모션 : Top tier 프로젝트를 만드는 한끝세트 (3월 프리패스)',\n",
       "        '프로모션 : 내 콘텐츠 성과를 바꾸는 SNS 마케팅 한끝세트 (3월 프리패스)',\n",
       "        '코드 효율을 위한 리팩터링 온라인 완독반 1기', '올인원 패키지 : 스케치&피그마를 활용한 모바일 UI 디자인',\n",
       "        '올인원 패키지 : 다빈치리졸브로 배우는 영상 색 보정 A to Z', '올인원 패키지 : 생존을 위한 IT 필수지식',\n",
       "        '프로모션 : 이력서를 살찌우는 직무 스킬업 한끝세트 (3월 프리패스)', '부동산 디벨로퍼 아카데미 : 인허가',\n",
       "        '올인원 패키지 : 컴퓨터비전과 딥러닝',\n",
       "        '올인원 패키지 : 연봉도 배우면 바뀐다! 협상왕의 12가지 시스템 불패 전략',\n",
       "        '올인원 패키지 : 해외소싱으로 온라인 커머스 정복하기',\n",
       "        '프로모션 :개강 전 필수 마스터 코딩 한끝세트 (3월 프리패스)', '올인원 패키지 : 타이포그래피와 편집디자인',\n",
       "        '올인원 패키지 : UX/UI 디자인 (2020)', '매주)디지털 마케팅 온라인 완주반',\n",
       "        '올인원 패키지 : TypeScript & Angular 실전', '올인원 패키지 : 딥러닝/인공지능',\n",
       "        '올인원 패키지 : C#과 유니티로 배우는 게임개발', '올인원 패키지 : Node 웹 프로그래밍',\n",
       "        '올인원 패키지 : AWS/Docker 클라우드 서버 구축',\n",
       "        '올인원 패키지 : 프로젝트와 함께 배우는 R 데이터 분석',\n",
       "        '올인원 패키지 : 누구나 가능한 VR/AR 콘텐츠 제작', '올인원 패키지 : 직장인을 위한 파이썬 데이터분석',\n",
       "        '올인원 패키지 : 사진 촬영 및 라이트룸 보정', '글로벌 엑스퍼트: 캐글 1위와 풀어보는 머신러닝 입문 트레이닝',\n",
       "        '올인원 패키지 : 업무자동화 MAX', '올인원 패키지 : 처음부터 시작하는 딥러닝 유치원',\n",
       "        '올인원 패키지 : SNS 콘텐츠 기획/제작 MAX 2020', '올인원 패키지 : FAST MBA 2020',\n",
       "        '올인원 패키지 : 딥러닝을 활용한 추천시스템 구현', '퍼포먼스 마케터 되기 온라인 완주반 2기',\n",
       "        '올인원 패키지 : HTML/CSS, JavaScript', '[한정판매] 딥러닝 끝장 패키지(~3월)',\n",
       "        '올인원 패키지 : Data Driven UX Design', '올인원 패키지 : 네트워크와 보안 핵심 요약',\n",
       "        '올인원 패키지 : 검색 최적화(SEO) 운영/전략', '올인원 패키지 : 자유자재로 쓰는 태블로 대시보드 마스터',\n",
       "        '올인원 패키지 : 2021 취업/이직/투자를 위한 기업분석', '올인원 패키지 : 동영상 마케팅 2020',\n",
       "        '글로벌 엑스퍼트 : GAN 딥러닝 완벽 가이드 with 글로벌 엔지니어',\n",
       "        '올인원 패키지 : 모두를 위한 SQL/DB', '올인원 패키지 : 통계와 엑셀을 활용한 데이터 분석',\n",
       "        '올인원 패키지 : 영상 제작/편집(2020)', '올인원 패키지 : 파이썬을 활용한 데이터 전처리 Level UP',\n",
       "        '올인원 패키지 : 코딩 첫 걸음 프로젝트', '올인원 패키지 : 수학적으로 접근하는 딥러닝',\n",
       "        '부동산 디벨로퍼 아카데미 : 토지 개발', '올인원 패키지 : 모델 성능 개선으로 익히는 강화학습 A to Z',\n",
       "        '올인원 패키지 : 직장인 회계 첫걸음', '올인원 패키지 : 파이썬을 활용한 이커머스 데이터 분석',\n",
       "        'The RED : 카카오페이지 기술전략이사 윤진석', '올인원 패키지 : 리더를 위한 HR/인재경영',\n",
       "        '커리어 가이드 : 마케터 편', '올인원 패키지 : 스타트업 투자유치&벤처 투자',\n",
       "        'REC.ON : 틱톡(TikTok)', '올인원 패키지 : R을 활용한 퀀트 전략 구현',\n",
       "        '코딩+알고리즘 온라인 완주반 5기', 'The RED : 최고제품책임자(CPO) 윤희경',\n",
       "        '올인원 패키지 : 김기현의 딥러닝을 활용한 자연어생성', '올인원 패키지 : Vue.js 압축 완성',\n",
       "        'REC.ON : AI', '올인원 패키지 : 성공적인 UX를 위한 유저 리서치 by 카카오페이 리서처',\n",
       "        '시크릿 코드 : 프론트엔드 UI 컴포넌트편', 'The RED : 데이터 사이언티스트 하용호',\n",
       "        '부동산 디벨로퍼 아카데미 : 주거용 수익형 부동산 개발', 'REC.ON : Autonomous Vehicle',\n",
       "        'The RED : 김민태', 'The RED : 1조 기업 가치를 만들어 낸 경영 원칙 by 신현성',\n",
       "        '글로벌 엑스퍼트 : 바이오 데이터사이언스(Bioinformatics)',\n",
       "        '데이터분석 프로젝트+자격증 온라인 완주반 2기', '코딩+알고리즘 온라인 완주반 6기',\n",
       "        '매주)브런치로 책 출판 온라인 완주반', 'REC.ON : VC',\n",
       "        '프로모션 : 콘텐츠 디자이너를 위한 커리어 백과사전 한끝세트 (3월 프리패스)',\n",
       "        '제품 디자인 포트폴리오 온라인 완주반 2기', '[한정판매] 자연어 A-Z 끝장 패키지(~4월)',\n",
       "        '올인원 패키지 : GA4 탑재, 구글 애널리틱스 끝장내기', '부동산 디벨로퍼 아카데미 : 부동산 마케팅',\n",
       "        '[한정판매] 딥러닝 끝장 패키지(~4월)', '[한정판매] 자연어처리 끝장 패키지(~4월)',\n",
       "        'SQL 100제 + 자격증 완성 온라인 완주반 5기', '디지털 마케팅 온라인 완주반 3기',\n",
       "        '초격차 패키지 : 한 번에 끝내는 AWS 인프라 구축과 DevOps 운영 v.1 (폐강)',\n",
       "        '올인원 패키지 : 김민태의 프론트엔드 아카데미 : 제 1강 JavaScript & TypeScript Essential',\n",
       "        '바이블 : 파이썬 기초부터 시작하는 딥러닝 영상인식', 'SQL 100제 + 자격증 완성 온라인 완주반 4기',\n",
       "        '스프링 아카데미아', '프로모션 : 개발자를 위한 코딩 백과사전 무제한 패스 (4월 프리패스)',\n",
       "        '프로모션 : 영상 퀄리티를 바꿔 줄 영상 제작 스킬 무제한 패스 (4월 프리패스)',\n",
       "        '프로모션 : 콘텐츠 디자이너를 위한 커리어 백과사전 무제한 패스 (4월 프리패스)',\n",
       "        '프로모션 : 내 콘텐츠 성과를 바꾸는 SNS 마케팅 무제한 패스 (4월 프리패스)',\n",
       "        '프로모션 : 시장의 흐름을 읽는 투자의 정석 무제한 패스 (4월 프리패스)',\n",
       "        '프로모션 : 내 커리어 지켜 줄 UX/UI 디자인 무제한 패스 (4월 프리패스)',\n",
       "        '프로모션 : 기초부터 시작하는 데이터분석 무제한 패스 (4월 프리패스)',\n",
       "        '프로모션 : 풀스택 마케터를 위한 마케팅 무제한 패스 (4월 프리패스)',\n",
       "        '밑바닥부터 배포까지 클론코딩 온라인 완주반 2기',\n",
       "        '프로모션 : 연봉 앞자리가 바뀌는 앱개발 무제한 패스 (4월 프리패스)', '브런치로 책 출판 온라인 완주반 3기',\n",
       "        '프로모션 : 시험대비 전공생을 위한 코딩 무제한 패스 (4월 프리패스)',\n",
       "        '프로모션 : 코딩 LEVEL UP 웹 개발 풀스텍 무제한 패스 (4월 프리패스)',\n",
       "        '프로모션 : 나를 위한 딥러닝 인사이트 딥러닝 백과사전 무제한 패스 (4월 프리패스)',\n",
       "        '프로모션 : 데이터 활용 능력을 바꿔 줄 데이터 분석 무제한 패스 (4월 프리패스)',\n",
       "        '프로모션 : 이력서를 살찌우는 직무 스킬업 무제한 패스 (4월 프리패스)',\n",
       "        '프로모션 : 필요할 때 꺼내보는 나만의 사수 마케팅 백과사전 무제한 패스 (4월 프리패스)',\n",
       "        '퍼포먼스 마케터 되기 온라인 완주반 3기',\n",
       "        '프로모션 : 딥러닝 기초부터 인사이트까지 딥러닝 마스터 무제한 패스 (4월 프리패스)',\n",
       "        '프로모션 : 워라밸을 완성하는 직장인 필수스킬 무제한 패스 (4월 프리패스)',\n",
       "        '승인받는 이모티콘 만들기 온라인 완주반 1기',\n",
       "        '프로모션 : Top tier 프로젝트를 만드는 무제한 패스 (4월 프리패스)',\n",
       "        '초격차 패키지 : 한 번에 끝내는 코딩테스트 369 Java편',\n",
       "        '프로모션 : MBA부터 HR까지 직장인 스킬업 무제한 패스 (4월 프리패스)',\n",
       "        '프로모션 : 온라인 창업 될 때 까지 무제한 패스 (4월 프리패스)',\n",
       "        '올인원 패키지 : 30개 글감으로 에세이 작가되기 BY.정영욱 플러스', 'UX/UI 포트폴리오 온라인 완주반 5기',\n",
       "        '올인원 패키지 : 30개 글감으로 에세이 작가되기 BY.정영욱',\n",
       "        '프로모션 : 투자의 방향성을 세우는 기업분석 무제한 패스 (4월 프리패스)',\n",
       "        '스프링 아카데미아 강의 7 - Spring Batch를 활용한 데이터 일괄처리',\n",
       "        'Java 웹 개발자 취업 온라인 완주반 3기', '올인원 패키지 : 아파트 말고 부동산 재테크 시작하기',\n",
       "        '코드 효율을 위한 리팩터링 온라인 완독반 2기', '직접 만드는 파이썬 자동화 온라인 완주반 1기',\n",
       "        '올인원 패키지 : 권오상의 금융 아카데미 - 권오상의 재무제표 분석 심화 (수강시간 제한)',\n",
       "        '올인원 패키지 : 권오상의 금융 아카데미 - 권오상의 재무제표 분석 기초 (수강시간 제한)',\n",
       "        '올인원 패키지 : 누적 조회수 12억! 우감독의 재미있는 영상 편집',\n",
       "        '[120일 수강 가능] 초격차 패키지 : 한번에 끝내는 영상 촬영과 편집',\n",
       "        '[120일 수강 가능] 초격차 패키지 : 한 번에 끝내는 프론트엔드 개발',\n",
       "        '[120일 수강 가능] 초격차 패키지 : 한번에 끝내는 Java/Spring 웹 개발 마스터',\n",
       "        '초격차 패키지 : 한번에 끝내는 3D 디자인 툴', '데이터분석 프로젝트+자격증 온라인 완주반 4기',\n",
       "        '프론트엔드 개발자 되기 온라인 완주반 4기', '매주) 컴퓨터 공학 전공자 따라잡기 온라인 완주반',\n",
       "        '스프링 아카데미아 15개 영상강의 코스(5월) - 샘플 강의 제공용',\n",
       "        '올인원 패키지 : 권오상의 금융 아카데미 - 권오상의 재무제표 분석 심화 (평생소장)',\n",
       "        '입만 열면 인정받는 스피치 10분컷', '이것만 배우면 끝 PPT 10분컷', '누워서 배우는 엑셀 10분컷',\n",
       "        '기초 회화부터 비즈니스 영어 10분컷', '이안 굿펠로의 딥러닝 온라인 완독반 1기',\n",
       "        '스프링 아카데미아 강의 2 - Spring Boot JPA 이해 및 성능 최적화',\n",
       "        '올인원 패키지 : 현직 Advisory에게 배우는 M&A 전략 및 PMI 실무',\n",
       "        '프로모션 : 3 STEP 으로 마스터하는 데이터분석 무제한 99패스 (5월 프리패스)',\n",
       "        '프로모션 : 풀스택 마케터를 위한 마케팅 무제한 99패스 (5월 프리패스)',\n",
       "        '프로모션 : 커리어를 UP UX/UI 디자인 무제한 99패스 (5월 프리패스)',\n",
       "        '프로모션 : 주니어 프론트엔드 개발자를 위한 무제한 99패스 (5월 프리패스)',\n",
       "        '프로모션 : 딥러닝 A to Z까지 한 번에 딥러닝 마스터 무제한 99패스 (5월 프리패스)',\n",
       "        '프로모션 : 워라밸을 완성하는 직장인 필수스킬 무제한 99패스 (5월 프리패스)',\n",
       "        '프로모션 : 나의 디자인 DNA찾기! 디자인 무제한 99패스 (5월 프리패스)',\n",
       "        '프로모션 : 주니어들을 위한 직장인 스킬 UP 무제한 99패스 (5월 프리패스)',\n",
       "        '프로모션 : 칼퇴기원! 실전압축 직장인 엑셀 무제한 99패스 (5월 프리패스)',\n",
       "        '프로모션 : 학점부터 코테까지 전공생 코딩 무제한 99패스 (5월 프리패스)',\n",
       "        '[120일 수강 가능] 초격차 패키지 : 한번에 끝내는 PPT 제작/디자인',\n",
       "        '[120일 수강 가능] 초격차 패키지 : 한번에 끝내는 디자인 툴',\n",
       "        '프로모션 : 데이터 분석 싸이클 완주를 위한 딥러닝 무제한 99패스 (5월 프리패스)',\n",
       "        '[120일 수강 가능] 올인원 패키지 : 디지털 마케팅 MAX 2020',\n",
       "        '[120일 수강 가능] 올인원 패키지 : 알고리즘 기술면접 완전 정복',\n",
       "        '[120일 수강 가능] 초격차 패키지 : 한번에 끝내는 UX/UI 디자인',\n",
       "        '프로모션 : 초봉을 바꾸는 프론트엔드 무제한 99패스 (5월 프리패스)',\n",
       "        '[120일 수강 가능] 초격차 패키지 : 한 번에 끝내는 데이터 분석 툴',\n",
       "        '[120일 수강 가능] 초격차 패키지 : 한 번에 끝내는 엑셀 실무',\n",
       "        '프로모션 : 기초부터 시작하는 데이터분석 무제한 99패스 (5월 프리패스)',\n",
       "        '[120일 수강 가능] 올인원 패키지 : 직장인을 위한 파이썬 데이터분석',\n",
       "        '[120일 수강 가능] 올인원 패키지 : Financial Modeling',\n",
       "        '[120일 수강 가능] 올인원 패키지 : 재무/세무 회계 실무 완성',\n",
       "        '프로모션 : 코딩 LEVEL UP 웹 개발 풀스텍 무제한 99패스 (5월 프리패스)',\n",
       "        '프로모션 : 매출을 드라이브 하는 마케팅 백과사전 무제한 99패스 (5월 프리패스)',\n",
       "        '프로모션 : 시장의 흐름을 읽는 투자의 정석 무제한 99패스 (5월 프리패스)',\n",
       "        '프로모션 : 연봉 앞자리가 바뀌는 앱개발 무제한99패스 (5월 프리패스)',\n",
       "        '프로모션 : 영상 퀄리티를 바꿔 줄 영상 제작 스킬 무제한 99패스 (5월 프리패스)',\n",
       "        '[120일 수강 가능] 올인원 패키지 : 모두를 위한 SQL/DB',\n",
       "        '프로모션 : MBA부터 HR까지 직장인 스킬업 무제한 99패스 (5월 프리패스)',\n",
       "        '프로모션 : 유튜버 따라잡고 실버버튼 받기 무제한 99패스 (5월 프리패스)',\n",
       "        '프로모션 : 영알못도 완성하는 영상편집 무제한 99패스 (5월 프리패스)',\n",
       "        '[120일 수강 가능] 올인원 패키지 : GA4 탑재, 구글 애널리틱스 끝장내기',\n",
       "        '프로모션 : 콘텐츠 디자이너를 위한 커리어 백과사전 무제한 99패스 (5월 프리패스)',\n",
       "        '프로모션 : 이력서를 살찌우는 취업준비 무제한 99패스 (5월 프리패스)',\n",
       "        '프로모션 : 나를 위한  데이터사이언스 백과사전 무제한 패스 (5월 프리패스)',\n",
       "        '프로모션 : 개발자를 위한 코딩 만능 백과사전 무제한 99패스 (5월 프리패스)',\n",
       "        '초격차 패키지 : 확실하게 끝내는 포토샵&일러스트레이터',\n",
       "        '프로모션 : 데이터 활용 능력을 바꿔 줄 데이터 분석 무제한 99패스 (5월 프리패스)',\n",
       "        '프로모션 : Top tier 프로젝트를 만드는 무제한 99패스 (5월 프리패스)',\n",
       "        '올인원 패키지 : 13만 구독자 피피티프로젝트의 누구나 쉽게 배우는 시선강탈 피피티 디자인',\n",
       "        '프로모션 : 투자의 방향성을 세우는 기업분석 무제한 99패스 (5월 프리패스)',\n",
       "        '프로모션 : 내 콘텐츠 성과를 바꾸는 SNS 마케팅 무제한 99패스 (5월 프리패스)',\n",
       "        '프로모션 : 1인마켓 준비부터 매출관리까지 무제한 99패스 (5월 프리패스)',\n",
       "        'Java 웹 개발자 취업 온라인 완주반 1기', '초격차 패키지 : 한 번에 끝내는 node.js 웹 프로그래밍',\n",
       "        '[한정판매] 자연어 A-Z 끝장 패키지(~5월)', '매주)서비스 기획서 완성 온라인 완주반 2105',\n",
       "        'Archive-Octane Render BASIC',\n",
       "        '스프링 아카데미아 강의 5 - Spring Security 인증 커스텀을 통한 서비스 구축',\n",
       "        'The RED : 개발자로 살아남기 : 30년을 주도하는 9가지 필수 기술 by 박종천',\n",
       "        '팀원에게 인정받는 리더십 하루 10분컷', '[한정판매] 자연어처리 끝장 패키지(~5월)',\n",
       "        '일상을 담는 아이패드 드로잉 10분컷', '모션그래픽 포트폴리오 온라인 완주반 1기',\n",
       "        '프로모션 : 기초부터 시작하는 데이터분석 프리패스 (5월 삼성 패키지 현물 :  삼성노트북 플러스2)',\n",
       "        '프로모션 : 코딩 LEVEL UP 웹 개발 풀스텍 프리패스 (5월 삼성 패키지 현물 :  삼성노트북 플러스2)',\n",
       "        '프로모션 : 영상 퀄리티를 바꿔 줄 영상 제작 스킬 프리패스(5월 삼성 패키지 현물 :  삼성 갤럭시 북 프로)',\n",
       "        '프로모션 : 워라밸을 완성하는 직장인 필수스킬 프리패스 (5월 삼성 패키지 현물 :  삼성노트북 플러스2)',\n",
       "        '프로모션 : 코딩 LEVEL UP 웹 개발 풀스텍 프리패스 (5월 삼성 패키지 현물 :  삼성 갤럭시 북 프로)',\n",
       "        '프로모션 : 워라밸을 완성하는 직장인 필수스킬 프리패스 (5월 삼성 패키지 현물 :  삼성 갤럭시 북 프로)',\n",
       "        '프로모션 : 풀스택 마케터를 위한 마케팅 프리패스 (5월 삼성 패키지 현물 :  삼성노트북 플러스2)',\n",
       "        '시크릿코드 : SpringBoot/JPA (1)',\n",
       "        '프로모션 : 영상 퀄리티를 바꿔 줄 영상 제작 스킬 프리패스 (5월 삼성 패키지 현물 :  삼성노트북 플러스2)',\n",
       "        '프로모션 : 풀스택 마케터를 위한 마케팅 프리패스 (5월 삼성 패키지 현물 :  삼성 갤럭시 북 프로)',\n",
       "        '프로모션 : 시장의 흐름을 읽는 투자의 정석 프리패스  (5월 삼성 패키지 현물 :  삼성노트북 플러스2)',\n",
       "        '프로모션 : 기초부터 시작하는 데이터분석 프리패스 (5월 삼성 패키지 현물 :  삼성 갤럭시 북 프로)',\n",
       "        '[한정판매] 딥러닝 끝장 패키지(~5월)',\n",
       "        '프로모션 : 시장의 흐름을 읽는 투자의 정석 프리패스(5월 삼성 패키지 현물 :  삼성 갤럭시 북 프로)',\n",
       "        '건축/공간 디자인 실무 완성 온라인 완주반 1기',\n",
       "        '프로모션 : 커리어를 UP UX/UI 디자인 프리패스 (5월 삼성 패키지 현물 :  삼성 갤럭시 북 프로)',\n",
       "        '코딩+알고리즘 온라인 완주반 7기', '올인원 패키지 : A/B 테스트 탑재, 개인화 마케팅 끝장내기',\n",
       "        '올인원 패키지 : 1인 쇼핑몰 시작하기 (2020)',\n",
       "        '프로모션 : 데이터 분석 A to Z 평생 PASS (10월)',\n",
       "        '매주)SQL 100제 + 자격증 완성 온라인 완주반', '초격차 패키지 : 한번에 끝내는 3D 모션그래픽',\n",
       "        '올인원 패키지 : star741의 캐주얼 일러스트 드로잉',\n",
       "        '스프링 아카데미아 강의 11 - Spring Security를 활용한 OAuth Framework Server Side 구현',\n",
       "        '스프링 아카데미아 강의 4 - Spring REST Docs로 자동으로 API문서 만들기',\n",
       "        '초격차 패키지 : 한 번에 끝내는 파이썬 웹 개발',\n",
       "        '스프링 아카데미아 강의 8 - Spring Security를 통한 MFA 구현',\n",
       "        '프로모션 : 2+2 워라밸을 완성하는 직장인 필수스킬 PASS  (6월 프리패스)',\n",
       "        '프로모션 : 2+2 코딩테스트 결과를 바꾸는 전공생 코딩 PASS (6월 프리패스)',\n",
       "        '프로모션 : 2+2 한 번에 끝내는 개발 풀스택 쌓기 PASS (6월 프리패스)',\n",
       "        '프로모션 : 2+2 MBA부터 HR까지 직장인 스킬 정복 PASS  (6월 프리패스)',\n",
       "        '프로모션 : 2+2 기초부터 다지는 데이터분석 PASS  (6월 프리패스)',\n",
       "        '프로모션 : 2+2 주니어 프론트엔드 개발자를 위한 승진코딩 PASS (6월 프리패스)',\n",
       "        '프로모션 : 개발자를 위한 코딩 만능 백과사전 PASS (6월 프리패스)',\n",
       "        '프로모션 : 2+2 연봉 앞자리가 바뀌는 앱개발 PASS (6월 프리패스)',\n",
       "        '프로모션 : 2+2 시장의 흐름을 읽는 투자의 정석 PASS  (6월 프리패스)',\n",
       "        '프로모션 : 2+2 커리어를 UP! UX/UI 디자인 PASS (6월 프리패스)',\n",
       "        '프로모션 : 2+2 초봉을 바꾸는 주니어를 위한 개발 PASS (6월 프리패스)',\n",
       "        '프로모션 : 콘텐츠 디자이너를 위한 커리어 백과사전 PASS (6월 프리패스)',\n",
       "        '프로모션 : 2+2 나의 디자인 DNA찾기! 디자이너를 위한 PASS (6월 프리패스)',\n",
       "        '프로모션 : 2+2 데이터 사이언스 실무대비! 딥러닝/머신러닝 마스터 PASS (6월 프리패스)',\n",
       "        '프로모션 : 2+2 데이터 분석 싸이클 완주를 위한 딥러닝 PASS (6월 프리패스)',\n",
       "        '프로모션 : 2+2 유튜버 따라잡고 실버버튼 받는 영상PASS (6월 프리패스)',\n",
       "        '프로모션 : 2+2 코딩실력 LEVEL UP 웹 개발 PASS (6월 프리패스)',\n",
       "        '프로모션 : 2+2 풀스택 데이터 사이언티스트를 위한 필수 PASS (6월 프리패스)',\n",
       "        '프로모션 : 2+2 딥러닝 A to Z까지 한 번에 마스터하는 PASS (6월 프리패스)',\n",
       "        '프로모션 : 2+2 주니어들을 위한 직장인 스킬 UP PASS (6월 프리패스)',\n",
       "        '프로모션 : 매출을 드라이브 하는 마케팅 백과사전 무제한 PASS (6월 프리패스)',\n",
       "        '프로모션 : 2+2 지금은 마테크가 대세! 매출을 일으키는 마케팅 PASS (6월 프리패스)',\n",
       "        '프로모션 :2+2 취업까지 순식간! 개발 취준생을 위한 합격 PASS (6월 프리패스)',\n",
       "        '프로모션 : 2+2 칼퇴기원! 실전압축 직장인 엑셀 PASS (6월 프리패스)',\n",
       "        '프로모션 : 2+2 풀스택 마케터를 위한 마케팅 PASS  (6월 프리패스)',\n",
       "        '프로모션 : 나를 위한  데이터사이언스 백과사전 PASS (6월 프리패스)',\n",
       "        '프로모션 : 2+2 디지털 마케팅의 끝판왕 콘텐츠 디자인 PASS (6월 프리패스)',\n",
       "        '클론코딩으로 앱 개발 입문하기 온라인 완주반 3기',\n",
       "        '프로모션 : 2+2 영상 퀄리티를 높이는 전문가 편집스킬 PASS (6월 프리패스)',\n",
       "        '프로모션 : 2+2 MZ세대를 잡아라! SNS 마케팅 트렌드 PASS (6월 프리패스)',\n",
       "        '매주)컴퓨터 공학 전공자 따라잡기 온라인 완주반',\n",
       "        '프로모션 : 2+2 Top tier 프로젝트를 만드는 데이터 사이언스 PASS (6월 프리패스)',\n",
       "        '매주)서비스 기획서 완성 온라인 완주반',\n",
       "        '프로모션 : 2+2 데이터 활용 능력을 바꿔 줄 데이터 분석 PASS  (6월 프리패스)',\n",
       "        '프로모션 : 2+2 파이썬의 바이블! 딥러닝/머신러닝 정석 PASS  (6월 프리패스)',\n",
       "        '경영의 신: core MBA',\n",
       "        '초격차 패키지: 30개 프로젝트로 배우는 Android 앱 개발 with Kotlin 특별할인',\n",
       "        '프로모션 : 2+2 취준생 필수! 이력서 능력치 UP 취업 합격 PASS (6월 프리패스)',\n",
       "        '올인원 패키지 : 아카데미 : 편집하는여자의 영상편집 마스터클래스 - 제 1강 프리미어프로 베이직',\n",
       "        '프로모션 : 2+2 투자의 방향성을 세우는 기업분석 PASS (6월 프리패스)',\n",
       "        '[한정판매] 자연어 A-Z 끝장 패키지(~6월)', '초격차 패키지 : 일잘러 필수 스킬 모음.zip',\n",
       "        '올인원 패키지 : 권오상의 금융 아카데미 - 권오상 회계사의 자금조달 분석 및 가치평가 (수강시간 제한)',\n",
       "        '올인원 패키지 : 구글 Material Design 시스템을 활용한 Youtube for Learning 앱 디자인 프로젝트',\n",
       "        '[한정판매] 자연어처리 끝장 패키지(~6월)', '초격차 패키지 : 한 번에 끝내는 유튜브 크리에이터 되기',\n",
       "        '올인원 패키지 : C#으로 하는 인공지능 게임 제작 : 강화학습 에이전트를 사용한 보드게임 제작 실습',\n",
       "        '초격차 패키지 : 한 번에 끝내는 데이터 분석',\n",
       "        'The RED : 김영하 작가의 내 안의 숨은 이야기를 찾아 쓰는 법',\n",
       "        '[런칭프로모션_무료클립제공] 올인원 패키지 : 박은종의 객체지향 설계를 위한 디자인패턴 with 자바',\n",
       "        '[한정판매] 딥러닝 끝장 패키지(~6월)',\n",
       "        '스프링 아카데미아 강의 9 - 직접 적용해보는 TDD와 Spring Boot',\n",
       "        '올인원 패키지 : 15명의 전문 애널리스트에게 배우는 산업&매크로 분석과 투자 전략', '엑셀 온라인 완주반 3기',\n",
       "        '올인원 패키지 : 데이터기반 마케팅',\n",
       "        '[런칭프로모션_무료클립제공]초격차 패키지 : 한 번에 끝내는 React의 모든 것',\n",
       "        '초격차 패키지 : 한 번에 끝내는 포토샵 활용',\n",
       "        'The RED : 비즈니스 성공을 위한 Java/Spring 기반 서비스 개발과 MSA 구축 by 이희창',\n",
       "        '초격차 패키지 : 세상의 모든 감성 아이패드 드로잉', '초격차 패키지 : 게임 캐릭터 모델링의 모든 것',\n",
       "        '올인원 패키지 : 강필성의 머신러닝 아카데미',\n",
       "        '프로모션 : MZ세대를 잡아라! SNS 마케팅 트렌드 BEST PASS (7월 프리패스)',\n",
       "        '프로모션 : 투자의 방향성을 세우는 기업분석 BEST PASS (7월 프리패스)',\n",
       "        '프로모션 : 나의 디자인 DNA찾기! 디자이너를 위한 BEST PASS (7월 프리패스)',\n",
       "        '프로모션 : 딥러닝 A to Z까지 한 번에 마스터하는 BEST PASS (7월 프리패스)',\n",
       "        '프로모션 : 파이썬의 바이블 BEST PASS (7월 프리패스)',\n",
       "        '프로모션 : 기초부터 다지는 데이터분석 BEST PASS (7월 프리패스)',\n",
       "        '프로모션 : 풀스택 마케터를 위한 마케팅 BEST PASS (7월 프리패스)',\n",
       "        '프로모션 : 취준생 필수! 이력서 능력치 UP 취업 합격 BEST PASS (7월 프리패스)',\n",
       "        '프로모션 : 매출을 드라이브 하는 마케팅 백과사전 BEST PASS (7월 프리패스)',\n",
       "        '프로모션 : 코딩테스트 결과를 바꾸는 전공생 코딩 BEST PASS (7월 프리패스)',\n",
       "        '프로모션 : 데이터 분석 싸이클 완주를 위한 딥러닝 BEST PASS (7월 프리패스)',\n",
       "        '프로모션 : 연봉 앞자리가 바뀌는 앱개발 BEST PASS (7월 프리패스)',\n",
       "        '올인원 패키지 : 박은종의 객체지향 설계를 위한 디자인패턴 with 자바',\n",
       "        '프로모션 : Top tier 프로젝트를 만드는 데이터 사이언스 BEST PASS (7월 프리패스)',\n",
       "        '[한정판매] 자연어처리 끝장 패키지(~7월)',\n",
       "        '프로모션 : 데이터 사이언스 실무대비! 딥러닝/머신러닝 마스터 BEST PASS (7월 프리패스)',\n",
       "        '프로모션 : 나를 위한  데이터사이언스 백과사전 BEST PASS (7월 프리패스)',\n",
       "        '프로모션 : 한 번에 끝내는 개발 풀스택 쌓기 BEST PASS (7월 프리패스)',\n",
       "        '프로모션 : 시장의 흐름을 읽는 투자의 정석 BEST PASS  (7월 프리패스)',\n",
       "        '프로모션 : 디지털 마케팅의 끝판왕 콘텐츠 디자인 BEST PASS (7월 프리패스)',\n",
       "        '프로모션 : 프론트엔드 끝내기 BEST PASS (7월 프리패스)',\n",
       "        '프로모션 : 커리어를 UP! UX/UI 디자인 BEST PASS (7월 프리패스)',\n",
       "        '프로모션 : 유튜버 따라잡고 실버버튼 받는 영상 BEST PASS (7월 프리패스)',\n",
       "        '프로모션 : 지금은 마테크가 대세! 매출을 일으키는 마케팅 BEST PASS (7월 프리패스)',\n",
       "        '프로모션 : 데이터 활용 능력을 바꿔 줄 데이터 분석 BEST PASS  (7월 프리패스)',\n",
       "        'The RED : 견고한 UI 설계를 위한 마크업 가이드 by 정찬명',\n",
       "        '올인원 패키지 : 누적 다운로드 120만+ 1인 개발자와 함께하는 앱 개발 입문',\n",
       "        '프로모션 : 영상 퀄리티를 높이는 전문가 편집스킬 PASS (7월 프리패스)',\n",
       "        '프로모션 : 초봉을 바꾸는 주니어를 위한 개발 BEST PASS (7월 프리패스)',\n",
       "        '프로모션 : 풀스택 데이터 사이언티스트를 위한 필수 BEST PASS (7월 프리패스)',\n",
       "        '프로모션 : 콘텐츠 디자이너를 위한 커리어 백과사전 BEST PASS (7월 프리패스)',\n",
       "        '나의 칼퇴치트키 엑셀유치원', 'The RED : 칼만필터를 활용한 자율주행 센서퓨전 기술 구현 by 조형기',\n",
       "        '[한정판매] 딥러닝 끝장 패키지(~7월)',\n",
       "        '프로모션 : 주니어들을 위한 직장인 스킬 UP BEST PASS (7월 프리패스)',\n",
       "        '프로모션 : MBA부터 HR까지 직장인 스킬 정복 BEST PASS  (7월 프리패스)',\n",
       "        '프로모션 : 워라밸을 완성하는 직장인 필수스킬 BEST PASS (7월 프리패스)',\n",
       "        '프로모션 : 칼퇴기원! 실전압축 직장인 엑셀 BEST PASS (7월 프리패스)',\n",
       "        '프로모션 : 개발자를 위한 코딩 만능 백과사전 BEST PASS (7월 프리패스)',\n",
       "        '(초격차변경)프로모션 : 코딩테스트 결과를 바꾸는 전공생 코딩 BEST PASS (7월 프리패스)',\n",
       "        '올인원 패키지 : Elasticsearch로 하루만에 고급 검색 엔진 만들기',\n",
       "        '올인원 패키지 : 1억 8천만명을 움직이는 실리콘밸리 슈퍼우먼이 알려주는 대체 불가 관리자로 성장하는 법',\n",
       "        'The RED : 백발의 개발자를 꿈꾸며 : 코드리뷰, 레거시와 TDD by 백명석, 최범균',\n",
       "        '프로모션 : 취업까지 순식간! 개발 취준생을 위한 합격 BEST PASS (7월 프리패스)',\n",
       "        '초격차 패키지 : 30개 프로젝트로 배우는 iOS 앱 개발 with Swift',\n",
       "        '초격차 패키지 : 한 번에 끝내는 React의 모든 것', '[한정판매] 자연어 A-Z 끝장 패키지(~7월)',\n",
       "        '프로모션 : 연봉 앞자리가 바뀌는 앱개발 iPad 패키지 (7월 현물 프리패스)',\n",
       "        '프로모션 : 아이패드 200%활용 드로잉 만랩 iPad 패키지 (7월 현물 프리패스)',\n",
       "        '프로모션 : 한 번에 끝내는 개발 풀스택 iPad 패키지 (7월 현물 프리패스)',\n",
       "        '프로모션 : 커리어를 UP! UX/UI 디자인 iPad 패키지 (7월 현물 프리패스)',\n",
       "        '프로모션 : 트렌드 완벽정복! 일잘러 마케터  iPad 패키지 (7월 현물 프리패스)',\n",
       "        '프로모션 : MZ세대를 잡아라! SNS 마케팅 트렌드  iPad 패키지 (7월 현물 프리패스)',\n",
       "        '프로모션 : 매출을 드라이브 하는 마케팅 백과사전 iPad 패키지 (7월 현물 프리패스)',\n",
       "        '프로모션 : 풀스택 데이터 사이언티스트를 위한 필수 iPad 패키지 (7월 현물 프리패스)',\n",
       "        '프로모션 : 기초부터 다지는 데이터분석 iPad 패키지 (7월 현물 프리패스)',\n",
       "        '프로모션 : 나를 위한  데이터사이언스 백과사전  iPad 패키지 (7월 현물 프리패스)',\n",
       "        '프로모션 : 풀스택 마케터를 위한 마케팅 iPad 패키지 (7월 현물 프리패스)',\n",
       "        '프로모션 : 딥러닝 A to Z까지 한 번에 마스터하는 iPad 패키지 (7월 현물 프리패스)',\n",
       "        '올인원 패키지 : 박세익 전무에게 배우는 주식 시장 분석 & 포트폴리오 운용 전략',\n",
       "        '프로모션 : 개발자를 위한 코딩 만능 백과사전 iPad 패키지 (7월 현물 프리패스)',\n",
       "        'The RED : 탑 아티스트가 선택한 디렉터 : 권오준이 알려주는 영상 연출의 모든 것',\n",
       "        '프로모션 : 데이터 활용 능력을 바꿔 줄 데이터 분석 iPad 패키지 (7월 현물 프리패스)',\n",
       "        '프로모션 : 영상 퀄리티를 높이는  전문가 편집스킬 iPad 패키지 (7월 현물 프리패스)', '일러스트레이터 서지',\n",
       "        '프로모션 : 투자의 방향성을 세우는 기업분석 iPad 패키지 (7월 현물 프리패스)',\n",
       "        '프로모션 : 비 전공자를 위한 프로그래밍 입문  iPad 패키지 (7월 현물 프리패스)',\n",
       "        '프로모션 : 워라밸을 완성하는 직장인 필수스킬 iPad 패키지 (7월 현물 프리패스)',\n",
       "        '프로모션 : 유튜버 따라잡고 실버버튼 받는 영상 iPad 패키지 (7월 현물 프리패스)',\n",
       "        '프로모션 : 초봉을 바꾸는 주니어를 위한 개발 iPad 패키지 (7월 현물 프리패스)',\n",
       "        '초격차 패키지 : 한 번에 끝내는 PPT 제작/디자인',\n",
       "        '프로모션 : 나의 디자인 DNA찾기! 디자이너를 위한 iPad 패키지 (7월 현물 프리패스)',\n",
       "        '올인원 패키지 : 모바일 앱 개발', '올인원 패키지 : 영상 제작/편집 (**운영되지 않는 코스입니다)',\n",
       "        '올인원 패키지 : 콘텐츠 마케팅', '프로모션 : 프론트엔드 끝내기 iPad 패키지 (7월 현물 프리패스)',\n",
       "        '프로모션 : 코딩테스트 결과를 바꾸는 전공생 코딩 iPad 패키지 (7월 현물 프리패스)',\n",
       "        '초격차 패키지 : 한번에 끝내는 VFX',\n",
       "        '프로모션 : 콘텐츠 디자이너를 위한 커리어 백과사전 iPad 패키지 (7월 현물 프리패스)',\n",
       "        '프로모션 : 파이썬의 바이블 iPad 패키지 (7월 현물 프리패스)',\n",
       "        '프로모션 : 주니어들을 위한 직장인 스킬 UP iPad 패키지 (7월 현물 프리패스)',\n",
       "        '(프로모션 7/16-7/29) 초격차 패키지 : 한 번에 끝내는 Spring 완.전.판',\n",
       "        '초격차 패키지 : 한 번에 끝내는 컴퓨터 공학 전공필수 & 인공지능 심화',\n",
       "        '프로모션 : 지금은 마테크가 대세! 매출을 일으키는 마케팅 iPad 패키지 (7월 현물 프리패스)',\n",
       "        '프로모션 : 시장의 흐름을 읽는 투자의 정석 iPad 패키지 (7월 현물 프리패스)',\n",
       "        '프로모션 : MBA부터 HR까지 직장인 스킬 정복 iPad 패키지 (7월 현물 프리패스)',\n",
       "        '프로모션 : 디지털 마케팅의 끝판왕 콘텐츠 디자인 iPad 패키지 (7월 현물 프리패스)',\n",
       "        '프로모션 : 칼퇴기원! 실전압축! 직장인 엑셀 iPad 패키지 (7월 현물 프리패스)',\n",
       "        '초격차 패키지 : 무조건 팔리는 SNS콘텐츠 끝장내기',\n",
       "        'The RED : 백엔드 에센셜 : 대용량 서비스를 위한 아키텍처 with Redis by 강대명',\n",
       "        '올인원 패키지 : 김기현의 BERT, GPT-3를 활용한 자연어처리 ',\n",
       "        '올인원 패키지 : 엑셀로 만드는 부동산 Financial Modeling',\n",
       "        '초격차 패키지 : 한 번에 끝내는 딥러닝/인공지능', '올인원 패키지 : 박담 작가와 함께 남자 캐릭터 드로잉',\n",
       "        '올인원 패키지 : 박민수에게 배우는 직장인 초현실 투자 전략',\n",
       "        '올인원 패키지 : 스프링러너의 스프링 아카데미 : Spring을 활용한 유연한 백엔드 개발 트레이닝',\n",
       "        '올인원 패키지 : 유전 알고리즘을 활용한 머신러닝 입력 최적화 및 대안 제안 메소드',\n",
       "        '올인원 패키지 : FX 아티스트 김재민의 리얼리스틱 후디니 입문',\n",
       "        '초격차 패키지 : 한 번에 끝내는 게임 배경의 모든 것',\n",
       "        '초격차 패키지 : 한 번에 끝내는 AWS 인프라 구축과 DevOps 운영',\n",
       "        '초격차 패키지 : 한 번에 끝내는 Spring 완.전.판',\n",
       "        '올인원 패키지 : SNS 콘텐츠 기획/제작 MAX 2020 + [20%할인쿠폰]초격차 패키지 : 무조건 팔리는 SNS 콘텐츠 끝장내기',\n",
       "        '프로모션 : 영상 퀄리티를 높이는 전문가 편집스킬 PASS (8월 프리패스)',\n",
       "        '프로모션 : 프론트엔드 첫 걸음 평생 PASS (8월 프리패스)',\n",
       "        '프로모션 : 풀스택 마케터를 위한 마케팅 평생 PASS (8월 프리패스)',\n",
       "        '프로모션 : 워라밸을 완성하는 직장인 필수스킬 평생 PASS (8월 프리패스)',\n",
       "        '프로모션 : 커리어를 UP! UX/UI 디자인 평생 PASS (8월 프리패스)',\n",
       "        '프로모션 : 칼퇴기원! 실전압축 직장인 엑셀 평생 PASS (8월 프리패스)',\n",
       "        '[한정판매] 딥러닝 끝장 패키지(~8월)',\n",
       "        '프로모션 : 나의 디자인 DNA찾기! 디자이너를 위한 평생 PASS (8월 프리패스)',\n",
       "        '프로모션 : 파이썬의 바이블 평생 PASS (8월 프리패스)',\n",
       "        '프로모션 : 유튜버 따라잡고 실버버튼 받는 영상 평생 PASS (8월 프리패스)',\n",
       "        '프로모션 : 나를 위한  데이터사이언스 백과사전 평생 PASS (8월 프리패스)',\n",
       "        '프로모션 : 국내외 TOP tier 전문가와 함께하는 데이터 사이언스 프로젝트 평생 PASS (8월 프리패스)',\n",
       "        '프로모션 : 데이터 분석 싸이클 완주를 위한 딥러닝 평생 PASS (8월 프리패스)',\n",
       "        '프로모션 : 매출을 드라이브 하는 마케팅 백과사전 평생 PASS (8월 프리패스)',\n",
       "        '프로모션 : MZ세대를 잡아라! SNS 마케팅 트렌드 평생 PASS (8월 프리패스)',\n",
       "        '프로모션 : 취준생 필수! 이력서 꽉채우는 평생 PASS (8월 프리패스)',\n",
       "        '프로모션 : 경쟁력을 만드는 데이터분석 평생 PASS (8월 프리패스)',\n",
       "        '프로모션 : 초봉을 바꾸는 주니어를 위한 개발평생 PASS (7월 프리패스)',\n",
       "        '프로모션 : 주니어들을 위한 직장인 스킬 UP 평생 PASS (8월 프리패스)',\n",
       "        '프로모션 : 데이터 사이언스 실무대비! 딥러닝/머신러닝 마스터 평생 PASS (8월 프리패스)',\n",
       "        '[한정판매] 자연어 A-Z 끝장 패키지(~8월)',\n",
       "        '프로모션 : 데이터 사이언티스트라면 필수! 풀스택 데이터 사이언스 평생 PASS (8월 프리패스)',\n",
       "        '프로모션 : 데이터 활용 능력을 바꿔 줄 데이터 분석 평생 PASS (8월 프리패스)',\n",
       "        '프로모션 : 한 번에 끝내는 개발 풀스택 쌓기 평생 PASS (8월 프리패스)',\n",
       "        '프로모션 : 연봉 앞자리가 바뀌는 앱개발 평생 PASS (8월 프리패스)',\n",
       "        '초격차 패키지 : 한번에 끝내는 금융ㆍ투자(IB) 실무',\n",
       "        '프로모션 : 디지털 마케팅의 끝판왕 콘텐츠 디자인 평생 PASS (8월 프리패스)',\n",
       "        '프로모션 : 한 번에 마스터하는 딥러닝 A to Z 평생 PASS (8월 프리패스)',\n",
       "        '프로모션 : 시장의 흐름을 읽는 투자의 정석 평생 PASS  (8월 프리패스)',\n",
       "        '프로모션 : 프론트엔드 개발자 준비 평생 PASS (8월 프리패스)',\n",
       "        '프로모션 : 지금은 마테크가 대세! 매출을 일으키는 마케팅 평생 PASS (8월 프리패스)',\n",
       "        '프로모션 : 콘텐츠 디자이너를 위한 커리어 백과사전 평생 PASS (8월 프리패스)',\n",
       "        '프로모션 : MBA부터 HR까지 직장인 스킬 평생 PASS  (8월 프리패스)',\n",
       "        '프로모션 : 투자가 망설여진다면? 기업분석 평생 PASS (8월 프리패스)',\n",
       "        '프로모션 : 취업까지 순식간! 개발 취준생을 위한 합격 평생 PASS (8월 프리패스)',\n",
       "        '프로모션 : 개발자를 위한 코딩 만능 백과사전 평생 PASS (8월 프리패스)',\n",
       "        'The RED : 조은의 프론트엔드 실무 가이드 : 요구사항 분석과 적정 기술',\n",
       "        '초격차 패키지 : 게임 개발자 취업의 모든 것',\n",
       "        '올인원 패키지 : 디자인의 차이를 만드는 서체 활용법 by 산돌 서체 디자이너',\n",
       "        '초격차 패키지 : 한 번에 끝내는 일러스트레이터 활용', '[한정판매] 자연어처리 끝장 패키지(~8월)',\n",
       "        '용호수의 돈 버는 실전 영상 제작', '초격차 패키지 : 한 번에 끝내는 디지털 마케팅',\n",
       "        '올인원 패키지 : 공여사와 무작정 풀어보는 엑셀 실무', '올인원 패키지 : 시선을 사로잡는 브랜드 디자인',\n",
       "        '[묶음] 용호수의 입문+실전 강의를 한 번에!', '초격차 패키지 : 한 번에 끝내는 머신러닝과 데이터분석 A-Z',\n",
       "        '초격차 패키지 : 한 번에 끝내는 부동산 경매/공매',\n",
       "        'The RED : 픽사 라이팅 아티스트에게 배우는 빛과 색의 비주얼 스토리텔링 by 이민형',\n",
       "        '올인원 패키지 : 최성일의 코딩 초급자를 위한 웹 모션 디자인',\n",
       "        '올인원 패키지 : 글로벌 1위 Salesforce 디자인 디렉터의 B2B SaaS 프로덕트 디자인 스프린트 실전',\n",
       "        '프로모션 : 커리어를 UP! UX/UI 디자인 벼락치기 패키지 (9월 프리패스)',\n",
       "        '올인원 패키지 : 리마의 로맨스판타지 웹소설 일러스트',\n",
       "        'The RED : 고객 경험을 개선하는 A/B테스트 기반 모바일 앱 개발 by 이승민',\n",
       "        '올인원 패키지 : 노잼봇과 함께 배우는 파이썬 유치원',\n",
       "        '올인원 패키지 : 세일즈 코치 Cate의 B2B Sales 성공방정식',\n",
       "        '프로모션 : MZ세대를 잡아라! SNS 마케팅 트렌드 벼락치기 패키지 (9월 프리패스)',\n",
       "        '프로모션 : 상상을 현실로 만드는 VFX 벼락치기 패키지 (9월 프리패스)',\n",
       "        '프로모션 : 파이썬 실전 UP! 데이터분석 벼락치기 패키지 (9월 프리패스)',\n",
       "        '프로모션 : 지금은 마테크가 대세! 매출을 일으키는 마케팅 벼락치기 패키지 (9월 프리패스)',\n",
       "        '프로모션 : 경쟁력을 만드는 데이터분석 벼락치기 패키지 (9월 프리패스)',\n",
       "        '프로모션 : 풀스택 마케터를 만드는 마케팅 벼락치기 패키지 (9월 프리패스)',\n",
       "        '프로모션 : 주니어 UX/UI 디자이너를 위한 실전 디자인 벼락치기 패키지 (9월 프리패스)',\n",
       "        '프로모션 : 나도 실버버튼 유튜버! 영상제작 벼락치기 패키지 (9월 프리패스)',\n",
       "        '수정:프로모션 : 경쟁력을 만드는 데이터분석 벼락치기 패키지 (9월 프리패스)',\n",
       "        '프로모션 : 영상 퀄리티를 높이는 전문가 편집스킬 벼락치기 패키지 (9월 프리패스)',\n",
       "        '프로모션 : 시장의 흐름을 읽는 투자의 정석 벼락치기 패키지  (9월 프리패스)',\n",
       "        '온라인 강의 : 입문자를 위한 PPT 활용의 모든 것',\n",
       "        '프로모션 : 나의 디자인 DNA찾기! 디자이너를 위한 벼락치기 패키지 (9월 프리패스)',\n",
       "        '프로모션 : 업계 탑티어 강사님들께 배우는 데이터사이언스 백과사전 패키지 (9월 프리패스)',\n",
       "        '프로모션 : 매출을 드라이브 하는 마케팅 백과사전 패키지 (9월 프리패스)',\n",
       "        '프로모션 : 디지털 마케팅의 끝판왕 콘텐츠 디자인 벼락치기 패키지 (9월 프리패스)',\n",
       "        '프로모션 : 취준생 필수! 직장인 필수스킬 벼락치기 패키지 (9월 프리패스)',\n",
       "        '프로모션 : 꿈의 수익률을 만나라! 부동산 투자 벼락치기 패키지 (9월 프리패스)',\n",
       "        '프로모션 : 국내외 TOP tier 전문가와 함께하는 데이터 사이언스 프로젝트 벼락치기 패키지 (9월 프리패스)',\n",
       "        '프로모션 : MBA부터 HR까지 직장인 스킬 벼락치기 패키지 (9월 프리패스)',\n",
       "        '[한정판매] 자연어 A-Z 끝장 패키지(~9월)',\n",
       "        '프로모션 : 전략적 브랜딩을 위한 마케팅 벼락치기 패키지 (9월 프리패스)',\n",
       "        '프로모션 : 나만의 드로잉 감성찾기! 디지털 드로잉 벼락치기 패키지 (9월 프리패스)',\n",
       "        '[한정판매] 딥러닝 끝장 패키지(~9월)',\n",
       "        '프로모션 : 한 번에 마스터하는 딥러닝 A to Z 벼락치기 패키지(9월 프리패스)',\n",
       "        ':프로모션 : 콘텐츠 디자이너를 위한 커리어 백과사전 패키지 (9월 프리패스)',\n",
       "        '프로모션 : 데이터 활용 능력을 바꿔 줄 데이터 분석 벼락치기 패키지 (9월 프리패스)',\n",
       "        '프로모션 : 고급 데이터 분석의 A to Z 데이터 분석 바이블 벼락치기 패키지  (9월 프리패스)',\n",
       "        '프로모션 : 워라밸을 완성하는 직장인 필수스킬 벼락치기 패키지 (9월 프리패스)',\n",
       "        '편집하는여자의 영상편집 마스터클래스 - 제 2강 10가지 편집기법으로 프리미어 레벨업하기!',\n",
       "        'The RED : 검색엔진 구축을 위한 Elasticsearch 마스터 클래스 by 정호욱',\n",
       "        'The RED : 현실 데이터를 활용한 추천시스템 구현 A to Z by 번개장터 CTO 이동주',\n",
       "        '캐릭터 스튜디오 그래빗', '[한정판매] 자연어처리 끝장 패키지(~9월)',\n",
       "        '프로모션 : 나도 금손이 될 수 있다! 일러스트 드로잉 평생 무한패스 (9월 프리패스)',\n",
       "        '프로모션 : 데이터 사이언티스트 커리어 로드맵 무한패스 (9월 프리패스)',\n",
       "        '올인원 패키지 : 스프링의 정석 : 남궁성과 끝까지 간다',\n",
       "        '프로모션 : 똑똑한 직장인을 위한 업무력 UP 무한패스 (9월 프리패스)',\n",
       "        '프로모션 : 연봉 상승으로 가는 길! UX/UI 풀코스 무한패스 (9월 프리패스)',\n",
       "        '프로모션 : 똑똑한 마케팅을 위한 데이터 분석 무한패스 (9월 프리패스)',\n",
       "        '프로모션 : 능력있는 올라운더 마케터가 되자! 온라인 마케팅 풀코스 무한패스 (9월 프리패스)',\n",
       "        'The RED : 블리자드 라이팅 아티스트 : 이호성의 언리얼 엔진 라이팅',\n",
       "        '프로모션 : 워라밸을 꿈꾸는 직장인을 위한 무한패스 (9월 프리패스)',\n",
       "        '프로모션 : 비전공자를 위한 데이터 분석 왕초보 입문 무한패스 (9월 프리패스)',\n",
       "        '초격차 패키지 : 한번에 끝내는 재무세무회계',\n",
       "        '프로모션 : 고퀄리티 영상을 위한 영상편집 마스터 무한패스 (9월 프리패스)',\n",
       "        '부동산 디벨로퍼 아카데미 : 상업용/숙박용 부동산 개발 The Real',\n",
       "        '올인원 패키지 : 클라우드를 활용한 데이터 파이프라인 구축',\n",
       "        '올인원 패키지 : 디자인 기초 체력 다지기, 시각디자인 요소 활용',\n",
       "        '프로모션 : 나도 이제 유튜버, 유튜브 완전 정복 무한패스 (9월 프리패스)',\n",
       "        '프로모션 : 나도 할 수 있다 인공지능 / 딥러닝 마스터 무한패스 (9월 프리패스)',\n",
       "        'The RED : Hadoop & Spark 아키텍처 딥다이브',\n",
       "        '프로모션 : 자연어 처리 마스터 무한패스 (9월 프리패스)',\n",
       "        '프로모션 : 모션그래픽 디자이너를 위한 필수스킬 무한패스 (9월 프리패스)',\n",
       "        '프로모션 : 디자인은 이거 하나로 끝! 시각디자인 풀코스 무한패스 (9월 프리패스)',\n",
       "        '프로모션 : 성공적인 부동산 개발의 시작, 디벨로퍼 바이블 무한패스 (9월 프리패스)',\n",
       "        '프로모션 : 금융권 핵심 역량! 금융/투자 실무 무한패스 (9월 프리패스)',\n",
       "        '프로모션 : 영상인식 마스터 무한패스 (9월 프리패스)',\n",
       "        '프로모션 : 유튜브 영상제작 맥북 pro 패스 (9월 현물 프리패스)',\n",
       "        '프로모션 : 데이터 분석 맥북 pro 패스(9월 현물 프리패스)',\n",
       "        '프로모션 : 부동산 재테크 맥북 pro 패스 (9월 현물 프리패스) - 수정',\n",
       "        '프로모션 : iOS 개발 맥북 pro 패스(9월 현물 프리패스)',\n",
       "        '프로모션 : 영상편집 맥북 pro 패스(9월 현물 프리패스)',\n",
       "        '프로모션 : 디자인 맥북 air 패스(9월 현물 프리패스)',\n",
       "        '프로모션 : 프론트엔드 맥북 air 패스 (9월 현물 프리패스)',\n",
       "        '프로모션 : 디자인 맥북 pro 패스(9월 현물 프리패스)',\n",
       "        '프로모션 : 영상그래픽 디자인 맥북 pro 패스(9월 현물 프리패스)',\n",
       "        '프로모션 : 풀스택 개발자 맥북 air 패스(9월 현물 프리패스)',\n",
       "        '프로모션 : 직장인 필수 스킬 맥북 pro 패스(9월 현물 프리패스)',\n",
       "        '프로모션 : 프론트엔드 맥북 pro 패스 (9월 현물 프리패스)',\n",
       "        '프로모션 : 풀스택 마케팅 맥북 air 패스(9월 현물 프리패스)',\n",
       "        '프로모션 : 풀스택 개발자 맥북 pro 패스(9월 현물 프리패스)',\n",
       "        '프로모션 : 영상편집 맥북 air 패스(9월 현물 프리패스)',\n",
       "        '프로모션 : 부동산 재테크 맥북 air 패스 (9월 현물 프리패스)',\n",
       "        '프로모션 : 콘텐츠 마케터 맥북 pro 패스(9월 현물 프리패스)',\n",
       "        '프로모션 : 콘텐츠 마케터 맥북 air 패스(9월 현물 프리패스)',\n",
       "        '프로모션 : 게임 디자인 맥북 air 패스(9월 현물 프리패스)',\n",
       "        '프로모션 : 데이터 분석 맥북 air 패스(9월 현물 프리패스)',\n",
       "        '프로모션 : 실전 기업투자 맥북 air 패스(9월 현물 프리패스)',\n",
       "        '올인원 패키지 : Unity를 활용한 영화 애니메이션 제작'], dtype=object))"
      ]
     },
     "execution_count": 71,
     "metadata": {},
     "output_type": "execute_result"
    }
   ],
   "source": [
    "# 판매된 강의 종 수 \n",
    "len(df.course_title.unique()), df.course_title.unique()"
   ]
  },
  {
   "cell_type": "markdown",
   "id": "91a43677",
   "metadata": {},
   "source": [
    "## 전체 카테고리 수"
   ]
  },
  {
   "cell_type": "code",
   "execution_count": 72,
   "id": "163386fd",
   "metadata": {
    "ExecuteTime": {
     "end_time": "2022-07-03T11:13:59.279401Z",
     "start_time": "2022-07-03T11:13:59.257156Z"
    }
   },
   "outputs": [
    {
     "data": {
      "text/plain": [
       "(13,\n",
       " array(['프로그래밍', '영상/3D', '업무 생산성', '크리에이티브', '부동산/금융', '데이터사이언스', '디자인',\n",
       "        '마케팅', '투자/재테크', '비즈니스', '지식콘텐츠', '일러스트', '파이낸스'], dtype=object))"
      ]
     },
     "execution_count": 72,
     "metadata": {},
     "output_type": "execute_result"
    }
   ],
   "source": [
    "# 판매된 강의 종 수 \n",
    "len(df.category_title.unique()), df.category_title.unique()"
   ]
  },
  {
   "cell_type": "markdown",
   "id": "56c7194e",
   "metadata": {},
   "source": [
    "## 가장 많은/적은 매출을 올린 강의 및 탑 10강의 매출추이"
   ]
  },
  {
   "cell_type": "code",
   "execution_count": 73,
   "id": "145c43d9",
   "metadata": {
    "ExecuteTime": {
     "end_time": "2022-07-03T11:14:01.370562Z",
     "start_time": "2022-07-03T11:14:01.269227Z"
    },
    "scrolled": true
   },
   "outputs": [
    {
     "data": {
      "text/html": [
       "<div>\n",
       "<style scoped>\n",
       "    .dataframe tbody tr th:only-of-type {\n",
       "        vertical-align: middle;\n",
       "    }\n",
       "\n",
       "    .dataframe tbody tr th {\n",
       "        vertical-align: top;\n",
       "    }\n",
       "\n",
       "    .dataframe thead th {\n",
       "        text-align: right;\n",
       "    }\n",
       "</style>\n",
       "<table border=\"1\" class=\"dataframe\">\n",
       "  <thead>\n",
       "    <tr style=\"text-align: right;\">\n",
       "      <th></th>\n",
       "      <th>id</th>\n",
       "      <th>customer_id</th>\n",
       "      <th>course_id</th>\n",
       "      <th>type</th>\n",
       "      <th>state</th>\n",
       "      <th>course_title</th>\n",
       "      <th>category_title</th>\n",
       "      <th>format</th>\n",
       "      <th>completed_at</th>\n",
       "      <th>transaction_amount</th>\n",
       "      <th>...</th>\n",
       "      <th>pg</th>\n",
       "      <th>method</th>\n",
       "      <th>subcategory_title</th>\n",
       "      <th>marketing_start_at</th>\n",
       "      <th>Year</th>\n",
       "      <th>Month</th>\n",
       "      <th>Day</th>\n",
       "      <th>Hour</th>\n",
       "      <th>Day of week</th>\n",
       "      <th>Week</th>\n",
       "    </tr>\n",
       "  </thead>\n",
       "  <tbody>\n",
       "    <tr>\n",
       "      <th>0</th>\n",
       "      <td>970657</td>\n",
       "      <td>72297</td>\n",
       "      <td>204246</td>\n",
       "      <td>PAYMENT</td>\n",
       "      <td>COMPLETED</td>\n",
       "      <td>시크릿코드 : 프론트엔드 실무 완성편</td>\n",
       "      <td>프로그래밍</td>\n",
       "      <td>스쿨 온라인</td>\n",
       "      <td>2021-03-28 15:21:43</td>\n",
       "      <td>171810</td>\n",
       "      <td>...</td>\n",
       "      <td>COMM</td>\n",
       "      <td>CARD</td>\n",
       "      <td>프로그래밍</td>\n",
       "      <td>2021-03-04</td>\n",
       "      <td>2021</td>\n",
       "      <td>3</td>\n",
       "      <td>28</td>\n",
       "      <td>15</td>\n",
       "      <td>Sunday</td>\n",
       "      <td>12</td>\n",
       "    </tr>\n",
       "    <tr>\n",
       "      <th>1</th>\n",
       "      <td>970658</td>\n",
       "      <td>478028</td>\n",
       "      <td>201797</td>\n",
       "      <td>PAYMENT</td>\n",
       "      <td>COMPLETED</td>\n",
       "      <td>올인원 패키지 : 직장인 필수 스킬 3종 세트 MAX</td>\n",
       "      <td>업무 생산성</td>\n",
       "      <td>올인원</td>\n",
       "      <td>2021-03-28 15:21:54</td>\n",
       "      <td>97500</td>\n",
       "      <td>...</td>\n",
       "      <td>COMM</td>\n",
       "      <td>CARD</td>\n",
       "      <td>PPT/보고서</td>\n",
       "      <td>2019-11-14</td>\n",
       "      <td>2021</td>\n",
       "      <td>3</td>\n",
       "      <td>28</td>\n",
       "      <td>15</td>\n",
       "      <td>Sunday</td>\n",
       "      <td>12</td>\n",
       "    </tr>\n",
       "    <tr>\n",
       "      <th>2</th>\n",
       "      <td>970669</td>\n",
       "      <td>478033</td>\n",
       "      <td>203178</td>\n",
       "      <td>PAYMENT</td>\n",
       "      <td>COMPLETED</td>\n",
       "      <td>초격차 패키지 : 한번에 끝내는 영상 촬영과 편집</td>\n",
       "      <td>영상/3D</td>\n",
       "      <td>올인원</td>\n",
       "      <td>2021-03-28 15:26:47</td>\n",
       "      <td>96000</td>\n",
       "      <td>...</td>\n",
       "      <td>COMM</td>\n",
       "      <td>CARD</td>\n",
       "      <td>영상 편집</td>\n",
       "      <td>2020-12-02</td>\n",
       "      <td>2021</td>\n",
       "      <td>3</td>\n",
       "      <td>28</td>\n",
       "      <td>15</td>\n",
       "      <td>Sunday</td>\n",
       "      <td>12</td>\n",
       "    </tr>\n",
       "    <tr>\n",
       "      <th>3</th>\n",
       "      <td>970671</td>\n",
       "      <td>469860</td>\n",
       "      <td>203644</td>\n",
       "      <td>PAYMENT</td>\n",
       "      <td>COMPLETED</td>\n",
       "      <td>올인원 패키지 : 권오상의 금융 아카데미 - 권오상의 재무제표 분석 기초(평생소장)</td>\n",
       "      <td>부동산/금융</td>\n",
       "      <td>올인원</td>\n",
       "      <td>2021-03-28 15:27:17</td>\n",
       "      <td>263000</td>\n",
       "      <td>...</td>\n",
       "      <td>COMM</td>\n",
       "      <td>CARD</td>\n",
       "      <td>부동산/금융</td>\n",
       "      <td>2020-11-27</td>\n",
       "      <td>2021</td>\n",
       "      <td>3</td>\n",
       "      <td>28</td>\n",
       "      <td>15</td>\n",
       "      <td>Sunday</td>\n",
       "      <td>12</td>\n",
       "    </tr>\n",
       "    <tr>\n",
       "      <th>4</th>\n",
       "      <td>970676</td>\n",
       "      <td>478035</td>\n",
       "      <td>203720</td>\n",
       "      <td>PAYMENT</td>\n",
       "      <td>COMPLETED</td>\n",
       "      <td>초격차 패키지 : 한 번에 끝내는 프론트엔드 개발</td>\n",
       "      <td>프로그래밍</td>\n",
       "      <td>올인원</td>\n",
       "      <td>2021-03-28 15:31:01</td>\n",
       "      <td>91000</td>\n",
       "      <td>...</td>\n",
       "      <td>COMM</td>\n",
       "      <td>CARD</td>\n",
       "      <td>프론트엔드 개발</td>\n",
       "      <td>2021-02-02</td>\n",
       "      <td>2021</td>\n",
       "      <td>3</td>\n",
       "      <td>28</td>\n",
       "      <td>15</td>\n",
       "      <td>Sunday</td>\n",
       "      <td>12</td>\n",
       "    </tr>\n",
       "    <tr>\n",
       "      <th>...</th>\n",
       "      <td>...</td>\n",
       "      <td>...</td>\n",
       "      <td>...</td>\n",
       "      <td>...</td>\n",
       "      <td>...</td>\n",
       "      <td>...</td>\n",
       "      <td>...</td>\n",
       "      <td>...</td>\n",
       "      <td>...</td>\n",
       "      <td>...</td>\n",
       "      <td>...</td>\n",
       "      <td>...</td>\n",
       "      <td>...</td>\n",
       "      <td>...</td>\n",
       "      <td>...</td>\n",
       "      <td>...</td>\n",
       "      <td>...</td>\n",
       "      <td>...</td>\n",
       "      <td>...</td>\n",
       "      <td>...</td>\n",
       "      <td>...</td>\n",
       "    </tr>\n",
       "    <tr>\n",
       "      <th>53030</th>\n",
       "      <td>1364969</td>\n",
       "      <td>669238</td>\n",
       "      <td>204286</td>\n",
       "      <td>PAYMENT</td>\n",
       "      <td>COMPLETED</td>\n",
       "      <td>초격차 패키지 : 한번에 끝내는 3D 디자인 툴</td>\n",
       "      <td>디자인</td>\n",
       "      <td>올인원</td>\n",
       "      <td>2021-09-25 13:39:26</td>\n",
       "      <td>212000</td>\n",
       "      <td>...</td>\n",
       "      <td>INICIS</td>\n",
       "      <td>CARD</td>\n",
       "      <td>디자인툴</td>\n",
       "      <td>2021-04-23</td>\n",
       "      <td>2021</td>\n",
       "      <td>9</td>\n",
       "      <td>25</td>\n",
       "      <td>13</td>\n",
       "      <td>Saturday</td>\n",
       "      <td>38</td>\n",
       "    </tr>\n",
       "    <tr>\n",
       "      <th>53031</th>\n",
       "      <td>1364976</td>\n",
       "      <td>384003</td>\n",
       "      <td>203178</td>\n",
       "      <td>PAYMENT</td>\n",
       "      <td>COMPLETED</td>\n",
       "      <td>초격차 패키지 : 한번에 끝내는 영상 촬영과 편집</td>\n",
       "      <td>영상/3D</td>\n",
       "      <td>올인원</td>\n",
       "      <td>2021-09-25 13:46:29</td>\n",
       "      <td>149000</td>\n",
       "      <td>...</td>\n",
       "      <td>KAKAO</td>\n",
       "      <td>CARD</td>\n",
       "      <td>영상 편집</td>\n",
       "      <td>2020-12-02</td>\n",
       "      <td>2021</td>\n",
       "      <td>9</td>\n",
       "      <td>25</td>\n",
       "      <td>13</td>\n",
       "      <td>Saturday</td>\n",
       "      <td>38</td>\n",
       "    </tr>\n",
       "    <tr>\n",
       "      <th>53032</th>\n",
       "      <td>1364991</td>\n",
       "      <td>670891</td>\n",
       "      <td>203935</td>\n",
       "      <td>PAYMENT</td>\n",
       "      <td>COMPLETED</td>\n",
       "      <td>초격차 패키지 : 한 번에 끝내는 파이썬 웹 개발</td>\n",
       "      <td>프로그래밍</td>\n",
       "      <td>올인원</td>\n",
       "      <td>2021-09-25 14:01:26</td>\n",
       "      <td>159000</td>\n",
       "      <td>...</td>\n",
       "      <td>INICIS</td>\n",
       "      <td>CARD</td>\n",
       "      <td>백엔드 개발</td>\n",
       "      <td>2021-05-31</td>\n",
       "      <td>2021</td>\n",
       "      <td>9</td>\n",
       "      <td>25</td>\n",
       "      <td>14</td>\n",
       "      <td>Saturday</td>\n",
       "      <td>38</td>\n",
       "    </tr>\n",
       "    <tr>\n",
       "      <th>53033</th>\n",
       "      <td>1364996</td>\n",
       "      <td>640697</td>\n",
       "      <td>205365</td>\n",
       "      <td>PAYMENT</td>\n",
       "      <td>COMPLETED</td>\n",
       "      <td>초격차 패키지 : 한 번에 끝내는 유튜브 크리에이터 되기</td>\n",
       "      <td>영상/3D</td>\n",
       "      <td>올인원</td>\n",
       "      <td>2021-09-25 14:17:41</td>\n",
       "      <td>96000</td>\n",
       "      <td>...</td>\n",
       "      <td>INICIS</td>\n",
       "      <td>VBANK</td>\n",
       "      <td>영상 편집</td>\n",
       "      <td>2021-06-15</td>\n",
       "      <td>2021</td>\n",
       "      <td>9</td>\n",
       "      <td>25</td>\n",
       "      <td>14</td>\n",
       "      <td>Saturday</td>\n",
       "      <td>38</td>\n",
       "    </tr>\n",
       "    <tr>\n",
       "      <th>53034</th>\n",
       "      <td>1365007</td>\n",
       "      <td>610626</td>\n",
       "      <td>206720</td>\n",
       "      <td>PAYMENT</td>\n",
       "      <td>COMPLETED</td>\n",
       "      <td>용호수의 돈 버는 실전 영상 제작</td>\n",
       "      <td>영상/3D</td>\n",
       "      <td>올인원</td>\n",
       "      <td>2021-09-25 14:25:47</td>\n",
       "      <td>139000</td>\n",
       "      <td>...</td>\n",
       "      <td>NAVER</td>\n",
       "      <td>POINT</td>\n",
       "      <td>영상 편집</td>\n",
       "      <td>2021-08-17</td>\n",
       "      <td>2021</td>\n",
       "      <td>9</td>\n",
       "      <td>25</td>\n",
       "      <td>14</td>\n",
       "      <td>Saturday</td>\n",
       "      <td>38</td>\n",
       "    </tr>\n",
       "  </tbody>\n",
       "</table>\n",
       "<p>53035 rows × 23 columns</p>\n",
       "</div>"
      ],
      "text/plain": [
       "            id  customer_id  course_id     type      state  \\\n",
       "0       970657        72297     204246  PAYMENT  COMPLETED   \n",
       "1       970658       478028     201797  PAYMENT  COMPLETED   \n",
       "2       970669       478033     203178  PAYMENT  COMPLETED   \n",
       "3       970671       469860     203644  PAYMENT  COMPLETED   \n",
       "4       970676       478035     203720  PAYMENT  COMPLETED   \n",
       "...        ...          ...        ...      ...        ...   \n",
       "53030  1364969       669238     204286  PAYMENT  COMPLETED   \n",
       "53031  1364976       384003     203178  PAYMENT  COMPLETED   \n",
       "53032  1364991       670891     203935  PAYMENT  COMPLETED   \n",
       "53033  1364996       640697     205365  PAYMENT  COMPLETED   \n",
       "53034  1365007       610626     206720  PAYMENT  COMPLETED   \n",
       "\n",
       "                                         course_title category_title  format  \\\n",
       "0                                시크릿코드 : 프론트엔드 실무 완성편          프로그래밍  스쿨 온라인   \n",
       "1                       올인원 패키지 : 직장인 필수 스킬 3종 세트 MAX         업무 생산성     올인원   \n",
       "2                         초격차 패키지 : 한번에 끝내는 영상 촬영과 편집          영상/3D     올인원   \n",
       "3      올인원 패키지 : 권오상의 금융 아카데미 - 권오상의 재무제표 분석 기초(평생소장)         부동산/금융     올인원   \n",
       "4                         초격차 패키지 : 한 번에 끝내는 프론트엔드 개발          프로그래밍     올인원   \n",
       "...                                               ...            ...     ...   \n",
       "53030                      초격차 패키지 : 한번에 끝내는 3D 디자인 툴            디자인     올인원   \n",
       "53031                     초격차 패키지 : 한번에 끝내는 영상 촬영과 편집          영상/3D     올인원   \n",
       "53032                     초격차 패키지 : 한 번에 끝내는 파이썬 웹 개발          프로그래밍     올인원   \n",
       "53033                 초격차 패키지 : 한 번에 끝내는 유튜브 크리에이터 되기          영상/3D     올인원   \n",
       "53034                              용호수의 돈 버는 실전 영상 제작          영상/3D     올인원   \n",
       "\n",
       "             completed_at  transaction_amount  ...      pg  method  \\\n",
       "0     2021-03-28 15:21:43              171810  ...    COMM    CARD   \n",
       "1     2021-03-28 15:21:54               97500  ...    COMM    CARD   \n",
       "2     2021-03-28 15:26:47               96000  ...    COMM    CARD   \n",
       "3     2021-03-28 15:27:17              263000  ...    COMM    CARD   \n",
       "4     2021-03-28 15:31:01               91000  ...    COMM    CARD   \n",
       "...                   ...                 ...  ...     ...     ...   \n",
       "53030 2021-09-25 13:39:26              212000  ...  INICIS    CARD   \n",
       "53031 2021-09-25 13:46:29              149000  ...   KAKAO    CARD   \n",
       "53032 2021-09-25 14:01:26              159000  ...  INICIS    CARD   \n",
       "53033 2021-09-25 14:17:41               96000  ...  INICIS   VBANK   \n",
       "53034 2021-09-25 14:25:47              139000  ...   NAVER   POINT   \n",
       "\n",
       "       subcategory_title marketing_start_at  Year Month Day  Hour  \\\n",
       "0                  프로그래밍         2021-03-04  2021     3  28    15   \n",
       "1                PPT/보고서         2019-11-14  2021     3  28    15   \n",
       "2                  영상 편집         2020-12-02  2021     3  28    15   \n",
       "3                 부동산/금융         2020-11-27  2021     3  28    15   \n",
       "4               프론트엔드 개발         2021-02-02  2021     3  28    15   \n",
       "...                  ...                ...   ...   ...  ..   ...   \n",
       "53030               디자인툴         2021-04-23  2021     9  25    13   \n",
       "53031              영상 편집         2020-12-02  2021     9  25    13   \n",
       "53032             백엔드 개발         2021-05-31  2021     9  25    14   \n",
       "53033              영상 편집         2021-06-15  2021     9  25    14   \n",
       "53034              영상 편집         2021-08-17  2021     9  25    14   \n",
       "\n",
       "       Day of week  Week  \n",
       "0           Sunday    12  \n",
       "1           Sunday    12  \n",
       "2           Sunday    12  \n",
       "3           Sunday    12  \n",
       "4           Sunday    12  \n",
       "...            ...   ...  \n",
       "53030     Saturday    38  \n",
       "53031     Saturday    38  \n",
       "53032     Saturday    38  \n",
       "53033     Saturday    38  \n",
       "53034     Saturday    38  \n",
       "\n",
       "[53035 rows x 23 columns]"
      ]
     },
     "execution_count": 73,
     "metadata": {},
     "output_type": "execute_result"
    }
   ],
   "source": [
    "sales = df[(df['type'] != 'ORDER') & (df['state'] == 'COMPLETED')]\n",
    "sales.index = range(len(sales))\n",
    "sales"
   ]
  },
  {
   "cell_type": "markdown",
   "id": "41220109",
   "metadata": {},
   "source": [
    "### 매출 상위 1~10위 까지의  강의  목록 "
   ]
  },
  {
   "cell_type": "code",
   "execution_count": 80,
   "id": "cf24cf55",
   "metadata": {
    "ExecuteTime": {
     "end_time": "2022-07-03T11:16:58.424913Z",
     "start_time": "2022-07-03T11:16:58.388366Z"
    }
   },
   "outputs": [],
   "source": [
    "co_sale = sales.groupby('course_title').sum()"
   ]
  },
  {
   "cell_type": "code",
   "execution_count": 82,
   "id": "d6ebee68",
   "metadata": {
    "ExecuteTime": {
     "end_time": "2022-07-03T11:18:01.216592Z",
     "start_time": "2022-07-03T11:18:01.191727Z"
    }
   },
   "outputs": [
    {
     "data": {
      "text/html": [
       "<div>\n",
       "<style scoped>\n",
       "    .dataframe tbody tr th:only-of-type {\n",
       "        vertical-align: middle;\n",
       "    }\n",
       "\n",
       "    .dataframe tbody tr th {\n",
       "        vertical-align: top;\n",
       "    }\n",
       "\n",
       "    .dataframe thead th {\n",
       "        text-align: right;\n",
       "    }\n",
       "</style>\n",
       "<table border=\"1\" class=\"dataframe\">\n",
       "  <thead>\n",
       "    <tr style=\"text-align: right;\">\n",
       "      <th></th>\n",
       "      <th>transaction_amount</th>\n",
       "    </tr>\n",
       "    <tr>\n",
       "      <th>course_title</th>\n",
       "      <th></th>\n",
       "    </tr>\n",
       "  </thead>\n",
       "  <tbody>\n",
       "    <tr>\n",
       "      <th>The RED : 김영하 작가의 내 안의 숨은 이야기를 찾아 쓰는 법</th>\n",
       "      <td>151049741</td>\n",
       "    </tr>\n",
       "    <tr>\n",
       "      <th>초격차 패키지 : 한 번에 끝내는 프론트엔드 개발</th>\n",
       "      <td>141248845</td>\n",
       "    </tr>\n",
       "    <tr>\n",
       "      <th>올인원 패키지 : 박세익 전무에게 배우는 주식 시장 분석 &amp; 포트폴리오 운용 전략</th>\n",
       "      <td>129821723</td>\n",
       "    </tr>\n",
       "    <tr>\n",
       "      <th>초격차 패키지 : 한번에 끝내는 영상 촬영과 편집</th>\n",
       "      <td>116614335</td>\n",
       "    </tr>\n",
       "    <tr>\n",
       "      <th>초격차 패키지 : 한번에 끝내는 Java/Spring 웹 개발 마스터</th>\n",
       "      <td>108576441</td>\n",
       "    </tr>\n",
       "    <tr>\n",
       "      <th>나의 칼퇴치트키 엑셀유치원</th>\n",
       "      <td>88201167</td>\n",
       "    </tr>\n",
       "    <tr>\n",
       "      <th>초격차 패키지 : 한번에 끝내는 디자인 툴</th>\n",
       "      <td>87700764</td>\n",
       "    </tr>\n",
       "    <tr>\n",
       "      <th>올인원 패키지 : star741의 캐주얼 일러스트 드로잉</th>\n",
       "      <td>84763815</td>\n",
       "    </tr>\n",
       "    <tr>\n",
       "      <th>올인원 패키지 : 완전정복 시각디자인 기초</th>\n",
       "      <td>82131657</td>\n",
       "    </tr>\n",
       "    <tr>\n",
       "      <th>초격차 패키지 : 한번에 끝내는 UX/UI 디자인</th>\n",
       "      <td>80602968</td>\n",
       "    </tr>\n",
       "  </tbody>\n",
       "</table>\n",
       "</div>"
      ],
      "text/plain": [
       "                                               transaction_amount\n",
       "course_title                                                     \n",
       "The RED : 김영하 작가의 내 안의 숨은 이야기를 찾아 쓰는 법                  151049741\n",
       "초격차 패키지 : 한 번에 끝내는 프론트엔드 개발                             141248845\n",
       "올인원 패키지 : 박세익 전무에게 배우는 주식 시장 분석 & 포트폴리오 운용 전략           129821723\n",
       "초격차 패키지 : 한번에 끝내는 영상 촬영과 편집                             116614335\n",
       "초격차 패키지 : 한번에 끝내는 Java/Spring 웹 개발 마스터                  108576441\n",
       "나의 칼퇴치트키 엑셀유치원                                           88201167\n",
       "초격차 패키지 : 한번에 끝내는 디자인 툴                                  87700764\n",
       "올인원 패키지 : star741의 캐주얼 일러스트 드로잉                          84763815\n",
       "올인원 패키지 : 완전정복 시각디자인 기초                                  82131657\n",
       "초격차 패키지 : 한번에 끝내는 UX/UI 디자인                              80602968"
      ]
     },
     "execution_count": 82,
     "metadata": {},
     "output_type": "execute_result"
    }
   ],
   "source": [
    "co_sale_high = co_sale.sort_values(by='transaction_amount', ascending=False)[:10]\n",
    "co_sale_high[['transaction_amount']]"
   ]
  },
  {
   "cell_type": "markdown",
   "id": "143ad8ce",
   "metadata": {},
   "source": [
    "### 매출 상위 1~10위 강의 매출 추이 그래프(6개월간)"
   ]
  },
  {
   "cell_type": "code",
   "execution_count": null,
   "id": "76106a8c",
   "metadata": {},
   "outputs": [],
   "source": []
  },
  {
   "cell_type": "markdown",
   "id": "37400734",
   "metadata": {},
   "source": [
    "### 매출 하위 1~10위 강의목록"
   ]
  },
  {
   "cell_type": "code",
   "execution_count": 83,
   "id": "a4a59cc0",
   "metadata": {
    "ExecuteTime": {
     "end_time": "2022-07-03T11:18:20.193953Z",
     "start_time": "2022-07-03T11:18:20.170408Z"
    }
   },
   "outputs": [
    {
     "data": {
      "text/html": [
       "<div>\n",
       "<style scoped>\n",
       "    .dataframe tbody tr th:only-of-type {\n",
       "        vertical-align: middle;\n",
       "    }\n",
       "\n",
       "    .dataframe tbody tr th {\n",
       "        vertical-align: top;\n",
       "    }\n",
       "\n",
       "    .dataframe thead th {\n",
       "        text-align: right;\n",
       "    }\n",
       "</style>\n",
       "<table border=\"1\" class=\"dataframe\">\n",
       "  <thead>\n",
       "    <tr style=\"text-align: right;\">\n",
       "      <th></th>\n",
       "      <th>transaction_amount</th>\n",
       "    </tr>\n",
       "    <tr>\n",
       "      <th>course_title</th>\n",
       "      <th></th>\n",
       "    </tr>\n",
       "  </thead>\n",
       "  <tbody>\n",
       "    <tr>\n",
       "      <th>프로모션 : 디자인 맥북 air 패스(9월 현물 프리패스)</th>\n",
       "      <td>-1400000</td>\n",
       "    </tr>\n",
       "    <tr>\n",
       "      <th>프로모션 : 기초부터 시작하는 데이터분석 프리패스 (5월 삼성 패키지 현물 :  삼성 갤럭시 북 프로)</th>\n",
       "      <td>-1399000</td>\n",
       "    </tr>\n",
       "    <tr>\n",
       "      <th>모션그래픽 포트폴리오 온라인 완주반 1기</th>\n",
       "      <td>-1144000</td>\n",
       "    </tr>\n",
       "    <tr>\n",
       "      <th>코딩+알고리즘 온라인 완주반 5기</th>\n",
       "      <td>-810000</td>\n",
       "    </tr>\n",
       "    <tr>\n",
       "      <th>디지털 마케팅 온라인 완주반 3기</th>\n",
       "      <td>-575000</td>\n",
       "    </tr>\n",
       "    <tr>\n",
       "      <th>매주)브런치로 책 출판 온라인 완주반</th>\n",
       "      <td>-520000</td>\n",
       "    </tr>\n",
       "    <tr>\n",
       "      <th>매주)컴퓨터 공학 전공자 따라잡기 온라인 완주반</th>\n",
       "      <td>-380000</td>\n",
       "    </tr>\n",
       "    <tr>\n",
       "      <th>브런치로 책 출판 온라인 완주반 3기</th>\n",
       "      <td>-360000</td>\n",
       "    </tr>\n",
       "    <tr>\n",
       "      <th>건축/공간 디자인 실무 완성 온라인 완주반 1기</th>\n",
       "      <td>-334800</td>\n",
       "    </tr>\n",
       "    <tr>\n",
       "      <th>프로모션 :개강 전 필수 마스터 코딩 한끝세트 (3월 프리패스)</th>\n",
       "      <td>-299000</td>\n",
       "    </tr>\n",
       "  </tbody>\n",
       "</table>\n",
       "</div>"
      ],
      "text/plain": [
       "                                                    transaction_amount\n",
       "course_title                                                          \n",
       "프로모션 : 디자인 맥북 air 패스(9월 현물 프리패스)                              -1400000\n",
       "프로모션 : 기초부터 시작하는 데이터분석 프리패스 (5월 삼성 패키지 현물 :  삼성...            -1399000\n",
       "모션그래픽 포트폴리오 온라인 완주반 1기                                        -1144000\n",
       "코딩+알고리즘 온라인 완주반 5기                                             -810000\n",
       "디지털 마케팅 온라인 완주반 3기                                             -575000\n",
       "매주)브런치로 책 출판 온라인 완주반                                           -520000\n",
       "매주)컴퓨터 공학 전공자 따라잡기 온라인 완주반                                     -380000\n",
       "브런치로 책 출판 온라인 완주반 3기                                           -360000\n",
       "건축/공간 디자인 실무 완성 온라인 완주반 1기                                     -334800\n",
       "프로모션 :개강 전 필수 마스터 코딩 한끝세트 (3월 프리패스)                            -299000"
      ]
     },
     "execution_count": 83,
     "metadata": {},
     "output_type": "execute_result"
    }
   ],
   "source": [
    "co_sale_row = co_sale.sort_values(by='transaction_amount')[:10]\n",
    "co_sale_row[['transaction_amount']]"
   ]
  },
  {
   "cell_type": "markdown",
   "id": "5dbb8c28",
   "metadata": {},
   "source": [
    "### 매출 하위 1~10위 강의 매출 추이 그래프(6개월간)"
   ]
  },
  {
   "cell_type": "code",
   "execution_count": null,
   "id": "3463e2f1",
   "metadata": {},
   "outputs": [],
   "source": []
  },
  {
   "cell_type": "markdown",
   "id": "802928f7",
   "metadata": {},
   "source": [
    "## 가장많은(적은) 매출을 올린 카테고리 탑 10카테고리 매출추이"
   ]
  },
  {
   "cell_type": "code",
   "execution_count": 84,
   "id": "7dfba03b",
   "metadata": {
    "ExecuteTime": {
     "end_time": "2022-07-03T11:20:04.560154Z",
     "start_time": "2022-07-03T11:20:04.525803Z"
    }
   },
   "outputs": [],
   "source": [
    "ca_sale = sales.groupby('category_title').sum()"
   ]
  },
  {
   "cell_type": "markdown",
   "id": "b73e5c5a",
   "metadata": {},
   "source": [
    "### 매출 상위 1~10위 까지의  카테고리  목록"
   ]
  },
  {
   "cell_type": "code",
   "execution_count": 96,
   "id": "0df98b33",
   "metadata": {
    "ExecuteTime": {
     "end_time": "2022-07-03T11:26:50.113275Z",
     "start_time": "2022-07-03T11:26:50.090860Z"
    }
   },
   "outputs": [
    {
     "data": {
      "text/html": [
       "<div>\n",
       "<style scoped>\n",
       "    .dataframe tbody tr th:only-of-type {\n",
       "        vertical-align: middle;\n",
       "    }\n",
       "\n",
       "    .dataframe tbody tr th {\n",
       "        vertical-align: top;\n",
       "    }\n",
       "\n",
       "    .dataframe thead th {\n",
       "        text-align: right;\n",
       "    }\n",
       "</style>\n",
       "<table border=\"1\" class=\"dataframe\">\n",
       "  <thead>\n",
       "    <tr style=\"text-align: right;\">\n",
       "      <th></th>\n",
       "      <th>transaction_amount</th>\n",
       "    </tr>\n",
       "    <tr>\n",
       "      <th>category_title</th>\n",
       "      <th></th>\n",
       "    </tr>\n",
       "  </thead>\n",
       "  <tbody>\n",
       "    <tr>\n",
       "      <th>프로그래밍</th>\n",
       "      <td>1650488541</td>\n",
       "    </tr>\n",
       "    <tr>\n",
       "      <th>데이터사이언스</th>\n",
       "      <td>950073852</td>\n",
       "    </tr>\n",
       "    <tr>\n",
       "      <th>디자인</th>\n",
       "      <td>663196168</td>\n",
       "    </tr>\n",
       "    <tr>\n",
       "      <th>마케팅</th>\n",
       "      <td>587613324</td>\n",
       "    </tr>\n",
       "    <tr>\n",
       "      <th>업무 생산성</th>\n",
       "      <td>572358665</td>\n",
       "    </tr>\n",
       "    <tr>\n",
       "      <th>영상/3D</th>\n",
       "      <td>544706205</td>\n",
       "    </tr>\n",
       "    <tr>\n",
       "      <th>부동산/금융</th>\n",
       "      <td>471074334</td>\n",
       "    </tr>\n",
       "    <tr>\n",
       "      <th>투자/재테크</th>\n",
       "      <td>277706420</td>\n",
       "    </tr>\n",
       "    <tr>\n",
       "      <th>크리에이티브</th>\n",
       "      <td>240873160</td>\n",
       "    </tr>\n",
       "    <tr>\n",
       "      <th>비즈니스</th>\n",
       "      <td>5029865</td>\n",
       "    </tr>\n",
       "  </tbody>\n",
       "</table>\n",
       "</div>"
      ],
      "text/plain": [
       "                transaction_amount\n",
       "category_title                    \n",
       "프로그래밍                   1650488541\n",
       "데이터사이언스                  950073852\n",
       "디자인                      663196168\n",
       "마케팅                      587613324\n",
       "업무 생산성                   572358665\n",
       "영상/3D                    544706205\n",
       "부동산/금융                   471074334\n",
       "투자/재테크                   277706420\n",
       "크리에이티브                   240873160\n",
       "비즈니스                       5029865"
      ]
     },
     "execution_count": 96,
     "metadata": {},
     "output_type": "execute_result"
    }
   ],
   "source": [
    "ca_sale_high = ca_sale.sort_values(by='transaction_amount', ascending=False)[:10]\n",
    "ca_sale_high[['transaction_amount']]"
   ]
  },
  {
   "cell_type": "markdown",
   "id": "99a4fb24",
   "metadata": {},
   "source": [
    "### 매출 상위 1~10위 카테고리 매출 추이 그래프(6개월간)"
   ]
  },
  {
   "cell_type": "code",
   "execution_count": 104,
   "id": "4ea9211e",
   "metadata": {
    "ExecuteTime": {
     "end_time": "2022-07-03T11:32:39.823276Z",
     "start_time": "2022-07-03T11:32:39.781986Z"
    }
   },
   "outputs": [],
   "source": [
    "ca_dev_row = sales.groupby(['Month', 'category_title']).sum()\n",
    "ca_dev_row[['transaction_amount']]\n",
    "\n",
    "# ca_dev_high = ca_sale.sort_values(by='transaction_amount')[:10]\n",
    "# ca_dev_high[['transaction_amount']]"
   ]
  },
  {
   "cell_type": "code",
   "execution_count": 115,
   "id": "aa075f5c",
   "metadata": {
    "ExecuteTime": {
     "end_time": "2022-07-03T11:35:05.760882Z",
     "start_time": "2022-07-03T11:35:05.716874Z"
    },
    "scrolled": true
   },
   "outputs": [
    {
     "data": {
      "text/html": [
       "<div>\n",
       "<style scoped>\n",
       "    .dataframe tbody tr th:only-of-type {\n",
       "        vertical-align: middle;\n",
       "    }\n",
       "\n",
       "    .dataframe tbody tr th {\n",
       "        vertical-align: top;\n",
       "    }\n",
       "\n",
       "    .dataframe thead th {\n",
       "        text-align: right;\n",
       "    }\n",
       "</style>\n",
       "<table border=\"1\" class=\"dataframe\">\n",
       "  <thead>\n",
       "    <tr style=\"text-align: right;\">\n",
       "      <th></th>\n",
       "      <th></th>\n",
       "      <th>transaction_amount</th>\n",
       "    </tr>\n",
       "    <tr>\n",
       "      <th>Month</th>\n",
       "      <th>category_title</th>\n",
       "      <th></th>\n",
       "    </tr>\n",
       "  </thead>\n",
       "  <tbody>\n",
       "    <tr>\n",
       "      <th rowspan=\"5\" valign=\"top\">3</th>\n",
       "      <th>데이터사이언스</th>\n",
       "      <td>32156500</td>\n",
       "    </tr>\n",
       "    <tr>\n",
       "      <th>디자인</th>\n",
       "      <td>21436835</td>\n",
       "    </tr>\n",
       "    <tr>\n",
       "      <th>마케팅</th>\n",
       "      <td>15819867</td>\n",
       "    </tr>\n",
       "    <tr>\n",
       "      <th>부동산/금융</th>\n",
       "      <td>19262100</td>\n",
       "    </tr>\n",
       "    <tr>\n",
       "      <th>업무 생산성</th>\n",
       "      <td>26677900</td>\n",
       "    </tr>\n",
       "    <tr>\n",
       "      <th>...</th>\n",
       "      <th>...</th>\n",
       "      <td>...</td>\n",
       "    </tr>\n",
       "    <tr>\n",
       "      <th rowspan=\"5\" valign=\"top\">9</th>\n",
       "      <th>지식콘텐츠</th>\n",
       "      <td>239000</td>\n",
       "    </tr>\n",
       "    <tr>\n",
       "      <th>크리에이티브</th>\n",
       "      <td>27550000</td>\n",
       "    </tr>\n",
       "    <tr>\n",
       "      <th>투자/재테크</th>\n",
       "      <td>40731367</td>\n",
       "    </tr>\n",
       "    <tr>\n",
       "      <th>파이낸스</th>\n",
       "      <td>2310000</td>\n",
       "    </tr>\n",
       "    <tr>\n",
       "      <th>프로그래밍</th>\n",
       "      <td>201699529</td>\n",
       "    </tr>\n",
       "  </tbody>\n",
       "</table>\n",
       "<p>71 rows × 1 columns</p>\n",
       "</div>"
      ],
      "text/plain": [
       "                      transaction_amount\n",
       "Month category_title                    \n",
       "3     데이터사이언스                   32156500\n",
       "      디자인                       21436835\n",
       "      마케팅                       15819867\n",
       "      부동산/금융                    19262100\n",
       "      업무 생산성                    26677900\n",
       "...                                  ...\n",
       "9     지식콘텐츠                       239000\n",
       "      크리에이티브                    27550000\n",
       "      투자/재테크                    40731367\n",
       "      파이낸스                       2310000\n",
       "      프로그래밍                    201699529\n",
       "\n",
       "[71 rows x 1 columns]"
      ]
     },
     "execution_count": 115,
     "metadata": {},
     "output_type": "execute_result"
    }
   ],
   "source": [
    "ca_dev_row = sales.groupby(['Month', 'category_title']).sum()\n",
    "a= ca_dev_row[['transaction_amount']]\n",
    "a"
   ]
  },
  {
   "cell_type": "code",
   "execution_count": 117,
   "id": "142c8e7f",
   "metadata": {
    "ExecuteTime": {
     "end_time": "2022-07-03T11:35:20.295418Z",
     "start_time": "2022-07-03T11:35:20.282604Z"
    }
   },
   "outputs": [
    {
     "ename": "NameError",
     "evalue": "name 'category_title' is not defined",
     "output_type": "error",
     "traceback": [
      "\u001b[1;31m---------------------------------------------------------------------------\u001b[0m",
      "\u001b[1;31mNameError\u001b[0m                                 Traceback (most recent call last)",
      "\u001b[1;32m<ipython-input-117-4c846f884a9d>\u001b[0m in \u001b[0;36m<module>\u001b[1;34m\u001b[0m\n\u001b[1;32m----> 1\u001b[1;33m \u001b[0msns\u001b[0m\u001b[1;33m.\u001b[0m\u001b[0mlineplot\u001b[0m\u001b[1;33m(\u001b[0m\u001b[0mdata\u001b[0m \u001b[1;33m=\u001b[0m \u001b[0ma\u001b[0m\u001b[1;33m,\u001b[0m \u001b[0mx\u001b[0m \u001b[1;33m=\u001b[0m \u001b[1;34m'Month'\u001b[0m\u001b[1;33m,\u001b[0m \u001b[0my\u001b[0m \u001b[1;33m=\u001b[0m \u001b[1;34m'transaction_amount'\u001b[0m\u001b[1;33m,\u001b[0m \u001b[0mhue\u001b[0m \u001b[1;33m=\u001b[0m \u001b[0mcategory_title\u001b[0m\u001b[1;33m)\u001b[0m\u001b[1;33m\u001b[0m\u001b[1;33m\u001b[0m\u001b[0m\n\u001b[0m",
      "\u001b[1;31mNameError\u001b[0m: name 'category_title' is not defined"
     ]
    }
   ],
   "source": [
    "sns.lineplot(data = a, x = 'Month', y = 'transaction_amount', hue = category_title)"
   ]
  },
  {
   "cell_type": "markdown",
   "id": "b9a006b2",
   "metadata": {},
   "source": [
    "### 매출 하위 1~10위 카테고리목록"
   ]
  },
  {
   "cell_type": "code",
   "execution_count": 89,
   "id": "7f5b882a",
   "metadata": {
    "ExecuteTime": {
     "end_time": "2022-07-03T11:25:35.181831Z",
     "start_time": "2022-07-03T11:25:35.172084Z"
    }
   },
   "outputs": [
    {
     "data": {
      "text/html": [
       "<div>\n",
       "<style scoped>\n",
       "    .dataframe tbody tr th:only-of-type {\n",
       "        vertical-align: middle;\n",
       "    }\n",
       "\n",
       "    .dataframe tbody tr th {\n",
       "        vertical-align: top;\n",
       "    }\n",
       "\n",
       "    .dataframe thead th {\n",
       "        text-align: right;\n",
       "    }\n",
       "</style>\n",
       "<table border=\"1\" class=\"dataframe\">\n",
       "  <thead>\n",
       "    <tr style=\"text-align: right;\">\n",
       "      <th></th>\n",
       "      <th>transaction_amount</th>\n",
       "    </tr>\n",
       "    <tr>\n",
       "      <th>category_title</th>\n",
       "      <th></th>\n",
       "    </tr>\n",
       "  </thead>\n",
       "  <tbody>\n",
       "    <tr>\n",
       "      <th>파이낸스</th>\n",
       "      <td>4620000</td>\n",
       "    </tr>\n",
       "    <tr>\n",
       "      <th>지식콘텐츠</th>\n",
       "      <td>4969000</td>\n",
       "    </tr>\n",
       "    <tr>\n",
       "      <th>비즈니스</th>\n",
       "      <td>5029865</td>\n",
       "    </tr>\n",
       "    <tr>\n",
       "      <th>크리에이티브</th>\n",
       "      <td>240873160</td>\n",
       "    </tr>\n",
       "    <tr>\n",
       "      <th>투자/재테크</th>\n",
       "      <td>277706420</td>\n",
       "    </tr>\n",
       "    <tr>\n",
       "      <th>부동산/금융</th>\n",
       "      <td>471074334</td>\n",
       "    </tr>\n",
       "    <tr>\n",
       "      <th>영상/3D</th>\n",
       "      <td>544706205</td>\n",
       "    </tr>\n",
       "    <tr>\n",
       "      <th>업무 생산성</th>\n",
       "      <td>572358665</td>\n",
       "    </tr>\n",
       "    <tr>\n",
       "      <th>마케팅</th>\n",
       "      <td>587613324</td>\n",
       "    </tr>\n",
       "    <tr>\n",
       "      <th>디자인</th>\n",
       "      <td>663196168</td>\n",
       "    </tr>\n",
       "  </tbody>\n",
       "</table>\n",
       "</div>"
      ],
      "text/plain": [
       "                transaction_amount\n",
       "category_title                    \n",
       "파이낸스                       4620000\n",
       "지식콘텐츠                      4969000\n",
       "비즈니스                       5029865\n",
       "크리에이티브                   240873160\n",
       "투자/재테크                   277706420\n",
       "부동산/금융                   471074334\n",
       "영상/3D                    544706205\n",
       "업무 생산성                   572358665\n",
       "마케팅                      587613324\n",
       "디자인                      663196168"
      ]
     },
     "execution_count": 89,
     "metadata": {},
     "output_type": "execute_result"
    }
   ],
   "source": [
    "ca_sale_row = ca_sale.sort_values(by='transaction_amount')[:10]\n",
    "ca_sale_row[['transaction_amount']]"
   ]
  },
  {
   "cell_type": "markdown",
   "id": "13ede8b0",
   "metadata": {},
   "source": [
    "### 매출 하위 1~10위 카테고리 매출 추이 그래프(6개월간)"
   ]
  },
  {
   "cell_type": "code",
   "execution_count": null,
   "id": "601245b6",
   "metadata": {},
   "outputs": [],
   "source": []
  },
  {
   "cell_type": "markdown",
   "id": "4d84c831",
   "metadata": {},
   "source": [
    "# 수강 신청 행동 패턴 분석"
   ]
  },
  {
   "cell_type": "markdown",
   "id": "6a5f54fc",
   "metadata": {},
   "source": [
    "ORDER 지표 어떻게 사용할지?"
   ]
  },
  {
   "cell_type": "code",
   "execution_count": 203,
   "id": "0e11ade0",
   "metadata": {
    "ExecuteTime": {
     "end_time": "2022-07-03T12:30:11.979756Z",
     "start_time": "2022-07-03T12:30:11.952971Z"
    },
    "scrolled": true
   },
   "outputs": [
    {
     "data": {
      "text/plain": [
       "array(['CANCELLED', 'COMPLETED', 'PENDING', 'DELETED', 'REQUESTED'],\n",
       "      dtype=object)"
      ]
     },
     "execution_count": 203,
     "metadata": {},
     "output_type": "execute_result"
    }
   ],
   "source": [
    "df['state'].unique()"
   ]
  },
  {
   "cell_type": "code",
   "execution_count": 204,
   "id": "a3a944e4",
   "metadata": {
    "ExecuteTime": {
     "end_time": "2022-07-03T12:30:22.237689Z",
     "start_time": "2022-07-03T12:30:22.210299Z"
    }
   },
   "outputs": [
    {
     "data": {
      "text/plain": [
       "array(['ORDER', 'PAYMENT', 'REFUND'], dtype=object)"
      ]
     },
     "execution_count": 204,
     "metadata": {},
     "output_type": "execute_result"
    }
   ],
   "source": [
    "df['type'].unique()"
   ]
  },
  {
   "cell_type": "code",
   "execution_count": 225,
   "id": "440ba9cf",
   "metadata": {
    "ExecuteTime": {
     "end_time": "2022-07-03T12:46:34.898554Z",
     "start_time": "2022-07-03T12:46:34.851864Z"
    },
    "scrolled": true
   },
   "outputs": [
    {
     "data": {
      "text/html": [
       "<div>\n",
       "<style scoped>\n",
       "    .dataframe tbody tr th:only-of-type {\n",
       "        vertical-align: middle;\n",
       "    }\n",
       "\n",
       "    .dataframe tbody tr th {\n",
       "        vertical-align: top;\n",
       "    }\n",
       "\n",
       "    .dataframe thead th {\n",
       "        text-align: right;\n",
       "    }\n",
       "</style>\n",
       "<table border=\"1\" class=\"dataframe\">\n",
       "  <thead>\n",
       "    <tr style=\"text-align: right;\">\n",
       "      <th></th>\n",
       "      <th>state</th>\n",
       "      <th>transaction_amount</th>\n",
       "    </tr>\n",
       "  </thead>\n",
       "  <tbody>\n",
       "    <tr>\n",
       "      <th>52598</th>\n",
       "      <td>CANCELLED</td>\n",
       "      <td>98000</td>\n",
       "    </tr>\n",
       "    <tr>\n",
       "      <th>74692</th>\n",
       "      <td>CANCELLED</td>\n",
       "      <td>119000</td>\n",
       "    </tr>\n",
       "    <tr>\n",
       "      <th>74693</th>\n",
       "      <td>CANCELLED</td>\n",
       "      <td>169000</td>\n",
       "    </tr>\n",
       "    <tr>\n",
       "      <th>74694</th>\n",
       "      <td>CANCELLED</td>\n",
       "      <td>108500</td>\n",
       "    </tr>\n",
       "    <tr>\n",
       "      <th>74708</th>\n",
       "      <td>CANCELLED</td>\n",
       "      <td>112000</td>\n",
       "    </tr>\n",
       "    <tr>\n",
       "      <th>...</th>\n",
       "      <td>...</td>\n",
       "      <td>...</td>\n",
       "    </tr>\n",
       "    <tr>\n",
       "      <th>101092</th>\n",
       "      <td>CANCELLED</td>\n",
       "      <td>139000</td>\n",
       "    </tr>\n",
       "    <tr>\n",
       "      <th>101093</th>\n",
       "      <td>CANCELLED</td>\n",
       "      <td>1800000</td>\n",
       "    </tr>\n",
       "    <tr>\n",
       "      <th>101097</th>\n",
       "      <td>CANCELLED</td>\n",
       "      <td>96000</td>\n",
       "    </tr>\n",
       "    <tr>\n",
       "      <th>101098</th>\n",
       "      <td>CANCELLED</td>\n",
       "      <td>189000</td>\n",
       "    </tr>\n",
       "    <tr>\n",
       "      <th>101100</th>\n",
       "      <td>CANCELLED</td>\n",
       "      <td>189000</td>\n",
       "    </tr>\n",
       "  </tbody>\n",
       "</table>\n",
       "<p>6885 rows × 2 columns</p>\n",
       "</div>"
      ],
      "text/plain": [
       "            state  transaction_amount\n",
       "52598   CANCELLED               98000\n",
       "74692   CANCELLED              119000\n",
       "74693   CANCELLED              169000\n",
       "74694   CANCELLED              108500\n",
       "74708   CANCELLED              112000\n",
       "...           ...                 ...\n",
       "101092  CANCELLED              139000\n",
       "101093  CANCELLED             1800000\n",
       "101097  CANCELLED               96000\n",
       "101098  CANCELLED              189000\n",
       "101100  CANCELLED              189000\n",
       "\n",
       "[6885 rows x 2 columns]"
      ]
     },
     "execution_count": 225,
     "metadata": {},
     "output_type": "execute_result"
    }
   ],
   "source": [
    "tcsc = df[(df['type'] == 'PAYMENT') & (df['state'] == 'CANCELLED')]\n",
    "# ORDER = 33963,  PAYMENT = 6885, REFUND = 0\n",
    "tcsc[['state', 'transaction_amount']]\n"
   ]
  },
  {
   "cell_type": "code",
   "execution_count": 215,
   "id": "a34a8768",
   "metadata": {
    "ExecuteTime": {
     "end_time": "2022-07-03T12:43:30.583113Z",
     "start_time": "2022-07-03T12:43:30.545723Z"
    }
   },
   "outputs": [
    {
     "data": {
      "text/plain": [
       "array(['ORDER', 'PAYMENT'], dtype=object)"
      ]
     },
     "execution_count": 215,
     "metadata": {},
     "output_type": "execute_result"
    }
   ],
   "source": [
    "tcsc = df['type'][(df['state'] == 'CANCELLED')]\n",
    "tcsc.unique()"
   ]
  },
  {
   "cell_type": "markdown",
   "id": "abf2f84a",
   "metadata": {},
   "source": [
    "CANCELLED 에 대해 PAYMENT 와 ORDER,  PAYMENT가 뜻하는게... 뭐지"
   ]
  },
  {
   "cell_type": "markdown",
   "id": "db7bb03d",
   "metadata": {},
   "source": [
    "## cancelled 가장 많은 강좌(구매가 많은게 환불이 많은가? 주의)"
   ]
  },
  {
   "cell_type": "code",
   "execution_count": 199,
   "id": "1d555507",
   "metadata": {
    "ExecuteTime": {
     "end_time": "2022-07-03T12:28:49.993445Z",
     "start_time": "2022-07-03T12:28:49.928779Z"
    },
    "scrolled": true
   },
   "outputs": [
    {
     "data": {
      "text/plain": [
       "40848"
      ]
     },
     "execution_count": 199,
     "metadata": {},
     "output_type": "execute_result"
    }
   ],
   "source": [
    "# cancelled 가 가장 많은 강좌\n",
    "sc = df[df['state'] == 'CANCELLED']\n",
    "sc.index = range(len(sc))\n",
    "sc['state'].str.contains('CANCELLED').count()\n",
    "# cc_row = cc.groupby('category_title').sum()    sort_values(by = 'state')\n",
    "# cc_row.loc[0]"
   ]
  },
  {
   "cell_type": "code",
   "execution_count": 238,
   "id": "a6d3fe88",
   "metadata": {
    "ExecuteTime": {
     "end_time": "2022-07-03T12:51:07.989283Z",
     "start_time": "2022-07-03T12:51:07.960891Z"
    }
   },
   "outputs": [],
   "source": [
    "scdf = sc.loc[:,['course_title', 'state', 'transaction_amount', 'type']]\n",
    "# 강의로 그룹, 각 그룹별 cancelled 의 count 를 하려고 하는데 사라지니까. cancelled 숫자로 변환?\n",
    "scdf.loc[(scdf.state == 'CANCELLED'), 'state'] = 1\n",
    "scdf = scdf.astype({'state' : 'int'})"
   ]
  },
  {
   "cell_type": "code",
   "execution_count": 242,
   "id": "e48f5d30",
   "metadata": {
    "ExecuteTime": {
     "end_time": "2022-07-03T12:52:50.129882Z",
     "start_time": "2022-07-03T12:52:50.105479Z"
    }
   },
   "outputs": [
    {
     "data": {
      "text/html": [
       "<div>\n",
       "<style scoped>\n",
       "    .dataframe tbody tr th:only-of-type {\n",
       "        vertical-align: middle;\n",
       "    }\n",
       "\n",
       "    .dataframe tbody tr th {\n",
       "        vertical-align: top;\n",
       "    }\n",
       "\n",
       "    .dataframe thead th {\n",
       "        text-align: right;\n",
       "    }\n",
       "</style>\n",
       "<table border=\"1\" class=\"dataframe\">\n",
       "  <thead>\n",
       "    <tr style=\"text-align: right;\">\n",
       "      <th></th>\n",
       "      <th>course_title</th>\n",
       "      <th>type</th>\n",
       "      <th>transaction_amount</th>\n",
       "    </tr>\n",
       "  </thead>\n",
       "  <tbody>\n",
       "    <tr>\n",
       "      <th>27663</th>\n",
       "      <td>올인원 패키지 : 아카데미 : 편집하는여자의 영상편집 마스터클래스 - 제 1강 프리...</td>\n",
       "      <td>PAYMENT</td>\n",
       "      <td>98000</td>\n",
       "    </tr>\n",
       "    <tr>\n",
       "      <th>33964</th>\n",
       "      <td>나의 칼퇴치트키 엑셀유치원</td>\n",
       "      <td>PAYMENT</td>\n",
       "      <td>119000</td>\n",
       "    </tr>\n",
       "    <tr>\n",
       "      <th>33965</th>\n",
       "      <td>올인원 패키지 : 구글 Material Design 시스템을 활용한 Youtube ...</td>\n",
       "      <td>PAYMENT</td>\n",
       "      <td>169000</td>\n",
       "    </tr>\n",
       "    <tr>\n",
       "      <th>33966</th>\n",
       "      <td>올인원 패키지 : 코딩 첫 걸음 프로젝트</td>\n",
       "      <td>PAYMENT</td>\n",
       "      <td>108500</td>\n",
       "    </tr>\n",
       "    <tr>\n",
       "      <th>33967</th>\n",
       "      <td>초격차 패키지 : 한번에 끝내는 영상 촬영과 편집</td>\n",
       "      <td>PAYMENT</td>\n",
       "      <td>112000</td>\n",
       "    </tr>\n",
       "    <tr>\n",
       "      <th>...</th>\n",
       "      <td>...</td>\n",
       "      <td>...</td>\n",
       "      <td>...</td>\n",
       "    </tr>\n",
       "    <tr>\n",
       "      <th>40843</th>\n",
       "      <td>올인원 패키지 : GA4 탑재, 구글 애널리틱스 끝장내기</td>\n",
       "      <td>PAYMENT</td>\n",
       "      <td>139000</td>\n",
       "    </tr>\n",
       "    <tr>\n",
       "      <th>40844</th>\n",
       "      <td>프로모션 : 풀스택 개발자 맥북 pro 패스(9월 현물 프리패스)</td>\n",
       "      <td>PAYMENT</td>\n",
       "      <td>1800000</td>\n",
       "    </tr>\n",
       "    <tr>\n",
       "      <th>40845</th>\n",
       "      <td>초격차 패키지 : 한 번에 끝내는 유튜브 크리에이터 되기</td>\n",
       "      <td>PAYMENT</td>\n",
       "      <td>96000</td>\n",
       "    </tr>\n",
       "    <tr>\n",
       "      <th>40846</th>\n",
       "      <td>부동산 디벨로퍼 아카데미 : 인허가</td>\n",
       "      <td>PAYMENT</td>\n",
       "      <td>189000</td>\n",
       "    </tr>\n",
       "    <tr>\n",
       "      <th>40847</th>\n",
       "      <td>부동산 디벨로퍼 아카데미 : 인허가</td>\n",
       "      <td>PAYMENT</td>\n",
       "      <td>189000</td>\n",
       "    </tr>\n",
       "  </tbody>\n",
       "</table>\n",
       "<p>6885 rows × 3 columns</p>\n",
       "</div>"
      ],
      "text/plain": [
       "                                            course_title     type  \\\n",
       "27663  올인원 패키지 : 아카데미 : 편집하는여자의 영상편집 마스터클래스 - 제 1강 프리...  PAYMENT   \n",
       "33964                                     나의 칼퇴치트키 엑셀유치원  PAYMENT   \n",
       "33965  올인원 패키지 : 구글 Material Design 시스템을 활용한 Youtube ...  PAYMENT   \n",
       "33966                             올인원 패키지 : 코딩 첫 걸음 프로젝트  PAYMENT   \n",
       "33967                        초격차 패키지 : 한번에 끝내는 영상 촬영과 편집  PAYMENT   \n",
       "...                                                  ...      ...   \n",
       "40843                    올인원 패키지 : GA4 탑재, 구글 애널리틱스 끝장내기  PAYMENT   \n",
       "40844               프로모션 : 풀스택 개발자 맥북 pro 패스(9월 현물 프리패스)  PAYMENT   \n",
       "40845                    초격차 패키지 : 한 번에 끝내는 유튜브 크리에이터 되기  PAYMENT   \n",
       "40846                                부동산 디벨로퍼 아카데미 : 인허가  PAYMENT   \n",
       "40847                                부동산 디벨로퍼 아카데미 : 인허가  PAYMENT   \n",
       "\n",
       "       transaction_amount  \n",
       "27663               98000  \n",
       "33964              119000  \n",
       "33965              169000  \n",
       "33966              108500  \n",
       "33967              112000  \n",
       "...                   ...  \n",
       "40843              139000  \n",
       "40844             1800000  \n",
       "40845               96000  \n",
       "40846              189000  \n",
       "40847              189000  \n",
       "\n",
       "[6885 rows x 3 columns]"
      ]
     },
     "execution_count": 242,
     "metadata": {},
     "output_type": "execute_result"
    }
   ],
   "source": [
    "# groubby로 강의묶으면.. 몇개나 나오나\n",
    "\n",
    "tcsc = scdf[(scdf['type'] == 'PAYMENT') & (scdf['state'] == 1)]\n",
    "tcsc[['course_title','type', 'transaction_amount' ]]"
   ]
  },
  {
   "cell_type": "code",
   "execution_count": 228,
   "id": "9f456128",
   "metadata": {
    "ExecuteTime": {
     "end_time": "2022-07-03T12:47:15.761143Z",
     "start_time": "2022-07-03T12:47:15.714189Z"
    }
   },
   "outputs": [
    {
     "data": {
      "text/html": [
       "<div>\n",
       "<style scoped>\n",
       "    .dataframe tbody tr th:only-of-type {\n",
       "        vertical-align: middle;\n",
       "    }\n",
       "\n",
       "    .dataframe tbody tr th {\n",
       "        vertical-align: top;\n",
       "    }\n",
       "\n",
       "    .dataframe thead th {\n",
       "        text-align: right;\n",
       "    }\n",
       "</style>\n",
       "<table border=\"1\" class=\"dataframe\">\n",
       "  <thead>\n",
       "    <tr style=\"text-align: right;\">\n",
       "      <th></th>\n",
       "      <th></th>\n",
       "      <th>state</th>\n",
       "      <th>transaction_amount</th>\n",
       "    </tr>\n",
       "    <tr>\n",
       "      <th>course_title</th>\n",
       "      <th>type</th>\n",
       "      <th></th>\n",
       "      <th></th>\n",
       "    </tr>\n",
       "  </thead>\n",
       "  <tbody>\n",
       "    <tr>\n",
       "      <th>초격차 패키지 : 한 번에 끝내는 프론트엔드 개발</th>\n",
       "      <th>ORDER</th>\n",
       "      <td>1331</td>\n",
       "      <td>136781700</td>\n",
       "    </tr>\n",
       "  </tbody>\n",
       "</table>\n",
       "</div>"
      ],
      "text/plain": [
       "                                   state  transaction_amount\n",
       "course_title                type                            \n",
       "초격차 패키지 : 한 번에 끝내는 프론트엔드 개발 ORDER   1331           136781700"
      ]
     },
     "execution_count": 228,
     "metadata": {},
     "output_type": "execute_result"
    }
   ],
   "source": [
    "sc_co = scdf.groupby(['course_title', 'type']).sum()\n",
    "sc_co.sort_values(by = 'state', ascending=False)[:1]"
   ]
  },
  {
   "cell_type": "markdown",
   "id": "8f06412d",
   "metadata": {},
   "source": [
    "### 취소가 많은  1~20위 까지의  강의  목록(cancelled)"
   ]
  },
  {
   "cell_type": "code",
   "execution_count": 201,
   "id": "537a9452",
   "metadata": {
    "ExecuteTime": {
     "end_time": "2022-07-03T12:29:30.191242Z",
     "start_time": "2022-07-03T12:29:30.158325Z"
    }
   },
   "outputs": [
    {
     "data": {
      "text/html": [
       "<div>\n",
       "<style scoped>\n",
       "    .dataframe tbody tr th:only-of-type {\n",
       "        vertical-align: middle;\n",
       "    }\n",
       "\n",
       "    .dataframe tbody tr th {\n",
       "        vertical-align: top;\n",
       "    }\n",
       "\n",
       "    .dataframe thead th {\n",
       "        text-align: right;\n",
       "    }\n",
       "</style>\n",
       "<table border=\"1\" class=\"dataframe\">\n",
       "  <thead>\n",
       "    <tr style=\"text-align: right;\">\n",
       "      <th></th>\n",
       "      <th></th>\n",
       "      <th>state</th>\n",
       "      <th>transaction_amount</th>\n",
       "    </tr>\n",
       "    <tr>\n",
       "      <th>course_title</th>\n",
       "      <th>type</th>\n",
       "      <th></th>\n",
       "      <th></th>\n",
       "    </tr>\n",
       "  </thead>\n",
       "  <tbody>\n",
       "    <tr>\n",
       "      <th>초격차 패키지 : 한 번에 끝내는 프론트엔드 개발</th>\n",
       "      <th>ORDER</th>\n",
       "      <td>1331</td>\n",
       "      <td>136781700</td>\n",
       "    </tr>\n",
       "    <tr>\n",
       "      <th>초격차 패키지 : 한번에 끝내는 영상 촬영과 편집</th>\n",
       "      <th>ORDER</th>\n",
       "      <td>998</td>\n",
       "      <td>102012000</td>\n",
       "    </tr>\n",
       "    <tr>\n",
       "      <th>초격차 패키지 : 한번에 끝내는 Java/Spring 웹 개발 마스터</th>\n",
       "      <th>ORDER</th>\n",
       "      <td>942</td>\n",
       "      <td>98809500</td>\n",
       "    </tr>\n",
       "    <tr>\n",
       "      <th>초격차 패키지 : 한번에 끝내는 디자인 툴</th>\n",
       "      <th>ORDER</th>\n",
       "      <td>640</td>\n",
       "      <td>92589200</td>\n",
       "    </tr>\n",
       "    <tr>\n",
       "      <th>입만 열면 인정받는 스피치 10분컷</th>\n",
       "      <th>ORDER</th>\n",
       "      <td>620</td>\n",
       "      <td>12792935</td>\n",
       "    </tr>\n",
       "    <tr>\n",
       "      <th>올인원 패키지 : 김민태의 프론트엔드 아카데미 : 제 1강 JavaScript &amp; TypeScript Essential</th>\n",
       "      <th>ORDER</th>\n",
       "      <td>598</td>\n",
       "      <td>58284100</td>\n",
       "    </tr>\n",
       "    <tr>\n",
       "      <th>초격차 패키지 : 한 번에 끝내는 엑셀 실무</th>\n",
       "      <th>ORDER</th>\n",
       "      <td>594</td>\n",
       "      <td>54693350</td>\n",
       "    </tr>\n",
       "    <tr>\n",
       "      <th>초격차 패키지 : 30개 프로젝트로 배우는 Android 앱 개발 with Kotlin</th>\n",
       "      <th>ORDER</th>\n",
       "      <td>573</td>\n",
       "      <td>59370950</td>\n",
       "    </tr>\n",
       "    <tr>\n",
       "      <th>올인원 패키지 : 완전정복 시각디자인 기초</th>\n",
       "      <th>ORDER</th>\n",
       "      <td>539</td>\n",
       "      <td>82923600</td>\n",
       "    </tr>\n",
       "    <tr>\n",
       "      <th>초격차 패키지 : 한번에 끝내는 PPT 제작/디자인</th>\n",
       "      <th>ORDER</th>\n",
       "      <td>512</td>\n",
       "      <td>46723200</td>\n",
       "    </tr>\n",
       "  </tbody>\n",
       "</table>\n",
       "</div>"
      ],
      "text/plain": [
       "                                                          state  \\\n",
       "course_title                                       type           \n",
       "초격차 패키지 : 한 번에 끝내는 프론트엔드 개발                        ORDER   1331   \n",
       "초격차 패키지 : 한번에 끝내는 영상 촬영과 편집                        ORDER    998   \n",
       "초격차 패키지 : 한번에 끝내는 Java/Spring 웹 개발 마스터             ORDER    942   \n",
       "초격차 패키지 : 한번에 끝내는 디자인 툴                            ORDER    640   \n",
       "입만 열면 인정받는 스피치 10분컷                                ORDER    620   \n",
       "올인원 패키지 : 김민태의 프론트엔드 아카데미 : 제 1강 JavaScript & T... ORDER    598   \n",
       "초격차 패키지 : 한 번에 끝내는 엑셀 실무                           ORDER    594   \n",
       "초격차 패키지 : 30개 프로젝트로 배우는 Android 앱 개발 with Kotlin   ORDER    573   \n",
       "올인원 패키지 : 완전정복 시각디자인 기초                            ORDER    539   \n",
       "초격차 패키지 : 한번에 끝내는 PPT 제작/디자인                       ORDER    512   \n",
       "\n",
       "                                                          transaction_amount  \n",
       "course_title                                       type                       \n",
       "초격차 패키지 : 한 번에 끝내는 프론트엔드 개발                        ORDER           136781700  \n",
       "초격차 패키지 : 한번에 끝내는 영상 촬영과 편집                        ORDER           102012000  \n",
       "초격차 패키지 : 한번에 끝내는 Java/Spring 웹 개발 마스터             ORDER            98809500  \n",
       "초격차 패키지 : 한번에 끝내는 디자인 툴                            ORDER            92589200  \n",
       "입만 열면 인정받는 스피치 10분컷                                ORDER            12792935  \n",
       "올인원 패키지 : 김민태의 프론트엔드 아카데미 : 제 1강 JavaScript & T... ORDER            58284100  \n",
       "초격차 패키지 : 한 번에 끝내는 엑셀 실무                           ORDER            54693350  \n",
       "초격차 패키지 : 30개 프로젝트로 배우는 Android 앱 개발 with Kotlin   ORDER            59370950  \n",
       "올인원 패키지 : 완전정복 시각디자인 기초                            ORDER            82923600  \n",
       "초격차 패키지 : 한번에 끝내는 PPT 제작/디자인                       ORDER            46723200  "
      ]
     },
     "execution_count": 201,
     "metadata": {},
     "output_type": "execute_result"
    }
   ],
   "source": [
    "sc_co.sort_values(by = 'state', ascending=False)[:10]"
   ]
  },
  {
   "cell_type": "markdown",
   "id": "f2fa8966",
   "metadata": {},
   "source": [
    "### 취소가 가장 적은 1~20위 강의 목록"
   ]
  },
  {
   "cell_type": "code",
   "execution_count": 202,
   "id": "7e8d7b98",
   "metadata": {
    "ExecuteTime": {
     "end_time": "2022-07-03T12:29:33.224250Z",
     "start_time": "2022-07-03T12:29:33.194559Z"
    },
    "scrolled": true
   },
   "outputs": [
    {
     "data": {
      "text/html": [
       "<div>\n",
       "<style scoped>\n",
       "    .dataframe tbody tr th:only-of-type {\n",
       "        vertical-align: middle;\n",
       "    }\n",
       "\n",
       "    .dataframe tbody tr th {\n",
       "        vertical-align: top;\n",
       "    }\n",
       "\n",
       "    .dataframe thead th {\n",
       "        text-align: right;\n",
       "    }\n",
       "</style>\n",
       "<table border=\"1\" class=\"dataframe\">\n",
       "  <thead>\n",
       "    <tr style=\"text-align: right;\">\n",
       "      <th></th>\n",
       "      <th></th>\n",
       "      <th>state</th>\n",
       "      <th>transaction_amount</th>\n",
       "    </tr>\n",
       "    <tr>\n",
       "      <th>course_title</th>\n",
       "      <th>type</th>\n",
       "      <th></th>\n",
       "      <th></th>\n",
       "    </tr>\n",
       "  </thead>\n",
       "  <tbody>\n",
       "    <tr>\n",
       "      <th>프로모션 : 커리어를 UP UX/UI 디자인 프리패스 (5월 삼성 패키지 현물 :  삼성 갤럭시 북 프로)</th>\n",
       "      <th>ORDER</th>\n",
       "      <td>1</td>\n",
       "      <td>1399000</td>\n",
       "    </tr>\n",
       "    <tr>\n",
       "      <th>프로모션 : 풀스택 데이터 사이언티스트를 위한 필수 iPad 패키지 (7월 현물 프리패스)</th>\n",
       "      <th>ORDER</th>\n",
       "      <td>1</td>\n",
       "      <td>990000</td>\n",
       "    </tr>\n",
       "    <tr>\n",
       "      <th>프로모션 : 초봉을 바꾸는 주니어를 위한 개발 iPad 패키지 (7월 현물 프리패스)</th>\n",
       "      <th>ORDER</th>\n",
       "      <td>1</td>\n",
       "      <td>990000</td>\n",
       "    </tr>\n",
       "    <tr>\n",
       "      <th>프로모션 : 칼퇴기원! 실전압축! 직장인 엑셀 iPad 패키지 (7월 현물 프리패스)</th>\n",
       "      <th>ORDER</th>\n",
       "      <td>1</td>\n",
       "      <td>990000</td>\n",
       "    </tr>\n",
       "    <tr>\n",
       "      <th>(초격차변경)프로모션 : 코딩테스트 결과를 바꾸는 전공생 코딩 BEST PASS (7월 프리패스)</th>\n",
       "      <th>ORDER</th>\n",
       "      <td>1</td>\n",
       "      <td>346000</td>\n",
       "    </tr>\n",
       "    <tr>\n",
       "      <th>[한정판매] 자연어처리 끝장 패키지(~7월)</th>\n",
       "      <th>PAYMENT</th>\n",
       "      <td>1</td>\n",
       "      <td>339000</td>\n",
       "    </tr>\n",
       "    <tr>\n",
       "      <th>프로모션 : 취준생 필수! 이력서 꽉채우는 평생 PASS (8월 프리패스)</th>\n",
       "      <th>PAYMENT</th>\n",
       "      <td>1</td>\n",
       "      <td>330000</td>\n",
       "    </tr>\n",
       "    <tr>\n",
       "      <th>프로모션 : 고급 데이터 분석의 A to Z 데이터 분석 바이블 벼락치기 패키지  (9월 프리패스)</th>\n",
       "      <th>PAYMENT</th>\n",
       "      <td>1</td>\n",
       "      <td>330000</td>\n",
       "    </tr>\n",
       "    <tr>\n",
       "      <th>프로모션 : 취업까지 순식간! 개발 취준생을 위한 합격 평생 PASS (8월 프리패스)</th>\n",
       "      <th>PAYMENT</th>\n",
       "      <td>1</td>\n",
       "      <td>330000</td>\n",
       "    </tr>\n",
       "    <tr>\n",
       "      <th>프로모션 : 국내외 TOP tier 전문가와 함께하는 데이터 사이언스 프로젝트 평생 PASS (8월 프리패스)</th>\n",
       "      <th>PAYMENT</th>\n",
       "      <td>1</td>\n",
       "      <td>330000</td>\n",
       "    </tr>\n",
       "    <tr>\n",
       "      <th>프로모션 : 취준생 필수! 직장인 필수스킬 벼락치기 패키지 (9월 프리패스)</th>\n",
       "      <th>PAYMENT</th>\n",
       "      <td>1</td>\n",
       "      <td>330000</td>\n",
       "    </tr>\n",
       "    <tr>\n",
       "      <th>프로모션 : 칼퇴기원! 실전압축 직장인 엑셀 평생 PASS (8월 프리패스)</th>\n",
       "      <th>PAYMENT</th>\n",
       "      <td>1</td>\n",
       "      <td>330000</td>\n",
       "    </tr>\n",
       "    <tr>\n",
       "      <th>엑셀 온라인 완주반 3기</th>\n",
       "      <th>ORDER</th>\n",
       "      <td>1</td>\n",
       "      <td>314000</td>\n",
       "    </tr>\n",
       "    <tr>\n",
       "      <th>프로모션 : 취업까지 순식간! 개발 취준생을 위한 합격 BEST PASS (7월 프리패스)</th>\n",
       "      <th>ORDER</th>\n",
       "      <td>1</td>\n",
       "      <td>299000</td>\n",
       "    </tr>\n",
       "    <tr>\n",
       "      <th>프로모션 : 칼퇴기원! 실전압축 직장인 엑셀 BEST PASS (7월 프리패스)</th>\n",
       "      <th>ORDER</th>\n",
       "      <td>1</td>\n",
       "      <td>299000</td>\n",
       "    </tr>\n",
       "    <tr>\n",
       "      <th>프로모션 : 데이터 분석 A to Z 평생 PASS (10월)</th>\n",
       "      <th>ORDER</th>\n",
       "      <td>1</td>\n",
       "      <td>299000</td>\n",
       "    </tr>\n",
       "    <tr>\n",
       "      <th>프로모션 : 데이터 보는 눈을 바꿔 줄 데이터 마케팅 한끝세트 (3월 프리패스)</th>\n",
       "      <th>ORDER</th>\n",
       "      <td>1</td>\n",
       "      <td>299000</td>\n",
       "    </tr>\n",
       "    <tr>\n",
       "      <th>일러스트레이터 서지</th>\n",
       "      <th>ORDER</th>\n",
       "      <td>1</td>\n",
       "      <td>208000</td>\n",
       "    </tr>\n",
       "    <tr>\n",
       "      <th>올인원 패키지 : 1인 쇼핑몰 시작하기 (2020)</th>\n",
       "      <th>ORDER</th>\n",
       "      <td>1</td>\n",
       "      <td>123000</td>\n",
       "    </tr>\n",
       "    <tr>\n",
       "      <th>[120일 수강 가능] 올인원 패키지 : Financial Modeling</th>\n",
       "      <th>ORDER</th>\n",
       "      <td>1</td>\n",
       "      <td>77000</td>\n",
       "    </tr>\n",
       "  </tbody>\n",
       "</table>\n",
       "</div>"
      ],
      "text/plain": [
       "                                                            state  \\\n",
       "course_title                                       type             \n",
       "프로모션 : 커리어를 UP UX/UI 디자인 프리패스 (5월 삼성 패키지 현물 :  ... ORDER        1   \n",
       "프로모션 : 풀스택 데이터 사이언티스트를 위한 필수 iPad 패키지 (7월 현물 프리패스) ORDER        1   \n",
       "프로모션 : 초봉을 바꾸는 주니어를 위한 개발 iPad 패키지 (7월 현물 프리패스)    ORDER        1   \n",
       "프로모션 : 칼퇴기원! 실전압축! 직장인 엑셀 iPad 패키지 (7월 현물 프리패스)    ORDER        1   \n",
       "(초격차변경)프로모션 : 코딩테스트 결과를 바꾸는 전공생 코딩 BEST PASS (7... ORDER        1   \n",
       "[한정판매] 자연어처리 끝장 패키지(~7월)                           PAYMENT      1   \n",
       "프로모션 : 취준생 필수! 이력서 꽉채우는 평생 PASS (8월 프리패스)          PAYMENT      1   \n",
       "프로모션 : 고급 데이터 분석의 A to Z 데이터 분석 바이블 벼락치기 패키지  (... PAYMENT      1   \n",
       "프로모션 : 취업까지 순식간! 개발 취준생을 위한 합격 평생 PASS (8월 프리패스)   PAYMENT      1   \n",
       "프로모션 : 국내외 TOP tier 전문가와 함께하는 데이터 사이언스 프로젝트 평생 ... PAYMENT      1   \n",
       "프로모션 : 취준생 필수! 직장인 필수스킬 벼락치기 패키지 (9월 프리패스)         PAYMENT      1   \n",
       "프로모션 : 칼퇴기원! 실전압축 직장인 엑셀 평생 PASS (8월 프리패스)         PAYMENT      1   \n",
       "엑셀 온라인 완주반 3기                                      ORDER        1   \n",
       "프로모션 : 취업까지 순식간! 개발 취준생을 위한 합격 BEST PASS (7월 프리패스) ORDER        1   \n",
       "프로모션 : 칼퇴기원! 실전압축 직장인 엑셀 BEST PASS (7월 프리패스)       ORDER        1   \n",
       "프로모션 : 데이터 분석 A to Z 평생 PASS (10월)                 ORDER        1   \n",
       "프로모션 : 데이터 보는 눈을 바꿔 줄 데이터 마케팅 한끝세트 (3월 프리패스)       ORDER        1   \n",
       "일러스트레이터 서지                                         ORDER        1   \n",
       "올인원 패키지 : 1인 쇼핑몰 시작하기 (2020)                       ORDER        1   \n",
       "[120일 수강 가능] 올인원 패키지 : Financial Modeling          ORDER        1   \n",
       "\n",
       "                                                            transaction_amount  \n",
       "course_title                                       type                         \n",
       "프로모션 : 커리어를 UP UX/UI 디자인 프리패스 (5월 삼성 패키지 현물 :  ... ORDER               1399000  \n",
       "프로모션 : 풀스택 데이터 사이언티스트를 위한 필수 iPad 패키지 (7월 현물 프리패스) ORDER                990000  \n",
       "프로모션 : 초봉을 바꾸는 주니어를 위한 개발 iPad 패키지 (7월 현물 프리패스)    ORDER                990000  \n",
       "프로모션 : 칼퇴기원! 실전압축! 직장인 엑셀 iPad 패키지 (7월 현물 프리패스)    ORDER                990000  \n",
       "(초격차변경)프로모션 : 코딩테스트 결과를 바꾸는 전공생 코딩 BEST PASS (7... ORDER                346000  \n",
       "[한정판매] 자연어처리 끝장 패키지(~7월)                           PAYMENT              339000  \n",
       "프로모션 : 취준생 필수! 이력서 꽉채우는 평생 PASS (8월 프리패스)          PAYMENT              330000  \n",
       "프로모션 : 고급 데이터 분석의 A to Z 데이터 분석 바이블 벼락치기 패키지  (... PAYMENT              330000  \n",
       "프로모션 : 취업까지 순식간! 개발 취준생을 위한 합격 평생 PASS (8월 프리패스)   PAYMENT              330000  \n",
       "프로모션 : 국내외 TOP tier 전문가와 함께하는 데이터 사이언스 프로젝트 평생 ... PAYMENT              330000  \n",
       "프로모션 : 취준생 필수! 직장인 필수스킬 벼락치기 패키지 (9월 프리패스)         PAYMENT              330000  \n",
       "프로모션 : 칼퇴기원! 실전압축 직장인 엑셀 평생 PASS (8월 프리패스)         PAYMENT              330000  \n",
       "엑셀 온라인 완주반 3기                                      ORDER                314000  \n",
       "프로모션 : 취업까지 순식간! 개발 취준생을 위한 합격 BEST PASS (7월 프리패스) ORDER                299000  \n",
       "프로모션 : 칼퇴기원! 실전압축 직장인 엑셀 BEST PASS (7월 프리패스)       ORDER                299000  \n",
       "프로모션 : 데이터 분석 A to Z 평생 PASS (10월)                 ORDER                299000  \n",
       "프로모션 : 데이터 보는 눈을 바꿔 줄 데이터 마케팅 한끝세트 (3월 프리패스)       ORDER                299000  \n",
       "일러스트레이터 서지                                         ORDER                208000  \n",
       "올인원 패키지 : 1인 쇼핑몰 시작하기 (2020)                       ORDER                123000  \n",
       "[120일 수강 가능] 올인원 패키지 : Financial Modeling          ORDER                 77000  "
      ]
     },
     "execution_count": 202,
     "metadata": {},
     "output_type": "execute_result"
    }
   ],
   "source": [
    "sc_co.sort_values(by = 'state')[:20].sort_values(by = 'transaction_amount', ascending=False)"
   ]
  },
  {
   "cell_type": "markdown",
   "id": "4c0d021f",
   "metadata": {},
   "source": [
    "### 환불이 많은  1~20위 까지의  강의  목록(refund)"
   ]
  },
  {
   "cell_type": "code",
   "execution_count": 183,
   "id": "87cea824",
   "metadata": {
    "ExecuteTime": {
     "end_time": "2022-07-03T12:20:53.922586Z",
     "start_time": "2022-07-03T12:20:53.886282Z"
    }
   },
   "outputs": [
    {
     "data": {
      "text/plain": [
       "array(['ORDER', 'PAYMENT', 'REFUND'], dtype=object)"
      ]
     },
     "execution_count": 183,
     "metadata": {},
     "output_type": "execute_result"
    }
   ],
   "source": [
    "df['type'].unique()"
   ]
  },
  {
   "cell_type": "markdown",
   "id": "a7bc00ac",
   "metadata": {},
   "source": [
    "### 환불률이 가장 적은 1~20위 강의 목록"
   ]
  },
  {
   "cell_type": "code",
   "execution_count": null,
   "id": "e19a1a2d",
   "metadata": {},
   "outputs": [],
   "source": [
    "sc = df[df['state'] == 'CANCELLED']\n",
    "sc.index = range(len(sc))\n",
    "sc['state'].str.contains('CANCELLED').count()\n",
    "# cc_row = cc.groupby('category_title').sum()                                                 sort_values(by = 'state')\n",
    "# cc_row.loc[0]"
   ]
  },
  {
   "cell_type": "markdown",
   "id": "7f33435e",
   "metadata": {},
   "source": [
    "### 구매률과 환불률의 상관관계"
   ]
  },
  {
   "cell_type": "code",
   "execution_count": null,
   "id": "9e68f797",
   "metadata": {},
   "outputs": [],
   "source": []
  },
  {
   "cell_type": "markdown",
   "id": "dbf16318",
   "metadata": {},
   "source": [
    "# PG사 목록"
   ]
  },
  {
   "cell_type": "markdown",
   "id": "0b463f27",
   "metadata": {},
   "source": [
    "## 기존 PG사 vs 신규 pg사 점유율 현황"
   ]
  },
  {
   "cell_type": "markdown",
   "id": "5f6cf687",
   "metadata": {},
   "source": [
    "### 기존 PG사 vs 신규 pg사 기간별 점유율 변동 변화추이"
   ]
  },
  {
   "cell_type": "markdown",
   "id": "397fc765",
   "metadata": {},
   "source": [
    "# VIP그룹 분석"
   ]
  },
  {
   "cell_type": "markdown",
   "id": "bbcce57b",
   "metadata": {},
   "source": [
    "## VIP 그룹 정의"
   ]
  },
  {
   "cell_type": "markdown",
   "id": "2969f67b",
   "metadata": {},
   "source": [
    "## 일반 고객 평균 결제 횟수 vs VIP 고객 평균 결제 횟수"
   ]
  },
  {
   "cell_type": "markdown",
   "id": "02dd3f3c",
   "metadata": {},
   "source": [
    "## VIP 그룹 특징"
   ]
  },
  {
   "cell_type": "markdown",
   "id": "cada2ef7",
   "metadata": {},
   "source": [
    "# 쿠폰 사용 분석"
   ]
  },
  {
   "cell_type": "markdown",
   "id": "08611340",
   "metadata": {},
   "source": [
    "## 전체구매건 중 쿠폰사용한 구매비율"
   ]
  },
  {
   "cell_type": "markdown",
   "id": "7111e7d5",
   "metadata": {},
   "source": [
    "## 매출에 대한 쿠폰의 중요도 분석"
   ]
  },
  {
   "cell_type": "markdown",
   "id": "677f1548",
   "metadata": {},
   "source": [
    "# 패키지 강의 vs 단품 강의"
   ]
  },
  {
   "cell_type": "markdown",
   "id": "d7c66b55",
   "metadata": {},
   "source": [
    "# 레드는 과연 성공했는가?"
   ]
  },
  {
   "cell_type": "code",
   "execution_count": null,
   "id": "9fd2e22a",
   "metadata": {},
   "outputs": [],
   "source": []
  },
  {
   "cell_type": "code",
   "execution_count": null,
   "id": "2322dd95",
   "metadata": {},
   "outputs": [],
   "source": []
  },
  {
   "cell_type": "code",
   "execution_count": null,
   "id": "f2f272af",
   "metadata": {},
   "outputs": [],
   "source": []
  },
  {
   "cell_type": "code",
   "execution_count": null,
   "id": "9cc18912",
   "metadata": {},
   "outputs": [],
   "source": []
  },
  {
   "cell_type": "code",
   "execution_count": null,
   "id": "d9dfd20b",
   "metadata": {},
   "outputs": [],
   "source": []
  }
 ],
 "metadata": {
  "kernelspec": {
   "display_name": "Python 3",
   "language": "python",
   "name": "python3"
  },
  "language_info": {
   "codemirror_mode": {
    "name": "ipython",
    "version": 3
   },
   "file_extension": ".py",
   "mimetype": "text/x-python",
   "name": "python",
   "nbconvert_exporter": "python",
   "pygments_lexer": "ipython3",
   "version": "3.8.8"
  },
  "toc": {
   "base_numbering": 1,
   "nav_menu": {},
   "number_sections": true,
   "sideBar": true,
   "skip_h1_title": false,
   "title_cell": "Table of Contents",
   "title_sidebar": "Contents",
   "toc_cell": false,
   "toc_position": {},
   "toc_section_display": true,
   "toc_window_display": false
  },
  "varInspector": {
   "cols": {
    "lenName": 16,
    "lenType": 16,
    "lenVar": 40
   },
   "kernels_config": {
    "python": {
     "delete_cmd_postfix": "",
     "delete_cmd_prefix": "del ",
     "library": "var_list.py",
     "varRefreshCmd": "print(var_dic_list())"
    },
    "r": {
     "delete_cmd_postfix": ") ",
     "delete_cmd_prefix": "rm(",
     "library": "var_list.r",
     "varRefreshCmd": "cat(var_dic_list()) "
    }
   },
   "types_to_exclude": [
    "module",
    "function",
    "builtin_function_or_method",
    "instance",
    "_Feature"
   ],
   "window_display": false
  }
 },
 "nbformat": 4,
 "nbformat_minor": 5
}

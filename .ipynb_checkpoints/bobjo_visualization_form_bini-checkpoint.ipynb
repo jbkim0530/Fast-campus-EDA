{
 "cells": [
  {
   "cell_type": "markdown",
   "id": "881f8b95",
   "metadata": {},
   "source": [
    "데이터 시각화 양식\n",
    "\n",
    "양식의 순서는 지키되 참고만 하고 자유롭게 더하거나 빼서 분석하세요."
   ]
  },
  {
   "cell_type": "code",
<<<<<<< HEAD
   "execution_count": 69,
   "id": "ac55d1e1",
   "metadata": {
    "ExecuteTime": {
     "end_time": "2022-07-01T06:00:29.774466Z",
     "start_time": "2022-07-01T06:00:29.770747Z"
=======
   "execution_count": 1,
   "id": "ac55d1e1",
   "metadata": {
    "ExecuteTime": {
     "end_time": "2022-06-30T04:41:53.685815Z",
     "start_time": "2022-06-30T04:41:52.653691Z"
>>>>>>> upstream/main
    }
   },
   "outputs": [],
   "source": [
    "import numpy as np\n",
    "import pandas as pd\n",
    "import matplotlib.pyplot as plt\n",
    "import seaborn as sns"
   ]
  },
  {
   "cell_type": "code",
<<<<<<< HEAD
   "execution_count": 3,
   "id": "45e38d9a",
   "metadata": {
    "ExecuteTime": {
     "end_time": "2022-07-01T02:26:40.057925Z",
     "start_time": "2022-07-01T02:26:39.763667Z"
=======
   "execution_count": 6,
   "id": "45e38d9a",
   "metadata": {
    "ExecuteTime": {
     "end_time": "2022-06-30T04:45:10.331672Z",
     "start_time": "2022-06-30T04:45:10.001557Z"
>>>>>>> upstream/main
    }
   },
   "outputs": [
    {
     "data": {
      "text/html": [
       "<div>\n",
       "<style scoped>\n",
       "    .dataframe tbody tr th:only-of-type {\n",
       "        vertical-align: middle;\n",
       "    }\n",
       "\n",
       "    .dataframe tbody tr th {\n",
       "        vertical-align: top;\n",
       "    }\n",
       "\n",
       "    .dataframe thead th {\n",
       "        text-align: right;\n",
       "    }\n",
       "</style>\n",
       "<table border=\"1\" class=\"dataframe\">\n",
       "  <thead>\n",
       "    <tr style=\"text-align: right;\">\n",
       "      <th></th>\n",
       "      <th>Unnamed: 0</th>\n",
       "      <th>id</th>\n",
       "      <th>customer_id</th>\n",
       "      <th>course_id</th>\n",
       "      <th>type</th>\n",
       "      <th>state</th>\n",
       "      <th>course_title</th>\n",
       "      <th>category_title</th>\n",
       "      <th>format</th>\n",
       "      <th>completed_at</th>\n",
       "      <th>transaction_amount</th>\n",
       "      <th>coupon_title</th>\n",
       "      <th>coupon_discount_amount</th>\n",
       "      <th>sale_price</th>\n",
       "      <th>pg</th>\n",
       "      <th>method</th>\n",
       "      <th>subcategory_title</th>\n",
       "      <th>marketing_start_at</th>\n",
       "    </tr>\n",
       "  </thead>\n",
       "  <tbody>\n",
       "    <tr>\n",
       "      <th>0</th>\n",
       "      <td>0</td>\n",
       "      <td>970634</td>\n",
       "      <td>504760</td>\n",
       "      <td>201435</td>\n",
       "      <td>ORDER</td>\n",
       "      <td>CANCELLED</td>\n",
       "      <td>올인원 패키지 : 알고리즘 기술면접 완전 정복</td>\n",
       "      <td>프로그래밍</td>\n",
       "      <td>올인원</td>\n",
       "      <td>2021-03-28 15:00:11</td>\n",
       "      <td>90500</td>\n",
       "      <td>미적용</td>\n",
       "      <td>0</td>\n",
       "      <td>110500</td>\n",
       "      <td>COMM</td>\n",
       "      <td>VBANK</td>\n",
       "      <td>개발자 커리어</td>\n",
       "      <td>2018-11-11 00:00:00</td>\n",
       "    </tr>\n",
       "    <tr>\n",
       "      <th>1</th>\n",
       "      <td>1</td>\n",
       "      <td>970650</td>\n",
       "      <td>432862</td>\n",
       "      <td>203178</td>\n",
       "      <td>ORDER</td>\n",
       "      <td>CANCELLED</td>\n",
       "      <td>초격차 패키지 : 한번에 끝내는 영상 촬영과 편집</td>\n",
       "      <td>영상/3D</td>\n",
       "      <td>올인원</td>\n",
       "      <td>2021-03-28 15:16:53</td>\n",
       "      <td>96000</td>\n",
       "      <td>미적용</td>\n",
       "      <td>0</td>\n",
       "      <td>116000</td>\n",
       "      <td>COMM</td>\n",
       "      <td>CARD</td>\n",
       "      <td>영상 편집</td>\n",
       "      <td>2020-12-02 00:00:00</td>\n",
       "    </tr>\n",
       "    <tr>\n",
       "      <th>2</th>\n",
       "      <td>2</td>\n",
       "      <td>970657</td>\n",
       "      <td>72297</td>\n",
       "      <td>204246</td>\n",
       "      <td>PAYMENT</td>\n",
       "      <td>COMPLETED</td>\n",
       "      <td>시크릿코드 : 프론트엔드 실무 완성편</td>\n",
       "      <td>프로그래밍</td>\n",
       "      <td>스쿨 온라인</td>\n",
       "      <td>2021-03-28 15:21:43</td>\n",
       "      <td>171810</td>\n",
       "      <td>[10% 할인] 시크릿코드 실무 완성편</td>\n",
       "      <td>19090</td>\n",
       "      <td>190900</td>\n",
       "      <td>COMM</td>\n",
       "      <td>CARD</td>\n",
       "      <td>프로그래밍</td>\n",
       "      <td>2021-03-04 00:00:00</td>\n",
       "    </tr>\n",
       "    <tr>\n",
       "      <th>3</th>\n",
       "      <td>3</td>\n",
       "      <td>970656</td>\n",
       "      <td>72297</td>\n",
       "      <td>204246</td>\n",
       "      <td>ORDER</td>\n",
       "      <td>CANCELLED</td>\n",
       "      <td>시크릿코드 : 프론트엔드 실무 완성편</td>\n",
       "      <td>프로그래밍</td>\n",
       "      <td>스쿨 온라인</td>\n",
       "      <td>2021-03-28 15:21:43</td>\n",
       "      <td>171810</td>\n",
       "      <td>미적용</td>\n",
       "      <td>0</td>\n",
       "      <td>190900</td>\n",
       "      <td>COMM</td>\n",
       "      <td>CARD</td>\n",
       "      <td>프로그래밍</td>\n",
       "      <td>2021-03-04 00:00:00</td>\n",
       "    </tr>\n",
       "    <tr>\n",
       "      <th>4</th>\n",
       "      <td>4</td>\n",
       "      <td>970658</td>\n",
       "      <td>478028</td>\n",
       "      <td>201797</td>\n",
       "      <td>PAYMENT</td>\n",
       "      <td>COMPLETED</td>\n",
       "      <td>올인원 패키지 : 직장인 필수 스킬 3종 세트 MAX</td>\n",
       "      <td>업무 생산성</td>\n",
       "      <td>올인원</td>\n",
       "      <td>2021-03-28 15:21:54</td>\n",
       "      <td>97500</td>\n",
       "      <td>[웰컴쿠폰] 올인원 패키지 2만원 할인 쿠폰</td>\n",
       "      <td>20000</td>\n",
       "      <td>117500</td>\n",
       "      <td>COMM</td>\n",
       "      <td>CARD</td>\n",
       "      <td>PPT/보고서</td>\n",
       "      <td>2019-11-14 00:00:00</td>\n",
       "    </tr>\n",
       "    <tr>\n",
       "      <th>...</th>\n",
       "      <td>...</td>\n",
       "      <td>...</td>\n",
       "      <td>...</td>\n",
       "      <td>...</td>\n",
       "      <td>...</td>\n",
       "      <td>...</td>\n",
       "      <td>...</td>\n",
       "      <td>...</td>\n",
       "      <td>...</td>\n",
       "      <td>...</td>\n",
       "      <td>...</td>\n",
       "      <td>...</td>\n",
       "      <td>...</td>\n",
       "      <td>...</td>\n",
       "      <td>...</td>\n",
       "      <td>...</td>\n",
       "      <td>...</td>\n",
       "      <td>...</td>\n",
       "    </tr>\n",
       "    <tr>\n",
       "      <th>101097</th>\n",
       "      <td>101813</td>\n",
       "      <td>1364995</td>\n",
       "      <td>640697</td>\n",
       "      <td>205365</td>\n",
       "      <td>PAYMENT</td>\n",
       "      <td>CANCELLED</td>\n",
       "      <td>초격차 패키지 : 한 번에 끝내는 유튜브 크리에이터 되기</td>\n",
       "      <td>영상/3D</td>\n",
       "      <td>올인원</td>\n",
       "      <td>2021-09-25 14:10:42</td>\n",
       "      <td>96000</td>\n",
       "      <td>[WELCOME] 온라인 강의 2만원 할인쿠폰</td>\n",
       "      <td>20000</td>\n",
       "      <td>116000</td>\n",
       "      <td>INICIS</td>\n",
       "      <td>TRANS</td>\n",
       "      <td>영상 편집</td>\n",
       "      <td>2021-06-15 00:00:00</td>\n",
       "    </tr>\n",
       "    <tr>\n",
       "      <th>101098</th>\n",
       "      <td>101814</td>\n",
       "      <td>1364998</td>\n",
       "      <td>670896</td>\n",
       "      <td>204159</td>\n",
       "      <td>PAYMENT</td>\n",
       "      <td>CANCELLED</td>\n",
       "      <td>부동산 디벨로퍼 아카데미 : 인허가</td>\n",
       "      <td>부동산/금융</td>\n",
       "      <td>올인원</td>\n",
       "      <td>2021-09-25 14:16:33</td>\n",
       "      <td>189000</td>\n",
       "      <td>미적용</td>\n",
       "      <td>0</td>\n",
       "      <td>189000</td>\n",
       "      <td>INICIS</td>\n",
       "      <td>CARD</td>\n",
       "      <td>부동산 개발</td>\n",
       "      <td>2021-02-10 00:00:00</td>\n",
       "    </tr>\n",
       "    <tr>\n",
       "      <th>101099</th>\n",
       "      <td>101815</td>\n",
       "      <td>1364996</td>\n",
       "      <td>640697</td>\n",
       "      <td>205365</td>\n",
       "      <td>PAYMENT</td>\n",
       "      <td>COMPLETED</td>\n",
       "      <td>초격차 패키지 : 한 번에 끝내는 유튜브 크리에이터 되기</td>\n",
       "      <td>영상/3D</td>\n",
       "      <td>올인원</td>\n",
       "      <td>2021-09-25 14:17:41</td>\n",
       "      <td>96000</td>\n",
       "      <td>[WELCOME] 온라인 강의 2만원 할인쿠폰</td>\n",
       "      <td>20000</td>\n",
       "      <td>116000</td>\n",
       "      <td>INICIS</td>\n",
       "      <td>VBANK</td>\n",
       "      <td>영상 편집</td>\n",
       "      <td>2021-06-15 00:00:00</td>\n",
       "    </tr>\n",
       "    <tr>\n",
       "      <th>101100</th>\n",
       "      <td>101816</td>\n",
       "      <td>1365005</td>\n",
       "      <td>670896</td>\n",
       "      <td>204159</td>\n",
       "      <td>PAYMENT</td>\n",
       "      <td>CANCELLED</td>\n",
       "      <td>부동산 디벨로퍼 아카데미 : 인허가</td>\n",
       "      <td>부동산/금융</td>\n",
       "      <td>올인원</td>\n",
       "      <td>2021-09-25 14:19:56</td>\n",
       "      <td>189000</td>\n",
       "      <td>미적용</td>\n",
       "      <td>0</td>\n",
       "      <td>189000</td>\n",
       "      <td>INICIS</td>\n",
       "      <td>CARD</td>\n",
       "      <td>부동산 개발</td>\n",
       "      <td>2021-02-10 00:00:00</td>\n",
       "    </tr>\n",
       "    <tr>\n",
       "      <th>101101</th>\n",
       "      <td>101817</td>\n",
       "      <td>1365007</td>\n",
       "      <td>610626</td>\n",
       "      <td>206720</td>\n",
       "      <td>PAYMENT</td>\n",
       "      <td>COMPLETED</td>\n",
       "      <td>용호수의 돈 버는 실전 영상 제작</td>\n",
       "      <td>영상/3D</td>\n",
       "      <td>올인원</td>\n",
       "      <td>2021-09-25 14:25:47</td>\n",
       "      <td>139000</td>\n",
       "      <td>[WELCOME] 온라인 강의 3만원 할인쿠폰</td>\n",
       "      <td>30000</td>\n",
       "      <td>169000</td>\n",
       "      <td>NAVER</td>\n",
       "      <td>POINT</td>\n",
       "      <td>영상 편집</td>\n",
       "      <td>2021-08-17 00:00:00</td>\n",
       "    </tr>\n",
       "  </tbody>\n",
       "</table>\n",
       "<p>101102 rows × 18 columns</p>\n",
       "</div>"
      ],
      "text/plain": [
       "        Unnamed: 0       id  customer_id  course_id     type      state  \\\n",
       "0                0   970634       504760     201435    ORDER  CANCELLED   \n",
       "1                1   970650       432862     203178    ORDER  CANCELLED   \n",
       "2                2   970657        72297     204246  PAYMENT  COMPLETED   \n",
       "3                3   970656        72297     204246    ORDER  CANCELLED   \n",
       "4                4   970658       478028     201797  PAYMENT  COMPLETED   \n",
       "...            ...      ...          ...        ...      ...        ...   \n",
       "101097      101813  1364995       640697     205365  PAYMENT  CANCELLED   \n",
       "101098      101814  1364998       670896     204159  PAYMENT  CANCELLED   \n",
       "101099      101815  1364996       640697     205365  PAYMENT  COMPLETED   \n",
       "101100      101816  1365005       670896     204159  PAYMENT  CANCELLED   \n",
       "101101      101817  1365007       610626     206720  PAYMENT  COMPLETED   \n",
       "\n",
       "                           course_title category_title  format  \\\n",
       "0             올인원 패키지 : 알고리즘 기술면접 완전 정복          프로그래밍     올인원   \n",
       "1           초격차 패키지 : 한번에 끝내는 영상 촬영과 편집          영상/3D     올인원   \n",
       "2                  시크릿코드 : 프론트엔드 실무 완성편          프로그래밍  스쿨 온라인   \n",
       "3                  시크릿코드 : 프론트엔드 실무 완성편          프로그래밍  스쿨 온라인   \n",
       "4         올인원 패키지 : 직장인 필수 스킬 3종 세트 MAX         업무 생산성     올인원   \n",
       "...                                 ...            ...     ...   \n",
       "101097  초격차 패키지 : 한 번에 끝내는 유튜브 크리에이터 되기          영상/3D     올인원   \n",
       "101098              부동산 디벨로퍼 아카데미 : 인허가         부동산/금융     올인원   \n",
       "101099  초격차 패키지 : 한 번에 끝내는 유튜브 크리에이터 되기          영상/3D     올인원   \n",
       "101100              부동산 디벨로퍼 아카데미 : 인허가         부동산/금융     올인원   \n",
       "101101               용호수의 돈 버는 실전 영상 제작          영상/3D     올인원   \n",
       "\n",
       "               completed_at  transaction_amount               coupon_title  \\\n",
       "0       2021-03-28 15:00:11               90500                        미적용   \n",
       "1       2021-03-28 15:16:53               96000                        미적용   \n",
       "2       2021-03-28 15:21:43              171810      [10% 할인] 시크릿코드 실무 완성편   \n",
       "3       2021-03-28 15:21:43              171810                        미적용   \n",
       "4       2021-03-28 15:21:54               97500   [웰컴쿠폰] 올인원 패키지 2만원 할인 쿠폰   \n",
       "...                     ...                 ...                        ...   \n",
       "101097  2021-09-25 14:10:42               96000  [WELCOME] 온라인 강의 2만원 할인쿠폰   \n",
       "101098  2021-09-25 14:16:33              189000                        미적용   \n",
       "101099  2021-09-25 14:17:41               96000  [WELCOME] 온라인 강의 2만원 할인쿠폰   \n",
       "101100  2021-09-25 14:19:56              189000                        미적용   \n",
       "101101  2021-09-25 14:25:47              139000  [WELCOME] 온라인 강의 3만원 할인쿠폰   \n",
       "\n",
       "        coupon_discount_amount  sale_price      pg method subcategory_title  \\\n",
       "0                            0      110500    COMM  VBANK           개발자 커리어   \n",
       "1                            0      116000    COMM   CARD             영상 편집   \n",
       "2                        19090      190900    COMM   CARD             프로그래밍   \n",
       "3                            0      190900    COMM   CARD             프로그래밍   \n",
       "4                        20000      117500    COMM   CARD           PPT/보고서   \n",
       "...                        ...         ...     ...    ...               ...   \n",
       "101097                   20000      116000  INICIS  TRANS             영상 편집   \n",
       "101098                       0      189000  INICIS   CARD            부동산 개발   \n",
       "101099                   20000      116000  INICIS  VBANK             영상 편집   \n",
       "101100                       0      189000  INICIS   CARD            부동산 개발   \n",
       "101101                   30000      169000   NAVER  POINT             영상 편집   \n",
       "\n",
       "         marketing_start_at  \n",
       "0       2018-11-11 00:00:00  \n",
       "1       2020-12-02 00:00:00  \n",
       "2       2021-03-04 00:00:00  \n",
       "3       2021-03-04 00:00:00  \n",
       "4       2019-11-14 00:00:00  \n",
       "...                     ...  \n",
       "101097  2021-06-15 00:00:00  \n",
       "101098  2021-02-10 00:00:00  \n",
       "101099  2021-06-15 00:00:00  \n",
       "101100  2021-02-10 00:00:00  \n",
       "101101  2021-08-17 00:00:00  \n",
       "\n",
       "[101102 rows x 18 columns]"
      ]
     },
<<<<<<< HEAD
     "execution_count": 3,
=======
     "execution_count": 6,
>>>>>>> upstream/main
     "metadata": {},
     "output_type": "execute_result"
    }
   ],
   "source": [
<<<<<<< HEAD
    "# 파일 불러오기\n",
=======
>>>>>>> upstream/main
    "df = pd.read_csv('2022-06-29_last_bab.csv')\n",
    "df"
   ]
  },
  {
   "cell_type": "code",
<<<<<<< HEAD
   "execution_count": 55,
   "id": "6d55ba2c",
   "metadata": {
    "ExecuteTime": {
     "end_time": "2022-07-01T03:16:49.868624Z",
     "start_time": "2022-07-01T03:16:49.863298Z"
=======
   "execution_count": 13,
   "id": "6d55ba2c",
   "metadata": {
    "ExecuteTime": {
     "end_time": "2022-06-30T04:52:21.087857Z",
     "start_time": "2022-06-30T04:52:21.083152Z"
>>>>>>> upstream/main
    }
   },
   "outputs": [],
   "source": [
<<<<<<< HEAD
    "# 첫번째 열 드롭\n",
    "# df.drop(columns='Unnamed: 0')"
   ]
  },
  {
   "cell_type": "code",
   "execution_count": 15,
   "id": "ea5251f2",
   "metadata": {
    "ExecuteTime": {
     "end_time": "2022-06-30T04:54:41.775689Z",
     "start_time": "2022-06-30T04:54:41.613659Z"
    }
   },
   "outputs": [
    {
     "name": "stdout",
     "output_type": "stream",
     "text": [
      "<class 'pandas.core.frame.DataFrame'>\n",
      "RangeIndex: 101102 entries, 0 to 101101\n",
      "Data columns (total 17 columns):\n",
      " #   Column                  Non-Null Count   Dtype \n",
      "---  ------                  --------------   ----- \n",
      " 0   id                      101102 non-null  int64 \n",
      " 1   customer_id             101102 non-null  int64 \n",
      " 2   course_id               101102 non-null  int64 \n",
      " 3   type                    101102 non-null  object\n",
      " 4   state                   101102 non-null  object\n",
      " 5   course_title            101102 non-null  object\n",
      " 6   category_title          101102 non-null  object\n",
      " 7   format                  101102 non-null  object\n",
      " 8   completed_at            101102 non-null  object\n",
      " 9   transaction_amount      101102 non-null  int64 \n",
      " 10  coupon_title            101102 non-null  object\n",
      " 11  coupon_discount_amount  101102 non-null  int64 \n",
      " 12  sale_price              101102 non-null  int64 \n",
      " 13  pg                      101102 non-null  object\n",
      " 14  method                  101102 non-null  object\n",
      " 15  subcategory_title       101102 non-null  object\n",
      " 16  marketing_start_at      101102 non-null  object\n",
      "dtypes: int64(6), object(11)\n",
      "memory usage: 13.1+ MB\n"
     ]
    }
   ],
   "source": [
    "df.info()"
=======
    "# df.drop(columns='Unnamed: 0')\n",
    "# df"
>>>>>>> upstream/main
   ]
  },
  {
   "cell_type": "code",
<<<<<<< HEAD
   "execution_count": 14,
   "id": "fb7ef311",
   "metadata": {
    "ExecuteTime": {
     "end_time": "2022-07-01T02:28:51.613195Z",
     "start_time": "2022-07-01T02:28:51.535221Z"
=======
   "execution_count": 11,
   "id": "4f184966",
   "metadata": {
    "ExecuteTime": {
     "end_time": "2022-06-30T04:45:52.909702Z",
     "start_time": "2022-06-30T04:45:52.880286Z"
>>>>>>> upstream/main
    }
   },
   "outputs": [
    {
     "data": {
      "text/html": [
       "<div>\n",
       "<style scoped>\n",
       "    .dataframe tbody tr th:only-of-type {\n",
       "        vertical-align: middle;\n",
       "    }\n",
       "\n",
       "    .dataframe tbody tr th {\n",
       "        vertical-align: top;\n",
       "    }\n",
       "\n",
       "    .dataframe thead th {\n",
       "        text-align: right;\n",
       "    }\n",
       "</style>\n",
       "<table border=\"1\" class=\"dataframe\">\n",
       "  <thead>\n",
       "    <tr style=\"text-align: right;\">\n",
       "      <th></th>\n",
<<<<<<< HEAD
       "      <th>Unnamed: 0</th>\n",
=======
>>>>>>> upstream/main
       "      <th>id</th>\n",
       "      <th>customer_id</th>\n",
       "      <th>course_id</th>\n",
       "      <th>type</th>\n",
       "      <th>state</th>\n",
       "      <th>course_title</th>\n",
       "      <th>category_title</th>\n",
       "      <th>format</th>\n",
       "      <th>completed_at</th>\n",
<<<<<<< HEAD
       "      <th>...</th>\n",
=======
       "      <th>transaction_amount</th>\n",
       "      <th>coupon_title</th>\n",
>>>>>>> upstream/main
       "      <th>coupon_discount_amount</th>\n",
       "      <th>sale_price</th>\n",
       "      <th>pg</th>\n",
       "      <th>method</th>\n",
       "      <th>subcategory_title</th>\n",
       "      <th>marketing_start_at</th>\n",
<<<<<<< HEAD
       "      <th>Year</th>\n",
       "      <th>Month</th>\n",
       "      <th>Day</th>\n",
       "      <th>Hour</th>\n",
=======
>>>>>>> upstream/main
       "    </tr>\n",
       "  </thead>\n",
       "  <tbody>\n",
       "    <tr>\n",
       "      <th>0</th>\n",
<<<<<<< HEAD
       "      <td>0</td>\n",
=======
>>>>>>> upstream/main
       "      <td>970634</td>\n",
       "      <td>504760</td>\n",
       "      <td>201435</td>\n",
       "      <td>ORDER</td>\n",
       "      <td>CANCELLED</td>\n",
       "      <td>올인원 패키지 : 알고리즘 기술면접 완전 정복</td>\n",
       "      <td>프로그래밍</td>\n",
       "      <td>올인원</td>\n",
       "      <td>2021-03-28 15:00:11</td>\n",
<<<<<<< HEAD
       "      <td>...</td>\n",
=======
       "      <td>90500</td>\n",
       "      <td>미적용</td>\n",
>>>>>>> upstream/main
       "      <td>0</td>\n",
       "      <td>110500</td>\n",
       "      <td>COMM</td>\n",
       "      <td>VBANK</td>\n",
       "      <td>개발자 커리어</td>\n",
       "      <td>2018-11-11 00:00:00</td>\n",
<<<<<<< HEAD
       "      <td>2021</td>\n",
       "      <td>3</td>\n",
       "      <td>28</td>\n",
       "      <td>15</td>\n",
       "    </tr>\n",
       "    <tr>\n",
       "      <th>1</th>\n",
       "      <td>1</td>\n",
=======
       "    </tr>\n",
       "    <tr>\n",
       "      <th>1</th>\n",
>>>>>>> upstream/main
       "      <td>970650</td>\n",
       "      <td>432862</td>\n",
       "      <td>203178</td>\n",
       "      <td>ORDER</td>\n",
       "      <td>CANCELLED</td>\n",
       "      <td>초격차 패키지 : 한번에 끝내는 영상 촬영과 편집</td>\n",
       "      <td>영상/3D</td>\n",
       "      <td>올인원</td>\n",
       "      <td>2021-03-28 15:16:53</td>\n",
<<<<<<< HEAD
       "      <td>...</td>\n",
=======
       "      <td>96000</td>\n",
       "      <td>미적용</td>\n",
>>>>>>> upstream/main
       "      <td>0</td>\n",
       "      <td>116000</td>\n",
       "      <td>COMM</td>\n",
       "      <td>CARD</td>\n",
       "      <td>영상 편집</td>\n",
       "      <td>2020-12-02 00:00:00</td>\n",
<<<<<<< HEAD
       "      <td>2021</td>\n",
       "      <td>3</td>\n",
       "      <td>28</td>\n",
       "      <td>15</td>\n",
       "    </tr>\n",
       "    <tr>\n",
       "      <th>2</th>\n",
       "      <td>2</td>\n",
=======
       "    </tr>\n",
       "    <tr>\n",
       "      <th>2</th>\n",
>>>>>>> upstream/main
       "      <td>970657</td>\n",
       "      <td>72297</td>\n",
       "      <td>204246</td>\n",
       "      <td>PAYMENT</td>\n",
       "      <td>COMPLETED</td>\n",
       "      <td>시크릿코드 : 프론트엔드 실무 완성편</td>\n",
       "      <td>프로그래밍</td>\n",
       "      <td>스쿨 온라인</td>\n",
       "      <td>2021-03-28 15:21:43</td>\n",
<<<<<<< HEAD
       "      <td>...</td>\n",
=======
       "      <td>171810</td>\n",
       "      <td>[10% 할인] 시크릿코드 실무 완성편</td>\n",
>>>>>>> upstream/main
       "      <td>19090</td>\n",
       "      <td>190900</td>\n",
       "      <td>COMM</td>\n",
       "      <td>CARD</td>\n",
       "      <td>프로그래밍</td>\n",
       "      <td>2021-03-04 00:00:00</td>\n",
<<<<<<< HEAD
       "      <td>2021</td>\n",
       "      <td>3</td>\n",
       "      <td>28</td>\n",
       "      <td>15</td>\n",
       "    </tr>\n",
       "    <tr>\n",
       "      <th>3</th>\n",
       "      <td>3</td>\n",
=======
       "    </tr>\n",
       "    <tr>\n",
       "      <th>3</th>\n",
>>>>>>> upstream/main
       "      <td>970656</td>\n",
       "      <td>72297</td>\n",
       "      <td>204246</td>\n",
       "      <td>ORDER</td>\n",
       "      <td>CANCELLED</td>\n",
       "      <td>시크릿코드 : 프론트엔드 실무 완성편</td>\n",
       "      <td>프로그래밍</td>\n",
       "      <td>스쿨 온라인</td>\n",
       "      <td>2021-03-28 15:21:43</td>\n",
<<<<<<< HEAD
       "      <td>...</td>\n",
=======
       "      <td>171810</td>\n",
       "      <td>미적용</td>\n",
>>>>>>> upstream/main
       "      <td>0</td>\n",
       "      <td>190900</td>\n",
       "      <td>COMM</td>\n",
       "      <td>CARD</td>\n",
       "      <td>프로그래밍</td>\n",
       "      <td>2021-03-04 00:00:00</td>\n",
<<<<<<< HEAD
       "      <td>2021</td>\n",
       "      <td>3</td>\n",
       "      <td>28</td>\n",
       "      <td>15</td>\n",
       "    </tr>\n",
       "    <tr>\n",
       "      <th>4</th>\n",
       "      <td>4</td>\n",
=======
       "    </tr>\n",
       "    <tr>\n",
       "      <th>4</th>\n",
>>>>>>> upstream/main
       "      <td>970658</td>\n",
       "      <td>478028</td>\n",
       "      <td>201797</td>\n",
       "      <td>PAYMENT</td>\n",
       "      <td>COMPLETED</td>\n",
       "      <td>올인원 패키지 : 직장인 필수 스킬 3종 세트 MAX</td>\n",
       "      <td>업무 생산성</td>\n",
       "      <td>올인원</td>\n",
       "      <td>2021-03-28 15:21:54</td>\n",
<<<<<<< HEAD
       "      <td>...</td>\n",
=======
       "      <td>97500</td>\n",
       "      <td>[웰컴쿠폰] 올인원 패키지 2만원 할인 쿠폰</td>\n",
>>>>>>> upstream/main
       "      <td>20000</td>\n",
       "      <td>117500</td>\n",
       "      <td>COMM</td>\n",
       "      <td>CARD</td>\n",
       "      <td>PPT/보고서</td>\n",
       "      <td>2019-11-14 00:00:00</td>\n",
<<<<<<< HEAD
       "      <td>2021</td>\n",
       "      <td>3</td>\n",
       "      <td>28</td>\n",
       "      <td>15</td>\n",
=======
>>>>>>> upstream/main
       "    </tr>\n",
       "    <tr>\n",
       "      <th>...</th>\n",
       "      <td>...</td>\n",
       "      <td>...</td>\n",
       "      <td>...</td>\n",
       "      <td>...</td>\n",
       "      <td>...</td>\n",
       "      <td>...</td>\n",
       "      <td>...</td>\n",
       "      <td>...</td>\n",
       "      <td>...</td>\n",
       "      <td>...</td>\n",
       "      <td>...</td>\n",
       "      <td>...</td>\n",
       "      <td>...</td>\n",
       "      <td>...</td>\n",
       "      <td>...</td>\n",
       "      <td>...</td>\n",
       "      <td>...</td>\n",
<<<<<<< HEAD
       "      <td>...</td>\n",
       "      <td>...</td>\n",
       "      <td>...</td>\n",
       "      <td>...</td>\n",
       "    </tr>\n",
       "    <tr>\n",
       "      <th>101097</th>\n",
       "      <td>101813</td>\n",
=======
       "    </tr>\n",
       "    <tr>\n",
       "      <th>101097</th>\n",
>>>>>>> upstream/main
       "      <td>1364995</td>\n",
       "      <td>640697</td>\n",
       "      <td>205365</td>\n",
       "      <td>PAYMENT</td>\n",
       "      <td>CANCELLED</td>\n",
       "      <td>초격차 패키지 : 한 번에 끝내는 유튜브 크리에이터 되기</td>\n",
       "      <td>영상/3D</td>\n",
       "      <td>올인원</td>\n",
       "      <td>2021-09-25 14:10:42</td>\n",
<<<<<<< HEAD
       "      <td>...</td>\n",
=======
       "      <td>96000</td>\n",
       "      <td>[WELCOME] 온라인 강의 2만원 할인쿠폰</td>\n",
>>>>>>> upstream/main
       "      <td>20000</td>\n",
       "      <td>116000</td>\n",
       "      <td>INICIS</td>\n",
       "      <td>TRANS</td>\n",
       "      <td>영상 편집</td>\n",
       "      <td>2021-06-15 00:00:00</td>\n",
<<<<<<< HEAD
       "      <td>2021</td>\n",
       "      <td>9</td>\n",
       "      <td>25</td>\n",
       "      <td>14</td>\n",
       "    </tr>\n",
       "    <tr>\n",
       "      <th>101098</th>\n",
       "      <td>101814</td>\n",
=======
       "    </tr>\n",
       "    <tr>\n",
       "      <th>101098</th>\n",
>>>>>>> upstream/main
       "      <td>1364998</td>\n",
       "      <td>670896</td>\n",
       "      <td>204159</td>\n",
       "      <td>PAYMENT</td>\n",
       "      <td>CANCELLED</td>\n",
       "      <td>부동산 디벨로퍼 아카데미 : 인허가</td>\n",
       "      <td>부동산/금융</td>\n",
       "      <td>올인원</td>\n",
       "      <td>2021-09-25 14:16:33</td>\n",
<<<<<<< HEAD
       "      <td>...</td>\n",
=======
       "      <td>189000</td>\n",
       "      <td>미적용</td>\n",
>>>>>>> upstream/main
       "      <td>0</td>\n",
       "      <td>189000</td>\n",
       "      <td>INICIS</td>\n",
       "      <td>CARD</td>\n",
       "      <td>부동산 개발</td>\n",
       "      <td>2021-02-10 00:00:00</td>\n",
<<<<<<< HEAD
       "      <td>2021</td>\n",
       "      <td>9</td>\n",
       "      <td>25</td>\n",
       "      <td>14</td>\n",
       "    </tr>\n",
       "    <tr>\n",
       "      <th>101099</th>\n",
       "      <td>101815</td>\n",
=======
       "    </tr>\n",
       "    <tr>\n",
       "      <th>101099</th>\n",
>>>>>>> upstream/main
       "      <td>1364996</td>\n",
       "      <td>640697</td>\n",
       "      <td>205365</td>\n",
       "      <td>PAYMENT</td>\n",
       "      <td>COMPLETED</td>\n",
       "      <td>초격차 패키지 : 한 번에 끝내는 유튜브 크리에이터 되기</td>\n",
       "      <td>영상/3D</td>\n",
       "      <td>올인원</td>\n",
       "      <td>2021-09-25 14:17:41</td>\n",
<<<<<<< HEAD
       "      <td>...</td>\n",
=======
       "      <td>96000</td>\n",
       "      <td>[WELCOME] 온라인 강의 2만원 할인쿠폰</td>\n",
>>>>>>> upstream/main
       "      <td>20000</td>\n",
       "      <td>116000</td>\n",
       "      <td>INICIS</td>\n",
       "      <td>VBANK</td>\n",
       "      <td>영상 편집</td>\n",
       "      <td>2021-06-15 00:00:00</td>\n",
<<<<<<< HEAD
       "      <td>2021</td>\n",
       "      <td>9</td>\n",
       "      <td>25</td>\n",
       "      <td>14</td>\n",
       "    </tr>\n",
       "    <tr>\n",
       "      <th>101100</th>\n",
       "      <td>101816</td>\n",
=======
       "    </tr>\n",
       "    <tr>\n",
       "      <th>101100</th>\n",
>>>>>>> upstream/main
       "      <td>1365005</td>\n",
       "      <td>670896</td>\n",
       "      <td>204159</td>\n",
       "      <td>PAYMENT</td>\n",
       "      <td>CANCELLED</td>\n",
       "      <td>부동산 디벨로퍼 아카데미 : 인허가</td>\n",
       "      <td>부동산/금융</td>\n",
       "      <td>올인원</td>\n",
       "      <td>2021-09-25 14:19:56</td>\n",
<<<<<<< HEAD
       "      <td>...</td>\n",
=======
       "      <td>189000</td>\n",
       "      <td>미적용</td>\n",
>>>>>>> upstream/main
       "      <td>0</td>\n",
       "      <td>189000</td>\n",
       "      <td>INICIS</td>\n",
       "      <td>CARD</td>\n",
       "      <td>부동산 개발</td>\n",
       "      <td>2021-02-10 00:00:00</td>\n",
<<<<<<< HEAD
       "      <td>2021</td>\n",
       "      <td>9</td>\n",
       "      <td>25</td>\n",
       "      <td>14</td>\n",
       "    </tr>\n",
       "    <tr>\n",
       "      <th>101101</th>\n",
       "      <td>101817</td>\n",
=======
       "    </tr>\n",
       "    <tr>\n",
       "      <th>101101</th>\n",
>>>>>>> upstream/main
       "      <td>1365007</td>\n",
       "      <td>610626</td>\n",
       "      <td>206720</td>\n",
       "      <td>PAYMENT</td>\n",
       "      <td>COMPLETED</td>\n",
       "      <td>용호수의 돈 버는 실전 영상 제작</td>\n",
       "      <td>영상/3D</td>\n",
       "      <td>올인원</td>\n",
       "      <td>2021-09-25 14:25:47</td>\n",
<<<<<<< HEAD
       "      <td>...</td>\n",
=======
       "      <td>139000</td>\n",
       "      <td>[WELCOME] 온라인 강의 3만원 할인쿠폰</td>\n",
>>>>>>> upstream/main
       "      <td>30000</td>\n",
       "      <td>169000</td>\n",
       "      <td>NAVER</td>\n",
       "      <td>POINT</td>\n",
       "      <td>영상 편집</td>\n",
       "      <td>2021-08-17 00:00:00</td>\n",
<<<<<<< HEAD
       "      <td>2021</td>\n",
       "      <td>9</td>\n",
       "      <td>25</td>\n",
       "      <td>14</td>\n",
       "    </tr>\n",
       "  </tbody>\n",
       "</table>\n",
       "<p>101102 rows × 22 columns</p>\n",
       "</div>"
      ],
      "text/plain": [
       "        Unnamed: 0       id  customer_id  course_id     type      state  \\\n",
       "0                0   970634       504760     201435    ORDER  CANCELLED   \n",
       "1                1   970650       432862     203178    ORDER  CANCELLED   \n",
       "2                2   970657        72297     204246  PAYMENT  COMPLETED   \n",
       "3                3   970656        72297     204246    ORDER  CANCELLED   \n",
       "4                4   970658       478028     201797  PAYMENT  COMPLETED   \n",
       "...            ...      ...          ...        ...      ...        ...   \n",
       "101097      101813  1364995       640697     205365  PAYMENT  CANCELLED   \n",
       "101098      101814  1364998       670896     204159  PAYMENT  CANCELLED   \n",
       "101099      101815  1364996       640697     205365  PAYMENT  COMPLETED   \n",
       "101100      101816  1365005       670896     204159  PAYMENT  CANCELLED   \n",
       "101101      101817  1365007       610626     206720  PAYMENT  COMPLETED   \n",
=======
       "    </tr>\n",
       "  </tbody>\n",
       "</table>\n",
       "<p>101102 rows × 17 columns</p>\n",
       "</div>"
      ],
      "text/plain": [
       "             id  customer_id  course_id     type      state  \\\n",
       "0        970634       504760     201435    ORDER  CANCELLED   \n",
       "1        970650       432862     203178    ORDER  CANCELLED   \n",
       "2        970657        72297     204246  PAYMENT  COMPLETED   \n",
       "3        970656        72297     204246    ORDER  CANCELLED   \n",
       "4        970658       478028     201797  PAYMENT  COMPLETED   \n",
       "...         ...          ...        ...      ...        ...   \n",
       "101097  1364995       640697     205365  PAYMENT  CANCELLED   \n",
       "101098  1364998       670896     204159  PAYMENT  CANCELLED   \n",
       "101099  1364996       640697     205365  PAYMENT  COMPLETED   \n",
       "101100  1365005       670896     204159  PAYMENT  CANCELLED   \n",
       "101101  1365007       610626     206720  PAYMENT  COMPLETED   \n",
>>>>>>> upstream/main
       "\n",
       "                           course_title category_title  format  \\\n",
       "0             올인원 패키지 : 알고리즘 기술면접 완전 정복          프로그래밍     올인원   \n",
       "1           초격차 패키지 : 한번에 끝내는 영상 촬영과 편집          영상/3D     올인원   \n",
       "2                  시크릿코드 : 프론트엔드 실무 완성편          프로그래밍  스쿨 온라인   \n",
       "3                  시크릿코드 : 프론트엔드 실무 완성편          프로그래밍  스쿨 온라인   \n",
       "4         올인원 패키지 : 직장인 필수 스킬 3종 세트 MAX         업무 생산성     올인원   \n",
       "...                                 ...            ...     ...   \n",
       "101097  초격차 패키지 : 한 번에 끝내는 유튜브 크리에이터 되기          영상/3D     올인원   \n",
       "101098              부동산 디벨로퍼 아카데미 : 인허가         부동산/금융     올인원   \n",
       "101099  초격차 패키지 : 한 번에 끝내는 유튜브 크리에이터 되기          영상/3D     올인원   \n",
       "101100              부동산 디벨로퍼 아카데미 : 인허가         부동산/금융     올인원   \n",
       "101101               용호수의 돈 버는 실전 영상 제작          영상/3D     올인원   \n",
       "\n",
<<<<<<< HEAD
       "              completed_at  ...  coupon_discount_amount sale_price      pg  \\\n",
       "0      2021-03-28 15:00:11  ...                       0     110500    COMM   \n",
       "1      2021-03-28 15:16:53  ...                       0     116000    COMM   \n",
       "2      2021-03-28 15:21:43  ...                   19090     190900    COMM   \n",
       "3      2021-03-28 15:21:43  ...                       0     190900    COMM   \n",
       "4      2021-03-28 15:21:54  ...                   20000     117500    COMM   \n",
       "...                    ...  ...                     ...        ...     ...   \n",
       "101097 2021-09-25 14:10:42  ...                   20000     116000  INICIS   \n",
       "101098 2021-09-25 14:16:33  ...                       0     189000  INICIS   \n",
       "101099 2021-09-25 14:17:41  ...                   20000     116000  INICIS   \n",
       "101100 2021-09-25 14:19:56  ...                       0     189000  INICIS   \n",
       "101101 2021-09-25 14:25:47  ...                   30000     169000   NAVER   \n",
       "\n",
       "        method subcategory_title   marketing_start_at  Year Month  Day  Hour  \n",
       "0        VBANK           개발자 커리어  2018-11-11 00:00:00  2021     3   28    15  \n",
       "1         CARD             영상 편집  2020-12-02 00:00:00  2021     3   28    15  \n",
       "2         CARD             프로그래밍  2021-03-04 00:00:00  2021     3   28    15  \n",
       "3         CARD             프로그래밍  2021-03-04 00:00:00  2021     3   28    15  \n",
       "4         CARD           PPT/보고서  2019-11-14 00:00:00  2021     3   28    15  \n",
       "...        ...               ...                  ...   ...   ...  ...   ...  \n",
       "101097   TRANS             영상 편집  2021-06-15 00:00:00  2021     9   25    14  \n",
       "101098    CARD            부동산 개발  2021-02-10 00:00:00  2021     9   25    14  \n",
       "101099   VBANK             영상 편집  2021-06-15 00:00:00  2021     9   25    14  \n",
       "101100    CARD            부동산 개발  2021-02-10 00:00:00  2021     9   25    14  \n",
       "101101   POINT             영상 편집  2021-08-17 00:00:00  2021     9   25    14  \n",
       "\n",
       "[101102 rows x 22 columns]"
      ]
     },
     "execution_count": 14,
=======
       "               completed_at  transaction_amount               coupon_title  \\\n",
       "0       2021-03-28 15:00:11               90500                        미적용   \n",
       "1       2021-03-28 15:16:53               96000                        미적용   \n",
       "2       2021-03-28 15:21:43              171810      [10% 할인] 시크릿코드 실무 완성편   \n",
       "3       2021-03-28 15:21:43              171810                        미적용   \n",
       "4       2021-03-28 15:21:54               97500   [웰컴쿠폰] 올인원 패키지 2만원 할인 쿠폰   \n",
       "...                     ...                 ...                        ...   \n",
       "101097  2021-09-25 14:10:42               96000  [WELCOME] 온라인 강의 2만원 할인쿠폰   \n",
       "101098  2021-09-25 14:16:33              189000                        미적용   \n",
       "101099  2021-09-25 14:17:41               96000  [WELCOME] 온라인 강의 2만원 할인쿠폰   \n",
       "101100  2021-09-25 14:19:56              189000                        미적용   \n",
       "101101  2021-09-25 14:25:47              139000  [WELCOME] 온라인 강의 3만원 할인쿠폰   \n",
       "\n",
       "        coupon_discount_amount  sale_price      pg method subcategory_title  \\\n",
       "0                            0      110500    COMM  VBANK           개발자 커리어   \n",
       "1                            0      116000    COMM   CARD             영상 편집   \n",
       "2                        19090      190900    COMM   CARD             프로그래밍   \n",
       "3                            0      190900    COMM   CARD             프로그래밍   \n",
       "4                        20000      117500    COMM   CARD           PPT/보고서   \n",
       "...                        ...         ...     ...    ...               ...   \n",
       "101097                   20000      116000  INICIS  TRANS             영상 편집   \n",
       "101098                       0      189000  INICIS   CARD            부동산 개발   \n",
       "101099                   20000      116000  INICIS  VBANK             영상 편집   \n",
       "101100                       0      189000  INICIS   CARD            부동산 개발   \n",
       "101101                   30000      169000   NAVER  POINT             영상 편집   \n",
       "\n",
       "         marketing_start_at  \n",
       "0       2018-11-11 00:00:00  \n",
       "1       2020-12-02 00:00:00  \n",
       "2       2021-03-04 00:00:00  \n",
       "3       2021-03-04 00:00:00  \n",
       "4       2019-11-14 00:00:00  \n",
       "...                     ...  \n",
       "101097  2021-06-15 00:00:00  \n",
       "101098  2021-02-10 00:00:00  \n",
       "101099  2021-06-15 00:00:00  \n",
       "101100  2021-02-10 00:00:00  \n",
       "101101  2021-08-17 00:00:00  \n",
       "\n",
       "[101102 rows x 17 columns]"
      ]
     },
     "execution_count": 11,
>>>>>>> upstream/main
     "metadata": {},
     "output_type": "execute_result"
    }
   ],
   "source": [
<<<<<<< HEAD
    "df['completed_at'] = pd.to_datetime(df['completed_at'])\n",
    "df  # dtype -> datetime으로 바꾸기 "
=======
    "df"
>>>>>>> upstream/main
   ]
  },
  {
   "cell_type": "code",
   "execution_count": 15,
<<<<<<< HEAD
   "id": "6be4f888",
   "metadata": {
    "ExecuteTime": {
     "end_time": "2022-07-01T02:28:54.087183Z",
     "start_time": "2022-07-01T02:28:53.952131Z"
=======
   "id": "ea5251f2",
   "metadata": {
    "ExecuteTime": {
     "end_time": "2022-06-30T04:54:41.775689Z",
     "start_time": "2022-06-30T04:54:41.613659Z"
>>>>>>> upstream/main
    }
   },
   "outputs": [
    {
     "name": "stdout",
     "output_type": "stream",
     "text": [
      "<class 'pandas.core.frame.DataFrame'>\n",
      "RangeIndex: 101102 entries, 0 to 101101\n",
<<<<<<< HEAD
      "Data columns (total 22 columns):\n",
      " #   Column                  Non-Null Count   Dtype         \n",
      "---  ------                  --------------   -----         \n",
      " 0   Unnamed: 0              101102 non-null  int64         \n",
      " 1   id                      101102 non-null  int64         \n",
      " 2   customer_id             101102 non-null  int64         \n",
      " 3   course_id               101102 non-null  int64         \n",
      " 4   type                    101102 non-null  object        \n",
      " 5   state                   101102 non-null  object        \n",
      " 6   course_title            101102 non-null  object        \n",
      " 7   category_title          101102 non-null  object        \n",
      " 8   format                  101102 non-null  object        \n",
      " 9   completed_at            101102 non-null  datetime64[ns]\n",
      " 10  transaction_amount      101102 non-null  int64         \n",
      " 11  coupon_title            101102 non-null  object        \n",
      " 12  coupon_discount_amount  101102 non-null  int64         \n",
      " 13  sale_price              101102 non-null  int64         \n",
      " 14  pg                      101102 non-null  object        \n",
      " 15  method                  101102 non-null  object        \n",
      " 16  subcategory_title       101102 non-null  object        \n",
      " 17  marketing_start_at      101102 non-null  object        \n",
      " 18  Year                    101102 non-null  int64         \n",
      " 19  Month                   101102 non-null  int64         \n",
      " 20  Day                     101102 non-null  int64         \n",
      " 21  Hour                    101102 non-null  int64         \n",
      "dtypes: datetime64[ns](1), int64(11), object(10)\n",
      "memory usage: 17.0+ MB\n"
=======
      "Data columns (total 17 columns):\n",
      " #   Column                  Non-Null Count   Dtype \n",
      "---  ------                  --------------   ----- \n",
      " 0   id                      101102 non-null  int64 \n",
      " 1   customer_id             101102 non-null  int64 \n",
      " 2   course_id               101102 non-null  int64 \n",
      " 3   type                    101102 non-null  object\n",
      " 4   state                   101102 non-null  object\n",
      " 5   course_title            101102 non-null  object\n",
      " 6   category_title          101102 non-null  object\n",
      " 7   format                  101102 non-null  object\n",
      " 8   completed_at            101102 non-null  object\n",
      " 9   transaction_amount      101102 non-null  int64 \n",
      " 10  coupon_title            101102 non-null  object\n",
      " 11  coupon_discount_amount  101102 non-null  int64 \n",
      " 12  sale_price              101102 non-null  int64 \n",
      " 13  pg                      101102 non-null  object\n",
      " 14  method                  101102 non-null  object\n",
      " 15  subcategory_title       101102 non-null  object\n",
      " 16  marketing_start_at      101102 non-null  object\n",
      "dtypes: int64(6), object(11)\n",
      "memory usage: 13.1+ MB\n"
>>>>>>> upstream/main
     ]
    }
   ],
   "source": [
    "df.info()"
   ]
  },
  {
<<<<<<< HEAD
   "cell_type": "markdown",
   "id": "6f1f6f24",
   "metadata": {},
   "source": [
    "# 매출 분석"
   ]
  },
  {
   "cell_type": "markdown",
   "id": "ad65afeb",
   "metadata": {},
   "source": [
    "총매출 구하기"
   ]
  },
  {
   "cell_type": "code",
   "execution_count": 28,
   "id": "78c9ff87",
   "metadata": {
    "ExecuteTime": {
     "end_time": "2022-07-01T03:06:55.426560Z",
     "start_time": "2022-07-01T03:06:55.403599Z"
    }
   },
   "outputs": [
    {
     "data": {
      "text/plain": [
       "array(['ORDER', 'PAYMENT', 'REFUND'], dtype=object)"
      ]
     },
     "execution_count": 28,
     "metadata": {},
     "output_type": "execute_result"
    }
   ],
   "source": [
    "df['type'].unique()"
   ]
  },
  {
   "cell_type": "code",
   "execution_count": 35,
   "id": "82b84023",
   "metadata": {
    "ExecuteTime": {
     "end_time": "2022-07-01T03:09:23.219469Z",
     "start_time": "2022-07-01T03:09:23.196368Z"
    }
   },
   "outputs": [
    {
     "data": {
      "text/plain": [
       "array(['CANCELLED', 'COMPLETED', 'PENDING', 'DELETED', 'REQUESTED'],\n",
       "      dtype=object)"
      ]
     },
     "execution_count": 35,
     "metadata": {},
     "output_type": "execute_result"
    }
   ],
   "source": [
    "df['state'].unique()"
   ]
  },
  {
   "cell_type": "code",
   "execution_count": 62,
   "id": "429e72c5",
   "metadata": {
    "ExecuteTime": {
     "end_time": "2022-07-01T03:18:50.645374Z",
     "start_time": "2022-07-01T03:18:50.640632Z"
    },
    "scrolled": true
   },
   "outputs": [],
   "source": [
    "# df['type'] == 'PAYMENT', 'REFUND'"
   ]
  },
  {
   "cell_type": "code",
   "execution_count": 43,
   "id": "73e3dc70",
   "metadata": {
    "ExecuteTime": {
     "end_time": "2022-07-01T03:12:21.414974Z",
     "start_time": "2022-07-01T03:12:21.389108Z"
    }
   },
   "outputs": [
    {
     "data": {
      "text/plain": [
       "0         False\n",
       "1         False\n",
       "2          True\n",
       "3         False\n",
       "4          True\n",
       "          ...  \n",
       "101097    False\n",
       "101098    False\n",
       "101099     True\n",
       "101100    False\n",
       "101101     True\n",
       "Name: state, Length: 101102, dtype: bool"
      ]
     },
     "execution_count": 43,
     "metadata": {},
     "output_type": "execute_result"
    }
   ],
   "source": [
    "df['state'] == 'COMPLETED'"
   ]
  },
  {
   "cell_type": "code",
   "execution_count": 61,
   "id": "58e22e27",
   "metadata": {
    "ExecuteTime": {
     "end_time": "2022-07-01T03:18:29.413054Z",
     "start_time": "2022-07-01T03:18:29.346954Z"
=======
   "cell_type": "code",
   "execution_count": 16,
   "id": "fb7ef311",
   "metadata": {
    "ExecuteTime": {
     "end_time": "2022-06-30T05:01:05.806711Z",
     "start_time": "2022-06-30T05:01:05.729112Z"
>>>>>>> upstream/main
    }
   },
   "outputs": [
    {
     "data": {
      "text/html": [
       "<div>\n",
       "<style scoped>\n",
       "    .dataframe tbody tr th:only-of-type {\n",
       "        vertical-align: middle;\n",
       "    }\n",
       "\n",
       "    .dataframe tbody tr th {\n",
       "        vertical-align: top;\n",
       "    }\n",
       "\n",
       "    .dataframe thead th {\n",
       "        text-align: right;\n",
       "    }\n",
       "</style>\n",
       "<table border=\"1\" class=\"dataframe\">\n",
       "  <thead>\n",
       "    <tr style=\"text-align: right;\">\n",
       "      <th></th>\n",
<<<<<<< HEAD
       "      <th>Unnamed: 0</th>\n",
=======
>>>>>>> upstream/main
       "      <th>id</th>\n",
       "      <th>customer_id</th>\n",
       "      <th>course_id</th>\n",
       "      <th>type</th>\n",
       "      <th>state</th>\n",
       "      <th>course_title</th>\n",
       "      <th>category_title</th>\n",
       "      <th>format</th>\n",
       "      <th>completed_at</th>\n",
<<<<<<< HEAD
       "      <th>...</th>\n",
=======
       "      <th>transaction_amount</th>\n",
       "      <th>coupon_title</th>\n",
>>>>>>> upstream/main
       "      <th>coupon_discount_amount</th>\n",
       "      <th>sale_price</th>\n",
       "      <th>pg</th>\n",
       "      <th>method</th>\n",
       "      <th>subcategory_title</th>\n",
       "      <th>marketing_start_at</th>\n",
<<<<<<< HEAD
       "      <th>Year</th>\n",
       "      <th>Month</th>\n",
       "      <th>Day</th>\n",
       "      <th>Hour</th>\n",
=======
>>>>>>> upstream/main
       "    </tr>\n",
       "  </thead>\n",
       "  <tbody>\n",
       "    <tr>\n",
<<<<<<< HEAD
       "      <th>2</th>\n",
       "      <td>2</td>\n",
=======
       "      <th>0</th>\n",
       "      <td>970634</td>\n",
       "      <td>504760</td>\n",
       "      <td>201435</td>\n",
       "      <td>ORDER</td>\n",
       "      <td>CANCELLED</td>\n",
       "      <td>올인원 패키지 : 알고리즘 기술면접 완전 정복</td>\n",
       "      <td>프로그래밍</td>\n",
       "      <td>올인원</td>\n",
       "      <td>2021-03-28 15:00:11</td>\n",
       "      <td>90500</td>\n",
       "      <td>미적용</td>\n",
       "      <td>0</td>\n",
       "      <td>110500</td>\n",
       "      <td>COMM</td>\n",
       "      <td>VBANK</td>\n",
       "      <td>개발자 커리어</td>\n",
       "      <td>2018-11-11 00:00:00</td>\n",
       "    </tr>\n",
       "    <tr>\n",
       "      <th>1</th>\n",
       "      <td>970650</td>\n",
       "      <td>432862</td>\n",
       "      <td>203178</td>\n",
       "      <td>ORDER</td>\n",
       "      <td>CANCELLED</td>\n",
       "      <td>초격차 패키지 : 한번에 끝내는 영상 촬영과 편집</td>\n",
       "      <td>영상/3D</td>\n",
       "      <td>올인원</td>\n",
       "      <td>2021-03-28 15:16:53</td>\n",
       "      <td>96000</td>\n",
       "      <td>미적용</td>\n",
       "      <td>0</td>\n",
       "      <td>116000</td>\n",
       "      <td>COMM</td>\n",
       "      <td>CARD</td>\n",
       "      <td>영상 편집</td>\n",
       "      <td>2020-12-02 00:00:00</td>\n",
       "    </tr>\n",
       "    <tr>\n",
       "      <th>2</th>\n",
>>>>>>> upstream/main
       "      <td>970657</td>\n",
       "      <td>72297</td>\n",
       "      <td>204246</td>\n",
       "      <td>PAYMENT</td>\n",
       "      <td>COMPLETED</td>\n",
       "      <td>시크릿코드 : 프론트엔드 실무 완성편</td>\n",
       "      <td>프로그래밍</td>\n",
       "      <td>스쿨 온라인</td>\n",
       "      <td>2021-03-28 15:21:43</td>\n",
<<<<<<< HEAD
       "      <td>...</td>\n",
=======
       "      <td>171810</td>\n",
       "      <td>[10% 할인] 시크릿코드 실무 완성편</td>\n",
>>>>>>> upstream/main
       "      <td>19090</td>\n",
       "      <td>190900</td>\n",
       "      <td>COMM</td>\n",
       "      <td>CARD</td>\n",
       "      <td>프로그래밍</td>\n",
       "      <td>2021-03-04 00:00:00</td>\n",
<<<<<<< HEAD
       "      <td>2021</td>\n",
       "      <td>3</td>\n",
       "      <td>28</td>\n",
       "      <td>15</td>\n",
       "    </tr>\n",
       "    <tr>\n",
       "      <th>4</th>\n",
       "      <td>4</td>\n",
=======
       "    </tr>\n",
       "    <tr>\n",
       "      <th>3</th>\n",
       "      <td>970656</td>\n",
       "      <td>72297</td>\n",
       "      <td>204246</td>\n",
       "      <td>ORDER</td>\n",
       "      <td>CANCELLED</td>\n",
       "      <td>시크릿코드 : 프론트엔드 실무 완성편</td>\n",
       "      <td>프로그래밍</td>\n",
       "      <td>스쿨 온라인</td>\n",
       "      <td>2021-03-28 15:21:43</td>\n",
       "      <td>171810</td>\n",
       "      <td>미적용</td>\n",
       "      <td>0</td>\n",
       "      <td>190900</td>\n",
       "      <td>COMM</td>\n",
       "      <td>CARD</td>\n",
       "      <td>프로그래밍</td>\n",
       "      <td>2021-03-04 00:00:00</td>\n",
       "    </tr>\n",
       "    <tr>\n",
       "      <th>4</th>\n",
>>>>>>> upstream/main
       "      <td>970658</td>\n",
       "      <td>478028</td>\n",
       "      <td>201797</td>\n",
       "      <td>PAYMENT</td>\n",
       "      <td>COMPLETED</td>\n",
       "      <td>올인원 패키지 : 직장인 필수 스킬 3종 세트 MAX</td>\n",
       "      <td>업무 생산성</td>\n",
       "      <td>올인원</td>\n",
       "      <td>2021-03-28 15:21:54</td>\n",
<<<<<<< HEAD
       "      <td>...</td>\n",
=======
       "      <td>97500</td>\n",
       "      <td>[웰컴쿠폰] 올인원 패키지 2만원 할인 쿠폰</td>\n",
>>>>>>> upstream/main
       "      <td>20000</td>\n",
       "      <td>117500</td>\n",
       "      <td>COMM</td>\n",
       "      <td>CARD</td>\n",
       "      <td>PPT/보고서</td>\n",
       "      <td>2019-11-14 00:00:00</td>\n",
<<<<<<< HEAD
       "      <td>2021</td>\n",
       "      <td>3</td>\n",
       "      <td>28</td>\n",
       "      <td>15</td>\n",
       "    </tr>\n",
       "    <tr>\n",
       "      <th>8</th>\n",
       "      <td>8</td>\n",
       "      <td>970669</td>\n",
       "      <td>478033</td>\n",
       "      <td>203178</td>\n",
       "      <td>PAYMENT</td>\n",
       "      <td>COMPLETED</td>\n",
       "      <td>초격차 패키지 : 한번에 끝내는 영상 촬영과 편집</td>\n",
       "      <td>영상/3D</td>\n",
       "      <td>올인원</td>\n",
       "      <td>2021-03-28 15:26:47</td>\n",
       "      <td>...</td>\n",
       "      <td>20000</td>\n",
       "      <td>116000</td>\n",
       "      <td>COMM</td>\n",
       "      <td>CARD</td>\n",
       "      <td>영상 편집</td>\n",
       "      <td>2020-12-02 00:00:00</td>\n",
       "      <td>2021</td>\n",
       "      <td>3</td>\n",
       "      <td>28</td>\n",
       "      <td>15</td>\n",
       "    </tr>\n",
       "    <tr>\n",
       "      <th>10</th>\n",
       "      <td>10</td>\n",
       "      <td>970671</td>\n",
       "      <td>469860</td>\n",
       "      <td>203644</td>\n",
       "      <td>PAYMENT</td>\n",
       "      <td>COMPLETED</td>\n",
       "      <td>올인원 패키지 : 권오상의 금융 아카데미 - 권오상의 재무제표 분석 기초(평생소장)</td>\n",
       "      <td>부동산/금융</td>\n",
       "      <td>올인원</td>\n",
       "      <td>2021-03-28 15:27:17</td>\n",
       "      <td>...</td>\n",
       "      <td>0</td>\n",
       "      <td>263000</td>\n",
       "      <td>COMM</td>\n",
       "      <td>CARD</td>\n",
       "      <td>부동산/금융</td>\n",
       "      <td>2020-11-27 00:00:00</td>\n",
       "      <td>2021</td>\n",
       "      <td>3</td>\n",
       "      <td>28</td>\n",
       "      <td>15</td>\n",
       "    </tr>\n",
       "    <tr>\n",
       "      <th>14</th>\n",
       "      <td>14</td>\n",
       "      <td>970676</td>\n",
       "      <td>478035</td>\n",
       "      <td>203720</td>\n",
       "      <td>PAYMENT</td>\n",
       "      <td>COMPLETED</td>\n",
       "      <td>초격차 패키지 : 한 번에 끝내는 프론트엔드 개발</td>\n",
       "      <td>프로그래밍</td>\n",
       "      <td>올인원</td>\n",
       "      <td>2021-03-28 15:31:01</td>\n",
       "      <td>...</td>\n",
       "      <td>20000</td>\n",
       "      <td>111000</td>\n",
       "      <td>COMM</td>\n",
       "      <td>CARD</td>\n",
       "      <td>프론트엔드 개발</td>\n",
       "      <td>2021-02-02 00:00:00</td>\n",
       "      <td>2021</td>\n",
       "      <td>3</td>\n",
       "      <td>28</td>\n",
       "      <td>15</td>\n",
=======
>>>>>>> upstream/main
       "    </tr>\n",
       "    <tr>\n",
       "      <th>...</th>\n",
       "      <td>...</td>\n",
       "      <td>...</td>\n",
       "      <td>...</td>\n",
       "      <td>...</td>\n",
       "      <td>...</td>\n",
       "      <td>...</td>\n",
       "      <td>...</td>\n",
       "      <td>...</td>\n",
       "      <td>...</td>\n",
       "      <td>...</td>\n",
       "      <td>...</td>\n",
       "      <td>...</td>\n",
       "      <td>...</td>\n",
       "      <td>...</td>\n",
       "      <td>...</td>\n",
       "      <td>...</td>\n",
       "      <td>...</td>\n",
<<<<<<< HEAD
       "      <td>...</td>\n",
       "      <td>...</td>\n",
       "      <td>...</td>\n",
       "      <td>...</td>\n",
       "    </tr>\n",
       "    <tr>\n",
       "      <th>101094</th>\n",
       "      <td>101810</td>\n",
       "      <td>1364969</td>\n",
       "      <td>669238</td>\n",
       "      <td>204286</td>\n",
       "      <td>PAYMENT</td>\n",
       "      <td>COMPLETED</td>\n",
       "      <td>초격차 패키지 : 한번에 끝내는 3D 디자인 툴</td>\n",
       "      <td>디자인</td>\n",
       "      <td>올인원</td>\n",
       "      <td>2021-09-25 13:39:26</td>\n",
       "      <td>...</td>\n",
       "      <td>20000</td>\n",
       "      <td>232000</td>\n",
       "      <td>INICIS</td>\n",
       "      <td>CARD</td>\n",
       "      <td>디자인툴</td>\n",
       "      <td>2021-04-23 00:00:00</td>\n",
       "      <td>2021</td>\n",
       "      <td>9</td>\n",
       "      <td>25</td>\n",
       "      <td>13</td>\n",
       "    </tr>\n",
       "    <tr>\n",
       "      <th>101095</th>\n",
       "      <td>101811</td>\n",
       "      <td>1364976</td>\n",
       "      <td>384003</td>\n",
       "      <td>203178</td>\n",
       "      <td>PAYMENT</td>\n",
       "      <td>COMPLETED</td>\n",
       "      <td>초격차 패키지 : 한번에 끝내는 영상 촬영과 편집</td>\n",
       "      <td>영상/3D</td>\n",
       "      <td>올인원</td>\n",
       "      <td>2021-09-25 13:46:29</td>\n",
       "      <td>...</td>\n",
       "      <td>0</td>\n",
       "      <td>149000</td>\n",
       "      <td>KAKAO</td>\n",
       "      <td>CARD</td>\n",
       "      <td>영상 편집</td>\n",
       "      <td>2020-12-02 00:00:00</td>\n",
       "      <td>2021</td>\n",
       "      <td>9</td>\n",
       "      <td>25</td>\n",
       "      <td>13</td>\n",
       "    </tr>\n",
       "    <tr>\n",
       "      <th>101096</th>\n",
       "      <td>101812</td>\n",
       "      <td>1364991</td>\n",
       "      <td>670891</td>\n",
       "      <td>203935</td>\n",
       "      <td>PAYMENT</td>\n",
       "      <td>COMPLETED</td>\n",
       "      <td>초격차 패키지 : 한 번에 끝내는 파이썬 웹 개발</td>\n",
       "      <td>프로그래밍</td>\n",
       "      <td>올인원</td>\n",
       "      <td>2021-09-25 14:01:26</td>\n",
       "      <td>...</td>\n",
       "      <td>20000</td>\n",
       "      <td>179000</td>\n",
       "      <td>INICIS</td>\n",
       "      <td>CARD</td>\n",
       "      <td>백엔드 개발</td>\n",
       "      <td>2021-05-31 00:00:00</td>\n",
       "      <td>2021</td>\n",
       "      <td>9</td>\n",
       "      <td>25</td>\n",
       "      <td>14</td>\n",
       "    </tr>\n",
       "    <tr>\n",
       "      <th>101099</th>\n",
       "      <td>101815</td>\n",
=======
       "    </tr>\n",
       "    <tr>\n",
       "      <th>101097</th>\n",
       "      <td>1364995</td>\n",
       "      <td>640697</td>\n",
       "      <td>205365</td>\n",
       "      <td>PAYMENT</td>\n",
       "      <td>CANCELLED</td>\n",
       "      <td>초격차 패키지 : 한 번에 끝내는 유튜브 크리에이터 되기</td>\n",
       "      <td>영상/3D</td>\n",
       "      <td>올인원</td>\n",
       "      <td>2021-09-25 14:10:42</td>\n",
       "      <td>96000</td>\n",
       "      <td>[WELCOME] 온라인 강의 2만원 할인쿠폰</td>\n",
       "      <td>20000</td>\n",
       "      <td>116000</td>\n",
       "      <td>INICIS</td>\n",
       "      <td>TRANS</td>\n",
       "      <td>영상 편집</td>\n",
       "      <td>2021-06-15 00:00:00</td>\n",
       "    </tr>\n",
       "    <tr>\n",
       "      <th>101098</th>\n",
       "      <td>1364998</td>\n",
       "      <td>670896</td>\n",
       "      <td>204159</td>\n",
       "      <td>PAYMENT</td>\n",
       "      <td>CANCELLED</td>\n",
       "      <td>부동산 디벨로퍼 아카데미 : 인허가</td>\n",
       "      <td>부동산/금융</td>\n",
       "      <td>올인원</td>\n",
       "      <td>2021-09-25 14:16:33</td>\n",
       "      <td>189000</td>\n",
       "      <td>미적용</td>\n",
       "      <td>0</td>\n",
       "      <td>189000</td>\n",
       "      <td>INICIS</td>\n",
       "      <td>CARD</td>\n",
       "      <td>부동산 개발</td>\n",
       "      <td>2021-02-10 00:00:00</td>\n",
       "    </tr>\n",
       "    <tr>\n",
       "      <th>101099</th>\n",
>>>>>>> upstream/main
       "      <td>1364996</td>\n",
       "      <td>640697</td>\n",
       "      <td>205365</td>\n",
       "      <td>PAYMENT</td>\n",
       "      <td>COMPLETED</td>\n",
       "      <td>초격차 패키지 : 한 번에 끝내는 유튜브 크리에이터 되기</td>\n",
       "      <td>영상/3D</td>\n",
       "      <td>올인원</td>\n",
       "      <td>2021-09-25 14:17:41</td>\n",
<<<<<<< HEAD
       "      <td>...</td>\n",
=======
       "      <td>96000</td>\n",
       "      <td>[WELCOME] 온라인 강의 2만원 할인쿠폰</td>\n",
>>>>>>> upstream/main
       "      <td>20000</td>\n",
       "      <td>116000</td>\n",
       "      <td>INICIS</td>\n",
       "      <td>VBANK</td>\n",
       "      <td>영상 편집</td>\n",
       "      <td>2021-06-15 00:00:00</td>\n",
<<<<<<< HEAD
       "      <td>2021</td>\n",
       "      <td>9</td>\n",
       "      <td>25</td>\n",
       "      <td>14</td>\n",
       "    </tr>\n",
       "    <tr>\n",
       "      <th>101101</th>\n",
       "      <td>101817</td>\n",
=======
       "    </tr>\n",
       "    <tr>\n",
       "      <th>101100</th>\n",
       "      <td>1365005</td>\n",
       "      <td>670896</td>\n",
       "      <td>204159</td>\n",
       "      <td>PAYMENT</td>\n",
       "      <td>CANCELLED</td>\n",
       "      <td>부동산 디벨로퍼 아카데미 : 인허가</td>\n",
       "      <td>부동산/금융</td>\n",
       "      <td>올인원</td>\n",
       "      <td>2021-09-25 14:19:56</td>\n",
       "      <td>189000</td>\n",
       "      <td>미적용</td>\n",
       "      <td>0</td>\n",
       "      <td>189000</td>\n",
       "      <td>INICIS</td>\n",
       "      <td>CARD</td>\n",
       "      <td>부동산 개발</td>\n",
       "      <td>2021-02-10 00:00:00</td>\n",
       "    </tr>\n",
       "    <tr>\n",
       "      <th>101101</th>\n",
>>>>>>> upstream/main
       "      <td>1365007</td>\n",
       "      <td>610626</td>\n",
       "      <td>206720</td>\n",
       "      <td>PAYMENT</td>\n",
       "      <td>COMPLETED</td>\n",
       "      <td>용호수의 돈 버는 실전 영상 제작</td>\n",
       "      <td>영상/3D</td>\n",
       "      <td>올인원</td>\n",
       "      <td>2021-09-25 14:25:47</td>\n",
<<<<<<< HEAD
       "      <td>...</td>\n",
=======
       "      <td>139000</td>\n",
       "      <td>[WELCOME] 온라인 강의 3만원 할인쿠폰</td>\n",
>>>>>>> upstream/main
       "      <td>30000</td>\n",
       "      <td>169000</td>\n",
       "      <td>NAVER</td>\n",
       "      <td>POINT</td>\n",
       "      <td>영상 편집</td>\n",
       "      <td>2021-08-17 00:00:00</td>\n",
<<<<<<< HEAD
       "      <td>2021</td>\n",
       "      <td>9</td>\n",
       "      <td>25</td>\n",
       "      <td>14</td>\n",
       "    </tr>\n",
       "  </tbody>\n",
       "</table>\n",
       "<p>49415 rows × 22 columns</p>\n",
       "</div>"
      ],
      "text/plain": [
       "        Unnamed: 0       id  customer_id  course_id     type      state  \\\n",
       "2                2   970657        72297     204246  PAYMENT  COMPLETED   \n",
       "4                4   970658       478028     201797  PAYMENT  COMPLETED   \n",
       "8                8   970669       478033     203178  PAYMENT  COMPLETED   \n",
       "10              10   970671       469860     203644  PAYMENT  COMPLETED   \n",
       "14              14   970676       478035     203720  PAYMENT  COMPLETED   \n",
       "...            ...      ...          ...        ...      ...        ...   \n",
       "101094      101810  1364969       669238     204286  PAYMENT  COMPLETED   \n",
       "101095      101811  1364976       384003     203178  PAYMENT  COMPLETED   \n",
       "101096      101812  1364991       670891     203935  PAYMENT  COMPLETED   \n",
       "101099      101815  1364996       640697     205365  PAYMENT  COMPLETED   \n",
       "101101      101817  1365007       610626     206720  PAYMENT  COMPLETED   \n",
       "\n",
       "                                          course_title category_title  format  \\\n",
       "2                                 시크릿코드 : 프론트엔드 실무 완성편          프로그래밍  스쿨 온라인   \n",
       "4                        올인원 패키지 : 직장인 필수 스킬 3종 세트 MAX         업무 생산성     올인원   \n",
       "8                          초격차 패키지 : 한번에 끝내는 영상 촬영과 편집          영상/3D     올인원   \n",
       "10      올인원 패키지 : 권오상의 금융 아카데미 - 권오상의 재무제표 분석 기초(평생소장)         부동산/금융     올인원   \n",
       "14                         초격차 패키지 : 한 번에 끝내는 프론트엔드 개발          프로그래밍     올인원   \n",
       "...                                                ...            ...     ...   \n",
       "101094                      초격차 패키지 : 한번에 끝내는 3D 디자인 툴            디자인     올인원   \n",
       "101095                     초격차 패키지 : 한번에 끝내는 영상 촬영과 편집          영상/3D     올인원   \n",
       "101096                     초격차 패키지 : 한 번에 끝내는 파이썬 웹 개발          프로그래밍     올인원   \n",
       "101099                 초격차 패키지 : 한 번에 끝내는 유튜브 크리에이터 되기          영상/3D     올인원   \n",
       "101101                              용호수의 돈 버는 실전 영상 제작          영상/3D     올인원   \n",
       "\n",
       "              completed_at  ...  coupon_discount_amount sale_price      pg  \\\n",
       "2      2021-03-28 15:21:43  ...                   19090     190900    COMM   \n",
       "4      2021-03-28 15:21:54  ...                   20000     117500    COMM   \n",
       "8      2021-03-28 15:26:47  ...                   20000     116000    COMM   \n",
       "10     2021-03-28 15:27:17  ...                       0     263000    COMM   \n",
       "14     2021-03-28 15:31:01  ...                   20000     111000    COMM   \n",
       "...                    ...  ...                     ...        ...     ...   \n",
       "101094 2021-09-25 13:39:26  ...                   20000     232000  INICIS   \n",
       "101095 2021-09-25 13:46:29  ...                       0     149000   KAKAO   \n",
       "101096 2021-09-25 14:01:26  ...                   20000     179000  INICIS   \n",
       "101099 2021-09-25 14:17:41  ...                   20000     116000  INICIS   \n",
       "101101 2021-09-25 14:25:47  ...                   30000     169000   NAVER   \n",
       "\n",
       "        method subcategory_title   marketing_start_at  Year Month  Day  Hour  \n",
       "2         CARD             프로그래밍  2021-03-04 00:00:00  2021     3   28    15  \n",
       "4         CARD           PPT/보고서  2019-11-14 00:00:00  2021     3   28    15  \n",
       "8         CARD             영상 편집  2020-12-02 00:00:00  2021     3   28    15  \n",
       "10        CARD            부동산/금융  2020-11-27 00:00:00  2021     3   28    15  \n",
       "14        CARD          프론트엔드 개발  2021-02-02 00:00:00  2021     3   28    15  \n",
       "...        ...               ...                  ...   ...   ...  ...   ...  \n",
       "101094    CARD              디자인툴  2021-04-23 00:00:00  2021     9   25    13  \n",
       "101095    CARD             영상 편집  2020-12-02 00:00:00  2021     9   25    13  \n",
       "101096    CARD            백엔드 개발  2021-05-31 00:00:00  2021     9   25    14  \n",
       "101099   VBANK             영상 편집  2021-06-15 00:00:00  2021     9   25    14  \n",
       "101101   POINT             영상 편집  2021-08-17 00:00:00  2021     9   25    14  \n",
       "\n",
       "[49415 rows x 22 columns]"
      ]
     },
     "execution_count": 61,
=======
       "    </tr>\n",
       "  </tbody>\n",
       "</table>\n",
       "<p>101102 rows × 17 columns</p>\n",
       "</div>"
      ],
      "text/plain": [
       "             id  customer_id  course_id     type      state  \\\n",
       "0        970634       504760     201435    ORDER  CANCELLED   \n",
       "1        970650       432862     203178    ORDER  CANCELLED   \n",
       "2        970657        72297     204246  PAYMENT  COMPLETED   \n",
       "3        970656        72297     204246    ORDER  CANCELLED   \n",
       "4        970658       478028     201797  PAYMENT  COMPLETED   \n",
       "...         ...          ...        ...      ...        ...   \n",
       "101097  1364995       640697     205365  PAYMENT  CANCELLED   \n",
       "101098  1364998       670896     204159  PAYMENT  CANCELLED   \n",
       "101099  1364996       640697     205365  PAYMENT  COMPLETED   \n",
       "101100  1365005       670896     204159  PAYMENT  CANCELLED   \n",
       "101101  1365007       610626     206720  PAYMENT  COMPLETED   \n",
       "\n",
       "                           course_title category_title  format  \\\n",
       "0             올인원 패키지 : 알고리즘 기술면접 완전 정복          프로그래밍     올인원   \n",
       "1           초격차 패키지 : 한번에 끝내는 영상 촬영과 편집          영상/3D     올인원   \n",
       "2                  시크릿코드 : 프론트엔드 실무 완성편          프로그래밍  스쿨 온라인   \n",
       "3                  시크릿코드 : 프론트엔드 실무 완성편          프로그래밍  스쿨 온라인   \n",
       "4         올인원 패키지 : 직장인 필수 스킬 3종 세트 MAX         업무 생산성     올인원   \n",
       "...                                 ...            ...     ...   \n",
       "101097  초격차 패키지 : 한 번에 끝내는 유튜브 크리에이터 되기          영상/3D     올인원   \n",
       "101098              부동산 디벨로퍼 아카데미 : 인허가         부동산/금융     올인원   \n",
       "101099  초격차 패키지 : 한 번에 끝내는 유튜브 크리에이터 되기          영상/3D     올인원   \n",
       "101100              부동산 디벨로퍼 아카데미 : 인허가         부동산/금융     올인원   \n",
       "101101               용호수의 돈 버는 실전 영상 제작          영상/3D     올인원   \n",
       "\n",
       "              completed_at  transaction_amount               coupon_title  \\\n",
       "0      2021-03-28 15:00:11               90500                        미적용   \n",
       "1      2021-03-28 15:16:53               96000                        미적용   \n",
       "2      2021-03-28 15:21:43              171810      [10% 할인] 시크릿코드 실무 완성편   \n",
       "3      2021-03-28 15:21:43              171810                        미적용   \n",
       "4      2021-03-28 15:21:54               97500   [웰컴쿠폰] 올인원 패키지 2만원 할인 쿠폰   \n",
       "...                    ...                 ...                        ...   \n",
       "101097 2021-09-25 14:10:42               96000  [WELCOME] 온라인 강의 2만원 할인쿠폰   \n",
       "101098 2021-09-25 14:16:33              189000                        미적용   \n",
       "101099 2021-09-25 14:17:41               96000  [WELCOME] 온라인 강의 2만원 할인쿠폰   \n",
       "101100 2021-09-25 14:19:56              189000                        미적용   \n",
       "101101 2021-09-25 14:25:47              139000  [WELCOME] 온라인 강의 3만원 할인쿠폰   \n",
       "\n",
       "        coupon_discount_amount  sale_price      pg method subcategory_title  \\\n",
       "0                            0      110500    COMM  VBANK           개발자 커리어   \n",
       "1                            0      116000    COMM   CARD             영상 편집   \n",
       "2                        19090      190900    COMM   CARD             프로그래밍   \n",
       "3                            0      190900    COMM   CARD             프로그래밍   \n",
       "4                        20000      117500    COMM   CARD           PPT/보고서   \n",
       "...                        ...         ...     ...    ...               ...   \n",
       "101097                   20000      116000  INICIS  TRANS             영상 편집   \n",
       "101098                       0      189000  INICIS   CARD            부동산 개발   \n",
       "101099                   20000      116000  INICIS  VBANK             영상 편집   \n",
       "101100                       0      189000  INICIS   CARD            부동산 개발   \n",
       "101101                   30000      169000   NAVER  POINT             영상 편집   \n",
       "\n",
       "         marketing_start_at  \n",
       "0       2018-11-11 00:00:00  \n",
       "1       2020-12-02 00:00:00  \n",
       "2       2021-03-04 00:00:00  \n",
       "3       2021-03-04 00:00:00  \n",
       "4       2019-11-14 00:00:00  \n",
       "...                     ...  \n",
       "101097  2021-06-15 00:00:00  \n",
       "101098  2021-02-10 00:00:00  \n",
       "101099  2021-06-15 00:00:00  \n",
       "101100  2021-02-10 00:00:00  \n",
       "101101  2021-08-17 00:00:00  \n",
       "\n",
       "[101102 rows x 17 columns]"
      ]
     },
     "execution_count": 16,
>>>>>>> upstream/main
     "metadata": {},
     "output_type": "execute_result"
    }
   ],
   "source": [
<<<<<<< HEAD
    "df[(df['type'] == 'PAYMENT') & (df['state'] == 'COMPLETED')]"
=======
    "df.completed_at = pd.to_datetime(df.completed_at, )\n",
    "df  # dtype -> datetime으로 바꾸기 "
   ]
  },
  {
   "cell_type": "code",
   "execution_count": 17,
   "id": "6be4f888",
   "metadata": {
    "ExecuteTime": {
     "end_time": "2022-06-30T05:01:14.220959Z",
     "start_time": "2022-06-30T05:01:14.080641Z"
    }
   },
   "outputs": [
    {
     "name": "stdout",
     "output_type": "stream",
     "text": [
      "<class 'pandas.core.frame.DataFrame'>\n",
      "RangeIndex: 101102 entries, 0 to 101101\n",
      "Data columns (total 17 columns):\n",
      " #   Column                  Non-Null Count   Dtype         \n",
      "---  ------                  --------------   -----         \n",
      " 0   id                      101102 non-null  int64         \n",
      " 1   customer_id             101102 non-null  int64         \n",
      " 2   course_id               101102 non-null  int64         \n",
      " 3   type                    101102 non-null  object        \n",
      " 4   state                   101102 non-null  object        \n",
      " 5   course_title            101102 non-null  object        \n",
      " 6   category_title          101102 non-null  object        \n",
      " 7   format                  101102 non-null  object        \n",
      " 8   completed_at            101102 non-null  datetime64[ns]\n",
      " 9   transaction_amount      101102 non-null  int64         \n",
      " 10  coupon_title            101102 non-null  object        \n",
      " 11  coupon_discount_amount  101102 non-null  int64         \n",
      " 12  sale_price              101102 non-null  int64         \n",
      " 13  pg                      101102 non-null  object        \n",
      " 14  method                  101102 non-null  object        \n",
      " 15  subcategory_title       101102 non-null  object        \n",
      " 16  marketing_start_at      101102 non-null  object        \n",
      "dtypes: datetime64[ns](1), int64(6), object(10)\n",
      "memory usage: 13.1+ MB\n"
     ]
    }
   ],
   "source": [
    "df.info()"
   ]
  },
  {
   "cell_type": "markdown",
   "id": "6f1f6f24",
   "metadata": {},
   "source": [
    "# 매출 분석"
>>>>>>> upstream/main
   ]
  },
  {
   "cell_type": "markdown",
   "id": "067228e5",
   "metadata": {},
   "source": [
    "## 시간대, 요일, 일, 주, 월, 분기, 총 매출(반기), 6개월간 추이"
   ]
  },
  {
   "cell_type": "code",
<<<<<<< HEAD
   "execution_count": 7,
   "id": "3869b3c0",
   "metadata": {
    "ExecuteTime": {
     "end_time": "2022-07-01T02:27:36.486564Z",
     "start_time": "2022-07-01T02:27:36.464950Z"
=======
   "execution_count": 18,
   "id": "3869b3c0",
   "metadata": {
    "ExecuteTime": {
     "end_time": "2022-06-30T05:01:24.807189Z",
     "start_time": "2022-06-30T05:01:24.785078Z"
>>>>>>> upstream/main
    }
   },
   "outputs": [],
   "source": [
    "df['Year'] = df['completed_at'].dt.year "
   ]
  },
  {
   "cell_type": "code",
<<<<<<< HEAD
   "execution_count": 8,
   "id": "9246298a",
   "metadata": {
    "ExecuteTime": {
     "end_time": "2022-07-01T02:27:37.089591Z",
     "start_time": "2022-07-01T02:27:37.073569Z"
=======
   "execution_count": 20,
   "id": "9246298a",
   "metadata": {
    "ExecuteTime": {
     "end_time": "2022-06-30T05:02:36.366570Z",
     "start_time": "2022-06-30T05:02:36.349083Z"
>>>>>>> upstream/main
    }
   },
   "outputs": [],
   "source": [
    "df['Month'] = df['completed_at'].dt.month"
   ]
  },
  {
   "cell_type": "code",
<<<<<<< HEAD
   "execution_count": 9,
   "id": "aeff23f9",
   "metadata": {
    "ExecuteTime": {
     "end_time": "2022-07-01T02:27:37.580697Z",
     "start_time": "2022-07-01T02:27:37.562823Z"
=======
   "execution_count": 34,
   "id": "aeff23f9",
   "metadata": {
    "ExecuteTime": {
     "end_time": "2022-06-30T05:09:43.432628Z",
     "start_time": "2022-06-30T05:09:43.412752Z"
>>>>>>> upstream/main
    }
   },
   "outputs": [],
   "source": [
    "df['Day'] = df['completed_at'].dt.day"
   ]
  },
  {
   "cell_type": "code",
<<<<<<< HEAD
   "execution_count": 10,
   "id": "d92b65db",
   "metadata": {
    "ExecuteTime": {
     "end_time": "2022-07-01T02:27:38.680320Z",
     "start_time": "2022-07-01T02:27:38.664470Z"
=======
   "execution_count": 36,
   "id": "d92b65db",
   "metadata": {
    "ExecuteTime": {
     "end_time": "2022-06-30T05:10:09.113189Z",
     "start_time": "2022-06-30T05:10:09.096387Z"
>>>>>>> upstream/main
    }
   },
   "outputs": [],
   "source": [
    "df['Hour'] = df['completed_at'].dt.hour"
   ]
  },
  {
   "cell_type": "code",
<<<<<<< HEAD
   "execution_count": 56,
   "id": "e4af52a4",
   "metadata": {
    "ExecuteTime": {
     "end_time": "2022-07-01T03:16:56.835224Z",
     "start_time": "2022-07-01T03:16:56.775069Z"
=======
   "execution_count": 80,
   "id": "e4af52a4",
   "metadata": {
    "ExecuteTime": {
     "end_time": "2022-06-30T07:28:32.374417Z",
     "start_time": "2022-06-30T07:28:32.238483Z"
>>>>>>> upstream/main
    }
   },
   "outputs": [
    {
     "data": {
      "text/html": [
       "<div>\n",
       "<style scoped>\n",
       "    .dataframe tbody tr th:only-of-type {\n",
       "        vertical-align: middle;\n",
       "    }\n",
       "\n",
       "    .dataframe tbody tr th {\n",
       "        vertical-align: top;\n",
       "    }\n",
       "\n",
       "    .dataframe thead th {\n",
       "        text-align: right;\n",
       "    }\n",
       "</style>\n",
       "<table border=\"1\" class=\"dataframe\">\n",
       "  <thead>\n",
       "    <tr style=\"text-align: right;\">\n",
       "      <th></th>\n",
<<<<<<< HEAD
       "      <th>Unnamed: 0</th>\n",
=======
>>>>>>> upstream/main
       "      <th>id</th>\n",
       "      <th>customer_id</th>\n",
       "      <th>course_id</th>\n",
       "      <th>type</th>\n",
       "      <th>state</th>\n",
       "      <th>course_title</th>\n",
       "      <th>category_title</th>\n",
       "      <th>format</th>\n",
       "      <th>completed_at</th>\n",
<<<<<<< HEAD
       "      <th>...</th>\n",
       "      <th>coupon_discount_amount</th>\n",
       "      <th>sale_price</th>\n",
=======
       "      <th>transaction_amount</th>\n",
       "      <th>...</th>\n",
>>>>>>> upstream/main
       "      <th>pg</th>\n",
       "      <th>method</th>\n",
       "      <th>subcategory_title</th>\n",
       "      <th>marketing_start_at</th>\n",
       "      <th>Year</th>\n",
       "      <th>Month</th>\n",
       "      <th>Day</th>\n",
       "      <th>Hour</th>\n",
<<<<<<< HEAD
=======
       "      <th>day_of_week</th>\n",
       "      <th>Weekday</th>\n",
>>>>>>> upstream/main
       "    </tr>\n",
       "  </thead>\n",
       "  <tbody>\n",
       "    <tr>\n",
       "      <th>0</th>\n",
<<<<<<< HEAD
       "      <td>0</td>\n",
=======
>>>>>>> upstream/main
       "      <td>970634</td>\n",
       "      <td>504760</td>\n",
       "      <td>201435</td>\n",
       "      <td>ORDER</td>\n",
       "      <td>CANCELLED</td>\n",
       "      <td>올인원 패키지 : 알고리즘 기술면접 완전 정복</td>\n",
       "      <td>프로그래밍</td>\n",
       "      <td>올인원</td>\n",
       "      <td>2021-03-28 15:00:11</td>\n",
<<<<<<< HEAD
       "      <td>...</td>\n",
       "      <td>0</td>\n",
       "      <td>110500</td>\n",
=======
       "      <td>90500</td>\n",
       "      <td>...</td>\n",
>>>>>>> upstream/main
       "      <td>COMM</td>\n",
       "      <td>VBANK</td>\n",
       "      <td>개발자 커리어</td>\n",
       "      <td>2018-11-11 00:00:00</td>\n",
       "      <td>2021</td>\n",
       "      <td>3</td>\n",
       "      <td>28</td>\n",
       "      <td>15</td>\n",
<<<<<<< HEAD
       "    </tr>\n",
       "    <tr>\n",
       "      <th>1</th>\n",
       "      <td>1</td>\n",
=======
       "      <td>12</td>\n",
       "      <td>Sunday</td>\n",
       "    </tr>\n",
       "    <tr>\n",
       "      <th>1</th>\n",
>>>>>>> upstream/main
       "      <td>970650</td>\n",
       "      <td>432862</td>\n",
       "      <td>203178</td>\n",
       "      <td>ORDER</td>\n",
       "      <td>CANCELLED</td>\n",
       "      <td>초격차 패키지 : 한번에 끝내는 영상 촬영과 편집</td>\n",
       "      <td>영상/3D</td>\n",
       "      <td>올인원</td>\n",
       "      <td>2021-03-28 15:16:53</td>\n",
<<<<<<< HEAD
       "      <td>...</td>\n",
       "      <td>0</td>\n",
       "      <td>116000</td>\n",
=======
       "      <td>96000</td>\n",
       "      <td>...</td>\n",
>>>>>>> upstream/main
       "      <td>COMM</td>\n",
       "      <td>CARD</td>\n",
       "      <td>영상 편집</td>\n",
       "      <td>2020-12-02 00:00:00</td>\n",
       "      <td>2021</td>\n",
       "      <td>3</td>\n",
       "      <td>28</td>\n",
       "      <td>15</td>\n",
<<<<<<< HEAD
       "    </tr>\n",
       "    <tr>\n",
       "      <th>2</th>\n",
       "      <td>2</td>\n",
=======
       "      <td>12</td>\n",
       "      <td>Sunday</td>\n",
       "    </tr>\n",
       "    <tr>\n",
       "      <th>2</th>\n",
>>>>>>> upstream/main
       "      <td>970657</td>\n",
       "      <td>72297</td>\n",
       "      <td>204246</td>\n",
       "      <td>PAYMENT</td>\n",
       "      <td>COMPLETED</td>\n",
       "      <td>시크릿코드 : 프론트엔드 실무 완성편</td>\n",
       "      <td>프로그래밍</td>\n",
       "      <td>스쿨 온라인</td>\n",
       "      <td>2021-03-28 15:21:43</td>\n",
<<<<<<< HEAD
       "      <td>...</td>\n",
       "      <td>19090</td>\n",
       "      <td>190900</td>\n",
=======
       "      <td>171810</td>\n",
       "      <td>...</td>\n",
>>>>>>> upstream/main
       "      <td>COMM</td>\n",
       "      <td>CARD</td>\n",
       "      <td>프로그래밍</td>\n",
       "      <td>2021-03-04 00:00:00</td>\n",
       "      <td>2021</td>\n",
       "      <td>3</td>\n",
       "      <td>28</td>\n",
       "      <td>15</td>\n",
<<<<<<< HEAD
       "    </tr>\n",
       "    <tr>\n",
       "      <th>3</th>\n",
       "      <td>3</td>\n",
=======
       "      <td>12</td>\n",
       "      <td>Sunday</td>\n",
       "    </tr>\n",
       "    <tr>\n",
       "      <th>3</th>\n",
>>>>>>> upstream/main
       "      <td>970656</td>\n",
       "      <td>72297</td>\n",
       "      <td>204246</td>\n",
       "      <td>ORDER</td>\n",
       "      <td>CANCELLED</td>\n",
       "      <td>시크릿코드 : 프론트엔드 실무 완성편</td>\n",
       "      <td>프로그래밍</td>\n",
       "      <td>스쿨 온라인</td>\n",
       "      <td>2021-03-28 15:21:43</td>\n",
<<<<<<< HEAD
       "      <td>...</td>\n",
       "      <td>0</td>\n",
       "      <td>190900</td>\n",
=======
       "      <td>171810</td>\n",
       "      <td>...</td>\n",
>>>>>>> upstream/main
       "      <td>COMM</td>\n",
       "      <td>CARD</td>\n",
       "      <td>프로그래밍</td>\n",
       "      <td>2021-03-04 00:00:00</td>\n",
       "      <td>2021</td>\n",
       "      <td>3</td>\n",
       "      <td>28</td>\n",
       "      <td>15</td>\n",
<<<<<<< HEAD
       "    </tr>\n",
       "    <tr>\n",
       "      <th>4</th>\n",
       "      <td>4</td>\n",
=======
       "      <td>12</td>\n",
       "      <td>Sunday</td>\n",
       "    </tr>\n",
       "    <tr>\n",
       "      <th>4</th>\n",
>>>>>>> upstream/main
       "      <td>970658</td>\n",
       "      <td>478028</td>\n",
       "      <td>201797</td>\n",
       "      <td>PAYMENT</td>\n",
       "      <td>COMPLETED</td>\n",
       "      <td>올인원 패키지 : 직장인 필수 스킬 3종 세트 MAX</td>\n",
       "      <td>업무 생산성</td>\n",
       "      <td>올인원</td>\n",
       "      <td>2021-03-28 15:21:54</td>\n",
<<<<<<< HEAD
       "      <td>...</td>\n",
       "      <td>20000</td>\n",
       "      <td>117500</td>\n",
=======
       "      <td>97500</td>\n",
       "      <td>...</td>\n",
>>>>>>> upstream/main
       "      <td>COMM</td>\n",
       "      <td>CARD</td>\n",
       "      <td>PPT/보고서</td>\n",
       "      <td>2019-11-14 00:00:00</td>\n",
       "      <td>2021</td>\n",
       "      <td>3</td>\n",
       "      <td>28</td>\n",
       "      <td>15</td>\n",
<<<<<<< HEAD
=======
       "      <td>12</td>\n",
       "      <td>Sunday</td>\n",
>>>>>>> upstream/main
       "    </tr>\n",
       "    <tr>\n",
       "      <th>...</th>\n",
       "      <td>...</td>\n",
       "      <td>...</td>\n",
       "      <td>...</td>\n",
       "      <td>...</td>\n",
       "      <td>...</td>\n",
       "      <td>...</td>\n",
       "      <td>...</td>\n",
       "      <td>...</td>\n",
       "      <td>...</td>\n",
       "      <td>...</td>\n",
       "      <td>...</td>\n",
       "      <td>...</td>\n",
       "      <td>...</td>\n",
       "      <td>...</td>\n",
       "      <td>...</td>\n",
       "      <td>...</td>\n",
       "      <td>...</td>\n",
       "      <td>...</td>\n",
       "      <td>...</td>\n",
       "      <td>...</td>\n",
       "      <td>...</td>\n",
       "    </tr>\n",
       "    <tr>\n",
       "      <th>101097</th>\n",
<<<<<<< HEAD
       "      <td>101813</td>\n",
=======
>>>>>>> upstream/main
       "      <td>1364995</td>\n",
       "      <td>640697</td>\n",
       "      <td>205365</td>\n",
       "      <td>PAYMENT</td>\n",
       "      <td>CANCELLED</td>\n",
       "      <td>초격차 패키지 : 한 번에 끝내는 유튜브 크리에이터 되기</td>\n",
       "      <td>영상/3D</td>\n",
       "      <td>올인원</td>\n",
       "      <td>2021-09-25 14:10:42</td>\n",
<<<<<<< HEAD
       "      <td>...</td>\n",
       "      <td>20000</td>\n",
       "      <td>116000</td>\n",
=======
       "      <td>96000</td>\n",
       "      <td>...</td>\n",
>>>>>>> upstream/main
       "      <td>INICIS</td>\n",
       "      <td>TRANS</td>\n",
       "      <td>영상 편집</td>\n",
       "      <td>2021-06-15 00:00:00</td>\n",
       "      <td>2021</td>\n",
       "      <td>9</td>\n",
       "      <td>25</td>\n",
       "      <td>14</td>\n",
<<<<<<< HEAD
       "    </tr>\n",
       "    <tr>\n",
       "      <th>101098</th>\n",
       "      <td>101814</td>\n",
=======
       "      <td>38</td>\n",
       "      <td>Saturday</td>\n",
       "    </tr>\n",
       "    <tr>\n",
       "      <th>101098</th>\n",
>>>>>>> upstream/main
       "      <td>1364998</td>\n",
       "      <td>670896</td>\n",
       "      <td>204159</td>\n",
       "      <td>PAYMENT</td>\n",
       "      <td>CANCELLED</td>\n",
       "      <td>부동산 디벨로퍼 아카데미 : 인허가</td>\n",
       "      <td>부동산/금융</td>\n",
       "      <td>올인원</td>\n",
       "      <td>2021-09-25 14:16:33</td>\n",
<<<<<<< HEAD
       "      <td>...</td>\n",
       "      <td>0</td>\n",
       "      <td>189000</td>\n",
=======
       "      <td>189000</td>\n",
       "      <td>...</td>\n",
>>>>>>> upstream/main
       "      <td>INICIS</td>\n",
       "      <td>CARD</td>\n",
       "      <td>부동산 개발</td>\n",
       "      <td>2021-02-10 00:00:00</td>\n",
       "      <td>2021</td>\n",
       "      <td>9</td>\n",
       "      <td>25</td>\n",
       "      <td>14</td>\n",
<<<<<<< HEAD
       "    </tr>\n",
       "    <tr>\n",
       "      <th>101099</th>\n",
       "      <td>101815</td>\n",
=======
       "      <td>38</td>\n",
       "      <td>Saturday</td>\n",
       "    </tr>\n",
       "    <tr>\n",
       "      <th>101099</th>\n",
>>>>>>> upstream/main
       "      <td>1364996</td>\n",
       "      <td>640697</td>\n",
       "      <td>205365</td>\n",
       "      <td>PAYMENT</td>\n",
       "      <td>COMPLETED</td>\n",
       "      <td>초격차 패키지 : 한 번에 끝내는 유튜브 크리에이터 되기</td>\n",
       "      <td>영상/3D</td>\n",
       "      <td>올인원</td>\n",
       "      <td>2021-09-25 14:17:41</td>\n",
<<<<<<< HEAD
       "      <td>...</td>\n",
       "      <td>20000</td>\n",
       "      <td>116000</td>\n",
=======
       "      <td>96000</td>\n",
       "      <td>...</td>\n",
>>>>>>> upstream/main
       "      <td>INICIS</td>\n",
       "      <td>VBANK</td>\n",
       "      <td>영상 편집</td>\n",
       "      <td>2021-06-15 00:00:00</td>\n",
       "      <td>2021</td>\n",
       "      <td>9</td>\n",
       "      <td>25</td>\n",
       "      <td>14</td>\n",
<<<<<<< HEAD
       "    </tr>\n",
       "    <tr>\n",
       "      <th>101100</th>\n",
       "      <td>101816</td>\n",
=======
       "      <td>38</td>\n",
       "      <td>Saturday</td>\n",
       "    </tr>\n",
       "    <tr>\n",
       "      <th>101100</th>\n",
>>>>>>> upstream/main
       "      <td>1365005</td>\n",
       "      <td>670896</td>\n",
       "      <td>204159</td>\n",
       "      <td>PAYMENT</td>\n",
       "      <td>CANCELLED</td>\n",
       "      <td>부동산 디벨로퍼 아카데미 : 인허가</td>\n",
       "      <td>부동산/금융</td>\n",
       "      <td>올인원</td>\n",
       "      <td>2021-09-25 14:19:56</td>\n",
<<<<<<< HEAD
       "      <td>...</td>\n",
       "      <td>0</td>\n",
       "      <td>189000</td>\n",
=======
       "      <td>189000</td>\n",
       "      <td>...</td>\n",
>>>>>>> upstream/main
       "      <td>INICIS</td>\n",
       "      <td>CARD</td>\n",
       "      <td>부동산 개발</td>\n",
       "      <td>2021-02-10 00:00:00</td>\n",
       "      <td>2021</td>\n",
       "      <td>9</td>\n",
       "      <td>25</td>\n",
       "      <td>14</td>\n",
<<<<<<< HEAD
       "    </tr>\n",
       "    <tr>\n",
       "      <th>101101</th>\n",
       "      <td>101817</td>\n",
=======
       "      <td>38</td>\n",
       "      <td>Saturday</td>\n",
       "    </tr>\n",
       "    <tr>\n",
       "      <th>101101</th>\n",
>>>>>>> upstream/main
       "      <td>1365007</td>\n",
       "      <td>610626</td>\n",
       "      <td>206720</td>\n",
       "      <td>PAYMENT</td>\n",
       "      <td>COMPLETED</td>\n",
       "      <td>용호수의 돈 버는 실전 영상 제작</td>\n",
       "      <td>영상/3D</td>\n",
       "      <td>올인원</td>\n",
       "      <td>2021-09-25 14:25:47</td>\n",
<<<<<<< HEAD
       "      <td>...</td>\n",
       "      <td>30000</td>\n",
       "      <td>169000</td>\n",
=======
       "      <td>139000</td>\n",
       "      <td>...</td>\n",
>>>>>>> upstream/main
       "      <td>NAVER</td>\n",
       "      <td>POINT</td>\n",
       "      <td>영상 편집</td>\n",
       "      <td>2021-08-17 00:00:00</td>\n",
       "      <td>2021</td>\n",
       "      <td>9</td>\n",
       "      <td>25</td>\n",
       "      <td>14</td>\n",
<<<<<<< HEAD
       "    </tr>\n",
       "  </tbody>\n",
       "</table>\n",
       "<p>101102 rows × 22 columns</p>\n",
       "</div>"
      ],
      "text/plain": [
       "        Unnamed: 0       id  customer_id  course_id     type      state  \\\n",
       "0                0   970634       504760     201435    ORDER  CANCELLED   \n",
       "1                1   970650       432862     203178    ORDER  CANCELLED   \n",
       "2                2   970657        72297     204246  PAYMENT  COMPLETED   \n",
       "3                3   970656        72297     204246    ORDER  CANCELLED   \n",
       "4                4   970658       478028     201797  PAYMENT  COMPLETED   \n",
       "...            ...      ...          ...        ...      ...        ...   \n",
       "101097      101813  1364995       640697     205365  PAYMENT  CANCELLED   \n",
       "101098      101814  1364998       670896     204159  PAYMENT  CANCELLED   \n",
       "101099      101815  1364996       640697     205365  PAYMENT  COMPLETED   \n",
       "101100      101816  1365005       670896     204159  PAYMENT  CANCELLED   \n",
       "101101      101817  1365007       610626     206720  PAYMENT  COMPLETED   \n",
=======
       "      <td>38</td>\n",
       "      <td>Saturday</td>\n",
       "    </tr>\n",
       "  </tbody>\n",
       "</table>\n",
       "<p>101102 rows × 23 columns</p>\n",
       "</div>"
      ],
      "text/plain": [
       "             id  customer_id  course_id     type      state  \\\n",
       "0        970634       504760     201435    ORDER  CANCELLED   \n",
       "1        970650       432862     203178    ORDER  CANCELLED   \n",
       "2        970657        72297     204246  PAYMENT  COMPLETED   \n",
       "3        970656        72297     204246    ORDER  CANCELLED   \n",
       "4        970658       478028     201797  PAYMENT  COMPLETED   \n",
       "...         ...          ...        ...      ...        ...   \n",
       "101097  1364995       640697     205365  PAYMENT  CANCELLED   \n",
       "101098  1364998       670896     204159  PAYMENT  CANCELLED   \n",
       "101099  1364996       640697     205365  PAYMENT  COMPLETED   \n",
       "101100  1365005       670896     204159  PAYMENT  CANCELLED   \n",
       "101101  1365007       610626     206720  PAYMENT  COMPLETED   \n",
>>>>>>> upstream/main
       "\n",
       "                           course_title category_title  format  \\\n",
       "0             올인원 패키지 : 알고리즘 기술면접 완전 정복          프로그래밍     올인원   \n",
       "1           초격차 패키지 : 한번에 끝내는 영상 촬영과 편집          영상/3D     올인원   \n",
       "2                  시크릿코드 : 프론트엔드 실무 완성편          프로그래밍  스쿨 온라인   \n",
       "3                  시크릿코드 : 프론트엔드 실무 완성편          프로그래밍  스쿨 온라인   \n",
       "4         올인원 패키지 : 직장인 필수 스킬 3종 세트 MAX         업무 생산성     올인원   \n",
       "...                                 ...            ...     ...   \n",
       "101097  초격차 패키지 : 한 번에 끝내는 유튜브 크리에이터 되기          영상/3D     올인원   \n",
       "101098              부동산 디벨로퍼 아카데미 : 인허가         부동산/금융     올인원   \n",
       "101099  초격차 패키지 : 한 번에 끝내는 유튜브 크리에이터 되기          영상/3D     올인원   \n",
       "101100              부동산 디벨로퍼 아카데미 : 인허가         부동산/금융     올인원   \n",
       "101101               용호수의 돈 버는 실전 영상 제작          영상/3D     올인원   \n",
       "\n",
<<<<<<< HEAD
       "              completed_at  ...  coupon_discount_amount sale_price      pg  \\\n",
       "0      2021-03-28 15:00:11  ...                       0     110500    COMM   \n",
       "1      2021-03-28 15:16:53  ...                       0     116000    COMM   \n",
       "2      2021-03-28 15:21:43  ...                   19090     190900    COMM   \n",
       "3      2021-03-28 15:21:43  ...                       0     190900    COMM   \n",
       "4      2021-03-28 15:21:54  ...                   20000     117500    COMM   \n",
       "...                    ...  ...                     ...        ...     ...   \n",
       "101097 2021-09-25 14:10:42  ...                   20000     116000  INICIS   \n",
       "101098 2021-09-25 14:16:33  ...                       0     189000  INICIS   \n",
       "101099 2021-09-25 14:17:41  ...                   20000     116000  INICIS   \n",
       "101100 2021-09-25 14:19:56  ...                       0     189000  INICIS   \n",
       "101101 2021-09-25 14:25:47  ...                   30000     169000   NAVER   \n",
       "\n",
       "        method subcategory_title   marketing_start_at  Year Month  Day  Hour  \n",
       "0        VBANK           개발자 커리어  2018-11-11 00:00:00  2021     3   28    15  \n",
       "1         CARD             영상 편집  2020-12-02 00:00:00  2021     3   28    15  \n",
       "2         CARD             프로그래밍  2021-03-04 00:00:00  2021     3   28    15  \n",
       "3         CARD             프로그래밍  2021-03-04 00:00:00  2021     3   28    15  \n",
       "4         CARD           PPT/보고서  2019-11-14 00:00:00  2021     3   28    15  \n",
       "...        ...               ...                  ...   ...   ...  ...   ...  \n",
       "101097   TRANS             영상 편집  2021-06-15 00:00:00  2021     9   25    14  \n",
       "101098    CARD            부동산 개발  2021-02-10 00:00:00  2021     9   25    14  \n",
       "101099   VBANK             영상 편집  2021-06-15 00:00:00  2021     9   25    14  \n",
       "101100    CARD            부동산 개발  2021-02-10 00:00:00  2021     9   25    14  \n",
       "101101   POINT             영상 편집  2021-08-17 00:00:00  2021     9   25    14  \n",
       "\n",
       "[101102 rows x 22 columns]"
      ]
     },
     "execution_count": 56,
     "metadata": {},
     "output_type": "execute_result"
    }
   ],
   "source": [
    "df"
   ]
  },
  {
   "cell_type": "markdown",
   "id": "ec54f1a2",
   "metadata": {},
   "source": [
    "### 시간대별 매출 그래프"
   ]
  },
  {
   "cell_type": "code",
   "execution_count": 115,
   "id": "0c0b11cd",
   "metadata": {
    "ExecuteTime": {
     "end_time": "2022-06-30T10:39:49.468180Z",
     "start_time": "2022-06-30T10:39:49.462869Z"
    }
   },
   "outputs": [],
   "source": [
    "# sns.lineplot(x='completed_at', y='transaction_amount',\n",
    "#              data=df,\n",
    "#              color = 'coral'\n",
    "#             )\n",
    "# plt.xlabel('Hour')"
   ]
  },
  {
   "cell_type": "markdown",
   "id": "56961300",
   "metadata": {},
   "source": [
    "#### 시간대별 이용자수 그래프"
   ]
  },
  {
   "cell_type": "code",
   "execution_count": 12,
   "id": "2e8a877e",
   "metadata": {
    "ExecuteTime": {
     "end_time": "2022-07-01T02:27:52.824484Z",
     "start_time": "2022-07-01T02:27:52.621159Z"
    }
   },
   "outputs": [
    {
     "data": {
      "text/plain": [
       "<AxesSubplot:xlabel='Hour', ylabel='count'>"
      ]
     },
     "execution_count": 12,
     "metadata": {},
     "output_type": "execute_result"
    },
    {
     "data": {
      "image/png": "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\n",
      "text/plain": [
       "<Figure size 720x504 with 1 Axes>"
      ]
     },
     "metadata": {},
     "output_type": "display_data"
    }
   ],
   "source": [
    "sns.set_style('whitegrid')\n",
    "plt.figure(figsize=(10,7))\n",
    "sns.countplot(data=df, x=\"Hour\")"
   ]
  },
  {
   "cell_type": "code",
   "execution_count": 20,
   "id": "a377cc30",
   "metadata": {
    "ExecuteTime": {
     "end_time": "2022-07-01T02:32:18.186848Z",
     "start_time": "2022-07-01T02:32:18.084822Z"
    }
   },
   "outputs": [],
   "source": [
    "com = df[df['type'].str.contains('PAYMENT','REFUND') & df['state'].str.contains('COMPLETED')]"
   ]
  },
  {
   "cell_type": "code",
   "execution_count": 26,
   "id": "61a8bdd7",
   "metadata": {
    "ExecuteTime": {
     "end_time": "2022-07-01T02:35:12.736609Z",
     "start_time": "2022-07-01T02:35:12.706337Z"
    }
   },
   "outputs": [
    {
     "data": {
      "text/html": [
       "<div>\n",
       "<style scoped>\n",
       "    .dataframe tbody tr th:only-of-type {\n",
       "        vertical-align: middle;\n",
       "    }\n",
       "\n",
       "    .dataframe tbody tr th {\n",
       "        vertical-align: top;\n",
       "    }\n",
       "\n",
       "    .dataframe thead th {\n",
       "        text-align: right;\n",
       "    }\n",
       "</style>\n",
       "<table border=\"1\" class=\"dataframe\">\n",
       "  <thead>\n",
       "    <tr style=\"text-align: right;\">\n",
       "      <th></th>\n",
       "      <th>transaction_amount</th>\n",
       "    </tr>\n",
       "    <tr>\n",
       "      <th>completed_at</th>\n",
       "      <th></th>\n",
       "    </tr>\n",
       "  </thead>\n",
       "  <tbody>\n",
       "    <tr>\n",
       "      <th>0</th>\n",
       "      <td>233549455</td>\n",
       "    </tr>\n",
       "    <tr>\n",
       "      <th>1</th>\n",
       "      <td>136075550</td>\n",
       "    </tr>\n",
       "    <tr>\n",
       "      <th>2</th>\n",
       "      <td>95817755</td>\n",
       "    </tr>\n",
       "    <tr>\n",
       "      <th>3</th>\n",
       "      <td>52194135</td>\n",
       "    </tr>\n",
       "    <tr>\n",
       "      <th>4</th>\n",
       "      <td>33338600</td>\n",
       "    </tr>\n",
       "    <tr>\n",
       "      <th>5</th>\n",
       "      <td>36766265</td>\n",
       "    </tr>\n",
       "    <tr>\n",
       "      <th>6</th>\n",
       "      <td>55248680</td>\n",
       "    </tr>\n",
       "    <tr>\n",
       "      <th>7</th>\n",
       "      <td>94951875</td>\n",
       "    </tr>\n",
       "    <tr>\n",
       "      <th>8</th>\n",
       "      <td>155896900</td>\n",
       "    </tr>\n",
       "    <tr>\n",
       "      <th>9</th>\n",
       "      <td>230619555</td>\n",
       "    </tr>\n",
       "    <tr>\n",
       "      <th>10</th>\n",
       "      <td>321207790</td>\n",
       "    </tr>\n",
       "    <tr>\n",
       "      <th>11</th>\n",
       "      <td>323602465</td>\n",
       "    </tr>\n",
       "    <tr>\n",
       "      <th>12</th>\n",
       "      <td>282290930</td>\n",
       "    </tr>\n",
       "    <tr>\n",
       "      <th>13</th>\n",
       "      <td>349395425</td>\n",
       "    </tr>\n",
       "    <tr>\n",
       "      <th>14</th>\n",
       "      <td>369314420</td>\n",
       "    </tr>\n",
       "    <tr>\n",
       "      <th>15</th>\n",
       "      <td>381026945</td>\n",
       "    </tr>\n",
       "    <tr>\n",
       "      <th>16</th>\n",
       "      <td>413741890</td>\n",
       "    </tr>\n",
       "    <tr>\n",
       "      <th>17</th>\n",
       "      <td>381943945</td>\n",
       "    </tr>\n",
       "    <tr>\n",
       "      <th>18</th>\n",
       "      <td>377615830</td>\n",
       "    </tr>\n",
       "    <tr>\n",
       "      <th>19</th>\n",
       "      <td>342201490</td>\n",
       "    </tr>\n",
       "    <tr>\n",
       "      <th>20</th>\n",
       "      <td>380470975</td>\n",
       "    </tr>\n",
       "    <tr>\n",
       "      <th>21</th>\n",
       "      <td>441263400</td>\n",
       "    </tr>\n",
       "    <tr>\n",
       "      <th>22</th>\n",
       "      <td>511370370</td>\n",
       "    </tr>\n",
       "    <tr>\n",
       "      <th>23</th>\n",
       "      <td>571732315</td>\n",
       "    </tr>\n",
       "  </tbody>\n",
       "</table>\n",
       "</div>"
      ],
      "text/plain": [
       "              transaction_amount\n",
       "completed_at                    \n",
       "0                      233549455\n",
       "1                      136075550\n",
       "2                       95817755\n",
       "3                       52194135\n",
       "4                       33338600\n",
       "5                       36766265\n",
       "6                       55248680\n",
       "7                       94951875\n",
       "8                      155896900\n",
       "9                      230619555\n",
       "10                     321207790\n",
       "11                     323602465\n",
       "12                     282290930\n",
       "13                     349395425\n",
       "14                     369314420\n",
       "15                     381026945\n",
       "16                     413741890\n",
       "17                     381943945\n",
       "18                     377615830\n",
       "19                     342201490\n",
       "20                     380470975\n",
       "21                     441263400\n",
       "22                     511370370\n",
       "23                     571732315"
      ]
     },
     "execution_count": 26,
=======
       "              completed_at  transaction_amount  ...      pg  method  \\\n",
       "0      2021-03-28 15:00:11               90500  ...    COMM   VBANK   \n",
       "1      2021-03-28 15:16:53               96000  ...    COMM    CARD   \n",
       "2      2021-03-28 15:21:43              171810  ...    COMM    CARD   \n",
       "3      2021-03-28 15:21:43              171810  ...    COMM    CARD   \n",
       "4      2021-03-28 15:21:54               97500  ...    COMM    CARD   \n",
       "...                    ...                 ...  ...     ...     ...   \n",
       "101097 2021-09-25 14:10:42               96000  ...  INICIS   TRANS   \n",
       "101098 2021-09-25 14:16:33              189000  ...  INICIS    CARD   \n",
       "101099 2021-09-25 14:17:41               96000  ...  INICIS   VBANK   \n",
       "101100 2021-09-25 14:19:56              189000  ...  INICIS    CARD   \n",
       "101101 2021-09-25 14:25:47              139000  ...   NAVER   POINT   \n",
       "\n",
       "        subcategory_title   marketing_start_at  Year Month Day  Hour  \\\n",
       "0                 개발자 커리어  2018-11-11 00:00:00  2021     3  28    15   \n",
       "1                   영상 편집  2020-12-02 00:00:00  2021     3  28    15   \n",
       "2                   프로그래밍  2021-03-04 00:00:00  2021     3  28    15   \n",
       "3                   프로그래밍  2021-03-04 00:00:00  2021     3  28    15   \n",
       "4                 PPT/보고서  2019-11-14 00:00:00  2021     3  28    15   \n",
       "...                   ...                  ...   ...   ...  ..   ...   \n",
       "101097              영상 편집  2021-06-15 00:00:00  2021     9  25    14   \n",
       "101098             부동산 개발  2021-02-10 00:00:00  2021     9  25    14   \n",
       "101099              영상 편집  2021-06-15 00:00:00  2021     9  25    14   \n",
       "101100             부동산 개발  2021-02-10 00:00:00  2021     9  25    14   \n",
       "101101              영상 편집  2021-08-17 00:00:00  2021     9  25    14   \n",
       "\n",
       "        day_of_week   Weekday  \n",
       "0                12    Sunday  \n",
       "1                12    Sunday  \n",
       "2                12    Sunday  \n",
       "3                12    Sunday  \n",
       "4                12    Sunday  \n",
       "...             ...       ...  \n",
       "101097           38  Saturday  \n",
       "101098           38  Saturday  \n",
       "101099           38  Saturday  \n",
       "101100           38  Saturday  \n",
       "101101           38  Saturday  \n",
       "\n",
       "[101102 rows x 23 columns]"
      ]
     },
     "execution_count": 80,
>>>>>>> upstream/main
     "metadata": {},
     "output_type": "execute_result"
    }
   ],
   "source": [
<<<<<<< HEAD
    "sum_hour = com.set_index('completed_at').groupby(lambda date: date.hour).sum()[['transaction_amount']]\n",
    "sum_hour"
   ]
  },
  {
   "cell_type": "code",
   "execution_count": 88,
   "id": "f75eb547",
   "metadata": {
    "ExecuteTime": {
     "end_time": "2022-07-01T07:19:10.753075Z",
     "start_time": "2022-07-01T07:19:10.610210Z"
    }
   },
   "outputs": [
    {
     "name": "stdout",
     "output_type": "stream",
     "text": [
      "<class 'pandas.core.frame.DataFrame'>\n",
      "RangeIndex: 101102 entries, 0 to 101101\n",
      "Data columns (total 22 columns):\n",
      " #   Column                  Non-Null Count   Dtype         \n",
      "---  ------                  --------------   -----         \n",
      " 0   Unnamed: 0              101102 non-null  int64         \n",
      " 1   id                      101102 non-null  int64         \n",
      " 2   customer_id             101102 non-null  int64         \n",
      " 3   course_id               101102 non-null  int64         \n",
      " 4   type                    101102 non-null  object        \n",
      " 5   state                   101102 non-null  object        \n",
      " 6   course_title            101102 non-null  object        \n",
      " 7   category_title          101102 non-null  object        \n",
      " 8   format                  101102 non-null  object        \n",
      " 9   completed_at            101102 non-null  datetime64[ns]\n",
      " 10  transaction_amount      101102 non-null  int64         \n",
      " 11  coupon_title            101102 non-null  object        \n",
      " 12  coupon_discount_amount  101102 non-null  int64         \n",
      " 13  sale_price              101102 non-null  int64         \n",
      " 14  pg                      101102 non-null  object        \n",
      " 15  method                  101102 non-null  object        \n",
      " 16  subcategory_title       101102 non-null  object        \n",
      " 17  marketing_start_at      101102 non-null  object        \n",
      " 18  Year                    101102 non-null  int64         \n",
      " 19  Month                   101102 non-null  int64         \n",
      " 20  Day                     101102 non-null  int64         \n",
      " 21  Hour                    101102 non-null  int64         \n",
      "dtypes: datetime64[ns](1), int64(11), object(10)\n",
      "memory usage: 17.0+ MB\n"
     ]
    }
   ],
   "source": [
    "df.info()"
=======
    "df"
   ]
  },
  {
   "cell_type": "markdown",
   "id": "ec54f1a2",
   "metadata": {},
   "source": [
    "### 시간대별 매출 그래프"
>>>>>>> upstream/main
   ]
  },
  {
   "cell_type": "code",
<<<<<<< HEAD
   "execution_count": 27,
   "id": "a74b52e5",
   "metadata": {
    "ExecuteTime": {
     "end_time": "2022-07-01T02:36:08.406264Z",
     "start_time": "2022-07-01T02:36:08.282061Z"
=======
   "execution_count": 82,
   "id": "a74b52e5",
   "metadata": {
    "ExecuteTime": {
     "end_time": "2022-06-30T07:31:26.695149Z",
     "start_time": "2022-06-30T07:31:26.477780Z"
>>>>>>> upstream/main
    }
   },
   "outputs": [
    {
     "data": {
      "text/plain": [
<<<<<<< HEAD
       "<AxesSubplot:xlabel='completed_at', ylabel='transaction_amount'>"
      ]
     },
     "execution_count": 27,
=======
       "<AxesSubplot:xlabel='Hour', ylabel='count'>"
      ]
     },
     "execution_count": 82,
>>>>>>> upstream/main
     "metadata": {},
     "output_type": "execute_result"
    },
    {
     "data": {
<<<<<<< HEAD
      "image/png": "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\n",
      "text/plain": [
       "<Figure size 720x504 with 1 Axes>"
=======
      "image/png": "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\n",
      "text/plain": [
       "<Figure size 432x288 with 1 Axes>"
>>>>>>> upstream/main
      ]
     },
     "metadata": {},
     "output_type": "display_data"
    }
   ],
   "source": [
    "sns.set_style('whitegrid')\n",
<<<<<<< HEAD
    "plt.figure(figsize=(10,7))\n",
    "sns.lineplot(data=sum_hour, x=\"completed_at\", y ='transaction_amount')"
=======
    "sns.countplot(data=df, x=\"Hour\")"
>>>>>>> upstream/main
   ]
  },
  {
   "cell_type": "markdown",
   "id": "76df6b3b",
   "metadata": {},
   "source": [
    "### 요일별 매출 그래프"
   ]
  },
  {
   "cell_type": "code",
<<<<<<< HEAD
   "execution_count": 89,
   "id": "9122db61",
   "metadata": {
    "ExecuteTime": {
     "end_time": "2022-07-01T07:19:17.720834Z",
     "start_time": "2022-07-01T07:19:17.677126Z"
=======
   "execution_count": 71,
   "id": "9122db61",
   "metadata": {
    "ExecuteTime": {
     "end_time": "2022-06-30T06:08:38.324957Z",
     "start_time": "2022-06-30T06:08:38.276850Z"
>>>>>>> upstream/main
    }
   },
   "outputs": [],
   "source": [
    "df['Weekday'] = df['completed_at'].dt.day_name()"
   ]
  },
  {
   "cell_type": "code",
<<<<<<< HEAD
   "execution_count": 131,
   "id": "19fbbb3d",
   "metadata": {
    "ExecuteTime": {
     "end_time": "2022-06-30T10:57:06.812762Z",
     "start_time": "2022-06-30T10:57:06.807096Z"
=======
   "execution_count": 74,
   "id": "19fbbb3d",
   "metadata": {
    "ExecuteTime": {
     "end_time": "2022-06-30T06:09:42.981690Z",
     "start_time": "2022-06-30T06:09:42.976664Z"
>>>>>>> upstream/main
    }
   },
   "outputs": [],
   "source": [
    "# df"
   ]
  },
  {
   "cell_type": "code",
<<<<<<< HEAD
   "execution_count": 180,
   "id": "2fca98bf",
   "metadata": {
    "ExecuteTime": {
     "end_time": "2022-06-30T11:27:08.619861Z",
     "start_time": "2022-06-30T11:27:07.593703Z"
    },
    "scrolled": false
=======
   "execution_count": 73,
   "id": "2fca98bf",
   "metadata": {
    "ExecuteTime": {
     "end_time": "2022-06-30T06:09:32.583599Z",
     "start_time": "2022-06-30T06:09:32.407320Z"
    }
>>>>>>> upstream/main
   },
   "outputs": [
    {
     "data": {
      "text/plain": [
<<<<<<< HEAD
       "<AxesSubplot:xlabel='Weekday', ylabel='transaction_amount'>"
      ]
     },
     "execution_count": 180,
=======
       "<AxesSubplot:xlabel='Weekday', ylabel='count'>"
      ]
     },
     "execution_count": 73,
>>>>>>> upstream/main
     "metadata": {},
     "output_type": "execute_result"
    },
    {
     "data": {
<<<<<<< HEAD
      "image/png": "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\n",
      "text/plain": [
       "<Figure size 720x504 with 1 Axes>"
=======
      "image/png": "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\n",
      "text/plain": [
       "<Figure size 432x288 with 1 Axes>"
>>>>>>> upstream/main
      ]
     },
     "metadata": {},
     "output_type": "display_data"
    }
   ],
   "source": [
<<<<<<< HEAD
    "plt.figure(figsize=(10,7))\n",
    "sns.barplot(data=df, x=\"Weekday\", y = 'transaction_amount')"
=======
    "sns.countplot(data=df, x=\"Weekday\")"
>>>>>>> upstream/main
   ]
  },
  {
   "cell_type": "markdown",
   "id": "e34b2c8e",
   "metadata": {},
   "source": [
    "### 일별 매출 그래프"
   ]
  },
  {
   "cell_type": "code",
<<<<<<< HEAD
   "execution_count": 96,
   "id": "3698e124",
   "metadata": {
    "ExecuteTime": {
     "end_time": "2022-07-01T07:21:47.882940Z",
     "start_time": "2022-07-01T07:21:47.727065Z"
    }
   },
   "outputs": [
    {
     "name": "stdout",
     "output_type": "stream",
     "text": [
      "<class 'pandas.core.frame.DataFrame'>\n",
      "RangeIndex: 101102 entries, 0 to 101101\n",
      "Data columns (total 24 columns):\n",
      " #   Column                  Non-Null Count   Dtype         \n",
      "---  ------                  --------------   -----         \n",
      " 0   Unnamed: 0              101102 non-null  int64         \n",
      " 1   id                      101102 non-null  int64         \n",
      " 2   customer_id             101102 non-null  int64         \n",
      " 3   course_id               101102 non-null  int64         \n",
      " 4   type                    101102 non-null  object        \n",
      " 5   state                   101102 non-null  object        \n",
      " 6   course_title            101102 non-null  object        \n",
      " 7   category_title          101102 non-null  object        \n",
      " 8   format                  101102 non-null  object        \n",
      " 9   completed_at            101102 non-null  datetime64[ns]\n",
      " 10  transaction_amount      101102 non-null  int64         \n",
      " 11  coupon_title            101102 non-null  object        \n",
      " 12  coupon_discount_amount  101102 non-null  int64         \n",
      " 13  sale_price              101102 non-null  int64         \n",
      " 14  pg                      101102 non-null  object        \n",
      " 15  method                  101102 non-null  object        \n",
      " 16  subcategory_title       101102 non-null  object        \n",
      " 17  marketing_start_at      101102 non-null  object        \n",
      " 18  Year                    101102 non-null  int64         \n",
      " 19  Month                   101102 non-null  int64         \n",
      " 20  Day                     101102 non-null  int64         \n",
      " 21  Hour                    101102 non-null  int64         \n",
      " 22  Weekday                 101102 non-null  object        \n",
      " 23  m-d                     101102 non-null  object        \n",
      "dtypes: datetime64[ns](1), int64(11), object(12)\n",
      "memory usage: 18.5+ MB\n"
     ]
    }
   ],
   "source": [
    "df.info()"
   ]
  },
  {
   "cell_type": "code",
   "execution_count": 191,
   "id": "97e6ad6b",
   "metadata": {
    "ExecuteTime": {
     "end_time": "2022-06-30T11:48:19.045061Z",
     "start_time": "2022-06-30T11:48:19.039403Z"
    }
   },
   "outputs": [],
   "source": [
    "# df['day_month'] = pd.to_datetime(df[\"Month\"] + \"/\" + df[\"Day\"])"
   ]
  },
  {
   "cell_type": "code",
   "execution_count": 201,
   "id": "26a40c8d",
   "metadata": {
    "ExecuteTime": {
     "end_time": "2022-06-30T11:55:51.336261Z",
     "start_time": "2022-06-30T11:55:51.327577Z"
    }
   },
   "outputs": [],
   "source": [
    "# df['day_month'] = pd.to_datetime(df.day_month).dt.strftime('%m%d')"
   ]
  },
  {
   "cell_type": "code",
   "execution_count": 95,
   "id": "2556d7e3",
   "metadata": {
    "ExecuteTime": {
     "end_time": "2022-07-01T07:21:44.840520Z",
     "start_time": "2022-07-01T07:21:44.437531Z"
    }
   },
   "outputs": [],
   "source": [
    "df['m-d'] = df['completed_at'].dt.strftime('%m%d')"
   ]
  },
  {
   "cell_type": "code",
   "execution_count": 208,
   "id": "3fb74997",
   "metadata": {
    "ExecuteTime": {
     "end_time": "2022-06-30T11:58:28.985760Z",
     "start_time": "2022-06-30T11:58:28.980888Z"
    }
   },
   "outputs": [],
   "source": [
    "# df"
   ]
  },
  {
   "cell_type": "code",
   "execution_count": 91,
   "id": "154ba988",
   "metadata": {
    "ExecuteTime": {
     "end_time": "2022-07-01T07:19:25.699473Z",
     "start_time": "2022-07-01T07:19:25.489710Z"
    }
   },
   "outputs": [
    {
     "data": {
      "text/plain": [
       "<AxesSubplot:xlabel='Day', ylabel='count'>"
      ]
     },
     "execution_count": 91,
     "metadata": {},
     "output_type": "execute_result"
    },
    {
     "data": {
      "image/png": "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\n",
      "text/plain": [
       "<Figure size 864x648 with 1 Axes>"
      ]
     },
     "metadata": {},
     "output_type": "display_data"
    }
   ],
   "source": [
    "plt.figure(figsize=(12,9))\n",
    "sns.countplot(data=df, x='Day')"
   ]
  },
  {
   "cell_type": "code",
   "execution_count": 93,
   "id": "d2895b09",
   "metadata": {
    "ExecuteTime": {
     "end_time": "2022-07-01T07:19:51.862745Z",
     "start_time": "2022-07-01T07:19:48.133205Z"
=======
   "execution_count": 76,
   "id": "d2895b09",
   "metadata": {
    "ExecuteTime": {
     "end_time": "2022-06-30T06:10:10.523748Z",
     "start_time": "2022-06-30T06:10:10.320149Z"
>>>>>>> upstream/main
    }
   },
   "outputs": [
    {
<<<<<<< HEAD
     "name": "stderr",
     "output_type": "stream",
     "text": [
      "/opt/anaconda3/lib/python3.9/site-packages/numpy/lib/nanfunctions.py:1374: RuntimeWarning: All-NaN slice encountered\n",
      "  r, k = function_base._ureduce(\n",
      "/opt/anaconda3/lib/python3.9/site-packages/numpy/lib/nanfunctions.py:1374: RuntimeWarning: All-NaN slice encountered\n",
      "  r, k = function_base._ureduce(\n",
      "/opt/anaconda3/lib/python3.9/site-packages/numpy/lib/nanfunctions.py:1374: RuntimeWarning: All-NaN slice encountered\n",
      "  r, k = function_base._ureduce(\n",
      "/opt/anaconda3/lib/python3.9/site-packages/numpy/lib/nanfunctions.py:1374: RuntimeWarning: All-NaN slice encountered\n",
      "  r, k = function_base._ureduce(\n",
      "/opt/anaconda3/lib/python3.9/site-packages/numpy/lib/nanfunctions.py:1374: RuntimeWarning: All-NaN slice encountered\n",
      "  r, k = function_base._ureduce(\n",
      "/opt/anaconda3/lib/python3.9/site-packages/numpy/lib/nanfunctions.py:1374: RuntimeWarning: All-NaN slice encountered\n",
      "  r, k = function_base._ureduce(\n",
      "/opt/anaconda3/lib/python3.9/site-packages/numpy/lib/nanfunctions.py:1374: RuntimeWarning: All-NaN slice encountered\n",
      "  r, k = function_base._ureduce(\n",
      "/opt/anaconda3/lib/python3.9/site-packages/numpy/lib/nanfunctions.py:1374: RuntimeWarning: All-NaN slice encountered\n",
      "  r, k = function_base._ureduce(\n",
      "/opt/anaconda3/lib/python3.9/site-packages/numpy/lib/nanfunctions.py:1374: RuntimeWarning: All-NaN slice encountered\n",
      "  r, k = function_base._ureduce(\n",
      "/opt/anaconda3/lib/python3.9/site-packages/numpy/lib/nanfunctions.py:1374: RuntimeWarning: All-NaN slice encountered\n",
      "  r, k = function_base._ureduce(\n",
      "/opt/anaconda3/lib/python3.9/site-packages/numpy/lib/nanfunctions.py:1374: RuntimeWarning: All-NaN slice encountered\n",
      "  r, k = function_base._ureduce(\n",
      "/opt/anaconda3/lib/python3.9/site-packages/numpy/lib/nanfunctions.py:1374: RuntimeWarning: All-NaN slice encountered\n",
      "  r, k = function_base._ureduce(\n",
      "/opt/anaconda3/lib/python3.9/site-packages/numpy/lib/nanfunctions.py:1374: RuntimeWarning: All-NaN slice encountered\n",
      "  r, k = function_base._ureduce(\n",
      "/opt/anaconda3/lib/python3.9/site-packages/numpy/lib/nanfunctions.py:1374: RuntimeWarning: All-NaN slice encountered\n",
      "  r, k = function_base._ureduce(\n",
      "/opt/anaconda3/lib/python3.9/site-packages/numpy/lib/nanfunctions.py:1374: RuntimeWarning: All-NaN slice encountered\n",
      "  r, k = function_base._ureduce(\n",
      "/opt/anaconda3/lib/python3.9/site-packages/numpy/lib/nanfunctions.py:1374: RuntimeWarning: All-NaN slice encountered\n",
      "  r, k = function_base._ureduce(\n",
      "/opt/anaconda3/lib/python3.9/site-packages/numpy/lib/nanfunctions.py:1374: RuntimeWarning: All-NaN slice encountered\n",
      "  r, k = function_base._ureduce(\n",
      "/opt/anaconda3/lib/python3.9/site-packages/numpy/lib/nanfunctions.py:1374: RuntimeWarning: All-NaN slice encountered\n",
      "  r, k = function_base._ureduce(\n",
      "/opt/anaconda3/lib/python3.9/site-packages/numpy/lib/nanfunctions.py:1374: RuntimeWarning: All-NaN slice encountered\n",
      "  r, k = function_base._ureduce(\n",
      "/opt/anaconda3/lib/python3.9/site-packages/numpy/lib/nanfunctions.py:1374: RuntimeWarning: All-NaN slice encountered\n",
      "  r, k = function_base._ureduce(\n",
      "/opt/anaconda3/lib/python3.9/site-packages/numpy/lib/nanfunctions.py:1374: RuntimeWarning: All-NaN slice encountered\n",
      "  r, k = function_base._ureduce(\n",
      "/opt/anaconda3/lib/python3.9/site-packages/numpy/lib/nanfunctions.py:1374: RuntimeWarning: All-NaN slice encountered\n",
      "  r, k = function_base._ureduce(\n",
      "/opt/anaconda3/lib/python3.9/site-packages/numpy/lib/nanfunctions.py:1374: RuntimeWarning: All-NaN slice encountered\n",
      "  r, k = function_base._ureduce(\n",
      "/opt/anaconda3/lib/python3.9/site-packages/numpy/lib/nanfunctions.py:1374: RuntimeWarning: All-NaN slice encountered\n",
      "  r, k = function_base._ureduce(\n",
      "/opt/anaconda3/lib/python3.9/site-packages/numpy/lib/nanfunctions.py:1374: RuntimeWarning: All-NaN slice encountered\n",
      "  r, k = function_base._ureduce(\n",
      "/opt/anaconda3/lib/python3.9/site-packages/numpy/lib/nanfunctions.py:1374: RuntimeWarning: All-NaN slice encountered\n",
      "  r, k = function_base._ureduce(\n",
      "/opt/anaconda3/lib/python3.9/site-packages/numpy/lib/nanfunctions.py:1374: RuntimeWarning: All-NaN slice encountered\n",
      "  r, k = function_base._ureduce(\n",
      "/opt/anaconda3/lib/python3.9/site-packages/numpy/lib/nanfunctions.py:1374: RuntimeWarning: All-NaN slice encountered\n",
      "  r, k = function_base._ureduce(\n",
      "/opt/anaconda3/lib/python3.9/site-packages/numpy/lib/nanfunctions.py:1374: RuntimeWarning: All-NaN slice encountered\n",
      "  r, k = function_base._ureduce(\n",
      "/opt/anaconda3/lib/python3.9/site-packages/numpy/lib/nanfunctions.py:1374: RuntimeWarning: All-NaN slice encountered\n",
      "  r, k = function_base._ureduce(\n",
      "/opt/anaconda3/lib/python3.9/site-packages/numpy/lib/nanfunctions.py:1374: RuntimeWarning: All-NaN slice encountered\n",
      "  r, k = function_base._ureduce(\n",
      "/opt/anaconda3/lib/python3.9/site-packages/numpy/lib/nanfunctions.py:1374: RuntimeWarning: All-NaN slice encountered\n",
      "  r, k = function_base._ureduce(\n",
      "/opt/anaconda3/lib/python3.9/site-packages/numpy/lib/nanfunctions.py:1374: RuntimeWarning: All-NaN slice encountered\n",
      "  r, k = function_base._ureduce(\n",
      "/opt/anaconda3/lib/python3.9/site-packages/numpy/lib/nanfunctions.py:1374: RuntimeWarning: All-NaN slice encountered\n",
      "  r, k = function_base._ureduce(\n",
      "/opt/anaconda3/lib/python3.9/site-packages/numpy/lib/nanfunctions.py:1374: RuntimeWarning: All-NaN slice encountered\n",
      "  r, k = function_base._ureduce(\n",
      "/opt/anaconda3/lib/python3.9/site-packages/numpy/lib/nanfunctions.py:1374: RuntimeWarning: All-NaN slice encountered\n",
      "  r, k = function_base._ureduce(\n",
      "/opt/anaconda3/lib/python3.9/site-packages/numpy/lib/nanfunctions.py:1374: RuntimeWarning: All-NaN slice encountered\n",
      "  r, k = function_base._ureduce(\n",
      "/opt/anaconda3/lib/python3.9/site-packages/numpy/lib/nanfunctions.py:1374: RuntimeWarning: All-NaN slice encountered\n",
      "  r, k = function_base._ureduce(\n",
      "/opt/anaconda3/lib/python3.9/site-packages/numpy/lib/nanfunctions.py:1374: RuntimeWarning: All-NaN slice encountered\n",
      "  r, k = function_base._ureduce(\n",
      "/opt/anaconda3/lib/python3.9/site-packages/numpy/lib/nanfunctions.py:1374: RuntimeWarning: All-NaN slice encountered\n",
      "  r, k = function_base._ureduce(\n",
      "/opt/anaconda3/lib/python3.9/site-packages/numpy/lib/nanfunctions.py:1374: RuntimeWarning: All-NaN slice encountered\n",
      "  r, k = function_base._ureduce(\n",
      "/opt/anaconda3/lib/python3.9/site-packages/numpy/lib/nanfunctions.py:1374: RuntimeWarning: All-NaN slice encountered\n",
      "  r, k = function_base._ureduce(\n",
      "/opt/anaconda3/lib/python3.9/site-packages/numpy/lib/nanfunctions.py:1374: RuntimeWarning: All-NaN slice encountered\n",
      "  r, k = function_base._ureduce(\n",
      "/opt/anaconda3/lib/python3.9/site-packages/numpy/lib/nanfunctions.py:1374: RuntimeWarning: All-NaN slice encountered\n",
      "  r, k = function_base._ureduce(\n",
      "/opt/anaconda3/lib/python3.9/site-packages/numpy/lib/nanfunctions.py:1374: RuntimeWarning: All-NaN slice encountered\n",
      "  r, k = function_base._ureduce(\n",
      "/opt/anaconda3/lib/python3.9/site-packages/numpy/lib/nanfunctions.py:1374: RuntimeWarning: All-NaN slice encountered\n",
      "  r, k = function_base._ureduce(\n",
      "/opt/anaconda3/lib/python3.9/site-packages/numpy/lib/nanfunctions.py:1374: RuntimeWarning: All-NaN slice encountered\n",
      "  r, k = function_base._ureduce(\n",
      "/opt/anaconda3/lib/python3.9/site-packages/numpy/lib/nanfunctions.py:1374: RuntimeWarning: All-NaN slice encountered\n",
      "  r, k = function_base._ureduce(\n",
      "/opt/anaconda3/lib/python3.9/site-packages/numpy/lib/nanfunctions.py:1374: RuntimeWarning: All-NaN slice encountered\n",
      "  r, k = function_base._ureduce(\n",
      "/opt/anaconda3/lib/python3.9/site-packages/numpy/lib/nanfunctions.py:1374: RuntimeWarning: All-NaN slice encountered\n",
      "  r, k = function_base._ureduce(\n",
      "/opt/anaconda3/lib/python3.9/site-packages/numpy/lib/nanfunctions.py:1374: RuntimeWarning: All-NaN slice encountered\n",
      "  r, k = function_base._ureduce(\n",
      "/opt/anaconda3/lib/python3.9/site-packages/numpy/lib/nanfunctions.py:1374: RuntimeWarning: All-NaN slice encountered\n",
      "  r, k = function_base._ureduce(\n",
      "/opt/anaconda3/lib/python3.9/site-packages/numpy/lib/nanfunctions.py:1374: RuntimeWarning: All-NaN slice encountered\n",
      "  r, k = function_base._ureduce(\n",
      "/opt/anaconda3/lib/python3.9/site-packages/numpy/lib/nanfunctions.py:1374: RuntimeWarning: All-NaN slice encountered\n",
      "  r, k = function_base._ureduce(\n",
      "/opt/anaconda3/lib/python3.9/site-packages/numpy/lib/nanfunctions.py:1374: RuntimeWarning: All-NaN slice encountered\n",
      "  r, k = function_base._ureduce(\n",
      "/opt/anaconda3/lib/python3.9/site-packages/numpy/lib/nanfunctions.py:1374: RuntimeWarning: All-NaN slice encountered\n",
      "  r, k = function_base._ureduce(\n",
      "/opt/anaconda3/lib/python3.9/site-packages/numpy/lib/nanfunctions.py:1374: RuntimeWarning: All-NaN slice encountered\n",
      "  r, k = function_base._ureduce(\n",
      "/opt/anaconda3/lib/python3.9/site-packages/numpy/lib/nanfunctions.py:1374: RuntimeWarning: All-NaN slice encountered\n",
      "  r, k = function_base._ureduce(\n",
      "/opt/anaconda3/lib/python3.9/site-packages/numpy/lib/nanfunctions.py:1374: RuntimeWarning: All-NaN slice encountered\n",
      "  r, k = function_base._ureduce(\n",
      "/opt/anaconda3/lib/python3.9/site-packages/numpy/lib/nanfunctions.py:1374: RuntimeWarning: All-NaN slice encountered\n",
      "  r, k = function_base._ureduce(\n",
      "/opt/anaconda3/lib/python3.9/site-packages/numpy/lib/nanfunctions.py:1374: RuntimeWarning: All-NaN slice encountered\n",
      "  r, k = function_base._ureduce(\n",
      "/opt/anaconda3/lib/python3.9/site-packages/numpy/lib/nanfunctions.py:1374: RuntimeWarning: All-NaN slice encountered\n",
      "  r, k = function_base._ureduce(\n"
     ]
    },
    {
     "name": "stderr",
     "output_type": "stream",
     "text": [
      "/opt/anaconda3/lib/python3.9/site-packages/numpy/lib/nanfunctions.py:1374: RuntimeWarning: All-NaN slice encountered\n",
      "  r, k = function_base._ureduce(\n",
      "/opt/anaconda3/lib/python3.9/site-packages/numpy/lib/nanfunctions.py:1374: RuntimeWarning: All-NaN slice encountered\n",
      "  r, k = function_base._ureduce(\n",
      "/opt/anaconda3/lib/python3.9/site-packages/numpy/lib/nanfunctions.py:1374: RuntimeWarning: All-NaN slice encountered\n",
      "  r, k = function_base._ureduce(\n",
      "/opt/anaconda3/lib/python3.9/site-packages/numpy/lib/nanfunctions.py:1374: RuntimeWarning: All-NaN slice encountered\n",
      "  r, k = function_base._ureduce(\n",
      "/opt/anaconda3/lib/python3.9/site-packages/numpy/lib/nanfunctions.py:1374: RuntimeWarning: All-NaN slice encountered\n",
      "  r, k = function_base._ureduce(\n",
      "/opt/anaconda3/lib/python3.9/site-packages/numpy/lib/nanfunctions.py:1374: RuntimeWarning: All-NaN slice encountered\n",
      "  r, k = function_base._ureduce(\n",
      "/opt/anaconda3/lib/python3.9/site-packages/numpy/lib/nanfunctions.py:1374: RuntimeWarning: All-NaN slice encountered\n",
      "  r, k = function_base._ureduce(\n",
      "/opt/anaconda3/lib/python3.9/site-packages/numpy/lib/nanfunctions.py:1374: RuntimeWarning: All-NaN slice encountered\n",
      "  r, k = function_base._ureduce(\n",
      "/opt/anaconda3/lib/python3.9/site-packages/numpy/lib/nanfunctions.py:1374: RuntimeWarning: All-NaN slice encountered\n",
      "  r, k = function_base._ureduce(\n",
      "/opt/anaconda3/lib/python3.9/site-packages/numpy/lib/nanfunctions.py:1374: RuntimeWarning: All-NaN slice encountered\n",
      "  r, k = function_base._ureduce(\n",
      "/opt/anaconda3/lib/python3.9/site-packages/numpy/lib/nanfunctions.py:1374: RuntimeWarning: All-NaN slice encountered\n",
      "  r, k = function_base._ureduce(\n",
      "/opt/anaconda3/lib/python3.9/site-packages/numpy/lib/nanfunctions.py:1374: RuntimeWarning: All-NaN slice encountered\n",
      "  r, k = function_base._ureduce(\n",
      "/opt/anaconda3/lib/python3.9/site-packages/numpy/lib/nanfunctions.py:1374: RuntimeWarning: All-NaN slice encountered\n",
      "  r, k = function_base._ureduce(\n",
      "/opt/anaconda3/lib/python3.9/site-packages/numpy/lib/nanfunctions.py:1374: RuntimeWarning: All-NaN slice encountered\n",
      "  r, k = function_base._ureduce(\n",
      "/opt/anaconda3/lib/python3.9/site-packages/numpy/lib/nanfunctions.py:1374: RuntimeWarning: All-NaN slice encountered\n",
      "  r, k = function_base._ureduce(\n",
      "/opt/anaconda3/lib/python3.9/site-packages/numpy/lib/nanfunctions.py:1374: RuntimeWarning: All-NaN slice encountered\n",
      "  r, k = function_base._ureduce(\n",
      "/opt/anaconda3/lib/python3.9/site-packages/numpy/lib/nanfunctions.py:1374: RuntimeWarning: All-NaN slice encountered\n",
      "  r, k = function_base._ureduce(\n",
      "/opt/anaconda3/lib/python3.9/site-packages/numpy/lib/nanfunctions.py:1374: RuntimeWarning: All-NaN slice encountered\n",
      "  r, k = function_base._ureduce(\n",
      "/opt/anaconda3/lib/python3.9/site-packages/numpy/lib/nanfunctions.py:1374: RuntimeWarning: All-NaN slice encountered\n",
      "  r, k = function_base._ureduce(\n",
      "/opt/anaconda3/lib/python3.9/site-packages/numpy/lib/nanfunctions.py:1374: RuntimeWarning: All-NaN slice encountered\n",
      "  r, k = function_base._ureduce(\n",
      "/opt/anaconda3/lib/python3.9/site-packages/numpy/lib/nanfunctions.py:1374: RuntimeWarning: All-NaN slice encountered\n",
      "  r, k = function_base._ureduce(\n",
      "/opt/anaconda3/lib/python3.9/site-packages/numpy/lib/nanfunctions.py:1374: RuntimeWarning: All-NaN slice encountered\n",
      "  r, k = function_base._ureduce(\n",
      "/opt/anaconda3/lib/python3.9/site-packages/numpy/lib/nanfunctions.py:1374: RuntimeWarning: All-NaN slice encountered\n",
      "  r, k = function_base._ureduce(\n",
      "/opt/anaconda3/lib/python3.9/site-packages/numpy/lib/nanfunctions.py:1374: RuntimeWarning: All-NaN slice encountered\n",
      "  r, k = function_base._ureduce(\n",
      "/opt/anaconda3/lib/python3.9/site-packages/numpy/lib/nanfunctions.py:1374: RuntimeWarning: All-NaN slice encountered\n",
      "  r, k = function_base._ureduce(\n",
      "/opt/anaconda3/lib/python3.9/site-packages/numpy/lib/nanfunctions.py:1374: RuntimeWarning: All-NaN slice encountered\n",
      "  r, k = function_base._ureduce(\n",
      "/opt/anaconda3/lib/python3.9/site-packages/numpy/lib/nanfunctions.py:1374: RuntimeWarning: All-NaN slice encountered\n",
      "  r, k = function_base._ureduce(\n",
      "/opt/anaconda3/lib/python3.9/site-packages/numpy/lib/nanfunctions.py:1374: RuntimeWarning: All-NaN slice encountered\n",
      "  r, k = function_base._ureduce(\n",
      "/opt/anaconda3/lib/python3.9/site-packages/numpy/lib/nanfunctions.py:1374: RuntimeWarning: All-NaN slice encountered\n",
      "  r, k = function_base._ureduce(\n",
      "/opt/anaconda3/lib/python3.9/site-packages/numpy/lib/nanfunctions.py:1374: RuntimeWarning: All-NaN slice encountered\n",
      "  r, k = function_base._ureduce(\n",
      "/opt/anaconda3/lib/python3.9/site-packages/numpy/lib/nanfunctions.py:1374: RuntimeWarning: All-NaN slice encountered\n",
      "  r, k = function_base._ureduce(\n",
      "/opt/anaconda3/lib/python3.9/site-packages/numpy/lib/nanfunctions.py:1374: RuntimeWarning: All-NaN slice encountered\n",
      "  r, k = function_base._ureduce(\n",
      "/opt/anaconda3/lib/python3.9/site-packages/numpy/lib/nanfunctions.py:1374: RuntimeWarning: All-NaN slice encountered\n",
      "  r, k = function_base._ureduce(\n",
      "/opt/anaconda3/lib/python3.9/site-packages/numpy/lib/nanfunctions.py:1374: RuntimeWarning: All-NaN slice encountered\n",
      "  r, k = function_base._ureduce(\n",
      "/opt/anaconda3/lib/python3.9/site-packages/numpy/lib/nanfunctions.py:1374: RuntimeWarning: All-NaN slice encountered\n",
      "  r, k = function_base._ureduce(\n",
      "/opt/anaconda3/lib/python3.9/site-packages/numpy/lib/nanfunctions.py:1374: RuntimeWarning: All-NaN slice encountered\n",
      "  r, k = function_base._ureduce(\n",
      "/opt/anaconda3/lib/python3.9/site-packages/numpy/lib/nanfunctions.py:1374: RuntimeWarning: All-NaN slice encountered\n",
      "  r, k = function_base._ureduce(\n",
      "/opt/anaconda3/lib/python3.9/site-packages/numpy/lib/nanfunctions.py:1374: RuntimeWarning: All-NaN slice encountered\n",
      "  r, k = function_base._ureduce(\n",
      "/opt/anaconda3/lib/python3.9/site-packages/numpy/lib/nanfunctions.py:1374: RuntimeWarning: All-NaN slice encountered\n",
      "  r, k = function_base._ureduce(\n",
      "/opt/anaconda3/lib/python3.9/site-packages/numpy/lib/nanfunctions.py:1374: RuntimeWarning: All-NaN slice encountered\n",
      "  r, k = function_base._ureduce(\n",
      "/opt/anaconda3/lib/python3.9/site-packages/numpy/lib/nanfunctions.py:1374: RuntimeWarning: All-NaN slice encountered\n",
      "  r, k = function_base._ureduce(\n",
      "/opt/anaconda3/lib/python3.9/site-packages/numpy/lib/nanfunctions.py:1374: RuntimeWarning: All-NaN slice encountered\n",
      "  r, k = function_base._ureduce(\n",
      "/opt/anaconda3/lib/python3.9/site-packages/numpy/lib/nanfunctions.py:1374: RuntimeWarning: All-NaN slice encountered\n",
      "  r, k = function_base._ureduce(\n",
      "/opt/anaconda3/lib/python3.9/site-packages/numpy/lib/nanfunctions.py:1374: RuntimeWarning: All-NaN slice encountered\n",
      "  r, k = function_base._ureduce(\n",
      "/opt/anaconda3/lib/python3.9/site-packages/numpy/lib/nanfunctions.py:1374: RuntimeWarning: All-NaN slice encountered\n",
      "  r, k = function_base._ureduce(\n",
      "/opt/anaconda3/lib/python3.9/site-packages/numpy/lib/nanfunctions.py:1374: RuntimeWarning: All-NaN slice encountered\n",
      "  r, k = function_base._ureduce(\n",
      "/opt/anaconda3/lib/python3.9/site-packages/numpy/lib/nanfunctions.py:1374: RuntimeWarning: All-NaN slice encountered\n",
      "  r, k = function_base._ureduce(\n",
      "/opt/anaconda3/lib/python3.9/site-packages/numpy/lib/nanfunctions.py:1374: RuntimeWarning: All-NaN slice encountered\n",
      "  r, k = function_base._ureduce(\n",
      "/opt/anaconda3/lib/python3.9/site-packages/numpy/lib/nanfunctions.py:1374: RuntimeWarning: All-NaN slice encountered\n",
      "  r, k = function_base._ureduce(\n",
      "/opt/anaconda3/lib/python3.9/site-packages/numpy/lib/nanfunctions.py:1374: RuntimeWarning: All-NaN slice encountered\n",
      "  r, k = function_base._ureduce(\n",
      "/opt/anaconda3/lib/python3.9/site-packages/numpy/lib/nanfunctions.py:1374: RuntimeWarning: All-NaN slice encountered\n",
      "  r, k = function_base._ureduce(\n",
      "/opt/anaconda3/lib/python3.9/site-packages/numpy/lib/nanfunctions.py:1374: RuntimeWarning: All-NaN slice encountered\n",
      "  r, k = function_base._ureduce(\n",
      "/opt/anaconda3/lib/python3.9/site-packages/numpy/lib/nanfunctions.py:1374: RuntimeWarning: All-NaN slice encountered\n",
      "  r, k = function_base._ureduce(\n",
      "/opt/anaconda3/lib/python3.9/site-packages/numpy/lib/nanfunctions.py:1374: RuntimeWarning: All-NaN slice encountered\n",
      "  r, k = function_base._ureduce(\n",
      "/opt/anaconda3/lib/python3.9/site-packages/numpy/lib/nanfunctions.py:1374: RuntimeWarning: All-NaN slice encountered\n",
      "  r, k = function_base._ureduce(\n",
      "/opt/anaconda3/lib/python3.9/site-packages/numpy/lib/nanfunctions.py:1374: RuntimeWarning: All-NaN slice encountered\n",
      "  r, k = function_base._ureduce(\n",
      "/opt/anaconda3/lib/python3.9/site-packages/numpy/lib/nanfunctions.py:1374: RuntimeWarning: All-NaN slice encountered\n",
      "  r, k = function_base._ureduce(\n",
      "/opt/anaconda3/lib/python3.9/site-packages/numpy/lib/nanfunctions.py:1374: RuntimeWarning: All-NaN slice encountered\n",
      "  r, k = function_base._ureduce(\n",
      "/opt/anaconda3/lib/python3.9/site-packages/numpy/lib/nanfunctions.py:1374: RuntimeWarning: All-NaN slice encountered\n",
      "  r, k = function_base._ureduce(\n",
      "/opt/anaconda3/lib/python3.9/site-packages/numpy/lib/nanfunctions.py:1374: RuntimeWarning: All-NaN slice encountered\n",
      "  r, k = function_base._ureduce(\n",
      "/opt/anaconda3/lib/python3.9/site-packages/numpy/lib/nanfunctions.py:1374: RuntimeWarning: All-NaN slice encountered\n",
      "  r, k = function_base._ureduce(\n",
      "/opt/anaconda3/lib/python3.9/site-packages/numpy/lib/nanfunctions.py:1374: RuntimeWarning: All-NaN slice encountered\n",
      "  r, k = function_base._ureduce(\n",
      "/opt/anaconda3/lib/python3.9/site-packages/numpy/lib/nanfunctions.py:1374: RuntimeWarning: All-NaN slice encountered\n",
      "  r, k = function_base._ureduce(\n",
      "/opt/anaconda3/lib/python3.9/site-packages/numpy/lib/nanfunctions.py:1374: RuntimeWarning: All-NaN slice encountered\n",
      "  r, k = function_base._ureduce(\n",
      "/opt/anaconda3/lib/python3.9/site-packages/numpy/lib/nanfunctions.py:1374: RuntimeWarning: All-NaN slice encountered\n",
      "  r, k = function_base._ureduce(\n",
      "/opt/anaconda3/lib/python3.9/site-packages/numpy/lib/nanfunctions.py:1374: RuntimeWarning: All-NaN slice encountered\n",
      "  r, k = function_base._ureduce(\n"
     ]
    },
    {
     "name": "stderr",
     "output_type": "stream",
     "text": [
      "/opt/anaconda3/lib/python3.9/site-packages/numpy/lib/nanfunctions.py:1374: RuntimeWarning: All-NaN slice encountered\n",
      "  r, k = function_base._ureduce(\n",
      "/opt/anaconda3/lib/python3.9/site-packages/numpy/lib/nanfunctions.py:1374: RuntimeWarning: All-NaN slice encountered\n",
      "  r, k = function_base._ureduce(\n",
      "/opt/anaconda3/lib/python3.9/site-packages/numpy/lib/nanfunctions.py:1374: RuntimeWarning: All-NaN slice encountered\n",
      "  r, k = function_base._ureduce(\n",
      "/opt/anaconda3/lib/python3.9/site-packages/numpy/lib/nanfunctions.py:1374: RuntimeWarning: All-NaN slice encountered\n",
      "  r, k = function_base._ureduce(\n",
      "/opt/anaconda3/lib/python3.9/site-packages/numpy/lib/nanfunctions.py:1374: RuntimeWarning: All-NaN slice encountered\n",
      "  r, k = function_base._ureduce(\n",
      "/opt/anaconda3/lib/python3.9/site-packages/numpy/lib/nanfunctions.py:1374: RuntimeWarning: All-NaN slice encountered\n",
      "  r, k = function_base._ureduce(\n",
      "/opt/anaconda3/lib/python3.9/site-packages/numpy/lib/nanfunctions.py:1374: RuntimeWarning: All-NaN slice encountered\n",
      "  r, k = function_base._ureduce(\n",
      "/opt/anaconda3/lib/python3.9/site-packages/numpy/lib/nanfunctions.py:1374: RuntimeWarning: All-NaN slice encountered\n",
      "  r, k = function_base._ureduce(\n",
      "/opt/anaconda3/lib/python3.9/site-packages/numpy/lib/nanfunctions.py:1374: RuntimeWarning: All-NaN slice encountered\n",
      "  r, k = function_base._ureduce(\n",
      "/opt/anaconda3/lib/python3.9/site-packages/numpy/lib/nanfunctions.py:1374: RuntimeWarning: All-NaN slice encountered\n",
      "  r, k = function_base._ureduce(\n",
      "/opt/anaconda3/lib/python3.9/site-packages/numpy/lib/nanfunctions.py:1374: RuntimeWarning: All-NaN slice encountered\n",
      "  r, k = function_base._ureduce(\n",
      "/opt/anaconda3/lib/python3.9/site-packages/numpy/lib/nanfunctions.py:1374: RuntimeWarning: All-NaN slice encountered\n",
      "  r, k = function_base._ureduce(\n",
      "/opt/anaconda3/lib/python3.9/site-packages/numpy/lib/nanfunctions.py:1374: RuntimeWarning: All-NaN slice encountered\n",
      "  r, k = function_base._ureduce(\n",
      "/opt/anaconda3/lib/python3.9/site-packages/numpy/lib/nanfunctions.py:1374: RuntimeWarning: All-NaN slice encountered\n",
      "  r, k = function_base._ureduce(\n",
      "/opt/anaconda3/lib/python3.9/site-packages/numpy/lib/nanfunctions.py:1374: RuntimeWarning: All-NaN slice encountered\n",
      "  r, k = function_base._ureduce(\n",
      "/opt/anaconda3/lib/python3.9/site-packages/numpy/lib/nanfunctions.py:1374: RuntimeWarning: All-NaN slice encountered\n",
      "  r, k = function_base._ureduce(\n",
      "/opt/anaconda3/lib/python3.9/site-packages/numpy/lib/nanfunctions.py:1374: RuntimeWarning: All-NaN slice encountered\n",
      "  r, k = function_base._ureduce(\n",
      "/opt/anaconda3/lib/python3.9/site-packages/numpy/lib/nanfunctions.py:1374: RuntimeWarning: All-NaN slice encountered\n",
      "  r, k = function_base._ureduce(\n",
      "/opt/anaconda3/lib/python3.9/site-packages/numpy/lib/nanfunctions.py:1374: RuntimeWarning: All-NaN slice encountered\n",
      "  r, k = function_base._ureduce(\n",
      "/opt/anaconda3/lib/python3.9/site-packages/numpy/lib/nanfunctions.py:1374: RuntimeWarning: All-NaN slice encountered\n",
      "  r, k = function_base._ureduce(\n",
      "/opt/anaconda3/lib/python3.9/site-packages/numpy/lib/nanfunctions.py:1374: RuntimeWarning: All-NaN slice encountered\n",
      "  r, k = function_base._ureduce(\n",
      "/opt/anaconda3/lib/python3.9/site-packages/numpy/lib/nanfunctions.py:1374: RuntimeWarning: All-NaN slice encountered\n",
      "  r, k = function_base._ureduce(\n",
      "/opt/anaconda3/lib/python3.9/site-packages/numpy/lib/nanfunctions.py:1374: RuntimeWarning: All-NaN slice encountered\n",
      "  r, k = function_base._ureduce(\n",
      "/opt/anaconda3/lib/python3.9/site-packages/numpy/lib/nanfunctions.py:1374: RuntimeWarning: All-NaN slice encountered\n",
      "  r, k = function_base._ureduce(\n",
      "/opt/anaconda3/lib/python3.9/site-packages/numpy/lib/nanfunctions.py:1374: RuntimeWarning: All-NaN slice encountered\n",
      "  r, k = function_base._ureduce(\n",
      "/opt/anaconda3/lib/python3.9/site-packages/numpy/lib/nanfunctions.py:1374: RuntimeWarning: All-NaN slice encountered\n",
      "  r, k = function_base._ureduce(\n",
      "/opt/anaconda3/lib/python3.9/site-packages/numpy/lib/nanfunctions.py:1374: RuntimeWarning: All-NaN slice encountered\n",
      "  r, k = function_base._ureduce(\n",
      "/opt/anaconda3/lib/python3.9/site-packages/numpy/lib/nanfunctions.py:1374: RuntimeWarning: All-NaN slice encountered\n",
      "  r, k = function_base._ureduce(\n",
      "/opt/anaconda3/lib/python3.9/site-packages/numpy/lib/nanfunctions.py:1374: RuntimeWarning: All-NaN slice encountered\n",
      "  r, k = function_base._ureduce(\n",
      "/opt/anaconda3/lib/python3.9/site-packages/numpy/lib/nanfunctions.py:1374: RuntimeWarning: All-NaN slice encountered\n",
      "  r, k = function_base._ureduce(\n",
      "/opt/anaconda3/lib/python3.9/site-packages/numpy/lib/nanfunctions.py:1374: RuntimeWarning: All-NaN slice encountered\n",
      "  r, k = function_base._ureduce(\n",
      "/opt/anaconda3/lib/python3.9/site-packages/numpy/lib/nanfunctions.py:1374: RuntimeWarning: All-NaN slice encountered\n",
      "  r, k = function_base._ureduce(\n",
      "/opt/anaconda3/lib/python3.9/site-packages/numpy/lib/nanfunctions.py:1374: RuntimeWarning: All-NaN slice encountered\n",
      "  r, k = function_base._ureduce(\n",
      "/opt/anaconda3/lib/python3.9/site-packages/numpy/lib/nanfunctions.py:1374: RuntimeWarning: All-NaN slice encountered\n",
      "  r, k = function_base._ureduce(\n",
      "/opt/anaconda3/lib/python3.9/site-packages/numpy/lib/nanfunctions.py:1374: RuntimeWarning: All-NaN slice encountered\n",
      "  r, k = function_base._ureduce(\n",
      "/opt/anaconda3/lib/python3.9/site-packages/numpy/lib/nanfunctions.py:1374: RuntimeWarning: All-NaN slice encountered\n",
      "  r, k = function_base._ureduce(\n",
      "/opt/anaconda3/lib/python3.9/site-packages/numpy/lib/nanfunctions.py:1374: RuntimeWarning: All-NaN slice encountered\n",
      "  r, k = function_base._ureduce(\n",
      "/opt/anaconda3/lib/python3.9/site-packages/numpy/lib/nanfunctions.py:1374: RuntimeWarning: All-NaN slice encountered\n",
      "  r, k = function_base._ureduce(\n",
      "/opt/anaconda3/lib/python3.9/site-packages/numpy/lib/nanfunctions.py:1374: RuntimeWarning: All-NaN slice encountered\n",
      "  r, k = function_base._ureduce(\n",
      "/opt/anaconda3/lib/python3.9/site-packages/numpy/lib/nanfunctions.py:1374: RuntimeWarning: All-NaN slice encountered\n",
      "  r, k = function_base._ureduce(\n",
      "/opt/anaconda3/lib/python3.9/site-packages/numpy/lib/nanfunctions.py:1374: RuntimeWarning: All-NaN slice encountered\n",
      "  r, k = function_base._ureduce(\n",
      "/opt/anaconda3/lib/python3.9/site-packages/numpy/lib/nanfunctions.py:1374: RuntimeWarning: All-NaN slice encountered\n",
      "  r, k = function_base._ureduce(\n",
      "/opt/anaconda3/lib/python3.9/site-packages/numpy/lib/nanfunctions.py:1374: RuntimeWarning: All-NaN slice encountered\n",
      "  r, k = function_base._ureduce(\n",
      "/opt/anaconda3/lib/python3.9/site-packages/numpy/lib/nanfunctions.py:1374: RuntimeWarning: All-NaN slice encountered\n",
      "  r, k = function_base._ureduce(\n",
      "/opt/anaconda3/lib/python3.9/site-packages/numpy/lib/nanfunctions.py:1374: RuntimeWarning: All-NaN slice encountered\n",
      "  r, k = function_base._ureduce(\n",
      "/opt/anaconda3/lib/python3.9/site-packages/numpy/lib/nanfunctions.py:1374: RuntimeWarning: All-NaN slice encountered\n",
      "  r, k = function_base._ureduce(\n",
      "/opt/anaconda3/lib/python3.9/site-packages/numpy/lib/nanfunctions.py:1374: RuntimeWarning: All-NaN slice encountered\n",
      "  r, k = function_base._ureduce(\n",
      "/opt/anaconda3/lib/python3.9/site-packages/numpy/lib/nanfunctions.py:1374: RuntimeWarning: All-NaN slice encountered\n",
      "  r, k = function_base._ureduce(\n",
      "/opt/anaconda3/lib/python3.9/site-packages/numpy/lib/nanfunctions.py:1374: RuntimeWarning: All-NaN slice encountered\n",
      "  r, k = function_base._ureduce(\n",
      "/opt/anaconda3/lib/python3.9/site-packages/numpy/lib/nanfunctions.py:1374: RuntimeWarning: All-NaN slice encountered\n",
      "  r, k = function_base._ureduce(\n",
      "/opt/anaconda3/lib/python3.9/site-packages/numpy/lib/nanfunctions.py:1374: RuntimeWarning: All-NaN slice encountered\n",
      "  r, k = function_base._ureduce(\n",
      "/opt/anaconda3/lib/python3.9/site-packages/numpy/lib/nanfunctions.py:1374: RuntimeWarning: All-NaN slice encountered\n",
      "  r, k = function_base._ureduce(\n",
      "/opt/anaconda3/lib/python3.9/site-packages/numpy/lib/nanfunctions.py:1374: RuntimeWarning: All-NaN slice encountered\n",
      "  r, k = function_base._ureduce(\n",
      "/opt/anaconda3/lib/python3.9/site-packages/numpy/lib/nanfunctions.py:1374: RuntimeWarning: All-NaN slice encountered\n",
      "  r, k = function_base._ureduce(\n"
     ]
    },
    {
     "data": {
      "text/plain": [
       "<AxesSubplot:xlabel='m-d'>"
      ]
     },
     "execution_count": 93,
=======
     "data": {
      "text/plain": [
       "<AxesSubplot:xlabel='Day', ylabel='count'>"
      ]
     },
     "execution_count": 76,
>>>>>>> upstream/main
     "metadata": {},
     "output_type": "execute_result"
    },
    {
     "data": {
<<<<<<< HEAD
      "image/png": "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\n",
      "text/plain": [
       "<Figure size 864x648 with 1 Axes>"
=======
      "image/png": "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\n",
      "text/plain": [
       "<Figure size 432x288 with 1 Axes>"
>>>>>>> upstream/main
      ]
     },
     "metadata": {},
     "output_type": "display_data"
    }
   ],
   "source": [
<<<<<<< HEAD
    "plt.figure(figsize=(12,9))\n",
    "sns.lineplot(data=df, x=\"m-d\")\n",
    "# sns.countplot(data=df, x=\"Day\")"
=======
    "sns.countplot(data=df, x=\"Day\")"
>>>>>>> upstream/main
   ]
  },
  {
   "cell_type": "markdown",
   "id": "0878ef47",
   "metadata": {},
   "source": [
    "### 주별 매출 그래프"
   ]
  },
  {
   "cell_type": "code",
<<<<<<< HEAD
   "execution_count": 193,
   "id": "822f3351",
   "metadata": {
    "ExecuteTime": {
     "end_time": "2022-06-30T11:49:24.661051Z",
     "start_time": "2022-06-30T11:49:23.283859Z"
=======
   "execution_count": 69,
   "id": "822f3351",
   "metadata": {
    "ExecuteTime": {
     "end_time": "2022-06-30T06:03:53.365641Z",
     "start_time": "2022-06-30T06:03:53.161521Z"
>>>>>>> upstream/main
    }
   },
   "outputs": [
    {
     "data": {
      "text/plain": [
<<<<<<< HEAD
       "<AxesSubplot:xlabel='day_of_week', ylabel='transaction_amount'>"
      ]
     },
     "execution_count": 193,
=======
       "<AxesSubplot:xlabel='day_of_week', ylabel='count'>"
      ]
     },
     "execution_count": 69,
>>>>>>> upstream/main
     "metadata": {},
     "output_type": "execute_result"
    },
    {
     "data": {
<<<<<<< HEAD
      "image/png": "iVBORw0KGgoAAAANSUhEUgAAAnIAAAGnCAYAAAAzNbqUAAAAOXRFWHRTb2Z0d2FyZQBNYXRwbG90bGliIHZlcnNpb24zLjUuMSwgaHR0cHM6Ly9tYXRwbG90bGliLm9yZy/YYfK9AAAACXBIWXMAAAsTAAALEwEAmpwYAAA3mUlEQVR4nO3de3gU9d3//9dmsxswCUWknErCQUwJ0JCEcKgEKFrFUg9AIZhwqKIieBMlFAyGcxHUW6H9AUas9fvLRaggiPW2xh6UW0E0kd74BS5DqIgHEChHhWwiu2Qz3z+UvQ1uwpLZzWaS5+O6vIbMzr73Pbt+Mq/M7MzYDMMwBAAAAMuJCHcDAAAAqB+CHAAAgEUR5AAAACyKIAcAAGBRBDkAAACLigx3A+Gwe/duRUVFhbsNAACAy3K73UpOTvb7WLMMclFRUUpMTAx3GwAAAJdVVlZW62McWgUAALAoghwAAIBFEeQAAAAsiiAHAABgUQQ5AAAAiyLIAQAAWBRBDgAAwKIIcgAAABZFkAMAALAoghwAAIBFEeQAAAAsiiAHAABgUQQ5AAAAiyLIAQAAWBRBDgAAwKIIcgAAAA2spKREs2bNUklJiak6kUHqBwAAAAEqKCjQgQMHVFlZqUGDBtW7DnvkAAAAGlhlZWWNaX0R5AAAACyKIAcAAGBRBDkAAACLIsgBAABYFEEOAADAoghyAAAAFkWQAwAAsCiCHAAAgEUR5AAAACyKIAcAAGBRBDkAAACLIsgBAABYFEEOAADAoghyAAAAFkWQAwAAsCiCHAAAgEUR5AAAACyKIAcAAGBRBDkAAACLIsgBAABYFEEOAADAoghyAAAAFkWQAwAAsCiCHAAAgEUR5AAAACyKIAcAAGBRBDkAAACLIsgBAABYFEEOAADAoghyAAAAQWZUeRukRqTpVwEAAEANtki7TqwpqvVx71cVvmlty7Wb8cvLvg575AAAACyKIAcAAGBRBDkAAACLIsgBAABYFEEOAADAoghyAAAAFkWQAwAAsCiCHAAAgEUF/YLAFy5cUF5eno4cOSKPx6Pp06erQ4cOmjZtmrp27SpJyszM1MiRI7Vp0yZt3LhRkZGRmj59uoYPH67z589rzpw5On36tKKjo/XEE0+oTZs22r17t5YtWya73a709HTNmDFDkrRmzRq9/fbbioyMVF5enpKSkoK9SgAAAI1S0IPcq6++qtatW+vJJ5/Ul19+qdGjR+s//uM/dPfdd2vKlCm+5U6ePKnCwkJt2bJFbrdbWVlZGjx4sDZs2KCEhARlZ2erqKhI+fn5mj9/vhYtWqTVq1crLi5OU6dOVWlpqSRp586d2rx5s44dO6bs7Gxt2bIl2KsEAADQKAU9yN1yyy0aMWKE72e73a4PP/xQn376qbZu3aouXbooLy9Pe/fuVUpKipxOp5xOp+Lj47V//37t2rVL9957ryRp6NChys/Pl8vlksfjUXx8vCQpPT1dxcXFcjqdSk9Pl81mU6dOneT1enXmzBm1adOmzh7dbrfKysqCveoAAACSpMTExKDUuVxeCXqQi46OliS5XC49+OCDmjlzpjwej8aNG6c+ffromWee0dNPP62ePXsqNja2xvNcLpdcLpdvfnR0tMrLy+VyuRQTE1Nj2cOHDysqKkqtW7euMb+8vPyyQS4qKipobzAAAECoJCYm1hnmQnKyw7FjxzR58mTdcccduu2223TTTTepT58+kqSbbrpJ+/btU0xMjCoqKnzPqaioUGxsbI35FRUVatWqld9la5v/3XAIAADQlAU9yJ06dUpTpkzRnDlzNHbsWEnSPffco71790qSiouL1bt3byUlJWnXrl1yu90qLy/XwYMHlZCQoNTUVG3btk2StH37dvXr108xMTFyOBw6dOiQDMPQjh07lJaWptTUVO3YsUPV1dU6evSoqqurL7s3DgAAoKkI+qHVtWvX6ty5c8rPz1d+fr4kae7cuVq+fLkcDofatm2rpUuXKiYmRpMmTVJWVpYMw1BOTo6ioqKUmZmp3NxcZWZmyuFwaMWKFZKkJUuWaPbs2fJ6vUpPT1ffvn0lSWlpaRo/fryqq6u1cOHCYK8OAABAo2UzDMMIdxMNraysjO/IAQCAkDqxpqjWx3L+8X/074qv1CG6tX538xS/y7Sb8UtJdecWLggMAABgUQQ5AAAAiyLIAQAAWBRBDgAAwKIIcgAAABZFkAMAALAoghwAAIBFEeQAAAAsiiAHAABgUQQ5AAAAiyLIAQAAWBRBDgAAwKIIcgAAABZFkAMAAGhgLR3OGtP6IsgBAAA0sLGJ16tX284am3i9qTqRQeoHAAAAAUrt0F2pHbqbrsMeOQAAAIsiyAEAAFgUQQ4AAMCiCHIAAAAWRZADAACwKIIcAACARRHkAAAALIogBwAAYFEEOQAAAIsiyAEAAFgUQQ4AAMCiCHIAAAAWRZADAACwKIIcAACARRHkAAAALIogBwAAYFEEOQAAAIsiyAEAAFgUQQ4AAMCiCHIAAAAWRZADAACwKIIcAACARRHkAAAALIogBwAAYFEEOQAAAIsiyNWipKREs2bNUklJSbhbAQAA8Csy3A00VgUFBTpw4IAqKys1aNCgcLcDAADwPeyRq0VlZWWNKQAAQGNDkAMAALAoghwAAIBFEeQAAAAsiiAHAABgUQQ5AAAAiyLIAQAAWBRBDgAAwKIIcgAAABZFkAMAALAoghwAAIBFEeQAAAAsiiAHAKi3kpISzZo1SyUlJeFuBWiWIoNd8MKFC8rLy9ORI0fk8Xg0ffp09ejRQ3PnzpXNZtN1112nRYsWKSIiQps2bdLGjRsVGRmp6dOna/jw4Tp//rzmzJmj06dPKzo6Wk888YTatGmj3bt3a9myZbLb7UpPT9eMGTMkSWvWrNHbb7+tyMhI5eXlKSkpKdirBACoRUFBgQ4cOKDKykoNGjQo3O0AzU7Qg9yrr76q1q1b68knn9SXX36p0aNHq2fPnpo5c6YGDhyohQsXauvWrUpOTlZhYaG2bNkit9utrKwsDR48WBs2bFBCQoKys7NVVFSk/Px8zZ8/X4sWLdLq1asVFxenqVOnqrS0VJK0c+dObd68WceOHVN2dra2bNkS7FUCANSisrKyxhRAwwp6kLvllls0YsQI3892u12lpaUaMGCAJGno0KF69913FRERoZSUFDmdTjmdTsXHx2v//v3atWuX7r33Xt+y+fn5crlc8ng8io+PlySlp6eruLhYTqdT6enpstls6tSpk7xer86cOaM2bdrU2aPb7VZZWZl6dOsuR4soU+t74bxbH3/6iakaAGBVHo/HNy0rKwtzN0DjkZiYGJQ6lxtXQQ9y0dHRkiSXy6UHH3xQM2fO1BNPPCGbzeZ7vLy8XC6XS7GxsTWe53K5asz/7rIxMTE1lj18+LCioqLUunXrGvPLy8svG+SioqJ8b/DJZ9b7XcZ7ttw3rW0ZSfrh9IlB+7AAwGqcTqdvyu9CIPgSExPrDHMhOdnh2LFjmjx5su644w7ddtttioj435epqKhQq1atFBMTo4qKihrzY2Nja8yva9m6agAAADQHQQ9yp06d0pQpUzRnzhyNHTtWktSrVy+9//77kqTt27crLS1NSUlJ2rVrl9xut8rLy3Xw4EElJCQoNTVV27Zt8y3br18/xcTEyOFw6NChQzIMQzt27FBaWppSU1O1Y8cOVVdX6+jRo6qurr7s3jgAAICmIuiHVteuXatz584pPz9f+fn5kqR58+bp0Ucf1cqVK9W9e3eNGDFCdrtdkyZNUlZWlgzDUE5OjqKiopSZmanc3FxlZmbK4XBoxYoVkqQlS5Zo9uzZ8nq9Sk9PV9++fSVJaWlpGj9+vKqrq7Vw4cJgrw4AAECjZTMMwwh3Ew2trKzsst+Rm/m3Lfq365w6xLTS72/5Va21fjh9Ykh6BAArmDx5so4cOaIf/ehHWrduXbjbARqVE2uKTD2/3YxfSqqZWy7FBYEBAAAsiiAHAABgUQQ5AAAAiyLIAQDq5PFWh/X5QLg15nsKB/2sVQBA0+K0R2j0lm1+H3O5vpYkHXN9Xesyf/7VsJD1BjSExnxPYfbIAQAA1KEx31OYIAcAAGBRBDkAAACLIsjVomWko8YUAACgsSHI1WJc7xT1+mEHjeudEu5WAAAA/OKs1VqkdoxTase4cLcBAABQK/bIAQAAWBRBDgAANHtGlbkLV5t9fn1xaBUAADR7tsgIHV/1jt/HvF997ZvWtkz7B4eErLe6sEcOAFB/zqiaUwANiiAHAKi3qP7DZO/URVH9uQ0XEA4cWgUA1Juja4IcXRPC3QbQbLFHDgAAwKICCnK//e1va/z88MMPh6QZAAAABK7OQ6t/+tOf9Mwzz+irr77SP/7xD0mSYRjq0aNHgzQHAACA2tUZ5CZMmKAJEyZo7dq1mjZtWkP1BAAAgAAEdLLDxIkT9frrr8vj8fjmjRo1KlQ9AQAANBotIqNqTBuTgILcAw88oHbt2qljx46SJJvNFtKmAAAAGotxPYer6OB7+uW114e7le8JKMgZhqGnnnoq1L0AAAA0OikdEpTSoXFeZiegs1Z//OMfa8+ePfJ4PL7/AAAAEF4B7ZHbuXOn/vu//9v3s81m09atW0PWFAAAAC4voCD36quvhroPAAAAXKGAgtykSZO+d4LDunXrQtIQAAAAAhNQkFuyZImkb056KC0t1f79+0PaFAAAAC4voCDXvXt337+vvfZabdmyJWQNAQAAIDABBbkXX3zR9+8TJ06ooqIiZA0BAAAgMAEFuZMnT/r+HRUVpd///veh6gcAAAABCug6cjNmzFCfPn0UFRWl7t27q3PnzqHuCwAAAJcRUJBbsWKFXn75ZTkcDr3yyit6/PHHQ90XAACNVklJiWbNmqWSkpJwt4JmLqBDq//85z+1ceNGSdKvf/1rZWRkhLQpAAAas4KCAh04cECVlZUaNGhQuNtBMxbQHrmqqipVV1dL+uYSJJdeUw4AgOaksrKyxhQIl4D2yI0cOVKZmZnq27ev9u7dq5EjR4a6LwAAAFxGQEFuypQpSk9P1yeffKKxY8cqISEh1H0BAADgMgIKcnv37lVRUZHcbrfvi52LFy8OZV8AAAC4jICCXG5uru677z61atUq1P0AAAAgQAEFuS5dumjMmDGh7gUAAABXIKAgN2LECOXk5Ojaa6/1zZsxY0bImgIAAMDlBRTkXnjhBd10000cWgUANBtVXkOR9vpfbsvs84FABBTkfvCDH2jq1Kmh7gUAgEYj0m7T2peP+33srMvrm9a2zLQx7UPWG3BRQEHu6quv1sKFC9WrVy/fxYDHjx8f0sYAAABQt4BPdpCkU6dOhbQZAADQvJSUlGjTpk3KyMjgdmf1EFCQmzFjhk6cOKGqqioZhqETJ06Eui8AANAMcN9acwIKcnl5edq9e7e+/vprnT9/XnFxcdq0aVOoewMAAE0c9601JyKQhT755BMVFRUpPT1dRUVFioqKCnVfAAAAuIyAglx0dLRsNpsqKyvVpk0bXbhwIdR9AQAA4DICCnK9e/fW888/r3bt2iknJ0derzfUfSFMSkpKNGvWLN89dQEAQOMV0HfkZs2aJZfLpRYtWmj79u1KSkqSJO3Zs0d9+/YNaYNoWHzpFAAuL9LZosYUtTOqDNkizV0YORg1mqqAgpwkxcTESJJuuOEG37wVK1Zo3bp1we8KYcOXTgHg8voMGKd/7S7Sj5N/Ge5WGj1bpE3H/vOLWh/3flnlm9a2XMeHO4ekt6Yg4CDnj2EYweoDABBiXK8reDp2TVHHrinhbgMwF+Qu3uUBAND48dUJoOkJ6GQHAID18dUJNEYtIlvUmOLKmApydR1a3bNnjyZNmiRJKi0t1ZAhQzRp0iRNmjRJr7/+uiRp06ZNGjNmjDIyMvTWW29Jks6fP6/s7GxlZWXpvvvu05kzZyRJu3fv1rhx43TnnXdqzZo1vtdZs2aNxo4dqzvvvFN79+41szoAAKCB/arHGCVe3VO/6jEm3K1YkqlDq7fddpvf+c8995xeffVVtWzZUpK0b98+3X333ZoyZYpvmZMnT6qwsFBbtmyR2+1WVlaWBg8erA0bNighIUHZ2dkqKipSfn6+5s+fr0WLFmn16tWKi4vT1KlTVVpaKknauXOnNm/erGPHjik7O1tbtmwxs0rNQnWVRxGRzrDXAAAg5YfJSvlhcrjbsKyAgtwrr7yiZ599Vh6PR4ZhyGazaevWrcrIyPC7fHx8vFavXq2HH35YkvThhx/q008/1datW9WlSxfl5eVp7969SklJkdPplNPpVHx8vPbv369du3bp3nvvlSQNHTpU+fn5crlc8ng8io+PlySlp6eruLhYTqdT6enpstls6tSpk7xer86cOaM2bdrUuT5ut1tlZWVKTEwM+I2qS1lZWVDqNJTExETtfeZ2v495zlZ+Oz1a6zKSlDT9VcutN9AcdOneXVeZvPtOpdutzz/5xPdzMH5XWvH3RXNd72CzyrY22J93Q613QEHuueee09q1a9WxY8eAXnTEiBH64ov/PYU4KSlJ48aNU58+ffTMM8/o6aefVs+ePRUbG+tbJjo6Wi6XSy6Xyzc/Ojpa5eXlcrlcvsufXJx/+PBhRUVFqXXr1jXml5eXXzbIRUVFBe0NloL3YVlNoOvNmXJAw7r9pdf8zq90VUiSjroqal1Gkl4de2vQf6/xexJmWeG9DEWPiYmJdYa5gL4jFxcXpy5duvj2njmdV3ZI7aabblKfPn18/963b59iYmJUUVHhW6aiokKxsbE15ldUVKhVq1Z+l61t/nfDIRqHgoIC7dmzRwUFBeFuBQCAJiWgINeiRQvde++9WrFihVauXKmVK1de0Yvcc889vhMRiouL1bt3byUlJWnXrl1yu90qLy/XwYMHlZCQoNTUVG3btk2StH37dvXr108xMTFyOBw6dOiQDMPQjh07lJaWptTUVO3YsUPV1dU6evSoqqurL7s3Dg2PM+UAAAiNgA6tDhs2zNSLLF68WEuXLpXD4VDbtm21dOlSxcTEaNKkScrKypJhGMrJyVFUVJQyMzOVm5urzMxMORwOrVixQpK0ZMkSzZ49W16vV+np6b5bg6WlpWn8+PGqrq7WwoULTfUJAABgJQEFudtuu00vvviiPv74Y3Xt2lWZmZmXfU7nzp21adMmSVLv3r21cePG7y2TkZHxvRMmWrZsqVWrVn1v2eTkZF+978rOzlZ2dnYgqwEAzZrN4ZTx7RSoD77z3PgEdGh14cKFOnz4sAYPHqwjR45o/vz5oe4LYRL17U2Jo7g5MdDkOAb8VBGdOssx4KfhbgUWxXeeG5+A9sh9/vnn+tOf/iRJ+vnPf64777wzpE0hfG7p7dDbH13QzxIcV/Q8s9eV47p0QOhFdumuyC7dw90GLIzvPDc+AQU5t9utr7/+Wi1bttT58+fl9XpD3RfCpHfHSPXueOXXiY6IdGrbc7/0+9jX59zfTo/Wusyw+4qu+DUBAGjuAtpiT548WXfccYeuu+46ffzxx3wnDQAAoBEIKMjdfvvtGjp0qA4fPqzOnTvr6quvDnVfAAAAuIw6g1x+fr4eeOABzZo1SzZbzS+/X7wsCAAgNDhDMDh4H69MdZWhCBMnvJl9Pq5MnUHuhhtukCRObgCAMCgoKNCBAwdUWVlJADGhub6P9Q2wEZE27XvmuN/HPGe9vmlty/Sa3v7Km0W91Xn5keuuu04ej0fr1q1TSkqKkpOTlZSUpDVr1jRUf2gCoiJrTgEEhjMEg6O5vo9cKqR5qHPTumXLFq1du1anTp3SLbfcIkmKiIhQv379GqQ5NA3DfhKp4v1e/bSnPdytoAFwGAtoHJprgG1u6gxyF++88NJLL2ns2LGSJI/HI6eT630hcAmd7EroRIhrLprrYaz68Hi9ctrNjY1g1AAC1SKyRY0pwi+gg11er1fLly9XXl6epk2bpttvv12jRo0KcWsArIi9AIFz2u269aXv33rwovMulyTpqMtV63Kvjc3wO7+5ueA15LCb+4J9MGo0dSN7j9N/f1SkGxL8XxMUDS+gILdx40bfvVKfffZZTZw4kSAHAKHmcNScolYOu00P/vmw38dOuqp809qWkaRVo+NC0lsoVXsNRZgMn1dSo0/HFPXpmGLq9RBcAQW5iIgIRUVFSZIcDsf3LkUCAAg+x4A0Ve3eq8jkpHC3gkYqwm7Tu+tO+n3sfLnXN61tGUkaPPmHIekNDSOgIHfjjTcqKytLSUlJKi0t9V2WBEDz5PFekNNe/71EZp/fXNi7dJG9S5dwtwGgEQsoyD3wwAMaPny4Pv30U40aNUo9e/YMdV9Ag+JMyyvjtDv0i1ce8vuYp+Kbv/yPVJysdZm/jvr/QtZbIPi8m5cIZ4saU6ApqfM6chd9/vnn2r59uz755BO9+eabWrhwYaj7AhoU11tqXvi8G7eSkhLNmjVLJSUlQanXbuBoXfWjnmo3cHRQ6lmFM7JljSmapoD2yOXm5mr48OH64IMP1K5dO85GQ5PDmZbNC5934xbsS9jEdk1WbNdk841ZzA0p4/Ru6Wsa3PvWcLeCEAooyLVo0UL333+/PvvsMz322GPKysoKdV8ALMrmiJDx7RSoD4J2cPy4c6p+3Dk13G0gxAL6TWsYhk6ePKnKykpVVlbq7Nmzoe4LgEXZB7aX7UfRsg/kfosAEGoB7ZGbMWOG3njjDd1+++268cYbuYYcgFpFdItVRLfYcLchj7dKTru5G/wGowa+z+OtltNubo9tMGoATUFAv6H69++v/v37S5ISExPVqVOnkDYFAGY57ZH65cv5fh9zu745qnDUdbbWZSSpaMwDIemtuXPaIzR2y55aHz/r8kiSjrk8tS730q/6hqQ3wGoCCnLr1q1TixYtdO7cOb388ssaMmSIHnnkkVD3BgSVt8oje6S5+wQHowYAAMESUJArKipSYWGh7r33XhUVFenXv/51qPsCgs4e6VRhwQi/j5Wfq/p2eqTWZSRp0l1/D0lvAADUR0BfMLDZbDp58qTatm0rm83GyQ4ArM0ZWXOKRsXmjKoxBVC7gILcwIEDNXHiRE2cOFHLly/XzTffHOq+ACBkIgf0UsSPfqjIAb3C3Qr8aNn/FkV2ulYt+98S7laARi+gP0dzcnKUk5MjSfrJT34ih4N7JAKwLnvXjrJ37RjuNlALR9decnQlZAOBCCjIvfvuuyooKJDb7fbNW7duXciaAtAwuOcoAFhbQEHuscceU15enjp06BDqfoCwuLiTubntbA72rZAAAA0roCDXsWNHXX/99aHuBQib5L4RKt1nqHcvW7hbaVDcCgkArC2gIHfNNddo4cKF6tWrl2y2bzZ048ePD2ljCAyHxoIjrnOE4jqHuwsAAK5MQGetdu7cWe3atdOpU6d08uRJnTx5MtR9IUAFBQXas2ePCgoKwt0KGkBJSYlmzZqlkpKScLeCS/DZAAiHgO+1euLECVVVVckwDJ04cSLUfSFAHBprXvhOW+PFZwMgHAIKcnl5edq9e7e+/vprnT9/XnFxcdq0aVOoewNwifoE9wtejxx2c7cVC0aNpo4/qgCEQ0BB7pNPPlFRUZEWLlyonJwcPfTQQ6HuC0CQOOxO3f1n/xdWPe668O30SK3LSNL/P/pvIekNAGBOQN+Ri46Ols1mU2Vlpdq0aaMLFy6Eui8AaHQ83qqwPh8ALhXQHrnevXvr+eefV7t27ZSTkyOv1xvqvvAto+qCbJHmLm4WjBoAJKc9UrduKfD72HnXOUnSUde5Wpd57Vd3haYxAM1WQEFu1KhRateunVq0aKHt27crKSkp1H3hW7ZIh75Yc3+tj1d9dcI3rW25zjOeDUlvCL4qr0eRJr+LFowaqAeno+YUABpAQEFu3rx52rBhgyTphhtuCGlDQHMWaXdq6Ysjan38jKvq2+mRWpdbMP7vAb+ezVlzivpz9O+rqt37FJnMPUIBNJyAgtxVV12l5cuXq1u3boqI+OZrdVwQGLC+1gPtOvd/q9UqJaCvy4aNFS58be/aWfauXFUaQMMKKMi99957SklJ0enTpyVJbrc7pE0hcC0cETWmwJVo2TVCLbs2/v93uEYbAPhXZ5DbvHmzXnrpJV111VV65513JEnV1dWqqqrSb37zmwZpEHUbk9hGfz3wlX5xXetwtwKEDNdoAwD/6gxyd9xxh37605/q2Wef1bRp0yRJERERuuaaaxqkOVxecodoJXeIDncb8MMKhwMBANZWZ5BzOp3q3Lmzli5d2lD9AE1GKA4H2h01pwCA5q3xfzkGsKhQHA7slhah1h1t6pbG0AUABHiyA4DG4Zr4CF0TH+4ugs/jrZLTbu7XUTBqAIDV8FsPQNg57ZEa+efHan3c4/pSknTU9WWty70++pGQ9AYAjRnHZwATqryesD4fANC8sUcOMCHS7tTT6/3fYeFsedW30yO1LvMfEwO/CwMAAJdijxwAAIBFEeSAEIl01JzCBKe95hQAIIkgB4RMYkqE2nawKbGR38fUCuwDr5XtR1fLPvDacLcCAI0K35EDQqRjXIQ6xoW7i6bB3rWt7F3bhrsNABbQ3O6qw64CAAAagZKSEs2aNUslJSXhbsXSCgoKtGfPHhUUFIS7lQbBHjkAABqBUNzWrzkKxV11GjP2yAEA0Ag0twCC4AhZkNuzZ48mTZokSfr888+VmZmprKwsLVq0SNXV1ZKkTZs2acyYMcrIyNBbb70lSTp//ryys7OVlZWl++67T2fOnJEk7d69W+PGjdOdd96pNWvW+F5nzZo1Gjt2rO68807t3bs3VKsTFOw2BwAAwRSSIPfcc89p/vz5crvdkqTHHntMM2fO1AsvvCDDMLR161adPHlShYWF2rhxo55//nmtXLlSHo9HGzZsUEJCgl544QWNGjVK+fn5kqRFixZpxYoV2rBhg/bs2aPS0lKVlpZq586d2rx5s1auXKklS5aEYnWCprkdtwcAAKEVkiAXHx+v1atX+34uLS3VgAEDJElDhw7Ve++9p7179yolJUVOp1OxsbGKj4/X/v37tWvXLg0ZMsS3bHFxsVwulzwej+Lj42Wz2ZSenq7i4mLt2rVL6enpstls6tSpk7xer28PXmPEbnMAaL68XqNR1GgKjKrqRlGjMQjJyQ4jRozQF1984fvZMAzZbDZJUnR0tMrLy+VyuRQbG+tbJjo6Wi6Xq8b87y4bExNTY9nDhw8rKipKrVu3rjG/vLxcbdq0qbM/t9utsrIyJSYmBmN1VVZWFtByHo/HNw30OaHosbHWDPQ9qS8rrHdj7TEUNa3QYyhqWqHHUNS0Qo+hqHlpvVc3n6p12QpXtW9a23K3j2tryfUOhktrHv+d/69Teb/y+Ka1LSNJ7XOSLLfe/jTIWasREf+746+iokKtWrVSTEyMKioqasyPjY2tMb+uZVu1aiWHw+G3xuVERUUF7Q2Wan5YRlWVbJH+31an0+mb1vb6dT0/WD021pqh6DEUrLDeVqhphR5DUdMKPYaiphV6DEVNK/QYippW6DEUNUPVY11hrkGCXK9evfT+++9r4MCB2r59uwYNGqSkpCT9/ve/l9vtlsfj0cGDB5WQkKDU1FRt27ZNSUlJ2r59u/r166eYmBg5HA4dOnRIcXFx2rFjh2bMmCG73a4nn3xS99xzj/7973+rurr6snvjQs0WGakTa3/n9zHv2a9809qWaTctJ1StAQCAJqZBglxubq4WLFiglStXqnv37hoxYoTsdrsmTZqkrKwsGYahnJwcRUVFKTMzU7m5ucrMzJTD4dCKFSskSUuWLNHs2bPl9XqVnp6uvn37SpLS0tI0fvx4VVdXa+HChQ2xOgAAoJFqERlVY9rUhSzIde7cWZs2bZIkdevWTevXr//eMhkZGcrIyKgxr2XLllq1atX3lk1OTvbV+67s7GxlZ2cHqevQavntIdOWITh0CgCwNqejRY0p6mdcwi0q+uRt/bL7z8LdSoMgUTSgsX0SVPSvT/TLH3cPdysAgEZmUP8MfbDnL0rte1u4W7G0lPa9ldK+d7jbaDAEuQaU2rG9Uju2D3cbAIBGqFuXVHXrkhruNmAx3KILAADAoghyAAAAFkWQAwAAsCiCHCyppKREs2bNUklJSbhbAQAgbDjZAZZUUFCgAwcOqLKyUoMGDQp3OwAAhAV75GBJlZWVNaYAADRHBDkAAACLIsihUfJWeRpFDQAAGjO+I4dGyR7p1Kv/5xe1Pl5xzvPt9Eity90+5a8h6Q0AgMaCPXIAAAAWRZCDJTkdthpTAACaI4IcLGlQkl2d29s0KMke7lYAAAgbviMHS+r2owh1+xF/hwAAmje2hAAAABZFkAMAALAoghwAAIBFEeQAAAAsiiAHAABgUQQ5AAAAiyLIAQAAWBRBDgAAwKIIcgAAABZFkAMAALAoghwAAIBFEeQAAAAsiiAHAABgUQQ5AAAAiyLIAQAAWBRBDgAAwKIIcgAAABZFkAMAALAoghwAAIBFEeQAAAAsiiAHAABgUQQ5AAAAiyLIAQAAWBRBDgAAwKIIcgAAABZFkAMAALAoghwAAIBFEeQAAAAsiiAHAABgUQQ5AAAAiyLIAQAAWBRBDgAAwKIIcgAAABZFkAMAALAoghwAAIBFEeQAAAAsiiAHAABgUQQ5AAAAiyLIAQAAWBRBDgAAwKIIcgAAABYV2ZAvNmrUKMXGxkqSOnfurGnTpmnu3Lmy2Wy67rrrtGjRIkVERGjTpk3auHGjIiMjNX36dA0fPlznz5/XnDlzdPr0aUVHR+uJJ55QmzZttHv3bi1btkx2u13p6emaMWNGQ64SAABA2DRYkHO73ZKkwsJC37xp06Zp5syZGjhwoBYuXKitW7cqOTlZhYWF2rJli9xut7KysjR48GBt2LBBCQkJys7OVlFRkfLz8zV//nwtWrRIq1evVlxcnKZOnarS0lL17t27oVYLAAAgbBrs0Or+/fv19ddfa8qUKZo8ebJ2796t0tJSDRgwQJI0dOhQvffee9q7d69SUlLkdDoVGxur+Ph47d+/X7t27dKQIUN8yxYXF8vlcsnj8Sg+Pl42m03p6ekqLi5uqFUCAAAIqwbbI9eiRQvdc889GjdunD777DPdd999MgxDNptNkhQdHa3y8nK5XC7f4deL810uV4353102JiamxrKHDx++bC9ut1tlZWVKTEwMyrqVlZX5/h2MmsGuZ5WaVugxFDWt0GMoalqhx1DUtEKPoahphR5DUdMKPYaiphV6DEXNUPfoT4MFuW7duqlLly6y2Wzq1q2bWrdurdLSUt/jFRUVatWqlWJiYlRRUVFjfmxsbI35dS3bqlWry/YSFRUVtDdYCt6HFap6VqlphR5DUdMKPYaiphV6DEVNK/QYippW6DEUNa3QYyhqWqHHUNQMVY91hbkGO7T60ksv6fHHH5ckHT9+XC6XS4MHD9b7778vSdq+fbvS0tKUlJSkXbt2ye12q7y8XAcPHlRCQoJSU1O1bds237L9+vVTTEyMHA6HDh06JMMwtGPHDqWlpTXUKgEAAIRVg+2RGzt2rB555BFlZmbKZrNp+fLluvrqq7VgwQKtXLlS3bt314gRI2S32zVp0iRlZWXJMAzl5OQoKipKmZmZys3NVWZmphwOh1asWCFJWrJkiWbPni2v16v09HT17du3oVYJAAAgrBosyDmdTl/4+q7169d/b15GRoYyMjJqzGvZsqVWrVr1vWWTk5O1adOm4DUKAABgEVwQGAAAwKIIcgAAABZFkAMAALAoghwAAIBFEeQAAAAsiiAHAABgUQQ5AAAAiyLIAQAAWBRBDgAAwKIIcgAAABZFkAMAALAoghwAAIBFEeQAAAAsiiAHAABgUQQ5AAAAiyLIAQAAWBRBDgAAwKIIcgAAABZFkAMAALAoghwAAIBFEeQAAAAsiiAHAABgUQQ5AAAAiyLIAQAAWBRBDgAAwKIIcgAAABZFkAMAALAoghwAAIBFEeQAAAAsiiAHAABgUQQ5AAAAiyLIAQAAWBRBDgAAwKIIcgAAABZFkAMAALAoghwAAIBFEeQAAAAsiiAHAABgUQQ5AAAAiyLIAQAAWBRBDgAAwKIIcgAAABZFkAMAALAoghwAAIBFEeQAAAAsiiAHAABgUQQ5AAAAiyLIAQAAWBRBDgAAwKIIcgAAABZFkAMAALAoghwAAIBFEeQAAAAsiiAHAABgUQQ5AAAAiyLIAQAAWFRkuBsIhurqai1evFj/+te/5HQ69eijj6pLly7hbgsAACCkmsQeuTfffFMej0cvvviifvOb3+jxxx8Pd0sAAAAh1ySC3K5duzRkyBBJUnJysj788MMwdwQAABB6NsMwjHA3Yda8efN08803a9iwYZKkn/3sZ3rzzTcVGen/yPHu3bsVFRXVkC0CAADUi9vtVnJyst/HmsR35GJiYlRRUeH7ubq6utYQJ6nWNwMAAMBKmsSh1dTUVG3fvl3SN3vbEhISwtwRAABA6DWJQ6sXz1r96KOPZBiGli9frmuvvTbcbQEAAIRUkwhyAAAAzVGTOLQKAADQHBHkAAAALIogBwAAYFFN4vIjwbRnzx499dRTKiwsVFlZmZYuXSq73S6n06knnnhCbdu2rXe9jz/+WAsWLJBhGOrZs6cWLFggu91uqseL/vKXv2j9+vV68cUXr7jepTVLS0s1bdo0de3aVZKUmZmpkSNH1rve6dOnNX/+fJ07d05er1f/+Z//qfj4eFM95uTk6NSpU5KkI0eOqG/fvvrd735nqmZZWZkWLVoku92url27atmyZYqIuLK/dS59HxctWiSn06nExETNmzfviupduHBBeXl5OnLkiDwej6ZPn64ePXpo7ty5stlsuu6667Ro0SLTNW+88UZJ0vLly9WtWzdlZmZe0Tr7q9mpU6d6jx1/9bp06WJq7NS13vUdO/5qdujQod5jx1+95ORkU2PHX83XXnvN1Nip7fOu79ip7X00M3a8Xq/mz5+vTz/9VHa7XY899pgMwzA1dvzVvPhZ1Gfs+KtXUVFhapvjr6bH4zE1dupa7/qMHX/1ysvLTW1z/NWMjo42NXb81fzd735X77FT2+dtdpsjSTLg84c//MG49dZbjXHjxhmGYRgTJkww9u3bZxiGYWzYsMFYvny5qXrTp083du7caRiGYeTm5hr/+Mc/TPdoGIaxb98+Y/LkyTXmmam5adMm4/nnn69XLX/1cnNzjaKiIsMwDKO4uNh46623TNe86KuvvjJuv/124/jx46ZrPvDAA8bbb79tGIZhzJo1y9i6daupeqNHjzZ27dplGIZhrFy50njllVeuqN5LL71kPProo4ZhGMaZM2eMYcOGGffff79RUlJiGIZhLFiw4Ir/H/JX8/Tp08Y999xj3HjjjcYLL7xwRfVqq2lm7PirZ3bs+KtpGObGjr+aZsaOv3pmx05t620Y9R87/mqaGTv+6pkdO2+88YYxd+5cwzAMo6SkxJg2bZrpseOvppmx46+e2W2Ov5pmx46/moZR/7Hjr57ZbY6/mmbHTm3rbRj1Gzv+6pnd5lzEodXviI+P1+rVq30/r1y5UomJiZK+SdNXejeIS+utXr1a/fv3l8fj0cmTJ3XNNdeY7vHLL7/UU089pby8vCuuVVvNDz/8UG+//bYmTJigvLw8uVwuU/U++OADHT9+XHfddZf+8pe/aMCAAaZ7vGj16tWaOHGi2rVrZ7pmYmKivvrqKxmGoYqKijovKh1IvePHjys1NVXSN9c63LVr1xXVu+WWW/TQQw/5frbb7SotLfW9f0OHDtV7771numZFRYWys7N1xx13XFGtumqaGTv+6pkdO/5qmh07/mqaGTv+6pkdO/5qXlTfseOvppmx46+e2bHz85//XEuXLpUkHT16VG3btjU9dvzVNDN2/NUzu83xV9Ps2PFX08zY8VfP7DbHX02zY8dfzYvqM3b81TO7zbmIIPcdI0aMqPFGXvyQPvjgA61fv1533XWXqXp2u11HjhzRrbfeqi+//FLdunUz1aPX69W8efOUl5en6OjoK65VW59JSUl6+OGH9ac//UlxcXF6+umnTdU7cuSIWrVqpYKCAnXs2FHPPfec6R4l6fTp0youLtaYMWOuuJ6/mhd3bf/iF7/Q6dOnNXDgQFP14uLitHPnTknSW2+9pa+//vqK6kVHRysmJkYul0sPPvigZs6cKcMwZLPZfI+Xl5ebrhkXF6e+ffteUZ3L1TQzdvzVMzt2Lq350EMPmR47/vo0M3b81TM7dvzVlMyNHX81zYyd2v6fNDN2JCkyMlK5ublaunSpRowYYXrs+KtpduxcWs/sNsdfzWBsd75b8+abbzY9di7t0ew2x1/NYGx3Lq0pmRs7l9Yzu83xqdd+vCbs8OHDNXYVFxUVGbfeeqtx6NChoNS7aNOmTcbDDz9squaePXuMkSNHGhMnTjTGjRtnpKSk+A5RmOnz7NmzvvkHDhwwJk+ebKre9ddfb5w5c8YwDMMoLS017r33XtM9GoZhrF+/3sjPz69XLX81Bw0aZHz00Ue+2osXLzZV7+DBg8aUKVOM++67z1i1apWxbNmyK6539OhRY/To0cbmzZsNwzCMIUOG+B574403jCVLlpiuedGqVavqdWi1tppmxk5tPRpG/cfOd2sGa+xc2qfZsXNpvWCMHX/vpdmxc2lNs2Pn0nrBGDsXnThxwvjZz35mpKWl+ebVd+xcWrOiosIwDHNj59J6Zrc5tfVoGOa2Oxdr/uQnPzGGDx8elO3OxR7//e9/++bVd5tzac2BAwcGZbvz3ZoVFRVB2e58t0ez2xzD4NBqnf7rv/5L69evV2FhoeLi4kzXmzZtmj777DNJ3/xFWK8vNX5HUlKSioqKVFhYqJUrV6pHjx6aN2+e6T7vuece7d27V5JUXFys3r17m6rXr18/bdu2TZL0z3/+Uz169DDdo/RNb0OHDg1KLUn6wQ9+oJiYGEnf7I09d+6cqXrbtm3T8uXL9Yc//EFfffWVBg8efEXPP3XqlKZMmaI5c+Zo7NixkqRevXrp/ffflyRt375daWlppmua5a+mmbHjr57ZsXNpzWCMHX99mhk7/uqZHTu1fd5mxo6/mmbGjr96ZsfOK6+8omeffVaS1LJlS9lsNvXp08fU2PFXsz4nq9VV74033jC1zfFXc8aMGabGzqU127Ztq7/+9a/1Hju19Whmm+Ov5oABA0yNndo+7/qOHX/1WrduHZRtDmet1sLr9WrZsmXq2LGjsrOzJUn9+/fXgw8+WO+aU6dO1dy5c+VwONSyZUs9+uijwWo3qBYvXqylS5fK4XCobdu2vuP69ZWbm6v58+dr48aNiomJ0YoVK4LS56effhqUgH3Ro48+qpycHEVGRsrhcJhe7y5dumjq1Klq2bKlBg4cqGHDhl3R89euXatz584pPz9f+fn5kqR58+bp0Ucf1cqVK9W9e3ff7n4zNZ977jm1aNHiiurUVdPr9erAgQPq1KlTvcaOvx5nzpxpauw0xHpL0ty5c7V8+fJ6jR1/9R5//HFTY6e29TYzdvzVNDN2/NW7++67TY2dm2++WY888ogmTJigqqoq5eXl6dprr9WCBQvqPXb81bzS77Bdrl5eXp6pbY6/mm3atDE1dhpivTt27Ghqm+OvZmJioqmxU9t613fs+KvXunXroGxzuEUXAACARXFoFQAAwKIIcgAAABZFkAMAALAoghwAAIBFEeQAAAAsiiAHoMlzu9264YYbQlb/zTff1K233qp169aF7DUk6YsvvlBGRkZIXwOAtXAdOQAw6a233tKsWbNCGhYBwB+CHIAmqaKiQrNnz9a5c+cUHx8vSdq5c6fWrFkjSTp//ryeeOIJ7dy5U5999plyc3Pl9Xo1atQobdmyRU6n83s1z507pzlz5sjlcsnr9eqhhx5SZWWl3n77be3du1dXX321UlJSvve80aNH649//KNatWqlgQMHav369erVq5dGjx6tF198US+++KJee+012Ww2jRw5UpMnT9axY8e0YMECud1uRUVF1bhYqNfr1dy5c3Xddddp6tSpIXoHAVgBQQ5Ak/TnP/9ZCQkJysnJ0Z49e/T+++/rwIEDevLJJ9W+fXutXbtWf/vb3zRp0iSNGTNGs2fP1jvvvKOBAwf6DXGS9Mwzz+j666/Xr3/9ax0/flyZmZl68803NWTIEI0cOdJviJOkG2+8Ue+88446dOigzp07691335XT6VTXrl116NAhvf7663rhhRdks9l01113KT09XatWrdKkSZM0bNgwFRcX66mnnlJOTo6qqqo0e/ZspaWlacKECaF8CwFYAEEOQJN04MABDRkyRJLUt29fRUZGqn379lq2bJmuuuoqHT9+XKmpqYqJiVH//v21Y8cOvfzyy3rggQdqrXnw4EHddtttkqT27dsrJiZGZ86cuWwvN998s9auXauOHTsqJydHhYWFMgxDN998sz766CMdPXpUd911lyTp7NmzOnTokD766CM9++yz+uMf/yjDMORwOCRJ//rXvxQTE6PKykqT7xCApoCTHQA0Sd27d9fu3bslSfv27VNVVZXmz5+v5cuX6/HHH1e7du108Q6FGRkZ2rx5s06fPq2ePXvWWvPaa6/V//zP/0iSjh8/rnPnzql169aX7SUhIUFffPGF9u7dq2HDhqmyslJbt27V0KFD1b17d/Xo0UPr1q1TYWGhxowZo4SEBHXv3l2zZ89WYWGhlixZ4rs3aO/evfWHP/xBr776qvbv32/uTQJgeeyRA9AkTZgwQY888ogyMzPVvXt3ORwO3XHHHcrIyFCrVq3Utm1bnThxQtI3e+w+//zzyx6qvP/++5WXl6e///3vOn/+vH77298qMjKwX6P9+/fXF198oYiICPXv318ff/yxoqOj1bNnT/30pz9VZmamPB6PkpKS1L59e+Xm5mrx4sVyu906f/685s2b56vVokULLV68WLm5udq8eXOth4IBNH024+KfpADQTFVXVyszM1PPP/+8YmJiwt0OAASMPXIAmrXDhw9rxowZGj9+vC/EzZgxQ2fPnq2xXExMjJ555pk6ay1evFgHDx783vznnntOLVq0CF7TAPAt9sgBAABYFCc7AAAAWBRBDgAAwKIIcgAAABZFkAMAALAoghwAAIBF/T859fEjyi0vwwAAAABJRU5ErkJggg==\n",
      "text/plain": [
       "<Figure size 720x504 with 1 Axes>"
=======
      "image/png": "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\n",
      "text/plain": [
       "<Figure size 432x288 with 1 Axes>"
>>>>>>> upstream/main
      ]
     },
     "metadata": {},
     "output_type": "display_data"
    }
   ],
   "source": [
<<<<<<< HEAD
    "plt.figure(figsize=(10,7))\n",
    "sns.barplot(data=df, x=\"day_of_week\", y = 'transaction_amount')\n",
    "# sns.countplot(data=df, x=\"day_of_week\")"
=======
    "sns.countplot(data=df, x=\"day_of_week\")"
>>>>>>> upstream/main
   ]
  },
  {
   "cell_type": "markdown",
   "id": "fb76f940",
   "metadata": {},
   "source": [
    "### 월별 매출 그래프"
   ]
  },
  {
   "cell_type": "code",
<<<<<<< HEAD
   "execution_count": 98,
   "id": "26119bbc",
   "metadata": {
    "ExecuteTime": {
     "end_time": "2022-07-01T07:22:19.157489Z",
     "start_time": "2022-07-01T07:22:19.121711Z"
    }
   },
   "outputs": [],
   "source": [
    "#make year&month cols \n",
    "df['month_year'] = pd.to_datetime(df['completed_at']).dt.to_period('M')"
   ]
  },
  {
   "cell_type": "code",
=======
>>>>>>> upstream/main
   "execution_count": 78,
   "id": "a0fb38af",
   "metadata": {
    "ExecuteTime": {
     "end_time": "2022-06-30T06:11:20.843422Z",
     "start_time": "2022-06-30T06:11:20.837925Z"
    }
   },
   "outputs": [],
   "source": [
<<<<<<< HEAD
    "# df"
   ]
  },
  {
   "cell_type": "code",
   "execution_count": 100,
   "id": "7cc3c833",
   "metadata": {
    "ExecuteTime": {
     "end_time": "2022-07-01T07:22:38.760357Z",
     "start_time": "2022-07-01T07:22:37.795452Z"
    }
   },
   "outputs": [
    {
     "data": {
      "text/plain": [
       "<AxesSubplot:xlabel='month_year', ylabel='count'>"
      ]
     },
     "execution_count": 100,
     "metadata": {},
     "output_type": "execute_result"
    },
    {
     "data": {
      "image/png": "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\n",
      "text/plain": [
       "<Figure size 720x504 with 1 Axes>"
      ]
     },
     "metadata": {},
     "output_type": "display_data"
    }
   ],
   "source": [
    "plt.rcParams['font.family'] = 'AppleGothic'\n",
    "plt.figure(figsize=(10,7))\n",
    "sns.set_style(\"whitegrid\")\n",
    "plt.xticks(rotation = 0)\n",
    "sns.countplot(data=df, x='month_year', palette='spring')"
   ]
  },
  {
   "cell_type": "markdown",
   "id": "85fa3670",
   "metadata": {},
   "source": [
    "### 분기별 매출 그래프"
   ]
  },
  {
   "cell_type": "code",
   "execution_count": 132,
   "id": "37b97788",
   "metadata": {
    "ExecuteTime": {
     "end_time": "2022-06-30T10:57:33.407037Z",
     "start_time": "2022-06-30T10:57:33.375741Z"
    }
   },
   "outputs": [],
   "source": [
    "df['quarter'] = df['completed_at'].dt.to_period('Q')"
   ]
  },
  {
   "cell_type": "code",
   "execution_count": 196,
   "id": "ff7208ee",
   "metadata": {
    "ExecuteTime": {
     "end_time": "2022-06-30T11:50:17.708762Z",
     "start_time": "2022-06-30T11:50:17.703882Z"
    }
   },
   "outputs": [],
   "source": [
    "# df"
   ]
  },
  {
   "cell_type": "code",
   "execution_count": 215,
   "id": "617b789a",
   "metadata": {
    "ExecuteTime": {
     "end_time": "2022-06-30T12:09:04.132911Z",
     "start_time": "2022-06-30T12:09:02.759499Z"
    }
   },
   "outputs": [
    {
     "data": {
      "text/plain": [
       "<AxesSubplot:xlabel='quarter', ylabel='transaction_amount'>"
      ]
     },
     "execution_count": 215,
     "metadata": {},
     "output_type": "execute_result"
    },
    {
     "data": {
      "image/png": "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\n",
      "text/plain": [
       "<Figure size 720x504 with 1 Axes>"
      ]
     },
     "metadata": {},
     "output_type": "display_data"
    }
   ],
   "source": [
    "plt.figure(figsize=(10,7))\n",
    "sns.barplot(data=df, x=\"quarter\", y=\"transaction_amount\")"
   ]
  },
  {
   "cell_type": "markdown",
   "id": "dce17e5f",
   "metadata": {},
   "source": [
    "### 6개월(반기) 총매출 그래프"
=======
    "# df"
>>>>>>> upstream/main
   ]
  },
  {
   "cell_type": "code",
<<<<<<< HEAD
   "execution_count": 216,
   "id": "74d976ee",
   "metadata": {
    "ExecuteTime": {
     "end_time": "2022-06-30T12:10:53.558975Z",
     "start_time": "2022-06-30T12:10:52.563087Z"
=======
   "execution_count": 79,
   "id": "7cc3c833",
   "metadata": {
    "ExecuteTime": {
     "end_time": "2022-06-30T06:11:24.852629Z",
     "start_time": "2022-06-30T06:11:24.733719Z"
>>>>>>> upstream/main
    }
   },
   "outputs": [
    {
     "data": {
      "text/plain": [
<<<<<<< HEAD
       "<AxesSubplot:xlabel='state', ylabel='transaction_amount'>"
      ]
     },
     "execution_count": 216,
=======
       "<AxesSubplot:xlabel='Month', ylabel='count'>"
      ]
     },
     "execution_count": 79,
>>>>>>> upstream/main
     "metadata": {},
     "output_type": "execute_result"
    },
    {
     "data": {
<<<<<<< HEAD
      "image/png": "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\n",
=======
      "image/png": "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\n",
>>>>>>> upstream/main
      "text/plain": [
       "<Figure size 432x288 with 1 Axes>"
      ]
     },
     "metadata": {},
     "output_type": "display_data"
    }
   ],
   "source": [
<<<<<<< HEAD
    "sns.barplot(data=df, x='state', y='transaction_amount')"
   ]
  },
  {
=======
    "sns.countplot(data=df, x=\"Month\")"
   ]
  },
  {
   "cell_type": "markdown",
   "id": "85fa3670",
   "metadata": {},
   "source": [
    "### 분기별 매출 그래프"
   ]
  },
  {
   "cell_type": "code",
   "execution_count": null,
   "id": "37b97788",
   "metadata": {},
   "outputs": [],
   "source": []
  },
  {
   "cell_type": "markdown",
   "id": "dce17e5f",
   "metadata": {},
   "source": [
    "### 6개월(반기) 총매출 그래프"
   ]
  },
  {
   "cell_type": "code",
   "execution_count": null,
   "id": "617b789a",
   "metadata": {},
   "outputs": [],
   "source": []
  },
  {
>>>>>>> upstream/main
   "cell_type": "markdown",
   "id": "447760be",
   "metadata": {},
   "source": [
    "# 강의 분석"
   ]
  },
  {
   "cell_type": "code",
   "execution_count": 86,
   "id": "2bdc7a4c",
   "metadata": {
    "ExecuteTime": {
     "end_time": "2022-06-30T07:33:58.508805Z",
     "start_time": "2022-06-30T07:33:58.431305Z"
    }
   },
   "outputs": [
    {
     "data": {
      "text/html": [
       "<div>\n",
       "<style scoped>\n",
       "    .dataframe tbody tr th:only-of-type {\n",
       "        vertical-align: middle;\n",
       "    }\n",
       "\n",
       "    .dataframe tbody tr th {\n",
       "        vertical-align: top;\n",
       "    }\n",
       "\n",
       "    .dataframe thead th {\n",
       "        text-align: right;\n",
       "    }\n",
       "</style>\n",
       "<table border=\"1\" class=\"dataframe\">\n",
       "  <thead>\n",
       "    <tr style=\"text-align: right;\">\n",
       "      <th></th>\n",
       "      <th>id</th>\n",
       "      <th>customer_id</th>\n",
       "      <th>course_id</th>\n",
       "      <th>type</th>\n",
       "      <th>state</th>\n",
       "      <th>course_title</th>\n",
       "      <th>category_title</th>\n",
       "      <th>format</th>\n",
       "      <th>completed_at</th>\n",
       "      <th>transaction_amount</th>\n",
       "      <th>...</th>\n",
       "      <th>pg</th>\n",
       "      <th>method</th>\n",
       "      <th>subcategory_title</th>\n",
       "      <th>marketing_start_at</th>\n",
       "      <th>Year</th>\n",
       "      <th>Month</th>\n",
       "      <th>Day</th>\n",
       "      <th>Hour</th>\n",
       "      <th>day_of_week</th>\n",
       "      <th>Weekday</th>\n",
       "    </tr>\n",
       "  </thead>\n",
       "  <tbody>\n",
       "    <tr>\n",
       "      <th>0</th>\n",
       "      <td>970634</td>\n",
       "      <td>504760</td>\n",
       "      <td>201435</td>\n",
       "      <td>ORDER</td>\n",
       "      <td>CANCELLED</td>\n",
       "      <td>올인원 패키지 : 알고리즘 기술면접 완전 정복</td>\n",
       "      <td>프로그래밍</td>\n",
       "      <td>올인원</td>\n",
       "      <td>2021-03-28 15:00:11</td>\n",
       "      <td>90500</td>\n",
       "      <td>...</td>\n",
       "      <td>COMM</td>\n",
       "      <td>VBANK</td>\n",
       "      <td>개발자 커리어</td>\n",
       "      <td>2018-11-11 00:00:00</td>\n",
       "      <td>2021</td>\n",
       "      <td>3</td>\n",
       "      <td>28</td>\n",
       "      <td>15</td>\n",
       "      <td>12</td>\n",
       "      <td>Sunday</td>\n",
       "    </tr>\n",
       "    <tr>\n",
       "      <th>1</th>\n",
       "      <td>970650</td>\n",
       "      <td>432862</td>\n",
       "      <td>203178</td>\n",
       "      <td>ORDER</td>\n",
       "      <td>CANCELLED</td>\n",
       "      <td>초격차 패키지 : 한번에 끝내는 영상 촬영과 편집</td>\n",
       "      <td>영상/3D</td>\n",
       "      <td>올인원</td>\n",
       "      <td>2021-03-28 15:16:53</td>\n",
       "      <td>96000</td>\n",
       "      <td>...</td>\n",
       "      <td>COMM</td>\n",
       "      <td>CARD</td>\n",
       "      <td>영상 편집</td>\n",
       "      <td>2020-12-02 00:00:00</td>\n",
       "      <td>2021</td>\n",
       "      <td>3</td>\n",
       "      <td>28</td>\n",
       "      <td>15</td>\n",
       "      <td>12</td>\n",
       "      <td>Sunday</td>\n",
       "    </tr>\n",
       "    <tr>\n",
       "      <th>2</th>\n",
       "      <td>970657</td>\n",
       "      <td>72297</td>\n",
       "      <td>204246</td>\n",
       "      <td>PAYMENT</td>\n",
       "      <td>COMPLETED</td>\n",
       "      <td>시크릿코드 : 프론트엔드 실무 완성편</td>\n",
       "      <td>프로그래밍</td>\n",
       "      <td>스쿨 온라인</td>\n",
       "      <td>2021-03-28 15:21:43</td>\n",
       "      <td>171810</td>\n",
       "      <td>...</td>\n",
       "      <td>COMM</td>\n",
       "      <td>CARD</td>\n",
       "      <td>프로그래밍</td>\n",
       "      <td>2021-03-04 00:00:00</td>\n",
       "      <td>2021</td>\n",
       "      <td>3</td>\n",
       "      <td>28</td>\n",
       "      <td>15</td>\n",
       "      <td>12</td>\n",
       "      <td>Sunday</td>\n",
       "    </tr>\n",
       "    <tr>\n",
       "      <th>3</th>\n",
       "      <td>970656</td>\n",
       "      <td>72297</td>\n",
       "      <td>204246</td>\n",
       "      <td>ORDER</td>\n",
       "      <td>CANCELLED</td>\n",
       "      <td>시크릿코드 : 프론트엔드 실무 완성편</td>\n",
       "      <td>프로그래밍</td>\n",
       "      <td>스쿨 온라인</td>\n",
       "      <td>2021-03-28 15:21:43</td>\n",
       "      <td>171810</td>\n",
       "      <td>...</td>\n",
       "      <td>COMM</td>\n",
       "      <td>CARD</td>\n",
       "      <td>프로그래밍</td>\n",
       "      <td>2021-03-04 00:00:00</td>\n",
       "      <td>2021</td>\n",
       "      <td>3</td>\n",
       "      <td>28</td>\n",
       "      <td>15</td>\n",
       "      <td>12</td>\n",
       "      <td>Sunday</td>\n",
       "    </tr>\n",
       "    <tr>\n",
       "      <th>4</th>\n",
       "      <td>970658</td>\n",
       "      <td>478028</td>\n",
       "      <td>201797</td>\n",
       "      <td>PAYMENT</td>\n",
       "      <td>COMPLETED</td>\n",
       "      <td>올인원 패키지 : 직장인 필수 스킬 3종 세트 MAX</td>\n",
       "      <td>업무 생산성</td>\n",
       "      <td>올인원</td>\n",
       "      <td>2021-03-28 15:21:54</td>\n",
       "      <td>97500</td>\n",
       "      <td>...</td>\n",
       "      <td>COMM</td>\n",
       "      <td>CARD</td>\n",
       "      <td>PPT/보고서</td>\n",
       "      <td>2019-11-14 00:00:00</td>\n",
       "      <td>2021</td>\n",
       "      <td>3</td>\n",
       "      <td>28</td>\n",
       "      <td>15</td>\n",
       "      <td>12</td>\n",
       "      <td>Sunday</td>\n",
       "    </tr>\n",
       "    <tr>\n",
       "      <th>...</th>\n",
       "      <td>...</td>\n",
       "      <td>...</td>\n",
       "      <td>...</td>\n",
       "      <td>...</td>\n",
       "      <td>...</td>\n",
       "      <td>...</td>\n",
       "      <td>...</td>\n",
       "      <td>...</td>\n",
       "      <td>...</td>\n",
       "      <td>...</td>\n",
       "      <td>...</td>\n",
       "      <td>...</td>\n",
       "      <td>...</td>\n",
       "      <td>...</td>\n",
       "      <td>...</td>\n",
       "      <td>...</td>\n",
       "      <td>...</td>\n",
       "      <td>...</td>\n",
       "      <td>...</td>\n",
       "      <td>...</td>\n",
       "      <td>...</td>\n",
       "    </tr>\n",
       "    <tr>\n",
       "      <th>101097</th>\n",
       "      <td>1364995</td>\n",
       "      <td>640697</td>\n",
       "      <td>205365</td>\n",
       "      <td>PAYMENT</td>\n",
       "      <td>CANCELLED</td>\n",
       "      <td>초격차 패키지 : 한 번에 끝내는 유튜브 크리에이터 되기</td>\n",
       "      <td>영상/3D</td>\n",
       "      <td>올인원</td>\n",
       "      <td>2021-09-25 14:10:42</td>\n",
       "      <td>96000</td>\n",
       "      <td>...</td>\n",
       "      <td>INICIS</td>\n",
       "      <td>TRANS</td>\n",
       "      <td>영상 편집</td>\n",
       "      <td>2021-06-15 00:00:00</td>\n",
       "      <td>2021</td>\n",
       "      <td>9</td>\n",
       "      <td>25</td>\n",
       "      <td>14</td>\n",
       "      <td>38</td>\n",
       "      <td>Saturday</td>\n",
       "    </tr>\n",
       "    <tr>\n",
       "      <th>101098</th>\n",
       "      <td>1364998</td>\n",
       "      <td>670896</td>\n",
       "      <td>204159</td>\n",
       "      <td>PAYMENT</td>\n",
       "      <td>CANCELLED</td>\n",
       "      <td>부동산 디벨로퍼 아카데미 : 인허가</td>\n",
       "      <td>부동산/금융</td>\n",
       "      <td>올인원</td>\n",
       "      <td>2021-09-25 14:16:33</td>\n",
       "      <td>189000</td>\n",
       "      <td>...</td>\n",
       "      <td>INICIS</td>\n",
       "      <td>CARD</td>\n",
       "      <td>부동산 개발</td>\n",
       "      <td>2021-02-10 00:00:00</td>\n",
       "      <td>2021</td>\n",
       "      <td>9</td>\n",
       "      <td>25</td>\n",
       "      <td>14</td>\n",
       "      <td>38</td>\n",
       "      <td>Saturday</td>\n",
       "    </tr>\n",
       "    <tr>\n",
       "      <th>101099</th>\n",
       "      <td>1364996</td>\n",
       "      <td>640697</td>\n",
       "      <td>205365</td>\n",
       "      <td>PAYMENT</td>\n",
       "      <td>COMPLETED</td>\n",
       "      <td>초격차 패키지 : 한 번에 끝내는 유튜브 크리에이터 되기</td>\n",
       "      <td>영상/3D</td>\n",
       "      <td>올인원</td>\n",
       "      <td>2021-09-25 14:17:41</td>\n",
       "      <td>96000</td>\n",
       "      <td>...</td>\n",
       "      <td>INICIS</td>\n",
       "      <td>VBANK</td>\n",
       "      <td>영상 편집</td>\n",
       "      <td>2021-06-15 00:00:00</td>\n",
       "      <td>2021</td>\n",
       "      <td>9</td>\n",
       "      <td>25</td>\n",
       "      <td>14</td>\n",
       "      <td>38</td>\n",
       "      <td>Saturday</td>\n",
       "    </tr>\n",
       "    <tr>\n",
       "      <th>101100</th>\n",
       "      <td>1365005</td>\n",
       "      <td>670896</td>\n",
       "      <td>204159</td>\n",
       "      <td>PAYMENT</td>\n",
       "      <td>CANCELLED</td>\n",
       "      <td>부동산 디벨로퍼 아카데미 : 인허가</td>\n",
       "      <td>부동산/금융</td>\n",
       "      <td>올인원</td>\n",
       "      <td>2021-09-25 14:19:56</td>\n",
       "      <td>189000</td>\n",
       "      <td>...</td>\n",
       "      <td>INICIS</td>\n",
       "      <td>CARD</td>\n",
       "      <td>부동산 개발</td>\n",
       "      <td>2021-02-10 00:00:00</td>\n",
       "      <td>2021</td>\n",
       "      <td>9</td>\n",
       "      <td>25</td>\n",
       "      <td>14</td>\n",
       "      <td>38</td>\n",
       "      <td>Saturday</td>\n",
       "    </tr>\n",
       "    <tr>\n",
       "      <th>101101</th>\n",
       "      <td>1365007</td>\n",
       "      <td>610626</td>\n",
       "      <td>206720</td>\n",
       "      <td>PAYMENT</td>\n",
       "      <td>COMPLETED</td>\n",
       "      <td>용호수의 돈 버는 실전 영상 제작</td>\n",
       "      <td>영상/3D</td>\n",
       "      <td>올인원</td>\n",
       "      <td>2021-09-25 14:25:47</td>\n",
       "      <td>139000</td>\n",
       "      <td>...</td>\n",
       "      <td>NAVER</td>\n",
       "      <td>POINT</td>\n",
       "      <td>영상 편집</td>\n",
       "      <td>2021-08-17 00:00:00</td>\n",
       "      <td>2021</td>\n",
       "      <td>9</td>\n",
       "      <td>25</td>\n",
       "      <td>14</td>\n",
       "      <td>38</td>\n",
       "      <td>Saturday</td>\n",
       "    </tr>\n",
       "  </tbody>\n",
       "</table>\n",
       "<p>101102 rows × 23 columns</p>\n",
       "</div>"
      ],
      "text/plain": [
       "             id  customer_id  course_id     type      state  \\\n",
       "0        970634       504760     201435    ORDER  CANCELLED   \n",
       "1        970650       432862     203178    ORDER  CANCELLED   \n",
       "2        970657        72297     204246  PAYMENT  COMPLETED   \n",
       "3        970656        72297     204246    ORDER  CANCELLED   \n",
       "4        970658       478028     201797  PAYMENT  COMPLETED   \n",
       "...         ...          ...        ...      ...        ...   \n",
       "101097  1364995       640697     205365  PAYMENT  CANCELLED   \n",
       "101098  1364998       670896     204159  PAYMENT  CANCELLED   \n",
       "101099  1364996       640697     205365  PAYMENT  COMPLETED   \n",
       "101100  1365005       670896     204159  PAYMENT  CANCELLED   \n",
       "101101  1365007       610626     206720  PAYMENT  COMPLETED   \n",
       "\n",
       "                           course_title category_title  format  \\\n",
       "0             올인원 패키지 : 알고리즘 기술면접 완전 정복          프로그래밍     올인원   \n",
       "1           초격차 패키지 : 한번에 끝내는 영상 촬영과 편집          영상/3D     올인원   \n",
       "2                  시크릿코드 : 프론트엔드 실무 완성편          프로그래밍  스쿨 온라인   \n",
       "3                  시크릿코드 : 프론트엔드 실무 완성편          프로그래밍  스쿨 온라인   \n",
       "4         올인원 패키지 : 직장인 필수 스킬 3종 세트 MAX         업무 생산성     올인원   \n",
       "...                                 ...            ...     ...   \n",
       "101097  초격차 패키지 : 한 번에 끝내는 유튜브 크리에이터 되기          영상/3D     올인원   \n",
       "101098              부동산 디벨로퍼 아카데미 : 인허가         부동산/금융     올인원   \n",
       "101099  초격차 패키지 : 한 번에 끝내는 유튜브 크리에이터 되기          영상/3D     올인원   \n",
       "101100              부동산 디벨로퍼 아카데미 : 인허가         부동산/금융     올인원   \n",
       "101101               용호수의 돈 버는 실전 영상 제작          영상/3D     올인원   \n",
       "\n",
       "              completed_at  transaction_amount  ...      pg  method  \\\n",
       "0      2021-03-28 15:00:11               90500  ...    COMM   VBANK   \n",
       "1      2021-03-28 15:16:53               96000  ...    COMM    CARD   \n",
       "2      2021-03-28 15:21:43              171810  ...    COMM    CARD   \n",
       "3      2021-03-28 15:21:43              171810  ...    COMM    CARD   \n",
       "4      2021-03-28 15:21:54               97500  ...    COMM    CARD   \n",
       "...                    ...                 ...  ...     ...     ...   \n",
       "101097 2021-09-25 14:10:42               96000  ...  INICIS   TRANS   \n",
       "101098 2021-09-25 14:16:33              189000  ...  INICIS    CARD   \n",
       "101099 2021-09-25 14:17:41               96000  ...  INICIS   VBANK   \n",
       "101100 2021-09-25 14:19:56              189000  ...  INICIS    CARD   \n",
       "101101 2021-09-25 14:25:47              139000  ...   NAVER   POINT   \n",
       "\n",
       "        subcategory_title   marketing_start_at  Year Month Day  Hour  \\\n",
       "0                 개발자 커리어  2018-11-11 00:00:00  2021     3  28    15   \n",
       "1                   영상 편집  2020-12-02 00:00:00  2021     3  28    15   \n",
       "2                   프로그래밍  2021-03-04 00:00:00  2021     3  28    15   \n",
       "3                   프로그래밍  2021-03-04 00:00:00  2021     3  28    15   \n",
       "4                 PPT/보고서  2019-11-14 00:00:00  2021     3  28    15   \n",
       "...                   ...                  ...   ...   ...  ..   ...   \n",
       "101097              영상 편집  2021-06-15 00:00:00  2021     9  25    14   \n",
       "101098             부동산 개발  2021-02-10 00:00:00  2021     9  25    14   \n",
       "101099              영상 편집  2021-06-15 00:00:00  2021     9  25    14   \n",
       "101100             부동산 개발  2021-02-10 00:00:00  2021     9  25    14   \n",
       "101101              영상 편집  2021-08-17 00:00:00  2021     9  25    14   \n",
       "\n",
       "        day_of_week   Weekday  \n",
       "0                12    Sunday  \n",
       "1                12    Sunday  \n",
       "2                12    Sunday  \n",
       "3                12    Sunday  \n",
       "4                12    Sunday  \n",
       "...             ...       ...  \n",
       "101097           38  Saturday  \n",
       "101098           38  Saturday  \n",
       "101099           38  Saturday  \n",
       "101100           38  Saturday  \n",
       "101101           38  Saturday  \n",
       "\n",
       "[101102 rows x 23 columns]"
      ]
     },
     "execution_count": 86,
     "metadata": {},
     "output_type": "execute_result"
    }
   ],
   "source": [
    "df"
   ]
  },
  {
   "cell_type": "markdown",
   "id": "5fd1259e",
   "metadata": {},
   "source": [
    "## 전체 강의 수"
   ]
  },
  {
   "cell_type": "code",
   "execution_count": 85,
   "id": "0ff7c2ff",
   "metadata": {
    "ExecuteTime": {
     "end_time": "2022-06-30T07:33:39.933724Z",
     "start_time": "2022-06-30T07:33:39.898700Z"
    }
   },
   "outputs": [
    {
     "data": {
      "text/plain": [
       "610"
      ]
     },
     "execution_count": 85,
     "metadata": {},
     "output_type": "execute_result"
    }
   ],
   "source": [
    "len(df['course_title'].unique())"
   ]
  },
  {
   "cell_type": "markdown",
   "id": "91a43677",
   "metadata": {},
   "source": [
    "## 전체 카테고리 수"
   ]
  },
  {
   "cell_type": "code",
<<<<<<< HEAD
   "execution_count": 86,
   "id": "aff2a714",
   "metadata": {
    "ExecuteTime": {
     "end_time": "2022-07-01T07:03:02.477698Z",
     "start_time": "2022-07-01T07:03:02.435705Z"
=======
   "execution_count": 87,
   "id": "aff2a714",
   "metadata": {
    "ExecuteTime": {
     "end_time": "2022-06-30T07:35:09.919858Z",
     "start_time": "2022-06-30T07:35:09.899157Z"
>>>>>>> upstream/main
    }
   },
   "outputs": [
    {
     "data": {
      "text/plain": [
<<<<<<< HEAD
       "array(['올인원 패키지 : 알고리즘 기술면접 완전 정복', '초격차 패키지 : 한번에 끝내는 영상 촬영과 편집',\n",
       "       '시크릿코드 : 프론트엔드 실무 완성편', '올인원 패키지 : 직장인 필수 스킬 3종 세트 MAX',\n",
       "       '프로모션 : 2021 내 커리어 지켜 줄 UX/UI 디자인 한끝세트 (3월 프리패스)',\n",
       "       '올인원 패키지 : 기업가치 평가와 M&A 전략 실무',\n",
       "       '올인원 패키지 : 권오상의 금융 아카데미 - 권오상의 재무제표 분석 기초(평생소장)',\n",
       "       '프로모션 : 코딩 LEVEL UP 웹 개발 풀스텍 한끝세트 (3월 프리패스)',\n",
       "       '초격차 패키지 : 한 번에 끝내는 프론트엔드 개발', '매주)서비스 기획서 완성 온라인 완주반 2101',\n",
       "       '프로모션 : 기초부터 시작하는 데이터분석 한끝세트 (3월 프리패스)',\n",
       "       'The RED : 현실 세상의 TDD by 이규원', '올인원 패키지 : 마디아의 UX/UI 포트폴리오',\n",
       "       '올인원 패키지 : 100억을 움직이는 단 10장의 PPT', '올인원 패키지 : 프론트엔드 (React)',\n",
       "       '연습문제 패키지 : 퀴즈처럼 풀면서 배우는 파이썬 머신러닝 300제+',\n",
       "       '초격차 패키지 : 한번에 끝내는 모션그래픽', '[한정판매] 자연어 A-Z 끝장 패키지(~3월)',\n",
       "       '올인원 패키지 : 김기현의 딥러닝을 활용한 자연어처리 입문', 'THE RED : 광고인 박웅현과 크리에이티브',\n",
       "       '데이터분석 프로젝트+자격증 온라인 완주반 3기',\n",
       "       '프로모션 :연봉 앞자리가 바뀌는 프론트엔드 한끝세트 (3월 프리패스)',\n",
       "       '올인원 패키지 : 디지털 마케팅 MAX 2020', '초격차 패키지 : 한번에 끝내는 PPT 제작/디자인',\n",
       "       '프로모션 : 매출의 판도를 바꾸는 마케팅 한끝세트 (3월 프리패스)', '프론트엔드 개발자 되기 온라인 완주반 3기',\n",
       "       '초격차 패키지 : 한 번에 끝내는 엑셀 실무', '초격차 패키지 : 한 번에 끝내는 데이터 분석 툴',\n",
       "       '올인원 패키지 : 디자이너 몰래 듣는 압축 포토샵', '올인원 패키지 : Android 앱 개발',\n",
       "       '초격차 패키지 : 한 번에 끝내는 반복 업무 자동화', '올인원 패키지 : 바다가 알려주는 감성가득 영상 제작',\n",
       "       '프로모션 :개발자를 위한 코딩 백과사전 한끝세트 (3월 프리패스)', '올인원 패키지 : 파이썬 웹 개발',\n",
       "       '올인원 패키지 : 인스타를 성장시킨 50명의 성공방정식',\n",
       "       '프로모션 : 데이터 활용 능력을 바꿔 줄 데이터 분석 한끝세트 (3월 프리패스)',\n",
       "       'The RED : 지브리 스튜디오 제작국장에게 듣는 스토리텔링 기획법', '올인원 패키지 : C++ 실력완성',\n",
       "       'Java 웹 개발자 취업 온라인 완주반 2기', '초격차 패키지 : 한번에 끝내는 UX/UI 디자인',\n",
       "       '매주)승인받는 이모티콘 만들기 온라인 완주반', '컴퓨터 공학 전공자 따라잡기 온라인 완주반 3기',\n",
       "       '올인원 패키지 : 재무/세무 회계 실무 완성',\n",
       "       '프로모션 : 시장의 흐름을 읽는 투자의 정석 한끝세트 (3월 프리패스)', '올인원 패키지 : 부동산 디벨로퍼',\n",
       "       '초격차 패키지 : 한번에 끝내는 디자인 툴', '올인원 패키지 : 애프터이펙트를 활용한 2D 모션그래픽 (2021)',\n",
       "       '올인원 패키지 : iOS 앱 개발', '올인원 패키지 : 십다 프리미어',\n",
       "       '올인원 패키지 : 완전정복 시각디자인 기초', '합격 패스 : 데이터베이스와 SQLD',\n",
       "       '프로모션 : 사수없이 고민말고! 필요할 때 꺼내보는 마케팅 백과사전 한끝세트 (3월 프리패스)',\n",
       "       '프로모션 : 2021 내 연봉을 바꿔 줄 직장인 스킬업 한끝세트 (3월 프리패스)',\n",
       "       '프로모션 : 투자의 방향성을 세우는 기업분석 한끝세트 (3월 프리패스)',\n",
       "       '올인원 패키지 : 컴퓨터 공학 전공 필수',\n",
       "       '프로모션 : 딥러닝 기초부터 인사이트까지 언제든 꺼내볼 나만의 딥러닝 백과사전 한끝세트 (3월 프리패스)',\n",
       "       '초격차 패키지 : 30개 프로젝트로 배우는 Android 앱 개발 with Kotlin',\n",
       "       '올인원 패키지 : 파이썬을 활용한 시계열 데이터 분석 A-Z', '올인원 패키지 : 머신러닝과 데이터분석 A-Z',\n",
       "       '초격차 패키지 : 한번에 끝내는 Java/Spring 웹 개발 마스터', '올인원 패키지 : 리눅스 실전 정복',\n",
       "       '올인원 패키지 : 구글 애널리틱스', '올인원 패키지 : 그로스 마케팅',\n",
       "       '올인원 패키지 : M&A 기업가치평가 및 기술가치평가 실무', '올인원 패키지 : 엑셀언니의 사무실용 엑셀뿌수기',\n",
       "       '올인원 패키지 : 6개월 치 업무를 하루 만에 끝내는 업무자동화',\n",
       "       '프로모션 : 영상 퀄리티를 바꿔 줄 영상 제작 스킬 한끝세트 (3월 프리패스)',\n",
       "       '프로모션 : 데이터 보는 눈을 바꿔 줄 데이터 마케팅 한끝세트 (3월 프리패스)',\n",
       "       '밑바닥부터 배포까지 클론코딩 온라인 완주반 1기', '프로그래밍 유치원 온라인 완주반 5기',\n",
       "       '연습문제 패키지 : 퀴즈처럼 풀면서 배우는 파이썬 딥러닝 300제+', '합격 패스 : ADsP',\n",
       "       '[한정판매] 자연어처리 끝장 패키지(~3월)', '올인원 패키지 : Financial Modeling',\n",
       "       '올인원 패키지 : 소비자 리서치와 보고서 작성', '올인원 패키지 : 소금툰과 함께 캐릭터 드로잉/굿즈/임티/컷툰',\n",
       "       '합격 패스 : 정보처리기사 필기&실기', '올인원 패키지 : 브랜딩 2020',\n",
       "       '올인원 패키지 : 대체투자 자산운용 실무', '올인원 패키지 : 데이터 기반 마케팅 21',\n",
       "       '매주)데이터 사이언스 온라인 완주반', '프로모션 : 사무실에서 꺼내보는 직장인 필수 한끝세트 (3월 프리패스)',\n",
       "       '올인원 패키지 : 부동산 투자', '매주)엑셀+데이터분석 온라인 완주반', '올인원 패키지 : 엑셀 실무 마스터',\n",
       "       'The RED : 프론트엔드 개발자 김태곤', '올인원 패키지 : 유니티 포트폴리오 완성',\n",
       "       '프로모션 : Top tier 프로젝트를 만드는 한끝세트 (3월 프리패스)',\n",
       "       '프로모션 : 내 콘텐츠 성과를 바꾸는 SNS 마케팅 한끝세트 (3월 프리패스)',\n",
       "       '코드 효율을 위한 리팩터링 온라인 완독반 1기', '올인원 패키지 : 스케치&피그마를 활용한 모바일 UI 디자인',\n",
       "       '올인원 패키지 : 다빈치리졸브로 배우는 영상 색 보정 A to Z', '올인원 패키지 : 생존을 위한 IT 필수지식',\n",
       "       '프로모션 : 이력서를 살찌우는 직무 스킬업 한끝세트 (3월 프리패스)', '부동산 디벨로퍼 아카데미 : 인허가',\n",
       "       '올인원 패키지 : 컴퓨터비전과 딥러닝',\n",
       "       '올인원 패키지 : 연봉도 배우면 바뀐다! 협상왕의 12가지 시스템 불패 전략',\n",
       "       '올인원 패키지 : 해외소싱으로 온라인 커머스 정복하기',\n",
       "       '프로모션 :개강 전 필수 마스터 코딩 한끝세트 (3월 프리패스)', '올인원 패키지 : 타이포그래피와 편집디자인',\n",
       "       '올인원 패키지 : UX/UI 디자인 (2020)', '매주)디지털 마케팅 온라인 완주반',\n",
       "       '올인원 패키지 : TypeScript & Angular 실전', '올인원 패키지 : 딥러닝/인공지능',\n",
       "       '올인원 패키지 : C#과 유니티로 배우는 게임개발', '올인원 패키지 : Node 웹 프로그래밍',\n",
       "       '올인원 패키지 : AWS/Docker 클라우드 서버 구축',\n",
       "       '올인원 패키지 : 프로젝트와 함께 배우는 R 데이터 분석',\n",
       "       '올인원 패키지 : 누구나 가능한 VR/AR 콘텐츠 제작', '올인원 패키지 : 직장인을 위한 파이썬 데이터분석',\n",
       "       '올인원 패키지 : 사진 촬영 및 라이트룸 보정', '글로벌 엑스퍼트: 캐글 1위와 풀어보는 머신러닝 입문 트레이닝',\n",
       "       '올인원 패키지 : 업무자동화 MAX', '올인원 패키지 : 처음부터 시작하는 딥러닝 유치원',\n",
       "       '올인원 패키지 : SNS 콘텐츠 기획/제작 MAX 2020', '올인원 패키지 : FAST MBA 2020',\n",
       "       '올인원 패키지 : 딥러닝을 활용한 추천시스템 구현', '퍼포먼스 마케터 되기 온라인 완주반 2기',\n",
       "       '올인원 패키지 : HTML/CSS, JavaScript', '[한정판매] 딥러닝 끝장 패키지(~3월)',\n",
       "       '올인원 패키지 : Data Driven UX Design', '올인원 패키지 : 네트워크와 보안 핵심 요약',\n",
       "       '올인원 패키지 : 검색 최적화(SEO) 운영/전략', '올인원 패키지 : 자유자재로 쓰는 태블로 대시보드 마스터',\n",
       "       '올인원 패키지 : 2021 취업/이직/투자를 위한 기업분석', '올인원 패키지 : 동영상 마케팅 2020',\n",
       "       '글로벌 엑스퍼트 : GAN 딥러닝 완벽 가이드 with 글로벌 엔지니어',\n",
       "       '올인원 패키지 : 모두를 위한 SQL/DB', '올인원 패키지 : 통계와 엑셀을 활용한 데이터 분석',\n",
       "       '올인원 패키지 : 영상 제작/편집(2020)', '올인원 패키지 : 파이썬을 활용한 데이터 전처리 Level UP',\n",
       "       '올인원 패키지 : 코딩 첫 걸음 프로젝트', '올인원 패키지 : 수학적으로 접근하는 딥러닝',\n",
       "       '부동산 디벨로퍼 아카데미 : 토지 개발', '올인원 패키지 : 모델 성능 개선으로 익히는 강화학습 A to Z',\n",
       "       '올인원 패키지 : 직장인 회계 첫걸음', '올인원 패키지 : 파이썬을 활용한 이커머스 데이터 분석',\n",
       "       'The RED : 카카오페이지 기술전략이사 윤진석', '올인원 패키지 : 리더를 위한 HR/인재경영',\n",
       "       '커리어 가이드 : 마케터 편', '올인원 패키지 : 스타트업 투자유치&벤처 투자',\n",
       "       'REC.ON : 틱톡(TikTok)', '올인원 패키지 : R을 활용한 퀀트 전략 구현',\n",
       "       '코딩+알고리즘 온라인 완주반 5기', 'The RED : 최고제품책임자(CPO) 윤희경',\n",
       "       '올인원 패키지 : 김기현의 딥러닝을 활용한 자연어생성', '올인원 패키지 : Vue.js 압축 완성',\n",
       "       'REC.ON : AI', '올인원 패키지 : 성공적인 UX를 위한 유저 리서치 by 카카오페이 리서처',\n",
       "       '시크릿 코드 : 프론트엔드 UI 컴포넌트편', 'The RED : 데이터 사이언티스트 하용호',\n",
       "       '부동산 디벨로퍼 아카데미 : 주거용 수익형 부동산 개발', 'REC.ON : Autonomous Vehicle',\n",
       "       'The RED : 김민태', 'The RED : 1조 기업 가치를 만들어 낸 경영 원칙 by 신현성',\n",
       "       '글로벌 엑스퍼트 : 바이오 데이터사이언스(Bioinformatics)',\n",
       "       '데이터분석 프로젝트+자격증 온라인 완주반 2기', '코딩+알고리즘 온라인 완주반 6기',\n",
       "       '매주)브런치로 책 출판 온라인 완주반', 'REC.ON : VC',\n",
       "       '프로모션 : 콘텐츠 디자이너를 위한 커리어 백과사전 한끝세트 (3월 프리패스)',\n",
       "       '제품 디자인 포트폴리오 온라인 완주반 2기', '[한정판매] 자연어 A-Z 끝장 패키지(~4월)',\n",
       "       '올인원 패키지 : GA4 탑재, 구글 애널리틱스 끝장내기', '부동산 디벨로퍼 아카데미 : 부동산 마케팅',\n",
       "       '[한정판매] 딥러닝 끝장 패키지(~4월)', '[한정판매] 자연어처리 끝장 패키지(~4월)',\n",
       "       'SQL 100제 + 자격증 완성 온라인 완주반 5기', '디지털 마케팅 온라인 완주반 3기',\n",
       "       '초격차 패키지 : 한 번에 끝내는 AWS 인프라 구축과 DevOps 운영 v.1 (폐강)',\n",
       "       '올인원 패키지 : 김민태의 프론트엔드 아카데미 : 제 1강 JavaScript & TypeScript Essential',\n",
       "       '바이블 : 파이썬 기초부터 시작하는 딥러닝 영상인식', 'SQL 100제 + 자격증 완성 온라인 완주반 4기',\n",
       "       '스프링 아카데미아', '프로모션 : 개발자를 위한 코딩 백과사전 무제한 패스 (4월 프리패스)',\n",
       "       '프로모션 : 영상 퀄리티를 바꿔 줄 영상 제작 스킬 무제한 패스 (4월 프리패스)',\n",
       "       '프로모션 : 콘텐츠 디자이너를 위한 커리어 백과사전 무제한 패스 (4월 프리패스)',\n",
       "       '프로모션 : 내 콘텐츠 성과를 바꾸는 SNS 마케팅 무제한 패스 (4월 프리패스)',\n",
       "       '프로모션 : 시장의 흐름을 읽는 투자의 정석 무제한 패스 (4월 프리패스)',\n",
       "       '프로모션 : 내 커리어 지켜 줄 UX/UI 디자인 무제한 패스 (4월 프리패스)',\n",
       "       '프로모션 : 기초부터 시작하는 데이터분석 무제한 패스 (4월 프리패스)',\n",
       "       '프로모션 : 풀스택 마케터를 위한 마케팅 무제한 패스 (4월 프리패스)',\n",
       "       '밑바닥부터 배포까지 클론코딩 온라인 완주반 2기',\n",
       "       '프로모션 : 연봉 앞자리가 바뀌는 앱개발 무제한 패스 (4월 프리패스)', '브런치로 책 출판 온라인 완주반 3기',\n",
       "       '프로모션 : 시험대비 전공생을 위한 코딩 무제한 패스 (4월 프리패스)',\n",
       "       '프로모션 : 코딩 LEVEL UP 웹 개발 풀스텍 무제한 패스 (4월 프리패스)',\n",
       "       '프로모션 : 나를 위한 딥러닝 인사이트 딥러닝 백과사전 무제한 패스 (4월 프리패스)',\n",
       "       '프로모션 : 데이터 활용 능력을 바꿔 줄 데이터 분석 무제한 패스 (4월 프리패스)',\n",
       "       '프로모션 : 이력서를 살찌우는 직무 스킬업 무제한 패스 (4월 프리패스)',\n",
       "       '프로모션 : 필요할 때 꺼내보는 나만의 사수 마케팅 백과사전 무제한 패스 (4월 프리패스)',\n",
       "       '퍼포먼스 마케터 되기 온라인 완주반 3기',\n",
       "       '프로모션 : 딥러닝 기초부터 인사이트까지 딥러닝 마스터 무제한 패스 (4월 프리패스)',\n",
       "       '프로모션 : 워라밸을 완성하는 직장인 필수스킬 무제한 패스 (4월 프리패스)',\n",
       "       '승인받는 이모티콘 만들기 온라인 완주반 1기',\n",
       "       '프로모션 : Top tier 프로젝트를 만드는 무제한 패스 (4월 프리패스)',\n",
       "       '초격차 패키지 : 한 번에 끝내는 코딩테스트 369 Java편',\n",
       "       '프로모션 : MBA부터 HR까지 직장인 스킬업 무제한 패스 (4월 프리패스)',\n",
       "       '프로모션 : 온라인 창업 될 때 까지 무제한 패스 (4월 프리패스)',\n",
       "       '올인원 패키지 : 30개 글감으로 에세이 작가되기 BY.정영욱 플러스', 'UX/UI 포트폴리오 온라인 완주반 5기',\n",
       "       '올인원 패키지 : 30개 글감으로 에세이 작가되기 BY.정영욱',\n",
       "       '프로모션 : 투자의 방향성을 세우는 기업분석 무제한 패스 (4월 프리패스)',\n",
       "       '스프링 아카데미아 강의 7 - Spring Batch를 활용한 데이터 일괄처리',\n",
       "       'Java 웹 개발자 취업 온라인 완주반 3기', '올인원 패키지 : 아파트 말고 부동산 재테크 시작하기',\n",
       "       '코드 효율을 위한 리팩터링 온라인 완독반 2기', '직접 만드는 파이썬 자동화 온라인 완주반 1기',\n",
       "       '올인원 패키지 : 권오상의 금융 아카데미 - 권오상의 재무제표 분석 심화 (수강시간 제한)',\n",
       "       '올인원 패키지 : 권오상의 금융 아카데미 - 권오상의 재무제표 분석 기초 (수강시간 제한)',\n",
       "       '올인원 패키지 : 누적 조회수 12억! 우감독의 재미있는 영상 편집',\n",
       "       '[120일 수강 가능] 초격차 패키지 : 한번에 끝내는 영상 촬영과 편집',\n",
       "       '[120일 수강 가능] 초격차 패키지 : 한 번에 끝내는 프론트엔드 개발',\n",
       "       '[120일 수강 가능] 초격차 패키지 : 한번에 끝내는 Java/Spring 웹 개발 마스터',\n",
       "       '초격차 패키지 : 한번에 끝내는 3D 디자인 툴', '데이터분석 프로젝트+자격증 온라인 완주반 4기',\n",
       "       '프론트엔드 개발자 되기 온라인 완주반 4기', '매주) 컴퓨터 공학 전공자 따라잡기 온라인 완주반',\n",
       "       '스프링 아카데미아 15개 영상강의 코스(5월) - 샘플 강의 제공용',\n",
       "       '올인원 패키지 : 권오상의 금융 아카데미 - 권오상의 재무제표 분석 심화 (평생소장)',\n",
       "       '입만 열면 인정받는 스피치 10분컷', '이것만 배우면 끝 PPT 10분컷', '누워서 배우는 엑셀 10분컷',\n",
       "       '기초 회화부터 비즈니스 영어 10분컷', '이안 굿펠로의 딥러닝 온라인 완독반 1기',\n",
       "       '스프링 아카데미아 강의 2 - Spring Boot JPA 이해 및 성능 최적화',\n",
       "       '올인원 패키지 : 현직 Advisory에게 배우는 M&A 전략 및 PMI 실무',\n",
       "       '프로모션 : 3 STEP 으로 마스터하는 데이터분석 무제한 99패스 (5월 프리패스)',\n",
       "       '프로모션 : 풀스택 마케터를 위한 마케팅 무제한 99패스 (5월 프리패스)',\n",
       "       '프로모션 : 커리어를 UP UX/UI 디자인 무제한 99패스 (5월 프리패스)',\n",
       "       '프로모션 : 주니어 프론트엔드 개발자를 위한 무제한 99패스 (5월 프리패스)',\n",
       "       '프로모션 : 딥러닝 A to Z까지 한 번에 딥러닝 마스터 무제한 99패스 (5월 프리패스)',\n",
       "       '프로모션 : 워라밸을 완성하는 직장인 필수스킬 무제한 99패스 (5월 프리패스)',\n",
       "       '프로모션 : 나의 디자인 DNA찾기! 디자인 무제한 99패스 (5월 프리패스)',\n",
       "       '프로모션 : 주니어들을 위한 직장인 스킬 UP 무제한 99패스 (5월 프리패스)',\n",
       "       '프로모션 : 칼퇴기원! 실전압축 직장인 엑셀 무제한 99패스 (5월 프리패스)',\n",
       "       '프로모션 : 학점부터 코테까지 전공생 코딩 무제한 99패스 (5월 프리패스)',\n",
       "       '[120일 수강 가능] 초격차 패키지 : 한번에 끝내는 PPT 제작/디자인',\n",
       "       '[120일 수강 가능] 초격차 패키지 : 한번에 끝내는 디자인 툴',\n",
       "       '프로모션 : 데이터 분석 싸이클 완주를 위한 딥러닝 무제한 99패스 (5월 프리패스)',\n",
       "       '[120일 수강 가능] 올인원 패키지 : 디지털 마케팅 MAX 2020',\n",
       "       '[120일 수강 가능] 올인원 패키지 : 알고리즘 기술면접 완전 정복',\n",
       "       '[120일 수강 가능] 초격차 패키지 : 한번에 끝내는 UX/UI 디자인',\n",
       "       '프로모션 : 초봉을 바꾸는 프론트엔드 무제한 99패스 (5월 프리패스)',\n",
       "       '[120일 수강 가능] 초격차 패키지 : 한 번에 끝내는 데이터 분석 툴',\n",
       "       '[120일 수강 가능] 초격차 패키지 : 한 번에 끝내는 엑셀 실무',\n",
       "       '프로모션 : 기초부터 시작하는 데이터분석 무제한 99패스 (5월 프리패스)',\n",
       "       '[120일 수강 가능] 올인원 패키지 : 직장인을 위한 파이썬 데이터분석',\n",
       "       '[120일 수강 가능] 올인원 패키지 : Financial Modeling',\n",
       "       '[120일 수강 가능] 올인원 패키지 : 재무/세무 회계 실무 완성',\n",
       "       '프로모션 : 코딩 LEVEL UP 웹 개발 풀스텍 무제한 99패스 (5월 프리패스)',\n",
       "       '프로모션 : 매출을 드라이브 하는 마케팅 백과사전 무제한 99패스 (5월 프리패스)',\n",
       "       '프로모션 : 시장의 흐름을 읽는 투자의 정석 무제한 99패스 (5월 프리패스)',\n",
       "       '프로모션 : 연봉 앞자리가 바뀌는 앱개발 무제한99패스 (5월 프리패스)',\n",
       "       '프로모션 : 영상 퀄리티를 바꿔 줄 영상 제작 스킬 무제한 99패스 (5월 프리패스)',\n",
       "       '[120일 수강 가능] 올인원 패키지 : 모두를 위한 SQL/DB',\n",
       "       '프로모션 : MBA부터 HR까지 직장인 스킬업 무제한 99패스 (5월 프리패스)',\n",
       "       '프로모션 : 유튜버 따라잡고 실버버튼 받기 무제한 99패스 (5월 프리패스)',\n",
       "       '프로모션 : 영알못도 완성하는 영상편집 무제한 99패스 (5월 프리패스)',\n",
       "       '[120일 수강 가능] 올인원 패키지 : GA4 탑재, 구글 애널리틱스 끝장내기',\n",
       "       '프로모션 : 콘텐츠 디자이너를 위한 커리어 백과사전 무제한 99패스 (5월 프리패스)',\n",
       "       '프로모션 : 이력서를 살찌우는 취업준비 무제한 99패스 (5월 프리패스)',\n",
       "       '프로모션 : 나를 위한  데이터사이언스 백과사전 무제한 패스 (5월 프리패스)',\n",
       "       '프로모션 : 개발자를 위한 코딩 만능 백과사전 무제한 99패스 (5월 프리패스)',\n",
       "       '초격차 패키지 : 확실하게 끝내는 포토샵&일러스트레이터',\n",
       "       '프로모션 : 데이터 활용 능력을 바꿔 줄 데이터 분석 무제한 99패스 (5월 프리패스)',\n",
       "       '프로모션 : Top tier 프로젝트를 만드는 무제한 99패스 (5월 프리패스)',\n",
       "       '올인원 패키지 : 13만 구독자 피피티프로젝트의 누구나 쉽게 배우는 시선강탈 피피티 디자인',\n",
       "       '프로모션 : 투자의 방향성을 세우는 기업분석 무제한 99패스 (5월 프리패스)',\n",
       "       '프로모션 : 내 콘텐츠 성과를 바꾸는 SNS 마케팅 무제한 99패스 (5월 프리패스)',\n",
       "       '프로모션 : 1인마켓 준비부터 매출관리까지 무제한 99패스 (5월 프리패스)',\n",
       "       'Java 웹 개발자 취업 온라인 완주반 1기', '초격차 패키지 : 한 번에 끝내는 node.js 웹 프로그래밍',\n",
       "       '[한정판매] 자연어 A-Z 끝장 패키지(~5월)', '매주)서비스 기획서 완성 온라인 완주반 2105',\n",
       "       'Archive-Octane Render BASIC',\n",
       "       '스프링 아카데미아 강의 5 - Spring Security 인증 커스텀을 통한 서비스 구축',\n",
       "       'The RED : 개발자로 살아남기 : 30년을 주도하는 9가지 필수 기술 by 박종천',\n",
       "       '팀원에게 인정받는 리더십 하루 10분컷', '[한정판매] 자연어처리 끝장 패키지(~5월)',\n",
       "       '일상을 담는 아이패드 드로잉 10분컷', '모션그래픽 포트폴리오 온라인 완주반 1기',\n",
       "       '프로모션 : 기초부터 시작하는 데이터분석 프리패스 (5월 삼성 패키지 현물 :  삼성노트북 플러스2)',\n",
       "       '프로모션 : 코딩 LEVEL UP 웹 개발 풀스텍 프리패스 (5월 삼성 패키지 현물 :  삼성노트북 플러스2)',\n",
       "       '프로모션 : 영상 퀄리티를 바꿔 줄 영상 제작 스킬 프리패스(5월 삼성 패키지 현물 :  삼성 갤럭시 북 프로)',\n",
       "       '프로모션 : 워라밸을 완성하는 직장인 필수스킬 프리패스 (5월 삼성 패키지 현물 :  삼성노트북 플러스2)',\n",
       "       '프로모션 : 코딩 LEVEL UP 웹 개발 풀스텍 프리패스 (5월 삼성 패키지 현물 :  삼성 갤럭시 북 프로)',\n",
       "       '프로모션 : 워라밸을 완성하는 직장인 필수스킬 프리패스 (5월 삼성 패키지 현물 :  삼성 갤럭시 북 프로)',\n",
       "       '프로모션 : 풀스택 마케터를 위한 마케팅 프리패스 (5월 삼성 패키지 현물 :  삼성노트북 플러스2)',\n",
       "       '시크릿코드 : SpringBoot/JPA (1)',\n",
       "       '프로모션 : 영상 퀄리티를 바꿔 줄 영상 제작 스킬 프리패스 (5월 삼성 패키지 현물 :  삼성노트북 플러스2)',\n",
       "       '프로모션 : 풀스택 마케터를 위한 마케팅 프리패스 (5월 삼성 패키지 현물 :  삼성 갤럭시 북 프로)',\n",
       "       '프로모션 : 시장의 흐름을 읽는 투자의 정석 프리패스  (5월 삼성 패키지 현물 :  삼성노트북 플러스2)',\n",
       "       '프로모션 : 기초부터 시작하는 데이터분석 프리패스 (5월 삼성 패키지 현물 :  삼성 갤럭시 북 프로)',\n",
       "       '[한정판매] 딥러닝 끝장 패키지(~5월)',\n",
       "       '프로모션 : 시장의 흐름을 읽는 투자의 정석 프리패스(5월 삼성 패키지 현물 :  삼성 갤럭시 북 프로)',\n",
       "       '건축/공간 디자인 실무 완성 온라인 완주반 1기',\n",
       "       '프로모션 : 커리어를 UP UX/UI 디자인 프리패스 (5월 삼성 패키지 현물 :  삼성 갤럭시 북 프로)',\n",
       "       '코딩+알고리즘 온라인 완주반 7기', '올인원 패키지 : A/B 테스트 탑재, 개인화 마케팅 끝장내기',\n",
       "       '올인원 패키지 : 1인 쇼핑몰 시작하기 (2020)',\n",
       "       '프로모션 : 데이터 분석 A to Z 평생 PASS (10월)',\n",
       "       '매주)SQL 100제 + 자격증 완성 온라인 완주반', '초격차 패키지 : 한번에 끝내는 3D 모션그래픽',\n",
       "       '올인원 패키지 : star741의 캐주얼 일러스트 드로잉',\n",
       "       '스프링 아카데미아 강의 11 - Spring Security를 활용한 OAuth Framework Server Side 구현',\n",
       "       '스프링 아카데미아 강의 4 - Spring REST Docs로 자동으로 API문서 만들기',\n",
       "       '초격차 패키지 : 한 번에 끝내는 파이썬 웹 개발',\n",
       "       '스프링 아카데미아 강의 8 - Spring Security를 통한 MFA 구현',\n",
       "       '프로모션 : 2+2 워라밸을 완성하는 직장인 필수스킬 PASS  (6월 프리패스)',\n",
       "       '프로모션 : 2+2 코딩테스트 결과를 바꾸는 전공생 코딩 PASS (6월 프리패스)',\n",
       "       '프로모션 : 2+2 한 번에 끝내는 개발 풀스택 쌓기 PASS (6월 프리패스)',\n",
       "       '프로모션 : 2+2 MBA부터 HR까지 직장인 스킬 정복 PASS  (6월 프리패스)',\n",
       "       '프로모션 : 2+2 기초부터 다지는 데이터분석 PASS  (6월 프리패스)',\n",
       "       '프로모션 : 2+2 주니어 프론트엔드 개발자를 위한 승진코딩 PASS (6월 프리패스)',\n",
       "       '프로모션 : 개발자를 위한 코딩 만능 백과사전 PASS (6월 프리패스)',\n",
       "       '프로모션 : 2+2 연봉 앞자리가 바뀌는 앱개발 PASS (6월 프리패스)',\n",
       "       '프로모션 : 2+2 시장의 흐름을 읽는 투자의 정석 PASS  (6월 프리패스)',\n",
       "       '프로모션 : 2+2 커리어를 UP! UX/UI 디자인 PASS (6월 프리패스)',\n",
       "       '프로모션 : 2+2 초봉을 바꾸는 주니어를 위한 개발 PASS (6월 프리패스)',\n",
       "       '프로모션 : 콘텐츠 디자이너를 위한 커리어 백과사전 PASS (6월 프리패스)',\n",
       "       '프로모션 : 2+2 나의 디자인 DNA찾기! 디자이너를 위한 PASS (6월 프리패스)',\n",
       "       '프로모션 : 2+2 데이터 사이언스 실무대비! 딥러닝/머신러닝 마스터 PASS (6월 프리패스)',\n",
       "       '프로모션 : 2+2 데이터 분석 싸이클 완주를 위한 딥러닝 PASS (6월 프리패스)',\n",
       "       '프로모션 : 2+2 유튜버 따라잡고 실버버튼 받는 영상PASS (6월 프리패스)',\n",
       "       '프로모션 : 2+2 코딩실력 LEVEL UP 웹 개발 PASS (6월 프리패스)',\n",
       "       '프로모션 : 2+2 풀스택 데이터 사이언티스트를 위한 필수 PASS (6월 프리패스)',\n",
       "       '프로모션 : 2+2 딥러닝 A to Z까지 한 번에 마스터하는 PASS (6월 프리패스)',\n",
       "       '프로모션 : 2+2 주니어들을 위한 직장인 스킬 UP PASS (6월 프리패스)',\n",
       "       '프로모션 : 매출을 드라이브 하는 마케팅 백과사전 무제한 PASS (6월 프리패스)',\n",
       "       '프로모션 : 2+2 지금은 마테크가 대세! 매출을 일으키는 마케팅 PASS (6월 프리패스)',\n",
       "       '프로모션 :2+2 취업까지 순식간! 개발 취준생을 위한 합격 PASS (6월 프리패스)',\n",
       "       '프로모션 : 2+2 칼퇴기원! 실전압축 직장인 엑셀 PASS (6월 프리패스)',\n",
       "       '프로모션 : 2+2 풀스택 마케터를 위한 마케팅 PASS  (6월 프리패스)',\n",
       "       '프로모션 : 나를 위한  데이터사이언스 백과사전 PASS (6월 프리패스)',\n",
       "       '프로모션 : 2+2 디지털 마케팅의 끝판왕 콘텐츠 디자인 PASS (6월 프리패스)',\n",
       "       '클론코딩으로 앱 개발 입문하기 온라인 완주반 3기',\n",
       "       '프로모션 : 2+2 영상 퀄리티를 높이는 전문가 편집스킬 PASS (6월 프리패스)',\n",
       "       '프로모션 : 2+2 MZ세대를 잡아라! SNS 마케팅 트렌드 PASS (6월 프리패스)',\n",
       "       '매주)컴퓨터 공학 전공자 따라잡기 온라인 완주반',\n",
       "       '프로모션 : 2+2 Top tier 프로젝트를 만드는 데이터 사이언스 PASS (6월 프리패스)',\n",
       "       '매주)서비스 기획서 완성 온라인 완주반',\n",
       "       '프로모션 : 2+2 데이터 활용 능력을 바꿔 줄 데이터 분석 PASS  (6월 프리패스)',\n",
       "       '프로모션 : 2+2 파이썬의 바이블! 딥러닝/머신러닝 정석 PASS  (6월 프리패스)',\n",
       "       '경영의 신: core MBA',\n",
       "       '초격차 패키지: 30개 프로젝트로 배우는 Android 앱 개발 with Kotlin 특별할인',\n",
       "       '프로모션 : 2+2 취준생 필수! 이력서 능력치 UP 취업 합격 PASS (6월 프리패스)',\n",
       "       '올인원 패키지 : 아카데미 : 편집하는여자의 영상편집 마스터클래스 - 제 1강 프리미어프로 베이직',\n",
       "       '프로모션 : 2+2 투자의 방향성을 세우는 기업분석 PASS (6월 프리패스)',\n",
       "       '[한정판매] 자연어 A-Z 끝장 패키지(~6월)', '초격차 패키지 : 일잘러 필수 스킬 모음.zip',\n",
       "       '올인원 패키지 : 권오상의 금융 아카데미 - 권오상 회계사의 자금조달 분석 및 가치평가 (수강시간 제한)',\n",
       "       '(테스트용) 프로모션 : 기초부터 시작하는 데이터분석 프리패스 (5월 삼성 패키지 현물 :  삼성노트북 플러스2)',\n",
       "       '올인원 패키지 : 구글 Material Design 시스템을 활용한 Youtube for Learning 앱 디자인 프로젝트',\n",
       "       '[한정판매] 자연어처리 끝장 패키지(~6월)', '초격차 패키지 : 한 번에 끝내는 유튜브 크리에이터 되기',\n",
       "       '올인원 패키지 : C#으로 하는 인공지능 게임 제작 : 강화학습 에이전트를 사용한 보드게임 제작 실습',\n",
       "       '초격차 패키지 : 한 번에 끝내는 데이터 분석',\n",
       "       'The RED : 김영하 작가의 내 안의 숨은 이야기를 찾아 쓰는 법',\n",
       "       '[런칭프로모션_무료클립제공] 올인원 패키지 : 박은종의 객체지향 설계를 위한 디자인패턴 with 자바',\n",
       "       '[한정판매] 딥러닝 끝장 패키지(~6월)',\n",
       "       '스프링 아카데미아 강의 9 - 직접 적용해보는 TDD와 Spring Boot',\n",
       "       '올인원 패키지 : 15명의 전문 애널리스트에게 배우는 산업&매크로 분석과 투자 전략',\n",
       "       '(test)프로모션 강의 페이지', '엑셀 온라인 완주반 3기', '올인원 패키지 : 데이터기반 마케팅',\n",
       "       '[런칭프로모션_무료클립제공]초격차 패키지 : 한 번에 끝내는 React의 모든 것',\n",
       "       '초격차 패키지 : 한 번에 끝내는 포토샵 활용',\n",
       "       'The RED : 비즈니스 성공을 위한 Java/Spring 기반 서비스 개발과 MSA 구축 by 이희창',\n",
       "       '초격차 패키지 : 세상의 모든 감성 아이패드 드로잉', '초격차 패키지 : 게임 캐릭터 모델링의 모든 것',\n",
       "       '올인원 패키지 : 강필성의 머신러닝 아카데미',\n",
       "       '프로모션 : MZ세대를 잡아라! SNS 마케팅 트렌드 BEST PASS (7월 프리패스)',\n",
       "       '프로모션 : 투자의 방향성을 세우는 기업분석 BEST PASS (7월 프리패스)',\n",
       "       '프로모션 : 나의 디자인 DNA찾기! 디자이너를 위한 BEST PASS (7월 프리패스)',\n",
       "       '프로모션 : 딥러닝 A to Z까지 한 번에 마스터하는 BEST PASS (7월 프리패스)',\n",
       "       '프로모션 : 파이썬의 바이블 BEST PASS (7월 프리패스)',\n",
       "       '프로모션 : 기초부터 다지는 데이터분석 BEST PASS (7월 프리패스)',\n",
       "       '프로모션 : 풀스택 마케터를 위한 마케팅 BEST PASS (7월 프리패스)',\n",
       "       '프로모션 : 취준생 필수! 이력서 능력치 UP 취업 합격 BEST PASS (7월 프리패스)',\n",
       "       '프로모션 : 매출을 드라이브 하는 마케팅 백과사전 BEST PASS (7월 프리패스)',\n",
       "       '프로모션 : 코딩테스트 결과를 바꾸는 전공생 코딩 BEST PASS (7월 프리패스)',\n",
       "       '프로모션 : 데이터 분석 싸이클 완주를 위한 딥러닝 BEST PASS (7월 프리패스)',\n",
       "       '프로모션 : 연봉 앞자리가 바뀌는 앱개발 BEST PASS (7월 프리패스)',\n",
       "       '올인원 패키지 : 박은종의 객체지향 설계를 위한 디자인패턴 with 자바',\n",
       "       '프로모션 : Top tier 프로젝트를 만드는 데이터 사이언스 BEST PASS (7월 프리패스)',\n",
       "       '[한정판매] 자연어처리 끝장 패키지(~7월)',\n",
       "       '프로모션 : 데이터 사이언스 실무대비! 딥러닝/머신러닝 마스터 BEST PASS (7월 프리패스)',\n",
       "       '프로모션 : 나를 위한  데이터사이언스 백과사전 BEST PASS (7월 프리패스)',\n",
       "       '프로모션 : 한 번에 끝내는 개발 풀스택 쌓기 BEST PASS (7월 프리패스)',\n",
       "       '프로모션 : 시장의 흐름을 읽는 투자의 정석 BEST PASS  (7월 프리패스)',\n",
       "       '프로모션 : 디지털 마케팅의 끝판왕 콘텐츠 디자인 BEST PASS (7월 프리패스)',\n",
       "       '프로모션 : 프론트엔드 끝내기 BEST PASS (7월 프리패스)',\n",
       "       '프로모션 : 커리어를 UP! UX/UI 디자인 BEST PASS (7월 프리패스)',\n",
       "       '프로모션 : 유튜버 따라잡고 실버버튼 받는 영상 BEST PASS (7월 프리패스)',\n",
       "       '프로모션 : 지금은 마테크가 대세! 매출을 일으키는 마케팅 BEST PASS (7월 프리패스)',\n",
       "       '프로모션 : 데이터 활용 능력을 바꿔 줄 데이터 분석 BEST PASS  (7월 프리패스)',\n",
       "       'The RED : 견고한 UI 설계를 위한 마크업 가이드 by 정찬명',\n",
       "       '올인원 패키지 : 누적 다운로드 120만+ 1인 개발자와 함께하는 앱 개발 입문',\n",
       "       '프로모션 : 영상 퀄리티를 높이는 전문가 편집스킬 PASS (7월 프리패스)',\n",
       "       '프로모션 : 초봉을 바꾸는 주니어를 위한 개발 BEST PASS (7월 프리패스)',\n",
       "       '프로모션 : 풀스택 데이터 사이언티스트를 위한 필수 BEST PASS (7월 프리패스)',\n",
       "       '프로모션 : 콘텐츠 디자이너를 위한 커리어 백과사전 BEST PASS (7월 프리패스)',\n",
       "       '나의 칼퇴치트키 엑셀유치원', 'The RED : 칼만필터를 활용한 자율주행 센서퓨전 기술 구현 by 조형기',\n",
       "       '[한정판매] 딥러닝 끝장 패키지(~7월)',\n",
       "       '프로모션 : 주니어들을 위한 직장인 스킬 UP BEST PASS (7월 프리패스)',\n",
       "       '프로모션 : MBA부터 HR까지 직장인 스킬 정복 BEST PASS  (7월 프리패스)',\n",
       "       '프로모션 : 워라밸을 완성하는 직장인 필수스킬 BEST PASS (7월 프리패스)',\n",
       "       '프로모션 : 칼퇴기원! 실전압축 직장인 엑셀 BEST PASS (7월 프리패스)',\n",
       "       '프로모션 : 개발자를 위한 코딩 만능 백과사전 BEST PASS (7월 프리패스)',\n",
       "       '(초격차변경)프로모션 : 코딩테스트 결과를 바꾸는 전공생 코딩 BEST PASS (7월 프리패스)',\n",
       "       '올인원 패키지 : Elasticsearch로 하루만에 고급 검색 엔진 만들기',\n",
       "       '올인원 패키지 : 1억 8천만명을 움직이는 실리콘밸리 슈퍼우먼이 알려주는 대체 불가 관리자로 성장하는 법',\n",
       "       'The RED : 백발의 개발자를 꿈꾸며 : 코드리뷰, 레거시와 TDD by 백명석, 최범균',\n",
       "       '프로모션 : 취업까지 순식간! 개발 취준생을 위한 합격 BEST PASS (7월 프리패스)',\n",
       "       '초격차 패키지 : 30개 프로젝트로 배우는 iOS 앱 개발 with Swift',\n",
       "       '초격차 패키지 : 한 번에 끝내는 React의 모든 것', '[한정판매] 자연어 A-Z 끝장 패키지(~7월)',\n",
       "       '프로모션 : 연봉 앞자리가 바뀌는 앱개발 iPad 패키지 (7월 현물 프리패스)',\n",
       "       '프로모션 : 아이패드 200%활용 드로잉 만랩 iPad 패키지 (7월 현물 프리패스)',\n",
       "       '프로모션 : 한 번에 끝내는 개발 풀스택 iPad 패키지 (7월 현물 프리패스)',\n",
       "       '프로모션 : 커리어를 UP! UX/UI 디자인 iPad 패키지 (7월 현물 프리패스)',\n",
       "       '프로모션 : 트렌드 완벽정복! 일잘러 마케터  iPad 패키지 (7월 현물 프리패스)',\n",
       "       '프로모션 : MZ세대를 잡아라! SNS 마케팅 트렌드  iPad 패키지 (7월 현물 프리패스)',\n",
       "       '프로모션 : 매출을 드라이브 하는 마케팅 백과사전 iPad 패키지 (7월 현물 프리패스)',\n",
       "       '프로모션 : 풀스택 데이터 사이언티스트를 위한 필수 iPad 패키지 (7월 현물 프리패스)',\n",
       "       '프로모션 : 기초부터 다지는 데이터분석 iPad 패키지 (7월 현물 프리패스)',\n",
       "       '프로모션 : 나를 위한  데이터사이언스 백과사전  iPad 패키지 (7월 현물 프리패스)',\n",
       "       '프로모션 : 풀스택 마케터를 위한 마케팅 iPad 패키지 (7월 현물 프리패스)',\n",
       "       '프로모션 : 딥러닝 A to Z까지 한 번에 마스터하는 iPad 패키지 (7월 현물 프리패스)',\n",
       "       '올인원 패키지 : 박세익 전무에게 배우는 주식 시장 분석 & 포트폴리오 운용 전략',\n",
       "       '프로모션 : 개발자를 위한 코딩 만능 백과사전 iPad 패키지 (7월 현물 프리패스)',\n",
       "       'The RED : 탑 아티스트가 선택한 디렉터 : 권오준이 알려주는 영상 연출의 모든 것',\n",
       "       '프로모션 : 데이터 활용 능력을 바꿔 줄 데이터 분석 iPad 패키지 (7월 현물 프리패스)',\n",
       "       '프로모션 : 영상 퀄리티를 높이는  전문가 편집스킬 iPad 패키지 (7월 현물 프리패스)', '일러스트레이터 서지',\n",
       "       '프로모션 : 투자의 방향성을 세우는 기업분석 iPad 패키지 (7월 현물 프리패스)',\n",
       "       '프로모션 : 비 전공자를 위한 프로그래밍 입문  iPad 패키지 (7월 현물 프리패스)',\n",
       "       '프로모션 : 워라밸을 완성하는 직장인 필수스킬 iPad 패키지 (7월 현물 프리패스)',\n",
       "       '프로모션 : 유튜버 따라잡고 실버버튼 받는 영상 iPad 패키지 (7월 현물 프리패스)',\n",
       "       '프로모션 : 초봉을 바꾸는 주니어를 위한 개발 iPad 패키지 (7월 현물 프리패스)',\n",
       "       '초격차 패키지 : 한 번에 끝내는 PPT 제작/디자인',\n",
       "       '프로모션 : 나의 디자인 DNA찾기! 디자이너를 위한 iPad 패키지 (7월 현물 프리패스)',\n",
       "       '올인원 패키지 : 모바일 앱 개발', '올인원 패키지 : 영상 제작/편집 (**운영되지 않는 코스입니다)',\n",
       "       '올인원 패키지 : 콘텐츠 마케팅', '프로모션 : 프론트엔드 끝내기 iPad 패키지 (7월 현물 프리패스)',\n",
       "       '프로모션 : 코딩테스트 결과를 바꾸는 전공생 코딩 iPad 패키지 (7월 현물 프리패스)',\n",
       "       '초격차 패키지 : 한번에 끝내는 VFX',\n",
       "       '프로모션 : 콘텐츠 디자이너를 위한 커리어 백과사전 iPad 패키지 (7월 현물 프리패스)',\n",
       "       '프로모션 : 파이썬의 바이블 iPad 패키지 (7월 현물 프리패스)',\n",
       "       '프로모션 : 주니어들을 위한 직장인 스킬 UP iPad 패키지 (7월 현물 프리패스)',\n",
       "       '(프로모션 7/16-7/29) 초격차 패키지 : 한 번에 끝내는 Spring 완.전.판',\n",
       "       '초격차 패키지 : 한 번에 끝내는 컴퓨터 공학 전공필수 & 인공지능 심화',\n",
       "       '프로모션 : 지금은 마테크가 대세! 매출을 일으키는 마케팅 iPad 패키지 (7월 현물 프리패스)',\n",
       "       '프로모션 : 시장의 흐름을 읽는 투자의 정석 iPad 패키지 (7월 현물 프리패스)',\n",
       "       '프로모션 : MBA부터 HR까지 직장인 스킬 정복 iPad 패키지 (7월 현물 프리패스)',\n",
       "       '프로모션 : 디지털 마케팅의 끝판왕 콘텐츠 디자인 iPad 패키지 (7월 현물 프리패스)',\n",
       "       '프로모션 : 칼퇴기원! 실전압축! 직장인 엑셀 iPad 패키지 (7월 현물 프리패스)',\n",
       "       '초격차 패키지 : 무조건 팔리는 SNS콘텐츠 끝장내기',\n",
       "       'The RED : 백엔드 에센셜 : 대용량 서비스를 위한 아키텍처 with Redis by 강대명',\n",
       "       '올인원 패키지 : 김기현의 BERT, GPT-3를 활용한 자연어처리 ',\n",
       "       '올인원 패키지 : 엑셀로 만드는 부동산 Financial Modeling',\n",
       "       '초격차 패키지 : 한 번에 끝내는 딥러닝/인공지능', '올인원 패키지 : 박담 작가와 함께 남자 캐릭터 드로잉',\n",
       "       '올인원 패키지 : 박민수에게 배우는 직장인 초현실 투자 전략',\n",
       "       '올인원 패키지 : 스프링러너의 스프링 아카데미 : Spring을 활용한 유연한 백엔드 개발 트레이닝',\n",
       "       '올인원 패키지 : 유전 알고리즘을 활용한 머신러닝 입력 최적화 및 대안 제안 메소드',\n",
       "       '올인원 패키지 : FX 아티스트 김재민의 리얼리스틱 후디니 입문',\n",
       "       '초격차 패키지 : 한 번에 끝내는 게임 배경의 모든 것',\n",
       "       '초격차 패키지 : 한 번에 끝내는 AWS 인프라 구축과 DevOps 운영',\n",
       "       '초격차 패키지 : 한 번에 끝내는 Spring 완.전.판',\n",
       "       '올인원 패키지 : SNS 콘텐츠 기획/제작 MAX 2020 + [20%할인쿠폰]초격차 패키지 : 무조건 팔리는 SNS 콘텐츠 끝장내기',\n",
       "       '프로모션 : 영상 퀄리티를 높이는 전문가 편집스킬 PASS (8월 프리패스)',\n",
       "       '프로모션 : 프론트엔드 첫 걸음 평생 PASS (8월 프리패스)',\n",
       "       '프로모션 : 풀스택 마케터를 위한 마케팅 평생 PASS (8월 프리패스)',\n",
       "       '프로모션 : 워라밸을 완성하는 직장인 필수스킬 평생 PASS (8월 프리패스)',\n",
       "       '프로모션 : 커리어를 UP! UX/UI 디자인 평생 PASS (8월 프리패스)',\n",
       "       '프로모션 : 칼퇴기원! 실전압축 직장인 엑셀 평생 PASS (8월 프리패스)',\n",
       "       '[한정판매] 딥러닝 끝장 패키지(~8월)',\n",
       "       '프로모션 : 나의 디자인 DNA찾기! 디자이너를 위한 평생 PASS (8월 프리패스)',\n",
       "       '프로모션 : 파이썬의 바이블 평생 PASS (8월 프리패스)',\n",
       "       '프로모션 : 유튜버 따라잡고 실버버튼 받는 영상 평생 PASS (8월 프리패스)',\n",
       "       '프로모션 : 나를 위한  데이터사이언스 백과사전 평생 PASS (8월 프리패스)',\n",
       "       '프로모션 : 국내외 TOP tier 전문가와 함께하는 데이터 사이언스 프로젝트 평생 PASS (8월 프리패스)',\n",
       "       '프로모션 : 데이터 분석 싸이클 완주를 위한 딥러닝 평생 PASS (8월 프리패스)',\n",
       "       '프로모션 : 매출을 드라이브 하는 마케팅 백과사전 평생 PASS (8월 프리패스)',\n",
       "       '프로모션 : MZ세대를 잡아라! SNS 마케팅 트렌드 평생 PASS (8월 프리패스)',\n",
       "       '프로모션 : 취준생 필수! 이력서 꽉채우는 평생 PASS (8월 프리패스)',\n",
       "       '프로모션 : 경쟁력을 만드는 데이터분석 평생 PASS (8월 프리패스)',\n",
       "       '프로모션 : 초봉을 바꾸는 주니어를 위한 개발평생 PASS (7월 프리패스)',\n",
       "       '프로모션 : 주니어들을 위한 직장인 스킬 UP 평생 PASS (8월 프리패스)',\n",
       "       '프로모션 : 데이터 사이언스 실무대비! 딥러닝/머신러닝 마스터 평생 PASS (8월 프리패스)',\n",
       "       '[한정판매] 자연어 A-Z 끝장 패키지(~8월)',\n",
       "       '프로모션 : 데이터 사이언티스트라면 필수! 풀스택 데이터 사이언스 평생 PASS (8월 프리패스)',\n",
       "       '프로모션 : 데이터 활용 능력을 바꿔 줄 데이터 분석 평생 PASS (8월 프리패스)',\n",
       "       '프로모션 : 한 번에 끝내는 개발 풀스택 쌓기 평생 PASS (8월 프리패스)',\n",
       "       '프로모션 : 연봉 앞자리가 바뀌는 앱개발 평생 PASS (8월 프리패스)',\n",
       "       '초격차 패키지 : 한번에 끝내는 금융ㆍ투자(IB) 실무',\n",
       "       '프로모션 : 디지털 마케팅의 끝판왕 콘텐츠 디자인 평생 PASS (8월 프리패스)',\n",
       "       '프로모션 : 한 번에 마스터하는 딥러닝 A to Z 평생 PASS (8월 프리패스)',\n",
       "       '프로모션 : 시장의 흐름을 읽는 투자의 정석 평생 PASS  (8월 프리패스)',\n",
       "       '프로모션 : 프론트엔드 개발자 준비 평생 PASS (8월 프리패스)',\n",
       "       '프로모션 : 지금은 마테크가 대세! 매출을 일으키는 마케팅 평생 PASS (8월 프리패스)',\n",
       "       '프로모션 : 콘텐츠 디자이너를 위한 커리어 백과사전 평생 PASS (8월 프리패스)',\n",
       "       '프로모션 : MBA부터 HR까지 직장인 스킬 평생 PASS  (8월 프리패스)',\n",
       "       '프로모션 : 투자가 망설여진다면? 기업분석 평생 PASS (8월 프리패스)',\n",
       "       '프로모션 : 취업까지 순식간! 개발 취준생을 위한 합격 평생 PASS (8월 프리패스)',\n",
       "       '프로모션 : 개발자를 위한 코딩 만능 백과사전 평생 PASS (8월 프리패스)',\n",
       "       'The RED : 조은의 프론트엔드 실무 가이드 : 요구사항 분석과 적정 기술',\n",
       "       '초격차 패키지 : 게임 개발자 취업의 모든 것',\n",
       "       '올인원 패키지 : 디자인의 차이를 만드는 서체 활용법 by 산돌 서체 디자이너',\n",
       "       '초격차 패키지 : 한 번에 끝내는 일러스트레이터 활용', '[한정판매] 자연어처리 끝장 패키지(~8월)',\n",
       "       '용호수의 돈 버는 실전 영상 제작', '초격차 패키지 : 한 번에 끝내는 디지털 마케팅',\n",
       "       '올인원 패키지 : 공여사와 무작정 풀어보는 엑셀 실무', '올인원 패키지 : 시선을 사로잡는 브랜드 디자인',\n",
       "       '[묶음] 용호수의 입문+실전 강의를 한 번에!', '초격차 패키지 : 한 번에 끝내는 머신러닝과 데이터분석 A-Z',\n",
       "       '초격차 패키지 : 한 번에 끝내는 부동산 경매/공매',\n",
       "       'The RED : 픽사 라이팅 아티스트에게 배우는 빛과 색의 비주얼 스토리텔링 by 이민형',\n",
       "       '올인원 패키지 : 최성일의 코딩 초급자를 위한 웹 모션 디자인',\n",
       "       '올인원 패키지 : 글로벌 1위 Salesforce 디자인 디렉터의 B2B SaaS 프로덕트 디자인 스프린트 실전',\n",
       "       '프로모션 : 커리어를 UP! UX/UI 디자인 벼락치기 패키지 (9월 프리패스)',\n",
       "       '올인원 패키지 : 리마의 로맨스판타지 웹소설 일러스트',\n",
       "       'The RED : 고객 경험을 개선하는 A/B테스트 기반 모바일 앱 개발 by 이승민',\n",
       "       '올인원 패키지 : 노잼봇과 함께 배우는 파이썬 유치원',\n",
       "       '올인원 패키지 : 세일즈 코치 Cate의 B2B Sales 성공방정식',\n",
       "       '프로모션 : MZ세대를 잡아라! SNS 마케팅 트렌드 벼락치기 패키지 (9월 프리패스)',\n",
       "       '프로모션 : 상상을 현실로 만드는 VFX 벼락치기 패키지 (9월 프리패스)',\n",
       "       '프로모션 : 파이썬 실전 UP! 데이터분석 벼락치기 패키지 (9월 프리패스)',\n",
       "       '프로모션 : 지금은 마테크가 대세! 매출을 일으키는 마케팅 벼락치기 패키지 (9월 프리패스)',\n",
       "       '프로모션 : 경쟁력을 만드는 데이터분석 벼락치기 패키지 (9월 프리패스)',\n",
       "       '프로모션 : 풀스택 마케터를 만드는 마케팅 벼락치기 패키지 (9월 프리패스)',\n",
       "       '프로모션 : 주니어 UX/UI 디자이너를 위한 실전 디자인 벼락치기 패키지 (9월 프리패스)',\n",
       "       '프로모션 : 나도 실버버튼 유튜버! 영상제작 벼락치기 패키지 (9월 프리패스)',\n",
       "       '수정:프로모션 : 경쟁력을 만드는 데이터분석 벼락치기 패키지 (9월 프리패스)',\n",
       "       '프로모션 : 영상 퀄리티를 높이는 전문가 편집스킬 벼락치기 패키지 (9월 프리패스)',\n",
       "       '프로모션 : 시장의 흐름을 읽는 투자의 정석 벼락치기 패키지  (9월 프리패스)',\n",
       "       '온라인 강의 : 입문자를 위한 PPT 활용의 모든 것',\n",
       "       '프로모션 : 나의 디자인 DNA찾기! 디자이너를 위한 벼락치기 패키지 (9월 프리패스)',\n",
       "       '프로모션 : 업계 탑티어 강사님들께 배우는 데이터사이언스 백과사전 패키지 (9월 프리패스)',\n",
       "       '프로모션 : 매출을 드라이브 하는 마케팅 백과사전 패키지 (9월 프리패스)',\n",
       "       '프로모션 : 디지털 마케팅의 끝판왕 콘텐츠 디자인 벼락치기 패키지 (9월 프리패스)',\n",
       "       '프로모션 : 취준생 필수! 직장인 필수스킬 벼락치기 패키지 (9월 프리패스)',\n",
       "       '프로모션 : 꿈의 수익률을 만나라! 부동산 투자 벼락치기 패키지 (9월 프리패스)',\n",
       "       '프로모션 : 국내외 TOP tier 전문가와 함께하는 데이터 사이언스 프로젝트 벼락치기 패키지 (9월 프리패스)',\n",
       "       '프로모션 : MBA부터 HR까지 직장인 스킬 벼락치기 패키지 (9월 프리패스)',\n",
       "       '[한정판매] 자연어 A-Z 끝장 패키지(~9월)',\n",
       "       '프로모션 : 전략적 브랜딩을 위한 마케팅 벼락치기 패키지 (9월 프리패스)',\n",
       "       '프로모션 : 나만의 드로잉 감성찾기! 디지털 드로잉 벼락치기 패키지 (9월 프리패스)',\n",
       "       '[한정판매] 딥러닝 끝장 패키지(~9월)',\n",
       "       '프로모션 : 한 번에 마스터하는 딥러닝 A to Z 벼락치기 패키지(9월 프리패스)',\n",
       "       ':프로모션 : 콘텐츠 디자이너를 위한 커리어 백과사전 패키지 (9월 프리패스)',\n",
       "       '프로모션 : 데이터 활용 능력을 바꿔 줄 데이터 분석 벼락치기 패키지 (9월 프리패스)',\n",
       "       '프로모션 : 고급 데이터 분석의 A to Z 데이터 분석 바이블 벼락치기 패키지  (9월 프리패스)',\n",
       "       '프로모션 : 워라밸을 완성하는 직장인 필수스킬 벼락치기 패키지 (9월 프리패스)',\n",
       "       '편집하는여자의 영상편집 마스터클래스 - 제 2강 10가지 편집기법으로 프리미어 레벨업하기!',\n",
       "       'The RED : 검색엔진 구축을 위한 Elasticsearch 마스터 클래스 by 정호욱',\n",
       "       'The RED : 현실 데이터를 활용한 추천시스템 구현 A to Z by 번개장터 CTO 이동주',\n",
       "       '캐릭터 스튜디오 그래빗', '[한정판매] 자연어처리 끝장 패키지(~9월)',\n",
       "       '프로모션 : 나도 금손이 될 수 있다! 일러스트 드로잉 평생 무한패스 (9월 프리패스)',\n",
       "       '프로모션 : 데이터 사이언티스트 커리어 로드맵 무한패스 (9월 프리패스)',\n",
       "       '올인원 패키지 : 스프링의 정석 : 남궁성과 끝까지 간다',\n",
       "       '프로모션 : 똑똑한 직장인을 위한 업무력 UP 무한패스 (9월 프리패스)',\n",
       "       '프로모션 : 연봉 상승으로 가는 길! UX/UI 풀코스 무한패스 (9월 프리패스)',\n",
       "       '프로모션 : 똑똑한 마케팅을 위한 데이터 분석 무한패스 (9월 프리패스)',\n",
       "       '프로모션 : 능력있는 올라운더 마케터가 되자! 온라인 마케팅 풀코스 무한패스 (9월 프리패스)',\n",
       "       'The RED : 블리자드 라이팅 아티스트 : 이호성의 언리얼 엔진 라이팅',\n",
       "       '프로모션 : 워라밸을 꿈꾸는 직장인을 위한 무한패스 (9월 프리패스)',\n",
       "       '프로모션 : 비전공자를 위한 데이터 분석 왕초보 입문 무한패스 (9월 프리패스)',\n",
       "       '초격차 패키지 : 한번에 끝내는 재무세무회계',\n",
       "       '프로모션 : 고퀄리티 영상을 위한 영상편집 마스터 무한패스 (9월 프리패스)',\n",
       "       '부동산 디벨로퍼 아카데미 : 상업용/숙박용 부동산 개발 The Real',\n",
       "       '올인원 패키지 : 클라우드를 활용한 데이터 파이프라인 구축',\n",
       "       '올인원 패키지 : 디자인 기초 체력 다지기, 시각디자인 요소 활용',\n",
       "       '프로모션 : 나도 이제 유튜버, 유튜브 완전 정복 무한패스 (9월 프리패스)',\n",
       "       '프로모션 : 나도 할 수 있다 인공지능 / 딥러닝 마스터 무한패스 (9월 프리패스)',\n",
       "       'The RED : Hadoop & Spark 아키텍처 딥다이브',\n",
       "       '프로모션 : 자연어 처리 마스터 무한패스 (9월 프리패스)',\n",
       "       '프로모션 : 모션그래픽 디자이너를 위한 필수스킬 무한패스 (9월 프리패스)',\n",
       "       '프로모션 : 디자인은 이거 하나로 끝! 시각디자인 풀코스 무한패스 (9월 프리패스)',\n",
       "       '프로모션 : 성공적인 부동산 개발의 시작, 디벨로퍼 바이블 무한패스 (9월 프리패스)',\n",
       "       '프로모션 : 금융권 핵심 역량! 금융/투자 실무 무한패스 (9월 프리패스)',\n",
       "       '프로모션 : 영상인식 마스터 무한패스 (9월 프리패스)',\n",
       "       '프로모션 : 유튜브 영상제작 맥북 pro 패스 (9월 현물 프리패스)',\n",
       "       '프로모션 : 데이터 분석 맥북 pro 패스(9월 현물 프리패스)',\n",
       "       '프로모션 : 부동산 재테크 맥북 pro 패스 (9월 현물 프리패스) - 수정',\n",
       "       '프로모션 : iOS 개발 맥북 pro 패스(9월 현물 프리패스)',\n",
       "       '프로모션 : 영상편집 맥북 pro 패스(9월 현물 프리패스)',\n",
       "       '프로모션 : 디자인 맥북 air 패스(9월 현물 프리패스)',\n",
       "       '프로모션 : 프론트엔드 맥북 air 패스 (9월 현물 프리패스)',\n",
       "       '프로모션 : 디자인 맥북 pro 패스(9월 현물 프리패스)',\n",
       "       '프로모션 : 영상그래픽 디자인 맥북 pro 패스(9월 현물 프리패스)',\n",
       "       '프로모션 : 풀스택 개발자 맥북 air 패스(9월 현물 프리패스)',\n",
       "       '프로모션 : 직장인 필수 스킬 맥북 pro 패스(9월 현물 프리패스)',\n",
       "       '프로모션 : 프론트엔드 맥북 pro 패스 (9월 현물 프리패스)',\n",
       "       '프로모션 : 풀스택 마케팅 맥북 air 패스(9월 현물 프리패스)',\n",
       "       '프로모션 : 풀스택 개발자 맥북 pro 패스(9월 현물 프리패스)',\n",
       "       '프로모션 : 영상편집 맥북 air 패스(9월 현물 프리패스)',\n",
       "       '프로모션 : 부동산 재테크 맥북 air 패스 (9월 현물 프리패스)',\n",
       "       '프로모션 : 콘텐츠 마케터 맥북 pro 패스(9월 현물 프리패스)',\n",
       "       '프로모션 : 콘텐츠 마케터 맥북 air 패스(9월 현물 프리패스)',\n",
       "       '프로모션 : 게임 디자인 맥북 air 패스(9월 현물 프리패스)',\n",
       "       '프로모션 : 데이터 분석 맥북 air 패스(9월 현물 프리패스)',\n",
       "       '프로모션 : 실전 기업투자 맥북 air 패스(9월 현물 프리패스)',\n",
       "       '올인원 패키지 : Unity를 활용한 영화 애니메이션 제작'], dtype=object)"
      ]
     },
     "execution_count": 86,
=======
       "14"
      ]
     },
     "execution_count": 87,
>>>>>>> upstream/main
     "metadata": {},
     "output_type": "execute_result"
    }
   ],
   "source": [
<<<<<<< HEAD
    "df['course_title'].unique()"
=======
    "len(df['category_title'].unique())"
>>>>>>> upstream/main
   ]
  },
  {
   "cell_type": "code",
   "execution_count": 97,
   "id": "834ea265",
   "metadata": {
    "ExecuteTime": {
     "end_time": "2022-06-30T07:51:15.070183Z",
     "start_time": "2022-06-30T07:51:15.065697Z"
    }
   },
   "outputs": [],
   "source": [
    "# df"
   ]
  },
  {
   "cell_type": "markdown",
   "id": "56c7194e",
   "metadata": {},
   "source": [
    "## 가장많은(적은) 매출을 올린 강의 및 탑 10강의 매출추이"
   ]
  },
  {
   "cell_type": "code",
   "execution_count": 96,
   "id": "0960f6f4",
   "metadata": {
    "ExecuteTime": {
     "end_time": "2022-06-30T07:50:16.972367Z",
     "start_time": "2022-06-30T07:50:16.932370Z"
    }
   },
   "outputs": [
    {
     "data": {
      "text/html": [
       "<div>\n",
       "<style scoped>\n",
       "    .dataframe tbody tr th:only-of-type {\n",
       "        vertical-align: middle;\n",
       "    }\n",
       "\n",
       "    .dataframe tbody tr th {\n",
       "        vertical-align: top;\n",
       "    }\n",
       "\n",
       "    .dataframe thead th {\n",
       "        text-align: right;\n",
       "    }\n",
       "</style>\n",
       "<table border=\"1\" class=\"dataframe\">\n",
       "  <thead>\n",
       "    <tr style=\"text-align: right;\">\n",
       "      <th></th>\n",
       "      <th>course_title</th>\n",
       "      <th>transaction_amount</th>\n",
       "    </tr>\n",
       "  </thead>\n",
       "  <tbody>\n",
       "    <tr>\n",
       "      <th>100489</th>\n",
       "      <td>프로모션 : iOS 개발 맥북 pro 패스(9월 현물 프리패스)</td>\n",
       "      <td>-1800000</td>\n",
       "    </tr>\n",
       "    <tr>\n",
       "      <th>100601</th>\n",
       "      <td>프로모션 : 데이터 분석 맥북 pro 패스(9월 현물 프리패스)</td>\n",
       "      <td>-1800000</td>\n",
       "    </tr>\n",
       "    <tr>\n",
       "      <th>100493</th>\n",
       "      <td>프로모션 : 데이터 분석 맥북 pro 패스(9월 현물 프리패스)</td>\n",
       "      <td>-1800000</td>\n",
       "    </tr>\n",
       "    <tr>\n",
       "      <th>100542</th>\n",
       "      <td>프로모션 : 영상그래픽 디자인 맥북 pro 패스(9월 현물 프리패스)</td>\n",
       "      <td>-1800000</td>\n",
       "    </tr>\n",
       "    <tr>\n",
       "      <th>100566</th>\n",
       "      <td>프로모션 : 직장인 필수 스킬 맥북 pro 패스(9월 현물 프리패스)</td>\n",
       "      <td>-1800000</td>\n",
       "    </tr>\n",
       "    <tr>\n",
       "      <th>100621</th>\n",
       "      <td>프로모션 : 데이터 분석 맥북 pro 패스(9월 현물 프리패스)</td>\n",
       "      <td>-1800000</td>\n",
       "    </tr>\n",
       "    <tr>\n",
       "      <th>100572</th>\n",
       "      <td>프로모션 : iOS 개발 맥북 pro 패스(9월 현물 프리패스)</td>\n",
       "      <td>-1800000</td>\n",
       "    </tr>\n",
       "    <tr>\n",
       "      <th>100803</th>\n",
       "      <td>프로모션 : 콘텐츠 마케터 맥북 pro 패스(9월 현물 프리패스)</td>\n",
       "      <td>-1800000</td>\n",
       "    </tr>\n",
       "    <tr>\n",
       "      <th>100467</th>\n",
       "      <td>프로모션 : 부동산 재테크 맥북 pro 패스 (9월 현물 프리패스) - 수정</td>\n",
       "      <td>-1800000</td>\n",
       "    </tr>\n",
       "    <tr>\n",
       "      <th>100462</th>\n",
       "      <td>프로모션 : 디자인 맥북 pro 패스(9월 현물 프리패스)</td>\n",
       "      <td>-1800000</td>\n",
       "    </tr>\n",
       "  </tbody>\n",
       "</table>\n",
       "</div>"
      ],
      "text/plain": [
       "                                      course_title  transaction_amount\n",
       "100489         프로모션 : iOS 개발 맥북 pro 패스(9월 현물 프리패스)            -1800000\n",
       "100601         프로모션 : 데이터 분석 맥북 pro 패스(9월 현물 프리패스)            -1800000\n",
       "100493         프로모션 : 데이터 분석 맥북 pro 패스(9월 현물 프리패스)            -1800000\n",
       "100542      프로모션 : 영상그래픽 디자인 맥북 pro 패스(9월 현물 프리패스)            -1800000\n",
       "100566      프로모션 : 직장인 필수 스킬 맥북 pro 패스(9월 현물 프리패스)            -1800000\n",
       "100621         프로모션 : 데이터 분석 맥북 pro 패스(9월 현물 프리패스)            -1800000\n",
       "100572         프로모션 : iOS 개발 맥북 pro 패스(9월 현물 프리패스)            -1800000\n",
       "100803        프로모션 : 콘텐츠 마케터 맥북 pro 패스(9월 현물 프리패스)            -1800000\n",
       "100467  프로모션 : 부동산 재테크 맥북 pro 패스 (9월 현물 프리패스) - 수정            -1800000\n",
       "100462            프로모션 : 디자인 맥북 pro 패스(9월 현물 프리패스)            -1800000"
      ]
     },
     "execution_count": 96,
     "metadata": {},
     "output_type": "execute_result"
    }
   ],
   "source": [
    "course = df[['course_title', 'transaction_amount']]\n",
    "cou_des = course.sort_values('transaction_amount')\n",
    "cou_des.head(10)"
   ]
  },
  {
   "cell_type": "markdown",
   "id": "41220109",
   "metadata": {},
   "source": [
    "### 매출 상위 1~10위 까지의  강의  목록 "
   ]
  },
  {
   "cell_type": "code",
<<<<<<< HEAD
   "execution_count": 75,
   "id": "8480a683",
   "metadata": {
    "ExecuteTime": {
     "end_time": "2022-07-01T06:26:26.229896Z",
     "start_time": "2022-07-01T06:26:26.193938Z"
    }
   },
   "outputs": [],
   "source": [
    "course_title =  df['course_title'].unique()"
   ]
  },
  {
   "cell_type": "code",
   "execution_count": 85,
   "id": "b1fb5bbc",
   "metadata": {
    "ExecuteTime": {
     "end_time": "2022-07-01T06:30:43.862041Z",
     "start_time": "2022-07-01T06:30:43.846560Z"
    }
   },
   "outputs": [
    {
     "data": {
      "text/html": [
       "<div>\n",
       "<style scoped>\n",
       "    .dataframe tbody tr th:only-of-type {\n",
       "        vertical-align: middle;\n",
       "    }\n",
       "\n",
       "    .dataframe tbody tr th {\n",
       "        vertical-align: top;\n",
       "    }\n",
       "\n",
       "    .dataframe thead th {\n",
       "        text-align: right;\n",
       "    }\n",
       "</style>\n",
       "<table border=\"1\" class=\"dataframe\">\n",
       "  <thead>\n",
       "    <tr style=\"text-align: right;\">\n",
       "      <th></th>\n",
       "      <th>0</th>\n",
       "    </tr>\n",
       "  </thead>\n",
       "  <tbody>\n",
       "    <tr>\n",
       "      <th>0</th>\n",
       "      <td>올인원 패키지 : 알고리즘 기술면접 완전 정복</td>\n",
       "    </tr>\n",
       "    <tr>\n",
       "      <th>1</th>\n",
       "      <td>초격차 패키지 : 한번에 끝내는 영상 촬영과 편집</td>\n",
       "    </tr>\n",
       "    <tr>\n",
       "      <th>2</th>\n",
       "      <td>시크릿코드 : 프론트엔드 실무 완성편</td>\n",
       "    </tr>\n",
       "    <tr>\n",
       "      <th>3</th>\n",
       "      <td>올인원 패키지 : 직장인 필수 스킬 3종 세트 MAX</td>\n",
       "    </tr>\n",
       "    <tr>\n",
       "      <th>4</th>\n",
       "      <td>프로모션 : 2021 내 커리어 지켜 줄 UX/UI 디자인 한끝세트 (3월 프리패스)</td>\n",
       "    </tr>\n",
       "    <tr>\n",
       "      <th>...</th>\n",
       "      <td>...</td>\n",
       "    </tr>\n",
       "    <tr>\n",
       "      <th>605</th>\n",
       "      <td>프로모션 : 콘텐츠 마케터 맥북 air 패스(9월 현물 프리패스)</td>\n",
       "    </tr>\n",
       "    <tr>\n",
       "      <th>606</th>\n",
       "      <td>프로모션 : 게임 디자인 맥북 air 패스(9월 현물 프리패스)</td>\n",
       "    </tr>\n",
       "    <tr>\n",
       "      <th>607</th>\n",
       "      <td>프로모션 : 데이터 분석 맥북 air 패스(9월 현물 프리패스)</td>\n",
       "    </tr>\n",
       "    <tr>\n",
       "      <th>608</th>\n",
       "      <td>프로모션 : 실전 기업투자 맥북 air 패스(9월 현물 프리패스)</td>\n",
       "    </tr>\n",
       "    <tr>\n",
       "      <th>609</th>\n",
       "      <td>올인원 패키지 : Unity를 활용한 영화 애니메이션 제작</td>\n",
       "    </tr>\n",
       "  </tbody>\n",
       "</table>\n",
       "<p>610 rows × 1 columns</p>\n",
       "</div>"
      ],
      "text/plain": [
       "                                                   0\n",
       "0                          올인원 패키지 : 알고리즘 기술면접 완전 정복\n",
       "1                        초격차 패키지 : 한번에 끝내는 영상 촬영과 편집\n",
       "2                               시크릿코드 : 프론트엔드 실무 완성편\n",
       "3                      올인원 패키지 : 직장인 필수 스킬 3종 세트 MAX\n",
       "4    프로모션 : 2021 내 커리어 지켜 줄 UX/UI 디자인 한끝세트 (3월 프리패스)\n",
       "..                                               ...\n",
       "605             프로모션 : 콘텐츠 마케터 맥북 air 패스(9월 현물 프리패스)\n",
       "606              프로모션 : 게임 디자인 맥북 air 패스(9월 현물 프리패스)\n",
       "607              프로모션 : 데이터 분석 맥북 air 패스(9월 현물 프리패스)\n",
       "608             프로모션 : 실전 기업투자 맥북 air 패스(9월 현물 프리패스)\n",
       "609                 올인원 패키지 : Unity를 활용한 영화 애니메이션 제작\n",
       "\n",
       "[610 rows x 1 columns]"
      ]
     },
     "execution_count": 85,
     "metadata": {},
     "output_type": "execute_result"
    }
   ],
   "source": [
    "course_list = []\n",
    "# for i in course_title:\n",
    "pd.DataFrame(data = [i for i in course_title])"
   ]
  },
  {
   "cell_type": "code",
   "execution_count": 63,
   "id": "e5a91bc8",
   "metadata": {
    "ExecuteTime": {
     "end_time": "2022-07-01T05:25:59.757667Z",
     "start_time": "2022-07-01T05:25:59.720104Z"
    }
   },
   "outputs": [
    {
     "data": {
      "text/html": [
       "<div>\n",
       "<style scoped>\n",
       "    .dataframe tbody tr th:only-of-type {\n",
       "        vertical-align: middle;\n",
       "    }\n",
       "\n",
       "    .dataframe tbody tr th {\n",
       "        vertical-align: top;\n",
       "    }\n",
       "\n",
       "    .dataframe thead th {\n",
       "        text-align: right;\n",
       "    }\n",
       "</style>\n",
       "<table border=\"1\" class=\"dataframe\">\n",
       "  <thead>\n",
       "    <tr style=\"text-align: right;\">\n",
       "      <th></th>\n",
       "      <th>course_title</th>\n",
       "      <th>transaction_amount</th>\n",
       "    </tr>\n",
       "  </thead>\n",
       "  <tbody>\n",
       "    <tr>\n",
       "      <th>100489</th>\n",
       "      <td>프로모션 : iOS 개발 맥북 pro 패스(9월 현물 프리패스)</td>\n",
       "      <td>-1800000</td>\n",
       "    </tr>\n",
       "    <tr>\n",
       "      <th>100601</th>\n",
       "      <td>프로모션 : 데이터 분석 맥북 pro 패스(9월 현물 프리패스)</td>\n",
       "      <td>-1800000</td>\n",
       "    </tr>\n",
       "    <tr>\n",
       "      <th>100493</th>\n",
       "      <td>프로모션 : 데이터 분석 맥북 pro 패스(9월 현물 프리패스)</td>\n",
       "      <td>-1800000</td>\n",
       "    </tr>\n",
       "    <tr>\n",
       "      <th>100542</th>\n",
       "      <td>프로모션 : 영상그래픽 디자인 맥북 pro 패스(9월 현물 프리패스)</td>\n",
       "      <td>-1800000</td>\n",
       "    </tr>\n",
       "    <tr>\n",
       "      <th>100566</th>\n",
       "      <td>프로모션 : 직장인 필수 스킬 맥북 pro 패스(9월 현물 프리패스)</td>\n",
       "      <td>-1800000</td>\n",
       "    </tr>\n",
       "    <tr>\n",
       "      <th>100621</th>\n",
       "      <td>프로모션 : 데이터 분석 맥북 pro 패스(9월 현물 프리패스)</td>\n",
       "      <td>-1800000</td>\n",
       "    </tr>\n",
       "    <tr>\n",
       "      <th>100572</th>\n",
       "      <td>프로모션 : iOS 개발 맥북 pro 패스(9월 현물 프리패스)</td>\n",
       "      <td>-1800000</td>\n",
       "    </tr>\n",
       "    <tr>\n",
       "      <th>100803</th>\n",
       "      <td>프로모션 : 콘텐츠 마케터 맥북 pro 패스(9월 현물 프리패스)</td>\n",
       "      <td>-1800000</td>\n",
       "    </tr>\n",
       "    <tr>\n",
       "      <th>100467</th>\n",
       "      <td>프로모션 : 부동산 재테크 맥북 pro 패스 (9월 현물 프리패스) - 수정</td>\n",
       "      <td>-1800000</td>\n",
       "    </tr>\n",
       "    <tr>\n",
       "      <th>100462</th>\n",
       "      <td>프로모션 : 디자인 맥북 pro 패스(9월 현물 프리패스)</td>\n",
       "      <td>-1800000</td>\n",
       "    </tr>\n",
       "  </tbody>\n",
       "</table>\n",
       "</div>"
      ],
      "text/plain": [
       "                                      course_title  transaction_amount\n",
       "100489         프로모션 : iOS 개발 맥북 pro 패스(9월 현물 프리패스)            -1800000\n",
       "100601         프로모션 : 데이터 분석 맥북 pro 패스(9월 현물 프리패스)            -1800000\n",
       "100493         프로모션 : 데이터 분석 맥북 pro 패스(9월 현물 프리패스)            -1800000\n",
       "100542      프로모션 : 영상그래픽 디자인 맥북 pro 패스(9월 현물 프리패스)            -1800000\n",
       "100566      프로모션 : 직장인 필수 스킬 맥북 pro 패스(9월 현물 프리패스)            -1800000\n",
       "100621         프로모션 : 데이터 분석 맥북 pro 패스(9월 현물 프리패스)            -1800000\n",
       "100572         프로모션 : iOS 개발 맥북 pro 패스(9월 현물 프리패스)            -1800000\n",
       "100803        프로모션 : 콘텐츠 마케터 맥북 pro 패스(9월 현물 프리패스)            -1800000\n",
       "100467  프로모션 : 부동산 재테크 맥북 pro 패스 (9월 현물 프리패스) - 수정            -1800000\n",
       "100462            프로모션 : 디자인 맥북 pro 패스(9월 현물 프리패스)            -1800000"
      ]
     },
     "execution_count": 63,
     "metadata": {},
     "output_type": "execute_result"
    }
   ],
=======
   "execution_count": null,
   "id": "e5a91bc8",
   "metadata": {},
   "outputs": [],
>>>>>>> upstream/main
   "source": [
    "course = df[['course_title', 'transaction_amount']]\n",
    "cou_des = course.sort_values('transaction_amount')\n",
    "cou_des.head(10)"
   ]
  },
  {
   "cell_type": "markdown",
   "id": "143ad8ce",
   "metadata": {},
   "source": [
    "### 매출 상위 1~10위 강의 매출 추이 그래프(6개월간)"
   ]
  },
  {
<<<<<<< HEAD
   "cell_type": "code",
   "execution_count": null,
   "id": "1ac6799f",
   "metadata": {},
   "outputs": [],
   "source": []
  },
  {
=======
>>>>>>> upstream/main
   "cell_type": "markdown",
   "id": "37400734",
   "metadata": {},
   "source": [
    "### 매출 하위 1~10위 강의목록"
   ]
  },
  {
<<<<<<< HEAD
   "cell_type": "code",
   "execution_count": null,
   "id": "ab1c5838",
   "metadata": {},
   "outputs": [],
   "source": []
  },
  {
=======
>>>>>>> upstream/main
   "cell_type": "markdown",
   "id": "5dbb8c28",
   "metadata": {},
   "source": [
    "### 매출 하위 1~10위 강의 매출 추이 그래프(6개월간)"
   ]
  },
  {
<<<<<<< HEAD
   "cell_type": "code",
   "execution_count": null,
   "id": "76bffdd9",
   "metadata": {},
   "outputs": [],
   "source": []
  },
  {
=======
>>>>>>> upstream/main
   "cell_type": "markdown",
   "id": "802928f7",
   "metadata": {},
   "source": [
    "## 가장많은(적은) 매출을 올린 카테고리 탑 10카테고리 매출추이"
   ]
  },
  {
   "cell_type": "markdown",
   "id": "b73e5c5a",
   "metadata": {},
   "source": [
    "### 매출 상위 1~10위 까지의  카테고리  목록"
   ]
  },
  {
   "cell_type": "markdown",
   "id": "99a4fb24",
   "metadata": {},
   "source": [
    "### 매출 상위 1~10위 카테고리 매출 추이 그래프(6개월간)"
   ]
  },
  {
   "cell_type": "markdown",
   "id": "b9a006b2",
   "metadata": {},
   "source": [
    "### 매출 하위 1~10위 카테고리목록"
   ]
  },
  {
   "cell_type": "markdown",
   "id": "13ede8b0",
   "metadata": {},
   "source": [
    "### 매출 하위 1~10위 카테고리 매출 추이 그래프(6개월간)"
   ]
  },
  {
   "cell_type": "markdown",
   "id": "4d84c831",
   "metadata": {},
   "source": [
    "# 수강 신청 행동 패턴 분석"
   ]
  },
  {
   "cell_type": "markdown",
   "id": "db7bb03d",
   "metadata": {},
   "source": [
    "## cancelled 가장 많은 강좌(구매가 많은게 환불이 많은가? 주의)"
   ]
  },
  {
   "cell_type": "code",
   "execution_count": 107,
   "id": "22cc5744",
   "metadata": {
    "ExecuteTime": {
     "end_time": "2022-06-30T07:56:30.340150Z",
     "start_time": "2022-06-30T07:56:30.320800Z"
    }
   },
   "outputs": [
    {
     "data": {
      "text/html": [
       "<div>\n",
       "<style scoped>\n",
       "    .dataframe tbody tr th:only-of-type {\n",
       "        vertical-align: middle;\n",
       "    }\n",
       "\n",
       "    .dataframe tbody tr th {\n",
       "        vertical-align: top;\n",
       "    }\n",
       "\n",
       "    .dataframe thead th {\n",
       "        text-align: right;\n",
       "    }\n",
       "</style>\n",
       "<table border=\"1\" class=\"dataframe\">\n",
       "  <thead>\n",
       "    <tr style=\"text-align: right;\">\n",
       "      <th></th>\n",
       "      <th>state</th>\n",
       "      <th>course_title</th>\n",
       "    </tr>\n",
       "  </thead>\n",
       "  <tbody>\n",
       "    <tr>\n",
       "      <th>0</th>\n",
       "      <td>CANCELLED</td>\n",
       "      <td>올인원 패키지 : 알고리즘 기술면접 완전 정복</td>\n",
       "    </tr>\n",
       "    <tr>\n",
       "      <th>1</th>\n",
       "      <td>CANCELLED</td>\n",
       "      <td>초격차 패키지 : 한번에 끝내는 영상 촬영과 편집</td>\n",
       "    </tr>\n",
       "    <tr>\n",
       "      <th>2</th>\n",
       "      <td>COMPLETED</td>\n",
       "      <td>시크릿코드 : 프론트엔드 실무 완성편</td>\n",
       "    </tr>\n",
       "    <tr>\n",
       "      <th>3</th>\n",
       "      <td>CANCELLED</td>\n",
       "      <td>시크릿코드 : 프론트엔드 실무 완성편</td>\n",
       "    </tr>\n",
       "    <tr>\n",
       "      <th>4</th>\n",
       "      <td>COMPLETED</td>\n",
       "      <td>올인원 패키지 : 직장인 필수 스킬 3종 세트 MAX</td>\n",
       "    </tr>\n",
       "    <tr>\n",
       "      <th>...</th>\n",
       "      <td>...</td>\n",
       "      <td>...</td>\n",
       "    </tr>\n",
       "    <tr>\n",
       "      <th>101097</th>\n",
       "      <td>CANCELLED</td>\n",
       "      <td>초격차 패키지 : 한 번에 끝내는 유튜브 크리에이터 되기</td>\n",
       "    </tr>\n",
       "    <tr>\n",
       "      <th>101098</th>\n",
       "      <td>CANCELLED</td>\n",
       "      <td>부동산 디벨로퍼 아카데미 : 인허가</td>\n",
       "    </tr>\n",
       "    <tr>\n",
       "      <th>101099</th>\n",
       "      <td>COMPLETED</td>\n",
       "      <td>초격차 패키지 : 한 번에 끝내는 유튜브 크리에이터 되기</td>\n",
       "    </tr>\n",
       "    <tr>\n",
       "      <th>101100</th>\n",
       "      <td>CANCELLED</td>\n",
       "      <td>부동산 디벨로퍼 아카데미 : 인허가</td>\n",
       "    </tr>\n",
       "    <tr>\n",
       "      <th>101101</th>\n",
       "      <td>COMPLETED</td>\n",
       "      <td>용호수의 돈 버는 실전 영상 제작</td>\n",
       "    </tr>\n",
       "  </tbody>\n",
       "</table>\n",
       "<p>101102 rows × 2 columns</p>\n",
       "</div>"
      ],
      "text/plain": [
       "            state                     course_title\n",
       "0       CANCELLED        올인원 패키지 : 알고리즘 기술면접 완전 정복\n",
       "1       CANCELLED      초격차 패키지 : 한번에 끝내는 영상 촬영과 편집\n",
       "2       COMPLETED             시크릿코드 : 프론트엔드 실무 완성편\n",
       "3       CANCELLED             시크릿코드 : 프론트엔드 실무 완성편\n",
       "4       COMPLETED    올인원 패키지 : 직장인 필수 스킬 3종 세트 MAX\n",
       "...           ...                              ...\n",
       "101097  CANCELLED  초격차 패키지 : 한 번에 끝내는 유튜브 크리에이터 되기\n",
       "101098  CANCELLED              부동산 디벨로퍼 아카데미 : 인허가\n",
       "101099  COMPLETED  초격차 패키지 : 한 번에 끝내는 유튜브 크리에이터 되기\n",
       "101100  CANCELLED              부동산 디벨로퍼 아카데미 : 인허가\n",
       "101101  COMPLETED               용호수의 돈 버는 실전 영상 제작\n",
       "\n",
       "[101102 rows x 2 columns]"
      ]
     },
     "execution_count": 107,
     "metadata": {},
     "output_type": "execute_result"
    }
   ],
   "source": [
    "df[['state', 'course_title']]"
   ]
  },
  {
   "cell_type": "markdown",
   "id": "8f06412d",
   "metadata": {},
   "source": [
    "### 취소가 많은  1~20위 까지의  강의  목록(cancelled)"
   ]
  },
  {
   "cell_type": "markdown",
   "id": "f2fa8966",
   "metadata": {},
   "source": [
    "### 취소가 가장 적은 1~20위 강의 목록"
   ]
  },
  {
   "cell_type": "markdown",
   "id": "4c0d021f",
   "metadata": {},
   "source": [
    "### 환불이 많은  1~20위 까지의  강의  목록(refund)"
   ]
  },
  {
   "cell_type": "markdown",
   "id": "a7bc00ac",
   "metadata": {},
   "source": [
    "### 환불률이 가장 적은 1~20위 강의 목록"
   ]
  },
  {
   "cell_type": "markdown",
   "id": "7f33435e",
   "metadata": {},
   "source": [
    "### 구매률과 환불률의 상관관계"
   ]
  },
  {
   "cell_type": "markdown",
   "id": "dbf16318",
   "metadata": {},
   "source": [
    "# PG사 목록"
   ]
  },
  {
   "cell_type": "markdown",
   "id": "0b463f27",
   "metadata": {},
   "source": [
    "## 기존 PG사 vs 신규 pg사 점유율 현황"
   ]
  },
  {
   "cell_type": "code",
   "execution_count": 98,
   "id": "39cf1293",
   "metadata": {
    "ExecuteTime": {
     "end_time": "2022-06-30T07:52:52.467615Z",
     "start_time": "2022-06-30T07:52:52.435268Z"
    }
   },
   "outputs": [
    {
     "data": {
      "text/plain": [
       "array(['COMM', 'INICIS', 'KAKAO', 'CHAI', 'PAYCO', 'NAVER'], dtype=object)"
      ]
     },
     "execution_count": 98,
     "metadata": {},
     "output_type": "execute_result"
    }
   ],
   "source": [
    "df['pg'].unique()"
   ]
  },
  {
   "cell_type": "markdown",
   "id": "5f6cf687",
   "metadata": {},
   "source": [
    "### 기존 PG사 vs 신규 pg사 기간별 점유율 변동 변화추이"
   ]
  },
  {
   "cell_type": "markdown",
   "id": "397fc765",
   "metadata": {},
   "source": [
    "# VIP그룹 분석"
   ]
  },
  {
   "cell_type": "markdown",
   "id": "bbcce57b",
   "metadata": {},
   "source": [
    "## VIP 그룹 정의"
   ]
  },
  {
   "cell_type": "markdown",
   "id": "2969f67b",
   "metadata": {},
   "source": [
    "## 일반 고객 평균 결제 횟수 vs VIP 고객 평균 결제 횟수"
   ]
  },
  {
   "cell_type": "markdown",
   "id": "02dd3f3c",
   "metadata": {},
   "source": [
    "## VIP 그룹 특징"
   ]
  },
  {
   "cell_type": "markdown",
   "id": "cada2ef7",
   "metadata": {},
   "source": [
    "# 쿠폰 사용 분석"
   ]
  },
  {
   "cell_type": "markdown",
   "id": "08611340",
   "metadata": {},
   "source": [
    "## 전체구매건 중 쿠폰사용한 구매비율"
   ]
  },
  {
   "cell_type": "markdown",
   "id": "7111e7d5",
   "metadata": {},
   "source": [
    "## 매출에 대한 쿠폰의 중요도 분석"
   ]
  },
  {
   "cell_type": "markdown",
   "id": "677f1548",
   "metadata": {},
   "source": [
    "# 패키지 강의 vs 단품 강의"
   ]
  },
  {
   "cell_type": "code",
   "execution_count": 99,
   "id": "3e98e32a",
   "metadata": {
    "ExecuteTime": {
     "end_time": "2022-06-30T07:53:07.324165Z",
     "start_time": "2022-06-30T07:53:07.319102Z"
    }
   },
   "outputs": [],
   "source": [
    "# df"
   ]
  },
  {
   "cell_type": "markdown",
   "id": "d7c66b55",
   "metadata": {},
   "source": [
    "# 레드는 과연 성공했는가?"
   ]
  },
  {
   "cell_type": "code",
   "execution_count": null,
   "id": "9fd2e22a",
   "metadata": {},
   "outputs": [],
   "source": [
    "df['']"
   ]
  },
  {
   "cell_type": "code",
   "execution_count": null,
   "id": "2322dd95",
   "metadata": {},
   "outputs": [],
   "source": []
  },
  {
   "cell_type": "code",
   "execution_count": null,
   "id": "f2f272af",
   "metadata": {},
   "outputs": [],
   "source": []
  },
  {
   "cell_type": "code",
   "execution_count": null,
   "id": "9cc18912",
   "metadata": {},
   "outputs": [],
   "source": []
  },
  {
   "cell_type": "code",
   "execution_count": null,
   "id": "d9dfd20b",
   "metadata": {},
   "outputs": [],
   "source": []
  }
 ],
 "metadata": {
  "kernelspec": {
<<<<<<< HEAD
   "display_name": "Python 3 (ipykernel)",
=======
   "display_name": "Python 3",
>>>>>>> upstream/main
   "language": "python",
   "name": "python3"
  },
  "language_info": {
   "codemirror_mode": {
    "name": "ipython",
    "version": 3
   },
   "file_extension": ".py",
   "mimetype": "text/x-python",
   "name": "python",
   "nbconvert_exporter": "python",
   "pygments_lexer": "ipython3",
<<<<<<< HEAD
   "version": "3.9.12"
=======
   "version": "3.8.8"
>>>>>>> upstream/main
  },
  "toc": {
   "base_numbering": 1,
   "nav_menu": {},
   "number_sections": true,
<<<<<<< HEAD
   "sideBar": false,
=======
   "sideBar": true,
>>>>>>> upstream/main
   "skip_h1_title": false,
   "title_cell": "Table of Contents",
   "title_sidebar": "Contents",
   "toc_cell": false,
   "toc_position": {
<<<<<<< HEAD
    "height": "695.556px",
    "left": "204.993px",
    "top": "53.9844px",
    "width": "191.997px"
   },
   "toc_section_display": true,
   "toc_window_display": false
=======
    "height": "calc(100% - 180px)",
    "left": "10px",
    "top": "150px",
    "width": "192px"
   },
   "toc_section_display": true,
   "toc_window_display": true
>>>>>>> upstream/main
  },
  "varInspector": {
   "cols": {
    "lenName": 16,
    "lenType": 16,
    "lenVar": 40
   },
   "kernels_config": {
    "python": {
     "delete_cmd_postfix": "",
     "delete_cmd_prefix": "del ",
     "library": "var_list.py",
     "varRefreshCmd": "print(var_dic_list())"
    },
    "r": {
     "delete_cmd_postfix": ") ",
     "delete_cmd_prefix": "rm(",
     "library": "var_list.r",
     "varRefreshCmd": "cat(var_dic_list()) "
    }
   },
   "types_to_exclude": [
    "module",
    "function",
    "builtin_function_or_method",
    "instance",
    "_Feature"
   ],
   "window_display": false
  }
 },
 "nbformat": 4,
 "nbformat_minor": 5
}

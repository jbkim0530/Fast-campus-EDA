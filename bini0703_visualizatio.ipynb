{
 "cells": [
  {
   "cell_type": "markdown",
   "id": "881f8b95",
   "metadata": {},
   "source": [
    "데이터 시각화 양식\n",
    "\n",
    "양식의 순서는 지키되 참고만 하고 자유롭게 더하거나 빼서 분석하세요."
   ]
  },
  {
   "cell_type": "code",
   "execution_count": 50,
   "id": "ac55d1e1",
   "metadata": {
    "ExecuteTime": {
     "end_time": "2022-07-03T08:02:09.828569Z",
     "start_time": "2022-07-03T08:02:09.821675Z"
    }
   },
   "outputs": [],
   "source": [
    "import numpy as np\n",
    "import pandas as pd\n",
    "import matplotlib.pyplot as plt\n",
    "import seaborn as sns\n",
    "\n",
    "plt.rcParams['font.family'] = 'AppleGothic'"
   ]
  },
  {
   "cell_type": "code",
   "execution_count": 4,
   "id": "45e38d9a",
   "metadata": {
    "ExecuteTime": {
     "end_time": "2022-07-03T03:31:57.709660Z",
     "start_time": "2022-07-03T03:31:57.372778Z"
    }
   },
   "outputs": [],
   "source": [
    "# 파일 불러오기\n",
    "df = pd.read_csv('2022-06-29_last_bab.csv')\n",
    "# dtype -> datetime으로 바꾸기 \n",
    "df['completed_at'] = pd.to_datetime(df['completed_at'])"
   ]
  },
  {
   "cell_type": "code",
   "execution_count": 5,
   "id": "276214b5",
   "metadata": {
    "ExecuteTime": {
     "end_time": "2022-07-03T03:31:58.924154Z",
     "start_time": "2022-07-03T03:31:58.894530Z"
    }
   },
   "outputs": [],
   "source": [
    "# 첫번째 열 드롭\n",
    "df.drop(columns='Unnamed: 0', inplace=True)"
   ]
  },
  {
   "cell_type": "code",
   "execution_count": 6,
   "id": "ea5251f2",
   "metadata": {
    "ExecuteTime": {
     "end_time": "2022-07-03T03:31:59.939481Z",
     "start_time": "2022-07-03T03:31:59.803719Z"
    }
   },
   "outputs": [
    {
     "name": "stdout",
     "output_type": "stream",
     "text": [
      "<class 'pandas.core.frame.DataFrame'>\n",
      "RangeIndex: 101102 entries, 0 to 101101\n",
      "Data columns (total 17 columns):\n",
      " #   Column                  Non-Null Count   Dtype         \n",
      "---  ------                  --------------   -----         \n",
      " 0   id                      101102 non-null  int64         \n",
      " 1   customer_id             101102 non-null  int64         \n",
      " 2   course_id               101102 non-null  int64         \n",
      " 3   type                    101102 non-null  object        \n",
      " 4   state                   101102 non-null  object        \n",
      " 5   course_title            101102 non-null  object        \n",
      " 6   category_title          101102 non-null  object        \n",
      " 7   format                  101102 non-null  object        \n",
      " 8   completed_at            101102 non-null  datetime64[ns]\n",
      " 9   transaction_amount      101102 non-null  int64         \n",
      " 10  coupon_title            101102 non-null  object        \n",
      " 11  coupon_discount_amount  101102 non-null  int64         \n",
      " 12  sale_price              101102 non-null  int64         \n",
      " 13  pg                      101102 non-null  object        \n",
      " 14  method                  101102 non-null  object        \n",
      " 15  subcategory_title       101102 non-null  object        \n",
      " 16  marketing_start_at      101102 non-null  object        \n",
      "dtypes: datetime64[ns](1), int64(6), object(10)\n",
      "memory usage: 13.1+ MB\n"
     ]
    }
   ],
   "source": [
    "df.info()"
   ]
  },
  {
   "cell_type": "markdown",
   "id": "1f188211",
   "metadata": {},
   "source": [
    "## 날짜데이터 만들기"
   ]
  },
  {
   "cell_type": "code",
   "execution_count": 88,
   "id": "3869b3c0",
   "metadata": {
    "ExecuteTime": {
     "end_time": "2022-07-03T08:34:00.781597Z",
     "start_time": "2022-07-03T08:34:00.756707Z"
    }
   },
   "outputs": [],
   "source": [
    "#year(연도) 컬럼 추가\n",
    "df['Year'] = df['completed_at'].dt.year "
   ]
  },
  {
   "cell_type": "code",
   "execution_count": 89,
   "id": "9246298a",
   "metadata": {
    "ExecuteTime": {
     "end_time": "2022-07-03T08:34:02.507463Z",
     "start_time": "2022-07-03T08:34:02.503099Z"
    }
   },
   "outputs": [],
   "source": [
    "#month(월) 컬럼 추가\n",
    "df['Month'] = df['completed_at'].dt.month"
   ]
  },
  {
   "cell_type": "code",
   "execution_count": 90,
   "id": "aeff23f9",
   "metadata": {
    "ExecuteTime": {
     "end_time": "2022-07-03T08:34:04.224017Z",
     "start_time": "2022-07-03T08:34:04.219654Z"
    }
   },
   "outputs": [],
   "source": [
    "#day(일) 컬럼 추가\n",
    "df['Day'] = df['completed_at'].dt.day"
   ]
  },
  {
   "cell_type": "code",
   "execution_count": 91,
   "id": "d92b65db",
   "metadata": {
    "ExecuteTime": {
     "end_time": "2022-07-03T08:34:05.938953Z",
     "start_time": "2022-07-03T08:34:05.934719Z"
    }
   },
   "outputs": [],
   "source": [
    "#hour(시간)컬럼추가\n",
    "df['Hour'] = df['completed_at'].dt.hour"
   ]
  },
  {
   "cell_type": "code",
   "execution_count": 92,
   "id": "9122db61",
   "metadata": {
    "ExecuteTime": {
     "end_time": "2022-07-03T08:34:07.629851Z",
     "start_time": "2022-07-03T08:34:07.612134Z"
    }
   },
   "outputs": [],
   "source": [
    "df['Weekday'] = df['completed_at'].dt.day_name()"
   ]
  },
  {
   "cell_type": "code",
   "execution_count": 108,
   "id": "b5478bab",
   "metadata": {
    "ExecuteTime": {
     "end_time": "2022-07-03T08:53:43.829580Z",
     "start_time": "2022-07-03T08:53:43.424553Z"
    }
   },
   "outputs": [],
   "source": [
    "df['m-d'] = df['completed_at'].dt.strftime('%m%d')"
   ]
  },
  {
   "cell_type": "markdown",
   "id": "6f1f6f24",
   "metadata": {},
   "source": [
    "# 매출 분석"
   ]
  },
  {
   "cell_type": "code",
   "execution_count": 7,
   "id": "78c9ff87",
   "metadata": {
    "ExecuteTime": {
     "end_time": "2022-07-03T03:32:09.487146Z",
     "start_time": "2022-07-03T03:32:09.462383Z"
    },
    "scrolled": true
   },
   "outputs": [
    {
     "data": {
      "text/plain": [
       "array(['ORDER', 'PAYMENT', 'REFUND'], dtype=object)"
      ]
     },
     "execution_count": 7,
     "metadata": {},
     "output_type": "execute_result"
    }
   ],
   "source": [
    "df['type'].unique()"
   ]
  },
  {
   "cell_type": "code",
   "execution_count": 8,
   "id": "82b84023",
   "metadata": {
    "ExecuteTime": {
     "end_time": "2022-07-03T03:32:13.493689Z",
     "start_time": "2022-07-03T03:32:13.471227Z"
    }
   },
   "outputs": [
    {
     "data": {
      "text/plain": [
       "array(['CANCELLED', 'COMPLETED', 'PENDING', 'DELETED', 'REQUESTED'],\n",
       "      dtype=object)"
      ]
     },
     "execution_count": 8,
     "metadata": {},
     "output_type": "execute_result"
    }
   ],
   "source": [
    "df['state'].unique()"
   ]
  },
  {
   "cell_type": "markdown",
   "id": "ad65afeb",
   "metadata": {},
   "source": [
    "총매출 구하기 : type = payment & refund / state = completed"
   ]
  },
  {
   "cell_type": "code",
   "execution_count": 109,
   "id": "4a19190b",
   "metadata": {
    "ExecuteTime": {
     "end_time": "2022-07-03T08:53:46.515035Z",
     "start_time": "2022-07-03T08:53:46.432215Z"
    }
   },
   "outputs": [
    {
     "data": {
      "text/html": [
       "<div>\n",
       "<style scoped>\n",
       "    .dataframe tbody tr th:only-of-type {\n",
       "        vertical-align: middle;\n",
       "    }\n",
       "\n",
       "    .dataframe tbody tr th {\n",
       "        vertical-align: top;\n",
       "    }\n",
       "\n",
       "    .dataframe thead th {\n",
       "        text-align: right;\n",
       "    }\n",
       "</style>\n",
       "<table border=\"1\" class=\"dataframe\">\n",
       "  <thead>\n",
       "    <tr style=\"text-align: right;\">\n",
       "      <th></th>\n",
       "      <th>id</th>\n",
       "      <th>customer_id</th>\n",
       "      <th>course_id</th>\n",
       "      <th>type</th>\n",
       "      <th>state</th>\n",
       "      <th>course_title</th>\n",
       "      <th>category_title</th>\n",
       "      <th>format</th>\n",
       "      <th>completed_at</th>\n",
       "      <th>transaction_amount</th>\n",
       "      <th>...</th>\n",
       "      <th>pg</th>\n",
       "      <th>method</th>\n",
       "      <th>subcategory_title</th>\n",
       "      <th>marketing_start_at</th>\n",
       "      <th>Year</th>\n",
       "      <th>Month</th>\n",
       "      <th>Day</th>\n",
       "      <th>Hour</th>\n",
       "      <th>Weekday</th>\n",
       "      <th>m-d</th>\n",
       "    </tr>\n",
       "  </thead>\n",
       "  <tbody>\n",
       "    <tr>\n",
       "      <th>2</th>\n",
       "      <td>970657</td>\n",
       "      <td>72297</td>\n",
       "      <td>204246</td>\n",
       "      <td>PAYMENT</td>\n",
       "      <td>COMPLETED</td>\n",
       "      <td>시크릿코드 : 프론트엔드 실무 완성편</td>\n",
       "      <td>프로그래밍</td>\n",
       "      <td>스쿨 온라인</td>\n",
       "      <td>2021-03-28 15:21:43</td>\n",
       "      <td>171810</td>\n",
       "      <td>...</td>\n",
       "      <td>COMM</td>\n",
       "      <td>CARD</td>\n",
       "      <td>프로그래밍</td>\n",
       "      <td>2021-03-04 00:00:00</td>\n",
       "      <td>2021</td>\n",
       "      <td>3</td>\n",
       "      <td>28</td>\n",
       "      <td>15</td>\n",
       "      <td>Sunday</td>\n",
       "      <td>0328</td>\n",
       "    </tr>\n",
       "    <tr>\n",
       "      <th>4</th>\n",
       "      <td>970658</td>\n",
       "      <td>478028</td>\n",
       "      <td>201797</td>\n",
       "      <td>PAYMENT</td>\n",
       "      <td>COMPLETED</td>\n",
       "      <td>올인원 패키지 : 직장인 필수 스킬 3종 세트 MAX</td>\n",
       "      <td>업무 생산성</td>\n",
       "      <td>올인원</td>\n",
       "      <td>2021-03-28 15:21:54</td>\n",
       "      <td>97500</td>\n",
       "      <td>...</td>\n",
       "      <td>COMM</td>\n",
       "      <td>CARD</td>\n",
       "      <td>PPT/보고서</td>\n",
       "      <td>2019-11-14 00:00:00</td>\n",
       "      <td>2021</td>\n",
       "      <td>3</td>\n",
       "      <td>28</td>\n",
       "      <td>15</td>\n",
       "      <td>Sunday</td>\n",
       "      <td>0328</td>\n",
       "    </tr>\n",
       "    <tr>\n",
       "      <th>8</th>\n",
       "      <td>970669</td>\n",
       "      <td>478033</td>\n",
       "      <td>203178</td>\n",
       "      <td>PAYMENT</td>\n",
       "      <td>COMPLETED</td>\n",
       "      <td>초격차 패키지 : 한번에 끝내는 영상 촬영과 편집</td>\n",
       "      <td>영상/3D</td>\n",
       "      <td>올인원</td>\n",
       "      <td>2021-03-28 15:26:47</td>\n",
       "      <td>96000</td>\n",
       "      <td>...</td>\n",
       "      <td>COMM</td>\n",
       "      <td>CARD</td>\n",
       "      <td>영상 편집</td>\n",
       "      <td>2020-12-02 00:00:00</td>\n",
       "      <td>2021</td>\n",
       "      <td>3</td>\n",
       "      <td>28</td>\n",
       "      <td>15</td>\n",
       "      <td>Sunday</td>\n",
       "      <td>0328</td>\n",
       "    </tr>\n",
       "    <tr>\n",
       "      <th>10</th>\n",
       "      <td>970671</td>\n",
       "      <td>469860</td>\n",
       "      <td>203644</td>\n",
       "      <td>PAYMENT</td>\n",
       "      <td>COMPLETED</td>\n",
       "      <td>올인원 패키지 : 권오상의 금융 아카데미 - 권오상의 재무제표 분석 기초(평생소장)</td>\n",
       "      <td>부동산/금융</td>\n",
       "      <td>올인원</td>\n",
       "      <td>2021-03-28 15:27:17</td>\n",
       "      <td>263000</td>\n",
       "      <td>...</td>\n",
       "      <td>COMM</td>\n",
       "      <td>CARD</td>\n",
       "      <td>부동산/금융</td>\n",
       "      <td>2020-11-27 00:00:00</td>\n",
       "      <td>2021</td>\n",
       "      <td>3</td>\n",
       "      <td>28</td>\n",
       "      <td>15</td>\n",
       "      <td>Sunday</td>\n",
       "      <td>0328</td>\n",
       "    </tr>\n",
       "    <tr>\n",
       "      <th>14</th>\n",
       "      <td>970676</td>\n",
       "      <td>478035</td>\n",
       "      <td>203720</td>\n",
       "      <td>PAYMENT</td>\n",
       "      <td>COMPLETED</td>\n",
       "      <td>초격차 패키지 : 한 번에 끝내는 프론트엔드 개발</td>\n",
       "      <td>프로그래밍</td>\n",
       "      <td>올인원</td>\n",
       "      <td>2021-03-28 15:31:01</td>\n",
       "      <td>91000</td>\n",
       "      <td>...</td>\n",
       "      <td>COMM</td>\n",
       "      <td>CARD</td>\n",
       "      <td>프론트엔드 개발</td>\n",
       "      <td>2021-02-02 00:00:00</td>\n",
       "      <td>2021</td>\n",
       "      <td>3</td>\n",
       "      <td>28</td>\n",
       "      <td>15</td>\n",
       "      <td>Sunday</td>\n",
       "      <td>0328</td>\n",
       "    </tr>\n",
       "    <tr>\n",
       "      <th>...</th>\n",
       "      <td>...</td>\n",
       "      <td>...</td>\n",
       "      <td>...</td>\n",
       "      <td>...</td>\n",
       "      <td>...</td>\n",
       "      <td>...</td>\n",
       "      <td>...</td>\n",
       "      <td>...</td>\n",
       "      <td>...</td>\n",
       "      <td>...</td>\n",
       "      <td>...</td>\n",
       "      <td>...</td>\n",
       "      <td>...</td>\n",
       "      <td>...</td>\n",
       "      <td>...</td>\n",
       "      <td>...</td>\n",
       "      <td>...</td>\n",
       "      <td>...</td>\n",
       "      <td>...</td>\n",
       "      <td>...</td>\n",
       "      <td>...</td>\n",
       "    </tr>\n",
       "    <tr>\n",
       "      <th>101094</th>\n",
       "      <td>1364969</td>\n",
       "      <td>669238</td>\n",
       "      <td>204286</td>\n",
       "      <td>PAYMENT</td>\n",
       "      <td>COMPLETED</td>\n",
       "      <td>초격차 패키지 : 한번에 끝내는 3D 디자인 툴</td>\n",
       "      <td>디자인</td>\n",
       "      <td>올인원</td>\n",
       "      <td>2021-09-25 13:39:26</td>\n",
       "      <td>212000</td>\n",
       "      <td>...</td>\n",
       "      <td>INICIS</td>\n",
       "      <td>CARD</td>\n",
       "      <td>디자인툴</td>\n",
       "      <td>2021-04-23 00:00:00</td>\n",
       "      <td>2021</td>\n",
       "      <td>9</td>\n",
       "      <td>25</td>\n",
       "      <td>13</td>\n",
       "      <td>Saturday</td>\n",
       "      <td>0925</td>\n",
       "    </tr>\n",
       "    <tr>\n",
       "      <th>101095</th>\n",
       "      <td>1364976</td>\n",
       "      <td>384003</td>\n",
       "      <td>203178</td>\n",
       "      <td>PAYMENT</td>\n",
       "      <td>COMPLETED</td>\n",
       "      <td>초격차 패키지 : 한번에 끝내는 영상 촬영과 편집</td>\n",
       "      <td>영상/3D</td>\n",
       "      <td>올인원</td>\n",
       "      <td>2021-09-25 13:46:29</td>\n",
       "      <td>149000</td>\n",
       "      <td>...</td>\n",
       "      <td>KAKAO</td>\n",
       "      <td>CARD</td>\n",
       "      <td>영상 편집</td>\n",
       "      <td>2020-12-02 00:00:00</td>\n",
       "      <td>2021</td>\n",
       "      <td>9</td>\n",
       "      <td>25</td>\n",
       "      <td>13</td>\n",
       "      <td>Saturday</td>\n",
       "      <td>0925</td>\n",
       "    </tr>\n",
       "    <tr>\n",
       "      <th>101096</th>\n",
       "      <td>1364991</td>\n",
       "      <td>670891</td>\n",
       "      <td>203935</td>\n",
       "      <td>PAYMENT</td>\n",
       "      <td>COMPLETED</td>\n",
       "      <td>초격차 패키지 : 한 번에 끝내는 파이썬 웹 개발</td>\n",
       "      <td>프로그래밍</td>\n",
       "      <td>올인원</td>\n",
       "      <td>2021-09-25 14:01:26</td>\n",
       "      <td>159000</td>\n",
       "      <td>...</td>\n",
       "      <td>INICIS</td>\n",
       "      <td>CARD</td>\n",
       "      <td>백엔드 개발</td>\n",
       "      <td>2021-05-31 00:00:00</td>\n",
       "      <td>2021</td>\n",
       "      <td>9</td>\n",
       "      <td>25</td>\n",
       "      <td>14</td>\n",
       "      <td>Saturday</td>\n",
       "      <td>0925</td>\n",
       "    </tr>\n",
       "    <tr>\n",
       "      <th>101099</th>\n",
       "      <td>1364996</td>\n",
       "      <td>640697</td>\n",
       "      <td>205365</td>\n",
       "      <td>PAYMENT</td>\n",
       "      <td>COMPLETED</td>\n",
       "      <td>초격차 패키지 : 한 번에 끝내는 유튜브 크리에이터 되기</td>\n",
       "      <td>영상/3D</td>\n",
       "      <td>올인원</td>\n",
       "      <td>2021-09-25 14:17:41</td>\n",
       "      <td>96000</td>\n",
       "      <td>...</td>\n",
       "      <td>INICIS</td>\n",
       "      <td>VBANK</td>\n",
       "      <td>영상 편집</td>\n",
       "      <td>2021-06-15 00:00:00</td>\n",
       "      <td>2021</td>\n",
       "      <td>9</td>\n",
       "      <td>25</td>\n",
       "      <td>14</td>\n",
       "      <td>Saturday</td>\n",
       "      <td>0925</td>\n",
       "    </tr>\n",
       "    <tr>\n",
       "      <th>101101</th>\n",
       "      <td>1365007</td>\n",
       "      <td>610626</td>\n",
       "      <td>206720</td>\n",
       "      <td>PAYMENT</td>\n",
       "      <td>COMPLETED</td>\n",
       "      <td>용호수의 돈 버는 실전 영상 제작</td>\n",
       "      <td>영상/3D</td>\n",
       "      <td>올인원</td>\n",
       "      <td>2021-09-25 14:25:47</td>\n",
       "      <td>139000</td>\n",
       "      <td>...</td>\n",
       "      <td>NAVER</td>\n",
       "      <td>POINT</td>\n",
       "      <td>영상 편집</td>\n",
       "      <td>2021-08-17 00:00:00</td>\n",
       "      <td>2021</td>\n",
       "      <td>9</td>\n",
       "      <td>25</td>\n",
       "      <td>14</td>\n",
       "      <td>Saturday</td>\n",
       "      <td>0925</td>\n",
       "    </tr>\n",
       "  </tbody>\n",
       "</table>\n",
       "<p>49415 rows × 23 columns</p>\n",
       "</div>"
      ],
      "text/plain": [
       "             id  customer_id  course_id     type      state  \\\n",
       "2        970657        72297     204246  PAYMENT  COMPLETED   \n",
       "4        970658       478028     201797  PAYMENT  COMPLETED   \n",
       "8        970669       478033     203178  PAYMENT  COMPLETED   \n",
       "10       970671       469860     203644  PAYMENT  COMPLETED   \n",
       "14       970676       478035     203720  PAYMENT  COMPLETED   \n",
       "...         ...          ...        ...      ...        ...   \n",
       "101094  1364969       669238     204286  PAYMENT  COMPLETED   \n",
       "101095  1364976       384003     203178  PAYMENT  COMPLETED   \n",
       "101096  1364991       670891     203935  PAYMENT  COMPLETED   \n",
       "101099  1364996       640697     205365  PAYMENT  COMPLETED   \n",
       "101101  1365007       610626     206720  PAYMENT  COMPLETED   \n",
       "\n",
       "                                          course_title category_title  format  \\\n",
       "2                                 시크릿코드 : 프론트엔드 실무 완성편          프로그래밍  스쿨 온라인   \n",
       "4                        올인원 패키지 : 직장인 필수 스킬 3종 세트 MAX         업무 생산성     올인원   \n",
       "8                          초격차 패키지 : 한번에 끝내는 영상 촬영과 편집          영상/3D     올인원   \n",
       "10      올인원 패키지 : 권오상의 금융 아카데미 - 권오상의 재무제표 분석 기초(평생소장)         부동산/금융     올인원   \n",
       "14                         초격차 패키지 : 한 번에 끝내는 프론트엔드 개발          프로그래밍     올인원   \n",
       "...                                                ...            ...     ...   \n",
       "101094                      초격차 패키지 : 한번에 끝내는 3D 디자인 툴            디자인     올인원   \n",
       "101095                     초격차 패키지 : 한번에 끝내는 영상 촬영과 편집          영상/3D     올인원   \n",
       "101096                     초격차 패키지 : 한 번에 끝내는 파이썬 웹 개발          프로그래밍     올인원   \n",
       "101099                 초격차 패키지 : 한 번에 끝내는 유튜브 크리에이터 되기          영상/3D     올인원   \n",
       "101101                              용호수의 돈 버는 실전 영상 제작          영상/3D     올인원   \n",
       "\n",
       "              completed_at  transaction_amount  ...      pg  method  \\\n",
       "2      2021-03-28 15:21:43              171810  ...    COMM    CARD   \n",
       "4      2021-03-28 15:21:54               97500  ...    COMM    CARD   \n",
       "8      2021-03-28 15:26:47               96000  ...    COMM    CARD   \n",
       "10     2021-03-28 15:27:17              263000  ...    COMM    CARD   \n",
       "14     2021-03-28 15:31:01               91000  ...    COMM    CARD   \n",
       "...                    ...                 ...  ...     ...     ...   \n",
       "101094 2021-09-25 13:39:26              212000  ...  INICIS    CARD   \n",
       "101095 2021-09-25 13:46:29              149000  ...   KAKAO    CARD   \n",
       "101096 2021-09-25 14:01:26              159000  ...  INICIS    CARD   \n",
       "101099 2021-09-25 14:17:41               96000  ...  INICIS   VBANK   \n",
       "101101 2021-09-25 14:25:47              139000  ...   NAVER   POINT   \n",
       "\n",
       "        subcategory_title   marketing_start_at  Year Month Day  Hour  \\\n",
       "2                   프로그래밍  2021-03-04 00:00:00  2021     3  28    15   \n",
       "4                 PPT/보고서  2019-11-14 00:00:00  2021     3  28    15   \n",
       "8                   영상 편집  2020-12-02 00:00:00  2021     3  28    15   \n",
       "10                 부동산/금융  2020-11-27 00:00:00  2021     3  28    15   \n",
       "14               프론트엔드 개발  2021-02-02 00:00:00  2021     3  28    15   \n",
       "...                   ...                  ...   ...   ...  ..   ...   \n",
       "101094               디자인툴  2021-04-23 00:00:00  2021     9  25    13   \n",
       "101095              영상 편집  2020-12-02 00:00:00  2021     9  25    13   \n",
       "101096             백엔드 개발  2021-05-31 00:00:00  2021     9  25    14   \n",
       "101099              영상 편집  2021-06-15 00:00:00  2021     9  25    14   \n",
       "101101              영상 편집  2021-08-17 00:00:00  2021     9  25    14   \n",
       "\n",
       "         Weekday   m-d  \n",
       "2         Sunday  0328  \n",
       "4         Sunday  0328  \n",
       "8         Sunday  0328  \n",
       "10        Sunday  0328  \n",
       "14        Sunday  0328  \n",
       "...          ...   ...  \n",
       "101094  Saturday  0925  \n",
       "101095  Saturday  0925  \n",
       "101096  Saturday  0925  \n",
       "101099  Saturday  0925  \n",
       "101101  Saturday  0925  \n",
       "\n",
       "[49415 rows x 23 columns]"
      ]
     },
     "execution_count": 109,
     "metadata": {},
     "output_type": "execute_result"
    }
   ],
   "source": [
    "# payment & completed\n",
    "pay_com = df[(df['type'] == 'PAYMENT') & (df['state'] == 'COMPLETED')]\n",
    "pay_com"
   ]
  },
  {
   "cell_type": "code",
   "execution_count": 110,
   "id": "58e22e27",
   "metadata": {
    "ExecuteTime": {
     "end_time": "2022-07-03T08:53:48.429608Z",
     "start_time": "2022-07-03T08:53:48.407201Z"
    }
   },
   "outputs": [
    {
     "data": {
      "text/html": [
       "<div>\n",
       "<style scoped>\n",
       "    .dataframe tbody tr th:only-of-type {\n",
       "        vertical-align: middle;\n",
       "    }\n",
       "\n",
       "    .dataframe tbody tr th {\n",
       "        vertical-align: top;\n",
       "    }\n",
       "\n",
       "    .dataframe thead th {\n",
       "        text-align: right;\n",
       "    }\n",
       "</style>\n",
       "<table border=\"1\" class=\"dataframe\">\n",
       "  <thead>\n",
       "    <tr style=\"text-align: right;\">\n",
       "      <th></th>\n",
       "      <th>id</th>\n",
       "      <th>customer_id</th>\n",
       "      <th>course_id</th>\n",
       "      <th>type</th>\n",
       "      <th>state</th>\n",
       "      <th>course_title</th>\n",
       "      <th>category_title</th>\n",
       "      <th>format</th>\n",
       "      <th>completed_at</th>\n",
       "      <th>transaction_amount</th>\n",
       "      <th>...</th>\n",
       "      <th>pg</th>\n",
       "      <th>method</th>\n",
       "      <th>subcategory_title</th>\n",
       "      <th>marketing_start_at</th>\n",
       "      <th>Year</th>\n",
       "      <th>Month</th>\n",
       "      <th>Day</th>\n",
       "      <th>Hour</th>\n",
       "      <th>Weekday</th>\n",
       "      <th>m-d</th>\n",
       "    </tr>\n",
       "  </thead>\n",
       "  <tbody>\n",
       "    <tr>\n",
       "      <th>645</th>\n",
       "      <td>972377</td>\n",
       "      <td>444760</td>\n",
       "      <td>204122</td>\n",
       "      <td>REFUND</td>\n",
       "      <td>COMPLETED</td>\n",
       "      <td>퍼포먼스 마케터 되기 온라인 완주반 2기</td>\n",
       "      <td>마케팅</td>\n",
       "      <td>온라인 완주반</td>\n",
       "      <td>2021-03-29 09:24:43</td>\n",
       "      <td>-147000</td>\n",
       "      <td>...</td>\n",
       "      <td>COMM</td>\n",
       "      <td>VBANK</td>\n",
       "      <td>마케팅</td>\n",
       "      <td>2018-11-11 00:00:00</td>\n",
       "      <td>2021</td>\n",
       "      <td>3</td>\n",
       "      <td>29</td>\n",
       "      <td>9</td>\n",
       "      <td>Monday</td>\n",
       "      <td>0329</td>\n",
       "    </tr>\n",
       "    <tr>\n",
       "      <th>646</th>\n",
       "      <td>972381</td>\n",
       "      <td>472666</td>\n",
       "      <td>203178</td>\n",
       "      <td>REFUND</td>\n",
       "      <td>COMPLETED</td>\n",
       "      <td>초격차 패키지 : 한번에 끝내는 영상 촬영과 편집</td>\n",
       "      <td>영상/3D</td>\n",
       "      <td>올인원</td>\n",
       "      <td>2021-03-29 09:26:13</td>\n",
       "      <td>-96000</td>\n",
       "      <td>...</td>\n",
       "      <td>COMM</td>\n",
       "      <td>CARD</td>\n",
       "      <td>영상 편집</td>\n",
       "      <td>2020-12-02 00:00:00</td>\n",
       "      <td>2021</td>\n",
       "      <td>3</td>\n",
       "      <td>29</td>\n",
       "      <td>9</td>\n",
       "      <td>Monday</td>\n",
       "      <td>0329</td>\n",
       "    </tr>\n",
       "    <tr>\n",
       "      <th>660</th>\n",
       "      <td>972409</td>\n",
       "      <td>447177</td>\n",
       "      <td>203989</td>\n",
       "      <td>REFUND</td>\n",
       "      <td>COMPLETED</td>\n",
       "      <td>올인원 패키지 : 소금툰과 함께 캐릭터 드로잉/굿즈/임티/컷툰</td>\n",
       "      <td>디자인</td>\n",
       "      <td>올인원</td>\n",
       "      <td>2021-03-29 09:40:54</td>\n",
       "      <td>-79000</td>\n",
       "      <td>...</td>\n",
       "      <td>COMM</td>\n",
       "      <td>CARD</td>\n",
       "      <td>일러스트</td>\n",
       "      <td>2021-02-19 00:00:00</td>\n",
       "      <td>2021</td>\n",
       "      <td>3</td>\n",
       "      <td>29</td>\n",
       "      <td>9</td>\n",
       "      <td>Monday</td>\n",
       "      <td>0329</td>\n",
       "    </tr>\n",
       "    <tr>\n",
       "      <th>666</th>\n",
       "      <td>972422</td>\n",
       "      <td>373915</td>\n",
       "      <td>204264</td>\n",
       "      <td>REFUND</td>\n",
       "      <td>COMPLETED</td>\n",
       "      <td>데이터분석 프로젝트+자격증 온라인 완주반 3기</td>\n",
       "      <td>데이터사이언스</td>\n",
       "      <td>온라인 완주반</td>\n",
       "      <td>2021-03-29 09:44:01</td>\n",
       "      <td>-340000</td>\n",
       "      <td>...</td>\n",
       "      <td>COMM</td>\n",
       "      <td>VBANK</td>\n",
       "      <td>데이터사이언스</td>\n",
       "      <td>2021-03-08 00:00:00</td>\n",
       "      <td>2021</td>\n",
       "      <td>3</td>\n",
       "      <td>29</td>\n",
       "      <td>9</td>\n",
       "      <td>Monday</td>\n",
       "      <td>0329</td>\n",
       "    </tr>\n",
       "    <tr>\n",
       "      <th>669</th>\n",
       "      <td>972436</td>\n",
       "      <td>456086</td>\n",
       "      <td>300000</td>\n",
       "      <td>REFUND</td>\n",
       "      <td>COMPLETED</td>\n",
       "      <td>프로모션 :연봉 앞자리가 바뀌는 프론트엔드 한끝세트 (3월 프리패스)</td>\n",
       "      <td>프로그래밍</td>\n",
       "      <td>올인원</td>\n",
       "      <td>2021-03-29 09:47:17</td>\n",
       "      <td>-299000</td>\n",
       "      <td>...</td>\n",
       "      <td>COMM</td>\n",
       "      <td>CARD</td>\n",
       "      <td>프로그래밍</td>\n",
       "      <td>2018-11-11 00:00:00</td>\n",
       "      <td>2021</td>\n",
       "      <td>3</td>\n",
       "      <td>29</td>\n",
       "      <td>9</td>\n",
       "      <td>Monday</td>\n",
       "      <td>0329</td>\n",
       "    </tr>\n",
       "    <tr>\n",
       "      <th>...</th>\n",
       "      <td>...</td>\n",
       "      <td>...</td>\n",
       "      <td>...</td>\n",
       "      <td>...</td>\n",
       "      <td>...</td>\n",
       "      <td>...</td>\n",
       "      <td>...</td>\n",
       "      <td>...</td>\n",
       "      <td>...</td>\n",
       "      <td>...</td>\n",
       "      <td>...</td>\n",
       "      <td>...</td>\n",
       "      <td>...</td>\n",
       "      <td>...</td>\n",
       "      <td>...</td>\n",
       "      <td>...</td>\n",
       "      <td>...</td>\n",
       "      <td>...</td>\n",
       "      <td>...</td>\n",
       "      <td>...</td>\n",
       "      <td>...</td>\n",
       "    </tr>\n",
       "    <tr>\n",
       "      <th>100866</th>\n",
       "      <td>1363708</td>\n",
       "      <td>600073</td>\n",
       "      <td>206065</td>\n",
       "      <td>REFUND</td>\n",
       "      <td>COMPLETED</td>\n",
       "      <td>(프로모션 7/16-7/29) 초격차 패키지 : 한 번에 끝내는 Spring 완.전.판</td>\n",
       "      <td>프로그래밍</td>\n",
       "      <td>올인원</td>\n",
       "      <td>2021-09-24 14:34:50</td>\n",
       "      <td>-149000</td>\n",
       "      <td>...</td>\n",
       "      <td>NAVER</td>\n",
       "      <td>CARD</td>\n",
       "      <td>백엔드 개발</td>\n",
       "      <td>2021-07-15 00:00:00</td>\n",
       "      <td>2021</td>\n",
       "      <td>9</td>\n",
       "      <td>24</td>\n",
       "      <td>14</td>\n",
       "      <td>Friday</td>\n",
       "      <td>0924</td>\n",
       "    </tr>\n",
       "    <tr>\n",
       "      <th>100870</th>\n",
       "      <td>1363721</td>\n",
       "      <td>645911</td>\n",
       "      <td>300000</td>\n",
       "      <td>REFUND</td>\n",
       "      <td>COMPLETED</td>\n",
       "      <td>프로모션 : 콘텐츠 마케터 맥북 air 패스(9월 현물 프리패스)</td>\n",
       "      <td>마케팅</td>\n",
       "      <td>올인원</td>\n",
       "      <td>2021-09-24 14:41:35</td>\n",
       "      <td>-1400000</td>\n",
       "      <td>...</td>\n",
       "      <td>INICIS</td>\n",
       "      <td>CARD</td>\n",
       "      <td>마케팅</td>\n",
       "      <td>2018-11-11 00:00:00</td>\n",
       "      <td>2021</td>\n",
       "      <td>9</td>\n",
       "      <td>24</td>\n",
       "      <td>14</td>\n",
       "      <td>Friday</td>\n",
       "      <td>0924</td>\n",
       "    </tr>\n",
       "    <tr>\n",
       "      <th>100895</th>\n",
       "      <td>1363934</td>\n",
       "      <td>506356</td>\n",
       "      <td>206720</td>\n",
       "      <td>REFUND</td>\n",
       "      <td>COMPLETED</td>\n",
       "      <td>용호수의 돈 버는 실전 영상 제작</td>\n",
       "      <td>영상/3D</td>\n",
       "      <td>올인원</td>\n",
       "      <td>2021-09-24 16:10:55</td>\n",
       "      <td>-259000</td>\n",
       "      <td>...</td>\n",
       "      <td>NAVER</td>\n",
       "      <td>CARD</td>\n",
       "      <td>영상 편집</td>\n",
       "      <td>2021-08-17 00:00:00</td>\n",
       "      <td>2021</td>\n",
       "      <td>9</td>\n",
       "      <td>24</td>\n",
       "      <td>16</td>\n",
       "      <td>Friday</td>\n",
       "      <td>0924</td>\n",
       "    </tr>\n",
       "    <tr>\n",
       "      <th>100933</th>\n",
       "      <td>1364149</td>\n",
       "      <td>604077</td>\n",
       "      <td>205569</td>\n",
       "      <td>REFUND</td>\n",
       "      <td>COMPLETED</td>\n",
       "      <td>올인원 패키지 : 공여사와 무작정 풀어보는 엑셀 실무</td>\n",
       "      <td>업무 생산성</td>\n",
       "      <td>올인원</td>\n",
       "      <td>2021-09-24 17:09:30</td>\n",
       "      <td>-109000</td>\n",
       "      <td>...</td>\n",
       "      <td>KAKAO</td>\n",
       "      <td>POINT</td>\n",
       "      <td>엑셀/VBA</td>\n",
       "      <td>2021-08-17 00:00:00</td>\n",
       "      <td>2021</td>\n",
       "      <td>9</td>\n",
       "      <td>24</td>\n",
       "      <td>17</td>\n",
       "      <td>Friday</td>\n",
       "      <td>0924</td>\n",
       "    </tr>\n",
       "    <tr>\n",
       "      <th>100936</th>\n",
       "      <td>1364217</td>\n",
       "      <td>552100</td>\n",
       "      <td>203525</td>\n",
       "      <td>REFUND</td>\n",
       "      <td>COMPLETED</td>\n",
       "      <td>초격차 패키지 : 한번에 끝내는 Java/Spring 웹 개발 마스터</td>\n",
       "      <td>프로그래밍</td>\n",
       "      <td>올인원</td>\n",
       "      <td>2021-09-24 17:33:53</td>\n",
       "      <td>-108186</td>\n",
       "      <td>...</td>\n",
       "      <td>INICIS</td>\n",
       "      <td>CARD</td>\n",
       "      <td>백엔드 개발</td>\n",
       "      <td>2021-02-01 00:00:00</td>\n",
       "      <td>2021</td>\n",
       "      <td>9</td>\n",
       "      <td>24</td>\n",
       "      <td>17</td>\n",
       "      <td>Friday</td>\n",
       "      <td>0924</td>\n",
       "    </tr>\n",
       "  </tbody>\n",
       "</table>\n",
       "<p>3625 rows × 23 columns</p>\n",
       "</div>"
      ],
      "text/plain": [
       "             id  customer_id  course_id    type      state  \\\n",
       "645      972377       444760     204122  REFUND  COMPLETED   \n",
       "646      972381       472666     203178  REFUND  COMPLETED   \n",
       "660      972409       447177     203989  REFUND  COMPLETED   \n",
       "666      972422       373915     204264  REFUND  COMPLETED   \n",
       "669      972436       456086     300000  REFUND  COMPLETED   \n",
       "...         ...          ...        ...     ...        ...   \n",
       "100866  1363708       600073     206065  REFUND  COMPLETED   \n",
       "100870  1363721       645911     300000  REFUND  COMPLETED   \n",
       "100895  1363934       506356     206720  REFUND  COMPLETED   \n",
       "100933  1364149       604077     205569  REFUND  COMPLETED   \n",
       "100936  1364217       552100     203525  REFUND  COMPLETED   \n",
       "\n",
       "                                            course_title category_title  \\\n",
       "645                               퍼포먼스 마케터 되기 온라인 완주반 2기            마케팅   \n",
       "646                          초격차 패키지 : 한번에 끝내는 영상 촬영과 편집          영상/3D   \n",
       "660                   올인원 패키지 : 소금툰과 함께 캐릭터 드로잉/굿즈/임티/컷툰            디자인   \n",
       "666                            데이터분석 프로젝트+자격증 온라인 완주반 3기        데이터사이언스   \n",
       "669               프로모션 :연봉 앞자리가 바뀌는 프론트엔드 한끝세트 (3월 프리패스)          프로그래밍   \n",
       "...                                                  ...            ...   \n",
       "100866  (프로모션 7/16-7/29) 초격차 패키지 : 한 번에 끝내는 Spring 완.전.판          프로그래밍   \n",
       "100870              프로모션 : 콘텐츠 마케터 맥북 air 패스(9월 현물 프리패스)            마케팅   \n",
       "100895                                용호수의 돈 버는 실전 영상 제작          영상/3D   \n",
       "100933                     올인원 패키지 : 공여사와 무작정 풀어보는 엑셀 실무         업무 생산성   \n",
       "100936            초격차 패키지 : 한번에 끝내는 Java/Spring 웹 개발 마스터          프로그래밍   \n",
       "\n",
       "         format        completed_at  transaction_amount  ...      pg  method  \\\n",
       "645     온라인 완주반 2021-03-29 09:24:43             -147000  ...    COMM   VBANK   \n",
       "646         올인원 2021-03-29 09:26:13              -96000  ...    COMM    CARD   \n",
       "660         올인원 2021-03-29 09:40:54              -79000  ...    COMM    CARD   \n",
       "666     온라인 완주반 2021-03-29 09:44:01             -340000  ...    COMM   VBANK   \n",
       "669         올인원 2021-03-29 09:47:17             -299000  ...    COMM    CARD   \n",
       "...         ...                 ...                 ...  ...     ...     ...   \n",
       "100866      올인원 2021-09-24 14:34:50             -149000  ...   NAVER    CARD   \n",
       "100870      올인원 2021-09-24 14:41:35            -1400000  ...  INICIS    CARD   \n",
       "100895      올인원 2021-09-24 16:10:55             -259000  ...   NAVER    CARD   \n",
       "100933      올인원 2021-09-24 17:09:30             -109000  ...   KAKAO   POINT   \n",
       "100936      올인원 2021-09-24 17:33:53             -108186  ...  INICIS    CARD   \n",
       "\n",
       "        subcategory_title   marketing_start_at  Year Month Day  Hour  Weekday  \\\n",
       "645                   마케팅  2018-11-11 00:00:00  2021     3  29     9   Monday   \n",
       "646                 영상 편집  2020-12-02 00:00:00  2021     3  29     9   Monday   \n",
       "660                  일러스트  2021-02-19 00:00:00  2021     3  29     9   Monday   \n",
       "666               데이터사이언스  2021-03-08 00:00:00  2021     3  29     9   Monday   \n",
       "669                 프로그래밍  2018-11-11 00:00:00  2021     3  29     9   Monday   \n",
       "...                   ...                  ...   ...   ...  ..   ...      ...   \n",
       "100866             백엔드 개발  2021-07-15 00:00:00  2021     9  24    14   Friday   \n",
       "100870                마케팅  2018-11-11 00:00:00  2021     9  24    14   Friday   \n",
       "100895              영상 편집  2021-08-17 00:00:00  2021     9  24    16   Friday   \n",
       "100933             엑셀/VBA  2021-08-17 00:00:00  2021     9  24    17   Friday   \n",
       "100936             백엔드 개발  2021-02-01 00:00:00  2021     9  24    17   Friday   \n",
       "\n",
       "         m-d  \n",
       "645     0329  \n",
       "646     0329  \n",
       "660     0329  \n",
       "666     0329  \n",
       "669     0329  \n",
       "...      ...  \n",
       "100866  0924  \n",
       "100870  0924  \n",
       "100895  0924  \n",
       "100933  0924  \n",
       "100936  0924  \n",
       "\n",
       "[3625 rows x 23 columns]"
      ]
     },
     "execution_count": 110,
     "metadata": {},
     "output_type": "execute_result"
    }
   ],
   "source": [
    "# refund & completed\n",
    "re_com = df[(df['type'] == 'REFUND') & (df['state'] == 'COMPLETED')]\n",
    "re_com"
   ]
  },
  {
   "cell_type": "code",
   "execution_count": 111,
   "id": "8aab9096",
   "metadata": {
    "ExecuteTime": {
     "end_time": "2022-07-03T08:53:50.713930Z",
     "start_time": "2022-07-03T08:53:50.646984Z"
    }
   },
   "outputs": [
    {
     "data": {
      "text/html": [
       "<div>\n",
       "<style scoped>\n",
       "    .dataframe tbody tr th:only-of-type {\n",
       "        vertical-align: middle;\n",
       "    }\n",
       "\n",
       "    .dataframe tbody tr th {\n",
       "        vertical-align: top;\n",
       "    }\n",
       "\n",
       "    .dataframe thead th {\n",
       "        text-align: right;\n",
       "    }\n",
       "</style>\n",
       "<table border=\"1\" class=\"dataframe\">\n",
       "  <thead>\n",
       "    <tr style=\"text-align: right;\">\n",
       "      <th></th>\n",
       "      <th>id</th>\n",
       "      <th>customer_id</th>\n",
       "      <th>course_id</th>\n",
       "      <th>type</th>\n",
       "      <th>state</th>\n",
       "      <th>course_title</th>\n",
       "      <th>category_title</th>\n",
       "      <th>format</th>\n",
       "      <th>completed_at</th>\n",
       "      <th>transaction_amount</th>\n",
       "      <th>...</th>\n",
       "      <th>pg</th>\n",
       "      <th>method</th>\n",
       "      <th>subcategory_title</th>\n",
       "      <th>marketing_start_at</th>\n",
       "      <th>Year</th>\n",
       "      <th>Month</th>\n",
       "      <th>Day</th>\n",
       "      <th>Hour</th>\n",
       "      <th>Weekday</th>\n",
       "      <th>m-d</th>\n",
       "    </tr>\n",
       "  </thead>\n",
       "  <tbody>\n",
       "    <tr>\n",
       "      <th>2</th>\n",
       "      <td>970657</td>\n",
       "      <td>72297</td>\n",
       "      <td>204246</td>\n",
       "      <td>PAYMENT</td>\n",
       "      <td>COMPLETED</td>\n",
       "      <td>시크릿코드 : 프론트엔드 실무 완성편</td>\n",
       "      <td>프로그래밍</td>\n",
       "      <td>스쿨 온라인</td>\n",
       "      <td>2021-03-28 15:21:43</td>\n",
       "      <td>171810</td>\n",
       "      <td>...</td>\n",
       "      <td>COMM</td>\n",
       "      <td>CARD</td>\n",
       "      <td>프로그래밍</td>\n",
       "      <td>2021-03-04 00:00:00</td>\n",
       "      <td>2021</td>\n",
       "      <td>3</td>\n",
       "      <td>28</td>\n",
       "      <td>15</td>\n",
       "      <td>Sunday</td>\n",
       "      <td>0328</td>\n",
       "    </tr>\n",
       "    <tr>\n",
       "      <th>4</th>\n",
       "      <td>970658</td>\n",
       "      <td>478028</td>\n",
       "      <td>201797</td>\n",
       "      <td>PAYMENT</td>\n",
       "      <td>COMPLETED</td>\n",
       "      <td>올인원 패키지 : 직장인 필수 스킬 3종 세트 MAX</td>\n",
       "      <td>업무 생산성</td>\n",
       "      <td>올인원</td>\n",
       "      <td>2021-03-28 15:21:54</td>\n",
       "      <td>97500</td>\n",
       "      <td>...</td>\n",
       "      <td>COMM</td>\n",
       "      <td>CARD</td>\n",
       "      <td>PPT/보고서</td>\n",
       "      <td>2019-11-14 00:00:00</td>\n",
       "      <td>2021</td>\n",
       "      <td>3</td>\n",
       "      <td>28</td>\n",
       "      <td>15</td>\n",
       "      <td>Sunday</td>\n",
       "      <td>0328</td>\n",
       "    </tr>\n",
       "    <tr>\n",
       "      <th>8</th>\n",
       "      <td>970669</td>\n",
       "      <td>478033</td>\n",
       "      <td>203178</td>\n",
       "      <td>PAYMENT</td>\n",
       "      <td>COMPLETED</td>\n",
       "      <td>초격차 패키지 : 한번에 끝내는 영상 촬영과 편집</td>\n",
       "      <td>영상/3D</td>\n",
       "      <td>올인원</td>\n",
       "      <td>2021-03-28 15:26:47</td>\n",
       "      <td>96000</td>\n",
       "      <td>...</td>\n",
       "      <td>COMM</td>\n",
       "      <td>CARD</td>\n",
       "      <td>영상 편집</td>\n",
       "      <td>2020-12-02 00:00:00</td>\n",
       "      <td>2021</td>\n",
       "      <td>3</td>\n",
       "      <td>28</td>\n",
       "      <td>15</td>\n",
       "      <td>Sunday</td>\n",
       "      <td>0328</td>\n",
       "    </tr>\n",
       "    <tr>\n",
       "      <th>10</th>\n",
       "      <td>970671</td>\n",
       "      <td>469860</td>\n",
       "      <td>203644</td>\n",
       "      <td>PAYMENT</td>\n",
       "      <td>COMPLETED</td>\n",
       "      <td>올인원 패키지 : 권오상의 금융 아카데미 - 권오상의 재무제표 분석 기초(평생소장)</td>\n",
       "      <td>부동산/금융</td>\n",
       "      <td>올인원</td>\n",
       "      <td>2021-03-28 15:27:17</td>\n",
       "      <td>263000</td>\n",
       "      <td>...</td>\n",
       "      <td>COMM</td>\n",
       "      <td>CARD</td>\n",
       "      <td>부동산/금융</td>\n",
       "      <td>2020-11-27 00:00:00</td>\n",
       "      <td>2021</td>\n",
       "      <td>3</td>\n",
       "      <td>28</td>\n",
       "      <td>15</td>\n",
       "      <td>Sunday</td>\n",
       "      <td>0328</td>\n",
       "    </tr>\n",
       "    <tr>\n",
       "      <th>14</th>\n",
       "      <td>970676</td>\n",
       "      <td>478035</td>\n",
       "      <td>203720</td>\n",
       "      <td>PAYMENT</td>\n",
       "      <td>COMPLETED</td>\n",
       "      <td>초격차 패키지 : 한 번에 끝내는 프론트엔드 개발</td>\n",
       "      <td>프로그래밍</td>\n",
       "      <td>올인원</td>\n",
       "      <td>2021-03-28 15:31:01</td>\n",
       "      <td>91000</td>\n",
       "      <td>...</td>\n",
       "      <td>COMM</td>\n",
       "      <td>CARD</td>\n",
       "      <td>프론트엔드 개발</td>\n",
       "      <td>2021-02-02 00:00:00</td>\n",
       "      <td>2021</td>\n",
       "      <td>3</td>\n",
       "      <td>28</td>\n",
       "      <td>15</td>\n",
       "      <td>Sunday</td>\n",
       "      <td>0328</td>\n",
       "    </tr>\n",
       "    <tr>\n",
       "      <th>...</th>\n",
       "      <td>...</td>\n",
       "      <td>...</td>\n",
       "      <td>...</td>\n",
       "      <td>...</td>\n",
       "      <td>...</td>\n",
       "      <td>...</td>\n",
       "      <td>...</td>\n",
       "      <td>...</td>\n",
       "      <td>...</td>\n",
       "      <td>...</td>\n",
       "      <td>...</td>\n",
       "      <td>...</td>\n",
       "      <td>...</td>\n",
       "      <td>...</td>\n",
       "      <td>...</td>\n",
       "      <td>...</td>\n",
       "      <td>...</td>\n",
       "      <td>...</td>\n",
       "      <td>...</td>\n",
       "      <td>...</td>\n",
       "      <td>...</td>\n",
       "    </tr>\n",
       "    <tr>\n",
       "      <th>100866</th>\n",
       "      <td>1363708</td>\n",
       "      <td>600073</td>\n",
       "      <td>206065</td>\n",
       "      <td>REFUND</td>\n",
       "      <td>COMPLETED</td>\n",
       "      <td>(프로모션 7/16-7/29) 초격차 패키지 : 한 번에 끝내는 Spring 완.전.판</td>\n",
       "      <td>프로그래밍</td>\n",
       "      <td>올인원</td>\n",
       "      <td>2021-09-24 14:34:50</td>\n",
       "      <td>-149000</td>\n",
       "      <td>...</td>\n",
       "      <td>NAVER</td>\n",
       "      <td>CARD</td>\n",
       "      <td>백엔드 개발</td>\n",
       "      <td>2021-07-15 00:00:00</td>\n",
       "      <td>2021</td>\n",
       "      <td>9</td>\n",
       "      <td>24</td>\n",
       "      <td>14</td>\n",
       "      <td>Friday</td>\n",
       "      <td>0924</td>\n",
       "    </tr>\n",
       "    <tr>\n",
       "      <th>100870</th>\n",
       "      <td>1363721</td>\n",
       "      <td>645911</td>\n",
       "      <td>300000</td>\n",
       "      <td>REFUND</td>\n",
       "      <td>COMPLETED</td>\n",
       "      <td>프로모션 : 콘텐츠 마케터 맥북 air 패스(9월 현물 프리패스)</td>\n",
       "      <td>마케팅</td>\n",
       "      <td>올인원</td>\n",
       "      <td>2021-09-24 14:41:35</td>\n",
       "      <td>-1400000</td>\n",
       "      <td>...</td>\n",
       "      <td>INICIS</td>\n",
       "      <td>CARD</td>\n",
       "      <td>마케팅</td>\n",
       "      <td>2018-11-11 00:00:00</td>\n",
       "      <td>2021</td>\n",
       "      <td>9</td>\n",
       "      <td>24</td>\n",
       "      <td>14</td>\n",
       "      <td>Friday</td>\n",
       "      <td>0924</td>\n",
       "    </tr>\n",
       "    <tr>\n",
       "      <th>100895</th>\n",
       "      <td>1363934</td>\n",
       "      <td>506356</td>\n",
       "      <td>206720</td>\n",
       "      <td>REFUND</td>\n",
       "      <td>COMPLETED</td>\n",
       "      <td>용호수의 돈 버는 실전 영상 제작</td>\n",
       "      <td>영상/3D</td>\n",
       "      <td>올인원</td>\n",
       "      <td>2021-09-24 16:10:55</td>\n",
       "      <td>-259000</td>\n",
       "      <td>...</td>\n",
       "      <td>NAVER</td>\n",
       "      <td>CARD</td>\n",
       "      <td>영상 편집</td>\n",
       "      <td>2021-08-17 00:00:00</td>\n",
       "      <td>2021</td>\n",
       "      <td>9</td>\n",
       "      <td>24</td>\n",
       "      <td>16</td>\n",
       "      <td>Friday</td>\n",
       "      <td>0924</td>\n",
       "    </tr>\n",
       "    <tr>\n",
       "      <th>100933</th>\n",
       "      <td>1364149</td>\n",
       "      <td>604077</td>\n",
       "      <td>205569</td>\n",
       "      <td>REFUND</td>\n",
       "      <td>COMPLETED</td>\n",
       "      <td>올인원 패키지 : 공여사와 무작정 풀어보는 엑셀 실무</td>\n",
       "      <td>업무 생산성</td>\n",
       "      <td>올인원</td>\n",
       "      <td>2021-09-24 17:09:30</td>\n",
       "      <td>-109000</td>\n",
       "      <td>...</td>\n",
       "      <td>KAKAO</td>\n",
       "      <td>POINT</td>\n",
       "      <td>엑셀/VBA</td>\n",
       "      <td>2021-08-17 00:00:00</td>\n",
       "      <td>2021</td>\n",
       "      <td>9</td>\n",
       "      <td>24</td>\n",
       "      <td>17</td>\n",
       "      <td>Friday</td>\n",
       "      <td>0924</td>\n",
       "    </tr>\n",
       "    <tr>\n",
       "      <th>100936</th>\n",
       "      <td>1364217</td>\n",
       "      <td>552100</td>\n",
       "      <td>203525</td>\n",
       "      <td>REFUND</td>\n",
       "      <td>COMPLETED</td>\n",
       "      <td>초격차 패키지 : 한번에 끝내는 Java/Spring 웹 개발 마스터</td>\n",
       "      <td>프로그래밍</td>\n",
       "      <td>올인원</td>\n",
       "      <td>2021-09-24 17:33:53</td>\n",
       "      <td>-108186</td>\n",
       "      <td>...</td>\n",
       "      <td>INICIS</td>\n",
       "      <td>CARD</td>\n",
       "      <td>백엔드 개발</td>\n",
       "      <td>2021-02-01 00:00:00</td>\n",
       "      <td>2021</td>\n",
       "      <td>9</td>\n",
       "      <td>24</td>\n",
       "      <td>17</td>\n",
       "      <td>Friday</td>\n",
       "      <td>0924</td>\n",
       "    </tr>\n",
       "  </tbody>\n",
       "</table>\n",
       "<p>53040 rows × 23 columns</p>\n",
       "</div>"
      ],
      "text/plain": [
       "             id  customer_id  course_id     type      state  \\\n",
       "2        970657        72297     204246  PAYMENT  COMPLETED   \n",
       "4        970658       478028     201797  PAYMENT  COMPLETED   \n",
       "8        970669       478033     203178  PAYMENT  COMPLETED   \n",
       "10       970671       469860     203644  PAYMENT  COMPLETED   \n",
       "14       970676       478035     203720  PAYMENT  COMPLETED   \n",
       "...         ...          ...        ...      ...        ...   \n",
       "100866  1363708       600073     206065   REFUND  COMPLETED   \n",
       "100870  1363721       645911     300000   REFUND  COMPLETED   \n",
       "100895  1363934       506356     206720   REFUND  COMPLETED   \n",
       "100933  1364149       604077     205569   REFUND  COMPLETED   \n",
       "100936  1364217       552100     203525   REFUND  COMPLETED   \n",
       "\n",
       "                                            course_title category_title  \\\n",
       "2                                   시크릿코드 : 프론트엔드 실무 완성편          프로그래밍   \n",
       "4                          올인원 패키지 : 직장인 필수 스킬 3종 세트 MAX         업무 생산성   \n",
       "8                            초격차 패키지 : 한번에 끝내는 영상 촬영과 편집          영상/3D   \n",
       "10        올인원 패키지 : 권오상의 금융 아카데미 - 권오상의 재무제표 분석 기초(평생소장)         부동산/금융   \n",
       "14                           초격차 패키지 : 한 번에 끝내는 프론트엔드 개발          프로그래밍   \n",
       "...                                                  ...            ...   \n",
       "100866  (프로모션 7/16-7/29) 초격차 패키지 : 한 번에 끝내는 Spring 완.전.판          프로그래밍   \n",
       "100870              프로모션 : 콘텐츠 마케터 맥북 air 패스(9월 현물 프리패스)            마케팅   \n",
       "100895                                용호수의 돈 버는 실전 영상 제작          영상/3D   \n",
       "100933                     올인원 패키지 : 공여사와 무작정 풀어보는 엑셀 실무         업무 생산성   \n",
       "100936            초격차 패키지 : 한번에 끝내는 Java/Spring 웹 개발 마스터          프로그래밍   \n",
       "\n",
       "        format        completed_at  transaction_amount  ...      pg  method  \\\n",
       "2       스쿨 온라인 2021-03-28 15:21:43              171810  ...    COMM    CARD   \n",
       "4          올인원 2021-03-28 15:21:54               97500  ...    COMM    CARD   \n",
       "8          올인원 2021-03-28 15:26:47               96000  ...    COMM    CARD   \n",
       "10         올인원 2021-03-28 15:27:17              263000  ...    COMM    CARD   \n",
       "14         올인원 2021-03-28 15:31:01               91000  ...    COMM    CARD   \n",
       "...        ...                 ...                 ...  ...     ...     ...   \n",
       "100866     올인원 2021-09-24 14:34:50             -149000  ...   NAVER    CARD   \n",
       "100870     올인원 2021-09-24 14:41:35            -1400000  ...  INICIS    CARD   \n",
       "100895     올인원 2021-09-24 16:10:55             -259000  ...   NAVER    CARD   \n",
       "100933     올인원 2021-09-24 17:09:30             -109000  ...   KAKAO   POINT   \n",
       "100936     올인원 2021-09-24 17:33:53             -108186  ...  INICIS    CARD   \n",
       "\n",
       "        subcategory_title   marketing_start_at  Year Month Day  Hour  Weekday  \\\n",
       "2                   프로그래밍  2021-03-04 00:00:00  2021     3  28    15   Sunday   \n",
       "4                 PPT/보고서  2019-11-14 00:00:00  2021     3  28    15   Sunday   \n",
       "8                   영상 편집  2020-12-02 00:00:00  2021     3  28    15   Sunday   \n",
       "10                 부동산/금융  2020-11-27 00:00:00  2021     3  28    15   Sunday   \n",
       "14               프론트엔드 개발  2021-02-02 00:00:00  2021     3  28    15   Sunday   \n",
       "...                   ...                  ...   ...   ...  ..   ...      ...   \n",
       "100866             백엔드 개발  2021-07-15 00:00:00  2021     9  24    14   Friday   \n",
       "100870                마케팅  2018-11-11 00:00:00  2021     9  24    14   Friday   \n",
       "100895              영상 편집  2021-08-17 00:00:00  2021     9  24    16   Friday   \n",
       "100933             엑셀/VBA  2021-08-17 00:00:00  2021     9  24    17   Friday   \n",
       "100936             백엔드 개발  2021-02-01 00:00:00  2021     9  24    17   Friday   \n",
       "\n",
       "         m-d  \n",
       "2       0328  \n",
       "4       0328  \n",
       "8       0328  \n",
       "10      0328  \n",
       "14      0328  \n",
       "...      ...  \n",
       "100866  0924  \n",
       "100870  0924  \n",
       "100895  0924  \n",
       "100933  0924  \n",
       "100936  0924  \n",
       "\n",
       "[53040 rows x 23 columns]"
      ]
     },
     "execution_count": 111,
     "metadata": {},
     "output_type": "execute_result"
    }
   ],
   "source": [
    "com_Pay_Re = pd.concat([pay_com,re_com])\n",
    "com_Pay_Re"
   ]
  },
  {
   "cell_type": "code",
   "execution_count": 17,
   "id": "a9945fd6",
   "metadata": {
    "ExecuteTime": {
     "end_time": "2022-07-03T03:32:57.379106Z",
     "start_time": "2022-07-03T03:32:57.370735Z"
    }
   },
   "outputs": [
    {
     "data": {
      "text/plain": [
       "5972719534"
      ]
     },
     "execution_count": 17,
     "metadata": {},
     "output_type": "execute_result"
    }
   ],
   "source": [
    "#총매출\n",
    "com_Pay_Re['transaction_amount'].sum()"
   ]
  },
  {
   "cell_type": "markdown",
   "id": "bf482f3a",
   "metadata": {},
   "source": [
    "총 매출 = 5,972,719,534원"
   ]
  },
  {
   "cell_type": "markdown",
   "id": "067228e5",
   "metadata": {},
   "source": [
    "## 시간대, 요일, 일, 주, 월, 분기, 총 매출(반기), 6개월간 추이"
   ]
  },
  {
   "cell_type": "code",
   "execution_count": 85,
   "id": "e4af52a4",
   "metadata": {
    "ExecuteTime": {
     "end_time": "2022-07-03T08:30:25.054932Z",
     "start_time": "2022-07-03T08:30:25.051642Z"
    }
   },
   "outputs": [],
   "source": [
    "# df"
   ]
  },
  {
   "cell_type": "markdown",
   "id": "ec54f1a2",
   "metadata": {},
   "source": [
    "### 시간대별 매출 그래프"
   ]
  },
  {
   "cell_type": "markdown",
   "id": "56961300",
   "metadata": {},
   "source": [
    "시간대별 count 그래프 (데이터 프레임 = df , 모든 이용의 카운트)"
   ]
  },
  {
   "cell_type": "code",
   "execution_count": 51,
   "id": "2e8a877e",
   "metadata": {
    "ExecuteTime": {
     "end_time": "2022-07-03T08:02:32.293634Z",
     "start_time": "2022-07-03T08:02:32.108499Z"
    }
   },
   "outputs": [
    {
     "data": {
      "text/plain": [
       "<AxesSubplot:xlabel='Hour', ylabel='count'>"
      ]
     },
     "execution_count": 51,
     "metadata": {},
     "output_type": "execute_result"
    },
    {
     "data": {
      "image/png": "[encoded data removed]",
      "text/plain": [
       "<Figure size 720x504 with 1 Axes>"
      ]
     },
     "metadata": {},
     "output_type": "display_data"
    }
   ],
   "source": [
    "# 매출 그래프 아니에요..!!! 이 그래프로도 정보얻을 수 있을 것 같아서 남겨뒀어요..\n",
    "# 시간대별로 count해서 언제 사람들이 가장 많이 이용하는 지 알아볼 수 있어요!\n",
    "sns.set_style('whitegrid')\n",
    "plt.figure(figsize=(10,7))\n",
    "sns.countplot(data=df, x=\"Hour\")"
   ]
  },
  {
   "cell_type": "markdown",
   "id": "05e76391",
   "metadata": {},
   "source": [
    "시간대별 그래프 (데이터프레임 : com_Pay_Re, 결제완료 및 환불 완료 된 데이터로 만들어짐)"
   ]
  },
  {
   "cell_type": "code",
   "execution_count": 100,
   "id": "6e4d824b",
   "metadata": {
    "ExecuteTime": {
     "end_time": "2022-07-03T08:36:34.790216Z",
     "start_time": "2022-07-03T08:36:34.617955Z"
    }
   },
   "outputs": [
    {
     "data": {
      "text/plain": [
       "<AxesSubplot:xlabel='Hour', ylabel='count'>"
      ]
     },
     "execution_count": 100,
     "metadata": {},
     "output_type": "execute_result"
    },
    {
     "data": {
      "image/png": "[encoded data removed]",
      "text/plain": [
       "<Figure size 720x504 with 1 Axes>"
      ]
     },
     "metadata": {},
     "output_type": "display_data"
    }
   ],
   "source": [
    "# 매출 그래프 아니에요..!!! 이 그래프로도 정보얻을 수 있을 것 같아서 남겨뒀어요..\n",
    "# 위 그래프랑 다른 이유는 데이터프레임을 (com_Pay_Re)를 사용했기 때문입니다..!\n",
    "# 위랑 다른 정보 : 이 그래프는 payment,refund가 completed인 데이터로만 만들어졌습니다.\n",
    "sns.set_style('whitegrid')\n",
    "plt.figure(figsize=(10,7))\n",
    "sns.countplot(data=com_Pay_Re, x=\"Hour\")"
   ]
  },
  {
   "cell_type": "markdown",
   "id": "65ca1804",
   "metadata": {},
   "source": [
    "시간대별 그래프 (매출 합으로 만들기) -> 이게 1번에서 구하고자 했던 것!"
   ]
  },
  {
   "cell_type": "code",
   "execution_count": 59,
   "id": "61a8bdd7",
   "metadata": {
    "ExecuteTime": {
     "end_time": "2022-07-02T16:50:52.014281Z",
     "start_time": "2022-07-02T16:50:51.995760Z"
    }
   },
   "outputs": [
    {
     "data": {
      "text/html": [
       "<div>\n",
       "<style scoped>\n",
       "    .dataframe tbody tr th:only-of-type {\n",
       "        vertical-align: middle;\n",
       "    }\n",
       "\n",
       "    .dataframe tbody tr th {\n",
       "        vertical-align: top;\n",
       "    }\n",
       "\n",
       "    .dataframe thead th {\n",
       "        text-align: right;\n",
       "    }\n",
       "</style>\n",
       "<table border=\"1\" class=\"dataframe\">\n",
       "  <thead>\n",
       "    <tr style=\"text-align: right;\">\n",
       "      <th></th>\n",
       "      <th>transaction_amount</th>\n",
       "    </tr>\n",
       "    <tr>\n",
       "      <th>completed_at</th>\n",
       "      <th></th>\n",
       "    </tr>\n",
       "  </thead>\n",
       "  <tbody>\n",
       "    <tr>\n",
       "      <th>0</th>\n",
       "      <td>233549455</td>\n",
       "    </tr>\n",
       "    <tr>\n",
       "      <th>1</th>\n",
       "      <td>136075550</td>\n",
       "    </tr>\n",
       "    <tr>\n",
       "      <th>2</th>\n",
       "      <td>95817755</td>\n",
       "    </tr>\n",
       "    <tr>\n",
       "      <th>3</th>\n",
       "      <td>52194135</td>\n",
       "    </tr>\n",
       "    <tr>\n",
       "      <th>4</th>\n",
       "      <td>33338600</td>\n",
       "    </tr>\n",
       "    <tr>\n",
       "      <th>5</th>\n",
       "      <td>36766265</td>\n",
       "    </tr>\n",
       "    <tr>\n",
       "      <th>6</th>\n",
       "      <td>55248680</td>\n",
       "    </tr>\n",
       "    <tr>\n",
       "      <th>7</th>\n",
       "      <td>94951875</td>\n",
       "    </tr>\n",
       "    <tr>\n",
       "      <th>8</th>\n",
       "      <td>155896900</td>\n",
       "    </tr>\n",
       "    <tr>\n",
       "      <th>9</th>\n",
       "      <td>226463962</td>\n",
       "    </tr>\n",
       "    <tr>\n",
       "      <th>10</th>\n",
       "      <td>171362970</td>\n",
       "    </tr>\n",
       "    <tr>\n",
       "      <th>11</th>\n",
       "      <td>211056505</td>\n",
       "    </tr>\n",
       "    <tr>\n",
       "      <th>12</th>\n",
       "      <td>279776938</td>\n",
       "    </tr>\n",
       "    <tr>\n",
       "      <th>13</th>\n",
       "      <td>261146271</td>\n",
       "    </tr>\n",
       "    <tr>\n",
       "      <th>14</th>\n",
       "      <td>304796320</td>\n",
       "    </tr>\n",
       "    <tr>\n",
       "      <th>15</th>\n",
       "      <td>334849701</td>\n",
       "    </tr>\n",
       "    <tr>\n",
       "      <th>16</th>\n",
       "      <td>366106714</td>\n",
       "    </tr>\n",
       "    <tr>\n",
       "      <th>17</th>\n",
       "      <td>338984956</td>\n",
       "    </tr>\n",
       "    <tr>\n",
       "      <th>18</th>\n",
       "      <td>343336217</td>\n",
       "    </tr>\n",
       "    <tr>\n",
       "      <th>19</th>\n",
       "      <td>336345205</td>\n",
       "    </tr>\n",
       "    <tr>\n",
       "      <th>20</th>\n",
       "      <td>380288475</td>\n",
       "    </tr>\n",
       "    <tr>\n",
       "      <th>21</th>\n",
       "      <td>441263400</td>\n",
       "    </tr>\n",
       "    <tr>\n",
       "      <th>22</th>\n",
       "      <td>511370370</td>\n",
       "    </tr>\n",
       "    <tr>\n",
       "      <th>23</th>\n",
       "      <td>571732315</td>\n",
       "    </tr>\n",
       "  </tbody>\n",
       "</table>\n",
       "</div>"
      ],
      "text/plain": [
       "              transaction_amount\n",
       "completed_at                    \n",
       "0                      233549455\n",
       "1                      136075550\n",
       "2                       95817755\n",
       "3                       52194135\n",
       "4                       33338600\n",
       "5                       36766265\n",
       "6                       55248680\n",
       "7                       94951875\n",
       "8                      155896900\n",
       "9                      226463962\n",
       "10                     171362970\n",
       "11                     211056505\n",
       "12                     279776938\n",
       "13                     261146271\n",
       "14                     304796320\n",
       "15                     334849701\n",
       "16                     366106714\n",
       "17                     338984956\n",
       "18                     343336217\n",
       "19                     336345205\n",
       "20                     380288475\n",
       "21                     441263400\n",
       "22                     511370370\n",
       "23                     571732315"
      ]
     },
     "execution_count": 59,
     "metadata": {},
     "output_type": "execute_result"
    }
   ],
   "source": [
    "# 시간대별로 매출 합 구하기\n",
    "sum_hour = com_Pay_Re.set_index('completed_at').groupby(lambda date: date.hour).sum()[['transaction_amount']]\n",
    "sum_hour"
   ]
  },
  {
   "cell_type": "code",
   "execution_count": 60,
   "id": "a74b52e5",
   "metadata": {
    "ExecuteTime": {
     "end_time": "2022-07-02T16:50:52.881054Z",
     "start_time": "2022-07-02T16:50:52.758395Z"
    }
   },
   "outputs": [
    {
     "data": {
      "text/plain": [
       "<AxesSubplot:xlabel='completed_at', ylabel='transaction_amount'>"
      ]
     },
     "execution_count": 60,
     "metadata": {},
     "output_type": "execute_result"
    },
    {
     "data": {
      "image/png": "[encoded data removed]",
      "text/plain": [
       "<Figure size 720x504 with 1 Axes>"
      ]
     },
     "metadata": {},
     "output_type": "display_data"
    }
   ],
   "source": [
    "# 시간대별로 매출 그래프 그리기\n",
    "sns.set_style('whitegrid')\n",
    "plt.figure(figsize=(10,7))\n",
    "sns.lineplot(data=sum_hour, x=\"completed_at\", y ='transaction_amount')"
   ]
  },
  {
   "cell_type": "markdown",
   "id": "76df6b3b",
   "metadata": {},
   "source": [
    "### 요일별 매출 그래프"
   ]
  },
  {
   "cell_type": "markdown",
   "id": "2dabf17e",
   "metadata": {},
   "source": [
    "요일별 그래프 (데이터 = df, 요일별로 조건 없이 이용자 수 구하기)"
   ]
  },
  {
   "cell_type": "code",
   "execution_count": 96,
   "id": "630bd9da",
   "metadata": {
    "ExecuteTime": {
     "end_time": "2022-07-03T08:34:24.178272Z",
     "start_time": "2022-07-03T08:34:24.028562Z"
    }
   },
   "outputs": [
    {
     "data": {
      "text/plain": [
       "<AxesSubplot:xlabel='Weekday', ylabel='count'>"
      ]
     },
     "execution_count": 96,
     "metadata": {},
     "output_type": "execute_result"
    },
    {
     "data": {
      "image/png": "[encoded data removed]",
      "text/plain": [
       "<Figure size 720x504 with 1 Axes>"
      ]
     },
     "metadata": {},
     "output_type": "display_data"
    }
   ],
   "source": [
    "# 요일별로 카운트 그래프\n",
    "sns.set_style('whitegrid')\n",
    "plt.figure(figsize=(10,7))\n",
    "sns.countplot(data=df, x=\"Weekday\")"
   ]
  },
  {
   "cell_type": "markdown",
   "id": "f3408358",
   "metadata": {},
   "source": [
    "요일별 그래프 (data = com_Pay_Re, 결제 완료 및 환불 완료 강좌의 데이터만 사용아여 count)"
   ]
  },
  {
   "cell_type": "code",
   "execution_count": 103,
   "id": "49100728",
   "metadata": {
    "ExecuteTime": {
     "end_time": "2022-07-03T08:42:32.897439Z",
     "start_time": "2022-07-03T08:42:32.767927Z"
    }
   },
   "outputs": [
    {
     "data": {
      "text/plain": [
       "<AxesSubplot:xlabel='Weekday', ylabel='count'>"
      ]
     },
     "execution_count": 103,
     "metadata": {},
     "output_type": "execute_result"
    },
    {
     "data": {
      "image/png": "[encoded data removed]",
      "text/plain": [
       "<Figure size 720x504 with 1 Axes>"
      ]
     },
     "metadata": {},
     "output_type": "display_data"
    }
   ],
   "source": [
    "# 요일별로 카운트 그래프\n",
    "sns.set_style('whitegrid')\n",
    "plt.figure(figsize=(10,7))\n",
    "sns.countplot(data=com_Pay_Re, x=\"Weekday\")"
   ]
  },
  {
   "cell_type": "code",
   "execution_count": 62,
   "id": "5f33df6c",
   "metadata": {
    "ExecuteTime": {
     "end_time": "2022-07-02T16:50:54.075570Z",
     "start_time": "2022-07-02T16:50:54.021385Z"
    }
   },
   "outputs": [
    {
     "data": {
      "text/html": [
       "<div>\n",
       "<style scoped>\n",
       "    .dataframe tbody tr th:only-of-type {\n",
       "        vertical-align: middle;\n",
       "    }\n",
       "\n",
       "    .dataframe tbody tr th {\n",
       "        vertical-align: top;\n",
       "    }\n",
       "\n",
       "    .dataframe thead th {\n",
       "        text-align: right;\n",
       "    }\n",
       "</style>\n",
       "<table border=\"1\" class=\"dataframe\">\n",
       "  <thead>\n",
       "    <tr style=\"text-align: right;\">\n",
       "      <th></th>\n",
       "      <th>transaction_amount</th>\n",
       "    </tr>\n",
       "    <tr>\n",
       "      <th>completed_at</th>\n",
       "      <th></th>\n",
       "    </tr>\n",
       "  </thead>\n",
       "  <tbody>\n",
       "    <tr>\n",
       "      <th>Friday</th>\n",
       "      <td>819967968</td>\n",
       "    </tr>\n",
       "    <tr>\n",
       "      <th>Monday</th>\n",
       "      <td>794476420</td>\n",
       "    </tr>\n",
       "    <tr>\n",
       "      <th>Saturday</th>\n",
       "      <td>737461545</td>\n",
       "    </tr>\n",
       "    <tr>\n",
       "      <th>Sunday</th>\n",
       "      <td>1149664615</td>\n",
       "    </tr>\n",
       "    <tr>\n",
       "      <th>Thursday</th>\n",
       "      <td>708513498</td>\n",
       "    </tr>\n",
       "    <tr>\n",
       "      <th>Tuesday</th>\n",
       "      <td>859965425</td>\n",
       "    </tr>\n",
       "    <tr>\n",
       "      <th>Wednesday</th>\n",
       "      <td>902670063</td>\n",
       "    </tr>\n",
       "  </tbody>\n",
       "</table>\n",
       "</div>"
      ],
      "text/plain": [
       "              transaction_amount\n",
       "completed_at                    \n",
       "Friday                 819967968\n",
       "Monday                 794476420\n",
       "Saturday               737461545\n",
       "Sunday                1149664615\n",
       "Thursday               708513498\n",
       "Tuesday                859965425\n",
       "Wednesday              902670063"
      ]
     },
     "execution_count": 62,
     "metadata": {},
     "output_type": "execute_result"
    }
   ],
   "source": [
    "# 요일별 매출 총합 구하기\n",
    "# 인덱스 정렬이 안되네요..ㅠㅜ\n",
    "sum_week = com_Pay_Re.set_index('completed_at').groupby(lambda date: date.day_name()).sum()[['transaction_amount']]\n",
    "sum_week.sort_index(ascending=True)"
   ]
  },
  {
   "cell_type": "markdown",
   "id": "eec477a6",
   "metadata": {},
   "source": [
    "인덱스 정렬 다시..."
   ]
  },
  {
   "cell_type": "code",
   "execution_count": 63,
   "id": "0fd099b8",
   "metadata": {
    "ExecuteTime": {
     "end_time": "2022-07-02T16:50:54.929257Z",
     "start_time": "2022-07-02T16:50:54.818090Z"
    }
   },
   "outputs": [
    {
     "data": {
      "text/plain": [
       "<AxesSubplot:xlabel='completed_at', ylabel='transaction_amount'>"
      ]
     },
     "execution_count": 63,
     "metadata": {},
     "output_type": "execute_result"
    },
    {
     "data": {
      "image/png": "[encoded data removed]",
      "text/plain": [
       "<Figure size 432x288 with 1 Axes>"
      ]
     },
     "metadata": {},
     "output_type": "display_data"
    }
   ],
   "source": [
    "sns.lineplot(data=sum_week, x='completed_at', y='transaction_amount')"
   ]
  },
  {
   "cell_type": "markdown",
   "id": "e34b2c8e",
   "metadata": {},
   "source": [
    "### 일별 매출 그래프"
   ]
  },
  {
   "cell_type": "code",
   "execution_count": 104,
   "id": "449e7b7c",
   "metadata": {
    "ExecuteTime": {
     "end_time": "2022-07-03T08:43:26.493853Z",
     "start_time": "2022-07-03T08:43:26.294093Z"
    }
   },
   "outputs": [
    {
     "data": {
      "text/plain": [
       "<AxesSubplot:xlabel='Day', ylabel='count'>"
      ]
     },
     "execution_count": 104,
     "metadata": {},
     "output_type": "execute_result"
    },
    {
     "data": {
      "image/png": "[encoded data removed]",
      "text/plain": [
       "<Figure size 720x504 with 1 Axes>"
      ]
     },
     "metadata": {},
     "output_type": "display_data"
    }
   ],
   "source": [
    "# count그래프\n",
    "sns.set_style('whitegrid')\n",
    "plt.figure(figsize=(10,7))\n",
    "sns.countplot(data=df, x=\"Day\")"
   ]
  },
  {
   "cell_type": "markdown",
   "id": "813c946e",
   "metadata": {},
   "source": [
    "일별 그래프 (data = com_Pay_Re)"
   ]
  },
  {
   "cell_type": "code",
   "execution_count": 105,
   "id": "2cbae8e5",
   "metadata": {
    "ExecuteTime": {
     "end_time": "2022-07-03T08:43:29.612020Z",
     "start_time": "2022-07-03T08:43:29.413243Z"
    }
   },
   "outputs": [
    {
     "data": {
      "text/plain": [
       "<AxesSubplot:xlabel='Day', ylabel='count'>"
      ]
     },
     "execution_count": 105,
     "metadata": {},
     "output_type": "execute_result"
    },
    {
     "data": {
      "image/png": "[encoded data removed]",
      "text/plain": [
       "<Figure size 720x504 with 1 Axes>"
      ]
     },
     "metadata": {},
     "output_type": "display_data"
    }
   ],
   "source": [
    "sns.set_style('whitegrid')\n",
    "plt.figure(figsize=(10,7))\n",
    "sns.countplot(data=com_Pay_Re, x=\"Day\")"
   ]
  },
  {
   "cell_type": "markdown",
   "id": "2ce1c82b",
   "metadata": {},
   "source": [
    "일별 매출 그래프 그리기 </br>\n",
    "아직 월별로 나누기 할려고 했는데 왜 안했지...ㅠㅜ"
   ]
  },
  {
   "cell_type": "code",
   "execution_count": 65,
   "id": "4cb59018",
   "metadata": {
    "ExecuteTime": {
     "end_time": "2022-07-02T16:50:55.950680Z",
     "start_time": "2022-07-02T16:50:55.910687Z"
    }
   },
   "outputs": [
    {
     "data": {
      "text/html": [
       "<div>\n",
       "<style scoped>\n",
       "    .dataframe tbody tr th:only-of-type {\n",
       "        vertical-align: middle;\n",
       "    }\n",
       "\n",
       "    .dataframe tbody tr th {\n",
       "        vertical-align: top;\n",
       "    }\n",
       "\n",
       "    .dataframe thead th {\n",
       "        text-align: right;\n",
       "    }\n",
       "</style>\n",
       "<table border=\"1\" class=\"dataframe\">\n",
       "  <thead>\n",
       "    <tr style=\"text-align: right;\">\n",
       "      <th></th>\n",
       "      <th>transaction_amount</th>\n",
       "    </tr>\n",
       "    <tr>\n",
       "      <th>completed_at</th>\n",
       "      <th></th>\n",
       "    </tr>\n",
       "  </thead>\n",
       "  <tbody>\n",
       "    <tr>\n",
       "      <th>1</th>\n",
       "      <td>120656529</td>\n",
       "    </tr>\n",
       "    <tr>\n",
       "      <th>2</th>\n",
       "      <td>136319725</td>\n",
       "    </tr>\n",
       "    <tr>\n",
       "      <th>3</th>\n",
       "      <td>132405593</td>\n",
       "    </tr>\n",
       "    <tr>\n",
       "      <th>4</th>\n",
       "      <td>178228365</td>\n",
       "    </tr>\n",
       "    <tr>\n",
       "      <th>5</th>\n",
       "      <td>141387104</td>\n",
       "    </tr>\n",
       "    <tr>\n",
       "      <th>6</th>\n",
       "      <td>165539322</td>\n",
       "    </tr>\n",
       "    <tr>\n",
       "      <th>7</th>\n",
       "      <td>154945359</td>\n",
       "    </tr>\n",
       "    <tr>\n",
       "      <th>8</th>\n",
       "      <td>165210479</td>\n",
       "    </tr>\n",
       "    <tr>\n",
       "      <th>9</th>\n",
       "      <td>177890909</td>\n",
       "    </tr>\n",
       "    <tr>\n",
       "      <th>10</th>\n",
       "      <td>165278290</td>\n",
       "    </tr>\n",
       "    <tr>\n",
       "      <th>11</th>\n",
       "      <td>202992569</td>\n",
       "    </tr>\n",
       "    <tr>\n",
       "      <th>12</th>\n",
       "      <td>176206520</td>\n",
       "    </tr>\n",
       "    <tr>\n",
       "      <th>13</th>\n",
       "      <td>189153384</td>\n",
       "    </tr>\n",
       "    <tr>\n",
       "      <th>14</th>\n",
       "      <td>160696816</td>\n",
       "    </tr>\n",
       "    <tr>\n",
       "      <th>15</th>\n",
       "      <td>184968987</td>\n",
       "    </tr>\n",
       "    <tr>\n",
       "      <th>16</th>\n",
       "      <td>266295651</td>\n",
       "    </tr>\n",
       "    <tr>\n",
       "      <th>17</th>\n",
       "      <td>150885405</td>\n",
       "    </tr>\n",
       "    <tr>\n",
       "      <th>18</th>\n",
       "      <td>184150839</td>\n",
       "    </tr>\n",
       "    <tr>\n",
       "      <th>19</th>\n",
       "      <td>150881824</td>\n",
       "    </tr>\n",
       "    <tr>\n",
       "      <th>20</th>\n",
       "      <td>185796922</td>\n",
       "    </tr>\n",
       "    <tr>\n",
       "      <th>21</th>\n",
       "      <td>157591993</td>\n",
       "    </tr>\n",
       "    <tr>\n",
       "      <th>22</th>\n",
       "      <td>203314740</td>\n",
       "    </tr>\n",
       "    <tr>\n",
       "      <th>23</th>\n",
       "      <td>185753040</td>\n",
       "    </tr>\n",
       "    <tr>\n",
       "      <th>24</th>\n",
       "      <td>166508125</td>\n",
       "    </tr>\n",
       "    <tr>\n",
       "      <th>25</th>\n",
       "      <td>219164394</td>\n",
       "    </tr>\n",
       "    <tr>\n",
       "      <th>26</th>\n",
       "      <td>143185744</td>\n",
       "    </tr>\n",
       "    <tr>\n",
       "      <th>27</th>\n",
       "      <td>158750321</td>\n",
       "    </tr>\n",
       "    <tr>\n",
       "      <th>28</th>\n",
       "      <td>218264972</td>\n",
       "    </tr>\n",
       "    <tr>\n",
       "      <th>29</th>\n",
       "      <td>234631008</td>\n",
       "    </tr>\n",
       "    <tr>\n",
       "      <th>30</th>\n",
       "      <td>441556024</td>\n",
       "    </tr>\n",
       "    <tr>\n",
       "      <th>31</th>\n",
       "      <td>454108581</td>\n",
       "    </tr>\n",
       "  </tbody>\n",
       "</table>\n",
       "</div>"
      ],
      "text/plain": [
       "              transaction_amount\n",
       "completed_at                    \n",
       "1                      120656529\n",
       "2                      136319725\n",
       "3                      132405593\n",
       "4                      178228365\n",
       "5                      141387104\n",
       "6                      165539322\n",
       "7                      154945359\n",
       "8                      165210479\n",
       "9                      177890909\n",
       "10                     165278290\n",
       "11                     202992569\n",
       "12                     176206520\n",
       "13                     189153384\n",
       "14                     160696816\n",
       "15                     184968987\n",
       "16                     266295651\n",
       "17                     150885405\n",
       "18                     184150839\n",
       "19                     150881824\n",
       "20                     185796922\n",
       "21                     157591993\n",
       "22                     203314740\n",
       "23                     185753040\n",
       "24                     166508125\n",
       "25                     219164394\n",
       "26                     143185744\n",
       "27                     158750321\n",
       "28                     218264972\n",
       "29                     234631008\n",
       "30                     441556024\n",
       "31                     454108581"
      ]
     },
     "execution_count": 65,
     "metadata": {},
     "output_type": "execute_result"
    }
   ],
   "source": [
    "sum_day = com_Pay_Re.set_index('completed_at').groupby(lambda date: date.day).sum()[['transaction_amount']]\n",
    "sum_day.sort_index(ascending=True)"
   ]
  },
  {
   "cell_type": "code",
   "execution_count": 66,
   "id": "154ba988",
   "metadata": {
    "ExecuteTime": {
     "end_time": "2022-07-02T16:50:56.448531Z",
     "start_time": "2022-07-02T16:50:56.315756Z"
    }
   },
   "outputs": [
    {
     "data": {
      "text/plain": [
       "<AxesSubplot:xlabel='completed_at', ylabel='transaction_amount'>"
      ]
     },
     "execution_count": 66,
     "metadata": {},
     "output_type": "execute_result"
    },
    {
     "data": {
      "image/png": "[encoded data removed]",
      "text/plain": [
       "<Figure size 864x648 with 1 Axes>"
      ]
     },
     "metadata": {},
     "output_type": "display_data"
    }
   ],
   "source": [
    "plt.figure(figsize=(12,9))\n",
    "sns.lineplot(data=sum_day, x='completed_at', y='transaction_amount')"
   ]
  },
  {
   "cell_type": "markdown",
   "id": "44074eb4",
   "metadata": {},
   "source": [
    "월말에 매출이 올라가는 걸로 봐서 월말에 끝나는 이벤트가 많을듯?!"
   ]
  },
  {
   "cell_type": "code",
   "execution_count": null,
   "id": "acdeda5e",
   "metadata": {
    "ExecuteTime": {
     "end_time": "2022-07-03T08:51:52.917826Z",
     "start_time": "2022-07-03T08:51:52.836997Z"
    }
   },
   "outputs": [],
   "source": []
  },
  {
   "cell_type": "code",
   "execution_count": 116,
   "id": "d2895b09",
   "metadata": {
    "ExecuteTime": {
     "end_time": "2022-07-03T08:55:23.844286Z",
     "start_time": "2022-07-03T08:55:23.733505Z"
    }
   },
   "outputs": [
    {
     "data": {
      "text/plain": [
       "<AxesSubplot:xlabel='Month', ylabel='count'>"
      ]
     },
     "execution_count": 116,
     "metadata": {},
     "output_type": "execute_result"
    },
    {
     "data": {
      "image/png": "[encoded data removed]",
      "text/plain": [
       "<Figure size 1080x648 with 1 Axes>"
      ]
     },
     "metadata": {},
     "output_type": "display_data"
    }
   ],
   "source": [
    "plt.figure(figsize=(15,9))\n",
    "sns.countplot(data=com_Pay_Re, x=\"Month\")"
   ]
  },
  {
   "cell_type": "markdown",
   "id": "0878ef47",
   "metadata": {},
   "source": [
    "### 주별 매출 그래프"
   ]
  },
  {
   "cell_type": "code",
   "execution_count": 69,
   "id": "0e0b0756",
   "metadata": {
    "ExecuteTime": {
     "end_time": "2022-07-02T16:50:58.354765Z",
     "start_time": "2022-07-02T16:50:58.351583Z"
    },
    "scrolled": true
   },
   "outputs": [],
   "source": [
    "# df['day_of_week'] = df['completed_at'].dt.week"
   ]
  },
  {
   "cell_type": "code",
   "execution_count": 70,
   "id": "1be8c7d5",
   "metadata": {
    "ExecuteTime": {
     "end_time": "2022-07-02T16:50:58.793495Z",
     "start_time": "2022-07-02T16:50:58.727472Z"
    }
   },
   "outputs": [
    {
     "name": "stderr",
     "output_type": "stream",
     "text": [
      "/var/folders/mb/9mp8sm994p9c0708gn3gmss40000gn/T/ipykernel_26114/4071369556.py:2: FutureWarning: weekofyear and week have been deprecated, please use DatetimeIndex.isocalendar().week instead, which returns a Series. To exactly reproduce the behavior of week and weekofyear and return an Index, you may call pd.Int64Index(idx.isocalendar().week)\n",
      "  sum_sweek = com_Pay_Re.set_index('completed_at').groupby(lambda date: date.week).sum()[['transaction_amount']]\n"
     ]
    },
    {
     "data": {
      "text/html": [
       "<div>\n",
       "<style scoped>\n",
       "    .dataframe tbody tr th:only-of-type {\n",
       "        vertical-align: middle;\n",
       "    }\n",
       "\n",
       "    .dataframe tbody tr th {\n",
       "        vertical-align: top;\n",
       "    }\n",
       "\n",
       "    .dataframe thead th {\n",
       "        text-align: right;\n",
       "    }\n",
       "</style>\n",
       "<table border=\"1\" class=\"dataframe\">\n",
       "  <thead>\n",
       "    <tr style=\"text-align: right;\">\n",
       "      <th></th>\n",
       "      <th>transaction_amount</th>\n",
       "    </tr>\n",
       "    <tr>\n",
       "      <th>completed_at</th>\n",
       "      <th></th>\n",
       "    </tr>\n",
       "  </thead>\n",
       "  <tbody>\n",
       "    <tr>\n",
       "      <th>12</th>\n",
       "      <td>36101770</td>\n",
       "    </tr>\n",
       "    <tr>\n",
       "      <th>13</th>\n",
       "      <td>280902095</td>\n",
       "    </tr>\n",
       "    <tr>\n",
       "      <th>14</th>\n",
       "      <td>174836172</td>\n",
       "    </tr>\n",
       "    <tr>\n",
       "      <th>15</th>\n",
       "      <td>180461592</td>\n",
       "    </tr>\n",
       "    <tr>\n",
       "      <th>16</th>\n",
       "      <td>172120121</td>\n",
       "    </tr>\n",
       "    <tr>\n",
       "      <th>17</th>\n",
       "      <td>283422726</td>\n",
       "    </tr>\n",
       "    <tr>\n",
       "      <th>18</th>\n",
       "      <td>178097029</td>\n",
       "    </tr>\n",
       "    <tr>\n",
       "      <th>19</th>\n",
       "      <td>209188129</td>\n",
       "    </tr>\n",
       "    <tr>\n",
       "      <th>20</th>\n",
       "      <td>184205414</td>\n",
       "    </tr>\n",
       "    <tr>\n",
       "      <th>21</th>\n",
       "      <td>173467314</td>\n",
       "    </tr>\n",
       "    <tr>\n",
       "      <th>22</th>\n",
       "      <td>242701606</td>\n",
       "    </tr>\n",
       "    <tr>\n",
       "      <th>23</th>\n",
       "      <td>191635600</td>\n",
       "    </tr>\n",
       "    <tr>\n",
       "      <th>24</th>\n",
       "      <td>188809085</td>\n",
       "    </tr>\n",
       "    <tr>\n",
       "      <th>25</th>\n",
       "      <td>190928325</td>\n",
       "    </tr>\n",
       "    <tr>\n",
       "      <th>26</th>\n",
       "      <td>349850093</td>\n",
       "    </tr>\n",
       "    <tr>\n",
       "      <th>27</th>\n",
       "      <td>196696245</td>\n",
       "    </tr>\n",
       "    <tr>\n",
       "      <th>28</th>\n",
       "      <td>213481339</td>\n",
       "    </tr>\n",
       "    <tr>\n",
       "      <th>29</th>\n",
       "      <td>297762481</td>\n",
       "    </tr>\n",
       "    <tr>\n",
       "      <th>30</th>\n",
       "      <td>330688258</td>\n",
       "    </tr>\n",
       "    <tr>\n",
       "      <th>31</th>\n",
       "      <td>174209404</td>\n",
       "    </tr>\n",
       "    <tr>\n",
       "      <th>32</th>\n",
       "      <td>245371025</td>\n",
       "    </tr>\n",
       "    <tr>\n",
       "      <th>33</th>\n",
       "      <td>252133800</td>\n",
       "    </tr>\n",
       "    <tr>\n",
       "      <th>34</th>\n",
       "      <td>220679805</td>\n",
       "    </tr>\n",
       "    <tr>\n",
       "      <th>35</th>\n",
       "      <td>355362899</td>\n",
       "    </tr>\n",
       "    <tr>\n",
       "      <th>36</th>\n",
       "      <td>243789612</td>\n",
       "    </tr>\n",
       "    <tr>\n",
       "      <th>37</th>\n",
       "      <td>230994459</td>\n",
       "    </tr>\n",
       "    <tr>\n",
       "      <th>38</th>\n",
       "      <td>174823136</td>\n",
       "    </tr>\n",
       "  </tbody>\n",
       "</table>\n",
       "</div>"
      ],
      "text/plain": [
       "              transaction_amount\n",
       "completed_at                    \n",
       "12                      36101770\n",
       "13                     280902095\n",
       "14                     174836172\n",
       "15                     180461592\n",
       "16                     172120121\n",
       "17                     283422726\n",
       "18                     178097029\n",
       "19                     209188129\n",
       "20                     184205414\n",
       "21                     173467314\n",
       "22                     242701606\n",
       "23                     191635600\n",
       "24                     188809085\n",
       "25                     190928325\n",
       "26                     349850093\n",
       "27                     196696245\n",
       "28                     213481339\n",
       "29                     297762481\n",
       "30                     330688258\n",
       "31                     174209404\n",
       "32                     245371025\n",
       "33                     252133800\n",
       "34                     220679805\n",
       "35                     355362899\n",
       "36                     243789612\n",
       "37                     230994459\n",
       "38                     174823136"
      ]
     },
     "execution_count": 70,
     "metadata": {},
     "output_type": "execute_result"
    }
   ],
   "source": [
    "#주별 매출 (sum) 구하기\n",
    "sum_sweek = com_Pay_Re.set_index('completed_at').groupby(lambda date: date.week).sum()[['transaction_amount']]\n",
    "sum_sweek.sort_index(ascending=True)"
   ]
  },
  {
   "cell_type": "code",
   "execution_count": 71,
   "id": "822f3351",
   "metadata": {
    "ExecuteTime": {
     "end_time": "2022-07-02T16:50:59.224996Z",
     "start_time": "2022-07-02T16:50:59.218387Z"
    }
   },
   "outputs": [
    {
     "ename": "SyntaxError",
     "evalue": "positional argument follows keyword argument (3974353985.py, line 2)",
     "output_type": "error",
     "traceback": [
      "\u001b[0;36m  Input \u001b[0;32mIn [71]\u001b[0;36m\u001b[0m\n\u001b[0;31m    sns.countplot(data=sum_sweek, x=\"completed_at\", y)\u001b[0m\n\u001b[0m                                                     ^\u001b[0m\n\u001b[0;31mSyntaxError\u001b[0m\u001b[0;31m:\u001b[0m positional argument follows keyword argument\n"
     ]
    }
   ],
   "source": [
    "plt.figure(figsize=(10,7))\n",
    "sns.countplot(data=sum_sweek, x=\"completed_at\", y)\n",
    "# sns.countplot(data=df, x=\"day_of_week\")"
   ]
  },
  {
   "cell_type": "markdown",
   "id": "fb76f940",
   "metadata": {},
   "source": [
    "### 월별 매출 그래프"
   ]
  },
  {
   "cell_type": "code",
   "execution_count": 72,
   "id": "26119bbc",
   "metadata": {
    "ExecuteTime": {
     "end_time": "2022-07-02T16:51:11.669712Z",
     "start_time": "2022-07-02T16:51:11.625254Z"
    }
   },
   "outputs": [],
   "source": [
    "#make year&month cols \n",
    "df['month_year'] = pd.to_datetime(df['completed_at']).dt.to_period('M')"
   ]
  },
  {
   "cell_type": "code",
   "execution_count": 73,
   "id": "a0fb38af",
   "metadata": {
    "ExecuteTime": {
     "end_time": "2022-07-02T16:51:12.108812Z",
     "start_time": "2022-07-02T16:51:12.105849Z"
    }
   },
   "outputs": [],
   "source": [
    "# df"
   ]
  },
  {
   "cell_type": "code",
   "execution_count": 89,
   "id": "7cc3c833",
   "metadata": {
    "ExecuteTime": {
     "end_time": "2022-07-02T16:52:46.403716Z",
     "start_time": "2022-07-02T16:52:45.340040Z"
    }
   },
   "outputs": [
    {
     "data": {
      "text/plain": [
       "<AxesSubplot:xlabel='month_year', ylabel='count'>"
      ]
     },
     "execution_count": 89,
     "metadata": {},
     "output_type": "execute_result"
    },
    {
     "data": {
      "image/png": "[encoded data removed]",
      "text/plain": [
       "<Figure size 720x504 with 1 Axes>"
      ]
     },
     "metadata": {},
     "output_type": "display_data"
    }
   ],
   "source": [
    "plt.rcParams['font.family'] = 'AppleGothic'\n",
    "plt.figure(figsize=(10,7))\n",
    "sns.set_style(\"whitegrid\")\n",
    "plt.xticks(rotation = 0)\n",
    "sns.countplot(data=df, x='month_year', palette='spring')"
   ]
  },
  {
   "cell_type": "markdown",
   "id": "85fa3670",
   "metadata": {},
   "source": [
    "### 분기별 매출 그래프"
   ]
  },
  {
   "cell_type": "code",
   "execution_count": 90,
   "id": "37b97788",
   "metadata": {
    "ExecuteTime": {
     "end_time": "2022-07-02T16:52:48.621327Z",
     "start_time": "2022-07-02T16:52:48.599983Z"
    }
   },
   "outputs": [],
   "source": [
    "df['quarter'] = df['completed_at'].dt.to_period('Q')"
   ]
  },
  {
   "cell_type": "code",
   "execution_count": 91,
   "id": "ff7208ee",
   "metadata": {
    "ExecuteTime": {
     "end_time": "2022-07-02T16:52:49.524697Z",
     "start_time": "2022-07-02T16:52:49.475855Z"
    }
   },
   "outputs": [
    {
     "data": {
      "text/html": [
       "<div>\n",
       "<style scoped>\n",
       "    .dataframe tbody tr th:only-of-type {\n",
       "        vertical-align: middle;\n",
       "    }\n",
       "\n",
       "    .dataframe tbody tr th {\n",
       "        vertical-align: top;\n",
       "    }\n",
       "\n",
       "    .dataframe thead th {\n",
       "        text-align: right;\n",
       "    }\n",
       "</style>\n",
       "<table border=\"1\" class=\"dataframe\">\n",
       "  <thead>\n",
       "    <tr style=\"text-align: right;\">\n",
       "      <th></th>\n",
       "      <th>transaction_amount</th>\n",
       "    </tr>\n",
       "    <tr>\n",
       "      <th>completed_at</th>\n",
       "      <th></th>\n",
       "    </tr>\n",
       "  </thead>\n",
       "  <tbody>\n",
       "    <tr>\n",
       "      <th>2021Q1</th>\n",
       "      <td>192480994</td>\n",
       "    </tr>\n",
       "    <tr>\n",
       "      <th>2021Q2</th>\n",
       "      <td>2747800161</td>\n",
       "    </tr>\n",
       "    <tr>\n",
       "      <th>2021Q3</th>\n",
       "      <td>3032438379</td>\n",
       "    </tr>\n",
       "  </tbody>\n",
       "</table>\n",
       "</div>"
      ],
      "text/plain": [
       "              transaction_amount\n",
       "completed_at                    \n",
       "2021Q1                 192480994\n",
       "2021Q2                2747800161\n",
       "2021Q3                3032438379"
      ]
     },
     "execution_count": 91,
     "metadata": {},
     "output_type": "execute_result"
    }
   ],
   "source": [
    "sum_quart = com_Pay_Re.set_index('completed_at').groupby(lambda date: date.to_period('Q')).sum()[['transaction_amount']]\n",
    "sum_quart.sort_index(ascending=True)"
   ]
  },
  {
   "cell_type": "code",
   "execution_count": 92,
   "id": "617b789a",
   "metadata": {
    "ExecuteTime": {
     "end_time": "2022-07-02T16:52:51.268623Z",
     "start_time": "2022-07-02T16:52:51.265663Z"
    }
   },
   "outputs": [],
   "source": [
    "# plt.figure(figsize=(10,7))\n",
    "# sns.lineplot(data=sum_quart, x=\"completed_at\")"
   ]
  },
  {
   "cell_type": "markdown",
   "id": "dce17e5f",
   "metadata": {},
   "source": [
    "### 6개월(반기) 총매출 그래프"
   ]
  },
  {
   "cell_type": "code",
   "execution_count": null,
   "id": "62f50507",
   "metadata": {},
   "outputs": [],
   "source": []
  },
  {
   "cell_type": "markdown",
   "id": "447760be",
   "metadata": {},
   "source": [
    "# 강의 분석"
   ]
  },
  {
   "cell_type": "markdown",
   "id": "5fd1259e",
   "metadata": {},
   "source": [
    "## 전체 강의 수"
   ]
  },
  {
   "cell_type": "code",
   "execution_count": 93,
   "id": "0ff7c2ff",
   "metadata": {
    "ExecuteTime": {
     "end_time": "2022-07-02T16:52:53.774949Z",
     "start_time": "2022-07-02T16:52:53.740113Z"
    }
   },
   "outputs": [
    {
     "data": {
      "text/plain": [
       "610"
      ]
     },
     "execution_count": 93,
     "metadata": {},
     "output_type": "execute_result"
    }
   ],
   "source": [
    "len(df['course_title'].unique())"
   ]
  },
  {
   "cell_type": "markdown",
   "id": "91a43677",
   "metadata": {},
   "source": [
    "## 전체 카테고리 수"
   ]
  },
  {
   "cell_type": "code",
   "execution_count": 94,
   "id": "ba1c02ea",
   "metadata": {
    "ExecuteTime": {
     "end_time": "2022-07-02T16:52:55.474956Z",
     "start_time": "2022-07-02T16:52:55.450447Z"
    }
   },
   "outputs": [
    {
     "data": {
      "text/plain": [
       "14"
      ]
     },
     "execution_count": 94,
     "metadata": {},
     "output_type": "execute_result"
    }
   ],
   "source": [
    "len(df['category_title'].unique())"
   ]
  },
  {
   "cell_type": "markdown",
   "id": "56c7194e",
   "metadata": {},
   "source": [
    "## 가장많은(적은) 매출을 올린 강의 및 탑 10강의 매출추이"
   ]
  },
  {
   "cell_type": "markdown",
   "id": "41220109",
   "metadata": {},
   "source": [
    "### 매출 상위 1~10위 까지의  강의  목록 "
   ]
  },
  {
   "cell_type": "code",
   "execution_count": 95,
   "id": "8480a683",
   "metadata": {
    "ExecuteTime": {
     "end_time": "2022-07-02T16:52:57.529492Z",
     "start_time": "2022-07-02T16:52:57.525333Z"
    }
   },
   "outputs": [],
   "source": [
    "# course_title 확인하기\n",
    "# course_title =  df['course_title'].unique()\n",
    "# course_title"
   ]
  },
  {
   "cell_type": "code",
   "execution_count": 54,
   "id": "24669aba",
   "metadata": {
    "ExecuteTime": {
     "end_time": "2022-07-03T08:02:54.484706Z",
     "start_time": "2022-07-03T08:02:54.450524Z"
    }
   },
   "outputs": [
    {
     "data": {
      "text/plain": [
       "course_title\n",
       "The RED : 김영하 작가의 내 안의 숨은 이야기를 찾아 쓰는 법           151049741\n",
       "초격차 패키지 : 한 번에 끝내는 프론트엔드 개발                      141248845\n",
       "올인원 패키지 : 박세익 전무에게 배우는 주식 시장 분석 & 포트폴리오 운용 전략    129821723\n",
       "초격차 패키지 : 한번에 끝내는 영상 촬영과 편집                      116614335\n",
       "초격차 패키지 : 한번에 끝내는 Java/Spring 웹 개발 마스터           108576441\n",
       "나의 칼퇴치트키 엑셀유치원                                    88201167\n",
       "초격차 패키지 : 한번에 끝내는 디자인 툴                           87700764\n",
       "올인원 패키지 : star741의 캐주얼 일러스트 드로잉                   84763815\n",
       "올인원 패키지 : 완전정복 시각디자인 기초                           82131657\n",
       "초격차 패키지 : 한번에 끝내는 UX/UI 디자인                       80602968\n",
       "Name: transaction_amount, dtype: int64"
      ]
     },
     "execution_count": 54,
     "metadata": {},
     "output_type": "execute_result"
    }
   ],
   "source": [
    "#강의 리스트에서 가장 많은 매출 순으로 정렬 (10위까지)\n",
    "sum_cour_list = com_Pay_Re['transaction_amount'].groupby(com_Pay_Re['course_title'])\n",
    "x = sum_cour_list.sum()\n",
    "course_title_desc = x.sort_values(ascending=False)\n",
    "co_10 = course_title_desc.head(10)\n",
    "co_10"
   ]
  },
  {
   "cell_type": "code",
   "execution_count": 55,
   "id": "ef9757a0",
   "metadata": {
    "ExecuteTime": {
     "end_time": "2022-07-03T08:02:56.341800Z",
     "start_time": "2022-07-03T08:02:56.275754Z"
    }
   },
   "outputs": [],
   "source": [
    "#for문으로 만들다가 어려워서(방법찾다가 시간 많이 걸림..)... 그냥 노가다..\n",
    "a1 = com_Pay_Re[(com_Pay_Re['course_title'] == 'The RED : 김영하 작가의 내 안의 숨은 이야기를 찾아 쓰는 법') & (com_Pay_Re['Month'])]\n",
    "a2 = com_Pay_Re[(com_Pay_Re['course_title'] == '초격차 패키지 : 한 번에 끝내는 프론트엔드 개발') & (com_Pay_Re['Month'])]\n",
    "a3 = com_Pay_Re[(com_Pay_Re['course_title'] == '올인원 패키지 : 박세익 전무에게 배우는 주식 시장 분석 & 포트폴리오 운용 전략') & (com_Pay_Re['Month'])]\n",
    "a4 = com_Pay_Re[(com_Pay_Re['course_title'] == '초격차 패키지 : 한번에 끝내는 영상 촬영과 편집') & (com_Pay_Re['Month'])]\n",
    "a5 = com_Pay_Re[(com_Pay_Re['course_title'] == '초격차 패키지 : 한번에 끝내는 Java/Spring 웹 개발 마스터') & (com_Pay_Re['Month'])]\n",
    "a6 = com_Pay_Re[(com_Pay_Re['course_title'] == '나의 칼퇴치트키 엑셀유치원') & (com_Pay_Re['Month'])]\n",
    "a7 = com_Pay_Re[(com_Pay_Re['course_title'] == '초격차 패키지 : 한번에 끝내는 디자인 툴') & (com_Pay_Re['Month'])]\n",
    "a8 = com_Pay_Re[(com_Pay_Re['course_title'] == '올인원 패키지 : star741의 캐주얼 일러스트 드로잉') & (com_Pay_Re['Month'])]\n",
    "a9 = com_Pay_Re[(com_Pay_Re['course_title'] == '올인원 패키지 : 완전정복 시각디자인 기초') & (com_Pay_Re['Month'])]\n",
    "a10 = com_Pay_Re[(com_Pay_Re['course_title'] == '초격차 패키지 : 한번에 끝내는 UX/UI 디자인') & (com_Pay_Re['Month'])]"
   ]
  },
  {
   "cell_type": "code",
   "execution_count": 57,
   "id": "8437d721",
   "metadata": {
    "ExecuteTime": {
     "end_time": "2022-07-03T08:03:06.203797Z",
     "start_time": "2022-07-03T08:03:06.168755Z"
    }
   },
   "outputs": [
    {
     "data": {
      "text/html": [
       "<div>\n",
       "<style scoped>\n",
       "    .dataframe tbody tr th:only-of-type {\n",
       "        vertical-align: middle;\n",
       "    }\n",
       "\n",
       "    .dataframe tbody tr th {\n",
       "        vertical-align: top;\n",
       "    }\n",
       "\n",
       "    .dataframe thead th {\n",
       "        text-align: right;\n",
       "    }\n",
       "</style>\n",
       "<table border=\"1\" class=\"dataframe\">\n",
       "  <thead>\n",
       "    <tr style=\"text-align: right;\">\n",
       "      <th></th>\n",
       "      <th>id</th>\n",
       "      <th>customer_id</th>\n",
       "      <th>course_id</th>\n",
       "      <th>type</th>\n",
       "      <th>state</th>\n",
       "      <th>course_title</th>\n",
       "      <th>category_title</th>\n",
       "      <th>format</th>\n",
       "      <th>completed_at</th>\n",
       "      <th>transaction_amount</th>\n",
       "      <th>...</th>\n",
       "      <th>coupon_discount_amount</th>\n",
       "      <th>sale_price</th>\n",
       "      <th>pg</th>\n",
       "      <th>method</th>\n",
       "      <th>subcategory_title</th>\n",
       "      <th>marketing_start_at</th>\n",
       "      <th>Year</th>\n",
       "      <th>Month</th>\n",
       "      <th>Day</th>\n",
       "      <th>Hour</th>\n",
       "    </tr>\n",
       "  </thead>\n",
       "  <tbody>\n",
       "    <tr>\n",
       "      <th>64887</th>\n",
       "      <td>1184847</td>\n",
       "      <td>579669</td>\n",
       "      <td>204670</td>\n",
       "      <td>PAYMENT</td>\n",
       "      <td>COMPLETED</td>\n",
       "      <td>The RED : 김영하 작가의 내 안의 숨은 이야기를 찾아 쓰는 법</td>\n",
       "      <td>마케팅</td>\n",
       "      <td>RED</td>\n",
       "      <td>2021-07-01 00:44:11</td>\n",
       "      <td>149000</td>\n",
       "      <td>...</td>\n",
       "      <td>0</td>\n",
       "      <td>149000</td>\n",
       "      <td>INICIS</td>\n",
       "      <td>CARD</td>\n",
       "      <td>글쓰기/카피라이팅</td>\n",
       "      <td>2021-06-18 17:00:00</td>\n",
       "      <td>2021</td>\n",
       "      <td>7</td>\n",
       "      <td>1</td>\n",
       "      <td>0</td>\n",
       "    </tr>\n",
       "    <tr>\n",
       "      <th>64896</th>\n",
       "      <td>1184895</td>\n",
       "      <td>579641</td>\n",
       "      <td>204670</td>\n",
       "      <td>PAYMENT</td>\n",
       "      <td>COMPLETED</td>\n",
       "      <td>The RED : 김영하 작가의 내 안의 숨은 이야기를 찾아 쓰는 법</td>\n",
       "      <td>마케팅</td>\n",
       "      <td>RED</td>\n",
       "      <td>2021-07-01 01:39:14</td>\n",
       "      <td>149000</td>\n",
       "      <td>...</td>\n",
       "      <td>0</td>\n",
       "      <td>149000</td>\n",
       "      <td>KAKAO</td>\n",
       "      <td>POINT</td>\n",
       "      <td>글쓰기/카피라이팅</td>\n",
       "      <td>2021-06-18 17:00:00</td>\n",
       "      <td>2021</td>\n",
       "      <td>7</td>\n",
       "      <td>1</td>\n",
       "      <td>1</td>\n",
       "    </tr>\n",
       "    <tr>\n",
       "      <th>64897</th>\n",
       "      <td>1184899</td>\n",
       "      <td>579743</td>\n",
       "      <td>204670</td>\n",
       "      <td>PAYMENT</td>\n",
       "      <td>COMPLETED</td>\n",
       "      <td>The RED : 김영하 작가의 내 안의 숨은 이야기를 찾아 쓰는 법</td>\n",
       "      <td>마케팅</td>\n",
       "      <td>RED</td>\n",
       "      <td>2021-07-01 01:45:48</td>\n",
       "      <td>149000</td>\n",
       "      <td>...</td>\n",
       "      <td>0</td>\n",
       "      <td>149000</td>\n",
       "      <td>NAVER</td>\n",
       "      <td>CARD</td>\n",
       "      <td>글쓰기/카피라이팅</td>\n",
       "      <td>2021-06-18 17:00:00</td>\n",
       "      <td>2021</td>\n",
       "      <td>7</td>\n",
       "      <td>1</td>\n",
       "      <td>1</td>\n",
       "    </tr>\n",
       "    <tr>\n",
       "      <th>64903</th>\n",
       "      <td>1184912</td>\n",
       "      <td>579749</td>\n",
       "      <td>204670</td>\n",
       "      <td>PAYMENT</td>\n",
       "      <td>COMPLETED</td>\n",
       "      <td>The RED : 김영하 작가의 내 안의 숨은 이야기를 찾아 쓰는 법</td>\n",
       "      <td>마케팅</td>\n",
       "      <td>RED</td>\n",
       "      <td>2021-07-01 01:57:34</td>\n",
       "      <td>149000</td>\n",
       "      <td>...</td>\n",
       "      <td>0</td>\n",
       "      <td>149000</td>\n",
       "      <td>KAKAO</td>\n",
       "      <td>CARD</td>\n",
       "      <td>글쓰기/카피라이팅</td>\n",
       "      <td>2021-06-18 17:00:00</td>\n",
       "      <td>2021</td>\n",
       "      <td>7</td>\n",
       "      <td>1</td>\n",
       "      <td>1</td>\n",
       "    </tr>\n",
       "    <tr>\n",
       "      <th>64914</th>\n",
       "      <td>1184982</td>\n",
       "      <td>573472</td>\n",
       "      <td>204670</td>\n",
       "      <td>PAYMENT</td>\n",
       "      <td>COMPLETED</td>\n",
       "      <td>The RED : 김영하 작가의 내 안의 숨은 이야기를 찾아 쓰는 법</td>\n",
       "      <td>마케팅</td>\n",
       "      <td>RED</td>\n",
       "      <td>2021-07-01 04:48:54</td>\n",
       "      <td>149000</td>\n",
       "      <td>...</td>\n",
       "      <td>0</td>\n",
       "      <td>149000</td>\n",
       "      <td>INICIS</td>\n",
       "      <td>CARD</td>\n",
       "      <td>글쓰기/카피라이팅</td>\n",
       "      <td>2021-06-18 17:00:00</td>\n",
       "      <td>2021</td>\n",
       "      <td>7</td>\n",
       "      <td>1</td>\n",
       "      <td>4</td>\n",
       "    </tr>\n",
       "    <tr>\n",
       "      <th>...</th>\n",
       "      <td>...</td>\n",
       "      <td>...</td>\n",
       "      <td>...</td>\n",
       "      <td>...</td>\n",
       "      <td>...</td>\n",
       "      <td>...</td>\n",
       "      <td>...</td>\n",
       "      <td>...</td>\n",
       "      <td>...</td>\n",
       "      <td>...</td>\n",
       "      <td>...</td>\n",
       "      <td>...</td>\n",
       "      <td>...</td>\n",
       "      <td>...</td>\n",
       "      <td>...</td>\n",
       "      <td>...</td>\n",
       "      <td>...</td>\n",
       "      <td>...</td>\n",
       "      <td>...</td>\n",
       "      <td>...</td>\n",
       "      <td>...</td>\n",
       "    </tr>\n",
       "    <tr>\n",
       "      <th>94735</th>\n",
       "      <td>1330996</td>\n",
       "      <td>634463</td>\n",
       "      <td>203523</td>\n",
       "      <td>REFUND</td>\n",
       "      <td>COMPLETED</td>\n",
       "      <td>초격차 패키지 : 한번에 끝내는 UX/UI 디자인</td>\n",
       "      <td>디자인</td>\n",
       "      <td>올인원</td>\n",
       "      <td>2021-09-06 14:10:04</td>\n",
       "      <td>-141000</td>\n",
       "      <td>...</td>\n",
       "      <td>0</td>\n",
       "      <td>171000</td>\n",
       "      <td>INICIS</td>\n",
       "      <td>CARD</td>\n",
       "      <td>UX/UI</td>\n",
       "      <td>2020-12-18 00:00:00</td>\n",
       "      <td>2021</td>\n",
       "      <td>9</td>\n",
       "      <td>6</td>\n",
       "      <td>14</td>\n",
       "    </tr>\n",
       "    <tr>\n",
       "      <th>95349</th>\n",
       "      <td>1333631</td>\n",
       "      <td>652568</td>\n",
       "      <td>203523</td>\n",
       "      <td>REFUND</td>\n",
       "      <td>COMPLETED</td>\n",
       "      <td>초격차 패키지 : 한번에 끝내는 UX/UI 디자인</td>\n",
       "      <td>디자인</td>\n",
       "      <td>올인원</td>\n",
       "      <td>2021-09-07 11:00:12</td>\n",
       "      <td>-156000</td>\n",
       "      <td>...</td>\n",
       "      <td>0</td>\n",
       "      <td>176000</td>\n",
       "      <td>INICIS</td>\n",
       "      <td>CARD</td>\n",
       "      <td>UX/UI</td>\n",
       "      <td>2020-12-18 00:00:00</td>\n",
       "      <td>2021</td>\n",
       "      <td>9</td>\n",
       "      <td>7</td>\n",
       "      <td>11</td>\n",
       "    </tr>\n",
       "    <tr>\n",
       "      <th>96609</th>\n",
       "      <td>1339069</td>\n",
       "      <td>658585</td>\n",
       "      <td>203523</td>\n",
       "      <td>REFUND</td>\n",
       "      <td>COMPLETED</td>\n",
       "      <td>초격차 패키지 : 한번에 끝내는 UX/UI 디자인</td>\n",
       "      <td>디자인</td>\n",
       "      <td>올인원</td>\n",
       "      <td>2021-09-10 10:35:09</td>\n",
       "      <td>-156000</td>\n",
       "      <td>...</td>\n",
       "      <td>0</td>\n",
       "      <td>176000</td>\n",
       "      <td>KAKAO</td>\n",
       "      <td>POINT</td>\n",
       "      <td>UX/UI</td>\n",
       "      <td>2020-12-18 00:00:00</td>\n",
       "      <td>2021</td>\n",
       "      <td>9</td>\n",
       "      <td>10</td>\n",
       "      <td>10</td>\n",
       "    </tr>\n",
       "    <tr>\n",
       "      <th>98876</th>\n",
       "      <td>1349489</td>\n",
       "      <td>662544</td>\n",
       "      <td>203523</td>\n",
       "      <td>REFUND</td>\n",
       "      <td>COMPLETED</td>\n",
       "      <td>초격차 패키지 : 한번에 끝내는 UX/UI 디자인</td>\n",
       "      <td>디자인</td>\n",
       "      <td>올인원</td>\n",
       "      <td>2021-09-16 13:26:03</td>\n",
       "      <td>-156000</td>\n",
       "      <td>...</td>\n",
       "      <td>0</td>\n",
       "      <td>176000</td>\n",
       "      <td>INICIS</td>\n",
       "      <td>CARD</td>\n",
       "      <td>UX/UI</td>\n",
       "      <td>2020-12-18 00:00:00</td>\n",
       "      <td>2021</td>\n",
       "      <td>9</td>\n",
       "      <td>16</td>\n",
       "      <td>13</td>\n",
       "    </tr>\n",
       "    <tr>\n",
       "      <th>100498</th>\n",
       "      <td>1360472</td>\n",
       "      <td>661728</td>\n",
       "      <td>203523</td>\n",
       "      <td>REFUND</td>\n",
       "      <td>COMPLETED</td>\n",
       "      <td>초격차 패키지 : 한번에 끝내는 UX/UI 디자인</td>\n",
       "      <td>디자인</td>\n",
       "      <td>올인원</td>\n",
       "      <td>2021-09-23 11:40:40</td>\n",
       "      <td>-156000</td>\n",
       "      <td>...</td>\n",
       "      <td>0</td>\n",
       "      <td>176000</td>\n",
       "      <td>PAYCO</td>\n",
       "      <td>CARD</td>\n",
       "      <td>UX/UI</td>\n",
       "      <td>2020-12-18 00:00:00</td>\n",
       "      <td>2021</td>\n",
       "      <td>9</td>\n",
       "      <td>23</td>\n",
       "      <td>11</td>\n",
       "    </tr>\n",
       "  </tbody>\n",
       "</table>\n",
       "<p>4522 rows × 21 columns</p>\n",
       "</div>"
      ],
      "text/plain": [
       "             id  customer_id  course_id     type      state  \\\n",
       "64887   1184847       579669     204670  PAYMENT  COMPLETED   \n",
       "64896   1184895       579641     204670  PAYMENT  COMPLETED   \n",
       "64897   1184899       579743     204670  PAYMENT  COMPLETED   \n",
       "64903   1184912       579749     204670  PAYMENT  COMPLETED   \n",
       "64914   1184982       573472     204670  PAYMENT  COMPLETED   \n",
       "...         ...          ...        ...      ...        ...   \n",
       "94735   1330996       634463     203523   REFUND  COMPLETED   \n",
       "95349   1333631       652568     203523   REFUND  COMPLETED   \n",
       "96609   1339069       658585     203523   REFUND  COMPLETED   \n",
       "98876   1349489       662544     203523   REFUND  COMPLETED   \n",
       "100498  1360472       661728     203523   REFUND  COMPLETED   \n",
       "\n",
       "                                  course_title category_title format  \\\n",
       "64887   The RED : 김영하 작가의 내 안의 숨은 이야기를 찾아 쓰는 법            마케팅    RED   \n",
       "64896   The RED : 김영하 작가의 내 안의 숨은 이야기를 찾아 쓰는 법            마케팅    RED   \n",
       "64897   The RED : 김영하 작가의 내 안의 숨은 이야기를 찾아 쓰는 법            마케팅    RED   \n",
       "64903   The RED : 김영하 작가의 내 안의 숨은 이야기를 찾아 쓰는 법            마케팅    RED   \n",
       "64914   The RED : 김영하 작가의 내 안의 숨은 이야기를 찾아 쓰는 법            마케팅    RED   \n",
       "...                                        ...            ...    ...   \n",
       "94735              초격차 패키지 : 한번에 끝내는 UX/UI 디자인            디자인    올인원   \n",
       "95349              초격차 패키지 : 한번에 끝내는 UX/UI 디자인            디자인    올인원   \n",
       "96609              초격차 패키지 : 한번에 끝내는 UX/UI 디자인            디자인    올인원   \n",
       "98876              초격차 패키지 : 한번에 끝내는 UX/UI 디자인            디자인    올인원   \n",
       "100498             초격차 패키지 : 한번에 끝내는 UX/UI 디자인            디자인    올인원   \n",
       "\n",
       "              completed_at  transaction_amount  ... coupon_discount_amount  \\\n",
       "64887  2021-07-01 00:44:11              149000  ...                      0   \n",
       "64896  2021-07-01 01:39:14              149000  ...                      0   \n",
       "64897  2021-07-01 01:45:48              149000  ...                      0   \n",
       "64903  2021-07-01 01:57:34              149000  ...                      0   \n",
       "64914  2021-07-01 04:48:54              149000  ...                      0   \n",
       "...                    ...                 ...  ...                    ...   \n",
       "94735  2021-09-06 14:10:04             -141000  ...                      0   \n",
       "95349  2021-09-07 11:00:12             -156000  ...                      0   \n",
       "96609  2021-09-10 10:35:09             -156000  ...                      0   \n",
       "98876  2021-09-16 13:26:03             -156000  ...                      0   \n",
       "100498 2021-09-23 11:40:40             -156000  ...                      0   \n",
       "\n",
       "        sale_price      pg method subcategory_title   marketing_start_at  \\\n",
       "64887       149000  INICIS   CARD         글쓰기/카피라이팅  2021-06-18 17:00:00   \n",
       "64896       149000   KAKAO  POINT         글쓰기/카피라이팅  2021-06-18 17:00:00   \n",
       "64897       149000   NAVER   CARD         글쓰기/카피라이팅  2021-06-18 17:00:00   \n",
       "64903       149000   KAKAO   CARD         글쓰기/카피라이팅  2021-06-18 17:00:00   \n",
       "64914       149000  INICIS   CARD         글쓰기/카피라이팅  2021-06-18 17:00:00   \n",
       "...            ...     ...    ...               ...                  ...   \n",
       "94735       171000  INICIS   CARD             UX/UI  2020-12-18 00:00:00   \n",
       "95349       176000  INICIS   CARD             UX/UI  2020-12-18 00:00:00   \n",
       "96609       176000   KAKAO  POINT             UX/UI  2020-12-18 00:00:00   \n",
       "98876       176000  INICIS   CARD             UX/UI  2020-12-18 00:00:00   \n",
       "100498      176000   PAYCO   CARD             UX/UI  2020-12-18 00:00:00   \n",
       "\n",
       "        Year  Month  Day  Hour  \n",
       "64887   2021      7    1     0  \n",
       "64896   2021      7    1     1  \n",
       "64897   2021      7    1     1  \n",
       "64903   2021      7    1     1  \n",
       "64914   2021      7    1     4  \n",
       "...      ...    ...  ...   ...  \n",
       "94735   2021      9    6    14  \n",
       "95349   2021      9    7    11  \n",
       "96609   2021      9   10    10  \n",
       "98876   2021      9   16    13  \n",
       "100498  2021      9   23    11  \n",
       "\n",
       "[4522 rows x 21 columns]"
      ]
     },
     "execution_count": 57,
     "metadata": {},
     "output_type": "execute_result"
    }
   ],
   "source": [
    "top10 = pd.concat([a1, a2, a3, a4, a5, a6,a7,a8,a9,a10])\n",
    "top10"
   ]
  },
  {
   "cell_type": "code",
   "execution_count": null,
   "id": "c9c3d707",
   "metadata": {},
   "outputs": [],
   "source": [
    "dic_list = []\n",
    "for i in co_10:\n",
    "    dic_list.append(df['course_title'] == i)"
   ]
  },
  {
   "cell_type": "markdown",
   "id": "143ad8ce",
   "metadata": {},
   "source": [
    "### 매출 상위 1~10위 강의 매출 추이 그래프(6개월간)"
   ]
  },
  {
   "cell_type": "markdown",
   "id": "dcdf4740",
   "metadata": {},
   "source": [
    "1강의 당 월간 매출 구해서 한 그래프에 10개의 그래프 보여주면 될듯?!!!\n",
    "\n",
    "사용가능 그래프 : displot, lineplot, pointplot </br>\n",
    "x축 : Month / y축 : transaction / hue: 강의명 "
   ]
  },
  {
   "cell_type": "code",
   "execution_count": 58,
   "id": "46d19332",
   "metadata": {
    "ExecuteTime": {
     "end_time": "2022-07-03T08:03:09.876785Z",
     "start_time": "2022-07-03T08:03:09.662750Z"
    },
    "scrolled": true
   },
   "outputs": [
    {
     "name": "stderr",
     "output_type": "stream",
     "text": [
      "/opt/anaconda3/lib/python3.9/site-packages/IPython/core/pylabtools.py:151: UserWarning: Glyph 49692 (\\N{HANGUL SYLLABLE SUN}) missing from current font.\n",
      "  fig.canvas.print_figure(bytes_io, **kw)\n",
      "/opt/anaconda3/lib/python3.9/site-packages/IPython/core/pylabtools.py:151: UserWarning: Glyph 50948 (\\N{HANGUL SYLLABLE WI}) missing from current font.\n",
      "  fig.canvas.print_figure(bytes_io, **kw)\n",
      "/opt/anaconda3/lib/python3.9/site-packages/IPython/core/pylabtools.py:151: UserWarning: Glyph 44053 (\\N{HANGUL SYLLABLE GANG}) missing from current font.\n",
      "  fig.canvas.print_figure(bytes_io, **kw)\n",
      "/opt/anaconda3/lib/python3.9/site-packages/IPython/core/pylabtools.py:151: UserWarning: Glyph 51032 (\\N{HANGUL SYLLABLE YI}) missing from current font.\n",
      "  fig.canvas.print_figure(bytes_io, **kw)\n",
      "/opt/anaconda3/lib/python3.9/site-packages/IPython/core/pylabtools.py:151: UserWarning: Glyph 44536 (\\N{HANGUL SYLLABLE GEU}) missing from current font.\n",
      "  fig.canvas.print_figure(bytes_io, **kw)\n",
      "/opt/anaconda3/lib/python3.9/site-packages/IPython/core/pylabtools.py:151: UserWarning: Glyph 47000 (\\N{HANGUL SYLLABLE RAE}) missing from current font.\n",
      "  fig.canvas.print_figure(bytes_io, **kw)\n",
      "/opt/anaconda3/lib/python3.9/site-packages/IPython/core/pylabtools.py:151: UserWarning: Glyph 54532 (\\N{HANGUL SYLLABLE PEU}) missing from current font.\n",
      "  fig.canvas.print_figure(bytes_io, **kw)\n",
      "/opt/anaconda3/lib/python3.9/site-packages/IPython/core/pylabtools.py:151: UserWarning: Glyph 44608 (\\N{HANGUL SYLLABLE GIM}) missing from current font.\n",
      "  fig.canvas.print_figure(bytes_io, **kw)\n",
      "/opt/anaconda3/lib/python3.9/site-packages/IPython/core/pylabtools.py:151: UserWarning: Glyph 50689 (\\N{HANGUL SYLLABLE YEONG}) missing from current font.\n",
      "  fig.canvas.print_figure(bytes_io, **kw)\n",
      "/opt/anaconda3/lib/python3.9/site-packages/IPython/core/pylabtools.py:151: UserWarning: Glyph 54616 (\\N{HANGUL SYLLABLE HA}) missing from current font.\n",
      "  fig.canvas.print_figure(bytes_io, **kw)\n",
      "/opt/anaconda3/lib/python3.9/site-packages/IPython/core/pylabtools.py:151: UserWarning: Glyph 51089 (\\N{HANGUL SYLLABLE JAG}) missing from current font.\n",
      "  fig.canvas.print_figure(bytes_io, **kw)\n",
      "/opt/anaconda3/lib/python3.9/site-packages/IPython/core/pylabtools.py:151: UserWarning: Glyph 44032 (\\N{HANGUL SYLLABLE GA}) missing from current font.\n",
      "  fig.canvas.print_figure(bytes_io, **kw)\n",
      "/opt/anaconda3/lib/python3.9/site-packages/IPython/core/pylabtools.py:151: UserWarning: Glyph 45236 (\\N{HANGUL SYLLABLE NAE}) missing from current font.\n",
      "  fig.canvas.print_figure(bytes_io, **kw)\n",
      "/opt/anaconda3/lib/python3.9/site-packages/IPython/core/pylabtools.py:151: UserWarning: Glyph 50504 (\\N{HANGUL SYLLABLE AN}) missing from current font.\n",
      "  fig.canvas.print_figure(bytes_io, **kw)\n",
      "/opt/anaconda3/lib/python3.9/site-packages/IPython/core/pylabtools.py:151: UserWarning: Glyph 49704 (\\N{HANGUL SYLLABLE SUM}) missing from current font.\n",
      "  fig.canvas.print_figure(bytes_io, **kw)\n",
      "/opt/anaconda3/lib/python3.9/site-packages/IPython/core/pylabtools.py:151: UserWarning: Glyph 51008 (\\N{HANGUL SYLLABLE EUN}) missing from current font.\n",
      "  fig.canvas.print_figure(bytes_io, **kw)\n",
      "/opt/anaconda3/lib/python3.9/site-packages/IPython/core/pylabtools.py:151: UserWarning: Glyph 51060 (\\N{HANGUL SYLLABLE I}) missing from current font.\n",
      "  fig.canvas.print_figure(bytes_io, **kw)\n",
      "/opt/anaconda3/lib/python3.9/site-packages/IPython/core/pylabtools.py:151: UserWarning: Glyph 50556 (\\N{HANGUL SYLLABLE YA}) missing from current font.\n",
      "  fig.canvas.print_figure(bytes_io, **kw)\n",
      "/opt/anaconda3/lib/python3.9/site-packages/IPython/core/pylabtools.py:151: UserWarning: Glyph 44592 (\\N{HANGUL SYLLABLE GI}) missing from current font.\n",
      "  fig.canvas.print_figure(bytes_io, **kw)\n",
      "/opt/anaconda3/lib/python3.9/site-packages/IPython/core/pylabtools.py:151: UserWarning: Glyph 47484 (\\N{HANGUL SYLLABLE REUL}) missing from current font.\n",
      "  fig.canvas.print_figure(bytes_io, **kw)\n",
      "/opt/anaconda3/lib/python3.9/site-packages/IPython/core/pylabtools.py:151: UserWarning: Glyph 52286 (\\N{HANGUL SYLLABLE CAJ}) missing from current font.\n",
      "  fig.canvas.print_figure(bytes_io, **kw)\n",
      "/opt/anaconda3/lib/python3.9/site-packages/IPython/core/pylabtools.py:151: UserWarning: Glyph 50500 (\\N{HANGUL SYLLABLE A}) missing from current font.\n",
      "  fig.canvas.print_figure(bytes_io, **kw)\n",
      "/opt/anaconda3/lib/python3.9/site-packages/IPython/core/pylabtools.py:151: UserWarning: Glyph 50416 (\\N{HANGUL SYLLABLE SSEU}) missing from current font.\n",
      "  fig.canvas.print_figure(bytes_io, **kw)\n",
      "/opt/anaconda3/lib/python3.9/site-packages/IPython/core/pylabtools.py:151: UserWarning: Glyph 45716 (\\N{HANGUL SYLLABLE NEUN}) missing from current font.\n",
      "  fig.canvas.print_figure(bytes_io, **kw)\n",
      "/opt/anaconda3/lib/python3.9/site-packages/IPython/core/pylabtools.py:151: UserWarning: Glyph 48277 (\\N{HANGUL SYLLABLE BEOB}) missing from current font.\n",
      "  fig.canvas.print_figure(bytes_io, **kw)\n",
      "/opt/anaconda3/lib/python3.9/site-packages/IPython/core/pylabtools.py:151: UserWarning: Glyph 52488 (\\N{HANGUL SYLLABLE CO}) missing from current font.\n",
      "  fig.canvas.print_figure(bytes_io, **kw)\n",
      "/opt/anaconda3/lib/python3.9/site-packages/IPython/core/pylabtools.py:151: UserWarning: Glyph 44201 (\\N{HANGUL SYLLABLE GYEOG}) missing from current font.\n",
      "  fig.canvas.print_figure(bytes_io, **kw)\n",
      "/opt/anaconda3/lib/python3.9/site-packages/IPython/core/pylabtools.py:151: UserWarning: Glyph 52264 (\\N{HANGUL SYLLABLE CA}) missing from current font.\n",
      "  fig.canvas.print_figure(bytes_io, **kw)\n",
      "/opt/anaconda3/lib/python3.9/site-packages/IPython/core/pylabtools.py:151: UserWarning: Glyph 54056 (\\N{HANGUL SYLLABLE PAE}) missing from current font.\n",
      "  fig.canvas.print_figure(bytes_io, **kw)\n",
      "/opt/anaconda3/lib/python3.9/site-packages/IPython/core/pylabtools.py:151: UserWarning: Glyph 53412 (\\N{HANGUL SYLLABLE KI}) missing from current font.\n",
      "  fig.canvas.print_figure(bytes_io, **kw)\n",
      "/opt/anaconda3/lib/python3.9/site-packages/IPython/core/pylabtools.py:151: UserWarning: Glyph 51648 (\\N{HANGUL SYLLABLE JI}) missing from current font.\n",
      "  fig.canvas.print_figure(bytes_io, **kw)\n",
      "/opt/anaconda3/lib/python3.9/site-packages/IPython/core/pylabtools.py:151: UserWarning: Glyph 54620 (\\N{HANGUL SYLLABLE HAN}) missing from current font.\n",
      "  fig.canvas.print_figure(bytes_io, **kw)\n",
      "/opt/anaconda3/lib/python3.9/site-packages/IPython/core/pylabtools.py:151: UserWarning: Glyph 48264 (\\N{HANGUL SYLLABLE BEON}) missing from current font.\n",
      "  fig.canvas.print_figure(bytes_io, **kw)\n",
      "/opt/anaconda3/lib/python3.9/site-packages/IPython/core/pylabtools.py:151: UserWarning: Glyph 50640 (\\N{HANGUL SYLLABLE E}) missing from current font.\n",
      "  fig.canvas.print_figure(bytes_io, **kw)\n",
      "/opt/anaconda3/lib/python3.9/site-packages/IPython/core/pylabtools.py:151: UserWarning: Glyph 45149 (\\N{HANGUL SYLLABLE GGEUT}) missing from current font.\n",
      "  fig.canvas.print_figure(bytes_io, **kw)\n",
      "/opt/anaconda3/lib/python3.9/site-packages/IPython/core/pylabtools.py:151: UserWarning: Glyph 47200 (\\N{HANGUL SYLLABLE RON}) missing from current font.\n",
      "  fig.canvas.print_figure(bytes_io, **kw)\n",
      "/opt/anaconda3/lib/python3.9/site-packages/IPython/core/pylabtools.py:151: UserWarning: Glyph 53944 (\\N{HANGUL SYLLABLE TEU}) missing from current font.\n",
      "  fig.canvas.print_figure(bytes_io, **kw)\n",
      "/opt/anaconda3/lib/python3.9/site-packages/IPython/core/pylabtools.py:151: UserWarning: Glyph 50644 (\\N{HANGUL SYLLABLE EN}) missing from current font.\n",
      "  fig.canvas.print_figure(bytes_io, **kw)\n",
      "/opt/anaconda3/lib/python3.9/site-packages/IPython/core/pylabtools.py:151: UserWarning: Glyph 46300 (\\N{HANGUL SYLLABLE DEU}) missing from current font.\n",
      "  fig.canvas.print_figure(bytes_io, **kw)\n",
      "/opt/anaconda3/lib/python3.9/site-packages/IPython/core/pylabtools.py:151: UserWarning: Glyph 44060 (\\N{HANGUL SYLLABLE GAE}) missing from current font.\n",
      "  fig.canvas.print_figure(bytes_io, **kw)\n",
      "/opt/anaconda3/lib/python3.9/site-packages/IPython/core/pylabtools.py:151: UserWarning: Glyph 48156 (\\N{HANGUL SYLLABLE BAL}) missing from current font.\n",
      "  fig.canvas.print_figure(bytes_io, **kw)\n",
      "/opt/anaconda3/lib/python3.9/site-packages/IPython/core/pylabtools.py:151: UserWarning: Glyph 50732 (\\N{HANGUL SYLLABLE OL}) missing from current font.\n",
      "  fig.canvas.print_figure(bytes_io, **kw)\n",
      "/opt/anaconda3/lib/python3.9/site-packages/IPython/core/pylabtools.py:151: UserWarning: Glyph 51064 (\\N{HANGUL SYLLABLE IN}) missing from current font.\n",
      "  fig.canvas.print_figure(bytes_io, **kw)\n",
      "/opt/anaconda3/lib/python3.9/site-packages/IPython/core/pylabtools.py:151: UserWarning: Glyph 50896 (\\N{HANGUL SYLLABLE WEON}) missing from current font.\n",
      "  fig.canvas.print_figure(bytes_io, **kw)\n",
      "/opt/anaconda3/lib/python3.9/site-packages/IPython/core/pylabtools.py:151: UserWarning: Glyph 48149 (\\N{HANGUL SYLLABLE BAG}) missing from current font.\n",
      "  fig.canvas.print_figure(bytes_io, **kw)\n",
      "/opt/anaconda3/lib/python3.9/site-packages/IPython/core/pylabtools.py:151: UserWarning: Glyph 49464 (\\N{HANGUL SYLLABLE SE}) missing from current font.\n",
      "  fig.canvas.print_figure(bytes_io, **kw)\n",
      "/opt/anaconda3/lib/python3.9/site-packages/IPython/core/pylabtools.py:151: UserWarning: Glyph 51061 (\\N{HANGUL SYLLABLE IG}) missing from current font.\n",
      "  fig.canvas.print_figure(bytes_io, **kw)\n",
      "/opt/anaconda3/lib/python3.9/site-packages/IPython/core/pylabtools.py:151: UserWarning: Glyph 51204 (\\N{HANGUL SYLLABLE JEON}) missing from current font.\n",
      "  fig.canvas.print_figure(bytes_io, **kw)\n",
      "/opt/anaconda3/lib/python3.9/site-packages/IPython/core/pylabtools.py:151: UserWarning: Glyph 47924 (\\N{HANGUL SYLLABLE MU}) missing from current font.\n",
      "  fig.canvas.print_figure(bytes_io, **kw)\n",
      "/opt/anaconda3/lib/python3.9/site-packages/IPython/core/pylabtools.py:151: UserWarning: Glyph 44172 (\\N{HANGUL SYLLABLE GE}) missing from current font.\n",
      "  fig.canvas.print_figure(bytes_io, **kw)\n",
      "/opt/anaconda3/lib/python3.9/site-packages/IPython/core/pylabtools.py:151: UserWarning: Glyph 48176 (\\N{HANGUL SYLLABLE BAE}) missing from current font.\n",
      "  fig.canvas.print_figure(bytes_io, **kw)\n",
      "/opt/anaconda3/lib/python3.9/site-packages/IPython/core/pylabtools.py:151: UserWarning: Glyph 50864 (\\N{HANGUL SYLLABLE U}) missing from current font.\n",
      "  fig.canvas.print_figure(bytes_io, **kw)\n",
      "/opt/anaconda3/lib/python3.9/site-packages/IPython/core/pylabtools.py:151: UserWarning: Glyph 51452 (\\N{HANGUL SYLLABLE JU}) missing from current font.\n",
      "  fig.canvas.print_figure(bytes_io, **kw)\n",
      "/opt/anaconda3/lib/python3.9/site-packages/IPython/core/pylabtools.py:151: UserWarning: Glyph 49885 (\\N{HANGUL SYLLABLE SIG}) missing from current font.\n",
      "  fig.canvas.print_figure(bytes_io, **kw)\n",
      "/opt/anaconda3/lib/python3.9/site-packages/IPython/core/pylabtools.py:151: UserWarning: Glyph 49884 (\\N{HANGUL SYLLABLE SI}) missing from current font.\n",
      "  fig.canvas.print_figure(bytes_io, **kw)\n",
      "/opt/anaconda3/lib/python3.9/site-packages/IPython/core/pylabtools.py:151: UserWarning: Glyph 51109 (\\N{HANGUL SYLLABLE JANG}) missing from current font.\n",
      "  fig.canvas.print_figure(bytes_io, **kw)\n",
      "/opt/anaconda3/lib/python3.9/site-packages/IPython/core/pylabtools.py:151: UserWarning: Glyph 48516 (\\N{HANGUL SYLLABLE BUN}) missing from current font.\n",
      "  fig.canvas.print_figure(bytes_io, **kw)\n",
      "/opt/anaconda3/lib/python3.9/site-packages/IPython/core/pylabtools.py:151: UserWarning: Glyph 49437 (\\N{HANGUL SYLLABLE SEOG}) missing from current font.\n",
      "  fig.canvas.print_figure(bytes_io, **kw)\n",
      "/opt/anaconda3/lib/python3.9/site-packages/IPython/core/pylabtools.py:151: UserWarning: Glyph 54252 (\\N{HANGUL SYLLABLE PO}) missing from current font.\n",
      "  fig.canvas.print_figure(bytes_io, **kw)\n",
      "/opt/anaconda3/lib/python3.9/site-packages/IPython/core/pylabtools.py:151: UserWarning: Glyph 54260 (\\N{HANGUL SYLLABLE POL}) missing from current font.\n",
      "  fig.canvas.print_figure(bytes_io, **kw)\n",
      "/opt/anaconda3/lib/python3.9/site-packages/IPython/core/pylabtools.py:151: UserWarning: Glyph 47532 (\\N{HANGUL SYLLABLE RI}) missing from current font.\n",
      "  fig.canvas.print_figure(bytes_io, **kw)\n",
      "/opt/anaconda3/lib/python3.9/site-packages/IPython/core/pylabtools.py:151: UserWarning: Glyph 50724 (\\N{HANGUL SYLLABLE O}) missing from current font.\n",
      "  fig.canvas.print_figure(bytes_io, **kw)\n",
      "/opt/anaconda3/lib/python3.9/site-packages/IPython/core/pylabtools.py:151: UserWarning: Glyph 50868 (\\N{HANGUL SYLLABLE UN}) missing from current font.\n",
      "  fig.canvas.print_figure(bytes_io, **kw)\n",
      "/opt/anaconda3/lib/python3.9/site-packages/IPython/core/pylabtools.py:151: UserWarning: Glyph 50857 (\\N{HANGUL SYLLABLE YONG}) missing from current font.\n",
      "  fig.canvas.print_figure(bytes_io, **kw)\n",
      "/opt/anaconda3/lib/python3.9/site-packages/IPython/core/pylabtools.py:151: UserWarning: Glyph 47029 (\\N{HANGUL SYLLABLE RYAG}) missing from current font.\n",
      "  fig.canvas.print_figure(bytes_io, **kw)\n",
      "/opt/anaconda3/lib/python3.9/site-packages/IPython/core/pylabtools.py:151: UserWarning: Glyph 49345 (\\N{HANGUL SYLLABLE SANG}) missing from current font.\n",
      "  fig.canvas.print_figure(bytes_io, **kw)\n",
      "/opt/anaconda3/lib/python3.9/site-packages/IPython/core/pylabtools.py:151: UserWarning: Glyph 52524 (\\N{HANGUL SYLLABLE CWAL}) missing from current font.\n",
      "  fig.canvas.print_figure(bytes_io, **kw)\n",
      "/opt/anaconda3/lib/python3.9/site-packages/IPython/core/pylabtools.py:151: UserWarning: Glyph 44284 (\\N{HANGUL SYLLABLE GWA}) missing from current font.\n",
      "  fig.canvas.print_figure(bytes_io, **kw)\n",
      "/opt/anaconda3/lib/python3.9/site-packages/IPython/core/pylabtools.py:151: UserWarning: Glyph 54200 (\\N{HANGUL SYLLABLE PYEON}) missing from current font.\n",
      "  fig.canvas.print_figure(bytes_io, **kw)\n",
      "/opt/anaconda3/lib/python3.9/site-packages/IPython/core/pylabtools.py:151: UserWarning: Glyph 51665 (\\N{HANGUL SYLLABLE JIB}) missing from current font.\n",
      "  fig.canvas.print_figure(bytes_io, **kw)\n",
      "/opt/anaconda3/lib/python3.9/site-packages/IPython/core/pylabtools.py:151: UserWarning: Glyph 50937 (\\N{HANGUL SYLLABLE WEB}) missing from current font.\n",
      "  fig.canvas.print_figure(bytes_io, **kw)\n",
      "/opt/anaconda3/lib/python3.9/site-packages/IPython/core/pylabtools.py:151: UserWarning: Glyph 47560 (\\N{HANGUL SYLLABLE MA}) missing from current font.\n",
      "  fig.canvas.print_figure(bytes_io, **kw)\n",
      "/opt/anaconda3/lib/python3.9/site-packages/IPython/core/pylabtools.py:151: UserWarning: Glyph 49828 (\\N{HANGUL SYLLABLE SEU}) missing from current font.\n",
      "  fig.canvas.print_figure(bytes_io, **kw)\n",
      "/opt/anaconda3/lib/python3.9/site-packages/IPython/core/pylabtools.py:151: UserWarning: Glyph 53552 (\\N{HANGUL SYLLABLE TEO}) missing from current font.\n",
      "  fig.canvas.print_figure(bytes_io, **kw)\n",
      "/opt/anaconda3/lib/python3.9/site-packages/IPython/core/pylabtools.py:151: UserWarning: Glyph 45208 (\\N{HANGUL SYLLABLE NA}) missing from current font.\n",
      "  fig.canvas.print_figure(bytes_io, **kw)\n",
      "/opt/anaconda3/lib/python3.9/site-packages/IPython/core/pylabtools.py:151: UserWarning: Glyph 52860 (\\N{HANGUL SYLLABLE KAL}) missing from current font.\n",
      "  fig.canvas.print_figure(bytes_io, **kw)\n",
      "/opt/anaconda3/lib/python3.9/site-packages/IPython/core/pylabtools.py:151: UserWarning: Glyph 53748 (\\N{HANGUL SYLLABLE TOE}) missing from current font.\n",
      "  fig.canvas.print_figure(bytes_io, **kw)\n",
      "/opt/anaconda3/lib/python3.9/site-packages/IPython/core/pylabtools.py:151: UserWarning: Glyph 52824 (\\N{HANGUL SYLLABLE CI}) missing from current font.\n",
      "  fig.canvas.print_figure(bytes_io, **kw)\n",
      "/opt/anaconda3/lib/python3.9/site-packages/IPython/core/pylabtools.py:151: UserWarning: Glyph 50641 (\\N{HANGUL SYLLABLE EG}) missing from current font.\n",
      "  fig.canvas.print_figure(bytes_io, **kw)\n",
      "/opt/anaconda3/lib/python3.9/site-packages/IPython/core/pylabtools.py:151: UserWarning: Glyph 49472 (\\N{HANGUL SYLLABLE SEL}) missing from current font.\n",
      "  fig.canvas.print_figure(bytes_io, **kw)\n",
      "/opt/anaconda3/lib/python3.9/site-packages/IPython/core/pylabtools.py:151: UserWarning: Glyph 50976 (\\N{HANGUL SYLLABLE YU}) missing from current font.\n",
      "  fig.canvas.print_figure(bytes_io, **kw)\n",
      "/opt/anaconda3/lib/python3.9/site-packages/IPython/core/pylabtools.py:151: UserWarning: Glyph 46356 (\\N{HANGUL SYLLABLE DI}) missing from current font.\n",
      "  fig.canvas.print_figure(bytes_io, **kw)\n",
      "/opt/anaconda3/lib/python3.9/site-packages/IPython/core/pylabtools.py:151: UserWarning: Glyph 51088 (\\N{HANGUL SYLLABLE JA}) missing from current font.\n",
      "  fig.canvas.print_figure(bytes_io, **kw)\n",
      "/opt/anaconda3/lib/python3.9/site-packages/IPython/core/pylabtools.py:151: UserWarning: Glyph 53812 (\\N{HANGUL SYLLABLE TUL}) missing from current font.\n",
      "  fig.canvas.print_figure(bytes_io, **kw)\n",
      "/opt/anaconda3/lib/python3.9/site-packages/IPython/core/pylabtools.py:151: UserWarning: Glyph 52880 (\\N{HANGUL SYLLABLE KAE}) missing from current font.\n",
      "  fig.canvas.print_figure(bytes_io, **kw)\n",
      "/opt/anaconda3/lib/python3.9/site-packages/IPython/core/pylabtools.py:151: UserWarning: Glyph 50620 (\\N{HANGUL SYLLABLE EOL}) missing from current font.\n",
      "  fig.canvas.print_figure(bytes_io, **kw)\n",
      "/opt/anaconda3/lib/python3.9/site-packages/IPython/core/pylabtools.py:151: UserWarning: Glyph 51068 (\\N{HANGUL SYLLABLE IL}) missing from current font.\n",
      "  fig.canvas.print_figure(bytes_io, **kw)\n",
      "/opt/anaconda3/lib/python3.9/site-packages/IPython/core/pylabtools.py:151: UserWarning: Glyph 47084 (\\N{HANGUL SYLLABLE REO}) missing from current font.\n",
      "  fig.canvas.print_figure(bytes_io, **kw)\n",
      "/opt/anaconda3/lib/python3.9/site-packages/IPython/core/pylabtools.py:151: UserWarning: Glyph 47196 (\\N{HANGUL SYLLABLE RO}) missing from current font.\n",
      "  fig.canvas.print_figure(bytes_io, **kw)\n",
      "/opt/anaconda3/lib/python3.9/site-packages/IPython/core/pylabtools.py:151: UserWarning: Glyph 51081 (\\N{HANGUL SYLLABLE ING}) missing from current font.\n",
      "  fig.canvas.print_figure(bytes_io, **kw)\n",
      "/opt/anaconda3/lib/python3.9/site-packages/IPython/core/pylabtools.py:151: UserWarning: Glyph 50756 (\\N{HANGUL SYLLABLE WAN}) missing from current font.\n",
      "  fig.canvas.print_figure(bytes_io, **kw)\n",
      "/opt/anaconda3/lib/python3.9/site-packages/IPython/core/pylabtools.py:151: UserWarning: Glyph 51221 (\\N{HANGUL SYLLABLE JEONG}) missing from current font.\n",
      "  fig.canvas.print_figure(bytes_io, **kw)\n",
      "/opt/anaconda3/lib/python3.9/site-packages/IPython/core/pylabtools.py:151: UserWarning: Glyph 48373 (\\N{HANGUL SYLLABLE BOG}) missing from current font.\n",
      "  fig.canvas.print_figure(bytes_io, **kw)\n",
      "/opt/anaconda3/lib/python3.9/site-packages/IPython/core/pylabtools.py:151: UserWarning: Glyph 44033 (\\N{HANGUL SYLLABLE GAG}) missing from current font.\n",
      "  fig.canvas.print_figure(bytes_io, **kw)\n"
     ]
    },
    {
     "data": {
      "image/png": "[encoded data removed]",
      "text/plain": [
       "<Figure size 648x504 with 1 Axes>"
      ]
     },
     "metadata": {},
     "output_type": "display_data"
    }
   ],
   "source": [
    "plt.figure(figsize=(9, 7))\n",
    "# plt.xticks(rotation = -90)\n",
    "sns.countplot(data = top10, x='Month', hue='course_title', palette='Set2')\n",
    "plt.title('순위 10위 강의 그래프')\n",
    "plt.show()"
   ]
  },
  {
   "cell_type": "markdown",
   "id": "37400734",
   "metadata": {},
   "source": [
    "### 매출 하위 1~10위 강의목록"
   ]
  },
  {
   "cell_type": "code",
   "execution_count": 160,
   "id": "ab1c5838",
   "metadata": {
    "ExecuteTime": {
     "end_time": "2022-07-02T17:42:31.788359Z",
     "start_time": "2022-07-02T17:42:31.744441Z"
    }
   },
   "outputs": [
    {
     "data": {
      "text/plain": [
       "course_title\n",
       "프로모션 : 디자인 맥북 air 패스(9월 현물 프리패스)                            -1400000\n",
       "프로모션 : 기초부터 시작하는 데이터분석 프리패스 (5월 삼성 패키지 현물 :  삼성 갤럭시 북 프로)   -1399000\n",
       "모션그래픽 포트폴리오 온라인 완주반 1기                                      -1144000\n",
       "코딩+알고리즘 온라인 완주반 5기                                           -810000\n",
       "디지털 마케팅 온라인 완주반 3기                                           -575000\n",
       "매주)브런치로 책 출판 온라인 완주반                                         -520000\n",
       "매주)컴퓨터 공학 전공자 따라잡기 온라인 완주반                                   -380000\n",
       "브런치로 책 출판 온라인 완주반 3기                                         -360000\n",
       "건축/공간 디자인 실무 완성 온라인 완주반 1기                                   -334800\n",
       "프로모션 :개강 전 필수 마스터 코딩 한끝세트 (3월 프리패스)                          -299000\n",
       "Name: transaction_amount, dtype: int64"
      ]
     },
     "execution_count": 160,
     "metadata": {},
     "output_type": "execute_result"
    }
   ],
   "source": [
    "#강의 리스트에서 가장 많은 매출 (오름차)순으로 정렬 (10위까지)\n",
    "sum_cour_list = com_Pay_Re['transaction_amount'].groupby(com_Pay_Re['course_title'])\n",
    "x = sum_cour_list.sum()\n",
    "course_title_desc = x.sort_values(ascending=True)\n",
    "co_10 = course_title_desc.head(10)\n",
    "co_10"
   ]
  },
  {
   "cell_type": "markdown",
   "id": "5dbb8c28",
   "metadata": {},
   "source": [
    "### 매출 하위 1~10위 강의 매출 추이 그래프(6개월간)"
   ]
  },
  {
   "cell_type": "code",
   "execution_count": 161,
   "id": "76bffdd9",
   "metadata": {
    "ExecuteTime": {
     "end_time": "2022-07-02T17:42:34.201906Z",
     "start_time": "2022-07-02T17:42:34.133287Z"
    }
   },
   "outputs": [],
   "source": [
    "b1 = com_Pay_Re[(com_Pay_Re['course_title'] == '프로모션 : 디자인 맥북 air 패스(9월 현물 프리패스)') & (com_Pay_Re['Month'])]\n",
    "b2 = com_Pay_Re[(com_Pay_Re['course_title'] == '프로모션 : 기초부터 시작하는 데이터분석 프리패스 (5월 삼성 패키지 현물 :  삼성 갤럭시 북 프로)') & (com_Pay_Re['Month'])]\n",
    "b3 = com_Pay_Re[(com_Pay_Re['course_title'] == '모션그래픽 포트폴리오 온라인 완주반 1기') & (com_Pay_Re['Month'])]\n",
    "b4 = com_Pay_Re[(com_Pay_Re['course_title'] == '코딩+알고리즘 온라인 완주반 5기') & (com_Pay_Re['Month'])]\n",
    "b5 = com_Pay_Re[(com_Pay_Re['course_title'] == '디지털 마케팅 온라인 완주반 3기') & (com_Pay_Re['Month'])]\n",
    "b6 = com_Pay_Re[(com_Pay_Re['course_title'] == '매주)브런치로 책 출판 온라인 완주반') & (com_Pay_Re['Month'])]\n",
    "b7 = com_Pay_Re[(com_Pay_Re['course_title'] == '매주)컴퓨터 공학 전공자 따라잡기 온라인 완주반') & (com_Pay_Re['Month'])]\n",
    "b8 = com_Pay_Re[(com_Pay_Re['course_title'] == '브런치로 책 출판 온라인 완주반 3기') & (com_Pay_Re['Month'])]\n",
    "b9 = com_Pay_Re[(com_Pay_Re['course_title'] == '건축/공간 디자인 실무 완성 온라인 완주반 1기') & (com_Pay_Re['Month'])]\n",
    "b10 = com_Pay_Re[(com_Pay_Re['course_title'] == '프로모션 :개강 전 필수 마스터 코딩 한끝세트 (3월 프리패스)') & (com_Pay_Re['Month'])]"
   ]
  },
  {
   "cell_type": "code",
   "execution_count": null,
   "id": "1eff8818",
   "metadata": {},
   "outputs": [],
   "source": [
    "pd.concat"
   ]
  },
  {
   "cell_type": "code",
   "execution_count": 162,
   "id": "2dbb82ee",
   "metadata": {
    "ExecuteTime": {
     "end_time": "2022-07-02T17:42:36.341208Z",
     "start_time": "2022-07-02T17:42:36.317509Z"
    }
   },
   "outputs": [
    {
     "data": {
      "text/plain": [
       "<pandas.core.groupby.generic.SeriesGroupBy object at 0x7fcd68b48520>"
      ]
     },
     "execution_count": 162,
     "metadata": {},
     "output_type": "execute_result"
    }
   ],
   "source": [
    "tail10 = pd.concat([b1,b2,b3,b4,b5,b6,b7,b8,b9,b10])\n",
    "com1 = tail10[['course_title','transaction_amount','Month']]\n",
    "com1_sum = com1.set_index('Month')\n",
    "com1_sum.sort_index(ascending=True)\n",
    "bi = com1_sum.groupby('Month')\n",
    "bi['course_title']"
   ]
  },
  {
   "cell_type": "code",
   "execution_count": 166,
   "id": "26517269",
   "metadata": {
    "ExecuteTime": {
     "end_time": "2022-07-02T17:44:34.482755Z",
     "start_time": "2022-07-02T17:44:34.326898Z"
    },
    "scrolled": false
   },
   "outputs": [
    {
     "data": {
      "image/png": "[encoded data removed]",
      "text/plain": [
       "<Figure size 648x504 with 1 Axes>"
      ]
     },
     "metadata": {},
     "output_type": "display_data"
    }
   ],
   "source": [
    "plt.figure(figsize=(9, 7))\n",
    "# plt.xticks(rotation = -90)\n",
    "sns.countplot(data = tail10, x='Month', hue='course_title', palette='Set2')\n",
    "plt.title('순위 -10위 강의 그래프')\n",
    "plt.show()"
   ]
  },
  {
   "cell_type": "markdown",
   "id": "802928f7",
   "metadata": {},
   "source": [
    "## 가장많은(적은) 매출을 올린 카테고리 탑 10카테고리 매출추이"
   ]
  },
  {
   "cell_type": "markdown",
   "id": "b73e5c5a",
   "metadata": {},
   "source": [
    "### 매출 상위 1~10위 까지의  카테고리  목록"
   ]
  },
  {
   "cell_type": "code",
   "execution_count": 229,
   "id": "273465f7",
   "metadata": {
    "ExecuteTime": {
     "end_time": "2022-07-02T18:30:28.656946Z",
     "start_time": "2022-07-02T18:30:28.651628Z"
    }
   },
   "outputs": [],
   "source": [
    "# 데이터 사이언스 띄어쓰기 0,x 합쳐주기\n",
    "# com_Pay_Re.replace('데이터 사이언스','데이터사이언스', inplace=True)"
   ]
  },
  {
   "cell_type": "code",
   "execution_count": 228,
   "id": "49ae0433",
   "metadata": {
    "ExecuteTime": {
     "end_time": "2022-07-02T18:30:26.406764Z",
     "start_time": "2022-07-02T18:30:26.401664Z"
    }
   },
   "outputs": [],
   "source": [
    "# com_Pay_Re[com_Pay_Re['category_title'] == '데이터사이언스']"
   ]
  },
  {
   "cell_type": "code",
   "execution_count": 230,
   "id": "f9698781",
   "metadata": {
    "ExecuteTime": {
     "end_time": "2022-07-02T18:31:24.941768Z",
     "start_time": "2022-07-02T18:31:24.916075Z"
    }
   },
   "outputs": [
    {
     "data": {
      "text/plain": [
       "category_title\n",
       "프로그래밍      1650488541\n",
       "데이터사이언스     950073852\n",
       "디자인         663196168\n",
       "마케팅         587623324\n",
       "업무 생산성      572358665\n",
       "영상/3D       544706205\n",
       "부동산/금융      471074334\n",
       "투자/재테크      277706420\n",
       "크리에이티브      240873160\n",
       "비즈니스          5029865\n",
       "Name: transaction_amount, dtype: int64"
      ]
     },
     "execution_count": 230,
     "metadata": {},
     "output_type": "execute_result"
    }
   ],
   "source": [
    "#카테고리에서 가장 많은 매출 순으로 정렬 (10위까지)\n",
    "cate_list = com_Pay_Re['transaction_amount'].groupby(com_Pay_Re['category_title'])\n",
    "cl = cate_list.sum()\n",
    "c1_1= cl.sort_values(ascending=False)\n",
    "cate_d = c1_1.head(10)\n",
    "cate_d"
   ]
  },
  {
   "cell_type": "code",
   "execution_count": 231,
   "id": "28bb478e",
   "metadata": {
    "ExecuteTime": {
     "end_time": "2022-07-02T18:31:30.900351Z",
     "start_time": "2022-07-02T18:31:30.820481Z"
    }
   },
   "outputs": [],
   "source": [
    "c1 = com_Pay_Re[(com_Pay_Re['category_title'] == '프로그래밍') & (com_Pay_Re['Month'])]\n",
    "c2 = com_Pay_Re[(com_Pay_Re['category_title'] == '데이터사이언스') & (com_Pay_Re['Month'])]\n",
    "c3 = com_Pay_Re[(com_Pay_Re['category_title'] == '디자인') & (com_Pay_Re['Month'])]\n",
    "c4 = com_Pay_Re[(com_Pay_Re['category_title'] == '마케팅') & (com_Pay_Re['Month'])]\n",
    "c5 = com_Pay_Re[(com_Pay_Re['category_title'] == '업무 생산성') & (com_Pay_Re['Month'])]\n",
    "c6 = com_Pay_Re[(com_Pay_Re['category_title'] == '영상/3D') & (com_Pay_Re['Month'])]\n",
    "c7 = com_Pay_Re[(com_Pay_Re['category_title'] == '부동산/금융') & (com_Pay_Re['Month'])]\n",
    "c8 = com_Pay_Re[(com_Pay_Re['category_title'] == '투자/재테크') & (com_Pay_Re['Month'])]\n",
    "c9 = com_Pay_Re[(com_Pay_Re['category_title'] == '크리에이티브') & (com_Pay_Re['Month'])]\n",
    "c10 = com_Pay_Re[(com_Pay_Re['category_title'] == '비즈니스') & (com_Pay_Re['Month'])]"
   ]
  },
  {
   "cell_type": "code",
   "execution_count": 232,
   "id": "4b9ac422",
   "metadata": {
    "ExecuteTime": {
     "end_time": "2022-07-02T18:31:33.684720Z",
     "start_time": "2022-07-02T18:31:33.634208Z"
    }
   },
   "outputs": [
    {
     "data": {
      "text/html": [
       "<div>\n",
       "<style scoped>\n",
       "    .dataframe tbody tr th:only-of-type {\n",
       "        vertical-align: middle;\n",
       "    }\n",
       "\n",
       "    .dataframe tbody tr th {\n",
       "        vertical-align: top;\n",
       "    }\n",
       "\n",
       "    .dataframe thead th {\n",
       "        text-align: right;\n",
       "    }\n",
       "</style>\n",
       "<table border=\"1\" class=\"dataframe\">\n",
       "  <thead>\n",
       "    <tr style=\"text-align: right;\">\n",
       "      <th></th>\n",
       "      <th>id</th>\n",
       "      <th>customer_id</th>\n",
       "      <th>course_id</th>\n",
       "      <th>type</th>\n",
       "      <th>state</th>\n",
       "      <th>course_title</th>\n",
       "      <th>category_title</th>\n",
       "      <th>format</th>\n",
       "      <th>completed_at</th>\n",
       "      <th>transaction_amount</th>\n",
       "      <th>...</th>\n",
       "      <th>method</th>\n",
       "      <th>subcategory_title</th>\n",
       "      <th>marketing_start_at</th>\n",
       "      <th>Year</th>\n",
       "      <th>Month</th>\n",
       "      <th>Day</th>\n",
       "      <th>Hour</th>\n",
       "      <th>Weekday</th>\n",
       "      <th>month_year</th>\n",
       "      <th>quarter</th>\n",
       "    </tr>\n",
       "  </thead>\n",
       "  <tbody>\n",
       "    <tr>\n",
       "      <th>2</th>\n",
       "      <td>970657</td>\n",
       "      <td>72297</td>\n",
       "      <td>204246</td>\n",
       "      <td>PAYMENT</td>\n",
       "      <td>COMPLETED</td>\n",
       "      <td>시크릿코드 : 프론트엔드 실무 완성편</td>\n",
       "      <td>프로그래밍</td>\n",
       "      <td>스쿨 온라인</td>\n",
       "      <td>2021-03-28 15:21:43</td>\n",
       "      <td>171810</td>\n",
       "      <td>...</td>\n",
       "      <td>CARD</td>\n",
       "      <td>프로그래밍</td>\n",
       "      <td>2021-03-04 00:00:00</td>\n",
       "      <td>2021</td>\n",
       "      <td>3</td>\n",
       "      <td>28</td>\n",
       "      <td>15</td>\n",
       "      <td>Sunday</td>\n",
       "      <td>2021-03</td>\n",
       "      <td>2021Q1</td>\n",
       "    </tr>\n",
       "    <tr>\n",
       "      <th>14</th>\n",
       "      <td>970676</td>\n",
       "      <td>478035</td>\n",
       "      <td>203720</td>\n",
       "      <td>PAYMENT</td>\n",
       "      <td>COMPLETED</td>\n",
       "      <td>초격차 패키지 : 한 번에 끝내는 프론트엔드 개발</td>\n",
       "      <td>프로그래밍</td>\n",
       "      <td>올인원</td>\n",
       "      <td>2021-03-28 15:31:01</td>\n",
       "      <td>91000</td>\n",
       "      <td>...</td>\n",
       "      <td>CARD</td>\n",
       "      <td>프론트엔드 개발</td>\n",
       "      <td>2021-02-02 00:00:00</td>\n",
       "      <td>2021</td>\n",
       "      <td>3</td>\n",
       "      <td>28</td>\n",
       "      <td>15</td>\n",
       "      <td>Sunday</td>\n",
       "      <td>2021-03</td>\n",
       "      <td>2021Q1</td>\n",
       "    </tr>\n",
       "    <tr>\n",
       "      <th>22</th>\n",
       "      <td>970695</td>\n",
       "      <td>455311</td>\n",
       "      <td>203146</td>\n",
       "      <td>PAYMENT</td>\n",
       "      <td>COMPLETED</td>\n",
       "      <td>The RED : 현실 세상의 TDD by 이규원</td>\n",
       "      <td>프로그래밍</td>\n",
       "      <td>RED</td>\n",
       "      <td>2021-03-28 15:43:59</td>\n",
       "      <td>149500</td>\n",
       "      <td>...</td>\n",
       "      <td>CARD</td>\n",
       "      <td>DevOps</td>\n",
       "      <td>2021-02-08 00:00:00</td>\n",
       "      <td>2021</td>\n",
       "      <td>3</td>\n",
       "      <td>28</td>\n",
       "      <td>15</td>\n",
       "      <td>Sunday</td>\n",
       "      <td>2021-03</td>\n",
       "      <td>2021Q1</td>\n",
       "    </tr>\n",
       "    <tr>\n",
       "      <th>40</th>\n",
       "      <td>970730</td>\n",
       "      <td>445723</td>\n",
       "      <td>203720</td>\n",
       "      <td>PAYMENT</td>\n",
       "      <td>COMPLETED</td>\n",
       "      <td>초격차 패키지 : 한 번에 끝내는 프론트엔드 개발</td>\n",
       "      <td>프로그래밍</td>\n",
       "      <td>올인원</td>\n",
       "      <td>2021-03-28 16:15:46</td>\n",
       "      <td>91000</td>\n",
       "      <td>...</td>\n",
       "      <td>CARD</td>\n",
       "      <td>프론트엔드 개발</td>\n",
       "      <td>2021-02-02 00:00:00</td>\n",
       "      <td>2021</td>\n",
       "      <td>3</td>\n",
       "      <td>28</td>\n",
       "      <td>16</td>\n",
       "      <td>Sunday</td>\n",
       "      <td>2021-03</td>\n",
       "      <td>2021Q1</td>\n",
       "    </tr>\n",
       "    <tr>\n",
       "      <th>57</th>\n",
       "      <td>970789</td>\n",
       "      <td>478098</td>\n",
       "      <td>300000</td>\n",
       "      <td>PAYMENT</td>\n",
       "      <td>COMPLETED</td>\n",
       "      <td>프로모션 : 코딩 LEVEL UP 웹 개발 풀스텍 한끝세트 (3월 프리패스)</td>\n",
       "      <td>프로그래밍</td>\n",
       "      <td>올인원</td>\n",
       "      <td>2021-03-28 16:52:29</td>\n",
       "      <td>299000</td>\n",
       "      <td>...</td>\n",
       "      <td>CARD</td>\n",
       "      <td>프로그래밍</td>\n",
       "      <td>2018-11-11 00:00:00</td>\n",
       "      <td>2021</td>\n",
       "      <td>3</td>\n",
       "      <td>28</td>\n",
       "      <td>16</td>\n",
       "      <td>Sunday</td>\n",
       "      <td>2021-03</td>\n",
       "      <td>2021Q1</td>\n",
       "    </tr>\n",
       "    <tr>\n",
       "      <th>...</th>\n",
       "      <td>...</td>\n",
       "      <td>...</td>\n",
       "      <td>...</td>\n",
       "      <td>...</td>\n",
       "      <td>...</td>\n",
       "      <td>...</td>\n",
       "      <td>...</td>\n",
       "      <td>...</td>\n",
       "      <td>...</td>\n",
       "      <td>...</td>\n",
       "      <td>...</td>\n",
       "      <td>...</td>\n",
       "      <td>...</td>\n",
       "      <td>...</td>\n",
       "      <td>...</td>\n",
       "      <td>...</td>\n",
       "      <td>...</td>\n",
       "      <td>...</td>\n",
       "      <td>...</td>\n",
       "      <td>...</td>\n",
       "      <td>...</td>\n",
       "    </tr>\n",
       "    <tr>\n",
       "      <th>94024</th>\n",
       "      <td>1328425</td>\n",
       "      <td>31183</td>\n",
       "      <td>300000</td>\n",
       "      <td>PAYMENT</td>\n",
       "      <td>COMPLETED</td>\n",
       "      <td>프로모션 : MBA부터 HR까지 직장인 스킬 벼락치기 패키지 (9월 프리패스)</td>\n",
       "      <td>비즈니스</td>\n",
       "      <td>올인원</td>\n",
       "      <td>2021-09-05 01:29:50</td>\n",
       "      <td>330000</td>\n",
       "      <td>...</td>\n",
       "      <td>CARD</td>\n",
       "      <td>비즈니스</td>\n",
       "      <td>2018-11-11 00:00:00</td>\n",
       "      <td>2021</td>\n",
       "      <td>9</td>\n",
       "      <td>5</td>\n",
       "      <td>1</td>\n",
       "      <td>Sunday</td>\n",
       "      <td>2021-09</td>\n",
       "      <td>2021Q3</td>\n",
       "    </tr>\n",
       "    <tr>\n",
       "      <th>94040</th>\n",
       "      <td>1328486</td>\n",
       "      <td>194316</td>\n",
       "      <td>300000</td>\n",
       "      <td>PAYMENT</td>\n",
       "      <td>COMPLETED</td>\n",
       "      <td>프로모션 : 워라밸을 완성하는 직장인 필수스킬 벼락치기 패키지 (9월 프리패스)</td>\n",
       "      <td>비즈니스</td>\n",
       "      <td>올인원</td>\n",
       "      <td>2021-09-05 03:58:47</td>\n",
       "      <td>330000</td>\n",
       "      <td>...</td>\n",
       "      <td>CARD</td>\n",
       "      <td>비즈니스</td>\n",
       "      <td>2018-11-11 00:00:00</td>\n",
       "      <td>2021</td>\n",
       "      <td>9</td>\n",
       "      <td>5</td>\n",
       "      <td>3</td>\n",
       "      <td>Sunday</td>\n",
       "      <td>2021-09</td>\n",
       "      <td>2021Q3</td>\n",
       "    </tr>\n",
       "    <tr>\n",
       "      <th>94081</th>\n",
       "      <td>1328685</td>\n",
       "      <td>653629</td>\n",
       "      <td>300000</td>\n",
       "      <td>PAYMENT</td>\n",
       "      <td>COMPLETED</td>\n",
       "      <td>프로모션 : MBA부터 HR까지 직장인 스킬 벼락치기 패키지 (9월 프리패스)</td>\n",
       "      <td>비즈니스</td>\n",
       "      <td>올인원</td>\n",
       "      <td>2021-09-05 12:28:42</td>\n",
       "      <td>330000</td>\n",
       "      <td>...</td>\n",
       "      <td>CARD</td>\n",
       "      <td>비즈니스</td>\n",
       "      <td>2018-11-11 00:00:00</td>\n",
       "      <td>2021</td>\n",
       "      <td>9</td>\n",
       "      <td>5</td>\n",
       "      <td>12</td>\n",
       "      <td>Sunday</td>\n",
       "      <td>2021-09</td>\n",
       "      <td>2021Q3</td>\n",
       "    </tr>\n",
       "    <tr>\n",
       "      <th>94553</th>\n",
       "      <td>1330401</td>\n",
       "      <td>408034</td>\n",
       "      <td>300000</td>\n",
       "      <td>REFUND</td>\n",
       "      <td>COMPLETED</td>\n",
       "      <td>프로모션 : MBA부터 HR까지 직장인 스킬 벼락치기 패키지 (9월 프리패스)</td>\n",
       "      <td>비즈니스</td>\n",
       "      <td>올인원</td>\n",
       "      <td>2021-09-06 11:24:48</td>\n",
       "      <td>-330000</td>\n",
       "      <td>...</td>\n",
       "      <td>CARD</td>\n",
       "      <td>비즈니스</td>\n",
       "      <td>2018-11-11 00:00:00</td>\n",
       "      <td>2021</td>\n",
       "      <td>9</td>\n",
       "      <td>6</td>\n",
       "      <td>11</td>\n",
       "      <td>Monday</td>\n",
       "      <td>2021-09</td>\n",
       "      <td>2021Q3</td>\n",
       "    </tr>\n",
       "    <tr>\n",
       "      <th>94852</th>\n",
       "      <td>1331412</td>\n",
       "      <td>653629</td>\n",
       "      <td>300000</td>\n",
       "      <td>REFUND</td>\n",
       "      <td>COMPLETED</td>\n",
       "      <td>프로모션 : MBA부터 HR까지 직장인 스킬 벼락치기 패키지 (9월 프리패스)</td>\n",
       "      <td>비즈니스</td>\n",
       "      <td>올인원</td>\n",
       "      <td>2021-09-06 16:14:49</td>\n",
       "      <td>-330000</td>\n",
       "      <td>...</td>\n",
       "      <td>CARD</td>\n",
       "      <td>비즈니스</td>\n",
       "      <td>2018-11-11 00:00:00</td>\n",
       "      <td>2021</td>\n",
       "      <td>9</td>\n",
       "      <td>6</td>\n",
       "      <td>16</td>\n",
       "      <td>Monday</td>\n",
       "      <td>2021-09</td>\n",
       "      <td>2021Q3</td>\n",
       "    </tr>\n",
       "  </tbody>\n",
       "</table>\n",
       "<p>25576 rows × 24 columns</p>\n",
       "</div>"
      ],
      "text/plain": [
       "            id  customer_id  course_id     type      state  \\\n",
       "2       970657        72297     204246  PAYMENT  COMPLETED   \n",
       "14      970676       478035     203720  PAYMENT  COMPLETED   \n",
       "22      970695       455311     203146  PAYMENT  COMPLETED   \n",
       "40      970730       445723     203720  PAYMENT  COMPLETED   \n",
       "57      970789       478098     300000  PAYMENT  COMPLETED   \n",
       "...        ...          ...        ...      ...        ...   \n",
       "94024  1328425        31183     300000  PAYMENT  COMPLETED   \n",
       "94040  1328486       194316     300000  PAYMENT  COMPLETED   \n",
       "94081  1328685       653629     300000  PAYMENT  COMPLETED   \n",
       "94553  1330401       408034     300000   REFUND  COMPLETED   \n",
       "94852  1331412       653629     300000   REFUND  COMPLETED   \n",
       "\n",
       "                                       course_title category_title  format  \\\n",
       "2                              시크릿코드 : 프론트엔드 실무 완성편          프로그래밍  스쿨 온라인   \n",
       "14                      초격차 패키지 : 한 번에 끝내는 프론트엔드 개발          프로그래밍     올인원   \n",
       "22                      The RED : 현실 세상의 TDD by 이규원          프로그래밍     RED   \n",
       "40                      초격차 패키지 : 한 번에 끝내는 프론트엔드 개발          프로그래밍     올인원   \n",
       "57       프로모션 : 코딩 LEVEL UP 웹 개발 풀스텍 한끝세트 (3월 프리패스)          프로그래밍     올인원   \n",
       "...                                             ...            ...     ...   \n",
       "94024   프로모션 : MBA부터 HR까지 직장인 스킬 벼락치기 패키지 (9월 프리패스)           비즈니스     올인원   \n",
       "94040  프로모션 : 워라밸을 완성하는 직장인 필수스킬 벼락치기 패키지 (9월 프리패스)           비즈니스     올인원   \n",
       "94081   프로모션 : MBA부터 HR까지 직장인 스킬 벼락치기 패키지 (9월 프리패스)           비즈니스     올인원   \n",
       "94553   프로모션 : MBA부터 HR까지 직장인 스킬 벼락치기 패키지 (9월 프리패스)           비즈니스     올인원   \n",
       "94852   프로모션 : MBA부터 HR까지 직장인 스킬 벼락치기 패키지 (9월 프리패스)           비즈니스     올인원   \n",
       "\n",
       "             completed_at  transaction_amount  ... method  subcategory_title  \\\n",
       "2     2021-03-28 15:21:43              171810  ...   CARD              프로그래밍   \n",
       "14    2021-03-28 15:31:01               91000  ...   CARD           프론트엔드 개발   \n",
       "22    2021-03-28 15:43:59              149500  ...   CARD             DevOps   \n",
       "40    2021-03-28 16:15:46               91000  ...   CARD           프론트엔드 개발   \n",
       "57    2021-03-28 16:52:29              299000  ...   CARD              프로그래밍   \n",
       "...                   ...                 ...  ...    ...                ...   \n",
       "94024 2021-09-05 01:29:50              330000  ...   CARD               비즈니스   \n",
       "94040 2021-09-05 03:58:47              330000  ...   CARD               비즈니스   \n",
       "94081 2021-09-05 12:28:42              330000  ...   CARD               비즈니스   \n",
       "94553 2021-09-06 11:24:48             -330000  ...   CARD               비즈니스   \n",
       "94852 2021-09-06 16:14:49             -330000  ...   CARD               비즈니스   \n",
       "\n",
       "        marketing_start_at  Year Month Day Hour  Weekday  month_year  quarter  \n",
       "2      2021-03-04 00:00:00  2021     3  28   15   Sunday     2021-03   2021Q1  \n",
       "14     2021-02-02 00:00:00  2021     3  28   15   Sunday     2021-03   2021Q1  \n",
       "22     2021-02-08 00:00:00  2021     3  28   15   Sunday     2021-03   2021Q1  \n",
       "40     2021-02-02 00:00:00  2021     3  28   16   Sunday     2021-03   2021Q1  \n",
       "57     2018-11-11 00:00:00  2021     3  28   16   Sunday     2021-03   2021Q1  \n",
       "...                    ...   ...   ...  ..  ...      ...         ...      ...  \n",
       "94024  2018-11-11 00:00:00  2021     9   5    1   Sunday     2021-09   2021Q3  \n",
       "94040  2018-11-11 00:00:00  2021     9   5    3   Sunday     2021-09   2021Q3  \n",
       "94081  2018-11-11 00:00:00  2021     9   5   12   Sunday     2021-09   2021Q3  \n",
       "94553  2018-11-11 00:00:00  2021     9   6   11   Monday     2021-09   2021Q3  \n",
       "94852  2018-11-11 00:00:00  2021     9   6   16   Monday     2021-09   2021Q3  \n",
       "\n",
       "[25576 rows x 24 columns]"
      ]
     },
     "execution_count": 232,
     "metadata": {},
     "output_type": "execute_result"
    }
   ],
   "source": [
    "cate10 = pd.concat([c1,c2,c3,c4,c5,c6,c7,c8,c9,c10])\n",
    "cate10"
   ]
  },
  {
   "cell_type": "markdown",
   "id": "99a4fb24",
   "metadata": {},
   "source": [
    "### 매출 상위 1~10위 카테고리 매출 추이 그래프(6개월간)"
   ]
  },
  {
   "cell_type": "code",
   "execution_count": 233,
   "id": "1f5b94a7",
   "metadata": {
    "ExecuteTime": {
     "end_time": "2022-07-02T18:31:37.525924Z",
     "start_time": "2022-07-02T18:31:37.323384Z"
    }
   },
   "outputs": [
    {
     "data": {
      "image/png": "[encoded data removed]",
      "text/plain": [
       "<Figure size 648x504 with 1 Axes>"
      ]
     },
     "metadata": {},
     "output_type": "display_data"
    }
   ],
   "source": [
    "plt.figure(figsize=(9, 7))\n",
    "# plt.xticks(rotation = -90)\n",
    "sns.countplot(data = cate10, x='Month', hue='category_title', palette='Set2')\n",
    "plt.title('순위 10위 카테고리 그래프')\n",
    "plt.show()"
   ]
  },
  {
   "cell_type": "markdown",
   "id": "b9a006b2",
   "metadata": {},
   "source": [
    "### 매출 하위 1~10위 카테고리목록"
   ]
  },
  {
   "cell_type": "code",
   "execution_count": 234,
   "id": "cbc32a17",
   "metadata": {
    "ExecuteTime": {
     "end_time": "2022-07-02T18:31:42.281709Z",
     "start_time": "2022-07-02T18:31:42.249826Z"
    }
   },
   "outputs": [
    {
     "data": {
      "text/plain": [
       "category_title\n",
       "파이낸스        4620000\n",
       "지식콘텐츠       4969000\n",
       "비즈니스        5029865\n",
       "크리에이티브    240873160\n",
       "투자/재테크    277706420\n",
       "부동산/금융    471074334\n",
       "영상/3D     544706205\n",
       "업무 생산성    572358665\n",
       "마케팅       587623324\n",
       "디자인       663196168\n",
       "Name: transaction_amount, dtype: int64"
      ]
     },
     "execution_count": 234,
     "metadata": {},
     "output_type": "execute_result"
    }
   ],
   "source": [
    "#카테고리에서 가장 많은 매출 순으로 정렬 (10위까지)\n",
    "cate_list2 = com_Pay_Re['transaction_amount'].groupby(com_Pay_Re['category_title'])\n",
    "cl2 = cate_list2.sum()\n",
    "c1_12= cl2.sort_values(ascending=True)\n",
    "cate_d2 = c1_12.head(10)\n",
    "cate_d2"
   ]
  },
  {
   "cell_type": "markdown",
   "id": "13ede8b0",
   "metadata": {},
   "source": [
    "### 매출 하위 1~10위 카테고리 매출 추이 그래프(6개월간)"
   ]
  },
  {
   "cell_type": "code",
   "execution_count": 241,
   "id": "211d0c8a",
   "metadata": {
    "ExecuteTime": {
     "end_time": "2022-07-02T18:36:04.777627Z",
     "start_time": "2022-07-02T18:36:04.711165Z"
    }
   },
   "outputs": [],
   "source": [
    "d1 = com_Pay_Re[(com_Pay_Re['category_title'] == '파이낸스') & (com_Pay_Re['Month'])]\n",
    "d2 = com_Pay_Re[(com_Pay_Re['category_title'] == '지식콘텐츠') & (com_Pay_Re['Month'])]\n",
    "d3 = com_Pay_Re[(com_Pay_Re['category_title'] == '비즈니스') & (com_Pay_Re['Month'])]\n",
    "d4 = com_Pay_Re[(com_Pay_Re['category_title'] == '크리에이티브') & (com_Pay_Re['Month'])]\n",
    "d5 = com_Pay_Re[(com_Pay_Re['category_title'] == '투자/재테크') & (com_Pay_Re['Month'])]\n",
    "d6 = com_Pay_Re[(com_Pay_Re['category_title'] == '부동산/금융') & (com_Pay_Re['Month'])]\n",
    "d7 = com_Pay_Re[(com_Pay_Re['category_title'] == '영상/3D') & (com_Pay_Re['Month'])]\n",
    "d8 = com_Pay_Re[(com_Pay_Re['category_title'] == '업무 생산성') & (com_Pay_Re['Month'])]\n",
    "d9 = com_Pay_Re[(com_Pay_Re['category_title'] == '마케팅') & (com_Pay_Re['Month'])]\n",
    "d10 = com_Pay_Re[(com_Pay_Re['category_title'] == '디자인') & (com_Pay_Re['Month'])]"
   ]
  },
  {
   "cell_type": "code",
   "execution_count": 242,
   "id": "2f1779b5",
   "metadata": {
    "ExecuteTime": {
     "end_time": "2022-07-02T18:36:06.822825Z",
     "start_time": "2022-07-02T18:36:06.775138Z"
    }
   },
   "outputs": [
    {
     "data": {
      "text/html": [
       "<div>\n",
       "<style scoped>\n",
       "    .dataframe tbody tr th:only-of-type {\n",
       "        vertical-align: middle;\n",
       "    }\n",
       "\n",
       "    .dataframe tbody tr th {\n",
       "        vertical-align: top;\n",
       "    }\n",
       "\n",
       "    .dataframe thead th {\n",
       "        text-align: right;\n",
       "    }\n",
       "</style>\n",
       "<table border=\"1\" class=\"dataframe\">\n",
       "  <thead>\n",
       "    <tr style=\"text-align: right;\">\n",
       "      <th></th>\n",
       "      <th>id</th>\n",
       "      <th>customer_id</th>\n",
       "      <th>course_id</th>\n",
       "      <th>type</th>\n",
       "      <th>state</th>\n",
       "      <th>course_title</th>\n",
       "      <th>category_title</th>\n",
       "      <th>format</th>\n",
       "      <th>completed_at</th>\n",
       "      <th>transaction_amount</th>\n",
       "      <th>...</th>\n",
       "      <th>method</th>\n",
       "      <th>subcategory_title</th>\n",
       "      <th>marketing_start_at</th>\n",
       "      <th>Year</th>\n",
       "      <th>Month</th>\n",
       "      <th>Day</th>\n",
       "      <th>Hour</th>\n",
       "      <th>Weekday</th>\n",
       "      <th>month_year</th>\n",
       "      <th>quarter</th>\n",
       "    </tr>\n",
       "  </thead>\n",
       "  <tbody>\n",
       "    <tr>\n",
       "      <th>93215</th>\n",
       "      <td>1323596</td>\n",
       "      <td>641485</td>\n",
       "      <td>300000</td>\n",
       "      <td>PAYMENT</td>\n",
       "      <td>COMPLETED</td>\n",
       "      <td>프로모션 : 시장의 흐름을 읽는 투자의 정석 벼락치기 패키지  (9월 프리패스)</td>\n",
       "      <td>파이낸스</td>\n",
       "      <td>올인원</td>\n",
       "      <td>2021-09-01 14:04:44</td>\n",
       "      <td>330000</td>\n",
       "      <td>...</td>\n",
       "      <td>CARD</td>\n",
       "      <td>파이낸스</td>\n",
       "      <td>2018-11-11 00:00:00</td>\n",
       "      <td>2021</td>\n",
       "      <td>9</td>\n",
       "      <td>1</td>\n",
       "      <td>14</td>\n",
       "      <td>Wednesday</td>\n",
       "      <td>2021-09</td>\n",
       "      <td>2021Q3</td>\n",
       "    </tr>\n",
       "    <tr>\n",
       "      <th>93380</th>\n",
       "      <td>1324639</td>\n",
       "      <td>121917</td>\n",
       "      <td>300000</td>\n",
       "      <td>PAYMENT</td>\n",
       "      <td>COMPLETED</td>\n",
       "      <td>프로모션 : 시장의 흐름을 읽는 투자의 정석 벼락치기 패키지  (9월 프리패스)</td>\n",
       "      <td>파이낸스</td>\n",
       "      <td>올인원</td>\n",
       "      <td>2021-09-02 08:12:13</td>\n",
       "      <td>330000</td>\n",
       "      <td>...</td>\n",
       "      <td>CARD</td>\n",
       "      <td>파이낸스</td>\n",
       "      <td>2018-11-11 00:00:00</td>\n",
       "      <td>2021</td>\n",
       "      <td>9</td>\n",
       "      <td>2</td>\n",
       "      <td>8</td>\n",
       "      <td>Thursday</td>\n",
       "      <td>2021-09</td>\n",
       "      <td>2021Q3</td>\n",
       "    </tr>\n",
       "    <tr>\n",
       "      <th>93712</th>\n",
       "      <td>1326538</td>\n",
       "      <td>546634</td>\n",
       "      <td>300000</td>\n",
       "      <td>PAYMENT</td>\n",
       "      <td>COMPLETED</td>\n",
       "      <td>프로모션 : 시장의 흐름을 읽는 투자의 정석 벼락치기 패키지  (9월 프리패스)</td>\n",
       "      <td>파이낸스</td>\n",
       "      <td>올인원</td>\n",
       "      <td>2021-09-03 13:00:27</td>\n",
       "      <td>330000</td>\n",
       "      <td>...</td>\n",
       "      <td>CARD</td>\n",
       "      <td>파이낸스</td>\n",
       "      <td>2018-11-11 00:00:00</td>\n",
       "      <td>2021</td>\n",
       "      <td>9</td>\n",
       "      <td>3</td>\n",
       "      <td>13</td>\n",
       "      <td>Friday</td>\n",
       "      <td>2021-09</td>\n",
       "      <td>2021Q3</td>\n",
       "    </tr>\n",
       "    <tr>\n",
       "      <th>93936</th>\n",
       "      <td>1327974</td>\n",
       "      <td>654322</td>\n",
       "      <td>300000</td>\n",
       "      <td>PAYMENT</td>\n",
       "      <td>COMPLETED</td>\n",
       "      <td>프로모션 : 시장의 흐름을 읽는 투자의 정석 벼락치기 패키지  (9월 프리패스)</td>\n",
       "      <td>파이낸스</td>\n",
       "      <td>올인원</td>\n",
       "      <td>2021-09-04 16:04:50</td>\n",
       "      <td>330000</td>\n",
       "      <td>...</td>\n",
       "      <td>CARD</td>\n",
       "      <td>파이낸스</td>\n",
       "      <td>2018-11-11 00:00:00</td>\n",
       "      <td>2021</td>\n",
       "      <td>9</td>\n",
       "      <td>4</td>\n",
       "      <td>16</td>\n",
       "      <td>Saturday</td>\n",
       "      <td>2021-09</td>\n",
       "      <td>2021Q3</td>\n",
       "    </tr>\n",
       "    <tr>\n",
       "      <th>94034</th>\n",
       "      <td>1328457</td>\n",
       "      <td>45825</td>\n",
       "      <td>300000</td>\n",
       "      <td>PAYMENT</td>\n",
       "      <td>COMPLETED</td>\n",
       "      <td>프로모션 : 시장의 흐름을 읽는 투자의 정석 벼락치기 패키지  (9월 프리패스)</td>\n",
       "      <td>파이낸스</td>\n",
       "      <td>올인원</td>\n",
       "      <td>2021-09-05 02:52:32</td>\n",
       "      <td>330000</td>\n",
       "      <td>...</td>\n",
       "      <td>CARD</td>\n",
       "      <td>파이낸스</td>\n",
       "      <td>2018-11-11 00:00:00</td>\n",
       "      <td>2021</td>\n",
       "      <td>9</td>\n",
       "      <td>5</td>\n",
       "      <td>2</td>\n",
       "      <td>Sunday</td>\n",
       "      <td>2021-09</td>\n",
       "      <td>2021Q3</td>\n",
       "    </tr>\n",
       "    <tr>\n",
       "      <th>...</th>\n",
       "      <td>...</td>\n",
       "      <td>...</td>\n",
       "      <td>...</td>\n",
       "      <td>...</td>\n",
       "      <td>...</td>\n",
       "      <td>...</td>\n",
       "      <td>...</td>\n",
       "      <td>...</td>\n",
       "      <td>...</td>\n",
       "      <td>...</td>\n",
       "      <td>...</td>\n",
       "      <td>...</td>\n",
       "      <td>...</td>\n",
       "      <td>...</td>\n",
       "      <td>...</td>\n",
       "      <td>...</td>\n",
       "      <td>...</td>\n",
       "      <td>...</td>\n",
       "      <td>...</td>\n",
       "      <td>...</td>\n",
       "      <td>...</td>\n",
       "    </tr>\n",
       "    <tr>\n",
       "      <th>100540</th>\n",
       "      <td>1360783</td>\n",
       "      <td>666751</td>\n",
       "      <td>204013</td>\n",
       "      <td>REFUND</td>\n",
       "      <td>COMPLETED</td>\n",
       "      <td>올인원 패키지 : 완전정복 시각디자인 기초</td>\n",
       "      <td>디자인</td>\n",
       "      <td>올인원</td>\n",
       "      <td>2021-09-23 13:46:36</td>\n",
       "      <td>-164000</td>\n",
       "      <td>...</td>\n",
       "      <td>CARD</td>\n",
       "      <td>시각디자인</td>\n",
       "      <td>2021-03-16 00:00:00</td>\n",
       "      <td>2021</td>\n",
       "      <td>9</td>\n",
       "      <td>23</td>\n",
       "      <td>13</td>\n",
       "      <td>Thursday</td>\n",
       "      <td>2021-09</td>\n",
       "      <td>2021Q3</td>\n",
       "    </tr>\n",
       "    <tr>\n",
       "      <th>100550</th>\n",
       "      <td>1360833</td>\n",
       "      <td>667500</td>\n",
       "      <td>204871</td>\n",
       "      <td>REFUND</td>\n",
       "      <td>COMPLETED</td>\n",
       "      <td>올인원 패키지 : star741의 캐주얼 일러스트 드로잉</td>\n",
       "      <td>디자인</td>\n",
       "      <td>올인원</td>\n",
       "      <td>2021-09-23 14:00:58</td>\n",
       "      <td>-169000</td>\n",
       "      <td>...</td>\n",
       "      <td>CARD</td>\n",
       "      <td>일러스트</td>\n",
       "      <td>2021-05-25 00:00:00</td>\n",
       "      <td>2021</td>\n",
       "      <td>9</td>\n",
       "      <td>23</td>\n",
       "      <td>14</td>\n",
       "      <td>Thursday</td>\n",
       "      <td>2021-09</td>\n",
       "      <td>2021Q3</td>\n",
       "    </tr>\n",
       "    <tr>\n",
       "      <th>100574</th>\n",
       "      <td>1360973</td>\n",
       "      <td>55069</td>\n",
       "      <td>300000</td>\n",
       "      <td>REFUND</td>\n",
       "      <td>COMPLETED</td>\n",
       "      <td>프로모션 : 디자인 맥북 air 패스(9월 현물 프리패스)</td>\n",
       "      <td>디자인</td>\n",
       "      <td>올인원</td>\n",
       "      <td>2021-09-23 14:52:48</td>\n",
       "      <td>-1400000</td>\n",
       "      <td>...</td>\n",
       "      <td>CARD</td>\n",
       "      <td>디자인</td>\n",
       "      <td>2018-11-11 00:00:00</td>\n",
       "      <td>2021</td>\n",
       "      <td>9</td>\n",
       "      <td>23</td>\n",
       "      <td>14</td>\n",
       "      <td>Thursday</td>\n",
       "      <td>2021-09</td>\n",
       "      <td>2021Q3</td>\n",
       "    </tr>\n",
       "    <tr>\n",
       "      <th>100788</th>\n",
       "      <td>1363264</td>\n",
       "      <td>642002</td>\n",
       "      <td>300000</td>\n",
       "      <td>REFUND</td>\n",
       "      <td>COMPLETED</td>\n",
       "      <td>프로모션 : 디자인 맥북 air 패스(9월 현물 프리패스)</td>\n",
       "      <td>디자인</td>\n",
       "      <td>올인원</td>\n",
       "      <td>2021-09-24 10:57:42</td>\n",
       "      <td>-1400000</td>\n",
       "      <td>...</td>\n",
       "      <td>CARD</td>\n",
       "      <td>디자인</td>\n",
       "      <td>2018-11-11 00:00:00</td>\n",
       "      <td>2021</td>\n",
       "      <td>9</td>\n",
       "      <td>24</td>\n",
       "      <td>10</td>\n",
       "      <td>Friday</td>\n",
       "      <td>2021-09</td>\n",
       "      <td>2021Q3</td>\n",
       "    </tr>\n",
       "    <tr>\n",
       "      <th>100840</th>\n",
       "      <td>1363576</td>\n",
       "      <td>648937</td>\n",
       "      <td>204013</td>\n",
       "      <td>REFUND</td>\n",
       "      <td>COMPLETED</td>\n",
       "      <td>올인원 패키지 : 완전정복 시각디자인 기초</td>\n",
       "      <td>디자인</td>\n",
       "      <td>올인원</td>\n",
       "      <td>2021-09-24 13:43:57</td>\n",
       "      <td>-72000</td>\n",
       "      <td>...</td>\n",
       "      <td>CARD</td>\n",
       "      <td>시각디자인</td>\n",
       "      <td>2021-03-16 00:00:00</td>\n",
       "      <td>2021</td>\n",
       "      <td>9</td>\n",
       "      <td>24</td>\n",
       "      <td>13</td>\n",
       "      <td>Friday</td>\n",
       "      <td>2021-09</td>\n",
       "      <td>2021Q3</td>\n",
       "    </tr>\n",
       "  </tbody>\n",
       "</table>\n",
       "<p>13973 rows × 24 columns</p>\n",
       "</div>"
      ],
      "text/plain": [
       "             id  customer_id  course_id     type      state  \\\n",
       "93215   1323596       641485     300000  PAYMENT  COMPLETED   \n",
       "93380   1324639       121917     300000  PAYMENT  COMPLETED   \n",
       "93712   1326538       546634     300000  PAYMENT  COMPLETED   \n",
       "93936   1327974       654322     300000  PAYMENT  COMPLETED   \n",
       "94034   1328457        45825     300000  PAYMENT  COMPLETED   \n",
       "...         ...          ...        ...      ...        ...   \n",
       "100540  1360783       666751     204013   REFUND  COMPLETED   \n",
       "100550  1360833       667500     204871   REFUND  COMPLETED   \n",
       "100574  1360973        55069     300000   REFUND  COMPLETED   \n",
       "100788  1363264       642002     300000   REFUND  COMPLETED   \n",
       "100840  1363576       648937     204013   REFUND  COMPLETED   \n",
       "\n",
       "                                        course_title category_title format  \\\n",
       "93215   프로모션 : 시장의 흐름을 읽는 투자의 정석 벼락치기 패키지  (9월 프리패스)           파이낸스    올인원   \n",
       "93380   프로모션 : 시장의 흐름을 읽는 투자의 정석 벼락치기 패키지  (9월 프리패스)           파이낸스    올인원   \n",
       "93712   프로모션 : 시장의 흐름을 읽는 투자의 정석 벼락치기 패키지  (9월 프리패스)           파이낸스    올인원   \n",
       "93936   프로모션 : 시장의 흐름을 읽는 투자의 정석 벼락치기 패키지  (9월 프리패스)           파이낸스    올인원   \n",
       "94034   프로모션 : 시장의 흐름을 읽는 투자의 정석 벼락치기 패키지  (9월 프리패스)           파이낸스    올인원   \n",
       "...                                              ...            ...    ...   \n",
       "100540                       올인원 패키지 : 완전정복 시각디자인 기초            디자인    올인원   \n",
       "100550               올인원 패키지 : star741의 캐주얼 일러스트 드로잉            디자인    올인원   \n",
       "100574              프로모션 : 디자인 맥북 air 패스(9월 현물 프리패스)            디자인    올인원   \n",
       "100788              프로모션 : 디자인 맥북 air 패스(9월 현물 프리패스)            디자인    올인원   \n",
       "100840                       올인원 패키지 : 완전정복 시각디자인 기초            디자인    올인원   \n",
       "\n",
       "              completed_at  transaction_amount  ... method  subcategory_title  \\\n",
       "93215  2021-09-01 14:04:44              330000  ...   CARD               파이낸스   \n",
       "93380  2021-09-02 08:12:13              330000  ...   CARD               파이낸스   \n",
       "93712  2021-09-03 13:00:27              330000  ...   CARD               파이낸스   \n",
       "93936  2021-09-04 16:04:50              330000  ...   CARD               파이낸스   \n",
       "94034  2021-09-05 02:52:32              330000  ...   CARD               파이낸스   \n",
       "...                    ...                 ...  ...    ...                ...   \n",
       "100540 2021-09-23 13:46:36             -164000  ...   CARD              시각디자인   \n",
       "100550 2021-09-23 14:00:58             -169000  ...   CARD               일러스트   \n",
       "100574 2021-09-23 14:52:48            -1400000  ...   CARD                디자인   \n",
       "100788 2021-09-24 10:57:42            -1400000  ...   CARD                디자인   \n",
       "100840 2021-09-24 13:43:57              -72000  ...   CARD              시각디자인   \n",
       "\n",
       "         marketing_start_at  Year Month Day Hour    Weekday  month_year  \\\n",
       "93215   2018-11-11 00:00:00  2021     9   1   14  Wednesday     2021-09   \n",
       "93380   2018-11-11 00:00:00  2021     9   2    8   Thursday     2021-09   \n",
       "93712   2018-11-11 00:00:00  2021     9   3   13     Friday     2021-09   \n",
       "93936   2018-11-11 00:00:00  2021     9   4   16   Saturday     2021-09   \n",
       "94034   2018-11-11 00:00:00  2021     9   5    2     Sunday     2021-09   \n",
       "...                     ...   ...   ...  ..  ...        ...         ...   \n",
       "100540  2021-03-16 00:00:00  2021     9  23   13   Thursday     2021-09   \n",
       "100550  2021-05-25 00:00:00  2021     9  23   14   Thursday     2021-09   \n",
       "100574  2018-11-11 00:00:00  2021     9  23   14   Thursday     2021-09   \n",
       "100788  2018-11-11 00:00:00  2021     9  24   10     Friday     2021-09   \n",
       "100840  2021-03-16 00:00:00  2021     9  24   13     Friday     2021-09   \n",
       "\n",
       "        quarter  \n",
       "93215    2021Q3  \n",
       "93380    2021Q3  \n",
       "93712    2021Q3  \n",
       "93936    2021Q3  \n",
       "94034    2021Q3  \n",
       "...         ...  \n",
       "100540   2021Q3  \n",
       "100550   2021Q3  \n",
       "100574   2021Q3  \n",
       "100788   2021Q3  \n",
       "100840   2021Q3  \n",
       "\n",
       "[13973 rows x 24 columns]"
      ]
     },
     "execution_count": 242,
     "metadata": {},
     "output_type": "execute_result"
    }
   ],
   "source": [
    "cate_tail10 = pd.concat([d1,d2,d3,d4,d5,d6,d7,d8,d9,d10])\n",
    "cate_tail10"
   ]
  },
  {
   "cell_type": "code",
   "execution_count": 245,
   "id": "5458d1c6",
   "metadata": {
    "ExecuteTime": {
     "end_time": "2022-07-02T18:37:06.157618Z",
     "start_time": "2022-07-02T18:37:05.970262Z"
    }
   },
   "outputs": [
    {
     "data": {
      "image/png": "[encoded data removed]",
      "text/plain": [
       "<Figure size 648x504 with 1 Axes>"
      ]
     },
     "metadata": {},
     "output_type": "display_data"
    }
   ],
   "source": [
    "plt.figure(figsize=(9, 7))\n",
    "# plt.xticks(rotation = -90)\n",
    "sns.countplot(data = cate_tail10, x='Month', hue='category_title', palette='Set2')\n",
    "plt.title('순위 뒤에서 10위 카테고리 그래프')\n",
    "plt.show()"
   ]
  },
  {
   "cell_type": "markdown",
   "id": "4d84c831",
   "metadata": {},
   "source": [
    "# 수강 신청 행동 패턴 분석"
   ]
  },
  {
   "cell_type": "markdown",
   "id": "db7bb03d",
   "metadata": {},
   "source": [
    "## cancelled 가장 많은 강좌(구매가 많은게 환불이 많은가? 주의)"
   ]
  },
  {
   "cell_type": "code",
   "execution_count": 18,
   "id": "9a8dec84",
   "metadata": {
    "ExecuteTime": {
     "end_time": "2022-07-03T03:33:23.585514Z",
     "start_time": "2022-07-03T03:33:23.563757Z"
    }
   },
   "outputs": [
    {
     "data": {
      "text/plain": [
       "array(['ORDER', 'PAYMENT', 'REFUND'], dtype=object)"
      ]
     },
     "execution_count": 18,
     "metadata": {},
     "output_type": "execute_result"
    }
   ],
   "source": [
    "df['type'].unique()"
   ]
  },
  {
   "cell_type": "code",
   "execution_count": 19,
   "id": "6a3c6742",
   "metadata": {
    "ExecuteTime": {
     "end_time": "2022-07-03T03:33:24.268420Z",
     "start_time": "2022-07-03T03:33:24.245690Z"
    }
   },
   "outputs": [
    {
     "data": {
      "text/plain": [
       "array(['CANCELLED', 'COMPLETED', 'PENDING', 'DELETED', 'REQUESTED'],\n",
       "      dtype=object)"
      ]
     },
     "execution_count": 19,
     "metadata": {},
     "output_type": "execute_result"
    }
   ],
   "source": [
    "df['state'].unique()"
   ]
  },
  {
   "cell_type": "markdown",
   "id": "725b0402",
   "metadata": {},
   "source": [
    "타입은 order인데 state는 취소인 강좌 찾기"
   ]
  },
  {
   "cell_type": "code",
   "execution_count": 20,
   "id": "642d001a",
   "metadata": {
    "ExecuteTime": {
     "end_time": "2022-07-03T03:33:25.522389Z",
     "start_time": "2022-07-03T03:33:25.484935Z"
    }
   },
   "outputs": [],
   "source": [
    "cc = df[(df['type'] == 'ORDER') & (df['state'] == 'CANCELLED')]"
   ]
  },
  {
   "cell_type": "markdown",
   "id": "8f06412d",
   "metadata": {},
   "source": [
    "### 취소가 많은  1~20위 까지의  강의  목록(cancelled)"
   ]
  },
  {
   "cell_type": "code",
   "execution_count": 24,
   "id": "22cc5744",
   "metadata": {
    "ExecuteTime": {
     "end_time": "2022-07-03T03:34:31.511276Z",
     "start_time": "2022-07-03T03:34:31.485345Z"
    }
   },
   "outputs": [
    {
     "data": {
      "text/plain": [
       "course_title\n",
       "초격차 패키지 : 한 번에 끝내는 프론트엔드 개발                                           1331\n",
       "초격차 패키지 : 한번에 끝내는 영상 촬영과 편집                                            998\n",
       "초격차 패키지 : 한번에 끝내는 Java/Spring 웹 개발 마스터                                 942\n",
       "초격차 패키지 : 한번에 끝내는 디자인 툴                                                640\n",
       "입만 열면 인정받는 스피치 10분컷                                                    620\n",
       "올인원 패키지 : 김민태의 프론트엔드 아카데미 : 제 1강 JavaScript & TypeScript Essential     598\n",
       "초격차 패키지 : 한 번에 끝내는 엑셀 실무                                               594\n",
       "초격차 패키지 : 30개 프로젝트로 배우는 Android 앱 개발 with Kotlin                       573\n",
       "올인원 패키지 : 완전정복 시각디자인 기초                                                539\n",
       "초격차 패키지 : 한번에 끝내는 PPT 제작/디자인                                           512\n",
       "초격차 패키지 : 한번에 끝내는 모션그래픽                                                499\n",
       "올인원 패키지 : 디지털 마케팅 MAX 2020                                             487\n",
       "초격차 패키지 : 한 번에 끝내는 데이터 분석 툴                                            485\n",
       "초격차 패키지 : 한번에 끝내는 UX/UI 디자인                                            480\n",
       "올인원 패키지 : star741의 캐주얼 일러스트 드로잉                                        469\n",
       "올인원 패키지 : GA4 탑재, 구글 애널리틱스 끝장내기                                        467\n",
       "올인원 패키지 : 알고리즘 기술면접 완전 정복                                              418\n",
       "올인원 패키지 : 컴퓨터 공학 전공 필수                                                 409\n",
       "초격차 패키지 : 한 번에 끝내는 node.js 웹 프로그래밍                                     375\n",
       "올인원 패키지 : 파이썬 웹 개발                                                     371\n",
       "Name: state, dtype: int64"
      ]
     },
     "execution_count": 24,
     "metadata": {},
     "output_type": "execute_result"
    }
   ],
   "source": [
    "c1 = cc.groupby('course_title')['state']\n",
    "c_sum = c1.count()\n",
    "c_desc = c_sum.sort_values(ascending=False)\n",
    "canc = c_desc.head(20)\n",
    "canc"
   ]
  },
  {
   "cell_type": "code",
   "execution_count": 45,
   "id": "a64238af",
   "metadata": {
    "ExecuteTime": {
     "end_time": "2022-07-03T07:39:50.893037Z",
     "start_time": "2022-07-03T07:39:50.889303Z"
    }
   },
   "outputs": [],
   "source": [
    "# 거의 성공한 듯 하나 더 만질 수 있는 시간이 없어서... 그냥 넘어갈게요.ㅠㅜㅠㅜ\n",
    "# f1_list = []\n",
    "# for i in canc.index:\n",
    "#     f1 = cc[(cc['course_title'] == i) & (cc['Month'])]\n",
    "#     print(f1[f1['course_title']])"
   ]
  },
  {
   "cell_type": "code",
   "execution_count": 46,
   "id": "2fbe71c0",
   "metadata": {
    "ExecuteTime": {
     "end_time": "2022-07-03T07:42:07.453592Z",
     "start_time": "2022-07-03T07:42:07.423108Z"
    }
   },
   "outputs": [],
   "source": [
    "e1= cc[(cc['course_title'] == '초격차 패키지 : 한 번에 끝내는 프론트엔드 개발') & (cc['Month'])]\n",
    "e2= cc[(cc['course_title'] == '초격차 패키지 : 한번에 끝내는 영상 촬영과 편집') & (cc['Month'])]\n",
    "e3= cc[(cc['course_title'] == '초격차 패키지 : 한번에 끝내는 Java/Spring 웹 개발 마스터') & (cc['Month'])]\n",
    "e4= cc[(cc['course_title'] == '초격차 패키지 : 한번에 끝내는 디자인 툴') & (cc['Month'])]\n",
    "e5= cc[(cc['course_title'] == '입만 열면 인정받는 스피치 10분컷') & (cc['Month'])]"
   ]
  },
  {
   "cell_type": "code",
   "execution_count": 47,
   "id": "6afe7477",
   "metadata": {
    "ExecuteTime": {
     "end_time": "2022-07-03T07:42:35.830070Z",
     "start_time": "2022-07-03T07:42:35.819471Z"
    }
   },
   "outputs": [],
   "source": [
    "cantop10 = pd.concat([e1,e2,e3,e4,e5])"
   ]
  },
  {
   "cell_type": "code",
   "execution_count": 66,
   "id": "202ea8b3",
   "metadata": {
    "ExecuteTime": {
     "end_time": "2022-07-03T08:04:55.595344Z",
     "start_time": "2022-07-03T08:04:55.455547Z"
    }
   },
   "outputs": [
    {
     "data": {
      "image/png": "[encoded data removed]",
      "text/plain": [
       "<Figure size 864x504 with 1 Axes>"
      ]
     },
     "metadata": {},
     "output_type": "display_data"
    }
   ],
   "source": [
    "plt.rcParams['font.family'] = 'AppleGothic'\n",
    "plt.figure(figsize=(12, 7))\n",
    "# plt.xticks(rotation = -90)\n",
    "sns.countplot(data = cantop10, x='Month', hue='course_title', palette='spring')\n",
    "plt.title('순위 5위 취소강좌 그래프')\n",
    "plt.show()"
   ]
  },
  {
   "cell_type": "markdown",
   "id": "f2fa8966",
   "metadata": {},
   "source": [
    "### 취소가 가장 적은 1~20위 강의 목록"
   ]
  },
  {
   "cell_type": "code",
   "execution_count": 471,
   "id": "4990b575",
   "metadata": {
    "ExecuteTime": {
     "end_time": "2022-07-02T15:00:16.238827Z",
     "start_time": "2022-07-02T15:00:16.211963Z"
    }
   },
   "outputs": [
    {
     "data": {
      "text/plain": [
       "course_title\n",
       "(test)프로모션 강의 페이지                                            1\n",
       "[한정판매] 딥러닝 끝장 패키지(~5월)                                       1\n",
       "[한정판매] 자연어 A-Z 끝장 패키지(~7월)                                   1\n",
       "데이터분석 프로젝트+자격증 온라인 완주반 2기                                    1\n",
       "매주)서비스 기획서 완성 온라인 완주반                                        1\n",
       "스프링 아카데미아 강의 5 - Spring Security 인증 커스텀을 통한 서비스 구축           1\n",
       "스프링 아카데미아 강의 8 - Spring Security를 통한 MFA 구현                  1\n",
       "승인받는 이모티콘 만들기 온라인 완주반 1기                                     1\n",
       "엑셀 온라인 완주반 3기                                                1\n",
       "프로모션 : 풀스택 마케터를 위한 마케팅 프리패스 (5월 삼성 패키지 현물 :  삼성노트북 플러스2)     1\n",
       "프로모션 : 풀스택 마케터를 위한 마케팅 프리패스 (5월 삼성 패키지 현물 :  삼성 갤럭시 북 프로)    1\n",
       "프로모션 : 딥러닝 A to Z까지 한 번에 마스터하는 iPad 패키지 (7월 현물 프리패스)         1\n",
       "올인원 패키지 : 1인 쇼핑몰 시작하기 (2020)                                 1\n",
       "프로모션 : 풀스택 데이터 사이언티스트를 위한 필수 iPad 패키지 (7월 현물 프리패스)           1\n",
       "프로모션 : 데이터 분석 A to Z 평생 PASS (10월)                           1\n",
       "프로모션 : 데이터 보는 눈을 바꿔 줄 데이터 마케팅 한끝세트 (3월 프리패스)                 1\n",
       "프로모션 : 트렌드 완벽정복! 일잘러 마케터  iPad 패키지 (7월 현물 프리패스)              1\n",
       "프로모션 : 투자의 방향성을 세우는 기업분석 무제한 패스 (4월 프리패스)                    1\n",
       "프로모션 : Top tier 프로젝트를 만드는 한끝세트 (3월 프리패스)                     1\n",
       "프로모션 : 콘텐츠 디자이너를 위한 커리어 백과사전 한끝세트 (3월 프리패스)                  1\n",
       "Name: state, dtype: int64"
      ]
     },
     "execution_count": 471,
     "metadata": {},
     "output_type": "execute_result"
    }
   ],
   "source": [
    "c1 = cc.groupby('course_title')['state']\n",
    "c_sum = c1.count()\n",
    "c_desc = c_sum.sort_values(ascending=True)\n",
    "c_desc.head(20)"
   ]
  },
  {
   "cell_type": "markdown",
   "id": "4c0d021f",
   "metadata": {},
   "source": [
    "### 환불이 많은  1~20위 까지의  강의  목록(refund)"
   ]
  },
  {
   "cell_type": "markdown",
   "id": "79fc696f",
   "metadata": {},
   "source": [
    "type이 refund이면서 state는 completed인 것"
   ]
  },
  {
   "cell_type": "code",
   "execution_count": 474,
   "id": "3929c2cc",
   "metadata": {
    "ExecuteTime": {
     "end_time": "2022-07-02T15:03:05.720284Z",
     "start_time": "2022-07-02T15:03:05.688144Z"
    }
   },
   "outputs": [],
   "source": [
    "rc = df[(df['type'] == 'REFUND') & (df['state'] == 'COMPLETED')]"
   ]
  },
  {
   "cell_type": "code",
   "execution_count": 481,
   "id": "4026dace",
   "metadata": {
    "ExecuteTime": {
     "end_time": "2022-07-02T15:05:04.008188Z",
     "start_time": "2022-07-02T15:05:04.002939Z"
    }
   },
   "outputs": [
    {
     "data": {
      "text/plain": [
       "course_title\n",
       "초격차 패키지 : 한 번에 끝내는 프론트엔드 개발                                           121\n",
       "초격차 패키지 : 한번에 끝내는 Java/Spring 웹 개발 마스터                                105\n",
       "초격차 패키지 : 한 번에 끝내는 node.js 웹 프로그래밍                                     68\n",
       "올인원 패키지 : star741의 캐주얼 일러스트 드로잉                                        65\n",
       "초격차 패키지 : 한번에 끝내는 디자인 툴                                                64\n",
       "초격차 패키지 : 30개 프로젝트로 배우는 Android 앱 개발 with Kotlin                       63\n",
       "초격차 패키지 : 한번에 끝내는 영상 촬영과 편집                                            60\n",
       "The RED : 김영하 작가의 내 안의 숨은 이야기를 찾아 쓰는 법                                 57\n",
       "올인원 패키지 : 아카데미 : 편집하는여자의 영상편집 마스터클래스 - 제 1강 프리미어프로 베이직                 55\n",
       "올인원 패키지 : 김민태의 프론트엔드 아카데미 : 제 1강 JavaScript & TypeScript Essential     53\n",
       "초격차 패키지 : 한번에 끝내는 모션그래픽                                                50\n",
       "초격차 패키지 : 한번에 끝내는 UX/UI 디자인                                            50\n",
       "초격차 패키지 : 한번에 끝내는 PPT 제작/디자인                                           50\n",
       "올인원 패키지 : 박세익 전무에게 배우는 주식 시장 분석 & 포트폴리오 운용 전략                          47\n",
       "올인원 패키지 : 완전정복 시각디자인 기초                                                46\n",
       "초격차 패키지 : 한 번에 끝내는 파이썬 웹 개발                                            46\n",
       "초격차 패키지 : 일잘러 필수 스킬 모음.zip                                             43\n",
       "초격차 패키지 : 세상의 모든 감성 아이패드 드로잉                                           43\n",
       "매주)디지털 마케팅 온라인 완주반                                                     43\n",
       "초격차 패키지 : 한 번에 끝내는 코딩테스트 369 Java편                                     38\n",
       "Name: type, dtype: int64"
      ]
     },
     "execution_count": 481,
     "metadata": {},
     "output_type": "execute_result"
    }
   ],
   "source": [
    "rc1 = rc.groupby('course_title')['type']\n",
    "rc_c = rc1.count()\n",
    "rc_a = rc_c.sort_values(ascending=False)\n",
    "rcc = rc_a.head(20)\n",
    "rcc"
   ]
  },
  {
   "cell_type": "markdown",
   "id": "a7bc00ac",
   "metadata": {},
   "source": [
    "### 환불률이 가장 적은 1~20위 강의 목록"
   ]
  },
  {
   "cell_type": "code",
   "execution_count": 482,
   "id": "4fc7c783",
   "metadata": {
    "ExecuteTime": {
     "end_time": "2022-07-02T15:05:31.609642Z",
     "start_time": "2022-07-02T15:05:31.594635Z"
    }
   },
   "outputs": [
    {
     "data": {
      "text/plain": [
       "course_title\n",
       "(test)프로모션 강의 페이지                                    1\n",
       "프로모션 : 온라인 창업 될 때 까지 무제한 패스 (4월 프리패스)                1\n",
       "올인원 패키지 : 콘텐츠 마케팅                                    1\n",
       "프로모션 : 영알못도 완성하는 영상편집 무제한 99패스 (5월 프리패스)             1\n",
       "올인원 패키지 : 파이썬을 활용한 시계열 데이터 분석 A-Z                    1\n",
       "프로모션 : 영상그래픽 디자인 맥북 pro 패스(9월 현물 프리패스)               1\n",
       "제품 디자인 포트폴리오 온라인 완주반 2기                              1\n",
       "프로모션 : 영상 퀄리티를 바꿔 줄 영상 제작 스킬 무제한 99패스 (5월 프리패스)      1\n",
       "프로모션 : 유튜버 따라잡고 실버버튼 받는 영상 평생 PASS (8월 프리패스)         1\n",
       "프로모션 : 영상 퀄리티를 높이는 전문가 편집스킬 벼락치기 패키지 (9월 프리패스)       1\n",
       "프로모션 : 연봉 앞자리가 바뀌는 앱개발 무제한 패스 (4월 프리패스)              1\n",
       "초격차 패키지 : 한 번에 끝내는 AWS 인프라 구축과 DevOps 운영 v.1 (폐강)    1\n",
       "프로모션 : 연봉 앞자리가 바뀌는 앱개발 iPad 패키지 (7월 현물 프리패스)         1\n",
       "프로모션 : 아이패드 200%활용 드로잉 만랩 iPad 패키지 (7월 현물 프리패스)      1\n",
       "프로모션 : 시장의 흐름을 읽는 투자의 정석 평생 PASS  (8월 프리패스)          1\n",
       "프로모션 : 시장의 흐름을 읽는 투자의 정석 벼락치기 패키지  (9월 프리패스)         1\n",
       "프로모션 : 비전공자를 위한 데이터 분석 왕초보 입문 무한패스 (9월 프리패스)         1\n",
       "프로모션 : 영상 퀄리티를 높이는 전문가 편집스킬 PASS (7월 프리패스)           1\n",
       "프로모션 : 부동산 재테크 맥북 pro 패스 (9월 현물 프리패스) - 수정           1\n",
       "올인원 패키지 : 영상 제작/편집 (**운영되지 않는 코스입니다)                 1\n",
       "Name: type, dtype: int64"
      ]
     },
     "execution_count": 482,
     "metadata": {},
     "output_type": "execute_result"
    }
   ],
   "source": [
    "rc1 = rc.groupby('course_title')['type']\n",
    "rc_c = rc1.count()\n",
    "rc_a = rc_c.sort_values(ascending=True)\n",
    "rcc = rc_a.head(20)\n",
    "rcc"
   ]
  },
  {
   "cell_type": "markdown",
   "id": "7f33435e",
   "metadata": {},
   "source": [
    "### 구매 & 환불의 상관관계"
   ]
  },
  {
   "cell_type": "code",
   "execution_count": 125,
   "id": "afaaed7f",
   "metadata": {
    "ExecuteTime": {
     "end_time": "2022-07-03T09:44:08.109274Z",
     "start_time": "2022-07-03T09:44:08.095908Z"
    }
   },
   "outputs": [
    {
     "data": {
      "text/plain": [
       "<pandas.core.groupby.generic.SeriesGroupBy object at 0x7f9e094d4280>"
      ]
     },
     "execution_count": 125,
     "metadata": {},
     "output_type": "execute_result"
    }
   ],
   "source": [
    "tt = com_Pay_Re.groupby('type')['transaction_amount']\n"
   ]
  },
  {
   "cell_type": "code",
   "execution_count": 124,
   "id": "47a7a984",
   "metadata": {
    "ExecuteTime": {
     "end_time": "2022-07-03T09:43:08.121435Z",
     "start_time": "2022-07-03T09:43:08.077470Z"
    }
   },
   "outputs": [
    {
     "data": {
      "text/html": [
       "<div>\n",
       "<style scoped>\n",
       "    .dataframe tbody tr th:only-of-type {\n",
       "        vertical-align: middle;\n",
       "    }\n",
       "\n",
       "    .dataframe tbody tr th {\n",
       "        vertical-align: top;\n",
       "    }\n",
       "\n",
       "    .dataframe thead th {\n",
       "        text-align: right;\n",
       "    }\n",
       "</style>\n",
       "<table border=\"1\" class=\"dataframe\">\n",
       "  <thead>\n",
       "    <tr style=\"text-align: right;\">\n",
       "      <th></th>\n",
       "      <th>id</th>\n",
       "      <th>customer_id</th>\n",
       "      <th>course_id</th>\n",
       "      <th>type</th>\n",
       "      <th>state</th>\n",
       "      <th>course_title</th>\n",
       "      <th>category_title</th>\n",
       "      <th>format</th>\n",
       "      <th>completed_at</th>\n",
       "      <th>transaction_amount</th>\n",
       "      <th>...</th>\n",
       "      <th>pg</th>\n",
       "      <th>method</th>\n",
       "      <th>subcategory_title</th>\n",
       "      <th>marketing_start_at</th>\n",
       "      <th>Year</th>\n",
       "      <th>Month</th>\n",
       "      <th>Day</th>\n",
       "      <th>Hour</th>\n",
       "      <th>Weekday</th>\n",
       "      <th>m-d</th>\n",
       "    </tr>\n",
       "  </thead>\n",
       "  <tbody>\n",
       "    <tr>\n",
       "      <th>124</th>\n",
       "      <td>971033</td>\n",
       "      <td>386368</td>\n",
       "      <td>201582</td>\n",
       "      <td>PAYMENT</td>\n",
       "      <td>COMPLETED</td>\n",
       "      <td>올인원 패키지 : 컴퓨터 공학 전공 필수</td>\n",
       "      <td>프로그래밍</td>\n",
       "      <td>올인원</td>\n",
       "      <td>2021-03-28 18:55:04</td>\n",
       "      <td>119225</td>\n",
       "      <td>...</td>\n",
       "      <td>COMM</td>\n",
       "      <td>CARD</td>\n",
       "      <td>개발자 커리어</td>\n",
       "      <td>2019-09-30 00:00:00</td>\n",
       "      <td>2021</td>\n",
       "      <td>3</td>\n",
       "      <td>28</td>\n",
       "      <td>18</td>\n",
       "      <td>Sunday</td>\n",
       "      <td>0328</td>\n",
       "    </tr>\n",
       "    <tr>\n",
       "      <th>385</th>\n",
       "      <td>971708</td>\n",
       "      <td>77799</td>\n",
       "      <td>203047</td>\n",
       "      <td>PAYMENT</td>\n",
       "      <td>COMPLETED</td>\n",
       "      <td>올인원 패키지 : 파이썬을 활용한 시계열 데이터 분석 A-Z</td>\n",
       "      <td>데이터사이언스</td>\n",
       "      <td>올인원</td>\n",
       "      <td>2021-03-28 22:53:32</td>\n",
       "      <td>182875</td>\n",
       "      <td>...</td>\n",
       "      <td>COMM</td>\n",
       "      <td>CARD</td>\n",
       "      <td>데이터분석</td>\n",
       "      <td>2020-08-21 00:00:00</td>\n",
       "      <td>2021</td>\n",
       "      <td>3</td>\n",
       "      <td>28</td>\n",
       "      <td>22</td>\n",
       "      <td>Sunday</td>\n",
       "      <td>0328</td>\n",
       "    </tr>\n",
       "    <tr>\n",
       "      <th>12006</th>\n",
       "      <td>1006508</td>\n",
       "      <td>178328</td>\n",
       "      <td>200543</td>\n",
       "      <td>PAYMENT</td>\n",
       "      <td>COMPLETED</td>\n",
       "      <td>올인원 패키지 : 프론트엔드 (React)</td>\n",
       "      <td>프로그래밍</td>\n",
       "      <td>올인원</td>\n",
       "      <td>2021-04-12 13:30:52</td>\n",
       "      <td>135375</td>\n",
       "      <td>...</td>\n",
       "      <td>INICIS</td>\n",
       "      <td>CARD</td>\n",
       "      <td>프로그래밍</td>\n",
       "      <td>2019-04-19 00:00:00</td>\n",
       "      <td>2021</td>\n",
       "      <td>4</td>\n",
       "      <td>12</td>\n",
       "      <td>13</td>\n",
       "      <td>Monday</td>\n",
       "      <td>0412</td>\n",
       "    </tr>\n",
       "    <tr>\n",
       "      <th>12127</th>\n",
       "      <td>1006965</td>\n",
       "      <td>107437</td>\n",
       "      <td>202614</td>\n",
       "      <td>PAYMENT</td>\n",
       "      <td>COMPLETED</td>\n",
       "      <td>올인원 패키지 : 컴퓨터비전과 딥러닝</td>\n",
       "      <td>데이터사이언스</td>\n",
       "      <td>올인원</td>\n",
       "      <td>2021-04-12 16:45:21</td>\n",
       "      <td>153425</td>\n",
       "      <td>...</td>\n",
       "      <td>INICIS</td>\n",
       "      <td>VBANK</td>\n",
       "      <td>딥러닝/인공지능</td>\n",
       "      <td>2020-05-20 00:00:00</td>\n",
       "      <td>2021</td>\n",
       "      <td>4</td>\n",
       "      <td>12</td>\n",
       "      <td>16</td>\n",
       "      <td>Monday</td>\n",
       "      <td>0412</td>\n",
       "    </tr>\n",
       "    <tr>\n",
       "      <th>12453</th>\n",
       "      <td>1008227</td>\n",
       "      <td>85533</td>\n",
       "      <td>201520</td>\n",
       "      <td>PAYMENT</td>\n",
       "      <td>COMPLETED</td>\n",
       "      <td>올인원 패키지 : AWS/Docker 클라우드 서버 구축</td>\n",
       "      <td>프로그래밍</td>\n",
       "      <td>올인원</td>\n",
       "      <td>2021-04-13 13:01:26</td>\n",
       "      <td>103075</td>\n",
       "      <td>...</td>\n",
       "      <td>INICIS</td>\n",
       "      <td>CARD</td>\n",
       "      <td>DevOps</td>\n",
       "      <td>2018-11-11 00:00:00</td>\n",
       "      <td>2021</td>\n",
       "      <td>4</td>\n",
       "      <td>13</td>\n",
       "      <td>13</td>\n",
       "      <td>Tuesday</td>\n",
       "      <td>0413</td>\n",
       "    </tr>\n",
       "    <tr>\n",
       "      <th>...</th>\n",
       "      <td>...</td>\n",
       "      <td>...</td>\n",
       "      <td>...</td>\n",
       "      <td>...</td>\n",
       "      <td>...</td>\n",
       "      <td>...</td>\n",
       "      <td>...</td>\n",
       "      <td>...</td>\n",
       "      <td>...</td>\n",
       "      <td>...</td>\n",
       "      <td>...</td>\n",
       "      <td>...</td>\n",
       "      <td>...</td>\n",
       "      <td>...</td>\n",
       "      <td>...</td>\n",
       "      <td>...</td>\n",
       "      <td>...</td>\n",
       "      <td>...</td>\n",
       "      <td>...</td>\n",
       "      <td>...</td>\n",
       "      <td>...</td>\n",
       "    </tr>\n",
       "    <tr>\n",
       "      <th>52906</th>\n",
       "      <td>1142584</td>\n",
       "      <td>463149</td>\n",
       "      <td>204774</td>\n",
       "      <td>PAYMENT</td>\n",
       "      <td>COMPLETED</td>\n",
       "      <td>기초 회화부터 비즈니스 영어 10분컷</td>\n",
       "      <td>업무 생산성</td>\n",
       "      <td>하루10분컷</td>\n",
       "      <td>2021-06-15 00:50:30</td>\n",
       "      <td>23655</td>\n",
       "      <td>...</td>\n",
       "      <td>KAKAO</td>\n",
       "      <td>CARD</td>\n",
       "      <td>업무 생산성</td>\n",
       "      <td>2021-04-28 00:00:00</td>\n",
       "      <td>2021</td>\n",
       "      <td>6</td>\n",
       "      <td>15</td>\n",
       "      <td>0</td>\n",
       "      <td>Tuesday</td>\n",
       "      <td>0615</td>\n",
       "    </tr>\n",
       "    <tr>\n",
       "      <th>53300</th>\n",
       "      <td>1144064</td>\n",
       "      <td>554151</td>\n",
       "      <td>205314</td>\n",
       "      <td>PAYMENT</td>\n",
       "      <td>COMPLETED</td>\n",
       "      <td>일상을 담는 아이패드 드로잉 10분컷</td>\n",
       "      <td>업무 생산성</td>\n",
       "      <td>하루10분컷</td>\n",
       "      <td>2021-06-15 20:57:29</td>\n",
       "      <td>23655</td>\n",
       "      <td>...</td>\n",
       "      <td>INICIS</td>\n",
       "      <td>CARD</td>\n",
       "      <td>업무 생산성</td>\n",
       "      <td>2021-05-14 00:00:00</td>\n",
       "      <td>2021</td>\n",
       "      <td>6</td>\n",
       "      <td>15</td>\n",
       "      <td>20</td>\n",
       "      <td>Tuesday</td>\n",
       "      <td>0615</td>\n",
       "    </tr>\n",
       "    <tr>\n",
       "      <th>53616</th>\n",
       "      <td>1145264</td>\n",
       "      <td>105594</td>\n",
       "      <td>205314</td>\n",
       "      <td>PAYMENT</td>\n",
       "      <td>COMPLETED</td>\n",
       "      <td>일상을 담는 아이패드 드로잉 10분컷</td>\n",
       "      <td>업무 생산성</td>\n",
       "      <td>하루10분컷</td>\n",
       "      <td>2021-06-16 15:35:20</td>\n",
       "      <td>23655</td>\n",
       "      <td>...</td>\n",
       "      <td>INICIS</td>\n",
       "      <td>CARD</td>\n",
       "      <td>업무 생산성</td>\n",
       "      <td>2021-05-14 00:00:00</td>\n",
       "      <td>2021</td>\n",
       "      <td>6</td>\n",
       "      <td>16</td>\n",
       "      <td>15</td>\n",
       "      <td>Wednesday</td>\n",
       "      <td>0616</td>\n",
       "    </tr>\n",
       "    <tr>\n",
       "      <th>55161</th>\n",
       "      <td>1151641</td>\n",
       "      <td>21745</td>\n",
       "      <td>205314</td>\n",
       "      <td>PAYMENT</td>\n",
       "      <td>COMPLETED</td>\n",
       "      <td>일상을 담는 아이패드 드로잉 10분컷</td>\n",
       "      <td>업무 생산성</td>\n",
       "      <td>하루10분컷</td>\n",
       "      <td>2021-06-19 21:01:48</td>\n",
       "      <td>23655</td>\n",
       "      <td>...</td>\n",
       "      <td>INICIS</td>\n",
       "      <td>CARD</td>\n",
       "      <td>업무 생산성</td>\n",
       "      <td>2021-05-14 00:00:00</td>\n",
       "      <td>2021</td>\n",
       "      <td>6</td>\n",
       "      <td>19</td>\n",
       "      <td>21</td>\n",
       "      <td>Saturday</td>\n",
       "      <td>0619</td>\n",
       "    </tr>\n",
       "    <tr>\n",
       "      <th>55286</th>\n",
       "      <td>1152071</td>\n",
       "      <td>77838</td>\n",
       "      <td>204775</td>\n",
       "      <td>PAYMENT</td>\n",
       "      <td>COMPLETED</td>\n",
       "      <td>입만 열면 인정받는 스피치 10분컷</td>\n",
       "      <td>업무 생산성</td>\n",
       "      <td>하루10분컷</td>\n",
       "      <td>2021-06-20 02:21:07</td>\n",
       "      <td>23655</td>\n",
       "      <td>...</td>\n",
       "      <td>PAYCO</td>\n",
       "      <td>CARD</td>\n",
       "      <td>업무 생산성</td>\n",
       "      <td>2021-04-28 00:00:00</td>\n",
       "      <td>2021</td>\n",
       "      <td>6</td>\n",
       "      <td>20</td>\n",
       "      <td>2</td>\n",
       "      <td>Sunday</td>\n",
       "      <td>0620</td>\n",
       "    </tr>\n",
       "  </tbody>\n",
       "</table>\n",
       "<p>80 rows × 23 columns</p>\n",
       "</div>"
      ],
      "text/plain": [
       "            id  customer_id  course_id     type      state  \\\n",
       "124     971033       386368     201582  PAYMENT  COMPLETED   \n",
       "385     971708        77799     203047  PAYMENT  COMPLETED   \n",
       "12006  1006508       178328     200543  PAYMENT  COMPLETED   \n",
       "12127  1006965       107437     202614  PAYMENT  COMPLETED   \n",
       "12453  1008227        85533     201520  PAYMENT  COMPLETED   \n",
       "...        ...          ...        ...      ...        ...   \n",
       "52906  1142584       463149     204774  PAYMENT  COMPLETED   \n",
       "53300  1144064       554151     205314  PAYMENT  COMPLETED   \n",
       "53616  1145264       105594     205314  PAYMENT  COMPLETED   \n",
       "55161  1151641        21745     205314  PAYMENT  COMPLETED   \n",
       "55286  1152071        77838     204775  PAYMENT  COMPLETED   \n",
       "\n",
       "                            course_title category_title  format  \\\n",
       "124               올인원 패키지 : 컴퓨터 공학 전공 필수          프로그래밍     올인원   \n",
       "385    올인원 패키지 : 파이썬을 활용한 시계열 데이터 분석 A-Z        데이터사이언스     올인원   \n",
       "12006            올인원 패키지 : 프론트엔드 (React)          프로그래밍     올인원   \n",
       "12127               올인원 패키지 : 컴퓨터비전과 딥러닝        데이터사이언스     올인원   \n",
       "12453    올인원 패키지 : AWS/Docker 클라우드 서버 구축          프로그래밍     올인원   \n",
       "...                                  ...            ...     ...   \n",
       "52906               기초 회화부터 비즈니스 영어 10분컷         업무 생산성  하루10분컷   \n",
       "53300               일상을 담는 아이패드 드로잉 10분컷         업무 생산성  하루10분컷   \n",
       "53616               일상을 담는 아이패드 드로잉 10분컷         업무 생산성  하루10분컷   \n",
       "55161               일상을 담는 아이패드 드로잉 10분컷         업무 생산성  하루10분컷   \n",
       "55286                입만 열면 인정받는 스피치 10분컷         업무 생산성  하루10분컷   \n",
       "\n",
       "             completed_at  transaction_amount  ...      pg  method  \\\n",
       "124   2021-03-28 18:55:04              119225  ...    COMM    CARD   \n",
       "385   2021-03-28 22:53:32              182875  ...    COMM    CARD   \n",
       "12006 2021-04-12 13:30:52              135375  ...  INICIS    CARD   \n",
       "12127 2021-04-12 16:45:21              153425  ...  INICIS   VBANK   \n",
       "12453 2021-04-13 13:01:26              103075  ...  INICIS    CARD   \n",
       "...                   ...                 ...  ...     ...     ...   \n",
       "52906 2021-06-15 00:50:30               23655  ...   KAKAO    CARD   \n",
       "53300 2021-06-15 20:57:29               23655  ...  INICIS    CARD   \n",
       "53616 2021-06-16 15:35:20               23655  ...  INICIS    CARD   \n",
       "55161 2021-06-19 21:01:48               23655  ...  INICIS    CARD   \n",
       "55286 2021-06-20 02:21:07               23655  ...   PAYCO    CARD   \n",
       "\n",
       "       subcategory_title   marketing_start_at  Year Month Day  Hour  \\\n",
       "124              개발자 커리어  2019-09-30 00:00:00  2021     3  28    18   \n",
       "385                데이터분석  2020-08-21 00:00:00  2021     3  28    22   \n",
       "12006              프로그래밍  2019-04-19 00:00:00  2021     4  12    13   \n",
       "12127           딥러닝/인공지능  2020-05-20 00:00:00  2021     4  12    16   \n",
       "12453             DevOps  2018-11-11 00:00:00  2021     4  13    13   \n",
       "...                  ...                  ...   ...   ...  ..   ...   \n",
       "52906             업무 생산성  2021-04-28 00:00:00  2021     6  15     0   \n",
       "53300             업무 생산성  2021-05-14 00:00:00  2021     6  15    20   \n",
       "53616             업무 생산성  2021-05-14 00:00:00  2021     6  16    15   \n",
       "55161             업무 생산성  2021-05-14 00:00:00  2021     6  19    21   \n",
       "55286             업무 생산성  2021-04-28 00:00:00  2021     6  20     2   \n",
       "\n",
       "         Weekday   m-d  \n",
       "124       Sunday  0328  \n",
       "385       Sunday  0328  \n",
       "12006     Monday  0412  \n",
       "12127     Monday  0412  \n",
       "12453    Tuesday  0413  \n",
       "...          ...   ...  \n",
       "52906    Tuesday  0615  \n",
       "53300    Tuesday  0615  \n",
       "53616  Wednesday  0616  \n",
       "55161   Saturday  0619  \n",
       "55286     Sunday  0620  \n",
       "\n",
       "[80 rows x 23 columns]"
      ]
     },
     "execution_count": 124,
     "metadata": {},
     "output_type": "execute_result"
    }
   ],
   "source": [
    "com_Pay_Re[(com_Pay_Re['type'] == 'PAYMENT')&(com_Pay_Re['transaction_amount'])]"
   ]
  },
  {
   "cell_type": "markdown",
   "id": "dbf16318",
   "metadata": {},
   "source": [
    "# PG사 목록"
   ]
  },
  {
   "cell_type": "markdown",
   "id": "0b463f27",
   "metadata": {},
   "source": [
    "## 기존 PG사 vs 신규 pg사 점유율 현황"
   ]
  },
  {
   "cell_type": "code",
   "execution_count": 121,
   "id": "39cf1293",
   "metadata": {
    "ExecuteTime": {
     "end_time": "2022-07-03T09:24:30.690121Z",
     "start_time": "2022-07-03T09:24:30.667447Z"
    }
   },
   "outputs": [
    {
     "data": {
      "text/plain": [
       "array(['COMM', 'INICIS', 'KAKAO', 'CHAI', 'PAYCO', 'NAVER'], dtype=object)"
      ]
     },
     "execution_count": 121,
     "metadata": {},
     "output_type": "execute_result"
    }
   ],
   "source": [
    "df['pg'].unique()"
   ]
  },
  {
   "cell_type": "markdown",
   "id": "5f6cf687",
   "metadata": {},
   "source": [
    "### 기존 PG사 vs 신규 pg사 기간별 점유율 변동 변화추이"
   ]
  },
  {
   "cell_type": "markdown",
   "id": "d7624a8d",
   "metadata": {},
   "source": [
    "기존 : 이니시스 \n",
    "신규 : 카카오, 네이버, 페이코, 차이..?"
   ]
  },
  {
   "cell_type": "code",
   "execution_count": 98,
   "id": "4358ebed",
   "metadata": {
    "ExecuteTime": {
     "end_time": "2022-07-02T16:53:30.530404Z",
     "start_time": "2022-07-02T16:53:30.323806Z"
    }
   },
   "outputs": [
    {
     "data": {
      "text/html": [
       "<div>\n",
       "<style scoped>\n",
       "    .dataframe tbody tr th:only-of-type {\n",
       "        vertical-align: middle;\n",
       "    }\n",
       "\n",
       "    .dataframe tbody tr th {\n",
       "        vertical-align: top;\n",
       "    }\n",
       "\n",
       "    .dataframe thead th {\n",
       "        text-align: right;\n",
       "    }\n",
       "</style>\n",
       "<table border=\"1\" class=\"dataframe\">\n",
       "  <thead>\n",
       "    <tr style=\"text-align: right;\">\n",
       "      <th></th>\n",
       "      <th>pg</th>\n",
       "    </tr>\n",
       "    <tr>\n",
       "      <th>completed_at</th>\n",
       "      <th></th>\n",
       "    </tr>\n",
       "  </thead>\n",
       "  <tbody>\n",
       "    <tr>\n",
       "      <th>3</th>\n",
       "      <td>4906</td>\n",
       "    </tr>\n",
       "    <tr>\n",
       "      <th>4</th>\n",
       "      <td>20163</td>\n",
       "    </tr>\n",
       "    <tr>\n",
       "      <th>5</th>\n",
       "      <td>20055</td>\n",
       "    </tr>\n",
       "    <tr>\n",
       "      <th>6</th>\n",
       "      <td>19747</td>\n",
       "    </tr>\n",
       "    <tr>\n",
       "      <th>7</th>\n",
       "      <td>15380</td>\n",
       "    </tr>\n",
       "    <tr>\n",
       "      <th>8</th>\n",
       "      <td>12853</td>\n",
       "    </tr>\n",
       "    <tr>\n",
       "      <th>9</th>\n",
       "      <td>7998</td>\n",
       "    </tr>\n",
       "  </tbody>\n",
       "</table>\n",
       "</div>"
      ],
      "text/plain": [
       "                 pg\n",
       "completed_at       \n",
       "3              4906\n",
       "4             20163\n",
       "5             20055\n",
       "6             19747\n",
       "7             15380\n",
       "8             12853\n",
       "9              7998"
      ]
     },
     "execution_count": 98,
     "metadata": {},
     "output_type": "execute_result"
    }
   ],
   "source": [
    "pig1 = df.set_index('completed_at').groupby(lambda date: date.month).count()[['pg']]\n",
    "pig1.sort_index(ascending=True)"
   ]
  },
  {
   "cell_type": "code",
   "execution_count": 99,
   "id": "ed40205e",
   "metadata": {
    "ExecuteTime": {
     "end_time": "2022-07-02T16:53:30.706448Z",
     "start_time": "2022-07-02T16:53:30.673815Z"
    }
   },
   "outputs": [
    {
     "data": {
      "text/plain": [
       "pg\n",
       "CHAI       321\n",
       "COMM     12243\n",
       "KAKAO    17138\n",
       "NAVER     7979\n",
       "PAYCO     4609\n",
       "Name: method, dtype: int64"
      ]
     },
     "execution_count": 99,
     "metadata": {},
     "output_type": "execute_result"
    }
   ],
   "source": [
    "pig = df[df['pg'] != 'INICIS']\n",
    "pigs = pig.groupby('pg')['method']\n",
    "pigs.count()"
   ]
  },
  {
   "cell_type": "markdown",
   "id": "397fc765",
   "metadata": {},
   "source": [
    "# VIP그룹 분석"
   ]
  },
  {
   "cell_type": "markdown",
   "id": "bbcce57b",
   "metadata": {},
   "source": [
    "## VIP 그룹 정의"
   ]
  },
  {
   "cell_type": "code",
   "execution_count": 100,
   "id": "89d3285f",
   "metadata": {
    "ExecuteTime": {
     "end_time": "2022-07-02T16:53:34.278307Z",
     "start_time": "2022-07-02T16:53:34.239160Z"
    }
   },
   "outputs": [
    {
     "data": {
      "text/plain": [
       "count    5.304000e+04\n",
       "mean     1.126078e+05\n",
       "std      1.335663e+05\n",
       "min     -1.800000e+06\n",
       "25%      7.900000e+04\n",
       "50%      1.160000e+05\n",
       "75%      1.550000e+05\n",
       "max      1.800000e+06\n",
       "Name: transaction_amount, dtype: float64"
      ]
     },
     "execution_count": 100,
     "metadata": {},
     "output_type": "execute_result"
    }
   ],
   "source": [
    "com_Pay_Re.describe()['transaction_amount']"
   ]
  },
  {
   "cell_type": "markdown",
   "id": "2d0b401b",
   "metadata": {},
   "source": [
    "vip 그룹 정의 </br>\n",
    "id를 transaction_amount와 그룹.(id중복제거) </br>\n",
    "id에서 가장 많은 금액 10%찾아보기"
   ]
  },
  {
   "cell_type": "code",
   "execution_count": 559,
   "id": "419ec793",
   "metadata": {
    "ExecuteTime": {
     "end_time": "2022-07-02T15:51:35.100840Z",
     "start_time": "2022-07-02T15:51:35.090291Z"
    }
   },
   "outputs": [
    {
     "data": {
      "text/plain": [
       "220000.0"
      ]
     },
     "execution_count": 559,
     "metadata": {},
     "output_type": "execute_result"
    }
   ],
   "source": [
    "idt = com_Pay_Re.groupby('id')['transaction_amount']\n",
    "idts = idt.sum()\n",
    "idtsv = idts.sort_values(ascending=False)\n",
    "#10%내\n",
    "idtsv.quantile(0.9)"
   ]
  },
  {
   "cell_type": "code",
   "execution_count": 560,
   "id": "05c6e8ae",
   "metadata": {
    "ExecuteTime": {
     "end_time": "2022-07-02T15:51:53.244478Z",
     "start_time": "2022-07-02T15:51:53.241413Z"
    }
   },
   "outputs": [],
   "source": [
    "# 위의 결과 맞는지 확인용\n",
    "# idtsv.describe()"
   ]
  },
  {
   "cell_type": "code",
   "execution_count": null,
   "id": "eb1a1770",
   "metadata": {
    "ExecuteTime": {
     "end_time": "2022-07-02T15:50:49.939873Z",
     "start_time": "2022-07-02T15:50:49.412845Z"
    }
   },
   "outputs": [],
   "source": []
  },
  {
   "cell_type": "markdown",
   "id": "2969f67b",
   "metadata": {},
   "source": [
    "## 일반 고객 평균 결제 횟수 vs VIP 고객 평균 결제 횟수"
   ]
  },
  {
   "cell_type": "code",
   "execution_count": null,
   "id": "90735b14",
   "metadata": {},
   "outputs": [],
   "source": []
  },
  {
   "cell_type": "markdown",
   "id": "02dd3f3c",
   "metadata": {},
   "source": [
    "## VIP 그룹 특징"
   ]
  },
  {
   "cell_type": "markdown",
   "id": "cada2ef7",
   "metadata": {},
   "source": [
    "# 쿠폰 사용 분석"
   ]
  },
  {
   "cell_type": "markdown",
   "id": "08611340",
   "metadata": {},
   "source": [
    "## 전체구매건 중 쿠폰사용한 구매비율"
   ]
  },
  {
   "cell_type": "code",
   "execution_count": null,
   "id": "e5a07127",
   "metadata": {},
   "outputs": [],
   "source": []
  },
  {
   "cell_type": "markdown",
   "id": "7111e7d5",
   "metadata": {},
   "source": [
    "## 매출에 대한 쿠폰의 중요도 분석"
   ]
  },
  {
   "cell_type": "markdown",
   "id": "677f1548",
   "metadata": {},
   "source": [
    "# 패키지 강의 vs 단품 강의"
   ]
  },
  {
   "cell_type": "code",
   "execution_count": 99,
   "id": "3e98e32a",
   "metadata": {
    "ExecuteTime": {
     "end_time": "2022-06-30T07:53:07.324165Z",
     "start_time": "2022-06-30T07:53:07.319102Z"
    }
   },
   "outputs": [],
   "source": [
    "# df"
   ]
  },
  {
   "cell_type": "code",
   "execution_count": 79,
   "id": "9fd2e22a",
   "metadata": {
    "ExecuteTime": {
     "end_time": "2022-07-03T08:19:39.594015Z",
     "start_time": "2022-07-03T08:19:39.501597Z"
    }
   },
   "outputs": [
    {
     "data": {
      "text/html": [
       "<div>\n",
       "<style scoped>\n",
       "    .dataframe tbody tr th:only-of-type {\n",
       "        vertical-align: middle;\n",
       "    }\n",
       "\n",
       "    .dataframe tbody tr th {\n",
       "        vertical-align: top;\n",
       "    }\n",
       "\n",
       "    .dataframe thead th {\n",
       "        text-align: right;\n",
       "    }\n",
       "</style>\n",
       "<table border=\"1\" class=\"dataframe\">\n",
       "  <thead>\n",
       "    <tr style=\"text-align: right;\">\n",
       "      <th></th>\n",
       "      <th>id</th>\n",
       "      <th>customer_id</th>\n",
       "      <th>course_id</th>\n",
       "      <th>type</th>\n",
       "      <th>state</th>\n",
       "      <th>course_title</th>\n",
       "      <th>category_title</th>\n",
       "      <th>format</th>\n",
       "      <th>completed_at</th>\n",
       "      <th>transaction_amount</th>\n",
       "      <th>...</th>\n",
       "      <th>coupon_discount_amount</th>\n",
       "      <th>sale_price</th>\n",
       "      <th>pg</th>\n",
       "      <th>method</th>\n",
       "      <th>subcategory_title</th>\n",
       "      <th>marketing_start_at</th>\n",
       "      <th>Year</th>\n",
       "      <th>Month</th>\n",
       "      <th>Day</th>\n",
       "      <th>Hour</th>\n",
       "    </tr>\n",
       "  </thead>\n",
       "  <tbody>\n",
       "    <tr>\n",
       "      <th>0</th>\n",
       "      <td>970634</td>\n",
       "      <td>504760</td>\n",
       "      <td>201435</td>\n",
       "      <td>ORDER</td>\n",
       "      <td>CANCELLED</td>\n",
       "      <td>올인원 패키지 : 알고리즘 기술면접 완전 정복</td>\n",
       "      <td>프로그래밍</td>\n",
       "      <td>올인원</td>\n",
       "      <td>2021-03-28 15:00:11</td>\n",
       "      <td>90500</td>\n",
       "      <td>...</td>\n",
       "      <td>0</td>\n",
       "      <td>110500</td>\n",
       "      <td>COMM</td>\n",
       "      <td>VBANK</td>\n",
       "      <td>개발자 커리어</td>\n",
       "      <td>2018-11-11 00:00:00</td>\n",
       "      <td>2021</td>\n",
       "      <td>3</td>\n",
       "      <td>28</td>\n",
       "      <td>15</td>\n",
       "    </tr>\n",
       "    <tr>\n",
       "      <th>1</th>\n",
       "      <td>970650</td>\n",
       "      <td>432862</td>\n",
       "      <td>203178</td>\n",
       "      <td>ORDER</td>\n",
       "      <td>CANCELLED</td>\n",
       "      <td>초격차 패키지 : 한번에 끝내는 영상 촬영과 편집</td>\n",
       "      <td>영상/3D</td>\n",
       "      <td>올인원</td>\n",
       "      <td>2021-03-28 15:16:53</td>\n",
       "      <td>96000</td>\n",
       "      <td>...</td>\n",
       "      <td>0</td>\n",
       "      <td>116000</td>\n",
       "      <td>COMM</td>\n",
       "      <td>CARD</td>\n",
       "      <td>영상 편집</td>\n",
       "      <td>2020-12-02 00:00:00</td>\n",
       "      <td>2021</td>\n",
       "      <td>3</td>\n",
       "      <td>28</td>\n",
       "      <td>15</td>\n",
       "    </tr>\n",
       "    <tr>\n",
       "      <th>4</th>\n",
       "      <td>970658</td>\n",
       "      <td>478028</td>\n",
       "      <td>201797</td>\n",
       "      <td>PAYMENT</td>\n",
       "      <td>COMPLETED</td>\n",
       "      <td>올인원 패키지 : 직장인 필수 스킬 3종 세트 MAX</td>\n",
       "      <td>업무 생산성</td>\n",
       "      <td>올인원</td>\n",
       "      <td>2021-03-28 15:21:54</td>\n",
       "      <td>97500</td>\n",
       "      <td>...</td>\n",
       "      <td>20000</td>\n",
       "      <td>117500</td>\n",
       "      <td>COMM</td>\n",
       "      <td>CARD</td>\n",
       "      <td>PPT/보고서</td>\n",
       "      <td>2019-11-14 00:00:00</td>\n",
       "      <td>2021</td>\n",
       "      <td>3</td>\n",
       "      <td>28</td>\n",
       "      <td>15</td>\n",
       "    </tr>\n",
       "    <tr>\n",
       "      <th>5</th>\n",
       "      <td>970655</td>\n",
       "      <td>478028</td>\n",
       "      <td>201797</td>\n",
       "      <td>ORDER</td>\n",
       "      <td>CANCELLED</td>\n",
       "      <td>올인원 패키지 : 직장인 필수 스킬 3종 세트 MAX</td>\n",
       "      <td>업무 생산성</td>\n",
       "      <td>올인원</td>\n",
       "      <td>2021-03-28 15:21:56</td>\n",
       "      <td>97500</td>\n",
       "      <td>...</td>\n",
       "      <td>0</td>\n",
       "      <td>117500</td>\n",
       "      <td>COMM</td>\n",
       "      <td>CARD</td>\n",
       "      <td>PPT/보고서</td>\n",
       "      <td>2019-11-14 00:00:00</td>\n",
       "      <td>2021</td>\n",
       "      <td>3</td>\n",
       "      <td>28</td>\n",
       "      <td>15</td>\n",
       "    </tr>\n",
       "    <tr>\n",
       "      <th>7</th>\n",
       "      <td>970664</td>\n",
       "      <td>460730</td>\n",
       "      <td>200622</td>\n",
       "      <td>ORDER</td>\n",
       "      <td>CANCELLED</td>\n",
       "      <td>올인원 패키지 : 기업가치 평가와 M&amp;A 전략 실무</td>\n",
       "      <td>부동산/금융</td>\n",
       "      <td>올인원</td>\n",
       "      <td>2021-03-28 15:25:42</td>\n",
       "      <td>112500</td>\n",
       "      <td>...</td>\n",
       "      <td>0</td>\n",
       "      <td>122500</td>\n",
       "      <td>COMM</td>\n",
       "      <td>CARD</td>\n",
       "      <td>금융/투자 실무</td>\n",
       "      <td>2019-05-02 00:00:00</td>\n",
       "      <td>2021</td>\n",
       "      <td>3</td>\n",
       "      <td>28</td>\n",
       "      <td>15</td>\n",
       "    </tr>\n",
       "    <tr>\n",
       "      <th>...</th>\n",
       "      <td>...</td>\n",
       "      <td>...</td>\n",
       "      <td>...</td>\n",
       "      <td>...</td>\n",
       "      <td>...</td>\n",
       "      <td>...</td>\n",
       "      <td>...</td>\n",
       "      <td>...</td>\n",
       "      <td>...</td>\n",
       "      <td>...</td>\n",
       "      <td>...</td>\n",
       "      <td>...</td>\n",
       "      <td>...</td>\n",
       "      <td>...</td>\n",
       "      <td>...</td>\n",
       "      <td>...</td>\n",
       "      <td>...</td>\n",
       "      <td>...</td>\n",
       "      <td>...</td>\n",
       "      <td>...</td>\n",
       "      <td>...</td>\n",
       "    </tr>\n",
       "    <tr>\n",
       "      <th>101094</th>\n",
       "      <td>1364969</td>\n",
       "      <td>669238</td>\n",
       "      <td>204286</td>\n",
       "      <td>PAYMENT</td>\n",
       "      <td>COMPLETED</td>\n",
       "      <td>초격차 패키지 : 한번에 끝내는 3D 디자인 툴</td>\n",
       "      <td>디자인</td>\n",
       "      <td>올인원</td>\n",
       "      <td>2021-09-25 13:39:26</td>\n",
       "      <td>212000</td>\n",
       "      <td>...</td>\n",
       "      <td>20000</td>\n",
       "      <td>232000</td>\n",
       "      <td>INICIS</td>\n",
       "      <td>CARD</td>\n",
       "      <td>디자인툴</td>\n",
       "      <td>2021-04-23 00:00:00</td>\n",
       "      <td>2021</td>\n",
       "      <td>9</td>\n",
       "      <td>25</td>\n",
       "      <td>13</td>\n",
       "    </tr>\n",
       "    <tr>\n",
       "      <th>101095</th>\n",
       "      <td>1364976</td>\n",
       "      <td>384003</td>\n",
       "      <td>203178</td>\n",
       "      <td>PAYMENT</td>\n",
       "      <td>COMPLETED</td>\n",
       "      <td>초격차 패키지 : 한번에 끝내는 영상 촬영과 편집</td>\n",
       "      <td>영상/3D</td>\n",
       "      <td>올인원</td>\n",
       "      <td>2021-09-25 13:46:29</td>\n",
       "      <td>149000</td>\n",
       "      <td>...</td>\n",
       "      <td>0</td>\n",
       "      <td>149000</td>\n",
       "      <td>KAKAO</td>\n",
       "      <td>CARD</td>\n",
       "      <td>영상 편집</td>\n",
       "      <td>2020-12-02 00:00:00</td>\n",
       "      <td>2021</td>\n",
       "      <td>9</td>\n",
       "      <td>25</td>\n",
       "      <td>13</td>\n",
       "    </tr>\n",
       "    <tr>\n",
       "      <th>101096</th>\n",
       "      <td>1364991</td>\n",
       "      <td>670891</td>\n",
       "      <td>203935</td>\n",
       "      <td>PAYMENT</td>\n",
       "      <td>COMPLETED</td>\n",
       "      <td>초격차 패키지 : 한 번에 끝내는 파이썬 웹 개발</td>\n",
       "      <td>프로그래밍</td>\n",
       "      <td>올인원</td>\n",
       "      <td>2021-09-25 14:01:26</td>\n",
       "      <td>159000</td>\n",
       "      <td>...</td>\n",
       "      <td>20000</td>\n",
       "      <td>179000</td>\n",
       "      <td>INICIS</td>\n",
       "      <td>CARD</td>\n",
       "      <td>백엔드 개발</td>\n",
       "      <td>2021-05-31 00:00:00</td>\n",
       "      <td>2021</td>\n",
       "      <td>9</td>\n",
       "      <td>25</td>\n",
       "      <td>14</td>\n",
       "    </tr>\n",
       "    <tr>\n",
       "      <th>101097</th>\n",
       "      <td>1364995</td>\n",
       "      <td>640697</td>\n",
       "      <td>205365</td>\n",
       "      <td>PAYMENT</td>\n",
       "      <td>CANCELLED</td>\n",
       "      <td>초격차 패키지 : 한 번에 끝내는 유튜브 크리에이터 되기</td>\n",
       "      <td>영상/3D</td>\n",
       "      <td>올인원</td>\n",
       "      <td>2021-09-25 14:10:42</td>\n",
       "      <td>96000</td>\n",
       "      <td>...</td>\n",
       "      <td>20000</td>\n",
       "      <td>116000</td>\n",
       "      <td>INICIS</td>\n",
       "      <td>TRANS</td>\n",
       "      <td>영상 편집</td>\n",
       "      <td>2021-06-15 00:00:00</td>\n",
       "      <td>2021</td>\n",
       "      <td>9</td>\n",
       "      <td>25</td>\n",
       "      <td>14</td>\n",
       "    </tr>\n",
       "    <tr>\n",
       "      <th>101099</th>\n",
       "      <td>1364996</td>\n",
       "      <td>640697</td>\n",
       "      <td>205365</td>\n",
       "      <td>PAYMENT</td>\n",
       "      <td>COMPLETED</td>\n",
       "      <td>초격차 패키지 : 한 번에 끝내는 유튜브 크리에이터 되기</td>\n",
       "      <td>영상/3D</td>\n",
       "      <td>올인원</td>\n",
       "      <td>2021-09-25 14:17:41</td>\n",
       "      <td>96000</td>\n",
       "      <td>...</td>\n",
       "      <td>20000</td>\n",
       "      <td>116000</td>\n",
       "      <td>INICIS</td>\n",
       "      <td>VBANK</td>\n",
       "      <td>영상 편집</td>\n",
       "      <td>2021-06-15 00:00:00</td>\n",
       "      <td>2021</td>\n",
       "      <td>9</td>\n",
       "      <td>25</td>\n",
       "      <td>14</td>\n",
       "    </tr>\n",
       "  </tbody>\n",
       "</table>\n",
       "<p>76945 rows × 21 columns</p>\n",
       "</div>"
      ],
      "text/plain": [
       "             id  customer_id  course_id     type      state  \\\n",
       "0        970634       504760     201435    ORDER  CANCELLED   \n",
       "1        970650       432862     203178    ORDER  CANCELLED   \n",
       "4        970658       478028     201797  PAYMENT  COMPLETED   \n",
       "5        970655       478028     201797    ORDER  CANCELLED   \n",
       "7        970664       460730     200622    ORDER  CANCELLED   \n",
       "...         ...          ...        ...      ...        ...   \n",
       "101094  1364969       669238     204286  PAYMENT  COMPLETED   \n",
       "101095  1364976       384003     203178  PAYMENT  COMPLETED   \n",
       "101096  1364991       670891     203935  PAYMENT  COMPLETED   \n",
       "101097  1364995       640697     205365  PAYMENT  CANCELLED   \n",
       "101099  1364996       640697     205365  PAYMENT  COMPLETED   \n",
       "\n",
       "                           course_title category_title format  \\\n",
       "0             올인원 패키지 : 알고리즘 기술면접 완전 정복          프로그래밍    올인원   \n",
       "1           초격차 패키지 : 한번에 끝내는 영상 촬영과 편집          영상/3D    올인원   \n",
       "4         올인원 패키지 : 직장인 필수 스킬 3종 세트 MAX         업무 생산성    올인원   \n",
       "5         올인원 패키지 : 직장인 필수 스킬 3종 세트 MAX         업무 생산성    올인원   \n",
       "7          올인원 패키지 : 기업가치 평가와 M&A 전략 실무         부동산/금융    올인원   \n",
       "...                                 ...            ...    ...   \n",
       "101094       초격차 패키지 : 한번에 끝내는 3D 디자인 툴            디자인    올인원   \n",
       "101095      초격차 패키지 : 한번에 끝내는 영상 촬영과 편집          영상/3D    올인원   \n",
       "101096      초격차 패키지 : 한 번에 끝내는 파이썬 웹 개발          프로그래밍    올인원   \n",
       "101097  초격차 패키지 : 한 번에 끝내는 유튜브 크리에이터 되기          영상/3D    올인원   \n",
       "101099  초격차 패키지 : 한 번에 끝내는 유튜브 크리에이터 되기          영상/3D    올인원   \n",
       "\n",
       "              completed_at  transaction_amount  ... coupon_discount_amount  \\\n",
       "0      2021-03-28 15:00:11               90500  ...                      0   \n",
       "1      2021-03-28 15:16:53               96000  ...                      0   \n",
       "4      2021-03-28 15:21:54               97500  ...                  20000   \n",
       "5      2021-03-28 15:21:56               97500  ...                      0   \n",
       "7      2021-03-28 15:25:42              112500  ...                      0   \n",
       "...                    ...                 ...  ...                    ...   \n",
       "101094 2021-09-25 13:39:26              212000  ...                  20000   \n",
       "101095 2021-09-25 13:46:29              149000  ...                      0   \n",
       "101096 2021-09-25 14:01:26              159000  ...                  20000   \n",
       "101097 2021-09-25 14:10:42               96000  ...                  20000   \n",
       "101099 2021-09-25 14:17:41               96000  ...                  20000   \n",
       "\n",
       "        sale_price      pg method subcategory_title   marketing_start_at  \\\n",
       "0           110500    COMM  VBANK           개발자 커리어  2018-11-11 00:00:00   \n",
       "1           116000    COMM   CARD             영상 편집  2020-12-02 00:00:00   \n",
       "4           117500    COMM   CARD           PPT/보고서  2019-11-14 00:00:00   \n",
       "5           117500    COMM   CARD           PPT/보고서  2019-11-14 00:00:00   \n",
       "7           122500    COMM   CARD          금융/투자 실무  2019-05-02 00:00:00   \n",
       "...            ...     ...    ...               ...                  ...   \n",
       "101094      232000  INICIS   CARD              디자인툴  2021-04-23 00:00:00   \n",
       "101095      149000   KAKAO   CARD             영상 편집  2020-12-02 00:00:00   \n",
       "101096      179000  INICIS   CARD            백엔드 개발  2021-05-31 00:00:00   \n",
       "101097      116000  INICIS  TRANS             영상 편집  2021-06-15 00:00:00   \n",
       "101099      116000  INICIS  VBANK             영상 편집  2021-06-15 00:00:00   \n",
       "\n",
       "        Year  Month  Day  Hour  \n",
       "0       2021      3   28    15  \n",
       "1       2021      3   28    15  \n",
       "4       2021      3   28    15  \n",
       "5       2021      3   28    15  \n",
       "7       2021      3   28    15  \n",
       "...      ...    ...  ...   ...  \n",
       "101094  2021      9   25    13  \n",
       "101095  2021      9   25    13  \n",
       "101096  2021      9   25    14  \n",
       "101097  2021      9   25    14  \n",
       "101099  2021      9   25    14  \n",
       "\n",
       "[76945 rows x 21 columns]"
      ]
     },
     "execution_count": 79,
     "metadata": {},
     "output_type": "execute_result"
    }
   ],
   "source": [
    "df[df['course_title'].str.contains('패키지')]"
   ]
  },
  {
   "cell_type": "markdown",
   "id": "d7c66b55",
   "metadata": {},
   "source": [
    "# 레드는 과연 성공했는가?"
   ]
  },
  {
   "cell_type": "markdown",
   "id": "8d1b4a2a",
   "metadata": {},
   "source": [
    "레드 강좌 : 6198개 </br>\n",
    "레드 중 결제 완 : 3160개"
   ]
  },
  {
   "cell_type": "code",
   "execution_count": 73,
   "id": "2322dd95",
   "metadata": {
    "ExecuteTime": {
     "end_time": "2022-07-03T08:12:05.543256Z",
     "start_time": "2022-07-03T08:12:05.478561Z"
    }
   },
   "outputs": [
    {
     "data": {
      "text/html": [
       "<div>\n",
       "<style scoped>\n",
       "    .dataframe tbody tr th:only-of-type {\n",
       "        vertical-align: middle;\n",
       "    }\n",
       "\n",
       "    .dataframe tbody tr th {\n",
       "        vertical-align: top;\n",
       "    }\n",
       "\n",
       "    .dataframe thead th {\n",
       "        text-align: right;\n",
       "    }\n",
       "</style>\n",
       "<table border=\"1\" class=\"dataframe\">\n",
       "  <thead>\n",
       "    <tr style=\"text-align: right;\">\n",
       "      <th></th>\n",
       "      <th>id</th>\n",
       "      <th>customer_id</th>\n",
       "      <th>course_id</th>\n",
       "      <th>type</th>\n",
       "      <th>state</th>\n",
       "      <th>course_title</th>\n",
       "      <th>category_title</th>\n",
       "      <th>format</th>\n",
       "      <th>completed_at</th>\n",
       "      <th>transaction_amount</th>\n",
       "      <th>...</th>\n",
       "      <th>coupon_discount_amount</th>\n",
       "      <th>sale_price</th>\n",
       "      <th>pg</th>\n",
       "      <th>method</th>\n",
       "      <th>subcategory_title</th>\n",
       "      <th>marketing_start_at</th>\n",
       "      <th>Year</th>\n",
       "      <th>Month</th>\n",
       "      <th>Day</th>\n",
       "      <th>Hour</th>\n",
       "    </tr>\n",
       "  </thead>\n",
       "  <tbody>\n",
       "    <tr>\n",
       "      <th>22</th>\n",
       "      <td>970695</td>\n",
       "      <td>455311</td>\n",
       "      <td>203146</td>\n",
       "      <td>PAYMENT</td>\n",
       "      <td>COMPLETED</td>\n",
       "      <td>The RED : 현실 세상의 TDD by 이규원</td>\n",
       "      <td>프로그래밍</td>\n",
       "      <td>RED</td>\n",
       "      <td>2021-03-28 15:43:59</td>\n",
       "      <td>149500</td>\n",
       "      <td>...</td>\n",
       "      <td>0</td>\n",
       "      <td>149500</td>\n",
       "      <td>COMM</td>\n",
       "      <td>CARD</td>\n",
       "      <td>DevOps</td>\n",
       "      <td>2021-02-08 00:00:00</td>\n",
       "      <td>2021</td>\n",
       "      <td>3</td>\n",
       "      <td>28</td>\n",
       "      <td>15</td>\n",
       "    </tr>\n",
       "    <tr>\n",
       "      <th>35</th>\n",
       "      <td>970722</td>\n",
       "      <td>478064</td>\n",
       "      <td>204325</td>\n",
       "      <td>PAYMENT</td>\n",
       "      <td>COMPLETED</td>\n",
       "      <td>THE RED : 광고인 박웅현과 크리에이티브</td>\n",
       "      <td>마케팅</td>\n",
       "      <td>RED</td>\n",
       "      <td>2021-03-28 16:07:13</td>\n",
       "      <td>59000</td>\n",
       "      <td>...</td>\n",
       "      <td>0</td>\n",
       "      <td>59000</td>\n",
       "      <td>COMM</td>\n",
       "      <td>CARD</td>\n",
       "      <td>글쓰기/카피라이팅</td>\n",
       "      <td>2021-03-19 00:00:00</td>\n",
       "      <td>2021</td>\n",
       "      <td>3</td>\n",
       "      <td>28</td>\n",
       "      <td>16</td>\n",
       "    </tr>\n",
       "    <tr>\n",
       "      <th>76</th>\n",
       "      <td>970855</td>\n",
       "      <td>478132</td>\n",
       "      <td>203180</td>\n",
       "      <td>PAYMENT</td>\n",
       "      <td>COMPLETED</td>\n",
       "      <td>The RED : 지브리 스튜디오 제작국장에게 듣는 스토리텔링 기획법</td>\n",
       "      <td>마케팅</td>\n",
       "      <td>RED</td>\n",
       "      <td>2021-03-28 17:29:10</td>\n",
       "      <td>125500</td>\n",
       "      <td>...</td>\n",
       "      <td>0</td>\n",
       "      <td>125500</td>\n",
       "      <td>COMM</td>\n",
       "      <td>CARD</td>\n",
       "      <td>글쓰기/카피라이팅</td>\n",
       "      <td>2020-11-04 00:00:00</td>\n",
       "      <td>2021</td>\n",
       "      <td>3</td>\n",
       "      <td>28</td>\n",
       "      <td>17</td>\n",
       "    </tr>\n",
       "    <tr>\n",
       "      <th>83</th>\n",
       "      <td>970886</td>\n",
       "      <td>478159</td>\n",
       "      <td>204325</td>\n",
       "      <td>PAYMENT</td>\n",
       "      <td>COMPLETED</td>\n",
       "      <td>THE RED : 광고인 박웅현과 크리에이티브</td>\n",
       "      <td>마케팅</td>\n",
       "      <td>RED</td>\n",
       "      <td>2021-03-28 17:56:03</td>\n",
       "      <td>59000</td>\n",
       "      <td>...</td>\n",
       "      <td>0</td>\n",
       "      <td>59000</td>\n",
       "      <td>COMM</td>\n",
       "      <td>CARD</td>\n",
       "      <td>글쓰기/카피라이팅</td>\n",
       "      <td>2021-03-19 00:00:00</td>\n",
       "      <td>2021</td>\n",
       "      <td>3</td>\n",
       "      <td>28</td>\n",
       "      <td>17</td>\n",
       "    </tr>\n",
       "    <tr>\n",
       "      <th>90</th>\n",
       "      <td>970927</td>\n",
       "      <td>478166</td>\n",
       "      <td>203146</td>\n",
       "      <td>PAYMENT</td>\n",
       "      <td>COMPLETED</td>\n",
       "      <td>The RED : 현실 세상의 TDD by 이규원</td>\n",
       "      <td>프로그래밍</td>\n",
       "      <td>RED</td>\n",
       "      <td>2021-03-28 18:10:49</td>\n",
       "      <td>149500</td>\n",
       "      <td>...</td>\n",
       "      <td>0</td>\n",
       "      <td>149500</td>\n",
       "      <td>COMM</td>\n",
       "      <td>CARD</td>\n",
       "      <td>DevOps</td>\n",
       "      <td>2021-02-08 00:00:00</td>\n",
       "      <td>2021</td>\n",
       "      <td>3</td>\n",
       "      <td>28</td>\n",
       "      <td>18</td>\n",
       "    </tr>\n",
       "    <tr>\n",
       "      <th>...</th>\n",
       "      <td>...</td>\n",
       "      <td>...</td>\n",
       "      <td>...</td>\n",
       "      <td>...</td>\n",
       "      <td>...</td>\n",
       "      <td>...</td>\n",
       "      <td>...</td>\n",
       "      <td>...</td>\n",
       "      <td>...</td>\n",
       "      <td>...</td>\n",
       "      <td>...</td>\n",
       "      <td>...</td>\n",
       "      <td>...</td>\n",
       "      <td>...</td>\n",
       "      <td>...</td>\n",
       "      <td>...</td>\n",
       "      <td>...</td>\n",
       "      <td>...</td>\n",
       "      <td>...</td>\n",
       "      <td>...</td>\n",
       "      <td>...</td>\n",
       "    </tr>\n",
       "    <tr>\n",
       "      <th>101045</th>\n",
       "      <td>1364723</td>\n",
       "      <td>650609</td>\n",
       "      <td>203180</td>\n",
       "      <td>PAYMENT</td>\n",
       "      <td>COMPLETED</td>\n",
       "      <td>The RED : 지브리 스튜디오 제작국장에게 듣는 스토리텔링 기획법</td>\n",
       "      <td>마케팅</td>\n",
       "      <td>RED</td>\n",
       "      <td>2021-09-25 04:46:20</td>\n",
       "      <td>132000</td>\n",
       "      <td>...</td>\n",
       "      <td>0</td>\n",
       "      <td>132000</td>\n",
       "      <td>PAYCO</td>\n",
       "      <td>POINT</td>\n",
       "      <td>글쓰기/카피라이팅</td>\n",
       "      <td>2020-11-04 00:00:00</td>\n",
       "      <td>2021</td>\n",
       "      <td>9</td>\n",
       "      <td>25</td>\n",
       "      <td>4</td>\n",
       "    </tr>\n",
       "    <tr>\n",
       "      <th>101046</th>\n",
       "      <td>1364724</td>\n",
       "      <td>650609</td>\n",
       "      <td>204670</td>\n",
       "      <td>PAYMENT</td>\n",
       "      <td>COMPLETED</td>\n",
       "      <td>The RED : 김영하 작가의 내 안의 숨은 이야기를 찾아 쓰는 법</td>\n",
       "      <td>마케팅</td>\n",
       "      <td>RED</td>\n",
       "      <td>2021-09-25 04:46:45</td>\n",
       "      <td>171000</td>\n",
       "      <td>...</td>\n",
       "      <td>0</td>\n",
       "      <td>171000</td>\n",
       "      <td>PAYCO</td>\n",
       "      <td>POINT</td>\n",
       "      <td>글쓰기/카피라이팅</td>\n",
       "      <td>2021-06-18 17:00:00</td>\n",
       "      <td>2021</td>\n",
       "      <td>9</td>\n",
       "      <td>25</td>\n",
       "      <td>4</td>\n",
       "    </tr>\n",
       "    <tr>\n",
       "      <th>101056</th>\n",
       "      <td>1364756</td>\n",
       "      <td>490127</td>\n",
       "      <td>204670</td>\n",
       "      <td>PAYMENT</td>\n",
       "      <td>COMPLETED</td>\n",
       "      <td>The RED : 김영하 작가의 내 안의 숨은 이야기를 찾아 쓰는 법</td>\n",
       "      <td>마케팅</td>\n",
       "      <td>RED</td>\n",
       "      <td>2021-09-25 08:09:48</td>\n",
       "      <td>171000</td>\n",
       "      <td>...</td>\n",
       "      <td>0</td>\n",
       "      <td>171000</td>\n",
       "      <td>NAVER</td>\n",
       "      <td>CARD</td>\n",
       "      <td>글쓰기/카피라이팅</td>\n",
       "      <td>2021-06-18 17:00:00</td>\n",
       "      <td>2021</td>\n",
       "      <td>9</td>\n",
       "      <td>25</td>\n",
       "      <td>8</td>\n",
       "    </tr>\n",
       "    <tr>\n",
       "      <th>101063</th>\n",
       "      <td>1364785</td>\n",
       "      <td>670746</td>\n",
       "      <td>206814</td>\n",
       "      <td>PAYMENT</td>\n",
       "      <td>COMPLETED</td>\n",
       "      <td>The RED : 블리자드 라이팅 아티스트 : 이호성의 언리얼 엔진 라이팅</td>\n",
       "      <td>영상/3D</td>\n",
       "      <td>RED</td>\n",
       "      <td>2021-09-25 09:06:10</td>\n",
       "      <td>252000</td>\n",
       "      <td>...</td>\n",
       "      <td>0</td>\n",
       "      <td>252000</td>\n",
       "      <td>PAYCO</td>\n",
       "      <td>CARD</td>\n",
       "      <td>VFX</td>\n",
       "      <td>2021-09-13 00:00:00</td>\n",
       "      <td>2021</td>\n",
       "      <td>9</td>\n",
       "      <td>25</td>\n",
       "      <td>9</td>\n",
       "    </tr>\n",
       "    <tr>\n",
       "      <th>101084</th>\n",
       "      <td>1364892</td>\n",
       "      <td>257454</td>\n",
       "      <td>204824</td>\n",
       "      <td>PAYMENT</td>\n",
       "      <td>COMPLETED</td>\n",
       "      <td>The RED : 검색엔진 구축을 위한 Elasticsearch 마스터 클래스 by...</td>\n",
       "      <td>데이터사이언스</td>\n",
       "      <td>RED</td>\n",
       "      <td>2021-09-25 11:57:01</td>\n",
       "      <td>419000</td>\n",
       "      <td>...</td>\n",
       "      <td>0</td>\n",
       "      <td>419000</td>\n",
       "      <td>INICIS</td>\n",
       "      <td>CARD</td>\n",
       "      <td>데이터엔지니어링</td>\n",
       "      <td>2021-09-06 00:00:00</td>\n",
       "      <td>2021</td>\n",
       "      <td>9</td>\n",
       "      <td>25</td>\n",
       "      <td>11</td>\n",
       "    </tr>\n",
       "  </tbody>\n",
       "</table>\n",
       "<p>3160 rows × 21 columns</p>\n",
       "</div>"
      ],
      "text/plain": [
       "             id  customer_id  course_id     type      state  \\\n",
       "22       970695       455311     203146  PAYMENT  COMPLETED   \n",
       "35       970722       478064     204325  PAYMENT  COMPLETED   \n",
       "76       970855       478132     203180  PAYMENT  COMPLETED   \n",
       "83       970886       478159     204325  PAYMENT  COMPLETED   \n",
       "90       970927       478166     203146  PAYMENT  COMPLETED   \n",
       "...         ...          ...        ...      ...        ...   \n",
       "101045  1364723       650609     203180  PAYMENT  COMPLETED   \n",
       "101046  1364724       650609     204670  PAYMENT  COMPLETED   \n",
       "101056  1364756       490127     204670  PAYMENT  COMPLETED   \n",
       "101063  1364785       670746     206814  PAYMENT  COMPLETED   \n",
       "101084  1364892       257454     204824  PAYMENT  COMPLETED   \n",
       "\n",
       "                                             course_title category_title  \\\n",
       "22                            The RED : 현실 세상의 TDD by 이규원          프로그래밍   \n",
       "35                              THE RED : 광고인 박웅현과 크리에이티브            마케팅   \n",
       "76                 The RED : 지브리 스튜디오 제작국장에게 듣는 스토리텔링 기획법            마케팅   \n",
       "83                              THE RED : 광고인 박웅현과 크리에이티브            마케팅   \n",
       "90                            The RED : 현실 세상의 TDD by 이규원          프로그래밍   \n",
       "...                                                   ...            ...   \n",
       "101045             The RED : 지브리 스튜디오 제작국장에게 듣는 스토리텔링 기획법            마케팅   \n",
       "101046             The RED : 김영하 작가의 내 안의 숨은 이야기를 찾아 쓰는 법            마케팅   \n",
       "101056             The RED : 김영하 작가의 내 안의 숨은 이야기를 찾아 쓰는 법            마케팅   \n",
       "101063          The RED : 블리자드 라이팅 아티스트 : 이호성의 언리얼 엔진 라이팅          영상/3D   \n",
       "101084  The RED : 검색엔진 구축을 위한 Elasticsearch 마스터 클래스 by...        데이터사이언스   \n",
       "\n",
       "       format        completed_at  transaction_amount  ...  \\\n",
       "22        RED 2021-03-28 15:43:59              149500  ...   \n",
       "35        RED 2021-03-28 16:07:13               59000  ...   \n",
       "76        RED 2021-03-28 17:29:10              125500  ...   \n",
       "83        RED 2021-03-28 17:56:03               59000  ...   \n",
       "90        RED 2021-03-28 18:10:49              149500  ...   \n",
       "...       ...                 ...                 ...  ...   \n",
       "101045    RED 2021-09-25 04:46:20              132000  ...   \n",
       "101046    RED 2021-09-25 04:46:45              171000  ...   \n",
       "101056    RED 2021-09-25 08:09:48              171000  ...   \n",
       "101063    RED 2021-09-25 09:06:10              252000  ...   \n",
       "101084    RED 2021-09-25 11:57:01              419000  ...   \n",
       "\n",
       "       coupon_discount_amount  sale_price      pg method subcategory_title  \\\n",
       "22                          0      149500    COMM   CARD            DevOps   \n",
       "35                          0       59000    COMM   CARD         글쓰기/카피라이팅   \n",
       "76                          0      125500    COMM   CARD         글쓰기/카피라이팅   \n",
       "83                          0       59000    COMM   CARD         글쓰기/카피라이팅   \n",
       "90                          0      149500    COMM   CARD            DevOps   \n",
       "...                       ...         ...     ...    ...               ...   \n",
       "101045                      0      132000   PAYCO  POINT         글쓰기/카피라이팅   \n",
       "101046                      0      171000   PAYCO  POINT         글쓰기/카피라이팅   \n",
       "101056                      0      171000   NAVER   CARD         글쓰기/카피라이팅   \n",
       "101063                      0      252000   PAYCO   CARD               VFX   \n",
       "101084                      0      419000  INICIS   CARD          데이터엔지니어링   \n",
       "\n",
       "         marketing_start_at  Year  Month  Day  Hour  \n",
       "22      2021-02-08 00:00:00  2021      3   28    15  \n",
       "35      2021-03-19 00:00:00  2021      3   28    16  \n",
       "76      2020-11-04 00:00:00  2021      3   28    17  \n",
       "83      2021-03-19 00:00:00  2021      3   28    17  \n",
       "90      2021-02-08 00:00:00  2021      3   28    18  \n",
       "...                     ...   ...    ...  ...   ...  \n",
       "101045  2020-11-04 00:00:00  2021      9   25     4  \n",
       "101046  2021-06-18 17:00:00  2021      9   25     4  \n",
       "101056  2021-06-18 17:00:00  2021      9   25     8  \n",
       "101063  2021-09-13 00:00:00  2021      9   25     9  \n",
       "101084  2021-09-06 00:00:00  2021      9   25    11  \n",
       "\n",
       "[3160 rows x 21 columns]"
      ]
     },
     "execution_count": 73,
     "metadata": {},
     "output_type": "execute_result"
    }
   ],
   "source": [
    "#레드강좌 개수\n",
    "red = df[df['course_title'].str.contains('RED')]\n",
    "red[(red['type']=='PAYMENT') & (red['state'] == 'COMPLETED')]"
   ]
  },
  {
   "cell_type": "code",
   "execution_count": 76,
   "id": "f2f272af",
   "metadata": {
    "ExecuteTime": {
     "end_time": "2022-07-03T08:14:08.563955Z",
     "start_time": "2022-07-03T08:14:08.549297Z"
    }
   },
   "outputs": [
    {
     "data": {
      "text/plain": [
       "The RED : 김영하 작가의 내 안의 숨은 이야기를 찾아 쓰는 법                        2124\n",
       "THE RED : 광고인 박웅현과 크리에이티브                                      488\n",
       "The RED : 현실 세상의 TDD by 이규원                                    419\n",
       "The RED : 지브리 스튜디오 제작국장에게 듣는 스토리텔링 기획법                         389\n",
       "The RED : 개발자로 살아남기 : 30년을 주도하는 9가지 필수 기술 by 박종천               316\n",
       "The RED : 칼만필터를 활용한 자율주행 센서퓨전 기술 구현 by 조형기                     299\n",
       "The RED : 탑 아티스트가 선택한 디렉터 : 권오준이 알려주는 영상 연출의 모든 것              266\n",
       "The RED : 비즈니스 성공을 위한 Java/Spring 기반 서비스 개발과 MSA 구축 by 이희창     222\n",
       "The RED : 백발의 개발자를 꿈꾸며 : 코드리뷰, 레거시와 TDD by 백명석, 최범균            188\n",
       "The RED : 백엔드 에센셜 : 대용량 서비스를 위한 아키텍처 with Redis by 강대명         184\n",
       "Name: course_title, dtype: int64"
      ]
     },
     "execution_count": 76,
     "metadata": {},
     "output_type": "execute_result"
    }
   ],
   "source": [
    "red_vc = red['course_title'].value_counts()\n",
    "red_vc.head(10)"
   ]
  },
  {
   "cell_type": "code",
   "execution_count": 77,
   "id": "9cc18912",
   "metadata": {
    "ExecuteTime": {
     "end_time": "2022-07-03T08:14:45.812100Z",
     "start_time": "2022-07-03T08:14:45.802395Z"
    }
   },
   "outputs": [
    {
     "data": {
      "text/plain": [
       "921090963"
      ]
     },
     "execution_count": 77,
     "metadata": {},
     "output_type": "execute_result"
    }
   ],
   "source": [
    "red['transaction_amount'].sum()"
   ]
  },
  {
   "cell_type": "markdown",
   "id": "f65c4acc",
   "metadata": {},
   "source": [
    "총 결제 금액 : 5,972,719,534원 </br>\n",
    "red 총 결제금액 : 921,090,964원"
   ]
  },
  {
   "cell_type": "code",
   "execution_count": 84,
   "id": "f2e7df1c",
   "metadata": {
    "ExecuteTime": {
     "end_time": "2022-07-03T08:28:27.679910Z",
     "start_time": "2022-07-03T08:28:26.476111Z"
    }
   },
   "outputs": [
    {
     "ename": "ValueError",
     "evalue": "setting an array element with a sequence. The requested array has an inhomogeneous shape after 2 dimensions. The detected shape was (164, 2) + inhomogeneous part.",
     "output_type": "error",
     "traceback": [
      "\u001b[0;31m---------------------------------------------------------------------------\u001b[0m",
      "\u001b[0;31mValueError\u001b[0m                                Traceback (most recent call last)",
      "Input \u001b[0;32mIn [84]\u001b[0m, in \u001b[0;36m<cell line: 3>\u001b[0;34m()\u001b[0m\n\u001b[1;32m      1\u001b[0m q \u001b[38;5;241m=\u001b[39m red[\u001b[38;5;124m'\u001b[39m\u001b[38;5;124mtransaction_amount\u001b[39m\u001b[38;5;124m'\u001b[39m]\u001b[38;5;241m.\u001b[39mgroupby(com_Pay_Re[\u001b[38;5;124m'\u001b[39m\u001b[38;5;124mtransaction_amount\u001b[39m\u001b[38;5;124m'\u001b[39m])\n\u001b[1;32m      2\u001b[0m q\u001b[38;5;241m.\u001b[39msum()\n\u001b[0;32m----> 3\u001b[0m \u001b[43mplt\u001b[49m\u001b[38;5;241;43m.\u001b[39;49m\u001b[43mpie\u001b[49m\u001b[43m(\u001b[49m\u001b[43mq\u001b[49m\u001b[43m)\u001b[49m\n",
      "File \u001b[0;32m/opt/anaconda3/lib/python3.9/site-packages/matplotlib/pyplot.py:2744\u001b[0m, in \u001b[0;36mpie\u001b[0;34m(x, explode, labels, colors, autopct, pctdistance, shadow, labeldistance, startangle, radius, counterclock, wedgeprops, textprops, center, frame, rotatelabels, normalize, data)\u001b[0m\n\u001b[1;32m   2737\u001b[0m \u001b[38;5;129m@_copy_docstring_and_deprecators\u001b[39m(Axes\u001b[38;5;241m.\u001b[39mpie)\n\u001b[1;32m   2738\u001b[0m \u001b[38;5;28;01mdef\u001b[39;00m \u001b[38;5;21mpie\u001b[39m(\n\u001b[1;32m   2739\u001b[0m         x, explode\u001b[38;5;241m=\u001b[39m\u001b[38;5;28;01mNone\u001b[39;00m, labels\u001b[38;5;241m=\u001b[39m\u001b[38;5;28;01mNone\u001b[39;00m, colors\u001b[38;5;241m=\u001b[39m\u001b[38;5;28;01mNone\u001b[39;00m, autopct\u001b[38;5;241m=\u001b[39m\u001b[38;5;28;01mNone\u001b[39;00m,\n\u001b[0;32m   (...)\u001b[0m\n\u001b[1;32m   2742\u001b[0m         textprops\u001b[38;5;241m=\u001b[39m\u001b[38;5;28;01mNone\u001b[39;00m, center\u001b[38;5;241m=\u001b[39m(\u001b[38;5;241m0\u001b[39m, \u001b[38;5;241m0\u001b[39m), frame\u001b[38;5;241m=\u001b[39m\u001b[38;5;28;01mFalse\u001b[39;00m,\n\u001b[1;32m   2743\u001b[0m         rotatelabels\u001b[38;5;241m=\u001b[39m\u001b[38;5;28;01mFalse\u001b[39;00m, \u001b[38;5;241m*\u001b[39m, normalize\u001b[38;5;241m=\u001b[39m\u001b[38;5;28;01mTrue\u001b[39;00m, data\u001b[38;5;241m=\u001b[39m\u001b[38;5;28;01mNone\u001b[39;00m):\n\u001b[0;32m-> 2744\u001b[0m     \u001b[38;5;28;01mreturn\u001b[39;00m \u001b[43mgca\u001b[49m\u001b[43m(\u001b[49m\u001b[43m)\u001b[49m\u001b[38;5;241;43m.\u001b[39;49m\u001b[43mpie\u001b[49m\u001b[43m(\u001b[49m\n\u001b[1;32m   2745\u001b[0m \u001b[43m        \u001b[49m\u001b[43mx\u001b[49m\u001b[43m,\u001b[49m\u001b[43m \u001b[49m\u001b[43mexplode\u001b[49m\u001b[38;5;241;43m=\u001b[39;49m\u001b[43mexplode\u001b[49m\u001b[43m,\u001b[49m\u001b[43m \u001b[49m\u001b[43mlabels\u001b[49m\u001b[38;5;241;43m=\u001b[39;49m\u001b[43mlabels\u001b[49m\u001b[43m,\u001b[49m\u001b[43m \u001b[49m\u001b[43mcolors\u001b[49m\u001b[38;5;241;43m=\u001b[39;49m\u001b[43mcolors\u001b[49m\u001b[43m,\u001b[49m\n\u001b[1;32m   2746\u001b[0m \u001b[43m        \u001b[49m\u001b[43mautopct\u001b[49m\u001b[38;5;241;43m=\u001b[39;49m\u001b[43mautopct\u001b[49m\u001b[43m,\u001b[49m\u001b[43m \u001b[49m\u001b[43mpctdistance\u001b[49m\u001b[38;5;241;43m=\u001b[39;49m\u001b[43mpctdistance\u001b[49m\u001b[43m,\u001b[49m\u001b[43m \u001b[49m\u001b[43mshadow\u001b[49m\u001b[38;5;241;43m=\u001b[39;49m\u001b[43mshadow\u001b[49m\u001b[43m,\u001b[49m\n\u001b[1;32m   2747\u001b[0m \u001b[43m        \u001b[49m\u001b[43mlabeldistance\u001b[49m\u001b[38;5;241;43m=\u001b[39;49m\u001b[43mlabeldistance\u001b[49m\u001b[43m,\u001b[49m\u001b[43m \u001b[49m\u001b[43mstartangle\u001b[49m\u001b[38;5;241;43m=\u001b[39;49m\u001b[43mstartangle\u001b[49m\u001b[43m,\u001b[49m\n\u001b[1;32m   2748\u001b[0m \u001b[43m        \u001b[49m\u001b[43mradius\u001b[49m\u001b[38;5;241;43m=\u001b[39;49m\u001b[43mradius\u001b[49m\u001b[43m,\u001b[49m\u001b[43m \u001b[49m\u001b[43mcounterclock\u001b[49m\u001b[38;5;241;43m=\u001b[39;49m\u001b[43mcounterclock\u001b[49m\u001b[43m,\u001b[49m\n\u001b[1;32m   2749\u001b[0m \u001b[43m        \u001b[49m\u001b[43mwedgeprops\u001b[49m\u001b[38;5;241;43m=\u001b[39;49m\u001b[43mwedgeprops\u001b[49m\u001b[43m,\u001b[49m\u001b[43m \u001b[49m\u001b[43mtextprops\u001b[49m\u001b[38;5;241;43m=\u001b[39;49m\u001b[43mtextprops\u001b[49m\u001b[43m,\u001b[49m\u001b[43m \u001b[49m\u001b[43mcenter\u001b[49m\u001b[38;5;241;43m=\u001b[39;49m\u001b[43mcenter\u001b[49m\u001b[43m,\u001b[49m\n\u001b[1;32m   2750\u001b[0m \u001b[43m        \u001b[49m\u001b[43mframe\u001b[49m\u001b[38;5;241;43m=\u001b[39;49m\u001b[43mframe\u001b[49m\u001b[43m,\u001b[49m\u001b[43m \u001b[49m\u001b[43mrotatelabels\u001b[49m\u001b[38;5;241;43m=\u001b[39;49m\u001b[43mrotatelabels\u001b[49m\u001b[43m,\u001b[49m\u001b[43m \u001b[49m\u001b[43mnormalize\u001b[49m\u001b[38;5;241;43m=\u001b[39;49m\u001b[43mnormalize\u001b[49m\u001b[43m,\u001b[49m\n\u001b[1;32m   2751\u001b[0m \u001b[43m        \u001b[49m\u001b[38;5;241;43m*\u001b[39;49m\u001b[38;5;241;43m*\u001b[39;49m\u001b[43m(\u001b[49m\u001b[43m{\u001b[49m\u001b[38;5;124;43m\"\u001b[39;49m\u001b[38;5;124;43mdata\u001b[39;49m\u001b[38;5;124;43m\"\u001b[39;49m\u001b[43m:\u001b[49m\u001b[43m \u001b[49m\u001b[43mdata\u001b[49m\u001b[43m}\u001b[49m\u001b[43m \u001b[49m\u001b[38;5;28;43;01mif\u001b[39;49;00m\u001b[43m \u001b[49m\u001b[43mdata\u001b[49m\u001b[43m \u001b[49m\u001b[38;5;129;43;01mis\u001b[39;49;00m\u001b[43m \u001b[49m\u001b[38;5;129;43;01mnot\u001b[39;49;00m\u001b[43m \u001b[49m\u001b[38;5;28;43;01mNone\u001b[39;49;00m\u001b[43m \u001b[49m\u001b[38;5;28;43;01melse\u001b[39;49;00m\u001b[43m \u001b[49m\u001b[43m{\u001b[49m\u001b[43m}\u001b[49m\u001b[43m)\u001b[49m\u001b[43m)\u001b[49m\n",
      "File \u001b[0;32m/opt/anaconda3/lib/python3.9/site-packages/matplotlib/__init__.py:1412\u001b[0m, in \u001b[0;36m_preprocess_data.<locals>.inner\u001b[0;34m(ax, data, *args, **kwargs)\u001b[0m\n\u001b[1;32m   1409\u001b[0m \u001b[38;5;129m@functools\u001b[39m\u001b[38;5;241m.\u001b[39mwraps(func)\n\u001b[1;32m   1410\u001b[0m \u001b[38;5;28;01mdef\u001b[39;00m \u001b[38;5;21minner\u001b[39m(ax, \u001b[38;5;241m*\u001b[39margs, data\u001b[38;5;241m=\u001b[39m\u001b[38;5;28;01mNone\u001b[39;00m, \u001b[38;5;241m*\u001b[39m\u001b[38;5;241m*\u001b[39mkwargs):\n\u001b[1;32m   1411\u001b[0m     \u001b[38;5;28;01mif\u001b[39;00m data \u001b[38;5;129;01mis\u001b[39;00m \u001b[38;5;28;01mNone\u001b[39;00m:\n\u001b[0;32m-> 1412\u001b[0m         \u001b[38;5;28;01mreturn\u001b[39;00m \u001b[43mfunc\u001b[49m\u001b[43m(\u001b[49m\u001b[43max\u001b[49m\u001b[43m,\u001b[49m\u001b[43m \u001b[49m\u001b[38;5;241;43m*\u001b[39;49m\u001b[38;5;28;43mmap\u001b[39;49m\u001b[43m(\u001b[49m\u001b[43msanitize_sequence\u001b[49m\u001b[43m,\u001b[49m\u001b[43m \u001b[49m\u001b[43margs\u001b[49m\u001b[43m)\u001b[49m\u001b[43m,\u001b[49m\u001b[43m \u001b[49m\u001b[38;5;241;43m*\u001b[39;49m\u001b[38;5;241;43m*\u001b[39;49m\u001b[43mkwargs\u001b[49m\u001b[43m)\u001b[49m\n\u001b[1;32m   1414\u001b[0m     bound \u001b[38;5;241m=\u001b[39m new_sig\u001b[38;5;241m.\u001b[39mbind(ax, \u001b[38;5;241m*\u001b[39margs, \u001b[38;5;241m*\u001b[39m\u001b[38;5;241m*\u001b[39mkwargs)\n\u001b[1;32m   1415\u001b[0m     auto_label \u001b[38;5;241m=\u001b[39m (bound\u001b[38;5;241m.\u001b[39marguments\u001b[38;5;241m.\u001b[39mget(label_namer)\n\u001b[1;32m   1416\u001b[0m                   \u001b[38;5;129;01mor\u001b[39;00m bound\u001b[38;5;241m.\u001b[39mkwargs\u001b[38;5;241m.\u001b[39mget(label_namer))\n",
      "File \u001b[0;32m/opt/anaconda3/lib/python3.9/site-packages/matplotlib/axes/_axes.py:3042\u001b[0m, in \u001b[0;36mAxes.pie\u001b[0;34m(self, x, explode, labels, colors, autopct, pctdistance, shadow, labeldistance, startangle, radius, counterclock, wedgeprops, textprops, center, frame, rotatelabels, normalize)\u001b[0m\n\u001b[1;32m   3039\u001b[0m \u001b[38;5;28mself\u001b[39m\u001b[38;5;241m.\u001b[39mset_aspect(\u001b[38;5;124m'\u001b[39m\u001b[38;5;124mequal\u001b[39m\u001b[38;5;124m'\u001b[39m)\n\u001b[1;32m   3040\u001b[0m \u001b[38;5;66;03m# The use of float32 is \"historical\", but can't be changed without\u001b[39;00m\n\u001b[1;32m   3041\u001b[0m \u001b[38;5;66;03m# regenerating the test baselines.\u001b[39;00m\n\u001b[0;32m-> 3042\u001b[0m x \u001b[38;5;241m=\u001b[39m \u001b[43mnp\u001b[49m\u001b[38;5;241;43m.\u001b[39;49m\u001b[43masarray\u001b[49m\u001b[43m(\u001b[49m\u001b[43mx\u001b[49m\u001b[43m,\u001b[49m\u001b[43m \u001b[49m\u001b[43mnp\u001b[49m\u001b[38;5;241;43m.\u001b[39;49m\u001b[43mfloat32\u001b[49m\u001b[43m)\u001b[49m\n\u001b[1;32m   3043\u001b[0m \u001b[38;5;28;01mif\u001b[39;00m x\u001b[38;5;241m.\u001b[39mndim \u001b[38;5;241m>\u001b[39m \u001b[38;5;241m1\u001b[39m:\n\u001b[1;32m   3044\u001b[0m     \u001b[38;5;28;01mraise\u001b[39;00m \u001b[38;5;167;01mValueError\u001b[39;00m(\u001b[38;5;124m\"\u001b[39m\u001b[38;5;124mx must be 1D\u001b[39m\u001b[38;5;124m\"\u001b[39m)\n",
      "\u001b[0;31mValueError\u001b[0m: setting an array element with a sequence. The requested array has an inhomogeneous shape after 2 dimensions. The detected shape was (164, 2) + inhomogeneous part."
     ]
    },
    {
     "data": {
      "image/png": "[encoded data removed]",
      "text/plain": [
       "<Figure size 432x288 with 1 Axes>"
      ]
     },
     "metadata": {},
     "output_type": "display_data"
    }
   ],
   "source": [
    "q = red['transaction_amount'].groupby(com_Pay_Re['transaction_amount'])\n",
    "q.sum()\n",
    "plt.pie(q)"
   ]
  },
  {
   "cell_type": "code",
   "execution_count": null,
   "id": "80e98f79",
   "metadata": {},
   "outputs": [],
   "source": []
  }
 ],
 "metadata": {
  "kernelspec": {
   "display_name": "Python 3 (ipykernel)",
   "language": "python",
   "name": "python3"
  },
  "language_info": {
   "codemirror_mode": {
    "name": "ipython",
    "version": 3
   },
   "file_extension": ".py",
   "mimetype": "text/x-python",
   "name": "python",
   "nbconvert_exporter": "python",
   "pygments_lexer": "ipython3",
   "version": "3.9.12"
  },
  "toc": {
   "base_numbering": 1,
   "nav_menu": {},
   "number_sections": true,
   "sideBar": false,
   "skip_h1_title": false,
   "title_cell": "Table of Contents",
   "title_sidebar": "Contents",
   "toc_cell": false,
   "toc_position": {
    "height": "695.556px",
    "left": "204.993px",
    "top": "53.9844px",
    "width": "191.997px"
   },
   "toc_section_display": true,
   "toc_window_display": false
  },
  "varInspector": {
   "cols": {
    "lenName": 16,
    "lenType": 16,
    "lenVar": 40
   },
   "kernels_config": {
    "python": {
     "delete_cmd_postfix": "",
     "delete_cmd_prefix": "del ",
     "library": "var_list.py",
     "varRefreshCmd": "print(var_dic_list())"
    },
    "r": {
     "delete_cmd_postfix": ") ",
     "delete_cmd_prefix": "rm(",
     "library": "var_list.r",
     "varRefreshCmd": "cat(var_dic_list()) "
    }
   },
   "types_to_exclude": [
    "module",
    "function",
    "builtin_function_or_method",
    "instance",
    "_Feature"
   ],
   "window_display": false
  }
 },
 "nbformat": 4,
 "nbformat_minor": 5
}

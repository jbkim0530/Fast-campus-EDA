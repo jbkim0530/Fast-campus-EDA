{
 "cells": [
  {
   "cell_type": "code",
   "execution_count": 17,
   "id": "34d8d9cc",
   "metadata": {
    "ExecuteTime": {
     "end_time": "2022-07-01T07:54:19.666277Z",
     "start_time": "2022-07-01T07:54:19.644829Z"
    }
   },
   "outputs": [],
   "source": [
    "import numpy as np\n",
    "import pandas as pd\n",
    "import matplotlib.pyplot as plt\n",
    "import seaborn as sns\n",
<<<<<<< HEAD
    "I \n",
=======
    "import datetime\n",
>>>>>>> upstream/main
    "from matplotlib import font_manager, rc\n",
    "\n",
    "plt.rcParams['font.family'] = 'NanumGothic'\n"
   ]
  },
  {
   "cell_type": "code",
   "execution_count": 18,
   "id": "3c04fb41",
   "metadata": {
    "ExecuteTime": {
     "end_time": "2022-07-01T07:54:21.147688Z",
     "start_time": "2022-07-01T07:54:20.200375Z"
    }
   },
   "outputs": [],
   "source": [
    "# 파일 불러오기\n",
    "df = pd.read_csv('./2022-06-29_last_bab.csv')\n"
   ]
  },
  {
   "cell_type": "markdown",
   "id": "1395fd0a",
   "metadata": {},
   "source": [
    "# OVER VIEW"
   ]
  },
  {
   "cell_type": "code",
   "execution_count": 19,
   "id": "b3a13882",
   "metadata": {
    "ExecuteTime": {
     "end_time": "2022-07-01T07:54:22.094502Z",
     "start_time": "2022-07-01T07:54:22.065255Z"
    }
   },
   "outputs": [
    {
     "data": {
      "text/html": [
       "<div>\n",
       "<style scoped>\n",
       "    .dataframe tbody tr th:only-of-type {\n",
       "        vertical-align: middle;\n",
       "    }\n",
       "\n",
       "    .dataframe tbody tr th {\n",
       "        vertical-align: top;\n",
       "    }\n",
       "\n",
       "    .dataframe thead th {\n",
       "        text-align: right;\n",
       "    }\n",
       "</style>\n",
       "<table border=\"1\" class=\"dataframe\">\n",
       "  <thead>\n",
       "    <tr style=\"text-align: right;\">\n",
       "      <th></th>\n",
       "      <th>Unnamed: 0</th>\n",
       "      <th>id</th>\n",
       "      <th>customer_id</th>\n",
       "      <th>course_id</th>\n",
       "      <th>type</th>\n",
       "      <th>state</th>\n",
       "      <th>course_title</th>\n",
       "      <th>category_title</th>\n",
       "      <th>format</th>\n",
       "      <th>completed_at</th>\n",
       "      <th>transaction_amount</th>\n",
       "      <th>coupon_title</th>\n",
       "      <th>coupon_discount_amount</th>\n",
       "      <th>sale_price</th>\n",
       "      <th>pg</th>\n",
       "      <th>method</th>\n",
       "      <th>subcategory_title</th>\n",
       "      <th>marketing_start_at</th>\n",
       "    </tr>\n",
       "  </thead>\n",
       "  <tbody>\n",
       "    <tr>\n",
       "      <th>0</th>\n",
       "      <td>0</td>\n",
       "      <td>970634</td>\n",
       "      <td>504760</td>\n",
       "      <td>201435</td>\n",
       "      <td>ORDER</td>\n",
       "      <td>CANCELLED</td>\n",
       "      <td>올인원 패키지 : 알고리즘 기술면접 완전 정복</td>\n",
       "      <td>프로그래밍</td>\n",
       "      <td>올인원</td>\n",
       "      <td>2021-03-28 15:00:11</td>\n",
       "      <td>90500</td>\n",
       "      <td>미적용</td>\n",
       "      <td>0</td>\n",
       "      <td>110500</td>\n",
       "      <td>COMM</td>\n",
       "      <td>VBANK</td>\n",
       "      <td>개발자 커리어</td>\n",
       "      <td>2018-11-11 00:00:00</td>\n",
       "    </tr>\n",
       "    <tr>\n",
       "      <th>1</th>\n",
       "      <td>1</td>\n",
       "      <td>970650</td>\n",
       "      <td>432862</td>\n",
       "      <td>203178</td>\n",
       "      <td>ORDER</td>\n",
       "      <td>CANCELLED</td>\n",
       "      <td>초격차 패키지 : 한번에 끝내는 영상 촬영과 편집</td>\n",
       "      <td>영상/3D</td>\n",
       "      <td>올인원</td>\n",
       "      <td>2021-03-28 15:16:53</td>\n",
       "      <td>96000</td>\n",
       "      <td>미적용</td>\n",
       "      <td>0</td>\n",
       "      <td>116000</td>\n",
       "      <td>COMM</td>\n",
       "      <td>CARD</td>\n",
       "      <td>영상 편집</td>\n",
       "      <td>2020-12-02 00:00:00</td>\n",
       "    </tr>\n",
       "    <tr>\n",
       "      <th>2</th>\n",
       "      <td>2</td>\n",
       "      <td>970657</td>\n",
       "      <td>72297</td>\n",
       "      <td>204246</td>\n",
       "      <td>PAYMENT</td>\n",
       "      <td>COMPLETED</td>\n",
       "      <td>시크릿코드 : 프론트엔드 실무 완성편</td>\n",
       "      <td>프로그래밍</td>\n",
       "      <td>스쿨 온라인</td>\n",
       "      <td>2021-03-28 15:21:43</td>\n",
       "      <td>171810</td>\n",
       "      <td>[10% 할인] 시크릿코드 실무 완성편</td>\n",
       "      <td>19090</td>\n",
       "      <td>190900</td>\n",
       "      <td>COMM</td>\n",
       "      <td>CARD</td>\n",
       "      <td>프로그래밍</td>\n",
       "      <td>2021-03-04 00:00:00</td>\n",
       "    </tr>\n",
       "    <tr>\n",
       "      <th>3</th>\n",
       "      <td>3</td>\n",
       "      <td>970656</td>\n",
       "      <td>72297</td>\n",
       "      <td>204246</td>\n",
       "      <td>ORDER</td>\n",
       "      <td>CANCELLED</td>\n",
       "      <td>시크릿코드 : 프론트엔드 실무 완성편</td>\n",
       "      <td>프로그래밍</td>\n",
       "      <td>스쿨 온라인</td>\n",
       "      <td>2021-03-28 15:21:43</td>\n",
       "      <td>171810</td>\n",
       "      <td>미적용</td>\n",
       "      <td>0</td>\n",
       "      <td>190900</td>\n",
       "      <td>COMM</td>\n",
       "      <td>CARD</td>\n",
       "      <td>프로그래밍</td>\n",
       "      <td>2021-03-04 00:00:00</td>\n",
       "    </tr>\n",
       "    <tr>\n",
       "      <th>4</th>\n",
       "      <td>4</td>\n",
       "      <td>970658</td>\n",
       "      <td>478028</td>\n",
       "      <td>201797</td>\n",
       "      <td>PAYMENT</td>\n",
       "      <td>COMPLETED</td>\n",
       "      <td>올인원 패키지 : 직장인 필수 스킬 3종 세트 MAX</td>\n",
       "      <td>업무 생산성</td>\n",
       "      <td>올인원</td>\n",
       "      <td>2021-03-28 15:21:54</td>\n",
       "      <td>97500</td>\n",
       "      <td>[웰컴쿠폰] 올인원 패키지 2만원 할인 쿠폰</td>\n",
       "      <td>20000</td>\n",
       "      <td>117500</td>\n",
       "      <td>COMM</td>\n",
       "      <td>CARD</td>\n",
       "      <td>PPT/보고서</td>\n",
       "      <td>2019-11-14 00:00:00</td>\n",
       "    </tr>\n",
       "  </tbody>\n",
       "</table>\n",
       "</div>"
      ],
      "text/plain": [
       "   Unnamed: 0      id  customer_id  course_id     type      state  \\\n",
       "0           0  970634       504760     201435    ORDER  CANCELLED   \n",
       "1           1  970650       432862     203178    ORDER  CANCELLED   \n",
       "2           2  970657        72297     204246  PAYMENT  COMPLETED   \n",
       "3           3  970656        72297     204246    ORDER  CANCELLED   \n",
       "4           4  970658       478028     201797  PAYMENT  COMPLETED   \n",
       "\n",
       "                    course_title category_title  format         completed_at  \\\n",
       "0      올인원 패키지 : 알고리즘 기술면접 완전 정복          프로그래밍     올인원  2021-03-28 15:00:11   \n",
       "1    초격차 패키지 : 한번에 끝내는 영상 촬영과 편집          영상/3D     올인원  2021-03-28 15:16:53   \n",
       "2           시크릿코드 : 프론트엔드 실무 완성편          프로그래밍  스쿨 온라인  2021-03-28 15:21:43   \n",
       "3           시크릿코드 : 프론트엔드 실무 완성편          프로그래밍  스쿨 온라인  2021-03-28 15:21:43   \n",
       "4  올인원 패키지 : 직장인 필수 스킬 3종 세트 MAX         업무 생산성     올인원  2021-03-28 15:21:54   \n",
       "\n",
       "   transaction_amount              coupon_title  coupon_discount_amount  \\\n",
       "0               90500                       미적용                       0   \n",
       "1               96000                       미적용                       0   \n",
       "2              171810     [10% 할인] 시크릿코드 실무 완성편                   19090   \n",
       "3              171810                       미적용                       0   \n",
       "4               97500  [웰컴쿠폰] 올인원 패키지 2만원 할인 쿠폰                   20000   \n",
       "\n",
       "   sale_price    pg method subcategory_title   marketing_start_at  \n",
       "0      110500  COMM  VBANK           개발자 커리어  2018-11-11 00:00:00  \n",
       "1      116000  COMM   CARD             영상 편집  2020-12-02 00:00:00  \n",
       "2      190900  COMM   CARD             프로그래밍  2021-03-04 00:00:00  \n",
       "3      190900  COMM   CARD             프로그래밍  2021-03-04 00:00:00  \n",
       "4      117500  COMM   CARD           PPT/보고서  2019-11-14 00:00:00  "
      ]
     },
     "execution_count": 19,
     "metadata": {},
     "output_type": "execute_result"
    }
   ],
   "source": [
    "df.head()"
   ]
  },
  {
   "cell_type": "code",
   "execution_count": 20,
   "id": "2605988a",
   "metadata": {
    "ExecuteTime": {
     "end_time": "2022-07-01T07:54:23.082525Z",
     "start_time": "2022-07-01T07:54:22.773505Z"
    },
    "scrolled": true
   },
   "outputs": [
    {
     "name": "stdout",
     "output_type": "stream",
     "text": [
      "<class 'pandas.core.frame.DataFrame'>\n",
      "RangeIndex: 101102 entries, 0 to 101101\n",
      "Data columns (total 18 columns):\n",
      " #   Column                  Non-Null Count   Dtype \n",
      "---  ------                  --------------   ----- \n",
      " 0   Unnamed: 0              101102 non-null  int64 \n",
      " 1   id                      101102 non-null  int64 \n",
      " 2   customer_id             101102 non-null  int64 \n",
      " 3   course_id               101102 non-null  int64 \n",
      " 4   type                    101102 non-null  object\n",
      " 5   state                   101102 non-null  object\n",
      " 6   course_title            101102 non-null  object\n",
      " 7   category_title          101102 non-null  object\n",
      " 8   format                  101102 non-null  object\n",
      " 9   completed_at            101102 non-null  object\n",
      " 10  transaction_amount      101102 non-null  int64 \n",
      " 11  coupon_title            101102 non-null  object\n",
      " 12  coupon_discount_amount  101102 non-null  int64 \n",
      " 13  sale_price              101102 non-null  int64 \n",
      " 14  pg                      101102 non-null  object\n",
      " 15  method                  101102 non-null  object\n",
      " 16  subcategory_title       101102 non-null  object\n",
      " 17  marketing_start_at      101102 non-null  object\n",
      "dtypes: int64(7), object(11)\n",
      "memory usage: 13.9+ MB\n"
     ]
    }
   ],
   "source": [
    "# overview\n",
    "df.info()"
   ]
  },
  {
   "cell_type": "markdown",
   "id": "ac14dc40",
   "metadata": {},
   "source": [
    "> 101102 row , 13.94mb, no Nan data"
   ]
  },
  {
   "cell_type": "code",
   "execution_count": 21,
   "id": "85075d80",
   "metadata": {
    "ExecuteTime": {
     "end_time": "2022-07-01T07:54:24.139609Z",
     "start_time": "2022-07-01T07:54:24.080909Z"
    }
   },
   "outputs": [
    {
     "data": {
      "text/html": [
       "<div>\n",
       "<style scoped>\n",
       "    .dataframe tbody tr th:only-of-type {\n",
       "        vertical-align: middle;\n",
       "    }\n",
       "\n",
       "    .dataframe tbody tr th {\n",
       "        vertical-align: top;\n",
       "    }\n",
       "\n",
       "    .dataframe thead th {\n",
       "        text-align: right;\n",
       "    }\n",
       "</style>\n",
       "<table border=\"1\" class=\"dataframe\">\n",
       "  <thead>\n",
       "    <tr style=\"text-align: right;\">\n",
       "      <th></th>\n",
       "      <th>Unnamed: 0</th>\n",
       "      <th>id</th>\n",
       "      <th>customer_id</th>\n",
       "      <th>course_id</th>\n",
       "      <th>transaction_amount</th>\n",
       "      <th>coupon_discount_amount</th>\n",
       "      <th>sale_price</th>\n",
       "    </tr>\n",
       "  </thead>\n",
       "  <tbody>\n",
       "    <tr>\n",
       "      <th>count</th>\n",
       "      <td>101102.000000</td>\n",
       "      <td>1.011020e+05</td>\n",
       "      <td>101102.000000</td>\n",
       "      <td>101102.000000</td>\n",
       "      <td>1.011020e+05</td>\n",
       "      <td>101102.000000</td>\n",
       "      <td>1.011020e+05</td>\n",
       "    </tr>\n",
       "    <tr>\n",
       "      <th>mean</th>\n",
       "      <td>50886.347708</td>\n",
       "      <td>1.145511e+06</td>\n",
       "      <td>415909.561997</td>\n",
       "      <td>208729.604815</td>\n",
       "      <td>1.286851e+05</td>\n",
       "      <td>14423.185199</td>\n",
       "      <td>1.592345e+05</td>\n",
       "    </tr>\n",
       "    <tr>\n",
       "      <th>std</th>\n",
       "      <td>29393.569867</td>\n",
       "      <td>1.125048e+05</td>\n",
       "      <td>206627.373238</td>\n",
       "      <td>21281.637839</td>\n",
       "      <td>1.299967e+05</td>\n",
       "      <td>35684.365000</td>\n",
       "      <td>1.147219e+05</td>\n",
       "    </tr>\n",
       "    <tr>\n",
       "      <th>min</th>\n",
       "      <td>0.000000</td>\n",
       "      <td>5.679930e+05</td>\n",
       "      <td>16.000000</td>\n",
       "      <td>2516.000000</td>\n",
       "      <td>-1.800000e+06</td>\n",
       "      <td>0.000000</td>\n",
       "      <td>0.000000e+00</td>\n",
       "    </tr>\n",
       "    <tr>\n",
       "      <th>25%</th>\n",
       "      <td>25411.250000</td>\n",
       "      <td>1.047142e+06</td>\n",
       "      <td>228975.000000</td>\n",
       "      <td>203146.000000</td>\n",
       "      <td>8.900000e+04</td>\n",
       "      <td>0.000000</td>\n",
       "      <td>1.100000e+05</td>\n",
       "    </tr>\n",
       "    <tr>\n",
       "      <th>50%</th>\n",
       "      <td>50899.500000</td>\n",
       "      <td>1.133842e+06</td>\n",
       "      <td>500265.500000</td>\n",
       "      <td>203787.000000</td>\n",
       "      <td>1.190000e+05</td>\n",
       "      <td>0.000000</td>\n",
       "      <td>1.340000e+05</td>\n",
       "    </tr>\n",
       "    <tr>\n",
       "      <th>75%</th>\n",
       "      <td>76337.750000</td>\n",
       "      <td>1.238848e+06</td>\n",
       "      <td>565941.000000</td>\n",
       "      <td>204870.000000</td>\n",
       "      <td>1.584000e+05</td>\n",
       "      <td>10000.000000</td>\n",
       "      <td>1.710000e+05</td>\n",
       "    </tr>\n",
       "    <tr>\n",
       "      <th>max</th>\n",
       "      <td>101817.000000</td>\n",
       "      <td>1.381657e+06</td>\n",
       "      <td>670896.000000</td>\n",
       "      <td>300000.000000</td>\n",
       "      <td>1.800000e+06</td>\n",
       "      <td>674000.000000</td>\n",
       "      <td>1.800000e+06</td>\n",
       "    </tr>\n",
       "  </tbody>\n",
       "</table>\n",
       "</div>"
      ],
      "text/plain": [
       "          Unnamed: 0            id    customer_id      course_id  \\\n",
       "count  101102.000000  1.011020e+05  101102.000000  101102.000000   \n",
       "mean    50886.347708  1.145511e+06  415909.561997  208729.604815   \n",
       "std     29393.569867  1.125048e+05  206627.373238   21281.637839   \n",
       "min         0.000000  5.679930e+05      16.000000    2516.000000   \n",
       "25%     25411.250000  1.047142e+06  228975.000000  203146.000000   \n",
       "50%     50899.500000  1.133842e+06  500265.500000  203787.000000   \n",
       "75%     76337.750000  1.238848e+06  565941.000000  204870.000000   \n",
       "max    101817.000000  1.381657e+06  670896.000000  300000.000000   \n",
       "\n",
       "       transaction_amount  coupon_discount_amount    sale_price  \n",
       "count        1.011020e+05           101102.000000  1.011020e+05  \n",
       "mean         1.286851e+05            14423.185199  1.592345e+05  \n",
       "std          1.299967e+05            35684.365000  1.147219e+05  \n",
       "min         -1.800000e+06                0.000000  0.000000e+00  \n",
       "25%          8.900000e+04                0.000000  1.100000e+05  \n",
       "50%          1.190000e+05                0.000000  1.340000e+05  \n",
       "75%          1.584000e+05            10000.000000  1.710000e+05  \n",
       "max          1.800000e+06           674000.000000  1.800000e+06  "
      ]
     },
     "execution_count": 21,
     "metadata": {},
     "output_type": "execute_result"
    }
   ],
   "source": [
    "# overview\n",
    "df.describe()"
   ]
  },
  {
   "cell_type": "markdown",
   "id": "6f1f6f24",
   "metadata": {},
   "source": [
    "# 매출 분석"
   ]
  },
  {
   "cell_type": "markdown",
   "id": "067228e5",
   "metadata": {},
   "source": [
    "## 매출 정의"
   ]
  },
  {
   "cell_type": "markdown",
   "id": "f35aafa3",
   "metadata": {},
   "source": [
    "> 매출은 'type' 컬럼의 값이 'PAYMENT' 또는 'REFUND' 이면서 'state' 컬럼의 값이 'COMPLETED' 인 값들의 합으로 정의"
   ]
  },
  {
   "cell_type": "markdown",
   "id": "ec54f1a2",
   "metadata": {},
   "source": [
    "### 총 매출 구하기"
   ]
  },
  {
   "cell_type": "code",
   "execution_count": 22,
   "id": "14db4dd6",
   "metadata": {
    "ExecuteTime": {
     "end_time": "2022-07-01T07:54:26.769942Z",
     "start_time": "2022-07-01T07:54:26.653144Z"
    }
   },
   "outputs": [],
   "source": [
    "# completed_at 컬럼 타입을 datetime으로 변경\n",
    "df['completed_at'] = pd.to_datetime(df['completed_at'])"
   ]
  },
  {
   "cell_type": "code",
   "execution_count": 23,
   "id": "bdb724c8",
   "metadata": {
    "ExecuteTime": {
     "end_time": "2022-07-01T07:54:27.283622Z",
     "start_time": "2022-07-01T07:54:27.250726Z"
    },
    "scrolled": false
   },
   "outputs": [
    {
     "data": {
      "text/html": [
       "<div>\n",
       "<style scoped>\n",
       "    .dataframe tbody tr th:only-of-type {\n",
       "        vertical-align: middle;\n",
       "    }\n",
       "\n",
       "    .dataframe tbody tr th {\n",
       "        vertical-align: top;\n",
       "    }\n",
       "\n",
       "    .dataframe thead th {\n",
       "        text-align: right;\n",
       "    }\n",
       "</style>\n",
       "<table border=\"1\" class=\"dataframe\">\n",
       "  <thead>\n",
       "    <tr style=\"text-align: right;\">\n",
       "      <th></th>\n",
       "      <th>Unnamed: 0</th>\n",
       "      <th>id</th>\n",
       "      <th>customer_id</th>\n",
       "      <th>course_id</th>\n",
       "      <th>type</th>\n",
       "      <th>state</th>\n",
       "      <th>course_title</th>\n",
       "      <th>category_title</th>\n",
       "      <th>format</th>\n",
       "      <th>transaction_amount</th>\n",
       "      <th>coupon_title</th>\n",
       "      <th>coupon_discount_amount</th>\n",
       "      <th>sale_price</th>\n",
       "      <th>pg</th>\n",
       "      <th>method</th>\n",
       "      <th>subcategory_title</th>\n",
       "      <th>marketing_start_at</th>\n",
       "    </tr>\n",
       "    <tr>\n",
       "      <th>completed_at</th>\n",
       "      <th></th>\n",
       "      <th></th>\n",
       "      <th></th>\n",
       "      <th></th>\n",
       "      <th></th>\n",
       "      <th></th>\n",
       "      <th></th>\n",
       "      <th></th>\n",
       "      <th></th>\n",
       "      <th></th>\n",
       "      <th></th>\n",
       "      <th></th>\n",
       "      <th></th>\n",
       "      <th></th>\n",
       "      <th></th>\n",
       "      <th></th>\n",
       "      <th></th>\n",
       "    </tr>\n",
       "  </thead>\n",
       "  <tbody>\n",
       "    <tr>\n",
       "      <th>2021-03-28 15:00:11</th>\n",
       "      <td>0</td>\n",
       "      <td>970634</td>\n",
       "      <td>504760</td>\n",
       "      <td>201435</td>\n",
       "      <td>ORDER</td>\n",
       "      <td>CANCELLED</td>\n",
       "      <td>올인원 패키지 : 알고리즘 기술면접 완전 정복</td>\n",
       "      <td>프로그래밍</td>\n",
       "      <td>올인원</td>\n",
       "      <td>90500</td>\n",
       "      <td>미적용</td>\n",
       "      <td>0</td>\n",
       "      <td>110500</td>\n",
       "      <td>COMM</td>\n",
       "      <td>VBANK</td>\n",
       "      <td>개발자 커리어</td>\n",
       "      <td>2018-11-11 00:00:00</td>\n",
       "    </tr>\n",
       "    <tr>\n",
       "      <th>2021-03-28 15:16:53</th>\n",
       "      <td>1</td>\n",
       "      <td>970650</td>\n",
       "      <td>432862</td>\n",
       "      <td>203178</td>\n",
       "      <td>ORDER</td>\n",
       "      <td>CANCELLED</td>\n",
       "      <td>초격차 패키지 : 한번에 끝내는 영상 촬영과 편집</td>\n",
       "      <td>영상/3D</td>\n",
       "      <td>올인원</td>\n",
       "      <td>96000</td>\n",
       "      <td>미적용</td>\n",
       "      <td>0</td>\n",
       "      <td>116000</td>\n",
       "      <td>COMM</td>\n",
       "      <td>CARD</td>\n",
       "      <td>영상 편집</td>\n",
       "      <td>2020-12-02 00:00:00</td>\n",
       "    </tr>\n",
       "    <tr>\n",
       "      <th>2021-03-28 15:21:43</th>\n",
       "      <td>2</td>\n",
       "      <td>970657</td>\n",
       "      <td>72297</td>\n",
       "      <td>204246</td>\n",
       "      <td>PAYMENT</td>\n",
       "      <td>COMPLETED</td>\n",
       "      <td>시크릿코드 : 프론트엔드 실무 완성편</td>\n",
       "      <td>프로그래밍</td>\n",
       "      <td>스쿨 온라인</td>\n",
       "      <td>171810</td>\n",
       "      <td>[10% 할인] 시크릿코드 실무 완성편</td>\n",
       "      <td>19090</td>\n",
       "      <td>190900</td>\n",
       "      <td>COMM</td>\n",
       "      <td>CARD</td>\n",
       "      <td>프로그래밍</td>\n",
       "      <td>2021-03-04 00:00:00</td>\n",
       "    </tr>\n",
       "    <tr>\n",
       "      <th>2021-03-28 15:21:43</th>\n",
       "      <td>3</td>\n",
       "      <td>970656</td>\n",
       "      <td>72297</td>\n",
       "      <td>204246</td>\n",
       "      <td>ORDER</td>\n",
       "      <td>CANCELLED</td>\n",
       "      <td>시크릿코드 : 프론트엔드 실무 완성편</td>\n",
       "      <td>프로그래밍</td>\n",
       "      <td>스쿨 온라인</td>\n",
       "      <td>171810</td>\n",
       "      <td>미적용</td>\n",
       "      <td>0</td>\n",
       "      <td>190900</td>\n",
       "      <td>COMM</td>\n",
       "      <td>CARD</td>\n",
       "      <td>프로그래밍</td>\n",
       "      <td>2021-03-04 00:00:00</td>\n",
       "    </tr>\n",
       "    <tr>\n",
       "      <th>2021-03-28 15:21:54</th>\n",
       "      <td>4</td>\n",
       "      <td>970658</td>\n",
       "      <td>478028</td>\n",
       "      <td>201797</td>\n",
       "      <td>PAYMENT</td>\n",
       "      <td>COMPLETED</td>\n",
       "      <td>올인원 패키지 : 직장인 필수 스킬 3종 세트 MAX</td>\n",
       "      <td>업무 생산성</td>\n",
       "      <td>올인원</td>\n",
       "      <td>97500</td>\n",
       "      <td>[웰컴쿠폰] 올인원 패키지 2만원 할인 쿠폰</td>\n",
       "      <td>20000</td>\n",
       "      <td>117500</td>\n",
       "      <td>COMM</td>\n",
       "      <td>CARD</td>\n",
       "      <td>PPT/보고서</td>\n",
       "      <td>2019-11-14 00:00:00</td>\n",
       "    </tr>\n",
       "  </tbody>\n",
       "</table>\n",
       "</div>"
      ],
      "text/plain": [
       "                     Unnamed: 0      id  customer_id  course_id     type  \\\n",
       "completed_at                                                               \n",
       "2021-03-28 15:00:11           0  970634       504760     201435    ORDER   \n",
       "2021-03-28 15:16:53           1  970650       432862     203178    ORDER   \n",
       "2021-03-28 15:21:43           2  970657        72297     204246  PAYMENT   \n",
       "2021-03-28 15:21:43           3  970656        72297     204246    ORDER   \n",
       "2021-03-28 15:21:54           4  970658       478028     201797  PAYMENT   \n",
       "\n",
       "                         state                   course_title category_title  \\\n",
       "completed_at                                                                   \n",
       "2021-03-28 15:00:11  CANCELLED      올인원 패키지 : 알고리즘 기술면접 완전 정복          프로그래밍   \n",
       "2021-03-28 15:16:53  CANCELLED    초격차 패키지 : 한번에 끝내는 영상 촬영과 편집          영상/3D   \n",
       "2021-03-28 15:21:43  COMPLETED           시크릿코드 : 프론트엔드 실무 완성편          프로그래밍   \n",
       "2021-03-28 15:21:43  CANCELLED           시크릿코드 : 프론트엔드 실무 완성편          프로그래밍   \n",
       "2021-03-28 15:21:54  COMPLETED  올인원 패키지 : 직장인 필수 스킬 3종 세트 MAX         업무 생산성   \n",
       "\n",
       "                     format  transaction_amount              coupon_title  \\\n",
       "completed_at                                                                \n",
       "2021-03-28 15:00:11     올인원               90500                       미적용   \n",
       "2021-03-28 15:16:53     올인원               96000                       미적용   \n",
       "2021-03-28 15:21:43  스쿨 온라인              171810     [10% 할인] 시크릿코드 실무 완성편   \n",
       "2021-03-28 15:21:43  스쿨 온라인              171810                       미적용   \n",
       "2021-03-28 15:21:54     올인원               97500  [웰컴쿠폰] 올인원 패키지 2만원 할인 쿠폰   \n",
       "\n",
       "                     coupon_discount_amount  sale_price    pg method  \\\n",
       "completed_at                                                           \n",
       "2021-03-28 15:00:11                       0      110500  COMM  VBANK   \n",
       "2021-03-28 15:16:53                       0      116000  COMM   CARD   \n",
       "2021-03-28 15:21:43                   19090      190900  COMM   CARD   \n",
       "2021-03-28 15:21:43                       0      190900  COMM   CARD   \n",
       "2021-03-28 15:21:54                   20000      117500  COMM   CARD   \n",
       "\n",
       "                    subcategory_title   marketing_start_at  \n",
       "completed_at                                                \n",
       "2021-03-28 15:00:11           개발자 커리어  2018-11-11 00:00:00  \n",
       "2021-03-28 15:16:53             영상 편집  2020-12-02 00:00:00  \n",
       "2021-03-28 15:21:43             프로그래밍  2021-03-04 00:00:00  \n",
       "2021-03-28 15:21:43             프로그래밍  2021-03-04 00:00:00  \n",
       "2021-03-28 15:21:54           PPT/보고서  2019-11-14 00:00:00  "
      ]
     },
     "execution_count": 23,
     "metadata": {},
     "output_type": "execute_result"
    }
   ],
   "source": [
    "# completed_at 을 인덱스로 설정\n",
    "df.set_index('completed_at').head()"
   ]
  },
  {
   "cell_type": "code",
   "execution_count": 24,
   "id": "a5703abb",
   "metadata": {
    "ExecuteTime": {
     "end_time": "2022-07-01T07:54:27.738633Z",
     "start_time": "2022-07-01T07:54:27.700670Z"
    },
    "scrolled": true
   },
   "outputs": [
    {
     "data": {
      "text/plain": [
       "0         False\n",
       "1         False\n",
       "2         False\n",
       "3         False\n",
       "4         False\n",
       "          ...  \n",
       "101097    False\n",
       "101098    False\n",
       "101099    False\n",
       "101100    False\n",
       "101101    False\n",
       "Length: 101102, dtype: bool"
      ]
     },
     "execution_count": 24,
     "metadata": {},
     "output_type": "execute_result"
    }
   ],
   "source": [
    "((df.type == 'PAYMENT') & (df.type == 'REFUND') & (df.state == 'COMPLETED'))"
   ]
  },
  {
   "cell_type": "code",
   "execution_count": 25,
   "id": "220de8ac",
   "metadata": {
    "ExecuteTime": {
     "end_time": "2022-07-01T07:54:28.244060Z",
     "start_time": "2022-07-01T07:54:28.181986Z"
    }
   },
   "outputs": [],
   "source": [
    "# 매출 계산에 필요한 값 가져오기\n",
    "pay_com = df[(df['type'] == 'PAYMENT') & (df['state'] == 'COMPLETED')]  # payment 변수\n",
    "re_com = df[(df['type'] == 'REFUND') & (df['state'] == 'COMPLETED')]  # refund 변수"
   ]
  },
  {
   "cell_type": "code",
   "execution_count": 26,
   "id": "6d452c19",
   "metadata": {
    "ExecuteTime": {
     "end_time": "2022-07-01T07:54:32.516133Z",
     "start_time": "2022-07-01T07:54:32.470757Z"
    }
   },
   "outputs": [
    {
     "data": {
      "text/html": [
       "<div>\n",
       "<style scoped>\n",
       "    .dataframe tbody tr th:only-of-type {\n",
       "        vertical-align: middle;\n",
       "    }\n",
       "\n",
       "    .dataframe tbody tr th {\n",
       "        vertical-align: top;\n",
       "    }\n",
       "\n",
       "    .dataframe thead th {\n",
       "        text-align: right;\n",
       "    }\n",
       "</style>\n",
       "<table border=\"1\" class=\"dataframe\">\n",
       "  <thead>\n",
       "    <tr style=\"text-align: right;\">\n",
       "      <th></th>\n",
       "      <th>Unnamed: 0</th>\n",
       "      <th>id</th>\n",
       "      <th>customer_id</th>\n",
       "      <th>course_id</th>\n",
       "      <th>type</th>\n",
       "      <th>state</th>\n",
       "      <th>course_title</th>\n",
       "      <th>category_title</th>\n",
       "      <th>format</th>\n",
       "      <th>completed_at</th>\n",
       "      <th>transaction_amount</th>\n",
       "      <th>coupon_title</th>\n",
       "      <th>coupon_discount_amount</th>\n",
       "      <th>sale_price</th>\n",
       "      <th>pg</th>\n",
       "      <th>method</th>\n",
       "      <th>subcategory_title</th>\n",
       "      <th>marketing_start_at</th>\n",
       "    </tr>\n",
       "  </thead>\n",
       "  <tbody>\n",
       "    <tr>\n",
       "      <th>2</th>\n",
       "      <td>2</td>\n",
       "      <td>970657</td>\n",
       "      <td>72297</td>\n",
       "      <td>204246</td>\n",
       "      <td>PAYMENT</td>\n",
       "      <td>COMPLETED</td>\n",
       "      <td>시크릿코드 : 프론트엔드 실무 완성편</td>\n",
       "      <td>프로그래밍</td>\n",
       "      <td>스쿨 온라인</td>\n",
       "      <td>2021-03-28 15:21:43</td>\n",
       "      <td>171810</td>\n",
       "      <td>[10% 할인] 시크릿코드 실무 완성편</td>\n",
       "      <td>19090</td>\n",
       "      <td>190900</td>\n",
       "      <td>COMM</td>\n",
       "      <td>CARD</td>\n",
       "      <td>프로그래밍</td>\n",
       "      <td>2021-03-04 00:00:00</td>\n",
       "    </tr>\n",
       "    <tr>\n",
       "      <th>4</th>\n",
       "      <td>4</td>\n",
       "      <td>970658</td>\n",
       "      <td>478028</td>\n",
       "      <td>201797</td>\n",
       "      <td>PAYMENT</td>\n",
       "      <td>COMPLETED</td>\n",
       "      <td>올인원 패키지 : 직장인 필수 스킬 3종 세트 MAX</td>\n",
       "      <td>업무 생산성</td>\n",
       "      <td>올인원</td>\n",
       "      <td>2021-03-28 15:21:54</td>\n",
       "      <td>97500</td>\n",
       "      <td>[웰컴쿠폰] 올인원 패키지 2만원 할인 쿠폰</td>\n",
       "      <td>20000</td>\n",
       "      <td>117500</td>\n",
       "      <td>COMM</td>\n",
       "      <td>CARD</td>\n",
       "      <td>PPT/보고서</td>\n",
       "      <td>2019-11-14 00:00:00</td>\n",
       "    </tr>\n",
       "    <tr>\n",
       "      <th>8</th>\n",
       "      <td>8</td>\n",
       "      <td>970669</td>\n",
       "      <td>478033</td>\n",
       "      <td>203178</td>\n",
       "      <td>PAYMENT</td>\n",
       "      <td>COMPLETED</td>\n",
       "      <td>초격차 패키지 : 한번에 끝내는 영상 촬영과 편집</td>\n",
       "      <td>영상/3D</td>\n",
       "      <td>올인원</td>\n",
       "      <td>2021-03-28 15:26:47</td>\n",
       "      <td>96000</td>\n",
       "      <td>[웰컴쿠폰] 올인원 패키지 2만원 할인 쿠폰</td>\n",
       "      <td>20000</td>\n",
       "      <td>116000</td>\n",
       "      <td>COMM</td>\n",
       "      <td>CARD</td>\n",
       "      <td>영상 편집</td>\n",
       "      <td>2020-12-02 00:00:00</td>\n",
       "    </tr>\n",
       "    <tr>\n",
       "      <th>10</th>\n",
       "      <td>10</td>\n",
       "      <td>970671</td>\n",
       "      <td>469860</td>\n",
       "      <td>203644</td>\n",
       "      <td>PAYMENT</td>\n",
       "      <td>COMPLETED</td>\n",
       "      <td>올인원 패키지 : 권오상의 금융 아카데미 - 권오상의 재무제표 분석 기초(평생소장)</td>\n",
       "      <td>부동산/금융</td>\n",
       "      <td>올인원</td>\n",
       "      <td>2021-03-28 15:27:17</td>\n",
       "      <td>263000</td>\n",
       "      <td>미적용</td>\n",
       "      <td>0</td>\n",
       "      <td>263000</td>\n",
       "      <td>COMM</td>\n",
       "      <td>CARD</td>\n",
       "      <td>부동산/금융</td>\n",
       "      <td>2020-11-27 00:00:00</td>\n",
       "    </tr>\n",
       "    <tr>\n",
       "      <th>14</th>\n",
       "      <td>14</td>\n",
       "      <td>970676</td>\n",
       "      <td>478035</td>\n",
       "      <td>203720</td>\n",
       "      <td>PAYMENT</td>\n",
       "      <td>COMPLETED</td>\n",
       "      <td>초격차 패키지 : 한 번에 끝내는 프론트엔드 개발</td>\n",
       "      <td>프로그래밍</td>\n",
       "      <td>올인원</td>\n",
       "      <td>2021-03-28 15:31:01</td>\n",
       "      <td>91000</td>\n",
       "      <td>[웰컴쿠폰] 올인원 패키지 2만원 할인 쿠폰</td>\n",
       "      <td>20000</td>\n",
       "      <td>111000</td>\n",
       "      <td>COMM</td>\n",
       "      <td>CARD</td>\n",
       "      <td>프론트엔드 개발</td>\n",
       "      <td>2021-02-02 00:00:00</td>\n",
       "    </tr>\n",
       "    <tr>\n",
       "      <th>...</th>\n",
       "      <td>...</td>\n",
       "      <td>...</td>\n",
       "      <td>...</td>\n",
       "      <td>...</td>\n",
       "      <td>...</td>\n",
       "      <td>...</td>\n",
       "      <td>...</td>\n",
       "      <td>...</td>\n",
       "      <td>...</td>\n",
       "      <td>...</td>\n",
       "      <td>...</td>\n",
       "      <td>...</td>\n",
       "      <td>...</td>\n",
       "      <td>...</td>\n",
       "      <td>...</td>\n",
       "      <td>...</td>\n",
       "      <td>...</td>\n",
       "      <td>...</td>\n",
       "    </tr>\n",
       "    <tr>\n",
       "      <th>100866</th>\n",
       "      <td>101582</td>\n",
       "      <td>1363708</td>\n",
       "      <td>600073</td>\n",
       "      <td>206065</td>\n",
       "      <td>REFUND</td>\n",
       "      <td>COMPLETED</td>\n",
       "      <td>(프로모션 7/16-7/29) 초격차 패키지 : 한 번에 끝내는 Spring 완.전.판</td>\n",
       "      <td>프로그래밍</td>\n",
       "      <td>올인원</td>\n",
       "      <td>2021-09-24 14:34:50</td>\n",
       "      <td>-149000</td>\n",
       "      <td>미적용</td>\n",
       "      <td>0</td>\n",
       "      <td>179000</td>\n",
       "      <td>NAVER</td>\n",
       "      <td>CARD</td>\n",
       "      <td>백엔드 개발</td>\n",
       "      <td>2021-07-15 00:00:00</td>\n",
       "    </tr>\n",
       "    <tr>\n",
       "      <th>100870</th>\n",
       "      <td>101586</td>\n",
       "      <td>1363721</td>\n",
       "      <td>645911</td>\n",
       "      <td>300000</td>\n",
       "      <td>REFUND</td>\n",
       "      <td>COMPLETED</td>\n",
       "      <td>프로모션 : 콘텐츠 마케터 맥북 air 패스(9월 현물 프리패스)</td>\n",
       "      <td>마케팅</td>\n",
       "      <td>올인원</td>\n",
       "      <td>2021-09-24 14:41:35</td>\n",
       "      <td>-1400000</td>\n",
       "      <td>미적용</td>\n",
       "      <td>0</td>\n",
       "      <td>1400000</td>\n",
       "      <td>INICIS</td>\n",
       "      <td>CARD</td>\n",
       "      <td>마케팅</td>\n",
       "      <td>2018-11-11 00:00:00</td>\n",
       "    </tr>\n",
       "    <tr>\n",
       "      <th>100895</th>\n",
       "      <td>101611</td>\n",
       "      <td>1363934</td>\n",
       "      <td>506356</td>\n",
       "      <td>206720</td>\n",
       "      <td>REFUND</td>\n",
       "      <td>COMPLETED</td>\n",
       "      <td>용호수의 돈 버는 실전 영상 제작</td>\n",
       "      <td>영상/3D</td>\n",
       "      <td>올인원</td>\n",
       "      <td>2021-09-24 16:10:55</td>\n",
       "      <td>-259000</td>\n",
       "      <td>미적용</td>\n",
       "      <td>0</td>\n",
       "      <td>259000</td>\n",
       "      <td>NAVER</td>\n",
       "      <td>CARD</td>\n",
       "      <td>영상 편집</td>\n",
       "      <td>2021-08-17 00:00:00</td>\n",
       "    </tr>\n",
       "    <tr>\n",
       "      <th>100933</th>\n",
       "      <td>101649</td>\n",
       "      <td>1364149</td>\n",
       "      <td>604077</td>\n",
       "      <td>205569</td>\n",
       "      <td>REFUND</td>\n",
       "      <td>COMPLETED</td>\n",
       "      <td>올인원 패키지 : 공여사와 무작정 풀어보는 엑셀 실무</td>\n",
       "      <td>업무 생산성</td>\n",
       "      <td>올인원</td>\n",
       "      <td>2021-09-24 17:09:30</td>\n",
       "      <td>-109000</td>\n",
       "      <td>미적용</td>\n",
       "      <td>0</td>\n",
       "      <td>129000</td>\n",
       "      <td>KAKAO</td>\n",
       "      <td>POINT</td>\n",
       "      <td>엑셀/VBA</td>\n",
       "      <td>2021-08-17 00:00:00</td>\n",
       "    </tr>\n",
       "    <tr>\n",
       "      <th>100936</th>\n",
       "      <td>101652</td>\n",
       "      <td>1364217</td>\n",
       "      <td>552100</td>\n",
       "      <td>203525</td>\n",
       "      <td>REFUND</td>\n",
       "      <td>COMPLETED</td>\n",
       "      <td>초격차 패키지 : 한번에 끝내는 Java/Spring 웹 개발 마스터</td>\n",
       "      <td>프로그래밍</td>\n",
       "      <td>올인원</td>\n",
       "      <td>2021-09-24 17:33:53</td>\n",
       "      <td>-108186</td>\n",
       "      <td>미적용</td>\n",
       "      <td>0</td>\n",
       "      <td>114000</td>\n",
       "      <td>INICIS</td>\n",
       "      <td>CARD</td>\n",
       "      <td>백엔드 개발</td>\n",
       "      <td>2021-02-01 00:00:00</td>\n",
       "    </tr>\n",
       "  </tbody>\n",
       "</table>\n",
       "<p>53040 rows × 18 columns</p>\n",
       "</div>"
      ],
      "text/plain": [
       "        Unnamed: 0       id  customer_id  course_id     type      state  \\\n",
       "2                2   970657        72297     204246  PAYMENT  COMPLETED   \n",
       "4                4   970658       478028     201797  PAYMENT  COMPLETED   \n",
       "8                8   970669       478033     203178  PAYMENT  COMPLETED   \n",
       "10              10   970671       469860     203644  PAYMENT  COMPLETED   \n",
       "14              14   970676       478035     203720  PAYMENT  COMPLETED   \n",
       "...            ...      ...          ...        ...      ...        ...   \n",
       "100866      101582  1363708       600073     206065   REFUND  COMPLETED   \n",
       "100870      101586  1363721       645911     300000   REFUND  COMPLETED   \n",
       "100895      101611  1363934       506356     206720   REFUND  COMPLETED   \n",
       "100933      101649  1364149       604077     205569   REFUND  COMPLETED   \n",
       "100936      101652  1364217       552100     203525   REFUND  COMPLETED   \n",
       "\n",
       "                                            course_title category_title  \\\n",
       "2                                   시크릿코드 : 프론트엔드 실무 완성편          프로그래밍   \n",
       "4                          올인원 패키지 : 직장인 필수 스킬 3종 세트 MAX         업무 생산성   \n",
       "8                            초격차 패키지 : 한번에 끝내는 영상 촬영과 편집          영상/3D   \n",
       "10        올인원 패키지 : 권오상의 금융 아카데미 - 권오상의 재무제표 분석 기초(평생소장)         부동산/금융   \n",
       "14                           초격차 패키지 : 한 번에 끝내는 프론트엔드 개발          프로그래밍   \n",
       "...                                                  ...            ...   \n",
       "100866  (프로모션 7/16-7/29) 초격차 패키지 : 한 번에 끝내는 Spring 완.전.판          프로그래밍   \n",
       "100870              프로모션 : 콘텐츠 마케터 맥북 air 패스(9월 현물 프리패스)            마케팅   \n",
       "100895                                용호수의 돈 버는 실전 영상 제작          영상/3D   \n",
       "100933                     올인원 패키지 : 공여사와 무작정 풀어보는 엑셀 실무         업무 생산성   \n",
       "100936            초격차 패키지 : 한번에 끝내는 Java/Spring 웹 개발 마스터          프로그래밍   \n",
       "\n",
       "        format        completed_at  transaction_amount  \\\n",
       "2       스쿨 온라인 2021-03-28 15:21:43              171810   \n",
       "4          올인원 2021-03-28 15:21:54               97500   \n",
       "8          올인원 2021-03-28 15:26:47               96000   \n",
       "10         올인원 2021-03-28 15:27:17              263000   \n",
       "14         올인원 2021-03-28 15:31:01               91000   \n",
       "...        ...                 ...                 ...   \n",
       "100866     올인원 2021-09-24 14:34:50             -149000   \n",
       "100870     올인원 2021-09-24 14:41:35            -1400000   \n",
       "100895     올인원 2021-09-24 16:10:55             -259000   \n",
       "100933     올인원 2021-09-24 17:09:30             -109000   \n",
       "100936     올인원 2021-09-24 17:33:53             -108186   \n",
       "\n",
       "                    coupon_title  coupon_discount_amount  sale_price      pg  \\\n",
       "2          [10% 할인] 시크릿코드 실무 완성편                   19090      190900    COMM   \n",
       "4       [웰컴쿠폰] 올인원 패키지 2만원 할인 쿠폰                   20000      117500    COMM   \n",
       "8       [웰컴쿠폰] 올인원 패키지 2만원 할인 쿠폰                   20000      116000    COMM   \n",
       "10                           미적용                       0      263000    COMM   \n",
       "14      [웰컴쿠폰] 올인원 패키지 2만원 할인 쿠폰                   20000      111000    COMM   \n",
       "...                          ...                     ...         ...     ...   \n",
       "100866                       미적용                       0      179000   NAVER   \n",
       "100870                       미적용                       0     1400000  INICIS   \n",
       "100895                       미적용                       0      259000   NAVER   \n",
       "100933                       미적용                       0      129000   KAKAO   \n",
       "100936                       미적용                       0      114000  INICIS   \n",
       "\n",
       "       method subcategory_title   marketing_start_at  \n",
       "2        CARD             프로그래밍  2021-03-04 00:00:00  \n",
       "4        CARD           PPT/보고서  2019-11-14 00:00:00  \n",
       "8        CARD             영상 편집  2020-12-02 00:00:00  \n",
       "10       CARD            부동산/금융  2020-11-27 00:00:00  \n",
       "14       CARD          프론트엔드 개발  2021-02-02 00:00:00  \n",
       "...       ...               ...                  ...  \n",
       "100866   CARD            백엔드 개발  2021-07-15 00:00:00  \n",
       "100870   CARD               마케팅  2018-11-11 00:00:00  \n",
       "100895   CARD             영상 편집  2021-08-17 00:00:00  \n",
       "100933  POINT            엑셀/VBA  2021-08-17 00:00:00  \n",
       "100936   CARD            백엔드 개발  2021-02-01 00:00:00  \n",
       "\n",
       "[53040 rows x 18 columns]"
      ]
     },
     "execution_count": 26,
     "metadata": {},
     "output_type": "execute_result"
    }
   ],
   "source": [
    "# 데이터 2개 합치기\n",
    "rev = pd.concat([pay_com,re_com])\n",
    "rev  "
   ]
  },
  {
   "cell_type": "code",
   "execution_count": 27,
   "id": "77d00ee3",
   "metadata": {
    "ExecuteTime": {
     "end_time": "2022-07-01T07:54:33.006821Z",
     "start_time": "2022-07-01T07:54:32.992114Z"
    }
   },
   "outputs": [
    {
     "data": {
      "text/plain": [
       "5972719534"
      ]
     },
     "execution_count": 27,
     "metadata": {},
     "output_type": "execute_result"
    }
   ],
   "source": [
    "# 총 매출 구하기\n",
    "rev.transaction_amount.sum()"
   ]
  },
  {
   "cell_type": "code",
   "execution_count": 28,
   "id": "944f2c5e",
   "metadata": {
    "ExecuteTime": {
     "end_time": "2022-07-01T07:54:33.640735Z",
     "start_time": "2022-07-01T07:54:33.628064Z"
    }
   },
   "outputs": [
    {
     "data": {
      "text/plain": [
       "Timestamp('2021-03-28 15:21:43')"
      ]
     },
     "execution_count": 28,
     "metadata": {},
     "output_type": "execute_result"
    }
   ],
   "source": [
    "# 결제가 일어난 첫번쨰 시간\n",
    "rev.completed_at.min()"
   ]
  },
  {
   "cell_type": "code",
   "execution_count": 29,
   "id": "c06fe634",
   "metadata": {
    "ExecuteTime": {
     "end_time": "2022-07-01T07:54:34.127440Z",
     "start_time": "2022-07-01T07:54:34.114210Z"
    }
   },
   "outputs": [
    {
     "data": {
      "text/plain": [
       "Timestamp('2021-09-25 14:25:47')"
      ]
     },
     "execution_count": 29,
     "metadata": {},
     "output_type": "execute_result"
    }
   ],
   "source": [
    "# 결제가 일어난 마지막 시간\n",
    "rev.completed_at.max()"
   ]
  },
  {
   "cell_type": "markdown",
   "id": "d321ae4f",
   "metadata": {},
   "source": [
    "> 2021-03-28 ~ 2021-09-25 까지 Fast Campus B2C 매출은 6,571,636,960원 입니다."
   ]
  },
  {
   "cell_type": "markdown",
   "id": "0ec61f26",
   "metadata": {
    "ExecuteTime": {
     "end_time": "2022-06-30T04:59:37.322149Z",
     "start_time": "2022-06-30T04:59:37.313162Z"
    }
   },
   "source": [
    "### 시간대별 매출"
   ]
  },
  {
   "cell_type": "code",
   "execution_count": 30,
   "id": "947c2529",
   "metadata": {
    "ExecuteTime": {
     "end_time": "2022-07-01T07:54:36.246487Z",
     "start_time": "2022-07-01T07:54:36.201420Z"
    }
   },
   "outputs": [
    {
     "data": {
      "text/html": [
       "<div>\n",
       "<style scoped>\n",
       "    .dataframe tbody tr th:only-of-type {\n",
       "        vertical-align: middle;\n",
       "    }\n",
       "\n",
       "    .dataframe tbody tr th {\n",
       "        vertical-align: top;\n",
       "    }\n",
       "\n",
       "    .dataframe thead th {\n",
       "        text-align: right;\n",
       "    }\n",
       "</style>\n",
       "<table border=\"1\" class=\"dataframe\">\n",
       "  <thead>\n",
       "    <tr style=\"text-align: right;\">\n",
       "      <th></th>\n",
       "      <th>transaction_amount</th>\n",
       "    </tr>\n",
       "    <tr>\n",
       "      <th>completed_at</th>\n",
       "      <th></th>\n",
       "    </tr>\n",
       "  </thead>\n",
       "  <tbody>\n",
       "    <tr>\n",
       "      <th>0</th>\n",
       "      <td>233549455</td>\n",
       "    </tr>\n",
       "    <tr>\n",
       "      <th>1</th>\n",
       "      <td>136075550</td>\n",
       "    </tr>\n",
       "    <tr>\n",
       "      <th>2</th>\n",
       "      <td>95817755</td>\n",
       "    </tr>\n",
       "    <tr>\n",
       "      <th>3</th>\n",
       "      <td>52194135</td>\n",
       "    </tr>\n",
       "    <tr>\n",
       "      <th>4</th>\n",
       "      <td>33338600</td>\n",
       "    </tr>\n",
       "    <tr>\n",
       "      <th>5</th>\n",
       "      <td>36766265</td>\n",
       "    </tr>\n",
       "    <tr>\n",
       "      <th>6</th>\n",
       "      <td>55248680</td>\n",
       "    </tr>\n",
       "    <tr>\n",
       "      <th>7</th>\n",
       "      <td>94951875</td>\n",
       "    </tr>\n",
       "    <tr>\n",
       "      <th>8</th>\n",
       "      <td>155896900</td>\n",
       "    </tr>\n",
       "    <tr>\n",
       "      <th>9</th>\n",
       "      <td>226463962</td>\n",
       "    </tr>\n",
       "    <tr>\n",
       "      <th>10</th>\n",
       "      <td>171362970</td>\n",
       "    </tr>\n",
       "    <tr>\n",
       "      <th>11</th>\n",
       "      <td>211056505</td>\n",
       "    </tr>\n",
       "    <tr>\n",
       "      <th>12</th>\n",
       "      <td>279776938</td>\n",
       "    </tr>\n",
       "    <tr>\n",
       "      <th>13</th>\n",
       "      <td>261146271</td>\n",
       "    </tr>\n",
       "    <tr>\n",
       "      <th>14</th>\n",
       "      <td>304796320</td>\n",
       "    </tr>\n",
       "    <tr>\n",
       "      <th>15</th>\n",
       "      <td>334849701</td>\n",
       "    </tr>\n",
       "    <tr>\n",
       "      <th>16</th>\n",
       "      <td>366106714</td>\n",
       "    </tr>\n",
       "    <tr>\n",
       "      <th>17</th>\n",
       "      <td>338984956</td>\n",
       "    </tr>\n",
       "    <tr>\n",
       "      <th>18</th>\n",
       "      <td>343336217</td>\n",
       "    </tr>\n",
       "    <tr>\n",
       "      <th>19</th>\n",
       "      <td>336345205</td>\n",
       "    </tr>\n",
       "    <tr>\n",
       "      <th>20</th>\n",
       "      <td>380288475</td>\n",
       "    </tr>\n",
       "    <tr>\n",
       "      <th>21</th>\n",
       "      <td>441263400</td>\n",
       "    </tr>\n",
       "    <tr>\n",
       "      <th>22</th>\n",
       "      <td>511370370</td>\n",
       "    </tr>\n",
       "    <tr>\n",
       "      <th>23</th>\n",
       "      <td>571732315</td>\n",
       "    </tr>\n",
       "  </tbody>\n",
       "</table>\n",
       "</div>"
      ],
      "text/plain": [
       "              transaction_amount\n",
       "completed_at                    \n",
       "0                      233549455\n",
       "1                      136075550\n",
       "2                       95817755\n",
       "3                       52194135\n",
       "4                       33338600\n",
       "5                       36766265\n",
       "6                       55248680\n",
       "7                       94951875\n",
       "8                      155896900\n",
       "9                      226463962\n",
       "10                     171362970\n",
       "11                     211056505\n",
       "12                     279776938\n",
       "13                     261146271\n",
       "14                     304796320\n",
       "15                     334849701\n",
       "16                     366106714\n",
       "17                     338984956\n",
       "18                     343336217\n",
       "19                     336345205\n",
       "20                     380288475\n",
       "21                     441263400\n",
       "22                     511370370\n",
       "23                     571732315"
      ]
     },
     "execution_count": 30,
     "metadata": {},
     "output_type": "execute_result"
    }
   ],
   "source": [
    "# lambda 함수를 이용해 시간만 뽑아서 그룹핑\n",
    "rev_by_hour = rev.set_index('completed_at').groupby(lambda date: date.hour).sum()[['transaction_amount']]\n",
    "rev_by_hour"
   ]
  },
  {
   "cell_type": "markdown",
   "id": "4cd530bc",
   "metadata": {},
   "source": [
    "### 시간대별 매출 Line Graph"
   ]
  },
  {
   "cell_type": "code",
   "execution_count": 31,
   "id": "fa6747ae",
   "metadata": {
    "ExecuteTime": {
     "end_time": "2022-07-01T07:54:37.636226Z",
     "start_time": "2022-07-01T07:54:37.282941Z"
    },
    "scrolled": false
   },
   "outputs": [
    {
     "data": {
      "image/png": "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\n",
      "text/plain": [
       "<Figure size 1080x720 with 1 Axes>"
      ]
     },
     "metadata": {},
     "output_type": "display_data"
    }
   ],
   "source": [
    "# 시각화\n",
    "\n",
    "plt.figure(figsize=(15,10))\n",
    "sns.set_theme(style=\"darkgrid\")\n",
    "\n",
    "sns.lineplot(x='completed_at', y='transaction_amount',\n",
    "             data=rev_by_hour,\n",
    "             color = 'coral'\n",
    "            )\n",
    "plt.xlabel('Hours')\n",
    "plt.ylabel('Revenue')\n",
    "plt.yticks([0, 100000000, 200000000, 300000000, 400000000 ,500000000], [0, '100,000,000', '200,000,000', '300,000,000', '400,000,000' ,'500,000,000'])\n",
    "plt.xticks([0, 3, 6, 9, 12, 15, 18, 21 ,23], ['am12', '3', '6', '9', 'pm12', '3', '6', '9', '11'])\n",
    "plt.xlim([-1, 24])      # X축의 범위: [xmin, xmax]\n",
    "plt.ylim([0, 601732315])     # Y축의 범위: [ymin, ymax]\n",
    "plt.show()"
   ]
  },
  {
   "cell_type": "markdown",
   "id": "d8f3f3f0",
   "metadata": {},
   "source": [
    ">  저녁시간대 부터 자정까지 매출비중이 높은것을 알 수 있음."
   ]
  },
  {
   "cell_type": "markdown",
   "id": "bd696f1f",
   "metadata": {
    "ExecuteTime": {
     "end_time": "2022-06-30T06:53:34.853522Z",
     "start_time": "2022-06-30T06:53:34.834570Z"
    }
   },
   "source": [
    "### 시간대별 매출 Pie Graph"
   ]
  },
  {
   "cell_type": "code",
   "execution_count": 32,
   "id": "17e712f3",
   "metadata": {
    "ExecuteTime": {
     "end_time": "2022-07-01T07:54:39.211534Z",
     "start_time": "2022-07-01T07:54:38.552380Z"
    },
    "scrolled": false
   },
   "outputs": [
    {
     "data": {
      "image/png": "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\n",
      "text/plain": [
       "<Figure size 1080x1080 with 1 Axes>"
      ]
     },
     "metadata": {},
     "output_type": "display_data"
    }
   ],
   "source": [
    "labels = [i for i in range(0,24)]\n",
    "wedgeprops={'width': 0.7, 'edgecolor': 'w', 'linewidth': 5}\n",
    "colors = sns.color_palette(\"Set2\")\n",
    "explode = [0.10, 0, 0, 0, 0, 0, 0, 0, 0, 0, 0, 0, 0, \n",
    "           0, 0, 0, 0, 0.10, 0.10, 0.10, 0.10, 0.10, 0.10, 0.10]\n",
    "\n",
    "plt.figure(figsize=(15,15))\n",
    "plt.pie(rev_by_hour.transaction_amount,\n",
    "        labels = labels,\n",
    "        counterclock=False,\n",
    "        explode = explode,\n",
    "        wedgeprops=wedgeprops,\n",
    "        colors = colors\n",
    "       \n",
    "       \n",
    "       )\n",
    "plt.show()"
   ]
  },
  {
   "cell_type": "markdown",
   "id": "c628218a",
   "metadata": {},
   "source": [
    "> 파이 차트를 살펴보면 오후 5시부터 자정까지 7시강동안의 매출이 전체매출의 50% 이상을 차지하는것을 알 수 있음."
   ]
  },
  {
   "cell_type": "markdown",
   "id": "ddcfbb6c",
   "metadata": {},
   "source": [
    "\n",
    "### 요일별 매출 그래프\n"
   ]
  },
  {
   "cell_type": "code",
   "execution_count": 33,
   "id": "cd9dc2e8",
   "metadata": {
    "ExecuteTime": {
     "end_time": "2022-07-01T07:54:39.643906Z",
     "start_time": "2022-07-01T07:54:39.599069Z"
    }
   },
   "outputs": [
    {
     "data": {
      "text/html": [
       "<div>\n",
       "<style scoped>\n",
       "    .dataframe tbody tr th:only-of-type {\n",
       "        vertical-align: middle;\n",
       "    }\n",
       "\n",
       "    .dataframe tbody tr th {\n",
       "        vertical-align: top;\n",
       "    }\n",
       "\n",
       "    .dataframe thead th {\n",
       "        text-align: right;\n",
       "    }\n",
       "</style>\n",
       "<table border=\"1\" class=\"dataframe\">\n",
       "  <thead>\n",
       "    <tr style=\"text-align: right;\">\n",
       "      <th></th>\n",
       "      <th>transaction_amount</th>\n",
       "    </tr>\n",
       "    <tr>\n",
       "      <th>completed_at</th>\n",
       "      <th></th>\n",
       "    </tr>\n",
       "  </thead>\n",
       "  <tbody>\n",
       "    <tr>\n",
       "      <th>0</th>\n",
       "      <td>794476420</td>\n",
       "    </tr>\n",
       "    <tr>\n",
       "      <th>1</th>\n",
       "      <td>859965425</td>\n",
       "    </tr>\n",
       "    <tr>\n",
       "      <th>2</th>\n",
       "      <td>902670063</td>\n",
       "    </tr>\n",
       "    <tr>\n",
       "      <th>3</th>\n",
       "      <td>708513498</td>\n",
       "    </tr>\n",
       "    <tr>\n",
       "      <th>4</th>\n",
       "      <td>819967968</td>\n",
       "    </tr>\n",
       "    <tr>\n",
       "      <th>5</th>\n",
       "      <td>737461545</td>\n",
       "    </tr>\n",
       "    <tr>\n",
       "      <th>6</th>\n",
       "      <td>1149664615</td>\n",
       "    </tr>\n",
       "  </tbody>\n",
       "</table>\n",
       "</div>"
      ],
      "text/plain": [
       "              transaction_amount\n",
       "completed_at                    \n",
       "0                      794476420\n",
       "1                      859965425\n",
       "2                      902670063\n",
       "3                      708513498\n",
       "4                      819967968\n",
       "5                      737461545\n",
       "6                     1149664615"
      ]
     },
     "execution_count": 33,
     "metadata": {},
     "output_type": "execute_result"
    }
   ],
   "source": [
    "# lambda 함수를 이용해 요일만 뽑아서 그룹핑\n",
    "rev_by_dow = rev.set_index('completed_at').groupby(lambda dow: dow.dayofweek).sum()[['transaction_amount']]\n",
    "rev_by_dow"
   ]
  },
  {
   "cell_type": "code",
   "execution_count": 34,
   "id": "48264269",
   "metadata": {
    "ExecuteTime": {
     "end_time": "2022-07-01T07:54:40.225367Z",
     "start_time": "2022-07-01T07:54:39.933515Z"
    },
    "scrolled": false
   },
   "outputs": [
    {
     "data": {
      "image/png": "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\n",
      "text/plain": [
       "<Figure size 1080x720 with 1 Axes>"
      ]
     },
     "metadata": {},
     "output_type": "display_data"
    }
   ],
   "source": [
    "# 시각화\n",
    "\n",
    "plt.figure(figsize=(15,10))\n",
    "sns.set_theme(style=\"darkgrid\")\n",
    "\n",
    "sns.lineplot(x='completed_at', y='transaction_amount',\n",
    "             data=rev_by_dow,\n",
    "             color = 'purple'\n",
    "            )\n",
    "plt.xlabel('Day of Week')\n",
    "plt.ylabel('Revenue')\n",
    "plt.yticks([0, 100000000, 600000000, 800000000, 1000000000 ,1200000000], \n",
    "           ['0','100,000,000', '600,000,000', '800,000,000', '1000,000,000' ,'1,200,000,000'])\n",
    "plt.xticks([i for i in range(0,7)], \n",
    "           ['Mon', 'Tue', 'Wed', 'Thu', 'Fri', 'Sat', 'Sun'])\n",
    "\n",
    "plt.show()"
   ]
  },
  {
   "cell_type": "markdown",
   "id": "8347415c",
   "metadata": {},
   "source": [
    "> 요일별 매출을 분석해보면 일요일 매출이 가장높고 토요일 매출이 가장낮지만 요일별 편차가 크지 않은것을 알 수 있음."
   ]
  },
  {
   "cell_type": "markdown",
   "id": "74934c28",
   "metadata": {},
   "source": [
    "### 요일별 매출 Pie Graph"
   ]
  },
  {
   "cell_type": "code",
   "execution_count": 35,
   "id": "7e73c1d7",
   "metadata": {
    "ExecuteTime": {
     "end_time": "2022-07-01T07:54:41.159801Z",
     "start_time": "2022-07-01T07:54:40.902948Z"
    }
   },
   "outputs": [
    {
     "data": {
      "image/png": "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\n",
      "text/plain": [
       "<Figure size 1080x1080 with 1 Axes>"
      ]
     },
     "metadata": {},
     "output_type": "display_data"
    }
   ],
   "source": [
    "labels = ['Mon', 'Tue', 'Wed', 'Thu', 'Fri', 'Sat', 'Sun']\n",
    "wedgeprops={'width': 0.7, 'edgecolor': 'w', 'linewidth': 5}\n",
    "explode = [0, 0, 0, 0, 0, 0, 0.10]\n",
    "colors = sns.color_palette(\"Set2\")\n",
    "\n",
    "plt.figure(figsize=(15,15))\n",
    "plt.pie(rev_by_dow.transaction_amount,\n",
    "        labels = labels,\n",
    "        counterclock=False,\n",
    "        explode = explode,\n",
    "        wedgeprops=wedgeprops,\n",
    "        colors = colors\n",
    "\n",
    "       \n",
    "       \n",
    "       )\n",
    "plt.show()"
   ]
  },
  {
   "cell_type": "markdown",
   "id": "dfcba5f5",
   "metadata": {},
   "source": [
    "> 파이 차트를 이용해 요일별 편차 정도를 좀 더 직관적으로 확인할 수 있음"
   ]
  },
  {
   "cell_type": "markdown",
   "id": "a8f2c632",
   "metadata": {},
   "source": [
    "### 일별 매출 그래프"
   ]
  },
  {
   "cell_type": "code",
   "execution_count": 36,
   "id": "a7b7b62f",
   "metadata": {
    "ExecuteTime": {
     "end_time": "2022-07-01T07:54:42.640450Z",
     "start_time": "2022-07-01T07:54:41.798500Z"
    }
   },
   "outputs": [
    {
     "data": {
      "text/html": [
       "<div>\n",
       "<style scoped>\n",
       "    .dataframe tbody tr th:only-of-type {\n",
       "        vertical-align: middle;\n",
       "    }\n",
       "\n",
       "    .dataframe tbody tr th {\n",
       "        vertical-align: top;\n",
       "    }\n",
       "\n",
       "    .dataframe thead th {\n",
       "        text-align: right;\n",
       "    }\n",
       "</style>\n",
       "<table border=\"1\" class=\"dataframe\">\n",
       "  <thead>\n",
       "    <tr style=\"text-align: right;\">\n",
       "      <th></th>\n",
       "      <th>Unnamed: 0</th>\n",
       "      <th>id</th>\n",
       "      <th>customer_id</th>\n",
       "      <th>course_id</th>\n",
       "      <th>type</th>\n",
       "      <th>state</th>\n",
       "      <th>course_title</th>\n",
       "      <th>category_title</th>\n",
       "      <th>format</th>\n",
       "      <th>completed_at</th>\n",
       "      <th>transaction_amount</th>\n",
       "      <th>coupon_title</th>\n",
       "      <th>coupon_discount_amount</th>\n",
       "      <th>sale_price</th>\n",
       "      <th>pg</th>\n",
       "      <th>method</th>\n",
       "      <th>subcategory_title</th>\n",
       "      <th>marketing_start_at</th>\n",
       "      <th>completed_ymd</th>\n",
       "    </tr>\n",
       "  </thead>\n",
       "  <tbody>\n",
       "    <tr>\n",
       "      <th>2</th>\n",
       "      <td>2</td>\n",
       "      <td>970657</td>\n",
       "      <td>72297</td>\n",
       "      <td>204246</td>\n",
       "      <td>PAYMENT</td>\n",
       "      <td>COMPLETED</td>\n",
       "      <td>시크릿코드 : 프론트엔드 실무 완성편</td>\n",
       "      <td>프로그래밍</td>\n",
       "      <td>스쿨 온라인</td>\n",
       "      <td>2021-03-28 15:21:43</td>\n",
       "      <td>171810</td>\n",
       "      <td>[10% 할인] 시크릿코드 실무 완성편</td>\n",
       "      <td>19090</td>\n",
       "      <td>190900</td>\n",
       "      <td>COMM</td>\n",
       "      <td>CARD</td>\n",
       "      <td>프로그래밍</td>\n",
       "      <td>2021-03-04 00:00:00</td>\n",
       "      <td>2021-03-28</td>\n",
       "    </tr>\n",
       "    <tr>\n",
       "      <th>4</th>\n",
       "      <td>4</td>\n",
       "      <td>970658</td>\n",
       "      <td>478028</td>\n",
       "      <td>201797</td>\n",
       "      <td>PAYMENT</td>\n",
       "      <td>COMPLETED</td>\n",
       "      <td>올인원 패키지 : 직장인 필수 스킬 3종 세트 MAX</td>\n",
       "      <td>업무 생산성</td>\n",
       "      <td>올인원</td>\n",
       "      <td>2021-03-28 15:21:54</td>\n",
       "      <td>97500</td>\n",
       "      <td>[웰컴쿠폰] 올인원 패키지 2만원 할인 쿠폰</td>\n",
       "      <td>20000</td>\n",
       "      <td>117500</td>\n",
       "      <td>COMM</td>\n",
       "      <td>CARD</td>\n",
       "      <td>PPT/보고서</td>\n",
       "      <td>2019-11-14 00:00:00</td>\n",
       "      <td>2021-03-28</td>\n",
       "    </tr>\n",
       "    <tr>\n",
       "      <th>8</th>\n",
       "      <td>8</td>\n",
       "      <td>970669</td>\n",
       "      <td>478033</td>\n",
       "      <td>203178</td>\n",
       "      <td>PAYMENT</td>\n",
       "      <td>COMPLETED</td>\n",
       "      <td>초격차 패키지 : 한번에 끝내는 영상 촬영과 편집</td>\n",
       "      <td>영상/3D</td>\n",
       "      <td>올인원</td>\n",
       "      <td>2021-03-28 15:26:47</td>\n",
       "      <td>96000</td>\n",
       "      <td>[웰컴쿠폰] 올인원 패키지 2만원 할인 쿠폰</td>\n",
       "      <td>20000</td>\n",
       "      <td>116000</td>\n",
       "      <td>COMM</td>\n",
       "      <td>CARD</td>\n",
       "      <td>영상 편집</td>\n",
       "      <td>2020-12-02 00:00:00</td>\n",
       "      <td>2021-03-28</td>\n",
       "    </tr>\n",
       "    <tr>\n",
       "      <th>10</th>\n",
       "      <td>10</td>\n",
       "      <td>970671</td>\n",
       "      <td>469860</td>\n",
       "      <td>203644</td>\n",
       "      <td>PAYMENT</td>\n",
       "      <td>COMPLETED</td>\n",
       "      <td>올인원 패키지 : 권오상의 금융 아카데미 - 권오상의 재무제표 분석 기초(평생소장)</td>\n",
       "      <td>부동산/금융</td>\n",
       "      <td>올인원</td>\n",
       "      <td>2021-03-28 15:27:17</td>\n",
       "      <td>263000</td>\n",
       "      <td>미적용</td>\n",
       "      <td>0</td>\n",
       "      <td>263000</td>\n",
       "      <td>COMM</td>\n",
       "      <td>CARD</td>\n",
       "      <td>부동산/금융</td>\n",
       "      <td>2020-11-27 00:00:00</td>\n",
       "      <td>2021-03-28</td>\n",
       "    </tr>\n",
       "    <tr>\n",
       "      <th>14</th>\n",
       "      <td>14</td>\n",
       "      <td>970676</td>\n",
       "      <td>478035</td>\n",
       "      <td>203720</td>\n",
       "      <td>PAYMENT</td>\n",
       "      <td>COMPLETED</td>\n",
       "      <td>초격차 패키지 : 한 번에 끝내는 프론트엔드 개발</td>\n",
       "      <td>프로그래밍</td>\n",
       "      <td>올인원</td>\n",
       "      <td>2021-03-28 15:31:01</td>\n",
       "      <td>91000</td>\n",
       "      <td>[웰컴쿠폰] 올인원 패키지 2만원 할인 쿠폰</td>\n",
       "      <td>20000</td>\n",
       "      <td>111000</td>\n",
       "      <td>COMM</td>\n",
       "      <td>CARD</td>\n",
       "      <td>프론트엔드 개발</td>\n",
       "      <td>2021-02-02 00:00:00</td>\n",
       "      <td>2021-03-28</td>\n",
       "    </tr>\n",
       "    <tr>\n",
       "      <th>...</th>\n",
       "      <td>...</td>\n",
       "      <td>...</td>\n",
       "      <td>...</td>\n",
       "      <td>...</td>\n",
       "      <td>...</td>\n",
       "      <td>...</td>\n",
       "      <td>...</td>\n",
       "      <td>...</td>\n",
       "      <td>...</td>\n",
       "      <td>...</td>\n",
       "      <td>...</td>\n",
       "      <td>...</td>\n",
       "      <td>...</td>\n",
       "      <td>...</td>\n",
       "      <td>...</td>\n",
       "      <td>...</td>\n",
       "      <td>...</td>\n",
       "      <td>...</td>\n",
       "      <td>...</td>\n",
       "    </tr>\n",
       "    <tr>\n",
       "      <th>100866</th>\n",
       "      <td>101582</td>\n",
       "      <td>1363708</td>\n",
       "      <td>600073</td>\n",
       "      <td>206065</td>\n",
       "      <td>REFUND</td>\n",
       "      <td>COMPLETED</td>\n",
       "      <td>(프로모션 7/16-7/29) 초격차 패키지 : 한 번에 끝내는 Spring 완.전.판</td>\n",
       "      <td>프로그래밍</td>\n",
       "      <td>올인원</td>\n",
       "      <td>2021-09-24 14:34:50</td>\n",
       "      <td>-149000</td>\n",
       "      <td>미적용</td>\n",
       "      <td>0</td>\n",
       "      <td>179000</td>\n",
       "      <td>NAVER</td>\n",
       "      <td>CARD</td>\n",
       "      <td>백엔드 개발</td>\n",
       "      <td>2021-07-15 00:00:00</td>\n",
       "      <td>2021-09-24</td>\n",
       "    </tr>\n",
       "    <tr>\n",
       "      <th>100870</th>\n",
       "      <td>101586</td>\n",
       "      <td>1363721</td>\n",
       "      <td>645911</td>\n",
       "      <td>300000</td>\n",
       "      <td>REFUND</td>\n",
       "      <td>COMPLETED</td>\n",
       "      <td>프로모션 : 콘텐츠 마케터 맥북 air 패스(9월 현물 프리패스)</td>\n",
       "      <td>마케팅</td>\n",
       "      <td>올인원</td>\n",
       "      <td>2021-09-24 14:41:35</td>\n",
       "      <td>-1400000</td>\n",
       "      <td>미적용</td>\n",
       "      <td>0</td>\n",
       "      <td>1400000</td>\n",
       "      <td>INICIS</td>\n",
       "      <td>CARD</td>\n",
       "      <td>마케팅</td>\n",
       "      <td>2018-11-11 00:00:00</td>\n",
       "      <td>2021-09-24</td>\n",
       "    </tr>\n",
       "    <tr>\n",
       "      <th>100895</th>\n",
       "      <td>101611</td>\n",
       "      <td>1363934</td>\n",
       "      <td>506356</td>\n",
       "      <td>206720</td>\n",
       "      <td>REFUND</td>\n",
       "      <td>COMPLETED</td>\n",
       "      <td>용호수의 돈 버는 실전 영상 제작</td>\n",
       "      <td>영상/3D</td>\n",
       "      <td>올인원</td>\n",
       "      <td>2021-09-24 16:10:55</td>\n",
       "      <td>-259000</td>\n",
       "      <td>미적용</td>\n",
       "      <td>0</td>\n",
       "      <td>259000</td>\n",
       "      <td>NAVER</td>\n",
       "      <td>CARD</td>\n",
       "      <td>영상 편집</td>\n",
       "      <td>2021-08-17 00:00:00</td>\n",
       "      <td>2021-09-24</td>\n",
       "    </tr>\n",
       "    <tr>\n",
       "      <th>100933</th>\n",
       "      <td>101649</td>\n",
       "      <td>1364149</td>\n",
       "      <td>604077</td>\n",
       "      <td>205569</td>\n",
       "      <td>REFUND</td>\n",
       "      <td>COMPLETED</td>\n",
       "      <td>올인원 패키지 : 공여사와 무작정 풀어보는 엑셀 실무</td>\n",
       "      <td>업무 생산성</td>\n",
       "      <td>올인원</td>\n",
       "      <td>2021-09-24 17:09:30</td>\n",
       "      <td>-109000</td>\n",
       "      <td>미적용</td>\n",
       "      <td>0</td>\n",
       "      <td>129000</td>\n",
       "      <td>KAKAO</td>\n",
       "      <td>POINT</td>\n",
       "      <td>엑셀/VBA</td>\n",
       "      <td>2021-08-17 00:00:00</td>\n",
       "      <td>2021-09-24</td>\n",
       "    </tr>\n",
       "    <tr>\n",
       "      <th>100936</th>\n",
       "      <td>101652</td>\n",
       "      <td>1364217</td>\n",
       "      <td>552100</td>\n",
       "      <td>203525</td>\n",
       "      <td>REFUND</td>\n",
       "      <td>COMPLETED</td>\n",
       "      <td>초격차 패키지 : 한번에 끝내는 Java/Spring 웹 개발 마스터</td>\n",
       "      <td>프로그래밍</td>\n",
       "      <td>올인원</td>\n",
       "      <td>2021-09-24 17:33:53</td>\n",
       "      <td>-108186</td>\n",
       "      <td>미적용</td>\n",
       "      <td>0</td>\n",
       "      <td>114000</td>\n",
       "      <td>INICIS</td>\n",
       "      <td>CARD</td>\n",
       "      <td>백엔드 개발</td>\n",
       "      <td>2021-02-01 00:00:00</td>\n",
       "      <td>2021-09-24</td>\n",
       "    </tr>\n",
       "  </tbody>\n",
       "</table>\n",
       "<p>53040 rows × 19 columns</p>\n",
       "</div>"
      ],
      "text/plain": [
       "        Unnamed: 0       id  customer_id  course_id     type      state  \\\n",
       "2                2   970657        72297     204246  PAYMENT  COMPLETED   \n",
       "4                4   970658       478028     201797  PAYMENT  COMPLETED   \n",
       "8                8   970669       478033     203178  PAYMENT  COMPLETED   \n",
       "10              10   970671       469860     203644  PAYMENT  COMPLETED   \n",
       "14              14   970676       478035     203720  PAYMENT  COMPLETED   \n",
       "...            ...      ...          ...        ...      ...        ...   \n",
       "100866      101582  1363708       600073     206065   REFUND  COMPLETED   \n",
       "100870      101586  1363721       645911     300000   REFUND  COMPLETED   \n",
       "100895      101611  1363934       506356     206720   REFUND  COMPLETED   \n",
       "100933      101649  1364149       604077     205569   REFUND  COMPLETED   \n",
       "100936      101652  1364217       552100     203525   REFUND  COMPLETED   \n",
       "\n",
       "                                            course_title category_title  \\\n",
       "2                                   시크릿코드 : 프론트엔드 실무 완성편          프로그래밍   \n",
       "4                          올인원 패키지 : 직장인 필수 스킬 3종 세트 MAX         업무 생산성   \n",
       "8                            초격차 패키지 : 한번에 끝내는 영상 촬영과 편집          영상/3D   \n",
       "10        올인원 패키지 : 권오상의 금융 아카데미 - 권오상의 재무제표 분석 기초(평생소장)         부동산/금융   \n",
       "14                           초격차 패키지 : 한 번에 끝내는 프론트엔드 개발          프로그래밍   \n",
       "...                                                  ...            ...   \n",
       "100866  (프로모션 7/16-7/29) 초격차 패키지 : 한 번에 끝내는 Spring 완.전.판          프로그래밍   \n",
       "100870              프로모션 : 콘텐츠 마케터 맥북 air 패스(9월 현물 프리패스)            마케팅   \n",
       "100895                                용호수의 돈 버는 실전 영상 제작          영상/3D   \n",
       "100933                     올인원 패키지 : 공여사와 무작정 풀어보는 엑셀 실무         업무 생산성   \n",
       "100936            초격차 패키지 : 한번에 끝내는 Java/Spring 웹 개발 마스터          프로그래밍   \n",
       "\n",
       "        format        completed_at  transaction_amount  \\\n",
       "2       스쿨 온라인 2021-03-28 15:21:43              171810   \n",
       "4          올인원 2021-03-28 15:21:54               97500   \n",
       "8          올인원 2021-03-28 15:26:47               96000   \n",
       "10         올인원 2021-03-28 15:27:17              263000   \n",
       "14         올인원 2021-03-28 15:31:01               91000   \n",
       "...        ...                 ...                 ...   \n",
       "100866     올인원 2021-09-24 14:34:50             -149000   \n",
       "100870     올인원 2021-09-24 14:41:35            -1400000   \n",
       "100895     올인원 2021-09-24 16:10:55             -259000   \n",
       "100933     올인원 2021-09-24 17:09:30             -109000   \n",
       "100936     올인원 2021-09-24 17:33:53             -108186   \n",
       "\n",
       "                    coupon_title  coupon_discount_amount  sale_price      pg  \\\n",
       "2          [10% 할인] 시크릿코드 실무 완성편                   19090      190900    COMM   \n",
       "4       [웰컴쿠폰] 올인원 패키지 2만원 할인 쿠폰                   20000      117500    COMM   \n",
       "8       [웰컴쿠폰] 올인원 패키지 2만원 할인 쿠폰                   20000      116000    COMM   \n",
       "10                           미적용                       0      263000    COMM   \n",
       "14      [웰컴쿠폰] 올인원 패키지 2만원 할인 쿠폰                   20000      111000    COMM   \n",
       "...                          ...                     ...         ...     ...   \n",
       "100866                       미적용                       0      179000   NAVER   \n",
       "100870                       미적용                       0     1400000  INICIS   \n",
       "100895                       미적용                       0      259000   NAVER   \n",
       "100933                       미적용                       0      129000   KAKAO   \n",
       "100936                       미적용                       0      114000  INICIS   \n",
       "\n",
       "       method subcategory_title   marketing_start_at completed_ymd  \n",
       "2        CARD             프로그래밍  2021-03-04 00:00:00    2021-03-28  \n",
       "4        CARD           PPT/보고서  2019-11-14 00:00:00    2021-03-28  \n",
       "8        CARD             영상 편집  2020-12-02 00:00:00    2021-03-28  \n",
       "10       CARD            부동산/금융  2020-11-27 00:00:00    2021-03-28  \n",
       "14       CARD          프론트엔드 개발  2021-02-02 00:00:00    2021-03-28  \n",
       "...       ...               ...                  ...           ...  \n",
       "100866   CARD            백엔드 개발  2021-07-15 00:00:00    2021-09-24  \n",
       "100870   CARD               마케팅  2018-11-11 00:00:00    2021-09-24  \n",
       "100895   CARD             영상 편집  2021-08-17 00:00:00    2021-09-24  \n",
       "100933  POINT            엑셀/VBA  2021-08-17 00:00:00    2021-09-24  \n",
       "100936   CARD            백엔드 개발  2021-02-01 00:00:00    2021-09-24  \n",
       "\n",
       "[53040 rows x 19 columns]"
      ]
     },
     "execution_count": 36,
     "metadata": {},
     "output_type": "execute_result"
    }
   ],
   "source": [
    "rev['completed_ymd'] = rev['completed_at'].dt.strftime(\"%Y-%m-%d\")\n",
    "rev"
   ]
  },
  {
   "cell_type": "code",
   "execution_count": 37,
   "id": "c1002f81",
   "metadata": {
    "ExecuteTime": {
     "end_time": "2022-07-01T07:54:42.838865Z",
     "start_time": "2022-07-01T07:54:42.804898Z"
    }
   },
   "outputs": [
    {
     "data": {
      "text/plain": [
       "completed_ymd\n",
       "2021-03-28    36101770\n",
       "2021-03-29    33008733\n",
       "2021-03-30    38159694\n",
       "2021-03-31    85210797\n",
       "2021-04-01    22195955\n",
       "                ...   \n",
       "2021-09-21    24661500\n",
       "2021-09-22    57519650\n",
       "2021-09-23     8979352\n",
       "2021-09-24    32536684\n",
       "2021-09-25    12418000\n",
       "Name: transaction_amount, Length: 182, dtype: int64"
      ]
     },
     "execution_count": 37,
     "metadata": {},
     "output_type": "execute_result"
    }
   ],
   "source": [
    "rev_days = rev.groupby('completed_ymd')['transaction_amount'].sum()\n",
    "rev_days"
   ]
  },
  {
   "cell_type": "code",
   "execution_count": 38,
   "id": "7f4ab3fd",
   "metadata": {
    "ExecuteTime": {
     "end_time": "2022-07-01T07:54:43.010971Z",
     "start_time": "2022-07-01T07:54:42.989953Z"
    }
   },
   "outputs": [
    {
     "data": {
      "text/plain": [
       "171149483"
      ]
     },
     "execution_count": 38,
     "metadata": {},
     "output_type": "execute_result"
    }
   ],
   "source": [
    "rev_days.max()"
   ]
  },
  {
   "cell_type": "code",
   "execution_count": 39,
   "id": "4368a5e3",
   "metadata": {
    "ExecuteTime": {
     "end_time": "2022-07-01T07:54:43.628019Z",
     "start_time": "2022-07-01T07:54:43.216497Z"
    }
   },
   "outputs": [
    {
     "data": {
      "image/png": "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\n",
      "text/plain": [
       "<Figure size 1080x720 with 1 Axes>"
      ]
     },
     "metadata": {},
     "output_type": "display_data"
    }
   ],
   "source": [
    "plt.figure(figsize=(15,10))\n",
    "sns.set_theme(style=\"darkgrid\")\n",
    "\n",
    "rev_days.plot(color='#20B2AA')\n",
    "plt.xlabel('Day of Week')\n",
    "plt.ylabel('Revenue')\n",
    "plt.yticks([0, 30000000, 60000000, 90000000, 120000000, 150000000 ,180000000], \n",
    "           ['0','30,000,000','60,000,000', '90,000,000', '120,000,000', '150,000,000' ,'180,000,000'])\n",
    "plt.show()"
   ]
  },
  {
   "cell_type": "markdown",
   "id": "a2bf4f2a",
   "metadata": {},
   "source": [
    "매출이 월말에 집중되는 경향이있음."
   ]
  },
  {
   "cell_type": "markdown",
   "id": "e34b2c8e",
   "metadata": {},
   "source": [
    "### 일자별 매출 그래프"
   ]
  },
  {
   "cell_type": "code",
   "execution_count": 40,
   "id": "997a3d05",
   "metadata": {
    "ExecuteTime": {
     "end_time": "2022-07-01T07:54:44.357569Z",
     "start_time": "2022-07-01T07:54:44.303934Z"
    }
   },
   "outputs": [
    {
     "data": {
      "text/html": [
       "<div>\n",
       "<style scoped>\n",
       "    .dataframe tbody tr th:only-of-type {\n",
       "        vertical-align: middle;\n",
       "    }\n",
       "\n",
       "    .dataframe tbody tr th {\n",
       "        vertical-align: top;\n",
       "    }\n",
       "\n",
       "    .dataframe thead th {\n",
       "        text-align: right;\n",
       "    }\n",
       "</style>\n",
       "<table border=\"1\" class=\"dataframe\">\n",
       "  <thead>\n",
       "    <tr style=\"text-align: right;\">\n",
       "      <th></th>\n",
       "      <th>transaction_amount</th>\n",
       "    </tr>\n",
       "    <tr>\n",
       "      <th>completed_at</th>\n",
       "      <th></th>\n",
       "    </tr>\n",
       "  </thead>\n",
       "  <tbody>\n",
       "    <tr>\n",
       "      <th>1</th>\n",
       "      <td>120656529</td>\n",
       "    </tr>\n",
       "    <tr>\n",
       "      <th>2</th>\n",
       "      <td>136319725</td>\n",
       "    </tr>\n",
       "    <tr>\n",
       "      <th>3</th>\n",
       "      <td>132405593</td>\n",
       "    </tr>\n",
       "    <tr>\n",
       "      <th>4</th>\n",
       "      <td>178228365</td>\n",
       "    </tr>\n",
       "    <tr>\n",
       "      <th>5</th>\n",
       "      <td>141387104</td>\n",
       "    </tr>\n",
       "    <tr>\n",
       "      <th>6</th>\n",
       "      <td>165539322</td>\n",
       "    </tr>\n",
       "    <tr>\n",
       "      <th>7</th>\n",
       "      <td>154945359</td>\n",
       "    </tr>\n",
       "    <tr>\n",
       "      <th>8</th>\n",
       "      <td>165210479</td>\n",
       "    </tr>\n",
       "    <tr>\n",
       "      <th>9</th>\n",
       "      <td>177890909</td>\n",
       "    </tr>\n",
       "    <tr>\n",
       "      <th>10</th>\n",
       "      <td>165278290</td>\n",
       "    </tr>\n",
       "    <tr>\n",
       "      <th>11</th>\n",
       "      <td>202992569</td>\n",
       "    </tr>\n",
       "    <tr>\n",
       "      <th>12</th>\n",
       "      <td>176206520</td>\n",
       "    </tr>\n",
       "    <tr>\n",
       "      <th>13</th>\n",
       "      <td>189153384</td>\n",
       "    </tr>\n",
       "    <tr>\n",
       "      <th>14</th>\n",
       "      <td>160696816</td>\n",
       "    </tr>\n",
       "    <tr>\n",
       "      <th>15</th>\n",
       "      <td>184968987</td>\n",
       "    </tr>\n",
       "    <tr>\n",
       "      <th>16</th>\n",
       "      <td>266295651</td>\n",
       "    </tr>\n",
       "    <tr>\n",
       "      <th>17</th>\n",
       "      <td>150885405</td>\n",
       "    </tr>\n",
       "    <tr>\n",
       "      <th>18</th>\n",
       "      <td>184150839</td>\n",
       "    </tr>\n",
       "    <tr>\n",
       "      <th>19</th>\n",
       "      <td>150881824</td>\n",
       "    </tr>\n",
       "    <tr>\n",
       "      <th>20</th>\n",
       "      <td>185796922</td>\n",
       "    </tr>\n",
       "    <tr>\n",
       "      <th>21</th>\n",
       "      <td>157591993</td>\n",
       "    </tr>\n",
       "    <tr>\n",
       "      <th>22</th>\n",
       "      <td>203314740</td>\n",
       "    </tr>\n",
       "    <tr>\n",
       "      <th>23</th>\n",
       "      <td>185753040</td>\n",
       "    </tr>\n",
       "    <tr>\n",
       "      <th>24</th>\n",
       "      <td>166508125</td>\n",
       "    </tr>\n",
       "    <tr>\n",
       "      <th>25</th>\n",
       "      <td>219164394</td>\n",
       "    </tr>\n",
       "    <tr>\n",
       "      <th>26</th>\n",
       "      <td>143185744</td>\n",
       "    </tr>\n",
       "    <tr>\n",
       "      <th>27</th>\n",
       "      <td>158750321</td>\n",
       "    </tr>\n",
       "    <tr>\n",
       "      <th>28</th>\n",
       "      <td>218264972</td>\n",
       "    </tr>\n",
       "    <tr>\n",
       "      <th>29</th>\n",
       "      <td>234631008</td>\n",
       "    </tr>\n",
       "    <tr>\n",
       "      <th>30</th>\n",
       "      <td>441556024</td>\n",
       "    </tr>\n",
       "    <tr>\n",
       "      <th>31</th>\n",
       "      <td>454108581</td>\n",
       "    </tr>\n",
       "  </tbody>\n",
       "</table>\n",
       "</div>"
      ],
      "text/plain": [
       "              transaction_amount\n",
       "completed_at                    \n",
       "1                      120656529\n",
       "2                      136319725\n",
       "3                      132405593\n",
       "4                      178228365\n",
       "5                      141387104\n",
       "6                      165539322\n",
       "7                      154945359\n",
       "8                      165210479\n",
       "9                      177890909\n",
       "10                     165278290\n",
       "11                     202992569\n",
       "12                     176206520\n",
       "13                     189153384\n",
       "14                     160696816\n",
       "15                     184968987\n",
       "16                     266295651\n",
       "17                     150885405\n",
       "18                     184150839\n",
       "19                     150881824\n",
       "20                     185796922\n",
       "21                     157591993\n",
       "22                     203314740\n",
       "23                     185753040\n",
       "24                     166508125\n",
       "25                     219164394\n",
       "26                     143185744\n",
       "27                     158750321\n",
       "28                     218264972\n",
       "29                     234631008\n",
       "30                     441556024\n",
       "31                     454108581"
      ]
     },
     "execution_count": 40,
     "metadata": {},
     "output_type": "execute_result"
    }
   ],
   "source": [
    "# lambda 함수를 이용해 일만 뽑아서 그룹핑\n",
    "rev_by_days = rev.set_index('completed_at').groupby(lambda day: day.day).sum()[['transaction_amount']]\n",
    "rev_by_days"
   ]
  },
  {
   "cell_type": "code",
   "execution_count": 41,
   "id": "9ff40659",
   "metadata": {
    "ExecuteTime": {
     "end_time": "2022-07-01T07:54:45.064370Z",
     "start_time": "2022-07-01T07:54:44.679071Z"
    },
    "scrolled": false
   },
   "outputs": [
    {
     "data": {
      "image/png": "iVBORw0KGgoAAAANSUhEUgAAA6gAAAJTCAYAAAAFYztGAAAAOXRFWHRTb2Z0d2FyZQBNYXRwbG90bGliIHZlcnNpb24zLjUuMSwgaHR0cHM6Ly9tYXRwbG90bGliLm9yZy/YYfK9AAAACXBIWXMAAAsTAAALEwEAmpwYAACBG0lEQVR4nOzdd1iV5ePH8c9hKoriAHGPtGXuvUAzEUFcuVelZTbMrDRFs6w0NQu1HJVmubVUEEO05ShXmkmafXMAmgMQXKjs8/ujr/zyi4NxDucB3q/r6rri8Jz7+dgdyIfnee7bZDabzQIAAAAAwMbsbB0AAAAAAACJggoAAAAAMAgKKgAAAADAECioAAAAAABDoKACAAAAAAyBggoAAAAAMAQKKgAAAADAEKxaUH/44Qf16tVLXbp00bvvvitJ2rVrlwICAuTj46OgoKDMY48ePapevXqpc+fOmjhxotLS0rKMd+XKFY0YMUJdunTRoEGDFBcXJ0lKSUnR2LFj1aVLF/Xs2VMnTpyQJJnNZs2YMUO+vr7y8/PTgQMHbpszNDRUfn5+8vHx0YoVKzJfz0tWAAAAAEDOWK2gnj59Wm+++abmz5+vjRs36o8//tD27dsVGBio+fPnKywsTIcPH9b27dslSWPHjtXkyZO1ZcsWmc1mrV27NsuYs2fPVtOmTbV582b16dNHU6dOlSQtW7ZMxYsX1+bNmxUYGKgJEyZIkrZs2aITJ04oLCxM8+bN04QJE7KUyZiYGAUFBWnlypUKDg7WmjVrdPz4cSUlJeUpKwAAAAAgZ6xWUL/99lv5+fnJ09NTjo6OCgoKUvHixVW9enVVrVpVDg4OCggIUHh4uM6cOaOkpCQ1bNhQktSrVy+Fh4dnGXPbtm0KCAiQJHXt2lU7duxQamqqtm3bpm7dukmSmjVrpoSEBJ09e1bbt2+Xn5+f7OzsVLNmTVWsWFEHDx68Zcxdu3apZcuWcnNzk4uLizp37qzw8HBFRETkKSsAAAAAIGccrDVwdHS0HB0dNXLkSJ07d07t27dXnTp15O7unnmMh4eHYmJiFBsbe8vr7u7uiomJyTLmv49zcHBQyZIllZCQcNv3nz9/XrGxsfLw8Mjy+p3GvJkpIiLitq/nJCsAAAAAIGesVlDT09O1f/9+LVu2TC4uLnruuedUrFgxmUymzGPMZrNMJpMyMjJu+/q9mM1m2dnZZTn+5uu3G9fO7taLxnc6d05fz4mLF68pI8Oc7ePLlSup+PjEHJ0DhQNzXzQx70UXc190MfdFF3NfdBXVubezM6lMmRJ3/LzVCmr58uXVqlUrlS1bVpL02GOPKTw8XPb29pnHxMXFycPDQ56enpkLHknShQsXbrnyeZOHh4cuXLggT09PpaWl6dq1a3Jzc1OFChUUGxuratWq3fJ+T09PxcbG3nVcT09P7d+//56Zcpr1bjIyzDkqqDffg6KJuS+amPeii7kvupj7oou5L7qY+6ys9gxqhw4d9NNPP+nKlStKT0/Xzp075evrq8jISEVHRys9PV2bNm2Sl5eXKleuLGdn58xVdkNCQuTl5ZVlTG9vbwUHB0uSwsLC1LRpUzk6Osrb21shISGSpP3798vZ2VmVKlWSl5eXQkNDlZ6erujoaEVFRalevXq3jNm6dWvt3r1bCQkJunHjhrZu3SovLy81aNAgT1kBAAAAADljtSuoDRo00NNPP62BAwcqNTVVbdq00YABA1SrVi2NGjVKycnJ8vb2lq+vryRp1qxZmjRpkhITE1W3bl0NHTpUkjRnzhx5eHhowIABGj16tMaPHy9/f3+5urpq1qxZkqQhQ4Zo8uTJ8vf3l5OTk2bOnClJ8vX1VUREROYCSlOnTlWxYsUUExOjESNGKCQkRBUqVNCYMWM0dOhQpaamqnfv3qpfv74kafr06TnKCgAAAADIPZPZbDb0deUjR47ot99+06BBgyw6bmBgoKZNm2bRMbMrPj4xR5fz3d1dFRd31YqJYFTMfdHEvBddzH3RxdwXXcx90VVU597OzqRy5Ure+fP5mCVX4uLi1LVrV4uOef36dXXo0MGiYwIAAAAA8sZqt/haSvv27S0+pouLizp16mTxcQEAAAAAuWf4K6gAAAAAgKKBggoAAAAAMAQKKgAAAADAECioAAAAAABDoKACAAAAAAyBggoAAAAAMAQKKgAAAADAECioAAAAAABDoKACAAAAAAyBggoAAAAAMAQKKgAAAADAECioAAAAAABDoKACAAAAAAyBggoAAAAAMAQKKgAAAADAECioAAAAAABDoKACAAAAAAyBggoAAAAAMAQKKgAAAADAECioAAAAAABDoKACAAAAAAyBggoAAAAAMAQKKgAAAADAECioAAAAAABDoKACAAAAAAyBggoAAAAAMAQKKgAAAADAECioAAAAAABDoKACAAAAAAyBggoAAAAAMAQKKgAAAADAECioAAAAAABDoKACAAAAAAyBggoAAAAAMAQKKgAAAADAECioAAAAAABDoKACAAAAAAyBggoAAAAAMAQKKgAAAADAECioAAAAAABDoKACAAAAAAyBggoAAAAAMAQKKgAAAADAECioAAAAAABDoKACAAAAAAyBggoAAAAAMAQKKgAAAADAECioAAAAAABDoKACAAAAAAyBggoAAAAAMAQKKgAAAADAECioAAAAAABDoKACAAAAAAyBggoAAAAAMAQKKgAAAADAECioAAAAAABDoKACAAAAAAyBggoAAAAAMAQKKgAAAADAECioAAAAAABDoKACAAAAAAyBggoAAAAAMAQKKgAAAADAECioAAAAAABDoKACAAAAAAyBggoAAAAAMAQKKgAAAADAECioAAAAAABDoKACAAAAAAyBggoAAAAAMAQKKgAAAADAECioAAAAAABDoKACAAAAAAyBggoAAAAAMAQKKgAAAADAECioAAAAAABDoKACAAAAAAyBggoAAAAAMAQKKgAAAADAEKxaUIcMGSJ/f391795d3bt316FDh7Rr1y4FBATIx8dHQUFBmccePXpUvXr1UufOnTVx4kSlpaVlGe/KlSsaMWKEunTpokGDBikuLk6SlJKSorFjx6pLly7q2bOnTpw4IUkym82aMWOGfH195efnpwMHDtw2Z2hoqPz8/OTj46MVK1Zkvp6XrAAAAACAnLFaQTWbzYqKilJISEjmPw888IACAwM1f/58hYWF6fDhw9q+fbskaezYsZo8ebK2bNkis9mstWvXZhlz9uzZatq0qTZv3qw+ffpo6tSpkqRly5apePHi2rx5swIDAzVhwgRJ0pYtW3TixAmFhYVp3rx5mjBhQpYyGRMTo6CgIK1cuVLBwcFas2aNjh8/rqSkpDxlBQAAAADkjNUK6smTJyVJw4YNU7du3bR8+XJFRESoevXqqlq1qhwcHBQQEKDw8HCdOXNGSUlJatiwoSSpV69eCg8PzzLmtm3bFBAQIEnq2rWrduzYodTUVG3btk3dunWTJDVr1kwJCQk6e/astm/fLj8/P9nZ2almzZqqWLGiDh48eMuYu3btUsuWLeXm5iYXFxd17txZ4eHhec4KAAAAAMgZB2sNfOXKFbVq1UpvvPGGUlNTNXToUD399NNyd3fPPMbDw0MxMTGKjY295XV3d3fFxMRkGfPfxzk4OKhkyZJKSEi47fvPnz+v2NhYeXh4ZHn9TmPezBQREXHb13OS9W7KlSuZo+P/OY9rjt+DwoG5L5qY96KLuS+6mPuii7kvupj7rKxWUBs1aqRGjRplfty7d2/NnTtXTZo0yXzNbDbLZDIpIyNDJpMpy+v3YjabZWdnl+X4m6/fblw7u1svGt/p3Dl9PSfi4xOVkWHO9vHu7q6Ki7uao3OgcGDuiybmvehi7osu5r7oYu6LrqI693Z2prtesLPaLb779+/X7t27Mz82m82qXLly5sJGkhQXFycPDw95enre8vqFCxduufJ5k4eHhy5cuCBJSktL07Vr1+Tm5qYKFSooNjY2y/s9PT1v+/q//e+575Qpp1kBAAAAADljtYJ69epVzZw5U8nJyUpMTNSGDRv0yiuvKDIyUtHR0UpPT9emTZvk5eWlypUry9nZOXOV3ZCQEHl5eWUZ09vbW8HBwZKksLAwNW3aVI6OjvL29lZISIikf4qxs7OzKlWqJC8vL4WGhio9PV3R0dGKiopSvXr1bhmzdevW2r17txISEnTjxg1t3bpVXl5eatCgQZ6yAgAAAAByxmq3+Hbo0EGHDh1Sjx49lJGRoYEDB6pRo0aaPn26Ro0apeTkZHl7e8vX11eSNGvWLE2aNEmJiYmqW7euhg4dKkmaM2eOPDw8NGDAAI0ePVrjx4+Xv7+/XF1dNWvWLEn/bGczefJk+fv7y8nJSTNnzpQk+fr6KiIiInMBpalTp6pYsWKKiYnRiBEjFBISogoVKmjMmDEaOnSoUlNT1bt3b9WvX1+ScpwVAAAAAJB7JrPZnP2HIW3gyJEj+u233zRo0CCLjhsYGKhp06ZZdMzs4hlUZBdzXzQx70UXc190MfdFF3NfdBXVubfZM6iWEhcXp65du1p0zOvXr6tDhw4WHRMAAAAAkDdWu8XXUtq3b2/xMV1cXNSpUyeLjwsAAAAAyD3DX0EFAAAAABQNFFQAAAAAgCFQUAEAAAAAhkBBBQAAAAAYAgUVAAAAAGAIFFQAAAAAgCFQUAEAAAAAhkBBBQAAAAAYAgUVAAAAAGAIFFQAAAAAgCFQUAEAAAAAhkBBBQAAAAAYAgUVAAAAAGAIFFQAAAAAgCFQUAEAAAAAhkBBBQAAAAAYAgUVAAAAAGAIFFQAAAAAgCFQUAEAAAAAhkBBBQAAAAAYAgUVAAAAAGAIFFQAAAAAgCFQUAEAAAAAhkBBBQAAAAAYAgUVAAAAAGAIFFQAAAAAgCFQUAEAAAAAhkBBBQAAAAAYAgUVAAAAAGAIFFQAAAAAgCFQUAEAAAAAhkBBBQAAAAAYAgUVAAAAAGAIFFQAAAAAKCTMZrO2H/9RQ5f11+xts2wdJ8ccbB0AAAAAAJA3KWkp2hDxtRb+PE9Hzv2u8iXc1bthP1vHyjEKKgAAAAAUUBevJ2jpviVatPsTxVw9rwc8HlRQr4/1eIO+KuZYzNbxcoyCCgAAAAAFTGT8SX3683ytOrBc11Ovy6t2B815fJ461HlMJpPJ1vFyjYIKAAAAAAXEvui9WvDTRwr7I1QOdg7q1aCPnm3zgh6pWM/W0SyCggoAAAAABpaWnqawP0K14KePdeD0L3Ir7qaXvF7R8FYj5Fmqoq3jWRQFFQAAAAAMKDH5qlbuX6ZPdy3QqYvRqlG2pt4LmKX+TQaphFMJW8ezCgoqAAAAABjI2ctn9NmuhVr2yxe6knRZzau31BS/afJ9yE/2dva2jmdVFFQAAAAAMIDfzx7S/J8+UkjEemWYMxTwSA+NbPuCmlRtZuto+YaCCgAAAAA2kpGRoe/+2qIFOz/Wz5E7VcKppIa3GqFnWj+namWq2zpevqOgAgAAAEA+u5FyQ0v3LdEnP8/Tsbi/VKl0ZU32fUdDmj2h0sXdbB3PZiioAAAAAJCPFvz0sT7eGaS4q3GqX6mhFvRdpG71esrR3tHW0WyOggoAAAAA+eT0xVN6MyxQ3vd76+V+49S6ZluZTCZbxzIMCioAAAAA5JOT8SckSW91e0t1yzaxcRrjsbN1AAAAAAAoKqIToiRJtcrXsm0Qg6KgAgAAAEA+iUqIlJO9kyqXqWzrKIZEQQUAAACAfBIVH6lqZarL3s7e1lEMiYIKAAAAAPkk+mKUqpetYesYhkVBBQAAAIB8YDabFRUfqRpla9o6imFRUAEAAAAgH1y8kaCryVe4gnoXFFQAAAAAyAdR8ZGSpBrlWMH3TiioAAAAAJAPohL+W1C5xfeOKKgAAAAAkA9u7oFarUx12wYxMAoqAAAAAOSDqIRIVXD1lIuTi62jGBYFFQAAAADyASv43hsFFQAAAADyAXug3hsFFQAAAACsLCk1SeeunOUK6j1QUAEAAADAyk5fPCWz2cwV1HugoAIAAACAlUUlnJQk1SjHFdS7oaACAAAAgJX9/x6otWycxNgoqAAAAABgZdEJUXJxKqHyJcrbOoqhUVABAAAAwMqiEv7ZYsZkMtk6iqFRUAEAAADAytgDNXsoqAAAAABgRRkZGTp1MZoVfLOBggoAAAAAVhRz9byS0pK4gpoNFFQAAAAAsKKbK/hyBfXeKKgAAAAAYEXRCVGS2AM1OyioAAAAAGBFUQknZWeyU1W3araOYngUVAAAAACwoqiEKFVxqypHe0dbRzE8CioAAAAAWFF0QqSqs0BStlBQAQAAAMCK2AM1+yioAAAAAGAlV5OuKP56PCv4ZhMFFQAAAACsJOq/K/jW5ApqtlBQAQAAAMBKbu6ByhYz2UNBBQAAAAArubkHKrf4Zg8FFQAAAACsJCohUmVdyqpUsdK2jlIgUFABAAAAwEr+2WKmhq1jFBhWL6gzZszQ+PHjJUm7du1SQECAfHx8FBQUlHnM0aNH1atXL3Xu3FkTJ05UWlpalnGuXLmiESNGqEuXLho0aJDi4uIkSSkpKRo7dqy6dOminj176sSJE5Iks9msGTNmyNfXV35+fjpw4MBt84WGhsrPz08+Pj5asWJF5ut5yQoAAAAA0j9XUNliJvusWlB3796tDRs2SJKSkpIUGBio+fPnKywsTIcPH9b27dslSWPHjtXkyZO1ZcsWmc1mrV27NstYs2fPVtOmTbV582b16dNHU6dOlSQtW7ZMxYsX1+bNmxUYGKgJEyZIkrZs2aITJ04oLCxM8+bN04QJE7KUyZiYGAUFBWnlypUKDg7WmjVrdPz48TxnBQAAAIDU9FT9fek0BTUHrFZQL126pKCgII0cOVKSFBERoerVq6tq1apycHBQQECAwsPDdebMGSUlJalhw4aSpF69eik8PDzLeNu2bVNAQIAkqWvXrtqxY4dSU1O1bds2devWTZLUrFkzJSQk6OzZs9q+fbv8/PxkZ2enmjVrqmLFijp48OAtY+7atUstW7aUm5ubXFxc1LlzZ4WHh+c5KwAAAACcufy30jPSVZ2Cmm0O1hp48uTJGjNmjM6dOydJio2Nlbu7e+bnPTw8FBMTk+V1d3d3xcTEZBnv38c5ODioZMmSSkhIuO37z58/r9jYWHl4eGR5/U5j3swUERGR56z3Uq5cyRy/x93dNcfvQeHA3BdNzHvRxdwXXcx90cXcF16/xf3TFRrWqnvbeWbus7JKQf3qq69UsWJFtWrVSuvXr5ckZWRkyGQyZR5jNptlMpnu+Pq9mM1m2dnZZTn+5uu3G9fO7tYLxjnNlNus/ys+PlEZGeZsH+/u7qq4uKs5Pg8KPua+aGLeiy7mvuhi7osu5r5w++3kEUmSm32FLPNcVOfezs501wt2VimoYWFhiouLU/fu3XX58mVdv35dZ86ckb29feYxcXFx8vDwkKenZ+aCR5J04cKFW6583uTh4aELFy7I09NTaWlpunbtmtzc3FShQgXFxsaqWrVqt7zf09NTsbGxdx3X09NT+/fvv2emnGYFAAAAgOiEKDk7OMvTtaKtoxQYVnkGdcmSJdq0aZNCQkL00ksv6dFHH9WiRYsUGRmp6Ohopaena9OmTfLy8lLlypXl7OycucpuSEiIvLy8sozp7e2t4OBgSf8U4KZNm8rR0VHe3t4KCQmRJO3fv1/Ozs6qVKmSvLy8FBoaqvT0dEVHRysqKkr16tW7ZczWrVtr9+7dSkhI0I0bN7R161Z5eXmpQYMGecoKAAAAAFEJkapWpnqWOzlxZ1Z7BvV/OTs7a/r06Ro1apSSk5Pl7e0tX19fSdKsWbM0adIkJSYmqm7duho6dKgkac6cOfLw8NCAAQM0evRojR8/Xv7+/nJ1ddWsWbMkSUOGDNHkyZPl7+8vJycnzZw5U5Lk6+uriIiIzAWUpk6dqmLFiikmJkYjRoxQSEiIKlSooDFjxmjo0KFKTU1V7969Vb9+fUnKcVYAAAAA+Lco9kDNMZPZbM7+w5D57MiRI/rtt980aNAgi44bGBioadOmWXTMnOAZVGQXc180Me9FF3NfdDH3RRdzX3iZzWbd93YV9W88UNMC3s/y+aI69/d6BtXQ15rj4uLUtWtXi455/fp1dejQwaJjAgAAAMC/xV+LV2LyVfZAzaF8u8U3N9q3b2/xMV1cXNSpUyeLjwsAAAAAN0VfjJQk9kDNIUNfQQUAAACAgigq/p+CyhXUnKGgAgAAAICFRSX8U1Crla1u4yQFCwUVAAAAACwsOiFKnqUqqrhjcVtHKVAoqAAAAABgYVEJkdzemwsUVAAAAACwMApq7lBQAQAAAMCCbqTe0Pkr51S9bA1bRylwKKgAAAAAYEGnEqIlsYJvblBQAQAAAMCC/n8P1Bq2DVIAUVABAAAAwIL+fw/UWjZOUvBQUAEAAADAgqISIlXS2VXlSpSzdZQCh4IKAAAAABYUnRCl6mVryGQy2TpKgUNBBQAAAAALYouZ3KOgAgAAAICFZGRk6NTFaApqLlFQAQAAAMBCzl89p+S0ZFbwzSUKKgAAAABYyP+v4MsV1NygoAIAAACAhUQlsAdqXlBQAQAAAMBCohMiZW9nrypuVW0dpUCioAIAAACAhUQlRKqKW1U52jvaOkqBREEFAAAAAAv5Zw9Unj/NLQoqAAAAAFgIe6DmDQUVAAAAACzgStJlJVxPoKDmAQUVAAAAACwgOiFKEiv45gUFFQAAAAAsgD1Q846CCgAAAAAWEJlws6DWsG2QAoyCCgAAAAAWEJ0QpXIu5eRarJStoxRYFFQAAAAAsICohEjVKMftvXlBQQUAAAAAC4hOiFL1MjVsHaNAo6ACAAAAQB6lpqfqzOXTXEHNIwoqAAAAAOTR6UunlJ6Rrhpla9k6SoFGQQUAAACAPGIPVMugoAIAAABAHrEHqmVQUAEAAAAgj6ISIlXMoZgquHraOkqBRkEFAAAAgDyKTohStTLVZWdHxcoL/usBAAAAQB6xB6plUFABAAAAIA/MZrOiEiLZA9UCKKgAAAAAkAcXrl3Q9ZRrXEG1AAoqAAAAAORBVMJJSazgawkUVAAAAADIg//fA5WCmlcUVAAAAADIg6j4SJlMJlUrU93WUQo8CioAAAAA5EFUQqQqlqqkYo7FbB2lwKOgAgAAAEAeRCdEsYKvhVBQAQAAACAP2APVciioAAAAAJBL11OuK+bqeVbwtRAKKgAAAADk0qmL0ZKk6mVr2DZIIUFBBQAAAIBcikqIlMQeqJZCQQUAAACAXIr+b0FlD1TLoKACAAAAQC5FxUfK1bmUyrqUtXWUQoGCCgAAAAC5dHMFX5PJZOsohQIFFQAAAAByiT1QLYuCCgAAAAC5kJ6RrlMXo9kD1YIoqAAAAACQC+eunFVKegor+FoQBRUAAAAAciE6IUoSe6BaEgUVAAAAAHKBPVAtj4IKAAAAALkQFR8pBzsHVS5dxdZRCg0KKgAAAADkQnRCpKq4VZWDvYOtoxQaFFQAAAAAyIWbe6DCciioAAAAAJAL/+yBSkG1JAoqAAAAAOTQ5RuXdPHGRa6gWhgFFQAAAAByiBV8rYOCCgAAAAA5xB6o1kFBBQAAAIAc+v8rqDVsG6SQyVZBvXbtmqZMmaInnnhCly5d0uTJk3Xt2jVrZwMAAAAAQ4qKj1T5EuVV0tnV1lEKlWwV1HfffVelSpVSfHy8nJ2dlZiYqMmTJ1s7GwAAAAAYUnRClKrz/KnFZaugHj16VGPGjJGDg4OKFy+uWbNm6ejRo9bOBgAAAACGxB6o1pGtgmpnd+th6enpWV4DAAAAgKIgJS1FZy7/replatg6SqHjkJ2DmjVrpvfff19JSUnauXOnVqxYoRYtWlg7GwAAAAAYzt+XTinDnMEVVCvI1mXQ1157TS4uLnJ1dVVQUJAeeOABjRs3ztrZAAAAAMBw/n8F31o2TlL4ZOsKqqOjo1544QW98MIL1s4DAAAAAIYW9d89UNlixvKyVVBHjhx529cXLlxo0TAAAAAAYHRRCZEq7lhcFVw9bR2l0MlWQe3cuXPmv6empmrLli165JFHrBYKAAAAAIwqKj5S1cvUkMlksnWUQidbBbVnz55ZPh4yZIhVAgEAAACAkUVfjFJ1bu+1ilztFWM2mxUbG2vpLAAAAABgaGazWdEJUazgayW5egb1r7/+UvPmza0SCAAAAACMKi4xTtdTrrEHqpXk+BlUk8mkAQMGqG3btlYLBQAAAABGlLnFDFdQrSLbz6CmpKToxo0bMpvNkqSrV6/Kzc3NmtkAAAAAwFCiEk5KYg9Ua8lWQV29erWmTZum1NRUSf/cd20ymXT06FGrhgMAAAAAI4lOiJLJZFLVMtVsHaVQylZBXbRokVatWqW6detaOw8AAAAAGFZUQqQqlaosZwdnW0cplLK1im/58uUppwAAAACKvKj4SNUoy/On1pKtgtq2bVutXLlSMTExunTpUuY/AAAAAFCUsAeqdWXrFt9PP/1UKSkpevvttzNf4xlUAAAAAEXJtZRrir0awwq+VpStK6gRERH6888/b/knO+V0zpw58vPzk7+/v5YsWSJJ2rVrlwICAuTj46OgoKDMY48ePapevXqpc+fOmjhxotLS0rKMd+XKFY0YMUJdunTRoEGDFBcXJ0lKSUnR2LFj1aVLF/Xs2VMnTpyQ9M9iTjNmzJCvr6/8/Px04MCB2+YMDQ2Vn5+ffHx8tGLFiszX85IVAAAAQOESnRAlSeyBakXZKqgZGRlavHixxo8fr8TERH3yySdKT0+/63v27dunPXv2aOPGjVq3bp2WLVumP//8U4GBgZo/f77CwsJ0+PBhbd++XZI0duxYTZ48WVu2bJHZbNbatWuzjDl79mw1bdpUmzdvVp8+fTR16lRJ0rJly1S8eHFt3rxZgYGBmjBhgiRpy5YtOnHihMLCwjRv3jxNmDAhS5mMiYlRUFCQVq5cqeDgYK1Zs0bHjx9XUlJSnrICAAAAKFxuFlSuoFpPtm7xnTlzphISEvT777/LbDZr586diouL06RJk+74nubNm2vp0qVycHBQTEyM0tPTdeXKFVWvXl1Vq1aVJAUEBCg8PFy1a9dWUlKSGjZsKEnq1auX5s6dq4EDB94y5rZt2zKvcHbt2lVvv/22UlNTtW3bNo0ePVqS1KxZMyUkJOjs2bPavn27/Pz8ZGdnp5o1a6pixYo6ePCgmjVrljnmrl271LJly8w9XTt37qzw8HA1b948T1nvply5ktk+9iZ3d9ccvweFA3NfNDHvRRdzX3Qx90UXc19wXEg+K0lqen99lS2R93lj7rPKVkHdvXu3NmzYoF69esnV1VWff/65unfvfs/3OTo6au7cufr888/l6+ur2NhYubu7Z37ew8NDMTExWV53d3dXTExMlvH+fZyDg4NKliyphISE277//Pnzio2NlYeHR5bX7zTmzUwRERF5zno38fGJysgwZ/t4d3dXxcVdzdE5UDgw90UT8150MfdFF3NfdDH3BcuR03+qVLHSSrvmoLjreZu3ojr3dnamu16wy9Ytvg4ODrKz+/9DnZyc5OCQrW6rl156Sbt379a5c+cUFfXPprY3mc1mmUwmZWRk3Pb1ezGbzbKzs8ty/M3Xbzfuv/8cku547py+DgAAAKBwi0r4Z4sZfv63nmwV1Pvvv18rVqxQenq6Tp48qcmTJ+vBBx+863tOnDiRuZBS8eLF5ePjo71792YubCRJcXFx8vDwkKen5y2vX7hw4ZYrnzd5eHjowoULkqS0tDRdu3ZNbm5uqlChgmJjY7O839PT87av/9v/nvtOmXKaFQAAAEDhwh6o1petgjpx4kQdOXJE8fHxGjhwoK5fv67AwMC7vufvv//WpEmTlJKSopSUFH3//ffq37+/IiMjFR0drfT0dG3atEleXl6qXLmynJ2dM1fZDQkJkZeXV5Yxvb29FRwcLEkKCwtT06ZN5ejoKG9vb4WEhEiS9u/fL2dnZ1WqVEleXl4KDQ1Venq6oqOjFRUVpXr16t0yZuvWrbV7924lJCToxo0b2rp1q7y8vNSgQYM8ZQUAAABQeKRnpOv0pVPsgWpl2bpPNzY2VtOmTcvRwN7e3oqIiFCPHj1kb28vHx8f+fv7q2zZsho1apSSk5Pl7e0tX19fSdKsWbM0adIkJSYmqm7duho6dKikf7aq8fDw0IABAzR69GiNHz9e/v7+cnV11axZsyRJQ4YM0eTJk+Xv7y8nJyfNnDlTkuTr66uIiAh169ZNkjR16lQVK1ZMMTExGjFihEJCQlShQgWNGTNGQ4cOVWpqqnr37q369etLkqZPn56jrAAAAAAKp7OXzyg1PZUVfK3MZDab77laj5eXl6pWraq+ffuqS5cucnJyyo9skqQjR47ot99+06BBgyw6bmBgYI5Lt6WwSBKyi7kvmpj3oou5L7qY+6KLuS84dp7YrscXB2jd8FC1u887z+MV1bm3yCJJ27Zt04gRI/Tjjz/q0Ucf1dtvv60///zTYiHvJi4uTl27drXomNevX1eHDh0sOiYAAACAwuvmHqjc4mtd2SqodnZ28vb21uzZs/Xll1/q8OHD6tmzp7WzSZLat2+v0qVLW3RMFxcXderUyaJjAgAAACi8ohIi5WDnoMqlq9g6SqGWrYKalpamrVu3auTIkRoyZIjq16+fuVgRAAAAABR20QlRqlqmmuzt7G0dpVDL1iJJbdu2VZ06ddS7d2/NnTs3X59BBQAAAABbu7kHKqwrWwV19erVqlGjhpWjAAAAAIAxRcVHqnGVJraOUehl6xbfEiVKaMSIEercubMuXLig4cOHKzY21trZAAAAAMDmLt24qMtJl1SdK6hWl62COmXKFD322GNydnZW6dKl9eCDD2rSpEnWzgYAAAAANhcVHylJ7IGaD7JVUM+cOaO+ffvKzs5Ojo6OGjt2rM6dO2ftbAAAAABgc1EJ/y2oXEG1umwVVJPJpIyMjMyPExMTb/kYAAAAAAqrm3ugVitT3bZBioBsLZLk4+Oj1157TVevXtXq1av11VdfqUuXLtbOBgAAAAA2F5UQKfeSHirpXNLWUQq9bBXUkSNHKjg4WBkZGdq1a5f69eunvn37WjsbAAAAANhcVHykqpetYesYRUK2Cqok9ejRQz169Mj8+Oeff1abNm2skQkAAAAADCP6YpRa1mht6xhFwl2fQT18+LD69++vkSNHKiEhQZJ09uxZvfjii3ruuefyJSAAAAAA2EpyWrLOXP6bBZLyyV0L6pQpU+Tj46MqVapowYIF+u6779StWzfduHFDISEh+ZURAAAAAGzi70unZDabucU3n9z1Ft+rV69q2LBhSk9PV+fOnbV582ZNmTJF/v7++ZUPAAAAAGzm//dArWXjJEXDXQtq8eLFJUn29vZKTk7Wp59+qocffjhfggEAAACArbEHav666y2+ZrM589/LlClDOQUAAABQpEQlRMnF0UUeJT1sHaVIuOsV1IyMDF2+fDmzqP773yXJzc3NquEAAAAAwJaiE/7ZYsZkMtk6SpFw14L6119/qWXLlpmltEWLFpmfM5lMOnr0qHXTAQAAAIANRcVH8vxpPrprQf3zzz/zKwcAAAAAGIrZbFb0xSh513nU1lGKjLs+gwoAAAAARVXs1RjdSL3BAkn5iIIKAAAAALcRdTFKklSDPVDzDQUVAAAAAG4jKv6kJKlGOa6g5hcKKgAARURicqJe3TBa5y6ftXUUACgQohIiZTKZVNWtuq2jFBkUVAAAiojQw8Fa9ssSrTv0la2jAECBEJ0Qpcqlq8jJwcnWUYoMCioAAEXEhoivJUl7on62cRIAKBiiEiJZICmfUVABACgC4hLjtPPEdjnaO2pP1G6lZ6TbOhIAGF5UPAU1v1FQAQAoAjYdDlF6RrpGtnlRV5Iu64/zR2wdCQAMLTE5UReuxak6K/jmKwoqAABFQHDEOj3o8ZCeavm0JG7zBYB7iU6IkiSuoOYzCioAAIXc2ctntCd6l3rUf1xV3Kqqqls17Y7cZetYAGBoUQmRksQV1HxGQQUAoJAL+X2DzGazetTvJUlqWbO19kT9LLPZbONkAGBcmVdQ2QM1X1FQAQAo5IIjvlaDyo1Uq3xtSVKrGm104doFHY87ZuNkAGBcUQkn5VbcTW7Fy9g6SpFCQQUAoBCLjD+pg3//qh71H898rVXN1pKk3TyHCgB3FJ0Qpeo8f5rvKKgAABRiIb+vlyR1r9cz87Va5WrLw7UCBRUA7oI9UG2DggoAQCG2IWKdmldvqSpuVTNfM5lMalWjjXZH8hwqANxOWnqaTl88RUG1AQoqAACF1J8xR3X0/BH1rN87y+da1mits5fP6PSlUzZIBgDGdvbKGaVlpLGCrw1QUAEAKKSCI9bJzmSngEd6ZPlcq5ptJEm7In/K51QAYHxR8f9sMcMV1PxHQQUAoBAym83aEPG12t7nLQ9Xjyyff9DjIbkVd9Me9kMFgCzYA9V2KKgAABRCEWd/U2T8SfX81+q9/2ZnZ6eWNVqzUBIA3EZ0QpQc7R1VqXRlW0cpciioAAAUQhsi1snR3lF+D3e94zEta7RRZPxJnb9yLh+TAYDxRSVEqlqZ6rK3s7d1lCKHggoAQCGTkZGhkIj16lCno8q4lL3jcTf3Q90TxW2+APBv/+yBWsPWMYokCioAAIXML6f36czlv9XjDrf33lSvYgOVcCqp3ZHc5gsAN5nNZvZAtSEKKgAAhUzwoa9VzKGYfB/yu+txDvYOal69BVdQAeBfLt5I0JWkyxRUG6GgAgBQiKSlpynk9w3yebCLSjq73vP4VjXb6GjMH0q4Hp8P6QDA+KIToiRJ1SmoNkFBBQCgEPk5cqcuXIu75+29N7Ws8c9+qHuj9lgzFgAUGOyBalsUVAAACpHgiHUq6eyqjg90ytbxjao0lrODM9vNAMB/sQeqbVFQAQAoJFLSUrTp8EZ1edhfxR2LZ+s9zg7OalK1GQslAcB/RSdEycO1glycXGwdpUiioAIAUEhsO/69LiddUs9s3t57U8sarfX72UO6mnTFSskAoOBgBV/boqACAFBIbIhYpzLFy8jrvg45el+rmm2UYc7QL6f2WikZABQcUQmR3N5rQxRUAAAKgesp1xX+R5i6PtJdTg5OOXpv02rN5WDnoN2RbDcDoGhLSk3SuStnuYJqQxRUAAAKge//s1XXUhKzvXrvv5VwKqEGlRuyUBKAIu/0xVMym80UVBuioAIAUAhsiFgnD9cKal2zba7e37JGGx38+4BupN6wcDIAKDiiL95cwZeCaisUVAAACrirSVf07X/C1f2RnrK3s8/VGK1rtlFqeqp+Pb3fwukAoGCITojSwp/nS5Jqlqtl4zRFFwUVAIACbvPRb5SclqweDXJ+e+9Nzau3lMlkYrsZAEXOtZRrmv7tu2o7u5n2R+/Vu/7T5V7S3daxiiwHWwcAAAB5ExyxTlXdqqlp1ea5HqN0cTfV9ayn3VEslASgaDCbzQr5fb3e2jxJZy+fUa8GfTTZ921VKl3Z1tGKNK6gAgBQgCVcj9e2Yz+oe/1eMplMeRqrVY3W2n9qr1LSUiyUDgCM6fC539XjMz+NWP2UypUor40jtmhhv8WUUwOgoAIAUIB9cyRUaRlp6pmL1Xv/V8uabXQj9YYOnT1ogWQAYDwJ1+M1LmSMHvu4nf6K/VMf9Jyrrc9vU8sarWwdDf/FLb4AABRgwYfW6b7ytfVIxfp5HqtljdaSpN2Ru9SsWos8jwcARpGWnqalvyzR9G/f0dXkqxrecoTGPjZBbsXL2Doa/gdXUAEAKKBirpzXT5E71KP+43m+vVeS3Eu6q477/drDfqgACpGfT+5Ux3ntNH7jq6pXsYF+ePFnTQ2YSTk1KK6gAgBQQIUeDpbZbFbP+r0tNmbLGm0UHLFO6Rnpud6yBgCM4O9Lp/VW2CRtPLxBVd2q6fOBy+VfN8Aiv9CD9XAFFQCAAmp9xNeqW7Ge7vd4wGJjtqrZWleTr+iP84ctNiYA5KcbqTc06/vpahPUVN/+J1yvPzZRP435RV0f6UY5LQC4ggoAQAF06mK09p/ap0md37LouK1qtJEk7Y78WfUqNbDo2ABgTWazWZuObNRbYRN1+tIpda/XS292eUdV3KraOhpygCuoAAAUQCG/b5Akda/Xy6LjVnaromplarAfKoAC5ej5P9R7cTcNXzlEJYu5KvjpMH024AvKaQHEFVQAAAqg4Ih1alK1qaqXrWHxsVvVbK3v/twis9nM7XAADO3SjYua+d00Ldm7SK7Orpre7QMNbfaUHOypOQUVV1ABAChgjscd0+9nD6mHBfY+vZ1WNdoo/nq8jsX9ZZXxASCv0jPS9eXez9Xyg0b6fM9nGtrsKe159aCGtXyGclrAMXsAABQwwRHrZDKZ1O2RnlYZv2XNf/ZD3RX5k0UXYAIAS9gTtVuBoWN1+FyEWtVoo6kBM/VIxXq2jgUL4QoqAAAFiNls1oaIr9WqRhtVLF3JKueoWbaWKrh6ak8k+6EC1pKSlqJO87z1dujbto5SYJy7fFYjVw9Tt0876+L1BH3W/wsFPxNGOS1kuIIKAEABcuT8YR2L+0vPtH7OaucwmUxqVaO1dkft4jlUwEpW7F+qQ2cO6tyVM3q62YtytHe0dSRDS89I1+OLA3T60im9+ujrGuU1Ri5OLraOBSvgCioAAAVIcMQ62dvZq2vd7lY9T8uabXTuyllFX4yy6nmAouhayjV98OMMlXMpp9irsfrx2He2jmR4mw6H6PiFY5rf5zO9/thEymkhRkEFAKCAMJvNCo5YJ+/aHVS+ZHmrnuvmfqh7ItluBrC0RbsWKvZqjBYNXKryJctr7a+rbR3J0Mxms+Zs/1C1y9eRf91uto4DK6OgAgBQQPz6936duhhttdV7/+0BjwdVpngZ7Y7iOVTAki5eT9BHO2ar84Nd1KZWOw1oPkBb/gzTpRsXbR3NsH489r0On4vQi14vy86O+lLYMcMAABQQwRHr5GTvJL+Hu1r9XHZ2dmpZs412s1ASYFFztwfpavIVTfCZLEl6ovUTSk5LVkjEBhsnM66PtgepYqlK6t2wn62jIB9QUAEAKADSM9IVHLFeHR/wUalipfPlnK1qtFZUQqTOXT6bL+cDCruzl89o8e5P1LthPz3sWVeS1LhaYz3g8aDWHlxl43TGtP/UPv0cuVPPtX1RTg5Oto6DfEBBBQCgANgbtVsxV8+rZz7c3ntTq5r/fQ41iudQAUv44IcZSjena1zHwMzXTCaT+jQaoF9O7dXJ+BM2TGdMc7cHqUzxMhrc7ElbR0E+oaACAFAAbIhYJxdHF3V60DffzlnXs55KOrvyHCpgAcfjjmnlgWV6svlwVS9b45bP9WnYTyaTSWt/5Srqv/0Zc1ThR7/R8FbPqqRzSVvHQT6hoAIAYHCp6akKPbxBnR/qohJOJfLtvA72DmpevQXPoQIWMP3bd+XsUEwvdxib5XMVS1eS133t9fVva5SRkWGDdMb08Y7ZcnF00dOtn7V1FOQjCioAAAa388Q2JVxPUI/6vfP93K1qtNF/Yv/UhcQL+X5uoLD47e9ftfHwBj3X9kW5l3S/7TF9Gw3QqYvR2hu9O5/TGdPpi6e0/tBXGtL8SZV1KWfrOMhHFFQAAAxuQ8Q6lSpWWo/e/1i+n7vlf59D5YdmIPembp2isi5l9XzbUXc8xq9ugEo4ldSaX1fmYzLjWvDTRzKZTBrZ5kVbR0E+o6ACAGBgSalJCjuySf51A+Ts4Jzv529YuZGKORTTHp5DBXJlx/Ft2n78R73c/jW5Fit1x+NKOJVQwCPdtfFwsK6nXM/HhMZzIfGCVuxfqt4N+6myWxVbx0E+o6ACAGBgPxz7TleTr6hHPq7e+2/ODs5qUrWZdkeyki+QU2azWVO3vqXKpavoyRZP3/P4vo0GKDH5qsKPfpMP6Yxr0e4FSkpL0ovtXrZ1FNgABRUAiqBfT+/XxesJto6BbAg+9LXKuZRTu1reNsvQsmZrHT4XoStJl22WAcZnNps16/vp2nR4o8xms63jGMKmIxt18O9fNe6xQBVzLHbP41vXbKsqblWL9G2+iclXtXj3Z/J7OEB1PO63dRzYgFUL6scffyx/f3/5+/tr5syZkqRdu3YpICBAPj4+CgoKyjz26NGj6tWrlzp37qyJEycqLS0ty3hXrlzRiBEj1KVLFw0aNEhxcXGSpJSUFI0dO1ZdunRRz549deLEP3tImc1mzZgxQ76+vvLz89OBAwdumzM0NFR+fn7y8fHRihUrMl/PS1YAMKofj32vLgs7ym/hYzp7+Yyt4+AurqVc09Y/wxVQr4cc7B1slqN1zbbKMGfol+i9NssA41tzcKVmfj9Nw1YO1tBl/fX3pdO2jmRTaelpem/r27rf/QH1adg/W++xs7NTn4b9tP34jzp/5ZyVExrTl/uW6HLSJb3kPcbWUWAjViuou3bt0k8//aQNGzYoODhYR44c0aZNmxQYGKj58+crLCxMhw8f1vbt2yVJY8eO1eTJk7VlyxaZzWatXbs2y5izZ89W06ZNtXnzZvXp00dTp06VJC1btkzFixfX5s2bFRgYqAkTJkiStmzZohMnTigsLEzz5s3ThAkTspTJmJgYBQUFaeXKlQoODtaaNWt0/PhxJSUl5SkrABhRzJXzemHtCNUoW1OxV2PV7VNfRSVE2joW7mDL0TBdT72unjZYvfffmlRtJgc7B+2O4jZf3N7F6wmaEjZJTas111tdpmrnie1qO7u5Fvz0sdLSi+Yv8tccXKnjF45pgs/kHP2CqU+jAcowZ2jdoa+smM6YktOStfCnj9XuvvZqVKWJrePARqxWUN3d3TV+/Hg5OTnJ0dFR9913n6KiolS9enVVrVpVDg4OCggIUHh4uM6cOaOkpCQ1bNhQktSrVy+Fh4dnGXPbtm0KCAiQJHXt2lU7duxQamqqtm3bpm7dukmSmjVrpoSEBJ09e1bbt2+Xn5+f7OzsVLNmTVWsWFEHDx68Zcxdu3apZcuWcnNzk4uLizp37qzw8HBFRETkKSsAGE16RrqeX/uMrqUkaung1Vo3fKOuJl1R90+76FjsX7aOh9sIjlgnz1IV1aJ6K5vmcHFyUcMqjdkPFXf07pYpupR0Se93n63n243Sjpf3qnXNNnozLFC+Cx7VoTMH7z1IIXIj9Ybe//49NanaVH4Pd83Re2u711GTqs209teVRe5W6bUHVynm6nmunhZxVrtfqE6dOpn/HhUVpc2bN2vw4MFyd///vZ88PDwUExOj2NjYW153d3dXTExMljH/fZyDg4NKliyphISE277//Pnzio2NlYeHR5bX7zTmzUwRERG3fT0nWe+mXLmSOTr+n/O45vg9KByY+6LJGvP+zqZ3tPPkdn3+5Odq+0gzSdJ29+3qFNRJPRZ30XevfKf6Vepb/LzImZtzf/HaRX3/17d6scOLqlChtI1TSR0f7qAPv/1QJUrZy8XZxdZxCqWC+v1+z4k9Wr7/C415bIza1//nlynu7o9o66vh+vrA13pp9UvqPL+DRj06Su/0eEeuxQrmnzMnPtj6qc5ePqMVzyyXh8edV+696X/nfrjXU3p+xfM6k3RCjao1slZMQ0nPSNeCn+eqSfUmerxlgEwmk60j5YuC+nVvTVZ/oOXYsWN69tlnNW7cONnb2ysqKirzc2azWSaTSRkZGbf8T3jz9Xsxm82ys7PLcvzN1283rp3drReN73TunL6eE/HxicrIyP5vxNzdXRUXdzVH50DhwNwXTdaY910nf9JbG99S74b95F/n8czxPZ1rKPjpMD2+uJu8Z3pr9ZPr1bhqU4ueG9n377lfdWC1UtNT1blOgCG+DzSo0FSp6akKP/iD2t1nuwWbCquC+v0+LT1Nz3z5rDxdK+rF1q9m+TO0r+6rnS/t09StUzT3h7n6av/Xei9glro87G+jxNZ3Jemypm6aqg51Oqpu2Sb3nNfbzX3Hmn5ysnfSJz8s0jv+060Z1zA2/r5Bx2OPa/HAZbpwIdHWcfJFQf26zys7O9NdL9hZdZGkAwcO6Mknn9Srr76qnj17ytPTM3NhI0mKi4uTh4dHltcvXLhwy5XPmzw8PHThwgVJUlpamq5duyY3NzdVqFBBsbGxWd7v6el529f/LbuZcpoVAIziQuIFjVw7XDXL1dLM7h9m+aXafeXraOOIcJUq5qben3fXHrYTMYQNEV+retkahnkOq3n1ljKZTNzmi1t8vudTHT4XoXf9p6uk8+2vBJUu7qaZ3YO06dmtKl2stJ5YPkBPLh+kc5fP5nPa/DF/51xdvHFRE33ezPUYZVzKyufBLlr321qlpqdaMJ0xmc1mzdn+oe4rXzvHt0Sj8LFaQT137pxeeOEFzZo1S/7+//yWrEGDBoqMjFR0dLTS09O1adMmeXl5qXLlynJ2ds5cZTckJEReXl5ZxvT29lZwcLAkKSwsTE2bNpWjo6O8vb0VEhIiSdq/f7+cnZ1VqVIleXl5KTQ0VOnp6YqOjlZUVJTq1at3y5itW7fW7t27lZCQoBs3bmjr1q3y8vLKc1YAMIKMjAyN+vpZXbyeoE/7f3HHHyCrlamu0BHhqliqovp90VPbjv2Qz0nxb3GJcdp5Yrt61u9tmNvcShUrrUcq1tceFkrCf52/ck7Tv5uqR+9/TF0f6X7P45tVa6HvXtypSZ3f0g9/fas2s5tp0a6FSs9Iz4e0+SP2aqwW/jRPPer1Uv3KDfM0Vt/GA3Th2gX9eOw7y4QzsG3Hf9DvZw9plNcY2dvZ2zoObMxqBXXx4sVKTk7W9OnT1b17d3Xv3l3r16/X9OnTNWrUKPn5+alWrVry9fWVJM2aNUvvvfeefH19df36dQ0dOlSSNGfOHK1atUqSNHr0aP3222/y9/fXypUrNXnyZEnSkCFDlJKSIn9/f02dOjVzSxtfX1/VqVNH3bp10/PPP6+pU6eqWLFiiomJUffu/3wjrVChgsaMGaOhQ4eqR48e6tq1q+rXry9nZ+ccZwUAo5n/00f6/q9v9bbfe6pX6e7Pl1YsXUnBz2xWzXL3afDSvtpydHM+pcT/2nQ4ROkZ6epR/3FbR7lFqxqttf/UPqWkpdg6Cgxg8jcTlJqeovcCZmX7FymO9o56yfsV7Xh5r5pWa6bATePkv/Ax/X42wspp80fQjzOVnJ6s8Z0m5XmsR+s8pnIu5bT219UWSGZsc7d9qIqlKunxhn1tHQUGYDIbfHmwI0eO6LffftOgQYMsOm5gYKCmTZtm0TGzi2dQkV3MfdFkqXn/5dRedf+0i7o83FWLBnyZ7R8gL15PUP8veun3sxGa3/czw5Wkwuzm3Hf/tIsSrsdrx+i9hrmCKkmbDm/UsJWDtenZb9W8egtbxylUCtr3+23HflDfJT00rmOgXus4PldjmM1mrT/0ld74ZoIu3kjQs21e0NiOE1TCqYSF0+aPqIRItQlqqgFNhmhWj9nZft/d5n5i6Dgt/WWJfp/wl9yKl7FQUmPZf2qf/BY+pil+0/Rc2xdtHSdfFbSve0ux6TOolhAXF6euXS17L/r169fVoUMHi44JAEZy6cZFPbt6mCqVrqIPe87NUckp41JWXw/bqKbVmmvkmuFafWCFFZPif529fEZ7onepR/3HDVVOJalljdaSpD1RPIdalCWlJun1ja+oVrn7NCoP24GYTCY93rCvfh7ziwY0Hqz5O+fKa3YLffefLRZMm39mfDdV9iZ7vfbo6xYbs2/jAUpOS1ZIxAaLjWk0c7cHya24m4Y0e9LWUWAQhi+o7du3V+nSll1e38XFRZ06dbLomABgFGazWaPXvaCYq+f12YAlKl3cLcdjuBYrpdVPrle7+7z10rrn9PmezywfFLcV8vsGmc1m9ajfy9ZRsihfsrwe8HiQhZKKuI92BCky/qRmdP9Qzg7OeR6vjEtZfdjrI218JlzFHYtr4Jd99MyqJxVz5fy932wQh8/9rvWHvtIzrZ+TZ6mKFhu3fqWGesDjQa09uMpiYxrJf2L+VPjRbzS81bMq6ZzzbRhROBm+oAIAcmbx7k+0+Y9NeqPzlDytAOvi5KJlQ9bI9yE/jd/4qj7eMceCKXEnwRFfq36lhrqvfJ17H2wDLWu00d7oPYVqYRtk38n4E5q7/UP1rP+4vGtb9m60ljVb6/tRP2n8Y5MUfvQbtZndTF/sXayMjAyLnsca3tv6tko5l9Yo75ctOq7JZFLfxgP1y6m9Ohl/wqJjG8HHO2fLxdFFT7caaesoMBAKKgAUIofOHNRbmyfJ50FfPdvmhTyPV8yxmBYPXKYe9Xrp7fA3NPO7aTLK0gWJyVc1f+dH6vmZf6FZYOVE7Akd/PtXQz/326pmayUmX9WRc7/bOgrymdls1oSNr8nR3klT/Kyzjoezg7NeeXSctr20Sw0qNdS4kDHq+qmPjp7/wyrns4Q9kbv07X+2aJT3GKs8J9q7QV+ZTCat/bVwXUX9+9JprfttrQY3e0LlSpSzdRwYCAUVAAqJq0lX9MyqJ1W+pLvm9l5gsecXHe0dtaDfYvVvPEizfpiuKeFv2LSkxlyN0dQtU9RwxsN6a/NEHfz7gPp83k1Hzh22WSZLWfPLGkky5O29N918DnU3z6EWOaGHg/Xjse81odMki97Gejv3la+jr4dv1Ee9F+rkhePq+HFbTd0yRTdSb1j1vDllNpv17ta3VMHVU0+3etYq56hYupK87muvr39bUyCuJmfXgp0fSZKeazvKxklgNBRUACgEzGazXt3wkk5fOqWF/T5XWRfL/jba3s5es3vN07CWz2j+zrkav/HVfP9B6cSFY3p1w2g1ff8Rzd3xobxrd9CW53/Ujy/tUjHH4uq9OMDQV1myY/Uvq9W8ektVcatq6yh3VKl0ZVUvW0O7eA61SElMvqpJ34xXvUoN9FSLZ/LlnCaTSf0aD9TPYw6od8N+mrP9A3nNaWGofZq//U+49kXv0WuPjpeLk4vVztOv8UCduhitvdG7rXaO/HQh8YKW7/9SvRv2U2W3KraOA4OhoAJAIbB8/5cK/n29xj82SS1rtLLKOezs7PRewCy90G60luxdpNHrn1daeppVzvVvv57er6dWDFbroKZae3Cl+jUepN1jDmjxwKVqVKWJaparpfXDQ+Vg76jHFwfor9j/WD2TNfwZc1S/n/ldPQ18e+9NrWq00d6oXYXqao4tfbRjtiasn2Do/54zvpummKvnNbP7h3Kwd8jXc5crUU5zey/Q+uGbZG+yV98lPfT82md06cbFfM3xv9Iz0jV1yxTVLFdLA5sOseq5ujzcVSWcSmrNryutep78smj3QiWlJelFr5dtHQUGREEFgALuj/NHNDF0nLxrd9Aor9xv+ZAdJpNJk33f1riOgVrz60o9t/ZppaanWvw8ZrNZ3/9nq3p+5i/fBY/qpxM79LL3qzow9ohm9ZitWuVr33J8rfK1teHpb2QymdRrcVcdjztm8UzWlJSapGlb35adyU5dH+lh6zj31KpmGyVcT9Bfcbb7ZUByWnKB/WXEv609uErvhE/W9M3T9WrwS4YsqYfP/a5FuxdqSLOn1KRqM5vlaHufl7a9tFuvdBin4Ih18p7TSj8e+95medYf+kpHY/7QhE5vyNHe0arnKuFUQgGPdNfGw8G6nnLdqueytsTkq1q8+1N1eair7vd4wNZxYEAUVAAowK6lXNMzq55QqeKlNa/PZ7Kzs/63dZPJpNc6jtdbXaYq5Pf1GrZisJJSkywydmp6qr46uFrtP2qtAV/2VmTCSb3tN00HXz+iCT6T5eHqccf31navo/XDNykjI0O9FnctMCtexl+LV+/Puyn86Dea1WeWKrhWsHWke8p8DtVGt/mmZ6TrqRWD1HZ2M4UeDrFJBks4dOagXtswWm1qtlOgX6BW7F+q14JHG6qkZmRkaFzIGJUpXkaTOr9p6zgq5lhM4ztN0ubnvpers6v6Lemp10Ne0bWUa/maIzktWTO+m6p6lRqo2yM98+Wc/RoPVGLyVYUf/SZfzmctS/d9octJl/RSHvbQReFGQQWAAmzCxtd0/MIxLei76K7lzRqebzdKM7p9qC1/btbgZf3y9ANiYnKiPvl5nprPaqAXvhohc0aGPuq9UPtePaSRbV9USWfXbI3zQIUHtW54qFLTUtRrUVdFJUTmOlN+OBl/Qv4LH9OhMwe1aMCXGtOpYPzAVqNsTXmWqqg9Nloo6a3NE/Xdf7aqcukqevGrETp05qBNcuRFXGKcnlw+SOVLuuuzAV/q3R7vakz717R8/5caGzLGMCV15YFl2n9qn97s8q5VVqjNrQaVG+nbF3doZNsX9cW+xXr0ozb65dTefDv/sn1LdOpitCb6vJkvvxiU/rm1vopb1QJ9m29yWrIW/vyx2tXyVuOqTW0dBwZFQQWAAmrNryu1+tcVeqXDOLW7z9smGZ5q+bTm9l6gn05sV/8lvXQ16UqO3h+XGKfp376jxjMf1hvfTFC1MtW1YuhabR+9R/0aD5STg1OOMz3k+bC+Hh6qGynX1WtRV526GJ3jMfLDvui98lvQUZduXNS64ZvUrV7+XIWxBJPJpNY12mh31K58X9H5y72f65Of52tE6+e05fltKleivIYs669zl8/ma468SE1P1TOrnlD8tQv6YtAKlS9ZXiaTSeM7vaHR3q9q2S9L9PrGV22+pVP8tXi9Ez5ZrWq0Ud9GA2ya5XaKOxbX237TtH74JqWmpyrgk86atvVtpaSlWPW8iclX9eGPM9WmZjt1qNPRquf6Nzs7O/Vp2E/bj/+o81fO5dt5Lemrg6t1/so5jeLqKe6CggoABdCx2L/0+sZX1bpmW7326HibZunfeJA+6fe5Dpz+RY8vDtDF6wn3fE9k/EmNCxmjJjPrKmjbLLWu2U5hI79TyIjN6vSgb563yKlb8RF9PXyjEpOvqteirvr70uk8jWdpIRHr9fjiripd3E1hz32v5tVb2DpSjrWs2Ubnr5zL16vUO45v0/jQV9Xx/k6a4jdNHq4eWj50ra4mXdWQZf3z/TbP3HorbKJ2Rf6kD3rOVf3KDTNfN5lMCvSZrFFeY/TlvsUab+OS+nb4G7qafFUzun9osW2rrKFNrXba/tJu9Ws8ULO3zZLvgkf1x/kjVjvfJz/P14VrFzTJ9618/+/St/EAZZgztO7QV/l6XktIz0jXxztmq0HlRvKu3cHWcWBgFFQAKGBupN7QM6ufVHGHYlrQd5Hs7extHUnd6/fSkkEr9Mf5I+qxyF+xV2Nve9yhMwf1zKon1erDxlq5f5n6NOqvn1/ery8Gr1DTas0tmqlepQb6aliILt24pJ6L/HX28hmLjp8bZrNZH+2YrWdWP6kGlRspbOT3qlXuPlvHypVWNdpIkvZE7cqX8x2PO6bhK4eqTvn79Wn/JZn/3z/sWVef9v9ch89F6MWvnjXMrbF3svrACn22e6GebfOC+jTqn+XzJpNJkzq/lbladmDoWJuU1D1Ru7XqwHI913aUHqzwUL6fP6dci5XSnMfna+mQf67Q+czz1sc75ig9I92i54m/Fq95O+fK7+EAmywYdV/5OmpStZnW/rrS5lfYc+qbIxt1Mv6EXvIaY+hfeMD2KKhADi3dt0S9FnXN8a2MKNiuJF3WJz/P08c75ijherxNs0z+JlB/nD+sj/t8ooqlK9k0y791fqiLVjzxlaLjI9Xjsy6ZhdBsNuvHY9/r8cXd1Gmet3746zu96PWyDow9rA96zlVt9zpWy9SgciOtfWqDEq4lqOcif5veFpeWnqZxIa/onfDJ6lGvl74etlHlSlh2v9r8dL/HAyrnUi5fFkpKuB6vQUv7yNHeQcufWCvXYqVu+XynB331Vpd39c2RjXrv23esnie3Dv59QGNDXla7Wt560/fOOW+ulv1c21FavOdTTdr0er6WkdT0VL0eMkZV3arplUfH5dt5LcH3IT/tGL1Xjz3QWW+Hv6Een/lZ9Cr/nO0f6HrKNU3o9IbFxsypvo0G6GjMHzp8LsJmGXLKbDZr7vYg3Ve+tvzqBtg6DgyOggrkwKmL0Xrjm/H66eQOjVk/qsD99hI59/el05ocFqiGM/55RvLt8DfUaMbDej3kFZusEhsSsV5f7lusF71eVscHfPL9/PfiXbuDVj+1Qeevnle3T7to6b4l6vhxO/Vb0lPH4v6jN7u8q99e/0OTOr+lCqU88yVT46pNtfqpdYq9Gqtei7oq5mpMvpz33xKTr2rIsn76ct9iveT9ihb2+1zFHIvlew5LMplMalGjtXZbeaGklLQUDV8xVGcu/a0lg1eqWpnqtz3u2TYvaEizpzRn+weGXEQm9mqsnloxWB4lK+jTAV/ccy9Rk8mkt7q8q2fbvKDPdi/UG9+Mz7e/cz7dtUBHY/7Q1ICZKuFUIl/OaUnlS5bXkkHL9VHvhfrj/BG1n9tay375Is///f6+dFpL9nymfo0H6oEKD1oobc71qN9LTvZOWntwlc0y5NS24z8o4uxvetHrZUPc9QNjo6ACOTAxdJxMJjs92+Z5bTy8QYt3f2LrSLCS388e0sg1w9VsVn19tmuBfB701Xcv7ND2l/aoR/3HtWL/UrX6sLGeXD5Ie6P35MsPjpHxJ/XKhpfUpGozm/72/l5a1mildcM36krSJb0WPFopacma8/h87X/td73Q7qUsV7/yQ7NqLbTqyXU6e+WsHl/UVXGJcfl27nOXzyrgU19tO/6DPug5V5M6v5Vvq35aW6uarRWdEGW126fNZrNe3/iKfo7cqaBeH6tF9ZZ3PNZkMml6t1lqV8tbr2wYpT1Ru62SKTdS01P19Kqhung9QV8MXpHtK+cmk0lv+03TiNbP6dNdCzQ5LNDq32vOXPpb73//njo/2EW+D/lZ9VzWZDKZ1K/xQG0fvVtNqjTVqxte0qClfRRz5Xyux5z1/XSZzWaN7TjBgklzroxLWfk82EXrfltrlX2oreGj7UHyLFVRvRv2s3UUFACF429IIB+EHw3Tlj83a2zHCZrSZZp8HvTVm5sn6tfT+20dDRZiNpv1/X+26vFFAer4cTtt/TNcz7R+Tr+8FqGF/RarfuWGesjzYc15fL4OjDuil71f1a7InQr4xEd+Czsq9Pdgiz/vdFNyWrJGrH5KdiY7fdp/idU3hc+rRlWaKPz5H7XmqQ3aMXqvBjQZnKsVeS2pZY1WWvXE1/r70mn1XhygC4kXrH7OI+cOy3fBo4qKj9SKoV9pSLMnrX7O/HTzOVRr3ea74KePtWL/Uo1p/9ptn9f8X472jlo8aKmqlamup5YPNMw2Q298M157onYpqNfHqlepQY7eazKZ9I7/dD3d6ll98vM8vbV5klVL6sRNr8tsztDUgJlWO0d+quJWVV8NC9HUrjP004kd8prTQht/35Djcf4T86dW/7pCT7V8RlXcqlohac70bTxAF65d0I/HvrN1lHs6cPoX/XRyh55rO0rODs62joMCgIIKZMO1lGsKDB2rhyo8rBGtn5OdnZ0+6r1Qnq4V9cyqJ7O1aimMKzktWasOLJf3nJYa8GVvHb9wLPNW1Lf9pt32h5EKrhU0wWeyDr5+VO8FzFL8tXgNXzVULT5opM92LVBicqJFM74TPlmHzhzUnN7zVbVMNYuObS21yt2nDnU6GupqYauabbR86FpFJUSq9+fdrPo88Q9/faeATztLkkKf3aJH73/MaueylboV66mks6t2W2GhpC1HN2tK+CQFPNJDrz82KdvvcyteRiuGrlW6OV2Dv+yrK0mXLZ4tJ1YdWK7P93ym59qOUq8GfXI1hslk0tSuMzWs5TNa8NNHmhL+hlVK6rd/hivsj1C9+ujrd7yVuiCys7PTM62f0/cv/qQa5Wrq6VVPaOSa4bp042K2x3jv23fk4lRCo71ftWLS7Ot4fyeVcymntb+utnWUe5q7PUhuxd00pNkTto6CAsI4PzUABhb04/v6+9JpzegelHnlqoxLWX024Audv3pOo74eafiVI5HVpRsXNWfbB2ry/iMave552ds7aF6fT/XLaxF6od1LKlWs9D3HKOFUQsNbjdDuV37VkkErVMG1giZuel2NZjysd7e8ZZFFecL+2KRPdy3QiNbPye/hrnker6hre5+Xlg5ZrRMXjqn34u5W+QXTsl++0KClfVS9bA1tfu57PVKxnsXPYQT2dvZqUb2l9lj4Curhc7/r2TXD1KBSQ33Ue2GOf8lRq3xtfT5wuU7Gn9Azq55UWnqaRfNl14HTv2hs8Mtqd197vdF5Sp7GMplMei9glp5q8bTm75yrd7a8adGSej3luiaEjtP97g9oZJsXLTaukdTxuF/fPPudxnUM1MbfN8h7Tiv9eOz7e77vwOlfFPZHqJ5vO0rlS5bPh6T35mjvqF4N+ij86Dc5Ktr57a/Y/2jzH5s0vNWzKunsaus4KCAoqMA9/CfmT83fOVf9Gw9Syxqtbvlc46pN9bbfNG39M1wf75xjo4TIqeiEKE0MHaeGMx7W1K1TVNfzEX01LEQ/vPiT+jTqn6tbUe3t7OVfN0DfjPxW34z8Vu3u89bHO2aryfuPaNTXI3Xk3OFcZT198ZRGf/28GlRupDd8387VGMjKu3YHfTl4pf6K/VN9l/TU5RuXLDJuRkaGpm6Zolc3vCTv2h0UOiJclUpXtsjYRtWqZhv9Ffcfiz3XG3M1RkOW9lPpYqW1dMhquTi55Gqctvd5aWb3IP147HtNDsv/ZwZjrsboqRWD5Vmqoj4bsOSeiyJlxz/P2X6gJ1sM18c7Zmvq1ikWK6lzts3SqYtRmtH9Q5vfjm9NDvYOeq3jeIWN/E6uzq7qt6SnXg955Y576JrNZr0b/pbKlyivkW1fyOe0d9e38QClpKcoJCLntyznl492BKm4Y3E93WqkraOgAKGgAndhNps1fuOrKulcUpPvsCXAsJYj1L1eL7337dv5st0Ccu/g3wf0zKon1eKDhvpi32IFPNJdP47apTVPbZB37Q4W25etWbUW+nzQMu159aCeaD5Mob8Hq8NHrdXn8+764a/vsv0DZWp6qp5dM0zp5nR92n8Jz+5Y2KP3d9KSQcv1x/nD6rekZ55vBU1KTdLINcM0Z/sHGtLsKS0fsrZIXDFoVfOf51D3WmBRohupN/TEsv66eD1By4eukWepinkab3CzJzSy7YtatPsTfb7nszzny66UtBQNXzlEl29c0heDV6qsi+W2EzKZTJoe8IGGNh+muds/1HvfvpPnknos9i99vHOO+jTqrza12lkoqbE1rNJY3764Q8+2eUFf7FusRz9qo19O7c1y3LbjP+jnyJ16pcM4w30916/UUA96PGTY1Xz/vnRa635bq8FNnyjQW2oh/1FQgbv4+rc1+jlypyZ1nnLH23pMJpM+7DlX1cvU0IjVTyn2amw+p8TdZGRkaMvRzer+aRd1nt9BPx77Xi+0G639r/2uj3ovVN2Kj1jt3DXK1tS0gPd18PU/NNHnTf0Zc1T9v+il9h+11uoDK5SclnzX90//9l3tP7VPQT0/Us1ytayWsyjr9KCvFg9cpoizh9T/i8eVmHw1V+MkXI9X78+7Kfj39XrD923N6jHbIlfMCoIGlRqpuGNx7cnjdjNms1kvr3tev/59QPP6fpbjxYTu5E3fd+TzoK8mbhqXrds5LWHSN69rX/Qeze41zyq3d9vZ2Wlmtw81pNmTmr1tlmZ8926uS+rNX8S6OJbQW12mWjipsRV3LK53/N/T+uGblJqeqoBPOmva1reVkpYi6f/viKhWprqGNH/KxmmzMplM6tN4gH45tVcnLxy3dZwsFuz8SJL0XLtRNk6CgoaCCtzBpRsX9WbYRDWp2lSDm979wX7XYqW0eOAyXb5xSc+tGW61lVyRfUmpSVr2yxdqO7uZhizrp9OXTukd//f02+t/6A3fKapYulK+ZSnjUlaj27+q/WN/19zHF0hms15a95yavl9Pc7Z9cNtnIH/461t9tCNIQ5sPU/f6vfIta1Hk+5CfPhvwpQ7+fUADvuid4wWuTsafkN+Cx3TozEF92n+JRnm9bLGr8QWBk4OTmlZtnueFkmb9MF0bItZpUucp8q8bYKF0/9x+v7DfYj3g8ZCeXvmE/or9j8XGvp3lv3ypL/b+s1dxzwa9rXYeOzs7vd99tgY1HaoPf3xf73//Xq7GWX/oK+08uV0TO78p95LuFk5ZMLSp1U7bX9qtfo0Hava2Weq8oIP+OH9EoYeDFXH2N417LNCwd7D0btBXdiY7rT1orMWS4q/Fa/n+L/V4w76GWPUYBQsFFbiD97a+o4Tr8ZrZPShbC3TUrfiIpnf7QDtPbtesH6bnQ0LcTvy1eH3wwww1nllXr254SS5OJfRJv8+179VDerbNCza9RcvZwVn9mwzStpd2a/WT6/VghYc0desUNZrxsAJDx2ZuiXH20lm9sHaEHvKsq3f8c/dDJ3LGv26APun3ufaf3qdBX/a54/No/2tf9F75L3hMl25c1NfDQ9Wj/uNWTmpMLWu21uFzEbm+TXrDoa/1/vfvqV/jgRrl9bJlw0kq6eyqZUNWq5hjMQ1a2kfx16yzevP+U/s0fuOral/nUU30edMq5/g3Ozs7fdBjrgY0GaxZP0zPcUm9fOOSJocFqlGVxoVuC6Scci1WSnMen6+lQ1Yr5sp5+czz1oT/rt7/eIO+to53RxVLV5JX7fb6+rc1hlqscdHuhbqRekOjvMbYOgoKIAoqcBu//f2rvti3WMNbjsjRbWYDmw5R/8aD9OGPM/PtVrK8OHTmoHae2F4orviejD+h10NeUeOZD2vGd1PVqEpjbXj6G337wnb1bNDbULdbmkwmPXr/Y/pqWIh+HLVLAfV66Mt9n6vlB400bMUQ9VnYRzdSb2hR/y9V3LG4reMWGd3q9dT8Pp9pb/RuDVnaT9dTrt/1+I2/b9Dji7uqVPHSChv5nVpUb5lPSY2nVY02MpvN2he9J8fv3X9qn15a95xa1mitWT3mWO3qc9Uy1fTl4JU6f+Wcnlox6J632OdUzJXzemrFYFUsXUmf9Ptc9nb2Fh3/Tuzs7BTU82P1bzxI73//nj74YUa23zv923cVf+2C3u8+O9/yGp3vQ37aMXqvHnugsy5ci9Okzm8Z/r9N30YDdOpitPZYYbun3EhMvqrFuz9Rl4e76n6PB2wdBwWQcX5iAwwiPSNdY0PGyKNkBY3vlP29926a3u0DHTpzUM+veVrfj/rJsCt4fvrzfL0RNkFms1mVS1dRv8YD1K/xoAL1rOOVpMsKPRyitb+u0u6on+Vk76S+jQZoZNsXC8xfinUrPqKPei/URJ83tWj3J/py7+e6nHRJH/VeqDoe99s6XpHTs0FvpWWk6cWvn9XQ5QO0bMjqLL8kMJvNmrdzrt4Of0PNqrXQ0iGri/wCII2rNpWjvaN2Rf6sxx7onO33/X3ptJ5YPlCepSpqyaAVVr+Nsmm15pr7+AI9u2aYXgserbmPL7BIIU5OS9ZTKwfratIVrXlqg8q4lLVA2uyzs7NTUK+PlWHO0IzvpsrOZKcxHcbe9T2HzhzUkr2LNKzlM6pfuWH+BC0gypcsryWDlis2MVYVXCvYOs49dXm4q0o4ldTag6vUulZbW8fRsl++1KUbl/SSN1dPkTsUVOB/fLnvcx06c1Cf9PtcrsVK5fj9Lk4uWjxwmTrN89Yzq55U8DNhmXunGkF6Rrre+Ga8Fu3+RH4PB6hH/V5a/esKzd72gT788X21qtFG/ZsMUsAjPVTSuaSt42aRlp6mbce/11cHV2vzH98oKS1JtcvX0YROb2hg06EF4oeJ2/EsVVGTOr+ll9u/prjU06pZ8iFbRyqy+jTqr3Rzukave15PrRikLwatVDHHYpL++f9vQuhYfblvsbrX66WPei/M/FxR5uLkooaVG+doJfPE5KsavLSfktOSteHpb/Kt5Pds0FvH4v7SrB+mq477Axb5ITowdJz2n9qnRQO+1MOedS2QMufs7ew15/H5yjBn6L1v35HJZNLL7V+77bHpGekaG/yyypd0z9UvYosCk8lUYP4+KeFUQt3q9dDGw8GaFvB+rrdmsoTktGQt+Okjta3lpSZVm9ksBwo2CirwL7FXYzVt69tqd1/7PD1LVtu9jj7sOVfPrhmmqVun6K0u71owZe4lJifquTXDteXPzXqu7ShN9n1b9nb26lH/cZ27fFZrD67S6l9XaPS65zUhdKy6PdJDA5oMVssarW266IvZbNbhc79r7cFVWn/oK8UlxqqsS1kNajpUfRsPUMPKjQvNojQlnUuqZpXmiovL3WqysIz+jQcpPSNdY9a/qOErh+jzQcuVmp6iEauf0nf/2apRXmM00efNbD2fXlS0qtlG83fO1bWUayrhVOKux6ZnpGvkmuH6T+xRrXzi63y/42Fsxwk6ceGYpm59S7Xd68jv4a65HmvpviVa9ssSveT9irrV62nBlDlnb2evj3ovVIY5Q9O2vi07k51e8n4ly3Ff7vtcv505qIX9FqtUsdI2SApL69togFYdWK7Nf2zS4w1t98zs17+t0fkr5zTn8fk2y4CCj4IK/MtbmycqKfWGZnb/IM+Fp2eD3toTtUvzd85Vi+qt1OVhfwulzJ3zV85p8NJ+OnwuQtO7faBhLZ+55fMVS1fS6Pav6iXvV/TLqX1afWC5gn9fr9W/rlCNsjXVv/Eg9Ws8UJXdquRr5nWHvtLag6t09PwROdo7yufBLurbaIA63t+pUG8mD9sb1HSo0jPS9VrwaA1bMVjnrpzT0Zgjer/7bD3RYpit4xlOqxqtNXf7hzpw6hd51W5/12PfDp+srX+Ga3q3D9ShTsf8CfgvJpNJsx+fr1MXo/X8mqcV+uyWXG1rsy96ryaEvqZH739MEzq9YYWkOWdvZ6+Pe38imc16d8tbMpnsbll46t+/iO1Z33qrDCN/tarRRlXdqmntwVU2K6jpGen6aHuQ6ldqqPa1H7VJBhQOFFTgv34+uVNf/7ZGr3QYq/vK17HImG/7v6df/z6gUV+P1Hcv7lCNsjUtMm5O/XH+iAZ92UcXb1zUsiGr1elB3zseazKZ1Lx6CzWv3kLvdJ2ub45s1OoDKzT9u3c14/up8rqvvQY0GawuD3e1ygI+11Oua/Mfm7T24CptP/6jMswZalK1mWZ0+1Dd6/e06Ib3wL0Mbf6UUtNTNSH0NZVwKqnlQ9ao4wM+to5lSM2rt5SdyU67o36+a0Fd/suXWvDTRxreckSWX5Tlp+KOxfXF4FXynd9Bg5f205bnf5RnqYrZfv/5K+c0bOVgVS5dRQv7LTbUQjoO9g76uM+nyjBn6J3wybIz2emFdi9JsuwvYmEcdnZ26tOon2Zv+0Dnr5zL0f/LlhJ2JFQn409o0YAv+X8LeWIy53ZnZ+RafHyiMjKy/5/d3d2V2/2sLCUtRY9+1EZJacna+fJeixav6IQodfy4nWqWq6XQEVty9LyaJeb+x2Pfa/jKoSrpXFIrhn6lepXq52qc6IQorfl1pdb8ulKnL51SqWKl1aP+4xrQZJAaV2map7+MMjIytCvyJ609uEqhh0N0LSVRVd2qqU+j/urTqJ/FfmFQUPA1bzw//PWtqrpVt/rCVQV97jvN81ZJp5La8Mw3t/38Tyd2qO+SHmp3n7dWDP3KEKtrHzl3WP6fdNL97vcr+JnN2Xp+LzktWT0+89PRmD+0eeT3esjz4TznsMbcp6WnaeSa4dp4eIOm+E1TvYr11WtxV73SYRzPnhqIpeb+xIVjavVhE032fUcveo22QLLsy8jIUOcFHXQ16Yp+HrPfUL+wMbKC/j0/t+zsTCpX7s7rnFBQbYCCajxzt3+od7e8pZVPfJWjFSiza/Mf3+iJ5QP0VIunNaP7h9l+X17nftkvX2hcyBg94PGQVj7xlUVWFL5ZJlf9ulybDofoRuoNPeDxoPo1HqQ+jfrnaFGJY7F/6avfVuvr39bo70unVdLZVd3r9VTfRgPUonqrIvt8H1/zRVdBn/s3vpmgL/cu1rHJp7OsyHvywnH5LnhUFVw99c3Ibw317OOWo5s1dHl/da3bXZ/1/+Ku33vMZrNe3fCSlu//UosHLlPAI90tksFac5+anqqRa4Yr9HCwyrqUlWuxUtox2rK/iEXeWHLuuyzoqGvJido+ek++XcXcE7lLb24O1MG/f9XsXvM0sOmQfDlvYVDQv+fn1r0KatH86Q/4l9MXT+mDH2bI7+EAq5RTSerysL+eb/eSluxdpA2HvrbKOf4tIyND74S/qVc3vCTv2h206dktFtvuxs7OTm3v89K8Pp/q8IRj+rDnRypVrLTeDn9DDWc8qMFL+2rT4Y1KSUu57fvjr8Vr8e5P1Hl+e7WZ3VRzt3+oBzwe1Cf9PtfhCccU1OtjtarZpsiWU6Aga1WzjZLSkvTbmYO3vH7pxkUNWtpX9iZ7LRu6xlDlVJI6P9RFb/q+q9DDwZr5/dS7Hvvlvs+1fP+Xern9axYrp9bkaO+ohf0Wq2vd7kq4nqDpAbMop4VYv8YD9WfsUR0+F2H1c524cExPLh+kbp/56vyV85rbe4EGNBls9fOi8LP9vTWAjU3cNE4mk52mds3+5ua5Oo/Pm9p/ap/GbBilRyrWt9qtgjdSb2jUVyO18fAGPdF8uN4LeN9qt9G5Fiulwc2e0OBmT+h43DGt/nWF1h5cpa1/hqusS1k93qCv+jcZrPs9HtC3f27R2oOr9N1/tigtI011K9bTFL9p6tWgT4FZyh/A3bWo3kqStCfyZ7Wo3lLSP1fwhq8YqtMXT+nr4aE2exb/Xp5r+6KOxf1HH/74vu4rX0d9GvXPcsyeqN0KDB2rxx7w0euPTbRBytxxtHfUp/2X6NTFKNUqX9vWcWBF3ev11KRNr2vNrytztfBXdsRfi9eHP8zQkr2L5OxQTBM6vaFn27xg0+1tULhwi68NcIuvcYQfDdPQZf3z7XmNs5fPqONHbeXhWkGbn/vhnt/Mczr3FxIvaOjy/jpw+he96fuunmv7Yr4vVJCeka5tx77XqgMrFH70G6Wkp6iYQzElpSXJw7WCejfspz4N+6tuxUfyNVdBwtd80VUY5t5rdgtVLF1Ja57aILPZrNeCX9ayX5boo94L1a/xQFvHu6uUtBT1W9JTv5zaq3VPb8os2dI/3787zfOWq7Ortjz/o0oXd7PouQvD3CN3LD33w1YM0Z6on3Vo/H8sug97UmqSFu3+RLO3zfpnH+NmT2psxwn8kjkPiurX/b1u8eUKKoqsaynXNDF0nB70eEjPtnk+X85ZqXRlze+3SP2/6KXxG1/V3N4LLDb28bhjGvDl44q5cl6LBiy12a1n9nb26viAjzo+4KOL1xO0/tDX+jPmqLo87C+v+9obYlEUANbTsmZrfXVwjdLS07R4zyda9ssSjfZ+1fDlVJKcHJz0+aBl8l3wqJ5aPlDhz/+oamWqKyk1ScNWDNb1lOtaP3yTxcspYEn9Gg/UpiMh+vHYd/J5sEuexzObzQqOWKepW6fo1MVoPfaAjyb7vqMHKzxkgbRAVjzkhSJr9o+zdPrSKc3sHmTR3zDeS4c6HfVKh3Fa/esKrdy/zCJj7jr5k/wW/rMwwvqnNxnmuagyLmU1vNUIvd8jSI/e/xjlFCgCWtVoo2spiZq9bZbeDJso/7rdDLNHaHaUcSmrFUO/Ump6mgZ/2VdXk65o/MZX9evfB/Rxn0/0QIUHbR0RuKtH739M5VzKac2vq/I81p6o3eqy4FE9u2aYXIuV0lfDQrTyia8pp7AqCiqKpL9i/6P5P81Vv8YD1bJm63w//2uPjle7+9pr/MZXdeTc4TyN9dXB1eqzpLvcS3po83M/qGm15hZKCQA517LGP99TZ34/TY9UrK+P+3xS4BY9q+1eR4sHLtWxC3+p48fttPLAMr3SYZz86wbYOhpwT472jurVoI+2HA3TpRsXczXGyQvH9dSKwer2aWedvXJWcx9foO9e2CHv2h0snBbIqmD9jQFYgNls1ushr6iEUwm96fuuTTLY29lrQd9FKl3cTcNXDtHVpCs5HsNsNmvW99P1wlcj1LxaS30z8ltVL1vD8mEBIAcqlq6k+8rXlmepilo2ZLVKOJWwdaRc8ardXjO6faiohEj5POircR0DbR0JyLZ+jQcqJT1FIREbcvS+hOvxmrTpdbWd3Vw/Hvte4x+bpD2vHFT/JoPY2xT5hvvtUOSsO7RWP0fu1PvdZ6t8yfI2y+Hh6qFP+y9Rr8VdNWb9KH024ItsL2iUkpaiV4Nf0ppfV6pvowH6sOdHcnJwsnJiAMieZUPWqJhjMVUsXcnWUfJkaPOn9LBnXdWtWK/AXQVG0VavUgM96PGQ1hxcqSdaDLvn8clpyVq0+xMF/fi+EpOvalDTJzTusUAWQIJN8N0WRcrlG5f0ZthENa7SREOaPWnrOGpVs40mdJqsjYc36PM9n2brPZduXFS/JT215teVGtcxUB/1Xkg5BWAotd3rqIpbVVvHsIim1ZqzbygKHJPJpD6NB2j/qX06eeH4HY+7uQBSm6CmmrJ5kppVa65tL+3WBz3nUE5hMxRUFCnvffuO4q9d0MzuQYb5bfiL7UbL50FfTQ4L1MG/D9z12KiESPkv7KRfTu3VvD6f6rWO4/N9GxkAAGB8fRr2k53JTmsPrr7t5/dG75Hfwo4asfoplXR21dqngrXqyXUsgASbM8ZP6EA+OHTmoJbsXaRhLZ9R/coNbR0nk52dnT7qvVCerhX19MondPF6wm2P239qn/wWdFRcYqzWPhV8203kAQAAJMmzVEV51W6vrw6uVkZGRubrJ+NPaNiKIQr4xEdnLp/RnMfn6/sXd6p9nUdtmBb4fxRUFAnpGekaG/yy3Et6aHynSbaOk0UZl7L6bMAXOn/1nEZ9PfKWv0gkKfRwiHot6qoSziUVNvJ7ta7V1kZJAQBAQdG30QCdvnRKe6J2KeF6vN74ZrzazW6uH459p3EdA7X7lV81oMlgFkCCobBIEoqEpfuW6LczB7Ww32KVKlba1nFuq3HVpprSZaoCN43TvJ/mapTXyzKbzZq3c67eDn9DTao209LBq226sBMAACg4/B4OUAmnkpr0zXidvnhKV5OvaFDToRrXMVAVSnnaOh5wWxRUFHqxV2M1desUtbuvvXrW723rOHc1vNWz2hO1W9O2TlGjyo21JTxUn+z4RN0e6amP+ixkoQ4AAJBtLk4u6lG/l1bsX6pH739Mb/q+q4c8H7Z1LOCuKKgo9KaET9KN1Oua0e0Dwy8oZDKZFNTrIx0+F6Hen3dThjlDo7zGaKLPm4ZZ1AkAABQcb/tN01MtnjbU+hvA3fATLwq1XSd/0lcHV+vFdqNV272OreNki2uxUlo8cJnuK19bnw75VG/4TqGcAgCAXHEtVopyigKFK6gotFLSUjQuZIyqlamhlzuMtXWcHKlb8RH9PGa/3N1dFRd31dZxAAAAgHxBQUWhtfDnefor7j9aPnQNz24CAAAABQD3DaJQOn3xlD78YYa6PNxVPg92sXUcAAAAANnAFVRYXWLyVc3dHqQV+5eqfInyqlGulmqWq6WaZWupRrmaqlmuliqXrmLRPbgmbnpdkjS16wyLjQkAAADAuiiosJq09DStPLBM0799Vxeuxcn3IT9J0skLx/XjX98pKS0p81hHe0dVL1NDNcvVUo2y/5TWm/9ULVNdjvaO2T7vlqObFX70G73h+7aquFW1+J8LAAAAgHVQUGEVP/z1rd4Km6Q/Y4+qRfVWWvHEWjWq0iTz8xkZGTp/9Zwi409m/hOVEKnI+JPaFfmzrqUkZh5rb2evKm5V/1Vc78u8AlutbPVbni+9nnJdEzeN0wMeD+rZ1s/n658ZAAAAQN5QUGFRf5w/orc2T9S2Yz+oRtma+nzgcvnXDciy/6idnZ0qla6sSqUrq02tdrd8zmw2Ky4xTpEJJxV1s7zGn1RkwkkFR6zTpRuXbjm+UunKqln2n6ut8dfjdepitEKe2SwnBydr/3EBAAAAWBAFFRYRczVGM7+bqhX7l6pUsVJ6x/89PdXimVyVRJPJJA9XD3m4eqhF9ZZZPn/xekLm1dZ/X33d8udmxSXGamCTIWpVs40l/lgAAAAA8hEFFXlyPeW6Pvl5nuZuD1JKerKeaT1Sr3QYpzIuZa12zjIuZVXGpewttwzfdC3lmoo7sKUMAAAAUBBRUJErGRkZ+vrQGk3b+rbOXj4j/7rd9IbvFNUqd59Nc5VwKmHT8wMAAADIPQoqcmzXyZ/05uaJOnTmoBpWbqQFfRdxSy0AAACAPKOgIttOXDimt8Pf1OY/Nqly6Sqa3/cz9arfR3Z2draOBgAAAKAQoKDinhKux+uD72doyd5FcnYopkCfyXq2zQu3bO8CAAAAAHlFQcUdJacl6/M9n+nDH2bqavIVDWr6hF5/bKI8XD1sHQ0AAABAIURBRRZms1mbDofo7S2TFZ0QpUfvf0xv+r6rhzwftnU0AAAAAIUYBRW3OHD6F70ZNlH7ovfooQoPa81TG9ShTkdbxwIAAABQBFBQIUk6ffGUpm55S+sjvpZ7SQ990HOuBjYZIns7e1tHAwAAAFBEUFChb46EauSaYTLJpFc6jNWLXi+rpLOrrWMBAAAAKGIoqFBxx+Ia2uwpPd/uJVV2q2LrOAAAAACKKAoq9Oj9j+nR+x+zdQwAAAAARZydrQMAAAAAACBRUAEAAAAABkFBBQAAAAAYAgUVAAAAAGAIFFQAAAAAgCFQUAEAAAAAhkBBBQAAAAAYAgUVAAAAAGAIFFQAAAAAgCFQUAEAAAAAhkBBBQAAAAAYAgUVAAAAAGAIFFQAAAAAgCFQUAEAAAAAhmDVgpqYmKiuXbvq77//liTt2rVLAQEB8vHxUVBQUOZxR48eVa9evdS5c2dNnDhRaWlpWca6cuWKRowYoS5dumjQoEGKi4uTJKWkpGjs2LHq0qWLevbsqRMnTkiSzGazZsyYIV9fX/n5+enAgQO3zRgaGio/Pz/5+PhoxYoVma/nJSsAAAAAIOesVlAPHTqkAQMGKCoqSpKUlJSkwMBAzZ8/X2FhYTp8+LC2b98uSRo7dqwmT56sLVu2yGw2a+3atVnGmz17tpo2barNmzerT58+mjp1qiRp2bJlKl68uDZv3qzAwEBNmDBBkrRlyxadOHFCYWFhmjdvniZMmJClTMbExCgoKEgrV65UcHCw1qxZo+PHj+c5KwAAAAAg56xWUNeuXas333xTHh4ekqSIiAhVr15dVatWlYODgwICAhQeHq4zZ84oKSlJDRs2lCT16tVL4eHhWcbbtm2bAgICJEldu3bVjh07lJqaqm3btqlbt26SpGbNmikhIUFnz57V9u3b5efnJzs7O9WsWVMVK1bUwYMHbxlz165datmypdzc3OTi4qLOnTsrPDw8z1kBAAAAADnnYK2Bb17hvCk2Nlbu7u6ZH3t4eCgmJibL6+7u7oqJicky3r+Pc3BwUMmSJZWQkHDb958/f16xsbGZ5fjfr98rU0RERJ6z3ku5ciVz/B53d9ccvweFA3NfNDHvRRdzX3Qx90UXc190MfdZWa2g/q+MjAyZTKbMj81ms0wm0x1fvxez2Sw7O7ssx998/Xbj2tndesE4p5lym/V/xccnKiPDnO3j3d1dFRd3NcfnQcHH3BdNzHvRxdwXXcx90cXcF11Fde7t7Ex3vWCXb6v4enp6Zi5sJElxcXHy8PDI8vqFCxduufJ5k4eHhy5cuCBJSktL07Vr1+Tm5qYKFSooNjY2y/s9PT1v+3puMuU0KwAAAAAg5/KtoDZo0ECRkZGKjo5Wenq6Nm3aJC8vL1WuXFnOzs6Zq+yGhITIy8sry/u9vb0VHBwsSQoLC1PTpk3l6Ogob29vhYSESJL2798vZ2dnVapUSV5eXgoNDVV6erqio6MVFRWlevXq3TJm69attXv3biUkJOjGjRvaunWrvLy88pwVAAAAAJBz+XaLr7Ozs6ZPn65Ro0YpOTlZ3t7e8vX1lSTNmjVLkyZNUmJiourWrauhQ4dKkubMmSMPDw8NGDBAo0eP1vjx4+Xv7y9XV1fNmjVLkjRkyBBNnjxZ/v7+cnJy0syZMyVJvr6+ioiIyFxAaerUqSpWrJhiYmI0YsQIhYSEqEKFChozZoyGDh2q1NRU9e7dW/Xr15ekHGcFAAAAAOSNyWw2Z/9hyHx25MgR/fbbbxo0aJBFxw0MDNS0adMsOmZO8Awqsou5L5qY96KLuS+6mPuii7kvuorq3BvmGdTciIuLU9euXS065vXr19WhQweLjgkAAAAAyLt8u8U3N9q3b2/xMV1cXNSpUyeLjwsAAAAAyBtDX0EFAAAAABQdFFQAAAAAgCFQUAEAAAAAhkBBBQAAAAAYAgUVAAAAAGAIFFQAAAAAgCFQUAEAAAAAhkBBBQAAAAAYAgUVAAAAAGAIFFQAAAAAgCFQUAEAAAAAhkBBBQAAAAAYAgUVAAAAAGAIFFQAAAAAgCFQUAEAAAAAhkBBBQAAAAAYAgUVAAAAAGAIFFQAAAAAgCFQUAEAAAAAhkBBBQAAAAAYAgUVAAAAAGAIFFQAAAAAgCFQUAEAAAAAhkBBBQAAAAAYAgUVAAAAAGAIFFQAAAAAgCFQUAEAAAAAhkBBBQAAAAAYAgUVAAAAAGAIFFQAAAAAgCFQUAEAAAAAhkBBBQAAAAAYAgUVAAAAAGAIFFQAAAAAgCFQUAEAAAAAhkBBBQAAAAAYAgUVAAAAAGAIFFQAAAAAgCFQUAEAAAAAhkBBBQAAAAAYAgUVAAAAAGAIFFQAAAAAgCFQUAEAAAAAhkBBBQAAAAAYAgUVAAAAAGAIFFQAAAAAgCFQUAEAAAAAhkBBBQAAAAAYAgUVAAAAAGAIFFQAAAAAgCFQUAEAAAAAhkBBBQAAAAAYAgUVAAAAAGAIFFQAAAAAgCFQUAEAAAAAhkBBBQAAAAAYAgUVAAAAAGAIFFQAAAAAgCFQUAEAAAAAhkBBBQAAAAAYAgUVAAAAAGAIFFQAAAAAgCFQUAEAAAAAhkBBBQAAAAAYAgUVAAAAAGAIFFQAAAAAgCFQUAEAAAAAhkBBBQAAAAAYAgUVAAAAAGAIFFQAAAAAgCFQUAEAAAAAhkBBBQAAAAAYAgUVAAAAAGAIFFQAAAAAgCFQUAEAAAAAhkBBBQAAAAAYAgUVAAAAAGAIFFQAAAAAgCFQUAEAAAAAhkBBzaXQ0FD5+fnJx8dHK1assHUcAAAAACjwHGwdoCCKiYlRUFCQ1q9fLycnJ/Xv318tWrRQ7dq1bR0NAAAAAAosCmou7Nq1Sy1btpSbm5skqXPnzgoPD9eLL76Yrffb2ZlyfM7cvAeFA3NfNDHvRRdzX3Qx90UXc190FcW5v9efmYKaC7GxsXJ3d8/82MPDQxEREdl+f5kyJXJ8znLlSub4PSgcmPuiiXkvupj7oou5L7qY+6KLuc+KZ1BzISMjQybT/zd/s9l8y8cAAAAAgJyjoOaCp6en4uLiMj+Oi4uTh4eHDRMBAAAAQMFHQc2F1q1ba/fu3UpISNCNGze0detWeXl52ToWAAAAABRoPIOaCxUqVNCYMWM0dOhQpaamqnfv3qpfv76tYwEAAABAgWYym81mW4cAAAAAAIBbfAEAAAAAhkBBBQAAAAAYAgUVAAAAAGAIFFQAAAAAgCFQUA0sNDRUfn5+8vHx0YoVK2wdB/loyJAh8vf3V/fu3dW9e3cdOnTI1pFgRYmJieratav+/vtvSdKuXbsUEBAgHx8fBQUF2TgdrOl/537ChAny8fHJ/Nr/9ttvbZwQ1vDxxx/L399f/v7+mjlzpiS+7ouK2809X/dFw5w5c+Tn5yd/f38tWbJEEl/3d8I2MwYVExOjoKAgrV+/Xk5OTurfv79atGih2rVr2zoarMxsNisqKko//vijHBz4Ei3sDh06pEmTJikqKkqSlJSUpMDAQC1btkwVK1bUs88+q+3bt8vb29u2QWFx/zv3knT48GEtX75cHh4etgsGq9q1a5d++uknbdiwQSaTSU8//bQ2bdqkWbNm8XVfyN1u7r/99lu+7ouAffv2ac+ePdq4caPS0tLk5+enVq1a8ff9HXAF1aB27dqlli1bys3NTS4uLurcubPCw8NtHQv54OTJk5KkYcOGqVu3blq+fLmNE8Ga1q5dqzfffDPzB5OIiAhVr15dVatWlYODgwICAvjaL6T+d+5v3Lihs2fPKjAwUAEBAZo7d64yMjJsnBKW5u7urvHjx8vJyUmOjo667777FBUVxdd9EXC7uT979ixf90VA8+bNtXTpUjk4OCg+Pl7p6em6cuUKX/d3QEE1qNjYWLm7u2d+7OHhoZiYGBsmQn65cuWKWrVqpXnz5umLL77Q6tWr9fPPP9s6Fqxk6tSpatq0aebHfO0XHf879xcuXFDLli01bdo0rV27Vvv379fXX39tw4Swhjp16qhhw4aSpKioKG3evFkmk4mv+yLgdnPfrl07vu6LCEdHR82dO1f+/v5q1aoVf9/fBQXVoDIyMmQymTI/NpvNt3yMwqtRo0aaOXOmXF1dVbZsWfXu3Vvbt2+3dSz8X3v3ExLVGodx/DEhR2vlQsuYTZFMG81FBf0bhZw0lWbUZAwcJgMlBgWNXLmIgsGiVVCbcBG0SUlR2iQILoQhyIXOQktkSkYHlIJIrBmbOXdxucPlkovg4jnN+X5278CB38vLs/id933P7BGyb19Op1NPnjxRSUmJCgsL1dHRQfZz2PLysjo7OzUwMCCn00nubeTfa3/06FFybyO9vb2KRCJKJBL6+PEjud8FDapFHTp0SJubm9nx5uYmdxNs4t27d4pEItmxYRjcRbURsm9f79+/15s3b7Jjsp+75ubmFAwGdfv2bfl8PnJvI/9de3JvDysrK1pcXJQkFRYWyuPx6O3bt+R+FzSoFnX27FlFIhF9+fJF379/19TUlC5evGh2WdgD375908OHD5VMJrW1taXx8XHV1taaXRb2SGVlpWKxmD59+qR0Oq3Xr1+TfZswDEPhcFhfv37Vzs6OXr58SfZzUCKRUCgU0qNHj9TQ0CCJ3NvFr9ae3NtDPB7X4OCgUqmUUqmUpqen5ff7yf0ueEVjUaWlperr61MgENDOzo5aW1tVUVFhdlnYAzU1NZqfn5fX61Umk9H169dVVVVldlnYIwUFBRoaGlJPT4+SyaTcbrfq6urMLgt7wOVyqaurS+3t7fr586c8Ho8aGxvNLgv/s+HhYSWTSQ0NDWV/8/v95N4Gdlt7cp/73G63FhYW5PV6lZ+fL4/Ho4aGBhUXF5P7X8gzDMMwuwgAAAAAADjiCwAAAACwBBpUAAAAAIAl0KACAAAAACyBBhUAAAAAYAk0qAAAAAAAS+BvZgAA+IPF43HV1taqvLxckpTJZHTgwAEFAgFduXLF5OoAAPg9NKgAAPzhHA6HJiYmsuO1tTUFg0Hl5+fr8uXLJlYGAMDv4YgvAAA55siRI+rt7dXw8LBisZhu3LihtrY21dTU6NatW0omk5qcnJTf788+s76+rvPnzyuVSunx48dqampSc3Ozbt68qY2NDRNnAwCwExpUAABykMvl0ocPHzQyMiKv16uRkRFNTU0pHo9rZmZGdXV1Wl1d1fLysiRpdHRUPp9Pnz9/1vPnz/Xq1SuNjY3p3LlzWlhYMHk2AAC7oEEFACAH5eXlyeFw6M6dOyouLtazZ8909+5dbWxsaHt7W/v379e1a9c0OjqqdDqt8fFxtbW1qbS0VC6XSz6fTw8ePNCJEyd06dIls6cDALAJ7qACAJCDotGoysvL1d/fr3Q6rfr6elVXVyuRSMgwDEmS3+9Xa2urTp8+rePHj8vpdEqSXrx4oWg0qkgkonA4rAsXLmhgYMDM6QAAbIIdVAAAckwsFtPTp0/V2dmp2dlZhUKh7Bd95+fnlU6nJUmHDx/WyZMnFQ6H1d7eLklaWlpSY2Ojjh07pu7ubgWDQUWjUdPmAgCwF3ZQAQD4w/348UNXr16VJO3bt08FBQXq7+9XdXW1+vr6FAqFVFRUpIMHD+rUqVNaXV3NPtvc3Kz79+/L7XZL+vvuan19vVpaWlRUVCSHw6HBwUFT5gUAsJ88459zPgAAwFYymYzu3bunsrIydXV1mV0OAAAc8QUAwI62trZ05swZJRIJBQIBs8sBAEASO6gAAAAAAItgBxUAAAAAYAk0qAAAAAAAS6BBBQAAAABYAg0qAAAAAMASaFABAAAAAJZAgwoAAAAAsIS/AD5d7br959hdAAAAAElFTkSuQmCC\n",
      "text/plain": [
       "<Figure size 1080x720 with 1 Axes>"
      ]
     },
     "metadata": {},
     "output_type": "display_data"
    }
   ],
   "source": [
    "# 시각화\n",
    "\n",
    "plt.figure(figsize=(15,10))\n",
    "sns.set_theme(style=\"darkgrid\")\n",
    "\n",
    "sns.lineplot(x='completed_at', y='transaction_amount',\n",
    "             data=rev_by_days,\n",
    "             color = 'darkgreen'\n",
    "            )\n",
    "plt.xlabel('Days')\n",
    "plt.ylabel('Revenue')\n",
    "plt.yticks([0, 100000000, 200000000, 300000000, 400000000, 500000000 ,600000000], \n",
    "           ['0','100,000,000','200,000,000', '300,000,000', '400,000,000', '500,000,000' ,'600,000,000'])\n",
    "# plt.xticks([i for i in range(0,7)], \n",
    "#            ['Mon', 'Tue', 'Wed', 'Thu', 'Fri', 'Sat', 'Sun'])\n",
    "\n",
    "plt.show()"
   ]
  },
  {
   "cell_type": "markdown",
   "id": "b4331649",
   "metadata": {},
   "source": [
    "> 일별 매출에서 확인한바와 같이 매출이 월말에 집중되는 경향을 확인할 수 있음."
   ]
  },
  {
   "cell_type": "markdown",
   "id": "5902fd88",
   "metadata": {},
   "source": [
    "### 주별 매출 그래프"
   ]
  },
  {
   "cell_type": "code",
   "execution_count": 42,
   "id": "000bcea1",
   "metadata": {
    "ExecuteTime": {
     "end_time": "2022-07-01T07:54:47.035145Z",
     "start_time": "2022-07-01T07:54:46.132347Z"
    },
    "scrolled": false
   },
   "outputs": [
    {
     "name": "stderr",
     "output_type": "stream",
     "text": [
      "C:\\Users\\user\\AppData\\Local\\Temp\\ipykernel_1612\\1269196048.py:2: FutureWarning: weekofyear and week have been deprecated, please use DatetimeIndex.isocalendar().week instead, which returns a Series. To exactly reproduce the behavior of week and weekofyear and return an Index, you may call pd.Int64Index(idx.isocalendar().week)\n",
      "  rev_by_weeks = rev.set_index('completed_at').groupby(lambda week: week.week).sum()[['transaction_amount']]\n"
     ]
    },
    {
     "data": {
      "text/html": [
       "<div>\n",
       "<style scoped>\n",
       "    .dataframe tbody tr th:only-of-type {\n",
       "        vertical-align: middle;\n",
       "    }\n",
       "\n",
       "    .dataframe tbody tr th {\n",
       "        vertical-align: top;\n",
       "    }\n",
       "\n",
       "    .dataframe thead th {\n",
       "        text-align: right;\n",
       "    }\n",
       "</style>\n",
       "<table border=\"1\" class=\"dataframe\">\n",
       "  <thead>\n",
       "    <tr style=\"text-align: right;\">\n",
       "      <th></th>\n",
       "      <th>transaction_amount</th>\n",
       "    </tr>\n",
       "    <tr>\n",
       "      <th>completed_at</th>\n",
       "      <th></th>\n",
       "    </tr>\n",
       "  </thead>\n",
       "  <tbody>\n",
       "    <tr>\n",
       "      <th>12</th>\n",
       "      <td>36101770</td>\n",
       "    </tr>\n",
       "    <tr>\n",
       "      <th>13</th>\n",
       "      <td>280902095</td>\n",
       "    </tr>\n",
       "    <tr>\n",
       "      <th>14</th>\n",
       "      <td>174836172</td>\n",
       "    </tr>\n",
       "    <tr>\n",
       "      <th>15</th>\n",
       "      <td>180461592</td>\n",
       "    </tr>\n",
       "    <tr>\n",
       "      <th>16</th>\n",
       "      <td>172120121</td>\n",
       "    </tr>\n",
       "    <tr>\n",
       "      <th>17</th>\n",
       "      <td>283422726</td>\n",
       "    </tr>\n",
       "    <tr>\n",
       "      <th>18</th>\n",
       "      <td>178097029</td>\n",
       "    </tr>\n",
       "    <tr>\n",
       "      <th>19</th>\n",
       "      <td>209188129</td>\n",
       "    </tr>\n",
       "    <tr>\n",
       "      <th>20</th>\n",
       "      <td>184205414</td>\n",
       "    </tr>\n",
       "    <tr>\n",
       "      <th>21</th>\n",
       "      <td>173467314</td>\n",
       "    </tr>\n",
       "    <tr>\n",
       "      <th>22</th>\n",
       "      <td>242701606</td>\n",
       "    </tr>\n",
       "    <tr>\n",
       "      <th>23</th>\n",
       "      <td>191635600</td>\n",
       "    </tr>\n",
       "    <tr>\n",
       "      <th>24</th>\n",
       "      <td>188809085</td>\n",
       "    </tr>\n",
       "    <tr>\n",
       "      <th>25</th>\n",
       "      <td>190928325</td>\n",
       "    </tr>\n",
       "    <tr>\n",
       "      <th>26</th>\n",
       "      <td>349850093</td>\n",
       "    </tr>\n",
       "    <tr>\n",
       "      <th>27</th>\n",
       "      <td>196696245</td>\n",
       "    </tr>\n",
       "    <tr>\n",
       "      <th>28</th>\n",
       "      <td>213481339</td>\n",
       "    </tr>\n",
       "    <tr>\n",
       "      <th>29</th>\n",
       "      <td>297762481</td>\n",
       "    </tr>\n",
       "    <tr>\n",
       "      <th>30</th>\n",
       "      <td>330688258</td>\n",
       "    </tr>\n",
       "    <tr>\n",
       "      <th>31</th>\n",
       "      <td>174209404</td>\n",
       "    </tr>\n",
       "    <tr>\n",
       "      <th>32</th>\n",
       "      <td>245371025</td>\n",
       "    </tr>\n",
       "    <tr>\n",
       "      <th>33</th>\n",
       "      <td>252133800</td>\n",
       "    </tr>\n",
       "    <tr>\n",
       "      <th>34</th>\n",
       "      <td>220679805</td>\n",
       "    </tr>\n",
       "    <tr>\n",
       "      <th>35</th>\n",
       "      <td>355362899</td>\n",
       "    </tr>\n",
       "    <tr>\n",
       "      <th>36</th>\n",
       "      <td>243789612</td>\n",
       "    </tr>\n",
       "    <tr>\n",
       "      <th>37</th>\n",
       "      <td>230994459</td>\n",
       "    </tr>\n",
       "    <tr>\n",
       "      <th>38</th>\n",
       "      <td>174823136</td>\n",
       "    </tr>\n",
       "  </tbody>\n",
       "</table>\n",
       "</div>"
      ],
      "text/plain": [
       "              transaction_amount\n",
       "completed_at                    \n",
       "12                      36101770\n",
       "13                     280902095\n",
       "14                     174836172\n",
       "15                     180461592\n",
       "16                     172120121\n",
       "17                     283422726\n",
       "18                     178097029\n",
       "19                     209188129\n",
       "20                     184205414\n",
       "21                     173467314\n",
       "22                     242701606\n",
       "23                     191635600\n",
       "24                     188809085\n",
       "25                     190928325\n",
       "26                     349850093\n",
       "27                     196696245\n",
       "28                     213481339\n",
       "29                     297762481\n",
       "30                     330688258\n",
       "31                     174209404\n",
       "32                     245371025\n",
       "33                     252133800\n",
       "34                     220679805\n",
       "35                     355362899\n",
       "36                     243789612\n",
       "37                     230994459\n",
       "38                     174823136"
      ]
     },
     "execution_count": 42,
     "metadata": {},
     "output_type": "execute_result"
    }
   ],
   "source": [
    "# lambda 함수를 이용해 주단위로 데이터 뽑기\n",
    "rev_by_weeks = rev.set_index('completed_at').groupby(lambda week: week.week).sum()[['transaction_amount']]\n",
    "rev_by_weeks"
   ]
  },
  {
   "cell_type": "code",
   "execution_count": 43,
   "id": "8e51d697",
   "metadata": {
    "ExecuteTime": {
     "end_time": "2022-07-01T07:54:47.514218Z",
     "start_time": "2022-07-01T07:54:47.186605Z"
    }
   },
   "outputs": [
    {
     "data": {
      "image/png": "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\n",
      "text/plain": [
       "<Figure size 1080x720 with 1 Axes>"
      ]
     },
     "metadata": {},
     "output_type": "display_data"
    }
   ],
   "source": [
    "# 시각화\n",
    "\n",
    "plt.figure(figsize=(15,10))\n",
    "sns.set_theme(style=\"darkgrid\")\n",
    "\n",
    "sns.lineplot(x='completed_at', y='transaction_amount',\n",
    "             data=rev_by_weeks,\n",
    "             color = '#FF8C00'\n",
    "            )\n",
    "plt.xlabel('Weeks')\n",
    "plt.ylabel('Revenue')\n",
    "plt.yticks([ 100000000, 200000000, 300000000 ,400000000], \n",
    "           ['100,000,000','200,000,000', '300,000,000', '400,000,000',])\n",
    "plt.xlim(13,38)\n",
    "plt.xticks([13, 18,22,27,31, 36], \n",
    "           ['1th Apr', '1th May', '1th Jun', '1th Juy', '1th Aug', '1th Sep'])\n",
    "\n",
    "plt.show()"
   ]
  },
  {
   "cell_type": "markdown",
   "id": "e0b1f67c",
   "metadata": {},
   "source": [
    "> 월별 마지막 주에 매출이 급증하고 월초엔 매출이 급감하는 패턴이 확인됨."
   ]
  },
  {
   "cell_type": "markdown",
   "id": "0878ef47",
   "metadata": {},
   "source": []
  },
  {
   "cell_type": "markdown",
   "id": "fb76f940",
   "metadata": {},
   "source": [
    "### 월별 매출 그래프"
   ]
  },
  {
   "cell_type": "code",
   "execution_count": 44,
   "id": "652dcb5b",
   "metadata": {
    "ExecuteTime": {
     "end_time": "2022-07-01T07:54:48.123044Z",
     "start_time": "2022-07-01T07:54:48.073357Z"
    }
   },
   "outputs": [
    {
     "data": {
      "text/html": [
       "<div>\n",
       "<style scoped>\n",
       "    .dataframe tbody tr th:only-of-type {\n",
       "        vertical-align: middle;\n",
       "    }\n",
       "\n",
       "    .dataframe tbody tr th {\n",
       "        vertical-align: top;\n",
       "    }\n",
       "\n",
       "    .dataframe thead th {\n",
       "        text-align: right;\n",
       "    }\n",
       "</style>\n",
       "<table border=\"1\" class=\"dataframe\">\n",
       "  <thead>\n",
       "    <tr style=\"text-align: right;\">\n",
       "      <th></th>\n",
       "      <th>transaction_amount</th>\n",
       "    </tr>\n",
       "    <tr>\n",
       "      <th>completed_at</th>\n",
       "      <th></th>\n",
       "    </tr>\n",
       "  </thead>\n",
       "  <tbody>\n",
       "    <tr>\n",
       "      <th>3</th>\n",
       "      <td>192480994</td>\n",
       "    </tr>\n",
       "    <tr>\n",
       "      <th>4</th>\n",
       "      <td>877810402</td>\n",
       "    </tr>\n",
       "    <tr>\n",
       "      <th>5</th>\n",
       "      <td>894742767</td>\n",
       "    </tr>\n",
       "    <tr>\n",
       "      <th>6</th>\n",
       "      <td>975246992</td>\n",
       "    </tr>\n",
       "    <tr>\n",
       "      <th>7</th>\n",
       "      <td>1118391039</td>\n",
       "    </tr>\n",
       "    <tr>\n",
       "      <th>8</th>\n",
       "      <td>1143731388</td>\n",
       "    </tr>\n",
       "    <tr>\n",
       "      <th>9</th>\n",
       "      <td>770315952</td>\n",
       "    </tr>\n",
       "  </tbody>\n",
       "</table>\n",
       "</div>"
      ],
      "text/plain": [
       "              transaction_amount\n",
       "completed_at                    \n",
       "3                      192480994\n",
       "4                      877810402\n",
       "5                      894742767\n",
       "6                      975246992\n",
       "7                     1118391039\n",
       "8                     1143731388\n",
       "9                      770315952"
      ]
     },
     "execution_count": 44,
     "metadata": {},
     "output_type": "execute_result"
    }
   ],
   "source": [
    "# lambda 함수를 이용해 월단위로 데이터 뽑기\n",
    "rev_by_month = rev.set_index('completed_at').groupby(lambda month: month.month).sum()[['transaction_amount']]\n",
    "rev_by_month_df = pd.DataFrame(rev_by_month)\n",
    "rev_by_month_df"
   ]
  },
  {
   "cell_type": "code",
   "execution_count": 46,
   "id": "99351bd0",
   "metadata": {
    "ExecuteTime": {
     "end_time": "2022-07-01T07:56:28.531094Z",
     "start_time": "2022-07-01T07:56:28.223563Z"
    },
    "scrolled": false
   },
   "outputs": [
    {
     "data": {
      "image/png": "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\n",
      "text/plain": [
       "<Figure size 1080x720 with 1 Axes>"
      ]
     },
     "metadata": {},
     "output_type": "display_data"
    }
   ],
   "source": [
    "# 시각화\n",
    "\n",
    "sns.set_theme(style=\"darkgrid\")\n",
    "my_colors = ['#90EE90', '#90EE90', '#8FBC8F','#3CB371', '#2E8B57', '#6B8E23']\n",
    "\n",
    "rev_by_month_df.plot.bar(y='transaction_amount',\n",
    "                         rot=0,\n",
    "                         color=my_colors,\n",
    "                         figsize=(15,10))\n",
    "\n",
    "plt.xlabel('Month')\n",
    "plt.ylabel('Revenue')\n",
    "plt.yticks([ 0, 500000000, 1000000000 ,1500000000], \n",
    "           ['0','500,000,000', '1,000,000,000', '1,500,000,000',])\n",
    "plt.xlim(0.5,5.5)\n",
    "plt.xticks([1, 2, 3 ,4 ,5 ], \n",
    "           ['Apr', 'May', 'Jun', 'Juy', 'Aug'])\n",
    "\n",
    "plt.show()"
   ]
  },
  {
   "cell_type": "markdown",
   "id": "0d896b53",
   "metadata": {
    "ExecuteTime": {
     "end_time": "2022-06-30T12:44:24.161620Z",
     "start_time": "2022-06-30T12:44:24.142553Z"
    }
   },
   "source": [
    "> 점진적으로 매출이 증가하고 있음.\n",
    "> *** 3월, 9월 매출은 데이터가 누락되었기 때문에 제외 "
   ]
  },
  {
   "cell_type": "markdown",
   "id": "447760be",
   "metadata": {},
   "source": [
    "# 강의 분석"
   ]
  },
  {
   "cell_type": "markdown",
   "id": "5fd1259e",
   "metadata": {},
   "source": [
    "## 전체 강의 수"
   ]
  },
  {
   "cell_type": "code",
   "execution_count": 72,
   "id": "f225062e",
   "metadata": {
    "ExecuteTime": {
     "end_time": "2022-07-01T08:46:52.974630Z",
     "start_time": "2022-07-01T08:46:52.960479Z"
    }
   },
   "outputs": [
    {
     "data": {
      "text/plain": [
       "584"
      ]
     },
     "execution_count": 72,
     "metadata": {},
     "output_type": "execute_result"
    }
   ],
   "source": [
    "(rev.course_title.value_counts() > 0).sum()"
   ]
  },
  {
   "cell_type": "markdown",
   "id": "63fb6938",
   "metadata": {},
   "source": [
    "> 전체 강의 수 584 개"
   ]
  },
  {
   "cell_type": "code",
   "execution_count": null,
   "id": "62610b2c",
   "metadata": {},
   "outputs": [],
   "source": [
    "rev_course_du_drop = rev.drop_duplicates('course_title')\n",
    "rev_course_du_drop"
   ]
  },
  {
   "cell_type": "markdown",
   "id": "30350706",
   "metadata": {},
   "source": [
    "> 'course_title' 컬럼의 강의 타이틀 중복데이터 제거"
   ]
  },
  {
   "cell_type": "code",
   "execution_count": 123,
   "id": "b32b8f88",
   "metadata": {
    "ExecuteTime": {
     "end_time": "2022-07-01T10:13:56.377765Z",
     "start_time": "2022-07-01T10:13:56.364684Z"
    }
   },
   "outputs": [
    {
     "data": {
      "text/plain": [
       "270"
      ]
     },
     "execution_count": 123,
     "metadata": {},
     "output_type": "execute_result"
    }
   ],
   "source": [
    "# 'course_title'에 프로모션이 포함된 데이터 카운팅\n",
    "pro_courses = rev_course_du_drop.course_title.str.contains('프로모션')\n",
    "pro_courses.sum()"
   ]
  },
  {
   "cell_type": "markdown",
   "id": "60677389",
   "metadata": {},
   "source": [
    "> 프로모션 강의 수 270개"
   ]
  },
  {
   "cell_type": "code",
   "execution_count": 126,
   "id": "d96613fd",
   "metadata": {
    "ExecuteTime": {
     "end_time": "2022-07-01T10:14:51.712399Z",
     "start_time": "2022-07-01T10:14:51.684472Z"
    }
   },
   "outputs": [
    {
     "data": {
      "text/plain": [
       "314"
      ]
     },
     "execution_count": 126,
     "metadata": {},
     "output_type": "execute_result"
    }
   ],
   "source": [
    "ofc_courses = ~pro_courses\n",
    "ofc_courses.sum()"
   ]
  },
  {
   "cell_type": "markdown",
   "id": "1e23f276",
   "metadata": {
    "ExecuteTime": {
     "end_time": "2022-07-01T10:14:27.802960Z",
     "start_time": "2022-07-01T10:14:27.789899Z"
    }
   },
   "source": [
    "> 프로모션이 아닌 정식강의 수 314 개"
   ]
  },
  {
   "cell_type": "markdown",
   "id": "98091a1f",
   "metadata": {},
   "source": [
    "##  TOP 10 강의"
   ]
  },
  {
   "cell_type": "markdown",
   "id": "192c4b21",
   "metadata": {},
   "source": [
    "### 판매수 TOP 10 강의"
   ]
  },
  {
   "cell_type": "code",
   "execution_count": 172,
   "id": "943732be",
   "metadata": {
    "ExecuteTime": {
     "end_time": "2022-07-01T11:21:44.983063Z",
     "start_time": "2022-07-01T11:21:44.935669Z"
    }
   },
   "outputs": [
    {
     "data": {
      "text/html": [
       "<div>\n",
       "<style scoped>\n",
       "    .dataframe tbody tr th:only-of-type {\n",
       "        vertical-align: middle;\n",
       "    }\n",
       "\n",
       "    .dataframe tbody tr th {\n",
       "        vertical-align: top;\n",
       "    }\n",
       "\n",
       "    .dataframe thead th {\n",
       "        text-align: right;\n",
       "    }\n",
       "</style>\n",
       "<table border=\"1\" class=\"dataframe\">\n",
       "  <thead>\n",
       "    <tr style=\"text-align: right;\">\n",
       "      <th></th>\n",
       "      <th>course_title</th>\n",
       "    </tr>\n",
       "  </thead>\n",
       "  <tbody>\n",
       "    <tr>\n",
       "      <th>초격차 패키지 : 한 번에 끝내는 프론트엔드 개발</th>\n",
       "      <td>1418</td>\n",
       "    </tr>\n",
       "    <tr>\n",
       "      <th>초격차 패키지 : 한번에 끝내는 Java/Spring 웹 개발 마스터</th>\n",
       "      <td>1405</td>\n",
       "    </tr>\n",
       "    <tr>\n",
       "      <th>초격차 패키지 : 한번에 끝내는 영상 촬영과 편집</th>\n",
       "      <td>1203</td>\n",
       "    </tr>\n",
       "    <tr>\n",
       "      <th>The RED : 김영하 작가의 내 안의 숨은 이야기를 찾아 쓰는 법</th>\n",
       "      <td>1054</td>\n",
       "    </tr>\n",
       "    <tr>\n",
       "      <th>초격차 패키지 : 한 번에 끝내는 node.js 웹 프로그래밍</th>\n",
       "      <td>813</td>\n",
       "    </tr>\n",
       "    <tr>\n",
       "      <th>나의 칼퇴치트키 엑셀유치원</th>\n",
       "      <td>788</td>\n",
       "    </tr>\n",
       "    <tr>\n",
       "      <th>올인원 패키지 : star741의 캐주얼 일러스트 드로잉</th>\n",
       "      <td>684</td>\n",
       "    </tr>\n",
       "    <tr>\n",
       "      <th>초격차 패키지 : 한번에 끝내는 디자인 툴</th>\n",
       "      <td>664</td>\n",
       "    </tr>\n",
       "    <tr>\n",
       "      <th>초격차 패키지 : 한 번에 끝내는 엑셀 실무</th>\n",
       "      <td>656</td>\n",
       "    </tr>\n",
       "    <tr>\n",
       "      <th>올인원 패키지 : 김민태의 프론트엔드 아카데미 : 제 1강 JavaScript &amp; TypeScript Essential</th>\n",
       "      <td>646</td>\n",
       "    </tr>\n",
       "  </tbody>\n",
       "</table>\n",
       "</div>"
      ],
      "text/plain": [
       "                                                    course_title\n",
       "초격차 패키지 : 한 번에 끝내는 프론트엔드 개발                                 1418\n",
       "초격차 패키지 : 한번에 끝내는 Java/Spring 웹 개발 마스터                      1405\n",
       "초격차 패키지 : 한번에 끝내는 영상 촬영과 편집                                 1203\n",
       "The RED : 김영하 작가의 내 안의 숨은 이야기를 찾아 쓰는 법                      1054\n",
       "초격차 패키지 : 한 번에 끝내는 node.js 웹 프로그래밍                           813\n",
       "나의 칼퇴치트키 엑셀유치원                                               788\n",
       "올인원 패키지 : star741의 캐주얼 일러스트 드로잉                              684\n",
       "초격차 패키지 : 한번에 끝내는 디자인 툴                                      664\n",
       "초격차 패키지 : 한 번에 끝내는 엑셀 실무                                     656\n",
       "올인원 패키지 : 김민태의 프론트엔드 아카데미 : 제 1강 JavaScript & T...           646"
      ]
     },
     "execution_count": 172,
     "metadata": {},
     "output_type": "execute_result"
    }
   ],
   "source": [
    "# Top 10 강의 판매건 수 \n",
    "course_sales_count = rev[rev.type == 'PAYMENT'].course_title.value_counts()\n",
    "pd.DataFrame(course_sales_count)[:10]"
   ]
  },
  {
   "cell_type": "markdown",
   "id": "70db9d15",
   "metadata": {},
   "source": [
    "|순위|강의명|판매건수\n",
    "|:---:|------|:---:|\n",
    "|1|초격차 패키지 : 한 번에 끝내는 프론트엔드 개발|\t1418|\n",
    "|2|초격차 패키지 : 한번에 끝내는 Java/Spring 웹 개발 마스터|\t1405|\n",
    "|3|초격차 패키지 : 한번에 끝내는 영상 촬영과 편집|\t1203|\n",
    "|4|The RED : 김영하 작가의 내 안의 숨은 이야기를 찾아 쓰는 법|\t1054|\n",
    "|5|초격차 패키지 : 한 번에 끝내는 node.js 웹 프로그래밍|\t813|\n",
    "|6|나의 칼퇴치트키 엑셀유치원|\t788|\n",
    "|7|올인원 패키지 : star741의 캐주얼 일러스트 드로잉|\t684|\n",
    "|8|초격차 패키지 : 한번에 끝내는 디자인 툴|\t664|\n",
    "|9|올인원 패키지 : 김민태의 프론트엔드 아카데미 : 제 1강 JavaScript & TypeScript Essential|\t656|\n",
    "|10|초격차 패키지 : 한 번에 끝내는 엑셀 실무|\t646|"
   ]
  },
  {
   "cell_type": "markdown",
   "id": "96814152",
   "metadata": {},
   "source": [
    "### 매출액 TOP 10 강의"
   ]
  },
  {
   "cell_type": "code",
   "execution_count": 177,
   "id": "82bf184b",
   "metadata": {
    "ExecuteTime": {
     "end_time": "2022-07-01T11:23:47.744182Z",
     "start_time": "2022-07-01T11:23:47.694195Z"
    }
   },
   "outputs": [
    {
     "data": {
      "text/html": [
       "<div>\n",
       "<style scoped>\n",
       "    .dataframe tbody tr th:only-of-type {\n",
       "        vertical-align: middle;\n",
       "    }\n",
       "\n",
       "    .dataframe tbody tr th {\n",
       "        vertical-align: top;\n",
       "    }\n",
       "\n",
       "    .dataframe thead th {\n",
       "        text-align: right;\n",
       "    }\n",
       "</style>\n",
       "<table border=\"1\" class=\"dataframe\">\n",
       "  <thead>\n",
       "    <tr style=\"text-align: right;\">\n",
       "      <th></th>\n",
       "      <th>transaction_amount</th>\n",
       "    </tr>\n",
       "    <tr>\n",
       "      <th>course_title</th>\n",
       "      <th></th>\n",
       "    </tr>\n",
       "  </thead>\n",
       "  <tbody>\n",
       "    <tr>\n",
       "      <th>The RED : 김영하 작가의 내 안의 숨은 이야기를 찾아 쓰는 법</th>\n",
       "      <td>151049741</td>\n",
       "    </tr>\n",
       "    <tr>\n",
       "      <th>초격차 패키지 : 한 번에 끝내는 프론트엔드 개발</th>\n",
       "      <td>141248845</td>\n",
       "    </tr>\n",
       "    <tr>\n",
       "      <th>올인원 패키지 : 박세익 전무에게 배우는 주식 시장 분석 &amp; 포트폴리오 운용 전략</th>\n",
       "      <td>129821723</td>\n",
       "    </tr>\n",
       "    <tr>\n",
       "      <th>초격차 패키지 : 한번에 끝내는 영상 촬영과 편집</th>\n",
       "      <td>116614335</td>\n",
       "    </tr>\n",
       "    <tr>\n",
       "      <th>초격차 패키지 : 한번에 끝내는 Java/Spring 웹 개발 마스터</th>\n",
       "      <td>108576441</td>\n",
       "    </tr>\n",
       "    <tr>\n",
       "      <th>나의 칼퇴치트키 엑셀유치원</th>\n",
       "      <td>88201167</td>\n",
       "    </tr>\n",
       "    <tr>\n",
       "      <th>초격차 패키지 : 한번에 끝내는 디자인 툴</th>\n",
       "      <td>87700764</td>\n",
       "    </tr>\n",
       "    <tr>\n",
       "      <th>올인원 패키지 : star741의 캐주얼 일러스트 드로잉</th>\n",
       "      <td>84763815</td>\n",
       "    </tr>\n",
       "    <tr>\n",
       "      <th>올인원 패키지 : 완전정복 시각디자인 기초</th>\n",
       "      <td>82131657</td>\n",
       "    </tr>\n",
       "    <tr>\n",
       "      <th>초격차 패키지 : 한번에 끝내는 UX/UI 디자인</th>\n",
       "      <td>80602968</td>\n",
       "    </tr>\n",
       "  </tbody>\n",
       "</table>\n",
       "</div>"
      ],
      "text/plain": [
       "                                               transaction_amount\n",
       "course_title                                                     \n",
       "The RED : 김영하 작가의 내 안의 숨은 이야기를 찾아 쓰는 법                  151049741\n",
       "초격차 패키지 : 한 번에 끝내는 프론트엔드 개발                             141248845\n",
       "올인원 패키지 : 박세익 전무에게 배우는 주식 시장 분석 & 포트폴리오 운용 전략           129821723\n",
       "초격차 패키지 : 한번에 끝내는 영상 촬영과 편집                             116614335\n",
       "초격차 패키지 : 한번에 끝내는 Java/Spring 웹 개발 마스터                  108576441\n",
       "나의 칼퇴치트키 엑셀유치원                                           88201167\n",
       "초격차 패키지 : 한번에 끝내는 디자인 툴                                  87700764\n",
       "올인원 패키지 : star741의 캐주얼 일러스트 드로잉                          84763815\n",
       "올인원 패키지 : 완전정복 시각디자인 기초                                  82131657\n",
       "초격차 패키지 : 한번에 끝내는 UX/UI 디자인                              80602968"
      ]
     },
     "execution_count": 177,
     "metadata": {},
     "output_type": "execute_result"
    }
   ],
   "source": [
    "# Top 10 강의 판매건 수 \n",
    "course_rev = rev.groupby('course_title').sum()['transaction_amount'].sort_values(ascending=False)\n",
    "course_rev = pd.DataFrame(course_rev)\n",
    "course_rev[:10]"
   ]
  },
  {
   "cell_type": "markdown",
   "id": "b565c012",
   "metadata": {
    "ExecuteTime": {
     "end_time": "2022-07-01T11:14:49.273078Z",
     "start_time": "2022-07-01T11:14:49.254066Z"
    }
   },
   "source": [
    "|순위|강의명|매출액|\n",
    "|:---:|------|:---:|\n",
    "|1|The RED : 김영하 작가의 내 안의 숨은 이야기를 찾아 쓰는 법\t|151,049,741|\n",
    "|2|초격차 패키지 : 한 번에 끝내는 프론트엔드 개발\t|141,248,845|\n",
    "|3|올인원 패키지 : 박세익 전무에게 배우는 주식 시장 분석 & 포트폴리오 운용 전략\t|129,821,723|\n",
    "|4|초격차 패키지 : 한번에 끝내는 영상 촬영과 편집\t|116,614,335|\n",
    "|5|초격차 패키지 : 한번에 끝내는 Java/Spring 웹 개발 마스터\t|108,576,441|\n",
    "|6|나의 칼퇴치트키 엑셀유치원\t|88,201,167|\n",
    "|7|초격차 패키지 : 한번에 끝내는 디자인 툴\t|87,700,764|\n",
    "|8|올인원 패키지 : star741의 캐주얼 일러스트 드로잉\t|84,763,815|\n",
    "|9|올인원 패키지 : 완전정복 시각디자인 기초\t|82,131,657|\n",
    "|10|초격차 패키지 : 한번에 끝내는 UX/UI 디자인\t|80,602,968|\n"
   ]
  },
  {
   "cell_type": "markdown",
   "id": "75b5c881",
   "metadata": {},
   "source": [
    "### 강의당 평균 매출 금액"
   ]
  },
  {
   "cell_type": "code",
   "execution_count": 205,
   "id": "2f086f62",
   "metadata": {
    "ExecuteTime": {
     "end_time": "2022-07-01T11:39:36.705087Z",
     "start_time": "2022-07-01T11:39:36.686128Z"
    },
    "scrolled": true
   },
   "outputs": [
    {
     "data": {
      "text/html": [
       "<div>\n",
       "<style scoped>\n",
       "    .dataframe tbody tr th:only-of-type {\n",
       "        vertical-align: middle;\n",
       "    }\n",
       "\n",
       "    .dataframe tbody tr th {\n",
       "        vertical-align: top;\n",
       "    }\n",
       "\n",
       "    .dataframe thead th {\n",
       "        text-align: right;\n",
       "    }\n",
       "</style>\n",
       "<table border=\"1\" class=\"dataframe\">\n",
       "  <thead>\n",
       "    <tr style=\"text-align: right;\">\n",
       "      <th></th>\n",
       "      <th>transaction_amount</th>\n",
       "    </tr>\n",
       "  </thead>\n",
       "  <tbody>\n",
       "    <tr>\n",
       "      <th>count</th>\n",
       "      <td>5.470000e+02</td>\n",
       "    </tr>\n",
       "    <tr>\n",
       "      <th>mean</th>\n",
       "      <td>1.093490e+07</td>\n",
       "    </tr>\n",
       "    <tr>\n",
       "      <th>std</th>\n",
       "      <td>1.858718e+07</td>\n",
       "    </tr>\n",
       "    <tr>\n",
       "      <th>min</th>\n",
       "      <td>1.000000e+04</td>\n",
       "    </tr>\n",
       "    <tr>\n",
       "      <th>25%</th>\n",
       "      <td>1.320000e+06</td>\n",
       "    </tr>\n",
       "    <tr>\n",
       "      <th>50%</th>\n",
       "      <td>3.588000e+06</td>\n",
       "    </tr>\n",
       "    <tr>\n",
       "      <th>75%</th>\n",
       "      <td>1.202847e+07</td>\n",
       "    </tr>\n",
       "    <tr>\n",
       "      <th>max</th>\n",
       "      <td>1.510497e+08</td>\n",
       "    </tr>\n",
       "  </tbody>\n",
       "</table>\n",
       "</div>"
      ],
      "text/plain": [
       "       transaction_amount\n",
       "count        5.470000e+02\n",
       "mean         1.093490e+07\n",
       "std          1.858718e+07\n",
       "min          1.000000e+04\n",
       "25%          1.320000e+06\n",
       "50%          3.588000e+06\n",
       "75%          1.202847e+07\n",
       "max          1.510497e+08"
      ]
     },
     "execution_count": 205,
     "metadata": {},
     "output_type": "execute_result"
    }
   ],
   "source": [
    "course_rev_plus = course_rev[course_rev > 0].dropna()\n",
    "course_rev_plus = course_rev_plus.astype('int')\n",
    "course_rev_plus.describe()"
   ]
  },
  {
   "cell_type": "markdown",
   "id": "72e7638a",
   "metadata": {},
   "source": [
    "> 강의당 평균 매출금액 10,934,900원"
   ]
  },
  {
   "cell_type": "markdown",
   "id": "4b37e204",
   "metadata": {},
   "source": [
    "### TOP 10 강의 평균 매출 금액"
   ]
  },
  {
   "cell_type": "code",
   "execution_count": 208,
   "id": "1edf89bb",
   "metadata": {
    "ExecuteTime": {
     "end_time": "2022-07-01T11:45:56.705744Z",
     "start_time": "2022-07-01T11:45:56.684760Z"
    }
   },
   "outputs": [
    {
     "data": {
      "text/plain": [
       "transaction_amount    107071145.6\n",
       "dtype: float64"
      ]
     },
     "execution_count": 208,
     "metadata": {},
     "output_type": "execute_result"
    }
   ],
   "source": [
    "course_rev_plus[:10].mean()"
   ]
  },
  {
   "cell_type": "markdown",
   "id": "dcb8b533",
   "metadata": {},
   "source": [
    "> TOP 10 강의 평균 매출금액은 107,071,145 원으로 전체 평균과 약 9.8배 차이."
   ]
  },
  {
   "cell_type": "markdown",
   "id": "e62d0b26",
   "metadata": {},
   "source": [
    "### 환불 TOP 10 강의"
   ]
  },
  {
   "cell_type": "code",
   "execution_count": 174,
   "id": "cc59bc6f",
   "metadata": {
    "ExecuteTime": {
     "end_time": "2022-07-01T11:21:59.037385Z",
     "start_time": "2022-07-01T11:21:59.021867Z"
    }
   },
   "outputs": [
    {
     "data": {
      "text/html": [
       "<div>\n",
       "<style scoped>\n",
       "    .dataframe tbody tr th:only-of-type {\n",
       "        vertical-align: middle;\n",
       "    }\n",
       "\n",
       "    .dataframe tbody tr th {\n",
       "        vertical-align: top;\n",
       "    }\n",
       "\n",
       "    .dataframe thead th {\n",
       "        text-align: right;\n",
       "    }\n",
       "</style>\n",
       "<table border=\"1\" class=\"dataframe\">\n",
       "  <thead>\n",
       "    <tr style=\"text-align: right;\">\n",
       "      <th></th>\n",
       "      <th>course_title</th>\n",
       "    </tr>\n",
       "  </thead>\n",
       "  <tbody>\n",
       "    <tr>\n",
       "      <th>초격차 패키지 : 한 번에 끝내는 프론트엔드 개발</th>\n",
       "      <td>121</td>\n",
       "    </tr>\n",
       "    <tr>\n",
       "      <th>초격차 패키지 : 한번에 끝내는 Java/Spring 웹 개발 마스터</th>\n",
       "      <td>105</td>\n",
       "    </tr>\n",
       "    <tr>\n",
       "      <th>초격차 패키지 : 한 번에 끝내는 node.js 웹 프로그래밍</th>\n",
       "      <td>68</td>\n",
       "    </tr>\n",
       "    <tr>\n",
       "      <th>올인원 패키지 : star741의 캐주얼 일러스트 드로잉</th>\n",
       "      <td>65</td>\n",
       "    </tr>\n",
       "    <tr>\n",
       "      <th>초격차 패키지 : 한번에 끝내는 디자인 툴</th>\n",
       "      <td>64</td>\n",
       "    </tr>\n",
       "    <tr>\n",
       "      <th>초격차 패키지 : 30개 프로젝트로 배우는 Android 앱 개발 with Kotlin</th>\n",
       "      <td>63</td>\n",
       "    </tr>\n",
       "    <tr>\n",
       "      <th>초격차 패키지 : 한번에 끝내는 영상 촬영과 편집</th>\n",
       "      <td>60</td>\n",
       "    </tr>\n",
       "    <tr>\n",
       "      <th>The RED : 김영하 작가의 내 안의 숨은 이야기를 찾아 쓰는 법</th>\n",
       "      <td>57</td>\n",
       "    </tr>\n",
       "    <tr>\n",
       "      <th>올인원 패키지 : 아카데미 : 편집하는여자의 영상편집 마스터클래스 - 제 1강 프리미어프로 베이직</th>\n",
       "      <td>55</td>\n",
       "    </tr>\n",
       "    <tr>\n",
       "      <th>올인원 패키지 : 김민태의 프론트엔드 아카데미 : 제 1강 JavaScript &amp; TypeScript Essential</th>\n",
       "      <td>53</td>\n",
       "    </tr>\n",
       "  </tbody>\n",
       "</table>\n",
       "</div>"
      ],
      "text/plain": [
       "                                                    course_title\n",
       "초격차 패키지 : 한 번에 끝내는 프론트엔드 개발                                  121\n",
       "초격차 패키지 : 한번에 끝내는 Java/Spring 웹 개발 마스터                       105\n",
       "초격차 패키지 : 한 번에 끝내는 node.js 웹 프로그래밍                            68\n",
       "올인원 패키지 : star741의 캐주얼 일러스트 드로잉                               65\n",
       "초격차 패키지 : 한번에 끝내는 디자인 툴                                       64\n",
       "초격차 패키지 : 30개 프로젝트로 배우는 Android 앱 개발 with Kotlin              63\n",
       "초격차 패키지 : 한번에 끝내는 영상 촬영과 편집                                   60\n",
       "The RED : 김영하 작가의 내 안의 숨은 이야기를 찾아 쓰는 법                        57\n",
       "올인원 패키지 : 아카데미 : 편집하는여자의 영상편집 마스터클래스 - 제 1강 프리미...            55\n",
       "올인원 패키지 : 김민태의 프론트엔드 아카데미 : 제 1강 JavaScript & T...            53"
      ]
     },
     "execution_count": 174,
     "metadata": {},
     "output_type": "execute_result"
    }
   ],
   "source": [
    "# 매출 Top 10 강의 환불건 수 \n",
    "course_rf = rev[rev.type == 'REFUND'].course_title.value_counts()\n",
    "pd.DataFrame(course_rf)[:10]"
   ]
  },
  {
   "cell_type": "markdown",
   "id": "98f05e81",
   "metadata": {},
   "source": [
    "|순위|강의명|환불건수|\n",
    "|:---:|------|:---:|\n",
    "|1|초격차 패키지 : 한 번에 끝내는 프론트엔드 개발\t|121|\n",
    "|2|초격차 패키지 : 한번에 끝내는 Java/Spring 웹 개발 마스터\t|105|\n",
    "|3|초격차 패키지 : 한 번에 끝내는 node.js 웹 프로그래밍\t|68|\n",
    "|4|올인원 패키지 : star741의 캐주얼 일러스트 드로잉\t|65|\n",
    "|5|초격차 패키지 : 한번에 끝내는 디자인 툴\t|64|\n",
    "|6|초격차 패키지 : 30개 프로젝트로 배우는 Android 앱 개발 with Kotlin\t|63|\n",
    "|7|초격차 패키지 : 한번에 끝내는 영상 촬영과 편집\t|60|\n",
    "|8|The RED : 김영하 작가의 내 안의 숨은 이야기를 찾아 쓰는 법\t|57|\n",
    "|9|올인원 패키지 : 아카데미 : 편집하는여자의 영상편집 마스터클래스 - 제 1강 프리미어프로 베이직\t|55|\n",
    "|10|올인원 패키지 : 김민태의 프론트엔드 아카데미 : 제 1강 JavaScript & TypeScript Essential\t|53|"
   ]
  },
  {
   "cell_type": "code",
   "execution_count": 209,
   "id": "ec648c06",
   "metadata": {
    "ExecuteTime": {
     "end_time": "2022-07-01T11:50:46.927194Z",
     "start_time": "2022-07-01T11:50:46.906798Z"
    }
   },
   "outputs": [
    {
     "data": {
      "text/html": [
       "<div>\n",
       "<style scoped>\n",
       "    .dataframe tbody tr th:only-of-type {\n",
       "        vertical-align: middle;\n",
       "    }\n",
       "\n",
       "    .dataframe tbody tr th {\n",
       "        vertical-align: top;\n",
       "    }\n",
       "\n",
       "    .dataframe thead th {\n",
       "        text-align: right;\n",
       "    }\n",
       "</style>\n",
       "<table border=\"1\" class=\"dataframe\">\n",
       "  <thead>\n",
       "    <tr style=\"text-align: right;\">\n",
       "      <th></th>\n",
       "      <th>transaction_amount</th>\n",
       "    </tr>\n",
       "    <tr>\n",
       "      <th>course_title</th>\n",
       "      <th></th>\n",
       "    </tr>\n",
       "  </thead>\n",
       "  <tbody>\n",
       "    <tr>\n",
       "      <th>The RED : 김영하 작가의 내 안의 숨은 이야기를 찾아 쓰는 법</th>\n",
       "      <td>151049741</td>\n",
       "    </tr>\n",
       "    <tr>\n",
       "      <th>초격차 패키지 : 한 번에 끝내는 프론트엔드 개발</th>\n",
       "      <td>141248845</td>\n",
       "    </tr>\n",
       "    <tr>\n",
       "      <th>올인원 패키지 : 박세익 전무에게 배우는 주식 시장 분석 &amp; 포트폴리오 운용 전략</th>\n",
       "      <td>129821723</td>\n",
       "    </tr>\n",
       "    <tr>\n",
       "      <th>초격차 패키지 : 한번에 끝내는 영상 촬영과 편집</th>\n",
       "      <td>116614335</td>\n",
       "    </tr>\n",
       "    <tr>\n",
       "      <th>초격차 패키지 : 한번에 끝내는 Java/Spring 웹 개발 마스터</th>\n",
       "      <td>108576441</td>\n",
       "    </tr>\n",
       "    <tr>\n",
       "      <th>...</th>\n",
       "      <td>...</td>\n",
       "    </tr>\n",
       "    <tr>\n",
       "      <th>디지털 마케팅 온라인 완주반 3기</th>\n",
       "      <td>-575000</td>\n",
       "    </tr>\n",
       "    <tr>\n",
       "      <th>코딩+알고리즘 온라인 완주반 5기</th>\n",
       "      <td>-810000</td>\n",
       "    </tr>\n",
       "    <tr>\n",
       "      <th>모션그래픽 포트폴리오 온라인 완주반 1기</th>\n",
       "      <td>-1144000</td>\n",
       "    </tr>\n",
       "    <tr>\n",
       "      <th>프로모션 : 기초부터 시작하는 데이터분석 프리패스 (5월 삼성 패키지 현물 :  삼성 갤럭시 북 프로)</th>\n",
       "      <td>-1399000</td>\n",
       "    </tr>\n",
       "    <tr>\n",
       "      <th>프로모션 : 디자인 맥북 air 패스(9월 현물 프리패스)</th>\n",
       "      <td>-1400000</td>\n",
       "    </tr>\n",
       "  </tbody>\n",
       "</table>\n",
       "<p>584 rows × 1 columns</p>\n",
       "</div>"
      ],
      "text/plain": [
       "                                                    transaction_amount\n",
       "course_title                                                          \n",
       "The RED : 김영하 작가의 내 안의 숨은 이야기를 찾아 쓰는 법                       151049741\n",
       "초격차 패키지 : 한 번에 끝내는 프론트엔드 개발                                  141248845\n",
       "올인원 패키지 : 박세익 전무에게 배우는 주식 시장 분석 & 포트폴리오 운용 전략                129821723\n",
       "초격차 패키지 : 한번에 끝내는 영상 촬영과 편집                                  116614335\n",
       "초격차 패키지 : 한번에 끝내는 Java/Spring 웹 개발 마스터                       108576441\n",
       "...                                                                ...\n",
       "디지털 마케팅 온라인 완주반 3기                                             -575000\n",
       "코딩+알고리즘 온라인 완주반 5기                                             -810000\n",
       "모션그래픽 포트폴리오 온라인 완주반 1기                                        -1144000\n",
       "프로모션 : 기초부터 시작하는 데이터분석 프리패스 (5월 삼성 패키지 현물 :  삼성...            -1399000\n",
       "프로모션 : 디자인 맥북 air 패스(9월 현물 프리패스)                              -1400000\n",
       "\n",
       "[584 rows x 1 columns]"
      ]
     },
     "execution_count": 209,
     "metadata": {},
     "output_type": "execute_result"
    }
   ],
   "source": [
    "course_rev"
   ]
  },
  {
   "cell_type": "code",
   "execution_count": 160,
   "id": "f6bfab57",
   "metadata": {
    "ExecuteTime": {
     "end_time": "2022-07-01T10:54:05.988439Z",
     "start_time": "2022-07-01T10:54:05.940712Z"
    }
   },
   "outputs": [
    {
     "data": {
      "text/plain": [
       "course_title\n",
       "The RED : 김영하 작가의 내 안의 숨은 이야기를 찾아 쓰는 법           151049741\n",
       "초격차 패키지 : 한 번에 끝내는 프론트엔드 개발                      141248845\n",
       "올인원 패키지 : 박세익 전무에게 배우는 주식 시장 분석 & 포트폴리오 운용 전략    129821723\n",
       "초격차 패키지 : 한번에 끝내는 영상 촬영과 편집                      116614335\n",
       "초격차 패키지 : 한번에 끝내는 Java/Spring 웹 개발 마스터           108576441\n",
       "나의 칼퇴치트키 엑셀유치원                                    88201167\n",
       "초격차 패키지 : 한번에 끝내는 디자인 툴                           87700764\n",
       "올인원 패키지 : star741의 캐주얼 일러스트 드로잉                   84763815\n",
       "올인원 패키지 : 완전정복 시각디자인 기초                           82131657\n",
       "초격차 패키지 : 한번에 끝내는 UX/UI 디자인                       80602968\n",
       "Name: transaction_amount, dtype: int64"
      ]
     },
     "execution_count": 160,
     "metadata": {},
     "output_type": "execute_result"
    }
   ],
   "source": [
    "course_rev_rev.groupby('course_title').sum()['transaction_amount'].sort_values(ascending=False)[:10]"
   ]
  },
  {
   "cell_type": "code",
   "execution_count": null,
   "id": "11e5cc12",
   "metadata": {},
   "outputs": [],
   "source": [
    "rev.groupby.course_title.sum()['']"
   ]
  },
  {
   "cell_type": "code",
   "execution_count": 212,
   "id": "f997f95c",
   "metadata": {
    "ExecuteTime": {
     "end_time": "2022-07-01T11:55:31.446241Z",
     "start_time": "2022-07-01T11:55:31.078183Z"
    }
   },
   "outputs": [
    {
     "name": "stderr",
     "output_type": "stream",
     "text": [
      "C:\\Users\\user\\anaconda3\\envs\\datascience\\lib\\site-packages\\pandas\\core\\common.py:241: VisibleDeprecationWarning: Creating an ndarray from ragged nested sequences (which is a list-or-tuple of lists-or-tuples-or ndarrays with different lengths or shapes) is deprecated. If you meant to do this, you must specify 'dtype=object' when creating the ndarray.\n",
      "  result = np.asarray(values, dtype=dtype)\n"
     ]
    },
    {
     "ename": "TypeError",
     "evalue": "unhashable type: 'DataFrame'",
     "output_type": "error",
     "traceback": [
      "\u001b[1;31m---------------------------------------------------------------------------\u001b[0m",
      "\u001b[1;31mTypeError\u001b[0m                                 Traceback (most recent call last)",
      "Input \u001b[1;32mIn [212]\u001b[0m, in \u001b[0;36m<cell line: 1>\u001b[1;34m()\u001b[0m\n\u001b[1;32m----> 1\u001b[0m \u001b[43mrev\u001b[49m\u001b[43m[\u001b[49m\u001b[43mrev\u001b[49m\u001b[38;5;241;43m.\u001b[39;49m\u001b[43mgroupby\u001b[49m\u001b[43m(\u001b[49m\u001b[38;5;124;43m'\u001b[39;49m\u001b[38;5;124;43mcourse_title\u001b[39;49m\u001b[38;5;124;43m'\u001b[39;49m\u001b[43m)\u001b[49m\u001b[43m]\u001b[49m\n",
      "File \u001b[1;32m~\\anaconda3\\envs\\datascience\\lib\\site-packages\\pandas\\core\\frame.py:3511\u001b[0m, in \u001b[0;36mDataFrame.__getitem__\u001b[1;34m(self, key)\u001b[0m\n\u001b[0;32m   3509\u001b[0m     \u001b[38;5;28;01mif\u001b[39;00m is_iterator(key):\n\u001b[0;32m   3510\u001b[0m         key \u001b[38;5;241m=\u001b[39m \u001b[38;5;28mlist\u001b[39m(key)\n\u001b[1;32m-> 3511\u001b[0m     indexer \u001b[38;5;241m=\u001b[39m \u001b[38;5;28;43mself\u001b[39;49m\u001b[38;5;241;43m.\u001b[39;49m\u001b[43mcolumns\u001b[49m\u001b[38;5;241;43m.\u001b[39;49m\u001b[43m_get_indexer_strict\u001b[49m\u001b[43m(\u001b[49m\u001b[43mkey\u001b[49m\u001b[43m,\u001b[49m\u001b[43m \u001b[49m\u001b[38;5;124;43m\"\u001b[39;49m\u001b[38;5;124;43mcolumns\u001b[39;49m\u001b[38;5;124;43m\"\u001b[39;49m\u001b[43m)\u001b[49m[\u001b[38;5;241m1\u001b[39m]\n\u001b[0;32m   3513\u001b[0m \u001b[38;5;66;03m# take() does not accept boolean indexers\u001b[39;00m\n\u001b[0;32m   3514\u001b[0m \u001b[38;5;28;01mif\u001b[39;00m \u001b[38;5;28mgetattr\u001b[39m(indexer, \u001b[38;5;124m\"\u001b[39m\u001b[38;5;124mdtype\u001b[39m\u001b[38;5;124m\"\u001b[39m, \u001b[38;5;28;01mNone\u001b[39;00m) \u001b[38;5;241m==\u001b[39m \u001b[38;5;28mbool\u001b[39m:\n",
      "File \u001b[1;32m~\\anaconda3\\envs\\datascience\\lib\\site-packages\\pandas\\core\\indexes\\base.py:5777\u001b[0m, in \u001b[0;36mIndex._get_indexer_strict\u001b[1;34m(self, key, axis_name)\u001b[0m\n\u001b[0;32m   5774\u001b[0m     keyarr \u001b[38;5;241m=\u001b[39m com\u001b[38;5;241m.\u001b[39masarray_tuplesafe(keyarr)\n\u001b[0;32m   5776\u001b[0m \u001b[38;5;28;01mif\u001b[39;00m \u001b[38;5;28mself\u001b[39m\u001b[38;5;241m.\u001b[39m_index_as_unique:\n\u001b[1;32m-> 5777\u001b[0m     indexer \u001b[38;5;241m=\u001b[39m \u001b[38;5;28;43mself\u001b[39;49m\u001b[38;5;241;43m.\u001b[39;49m\u001b[43mget_indexer_for\u001b[49m\u001b[43m(\u001b[49m\u001b[43mkeyarr\u001b[49m\u001b[43m)\u001b[49m\n\u001b[0;32m   5778\u001b[0m     keyarr \u001b[38;5;241m=\u001b[39m \u001b[38;5;28mself\u001b[39m\u001b[38;5;241m.\u001b[39mreindex(keyarr)[\u001b[38;5;241m0\u001b[39m]\n\u001b[0;32m   5779\u001b[0m \u001b[38;5;28;01melse\u001b[39;00m:\n",
      "File \u001b[1;32m~\\anaconda3\\envs\\datascience\\lib\\site-packages\\pandas\\core\\indexes\\base.py:5764\u001b[0m, in \u001b[0;36mIndex.get_indexer_for\u001b[1;34m(self, target)\u001b[0m\n\u001b[0;32m   5746\u001b[0m \u001b[38;5;124;03m\"\"\"\u001b[39;00m\n\u001b[0;32m   5747\u001b[0m \u001b[38;5;124;03mGuaranteed return of an indexer even when non-unique.\u001b[39;00m\n\u001b[0;32m   5748\u001b[0m \n\u001b[1;32m   (...)\u001b[0m\n\u001b[0;32m   5761\u001b[0m \u001b[38;5;124;03marray([0, 2])\u001b[39;00m\n\u001b[0;32m   5762\u001b[0m \u001b[38;5;124;03m\"\"\"\u001b[39;00m\n\u001b[0;32m   5763\u001b[0m \u001b[38;5;28;01mif\u001b[39;00m \u001b[38;5;28mself\u001b[39m\u001b[38;5;241m.\u001b[39m_index_as_unique:\n\u001b[1;32m-> 5764\u001b[0m     \u001b[38;5;28;01mreturn\u001b[39;00m \u001b[38;5;28;43mself\u001b[39;49m\u001b[38;5;241;43m.\u001b[39;49m\u001b[43mget_indexer\u001b[49m\u001b[43m(\u001b[49m\u001b[43mtarget\u001b[49m\u001b[43m)\u001b[49m\n\u001b[0;32m   5765\u001b[0m indexer, _ \u001b[38;5;241m=\u001b[39m \u001b[38;5;28mself\u001b[39m\u001b[38;5;241m.\u001b[39mget_indexer_non_unique(target)\n\u001b[0;32m   5766\u001b[0m \u001b[38;5;28;01mreturn\u001b[39;00m indexer\n",
      "File \u001b[1;32m~\\anaconda3\\envs\\datascience\\lib\\site-packages\\pandas\\core\\indexes\\base.py:3784\u001b[0m, in \u001b[0;36mIndex.get_indexer\u001b[1;34m(self, target, method, limit, tolerance)\u001b[0m\n\u001b[0;32m   3779\u001b[0m     target \u001b[38;5;241m=\u001b[39m target\u001b[38;5;241m.\u001b[39mastype(dtype, copy\u001b[38;5;241m=\u001b[39m\u001b[38;5;28;01mFalse\u001b[39;00m)\n\u001b[0;32m   3780\u001b[0m     \u001b[38;5;28;01mreturn\u001b[39;00m this\u001b[38;5;241m.\u001b[39m_get_indexer(\n\u001b[0;32m   3781\u001b[0m         target, method\u001b[38;5;241m=\u001b[39mmethod, limit\u001b[38;5;241m=\u001b[39mlimit, tolerance\u001b[38;5;241m=\u001b[39mtolerance\n\u001b[0;32m   3782\u001b[0m     )\n\u001b[1;32m-> 3784\u001b[0m \u001b[38;5;28;01mreturn\u001b[39;00m \u001b[38;5;28;43mself\u001b[39;49m\u001b[38;5;241;43m.\u001b[39;49m\u001b[43m_get_indexer\u001b[49m\u001b[43m(\u001b[49m\u001b[43mtarget\u001b[49m\u001b[43m,\u001b[49m\u001b[43m \u001b[49m\u001b[43mmethod\u001b[49m\u001b[43m,\u001b[49m\u001b[43m \u001b[49m\u001b[43mlimit\u001b[49m\u001b[43m,\u001b[49m\u001b[43m \u001b[49m\u001b[43mtolerance\u001b[49m\u001b[43m)\u001b[49m\n",
      "File \u001b[1;32m~\\anaconda3\\envs\\datascience\\lib\\site-packages\\pandas\\core\\indexes\\base.py:3809\u001b[0m, in \u001b[0;36mIndex._get_indexer\u001b[1;34m(self, target, method, limit, tolerance)\u001b[0m\n\u001b[0;32m   3804\u001b[0m         \u001b[38;5;66;03m# error: \"IndexEngine\" has no attribute \"_extract_level_codes\"\u001b[39;00m\n\u001b[0;32m   3805\u001b[0m         tgt_values \u001b[38;5;241m=\u001b[39m engine\u001b[38;5;241m.\u001b[39m_extract_level_codes(  \u001b[38;5;66;03m# type: ignore[attr-defined]\u001b[39;00m\n\u001b[0;32m   3806\u001b[0m             target\n\u001b[0;32m   3807\u001b[0m         )\n\u001b[1;32m-> 3809\u001b[0m     indexer \u001b[38;5;241m=\u001b[39m \u001b[38;5;28;43mself\u001b[39;49m\u001b[38;5;241;43m.\u001b[39;49m\u001b[43m_engine\u001b[49m\u001b[38;5;241;43m.\u001b[39;49m\u001b[43mget_indexer\u001b[49m\u001b[43m(\u001b[49m\u001b[43mtgt_values\u001b[49m\u001b[43m)\u001b[49m\n\u001b[0;32m   3811\u001b[0m \u001b[38;5;28;01mreturn\u001b[39;00m ensure_platform_int(indexer)\n",
      "File \u001b[1;32m~\\anaconda3\\envs\\datascience\\lib\\site-packages\\pandas\\_libs\\index.pyx:305\u001b[0m, in \u001b[0;36mpandas._libs.index.IndexEngine.get_indexer\u001b[1;34m()\u001b[0m\n",
      "File \u001b[1;32mpandas\\_libs\\hashtable_class_helper.pxi:5247\u001b[0m, in \u001b[0;36mpandas._libs.hashtable.PyObjectHashTable.lookup\u001b[1;34m()\u001b[0m\n",
      "\u001b[1;31mTypeError\u001b[0m: unhashable type: 'DataFrame'"
     ]
    }
   ],
   "source": [
    "rev.groupby('course_title')"
   ]
  },
  {
   "cell_type": "code",
   "execution_count": null,
   "id": "8774661e",
   "metadata": {},
   "outputs": [],
   "source": []
  },
  {
   "cell_type": "code",
   "execution_count": 77,
   "id": "18ea89f3",
   "metadata": {
    "ExecuteTime": {
     "end_time": "2022-07-01T09:44:10.735647Z",
     "start_time": "2022-07-01T09:44:10.711869Z"
    },
    "collapsed": true
   },
   "outputs": [
    {
     "data": {
      "text/html": [
       "<div>\n",
       "<style scoped>\n",
       "    .dataframe tbody tr th:only-of-type {\n",
       "        vertical-align: middle;\n",
       "    }\n",
       "\n",
       "    .dataframe tbody tr th {\n",
       "        vertical-align: top;\n",
       "    }\n",
       "\n",
       "    .dataframe thead th {\n",
       "        text-align: right;\n",
       "    }\n",
       "</style>\n",
       "<table border=\"1\" class=\"dataframe\">\n",
       "  <thead>\n",
       "    <tr style=\"text-align: right;\">\n",
       "      <th></th>\n",
       "      <th>course_title</th>\n",
       "    </tr>\n",
       "  </thead>\n",
       "  <tbody>\n",
       "    <tr>\n",
       "      <th>초격차 패키지 : 한 번에 끝내는 프론트엔드 개발</th>\n",
       "      <td>1539</td>\n",
       "    </tr>\n",
       "    <tr>\n",
       "      <th>초격차 패키지 : 한번에 끝내는 Java/Spring 웹 개발 마스터</th>\n",
       "      <td>1510</td>\n",
       "    </tr>\n",
       "    <tr>\n",
       "      <th>초격차 패키지 : 한번에 끝내는 영상 촬영과 편집</th>\n",
       "      <td>1263</td>\n",
       "    </tr>\n",
       "    <tr>\n",
       "      <th>The RED : 김영하 작가의 내 안의 숨은 이야기를 찾아 쓰는 법</th>\n",
       "      <td>1111</td>\n",
       "    </tr>\n",
       "    <tr>\n",
       "      <th>초격차 패키지 : 한 번에 끝내는 node.js 웹 프로그래밍</th>\n",
       "      <td>881</td>\n",
       "    </tr>\n",
       "    <tr>\n",
       "      <th>나의 칼퇴치트키 엑셀유치원</th>\n",
       "      <td>824</td>\n",
       "    </tr>\n",
       "    <tr>\n",
       "      <th>올인원 패키지 : star741의 캐주얼 일러스트 드로잉</th>\n",
       "      <td>749</td>\n",
       "    </tr>\n",
       "    <tr>\n",
       "      <th>초격차 패키지 : 한번에 끝내는 디자인 툴</th>\n",
       "      <td>728</td>\n",
       "    </tr>\n",
       "    <tr>\n",
       "      <th>올인원 패키지 : 김민태의 프론트엔드 아카데미 : 제 1강 JavaScript &amp; TypeScript Essential</th>\n",
       "      <td>699</td>\n",
       "    </tr>\n",
       "    <tr>\n",
       "      <th>초격차 패키지 : 한 번에 끝내는 엑셀 실무</th>\n",
       "      <td>687</td>\n",
       "    </tr>\n",
       "  </tbody>\n",
       "</table>\n",
       "</div>"
      ],
      "text/plain": [
       "                                                    course_title\n",
       "초격차 패키지 : 한 번에 끝내는 프론트엔드 개발                                 1539\n",
       "초격차 패키지 : 한번에 끝내는 Java/Spring 웹 개발 마스터                      1510\n",
       "초격차 패키지 : 한번에 끝내는 영상 촬영과 편집                                 1263\n",
       "The RED : 김영하 작가의 내 안의 숨은 이야기를 찾아 쓰는 법                      1111\n",
       "초격차 패키지 : 한 번에 끝내는 node.js 웹 프로그래밍                           881\n",
       "나의 칼퇴치트키 엑셀유치원                                               824\n",
       "올인원 패키지 : star741의 캐주얼 일러스트 드로잉                              749\n",
       "초격차 패키지 : 한번에 끝내는 디자인 툴                                      728\n",
       "올인원 패키지 : 김민태의 프론트엔드 아카데미 : 제 1강 JavaScript & T...           699\n",
       "초격차 패키지 : 한 번에 끝내는 엑셀 실무                                     687"
      ]
     },
     "execution_count": 77,
     "metadata": {},
     "output_type": "execute_result"
    }
   ],
   "source": [
    "course_top_df = pd.DataFrame(rev.course_title.value_counts()[:10])\n",
    "course_top_df"
   ]
  },
  {
   "cell_type": "markdown",
   "id": "1ac09283",
   "metadata": {},
   "source": []
  },
  {
   "cell_type": "markdown",
   "id": "5987700e",
   "metadata": {},
   "source": []
  },
  {
   "cell_type": "code",
   "execution_count": 70,
   "id": "3d0c7a2f",
   "metadata": {
    "ExecuteTime": {
     "end_time": "2022-07-01T08:45:39.786141Z",
     "start_time": "2022-07-01T08:45:39.769188Z"
    }
   },
   "outputs": [
    {
     "data": {
      "text/plain": [
       "584"
      ]
     },
     "execution_count": 70,
     "metadata": {},
     "output_type": "execute_result"
    }
   ],
   "source": [
    "rev_course_du_drop.course_title.value_counts().sum()"
   ]
  },
  {
   "cell_type": "markdown",
   "id": "91a43677",
   "metadata": {},
   "source": [
    "## 전체 카테고리 수"
   ]
  },
  {
   "cell_type": "markdown",
   "id": "56c7194e",
   "metadata": {},
   "source": [
    "## 가장많은(적은) 매출을 올린 강의 및 탑 10강의 매출추이"
   ]
  },
  {
   "cell_type": "markdown",
   "id": "41220109",
   "metadata": {},
   "source": [
    "### 매출 상위 1~10위 까지의  강의  목록 "
   ]
  },
  {
   "cell_type": "markdown",
   "id": "143ad8ce",
   "metadata": {},
   "source": [
    "### 매출 상위 1~10위 강의 매출 추이 그래프(6개월간)"
   ]
  },
  {
   "cell_type": "markdown",
   "id": "37400734",
   "metadata": {},
   "source": [
    "### 매출 하위 1~10위 강의목록"
   ]
  },
  {
   "cell_type": "markdown",
   "id": "5dbb8c28",
   "metadata": {},
   "source": [
    "### 매출 하위 1~10위 강의 매출 추이 그래프(6개월간)"
   ]
  },
  {
   "cell_type": "markdown",
   "id": "802928f7",
   "metadata": {},
   "source": [
    "## 가장많은(적은) 매출을 올린 카테고리 탑 10카테고리 매출추이"
   ]
  },
  {
   "cell_type": "markdown",
   "id": "b73e5c5a",
   "metadata": {},
   "source": [
    "### 매출 상위 1~10위 까지의  카테고리  목록"
   ]
  },
  {
   "cell_type": "markdown",
   "id": "99a4fb24",
   "metadata": {},
   "source": [
    "### 매출 상위 1~10위 카테고리 매출 추이 그래프(6개월간)"
   ]
  },
  {
   "cell_type": "markdown",
   "id": "b9a006b2",
   "metadata": {},
   "source": [
    "### 매출 하위 1~10위 카테고리목록"
   ]
  },
  {
   "cell_type": "markdown",
   "id": "13ede8b0",
   "metadata": {},
   "source": [
    "### 매출 하위 1~10위 카테고리 매출 추이 그래프(6개월간)"
   ]
  },
  {
   "cell_type": "markdown",
   "id": "4d84c831",
   "metadata": {},
   "source": [
    "# 수강 신청 행동 패턴 분석"
   ]
  },
  {
   "cell_type": "markdown",
   "id": "db7bb03d",
   "metadata": {},
   "source": [
    "## cancelled 가장 많은 강좌(구매가 많은게 환불이 많은가? 주의)"
   ]
  },
  {
   "cell_type": "markdown",
   "id": "8f06412d",
   "metadata": {},
   "source": [
    "### 취소가 많은  1~20위 까지의  강의  목록(cancelled)"
   ]
  },
  {
   "cell_type": "markdown",
   "id": "f2fa8966",
   "metadata": {},
   "source": [
    "### 취소가 가장 적은 1~20위 강의 목록"
   ]
  },
  {
   "cell_type": "markdown",
   "id": "4c0d021f",
   "metadata": {},
   "source": [
    "### 환불이 많은  1~20위 까지의  강의  목록(refund)"
   ]
  },
  {
   "cell_type": "markdown",
   "id": "a7bc00ac",
   "metadata": {},
   "source": [
    "### 환불률이 가장 적은 1~20위 강의 목록"
   ]
  },
  {
   "cell_type": "markdown",
   "id": "7f33435e",
   "metadata": {},
   "source": [
    "### 구매률과 환불률의 상관관계"
   ]
  },
  {
   "cell_type": "markdown",
   "id": "dbf16318",
   "metadata": {},
   "source": [
    "# PG사 목록"
   ]
  },
  {
   "cell_type": "markdown",
   "id": "0b463f27",
   "metadata": {},
   "source": [
    "## 기존 PG사 vs 신규 pg사 점유율 현황"
   ]
  },
  {
   "cell_type": "markdown",
   "id": "5f6cf687",
   "metadata": {},
   "source": [
    "### 기존 PG사 vs 신규 pg사 기간별 점유율 변동 변화추이"
   ]
  },
  {
   "cell_type": "markdown",
   "id": "397fc765",
   "metadata": {},
   "source": [
    "# VIP그룹 분석"
   ]
  },
  {
   "cell_type": "markdown",
   "id": "bbcce57b",
   "metadata": {},
   "source": [
    "## VIP 그룹 정의"
   ]
  },
  {
   "cell_type": "markdown",
   "id": "2969f67b",
   "metadata": {},
   "source": [
    "## 일반 고객 평균 결제 횟수 vs VIP 고객 평균 결제 횟수"
   ]
  },
  {
   "cell_type": "markdown",
   "id": "02dd3f3c",
   "metadata": {},
   "source": [
    "## VIP 그룹 특징"
   ]
  },
  {
   "cell_type": "markdown",
   "id": "cada2ef7",
   "metadata": {},
   "source": [
    "# 쿠폰 사용 분석"
   ]
  },
  {
   "cell_type": "markdown",
   "id": "08611340",
   "metadata": {},
   "source": [
    "## 전체구매건 중 쿠폰사용한 구매비율"
   ]
  },
  {
   "cell_type": "markdown",
   "id": "7111e7d5",
   "metadata": {},
   "source": [
    "## 매출에 대한 쿠폰의 중요도 분석"
   ]
  },
  {
   "cell_type": "markdown",
   "id": "677f1548",
   "metadata": {},
   "source": [
    "# 패키지 강의 vs 단품 강의"
   ]
  },
  {
   "cell_type": "markdown",
   "id": "d7c66b55",
   "metadata": {},
   "source": [
    "# 레드는 과연 성공했는가?"
   ]
  },
  {
   "cell_type": "code",
   "execution_count": null,
   "id": "9fd2e22a",
   "metadata": {},
   "outputs": [],
   "source": []
  },
  {
   "cell_type": "code",
   "execution_count": null,
   "id": "2322dd95",
   "metadata": {},
   "outputs": [],
   "source": []
  },
  {
   "cell_type": "code",
   "execution_count": null,
   "id": "f2f272af",
   "metadata": {},
   "outputs": [],
   "source": []
  },
  {
   "cell_type": "code",
   "execution_count": null,
   "id": "9cc18912",
   "metadata": {},
   "outputs": [],
   "source": []
  },
  {
   "cell_type": "code",
   "execution_count": null,
   "id": "d9dfd20b",
   "metadata": {},
   "outputs": [],
   "source": []
  }
 ],
 "metadata": {
  "kernelspec": {
   "display_name": "Python 3 (ipykernel)",
   "language": "python",
   "name": "python3"
  },
  "language_info": {
   "codemirror_mode": {
    "name": "ipython",
    "version": 3
   },
   "file_extension": ".py",
   "mimetype": "text/x-python",
   "name": "python",
   "nbconvert_exporter": "python",
   "pygments_lexer": "ipython3",
   "version": "3.9.12"
  },
  "toc": {
   "base_numbering": 1,
   "nav_menu": {},
   "number_sections": true,
   "sideBar": true,
   "skip_h1_title": false,
   "title_cell": "Table of Contents",
   "title_sidebar": "Contents",
   "toc_cell": false,
   "toc_position": {},
   "toc_section_display": true,
   "toc_window_display": true
  },
  "varInspector": {
   "cols": {
    "lenName": 16,
    "lenType": 16,
    "lenVar": 40
   },
   "kernels_config": {
    "python": {
     "delete_cmd_postfix": "",
     "delete_cmd_prefix": "del ",
     "library": "var_list.py",
     "varRefreshCmd": "print(var_dic_list())"
    },
    "r": {
     "delete_cmd_postfix": ") ",
     "delete_cmd_prefix": "rm(",
     "library": "var_list.r",
     "varRefreshCmd": "cat(var_dic_list()) "
    }
   },
   "types_to_exclude": [
    "module",
    "function",
    "builtin_function_or_method",
    "instance",
    "_Feature"
   ],
   "window_display": false
  }
 },
 "nbformat": 4,
 "nbformat_minor": 5
}

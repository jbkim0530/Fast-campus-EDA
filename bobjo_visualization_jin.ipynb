{
 "cells": [
  {
   "cell_type": "code",
   "execution_count": 1,
   "id": "34d8d9cc",
   "metadata": {
    "ExecuteTime": {
     "end_time": "2022-07-01T07:54:19.666277Z",
     "start_time": "2022-07-01T07:54:19.644829Z"
    }
   },
   "outputs": [],
   "source": [
    "import numpy as np\n",
    "import pandas as pd\n",
    "import matplotlib.pyplot as plt\n",
    "import seaborn as sns\n",
    "import datetime\n",
    "from matplotlib import font_manager, rc\n",
    "\n",
    "plt.rcParams['font.family'] = 'NanumGothic'\n"
   ]
  },
  {
   "cell_type": "code",
   "execution_count": 2,
   "id": "3c04fb41",
   "metadata": {
    "ExecuteTime": {
     "end_time": "2022-07-01T07:54:21.147688Z",
     "start_time": "2022-07-01T07:54:20.200375Z"
    }
   },
   "outputs": [],
   "source": [
    "# 파일 불러오기\n",
    "df = pd.read_csv('./2022-06-29_last_bab.csv')\n"
   ]
  },
  {
   "cell_type": "code",
   "execution_count": 3,
   "id": "d641ff3d",
   "metadata": {},
   "outputs": [],
   "source": [
    "# miner한 전처리\n",
    "df.loc[(df.category_title == '데이터 사이언스'), 'category_title'] = '데이터사이언스'"
   ]
  },
  {
   "cell_type": "markdown",
   "id": "1395fd0a",
   "metadata": {},
   "source": [
    "# OVER VIEW"
   ]
  },
  {
   "cell_type": "code",
   "execution_count": 4,
   "id": "b3a13882",
   "metadata": {
    "ExecuteTime": {
     "end_time": "2022-07-01T07:54:22.094502Z",
     "start_time": "2022-07-01T07:54:22.065255Z"
    }
   },
   "outputs": [
    {
     "data": {
      "text/html": [
       "<div>\n",
       "<style scoped>\n",
       "    .dataframe tbody tr th:only-of-type {\n",
       "        vertical-align: middle;\n",
       "    }\n",
       "\n",
       "    .dataframe tbody tr th {\n",
       "        vertical-align: top;\n",
       "    }\n",
       "\n",
       "    .dataframe thead th {\n",
       "        text-align: right;\n",
       "    }\n",
       "</style>\n",
       "<table border=\"1\" class=\"dataframe\">\n",
       "  <thead>\n",
       "    <tr style=\"text-align: right;\">\n",
       "      <th></th>\n",
       "      <th>Unnamed: 0</th>\n",
       "      <th>id</th>\n",
       "      <th>customer_id</th>\n",
       "      <th>course_id</th>\n",
       "      <th>type</th>\n",
       "      <th>state</th>\n",
       "      <th>course_title</th>\n",
       "      <th>category_title</th>\n",
       "      <th>format</th>\n",
       "      <th>completed_at</th>\n",
       "      <th>transaction_amount</th>\n",
       "      <th>coupon_title</th>\n",
       "      <th>coupon_discount_amount</th>\n",
       "      <th>sale_price</th>\n",
       "      <th>pg</th>\n",
       "      <th>method</th>\n",
       "      <th>subcategory_title</th>\n",
       "      <th>marketing_start_at</th>\n",
       "    </tr>\n",
       "  </thead>\n",
       "  <tbody>\n",
       "    <tr>\n",
       "      <th>0</th>\n",
       "      <td>0</td>\n",
       "      <td>970634</td>\n",
       "      <td>504760</td>\n",
       "      <td>201435</td>\n",
       "      <td>ORDER</td>\n",
       "      <td>CANCELLED</td>\n",
       "      <td>올인원 패키지 : 알고리즘 기술면접 완전 정복</td>\n",
       "      <td>프로그래밍</td>\n",
       "      <td>올인원</td>\n",
       "      <td>2021-03-28 15:00:11</td>\n",
       "      <td>90500</td>\n",
       "      <td>미적용</td>\n",
       "      <td>0</td>\n",
       "      <td>110500</td>\n",
       "      <td>COMM</td>\n",
       "      <td>VBANK</td>\n",
       "      <td>개발자 커리어</td>\n",
       "      <td>2018-11-11 00:00:00</td>\n",
       "    </tr>\n",
       "    <tr>\n",
       "      <th>1</th>\n",
       "      <td>1</td>\n",
       "      <td>970650</td>\n",
       "      <td>432862</td>\n",
       "      <td>203178</td>\n",
       "      <td>ORDER</td>\n",
       "      <td>CANCELLED</td>\n",
       "      <td>초격차 패키지 : 한번에 끝내는 영상 촬영과 편집</td>\n",
       "      <td>영상/3D</td>\n",
       "      <td>올인원</td>\n",
       "      <td>2021-03-28 15:16:53</td>\n",
       "      <td>96000</td>\n",
       "      <td>미적용</td>\n",
       "      <td>0</td>\n",
       "      <td>116000</td>\n",
       "      <td>COMM</td>\n",
       "      <td>CARD</td>\n",
       "      <td>영상 편집</td>\n",
       "      <td>2020-12-02 00:00:00</td>\n",
       "    </tr>\n",
       "    <tr>\n",
       "      <th>2</th>\n",
       "      <td>2</td>\n",
       "      <td>970657</td>\n",
       "      <td>72297</td>\n",
       "      <td>204246</td>\n",
       "      <td>PAYMENT</td>\n",
       "      <td>COMPLETED</td>\n",
       "      <td>시크릿코드 : 프론트엔드 실무 완성편</td>\n",
       "      <td>프로그래밍</td>\n",
       "      <td>스쿨 온라인</td>\n",
       "      <td>2021-03-28 15:21:43</td>\n",
       "      <td>171810</td>\n",
       "      <td>[10% 할인] 시크릿코드 실무 완성편</td>\n",
       "      <td>19090</td>\n",
       "      <td>190900</td>\n",
       "      <td>COMM</td>\n",
       "      <td>CARD</td>\n",
       "      <td>프로그래밍</td>\n",
       "      <td>2021-03-04 00:00:00</td>\n",
       "    </tr>\n",
       "    <tr>\n",
       "      <th>3</th>\n",
       "      <td>3</td>\n",
       "      <td>970656</td>\n",
       "      <td>72297</td>\n",
       "      <td>204246</td>\n",
       "      <td>ORDER</td>\n",
       "      <td>CANCELLED</td>\n",
       "      <td>시크릿코드 : 프론트엔드 실무 완성편</td>\n",
       "      <td>프로그래밍</td>\n",
       "      <td>스쿨 온라인</td>\n",
       "      <td>2021-03-28 15:21:43</td>\n",
       "      <td>171810</td>\n",
       "      <td>미적용</td>\n",
       "      <td>0</td>\n",
       "      <td>190900</td>\n",
       "      <td>COMM</td>\n",
       "      <td>CARD</td>\n",
       "      <td>프로그래밍</td>\n",
       "      <td>2021-03-04 00:00:00</td>\n",
       "    </tr>\n",
       "    <tr>\n",
       "      <th>4</th>\n",
       "      <td>4</td>\n",
       "      <td>970658</td>\n",
       "      <td>478028</td>\n",
       "      <td>201797</td>\n",
       "      <td>PAYMENT</td>\n",
       "      <td>COMPLETED</td>\n",
       "      <td>올인원 패키지 : 직장인 필수 스킬 3종 세트 MAX</td>\n",
       "      <td>업무 생산성</td>\n",
       "      <td>올인원</td>\n",
       "      <td>2021-03-28 15:21:54</td>\n",
       "      <td>97500</td>\n",
       "      <td>[웰컴쿠폰] 올인원 패키지 2만원 할인 쿠폰</td>\n",
       "      <td>20000</td>\n",
       "      <td>117500</td>\n",
       "      <td>COMM</td>\n",
       "      <td>CARD</td>\n",
       "      <td>PPT/보고서</td>\n",
       "      <td>2019-11-14 00:00:00</td>\n",
       "    </tr>\n",
       "  </tbody>\n",
       "</table>\n",
       "</div>"
      ],
      "text/plain": [
       "   Unnamed: 0      id  customer_id  course_id     type      state  \\\n",
       "0           0  970634       504760     201435    ORDER  CANCELLED   \n",
       "1           1  970650       432862     203178    ORDER  CANCELLED   \n",
       "2           2  970657        72297     204246  PAYMENT  COMPLETED   \n",
       "3           3  970656        72297     204246    ORDER  CANCELLED   \n",
       "4           4  970658       478028     201797  PAYMENT  COMPLETED   \n",
       "\n",
       "                    course_title category_title  format         completed_at  \\\n",
       "0      올인원 패키지 : 알고리즘 기술면접 완전 정복          프로그래밍     올인원  2021-03-28 15:00:11   \n",
       "1    초격차 패키지 : 한번에 끝내는 영상 촬영과 편집          영상/3D     올인원  2021-03-28 15:16:53   \n",
       "2           시크릿코드 : 프론트엔드 실무 완성편          프로그래밍  스쿨 온라인  2021-03-28 15:21:43   \n",
       "3           시크릿코드 : 프론트엔드 실무 완성편          프로그래밍  스쿨 온라인  2021-03-28 15:21:43   \n",
       "4  올인원 패키지 : 직장인 필수 스킬 3종 세트 MAX         업무 생산성     올인원  2021-03-28 15:21:54   \n",
       "\n",
       "   transaction_amount              coupon_title  coupon_discount_amount  \\\n",
       "0               90500                       미적용                       0   \n",
       "1               96000                       미적용                       0   \n",
       "2              171810     [10% 할인] 시크릿코드 실무 완성편                   19090   \n",
       "3              171810                       미적용                       0   \n",
       "4               97500  [웰컴쿠폰] 올인원 패키지 2만원 할인 쿠폰                   20000   \n",
       "\n",
       "   sale_price    pg method subcategory_title   marketing_start_at  \n",
       "0      110500  COMM  VBANK           개발자 커리어  2018-11-11 00:00:00  \n",
       "1      116000  COMM   CARD             영상 편집  2020-12-02 00:00:00  \n",
       "2      190900  COMM   CARD             프로그래밍  2021-03-04 00:00:00  \n",
       "3      190900  COMM   CARD             프로그래밍  2021-03-04 00:00:00  \n",
       "4      117500  COMM   CARD           PPT/보고서  2019-11-14 00:00:00  "
      ]
     },
     "execution_count": 4,
     "metadata": {},
     "output_type": "execute_result"
    }
   ],
   "source": [
    "df.head()"
   ]
  },
  {
   "cell_type": "code",
   "execution_count": 5,
   "id": "2605988a",
   "metadata": {
    "ExecuteTime": {
     "end_time": "2022-07-01T07:54:23.082525Z",
     "start_time": "2022-07-01T07:54:22.773505Z"
    },
    "scrolled": true
   },
   "outputs": [
    {
     "name": "stdout",
     "output_type": "stream",
     "text": [
      "<class 'pandas.core.frame.DataFrame'>\n",
      "RangeIndex: 101102 entries, 0 to 101101\n",
      "Data columns (total 18 columns):\n",
      " #   Column                  Non-Null Count   Dtype \n",
      "---  ------                  --------------   ----- \n",
      " 0   Unnamed: 0              101102 non-null  int64 \n",
      " 1   id                      101102 non-null  int64 \n",
      " 2   customer_id             101102 non-null  int64 \n",
      " 3   course_id               101102 non-null  int64 \n",
      " 4   type                    101102 non-null  object\n",
      " 5   state                   101102 non-null  object\n",
      " 6   course_title            101102 non-null  object\n",
      " 7   category_title          101102 non-null  object\n",
      " 8   format                  101102 non-null  object\n",
      " 9   completed_at            101102 non-null  object\n",
      " 10  transaction_amount      101102 non-null  int64 \n",
      " 11  coupon_title            101102 non-null  object\n",
      " 12  coupon_discount_amount  101102 non-null  int64 \n",
      " 13  sale_price              101102 non-null  int64 \n",
      " 14  pg                      101102 non-null  object\n",
      " 15  method                  101102 non-null  object\n",
      " 16  subcategory_title       101102 non-null  object\n",
      " 17  marketing_start_at      101102 non-null  object\n",
      "dtypes: int64(7), object(11)\n",
      "memory usage: 13.9+ MB\n"
     ]
    }
   ],
   "source": [
    "# overview\n",
    "df.info()"
   ]
  },
  {
   "cell_type": "markdown",
   "id": "ac14dc40",
   "metadata": {},
   "source": [
    "> 101102 row , 13.94mb, no Nan data"
   ]
  },
  {
   "cell_type": "code",
   "execution_count": 6,
   "id": "85075d80",
   "metadata": {
    "ExecuteTime": {
     "end_time": "2022-07-01T07:54:24.139609Z",
     "start_time": "2022-07-01T07:54:24.080909Z"
    }
   },
   "outputs": [
    {
     "data": {
      "text/html": [
       "<div>\n",
       "<style scoped>\n",
       "    .dataframe tbody tr th:only-of-type {\n",
       "        vertical-align: middle;\n",
       "    }\n",
       "\n",
       "    .dataframe tbody tr th {\n",
       "        vertical-align: top;\n",
       "    }\n",
       "\n",
       "    .dataframe thead th {\n",
       "        text-align: right;\n",
       "    }\n",
       "</style>\n",
       "<table border=\"1\" class=\"dataframe\">\n",
       "  <thead>\n",
       "    <tr style=\"text-align: right;\">\n",
       "      <th></th>\n",
       "      <th>Unnamed: 0</th>\n",
       "      <th>id</th>\n",
       "      <th>customer_id</th>\n",
       "      <th>course_id</th>\n",
       "      <th>transaction_amount</th>\n",
       "      <th>coupon_discount_amount</th>\n",
       "      <th>sale_price</th>\n",
       "    </tr>\n",
       "  </thead>\n",
       "  <tbody>\n",
       "    <tr>\n",
       "      <th>count</th>\n",
       "      <td>101102.000000</td>\n",
       "      <td>1.011020e+05</td>\n",
       "      <td>101102.000000</td>\n",
       "      <td>101102.000000</td>\n",
       "      <td>1.011020e+05</td>\n",
       "      <td>101102.000000</td>\n",
       "      <td>1.011020e+05</td>\n",
       "    </tr>\n",
       "    <tr>\n",
       "      <th>mean</th>\n",
       "      <td>50886.347708</td>\n",
       "      <td>1.145511e+06</td>\n",
       "      <td>415909.561997</td>\n",
       "      <td>208729.604815</td>\n",
       "      <td>1.286851e+05</td>\n",
       "      <td>14423.185199</td>\n",
       "      <td>1.592345e+05</td>\n",
       "    </tr>\n",
       "    <tr>\n",
       "      <th>std</th>\n",
       "      <td>29393.569867</td>\n",
       "      <td>1.125048e+05</td>\n",
       "      <td>206627.373238</td>\n",
       "      <td>21281.637839</td>\n",
       "      <td>1.299967e+05</td>\n",
       "      <td>35684.365000</td>\n",
       "      <td>1.147219e+05</td>\n",
       "    </tr>\n",
       "    <tr>\n",
       "      <th>min</th>\n",
       "      <td>0.000000</td>\n",
       "      <td>5.679930e+05</td>\n",
       "      <td>16.000000</td>\n",
       "      <td>2516.000000</td>\n",
       "      <td>-1.800000e+06</td>\n",
       "      <td>0.000000</td>\n",
       "      <td>0.000000e+00</td>\n",
       "    </tr>\n",
       "    <tr>\n",
       "      <th>25%</th>\n",
       "      <td>25411.250000</td>\n",
       "      <td>1.047142e+06</td>\n",
       "      <td>228975.000000</td>\n",
       "      <td>203146.000000</td>\n",
       "      <td>8.900000e+04</td>\n",
       "      <td>0.000000</td>\n",
       "      <td>1.100000e+05</td>\n",
       "    </tr>\n",
       "    <tr>\n",
       "      <th>50%</th>\n",
       "      <td>50899.500000</td>\n",
       "      <td>1.133842e+06</td>\n",
       "      <td>500265.500000</td>\n",
       "      <td>203787.000000</td>\n",
       "      <td>1.190000e+05</td>\n",
       "      <td>0.000000</td>\n",
       "      <td>1.340000e+05</td>\n",
       "    </tr>\n",
       "    <tr>\n",
       "      <th>75%</th>\n",
       "      <td>76337.750000</td>\n",
       "      <td>1.238848e+06</td>\n",
       "      <td>565941.000000</td>\n",
       "      <td>204870.000000</td>\n",
       "      <td>1.584000e+05</td>\n",
       "      <td>10000.000000</td>\n",
       "      <td>1.710000e+05</td>\n",
       "    </tr>\n",
       "    <tr>\n",
       "      <th>max</th>\n",
       "      <td>101817.000000</td>\n",
       "      <td>1.381657e+06</td>\n",
       "      <td>670896.000000</td>\n",
       "      <td>300000.000000</td>\n",
       "      <td>1.800000e+06</td>\n",
       "      <td>674000.000000</td>\n",
       "      <td>1.800000e+06</td>\n",
       "    </tr>\n",
       "  </tbody>\n",
       "</table>\n",
       "</div>"
      ],
      "text/plain": [
       "          Unnamed: 0            id    customer_id      course_id  \\\n",
       "count  101102.000000  1.011020e+05  101102.000000  101102.000000   \n",
       "mean    50886.347708  1.145511e+06  415909.561997  208729.604815   \n",
       "std     29393.569867  1.125048e+05  206627.373238   21281.637839   \n",
       "min         0.000000  5.679930e+05      16.000000    2516.000000   \n",
       "25%     25411.250000  1.047142e+06  228975.000000  203146.000000   \n",
       "50%     50899.500000  1.133842e+06  500265.500000  203787.000000   \n",
       "75%     76337.750000  1.238848e+06  565941.000000  204870.000000   \n",
       "max    101817.000000  1.381657e+06  670896.000000  300000.000000   \n",
       "\n",
       "       transaction_amount  coupon_discount_amount    sale_price  \n",
       "count        1.011020e+05           101102.000000  1.011020e+05  \n",
       "mean         1.286851e+05            14423.185199  1.592345e+05  \n",
       "std          1.299967e+05            35684.365000  1.147219e+05  \n",
       "min         -1.800000e+06                0.000000  0.000000e+00  \n",
       "25%          8.900000e+04                0.000000  1.100000e+05  \n",
       "50%          1.190000e+05                0.000000  1.340000e+05  \n",
       "75%          1.584000e+05            10000.000000  1.710000e+05  \n",
       "max          1.800000e+06           674000.000000  1.800000e+06  "
      ]
     },
     "execution_count": 6,
     "metadata": {},
     "output_type": "execute_result"
    }
   ],
   "source": [
    "# overview\n",
    "df.describe()"
   ]
  },
  {
   "cell_type": "markdown",
   "id": "6f1f6f24",
   "metadata": {},
   "source": [
    "# 매출 분석"
   ]
  },
  {
   "cell_type": "markdown",
   "id": "067228e5",
   "metadata": {},
   "source": [
    "## 매출 정의"
   ]
  },
  {
   "cell_type": "markdown",
   "id": "f35aafa3",
   "metadata": {},
   "source": [
    "> 매출은 'type' 컬럼의 값이 'PAYMENT' 또는 'REFUND' 이면서 'state' 컬럼의 값이 'COMPLETED' 인 값들의 합으로 정의"
   ]
  },
  {
   "cell_type": "markdown",
   "id": "ec54f1a2",
   "metadata": {},
   "source": [
    "### 총 매출 구하기"
   ]
  },
  {
   "cell_type": "code",
   "execution_count": 7,
   "id": "14db4dd6",
   "metadata": {
    "ExecuteTime": {
     "end_time": "2022-07-01T07:54:26.769942Z",
     "start_time": "2022-07-01T07:54:26.653144Z"
    }
   },
   "outputs": [],
   "source": [
    "# completed_at 컬럼 타입을 datetime으로 변경\n",
    "df['completed_at'] = pd.to_datetime(df['completed_at'])"
   ]
  },
  {
   "cell_type": "code",
   "execution_count": 8,
   "id": "bdb724c8",
   "metadata": {
    "ExecuteTime": {
     "end_time": "2022-07-01T07:54:27.283622Z",
     "start_time": "2022-07-01T07:54:27.250726Z"
    },
    "scrolled": false
   },
   "outputs": [
    {
     "data": {
      "text/html": [
       "<div>\n",
       "<style scoped>\n",
       "    .dataframe tbody tr th:only-of-type {\n",
       "        vertical-align: middle;\n",
       "    }\n",
       "\n",
       "    .dataframe tbody tr th {\n",
       "        vertical-align: top;\n",
       "    }\n",
       "\n",
       "    .dataframe thead th {\n",
       "        text-align: right;\n",
       "    }\n",
       "</style>\n",
       "<table border=\"1\" class=\"dataframe\">\n",
       "  <thead>\n",
       "    <tr style=\"text-align: right;\">\n",
       "      <th></th>\n",
       "      <th>Unnamed: 0</th>\n",
       "      <th>id</th>\n",
       "      <th>customer_id</th>\n",
       "      <th>course_id</th>\n",
       "      <th>type</th>\n",
       "      <th>state</th>\n",
       "      <th>course_title</th>\n",
       "      <th>category_title</th>\n",
       "      <th>format</th>\n",
       "      <th>transaction_amount</th>\n",
       "      <th>coupon_title</th>\n",
       "      <th>coupon_discount_amount</th>\n",
       "      <th>sale_price</th>\n",
       "      <th>pg</th>\n",
       "      <th>method</th>\n",
       "      <th>subcategory_title</th>\n",
       "      <th>marketing_start_at</th>\n",
       "    </tr>\n",
       "    <tr>\n",
       "      <th>completed_at</th>\n",
       "      <th></th>\n",
       "      <th></th>\n",
       "      <th></th>\n",
       "      <th></th>\n",
       "      <th></th>\n",
       "      <th></th>\n",
       "      <th></th>\n",
       "      <th></th>\n",
       "      <th></th>\n",
       "      <th></th>\n",
       "      <th></th>\n",
       "      <th></th>\n",
       "      <th></th>\n",
       "      <th></th>\n",
       "      <th></th>\n",
       "      <th></th>\n",
       "      <th></th>\n",
       "    </tr>\n",
       "  </thead>\n",
       "  <tbody>\n",
       "    <tr>\n",
       "      <th>2021-03-28 15:00:11</th>\n",
       "      <td>0</td>\n",
       "      <td>970634</td>\n",
       "      <td>504760</td>\n",
       "      <td>201435</td>\n",
       "      <td>ORDER</td>\n",
       "      <td>CANCELLED</td>\n",
       "      <td>올인원 패키지 : 알고리즘 기술면접 완전 정복</td>\n",
       "      <td>프로그래밍</td>\n",
       "      <td>올인원</td>\n",
       "      <td>90500</td>\n",
       "      <td>미적용</td>\n",
       "      <td>0</td>\n",
       "      <td>110500</td>\n",
       "      <td>COMM</td>\n",
       "      <td>VBANK</td>\n",
       "      <td>개발자 커리어</td>\n",
       "      <td>2018-11-11 00:00:00</td>\n",
       "    </tr>\n",
       "    <tr>\n",
       "      <th>2021-03-28 15:16:53</th>\n",
       "      <td>1</td>\n",
       "      <td>970650</td>\n",
       "      <td>432862</td>\n",
       "      <td>203178</td>\n",
       "      <td>ORDER</td>\n",
       "      <td>CANCELLED</td>\n",
       "      <td>초격차 패키지 : 한번에 끝내는 영상 촬영과 편집</td>\n",
       "      <td>영상/3D</td>\n",
       "      <td>올인원</td>\n",
       "      <td>96000</td>\n",
       "      <td>미적용</td>\n",
       "      <td>0</td>\n",
       "      <td>116000</td>\n",
       "      <td>COMM</td>\n",
       "      <td>CARD</td>\n",
       "      <td>영상 편집</td>\n",
       "      <td>2020-12-02 00:00:00</td>\n",
       "    </tr>\n",
       "    <tr>\n",
       "      <th>2021-03-28 15:21:43</th>\n",
       "      <td>2</td>\n",
       "      <td>970657</td>\n",
       "      <td>72297</td>\n",
       "      <td>204246</td>\n",
       "      <td>PAYMENT</td>\n",
       "      <td>COMPLETED</td>\n",
       "      <td>시크릿코드 : 프론트엔드 실무 완성편</td>\n",
       "      <td>프로그래밍</td>\n",
       "      <td>스쿨 온라인</td>\n",
       "      <td>171810</td>\n",
       "      <td>[10% 할인] 시크릿코드 실무 완성편</td>\n",
       "      <td>19090</td>\n",
       "      <td>190900</td>\n",
       "      <td>COMM</td>\n",
       "      <td>CARD</td>\n",
       "      <td>프로그래밍</td>\n",
       "      <td>2021-03-04 00:00:00</td>\n",
       "    </tr>\n",
       "    <tr>\n",
       "      <th>2021-03-28 15:21:43</th>\n",
       "      <td>3</td>\n",
       "      <td>970656</td>\n",
       "      <td>72297</td>\n",
       "      <td>204246</td>\n",
       "      <td>ORDER</td>\n",
       "      <td>CANCELLED</td>\n",
       "      <td>시크릿코드 : 프론트엔드 실무 완성편</td>\n",
       "      <td>프로그래밍</td>\n",
       "      <td>스쿨 온라인</td>\n",
       "      <td>171810</td>\n",
       "      <td>미적용</td>\n",
       "      <td>0</td>\n",
       "      <td>190900</td>\n",
       "      <td>COMM</td>\n",
       "      <td>CARD</td>\n",
       "      <td>프로그래밍</td>\n",
       "      <td>2021-03-04 00:00:00</td>\n",
       "    </tr>\n",
       "    <tr>\n",
       "      <th>2021-03-28 15:21:54</th>\n",
       "      <td>4</td>\n",
       "      <td>970658</td>\n",
       "      <td>478028</td>\n",
       "      <td>201797</td>\n",
       "      <td>PAYMENT</td>\n",
       "      <td>COMPLETED</td>\n",
       "      <td>올인원 패키지 : 직장인 필수 스킬 3종 세트 MAX</td>\n",
       "      <td>업무 생산성</td>\n",
       "      <td>올인원</td>\n",
       "      <td>97500</td>\n",
       "      <td>[웰컴쿠폰] 올인원 패키지 2만원 할인 쿠폰</td>\n",
       "      <td>20000</td>\n",
       "      <td>117500</td>\n",
       "      <td>COMM</td>\n",
       "      <td>CARD</td>\n",
       "      <td>PPT/보고서</td>\n",
       "      <td>2019-11-14 00:00:00</td>\n",
       "    </tr>\n",
       "  </tbody>\n",
       "</table>\n",
       "</div>"
      ],
      "text/plain": [
       "                     Unnamed: 0      id  customer_id  course_id     type  \\\n",
       "completed_at                                                               \n",
       "2021-03-28 15:00:11           0  970634       504760     201435    ORDER   \n",
       "2021-03-28 15:16:53           1  970650       432862     203178    ORDER   \n",
       "2021-03-28 15:21:43           2  970657        72297     204246  PAYMENT   \n",
       "2021-03-28 15:21:43           3  970656        72297     204246    ORDER   \n",
       "2021-03-28 15:21:54           4  970658       478028     201797  PAYMENT   \n",
       "\n",
       "                         state                   course_title category_title  \\\n",
       "completed_at                                                                   \n",
       "2021-03-28 15:00:11  CANCELLED      올인원 패키지 : 알고리즘 기술면접 완전 정복          프로그래밍   \n",
       "2021-03-28 15:16:53  CANCELLED    초격차 패키지 : 한번에 끝내는 영상 촬영과 편집          영상/3D   \n",
       "2021-03-28 15:21:43  COMPLETED           시크릿코드 : 프론트엔드 실무 완성편          프로그래밍   \n",
       "2021-03-28 15:21:43  CANCELLED           시크릿코드 : 프론트엔드 실무 완성편          프로그래밍   \n",
       "2021-03-28 15:21:54  COMPLETED  올인원 패키지 : 직장인 필수 스킬 3종 세트 MAX         업무 생산성   \n",
       "\n",
       "                     format  transaction_amount              coupon_title  \\\n",
       "completed_at                                                                \n",
       "2021-03-28 15:00:11     올인원               90500                       미적용   \n",
       "2021-03-28 15:16:53     올인원               96000                       미적용   \n",
       "2021-03-28 15:21:43  스쿨 온라인              171810     [10% 할인] 시크릿코드 실무 완성편   \n",
       "2021-03-28 15:21:43  스쿨 온라인              171810                       미적용   \n",
       "2021-03-28 15:21:54     올인원               97500  [웰컴쿠폰] 올인원 패키지 2만원 할인 쿠폰   \n",
       "\n",
       "                     coupon_discount_amount  sale_price    pg method  \\\n",
       "completed_at                                                           \n",
       "2021-03-28 15:00:11                       0      110500  COMM  VBANK   \n",
       "2021-03-28 15:16:53                       0      116000  COMM   CARD   \n",
       "2021-03-28 15:21:43                   19090      190900  COMM   CARD   \n",
       "2021-03-28 15:21:43                       0      190900  COMM   CARD   \n",
       "2021-03-28 15:21:54                   20000      117500  COMM   CARD   \n",
       "\n",
       "                    subcategory_title   marketing_start_at  \n",
       "completed_at                                                \n",
       "2021-03-28 15:00:11           개발자 커리어  2018-11-11 00:00:00  \n",
       "2021-03-28 15:16:53             영상 편집  2020-12-02 00:00:00  \n",
       "2021-03-28 15:21:43             프로그래밍  2021-03-04 00:00:00  \n",
       "2021-03-28 15:21:43             프로그래밍  2021-03-04 00:00:00  \n",
       "2021-03-28 15:21:54           PPT/보고서  2019-11-14 00:00:00  "
      ]
     },
     "execution_count": 8,
     "metadata": {},
     "output_type": "execute_result"
    }
   ],
   "source": [
    "# completed_at 을 인덱스로 설정\n",
    "df.set_index('completed_at').head()"
   ]
  },
  {
   "cell_type": "code",
   "execution_count": 9,
   "id": "a5703abb",
   "metadata": {
    "ExecuteTime": {
     "end_time": "2022-07-01T07:54:27.738633Z",
     "start_time": "2022-07-01T07:54:27.700670Z"
    },
    "scrolled": true
   },
   "outputs": [
    {
     "data": {
      "text/plain": [
       "0         False\n",
       "1         False\n",
       "2         False\n",
       "3         False\n",
       "4         False\n",
       "          ...  \n",
       "101097    False\n",
       "101098    False\n",
       "101099    False\n",
       "101100    False\n",
       "101101    False\n",
       "Length: 101102, dtype: bool"
      ]
     },
     "execution_count": 9,
     "metadata": {},
     "output_type": "execute_result"
    }
   ],
   "source": [
    "((df.type == 'PAYMENT') & (df.type == 'REFUND') & (df.state == 'COMPLETED'))"
   ]
  },
  {
   "cell_type": "code",
   "execution_count": 10,
   "id": "220de8ac",
   "metadata": {
    "ExecuteTime": {
     "end_time": "2022-07-01T07:54:28.244060Z",
     "start_time": "2022-07-01T07:54:28.181986Z"
    }
   },
   "outputs": [],
   "source": [
    "# 매출 계산에 필요한 값 가져오기\n",
    "pay_com = df[(df['type'] == 'PAYMENT') & (df['state'] == 'COMPLETED')]  # payment 변수\n",
    "re_com = df[(df['type'] == 'REFUND') & (df['state'] == 'COMPLETED')]  # refund 변수"
   ]
  },
  {
   "cell_type": "code",
   "execution_count": 11,
   "id": "6d452c19",
   "metadata": {
    "ExecuteTime": {
     "end_time": "2022-07-01T07:54:32.516133Z",
     "start_time": "2022-07-01T07:54:32.470757Z"
    }
   },
   "outputs": [
    {
     "data": {
      "text/html": [
       "<div>\n",
       "<style scoped>\n",
       "    .dataframe tbody tr th:only-of-type {\n",
       "        vertical-align: middle;\n",
       "    }\n",
       "\n",
       "    .dataframe tbody tr th {\n",
       "        vertical-align: top;\n",
       "    }\n",
       "\n",
       "    .dataframe thead th {\n",
       "        text-align: right;\n",
       "    }\n",
       "</style>\n",
       "<table border=\"1\" class=\"dataframe\">\n",
       "  <thead>\n",
       "    <tr style=\"text-align: right;\">\n",
       "      <th></th>\n",
       "      <th>Unnamed: 0</th>\n",
       "      <th>id</th>\n",
       "      <th>customer_id</th>\n",
       "      <th>course_id</th>\n",
       "      <th>type</th>\n",
       "      <th>state</th>\n",
       "      <th>course_title</th>\n",
       "      <th>category_title</th>\n",
       "      <th>format</th>\n",
       "      <th>completed_at</th>\n",
       "      <th>transaction_amount</th>\n",
       "      <th>coupon_title</th>\n",
       "      <th>coupon_discount_amount</th>\n",
       "      <th>sale_price</th>\n",
       "      <th>pg</th>\n",
       "      <th>method</th>\n",
       "      <th>subcategory_title</th>\n",
       "      <th>marketing_start_at</th>\n",
       "    </tr>\n",
       "  </thead>\n",
       "  <tbody>\n",
       "    <tr>\n",
       "      <th>2</th>\n",
       "      <td>2</td>\n",
       "      <td>970657</td>\n",
       "      <td>72297</td>\n",
       "      <td>204246</td>\n",
       "      <td>PAYMENT</td>\n",
       "      <td>COMPLETED</td>\n",
       "      <td>시크릿코드 : 프론트엔드 실무 완성편</td>\n",
       "      <td>프로그래밍</td>\n",
       "      <td>스쿨 온라인</td>\n",
       "      <td>2021-03-28 15:21:43</td>\n",
       "      <td>171810</td>\n",
       "      <td>[10% 할인] 시크릿코드 실무 완성편</td>\n",
       "      <td>19090</td>\n",
       "      <td>190900</td>\n",
       "      <td>COMM</td>\n",
       "      <td>CARD</td>\n",
       "      <td>프로그래밍</td>\n",
       "      <td>2021-03-04 00:00:00</td>\n",
       "    </tr>\n",
       "    <tr>\n",
       "      <th>4</th>\n",
       "      <td>4</td>\n",
       "      <td>970658</td>\n",
       "      <td>478028</td>\n",
       "      <td>201797</td>\n",
       "      <td>PAYMENT</td>\n",
       "      <td>COMPLETED</td>\n",
       "      <td>올인원 패키지 : 직장인 필수 스킬 3종 세트 MAX</td>\n",
       "      <td>업무 생산성</td>\n",
       "      <td>올인원</td>\n",
       "      <td>2021-03-28 15:21:54</td>\n",
       "      <td>97500</td>\n",
       "      <td>[웰컴쿠폰] 올인원 패키지 2만원 할인 쿠폰</td>\n",
       "      <td>20000</td>\n",
       "      <td>117500</td>\n",
       "      <td>COMM</td>\n",
       "      <td>CARD</td>\n",
       "      <td>PPT/보고서</td>\n",
       "      <td>2019-11-14 00:00:00</td>\n",
       "    </tr>\n",
       "    <tr>\n",
       "      <th>8</th>\n",
       "      <td>8</td>\n",
       "      <td>970669</td>\n",
       "      <td>478033</td>\n",
       "      <td>203178</td>\n",
       "      <td>PAYMENT</td>\n",
       "      <td>COMPLETED</td>\n",
       "      <td>초격차 패키지 : 한번에 끝내는 영상 촬영과 편집</td>\n",
       "      <td>영상/3D</td>\n",
       "      <td>올인원</td>\n",
       "      <td>2021-03-28 15:26:47</td>\n",
       "      <td>96000</td>\n",
       "      <td>[웰컴쿠폰] 올인원 패키지 2만원 할인 쿠폰</td>\n",
       "      <td>20000</td>\n",
       "      <td>116000</td>\n",
       "      <td>COMM</td>\n",
       "      <td>CARD</td>\n",
       "      <td>영상 편집</td>\n",
       "      <td>2020-12-02 00:00:00</td>\n",
       "    </tr>\n",
       "    <tr>\n",
       "      <th>10</th>\n",
       "      <td>10</td>\n",
       "      <td>970671</td>\n",
       "      <td>469860</td>\n",
       "      <td>203644</td>\n",
       "      <td>PAYMENT</td>\n",
       "      <td>COMPLETED</td>\n",
       "      <td>올인원 패키지 : 권오상의 금융 아카데미 - 권오상의 재무제표 분석 기초(평생소장)</td>\n",
       "      <td>부동산/금융</td>\n",
       "      <td>올인원</td>\n",
       "      <td>2021-03-28 15:27:17</td>\n",
       "      <td>263000</td>\n",
       "      <td>미적용</td>\n",
       "      <td>0</td>\n",
       "      <td>263000</td>\n",
       "      <td>COMM</td>\n",
       "      <td>CARD</td>\n",
       "      <td>부동산/금융</td>\n",
       "      <td>2020-11-27 00:00:00</td>\n",
       "    </tr>\n",
       "    <tr>\n",
       "      <th>14</th>\n",
       "      <td>14</td>\n",
       "      <td>970676</td>\n",
       "      <td>478035</td>\n",
       "      <td>203720</td>\n",
       "      <td>PAYMENT</td>\n",
       "      <td>COMPLETED</td>\n",
       "      <td>초격차 패키지 : 한 번에 끝내는 프론트엔드 개발</td>\n",
       "      <td>프로그래밍</td>\n",
       "      <td>올인원</td>\n",
       "      <td>2021-03-28 15:31:01</td>\n",
       "      <td>91000</td>\n",
       "      <td>[웰컴쿠폰] 올인원 패키지 2만원 할인 쿠폰</td>\n",
       "      <td>20000</td>\n",
       "      <td>111000</td>\n",
       "      <td>COMM</td>\n",
       "      <td>CARD</td>\n",
       "      <td>프론트엔드 개발</td>\n",
       "      <td>2021-02-02 00:00:00</td>\n",
       "    </tr>\n",
       "    <tr>\n",
       "      <th>...</th>\n",
       "      <td>...</td>\n",
       "      <td>...</td>\n",
       "      <td>...</td>\n",
       "      <td>...</td>\n",
       "      <td>...</td>\n",
       "      <td>...</td>\n",
       "      <td>...</td>\n",
       "      <td>...</td>\n",
       "      <td>...</td>\n",
       "      <td>...</td>\n",
       "      <td>...</td>\n",
       "      <td>...</td>\n",
       "      <td>...</td>\n",
       "      <td>...</td>\n",
       "      <td>...</td>\n",
       "      <td>...</td>\n",
       "      <td>...</td>\n",
       "      <td>...</td>\n",
       "    </tr>\n",
       "    <tr>\n",
       "      <th>100866</th>\n",
       "      <td>101582</td>\n",
       "      <td>1363708</td>\n",
       "      <td>600073</td>\n",
       "      <td>206065</td>\n",
       "      <td>REFUND</td>\n",
       "      <td>COMPLETED</td>\n",
       "      <td>(프로모션 7/16-7/29) 초격차 패키지 : 한 번에 끝내는 Spring 완.전.판</td>\n",
       "      <td>프로그래밍</td>\n",
       "      <td>올인원</td>\n",
       "      <td>2021-09-24 14:34:50</td>\n",
       "      <td>-149000</td>\n",
       "      <td>미적용</td>\n",
       "      <td>0</td>\n",
       "      <td>179000</td>\n",
       "      <td>NAVER</td>\n",
       "      <td>CARD</td>\n",
       "      <td>백엔드 개발</td>\n",
       "      <td>2021-07-15 00:00:00</td>\n",
       "    </tr>\n",
       "    <tr>\n",
       "      <th>100870</th>\n",
       "      <td>101586</td>\n",
       "      <td>1363721</td>\n",
       "      <td>645911</td>\n",
       "      <td>300000</td>\n",
       "      <td>REFUND</td>\n",
       "      <td>COMPLETED</td>\n",
       "      <td>프로모션 : 콘텐츠 마케터 맥북 air 패스(9월 현물 프리패스)</td>\n",
       "      <td>마케팅</td>\n",
       "      <td>올인원</td>\n",
       "      <td>2021-09-24 14:41:35</td>\n",
       "      <td>-1400000</td>\n",
       "      <td>미적용</td>\n",
       "      <td>0</td>\n",
       "      <td>1400000</td>\n",
       "      <td>INICIS</td>\n",
       "      <td>CARD</td>\n",
       "      <td>마케팅</td>\n",
       "      <td>2018-11-11 00:00:00</td>\n",
       "    </tr>\n",
       "    <tr>\n",
       "      <th>100895</th>\n",
       "      <td>101611</td>\n",
       "      <td>1363934</td>\n",
       "      <td>506356</td>\n",
       "      <td>206720</td>\n",
       "      <td>REFUND</td>\n",
       "      <td>COMPLETED</td>\n",
       "      <td>용호수의 돈 버는 실전 영상 제작</td>\n",
       "      <td>영상/3D</td>\n",
       "      <td>올인원</td>\n",
       "      <td>2021-09-24 16:10:55</td>\n",
       "      <td>-259000</td>\n",
       "      <td>미적용</td>\n",
       "      <td>0</td>\n",
       "      <td>259000</td>\n",
       "      <td>NAVER</td>\n",
       "      <td>CARD</td>\n",
       "      <td>영상 편집</td>\n",
       "      <td>2021-08-17 00:00:00</td>\n",
       "    </tr>\n",
       "    <tr>\n",
       "      <th>100933</th>\n",
       "      <td>101649</td>\n",
       "      <td>1364149</td>\n",
       "      <td>604077</td>\n",
       "      <td>205569</td>\n",
       "      <td>REFUND</td>\n",
       "      <td>COMPLETED</td>\n",
       "      <td>올인원 패키지 : 공여사와 무작정 풀어보는 엑셀 실무</td>\n",
       "      <td>업무 생산성</td>\n",
       "      <td>올인원</td>\n",
       "      <td>2021-09-24 17:09:30</td>\n",
       "      <td>-109000</td>\n",
       "      <td>미적용</td>\n",
       "      <td>0</td>\n",
       "      <td>129000</td>\n",
       "      <td>KAKAO</td>\n",
       "      <td>POINT</td>\n",
       "      <td>엑셀/VBA</td>\n",
       "      <td>2021-08-17 00:00:00</td>\n",
       "    </tr>\n",
       "    <tr>\n",
       "      <th>100936</th>\n",
       "      <td>101652</td>\n",
       "      <td>1364217</td>\n",
       "      <td>552100</td>\n",
       "      <td>203525</td>\n",
       "      <td>REFUND</td>\n",
       "      <td>COMPLETED</td>\n",
       "      <td>초격차 패키지 : 한번에 끝내는 Java/Spring 웹 개발 마스터</td>\n",
       "      <td>프로그래밍</td>\n",
       "      <td>올인원</td>\n",
       "      <td>2021-09-24 17:33:53</td>\n",
       "      <td>-108186</td>\n",
       "      <td>미적용</td>\n",
       "      <td>0</td>\n",
       "      <td>114000</td>\n",
       "      <td>INICIS</td>\n",
       "      <td>CARD</td>\n",
       "      <td>백엔드 개발</td>\n",
       "      <td>2021-02-01 00:00:00</td>\n",
       "    </tr>\n",
       "  </tbody>\n",
       "</table>\n",
       "<p>53040 rows × 18 columns</p>\n",
       "</div>"
      ],
      "text/plain": [
       "        Unnamed: 0       id  customer_id  course_id     type      state  \\\n",
       "2                2   970657        72297     204246  PAYMENT  COMPLETED   \n",
       "4                4   970658       478028     201797  PAYMENT  COMPLETED   \n",
       "8                8   970669       478033     203178  PAYMENT  COMPLETED   \n",
       "10              10   970671       469860     203644  PAYMENT  COMPLETED   \n",
       "14              14   970676       478035     203720  PAYMENT  COMPLETED   \n",
       "...            ...      ...          ...        ...      ...        ...   \n",
       "100866      101582  1363708       600073     206065   REFUND  COMPLETED   \n",
       "100870      101586  1363721       645911     300000   REFUND  COMPLETED   \n",
       "100895      101611  1363934       506356     206720   REFUND  COMPLETED   \n",
       "100933      101649  1364149       604077     205569   REFUND  COMPLETED   \n",
       "100936      101652  1364217       552100     203525   REFUND  COMPLETED   \n",
       "\n",
       "                                            course_title category_title  \\\n",
       "2                                   시크릿코드 : 프론트엔드 실무 완성편          프로그래밍   \n",
       "4                          올인원 패키지 : 직장인 필수 스킬 3종 세트 MAX         업무 생산성   \n",
       "8                            초격차 패키지 : 한번에 끝내는 영상 촬영과 편집          영상/3D   \n",
       "10        올인원 패키지 : 권오상의 금융 아카데미 - 권오상의 재무제표 분석 기초(평생소장)         부동산/금융   \n",
       "14                           초격차 패키지 : 한 번에 끝내는 프론트엔드 개발          프로그래밍   \n",
       "...                                                  ...            ...   \n",
       "100866  (프로모션 7/16-7/29) 초격차 패키지 : 한 번에 끝내는 Spring 완.전.판          프로그래밍   \n",
       "100870              프로모션 : 콘텐츠 마케터 맥북 air 패스(9월 현물 프리패스)            마케팅   \n",
       "100895                                용호수의 돈 버는 실전 영상 제작          영상/3D   \n",
       "100933                     올인원 패키지 : 공여사와 무작정 풀어보는 엑셀 실무         업무 생산성   \n",
       "100936            초격차 패키지 : 한번에 끝내는 Java/Spring 웹 개발 마스터          프로그래밍   \n",
       "\n",
       "        format        completed_at  transaction_amount  \\\n",
       "2       스쿨 온라인 2021-03-28 15:21:43              171810   \n",
       "4          올인원 2021-03-28 15:21:54               97500   \n",
       "8          올인원 2021-03-28 15:26:47               96000   \n",
       "10         올인원 2021-03-28 15:27:17              263000   \n",
       "14         올인원 2021-03-28 15:31:01               91000   \n",
       "...        ...                 ...                 ...   \n",
       "100866     올인원 2021-09-24 14:34:50             -149000   \n",
       "100870     올인원 2021-09-24 14:41:35            -1400000   \n",
       "100895     올인원 2021-09-24 16:10:55             -259000   \n",
       "100933     올인원 2021-09-24 17:09:30             -109000   \n",
       "100936     올인원 2021-09-24 17:33:53             -108186   \n",
       "\n",
       "                    coupon_title  coupon_discount_amount  sale_price      pg  \\\n",
       "2          [10% 할인] 시크릿코드 실무 완성편                   19090      190900    COMM   \n",
       "4       [웰컴쿠폰] 올인원 패키지 2만원 할인 쿠폰                   20000      117500    COMM   \n",
       "8       [웰컴쿠폰] 올인원 패키지 2만원 할인 쿠폰                   20000      116000    COMM   \n",
       "10                           미적용                       0      263000    COMM   \n",
       "14      [웰컴쿠폰] 올인원 패키지 2만원 할인 쿠폰                   20000      111000    COMM   \n",
       "...                          ...                     ...         ...     ...   \n",
       "100866                       미적용                       0      179000   NAVER   \n",
       "100870                       미적용                       0     1400000  INICIS   \n",
       "100895                       미적용                       0      259000   NAVER   \n",
       "100933                       미적용                       0      129000   KAKAO   \n",
       "100936                       미적용                       0      114000  INICIS   \n",
       "\n",
       "       method subcategory_title   marketing_start_at  \n",
       "2        CARD             프로그래밍  2021-03-04 00:00:00  \n",
       "4        CARD           PPT/보고서  2019-11-14 00:00:00  \n",
       "8        CARD             영상 편집  2020-12-02 00:00:00  \n",
       "10       CARD            부동산/금융  2020-11-27 00:00:00  \n",
       "14       CARD          프론트엔드 개발  2021-02-02 00:00:00  \n",
       "...       ...               ...                  ...  \n",
       "100866   CARD            백엔드 개발  2021-07-15 00:00:00  \n",
       "100870   CARD               마케팅  2018-11-11 00:00:00  \n",
       "100895   CARD             영상 편집  2021-08-17 00:00:00  \n",
       "100933  POINT            엑셀/VBA  2021-08-17 00:00:00  \n",
       "100936   CARD            백엔드 개발  2021-02-01 00:00:00  \n",
       "\n",
       "[53040 rows x 18 columns]"
      ]
     },
     "execution_count": 11,
     "metadata": {},
     "output_type": "execute_result"
    }
   ],
   "source": [
    "# 데이터 2개 합치기\n",
    "rev = pd.concat([pay_com,re_com])\n",
    "rev  "
   ]
  },
  {
   "cell_type": "code",
   "execution_count": 12,
   "id": "77d00ee3",
   "metadata": {
    "ExecuteTime": {
     "end_time": "2022-07-01T07:54:33.006821Z",
     "start_time": "2022-07-01T07:54:32.992114Z"
    }
   },
   "outputs": [
    {
     "data": {
      "text/plain": [
       "5972719534"
      ]
     },
     "execution_count": 12,
     "metadata": {},
     "output_type": "execute_result"
    }
   ],
   "source": [
    "# 총 매출 구하기\n",
    "rev.transaction_amount.sum()"
   ]
  },
  {
   "cell_type": "code",
   "execution_count": 13,
   "id": "944f2c5e",
   "metadata": {
    "ExecuteTime": {
     "end_time": "2022-07-01T07:54:33.640735Z",
     "start_time": "2022-07-01T07:54:33.628064Z"
    }
   },
   "outputs": [
    {
     "data": {
      "text/plain": [
       "Timestamp('2021-03-28 15:21:43')"
      ]
     },
     "execution_count": 13,
     "metadata": {},
     "output_type": "execute_result"
    }
   ],
   "source": [
    "# 결제가 일어난 첫번쨰 시간\n",
    "rev.completed_at.min()"
   ]
  },
  {
   "cell_type": "code",
   "execution_count": 14,
   "id": "c06fe634",
   "metadata": {
    "ExecuteTime": {
     "end_time": "2022-07-01T07:54:34.127440Z",
     "start_time": "2022-07-01T07:54:34.114210Z"
    }
   },
   "outputs": [
    {
     "data": {
      "text/plain": [
       "Timestamp('2021-09-25 14:25:47')"
      ]
     },
     "execution_count": 14,
     "metadata": {},
     "output_type": "execute_result"
    }
   ],
   "source": [
    "# 결제가 일어난 마지막 시간\n",
    "rev.completed_at.max()"
   ]
  },
  {
   "cell_type": "markdown",
   "id": "d321ae4f",
   "metadata": {},
   "source": [
    "> 2021-03-28 ~ 2021-09-25 까지 Fast Campus B2C 매출은 6,571,636,960원 입니다."
   ]
  },
  {
   "cell_type": "markdown",
   "id": "0ec61f26",
   "metadata": {
    "ExecuteTime": {
     "end_time": "2022-06-30T04:59:37.322149Z",
     "start_time": "2022-06-30T04:59:37.313162Z"
    }
   },
   "source": [
    "### 시간대별 매출"
   ]
  },
  {
   "cell_type": "code",
   "execution_count": 15,
   "id": "947c2529",
   "metadata": {
    "ExecuteTime": {
     "end_time": "2022-07-01T07:54:36.246487Z",
     "start_time": "2022-07-01T07:54:36.201420Z"
    }
   },
   "outputs": [
    {
     "data": {
      "text/html": [
       "<div>\n",
       "<style scoped>\n",
       "    .dataframe tbody tr th:only-of-type {\n",
       "        vertical-align: middle;\n",
       "    }\n",
       "\n",
       "    .dataframe tbody tr th {\n",
       "        vertical-align: top;\n",
       "    }\n",
       "\n",
       "    .dataframe thead th {\n",
       "        text-align: right;\n",
       "    }\n",
       "</style>\n",
       "<table border=\"1\" class=\"dataframe\">\n",
       "  <thead>\n",
       "    <tr style=\"text-align: right;\">\n",
       "      <th></th>\n",
       "      <th>transaction_amount</th>\n",
       "    </tr>\n",
       "    <tr>\n",
       "      <th>completed_at</th>\n",
       "      <th></th>\n",
       "    </tr>\n",
       "  </thead>\n",
       "  <tbody>\n",
       "    <tr>\n",
       "      <th>0</th>\n",
       "      <td>233549455</td>\n",
       "    </tr>\n",
       "    <tr>\n",
       "      <th>1</th>\n",
       "      <td>136075550</td>\n",
       "    </tr>\n",
       "    <tr>\n",
       "      <th>2</th>\n",
       "      <td>95817755</td>\n",
       "    </tr>\n",
       "    <tr>\n",
       "      <th>3</th>\n",
       "      <td>52194135</td>\n",
       "    </tr>\n",
       "    <tr>\n",
       "      <th>4</th>\n",
       "      <td>33338600</td>\n",
       "    </tr>\n",
       "    <tr>\n",
       "      <th>5</th>\n",
       "      <td>36766265</td>\n",
       "    </tr>\n",
       "    <tr>\n",
       "      <th>6</th>\n",
       "      <td>55248680</td>\n",
       "    </tr>\n",
       "    <tr>\n",
       "      <th>7</th>\n",
       "      <td>94951875</td>\n",
       "    </tr>\n",
       "    <tr>\n",
       "      <th>8</th>\n",
       "      <td>155896900</td>\n",
       "    </tr>\n",
       "    <tr>\n",
       "      <th>9</th>\n",
       "      <td>226463962</td>\n",
       "    </tr>\n",
       "    <tr>\n",
       "      <th>10</th>\n",
       "      <td>171362970</td>\n",
       "    </tr>\n",
       "    <tr>\n",
       "      <th>11</th>\n",
       "      <td>211056505</td>\n",
       "    </tr>\n",
       "    <tr>\n",
       "      <th>12</th>\n",
       "      <td>279776938</td>\n",
       "    </tr>\n",
       "    <tr>\n",
       "      <th>13</th>\n",
       "      <td>261146271</td>\n",
       "    </tr>\n",
       "    <tr>\n",
       "      <th>14</th>\n",
       "      <td>304796320</td>\n",
       "    </tr>\n",
       "    <tr>\n",
       "      <th>15</th>\n",
       "      <td>334849701</td>\n",
       "    </tr>\n",
       "    <tr>\n",
       "      <th>16</th>\n",
       "      <td>366106714</td>\n",
       "    </tr>\n",
       "    <tr>\n",
       "      <th>17</th>\n",
       "      <td>338984956</td>\n",
       "    </tr>\n",
       "    <tr>\n",
       "      <th>18</th>\n",
       "      <td>343336217</td>\n",
       "    </tr>\n",
       "    <tr>\n",
       "      <th>19</th>\n",
       "      <td>336345205</td>\n",
       "    </tr>\n",
       "    <tr>\n",
       "      <th>20</th>\n",
       "      <td>380288475</td>\n",
       "    </tr>\n",
       "    <tr>\n",
       "      <th>21</th>\n",
       "      <td>441263400</td>\n",
       "    </tr>\n",
       "    <tr>\n",
       "      <th>22</th>\n",
       "      <td>511370370</td>\n",
       "    </tr>\n",
       "    <tr>\n",
       "      <th>23</th>\n",
       "      <td>571732315</td>\n",
       "    </tr>\n",
       "  </tbody>\n",
       "</table>\n",
       "</div>"
      ],
      "text/plain": [
       "              transaction_amount\n",
       "completed_at                    \n",
       "0                      233549455\n",
       "1                      136075550\n",
       "2                       95817755\n",
       "3                       52194135\n",
       "4                       33338600\n",
       "5                       36766265\n",
       "6                       55248680\n",
       "7                       94951875\n",
       "8                      155896900\n",
       "9                      226463962\n",
       "10                     171362970\n",
       "11                     211056505\n",
       "12                     279776938\n",
       "13                     261146271\n",
       "14                     304796320\n",
       "15                     334849701\n",
       "16                     366106714\n",
       "17                     338984956\n",
       "18                     343336217\n",
       "19                     336345205\n",
       "20                     380288475\n",
       "21                     441263400\n",
       "22                     511370370\n",
       "23                     571732315"
      ]
     },
     "execution_count": 15,
     "metadata": {},
     "output_type": "execute_result"
    }
   ],
   "source": [
    "# lambda 함수를 이용해 시간만 뽑아서 그룹핑\n",
    "rev_by_hour = rev.set_index('completed_at').groupby(lambda date: date.hour).sum()[['transaction_amount']]\n",
    "rev_by_hour"
   ]
  },
  {
   "cell_type": "markdown",
   "id": "4cd530bc",
   "metadata": {},
   "source": [
    "### 시간대별 매출 Line Graph"
   ]
  },
  {
   "cell_type": "code",
   "execution_count": 16,
   "id": "fa6747ae",
   "metadata": {
    "ExecuteTime": {
     "end_time": "2022-07-01T07:54:37.636226Z",
     "start_time": "2022-07-01T07:54:37.282941Z"
    },
    "scrolled": false
   },
   "outputs": [
    {
     "data": {
      "image/png": "[encoded data removed]",
      "text/plain": [
       "<Figure size 1080x720 with 1 Axes>"
      ]
     },
     "metadata": {
      "needs_background": "light"
     },
     "output_type": "display_data"
    }
   ],
   "source": [
    "# 시각화\n",
    "\n",
    "plt.figure(figsize=(15,10))\n",
    "sns.set_theme(style=\"darkgrid\")\n",
    "\n",
    "sns.lineplot(x='completed_at', y='transaction_amount',\n",
    "             data=rev_by_hour,\n",
    "             color = 'coral'\n",
    "            )\n",
    "plt.xlabel('Hours')\n",
    "plt.ylabel('Revenue')\n",
    "plt.yticks([0, 100000000, 200000000, 300000000, 400000000 ,500000000], [0, '100,000,000', '200,000,000', '300,000,000', '400,000,000' ,'500,000,000'])\n",
    "plt.xticks([0, 3, 6, 9, 12, 15, 18, 21 ,23], ['am12', '3', '6', '9', 'pm12', '3', '6', '9', '11'])\n",
    "plt.xlim([-1, 24])      # X축의 범위: [xmin, xmax]\n",
    "plt.ylim([0, 601732315])     # Y축의 범위: [ymin, ymax]\n",
    "plt.show()"
   ]
  },
  {
   "cell_type": "markdown",
   "id": "d8f3f3f0",
   "metadata": {},
   "source": [
    ">  저녁시간대 부터 자정까지 매출비중이 높은것을 알 수 있음."
   ]
  },
  {
   "cell_type": "markdown",
   "id": "bd696f1f",
   "metadata": {
    "ExecuteTime": {
     "end_time": "2022-06-30T06:53:34.853522Z",
     "start_time": "2022-06-30T06:53:34.834570Z"
    }
   },
   "source": [
    "### 시간대별 매출 Pie Graph"
   ]
  },
  {
   "cell_type": "code",
   "execution_count": 17,
   "id": "17e712f3",
   "metadata": {
    "ExecuteTime": {
     "end_time": "2022-07-01T07:54:39.211534Z",
     "start_time": "2022-07-01T07:54:38.552380Z"
    },
    "scrolled": false
   },
   "outputs": [
    {
     "data": {
      "image/png": "[encoded data removed]",
      "text/plain": [
       "<Figure size 1080x1080 with 1 Axes>"
      ]
     },
     "metadata": {},
     "output_type": "display_data"
    }
   ],
   "source": [
    "labels = [i for i in range(0,24)]\n",
    "wedgeprops={'width': 0.7, 'edgecolor': 'w', 'linewidth': 5}\n",
    "colors = sns.color_palette(\"Set2\")\n",
    "explode = [0.10, 0, 0, 0, 0, 0, 0, 0, 0, 0, 0, 0, 0, \n",
    "           0, 0, 0, 0, 0.10, 0.10, 0.10, 0.10, 0.10, 0.10, 0.10]\n",
    "\n",
    "plt.figure(figsize=(15,15))\n",
    "plt.pie(rev_by_hour.transaction_amount,\n",
    "        labels = labels,\n",
    "        counterclock=False,\n",
    "        explode = explode,\n",
    "        wedgeprops=wedgeprops,\n",
    "        colors = colors\n",
    "       \n",
    "       \n",
    "       )\n",
    "plt.show()"
   ]
  },
  {
   "cell_type": "markdown",
   "id": "c628218a",
   "metadata": {},
   "source": [
    "> 파이 차트를 살펴보면 오후 5시부터 자정까지 7시강동안의 매출이 전체매출의 50% 이상을 차지하는것을 알 수 있음."
   ]
  },
  {
   "cell_type": "markdown",
   "id": "ddcfbb6c",
   "metadata": {},
   "source": [
    "\n",
    "### 요일별 매출 그래프\n"
   ]
  },
  {
   "cell_type": "code",
   "execution_count": 18,
   "id": "cd9dc2e8",
   "metadata": {
    "ExecuteTime": {
     "end_time": "2022-07-01T07:54:39.643906Z",
     "start_time": "2022-07-01T07:54:39.599069Z"
    }
   },
   "outputs": [
    {
     "data": {
      "text/html": [
       "<div>\n",
       "<style scoped>\n",
       "    .dataframe tbody tr th:only-of-type {\n",
       "        vertical-align: middle;\n",
       "    }\n",
       "\n",
       "    .dataframe tbody tr th {\n",
       "        vertical-align: top;\n",
       "    }\n",
       "\n",
       "    .dataframe thead th {\n",
       "        text-align: right;\n",
       "    }\n",
       "</style>\n",
       "<table border=\"1\" class=\"dataframe\">\n",
       "  <thead>\n",
       "    <tr style=\"text-align: right;\">\n",
       "      <th></th>\n",
       "      <th>transaction_amount</th>\n",
       "    </tr>\n",
       "    <tr>\n",
       "      <th>completed_at</th>\n",
       "      <th></th>\n",
       "    </tr>\n",
       "  </thead>\n",
       "  <tbody>\n",
       "    <tr>\n",
       "      <th>0</th>\n",
       "      <td>794476420</td>\n",
       "    </tr>\n",
       "    <tr>\n",
       "      <th>1</th>\n",
       "      <td>859965425</td>\n",
       "    </tr>\n",
       "    <tr>\n",
       "      <th>2</th>\n",
       "      <td>902670063</td>\n",
       "    </tr>\n",
       "    <tr>\n",
       "      <th>3</th>\n",
       "      <td>708513498</td>\n",
       "    </tr>\n",
       "    <tr>\n",
       "      <th>4</th>\n",
       "      <td>819967968</td>\n",
       "    </tr>\n",
       "    <tr>\n",
       "      <th>5</th>\n",
       "      <td>737461545</td>\n",
       "    </tr>\n",
       "    <tr>\n",
       "      <th>6</th>\n",
       "      <td>1149664615</td>\n",
       "    </tr>\n",
       "  </tbody>\n",
       "</table>\n",
       "</div>"
      ],
      "text/plain": [
       "              transaction_amount\n",
       "completed_at                    \n",
       "0                      794476420\n",
       "1                      859965425\n",
       "2                      902670063\n",
       "3                      708513498\n",
       "4                      819967968\n",
       "5                      737461545\n",
       "6                     1149664615"
      ]
     },
     "execution_count": 18,
     "metadata": {},
     "output_type": "execute_result"
    }
   ],
   "source": [
    "# lambda 함수를 이용해 요일만 뽑아서 그룹핑\n",
    "rev_by_dow = rev.set_index('completed_at').groupby(lambda dow: dow.dayofweek).sum()[['transaction_amount']]\n",
    "rev_by_dow"
   ]
  },
  {
   "cell_type": "code",
   "execution_count": 19,
   "id": "48264269",
   "metadata": {
    "ExecuteTime": {
     "end_time": "2022-07-01T07:54:40.225367Z",
     "start_time": "2022-07-01T07:54:39.933515Z"
    },
    "scrolled": false
   },
   "outputs": [
    {
     "data": {
      "image/png": "[encoded data removed]",
      "text/plain": [
       "<Figure size 1080x720 with 1 Axes>"
      ]
     },
     "metadata": {},
     "output_type": "display_data"
    }
   ],
   "source": [
    "# 시각화\n",
    "\n",
    "plt.figure(figsize=(15,10))\n",
    "sns.set_theme(style=\"darkgrid\")\n",
    "\n",
    "sns.lineplot(x='completed_at', y='transaction_amount',\n",
    "             data=rev_by_dow,\n",
    "             color = 'purple'\n",
    "            )\n",
    "plt.xlabel('Day of Week')\n",
    "plt.ylabel('Revenue')\n",
    "plt.yticks([0, 100000000, 600000000, 800000000, 1000000000 ,1200000000], \n",
    "           ['0','100,000,000', '600,000,000', '800,000,000', '1,000,000,000' ,'1,200,000,000'])\n",
    "plt.xticks([i for i in range(0,7)], \n",
    "           ['Mon', 'Tue', 'Wed', 'Thu', 'Fri', 'Sat', 'Sun'])\n",
    "\n",
    "plt.show()"
   ]
  },
  {
   "cell_type": "markdown",
   "id": "8347415c",
   "metadata": {},
   "source": [
    "> 요일별 매출을 분석해보면 일요일 매출이 가장높고 토요일 매출이 가장낮지만 요일별 편차가 크지 않은것을 알 수 있음."
   ]
  },
  {
   "cell_type": "markdown",
   "id": "74934c28",
   "metadata": {},
   "source": [
    "### 요일별 매출 Pie Graph"
   ]
  },
  {
   "cell_type": "code",
   "execution_count": 20,
   "id": "7e73c1d7",
   "metadata": {
    "ExecuteTime": {
     "end_time": "2022-07-01T07:54:41.159801Z",
     "start_time": "2022-07-01T07:54:40.902948Z"
    }
   },
   "outputs": [
    {
     "data": {
      "image/png": "[encoded data removed]",
      "text/plain": [
       "<Figure size 1080x1080 with 1 Axes>"
      ]
     },
     "metadata": {},
     "output_type": "display_data"
    }
   ],
   "source": [
    "labels = ['Mon', 'Tue', 'Wed', 'Thu', 'Fri', 'Sat', 'Sun']\n",
    "wedgeprops={'width': 0.7, 'edgecolor': 'w', 'linewidth': 5}\n",
    "explode = [0, 0, 0, 0, 0, 0, 0.10]\n",
    "colors = sns.color_palette(\"Set2\")\n",
    "\n",
    "plt.figure(figsize=(15,15))\n",
    "plt.pie(rev_by_dow.transaction_amount,\n",
    "        labels = labels,\n",
    "        counterclock=False,\n",
    "        explode = explode,\n",
    "        wedgeprops=wedgeprops,\n",
    "        colors = colors\n",
    "\n",
    "       \n",
    "       \n",
    "       )\n",
    "plt.show()"
   ]
  },
  {
   "cell_type": "markdown",
   "id": "dfcba5f5",
   "metadata": {},
   "source": [
    "> 파이 차트를 이용해 요일별 편차 정도를 좀 더 직관적으로 확인할 수 있음"
   ]
  },
  {
   "cell_type": "markdown",
   "id": "a8f2c632",
   "metadata": {},
   "source": [
    "### 일별 매출 그래프"
   ]
  },
  {
   "cell_type": "code",
   "execution_count": 21,
   "id": "a7b7b62f",
   "metadata": {
    "ExecuteTime": {
     "end_time": "2022-07-01T07:54:42.640450Z",
     "start_time": "2022-07-01T07:54:41.798500Z"
    }
   },
   "outputs": [
    {
     "data": {
      "text/html": [
       "<div>\n",
       "<style scoped>\n",
       "    .dataframe tbody tr th:only-of-type {\n",
       "        vertical-align: middle;\n",
       "    }\n",
       "\n",
       "    .dataframe tbody tr th {\n",
       "        vertical-align: top;\n",
       "    }\n",
       "\n",
       "    .dataframe thead th {\n",
       "        text-align: right;\n",
       "    }\n",
       "</style>\n",
       "<table border=\"1\" class=\"dataframe\">\n",
       "  <thead>\n",
       "    <tr style=\"text-align: right;\">\n",
       "      <th></th>\n",
       "      <th>Unnamed: 0</th>\n",
       "      <th>id</th>\n",
       "      <th>customer_id</th>\n",
       "      <th>course_id</th>\n",
       "      <th>type</th>\n",
       "      <th>state</th>\n",
       "      <th>course_title</th>\n",
       "      <th>category_title</th>\n",
       "      <th>format</th>\n",
       "      <th>completed_at</th>\n",
       "      <th>transaction_amount</th>\n",
       "      <th>coupon_title</th>\n",
       "      <th>coupon_discount_amount</th>\n",
       "      <th>sale_price</th>\n",
       "      <th>pg</th>\n",
       "      <th>method</th>\n",
       "      <th>subcategory_title</th>\n",
       "      <th>marketing_start_at</th>\n",
       "      <th>completed_ymd</th>\n",
       "    </tr>\n",
       "  </thead>\n",
       "  <tbody>\n",
       "    <tr>\n",
       "      <th>2</th>\n",
       "      <td>2</td>\n",
       "      <td>970657</td>\n",
       "      <td>72297</td>\n",
       "      <td>204246</td>\n",
       "      <td>PAYMENT</td>\n",
       "      <td>COMPLETED</td>\n",
       "      <td>시크릿코드 : 프론트엔드 실무 완성편</td>\n",
       "      <td>프로그래밍</td>\n",
       "      <td>스쿨 온라인</td>\n",
       "      <td>2021-03-28 15:21:43</td>\n",
       "      <td>171810</td>\n",
       "      <td>[10% 할인] 시크릿코드 실무 완성편</td>\n",
       "      <td>19090</td>\n",
       "      <td>190900</td>\n",
       "      <td>COMM</td>\n",
       "      <td>CARD</td>\n",
       "      <td>프로그래밍</td>\n",
       "      <td>2021-03-04 00:00:00</td>\n",
       "      <td>2021-03-28</td>\n",
       "    </tr>\n",
       "    <tr>\n",
       "      <th>4</th>\n",
       "      <td>4</td>\n",
       "      <td>970658</td>\n",
       "      <td>478028</td>\n",
       "      <td>201797</td>\n",
       "      <td>PAYMENT</td>\n",
       "      <td>COMPLETED</td>\n",
       "      <td>올인원 패키지 : 직장인 필수 스킬 3종 세트 MAX</td>\n",
       "      <td>업무 생산성</td>\n",
       "      <td>올인원</td>\n",
       "      <td>2021-03-28 15:21:54</td>\n",
       "      <td>97500</td>\n",
       "      <td>[웰컴쿠폰] 올인원 패키지 2만원 할인 쿠폰</td>\n",
       "      <td>20000</td>\n",
       "      <td>117500</td>\n",
       "      <td>COMM</td>\n",
       "      <td>CARD</td>\n",
       "      <td>PPT/보고서</td>\n",
       "      <td>2019-11-14 00:00:00</td>\n",
       "      <td>2021-03-28</td>\n",
       "    </tr>\n",
       "    <tr>\n",
       "      <th>8</th>\n",
       "      <td>8</td>\n",
       "      <td>970669</td>\n",
       "      <td>478033</td>\n",
       "      <td>203178</td>\n",
       "      <td>PAYMENT</td>\n",
       "      <td>COMPLETED</td>\n",
       "      <td>초격차 패키지 : 한번에 끝내는 영상 촬영과 편집</td>\n",
       "      <td>영상/3D</td>\n",
       "      <td>올인원</td>\n",
       "      <td>2021-03-28 15:26:47</td>\n",
       "      <td>96000</td>\n",
       "      <td>[웰컴쿠폰] 올인원 패키지 2만원 할인 쿠폰</td>\n",
       "      <td>20000</td>\n",
       "      <td>116000</td>\n",
       "      <td>COMM</td>\n",
       "      <td>CARD</td>\n",
       "      <td>영상 편집</td>\n",
       "      <td>2020-12-02 00:00:00</td>\n",
       "      <td>2021-03-28</td>\n",
       "    </tr>\n",
       "    <tr>\n",
       "      <th>10</th>\n",
       "      <td>10</td>\n",
       "      <td>970671</td>\n",
       "      <td>469860</td>\n",
       "      <td>203644</td>\n",
       "      <td>PAYMENT</td>\n",
       "      <td>COMPLETED</td>\n",
       "      <td>올인원 패키지 : 권오상의 금융 아카데미 - 권오상의 재무제표 분석 기초(평생소장)</td>\n",
       "      <td>부동산/금융</td>\n",
       "      <td>올인원</td>\n",
       "      <td>2021-03-28 15:27:17</td>\n",
       "      <td>263000</td>\n",
       "      <td>미적용</td>\n",
       "      <td>0</td>\n",
       "      <td>263000</td>\n",
       "      <td>COMM</td>\n",
       "      <td>CARD</td>\n",
       "      <td>부동산/금융</td>\n",
       "      <td>2020-11-27 00:00:00</td>\n",
       "      <td>2021-03-28</td>\n",
       "    </tr>\n",
       "    <tr>\n",
       "      <th>14</th>\n",
       "      <td>14</td>\n",
       "      <td>970676</td>\n",
       "      <td>478035</td>\n",
       "      <td>203720</td>\n",
       "      <td>PAYMENT</td>\n",
       "      <td>COMPLETED</td>\n",
       "      <td>초격차 패키지 : 한 번에 끝내는 프론트엔드 개발</td>\n",
       "      <td>프로그래밍</td>\n",
       "      <td>올인원</td>\n",
       "      <td>2021-03-28 15:31:01</td>\n",
       "      <td>91000</td>\n",
       "      <td>[웰컴쿠폰] 올인원 패키지 2만원 할인 쿠폰</td>\n",
       "      <td>20000</td>\n",
       "      <td>111000</td>\n",
       "      <td>COMM</td>\n",
       "      <td>CARD</td>\n",
       "      <td>프론트엔드 개발</td>\n",
       "      <td>2021-02-02 00:00:00</td>\n",
       "      <td>2021-03-28</td>\n",
       "    </tr>\n",
       "    <tr>\n",
       "      <th>...</th>\n",
       "      <td>...</td>\n",
       "      <td>...</td>\n",
       "      <td>...</td>\n",
       "      <td>...</td>\n",
       "      <td>...</td>\n",
       "      <td>...</td>\n",
       "      <td>...</td>\n",
       "      <td>...</td>\n",
       "      <td>...</td>\n",
       "      <td>...</td>\n",
       "      <td>...</td>\n",
       "      <td>...</td>\n",
       "      <td>...</td>\n",
       "      <td>...</td>\n",
       "      <td>...</td>\n",
       "      <td>...</td>\n",
       "      <td>...</td>\n",
       "      <td>...</td>\n",
       "      <td>...</td>\n",
       "    </tr>\n",
       "    <tr>\n",
       "      <th>100866</th>\n",
       "      <td>101582</td>\n",
       "      <td>1363708</td>\n",
       "      <td>600073</td>\n",
       "      <td>206065</td>\n",
       "      <td>REFUND</td>\n",
       "      <td>COMPLETED</td>\n",
       "      <td>(프로모션 7/16-7/29) 초격차 패키지 : 한 번에 끝내는 Spring 완.전.판</td>\n",
       "      <td>프로그래밍</td>\n",
       "      <td>올인원</td>\n",
       "      <td>2021-09-24 14:34:50</td>\n",
       "      <td>-149000</td>\n",
       "      <td>미적용</td>\n",
       "      <td>0</td>\n",
       "      <td>179000</td>\n",
       "      <td>NAVER</td>\n",
       "      <td>CARD</td>\n",
       "      <td>백엔드 개발</td>\n",
       "      <td>2021-07-15 00:00:00</td>\n",
       "      <td>2021-09-24</td>\n",
       "    </tr>\n",
       "    <tr>\n",
       "      <th>100870</th>\n",
       "      <td>101586</td>\n",
       "      <td>1363721</td>\n",
       "      <td>645911</td>\n",
       "      <td>300000</td>\n",
       "      <td>REFUND</td>\n",
       "      <td>COMPLETED</td>\n",
       "      <td>프로모션 : 콘텐츠 마케터 맥북 air 패스(9월 현물 프리패스)</td>\n",
       "      <td>마케팅</td>\n",
       "      <td>올인원</td>\n",
       "      <td>2021-09-24 14:41:35</td>\n",
       "      <td>-1400000</td>\n",
       "      <td>미적용</td>\n",
       "      <td>0</td>\n",
       "      <td>1400000</td>\n",
       "      <td>INICIS</td>\n",
       "      <td>CARD</td>\n",
       "      <td>마케팅</td>\n",
       "      <td>2018-11-11 00:00:00</td>\n",
       "      <td>2021-09-24</td>\n",
       "    </tr>\n",
       "    <tr>\n",
       "      <th>100895</th>\n",
       "      <td>101611</td>\n",
       "      <td>1363934</td>\n",
       "      <td>506356</td>\n",
       "      <td>206720</td>\n",
       "      <td>REFUND</td>\n",
       "      <td>COMPLETED</td>\n",
       "      <td>용호수의 돈 버는 실전 영상 제작</td>\n",
       "      <td>영상/3D</td>\n",
       "      <td>올인원</td>\n",
       "      <td>2021-09-24 16:10:55</td>\n",
       "      <td>-259000</td>\n",
       "      <td>미적용</td>\n",
       "      <td>0</td>\n",
       "      <td>259000</td>\n",
       "      <td>NAVER</td>\n",
       "      <td>CARD</td>\n",
       "      <td>영상 편집</td>\n",
       "      <td>2021-08-17 00:00:00</td>\n",
       "      <td>2021-09-24</td>\n",
       "    </tr>\n",
       "    <tr>\n",
       "      <th>100933</th>\n",
       "      <td>101649</td>\n",
       "      <td>1364149</td>\n",
       "      <td>604077</td>\n",
       "      <td>205569</td>\n",
       "      <td>REFUND</td>\n",
       "      <td>COMPLETED</td>\n",
       "      <td>올인원 패키지 : 공여사와 무작정 풀어보는 엑셀 실무</td>\n",
       "      <td>업무 생산성</td>\n",
       "      <td>올인원</td>\n",
       "      <td>2021-09-24 17:09:30</td>\n",
       "      <td>-109000</td>\n",
       "      <td>미적용</td>\n",
       "      <td>0</td>\n",
       "      <td>129000</td>\n",
       "      <td>KAKAO</td>\n",
       "      <td>POINT</td>\n",
       "      <td>엑셀/VBA</td>\n",
       "      <td>2021-08-17 00:00:00</td>\n",
       "      <td>2021-09-24</td>\n",
       "    </tr>\n",
       "    <tr>\n",
       "      <th>100936</th>\n",
       "      <td>101652</td>\n",
       "      <td>1364217</td>\n",
       "      <td>552100</td>\n",
       "      <td>203525</td>\n",
       "      <td>REFUND</td>\n",
       "      <td>COMPLETED</td>\n",
       "      <td>초격차 패키지 : 한번에 끝내는 Java/Spring 웹 개발 마스터</td>\n",
       "      <td>프로그래밍</td>\n",
       "      <td>올인원</td>\n",
       "      <td>2021-09-24 17:33:53</td>\n",
       "      <td>-108186</td>\n",
       "      <td>미적용</td>\n",
       "      <td>0</td>\n",
       "      <td>114000</td>\n",
       "      <td>INICIS</td>\n",
       "      <td>CARD</td>\n",
       "      <td>백엔드 개발</td>\n",
       "      <td>2021-02-01 00:00:00</td>\n",
       "      <td>2021-09-24</td>\n",
       "    </tr>\n",
       "  </tbody>\n",
       "</table>\n",
       "<p>53040 rows × 19 columns</p>\n",
       "</div>"
      ],
      "text/plain": [
       "        Unnamed: 0       id  customer_id  course_id     type      state  \\\n",
       "2                2   970657        72297     204246  PAYMENT  COMPLETED   \n",
       "4                4   970658       478028     201797  PAYMENT  COMPLETED   \n",
       "8                8   970669       478033     203178  PAYMENT  COMPLETED   \n",
       "10              10   970671       469860     203644  PAYMENT  COMPLETED   \n",
       "14              14   970676       478035     203720  PAYMENT  COMPLETED   \n",
       "...            ...      ...          ...        ...      ...        ...   \n",
       "100866      101582  1363708       600073     206065   REFUND  COMPLETED   \n",
       "100870      101586  1363721       645911     300000   REFUND  COMPLETED   \n",
       "100895      101611  1363934       506356     206720   REFUND  COMPLETED   \n",
       "100933      101649  1364149       604077     205569   REFUND  COMPLETED   \n",
       "100936      101652  1364217       552100     203525   REFUND  COMPLETED   \n",
       "\n",
       "                                            course_title category_title  \\\n",
       "2                                   시크릿코드 : 프론트엔드 실무 완성편          프로그래밍   \n",
       "4                          올인원 패키지 : 직장인 필수 스킬 3종 세트 MAX         업무 생산성   \n",
       "8                            초격차 패키지 : 한번에 끝내는 영상 촬영과 편집          영상/3D   \n",
       "10        올인원 패키지 : 권오상의 금융 아카데미 - 권오상의 재무제표 분석 기초(평생소장)         부동산/금융   \n",
       "14                           초격차 패키지 : 한 번에 끝내는 프론트엔드 개발          프로그래밍   \n",
       "...                                                  ...            ...   \n",
       "100866  (프로모션 7/16-7/29) 초격차 패키지 : 한 번에 끝내는 Spring 완.전.판          프로그래밍   \n",
       "100870              프로모션 : 콘텐츠 마케터 맥북 air 패스(9월 현물 프리패스)            마케팅   \n",
       "100895                                용호수의 돈 버는 실전 영상 제작          영상/3D   \n",
       "100933                     올인원 패키지 : 공여사와 무작정 풀어보는 엑셀 실무         업무 생산성   \n",
       "100936            초격차 패키지 : 한번에 끝내는 Java/Spring 웹 개발 마스터          프로그래밍   \n",
       "\n",
       "        format        completed_at  transaction_amount  \\\n",
       "2       스쿨 온라인 2021-03-28 15:21:43              171810   \n",
       "4          올인원 2021-03-28 15:21:54               97500   \n",
       "8          올인원 2021-03-28 15:26:47               96000   \n",
       "10         올인원 2021-03-28 15:27:17              263000   \n",
       "14         올인원 2021-03-28 15:31:01               91000   \n",
       "...        ...                 ...                 ...   \n",
       "100866     올인원 2021-09-24 14:34:50             -149000   \n",
       "100870     올인원 2021-09-24 14:41:35            -1400000   \n",
       "100895     올인원 2021-09-24 16:10:55             -259000   \n",
       "100933     올인원 2021-09-24 17:09:30             -109000   \n",
       "100936     올인원 2021-09-24 17:33:53             -108186   \n",
       "\n",
       "                    coupon_title  coupon_discount_amount  sale_price      pg  \\\n",
       "2          [10% 할인] 시크릿코드 실무 완성편                   19090      190900    COMM   \n",
       "4       [웰컴쿠폰] 올인원 패키지 2만원 할인 쿠폰                   20000      117500    COMM   \n",
       "8       [웰컴쿠폰] 올인원 패키지 2만원 할인 쿠폰                   20000      116000    COMM   \n",
       "10                           미적용                       0      263000    COMM   \n",
       "14      [웰컴쿠폰] 올인원 패키지 2만원 할인 쿠폰                   20000      111000    COMM   \n",
       "...                          ...                     ...         ...     ...   \n",
       "100866                       미적용                       0      179000   NAVER   \n",
       "100870                       미적용                       0     1400000  INICIS   \n",
       "100895                       미적용                       0      259000   NAVER   \n",
       "100933                       미적용                       0      129000   KAKAO   \n",
       "100936                       미적용                       0      114000  INICIS   \n",
       "\n",
       "       method subcategory_title   marketing_start_at completed_ymd  \n",
       "2        CARD             프로그래밍  2021-03-04 00:00:00    2021-03-28  \n",
       "4        CARD           PPT/보고서  2019-11-14 00:00:00    2021-03-28  \n",
       "8        CARD             영상 편집  2020-12-02 00:00:00    2021-03-28  \n",
       "10       CARD            부동산/금융  2020-11-27 00:00:00    2021-03-28  \n",
       "14       CARD          프론트엔드 개발  2021-02-02 00:00:00    2021-03-28  \n",
       "...       ...               ...                  ...           ...  \n",
       "100866   CARD            백엔드 개발  2021-07-15 00:00:00    2021-09-24  \n",
       "100870   CARD               마케팅  2018-11-11 00:00:00    2021-09-24  \n",
       "100895   CARD             영상 편집  2021-08-17 00:00:00    2021-09-24  \n",
       "100933  POINT            엑셀/VBA  2021-08-17 00:00:00    2021-09-24  \n",
       "100936   CARD            백엔드 개발  2021-02-01 00:00:00    2021-09-24  \n",
       "\n",
       "[53040 rows x 19 columns]"
      ]
     },
     "execution_count": 21,
     "metadata": {},
     "output_type": "execute_result"
    }
   ],
   "source": [
    "rev['completed_ymd'] = rev['completed_at'].dt.strftime(\"%Y-%m-%d\")\n",
    "rev"
   ]
  },
  {
   "cell_type": "code",
   "execution_count": 22,
   "id": "c1002f81",
   "metadata": {
    "ExecuteTime": {
     "end_time": "2022-07-01T07:54:42.838865Z",
     "start_time": "2022-07-01T07:54:42.804898Z"
    }
   },
   "outputs": [
    {
     "data": {
      "text/plain": [
       "completed_ymd\n",
       "2021-03-28    36101770\n",
       "2021-03-29    33008733\n",
       "2021-03-30    38159694\n",
       "2021-03-31    85210797\n",
       "2021-04-01    22195955\n",
       "                ...   \n",
       "2021-09-21    24661500\n",
       "2021-09-22    57519650\n",
       "2021-09-23     8979352\n",
       "2021-09-24    32536684\n",
       "2021-09-25    12418000\n",
       "Name: transaction_amount, Length: 182, dtype: int64"
      ]
     },
     "execution_count": 22,
     "metadata": {},
     "output_type": "execute_result"
    }
   ],
   "source": [
    "rev_days = rev.groupby('completed_ymd')['transaction_amount'].sum()\n",
    "rev_days"
   ]
  },
  {
   "cell_type": "code",
   "execution_count": 23,
   "id": "7f4ab3fd",
   "metadata": {
    "ExecuteTime": {
     "end_time": "2022-07-01T07:54:43.010971Z",
     "start_time": "2022-07-01T07:54:42.989953Z"
    }
   },
   "outputs": [
    {
     "data": {
      "text/plain": [
       "171149483"
      ]
     },
     "execution_count": 23,
     "metadata": {},
     "output_type": "execute_result"
    }
   ],
   "source": [
    "rev_days.max()"
   ]
  },
  {
   "cell_type": "code",
   "execution_count": 24,
   "id": "4368a5e3",
   "metadata": {
    "ExecuteTime": {
     "end_time": "2022-07-01T07:54:43.628019Z",
     "start_time": "2022-07-01T07:54:43.216497Z"
    }
   },
   "outputs": [
    {
     "data": {
      "image/png": "[encoded data removed]",
      "text/plain": [
       "<Figure size 1080x720 with 1 Axes>"
      ]
     },
     "metadata": {},
     "output_type": "display_data"
    }
   ],
   "source": [
    "plt.figure(figsize=(15,10))\n",
    "sns.set_theme(style=\"darkgrid\")\n",
    "\n",
    "rev_days.plot(color='#20B2AA')\n",
    "plt.xlabel('Day by Days')\n",
    "plt.ylabel('Revenue')\n",
    "plt.yticks([0, 30000000, 60000000, 90000000, 120000000, 150000000 ,180000000], \n",
    "           ['0','30,000,000','60,000,000', '90,000,000', '120,000,000', '150,000,000' ,'180,000,000'])\n",
    "plt.show()"
   ]
  },
  {
   "cell_type": "markdown",
   "id": "a2bf4f2a",
   "metadata": {},
   "source": [
    "매출이 월말에 집중되는 경향이있음."
   ]
  },
  {
   "cell_type": "markdown",
   "id": "e34b2c8e",
   "metadata": {},
   "source": [
    "### 일자별 매출 그래프"
   ]
  },
  {
   "cell_type": "code",
   "execution_count": 25,
   "id": "997a3d05",
   "metadata": {
    "ExecuteTime": {
     "end_time": "2022-07-01T07:54:44.357569Z",
     "start_time": "2022-07-01T07:54:44.303934Z"
    }
   },
   "outputs": [
    {
     "data": {
      "text/html": [
       "<div>\n",
       "<style scoped>\n",
       "    .dataframe tbody tr th:only-of-type {\n",
       "        vertical-align: middle;\n",
       "    }\n",
       "\n",
       "    .dataframe tbody tr th {\n",
       "        vertical-align: top;\n",
       "    }\n",
       "\n",
       "    .dataframe thead th {\n",
       "        text-align: right;\n",
       "    }\n",
       "</style>\n",
       "<table border=\"1\" class=\"dataframe\">\n",
       "  <thead>\n",
       "    <tr style=\"text-align: right;\">\n",
       "      <th></th>\n",
       "      <th>transaction_amount</th>\n",
       "    </tr>\n",
       "    <tr>\n",
       "      <th>completed_at</th>\n",
       "      <th></th>\n",
       "    </tr>\n",
       "  </thead>\n",
       "  <tbody>\n",
       "    <tr>\n",
       "      <th>1</th>\n",
       "      <td>120656529</td>\n",
       "    </tr>\n",
       "    <tr>\n",
       "      <th>2</th>\n",
       "      <td>136319725</td>\n",
       "    </tr>\n",
       "    <tr>\n",
       "      <th>3</th>\n",
       "      <td>132405593</td>\n",
       "    </tr>\n",
       "    <tr>\n",
       "      <th>4</th>\n",
       "      <td>178228365</td>\n",
       "    </tr>\n",
       "    <tr>\n",
       "      <th>5</th>\n",
       "      <td>141387104</td>\n",
       "    </tr>\n",
       "    <tr>\n",
       "      <th>6</th>\n",
       "      <td>165539322</td>\n",
       "    </tr>\n",
       "    <tr>\n",
       "      <th>7</th>\n",
       "      <td>154945359</td>\n",
       "    </tr>\n",
       "    <tr>\n",
       "      <th>8</th>\n",
       "      <td>165210479</td>\n",
       "    </tr>\n",
       "    <tr>\n",
       "      <th>9</th>\n",
       "      <td>177890909</td>\n",
       "    </tr>\n",
       "    <tr>\n",
       "      <th>10</th>\n",
       "      <td>165278290</td>\n",
       "    </tr>\n",
       "    <tr>\n",
       "      <th>11</th>\n",
       "      <td>202992569</td>\n",
       "    </tr>\n",
       "    <tr>\n",
       "      <th>12</th>\n",
       "      <td>176206520</td>\n",
       "    </tr>\n",
       "    <tr>\n",
       "      <th>13</th>\n",
       "      <td>189153384</td>\n",
       "    </tr>\n",
       "    <tr>\n",
       "      <th>14</th>\n",
       "      <td>160696816</td>\n",
       "    </tr>\n",
       "    <tr>\n",
       "      <th>15</th>\n",
       "      <td>184968987</td>\n",
       "    </tr>\n",
       "    <tr>\n",
       "      <th>16</th>\n",
       "      <td>266295651</td>\n",
       "    </tr>\n",
       "    <tr>\n",
       "      <th>17</th>\n",
       "      <td>150885405</td>\n",
       "    </tr>\n",
       "    <tr>\n",
       "      <th>18</th>\n",
       "      <td>184150839</td>\n",
       "    </tr>\n",
       "    <tr>\n",
       "      <th>19</th>\n",
       "      <td>150881824</td>\n",
       "    </tr>\n",
       "    <tr>\n",
       "      <th>20</th>\n",
       "      <td>185796922</td>\n",
       "    </tr>\n",
       "    <tr>\n",
       "      <th>21</th>\n",
       "      <td>157591993</td>\n",
       "    </tr>\n",
       "    <tr>\n",
       "      <th>22</th>\n",
       "      <td>203314740</td>\n",
       "    </tr>\n",
       "    <tr>\n",
       "      <th>23</th>\n",
       "      <td>185753040</td>\n",
       "    </tr>\n",
       "    <tr>\n",
       "      <th>24</th>\n",
       "      <td>166508125</td>\n",
       "    </tr>\n",
       "    <tr>\n",
       "      <th>25</th>\n",
       "      <td>219164394</td>\n",
       "    </tr>\n",
       "    <tr>\n",
       "      <th>26</th>\n",
       "      <td>143185744</td>\n",
       "    </tr>\n",
       "    <tr>\n",
       "      <th>27</th>\n",
       "      <td>158750321</td>\n",
       "    </tr>\n",
       "    <tr>\n",
       "      <th>28</th>\n",
       "      <td>218264972</td>\n",
       "    </tr>\n",
       "    <tr>\n",
       "      <th>29</th>\n",
       "      <td>234631008</td>\n",
       "    </tr>\n",
       "    <tr>\n",
       "      <th>30</th>\n",
       "      <td>441556024</td>\n",
       "    </tr>\n",
       "    <tr>\n",
       "      <th>31</th>\n",
       "      <td>454108581</td>\n",
       "    </tr>\n",
       "  </tbody>\n",
       "</table>\n",
       "</div>"
      ],
      "text/plain": [
       "              transaction_amount\n",
       "completed_at                    \n",
       "1                      120656529\n",
       "2                      136319725\n",
       "3                      132405593\n",
       "4                      178228365\n",
       "5                      141387104\n",
       "6                      165539322\n",
       "7                      154945359\n",
       "8                      165210479\n",
       "9                      177890909\n",
       "10                     165278290\n",
       "11                     202992569\n",
       "12                     176206520\n",
       "13                     189153384\n",
       "14                     160696816\n",
       "15                     184968987\n",
       "16                     266295651\n",
       "17                     150885405\n",
       "18                     184150839\n",
       "19                     150881824\n",
       "20                     185796922\n",
       "21                     157591993\n",
       "22                     203314740\n",
       "23                     185753040\n",
       "24                     166508125\n",
       "25                     219164394\n",
       "26                     143185744\n",
       "27                     158750321\n",
       "28                     218264972\n",
       "29                     234631008\n",
       "30                     441556024\n",
       "31                     454108581"
      ]
     },
     "execution_count": 25,
     "metadata": {},
     "output_type": "execute_result"
    }
   ],
   "source": [
    "# lambda 함수를 이용해 일만 뽑아서 그룹핑\n",
    "rev_by_days = rev.set_index('completed_at').groupby(lambda day: day.day).sum()[['transaction_amount']]\n",
    "rev_by_days"
   ]
  },
  {
   "cell_type": "code",
   "execution_count": 26,
   "id": "9ff40659",
   "metadata": {
    "ExecuteTime": {
     "end_time": "2022-07-01T07:54:45.064370Z",
     "start_time": "2022-07-01T07:54:44.679071Z"
    },
    "scrolled": false
   },
   "outputs": [
    {
     "data": {
      "image/png": "[encoded data removed]",
      "text/plain": [
       "<Figure size 1080x720 with 1 Axes>"
      ]
     },
     "metadata": {},
     "output_type": "display_data"
    }
   ],
   "source": [
    "# 시각화\n",
    "\n",
    "plt.figure(figsize=(15,10))\n",
    "sns.set_theme(style=\"darkgrid\")\n",
    "\n",
    "sns.lineplot(x='completed_at', y='transaction_amount',\n",
    "             data=rev_by_days,\n",
    "             color = 'darkgreen'\n",
    "            )\n",
    "plt.xlabel('Days')\n",
    "plt.ylabel('Revenue')\n",
    "plt.yticks([0, 100000000, 200000000, 300000000, 400000000, 500000000 ,600000000], \n",
    "           ['0','100,000,000','200,000,000', '300,000,000', '400,000,000', '500,000,000' ,'600,000,000'])\n",
    "# plt.xticks([i for i in range(0,7)], \n",
    "#            ['Mon', 'Tue', 'Wed', 'Thu', 'Fri', 'Sat', 'Sun'])\n",
    "\n",
    "plt.show()"
   ]
  },
  {
   "cell_type": "markdown",
   "id": "b4331649",
   "metadata": {},
   "source": [
    "> 일별 매출에서 확인한바와 같이 매출이 월말에 집중되는 경향을 확인할 수 있음."
   ]
  },
  {
   "cell_type": "markdown",
   "id": "5902fd88",
   "metadata": {},
   "source": [
    "### 주별 매출 그래프"
   ]
  },
  {
   "cell_type": "code",
   "execution_count": 27,
   "id": "000bcea1",
   "metadata": {
    "ExecuteTime": {
     "end_time": "2022-07-01T07:54:47.035145Z",
     "start_time": "2022-07-01T07:54:46.132347Z"
    },
    "scrolled": false
   },
   "outputs": [
    {
     "name": "stderr",
     "output_type": "stream",
     "text": [
      "C:\\Users\\earth\\AppData\\Local\\Temp/ipykernel_26748/3831191031.py:2: FutureWarning: weekofyear and week have been deprecated, please use DatetimeIndex.isocalendar().week instead, which returns a Series.  To exactly reproduce the behavior of week and weekofyear and return an Index, you may call pd.Int64Index(idx.isocalendar().week)\n",
      "  rev_by_weeks = rev.set_index('completed_at').groupby(lambda week: week.week).sum()[['transaction_amount']]\n"
     ]
    },
    {
     "data": {
      "text/html": [
       "<div>\n",
       "<style scoped>\n",
       "    .dataframe tbody tr th:only-of-type {\n",
       "        vertical-align: middle;\n",
       "    }\n",
       "\n",
       "    .dataframe tbody tr th {\n",
       "        vertical-align: top;\n",
       "    }\n",
       "\n",
       "    .dataframe thead th {\n",
       "        text-align: right;\n",
       "    }\n",
       "</style>\n",
       "<table border=\"1\" class=\"dataframe\">\n",
       "  <thead>\n",
       "    <tr style=\"text-align: right;\">\n",
       "      <th></th>\n",
       "      <th>transaction_amount</th>\n",
       "    </tr>\n",
       "    <tr>\n",
       "      <th>completed_at</th>\n",
       "      <th></th>\n",
       "    </tr>\n",
       "  </thead>\n",
       "  <tbody>\n",
       "    <tr>\n",
       "      <th>12</th>\n",
       "      <td>36101770</td>\n",
       "    </tr>\n",
       "    <tr>\n",
       "      <th>13</th>\n",
       "      <td>280902095</td>\n",
       "    </tr>\n",
       "    <tr>\n",
       "      <th>14</th>\n",
       "      <td>174836172</td>\n",
       "    </tr>\n",
       "    <tr>\n",
       "      <th>15</th>\n",
       "      <td>180461592</td>\n",
       "    </tr>\n",
       "    <tr>\n",
       "      <th>16</th>\n",
       "      <td>172120121</td>\n",
       "    </tr>\n",
       "    <tr>\n",
       "      <th>17</th>\n",
       "      <td>283422726</td>\n",
       "    </tr>\n",
       "    <tr>\n",
       "      <th>18</th>\n",
       "      <td>178097029</td>\n",
       "    </tr>\n",
       "    <tr>\n",
       "      <th>19</th>\n",
       "      <td>209188129</td>\n",
       "    </tr>\n",
       "    <tr>\n",
       "      <th>20</th>\n",
       "      <td>184205414</td>\n",
       "    </tr>\n",
       "    <tr>\n",
       "      <th>21</th>\n",
       "      <td>173467314</td>\n",
       "    </tr>\n",
       "    <tr>\n",
       "      <th>22</th>\n",
       "      <td>242701606</td>\n",
       "    </tr>\n",
       "    <tr>\n",
       "      <th>23</th>\n",
       "      <td>191635600</td>\n",
       "    </tr>\n",
       "    <tr>\n",
       "      <th>24</th>\n",
       "      <td>188809085</td>\n",
       "    </tr>\n",
       "    <tr>\n",
       "      <th>25</th>\n",
       "      <td>190928325</td>\n",
       "    </tr>\n",
       "    <tr>\n",
       "      <th>26</th>\n",
       "      <td>349850093</td>\n",
       "    </tr>\n",
       "    <tr>\n",
       "      <th>27</th>\n",
       "      <td>196696245</td>\n",
       "    </tr>\n",
       "    <tr>\n",
       "      <th>28</th>\n",
       "      <td>213481339</td>\n",
       "    </tr>\n",
       "    <tr>\n",
       "      <th>29</th>\n",
       "      <td>297762481</td>\n",
       "    </tr>\n",
       "    <tr>\n",
       "      <th>30</th>\n",
       "      <td>330688258</td>\n",
       "    </tr>\n",
       "    <tr>\n",
       "      <th>31</th>\n",
       "      <td>174209404</td>\n",
       "    </tr>\n",
       "    <tr>\n",
       "      <th>32</th>\n",
       "      <td>245371025</td>\n",
       "    </tr>\n",
       "    <tr>\n",
       "      <th>33</th>\n",
       "      <td>252133800</td>\n",
       "    </tr>\n",
       "    <tr>\n",
       "      <th>34</th>\n",
       "      <td>220679805</td>\n",
       "    </tr>\n",
       "    <tr>\n",
       "      <th>35</th>\n",
       "      <td>355362899</td>\n",
       "    </tr>\n",
       "    <tr>\n",
       "      <th>36</th>\n",
       "      <td>243789612</td>\n",
       "    </tr>\n",
       "    <tr>\n",
       "      <th>37</th>\n",
       "      <td>230994459</td>\n",
       "    </tr>\n",
       "    <tr>\n",
       "      <th>38</th>\n",
       "      <td>174823136</td>\n",
       "    </tr>\n",
       "  </tbody>\n",
       "</table>\n",
       "</div>"
      ],
      "text/plain": [
       "              transaction_amount\n",
       "completed_at                    \n",
       "12                      36101770\n",
       "13                     280902095\n",
       "14                     174836172\n",
       "15                     180461592\n",
       "16                     172120121\n",
       "17                     283422726\n",
       "18                     178097029\n",
       "19                     209188129\n",
       "20                     184205414\n",
       "21                     173467314\n",
       "22                     242701606\n",
       "23                     191635600\n",
       "24                     188809085\n",
       "25                     190928325\n",
       "26                     349850093\n",
       "27                     196696245\n",
       "28                     213481339\n",
       "29                     297762481\n",
       "30                     330688258\n",
       "31                     174209404\n",
       "32                     245371025\n",
       "33                     252133800\n",
       "34                     220679805\n",
       "35                     355362899\n",
       "36                     243789612\n",
       "37                     230994459\n",
       "38                     174823136"
      ]
     },
     "execution_count": 27,
     "metadata": {},
     "output_type": "execute_result"
    }
   ],
   "source": [
    "# lambda 함수를 이용해 주단위로 데이터 뽑기\n",
    "rev_by_weeks = rev.set_index('completed_at').groupby(lambda week: week.week).sum()[['transaction_amount']]\n",
    "rev_by_weeks"
   ]
  },
  {
   "cell_type": "code",
   "execution_count": 28,
   "id": "8e51d697",
   "metadata": {
    "ExecuteTime": {
     "end_time": "2022-07-01T07:54:47.514218Z",
     "start_time": "2022-07-01T07:54:47.186605Z"
    }
   },
   "outputs": [
    {
     "data": {
      "image/png": "[encoded data removed]",
      "text/plain": [
       "<Figure size 1080x720 with 1 Axes>"
      ]
     },
     "metadata": {},
     "output_type": "display_data"
    }
   ],
   "source": [
    "# 시각화\n",
    "\n",
    "plt.figure(figsize=(15,10))\n",
    "sns.set_theme(style=\"darkgrid\")\n",
    "\n",
    "sns.lineplot(x='completed_at', y='transaction_amount',\n",
    "             data=rev_by_weeks,\n",
    "             color = '#FF8C00'\n",
    "            )\n",
    "plt.xlabel('Weeks')\n",
    "plt.ylabel('Revenue')\n",
    "plt.yticks([ 100000000, 200000000, 300000000 ,400000000], \n",
    "           ['100,000,000','200,000,000', '300,000,000', '400,000,000',])\n",
    "plt.xlim(13,38)\n",
    "plt.xticks([13, 18,22,27,31, 36], \n",
    "           ['1th Apr', '1th May', '1th Jun', '1th Juy', '1th Aug', '1th Sep'])\n",
    "\n",
    "plt.show()"
   ]
  },
  {
   "cell_type": "markdown",
   "id": "e0b1f67c",
   "metadata": {},
   "source": [
    "> 월별 마지막 주에 매출이 급증하고 월초엔 매출이 급감하는 패턴이 확인됨."
   ]
  },
  {
   "cell_type": "markdown",
   "id": "0878ef47",
   "metadata": {},
   "source": []
  },
  {
   "cell_type": "markdown",
   "id": "fb76f940",
   "metadata": {},
   "source": [
    "### 월별 매출 그래프"
   ]
  },
  {
   "cell_type": "code",
   "execution_count": 29,
   "id": "652dcb5b",
   "metadata": {
    "ExecuteTime": {
     "end_time": "2022-07-01T07:54:48.123044Z",
     "start_time": "2022-07-01T07:54:48.073357Z"
    }
   },
   "outputs": [
    {
     "data": {
      "text/html": [
       "<div>\n",
       "<style scoped>\n",
       "    .dataframe tbody tr th:only-of-type {\n",
       "        vertical-align: middle;\n",
       "    }\n",
       "\n",
       "    .dataframe tbody tr th {\n",
       "        vertical-align: top;\n",
       "    }\n",
       "\n",
       "    .dataframe thead th {\n",
       "        text-align: right;\n",
       "    }\n",
       "</style>\n",
       "<table border=\"1\" class=\"dataframe\">\n",
       "  <thead>\n",
       "    <tr style=\"text-align: right;\">\n",
       "      <th></th>\n",
       "      <th>transaction_amount</th>\n",
       "    </tr>\n",
       "    <tr>\n",
       "      <th>completed_at</th>\n",
       "      <th></th>\n",
       "    </tr>\n",
       "  </thead>\n",
       "  <tbody>\n",
       "    <tr>\n",
       "      <th>3</th>\n",
       "      <td>192480994</td>\n",
       "    </tr>\n",
       "    <tr>\n",
       "      <th>4</th>\n",
       "      <td>877810402</td>\n",
       "    </tr>\n",
       "    <tr>\n",
       "      <th>5</th>\n",
       "      <td>894742767</td>\n",
       "    </tr>\n",
       "    <tr>\n",
       "      <th>6</th>\n",
       "      <td>975246992</td>\n",
       "    </tr>\n",
       "    <tr>\n",
       "      <th>7</th>\n",
       "      <td>1118391039</td>\n",
       "    </tr>\n",
       "    <tr>\n",
       "      <th>8</th>\n",
       "      <td>1143731388</td>\n",
       "    </tr>\n",
       "    <tr>\n",
       "      <th>9</th>\n",
       "      <td>770315952</td>\n",
       "    </tr>\n",
       "  </tbody>\n",
       "</table>\n",
       "</div>"
      ],
      "text/plain": [
       "              transaction_amount\n",
       "completed_at                    \n",
       "3                      192480994\n",
       "4                      877810402\n",
       "5                      894742767\n",
       "6                      975246992\n",
       "7                     1118391039\n",
       "8                     1143731388\n",
       "9                      770315952"
      ]
     },
     "execution_count": 29,
     "metadata": {},
     "output_type": "execute_result"
    }
   ],
   "source": [
    "# lambda 함수를 이용해 월단위로 데이터 뽑기\n",
    "rev_by_month = rev.set_index('completed_at').groupby(lambda month: month.month).sum()[['transaction_amount']]\n",
    "rev_by_month_df = pd.DataFrame(rev_by_month)\n",
    "rev_by_month_df"
   ]
  },
  {
   "cell_type": "code",
   "execution_count": 30,
   "id": "578e7b01",
   "metadata": {},
   "outputs": [
    {
     "data": {
      "image/png": "[encoded data removed]",
      "text/plain": [
       "<Figure size 1080x720 with 1 Axes>"
      ]
     },
     "metadata": {},
     "output_type": "display_data"
    }
   ],
   "source": [
    "# 시각화\n",
    "\n",
    "sns.set_theme(style=\"darkgrid\")\n",
    "my_colors = ['#90EE90', '#90EE90', '#8FBC8F','#3CB371', '#2E8B57', '#6B8E23']\n",
    "\n",
    "rev_m_g = rev_by_month_df.plot.bar(y='transaction_amount',\n",
    "                         rot=0,\n",
    "                         color=my_colors,\n",
    "                         figsize=(15,10))\n",
    "\n",
    "plt.xlabel('Month')\n",
    "plt.ylabel('Revenue')\n",
    "plt.yticks([ 0, 500000000, 1000000000 ,1500000000], \n",
    "           ['0','500,000,000', '1,000,000,000', '1,500,000,000',])\n",
    "plt.xlim(0.5,5.5)\n",
    "plt.xticks([1, 2, 3 ,4 ,5 ], \n",
    "           ['Apr', 'May', 'Jun', 'Juy', 'Aug'])\n",
    "\n",
    "\n",
    "for p in rev_m_g.patches:\n",
    "    left, bottom, width, height = p.get_bbox().bounds\n",
    "    rev_m_g.annotate(format(int(height), ','), (left+width/2, height*1.03), ha='center')\n",
    "\n",
    "\n",
    "plt.show()"
   ]
  },
  {
   "cell_type": "code",
   "execution_count": 31,
   "id": "15f17388",
   "metadata": {},
   "outputs": [
    {
     "name": "stdout",
     "output_type": "stream",
     "text": [
      "(-0.25, 0.0, 0.5, 192480994.0)\n",
      "(0.75, 0.0, 0.5, 877810402.0)\n",
      "(1.75, 0.0, 0.5, 894742767.0)\n",
      "(2.75, 0.0, 0.5, 975246992.0)\n",
      "(3.75, 0.0, 0.5, 1118391039.0)\n",
      "(4.75, 0.0, 0.5, 1143731388.0)\n",
      "(5.75, 0.0, 0.5, 770315952.0)\n"
     ]
    }
   ],
   "source": [
    "for p in rev_m_g.patches:\n",
    "    print(p.get_bbox().bounds)\n"
   ]
  },
  {
   "cell_type": "markdown",
   "id": "0d896b53",
   "metadata": {
    "ExecuteTime": {
     "end_time": "2022-06-30T12:44:24.161620Z",
     "start_time": "2022-06-30T12:44:24.142553Z"
    }
   },
   "source": [
    "> 점진적으로 매출이 증가하고 있음.\n",
    "> *** 3월, 9월 매출은 데이터가 누락되었기 때문에 제외 "
   ]
  },
  {
   "cell_type": "markdown",
   "id": "447760be",
   "metadata": {},
   "source": [
    "# 강의 분석"
   ]
  },
  {
   "cell_type": "markdown",
   "id": "5fd1259e",
   "metadata": {},
   "source": [
    "## 전체 강의 수"
   ]
  },
  {
   "cell_type": "code",
   "execution_count": 32,
   "id": "f225062e",
   "metadata": {
    "ExecuteTime": {
     "end_time": "2022-07-01T08:46:52.974630Z",
     "start_time": "2022-07-01T08:46:52.960479Z"
    }
   },
   "outputs": [
    {
     "data": {
      "text/plain": [
       "584"
      ]
     },
     "execution_count": 32,
     "metadata": {},
     "output_type": "execute_result"
    }
   ],
   "source": [
    "(rev.course_title.value_counts() > 0).sum()"
   ]
  },
  {
   "cell_type": "markdown",
   "id": "63fb6938",
   "metadata": {},
   "source": [
    "> 전체 강의 수 584 개"
   ]
  },
  {
   "cell_type": "code",
   "execution_count": 33,
   "id": "62610b2c",
   "metadata": {},
   "outputs": [
    {
     "data": {
      "text/html": [
       "<div>\n",
       "<style scoped>\n",
       "    .dataframe tbody tr th:only-of-type {\n",
       "        vertical-align: middle;\n",
       "    }\n",
       "\n",
       "    .dataframe tbody tr th {\n",
       "        vertical-align: top;\n",
       "    }\n",
       "\n",
       "    .dataframe thead th {\n",
       "        text-align: right;\n",
       "    }\n",
       "</style>\n",
       "<table border=\"1\" class=\"dataframe\">\n",
       "  <thead>\n",
       "    <tr style=\"text-align: right;\">\n",
       "      <th></th>\n",
       "      <th>Unnamed: 0</th>\n",
       "      <th>id</th>\n",
       "      <th>customer_id</th>\n",
       "      <th>course_id</th>\n",
       "      <th>type</th>\n",
       "      <th>state</th>\n",
       "      <th>course_title</th>\n",
       "      <th>category_title</th>\n",
       "      <th>format</th>\n",
       "      <th>completed_at</th>\n",
       "      <th>transaction_amount</th>\n",
       "      <th>coupon_title</th>\n",
       "      <th>coupon_discount_amount</th>\n",
       "      <th>sale_price</th>\n",
       "      <th>pg</th>\n",
       "      <th>method</th>\n",
       "      <th>subcategory_title</th>\n",
       "      <th>marketing_start_at</th>\n",
       "      <th>completed_ymd</th>\n",
       "    </tr>\n",
       "  </thead>\n",
       "  <tbody>\n",
       "    <tr>\n",
       "      <th>2</th>\n",
       "      <td>2</td>\n",
       "      <td>970657</td>\n",
       "      <td>72297</td>\n",
       "      <td>204246</td>\n",
       "      <td>PAYMENT</td>\n",
       "      <td>COMPLETED</td>\n",
       "      <td>시크릿코드 : 프론트엔드 실무 완성편</td>\n",
       "      <td>프로그래밍</td>\n",
       "      <td>스쿨 온라인</td>\n",
       "      <td>2021-03-28 15:21:43</td>\n",
       "      <td>171810</td>\n",
       "      <td>[10% 할인] 시크릿코드 실무 완성편</td>\n",
       "      <td>19090</td>\n",
       "      <td>190900</td>\n",
       "      <td>COMM</td>\n",
       "      <td>CARD</td>\n",
       "      <td>프로그래밍</td>\n",
       "      <td>2021-03-04 00:00:00</td>\n",
       "      <td>2021-03-28</td>\n",
       "    </tr>\n",
       "    <tr>\n",
       "      <th>4</th>\n",
       "      <td>4</td>\n",
       "      <td>970658</td>\n",
       "      <td>478028</td>\n",
       "      <td>201797</td>\n",
       "      <td>PAYMENT</td>\n",
       "      <td>COMPLETED</td>\n",
       "      <td>올인원 패키지 : 직장인 필수 스킬 3종 세트 MAX</td>\n",
       "      <td>업무 생산성</td>\n",
       "      <td>올인원</td>\n",
       "      <td>2021-03-28 15:21:54</td>\n",
       "      <td>97500</td>\n",
       "      <td>[웰컴쿠폰] 올인원 패키지 2만원 할인 쿠폰</td>\n",
       "      <td>20000</td>\n",
       "      <td>117500</td>\n",
       "      <td>COMM</td>\n",
       "      <td>CARD</td>\n",
       "      <td>PPT/보고서</td>\n",
       "      <td>2019-11-14 00:00:00</td>\n",
       "      <td>2021-03-28</td>\n",
       "    </tr>\n",
       "    <tr>\n",
       "      <th>8</th>\n",
       "      <td>8</td>\n",
       "      <td>970669</td>\n",
       "      <td>478033</td>\n",
       "      <td>203178</td>\n",
       "      <td>PAYMENT</td>\n",
       "      <td>COMPLETED</td>\n",
       "      <td>초격차 패키지 : 한번에 끝내는 영상 촬영과 편집</td>\n",
       "      <td>영상/3D</td>\n",
       "      <td>올인원</td>\n",
       "      <td>2021-03-28 15:26:47</td>\n",
       "      <td>96000</td>\n",
       "      <td>[웰컴쿠폰] 올인원 패키지 2만원 할인 쿠폰</td>\n",
       "      <td>20000</td>\n",
       "      <td>116000</td>\n",
       "      <td>COMM</td>\n",
       "      <td>CARD</td>\n",
       "      <td>영상 편집</td>\n",
       "      <td>2020-12-02 00:00:00</td>\n",
       "      <td>2021-03-28</td>\n",
       "    </tr>\n",
       "    <tr>\n",
       "      <th>10</th>\n",
       "      <td>10</td>\n",
       "      <td>970671</td>\n",
       "      <td>469860</td>\n",
       "      <td>203644</td>\n",
       "      <td>PAYMENT</td>\n",
       "      <td>COMPLETED</td>\n",
       "      <td>올인원 패키지 : 권오상의 금융 아카데미 - 권오상의 재무제표 분석 기초(평생소장)</td>\n",
       "      <td>부동산/금융</td>\n",
       "      <td>올인원</td>\n",
       "      <td>2021-03-28 15:27:17</td>\n",
       "      <td>263000</td>\n",
       "      <td>미적용</td>\n",
       "      <td>0</td>\n",
       "      <td>263000</td>\n",
       "      <td>COMM</td>\n",
       "      <td>CARD</td>\n",
       "      <td>부동산/금융</td>\n",
       "      <td>2020-11-27 00:00:00</td>\n",
       "      <td>2021-03-28</td>\n",
       "    </tr>\n",
       "    <tr>\n",
       "      <th>14</th>\n",
       "      <td>14</td>\n",
       "      <td>970676</td>\n",
       "      <td>478035</td>\n",
       "      <td>203720</td>\n",
       "      <td>PAYMENT</td>\n",
       "      <td>COMPLETED</td>\n",
       "      <td>초격차 패키지 : 한 번에 끝내는 프론트엔드 개발</td>\n",
       "      <td>프로그래밍</td>\n",
       "      <td>올인원</td>\n",
       "      <td>2021-03-28 15:31:01</td>\n",
       "      <td>91000</td>\n",
       "      <td>[웰컴쿠폰] 올인원 패키지 2만원 할인 쿠폰</td>\n",
       "      <td>20000</td>\n",
       "      <td>111000</td>\n",
       "      <td>COMM</td>\n",
       "      <td>CARD</td>\n",
       "      <td>프론트엔드 개발</td>\n",
       "      <td>2021-02-02 00:00:00</td>\n",
       "      <td>2021-03-28</td>\n",
       "    </tr>\n",
       "    <tr>\n",
       "      <th>...</th>\n",
       "      <td>...</td>\n",
       "      <td>...</td>\n",
       "      <td>...</td>\n",
       "      <td>...</td>\n",
       "      <td>...</td>\n",
       "      <td>...</td>\n",
       "      <td>...</td>\n",
       "      <td>...</td>\n",
       "      <td>...</td>\n",
       "      <td>...</td>\n",
       "      <td>...</td>\n",
       "      <td>...</td>\n",
       "      <td>...</td>\n",
       "      <td>...</td>\n",
       "      <td>...</td>\n",
       "      <td>...</td>\n",
       "      <td>...</td>\n",
       "      <td>...</td>\n",
       "      <td>...</td>\n",
       "    </tr>\n",
       "    <tr>\n",
       "      <th>46128</th>\n",
       "      <td>46447</td>\n",
       "      <td>1118573</td>\n",
       "      <td>535037</td>\n",
       "      <td>300000</td>\n",
       "      <td>REFUND</td>\n",
       "      <td>COMPLETED</td>\n",
       "      <td>초격차 패키지: 30개 프로젝트로 배우는 Android 앱 개발 with Kotli...</td>\n",
       "      <td>프로그래밍</td>\n",
       "      <td>올인원</td>\n",
       "      <td>2021-06-03 15:47:12</td>\n",
       "      <td>-91000</td>\n",
       "      <td>미적용</td>\n",
       "      <td>0</td>\n",
       "      <td>111000</td>\n",
       "      <td>INICIS</td>\n",
       "      <td>CARD</td>\n",
       "      <td>프로그래밍</td>\n",
       "      <td>2018-11-11 00:00:00</td>\n",
       "      <td>2021-06-03</td>\n",
       "    </tr>\n",
       "    <tr>\n",
       "      <th>52723</th>\n",
       "      <td>53080</td>\n",
       "      <td>1141847</td>\n",
       "      <td>549360</td>\n",
       "      <td>205599</td>\n",
       "      <td>REFUND</td>\n",
       "      <td>COMPLETED</td>\n",
       "      <td>매주)컴퓨터 공학 전공자 따라잡기 온라인 완주반</td>\n",
       "      <td>프로그래밍</td>\n",
       "      <td>온라인 완주반</td>\n",
       "      <td>2021-06-14 18:52:16</td>\n",
       "      <td>-380000</td>\n",
       "      <td>미적용</td>\n",
       "      <td>0</td>\n",
       "      <td>380000</td>\n",
       "      <td>KAKAO</td>\n",
       "      <td>CARD</td>\n",
       "      <td>프로그래밍</td>\n",
       "      <td>2021-04-26 00:00:00</td>\n",
       "      <td>2021-06-14</td>\n",
       "    </tr>\n",
       "    <tr>\n",
       "      <th>71034</th>\n",
       "      <td>71503</td>\n",
       "      <td>1204206</td>\n",
       "      <td>21299</td>\n",
       "      <td>200000</td>\n",
       "      <td>REFUND</td>\n",
       "      <td>COMPLETED</td>\n",
       "      <td>올인원 패키지 : 모바일 앱 개발</td>\n",
       "      <td>프로그래밍</td>\n",
       "      <td>올인원</td>\n",
       "      <td>2021-07-14 16:45:00</td>\n",
       "      <td>-109200</td>\n",
       "      <td>미적용</td>\n",
       "      <td>0</td>\n",
       "      <td>109200</td>\n",
       "      <td>COMM</td>\n",
       "      <td>TRANS</td>\n",
       "      <td>프로그래밍</td>\n",
       "      <td>2018-12-07 00:00:00</td>\n",
       "      <td>2021-07-14</td>\n",
       "    </tr>\n",
       "    <tr>\n",
       "      <th>71037</th>\n",
       "      <td>71506</td>\n",
       "      <td>1204209</td>\n",
       "      <td>21299</td>\n",
       "      <td>200252</td>\n",
       "      <td>REFUND</td>\n",
       "      <td>COMPLETED</td>\n",
       "      <td>올인원 패키지 : 영상 제작/편집 (**운영되지 않는 코스입니다)</td>\n",
       "      <td>크리에이티브</td>\n",
       "      <td>올인원</td>\n",
       "      <td>2021-07-14 16:45:00</td>\n",
       "      <td>-62958</td>\n",
       "      <td>미적용</td>\n",
       "      <td>0</td>\n",
       "      <td>62958</td>\n",
       "      <td>COMM</td>\n",
       "      <td>TRANS</td>\n",
       "      <td>크리에이티브</td>\n",
       "      <td>2019-02-19 00:00:00</td>\n",
       "      <td>2021-07-14</td>\n",
       "    </tr>\n",
       "    <tr>\n",
       "      <th>71038</th>\n",
       "      <td>71507</td>\n",
       "      <td>1204208</td>\n",
       "      <td>21299</td>\n",
       "      <td>2516</td>\n",
       "      <td>REFUND</td>\n",
       "      <td>COMPLETED</td>\n",
       "      <td>올인원 패키지 : 콘텐츠 마케팅</td>\n",
       "      <td>마케팅</td>\n",
       "      <td>올인원</td>\n",
       "      <td>2021-07-14 16:45:00</td>\n",
       "      <td>-85647</td>\n",
       "      <td>미적용</td>\n",
       "      <td>0</td>\n",
       "      <td>137400</td>\n",
       "      <td>COMM</td>\n",
       "      <td>TRANS</td>\n",
       "      <td>마케팅</td>\n",
       "      <td>2018-11-11 00:00:00</td>\n",
       "      <td>2021-07-14</td>\n",
       "    </tr>\n",
       "  </tbody>\n",
       "</table>\n",
       "<p>584 rows × 19 columns</p>\n",
       "</div>"
      ],
      "text/plain": [
       "       Unnamed: 0       id  customer_id  course_id     type      state  \\\n",
       "2               2   970657        72297     204246  PAYMENT  COMPLETED   \n",
       "4               4   970658       478028     201797  PAYMENT  COMPLETED   \n",
       "8               8   970669       478033     203178  PAYMENT  COMPLETED   \n",
       "10             10   970671       469860     203644  PAYMENT  COMPLETED   \n",
       "14             14   970676       478035     203720  PAYMENT  COMPLETED   \n",
       "...           ...      ...          ...        ...      ...        ...   \n",
       "46128       46447  1118573       535037     300000   REFUND  COMPLETED   \n",
       "52723       53080  1141847       549360     205599   REFUND  COMPLETED   \n",
       "71034       71503  1204206        21299     200000   REFUND  COMPLETED   \n",
       "71037       71506  1204209        21299     200252   REFUND  COMPLETED   \n",
       "71038       71507  1204208        21299       2516   REFUND  COMPLETED   \n",
       "\n",
       "                                            course_title category_title  \\\n",
       "2                                   시크릿코드 : 프론트엔드 실무 완성편          프로그래밍   \n",
       "4                          올인원 패키지 : 직장인 필수 스킬 3종 세트 MAX         업무 생산성   \n",
       "8                            초격차 패키지 : 한번에 끝내는 영상 촬영과 편집          영상/3D   \n",
       "10        올인원 패키지 : 권오상의 금융 아카데미 - 권오상의 재무제표 분석 기초(평생소장)         부동산/금융   \n",
       "14                           초격차 패키지 : 한 번에 끝내는 프론트엔드 개발          프로그래밍   \n",
       "...                                                  ...            ...   \n",
       "46128  초격차 패키지: 30개 프로젝트로 배우는 Android 앱 개발 with Kotli...          프로그래밍   \n",
       "52723                         매주)컴퓨터 공학 전공자 따라잡기 온라인 완주반          프로그래밍   \n",
       "71034                                 올인원 패키지 : 모바일 앱 개발          프로그래밍   \n",
       "71037               올인원 패키지 : 영상 제작/편집 (**운영되지 않는 코스입니다)         크리에이티브   \n",
       "71038                                  올인원 패키지 : 콘텐츠 마케팅            마케팅   \n",
       "\n",
       "        format        completed_at  transaction_amount  \\\n",
       "2       스쿨 온라인 2021-03-28 15:21:43              171810   \n",
       "4          올인원 2021-03-28 15:21:54               97500   \n",
       "8          올인원 2021-03-28 15:26:47               96000   \n",
       "10         올인원 2021-03-28 15:27:17              263000   \n",
       "14         올인원 2021-03-28 15:31:01               91000   \n",
       "...        ...                 ...                 ...   \n",
       "46128      올인원 2021-06-03 15:47:12              -91000   \n",
       "52723  온라인 완주반 2021-06-14 18:52:16             -380000   \n",
       "71034      올인원 2021-07-14 16:45:00             -109200   \n",
       "71037      올인원 2021-07-14 16:45:00              -62958   \n",
       "71038      올인원 2021-07-14 16:45:00              -85647   \n",
       "\n",
       "                   coupon_title  coupon_discount_amount  sale_price      pg  \\\n",
       "2         [10% 할인] 시크릿코드 실무 완성편                   19090      190900    COMM   \n",
       "4      [웰컴쿠폰] 올인원 패키지 2만원 할인 쿠폰                   20000      117500    COMM   \n",
       "8      [웰컴쿠폰] 올인원 패키지 2만원 할인 쿠폰                   20000      116000    COMM   \n",
       "10                          미적용                       0      263000    COMM   \n",
       "14     [웰컴쿠폰] 올인원 패키지 2만원 할인 쿠폰                   20000      111000    COMM   \n",
       "...                         ...                     ...         ...     ...   \n",
       "46128                       미적용                       0      111000  INICIS   \n",
       "52723                       미적용                       0      380000   KAKAO   \n",
       "71034                       미적용                       0      109200    COMM   \n",
       "71037                       미적용                       0       62958    COMM   \n",
       "71038                       미적용                       0      137400    COMM   \n",
       "\n",
       "      method subcategory_title   marketing_start_at completed_ymd  \n",
       "2       CARD             프로그래밍  2021-03-04 00:00:00    2021-03-28  \n",
       "4       CARD           PPT/보고서  2019-11-14 00:00:00    2021-03-28  \n",
       "8       CARD             영상 편집  2020-12-02 00:00:00    2021-03-28  \n",
       "10      CARD            부동산/금융  2020-11-27 00:00:00    2021-03-28  \n",
       "14      CARD          프론트엔드 개발  2021-02-02 00:00:00    2021-03-28  \n",
       "...      ...               ...                  ...           ...  \n",
       "46128   CARD             프로그래밍  2018-11-11 00:00:00    2021-06-03  \n",
       "52723   CARD             프로그래밍  2021-04-26 00:00:00    2021-06-14  \n",
       "71034  TRANS             프로그래밍  2018-12-07 00:00:00    2021-07-14  \n",
       "71037  TRANS            크리에이티브  2019-02-19 00:00:00    2021-07-14  \n",
       "71038  TRANS               마케팅  2018-11-11 00:00:00    2021-07-14  \n",
       "\n",
       "[584 rows x 19 columns]"
      ]
     },
     "execution_count": 33,
     "metadata": {},
     "output_type": "execute_result"
    }
   ],
   "source": [
    "rev_course_du_drop = rev.drop_duplicates('course_title')\n",
    "rev_course_du_drop"
   ]
  },
  {
   "cell_type": "markdown",
   "id": "30350706",
   "metadata": {},
   "source": [
    "> 'course_title' 컬럼의 강의 타이틀 중복데이터 제거"
   ]
  },
  {
   "cell_type": "code",
   "execution_count": 34,
   "id": "b32b8f88",
   "metadata": {
    "ExecuteTime": {
     "end_time": "2022-07-01T10:13:56.377765Z",
     "start_time": "2022-07-01T10:13:56.364684Z"
    }
   },
   "outputs": [
    {
     "data": {
      "text/plain": [
       "270"
      ]
     },
     "execution_count": 34,
     "metadata": {},
     "output_type": "execute_result"
    }
   ],
   "source": [
    "# 'course_title'에 프로모션이 포함된 데이터 카운팅\n",
    "pro_courses = rev_course_du_drop.course_title.str.contains('프로모션')\n",
    "pro_courses.sum()"
   ]
  },
  {
   "cell_type": "markdown",
   "id": "60677389",
   "metadata": {},
   "source": [
    "> 프로모션 강의 수 270개"
   ]
  },
  {
   "cell_type": "code",
   "execution_count": 35,
   "id": "d96613fd",
   "metadata": {
    "ExecuteTime": {
     "end_time": "2022-07-01T10:14:51.712399Z",
     "start_time": "2022-07-01T10:14:51.684472Z"
    }
   },
   "outputs": [
    {
     "data": {
      "text/plain": [
       "314"
      ]
     },
     "execution_count": 35,
     "metadata": {},
     "output_type": "execute_result"
    }
   ],
   "source": [
    "ofc_courses = ~pro_courses\n",
    "ofc_courses.sum()"
   ]
  },
  {
   "cell_type": "markdown",
   "id": "1e23f276",
   "metadata": {
    "ExecuteTime": {
     "end_time": "2022-07-01T10:14:27.802960Z",
     "start_time": "2022-07-01T10:14:27.789899Z"
    }
   },
   "source": [
    "> 프로모션이 아닌 정식강의 수 314 개"
   ]
  },
  {
   "cell_type": "markdown",
   "id": "98091a1f",
   "metadata": {},
   "source": [
    "##  TOP 10 강의"
   ]
  },
  {
   "cell_type": "markdown",
   "id": "192c4b21",
   "metadata": {},
   "source": [
    "### 판매수 TOP 10 강의"
   ]
  },
  {
   "cell_type": "code",
   "execution_count": 36,
   "id": "943732be",
   "metadata": {
    "ExecuteTime": {
     "end_time": "2022-07-01T11:21:44.983063Z",
     "start_time": "2022-07-01T11:21:44.935669Z"
    }
   },
   "outputs": [
    {
     "data": {
      "text/html": [
       "<div>\n",
       "<style scoped>\n",
       "    .dataframe tbody tr th:only-of-type {\n",
       "        vertical-align: middle;\n",
       "    }\n",
       "\n",
       "    .dataframe tbody tr th {\n",
       "        vertical-align: top;\n",
       "    }\n",
       "\n",
       "    .dataframe thead th {\n",
       "        text-align: right;\n",
       "    }\n",
       "</style>\n",
       "<table border=\"1\" class=\"dataframe\">\n",
       "  <thead>\n",
       "    <tr style=\"text-align: right;\">\n",
       "      <th></th>\n",
       "      <th>sales_count</th>\n",
       "    </tr>\n",
       "  </thead>\n",
       "  <tbody>\n",
       "    <tr>\n",
       "      <th>초격차 패키지 : 한 번에 끝내는 프론트엔드 개발</th>\n",
       "      <td>1418</td>\n",
       "    </tr>\n",
       "    <tr>\n",
       "      <th>초격차 패키지 : 한번에 끝내는 Java/Spring 웹 개발 마스터</th>\n",
       "      <td>1405</td>\n",
       "    </tr>\n",
       "    <tr>\n",
       "      <th>초격차 패키지 : 한번에 끝내는 영상 촬영과 편집</th>\n",
       "      <td>1203</td>\n",
       "    </tr>\n",
       "    <tr>\n",
       "      <th>The RED : 김영하 작가의 내 안의 숨은 이야기를 찾아 쓰는 법</th>\n",
       "      <td>1054</td>\n",
       "    </tr>\n",
       "    <tr>\n",
       "      <th>초격차 패키지 : 한 번에 끝내는 node.js 웹 프로그래밍</th>\n",
       "      <td>813</td>\n",
       "    </tr>\n",
       "    <tr>\n",
       "      <th>나의 칼퇴치트키 엑셀유치원</th>\n",
       "      <td>788</td>\n",
       "    </tr>\n",
       "    <tr>\n",
       "      <th>올인원 패키지 : star741의 캐주얼 일러스트 드로잉</th>\n",
       "      <td>684</td>\n",
       "    </tr>\n",
       "    <tr>\n",
       "      <th>초격차 패키지 : 한번에 끝내는 디자인 툴</th>\n",
       "      <td>664</td>\n",
       "    </tr>\n",
       "    <tr>\n",
       "      <th>초격차 패키지 : 한 번에 끝내는 엑셀 실무</th>\n",
       "      <td>656</td>\n",
       "    </tr>\n",
       "    <tr>\n",
       "      <th>올인원 패키지 : 김민태의 프론트엔드 아카데미 : 제 1강 JavaScript &amp; TypeScript Essential</th>\n",
       "      <td>646</td>\n",
       "    </tr>\n",
       "  </tbody>\n",
       "</table>\n",
       "</div>"
      ],
      "text/plain": [
       "                                                    sales_count\n",
       "초격차 패키지 : 한 번에 끝내는 프론트엔드 개발                                1418\n",
       "초격차 패키지 : 한번에 끝내는 Java/Spring 웹 개발 마스터                     1405\n",
       "초격차 패키지 : 한번에 끝내는 영상 촬영과 편집                                1203\n",
       "The RED : 김영하 작가의 내 안의 숨은 이야기를 찾아 쓰는 법                     1054\n",
       "초격차 패키지 : 한 번에 끝내는 node.js 웹 프로그래밍                          813\n",
       "나의 칼퇴치트키 엑셀유치원                                              788\n",
       "올인원 패키지 : star741의 캐주얼 일러스트 드로잉                             684\n",
       "초격차 패키지 : 한번에 끝내는 디자인 툴                                     664\n",
       "초격차 패키지 : 한 번에 끝내는 엑셀 실무                                    656\n",
       "올인원 패키지 : 김민태의 프론트엔드 아카데미 : 제 1강 JavaScript & T...          646"
      ]
     },
     "execution_count": 36,
     "metadata": {},
     "output_type": "execute_result"
    }
   ],
   "source": [
    "# Top 10 강의 판매건 수 \n",
    "course_sales_count = rev[rev.type == 'PAYMENT'].course_title.value_counts()\n",
    "course_sales_count = pd.DataFrame(course_sales_count)\n",
    "course_sales_count.columns = ['sales_count']\n",
    "course_sales_count[:10]"
   ]
  },
  {
   "cell_type": "markdown",
   "id": "70db9d15",
   "metadata": {},
   "source": [
    "|순위|강의명|판매건수\n",
    "|:---:|------|:---:|\n",
    "|1|초격차 패키지 : 한 번에 끝내는 프론트엔드 개발|\t1418|\n",
    "|2|초격차 패키지 : 한번에 끝내는 Java/Spring 웹 개발 마스터|\t1405|\n",
    "|3|초격차 패키지 : 한번에 끝내는 영상 촬영과 편집|\t1203|\n",
    "|4|The RED : 김영하 작가의 내 안의 숨은 이야기를 찾아 쓰는 법|\t1054|\n",
    "|5|초격차 패키지 : 한 번에 끝내는 node.js 웹 프로그래밍|\t813|\n",
    "|6|나의 칼퇴치트키 엑셀유치원|\t788|\n",
    "|7|올인원 패키지 : star741의 캐주얼 일러스트 드로잉|\t684|\n",
    "|8|초격차 패키지 : 한번에 끝내는 디자인 툴|\t664|\n",
    "|9|올인원 패키지 : 김민태의 프론트엔드 아카데미 : 제 1강 JavaScript & TypeScript Essential|\t656|\n",
    "|10|초격차 패키지 : 한 번에 끝내는 엑셀 실무|\t646|"
   ]
  },
  {
   "cell_type": "markdown",
   "id": "96814152",
   "metadata": {},
   "source": [
    "### 매출액 TOP 10 강의"
   ]
  },
  {
   "cell_type": "code",
   "execution_count": 37,
   "id": "82bf184b",
   "metadata": {
    "ExecuteTime": {
     "end_time": "2022-07-01T11:23:47.744182Z",
     "start_time": "2022-07-01T11:23:47.694195Z"
    }
   },
   "outputs": [
    {
     "data": {
      "text/html": [
       "<div>\n",
       "<style scoped>\n",
       "    .dataframe tbody tr th:only-of-type {\n",
       "        vertical-align: middle;\n",
       "    }\n",
       "\n",
       "    .dataframe tbody tr th {\n",
       "        vertical-align: top;\n",
       "    }\n",
       "\n",
       "    .dataframe thead th {\n",
       "        text-align: right;\n",
       "    }\n",
       "</style>\n",
       "<table border=\"1\" class=\"dataframe\">\n",
       "  <thead>\n",
       "    <tr style=\"text-align: right;\">\n",
       "      <th></th>\n",
       "      <th>course_rev</th>\n",
       "    </tr>\n",
       "    <tr>\n",
       "      <th>course_title</th>\n",
       "      <th></th>\n",
       "    </tr>\n",
       "  </thead>\n",
       "  <tbody>\n",
       "    <tr>\n",
       "      <th>The RED : 김영하 작가의 내 안의 숨은 이야기를 찾아 쓰는 법</th>\n",
       "      <td>151049741</td>\n",
       "    </tr>\n",
       "    <tr>\n",
       "      <th>초격차 패키지 : 한 번에 끝내는 프론트엔드 개발</th>\n",
       "      <td>141248845</td>\n",
       "    </tr>\n",
       "    <tr>\n",
       "      <th>올인원 패키지 : 박세익 전무에게 배우는 주식 시장 분석 &amp; 포트폴리오 운용 전략</th>\n",
       "      <td>129821723</td>\n",
       "    </tr>\n",
       "    <tr>\n",
       "      <th>초격차 패키지 : 한번에 끝내는 영상 촬영과 편집</th>\n",
       "      <td>116614335</td>\n",
       "    </tr>\n",
       "    <tr>\n",
       "      <th>초격차 패키지 : 한번에 끝내는 Java/Spring 웹 개발 마스터</th>\n",
       "      <td>108576441</td>\n",
       "    </tr>\n",
       "    <tr>\n",
       "      <th>나의 칼퇴치트키 엑셀유치원</th>\n",
       "      <td>88201167</td>\n",
       "    </tr>\n",
       "    <tr>\n",
       "      <th>초격차 패키지 : 한번에 끝내는 디자인 툴</th>\n",
       "      <td>87700764</td>\n",
       "    </tr>\n",
       "    <tr>\n",
       "      <th>올인원 패키지 : star741의 캐주얼 일러스트 드로잉</th>\n",
       "      <td>84763815</td>\n",
       "    </tr>\n",
       "    <tr>\n",
       "      <th>올인원 패키지 : 완전정복 시각디자인 기초</th>\n",
       "      <td>82131657</td>\n",
       "    </tr>\n",
       "    <tr>\n",
       "      <th>초격차 패키지 : 한번에 끝내는 UX/UI 디자인</th>\n",
       "      <td>80602968</td>\n",
       "    </tr>\n",
       "  </tbody>\n",
       "</table>\n",
       "</div>"
      ],
      "text/plain": [
       "                                               course_rev\n",
       "course_title                                             \n",
       "The RED : 김영하 작가의 내 안의 숨은 이야기를 찾아 쓰는 법          151049741\n",
       "초격차 패키지 : 한 번에 끝내는 프론트엔드 개발                     141248845\n",
       "올인원 패키지 : 박세익 전무에게 배우는 주식 시장 분석 & 포트폴리오 운용 전략   129821723\n",
       "초격차 패키지 : 한번에 끝내는 영상 촬영과 편집                     116614335\n",
       "초격차 패키지 : 한번에 끝내는 Java/Spring 웹 개발 마스터          108576441\n",
       "나의 칼퇴치트키 엑셀유치원                                   88201167\n",
       "초격차 패키지 : 한번에 끝내는 디자인 툴                          87700764\n",
       "올인원 패키지 : star741의 캐주얼 일러스트 드로잉                  84763815\n",
       "올인원 패키지 : 완전정복 시각디자인 기초                          82131657\n",
       "초격차 패키지 : 한번에 끝내는 UX/UI 디자인                      80602968"
      ]
     },
     "execution_count": 37,
     "metadata": {},
     "output_type": "execute_result"
    }
   ],
   "source": [
    "# Top 10 강의 판매건 수 \n",
    "course_rev = rev.groupby('course_title').sum()['transaction_amount'].sort_values(ascending=False)\n",
    "course_rev = pd.DataFrame(course_rev)\n",
    "course_rev.columns = ['course_rev']\n",
    "course_rev[:10]"
   ]
  },
  {
   "cell_type": "markdown",
   "id": "b565c012",
   "metadata": {
    "ExecuteTime": {
     "end_time": "2022-07-01T11:14:49.273078Z",
     "start_time": "2022-07-01T11:14:49.254066Z"
    }
   },
   "source": [
    "|순위|강의명|매출액|\n",
    "|:---:|------|:---:|\n",
    "|1|The RED : 김영하 작가의 내 안의 숨은 이야기를 찾아 쓰는 법\t|151,049,741|\n",
    "|2|초격차 패키지 : 한 번에 끝내는 프론트엔드 개발\t|141,248,845|\n",
    "|3|올인원 패키지 : 박세익 전무에게 배우는 주식 시장 분석 & 포트폴리오 운용 전략\t|129,821,723|\n",
    "|4|초격차 패키지 : 한번에 끝내는 영상 촬영과 편집\t|116,614,335|\n",
    "|5|초격차 패키지 : 한번에 끝내는 Java/Spring 웹 개발 마스터\t|108,576,441|\n",
    "|6|나의 칼퇴치트키 엑셀유치원\t|88,201,167|\n",
    "|7|초격차 패키지 : 한번에 끝내는 디자인 툴\t|87,700,764|\n",
    "|8|올인원 패키지 : star741의 캐주얼 일러스트 드로잉\t|84,763,815|\n",
    "|9|올인원 패키지 : 완전정복 시각디자인 기초\t|82,131,657|\n",
    "|10|초격차 패키지 : 한번에 끝내는 UX/UI 디자인\t|80,602,968|\n"
   ]
  },
  {
   "cell_type": "markdown",
   "id": "75b5c881",
   "metadata": {},
   "source": [
    "### 강의당 평균 매출 금액"
   ]
  },
  {
   "cell_type": "code",
   "execution_count": 38,
   "id": "2f086f62",
   "metadata": {
    "ExecuteTime": {
     "end_time": "2022-07-01T11:39:36.705087Z",
     "start_time": "2022-07-01T11:39:36.686128Z"
    },
    "scrolled": true
   },
   "outputs": [
    {
     "data": {
      "text/html": [
       "<div>\n",
       "<style scoped>\n",
       "    .dataframe tbody tr th:only-of-type {\n",
       "        vertical-align: middle;\n",
       "    }\n",
       "\n",
       "    .dataframe tbody tr th {\n",
       "        vertical-align: top;\n",
       "    }\n",
       "\n",
       "    .dataframe thead th {\n",
       "        text-align: right;\n",
       "    }\n",
       "</style>\n",
       "<table border=\"1\" class=\"dataframe\">\n",
       "  <thead>\n",
       "    <tr style=\"text-align: right;\">\n",
       "      <th></th>\n",
       "      <th>course_rev</th>\n",
       "    </tr>\n",
       "  </thead>\n",
       "  <tbody>\n",
       "    <tr>\n",
       "      <th>count</th>\n",
       "      <td>5.470000e+02</td>\n",
       "    </tr>\n",
       "    <tr>\n",
       "      <th>mean</th>\n",
       "      <td>1.093490e+07</td>\n",
       "    </tr>\n",
       "    <tr>\n",
       "      <th>std</th>\n",
       "      <td>1.858718e+07</td>\n",
       "    </tr>\n",
       "    <tr>\n",
       "      <th>min</th>\n",
       "      <td>1.000000e+04</td>\n",
       "    </tr>\n",
       "    <tr>\n",
       "      <th>25%</th>\n",
       "      <td>1.320000e+06</td>\n",
       "    </tr>\n",
       "    <tr>\n",
       "      <th>50%</th>\n",
       "      <td>3.588000e+06</td>\n",
       "    </tr>\n",
       "    <tr>\n",
       "      <th>75%</th>\n",
       "      <td>1.202847e+07</td>\n",
       "    </tr>\n",
       "    <tr>\n",
       "      <th>max</th>\n",
       "      <td>1.510497e+08</td>\n",
       "    </tr>\n",
       "  </tbody>\n",
       "</table>\n",
       "</div>"
      ],
      "text/plain": [
       "         course_rev\n",
       "count  5.470000e+02\n",
       "mean   1.093490e+07\n",
       "std    1.858718e+07\n",
       "min    1.000000e+04\n",
       "25%    1.320000e+06\n",
       "50%    3.588000e+06\n",
       "75%    1.202847e+07\n",
       "max    1.510497e+08"
      ]
     },
     "execution_count": 38,
     "metadata": {},
     "output_type": "execute_result"
    }
   ],
   "source": [
    "course_rev_plus = course_rev[course_rev > 0].dropna()\n",
    "course_rev_plus = course_rev_plus.astype('int')\n",
    "course_rev_plus.describe()"
   ]
  },
  {
   "cell_type": "markdown",
   "id": "72e7638a",
   "metadata": {},
   "source": [
    "> 강의당 평균 매출금액 10,934,900원"
   ]
  },
  {
   "cell_type": "markdown",
   "id": "4b37e204",
   "metadata": {},
   "source": [
    "### TOP 10 강의 평균 매출 금액"
   ]
  },
  {
   "cell_type": "code",
   "execution_count": 39,
   "id": "1edf89bb",
   "metadata": {
    "ExecuteTime": {
     "end_time": "2022-07-01T11:45:56.705744Z",
     "start_time": "2022-07-01T11:45:56.684760Z"
    }
   },
   "outputs": [
    {
     "data": {
      "text/plain": [
       "course_rev    107071145.6\n",
       "dtype: float64"
      ]
     },
     "execution_count": 39,
     "metadata": {},
     "output_type": "execute_result"
    }
   ],
   "source": [
    "course_rev_plus[:10].mean()"
   ]
  },
  {
   "cell_type": "markdown",
   "id": "dcb8b533",
   "metadata": {},
   "source": [
    "> TOP 10 강의 평균 매출금액은 107,071,145 원으로 전체 평균과 약 9.8배 차이."
   ]
  },
  {
   "cell_type": "markdown",
   "id": "e62d0b26",
   "metadata": {},
   "source": [
    "### 환불 TOP 10 강의"
   ]
  },
  {
   "cell_type": "code",
   "execution_count": 40,
   "id": "cc59bc6f",
   "metadata": {
    "ExecuteTime": {
     "end_time": "2022-07-01T11:21:59.037385Z",
     "start_time": "2022-07-01T11:21:59.021867Z"
    }
   },
   "outputs": [
    {
     "data": {
      "text/html": [
       "<div>\n",
       "<style scoped>\n",
       "    .dataframe tbody tr th:only-of-type {\n",
       "        vertical-align: middle;\n",
       "    }\n",
       "\n",
       "    .dataframe tbody tr th {\n",
       "        vertical-align: top;\n",
       "    }\n",
       "\n",
       "    .dataframe thead th {\n",
       "        text-align: right;\n",
       "    }\n",
       "</style>\n",
       "<table border=\"1\" class=\"dataframe\">\n",
       "  <thead>\n",
       "    <tr style=\"text-align: right;\">\n",
       "      <th></th>\n",
       "      <th>refunded</th>\n",
       "    </tr>\n",
       "  </thead>\n",
       "  <tbody>\n",
       "    <tr>\n",
       "      <th>초격차 패키지 : 한 번에 끝내는 프론트엔드 개발</th>\n",
       "      <td>121</td>\n",
       "    </tr>\n",
       "    <tr>\n",
       "      <th>초격차 패키지 : 한번에 끝내는 Java/Spring 웹 개발 마스터</th>\n",
       "      <td>105</td>\n",
       "    </tr>\n",
       "    <tr>\n",
       "      <th>초격차 패키지 : 한 번에 끝내는 node.js 웹 프로그래밍</th>\n",
       "      <td>68</td>\n",
       "    </tr>\n",
       "    <tr>\n",
       "      <th>올인원 패키지 : star741의 캐주얼 일러스트 드로잉</th>\n",
       "      <td>65</td>\n",
       "    </tr>\n",
       "    <tr>\n",
       "      <th>초격차 패키지 : 한번에 끝내는 디자인 툴</th>\n",
       "      <td>64</td>\n",
       "    </tr>\n",
       "    <tr>\n",
       "      <th>초격차 패키지 : 30개 프로젝트로 배우는 Android 앱 개발 with Kotlin</th>\n",
       "      <td>63</td>\n",
       "    </tr>\n",
       "    <tr>\n",
       "      <th>초격차 패키지 : 한번에 끝내는 영상 촬영과 편집</th>\n",
       "      <td>60</td>\n",
       "    </tr>\n",
       "    <tr>\n",
       "      <th>The RED : 김영하 작가의 내 안의 숨은 이야기를 찾아 쓰는 법</th>\n",
       "      <td>57</td>\n",
       "    </tr>\n",
       "    <tr>\n",
       "      <th>올인원 패키지 : 아카데미 : 편집하는여자의 영상편집 마스터클래스 - 제 1강 프리미어프로 베이직</th>\n",
       "      <td>55</td>\n",
       "    </tr>\n",
       "    <tr>\n",
       "      <th>올인원 패키지 : 김민태의 프론트엔드 아카데미 : 제 1강 JavaScript &amp; TypeScript Essential</th>\n",
       "      <td>53</td>\n",
       "    </tr>\n",
       "  </tbody>\n",
       "</table>\n",
       "</div>"
      ],
      "text/plain": [
       "                                                    refunded\n",
       "초격차 패키지 : 한 번에 끝내는 프론트엔드 개발                              121\n",
       "초격차 패키지 : 한번에 끝내는 Java/Spring 웹 개발 마스터                   105\n",
       "초격차 패키지 : 한 번에 끝내는 node.js 웹 프로그래밍                        68\n",
       "올인원 패키지 : star741의 캐주얼 일러스트 드로잉                           65\n",
       "초격차 패키지 : 한번에 끝내는 디자인 툴                                   64\n",
       "초격차 패키지 : 30개 프로젝트로 배우는 Android 앱 개발 with Kotlin          63\n",
       "초격차 패키지 : 한번에 끝내는 영상 촬영과 편집                               60\n",
       "The RED : 김영하 작가의 내 안의 숨은 이야기를 찾아 쓰는 법                    57\n",
       "올인원 패키지 : 아카데미 : 편집하는여자의 영상편집 마스터클래스 - 제 1강 프리미...        55\n",
       "올인원 패키지 : 김민태의 프론트엔드 아카데미 : 제 1강 JavaScript & T...        53"
      ]
     },
     "execution_count": 40,
     "metadata": {},
     "output_type": "execute_result"
    }
   ],
   "source": [
    "# 매출 Top 10 강의 환불건 수 \n",
    "course_rf = rev[rev.type == 'REFUND'].course_title.value_counts()\n",
    "course_rf = pd.DataFrame(course_rf)\n",
    "course_rf.columns = ['refunded']\n",
    "course_rf[:10]"
   ]
  },
  {
   "cell_type": "code",
   "execution_count": 41,
   "id": "11d2b84e",
   "metadata": {},
   "outputs": [
    {
     "data": {
      "text/plain": [
       "Index(['초격차 패키지 : 한 번에 끝내는 프론트엔드 개발', '초격차 패키지 : 한번에 끝내는 Java/Spring 웹 개발 마스터',\n",
       "       '초격차 패키지 : 한 번에 끝내는 node.js 웹 프로그래밍', '올인원 패키지 : star741의 캐주얼 일러스트 드로잉',\n",
       "       '초격차 패키지 : 한번에 끝내는 디자인 툴',\n",
       "       '초격차 패키지 : 30개 프로젝트로 배우는 Android 앱 개발 with Kotlin',\n",
       "       '초격차 패키지 : 한번에 끝내는 영상 촬영과 편집', 'The RED : 김영하 작가의 내 안의 숨은 이야기를 찾아 쓰는 법',\n",
       "       '올인원 패키지 : 아카데미 : 편집하는여자의 영상편집 마스터클래스 - 제 1강 프리미어프로 베이직',\n",
       "       '올인원 패키지 : 김민태의 프론트엔드 아카데미 : 제 1강 JavaScript & TypeScript Essential',\n",
       "       ...\n",
       "       '프로모션 : 개발자를 위한 코딩 만능 백과사전 PASS (6월 프리패스)',\n",
       "       '프로모션 : 2+2 지금은 마테크가 대세! 매출을 일으키는 마케팅 PASS (6월 프리패스)',\n",
       "       '프로모션 : 영상 퀄리티를 높이는 전문가 편집스킬 PASS (7월 프리패스)', '(test)프로모션 강의 페이지',\n",
       "       'REC.ON : VC', '프로모션 : 파이썬의 바이블 BEST PASS (7월 프리패스)',\n",
       "       '프로모션 : 딥러닝 A to Z까지 한 번에 마스터하는 BEST PASS (7월 프리패스)',\n",
       "       '프로모션 : 매출을 드라이브 하는 마케팅 백과사전 BEST PASS (7월 프리패스)',\n",
       "       '[한정판매] 자연어 A-Z 끝장 패키지(~6월)', '프로모션 : 콘텐츠 마케터 맥북 air 패스(9월 현물 프리패스)'],\n",
       "      dtype='object', length=381)"
      ]
     },
     "execution_count": 41,
     "metadata": {},
     "output_type": "execute_result"
    }
   ],
   "source": [
    "course_rf.index"
   ]
  },
  {
   "cell_type": "markdown",
   "id": "98f05e81",
   "metadata": {},
   "source": [
    "|순위|강의명|환불건수|\n",
    "|:---:|------|:---:|\n",
    "|1|초격차 패키지 : 한 번에 끝내는 프론트엔드 개발\t|121|\n",
    "|2|초격차 패키지 : 한번에 끝내는 Java/Spring 웹 개발 마스터\t|105|\n",
    "|3|초격차 패키지 : 한 번에 끝내는 node.js 웹 프로그래밍\t|68|\n",
    "|4|올인원 패키지 : star741의 캐주얼 일러스트 드로잉\t|65|\n",
    "|5|초격차 패키지 : 한번에 끝내는 디자인 툴\t|64|\n",
    "|6|초격차 패키지 : 30개 프로젝트로 배우는 Android 앱 개발 with Kotlin\t|63|\n",
    "|7|초격차 패키지 : 한번에 끝내는 영상 촬영과 편집\t|60|\n",
    "|8|The RED : 김영하 작가의 내 안의 숨은 이야기를 찾아 쓰는 법\t|57|\n",
    "|9|올인원 패키지 : 아카데미 : 편집하는여자의 영상편집 마스터클래스 - 제 1강 프리미어프로 베이직\t|55|\n",
    "|10|올인원 패키지 : 김민태의 프론트엔드 아카데미 : 제 1강 JavaScript & TypeScript Essential\t|53|"
   ]
  },
  {
   "cell_type": "code",
   "execution_count": 43,
   "id": "ec648c06",
   "metadata": {
    "ExecuteTime": {
     "end_time": "2022-07-01T11:50:46.927194Z",
     "start_time": "2022-07-01T11:50:46.906798Z"
    }
   },
   "outputs": [
    {
     "data": {
      "text/html": [
       "<div>\n",
       "<style scoped>\n",
       "    .dataframe tbody tr th:only-of-type {\n",
       "        vertical-align: middle;\n",
       "    }\n",
       "\n",
       "    .dataframe tbody tr th {\n",
       "        vertical-align: top;\n",
       "    }\n",
       "\n",
       "    .dataframe thead th {\n",
       "        text-align: right;\n",
       "    }\n",
       "</style>\n",
       "<table border=\"1\" class=\"dataframe\">\n",
       "  <thead>\n",
       "    <tr style=\"text-align: right;\">\n",
       "      <th></th>\n",
       "      <th>course_rev</th>\n",
       "      <th>sales_count</th>\n",
       "      <th>refunded</th>\n",
       "    </tr>\n",
       "    <tr>\n",
       "      <th>course_title</th>\n",
       "      <th></th>\n",
       "      <th></th>\n",
       "      <th></th>\n",
       "    </tr>\n",
       "  </thead>\n",
       "  <tbody>\n",
       "    <tr>\n",
       "      <th>The RED : 김영하 작가의 내 안의 숨은 이야기를 찾아 쓰는 법</th>\n",
       "      <td>151049741</td>\n",
       "      <td>1054</td>\n",
       "      <td>57</td>\n",
       "    </tr>\n",
       "    <tr>\n",
       "      <th>초격차 패키지 : 한 번에 끝내는 프론트엔드 개발</th>\n",
       "      <td>141248845</td>\n",
       "      <td>1418</td>\n",
       "      <td>121</td>\n",
       "    </tr>\n",
       "    <tr>\n",
       "      <th>올인원 패키지 : 박세익 전무에게 배우는 주식 시장 분석 &amp; 포트폴리오 운용 전략</th>\n",
       "      <td>129821723</td>\n",
       "      <td>504</td>\n",
       "      <td>47</td>\n",
       "    </tr>\n",
       "    <tr>\n",
       "      <th>초격차 패키지 : 한번에 끝내는 영상 촬영과 편집</th>\n",
       "      <td>116614335</td>\n",
       "      <td>1203</td>\n",
       "      <td>60</td>\n",
       "    </tr>\n",
       "    <tr>\n",
       "      <th>초격차 패키지 : 한번에 끝내는 Java/Spring 웹 개발 마스터</th>\n",
       "      <td>108576441</td>\n",
       "      <td>1405</td>\n",
       "      <td>105</td>\n",
       "    </tr>\n",
       "    <tr>\n",
       "      <th>나의 칼퇴치트키 엑셀유치원</th>\n",
       "      <td>88201167</td>\n",
       "      <td>788</td>\n",
       "      <td>36</td>\n",
       "    </tr>\n",
       "    <tr>\n",
       "      <th>초격차 패키지 : 한번에 끝내는 디자인 툴</th>\n",
       "      <td>87700764</td>\n",
       "      <td>664</td>\n",
       "      <td>64</td>\n",
       "    </tr>\n",
       "    <tr>\n",
       "      <th>올인원 패키지 : star741의 캐주얼 일러스트 드로잉</th>\n",
       "      <td>84763815</td>\n",
       "      <td>684</td>\n",
       "      <td>65</td>\n",
       "    </tr>\n",
       "    <tr>\n",
       "      <th>올인원 패키지 : 완전정복 시각디자인 기초</th>\n",
       "      <td>82131657</td>\n",
       "      <td>595</td>\n",
       "      <td>46</td>\n",
       "    </tr>\n",
       "    <tr>\n",
       "      <th>초격차 패키지 : 한번에 끝내는 UX/UI 디자인</th>\n",
       "      <td>80602968</td>\n",
       "      <td>615</td>\n",
       "      <td>50</td>\n",
       "    </tr>\n",
       "  </tbody>\n",
       "</table>\n",
       "</div>"
      ],
      "text/plain": [
       "                                               course_rev  sales_count  \\\n",
       "course_title                                                             \n",
       "The RED : 김영하 작가의 내 안의 숨은 이야기를 찾아 쓰는 법          151049741         1054   \n",
       "초격차 패키지 : 한 번에 끝내는 프론트엔드 개발                     141248845         1418   \n",
       "올인원 패키지 : 박세익 전무에게 배우는 주식 시장 분석 & 포트폴리오 운용 전략   129821723          504   \n",
       "초격차 패키지 : 한번에 끝내는 영상 촬영과 편집                     116614335         1203   \n",
       "초격차 패키지 : 한번에 끝내는 Java/Spring 웹 개발 마스터          108576441         1405   \n",
       "나의 칼퇴치트키 엑셀유치원                                   88201167          788   \n",
       "초격차 패키지 : 한번에 끝내는 디자인 툴                          87700764          664   \n",
       "올인원 패키지 : star741의 캐주얼 일러스트 드로잉                  84763815          684   \n",
       "올인원 패키지 : 완전정복 시각디자인 기초                          82131657          595   \n",
       "초격차 패키지 : 한번에 끝내는 UX/UI 디자인                      80602968          615   \n",
       "\n",
       "                                               refunded  \n",
       "course_title                                             \n",
       "The RED : 김영하 작가의 내 안의 숨은 이야기를 찾아 쓰는 법               57  \n",
       "초격차 패키지 : 한 번에 끝내는 프론트엔드 개발                         121  \n",
       "올인원 패키지 : 박세익 전무에게 배우는 주식 시장 분석 & 포트폴리오 운용 전략        47  \n",
       "초격차 패키지 : 한번에 끝내는 영상 촬영과 편집                          60  \n",
       "초격차 패키지 : 한번에 끝내는 Java/Spring 웹 개발 마스터              105  \n",
       "나의 칼퇴치트키 엑셀유치원                                       36  \n",
       "초격차 패키지 : 한번에 끝내는 디자인 툴                              64  \n",
       "올인원 패키지 : star741의 캐주얼 일러스트 드로잉                      65  \n",
       "올인원 패키지 : 완전정복 시각디자인 기초                              46  \n",
       "초격차 패키지 : 한번에 끝내는 UX/UI 디자인                          50  "
      ]
     },
     "execution_count": 43,
     "metadata": {},
     "output_type": "execute_result"
    }
   ],
   "source": [
    "# 매출, 판매수, 환불 건을 join해 새로운 테이블 생성\n",
    "course_rev_sales_rf = course_rev.join(course_sales_count).join(course_rf)\n",
    "course_rev_sales_rf = course_rev_sales_rf.fillna(0)\n",
    "course_rev_sales_rf = course_rev_sales_rf.astype('int')\n",
    "# course_rev_sales_rf.drop(course_rev_sales_rf.course_rev < 0)\n",
    "course_rev_sales_rf[:10]\n"
   ]
  },
  {
   "cell_type": "code",
   "execution_count": 61,
   "id": "23afd87e",
   "metadata": {
    "scrolled": false
   },
   "outputs": [
    {
     "data": {
      "text/html": [
       "<div>\n",
       "<style scoped>\n",
       "    .dataframe tbody tr th:only-of-type {\n",
       "        vertical-align: middle;\n",
       "    }\n",
       "\n",
       "    .dataframe tbody tr th {\n",
       "        vertical-align: top;\n",
       "    }\n",
       "\n",
       "    .dataframe thead th {\n",
       "        text-align: right;\n",
       "    }\n",
       "</style>\n",
       "<table border=\"1\" class=\"dataframe\">\n",
       "  <thead>\n",
       "    <tr style=\"text-align: right;\">\n",
       "      <th></th>\n",
       "      <th>course_rev</th>\n",
       "      <th>sales_count</th>\n",
       "      <th>refunded</th>\n",
       "      <th>refunded_rate</th>\n",
       "      <th>unit_cost</th>\n",
       "    </tr>\n",
       "    <tr>\n",
       "      <th>course_title</th>\n",
       "      <th></th>\n",
       "      <th></th>\n",
       "      <th></th>\n",
       "      <th></th>\n",
       "      <th></th>\n",
       "    </tr>\n",
       "  </thead>\n",
       "  <tbody>\n",
       "    <tr>\n",
       "      <th>The RED : 김영하 작가의 내 안의 숨은 이야기를 찾아 쓰는 법</th>\n",
       "      <td>151049741</td>\n",
       "      <td>1054</td>\n",
       "      <td>57</td>\n",
       "      <td>5.41</td>\n",
       "      <td>143311</td>\n",
       "    </tr>\n",
       "    <tr>\n",
       "      <th>초격차 패키지 : 한 번에 끝내는 프론트엔드 개발</th>\n",
       "      <td>141248845</td>\n",
       "      <td>1418</td>\n",
       "      <td>121</td>\n",
       "      <td>8.53</td>\n",
       "      <td>99611</td>\n",
       "    </tr>\n",
       "    <tr>\n",
       "      <th>올인원 패키지 : 박세익 전무에게 배우는 주식 시장 분석 &amp; 포트폴리오 운용 전략</th>\n",
       "      <td>129821723</td>\n",
       "      <td>504</td>\n",
       "      <td>47</td>\n",
       "      <td>9.33</td>\n",
       "      <td>257583</td>\n",
       "    </tr>\n",
       "    <tr>\n",
       "      <th>초격차 패키지 : 한번에 끝내는 영상 촬영과 편집</th>\n",
       "      <td>116614335</td>\n",
       "      <td>1203</td>\n",
       "      <td>60</td>\n",
       "      <td>4.99</td>\n",
       "      <td>96936</td>\n",
       "    </tr>\n",
       "    <tr>\n",
       "      <th>초격차 패키지 : 한번에 끝내는 Java/Spring 웹 개발 마스터</th>\n",
       "      <td>108576441</td>\n",
       "      <td>1405</td>\n",
       "      <td>105</td>\n",
       "      <td>7.47</td>\n",
       "      <td>77279</td>\n",
       "    </tr>\n",
       "    <tr>\n",
       "      <th>나의 칼퇴치트키 엑셀유치원</th>\n",
       "      <td>88201167</td>\n",
       "      <td>788</td>\n",
       "      <td>36</td>\n",
       "      <td>4.57</td>\n",
       "      <td>111930</td>\n",
       "    </tr>\n",
       "    <tr>\n",
       "      <th>초격차 패키지 : 한번에 끝내는 디자인 툴</th>\n",
       "      <td>87700764</td>\n",
       "      <td>664</td>\n",
       "      <td>64</td>\n",
       "      <td>9.64</td>\n",
       "      <td>132079</td>\n",
       "    </tr>\n",
       "    <tr>\n",
       "      <th>올인원 패키지 : star741의 캐주얼 일러스트 드로잉</th>\n",
       "      <td>84763815</td>\n",
       "      <td>684</td>\n",
       "      <td>65</td>\n",
       "      <td>9.50</td>\n",
       "      <td>123924</td>\n",
       "    </tr>\n",
       "    <tr>\n",
       "      <th>올인원 패키지 : 완전정복 시각디자인 기초</th>\n",
       "      <td>82131657</td>\n",
       "      <td>595</td>\n",
       "      <td>46</td>\n",
       "      <td>7.73</td>\n",
       "      <td>138036</td>\n",
       "    </tr>\n",
       "    <tr>\n",
       "      <th>초격차 패키지 : 한번에 끝내는 UX/UI 디자인</th>\n",
       "      <td>80602968</td>\n",
       "      <td>615</td>\n",
       "      <td>50</td>\n",
       "      <td>8.13</td>\n",
       "      <td>131062</td>\n",
       "    </tr>\n",
       "  </tbody>\n",
       "</table>\n",
       "</div>"
      ],
      "text/plain": [
       "                                               course_rev  sales_count  \\\n",
       "course_title                                                             \n",
       "The RED : 김영하 작가의 내 안의 숨은 이야기를 찾아 쓰는 법          151049741         1054   \n",
       "초격차 패키지 : 한 번에 끝내는 프론트엔드 개발                     141248845         1418   \n",
       "올인원 패키지 : 박세익 전무에게 배우는 주식 시장 분석 & 포트폴리오 운용 전략   129821723          504   \n",
       "초격차 패키지 : 한번에 끝내는 영상 촬영과 편집                     116614335         1203   \n",
       "초격차 패키지 : 한번에 끝내는 Java/Spring 웹 개발 마스터          108576441         1405   \n",
       "나의 칼퇴치트키 엑셀유치원                                   88201167          788   \n",
       "초격차 패키지 : 한번에 끝내는 디자인 툴                          87700764          664   \n",
       "올인원 패키지 : star741의 캐주얼 일러스트 드로잉                  84763815          684   \n",
       "올인원 패키지 : 완전정복 시각디자인 기초                          82131657          595   \n",
       "초격차 패키지 : 한번에 끝내는 UX/UI 디자인                      80602968          615   \n",
       "\n",
       "                                               refunded  refunded_rate  \\\n",
       "course_title                                                             \n",
       "The RED : 김영하 작가의 내 안의 숨은 이야기를 찾아 쓰는 법               57           5.41   \n",
       "초격차 패키지 : 한 번에 끝내는 프론트엔드 개발                         121           8.53   \n",
       "올인원 패키지 : 박세익 전무에게 배우는 주식 시장 분석 & 포트폴리오 운용 전략        47           9.33   \n",
       "초격차 패키지 : 한번에 끝내는 영상 촬영과 편집                          60           4.99   \n",
       "초격차 패키지 : 한번에 끝내는 Java/Spring 웹 개발 마스터              105           7.47   \n",
       "나의 칼퇴치트키 엑셀유치원                                       36           4.57   \n",
       "초격차 패키지 : 한번에 끝내는 디자인 툴                              64           9.64   \n",
       "올인원 패키지 : star741의 캐주얼 일러스트 드로잉                      65           9.50   \n",
       "올인원 패키지 : 완전정복 시각디자인 기초                              46           7.73   \n",
       "초격차 패키지 : 한번에 끝내는 UX/UI 디자인                          50           8.13   \n",
       "\n",
       "                                               unit_cost  \n",
       "course_title                                              \n",
       "The RED : 김영하 작가의 내 안의 숨은 이야기를 찾아 쓰는 법            143311  \n",
       "초격차 패키지 : 한 번에 끝내는 프론트엔드 개발                        99611  \n",
       "올인원 패키지 : 박세익 전무에게 배우는 주식 시장 분석 & 포트폴리오 운용 전략     257583  \n",
       "초격차 패키지 : 한번에 끝내는 영상 촬영과 편집                        96936  \n",
       "초격차 패키지 : 한번에 끝내는 Java/Spring 웹 개발 마스터             77279  \n",
       "나의 칼퇴치트키 엑셀유치원                                    111930  \n",
       "초격차 패키지 : 한번에 끝내는 디자인 툴                           132079  \n",
       "올인원 패키지 : star741의 캐주얼 일러스트 드로잉                   123924  \n",
       "올인원 패키지 : 완전정복 시각디자인 기초                           138036  \n",
       "초격차 패키지 : 한번에 끝내는 UX/UI 디자인                       131062  "
      ]
     },
     "execution_count": 61,
     "metadata": {},
     "output_type": "execute_result"
    }
   ],
   "source": [
    "course_rev_sales_rf['refunded_rate'] = round((course_rev_sales_rf.refunded/course_rev_sales_rf.sales_count * 100),2)\n",
    "course_rev_sales_rf['unit_cost'] = round(course_rev_sales_rf.course_rev/course_rev_sales_rf.sales_count,0)\n",
    "course_rev_sales_rf = course_rev_sales_rf.replace([np.inf, -np.inf], 0)\n",
    "course_rev_sales_rf = course_rev_sales_rf.astype({'unit_cost':'int'})\n",
    "\n",
    "course_rev_sales_rf[:10]"
   ]
  },
  {
   "cell_type": "code",
   "execution_count": 62,
   "id": "2e1a42a2",
   "metadata": {},
   "outputs": [
    {
     "data": {
      "text/plain": [
       "course_rev       1.070711e+08\n",
       "sales_count      8.930000e+02\n",
       "refunded         6.510000e+01\n",
       "refunded_rate    7.530000e+00\n",
       "unit_cost        1.311751e+05\n",
       "dtype: float64"
      ]
     },
     "execution_count": 62,
     "metadata": {},
     "output_type": "execute_result"
    }
   ],
   "source": [
    "course_rev_sales_rf[:10].mean()"
   ]
  },
  {
   "cell_type": "code",
   "execution_count": null,
   "id": "eae5035b",
   "metadata": {},
   "outputs": [],
   "source": [
    "course_rev_sales_rf.info()"
   ]
  },
  {
   "cell_type": "markdown",
   "id": "dc7e7d21",
   "metadata": {},
   "source": [
    "> 'The RED : 김영하 작가의 내 안의 숨은 이야기를 찾아 쓰는 법' 강의는 판매수 4위지만 매출액 1위로 강의 단가가 TOP 10 강의중 2번째로 높은(143,311원)이며 환불율도 5.44%으로 미루어 보아 강의 만족도가 높다는 것을 알 수 있음. \n",
    "\n",
    "\n",
    "> '올인원 패키지 : 박세익 전무에게 배우는 주식 시장 분석 & 포트폴리오 운용 전략\t' 강의는 판매수 기준 10위지만 매출액 기준 3위로 강의단가(257583)가 가장 높은것을 알 수 있으며 환불률은 9.33%로 평균(7.53%)보다 높은 것을 알 수 있음.\n",
    "\n",
    "> '나의 칼퇴치트키 엑셀유치원' 강의의 환불률은 4.99%로 이 강의만족도가 가장 높다고 유추할 수 있음.\n"
   ]
  },
  {
   "cell_type": "code",
   "execution_count": 70,
   "id": "fb81ba99",
   "metadata": {
    "scrolled": false
   },
   "outputs": [
    {
     "data": {
      "text/plain": [
       "completed_ymd\n",
       "2021-06-18     119000\n",
       "2021-06-19    1596000\n",
       "2021-06-20    2079000\n",
       "2021-06-21    1680000\n",
       "2021-06-22    3437000\n",
       "               ...   \n",
       "2021-09-21     342000\n",
       "2021-09-22     342000\n",
       "2021-09-23     342000\n",
       "2021-09-24     513000\n",
       "2021-09-25     342000\n",
       "Name: transaction_amount, Length: 95, dtype: int64"
      ]
     },
     "execution_count": 70,
     "metadata": {},
     "output_type": "execute_result"
    }
   ],
   "source": [
    "course_1th = rev[rev.course_title == 'The RED : 김영하 작가의 내 안의 숨은 이야기를 찾아 쓰는 법']\n",
    "course_1th = course_1th.groupby('completed_ymd')['transaction_amount'].sum()\n",
    "course_1th"
   ]
  },
  {
   "cell_type": "code",
   "execution_count": 75,
   "id": "8d86e874",
   "metadata": {},
   "outputs": [
    {
     "data": {
      "image/png": "[encoded data removed]",
      "text/plain": [
       "<Figure size 1080x720 with 1 Axes>"
      ]
     },
     "metadata": {},
     "output_type": "display_data"
    }
   ],
   "source": [
    "plt.figure(figsize=(15,10))\n",
    "sns.set_theme(style=\"darkgrid\")\n",
    "\n",
    "course_1th.plot(color='#20B2AA')\n",
    "plt.xlabel('Day by Days')\n",
    "plt.ylabel('Revenue')\n",
    "plt.yticks([0, 3000000, 6000000, 9000000 ,12000000, 15000000], \n",
    "           [0, '3,000,000', '6,000,000', '9,000,000' ,'12,000,000', '15,000,000'])\n",
    "plt.show()"
   ]
  },
  {
   "cell_type": "code",
   "execution_count": 68,
   "id": "78ce016a",
   "metadata": {},
   "outputs": [
    {
     "ename": "TypeError",
     "evalue": "bar() missing 1 required positional argument: 'height'",
     "output_type": "error",
     "traceback": [
      "\u001b[1;31m---------------------------------------------------------------------------\u001b[0m",
      "\u001b[1;31mTypeError\u001b[0m                                 Traceback (most recent call last)",
      "\u001b[1;32m~\\AppData\\Local\\Temp/ipykernel_26748/2767694236.py\u001b[0m in \u001b[0;36m<module>\u001b[1;34m\u001b[0m\n\u001b[1;32m----> 1\u001b[1;33m \u001b[0mplt\u001b[0m\u001b[1;33m.\u001b[0m\u001b[0mbar\u001b[0m\u001b[1;33m(\u001b[0m\u001b[0mcourse_1th\u001b[0m\u001b[1;33m)\u001b[0m\u001b[1;33m\u001b[0m\u001b[1;33m\u001b[0m\u001b[0m\n\u001b[0m",
      "\u001b[1;31mTypeError\u001b[0m: bar() missing 1 required positional argument: 'height'"
     ]
    }
   ],
   "source": [
    "plt.bar(data=course_1th, x = 'completed_ymd')"
   ]
  },
  {
   "cell_type": "code",
   "execution_count": null,
   "id": "feb87ac5",
   "metadata": {},
   "outputs": [],
   "source": []
  },
  {
   "cell_type": "code",
   "execution_count": null,
   "id": "f6bfab57",
   "metadata": {
    "ExecuteTime": {
     "end_time": "2022-07-01T10:54:05.988439Z",
     "start_time": "2022-07-01T10:54:05.940712Z"
    },
    "scrolled": true
   },
   "outputs": [],
   "source": [
    "course_rev_rev.groupby('course_title').sum()['transaction_amount'].sort_values(ascending=False)[:10]"
   ]
  },
  {
   "cell_type": "code",
   "execution_count": null,
   "id": "11e5cc12",
   "metadata": {},
   "outputs": [],
   "source": [
    "rev.groupby.course_title.sum()['']"
   ]
  },
  {
   "cell_type": "code",
   "execution_count": null,
   "id": "f997f95c",
   "metadata": {
    "ExecuteTime": {
     "end_time": "2022-07-01T11:55:31.446241Z",
     "start_time": "2022-07-01T11:55:31.078183Z"
    }
   },
   "outputs": [],
   "source": [
    "rev.groupby('course_title')"
   ]
  },
  {
   "cell_type": "code",
   "execution_count": null,
   "id": "8774661e",
   "metadata": {},
   "outputs": [],
   "source": []
  },
  {
   "cell_type": "code",
   "execution_count": null,
   "id": "18ea89f3",
   "metadata": {
    "ExecuteTime": {
     "end_time": "2022-07-01T09:44:10.735647Z",
     "start_time": "2022-07-01T09:44:10.711869Z"
    }
   },
   "outputs": [],
   "source": [
    "course_top_df = pd.DataFrame(rev.course_title.value_counts()[:10])\n",
    "course_top_df"
   ]
  },
  {
   "cell_type": "markdown",
   "id": "1ac09283",
   "metadata": {},
   "source": []
  },
  {
   "cell_type": "markdown",
   "id": "5987700e",
   "metadata": {},
   "source": []
  },
  {
   "cell_type": "code",
   "execution_count": null,
   "id": "3d0c7a2f",
   "metadata": {
    "ExecuteTime": {
     "end_time": "2022-07-01T08:45:39.786141Z",
     "start_time": "2022-07-01T08:45:39.769188Z"
    }
   },
   "outputs": [],
   "source": [
    "rev_course_du_drop.course_title.value_counts().sum()"
   ]
  },
  {
   "cell_type": "markdown",
   "id": "91a43677",
   "metadata": {},
   "source": [
    "## 전체 카테고리 수"
   ]
  },
  {
   "cell_type": "markdown",
   "id": "56c7194e",
   "metadata": {},
   "source": [
    "## 가장많은(적은) 매출을 올린 강의 및 탑 10강의 매출추이"
   ]
  },
  {
   "cell_type": "markdown",
   "id": "41220109",
   "metadata": {},
   "source": [
    "### 매출 상위 1~10위 까지의  강의  목록 "
   ]
  },
  {
   "cell_type": "markdown",
   "id": "143ad8ce",
   "metadata": {},
   "source": [
    "### 매출 상위 1~10위 강의 매출 추이 그래프(6개월간)"
   ]
  },
  {
   "cell_type": "markdown",
   "id": "37400734",
   "metadata": {},
   "source": [
    "### 매출 하위 1~10위 강의목록"
   ]
  },
  {
   "cell_type": "markdown",
   "id": "5dbb8c28",
   "metadata": {},
   "source": [
    "### 매출 하위 1~10위 강의 매출 추이 그래프(6개월간)"
   ]
  },
  {
   "cell_type": "markdown",
   "id": "802928f7",
   "metadata": {},
   "source": [
    "## 가장많은(적은) 매출을 올린 카테고리 탑 10카테고리 매출추이"
   ]
  },
  {
   "cell_type": "markdown",
   "id": "b73e5c5a",
   "metadata": {},
   "source": [
    "### 매출 상위 1~10위 까지의  카테고리  목록"
   ]
  },
  {
   "cell_type": "markdown",
   "id": "99a4fb24",
   "metadata": {},
   "source": [
    "### 매출 상위 1~10위 카테고리 매출 추이 그래프(6개월간)"
   ]
  },
  {
   "cell_type": "markdown",
   "id": "b9a006b2",
   "metadata": {},
   "source": [
    "### 매출 하위 1~10위 카테고리목록"
   ]
  },
  {
   "cell_type": "markdown",
   "id": "13ede8b0",
   "metadata": {},
   "source": [
    "### 매출 하위 1~10위 카테고리 매출 추이 그래프(6개월간)"
   ]
  },
  {
   "cell_type": "markdown",
   "id": "4d84c831",
   "metadata": {},
   "source": [
    "# 수강 신청 행동 패턴 분석"
   ]
  },
  {
   "cell_type": "markdown",
   "id": "db7bb03d",
   "metadata": {},
   "source": [
    "## cancelled 가장 많은 강좌(구매가 많은게 환불이 많은가? 주의)"
   ]
  },
  {
   "cell_type": "markdown",
   "id": "8f06412d",
   "metadata": {},
   "source": [
    "### 취소가 많은  1~20위 까지의  강의  목록(cancelled)"
   ]
  },
  {
   "cell_type": "markdown",
   "id": "f2fa8966",
   "metadata": {},
   "source": [
    "### 취소가 가장 적은 1~20위 강의 목록"
   ]
  },
  {
   "cell_type": "markdown",
   "id": "4c0d021f",
   "metadata": {},
   "source": [
    "### 환불이 많은  1~20위 까지의  강의  목록(refund)"
   ]
  },
  {
   "cell_type": "markdown",
   "id": "a7bc00ac",
   "metadata": {},
   "source": [
    "### 환불률이 가장 적은 1~20위 강의 목록"
   ]
  },
  {
   "cell_type": "markdown",
   "id": "7f33435e",
   "metadata": {},
   "source": [
    "### 구매률과 환불률의 상관관계"
   ]
  },
  {
   "cell_type": "markdown",
   "id": "dbf16318",
   "metadata": {},
   "source": [
    "# PG사 목록"
   ]
  },
  {
   "cell_type": "markdown",
   "id": "0b463f27",
   "metadata": {},
   "source": [
    "## 기존 PG사 vs 신규 pg사 점유율 현황"
   ]
  },
  {
   "cell_type": "markdown",
   "id": "5f6cf687",
   "metadata": {},
   "source": [
    "### 기존 PG사 vs 신규 pg사 기간별 점유율 변동 변화추이"
   ]
  },
  {
   "cell_type": "markdown",
   "id": "397fc765",
   "metadata": {},
   "source": [
    "# VIP그룹 분석"
   ]
  },
  {
   "cell_type": "markdown",
   "id": "bbcce57b",
   "metadata": {},
   "source": [
    "## VIP 그룹 정의"
   ]
  },
  {
   "cell_type": "markdown",
   "id": "2969f67b",
   "metadata": {},
   "source": [
    "## 일반 고객 평균 결제 횟수 vs VIP 고객 평균 결제 횟수"
   ]
  },
  {
   "cell_type": "markdown",
   "id": "02dd3f3c",
   "metadata": {},
   "source": [
    "## VIP 그룹 특징"
   ]
  },
  {
   "cell_type": "markdown",
   "id": "cada2ef7",
   "metadata": {},
   "source": [
    "# 쿠폰 사용 분석"
   ]
  },
  {
   "cell_type": "markdown",
   "id": "08611340",
   "metadata": {},
   "source": [
    "## 전체구매건 중 쿠폰사용한 구매비율"
   ]
  },
  {
   "cell_type": "markdown",
   "id": "7111e7d5",
   "metadata": {},
   "source": [
    "## 매출에 대한 쿠폰의 중요도 분석"
   ]
  },
  {
   "cell_type": "markdown",
   "id": "677f1548",
   "metadata": {},
   "source": [
    "# 패키지 강의 vs 단품 강의"
   ]
  },
  {
   "cell_type": "markdown",
   "id": "d7c66b55",
   "metadata": {},
   "source": [
    "# 레드는 과연 성공했는가?"
   ]
  },
  {
   "cell_type": "code",
   "execution_count": null,
   "id": "9fd2e22a",
   "metadata": {},
   "outputs": [],
   "source": []
  },
  {
   "cell_type": "code",
   "execution_count": null,
   "id": "2322dd95",
   "metadata": {},
   "outputs": [],
   "source": []
  },
  {
   "cell_type": "code",
   "execution_count": null,
   "id": "f2f272af",
   "metadata": {},
   "outputs": [],
   "source": []
  },
  {
   "cell_type": "code",
   "execution_count": null,
   "id": "9cc18912",
   "metadata": {},
   "outputs": [],
   "source": []
  },
  {
   "cell_type": "code",
   "execution_count": null,
   "id": "d9dfd20b",
   "metadata": {},
   "outputs": [],
   "source": []
  }
 ],
 "metadata": {
  "kernelspec": {
   "display_name": "Python 3 (ipykernel)",
   "language": "python",
   "name": "python3"
  },
  "language_info": {
   "codemirror_mode": {
    "name": "ipython",
    "version": 3
   },
   "file_extension": ".py",
   "mimetype": "text/x-python",
   "name": "python",
   "nbconvert_exporter": "python",
   "pygments_lexer": "ipython3",
   "version": "3.9.7"
  },
  "toc": {
   "base_numbering": 1,
   "nav_menu": {},
   "number_sections": true,
   "sideBar": true,
   "skip_h1_title": false,
   "title_cell": "Table of Contents",
   "title_sidebar": "Contents",
   "toc_cell": false,
   "toc_position": {},
   "toc_section_display": true,
   "toc_window_display": true
  },
  "varInspector": {
   "cols": {
    "lenName": 16,
    "lenType": 16,
    "lenVar": 40
   },
   "kernels_config": {
    "python": {
     "delete_cmd_postfix": "",
     "delete_cmd_prefix": "del ",
     "library": "var_list.py",
     "varRefreshCmd": "print(var_dic_list())"
    },
    "r": {
     "delete_cmd_postfix": ") ",
     "delete_cmd_prefix": "rm(",
     "library": "var_list.r",
     "varRefreshCmd": "cat(var_dic_list()) "
    }
   },
   "types_to_exclude": [
    "module",
    "function",
    "builtin_function_or_method",
    "instance",
    "_Feature"
   ],
   "window_display": false
  }
 },
 "nbformat": 4,
 "nbformat_minor": 5
}
